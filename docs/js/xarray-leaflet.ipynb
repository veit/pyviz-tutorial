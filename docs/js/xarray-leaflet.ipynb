{
 "cells": [
  {
   "cell_type": "markdown",
   "metadata": {},
   "source": [
    "# `xarray-leaflet`\n",
    "\n",
    "`xarray-leaflet` is an xarray extension for plotting tiled maps. Both [xarray](https://docs.xarray.dev/en/stable/) and [Leaflet](ipyleaflet.ipynb) can work with data fragments, xarray with [dask chunks](https://docs.dask.org/en/latest/array-chunks.html) and leaflet with *map tiles*. With `xarray-leaflet` both work together."
   ]
  },
  {
   "cell_type": "markdown",
   "metadata": {},
   "source": [
    "## Installation\n",
    "\n",
    "You can install `xarray-leaflet` in your Jupyter kernel with:\n",
    "\n",
    "``` bash\n",
    "$ pipenv install xarray-leaflet\n",
    "Installing xarray-leaflet…\n",
    "…\n",
    "``` \n",
    "\n",
    "By default, `xarray-leaflet` generates tiles in temporary directories. With dynamic maps, a new directory is created each time the map is interacted with, either by dragging or zooming. This is because there is a direct mapping between the tile directory and the URL under which the tiles are provided. As tiles should not be cached by the browser for dynamic maps, the URL must change constantly. These temporary directories are currently not cleaned up automatically. You should therefore do this regularly yourself. In ix systems they are stored at `/tmp/xarray_leaflet_*`."
   ]
  },
  {
   "cell_type": "markdown",
   "metadata": {},
   "source": [
    "## Example\n",
    "\n",
    "To be able to run the example, you must also install the following packages in your kernel:\n",
    "\n",
    "* requests\n",
    "* tqdm\n",
    "* xarray-leaflet\n",
    "* dask"
   ]
  },
  {
   "cell_type": "code",
   "execution_count": 1,
   "metadata": {},
   "outputs": [],
   "source": [
    "import os\n",
    "import warnings\n",
    "import zipfile\n",
    "\n",
    "import matplotlib.pyplot as plt\n",
    "import numpy as np\n",
    "import requests\n",
    "import rioxarray\n",
    "import xarray_leaflet\n",
    "\n",
    "from ipyleaflet import LayersControl, Map, WidgetControl, basemaps\n",
    "from ipywidgets import FloatSlider\n",
    "from tqdm import tqdm"
   ]
  },
  {
   "cell_type": "markdown",
   "metadata": {},
   "source": [
    "We will display the DEM (Digital Elevation Model) for Europe from the [HydroSHEDS](https://www.hydrosheds.org) dataset, which represents the terrain. Let’s download the data first:"
   ]
  },
  {
   "cell_type": "code",
   "execution_count": 2,
   "metadata": {},
   "outputs": [],
   "source": [
    "url = 'https://edcintl.cr.usgs.gov/downloads/sciweb1/shared/hydrosheds/sa_30s_zip_grid/eu_dem_30s_grid.zip'\n",
    "filename = os.path.basename(url)\n",
    "name = filename[:filename.find('_grid')]\n",
    "adffile = os.path.join(name, name, 'w001001.adf')\n",
    "\n",
    "if not os.path.exists(adffile):\n",
    "    r = requests.get(url, stream=True)\n",
    "    with open(filename, 'wb') as f:\n",
    "        total_length = int(r.headers.get('content-length'))\n",
    "        for chunk in tqdm(r.iter_content(chunk_size=1024), total=(total_length/1024) + 1):\n",
    "            if chunk:\n",
    "                f.write(chunk)\n",
    "                f.flush()\n",
    "    zip = zipfile.ZipFile(filename)\n",
    "    zip.extractall('.')"
   ]
  },
  {
   "cell_type": "markdown",
   "metadata": {},
   "source": [
    "It’s a dataset that [Rasterio](https://rasterio.readthedocs.io/en/stable/) can open, but to get a nice `DataArray` with all the metadata, we open it with [rioxarray](https://corteva.github.io/rioxarray/stable/):"
   ]
  },
  {
   "cell_type": "code",
   "execution_count": 3,
   "metadata": {
    "scrolled": true
   },
   "outputs": [
    {
     "data": {
      "text/html": [
       "<div><svg style=\"position: absolute; width: 0; height: 0; overflow: hidden\">\n",
       "<defs>\n",
       "<symbol id=\"icon-database\" viewBox=\"0 0 32 32\">\n",
       "<path d=\"M16 0c-8.837 0-16 2.239-16 5v4c0 2.761 7.163 5 16 5s16-2.239 16-5v-4c0-2.761-7.163-5-16-5z\"></path>\n",
       "<path d=\"M16 17c-8.837 0-16-2.239-16-5v6c0 2.761 7.163 5 16 5s16-2.239 16-5v-6c0 2.761-7.163 5-16 5z\"></path>\n",
       "<path d=\"M16 26c-8.837 0-16-2.239-16-5v6c0 2.761 7.163 5 16 5s16-2.239 16-5v-6c0 2.761-7.163 5-16 5z\"></path>\n",
       "</symbol>\n",
       "<symbol id=\"icon-file-text2\" viewBox=\"0 0 32 32\">\n",
       "<path d=\"M28.681 7.159c-0.694-0.947-1.662-2.053-2.724-3.116s-2.169-2.030-3.116-2.724c-1.612-1.182-2.393-1.319-2.841-1.319h-15.5c-1.378 0-2.5 1.121-2.5 2.5v27c0 1.378 1.122 2.5 2.5 2.5h23c1.378 0 2.5-1.122 2.5-2.5v-19.5c0-0.448-0.137-1.23-1.319-2.841zM24.543 5.457c0.959 0.959 1.712 1.825 2.268 2.543h-4.811v-4.811c0.718 0.556 1.584 1.309 2.543 2.268zM28 29.5c0 0.271-0.229 0.5-0.5 0.5h-23c-0.271 0-0.5-0.229-0.5-0.5v-27c0-0.271 0.229-0.5 0.5-0.5 0 0 15.499-0 15.5 0v7c0 0.552 0.448 1 1 1h7v19.5z\"></path>\n",
       "<path d=\"M23 26h-14c-0.552 0-1-0.448-1-1s0.448-1 1-1h14c0.552 0 1 0.448 1 1s-0.448 1-1 1z\"></path>\n",
       "<path d=\"M23 22h-14c-0.552 0-1-0.448-1-1s0.448-1 1-1h14c0.552 0 1 0.448 1 1s-0.448 1-1 1z\"></path>\n",
       "<path d=\"M23 18h-14c-0.552 0-1-0.448-1-1s0.448-1 1-1h14c0.552 0 1 0.448 1 1s-0.448 1-1 1z\"></path>\n",
       "</symbol>\n",
       "</defs>\n",
       "</svg>\n",
       "<style>/* CSS stylesheet for displaying xarray objects in jupyterlab.\n",
       " *\n",
       " */\n",
       "\n",
       ":root {\n",
       "  --xr-font-color0: var(--jp-content-font-color0, rgba(0, 0, 0, 1));\n",
       "  --xr-font-color2: var(--jp-content-font-color2, rgba(0, 0, 0, 0.54));\n",
       "  --xr-font-color3: var(--jp-content-font-color3, rgba(0, 0, 0, 0.38));\n",
       "  --xr-border-color: var(--jp-border-color2, #e0e0e0);\n",
       "  --xr-disabled-color: var(--jp-layout-color3, #bdbdbd);\n",
       "  --xr-background-color: var(--jp-layout-color0, white);\n",
       "  --xr-background-color-row-even: var(--jp-layout-color1, white);\n",
       "  --xr-background-color-row-odd: var(--jp-layout-color2, #eeeeee);\n",
       "}\n",
       "\n",
       "html[theme=dark],\n",
       "body[data-theme=dark],\n",
       "body.vscode-dark {\n",
       "  --xr-font-color0: rgba(255, 255, 255, 1);\n",
       "  --xr-font-color2: rgba(255, 255, 255, 0.54);\n",
       "  --xr-font-color3: rgba(255, 255, 255, 0.38);\n",
       "  --xr-border-color: #1F1F1F;\n",
       "  --xr-disabled-color: #515151;\n",
       "  --xr-background-color: #111111;\n",
       "  --xr-background-color-row-even: #111111;\n",
       "  --xr-background-color-row-odd: #313131;\n",
       "}\n",
       "\n",
       ".xr-wrap {\n",
       "  display: block !important;\n",
       "  min-width: 300px;\n",
       "  max-width: 700px;\n",
       "}\n",
       "\n",
       ".xr-text-repr-fallback {\n",
       "  /* fallback to plain text repr when CSS is not injected (untrusted notebook) */\n",
       "  display: none;\n",
       "}\n",
       "\n",
       ".xr-header {\n",
       "  padding-top: 6px;\n",
       "  padding-bottom: 6px;\n",
       "  margin-bottom: 4px;\n",
       "  border-bottom: solid 1px var(--xr-border-color);\n",
       "}\n",
       "\n",
       ".xr-header > div,\n",
       ".xr-header > ul {\n",
       "  display: inline;\n",
       "  margin-top: 0;\n",
       "  margin-bottom: 0;\n",
       "}\n",
       "\n",
       ".xr-obj-type,\n",
       ".xr-array-name {\n",
       "  margin-left: 2px;\n",
       "  margin-right: 10px;\n",
       "}\n",
       "\n",
       ".xr-obj-type {\n",
       "  color: var(--xr-font-color2);\n",
       "}\n",
       "\n",
       ".xr-sections {\n",
       "  padding-left: 0 !important;\n",
       "  display: grid;\n",
       "  grid-template-columns: 150px auto auto 1fr 20px 20px;\n",
       "}\n",
       "\n",
       ".xr-section-item {\n",
       "  display: contents;\n",
       "}\n",
       "\n",
       ".xr-section-item input {\n",
       "  display: none;\n",
       "}\n",
       "\n",
       ".xr-section-item input + label {\n",
       "  color: var(--xr-disabled-color);\n",
       "}\n",
       "\n",
       ".xr-section-item input:enabled + label {\n",
       "  cursor: pointer;\n",
       "  color: var(--xr-font-color2);\n",
       "}\n",
       "\n",
       ".xr-section-item input:enabled + label:hover {\n",
       "  color: var(--xr-font-color0);\n",
       "}\n",
       "\n",
       ".xr-section-summary {\n",
       "  grid-column: 1;\n",
       "  color: var(--xr-font-color2);\n",
       "  font-weight: 500;\n",
       "}\n",
       "\n",
       ".xr-section-summary > span {\n",
       "  display: inline-block;\n",
       "  padding-left: 0.5em;\n",
       "}\n",
       "\n",
       ".xr-section-summary-in:disabled + label {\n",
       "  color: var(--xr-font-color2);\n",
       "}\n",
       "\n",
       ".xr-section-summary-in + label:before {\n",
       "  display: inline-block;\n",
       "  content: '►';\n",
       "  font-size: 11px;\n",
       "  width: 15px;\n",
       "  text-align: center;\n",
       "}\n",
       "\n",
       ".xr-section-summary-in:disabled + label:before {\n",
       "  color: var(--xr-disabled-color);\n",
       "}\n",
       "\n",
       ".xr-section-summary-in:checked + label:before {\n",
       "  content: '▼';\n",
       "}\n",
       "\n",
       ".xr-section-summary-in:checked + label > span {\n",
       "  display: none;\n",
       "}\n",
       "\n",
       ".xr-section-summary,\n",
       ".xr-section-inline-details {\n",
       "  padding-top: 4px;\n",
       "  padding-bottom: 4px;\n",
       "}\n",
       "\n",
       ".xr-section-inline-details {\n",
       "  grid-column: 2 / -1;\n",
       "}\n",
       "\n",
       ".xr-section-details {\n",
       "  display: none;\n",
       "  grid-column: 1 / -1;\n",
       "  margin-bottom: 5px;\n",
       "}\n",
       "\n",
       ".xr-section-summary-in:checked ~ .xr-section-details {\n",
       "  display: contents;\n",
       "}\n",
       "\n",
       ".xr-array-wrap {\n",
       "  grid-column: 1 / -1;\n",
       "  display: grid;\n",
       "  grid-template-columns: 20px auto;\n",
       "}\n",
       "\n",
       ".xr-array-wrap > label {\n",
       "  grid-column: 1;\n",
       "  vertical-align: top;\n",
       "}\n",
       "\n",
       ".xr-preview {\n",
       "  color: var(--xr-font-color3);\n",
       "}\n",
       "\n",
       ".xr-array-preview,\n",
       ".xr-array-data {\n",
       "  padding: 0 5px !important;\n",
       "  grid-column: 2;\n",
       "}\n",
       "\n",
       ".xr-array-data,\n",
       ".xr-array-in:checked ~ .xr-array-preview {\n",
       "  display: none;\n",
       "}\n",
       "\n",
       ".xr-array-in:checked ~ .xr-array-data,\n",
       ".xr-array-preview {\n",
       "  display: inline-block;\n",
       "}\n",
       "\n",
       ".xr-dim-list {\n",
       "  display: inline-block !important;\n",
       "  list-style: none;\n",
       "  padding: 0 !important;\n",
       "  margin: 0;\n",
       "}\n",
       "\n",
       ".xr-dim-list li {\n",
       "  display: inline-block;\n",
       "  padding: 0;\n",
       "  margin: 0;\n",
       "}\n",
       "\n",
       ".xr-dim-list:before {\n",
       "  content: '(';\n",
       "}\n",
       "\n",
       ".xr-dim-list:after {\n",
       "  content: ')';\n",
       "}\n",
       "\n",
       ".xr-dim-list li:not(:last-child):after {\n",
       "  content: ',';\n",
       "  padding-right: 5px;\n",
       "}\n",
       "\n",
       ".xr-has-index {\n",
       "  font-weight: bold;\n",
       "}\n",
       "\n",
       ".xr-var-list,\n",
       ".xr-var-item {\n",
       "  display: contents;\n",
       "}\n",
       "\n",
       ".xr-var-item > div,\n",
       ".xr-var-item label,\n",
       ".xr-var-item > .xr-var-name span {\n",
       "  background-color: var(--xr-background-color-row-even);\n",
       "  margin-bottom: 0;\n",
       "}\n",
       "\n",
       ".xr-var-item > .xr-var-name:hover span {\n",
       "  padding-right: 5px;\n",
       "}\n",
       "\n",
       ".xr-var-list > li:nth-child(odd) > div,\n",
       ".xr-var-list > li:nth-child(odd) > label,\n",
       ".xr-var-list > li:nth-child(odd) > .xr-var-name span {\n",
       "  background-color: var(--xr-background-color-row-odd);\n",
       "}\n",
       "\n",
       ".xr-var-name {\n",
       "  grid-column: 1;\n",
       "}\n",
       "\n",
       ".xr-var-dims {\n",
       "  grid-column: 2;\n",
       "}\n",
       "\n",
       ".xr-var-dtype {\n",
       "  grid-column: 3;\n",
       "  text-align: right;\n",
       "  color: var(--xr-font-color2);\n",
       "}\n",
       "\n",
       ".xr-var-preview {\n",
       "  grid-column: 4;\n",
       "}\n",
       "\n",
       ".xr-index-preview {\n",
       "  grid-column: 2 / 5;\n",
       "  color: var(--xr-font-color2);\n",
       "}\n",
       "\n",
       ".xr-var-name,\n",
       ".xr-var-dims,\n",
       ".xr-var-dtype,\n",
       ".xr-preview,\n",
       ".xr-attrs dt {\n",
       "  white-space: nowrap;\n",
       "  overflow: hidden;\n",
       "  text-overflow: ellipsis;\n",
       "  padding-right: 10px;\n",
       "}\n",
       "\n",
       ".xr-var-name:hover,\n",
       ".xr-var-dims:hover,\n",
       ".xr-var-dtype:hover,\n",
       ".xr-attrs dt:hover {\n",
       "  overflow: visible;\n",
       "  width: auto;\n",
       "  z-index: 1;\n",
       "}\n",
       "\n",
       ".xr-var-attrs,\n",
       ".xr-var-data,\n",
       ".xr-index-data {\n",
       "  display: none;\n",
       "  background-color: var(--xr-background-color) !important;\n",
       "  padding-bottom: 5px !important;\n",
       "}\n",
       "\n",
       ".xr-var-attrs-in:checked ~ .xr-var-attrs,\n",
       ".xr-var-data-in:checked ~ .xr-var-data,\n",
       ".xr-index-data-in:checked ~ .xr-index-data {\n",
       "  display: block;\n",
       "}\n",
       "\n",
       ".xr-var-data > table {\n",
       "  float: right;\n",
       "}\n",
       "\n",
       ".xr-var-name span,\n",
       ".xr-var-data,\n",
       ".xr-index-name div,\n",
       ".xr-index-data,\n",
       ".xr-attrs {\n",
       "  padding-left: 25px !important;\n",
       "}\n",
       "\n",
       ".xr-attrs,\n",
       ".xr-var-attrs,\n",
       ".xr-var-data,\n",
       ".xr-index-data {\n",
       "  grid-column: 1 / -1;\n",
       "}\n",
       "\n",
       "dl.xr-attrs {\n",
       "  padding: 0;\n",
       "  margin: 0;\n",
       "  display: grid;\n",
       "  grid-template-columns: 125px auto;\n",
       "}\n",
       "\n",
       ".xr-attrs dt,\n",
       ".xr-attrs dd {\n",
       "  padding: 0;\n",
       "  margin: 0;\n",
       "  float: left;\n",
       "  padding-right: 10px;\n",
       "  width: auto;\n",
       "}\n",
       "\n",
       ".xr-attrs dt {\n",
       "  font-weight: normal;\n",
       "  grid-column: 1;\n",
       "}\n",
       "\n",
       ".xr-attrs dt:hover span {\n",
       "  display: inline-block;\n",
       "  background: var(--xr-background-color);\n",
       "  padding-right: 10px;\n",
       "}\n",
       "\n",
       ".xr-attrs dd {\n",
       "  grid-column: 2;\n",
       "  white-space: pre-wrap;\n",
       "  word-break: break-all;\n",
       "}\n",
       "\n",
       ".xr-icon-database,\n",
       ".xr-icon-file-text2,\n",
       ".xr-no-icon {\n",
       "  display: inline-block;\n",
       "  vertical-align: middle;\n",
       "  width: 1em;\n",
       "  height: 1.5em !important;\n",
       "  stroke-width: 0;\n",
       "  stroke: currentColor;\n",
       "  fill: currentColor;\n",
       "}\n",
       "</style><pre class='xr-text-repr-fallback'>&lt;xarray.DataArray (band: 1, y: 5760, x: 9480)&gt;\n",
       "[54604800 values with dtype=float32]\n",
       "Coordinates:\n",
       "  * band         (band) int64 1\n",
       "  * x            (x) float64 -14.0 -13.99 -13.98 -13.97 ... 64.98 64.99 65.0\n",
       "  * y            (y) float64 60.0 59.99 59.98 59.97 ... 12.03 12.02 12.01 12.0\n",
       "    spatial_ref  int64 0\n",
       "Attributes:\n",
       "    scale_factor:  1.0\n",
       "    add_offset:    0.0</pre><div class='xr-wrap' style='display:none'><div class='xr-header'><div class='xr-obj-type'>xarray.DataArray</div><div class='xr-array-name'></div><ul class='xr-dim-list'><li><span class='xr-has-index'>band</span>: 1</li><li><span class='xr-has-index'>y</span>: 5760</li><li><span class='xr-has-index'>x</span>: 9480</li></ul></div><ul class='xr-sections'><li class='xr-section-item'><div class='xr-array-wrap'><input id='section-3013fbcb-07cf-4e72-baf3-10c0a0fdcae8' class='xr-array-in' type='checkbox' checked><label for='section-3013fbcb-07cf-4e72-baf3-10c0a0fdcae8' title='Show/hide data repr'><svg class='icon xr-icon-database'><use xlink:href='#icon-database'></use></svg></label><div class='xr-array-preview xr-preview'><span>...</span></div><div class='xr-array-data'><pre>[54604800 values with dtype=float32]</pre></div></div></li><li class='xr-section-item'><input id='section-bd6a9baa-7d89-42e7-b144-8b3212219ebc' class='xr-section-summary-in' type='checkbox'  checked><label for='section-bd6a9baa-7d89-42e7-b144-8b3212219ebc' class='xr-section-summary' >Coordinates: <span>(4)</span></label><div class='xr-section-inline-details'></div><div class='xr-section-details'><ul class='xr-var-list'><li class='xr-var-item'><div class='xr-var-name'><span class='xr-has-index'>band</span></div><div class='xr-var-dims'>(band)</div><div class='xr-var-dtype'>int64</div><div class='xr-var-preview xr-preview'>1</div><input id='attrs-f4b17f21-6843-4248-aeb8-b54b4d0cbf90' class='xr-var-attrs-in' type='checkbox' disabled><label for='attrs-f4b17f21-6843-4248-aeb8-b54b4d0cbf90' title='Show/Hide attributes'><svg class='icon xr-icon-file-text2'><use xlink:href='#icon-file-text2'></use></svg></label><input id='data-26073305-ff87-4e9b-a812-b8460824a80c' class='xr-var-data-in' type='checkbox'><label for='data-26073305-ff87-4e9b-a812-b8460824a80c' title='Show/Hide data repr'><svg class='icon xr-icon-database'><use xlink:href='#icon-database'></use></svg></label><div class='xr-var-attrs'><dl class='xr-attrs'></dl></div><div class='xr-var-data'><pre>array([1])</pre></div></li><li class='xr-var-item'><div class='xr-var-name'><span class='xr-has-index'>x</span></div><div class='xr-var-dims'>(x)</div><div class='xr-var-dtype'>float64</div><div class='xr-var-preview xr-preview'>-14.0 -13.99 -13.98 ... 64.99 65.0</div><input id='attrs-27e1c163-17eb-4746-940c-495926bd1049' class='xr-var-attrs-in' type='checkbox' disabled><label for='attrs-27e1c163-17eb-4746-940c-495926bd1049' title='Show/Hide attributes'><svg class='icon xr-icon-file-text2'><use xlink:href='#icon-file-text2'></use></svg></label><input id='data-91bb5cf2-c812-4655-9882-fb88064933e0' class='xr-var-data-in' type='checkbox'><label for='data-91bb5cf2-c812-4655-9882-fb88064933e0' title='Show/Hide data repr'><svg class='icon xr-icon-database'><use xlink:href='#icon-database'></use></svg></label><div class='xr-var-attrs'><dl class='xr-attrs'></dl></div><div class='xr-var-data'><pre>array([-13.995833, -13.9875  , -13.979167, ...,  64.979167,  64.9875  ,\n",
       "        64.995833])</pre></div></li><li class='xr-var-item'><div class='xr-var-name'><span class='xr-has-index'>y</span></div><div class='xr-var-dims'>(y)</div><div class='xr-var-dtype'>float64</div><div class='xr-var-preview xr-preview'>60.0 59.99 59.98 ... 12.01 12.0</div><input id='attrs-f7aa5e6b-3cad-4965-af17-862471a28984' class='xr-var-attrs-in' type='checkbox' disabled><label for='attrs-f7aa5e6b-3cad-4965-af17-862471a28984' title='Show/Hide attributes'><svg class='icon xr-icon-file-text2'><use xlink:href='#icon-file-text2'></use></svg></label><input id='data-c7ecebf3-2f74-4792-af11-10e113367507' class='xr-var-data-in' type='checkbox'><label for='data-c7ecebf3-2f74-4792-af11-10e113367507' title='Show/Hide data repr'><svg class='icon xr-icon-database'><use xlink:href='#icon-database'></use></svg></label><div class='xr-var-attrs'><dl class='xr-attrs'></dl></div><div class='xr-var-data'><pre>array([59.995833, 59.9875  , 59.979167, ..., 12.020833, 12.0125  , 12.004167])</pre></div></li><li class='xr-var-item'><div class='xr-var-name'><span>spatial_ref</span></div><div class='xr-var-dims'>()</div><div class='xr-var-dtype'>int64</div><div class='xr-var-preview xr-preview'>0</div><input id='attrs-20d8f8b9-7325-403b-b338-9e1f386e102e' class='xr-var-attrs-in' type='checkbox' ><label for='attrs-20d8f8b9-7325-403b-b338-9e1f386e102e' title='Show/Hide attributes'><svg class='icon xr-icon-file-text2'><use xlink:href='#icon-file-text2'></use></svg></label><input id='data-a91d1ad0-7a37-49dc-ab72-96764dd885b1' class='xr-var-data-in' type='checkbox'><label for='data-a91d1ad0-7a37-49dc-ab72-96764dd885b1' title='Show/Hide data repr'><svg class='icon xr-icon-database'><use xlink:href='#icon-database'></use></svg></label><div class='xr-var-attrs'><dl class='xr-attrs'><dt><span>crs_wkt :</span></dt><dd>GEOGCS[&quot;WGS 84&quot;,DATUM[&quot;WGS_1984&quot;,SPHEROID[&quot;WGS 84&quot;,6378137,298.257223563,AUTHORITY[&quot;EPSG&quot;,&quot;7030&quot;]],AUTHORITY[&quot;EPSG&quot;,&quot;6326&quot;]],PRIMEM[&quot;Greenwich&quot;,0,AUTHORITY[&quot;EPSG&quot;,&quot;8901&quot;]],UNIT[&quot;degree&quot;,0.0174532925199433,AUTHORITY[&quot;EPSG&quot;,&quot;9122&quot;]],AXIS[&quot;Latitude&quot;,NORTH],AXIS[&quot;Longitude&quot;,EAST],AUTHORITY[&quot;EPSG&quot;,&quot;4326&quot;]]</dd><dt><span>semi_major_axis :</span></dt><dd>6378137.0</dd><dt><span>semi_minor_axis :</span></dt><dd>6356752.314245179</dd><dt><span>inverse_flattening :</span></dt><dd>298.257223563</dd><dt><span>reference_ellipsoid_name :</span></dt><dd>WGS 84</dd><dt><span>longitude_of_prime_meridian :</span></dt><dd>0.0</dd><dt><span>prime_meridian_name :</span></dt><dd>Greenwich</dd><dt><span>geographic_crs_name :</span></dt><dd>WGS 84</dd><dt><span>horizontal_datum_name :</span></dt><dd>World Geodetic System 1984</dd><dt><span>grid_mapping_name :</span></dt><dd>latitude_longitude</dd><dt><span>spatial_ref :</span></dt><dd>GEOGCS[&quot;WGS 84&quot;,DATUM[&quot;WGS_1984&quot;,SPHEROID[&quot;WGS 84&quot;,6378137,298.257223563,AUTHORITY[&quot;EPSG&quot;,&quot;7030&quot;]],AUTHORITY[&quot;EPSG&quot;,&quot;6326&quot;]],PRIMEM[&quot;Greenwich&quot;,0,AUTHORITY[&quot;EPSG&quot;,&quot;8901&quot;]],UNIT[&quot;degree&quot;,0.0174532925199433,AUTHORITY[&quot;EPSG&quot;,&quot;9122&quot;]],AXIS[&quot;Latitude&quot;,NORTH],AXIS[&quot;Longitude&quot;,EAST],AUTHORITY[&quot;EPSG&quot;,&quot;4326&quot;]]</dd><dt><span>GeoTransform :</span></dt><dd>-14.0 0.008333333333333 0.0 59.99999999999808 0.0 -0.008333333333333</dd></dl></div><div class='xr-var-data'><pre>array(0)</pre></div></li></ul></div></li><li class='xr-section-item'><input id='section-c8280f04-940b-4800-b43e-d5217c5cb39d' class='xr-section-summary-in' type='checkbox'  ><label for='section-c8280f04-940b-4800-b43e-d5217c5cb39d' class='xr-section-summary' >Indexes: <span>(3)</span></label><div class='xr-section-inline-details'></div><div class='xr-section-details'><ul class='xr-var-list'><li class='xr-var-item'><div class='xr-index-name'><div>band</div></div><div class='xr-index-preview'>PandasIndex</div><div></div><input id='index-ac076849-773a-42fb-8438-c979993b8d93' class='xr-index-data-in' type='checkbox'/><label for='index-ac076849-773a-42fb-8438-c979993b8d93' title='Show/Hide index repr'><svg class='icon xr-icon-database'><use xlink:href='#icon-database'></use></svg></label><div class='xr-index-data'><pre>PandasIndex(Index([1], dtype=&#x27;int64&#x27;, name=&#x27;band&#x27;))</pre></div></li><li class='xr-var-item'><div class='xr-index-name'><div>x</div></div><div class='xr-index-preview'>PandasIndex</div><div></div><input id='index-5f1ed4b2-9be1-4bbf-b812-dc770b76b334' class='xr-index-data-in' type='checkbox'/><label for='index-5f1ed4b2-9be1-4bbf-b812-dc770b76b334' title='Show/Hide index repr'><svg class='icon xr-icon-database'><use xlink:href='#icon-database'></use></svg></label><div class='xr-index-data'><pre>PandasIndex(Index([-13.995833333333334,            -13.9875, -13.979166666666668,\n",
       "       -13.970833333333335, -13.962500000000002,  -13.95416666666667,\n",
       "       -13.945833333333336, -13.937500000000002, -13.929166666666669,\n",
       "       -13.920833333333336,\n",
       "       ...\n",
       "         64.92083333333018,    64.9291666666635,   64.93749999999685,\n",
       "         64.94583333333017,   64.95416666666351,   64.96249999999684,\n",
       "         64.97083333333018,    64.9791666666635,   64.98749999999684,\n",
       "         64.99583333333017],\n",
       "      dtype=&#x27;float64&#x27;, name=&#x27;x&#x27;, length=9480))</pre></div></li><li class='xr-var-item'><div class='xr-index-name'><div>y</div></div><div class='xr-index-preview'>PandasIndex</div><div></div><input id='index-51cda64c-08c5-43d4-bd34-2150a0f59350' class='xr-index-data-in' type='checkbox'/><label for='index-51cda64c-08c5-43d4-bd34-2150a0f59350' title='Show/Hide index repr'><svg class='icon xr-icon-database'><use xlink:href='#icon-database'></use></svg></label><div class='xr-index-data'><pre>PandasIndex(Index([ 59.99583333333141,  59.98749999999808, 59.979166666664746,\n",
       "        59.97083333333141,  59.96249999999808,  59.95416666666475,\n",
       "       59.945833333331414,  59.93749999999808,  59.92916666666475,\n",
       "       59.920833333331416,\n",
       "       ...\n",
       "       12.079166666666659, 12.070833333333326, 12.062499999999993,\n",
       "        12.05416666666666, 12.045833333333327, 12.037499999999994,\n",
       "       12.029166666666661, 12.020833333333329, 12.012499999999996,\n",
       "       12.004166666666663],\n",
       "      dtype=&#x27;float64&#x27;, name=&#x27;y&#x27;, length=5760))</pre></div></li></ul></div></li><li class='xr-section-item'><input id='section-5950179e-c819-42fe-80c0-f88160eed778' class='xr-section-summary-in' type='checkbox'  checked><label for='section-5950179e-c819-42fe-80c0-f88160eed778' class='xr-section-summary' >Attributes: <span>(2)</span></label><div class='xr-section-inline-details'></div><div class='xr-section-details'><dl class='xr-attrs'><dt><span>scale_factor :</span></dt><dd>1.0</dd><dt><span>add_offset :</span></dt><dd>0.0</dd></dl></div></li></ul></div></div>"
      ],
      "text/plain": [
       "<xarray.DataArray (band: 1, y: 5760, x: 9480)>\n",
       "[54604800 values with dtype=float32]\n",
       "Coordinates:\n",
       "  * band         (band) int64 1\n",
       "  * x            (x) float64 -14.0 -13.99 -13.98 -13.97 ... 64.98 64.99 65.0\n",
       "  * y            (y) float64 60.0 59.99 59.98 59.97 ... 12.03 12.02 12.01 12.0\n",
       "    spatial_ref  int64 0\n",
       "Attributes:\n",
       "    scale_factor:  1.0\n",
       "    add_offset:    0.0"
      ]
     },
     "execution_count": 3,
     "metadata": {},
     "output_type": "execute_result"
    }
   ],
   "source": [
    "da = rioxarray.open_rasterio(adffile, masked=True)\n",
    "da"
   ]
  },
  {
   "cell_type": "markdown",
   "metadata": {},
   "source": [
    "The projection is `EPSG:4326` (also known as `WGS84`). The coordinate `x` corresponds to the longitude and `y` to the latitude (in degrees). There is only one band."
   ]
  },
  {
   "cell_type": "code",
   "execution_count": 4,
   "metadata": {},
   "outputs": [],
   "source": [
    "da = da.sel(band=1)\n",
    "da.name = \"DEM\""
   ]
  },
  {
   "cell_type": "markdown",
   "metadata": {},
   "source": [
    "The dataset may be too large to hold in memory, so we will break it down into smaller pieces. This will also improve performance as the generation of a tile can be done in parallel with Dask."
   ]
  },
  {
   "cell_type": "code",
   "execution_count": 5,
   "metadata": {},
   "outputs": [],
   "source": [
    "da = da.chunk((1000, 1000))\n",
    "warnings.filterwarnings(\"ignore\")"
   ]
  },
  {
   "cell_type": "markdown",
   "metadata": {},
   "source": [
    "We simply need to create a map before passing it to our DataArray extension."
   ]
  },
  {
   "cell_type": "code",
   "execution_count": 6,
   "metadata": {
    "scrolled": true
   },
   "outputs": [
    {
     "data": {
      "application/vnd.jupyter.widget-view+json": {
       "model_id": "b40dcd56f45e46bdb00442886b04b12a",
       "version_major": 2,
       "version_minor": 0
      },
      "text/plain": [
       "Map(center=[52.5162, 13.3777], controls=(ZoomControl(options=['position', 'zoom_in_text', 'zoom_in_title', 'zo…"
      ]
     },
     "metadata": {},
     "output_type": "display_data"
    }
   ],
   "source": [
    "m = Map(\n",
    "    center=[52.5162, 13.3777],\n",
    "    zoom=3,\n",
    "    basemap=basemaps.CartoDB.Positron,\n",
    "    interpolation=\"nearest\",\n",
    ")\n",
    "m"
   ]
  },
  {
   "cell_type": "markdown",
   "metadata": {},
   "source": [
    "To display our data on the map, we call `leaflet.plot()` with our `DataArray` and pass the map as a parameter. We get back a layer that we can control further, for example with a slider to adjust the opacity."
   ]
  },
  {
   "cell_type": "code",
   "execution_count": 7,
   "metadata": {},
   "outputs": [
    {
     "data": {
      "application/vnd.jupyter.widget-view+json": {
       "model_id": "5547a7ae7f8e40ebaea30635cfbbb7b4",
       "version_major": 2,
       "version_minor": 0
      },
      "text/plain": [
       "Url()"
      ]
     },
     "metadata": {},
     "output_type": "display_data"
    },
    {
     "data": {
      "application/vnd.jupyter.widget-view+json": {
       "model_id": "5c3ea5facc374a198bb40f207fdba5f1",
       "version_major": 2,
       "version_minor": 0
      },
      "text/plain": [
       "Box(children=(FloatSlider(value=1.0, description='opacity', max=1.0),))"
      ]
     },
     "metadata": {},
     "output_type": "display_data"
    }
   ],
   "source": [
    "l = da.leaflet.plot(m, colormap=plt.cm.terrain)\n",
    "l.interact(opacity=(0., 1.))"
   ]
  },
  {
   "cell_type": "markdown",
   "metadata": {},
   "source": [
    "Now we will insert the slider into the map. We will also insert a layer control."
   ]
  },
  {
   "cell_type": "code",
   "execution_count": 8,
   "metadata": {},
   "outputs": [],
   "source": [
    "layers_control = LayersControl(position=\"topright\")\n",
    "m.add_control(layers_control)\n",
    "\n",
    "opacity_slider = FloatSlider(description=\"Opacity:\", min=0, max=1, value=1)\n",
    "\n",
    "\n",
    "def set_opacity(change):\n",
    "    l.opacity = change[\"new\"]\n",
    "\n",
    "\n",
    "opacity_slider.observe(set_opacity, names=\"value\")\n",
    "slider_control = WidgetControl(widget=opacity_slider, position=\"bottomleft\")\n",
    "m.add_control(slider_control)"
   ]
  },
  {
   "cell_type": "markdown",
   "metadata": {},
   "source": [
    "The `select()` method allows you to select a region by clicking and dragging a box on the map. To do this, however, you must click on the ⏹️ button."
   ]
  },
  {
   "cell_type": "code",
   "execution_count": 9,
   "metadata": {},
   "outputs": [],
   "source": [
    "da.leaflet.select()"
   ]
  },
  {
   "cell_type": "markdown",
   "metadata": {},
   "source": [
    "You can then retrieve the selected data field and plot it, for example."
   ]
  },
  {
   "cell_type": "code",
   "execution_count": 10,
   "metadata": {},
   "outputs": [],
   "source": [
    "da_selected = da.leaflet.get_selection()"
   ]
  },
  {
   "cell_type": "code",
   "execution_count": 11,
   "metadata": {},
   "outputs": [
    {
     "data": {
      "image/png": "[encoded data removed]",
      "text/plain": [
       "<Figure size 640x480 with 2 Axes>"
      ]
     },
     "metadata": {},
     "output_type": "display_data"
    }
   ],
   "source": [
    "if da_selected is not None:\n",
    "    da_selected.plot.imshow()    "
   ]
  },
  {
   "cell_type": "markdown",
   "metadata": {},
   "source": [
    "Finally, the selection and the buttons can be removed:"
   ]
  },
  {
   "cell_type": "code",
   "execution_count": 12,
   "metadata": {
    "scrolled": true
   },
   "outputs": [],
   "source": [
    "da.leaflet.unselect()"
   ]
  }
 ],
 "metadata": {
  "kernelspec": {
   "display_name": "Python 3.11 Kernel",
   "language": "python",
   "name": "python311"
  },
  "language_info": {
   "codemirror_mode": {
    "name": "ipython",
    "version": 3
   },
   "file_extension": ".py",
   "mimetype": "text/x-python",
   "name": "python",
   "nbconvert_exporter": "python",
   "pygments_lexer": "ipython3",
   "version": "3.11.4"
  },
  "latex_envs": {
   "LaTeX_envs_menu_present": true,
   "autoclose": false,
   "autocomplete": true,
   "bibliofile": "biblio.bib",
   "cite_by": "apalike",
   "current_citInitial": 1,
   "eqLabelWithNumbers": true,
   "eqNumInitial": 1,
   "hotkeys": {
    "equation": "Ctrl-E",
    "itemize": "Ctrl-I"
   },
   "labels_anchors": false,
   "latex_user_defs": false,
   "report_style_numbering": false,
   "user_envs_cfg": false
  },
  "widgets": {
   "application/vnd.jupyter.widget-state+json": {
    "state": {
     "00b1df915d5343afaae21f691e265c15": {
      "model_module": "@jupyter-widgets/controls",
      "model_module_version": "1.5.0",
      "model_name": "BoxModel",
      "state": {
       "children": [
        "IPY_MODEL_d193b832c31e4b759daef76efeacbc4e"
       ],
       "layout": "IPY_MODEL_6a5ef78b98cb42569eb67cfe6482a2c8"
      }
     },
     "00fbfd6e6a00471ebb9544c3a884fe4f": {
      "model_module": "jupyter-leaflet",
      "model_module_version": "^0.12.6",
      "model_name": "LeafletLocalTileLayerModel",
      "state": {
       "_model_module_version": "^0.12.6",
       "_view_module_version": "^0.12.6",
       "max_native_zoom": 18,
       "min_native_zoom": 0,
       "options": [
        "attribution",
        "detect_retina",
        "max_native_zoom",
        "max_zoom",
        "min_native_zoom",
        "min_zoom",
        "no_wrap",
        "tile_size",
        "tms"
       ],
       "path": "./xarray_leaflet_tiles/tmp3zj1pg5l/{z}/{x}/{y}.png"
      }
     },
     "011bc93002484060afbafb342f19fd98": {
      "model_module": "@jupyter-widgets/base",
      "model_module_version": "1.2.0",
      "model_name": "LayoutModel",
      "state": {}
     },
     "012b59592b5244cfae2595fc1630584f": {
      "model_module": "@jupyter-widgets/controls",
      "model_module_version": "1.5.0",
      "model_name": "FloatSliderModel",
      "state": {
       "description": "Opacity:",
       "layout": "IPY_MODEL_e4b70d1b70ce47e88f6ef9a61089497e",
       "max": 1,
       "step": 0.1,
       "style": "IPY_MODEL_32bec7630f70427aac782f73126c3a2f",
       "value": 1
      }
     },
     "013856d6bc5d4b64a13c40b901f49cf0": {
      "model_module": "jupyter-leaflet",
      "model_module_version": "^0.17",
      "model_name": "LeafletMapStyleModel",
      "state": {
       "_model_module_version": "^0.17",
       "cursor": "move"
      }
     },
     "01426b50514e43a49beecb3e41130d29": {
      "model_module": "jupyter-leaflet",
      "model_module_version": "^0.17",
      "model_name": "LeafletLocalTileLayerModel",
      "state": {
       "_model_module_version": "^0.17",
       "_view_module_version": "^0.17",
       "name": "DEM",
       "options": [
        "attribution",
        "bounds",
        "detect_retina",
        "max_native_zoom",
        "max_zoom",
        "min_native_zoom",
        "min_zoom",
        "no_wrap",
        "tile_size",
        "tms",
        "zoom_offset"
       ]
      }
     },
     "021c036fc7414401bf843723dcc4428f": {
      "model_module": "jupyter-leaflet",
      "model_module_version": "^0.12.6",
      "model_name": "LeafletMapStyleModel",
      "state": {
       "_model_module_version": "^0.12.6"
      }
     },
     "0255334acf6c4e2b922de718a480ef52": {
      "model_module": "@jupyter-widgets/controls",
      "model_module_version": "1.5.0",
      "model_name": "SliderStyleModel",
      "state": {
       "description_width": ""
      }
     },
     "0280f5b77ab24118aff7ca3ee04d325e": {
      "model_module": "jupyter-leaflet",
      "model_module_version": "^0.12.6",
      "model_name": "LeafletMapStyleModel",
      "state": {
       "_model_module_version": "^0.12.6",
       "cursor": "move"
      }
     },
     "02990a1b60ea4c50bec2d8be5b6009cd": {
      "model_module": "jupyter-leaflet",
      "model_module_version": "^0.17",
      "model_name": "LeafletLayersControlModel",
      "state": {
       "_model_module_version": "^0.17",
       "_view_module_version": "^0.17",
       "options": [
        "position"
       ],
       "position": "topright"
      }
     },
     "04d0721ceb0544689cb42e1b8611a7e9": {
      "model_module": "jupyter-leaflet",
      "model_module_version": "^0.17",
      "model_name": "LeafletLocalTileLayerModel",
      "state": {
       "_model_module_version": "^0.17",
       "_view_module_version": "^0.17",
       "name": "DEM",
       "options": [
        "attribution",
        "bounds",
        "detect_retina",
        "max_native_zoom",
        "max_zoom",
        "min_native_zoom",
        "min_zoom",
        "no_wrap",
        "tile_size",
        "tms",
        "zoom_offset"
       ]
      }
     },
     "05c79ca6c2004305b46e6e338e763be1": {
      "model_module": "ipyspin",
      "model_module_version": "^1.0.0",
      "model_name": "SpinnerModel",
      "state": {
       "_model_module_version": "^1.0.0",
       "_view_module_version": "^1.0.0",
       "layout": "IPY_MODEL_b4f222e4d3d040dda1658e893a7c1efc",
       "length": 3,
       "lines": 8,
       "radius": 5,
       "width": 5,
       "window_url": "http://localhost:8888/notebooks/js/xarray-leaflet.ipynb#"
      }
     },
     "061d97d2c00b4d698717ae1d95e6518e": {
      "model_module": "@jupyter-widgets/controls",
      "model_module_version": "1.5.0",
      "model_name": "SliderStyleModel",
      "state": {
       "description_width": ""
      }
     },
     "072be94dc1974ebd8f72b0f06e771919": {
      "model_module": "@jupyter-widgets/controls",
      "model_module_version": "1.5.0",
      "model_name": "FloatSliderModel",
      "state": {
       "description": "opacity",
       "layout": "IPY_MODEL_011bc93002484060afbafb342f19fd98",
       "max": 1,
       "step": 0.1,
       "style": "IPY_MODEL_36ec15465ca14edf9d7b450614b10277",
       "value": 1
      }
     },
     "074b6002cc654f0793546bb521de7863": {
      "model_module": "ipyurl",
      "model_module_version": "^0.1.2",
      "model_name": "UrlModel",
      "state": {
       "_model_module_version": "^0.1.2",
       "_view_module_version": "^0.1.2",
       "layout": "IPY_MODEL_b5abd5b2710d4e38a803694ef8a67c21"
      }
     },
     "080187a9ee6a4110a7b1d637dc2b6e8b": {
      "model_module": "@jupyter-widgets/base",
      "model_module_version": "1.2.0",
      "model_name": "LayoutModel",
      "state": {
       "height": "30px",
       "width": "30px"
      }
     },
     "084e7466547c4f37a855269500a13da6": {
      "model_module": "@jupyter-widgets/controls",
      "model_module_version": "1.5.0",
      "model_name": "SliderStyleModel",
      "state": {
       "description_width": ""
      }
     },
     "086bd58fa9d1491ea1c165740cb04d08": {
      "model_module": "@jupyter-widgets/base",
      "model_module_version": "1.2.0",
      "model_name": "LayoutModel",
      "state": {}
     },
     "09b268ef31d448fb80c497affad06554": {
      "model_module": "jupyter-leaflet",
      "model_module_version": "^0.12.6",
      "model_name": "LeafletMapStyleModel",
      "state": {
       "_model_module_version": "^0.12.6",
       "cursor": "move"
      }
     },
     "0a3e544238134ddcb4e1869c96c3b124": {
      "model_module": "ipyspin",
      "model_module_version": "^1.0.0",
      "model_name": "SpinnerModel",
      "state": {
       "_model_module_version": "^1.0.0",
       "_view_module_version": "^1.0.0",
       "layout": "IPY_MODEL_f70963464e0e4df2a346f13e15e9c629",
       "length": 3,
       "lines": 8,
       "radius": 5,
       "width": 5,
       "window_url": "http://localhost:8888/notebooks/js/xarray-leaflet.ipynb#"
      }
     },
     "0a5db28ff64f430f97fa37ca56484f73": {
      "model_module": "jupyter-leaflet",
      "model_module_version": "^0.17",
      "model_name": "LeafletLocalTileLayerModel",
      "state": {
       "_model_module_version": "^0.17",
       "_view_module_version": "^0.17",
       "name": "DEM",
       "options": [
        "attribution",
        "bounds",
        "detect_retina",
        "max_native_zoom",
        "max_zoom",
        "min_native_zoom",
        "min_zoom",
        "no_wrap",
        "tile_size",
        "tms",
        "zoom_offset"
       ]
      }
     },
     "0a6109f71a2449b1a72b21f66f4c3558": {
      "model_module": "@jupyter-widgets/base",
      "model_module_version": "1.2.0",
      "model_name": "LayoutModel",
      "state": {}
     },
     "0a78b17534224420adf6b95ee1a2a928": {
      "model_module": "jupyter-leaflet",
      "model_module_version": "^0.12.6",
      "model_name": "LeafletZoomControlModel",
      "state": {
       "_model_module_version": "^0.12.6",
       "_view_module_version": "^0.12.6",
       "options": [
        "position",
        "zoom_in_text",
        "zoom_in_title",
        "zoom_out_text",
        "zoom_out_title"
       ]
      }
     },
     "0a7f9e8443c541099f670a6a3871646f": {
      "model_module": "ipyurl",
      "model_module_version": "^0.1.2",
      "model_name": "UrlModel",
      "state": {
       "_model_module_version": "^0.1.2",
       "_view_module_version": "^0.1.2",
       "layout": "IPY_MODEL_53c85c4806bf4890a68408cc11a9ca68"
      }
     },
     "0ab01a4aa8884315aa36bc9fbfad5b8e": {
      "model_module": "@jupyter-widgets/controls",
      "model_module_version": "1.5.0",
      "model_name": "FloatSliderModel",
      "state": {
       "description": "opacity",
       "layout": "IPY_MODEL_37fec627712445c2b193d025bce2e1b9",
       "max": 1,
       "step": 0.1,
       "style": "IPY_MODEL_6a4954f161164f9f86fe0639fa1ec802",
       "value": 0.9
      }
     },
     "0ad36f97a7b5448980326ebf300f2b9b": {
      "model_module": "jupyter-leaflet",
      "model_module_version": "^0.17",
      "model_name": "LeafletMapStyleModel",
      "state": {
       "_model_module_version": "^0.17"
      }
     },
     "0b5ec745f22a4101b9fe6cefb6c5ecb3": {
      "model_module": "@jupyter-widgets/controls",
      "model_module_version": "1.5.0",
      "model_name": "BoxModel",
      "state": {
       "children": [
        "IPY_MODEL_f188ea315143492182ab5d00763327be"
       ],
       "layout": "IPY_MODEL_2dc456b65c01404dbcbd749bee732e9c"
      }
     },
     "0b8d5863ab5146dc884e52e19b6a71bf": {
      "model_module": "@jupyter-widgets/base",
      "model_module_version": "1.2.0",
      "model_name": "LayoutModel",
      "state": {}
     },
     "0be040fa6b414b23b0fbfa383f52d6ce": {
      "model_module": "@jupyter-widgets/base",
      "model_module_version": "1.2.0",
      "model_name": "LayoutModel",
      "state": {}
     },
     "0c0bf1c3eb054af3971f26223c12e343": {
      "model_module": "jupyter-leaflet",
      "model_module_version": "^0.12.6",
      "model_name": "LeafletLocalTileLayerModel",
      "state": {
       "_model_module_version": "^0.12.6",
       "_view_module_version": "^0.12.6",
       "max_native_zoom": 18,
       "min_native_zoom": 0,
       "options": [
        "attribution",
        "detect_retina",
        "max_native_zoom",
        "max_zoom",
        "min_native_zoom",
        "min_zoom",
        "no_wrap",
        "tile_size",
        "tms"
       ],
       "path": "./xarray_leaflet_tiles/tmpgt47f2mg/{z}/{x}/{y}.png",
       "url": "./xarray_leaflet_tiles/tmpgt47f2mg/{z}/{x}/{y}.png"
      }
     },
     "0c47ea8646bb4481b24f794978180821": {
      "model_module": "@jupyter-widgets/base",
      "model_module_version": "1.2.0",
      "model_name": "LayoutModel",
      "state": {}
     },
     "0c4c50d8a24643cbb10091f80ab4b088": {
      "model_module": "@jupyter-widgets/controls",
      "model_module_version": "1.5.0",
      "model_name": "SliderStyleModel",
      "state": {
       "description_width": ""
      }
     },
     "0cff675276dc4f8a8f869ffcd3b11f4c": {
      "model_module": "jupyter-leaflet",
      "model_module_version": "^0.17",
      "model_name": "LeafletWidgetControlModel",
      "state": {
       "_model_module": "jupyter-leaflet",
       "_model_module_version": "^0.17",
       "_view_count": null,
       "_view_module": "jupyter-leaflet",
       "_view_module_version": "^0.17",
       "options": [
        "position",
        "transparent_bg"
       ],
       "position": "bottomleft",
       "widget": "IPY_MODEL_afafe83f4f2144e884cb3ba02750befa"
      }
     },
     "0d3fc52255ea48d4a2d7d2f04f9cc901": {
      "model_module": "@jupyter-widgets/base",
      "model_module_version": "1.2.0",
      "model_name": "LayoutModel",
      "state": {}
     },
     "0de7d2cd61b9466e9575e8f93acd24c4": {
      "model_module": "jupyter-leaflet",
      "model_module_version": "^0.17",
      "model_name": "LeafletMapStyleModel",
      "state": {
       "_model_module_version": "^0.17"
      }
     },
     "0e6c101e69104dc8b986867f930443a2": {
      "model_module": "jupyter-leaflet",
      "model_module_version": "^0.17",
      "model_name": "LeafletZoomControlModel",
      "state": {
       "_model_module_version": "^0.17",
       "_view_module_version": "^0.17",
       "options": [
        "position",
        "zoom_in_text",
        "zoom_in_title",
        "zoom_out_text",
        "zoom_out_title"
       ]
      }
     },
     "0ee491fac63f425cb35701e92400044e": {
      "model_module": "jupyter-leaflet",
      "model_module_version": "^0.17",
      "model_name": "LeafletMapModel",
      "state": {
       "_model_module_version": "^0.17",
       "_view_module_version": "^0.17",
       "center": [
        24.84656534821976,
        117.42187500000001
       ],
       "controls": [
        "IPY_MODEL_878e27ac6d5c4443a91d95bf019eeaae",
        "IPY_MODEL_1ff367243cad49ad9db3b3734baa85df",
        "IPY_MODEL_a70ef88086ac475594ca0d2edfec3878",
        "IPY_MODEL_856008e6c246495b841e5a206387d0a0"
       ],
       "default_style": "IPY_MODEL_b9614faa4e0a48bc9f98f20d3da490c7",
       "dragging_style": "IPY_MODEL_464b0540fb7e4828b99e8f44439828f8",
       "east": null,
       "fullscreen": false,
       "interpolation": "nearest",
       "layers": [
        "IPY_MODEL_a6ed301c1c544d1aa2c0c7997caf17aa"
       ],
       "layout": "IPY_MODEL_63c024306bd54362bd0593db4b1b438d",
       "modisdate": "2023-07-11",
       "north": -90,
       "options": [
        "bounce_at_zoom_limits",
        "box_zoom",
        "center",
        "close_popup_on_click",
        "double_click_zoom",
        "dragging",
        "fullscreen",
        "inertia",
        "inertia_deceleration",
        "inertia_max_speed",
        "interpolation",
        "keyboard",
        "keyboard_pan_offset",
        "keyboard_zoom_offset",
        "max_zoom",
        "min_zoom",
        "prefer_canvas",
        "scroll_wheel_zoom",
        "tap",
        "tap_tolerance",
        "touch_zoom",
        "world_copy_jump",
        "zoom",
        "zoom_animation_threshold",
        "zoom_delta",
        "zoom_snap"
       ],
       "prefer_canvas": false,
       "south": 90,
       "style": "IPY_MODEL_b9614faa4e0a48bc9f98f20d3da490c7",
       "west": null,
       "window_url": "http://localhost:8888/notebooks/js/xarray-leaflet.ipynb#",
       "zoom": 2
      }
     },
     "0f3d33c2543c4882a8862b6fcf294449": {
      "model_module": "jupyter-leaflet",
      "model_module_version": "^0.17",
      "model_name": "LeafletWidgetControlModel",
      "state": {
       "_model_module": "jupyter-leaflet",
       "_model_module_version": "^0.17",
       "_view_count": null,
       "_view_module": "jupyter-leaflet",
       "_view_module_version": "^0.17",
       "options": [
        "position",
        "transparent_bg"
       ],
       "position": "bottomright",
       "widget": "IPY_MODEL_110ed86185174a6ca2c5c6be293561ee"
      }
     },
     "0f9c5b70a6794935b01bc93e87b5f885": {
      "model_module": "jupyter-leaflet",
      "model_module_version": "^0.17",
      "model_name": "LeafletMapStyleModel",
      "state": {
       "_model_module_version": "^0.17"
      }
     },
     "0fc652bfa0334f23a7e5f11982ca6135": {
      "model_module": "jupyter-leaflet",
      "model_module_version": "^0.17",
      "model_name": "LeafletLocalTileLayerModel",
      "state": {
       "_model_module_version": "^0.17",
       "_view_module_version": "^0.17",
       "name": "DEM",
       "options": [
        "attribution",
        "bounds",
        "detect_retina",
        "max_native_zoom",
        "max_zoom",
        "min_native_zoom",
        "min_zoom",
        "no_wrap",
        "tile_size",
        "tms",
        "zoom_offset"
       ]
      }
     },
     "10d1641c3e964c7599e94276741ffaa3": {
      "model_module": "@jupyter-widgets/controls",
      "model_module_version": "1.5.0",
      "model_name": "FloatSliderModel",
      "state": {
       "description": "Opacity:",
       "layout": "IPY_MODEL_d31bfd44d9aa41dcb636735a804a3fb3",
       "max": 1,
       "step": 0.1,
       "style": "IPY_MODEL_084e7466547c4f37a855269500a13da6",
       "value": 1
      }
     },
     "10d2f9baab5944f3b9408468854d3a5d": {
      "model_module": "jupyter-leaflet",
      "model_module_version": "^0.12.6",
      "model_name": "LeafletMapModel",
      "state": {
       "_model_module_version": "^0.12.6",
       "_view_module_version": "^0.12.6",
       "center": [
        -20,
        -60
       ],
       "controls": [
        "IPY_MODEL_6cbb78aa9a1f4f5c9db9111ea96d3887",
        "IPY_MODEL_64c258d05cc94bf886f8f3fe5a1fbaf7"
       ],
       "default_style": "IPY_MODEL_134715045f2a48edb02697fbccde525b",
       "dragging_style": "IPY_MODEL_7b32bd7e099e4ed588560cad348031a5",
       "east": 26.367187500000004,
       "fullscreen": false,
       "interpolation": "bilinear",
       "layers": [
        "IPY_MODEL_276cc17e213a4738891392b4c3bd4f16",
        "IPY_MODEL_dd0c049f84ba4258a1aec460244a5c6c",
        "IPY_MODEL_28202d314d0244ec86ce633674f4207c"
       ],
       "layout": "IPY_MODEL_739ca27cd53b4ea69139a7b414006448",
       "modisdate": "yesterday",
       "north": 14.604847155053898,
       "options": [
        "bounce_at_zoom_limits",
        "box_zoom",
        "center",
        "close_popup_on_click",
        "double_click_zoom",
        "dragging",
        "fullscreen",
        "inertia",
        "inertia_deceleration",
        "inertia_max_speed",
        "interpolation",
        "keyboard",
        "keyboard_pan_offset",
        "keyboard_zoom_offset",
        "max_zoom",
        "min_zoom",
        "scroll_wheel_zoom",
        "tap",
        "tap_tolerance",
        "touch_zoom",
        "world_copy_jump",
        "zoom",
        "zoom_animation_threshold",
        "zoom_start"
       ],
       "south": -48.45835188280866,
       "style": "IPY_MODEL_59f6a479af2a469989161dd714ca9431",
       "west": -146.25000000000003,
       "window_url": "http://localhost:8888/notebooks/js/xarray-leaflet.ipynb",
       "zoom": 3
      }
     },
     "110ed86185174a6ca2c5c6be293561ee": {
      "model_module": "ipyspin",
      "model_module_version": "^1.0.0",
      "model_name": "SpinnerModel",
      "state": {
       "_model_module_version": "^1.0.0",
       "_view_module_version": "^1.0.0",
       "layout": "IPY_MODEL_601aefe85df54aa99c400a0256afface",
       "length": 3,
       "lines": 8,
       "radius": 5,
       "width": 5,
       "window_url": "http://localhost:8888/notebooks/js/xarray-leaflet.ipynb#"
      }
     },
     "1180745f48354600a5b20f7c016e3126": {
      "model_module": "jupyter-leaflet",
      "model_module_version": "^0.17",
      "model_name": "LeafletMapStyleModel",
      "state": {
       "_model_module_version": "^0.17"
      }
     },
     "11ab07578d4a4ec1a2791c6988e03c3f": {
      "model_module": "jupyter-leaflet",
      "model_module_version": "^0.17",
      "model_name": "LeafletLocalTileLayerModel",
      "state": {
       "_model_module_version": "^0.17",
       "_view_module_version": "^0.17",
       "name": "DEM",
       "options": [
        "attribution",
        "bounds",
        "detect_retina",
        "max_native_zoom",
        "max_zoom",
        "min_native_zoom",
        "min_zoom",
        "no_wrap",
        "tile_size",
        "tms",
        "zoom_offset"
       ]
      }
     },
     "1208b31bec4143e29348f42125816443": {
      "model_module": "ipyspin",
      "model_module_version": "^1.0.0",
      "model_name": "SpinnerModel",
      "state": {
       "_model_module_version": "^1.0.0",
       "_view_module_version": "^1.0.0",
       "layout": "IPY_MODEL_f581afb510084ec28b88cfc9b81e5f5a",
       "length": 3,
       "lines": 8,
       "radius": 5,
       "width": 5,
       "window_url": "http://localhost:8888/notebooks/js/xarray-leaflet.ipynb#"
      }
     },
     "134715045f2a48edb02697fbccde525b": {
      "model_module": "jupyter-leaflet",
      "model_module_version": "^0.12.6",
      "model_name": "LeafletMapStyleModel",
      "state": {
       "_model_module_version": "^0.12.6"
      }
     },
     "13fed174730d43759f2dcb0fea8d1d51": {
      "model_module": "jupyter-leaflet",
      "model_module_version": "^0.12.6",
      "model_name": "LeafletAttributionControlModel",
      "state": {
       "_model_module_version": "^0.12.6",
       "_view_module_version": "^0.12.6",
       "options": [
        "position",
        "prefix"
       ],
       "position": "bottomright",
       "prefix": "Leaflet"
      }
     },
     "1471fb86bd6448a6a87c6106da62e83e": {
      "model_module": "@jupyter-widgets/base",
      "model_module_version": "1.2.0",
      "model_name": "LayoutModel",
      "state": {}
     },
     "147532a3a1ec4506807e3dfbf41c08a9": {
      "model_module": "jupyter-leaflet",
      "model_module_version": "^0.17",
      "model_name": "LeafletMapStyleModel",
      "state": {
       "_model_module_version": "^0.17",
       "cursor": "move"
      }
     },
     "148f1646786d4a9ebaf774f5fbc87387": {
      "model_module": "@jupyter-widgets/base",
      "model_module_version": "1.2.0",
      "model_name": "LayoutModel",
      "state": {}
     },
     "154f23eb20354be998ccc728ef103379": {
      "model_module": "jupyter-leaflet",
      "model_module_version": "^0.12.6",
      "model_name": "LeafletTileLayerModel",
      "state": {
       "_model_module_version": "^0.12.6",
       "_view_module_version": "^0.12.6",
       "attribution": "&copy; <a href=\"http://www.openstreetmap.org/copyright\">OpenStreetMap</a> &copy; <a href=\"http://cartodb.com/attributions\">CartoDB</a>",
       "base": true,
       "max_native_zoom": 18,
       "max_zoom": 20,
       "min_native_zoom": 0,
       "min_zoom": 1,
       "name": "CartoDB.Positron",
       "options": [
        "attribution",
        "detect_retina",
        "max_native_zoom",
        "max_zoom",
        "min_native_zoom",
        "min_zoom",
        "no_wrap",
        "tile_size",
        "tms"
       ],
       "url": "http://c.basemaps.cartocdn.com/light_all/{z}/{x}/{y}.png"
      }
     },
     "1573e208bb954aa7b3b71fe3c56a4408": {
      "model_module": "jupyter-leaflet",
      "model_module_version": "^0.17",
      "model_name": "LeafletZoomControlModel",
      "state": {
       "_model_module_version": "^0.17",
       "_view_module_version": "^0.17",
       "options": [
        "position",
        "zoom_in_text",
        "zoom_in_title",
        "zoom_out_text",
        "zoom_out_title"
       ]
      }
     },
     "15c968c539814b058e9867432a864ee6": {
      "model_module": "@jupyter-widgets/base",
      "model_module_version": "1.2.0",
      "model_name": "LayoutModel",
      "state": {
       "height": "30px",
       "width": "30px"
      }
     },
     "1657c70f28944fe2b94a11cc0ce92b68": {
      "model_module": "@jupyter-widgets/controls",
      "model_module_version": "1.5.0",
      "model_name": "SliderStyleModel",
      "state": {
       "description_width": ""
      }
     },
     "16c068eda2ac41a3b68a4fe8fb96b1fe": {
      "model_module": "jupyter-leaflet",
      "model_module_version": "^0.17",
      "model_name": "LeafletWidgetControlModel",
      "state": {
       "_model_module": "jupyter-leaflet",
       "_model_module_version": "^0.17",
       "_view_count": null,
       "_view_module": "jupyter-leaflet",
       "_view_module_version": "^0.17",
       "options": [
        "position",
        "transparent_bg"
       ],
       "position": "bottomleft",
       "widget": "IPY_MODEL_80eb5f309048475eafd302ca638de3b4"
      }
     },
     "1729c6f1f40e49e9a3a59ff7ad387b1f": {
      "model_module": "@jupyter-widgets/base",
      "model_module_version": "1.2.0",
      "model_name": "LayoutModel",
      "state": {}
     },
     "1734e31da67f406b9f781c95311dc30f": {
      "model_module": "@jupyter-widgets/base",
      "model_module_version": "1.2.0",
      "model_name": "LayoutModel",
      "state": {}
     },
     "17353b9a157a45228592f4534ee5315d": {
      "model_module": "@jupyter-widgets/base",
      "model_module_version": "1.2.0",
      "model_name": "LayoutModel",
      "state": {
       "height": "30px",
       "width": "30px"
      }
     },
     "17677bed3db14a49973893f824c0e321": {
      "model_module": "jupyter-leaflet",
      "model_module_version": "^0.17",
      "model_name": "LeafletMapModel",
      "state": {
       "_model_module_version": "^0.17",
       "_view_module_version": "^0.17",
       "bottom": 639,
       "center": [
        25.005972656239187,
        117.33398437500001
       ],
       "controls": [
        "IPY_MODEL_193dfee0a66c49c4a1ba2750303dfdce",
        "IPY_MODEL_480595fe35ae4816bb39c6260850d2f1"
       ],
       "default_style": "IPY_MODEL_32eefadd40654f8285ce1e9892d5869c",
       "dragging_style": "IPY_MODEL_34eaee65afd6418aa76c969cc2b361f9",
       "east": 287.57812500000006,
       "fullscreen": false,
       "interpolation": "nearest",
       "layers": [
        "IPY_MODEL_b7693ca93b854b02b6252b2f401cce1e"
       ],
       "layout": "IPY_MODEL_e3d07926d06e403391c25c06b76ba6a5",
       "left": 361,
       "modisdate": "2023-07-11",
       "north": 68.78414378041504,
       "options": [
        "bounce_at_zoom_limits",
        "box_zoom",
        "center",
        "close_popup_on_click",
        "double_click_zoom",
        "dragging",
        "fullscreen",
        "inertia",
        "inertia_deceleration",
        "inertia_max_speed",
        "interpolation",
        "keyboard",
        "keyboard_pan_offset",
        "keyboard_zoom_offset",
        "max_zoom",
        "min_zoom",
        "prefer_canvas",
        "scroll_wheel_zoom",
        "tap",
        "tap_tolerance",
        "touch_zoom",
        "world_copy_jump",
        "zoom",
        "zoom_animation_threshold",
        "zoom_delta",
        "zoom_snap"
       ],
       "prefer_canvas": false,
       "right": 1330,
       "south": -40.713955826286046,
       "style": "IPY_MODEL_32eefadd40654f8285ce1e9892d5869c",
       "top": 239,
       "west": -53.08593750000001,
       "window_url": "http://localhost:8888/notebooks/js/xarray-leaflet.ipynb#",
       "zoom": 2
      }
     },
     "17704e7730624708b0f67aa141a24da5": {
      "model_module": "@jupyter-widgets/controls",
      "model_module_version": "1.5.0",
      "model_name": "FloatSliderModel",
      "state": {
       "description": "opacity",
       "layout": "IPY_MODEL_cd21e9bbc03940088e8eb151aa02c343",
       "max": 1,
       "step": 0.1,
       "style": "IPY_MODEL_b9a373dc3d0c45a39e9085e882316fbf",
       "value": 1
      }
     },
     "17763a9adcc84e77968a0c7d4bbc07d7": {
      "model_module": "jupyter-leaflet",
      "model_module_version": "^0.12.6",
      "model_name": "LeafletLocalTileLayerModel",
      "state": {
       "_model_module_version": "^0.12.6",
       "_view_module_version": "^0.12.6",
       "max_native_zoom": 18,
       "min_native_zoom": 0,
       "options": [
        "attribution",
        "detect_retina",
        "max_native_zoom",
        "max_zoom",
        "min_native_zoom",
        "min_zoom",
        "no_wrap",
        "tile_size",
        "tms"
       ],
       "path": "./xarray_leaflet_tiles/tmpqijqcq_f/{z}/{x}/{y}.png"
      }
     },
     "177af9087b894d0eb0f61e53e13e6789": {
      "model_module": "jupyter-leaflet",
      "model_module_version": "^0.12.6",
      "model_name": "LeafletTileLayerModel",
      "state": {
       "_model_module_version": "^0.12.6",
       "_view_module_version": "^0.12.6",
       "attribution": "&copy; <a href=\"http://www.openstreetmap.org/copyright\">OpenStreetMap</a> &copy; <a href=\"http://cartodb.com/attributions\">CartoDB</a>",
       "base": true,
       "max_native_zoom": 18,
       "max_zoom": 20,
       "min_native_zoom": 0,
       "min_zoom": 1,
       "name": "CartoDB.Positron",
       "options": [
        "attribution",
        "detect_retina",
        "max_native_zoom",
        "max_zoom",
        "min_native_zoom",
        "min_zoom",
        "no_wrap",
        "tile_size",
        "tms"
       ],
       "url": "http://c.basemaps.cartocdn.com/light_all/{z}/{x}/{y}.png"
      }
     },
     "1785965d7f4149f0b9838e5abf571413": {
      "model_module": "jupyter-leaflet",
      "model_module_version": "^0.17",
      "model_name": "LeafletTileLayerModel",
      "state": {
       "_model_module_version": "^0.17",
       "_view_module_version": "^0.17",
       "attribution": "&copy; <a href=\"https://www.openstreetmap.org/copyright\">OpenStreetMap</a> contributors &copy; <a href=\"https://carto.com/attributions\">CARTO</a>",
       "base": true,
       "max_zoom": 20,
       "min_zoom": 1,
       "name": "CartoDB.Positron",
       "options": [
        "attribution",
        "bounds",
        "detect_retina",
        "max_native_zoom",
        "max_zoom",
        "min_native_zoom",
        "min_zoom",
        "no_wrap",
        "tile_size",
        "tms",
        "zoom_offset"
       ],
       "url": "https://a.basemaps.cartocdn.com/light_all/{z}/{x}/{y}.png"
      }
     },
     "17cb25c695ed4859a9329c3873801388": {
      "model_module": "jupyter-leaflet",
      "model_module_version": "^0.17",
      "model_name": "LeafletAttributionControlModel",
      "state": {
       "_model_module_version": "^0.17",
       "_view_module_version": "^0.17",
       "options": [
        "position",
        "prefix"
       ],
       "position": "bottomright",
       "prefix": "ipyleaflet"
      }
     },
     "17e030a015864570b66ccd9a0b0fe3b1": {
      "model_module": "@jupyter-widgets/base",
      "model_module_version": "1.2.0",
      "model_name": "LayoutModel",
      "state": {}
     },
     "182a0e0b9f544787b2eb37df13829b5c": {
      "model_module": "jupyter-leaflet",
      "model_module_version": "^0.12.6",
      "model_name": "LeafletMapStyleModel",
      "state": {
       "_model_module_version": "^0.12.6"
      }
     },
     "184d464cafe14dc4be15eafc5836f630": {
      "model_module": "jupyter-leaflet",
      "model_module_version": "^0.12.6",
      "model_name": "LeafletMapStyleModel",
      "state": {
       "_model_module_version": "^0.12.6",
       "cursor": "move"
      }
     },
     "18d0d5b53e9f499da0969a9a9490fb3c": {
      "model_module": "@jupyter-widgets/base",
      "model_module_version": "1.2.0",
      "model_name": "LayoutModel",
      "state": {}
     },
     "1926c74d1a2e47199201ae5fa86bee7e": {
      "model_module": "jupyter-leaflet",
      "model_module_version": "^0.12.6",
      "model_name": "LeafletMapStyleModel",
      "state": {
       "_model_module_version": "^0.12.6"
      }
     },
     "19295a705b3540a0bacbdf1e5b4e0a21": {
      "model_module": "jupyter-leaflet",
      "model_module_version": "^0.12.6",
      "model_name": "LeafletAttributionControlModel",
      "state": {
       "_model_module_version": "^0.12.6",
       "_view_module_version": "^0.12.6",
       "options": [
        "position",
        "prefix"
       ],
       "position": "bottomright",
       "prefix": "Leaflet"
      }
     },
     "193dfee0a66c49c4a1ba2750303dfdce": {
      "model_module": "jupyter-leaflet",
      "model_module_version": "^0.17",
      "model_name": "LeafletZoomControlModel",
      "state": {
       "_model_module_version": "^0.17",
       "_view_module_version": "^0.17",
       "options": [
        "position",
        "zoom_in_text",
        "zoom_in_title",
        "zoom_out_text",
        "zoom_out_title"
       ]
      }
     },
     "1aa0cd61865847c48943fa9c444ffb77": {
      "model_module": "@jupyter-widgets/controls",
      "model_module_version": "1.5.0",
      "model_name": "BoxModel",
      "state": {
       "children": [
        "IPY_MODEL_d8bed7e75e00454eae3abf5bce4eca30"
       ],
       "layout": "IPY_MODEL_9731092c7e92430cadf32ec5351219ba"
      }
     },
     "1b197a6e8c894648876b8820c2c6db78": {
      "model_module": "ipyurl",
      "model_module_version": "^0.1.2",
      "model_name": "UrlModel",
      "state": {
       "_model_module_version": "^0.1.2",
       "_view_module_version": "^0.1.2",
       "layout": "IPY_MODEL_1729c6f1f40e49e9a3a59ff7ad387b1f"
      }
     },
     "1b238359e36b4634b4e28f162bedaeec": {
      "model_module": "jupyter-leaflet",
      "model_module_version": "^0.12.6",
      "model_name": "LeafletAttributionControlModel",
      "state": {
       "_model_module_version": "^0.12.6",
       "_view_module_version": "^0.12.6",
       "options": [
        "position",
        "prefix"
       ],
       "position": "bottomright",
       "prefix": "Leaflet"
      }
     },
     "1bd56a85b6ef47cfb5a2998b23db1041": {
      "model_module": "@jupyter-widgets/base",
      "model_module_version": "1.2.0",
      "model_name": "LayoutModel",
      "state": {}
     },
     "1c59a78edfb642d2bc50e1503ded38df": {
      "model_module": "jupyter-leaflet",
      "model_module_version": "^0.12.6",
      "model_name": "LeafletZoomControlModel",
      "state": {
       "_model_module_version": "^0.12.6",
       "_view_module_version": "^0.12.6",
       "options": [
        "position",
        "zoom_in_text",
        "zoom_in_title",
        "zoom_out_text",
        "zoom_out_title"
       ]
      }
     },
     "1cd87ab8e36e450897c9cca558774356": {
      "model_module": "@jupyter-widgets/controls",
      "model_module_version": "1.5.0",
      "model_name": "SliderStyleModel",
      "state": {
       "description_width": ""
      }
     },
     "1d13cc99c9104b6389154c7712d249c9": {
      "model_module": "jupyter-leaflet",
      "model_module_version": "^0.17",
      "model_name": "LeafletDrawControlModel",
      "state": {
       "_model_module_version": "^0.17",
       "_view_module_version": "^0.17",
       "options": [
        "position"
       ],
       "polygon": {},
       "polyline": {},
       "rectangle": {
        "shapeOptions": {
         "clickable": true,
         "color": "#3388ff",
         "fill": true,
         "fillColor": null,
         "fillOpacity": 0.5,
         "opacity": 0.5,
         "stroke": true,
         "weight": 4
        }
       }
      }
     },
     "1d9e063cb36446328863d3eb7076d532": {
      "model_module": "@jupyter-widgets/base",
      "model_module_version": "1.2.0",
      "model_name": "LayoutModel",
      "state": {}
     },
     "1da846caf1f14e2ea396693476345883": {
      "model_module": "@jupyter-widgets/controls",
      "model_module_version": "1.5.0",
      "model_name": "BoxModel",
      "state": {
       "children": [
        "IPY_MODEL_5588a3175cde4aa1b05ed3aca59fcfdc"
       ],
       "layout": "IPY_MODEL_8a62049d6b354901a8a59c10c8d40f84"
      }
     },
     "1db3da6440284b7281be2b902c461dd1": {
      "model_module": "jupyter-leaflet",
      "model_module_version": "^0.12.6",
      "model_name": "LeafletZoomControlModel",
      "state": {
       "_model_module_version": "^0.12.6",
       "_view_module_version": "^0.12.6",
       "options": [
        "position",
        "zoom_in_text",
        "zoom_in_title",
        "zoom_out_text",
        "zoom_out_title"
       ]
      }
     },
     "1e5d9d812a434c3eaf0493e7bc278b3a": {
      "model_module": "jupyter-leaflet",
      "model_module_version": "^0.17",
      "model_name": "LeafletZoomControlModel",
      "state": {
       "_model_module_version": "^0.17",
       "_view_module_version": "^0.17",
       "options": [
        "position",
        "zoom_in_text",
        "zoom_in_title",
        "zoom_out_text",
        "zoom_out_title"
       ]
      }
     },
     "1ebf4c6d34054248b58162f9ba910b1c": {
      "model_module": "jupyter-leaflet",
      "model_module_version": "^0.17",
      "model_name": "LeafletMapStyleModel",
      "state": {
       "_model_module_version": "^0.17",
       "cursor": "move"
      }
     },
     "1f9cf22b274d4c738621b4c0f5365e71": {
      "model_module": "jupyter-leaflet",
      "model_module_version": "^0.17",
      "model_name": "LeafletLayersControlModel",
      "state": {
       "_model_module_version": "^0.17",
       "_view_module_version": "^0.17",
       "options": [
        "position"
       ],
       "position": "topright"
      }
     },
     "1fed352667454f93b51be7dc4c51ee9d": {
      "model_module": "@jupyter-widgets/base",
      "model_module_version": "1.2.0",
      "model_name": "LayoutModel",
      "state": {}
     },
     "1ff367243cad49ad9db3b3734baa85df": {
      "model_module": "jupyter-leaflet",
      "model_module_version": "^0.17",
      "model_name": "LeafletAttributionControlModel",
      "state": {
       "_model_module_version": "^0.17",
       "_view_module_version": "^0.17",
       "options": [
        "position",
        "prefix"
       ],
       "position": "bottomright",
       "prefix": "ipyleaflet"
      }
     },
     "2090c56daf074488b0cdaa1c675f9c50": {
      "model_module": "jupyter-leaflet",
      "model_module_version": "^0.12.6",
      "model_name": "LeafletLocalTileLayerModel",
      "state": {
       "_model_module_version": "^0.12.6",
       "_view_module_version": "^0.12.6",
       "max_native_zoom": 18,
       "min_native_zoom": 0,
       "options": [
        "attribution",
        "detect_retina",
        "max_native_zoom",
        "max_zoom",
        "min_native_zoom",
        "min_zoom",
        "no_wrap",
        "tile_size",
        "tms"
       ],
       "path": "./xarray_leaflet_tiles/tmpemsgkg4m/{z}/{x}/{y}.png"
      }
     },
     "20e46d1030c547ada8f44eae38faf749": {
      "model_module": "jupyter-leaflet",
      "model_module_version": "^0.12.6",
      "model_name": "LeafletMapStyleModel",
      "state": {
       "_model_module_version": "^0.12.6",
       "cursor": "move"
      }
     },
     "214cdfaed19e498c8c05bc3f3910bc14": {
      "model_module": "jupyter-leaflet",
      "model_module_version": "^0.17",
      "model_name": "LeafletMapStyleModel",
      "state": {
       "_model_module_version": "^0.17",
       "cursor": "move"
      }
     },
     "215dc1f0447945cfb960c506a890af51": {
      "model_module": "jupyter-leaflet",
      "model_module_version": "^0.17",
      "model_name": "LeafletMapStyleModel",
      "state": {
       "_model_module_version": "^0.17",
       "cursor": "move"
      }
     },
     "21e844aff9b4445f9e72a31b5e2ad14d": {
      "model_module": "jupyter-leaflet",
      "model_module_version": "^0.17",
      "model_name": "LeafletWidgetControlModel",
      "state": {
       "_model_module": "jupyter-leaflet",
       "_model_module_version": "^0.17",
       "_view_count": null,
       "_view_module": "jupyter-leaflet",
       "_view_module_version": "^0.17",
       "options": [
        "position",
        "transparent_bg"
       ],
       "position": "bottomright",
       "widget": "IPY_MODEL_0a3e544238134ddcb4e1869c96c3b124"
      }
     },
     "223e3a901fa5492785754b5444fc618f": {
      "model_module": "jupyter-leaflet",
      "model_module_version": "^0.12.6",
      "model_name": "LeafletMapModel",
      "state": {
       "_model_module_version": "^0.12.6",
       "_view_module_version": "^0.12.6",
       "center": [
        -20,
        -60
       ],
       "controls": [
        "IPY_MODEL_1c59a78edfb642d2bc50e1503ded38df",
        "IPY_MODEL_ff8b2b0f1b7943c98f9dc19d3241dccb"
       ],
       "default_style": "IPY_MODEL_7586e4e48c2e4911a870ad2b07e2d8e3",
       "dragging_style": "IPY_MODEL_20e46d1030c547ada8f44eae38faf749",
       "east": 26.367187500000004,
       "fullscreen": false,
       "interpolation": "bilinear",
       "layers": [
        "IPY_MODEL_fd13e6df6fbc4c93964a8d79374109ca"
       ],
       "layout": "IPY_MODEL_69f5b9d10e5b4bb786a2ae8a7d72fe95",
       "modisdate": "yesterday",
       "north": 14.604847155053898,
       "options": [
        "bounce_at_zoom_limits",
        "box_zoom",
        "center",
        "close_popup_on_click",
        "double_click_zoom",
        "dragging",
        "fullscreen",
        "inertia",
        "inertia_deceleration",
        "inertia_max_speed",
        "interpolation",
        "keyboard",
        "keyboard_pan_offset",
        "keyboard_zoom_offset",
        "max_zoom",
        "min_zoom",
        "scroll_wheel_zoom",
        "tap",
        "tap_tolerance",
        "touch_zoom",
        "world_copy_jump",
        "zoom",
        "zoom_animation_threshold",
        "zoom_start"
       ],
       "south": -48.45835188280866,
       "style": "IPY_MODEL_e02a2a94ada14a62867936f61e7c31e1",
       "west": -146.25000000000003,
       "window_url": "http://localhost:8888/notebooks/js/xarray-leaflet.ipynb",
       "zoom": 3
      }
     },
     "2331330dd28644c7b02de498696ed77e": {
      "model_module": "@jupyter-widgets/controls",
      "model_module_version": "1.5.0",
      "model_name": "FloatSliderModel",
      "state": {
       "description": "opacity",
       "layout": "IPY_MODEL_9b5aa6c709c84461a05f942af5b982c6",
       "max": 1,
       "step": 0.1,
       "style": "IPY_MODEL_c5434c782c07423ca8cf421c1211931c",
       "value": 1
      }
     },
     "23581d67ea954e22bacd39d540869087": {
      "model_module": "jupyter-leaflet",
      "model_module_version": "^0.12.6",
      "model_name": "LeafletLocalTileLayerModel",
      "state": {
       "_model_module_version": "^0.12.6",
       "_view_module_version": "^0.12.6",
       "max_native_zoom": 18,
       "min_native_zoom": 0,
       "opacity": 0.9,
       "options": [
        "attribution",
        "detect_retina",
        "max_native_zoom",
        "max_zoom",
        "min_native_zoom",
        "min_zoom",
        "no_wrap",
        "tile_size",
        "tms"
       ],
       "path": "/tiles/var/folders/f8/0034db6d78s5r6m34fxhpk7m0000gp/T/xarray_leaflet_vdt67ain/{z}/{x}/{y}.png",
       "url": "/tiles/var/folders/f8/0034db6d78s5r6m34fxhpk7m0000gp/T/xarray_leaflet_vdt67ain/{z}/{x}/{y}.png"
      }
     },
     "23dc4714d3ea4d6f9564796b6b6a87f1": {
      "model_module": "jupyter-leaflet",
      "model_module_version": "^0.12.6",
      "model_name": "LeafletTileLayerModel",
      "state": {
       "_model_module_version": "^0.12.6",
       "_view_module_version": "^0.12.6",
       "attribution": "&copy; <a href=\"http://www.openstreetmap.org/copyright\">OpenStreetMap</a> &copy; <a href=\"http://cartodb.com/attributions\">CartoDB</a>",
       "base": true,
       "max_native_zoom": 18,
       "max_zoom": 20,
       "min_native_zoom": 0,
       "min_zoom": 1,
       "name": "CartoDB.DarkMatter",
       "options": [
        "attribution",
        "detect_retina",
        "max_native_zoom",
        "max_zoom",
        "min_native_zoom",
        "min_zoom",
        "no_wrap",
        "tile_size",
        "tms"
       ],
       "url": "http://c.basemaps.cartocdn.com/dark_all/{z}/{x}/{y}.png"
      }
     },
     "23e2db8c4af149988ceb72d70d9ae73f": {
      "model_module": "@jupyter-widgets/base",
      "model_module_version": "1.2.0",
      "model_name": "LayoutModel",
      "state": {}
     },
     "2498fc49dca54896a07ed83217f34ee1": {
      "model_module": "@jupyter-widgets/base",
      "model_module_version": "1.2.0",
      "model_name": "LayoutModel",
      "state": {}
     },
     "24c0c3245ab44a76a97fe0c609c3727b": {
      "model_module": "jupyter-leaflet",
      "model_module_version": "^0.12.6",
      "model_name": "LeafletMapStyleModel",
      "state": {
       "_model_module_version": "^0.12.6"
      }
     },
     "24c589c0840f43bb9dd8d19f57ac238e": {
      "model_module": "jupyter-leaflet",
      "model_module_version": "^0.17",
      "model_name": "LeafletDrawControlModel",
      "state": {
       "_model_module_version": "^0.17",
       "_view_module_version": "^0.17",
       "options": [
        "position"
       ],
       "polygon": {},
       "polyline": {},
       "rectangle": {
        "shapeOptions": {
         "clickable": true,
         "color": "#3388ff",
         "fill": true,
         "fillColor": null,
         "fillOpacity": 0.5,
         "opacity": 0.5,
         "stroke": true,
         "weight": 4
        }
       }
      }
     },
     "2523eb9d13924e61a8f36409a70fbfb7": {
      "model_module": "@jupyter-widgets/base",
      "model_module_version": "1.2.0",
      "model_name": "LayoutModel",
      "state": {
       "height": "30px",
       "width": "30px"
      }
     },
     "25899b78d57345fd9ea6c613deadac7e": {
      "model_module": "jupyter-leaflet",
      "model_module_version": "^0.17",
      "model_name": "LeafletMapStyleModel",
      "state": {
       "_model_module_version": "^0.17",
       "cursor": "move"
      }
     },
     "25ba3412c29d4a4bb2670c7e4fc872f3": {
      "model_module": "ipyurl",
      "model_module_version": "^0.1.2",
      "model_name": "UrlModel",
      "state": {
       "_model_module_version": "^0.1.2",
       "_view_module_version": "^0.1.2",
       "layout": "IPY_MODEL_0b8d5863ab5146dc884e52e19b6a71bf"
      }
     },
     "25f2c8556c7746a395ebc7eb89854aa3": {
      "model_module": "ipyspin",
      "model_module_version": "^1.0.0",
      "model_name": "SpinnerModel",
      "state": {
       "_model_module_version": "^1.0.0",
       "_view_module_version": "^1.0.0",
       "layout": "IPY_MODEL_ffe0cad9147c4fe6bc43a4228837e439",
       "length": 3,
       "lines": 8,
       "radius": 5,
       "width": 5,
       "window_url": "http://localhost:8888/notebooks/js/xarray-leaflet.ipynb#"
      }
     },
     "26525a4e2d3846aa8c263616ea1d7e49": {
      "model_module": "@jupyter-widgets/base",
      "model_module_version": "1.2.0",
      "model_name": "LayoutModel",
      "state": {}
     },
     "26a48a90dfda401bab463fcffc686468": {
      "model_module": "jupyter-leaflet",
      "model_module_version": "^0.17",
      "model_name": "LeafletWidgetControlModel",
      "state": {
       "_model_module": "jupyter-leaflet",
       "_model_module_version": "^0.17",
       "_view_count": null,
       "_view_module": "jupyter-leaflet",
       "_view_module_version": "^0.17",
       "options": [
        "position",
        "transparent_bg"
       ],
       "position": "bottomright",
       "widget": "IPY_MODEL_05c79ca6c2004305b46e6e338e763be1"
      }
     },
     "26d5f93ddc6c42af90a9a7cca3e50b2f": {
      "model_module": "ipyspin",
      "model_module_version": "^1.0.0",
      "model_name": "SpinnerModel",
      "state": {
       "_model_module_version": "^1.0.0",
       "_view_module_version": "^1.0.0",
       "layout": "IPY_MODEL_30939cbb89e744829d7fc8665fa52ad8",
       "length": 3,
       "lines": 8,
       "radius": 5,
       "width": 5,
       "window_url": "http://localhost:8888/notebooks/js/xarray-leaflet.ipynb#"
      }
     },
     "27690f8ebf794aeaab1e17fc3d5840a4": {
      "model_module": "jupyter-leaflet",
      "model_module_version": "^0.17",
      "model_name": "LeafletMapModel",
      "state": {
       "_model_module_version": "^0.17",
       "_view_module_version": "^0.17",
       "bottom": 602,
       "center": [
        35.999999999999034,
        25.49999999999842
       ],
       "controls": [
        "IPY_MODEL_64f48ece316d41d59783916daa7e8726",
        "IPY_MODEL_de8285c62bde4c62bf41ee114bc66f7a",
        "IPY_MODEL_814e69c1f67d409381c57c86afafe7ed",
        "IPY_MODEL_959c9d67623e4bb793c97c3e3fbe32bc",
        "IPY_MODEL_4468a4d7415947e39a80f6859a5e0d2d",
        "IPY_MODEL_fa824c626c304e33ab11421e2439111b"
       ],
       "default_style": "IPY_MODEL_e1e6ccb69b124f86910799f3fea46063",
       "dragging_style": "IPY_MODEL_214cdfaed19e498c8c05bc3f3910bc14",
       "east": 195.8203125,
       "fullscreen": false,
       "interpolation": "nearest",
       "layers": [
        "IPY_MODEL_7bff18945d5643718db91fd90ce0df1d"
       ],
       "layout": "IPY_MODEL_b91d9079893c4b2f83d1f3c275c3efca",
       "left": 100,
       "modisdate": "2023-07-11",
       "north": 73.02259157147301,
       "options": [
        "bounce_at_zoom_limits",
        "box_zoom",
        "center",
        "close_popup_on_click",
        "double_click_zoom",
        "dragging",
        "fullscreen",
        "inertia",
        "inertia_deceleration",
        "inertia_max_speed",
        "interpolation",
        "keyboard",
        "keyboard_pan_offset",
        "keyboard_zoom_offset",
        "max_zoom",
        "min_zoom",
        "prefer_canvas",
        "scroll_wheel_zoom",
        "tap",
        "tap_tolerance",
        "touch_zoom",
        "world_copy_jump",
        "zoom",
        "zoom_animation_threshold",
        "zoom_delta",
        "zoom_snap"
       ],
       "prefer_canvas": false,
       "right": 1069,
       "south": -30.145127183376115,
       "style": "IPY_MODEL_e1e6ccb69b124f86910799f3fea46063",
       "top": 202,
       "west": -144.84375000000003,
       "window_url": "http://localhost:8888/notebooks/js/xarray-leaflet.ipynb#",
       "zoom": 2
      }
     },
     "276b0bd32a7e4ad7b2f7e2946b6aa643": {
      "model_module": "jupyter-leaflet",
      "model_module_version": "^0.17",
      "model_name": "LeafletLocalTileLayerModel",
      "state": {
       "_model_module_version": "^0.17",
       "_view_module_version": "^0.17",
       "name": "DEM",
       "opacity": 0.4,
       "options": [
        "attribution",
        "bounds",
        "detect_retina",
        "max_native_zoom",
        "max_zoom",
        "min_native_zoom",
        "min_zoom",
        "no_wrap",
        "tile_size",
        "tms",
        "zoom_offset"
       ]
      }
     },
     "276cc17e213a4738891392b4c3bd4f16": {
      "model_module": "jupyter-leaflet",
      "model_module_version": "^0.12.6",
      "model_name": "LeafletTileLayerModel",
      "state": {
       "_model_module_version": "^0.12.6",
       "_view_module_version": "^0.12.6",
       "attribution": "&copy; <a href=\"http://www.openstreetmap.org/copyright\">OpenStreetMap</a> &copy; <a href=\"http://cartodb.com/attributions\">CartoDB</a>",
       "base": true,
       "max_native_zoom": 18,
       "max_zoom": 20,
       "min_native_zoom": 0,
       "min_zoom": 1,
       "name": "CartoDB.DarkMatter",
       "options": [
        "attribution",
        "detect_retina",
        "max_native_zoom",
        "max_zoom",
        "min_native_zoom",
        "min_zoom",
        "no_wrap",
        "tile_size",
        "tms"
       ],
       "url": "http://c.basemaps.cartocdn.com/dark_all/{z}/{x}/{y}.png"
      }
     },
     "2797726f18554ea289465abbc7faec11": {
      "model_module": "jupyter-leaflet",
      "model_module_version": "^0.17",
      "model_name": "LeafletLocalTileLayerModel",
      "state": {
       "_model_module_version": "^0.17",
       "_view_module_version": "^0.17",
       "name": "DEM",
       "options": [
        "attribution",
        "bounds",
        "detect_retina",
        "max_native_zoom",
        "max_zoom",
        "min_native_zoom",
        "min_zoom",
        "no_wrap",
        "tile_size",
        "tms",
        "zoom_offset"
       ]
      }
     },
     "27a318c7c8a446eb9b6b7b798e287831": {
      "model_module": "@jupyter-widgets/controls",
      "model_module_version": "1.5.0",
      "model_name": "FloatSliderModel",
      "state": {
       "description": "opacity",
       "layout": "IPY_MODEL_0be040fa6b414b23b0fbfa383f52d6ce",
       "max": 1,
       "step": 0.1,
       "style": "IPY_MODEL_b92dcffa0294435286c7c62a11032cf6",
       "value": 1
      }
     },
     "27e7e504defc442396282508050674ee": {
      "model_module": "@jupyter-widgets/base",
      "model_module_version": "1.2.0",
      "model_name": "LayoutModel",
      "state": {}
     },
     "27fd9d6602bd46f7b56c8974881a5939": {
      "model_module": "jupyter-leaflet",
      "model_module_version": "^0.17",
      "model_name": "LeafletMapStyleModel",
      "state": {
       "_model_module_version": "^0.17"
      }
     },
     "28202d314d0244ec86ce633674f4207c": {
      "model_module": "jupyter-leaflet",
      "model_module_version": "^0.12.6",
      "model_name": "LeafletLocalTileLayerModel",
      "state": {
       "_model_module_version": "^0.12.6",
       "_view_module_version": "^0.12.6",
       "max_native_zoom": 18,
       "min_native_zoom": 0,
       "options": [
        "attribution",
        "detect_retina",
        "max_native_zoom",
        "max_zoom",
        "min_native_zoom",
        "min_zoom",
        "no_wrap",
        "tile_size",
        "tms"
       ],
       "path": "./xarray_leaflet_tiles/tmpu37v10hv/{z}/{x}/{y}.png",
       "url": "./xarray_leaflet_tiles/tmpu37v10hv/{z}/{x}/{y}.png"
      }
     },
     "28909e0b2edd4f1ab7c0aefc211493b5": {
      "model_module": "jupyter-leaflet",
      "model_module_version": "^0.12.6",
      "model_name": "LeafletMapModel",
      "state": {
       "_model_module_version": "^0.12.6",
       "_view_module_version": "^0.12.6",
       "center": [
        -20,
        -60
       ],
       "controls": [
        "IPY_MODEL_ed6fc955b37341ef9efa82806f2b3975",
        "IPY_MODEL_4b7db59edd53494e9e9b05a11f64466b"
       ],
       "default_style": "IPY_MODEL_1926c74d1a2e47199201ae5fa86bee7e",
       "dragging_style": "IPY_MODEL_49f88df6e69040679d67aae0d9e66091",
       "east": 26.367187500000004,
       "fullscreen": false,
       "interpolation": "bilinear",
       "layers": [
        "IPY_MODEL_8fed9900147b4d84b2f944ab19b065f8"
       ],
       "layout": "IPY_MODEL_ff2f5953bbe2406bb74b5b45952e65f0",
       "modisdate": "yesterday",
       "north": 14.604847155053898,
       "options": [
        "bounce_at_zoom_limits",
        "box_zoom",
        "center",
        "close_popup_on_click",
        "double_click_zoom",
        "dragging",
        "fullscreen",
        "inertia",
        "inertia_deceleration",
        "inertia_max_speed",
        "interpolation",
        "keyboard",
        "keyboard_pan_offset",
        "keyboard_zoom_offset",
        "max_zoom",
        "min_zoom",
        "scroll_wheel_zoom",
        "tap",
        "tap_tolerance",
        "touch_zoom",
        "world_copy_jump",
        "zoom",
        "zoom_animation_threshold",
        "zoom_start"
       ],
       "south": -48.45835188280866,
       "style": "IPY_MODEL_e659afc000fc44d598eb1344d70f9162",
       "west": -146.25000000000003,
       "window_url": "http://localhost:8888/notebooks/js/xarray-leaflet.ipynb",
       "zoom": 3
      }
     },
     "28c770d37c0a48e58434ca604118e9b8": {
      "model_module": "@jupyter-widgets/base",
      "model_module_version": "1.2.0",
      "model_name": "LayoutModel",
      "state": {
       "height": "30px",
       "width": "30px"
      }
     },
     "28d084231ccf43d89e29b8fc5ad94f98": {
      "model_module": "jupyter-leaflet",
      "model_module_version": "^0.12.6",
      "model_name": "LeafletTileLayerModel",
      "state": {
       "_model_module_version": "^0.12.6",
       "_view_module_version": "^0.12.6",
       "attribution": "&copy; <a href=\"http://www.openstreetmap.org/copyright\">OpenStreetMap</a> &copy; <a href=\"http://cartodb.com/attributions\">CartoDB</a>",
       "base": true,
       "max_native_zoom": 18,
       "max_zoom": 20,
       "min_native_zoom": 0,
       "min_zoom": 1,
       "name": "CartoDB.Positron",
       "options": [
        "attribution",
        "detect_retina",
        "max_native_zoom",
        "max_zoom",
        "min_native_zoom",
        "min_zoom",
        "no_wrap",
        "tile_size",
        "tms"
       ],
       "url": "http://c.basemaps.cartocdn.com/light_all/{z}/{x}/{y}.png"
      }
     },
     "291ec9ce15344ea9ae38c744bfdb9d4e": {
      "model_module": "jupyter-leaflet",
      "model_module_version": "^0.17",
      "model_name": "LeafletMapStyleModel",
      "state": {
       "_model_module_version": "^0.17",
       "cursor": "move"
      }
     },
     "29997e024ad74ec699b20b2c6efffaee": {
      "model_module": "jupyter-leaflet",
      "model_module_version": "^0.17",
      "model_name": "LeafletZoomControlModel",
      "state": {
       "_model_module_version": "^0.17",
       "_view_module_version": "^0.17",
       "options": [
        "position",
        "zoom_in_text",
        "zoom_in_title",
        "zoom_out_text",
        "zoom_out_title"
       ]
      }
     },
     "29b508afaa594db3ac855c6db2c35e73": {
      "model_module": "jupyter-leaflet",
      "model_module_version": "^0.12.6",
      "model_name": "LeafletMapModel",
      "state": {
       "_model_module_version": "^0.12.6",
       "_view_module_version": "^0.12.6",
       "center": [
        48.00071985148475,
        7.86174774169922
       ],
       "controls": [
        "IPY_MODEL_d8ccddc591e24ebe935eba351dcf1369",
        "IPY_MODEL_cea646f01c3040ad973abb965cfce58e"
       ],
       "default_style": "IPY_MODEL_c57c7f3582d14eb59fe85df84037396b",
       "dragging_style": "IPY_MODEL_09b268ef31d448fb80c497affad06554",
       "east": 7.946033477783204,
       "fullscreen": false,
       "interpolation": "bilinear",
       "layers": [
        "IPY_MODEL_9d713a4b5a2b462395b15833759ee95c",
        "IPY_MODEL_eebce7cf31774a09b2f775f08fc096d1"
       ],
       "layout": "IPY_MODEL_c21fed95103942d38e2ea86465f60225",
       "modisdate": "yesterday",
       "north": 48.02368719244276,
       "options": [
        "bounce_at_zoom_limits",
        "box_zoom",
        "center",
        "close_popup_on_click",
        "double_click_zoom",
        "dragging",
        "fullscreen",
        "inertia",
        "inertia_deceleration",
        "inertia_max_speed",
        "interpolation",
        "keyboard",
        "keyboard_pan_offset",
        "keyboard_zoom_offset",
        "max_zoom",
        "min_zoom",
        "scroll_wheel_zoom",
        "tap",
        "tap_tolerance",
        "touch_zoom",
        "world_copy_jump",
        "zoom",
        "zoom_animation_threshold",
        "zoom_start"
       ],
       "south": 47.977742280760104,
       "style": "IPY_MODEL_c57c7f3582d14eb59fe85df84037396b",
       "west": 7.777462005615235,
       "window_url": "http://localhost:8888/notebooks/js/xarray-leaflet.ipynb",
       "zoom": 13
      }
     },
     "2a67dcb986cd48bda02e4c5e20fc755b": {
      "model_module": "jupyter-leaflet",
      "model_module_version": "^0.17",
      "model_name": "LeafletMapStyleModel",
      "state": {
       "_model_module_version": "^0.17",
       "cursor": "move"
      }
     },
     "2aa4c1867c08464483c9cea2d408855a": {
      "model_module": "jupyter-leaflet",
      "model_module_version": "^0.17",
      "model_name": "LeafletZoomControlModel",
      "state": {
       "_model_module_version": "^0.17",
       "_view_module_version": "^0.17",
       "options": [
        "position",
        "zoom_in_text",
        "zoom_in_title",
        "zoom_out_text",
        "zoom_out_title"
       ]
      }
     },
     "2b7d3dbbe6274a84bc4fc3438152f3e7": {
      "model_module": "jupyter-leaflet",
      "model_module_version": "^0.17",
      "model_name": "LeafletTileLayerModel",
      "state": {
       "_model_module_version": "^0.17",
       "_view_module_version": "^0.17",
       "attribution": "&copy; <a href=\"https://www.openstreetmap.org/copyright\">OpenStreetMap</a> contributors &copy; <a href=\"https://carto.com/attributions\">CARTO</a>",
       "base": true,
       "max_zoom": 20,
       "min_zoom": 1,
       "name": "CartoDB.Positron",
       "options": [
        "attribution",
        "bounds",
        "detect_retina",
        "max_native_zoom",
        "max_zoom",
        "min_native_zoom",
        "min_zoom",
        "no_wrap",
        "tile_size",
        "tms",
        "zoom_offset"
       ],
       "url": "https://a.basemaps.cartocdn.com/light_all/{z}/{x}/{y}.png"
      }
     },
     "2be889a018334c5fb42badc7360f96df": {
      "model_module": "jupyter-leaflet",
      "model_module_version": "^0.17",
      "model_name": "LeafletLocalTileLayerModel",
      "state": {
       "_model_module_version": "^0.17",
       "_view_module_version": "^0.17",
       "name": "DEM",
       "opacity": 0.1,
       "options": [
        "attribution",
        "bounds",
        "detect_retina",
        "max_native_zoom",
        "max_zoom",
        "min_native_zoom",
        "min_zoom",
        "no_wrap",
        "tile_size",
        "tms",
        "zoom_offset"
       ]
      }
     },
     "2c07c345dda24b1cac2755ea6fa15e51": {
      "model_module": "@jupyter-widgets/base",
      "model_module_version": "1.2.0",
      "model_name": "LayoutModel",
      "state": {}
     },
     "2c161986c8cd4c6ba7a4ae48e0946199": {
      "model_module": "@jupyter-widgets/controls",
      "model_module_version": "1.5.0",
      "model_name": "SliderStyleModel",
      "state": {
       "description_width": ""
      }
     },
     "2c22a2a1f0e54562a1cc6ab59af4c19b": {
      "model_module": "jupyter-leaflet",
      "model_module_version": "^0.17",
      "model_name": "LeafletLocalTileLayerModel",
      "state": {
       "_model_module_version": "^0.17",
       "_view_module_version": "^0.17",
       "name": "DEM",
       "options": [
        "attribution",
        "bounds",
        "detect_retina",
        "max_native_zoom",
        "max_zoom",
        "min_native_zoom",
        "min_zoom",
        "no_wrap",
        "tile_size",
        "tms",
        "zoom_offset"
       ]
      }
     },
     "2cb94d586fa442f88a5f6c9506790289": {
      "model_module": "ipyurl",
      "model_module_version": "^0.1.2",
      "model_name": "UrlModel",
      "state": {
       "_model_module_version": "^0.1.2",
       "_view_module_version": "^0.1.2",
       "layout": "IPY_MODEL_a1440fa2e965482b84724ca18c1870e3"
      }
     },
     "2d808df3511c4a398711617f1ab1230a": {
      "model_module": "@jupyter-widgets/base",
      "model_module_version": "1.2.0",
      "model_name": "LayoutModel",
      "state": {}
     },
     "2dc456b65c01404dbcbd749bee732e9c": {
      "model_module": "@jupyter-widgets/base",
      "model_module_version": "1.2.0",
      "model_name": "LayoutModel",
      "state": {}
     },
     "2dfa1387448e4891ac39783bf3c4a460": {
      "model_module": "jupyter-leaflet",
      "model_module_version": "^0.12.6",
      "model_name": "LeafletMapStyleModel",
      "state": {
       "_model_module_version": "^0.12.6",
       "cursor": "move"
      }
     },
     "2e57cdde05aa4aefa6bc72bb8bc452d6": {
      "model_module": "jupyter-leaflet",
      "model_module_version": "^0.17",
      "model_name": "LeafletTileLayerModel",
      "state": {
       "_model_module_version": "^0.17",
       "_view_module_version": "^0.17",
       "attribution": "&copy; <a href=\"https://www.openstreetmap.org/copyright\">OpenStreetMap</a> contributors &copy; <a href=\"https://carto.com/attributions\">CARTO</a>",
       "base": true,
       "max_zoom": 20,
       "min_zoom": 1,
       "name": "CartoDB.Positron",
       "options": [
        "attribution",
        "bounds",
        "detect_retina",
        "max_native_zoom",
        "max_zoom",
        "min_native_zoom",
        "min_zoom",
        "no_wrap",
        "tile_size",
        "tms",
        "zoom_offset"
       ],
       "url": "https://a.basemaps.cartocdn.com/light_all/{z}/{x}/{y}.png"
      }
     },
     "2f703c5e6ce9437f8f9a2b30a25ebf48": {
      "model_module": "jupyter-leaflet",
      "model_module_version": "^0.12.6",
      "model_name": "LeafletTileLayerModel",
      "state": {
       "_model_module_version": "^0.12.6",
       "_view_module_version": "^0.12.6",
       "attribution": "&copy; <a href=\"http://www.openstreetmap.org/copyright\">OpenStreetMap</a> &copy; <a href=\"http://cartodb.com/attributions\">CartoDB</a>",
       "base": true,
       "max_native_zoom": 18,
       "max_zoom": 20,
       "min_native_zoom": 0,
       "min_zoom": 1,
       "name": "CartoDB.DarkMatter",
       "options": [
        "attribution",
        "detect_retina",
        "max_native_zoom",
        "max_zoom",
        "min_native_zoom",
        "min_zoom",
        "no_wrap",
        "tile_size",
        "tms"
       ],
       "url": "http://c.basemaps.cartocdn.com/dark_all/{z}/{x}/{y}.png"
      }
     },
     "2f73db06b75b48d6b91e226d99c03f3f": {
      "model_module": "jupyter-leaflet",
      "model_module_version": "^0.17",
      "model_name": "LeafletLocalTileLayerModel",
      "state": {
       "_model_module_version": "^0.17",
       "_view_module_version": "^0.17",
       "name": "DEM",
       "options": [
        "attribution",
        "bounds",
        "detect_retina",
        "max_native_zoom",
        "max_zoom",
        "min_native_zoom",
        "min_zoom",
        "no_wrap",
        "tile_size",
        "tms",
        "zoom_offset"
       ]
      }
     },
     "2f741556764240608b8100b105b9990a": {
      "model_module": "jupyter-leaflet",
      "model_module_version": "^0.17",
      "model_name": "LeafletMapStyleModel",
      "state": {
       "_model_module_version": "^0.17",
       "cursor": "move"
      }
     },
     "2fa95978ec384245bc3935d0e89424c0": {
      "model_module": "jupyter-leaflet",
      "model_module_version": "^0.17",
      "model_name": "LeafletWidgetControlModel",
      "state": {
       "_model_module": "jupyter-leaflet",
       "_model_module_version": "^0.17",
       "_view_count": null,
       "_view_module": "jupyter-leaflet",
       "_view_module_version": "^0.17",
       "options": [
        "position",
        "transparent_bg"
       ],
       "position": "bottomright",
       "widget": "IPY_MODEL_ff89d3125f3149cea5596ad55ca8e55b"
      }
     },
     "301eaa1ab74b4c3f81993db3ea0d2a8e": {
      "model_module": "jupyter-leaflet",
      "model_module_version": "^0.17",
      "model_name": "LeafletMapStyleModel",
      "state": {
       "_model_module_version": "^0.17"
      }
     },
     "308ca8c2f0134735a1c63f14e357970e": {
      "model_module": "jupyter-leaflet",
      "model_module_version": "^0.17",
      "model_name": "LeafletMapModel",
      "state": {
       "_model_module_version": "^0.17",
       "_view_module_version": "^0.17",
       "bottom": 888,
       "center": [
        50.736455137010665,
        11.864880543236833
       ],
       "controls": [
        "IPY_MODEL_ebb3a72d61ac42f28380ec03feb5f139",
        "IPY_MODEL_70836597df244f7291c7c54c0a7de82e"
       ],
       "default_style": "IPY_MODEL_dae9f5c5859e4d5299349cc67d61fa5e",
       "dragging_style": "IPY_MODEL_6a3eacf49ee0475bbba4a4a3c5cd3d54",
       "east": 97.03089616823685,
       "fullscreen": false,
       "interpolation": "nearest",
       "layers": [
        "IPY_MODEL_37c16e43bf244c188377aff0d9505286"
       ],
       "layout": "IPY_MODEL_acaae1d34f9341ea9f21808b3a14b9b2",
       "left": 606.9979870904139,
       "modisdate": "2023-07-11",
       "north": 68.13885164925576,
       "options": [
        "bounce_at_zoom_limits",
        "box_zoom",
        "center",
        "close_popup_on_click",
        "double_click_zoom",
        "dragging",
        "fullscreen",
        "inertia",
        "inertia_deceleration",
        "inertia_max_speed",
        "interpolation",
        "keyboard",
        "keyboard_pan_offset",
        "keyboard_zoom_offset",
        "max_zoom",
        "min_zoom",
        "prefer_canvas",
        "scroll_wheel_zoom",
        "tap",
        "tap_tolerance",
        "touch_zoom",
        "world_copy_jump",
        "zoom",
        "zoom_animation_threshold",
        "zoom_delta",
        "zoom_snap"
       ],
       "prefer_canvas": false,
       "right": 1575.997987090414,
       "south": 23.241346102386135,
       "style": "IPY_MODEL_dae9f5c5859e4d5299349cc67d61fa5e",
       "top": 488,
       "west": -73.3011350817632,
       "window_url": "http://localhost:8888/notebooks/js/xarray-leaflet.ipynb#",
       "zoom": 3
      }
     },
     "30939cbb89e744829d7fc8665fa52ad8": {
      "model_module": "@jupyter-widgets/base",
      "model_module_version": "1.2.0",
      "model_name": "LayoutModel",
      "state": {
       "height": "30px",
       "width": "30px"
      }
     },
     "309b232f91284bb0a81b9e4a3434ca1f": {
      "model_module": "jupyter-leaflet",
      "model_module_version": "^0.17",
      "model_name": "LeafletMapStyleModel",
      "state": {
       "_model_module_version": "^0.17"
      }
     },
     "30c0a76bac41453893d49d207dbda68f": {
      "model_module": "ipyurl",
      "model_module_version": "^0.1.2",
      "model_name": "UrlModel",
      "state": {
       "_model_module_version": "^0.1.2",
       "_view_module_version": "^0.1.2",
       "layout": "IPY_MODEL_98f1635dbe4f41b88bca604653e86709"
      }
     },
     "30fce7c9e6a04aa3a1158b7659bf3f3e": {
      "model_module": "jupyter-leaflet",
      "model_module_version": "^0.17",
      "model_name": "LeafletMapStyleModel",
      "state": {
       "_model_module_version": "^0.17"
      }
     },
     "31265a8af080484ebc5be9c255ff3dfe": {
      "model_module": "jupyter-leaflet",
      "model_module_version": "^0.17",
      "model_name": "LeafletMapStyleModel",
      "state": {
       "_model_module_version": "^0.17"
      }
     },
     "312d317e9a534d798857b09c65824238": {
      "model_module": "jupyter-leaflet",
      "model_module_version": "^0.12.6",
      "model_name": "LeafletAttributionControlModel",
      "state": {
       "_model_module_version": "^0.12.6",
       "_view_module_version": "^0.12.6",
       "options": [
        "position",
        "prefix"
       ],
       "position": "bottomright",
       "prefix": "Leaflet"
      }
     },
     "31a06bbcbd29463e8d6902168c38457c": {
      "model_module": "jupyter-leaflet",
      "model_module_version": "^0.17",
      "model_name": "LeafletMapStyleModel",
      "state": {
       "_model_module_version": "^0.17",
       "cursor": "move"
      }
     },
     "31a8cc2b18ac4da89fe6b178cbd26624": {
      "model_module": "jupyter-leaflet",
      "model_module_version": "^0.12.6",
      "model_name": "LeafletLocalTileLayerModel",
      "state": {
       "_model_module_version": "^0.12.6",
       "_view_module_version": "^0.12.6",
       "max_native_zoom": 18,
       "min_native_zoom": 0,
       "options": [
        "attribution",
        "detect_retina",
        "max_native_zoom",
        "max_zoom",
        "min_native_zoom",
        "min_zoom",
        "no_wrap",
        "tile_size",
        "tms"
       ],
       "path": "/tiles/var/folders/f8/0034db6d78s5r6m34fxhpk7m0000gp/T/xarray_leaflet_dx2b83o4/{z}/{x}/{y}.png",
       "url": "/tiles/var/folders/f8/0034db6d78s5r6m34fxhpk7m0000gp/T/xarray_leaflet_dx2b83o4/{z}/{x}/{y}.png"
      }
     },
     "3220ccf74f2d428c9d0178447adcb6ec": {
      "model_module": "@jupyter-widgets/controls",
      "model_module_version": "1.5.0",
      "model_name": "SliderStyleModel",
      "state": {
       "description_width": ""
      }
     },
     "32bec7630f70427aac782f73126c3a2f": {
      "model_module": "@jupyter-widgets/controls",
      "model_module_version": "1.5.0",
      "model_name": "SliderStyleModel",
      "state": {
       "description_width": ""
      }
     },
     "32eefadd40654f8285ce1e9892d5869c": {
      "model_module": "jupyter-leaflet",
      "model_module_version": "^0.17",
      "model_name": "LeafletMapStyleModel",
      "state": {
       "_model_module_version": "^0.17"
      }
     },
     "332d5081334b4fd49503e1bc6a8fc92a": {
      "model_module": "jupyter-leaflet",
      "model_module_version": "^0.17",
      "model_name": "LeafletAttributionControlModel",
      "state": {
       "_model_module_version": "^0.17",
       "_view_module_version": "^0.17",
       "options": [
        "position",
        "prefix"
       ],
       "position": "bottomright",
       "prefix": "ipyleaflet"
      }
     },
     "3399c7e58c1648ac96ba57320cb4ed90": {
      "model_module": "@jupyter-widgets/base",
      "model_module_version": "1.2.0",
      "model_name": "LayoutModel",
      "state": {}
     },
     "33be0507972f4387851605e7e24c9d0e": {
      "model_module": "jupyter-leaflet",
      "model_module_version": "^0.17",
      "model_name": "LeafletMapStyleModel",
      "state": {
       "_model_module_version": "^0.17"
      }
     },
     "340c77b997424e84a5d046c222b14d5d": {
      "model_module": "jupyter-leaflet",
      "model_module_version": "^0.12.6",
      "model_name": "LeafletZoomControlModel",
      "state": {
       "_model_module_version": "^0.12.6",
       "_view_module_version": "^0.12.6",
       "options": [
        "position",
        "zoom_in_text",
        "zoom_in_title",
        "zoom_out_text",
        "zoom_out_title"
       ]
      }
     },
     "34348785f0ea4cfb9447342c7896d9da": {
      "model_module": "jupyter-leaflet",
      "model_module_version": "^0.17",
      "model_name": "LeafletLayersControlModel",
      "state": {
       "_model_module_version": "^0.17",
       "_view_module_version": "^0.17",
       "options": [
        "position"
       ],
       "position": "topright"
      }
     },
     "348ff7da0bb049649f3cbb6475e90861": {
      "model_module": "ipyspin",
      "model_module_version": "^1.0.0",
      "model_name": "SpinnerModel",
      "state": {
       "_model_module_version": "^1.0.0",
       "_view_module_version": "^1.0.0",
       "layout": "IPY_MODEL_8f95d3603d93404e8b7b992043e2ee26",
       "length": 3,
       "lines": 8,
       "radius": 5,
       "width": 5,
       "window_url": "http://localhost:8888/notebooks/js/xarray-leaflet.ipynb#"
      }
     },
     "34eaee65afd6418aa76c969cc2b361f9": {
      "model_module": "jupyter-leaflet",
      "model_module_version": "^0.17",
      "model_name": "LeafletMapStyleModel",
      "state": {
       "_model_module_version": "^0.17",
       "cursor": "move"
      }
     },
     "34eda5cb24bc44beaea14cf437cf4ec9": {
      "model_module": "@jupyter-widgets/controls",
      "model_module_version": "1.5.0",
      "model_name": "BoxModel",
      "state": {
       "children": [
        "IPY_MODEL_df31d504907243afb48ad616e02997b6"
       ],
       "layout": "IPY_MODEL_b7274221d44249ff80adc226eedd4060"
      }
     },
     "34fce42c6e5b4cdaaebe9feb09ac639a": {
      "model_module": "@jupyter-widgets/base",
      "model_module_version": "1.2.0",
      "model_name": "LayoutModel",
      "state": {}
     },
     "35179f95e8c0433dbb388b3f235715b0": {
      "model_module": "@jupyter-widgets/base",
      "model_module_version": "1.2.0",
      "model_name": "LayoutModel",
      "state": {}
     },
     "3534ba0a277e47ceaaa19e4f766a3ddd": {
      "model_module": "@jupyter-widgets/controls",
      "model_module_version": "1.5.0",
      "model_name": "SliderStyleModel",
      "state": {
       "description_width": ""
      }
     },
     "360165379e2a472e9cf87e1c96ca0264": {
      "model_module": "jupyter-leaflet",
      "model_module_version": "^0.17",
      "model_name": "LeafletMapStyleModel",
      "state": {
       "_model_module_version": "^0.17"
      }
     },
     "36074db0ed70470cbf86ef1824d7144c": {
      "model_module": "@jupyter-widgets/base",
      "model_module_version": "1.2.0",
      "model_name": "LayoutModel",
      "state": {}
     },
     "362c3cccb32a489bbc0caa0703afb6ac": {
      "model_module": "jupyter-leaflet",
      "model_module_version": "^0.17",
      "model_name": "LeafletTileLayerModel",
      "state": {
       "_model_module_version": "^0.17",
       "_view_module_version": "^0.17",
       "attribution": "&copy; <a href=\"https://www.openstreetmap.org/copyright\">OpenStreetMap</a> contributors &copy; <a href=\"https://carto.com/attributions\">CARTO</a>",
       "base": true,
       "max_zoom": 20,
       "min_zoom": 1,
       "name": "CartoDB.Positron",
       "options": [
        "attribution",
        "bounds",
        "detect_retina",
        "max_native_zoom",
        "max_zoom",
        "min_native_zoom",
        "min_zoom",
        "no_wrap",
        "tile_size",
        "tms",
        "zoom_offset"
       ],
       "url": "https://a.basemaps.cartocdn.com/light_all/{z}/{x}/{y}.png"
      }
     },
     "3647bef89f9c4647b12bd65ef387807c": {
      "model_module": "jupyter-leaflet",
      "model_module_version": "^0.17",
      "model_name": "LeafletWidgetControlModel",
      "state": {
       "_model_module": "jupyter-leaflet",
       "_model_module_version": "^0.17",
       "_view_count": null,
       "_view_module": "jupyter-leaflet",
       "_view_module_version": "^0.17",
       "options": [
        "position",
        "transparent_bg"
       ],
       "position": "bottomleft",
       "widget": "IPY_MODEL_efd81896ebac4a9780c4defb0bd2e1f0"
      }
     },
     "368742e07fcc47d5942516d665b34947": {
      "model_module": "jupyter-leaflet",
      "model_module_version": "^0.17",
      "model_name": "LeafletZoomControlModel",
      "state": {
       "_model_module_version": "^0.17",
       "_view_module_version": "^0.17",
       "options": [
        "position",
        "zoom_in_text",
        "zoom_in_title",
        "zoom_out_text",
        "zoom_out_title"
       ]
      }
     },
     "36a46161af5b431a8857e5ee9b0b966e": {
      "model_module": "ipyspin",
      "model_module_version": "^1.0.0",
      "model_name": "SpinnerModel",
      "state": {
       "_model_module_version": "^1.0.0",
       "_view_module_version": "^1.0.0",
       "layout": "IPY_MODEL_15c968c539814b058e9867432a864ee6",
       "length": 3,
       "lines": 8,
       "radius": 5,
       "width": 5,
       "window_url": "http://localhost:8888/notebooks/js/xarray-leaflet.ipynb#"
      }
     },
     "36ec15465ca14edf9d7b450614b10277": {
      "model_module": "@jupyter-widgets/controls",
      "model_module_version": "1.5.0",
      "model_name": "SliderStyleModel",
      "state": {
       "description_width": ""
      }
     },
     "37375ce723ed4c81ba1055d64fe6a094": {
      "model_module": "ipyurl",
      "model_module_version": "^0.1.2",
      "model_name": "UrlModel",
      "state": {
       "_model_module_version": "^0.1.2",
       "_view_module_version": "^0.1.2",
       "layout": "IPY_MODEL_7771a2a665a4448a99d65d5275cde6b6"
      }
     },
     "37c16e43bf244c188377aff0d9505286": {
      "model_module": "jupyter-leaflet",
      "model_module_version": "^0.17",
      "model_name": "LeafletTileLayerModel",
      "state": {
       "_model_module_version": "^0.17",
       "_view_module_version": "^0.17",
       "attribution": "&copy; <a href=\"https://www.openstreetmap.org/copyright\">OpenStreetMap</a> contributors &copy; <a href=\"https://carto.com/attributions\">CARTO</a>",
       "base": true,
       "max_zoom": 20,
       "min_zoom": 1,
       "name": "CartoDB.Positron",
       "options": [
        "attribution",
        "bounds",
        "detect_retina",
        "max_native_zoom",
        "max_zoom",
        "min_native_zoom",
        "min_zoom",
        "no_wrap",
        "tile_size",
        "tms",
        "zoom_offset"
       ],
       "url": "https://a.basemaps.cartocdn.com/light_all/{z}/{x}/{y}.png"
      }
     },
     "37fec627712445c2b193d025bce2e1b9": {
      "model_module": "@jupyter-widgets/base",
      "model_module_version": "1.2.0",
      "model_name": "LayoutModel",
      "state": {}
     },
     "38887138f8164776a71328635890a894": {
      "model_module": "@jupyter-widgets/controls",
      "model_module_version": "1.5.0",
      "model_name": "BoxModel",
      "state": {
       "children": [
        "IPY_MODEL_58b0698705b54b47906d8d63027403d8"
       ],
       "layout": "IPY_MODEL_c347827da1564330a8f98feb4db426c8"
      }
     },
     "3935945ecc3c4b4488a524b3560034d4": {
      "model_module": "ipyspin",
      "model_module_version": "^1.0.0",
      "model_name": "SpinnerModel",
      "state": {
       "_model_module_version": "^1.0.0",
       "_view_module_version": "^1.0.0",
       "layout": "IPY_MODEL_e8604c67679d439fb9a46fae682053d1",
       "length": 3,
       "lines": 8,
       "radius": 5,
       "width": 5,
       "window_url": "http://localhost:8888/notebooks/js/xarray-leaflet.ipynb#"
      }
     },
     "394a8a50a1d04d00b398da743ff572eb": {
      "model_module": "jupyter-leaflet",
      "model_module_version": "^0.17",
      "model_name": "LeafletTileLayerModel",
      "state": {
       "_model_module_version": "^0.17",
       "_view_module_version": "^0.17",
       "attribution": "&copy; <a href=\"https://www.openstreetmap.org/copyright\">OpenStreetMap</a> contributors &copy; <a href=\"https://carto.com/attributions\">CARTO</a>",
       "base": true,
       "max_zoom": 20,
       "min_zoom": 1,
       "name": "CartoDB.Positron",
       "options": [
        "attribution",
        "bounds",
        "detect_retina",
        "max_native_zoom",
        "max_zoom",
        "min_native_zoom",
        "min_zoom",
        "no_wrap",
        "tile_size",
        "tms",
        "zoom_offset"
       ],
       "url": "https://a.basemaps.cartocdn.com/light_all/{z}/{x}/{y}.png"
      }
     },
     "3a2dd59ce65141138c02f0e943c1de31": {
      "model_module": "jupyter-leaflet",
      "model_module_version": "^0.17",
      "model_name": "LeafletMapStyleModel",
      "state": {
       "_model_module_version": "^0.17"
      }
     },
     "3a4bae64cd484c1780ee93575eb1aadb": {
      "model_module": "@jupyter-widgets/controls",
      "model_module_version": "1.5.0",
      "model_name": "SliderStyleModel",
      "state": {
       "description_width": ""
      }
     },
     "3a951739c4644df2b7be2f7f89401904": {
      "model_module": "@jupyter-widgets/base",
      "model_module_version": "1.2.0",
      "model_name": "LayoutModel",
      "state": {}
     },
     "3b022f7705634b05afdec1e293b721e6": {
      "model_module": "jupyter-leaflet",
      "model_module_version": "^0.17",
      "model_name": "LeafletMapModel",
      "state": {
       "_model_module_version": "^0.17",
       "_view_module_version": "^0.17",
       "center": [
        40.04443758460859,
        115.13671875
       ],
       "controls": [
        "IPY_MODEL_29997e024ad74ec699b20b2c6efffaee",
        "IPY_MODEL_58a29dbb1bcc432a952f523a17e9b654"
       ],
       "default_style": "IPY_MODEL_f2915f7fc81d4d25b21370455f9a88bc",
       "dragging_style": "IPY_MODEL_013856d6bc5d4b64a13c40b901f49cf0",
       "east": null,
       "fullscreen": false,
       "interpolation": "nearest",
       "layers": [
        "IPY_MODEL_83593630f26a40c49d72ffd5567fda77"
       ],
       "layout": "IPY_MODEL_599bc69e360f4cd3935bb3a812fc410c",
       "modisdate": "2023-07-11",
       "north": -90,
       "options": [
        "bounce_at_zoom_limits",
        "box_zoom",
        "center",
        "close_popup_on_click",
        "double_click_zoom",
        "dragging",
        "fullscreen",
        "inertia",
        "inertia_deceleration",
        "inertia_max_speed",
        "interpolation",
        "keyboard",
        "keyboard_pan_offset",
        "keyboard_zoom_offset",
        "max_zoom",
        "min_zoom",
        "prefer_canvas",
        "scroll_wheel_zoom",
        "tap",
        "tap_tolerance",
        "touch_zoom",
        "world_copy_jump",
        "zoom",
        "zoom_animation_threshold",
        "zoom_delta",
        "zoom_snap"
       ],
       "prefer_canvas": false,
       "south": 90,
       "style": "IPY_MODEL_f2915f7fc81d4d25b21370455f9a88bc",
       "west": null,
       "window_url": "http://localhost:8888/notebooks/js/xarray-leaflet.ipynb#",
       "zoom": 3
      }
     },
     "3b2a61da4ec7491ab1238dfb3fee5856": {
      "model_module": "@jupyter-widgets/base",
      "model_module_version": "1.2.0",
      "model_name": "LayoutModel",
      "state": {}
     },
     "3b3952f5cbf64eb8b3fcaf501749bcca": {
      "model_module": "@jupyter-widgets/controls",
      "model_module_version": "1.5.0",
      "model_name": "BoxModel",
      "state": {
       "children": [
        "IPY_MODEL_27a318c7c8a446eb9b6b7b798e287831"
       ],
       "layout": "IPY_MODEL_1734e31da67f406b9f781c95311dc30f"
      }
     },
     "3b48885253b8435a83961e84c9e7675e": {
      "model_module": "jupyter-leaflet",
      "model_module_version": "^0.17",
      "model_name": "LeafletMapStyleModel",
      "state": {
       "_model_module_version": "^0.17"
      }
     },
     "3bf116cbf4194a7287575275c59a9bf7": {
      "model_module": "jupyter-leaflet",
      "model_module_version": "^0.12.6",
      "model_name": "LeafletTileLayerModel",
      "state": {
       "_model_module_version": "^0.12.6",
       "_view_module_version": "^0.12.6",
       "attribution": "&copy; <a href=\"http://www.openstreetmap.org/copyright\">OpenStreetMap</a> &copy; <a href=\"http://cartodb.com/attributions\">CartoDB</a>",
       "base": true,
       "max_native_zoom": 18,
       "max_zoom": 20,
       "min_native_zoom": 0,
       "min_zoom": 1,
       "name": "CartoDB.Positron",
       "options": [
        "attribution",
        "detect_retina",
        "max_native_zoom",
        "max_zoom",
        "min_native_zoom",
        "min_zoom",
        "no_wrap",
        "tile_size",
        "tms"
       ],
       "url": "http://c.basemaps.cartocdn.com/light_all/{z}/{x}/{y}.png"
      }
     },
     "3bf24602bc2b4f1e896f8ad7f874c015": {
      "model_module": "jupyter-leaflet",
      "model_module_version": "^0.17",
      "model_name": "LeafletTileLayerModel",
      "state": {
       "_model_module_version": "^0.17",
       "_view_module_version": "^0.17",
       "attribution": "&copy; <a href=\"https://www.openstreetmap.org/copyright\">OpenStreetMap</a> contributors &copy; <a href=\"https://carto.com/attributions\">CARTO</a>",
       "base": true,
       "max_zoom": 20,
       "min_zoom": 1,
       "name": "CartoDB.Positron",
       "options": [
        "attribution",
        "bounds",
        "detect_retina",
        "max_native_zoom",
        "max_zoom",
        "min_native_zoom",
        "min_zoom",
        "no_wrap",
        "tile_size",
        "tms",
        "zoom_offset"
       ],
       "url": "https://a.basemaps.cartocdn.com/light_all/{z}/{x}/{y}.png"
      }
     },
     "3cfa07c5aef54421922527371e511958": {
      "model_module": "@jupyter-widgets/base",
      "model_module_version": "1.2.0",
      "model_name": "LayoutModel",
      "state": {}
     },
     "3d5e0a0f8ca34ca59f0dda117bd21872": {
      "model_module": "jupyter-leaflet",
      "model_module_version": "^0.17",
      "model_name": "LeafletWidgetControlModel",
      "state": {
       "_model_module": "jupyter-leaflet",
       "_model_module_version": "^0.17",
       "_view_count": null,
       "_view_module": "jupyter-leaflet",
       "_view_module_version": "^0.17",
       "options": [
        "position",
        "transparent_bg"
       ],
       "position": "bottomleft",
       "widget": "IPY_MODEL_012b59592b5244cfae2595fc1630584f"
      }
     },
     "3d87076f35814525a86f208f269d365e": {
      "model_module": "jupyter-leaflet",
      "model_module_version": "^0.12.6",
      "model_name": "LeafletAttributionControlModel",
      "state": {
       "_model_module_version": "^0.12.6",
       "_view_module_version": "^0.12.6",
       "options": [
        "position",
        "prefix"
       ],
       "position": "bottomright",
       "prefix": "Leaflet"
      }
     },
     "3ea86e286b7f4e31ab47209037ce2aa4": {
      "model_module": "@jupyter-widgets/controls",
      "model_module_version": "1.5.0",
      "model_name": "SliderStyleModel",
      "state": {
       "description_width": ""
      }
     },
     "3ec3de3f41c74e3eb103b62fff3037d3": {
      "model_module": "@jupyter-widgets/base",
      "model_module_version": "1.2.0",
      "model_name": "LayoutModel",
      "state": {}
     },
     "3eda65003787406c9d50e6a054e1ec4d": {
      "model_module": "jupyter-leaflet",
      "model_module_version": "^0.17",
      "model_name": "LeafletWidgetControlModel",
      "state": {
       "_model_module": "jupyter-leaflet",
       "_model_module_version": "^0.17",
       "_view_count": null,
       "_view_module": "jupyter-leaflet",
       "_view_module_version": "^0.17",
       "options": [
        "position",
        "transparent_bg"
       ],
       "position": "bottomright",
       "widget": "IPY_MODEL_36a46161af5b431a8857e5ee9b0b966e"
      }
     },
     "3f2890dd5f404beb8d9cda57e93c2fe7": {
      "model_module": "jupyter-leaflet",
      "model_module_version": "^0.17",
      "model_name": "LeafletMapStyleModel",
      "state": {
       "_model_module_version": "^0.17",
       "cursor": "move"
      }
     },
     "3f62f95c6718488caf5df6c247d0a885": {
      "model_module": "jupyter-leaflet",
      "model_module_version": "^0.17",
      "model_name": "LeafletWidgetControlModel",
      "state": {
       "_model_module": "jupyter-leaflet",
       "_model_module_version": "^0.17",
       "_view_count": null,
       "_view_module": "jupyter-leaflet",
       "_view_module_version": "^0.17",
       "options": [
        "position",
        "transparent_bg"
       ],
       "position": "bottomright",
       "widget": "IPY_MODEL_f26d554f00cf4fb4ab0f680c5d02057f"
      }
     },
     "3f7391ebf9234de0936d0bc0cd23a8fc": {
      "model_module": "jupyter-leaflet",
      "model_module_version": "^0.12.6",
      "model_name": "LeafletMapStyleModel",
      "state": {
       "_model_module_version": "^0.12.6"
      }
     },
     "3fd65a3875ef4403aa44e47b909c4f7f": {
      "model_module": "@jupyter-widgets/base",
      "model_module_version": "1.2.0",
      "model_name": "LayoutModel",
      "state": {}
     },
     "416a7e01e848477a836edccdc48615d7": {
      "model_module": "jupyter-leaflet",
      "model_module_version": "^0.17",
      "model_name": "LeafletMapStyleModel",
      "state": {
       "_model_module_version": "^0.17"
      }
     },
     "4191272af89047c8891f2b3674440e97": {
      "model_module": "@jupyter-widgets/base",
      "model_module_version": "1.2.0",
      "model_name": "LayoutModel",
      "state": {}
     },
     "41e56528ca0740ef8e7d3ed79eb67958": {
      "model_module": "@jupyter-widgets/controls",
      "model_module_version": "1.5.0",
      "model_name": "FloatSliderModel",
      "state": {
       "description": "opacity",
       "layout": "IPY_MODEL_1471fb86bd6448a6a87c6106da62e83e",
       "max": 1,
       "step": 0.1,
       "style": "IPY_MODEL_64861f579bf942baa067436644be44ad",
       "value": 0.7
      }
     },
     "420ea0410fc74a36aeffd26211ec8298": {
      "model_module": "ipyspin",
      "model_module_version": "^1.0.0",
      "model_name": "SpinnerModel",
      "state": {
       "_model_module_version": "^1.0.0",
       "_view_module_version": "^1.0.0",
       "layout": "IPY_MODEL_fbb4ab29c0054fdd981d0b64cafec208",
       "length": 3,
       "lines": 8,
       "radius": 5,
       "width": 5,
       "window_url": "http://localhost:8888/notebooks/js/xarray-leaflet.ipynb#"
      }
     },
     "42c4619876684aafb99227f07e25cf77": {
      "model_module": "jupyter-leaflet",
      "model_module_version": "^0.17",
      "model_name": "LeafletMapStyleModel",
      "state": {
       "_model_module_version": "^0.17"
      }
     },
     "42f9fe8760fd48bb935a3142d22470cf": {
      "model_module": "jupyter-leaflet",
      "model_module_version": "^0.12.6",
      "model_name": "LeafletMapStyleModel",
      "state": {
       "_model_module_version": "^0.12.6",
       "cursor": "move"
      }
     },
     "43051a6c79c14d2aa5703740a4aa627d": {
      "model_module": "@jupyter-widgets/controls",
      "model_module_version": "1.5.0",
      "model_name": "FloatSliderModel",
      "state": {
       "description": "Opacity:",
       "layout": "IPY_MODEL_6244be56d6c84cb887795cac46efba68",
       "max": 1,
       "step": 0.1,
       "style": "IPY_MODEL_aa6ee950f8754e6a8f894c2d222ad14b",
       "value": 1
      }
     },
     "4307e1c142e84c1b931f16feef03f50a": {
      "model_module": "ipyspin",
      "model_module_version": "^1.0.0",
      "model_name": "SpinnerModel",
      "state": {
       "_model_module_version": "^1.0.0",
       "_view_module_version": "^1.0.0",
       "layout": "IPY_MODEL_b9803381ab554fffb72ab65fa88c66c1",
       "length": 3,
       "lines": 8,
       "radius": 5,
       "width": 5,
       "window_url": "http://localhost:8888/notebooks/js/xarray-leaflet.ipynb#"
      }
     },
     "43252e30aded41668e7a131b8460baac": {
      "model_module": "ipyurl",
      "model_module_version": "^0.1.2",
      "model_name": "UrlModel",
      "state": {
       "_model_module_version": "^0.1.2",
       "_view_module_version": "^0.1.2",
       "layout": "IPY_MODEL_f2e8e4c5493846f59bef287006bf455f"
      }
     },
     "4445338cd08944d1a9cd82fe910c4fe5": {
      "model_module": "ipyspin",
      "model_module_version": "^1.0.0",
      "model_name": "SpinnerModel",
      "state": {
       "_model_module_version": "^1.0.0",
       "_view_module_version": "^1.0.0",
       "layout": "IPY_MODEL_a302968c07ff43cc9bf15fcced4da230",
       "length": 3,
       "lines": 8,
       "radius": 5,
       "width": 5,
       "window_url": "http://localhost:8888/notebooks/js/xarray-leaflet.ipynb#"
      }
     },
     "4468a4d7415947e39a80f6859a5e0d2d": {
      "model_module": "jupyter-leaflet",
      "model_module_version": "^0.17",
      "model_name": "LeafletLayersControlModel",
      "state": {
       "_model_module_version": "^0.17",
       "_view_module_version": "^0.17",
       "options": [
        "position"
       ],
       "position": "topright"
      }
     },
     "44948d11a851479e91ff6952956a39a2": {
      "model_module": "jupyter-leaflet",
      "model_module_version": "^0.17",
      "model_name": "LeafletMapStyleModel",
      "state": {
       "_model_module_version": "^0.17"
      }
     },
     "44c28202ec8249feb172ff29272ead97": {
      "model_module": "jupyter-leaflet",
      "model_module_version": "^0.17",
      "model_name": "LeafletMapStyleModel",
      "state": {
       "_model_module_version": "^0.17"
      }
     },
     "4569a91454ae4fccba18ef6acdca3716": {
      "model_module": "ipyurl",
      "model_module_version": "^0.1.2",
      "model_name": "UrlModel",
      "state": {
       "_model_module_version": "^0.1.2",
       "_view_module_version": "^0.1.2",
       "layout": "IPY_MODEL_cc8bcad672e54b2ea1c3eaf929d45c71"
      }
     },
     "457d8df6dfbd4279a4f700d72709e2d8": {
      "model_module": "jupyter-leaflet",
      "model_module_version": "^0.12.6",
      "model_name": "LeafletMapStyleModel",
      "state": {
       "_model_module_version": "^0.12.6"
      }
     },
     "45dbca9de0724b9b9889c4f2be78e611": {
      "model_module": "@jupyter-widgets/controls",
      "model_module_version": "1.5.0",
      "model_name": "BoxModel",
      "state": {
       "children": [
        "IPY_MODEL_072be94dc1974ebd8f72b0f06e771919"
       ],
       "layout": "IPY_MODEL_a7476d55dc9d432a9a84f6b98bcb273d"
      }
     },
     "464b0540fb7e4828b99e8f44439828f8": {
      "model_module": "jupyter-leaflet",
      "model_module_version": "^0.17",
      "model_name": "LeafletMapStyleModel",
      "state": {
       "_model_module_version": "^0.17",
       "cursor": "move"
      }
     },
     "46c39f8e75e143fabd420ad5310dfdae": {
      "model_module": "@jupyter-widgets/controls",
      "model_module_version": "1.5.0",
      "model_name": "BoxModel",
      "state": {
       "children": [
        "IPY_MODEL_cb9baabae79142dcb74202d328b036b7"
       ],
       "layout": "IPY_MODEL_6d23da1445384f1eb8ca565694e521bc"
      }
     },
     "4758838be4d64b17b399bda3e9adeecb": {
      "model_module": "@jupyter-widgets/base",
      "model_module_version": "1.2.0",
      "model_name": "LayoutModel",
      "state": {}
     },
     "480595fe35ae4816bb39c6260850d2f1": {
      "model_module": "jupyter-leaflet",
      "model_module_version": "^0.17",
      "model_name": "LeafletAttributionControlModel",
      "state": {
       "_model_module_version": "^0.17",
       "_view_module_version": "^0.17",
       "options": [
        "position",
        "prefix"
       ],
       "position": "bottomright",
       "prefix": "ipyleaflet"
      }
     },
     "48351c4e054247688ee5de962b5db2fe": {
      "model_module": "ipyspin",
      "model_module_version": "^1.0.0",
      "model_name": "SpinnerModel",
      "state": {
       "_model_module_version": "^1.0.0",
       "_view_module_version": "^1.0.0",
       "layout": "IPY_MODEL_e3e85820cd594022bddd7dba9227fc3a",
       "length": 3,
       "lines": 8,
       "radius": 5,
       "width": 5,
       "window_url": "http://localhost:8888/notebooks/js/xarray-leaflet.ipynb#"
      }
     },
     "484be6366f4640fcb0d511d8f1213f79": {
      "model_module": "jupyter-leaflet",
      "model_module_version": "^0.17",
      "model_name": "LeafletLocalTileLayerModel",
      "state": {
       "_model_module_version": "^0.17",
       "_view_module_version": "^0.17",
       "name": "DEM",
       "options": [
        "attribution",
        "bounds",
        "detect_retina",
        "max_native_zoom",
        "max_zoom",
        "min_native_zoom",
        "min_zoom",
        "no_wrap",
        "tile_size",
        "tms",
        "zoom_offset"
       ]
      }
     },
     "490dfd671a534acb8f5e4f3767e8c9b6": {
      "model_module": "@jupyter-widgets/base",
      "model_module_version": "1.2.0",
      "model_name": "LayoutModel",
      "state": {}
     },
     "49ca00b775614eef84286d43f4b719b2": {
      "model_module": "@jupyter-widgets/base",
      "model_module_version": "1.2.0",
      "model_name": "LayoutModel",
      "state": {}
     },
     "49f88df6e69040679d67aae0d9e66091": {
      "model_module": "jupyter-leaflet",
      "model_module_version": "^0.12.6",
      "model_name": "LeafletMapStyleModel",
      "state": {
       "_model_module_version": "^0.12.6",
       "cursor": "move"
      }
     },
     "4a833780356e4a52b89121ca93dbcff1": {
      "model_module": "jupyter-leaflet",
      "model_module_version": "^0.12.6",
      "model_name": "LeafletLocalTileLayerModel",
      "state": {
       "_model_module_version": "^0.12.6",
       "_view_module_version": "^0.12.6",
       "max_native_zoom": 18,
       "min_native_zoom": 0,
       "options": [
        "attribution",
        "detect_retina",
        "max_native_zoom",
        "max_zoom",
        "min_native_zoom",
        "min_zoom",
        "no_wrap",
        "tile_size",
        "tms"
       ],
       "path": "./xarray_leaflet_tiles/tmpefvykrwk/{z}/{x}/{y}.png"
      }
     },
     "4ae357112df348538d56c0ff3be0f68f": {
      "model_module": "@jupyter-widgets/base",
      "model_module_version": "1.2.0",
      "model_name": "LayoutModel",
      "state": {}
     },
     "4b07681c5d27493b987c98b19bad4abb": {
      "model_module": "@jupyter-widgets/base",
      "model_module_version": "1.2.0",
      "model_name": "LayoutModel",
      "state": {}
     },
     "4b0ff6f5157c47fb950dc652317c10a9": {
      "model_module": "jupyter-leaflet",
      "model_module_version": "^0.17",
      "model_name": "LeafletZoomControlModel",
      "state": {
       "_model_module_version": "^0.17",
       "_view_module_version": "^0.17",
       "options": [
        "position",
        "zoom_in_text",
        "zoom_in_title",
        "zoom_out_text",
        "zoom_out_title"
       ]
      }
     },
     "4b2926ce9e7f4e04aea7c4d5dbf80d19": {
      "model_module": "@jupyter-widgets/base",
      "model_module_version": "1.2.0",
      "model_name": "LayoutModel",
      "state": {}
     },
     "4b5d8ded16c149c19bc2b4f688a8756d": {
      "model_module": "jupyter-leaflet",
      "model_module_version": "^0.12.6",
      "model_name": "LeafletMapStyleModel",
      "state": {
       "_model_module_version": "^0.12.6"
      }
     },
     "4b7db59edd53494e9e9b05a11f64466b": {
      "model_module": "jupyter-leaflet",
      "model_module_version": "^0.12.6",
      "model_name": "LeafletAttributionControlModel",
      "state": {
       "_model_module_version": "^0.12.6",
       "_view_module_version": "^0.12.6",
       "options": [
        "position",
        "prefix"
       ],
       "position": "bottomright",
       "prefix": "Leaflet"
      }
     },
     "4b9b9abd89d2432aaaf40bef522a76db": {
      "model_module": "@jupyter-widgets/base",
      "model_module_version": "1.2.0",
      "model_name": "LayoutModel",
      "state": {
       "height": "30px",
       "width": "30px"
      }
     },
     "4bcfbf3881ef4f928bbebada47b1f733": {
      "model_module": "@jupyter-widgets/controls",
      "model_module_version": "1.5.0",
      "model_name": "BoxModel",
      "state": {
       "children": [
        "IPY_MODEL_69f5f73a2aa44a76ba3b3cd6e7dc5268"
       ],
       "layout": "IPY_MODEL_36074db0ed70470cbf86ef1824d7144c"
      }
     },
     "4c844105ceeb45d1bf2fd3e7baf8aa65": {
      "model_module": "jupyter-leaflet",
      "model_module_version": "^0.17",
      "model_name": "LeafletAttributionControlModel",
      "state": {
       "_model_module_version": "^0.17",
       "_view_module_version": "^0.17",
       "options": [
        "position",
        "prefix"
       ],
       "position": "bottomright",
       "prefix": "ipyleaflet"
      }
     },
     "4cae809787ad4da0b83a45b8fc5cf49b": {
      "model_module": "jupyter-leaflet",
      "model_module_version": "^0.17",
      "model_name": "LeafletTileLayerModel",
      "state": {
       "_model_module_version": "^0.17",
       "_view_module_version": "^0.17",
       "attribution": "&copy; <a href=\"https://www.openstreetmap.org/copyright\">OpenStreetMap</a> contributors &copy; <a href=\"https://carto.com/attributions\">CARTO</a>",
       "base": true,
       "max_zoom": 20,
       "min_zoom": 1,
       "name": "CartoDB.DarkMatter",
       "options": [
        "attribution",
        "bounds",
        "detect_retina",
        "max_native_zoom",
        "max_zoom",
        "min_native_zoom",
        "min_zoom",
        "no_wrap",
        "tile_size",
        "tms",
        "zoom_offset"
       ],
       "url": "https://a.basemaps.cartocdn.com/dark_all/{z}/{x}/{y}.png"
      }
     },
     "4e46ee0334594f88bcb5452cd67592ab": {
      "model_module": "jupyter-leaflet",
      "model_module_version": "^0.12.6",
      "model_name": "LeafletAttributionControlModel",
      "state": {
       "_model_module_version": "^0.12.6",
       "_view_module_version": "^0.12.6",
       "options": [
        "position",
        "prefix"
       ],
       "position": "bottomright",
       "prefix": "Leaflet"
      }
     },
     "4e5d6135fc724497b952a3893ec906de": {
      "model_module": "jupyter-leaflet",
      "model_module_version": "^0.12.6",
      "model_name": "LeafletMapStyleModel",
      "state": {
       "_model_module_version": "^0.12.6"
      }
     },
     "4ea0816b6ccf4993bf8cfc3802c1bb79": {
      "model_module": "@jupyter-widgets/base",
      "model_module_version": "1.2.0",
      "model_name": "LayoutModel",
      "state": {
       "height": "30px",
       "width": "30px"
      }
     },
     "4ed74ce8199f4d4aaf97983a3752797e": {
      "model_module": "jupyter-leaflet",
      "model_module_version": "^0.12.6",
      "model_name": "LeafletMapStyleModel",
      "state": {
       "_model_module_version": "^0.12.6",
       "cursor": "move"
      }
     },
     "4f1634a9841048d484832a7f3fed3805": {
      "model_module": "@jupyter-widgets/base",
      "model_module_version": "1.2.0",
      "model_name": "LayoutModel",
      "state": {}
     },
     "4f509b0f90394c7ab23a6dc285909f61": {
      "model_module": "ipyspin",
      "model_module_version": "^1.0.0",
      "model_name": "SpinnerModel",
      "state": {
       "_model_module_version": "^1.0.0",
       "_view_module_version": "^1.0.0",
       "layout": "IPY_MODEL_28c770d37c0a48e58434ca604118e9b8",
       "length": 3,
       "lines": 8,
       "radius": 5,
       "width": 5,
       "window_url": "http://localhost:8888/notebooks/js/xarray-leaflet.ipynb#"
      }
     },
     "4f7162f91ec44a11985d9330052ea176": {
      "model_module": "jupyter-leaflet",
      "model_module_version": "^0.17",
      "model_name": "LeafletLocalTileLayerModel",
      "state": {
       "_model_module_version": "^0.17",
       "_view_module_version": "^0.17",
       "name": "DEM",
       "options": [
        "attribution",
        "bounds",
        "detect_retina",
        "max_native_zoom",
        "max_zoom",
        "min_native_zoom",
        "min_zoom",
        "no_wrap",
        "tile_size",
        "tms",
        "zoom_offset"
       ]
      }
     },
     "4fce4fba9c87449eb1dfe7efd27d98c9": {
      "model_module": "jupyter-leaflet",
      "model_module_version": "^0.12.6",
      "model_name": "LeafletAttributionControlModel",
      "state": {
       "_model_module_version": "^0.12.6",
       "_view_module_version": "^0.12.6",
       "options": [
        "position",
        "prefix"
       ],
       "position": "bottomright",
       "prefix": "Leaflet"
      }
     },
     "50003aa495f74d00b0369b67226c7a02": {
      "model_module": "jupyter-leaflet",
      "model_module_version": "^0.17",
      "model_name": "LeafletAttributionControlModel",
      "state": {
       "_model_module_version": "^0.17",
       "_view_module_version": "^0.17",
       "options": [
        "position",
        "prefix"
       ],
       "position": "bottomright",
       "prefix": "ipyleaflet"
      }
     },
     "50309d81c3a04cebbf2555ec72f7829f": {
      "model_module": "jupyter-leaflet",
      "model_module_version": "^0.17",
      "model_name": "LeafletLocalTileLayerModel",
      "state": {
       "_model_module_version": "^0.17",
       "_view_module_version": "^0.17",
       "name": "DEM",
       "options": [
        "attribution",
        "bounds",
        "detect_retina",
        "max_native_zoom",
        "max_zoom",
        "min_native_zoom",
        "min_zoom",
        "no_wrap",
        "tile_size",
        "tms",
        "zoom_offset"
       ]
      }
     },
     "50386d713f0f436292942c9a8637af04": {
      "model_module": "@jupyter-widgets/controls",
      "model_module_version": "1.5.0",
      "model_name": "SliderStyleModel",
      "state": {
       "description_width": ""
      }
     },
     "509c8e3814864cd5a94db307b19d199f": {
      "model_module": "@jupyter-widgets/base",
      "model_module_version": "1.2.0",
      "model_name": "LayoutModel",
      "state": {}
     },
     "50b6d02f1a344456bd39e11344ea6449": {
      "model_module": "jupyter-leaflet",
      "model_module_version": "^0.17",
      "model_name": "LeafletZoomControlModel",
      "state": {
       "_model_module_version": "^0.17",
       "_view_module_version": "^0.17",
       "options": [
        "position",
        "zoom_in_text",
        "zoom_in_title",
        "zoom_out_text",
        "zoom_out_title"
       ]
      }
     },
     "50cbaeebb5024b2aaa825c9a1498237f": {
      "model_module": "ipyurl",
      "model_module_version": "^0.1.2",
      "model_name": "UrlModel",
      "state": {
       "_model_module_version": "^0.1.2",
       "_view_module_version": "^0.1.2",
       "layout": "IPY_MODEL_7a936290e99f4282aadad6f05dc0522c"
      }
     },
     "50d570b021c0434aa3a8ef9347ba665b": {
      "model_module": "@jupyter-widgets/base",
      "model_module_version": "1.2.0",
      "model_name": "LayoutModel",
      "state": {
       "height": "30px",
       "width": "30px"
      }
     },
     "523b500143524ded93916028ecc0efd8": {
      "model_module": "jupyter-leaflet",
      "model_module_version": "^0.17",
      "model_name": "LeafletWidgetControlModel",
      "state": {
       "_model_module": "jupyter-leaflet",
       "_model_module_version": "^0.17",
       "_view_count": null,
       "_view_module": "jupyter-leaflet",
       "_view_module_version": "^0.17",
       "options": [
        "position",
        "transparent_bg"
       ],
       "position": "bottomright",
       "widget": "IPY_MODEL_d03a532a1b2b4dbe92d43d5e5726e179"
      }
     },
     "5271531704ae46eea9216689630a3427": {
      "model_module": "jupyter-leaflet",
      "model_module_version": "^0.17",
      "model_name": "LeafletMapStyleModel",
      "state": {
       "_model_module_version": "^0.17"
      }
     },
     "52a092cc1ccb44a683561ac7c34cad89": {
      "model_module": "jupyter-leaflet",
      "model_module_version": "^0.12.6",
      "model_name": "LeafletAttributionControlModel",
      "state": {
       "_model_module_version": "^0.12.6",
       "_view_module_version": "^0.12.6",
       "options": [
        "position",
        "prefix"
       ],
       "position": "bottomright",
       "prefix": "Leaflet"
      }
     },
     "53373f1257f74a12b5f2247fe7055860": {
      "model_module": "jupyter-leaflet",
      "model_module_version": "^0.17",
      "model_name": "LeafletZoomControlModel",
      "state": {
       "_model_module_version": "^0.17",
       "_view_module_version": "^0.17",
       "options": [
        "position",
        "zoom_in_text",
        "zoom_in_title",
        "zoom_out_text",
        "zoom_out_title"
       ]
      }
     },
     "53655aa9b6e1473986000c5689cf4ecc": {
      "model_module": "jupyter-leaflet",
      "model_module_version": "^0.12.6",
      "model_name": "LeafletMapStyleModel",
      "state": {
       "_model_module_version": "^0.12.6",
       "cursor": "move"
      }
     },
     "53c85c4806bf4890a68408cc11a9ca68": {
      "model_module": "@jupyter-widgets/base",
      "model_module_version": "1.2.0",
      "model_name": "LayoutModel",
      "state": {}
     },
     "542b4444bada494b89babbbe71c881dd": {
      "model_module": "jupyter-leaflet",
      "model_module_version": "^0.17",
      "model_name": "LeafletLocalTileLayerModel",
      "state": {
       "_model_module_version": "^0.17",
       "_view_module_version": "^0.17",
       "name": "DEM",
       "options": [
        "attribution",
        "bounds",
        "detect_retina",
        "max_native_zoom",
        "max_zoom",
        "min_native_zoom",
        "min_zoom",
        "no_wrap",
        "tile_size",
        "tms",
        "zoom_offset"
       ]
      }
     },
     "54444307f2734ef0b7abbe40644aadfc": {
      "model_module": "jupyter-leaflet",
      "model_module_version": "^0.17",
      "model_name": "LeafletDrawControlModel",
      "state": {
       "_model_module_version": "^0.17",
       "_view_module_version": "^0.17",
       "options": [
        "position"
       ],
       "polygon": {},
       "polyline": {},
       "rectangle": {
        "shapeOptions": {
         "clickable": true,
         "color": "#3388ff",
         "fill": true,
         "fillColor": null,
         "fillOpacity": 0.5,
         "opacity": 0.5,
         "stroke": true,
         "weight": 4
        }
       }
      }
     },
     "54b7c758bf9c4eae80c70ad318b8a87d": {
      "model_module": "ipyurl",
      "model_module_version": "^0.1.2",
      "model_name": "UrlModel",
      "state": {
       "_model_module_version": "^0.1.2",
       "_view_module_version": "^0.1.2",
       "layout": "IPY_MODEL_4758838be4d64b17b399bda3e9adeecb"
      }
     },
     "5547a7ae7f8e40ebaea30635cfbbb7b4": {
      "model_module": "ipyurl",
      "model_module_version": "^0.1.2",
      "model_name": "UrlModel",
      "state": {
       "_model_module_version": "^0.1.2",
       "_view_module_version": "^0.1.2",
       "layout": "IPY_MODEL_34fce42c6e5b4cdaaebe9feb09ac639a"
      }
     },
     "55844bdf113a4e46b2b1c8263996a52f": {
      "model_module": "jupyter-leaflet",
      "model_module_version": "^0.12.6",
      "model_name": "LeafletLocalTileLayerModel",
      "state": {
       "_model_module_version": "^0.12.6",
       "_view_module_version": "^0.12.6",
       "max_native_zoom": 18,
       "min_native_zoom": 0,
       "options": [
        "attribution",
        "detect_retina",
        "max_native_zoom",
        "max_zoom",
        "min_native_zoom",
        "min_zoom",
        "no_wrap",
        "tile_size",
        "tms"
       ],
       "path": "/tiles/var/folders/f8/0034db6d78s5r6m34fxhpk7m0000gp/T/xarray_leaflet_40dmjook/{z}/{x}/{y}.png",
       "url": "/tiles/var/folders/f8/0034db6d78s5r6m34fxhpk7m0000gp/T/xarray_leaflet_40dmjook/{z}/{x}/{y}.png"
      }
     },
     "55883ecd917444c983b8c6a5294fc22e": {
      "model_module": "@jupyter-widgets/base",
      "model_module_version": "1.2.0",
      "model_name": "LayoutModel",
      "state": {}
     },
     "5588a3175cde4aa1b05ed3aca59fcfdc": {
      "model_module": "@jupyter-widgets/controls",
      "model_module_version": "1.5.0",
      "model_name": "FloatSliderModel",
      "state": {
       "description": "opacity",
       "layout": "IPY_MODEL_fba7515856174b15816ad438bf0390a4",
       "max": 1,
       "min": 0.1,
       "step": 0.1,
       "style": "IPY_MODEL_3534ba0a277e47ceaaa19e4f766a3ddd",
       "value": 1
      }
     },
     "55af7fd8d953416192905657840a4232": {
      "model_module": "jupyter-leaflet",
      "model_module_version": "^0.12.6",
      "model_name": "LeafletMapStyleModel",
      "state": {
       "_model_module_version": "^0.12.6",
       "cursor": "move"
      }
     },
     "55b2c93444bf436fafd4ebcccbeeba1f": {
      "model_module": "@jupyter-widgets/controls",
      "model_module_version": "1.5.0",
      "model_name": "FloatSliderModel",
      "state": {
       "description": "opacity",
       "layout": "IPY_MODEL_3cfa07c5aef54421922527371e511958",
       "max": 1,
       "min": 0.1,
       "step": 0.1,
       "style": "IPY_MODEL_801828174ec34c6f9e4b71baffc0b6ff",
       "value": 0.1
      }
     },
     "55c1386d14fc4d73bd891b3f9fd87ebc": {
      "model_module": "@jupyter-widgets/controls",
      "model_module_version": "1.5.0",
      "model_name": "FloatSliderModel",
      "state": {
       "description": "opacity",
       "layout": "IPY_MODEL_1bd56a85b6ef47cfb5a2998b23db1041",
       "max": 1,
       "min": 0.1,
       "step": 0.1,
       "style": "IPY_MODEL_760c2b25be1b4dbc95cbb10c49a548fb",
       "value": 1
      }
     },
     "55d568715ac446c29352df17f457927b": {
      "model_module": "jupyter-leaflet",
      "model_module_version": "^0.17",
      "model_name": "LeafletMapModel",
      "state": {
       "_model_module_version": "^0.17",
       "_view_module_version": "^0.17",
       "center": [
        24.84656534821976,
        117.42187500000001
       ],
       "controls": [
        "IPY_MODEL_50b6d02f1a344456bd39e11344ea6449",
        "IPY_MODEL_5b6370e948474c9fa4229ff9baaf4811",
        "IPY_MODEL_1f9cf22b274d4c738621b4c0f5365e71"
       ],
       "default_style": "IPY_MODEL_8d7c44f1e536481f86b04521cae737c0",
       "dragging_style": "IPY_MODEL_f8ca5b95d29546e7b9746e7b52ad789e",
       "east": null,
       "fullscreen": false,
       "interpolation": "nearest",
       "layers": [
        "IPY_MODEL_f911ce5b563f40078573a7ea658570a4"
       ],
       "layout": "IPY_MODEL_4f1634a9841048d484832a7f3fed3805",
       "modisdate": "2023-07-11",
       "north": -90,
       "options": [
        "bounce_at_zoom_limits",
        "box_zoom",
        "center",
        "close_popup_on_click",
        "double_click_zoom",
        "dragging",
        "fullscreen",
        "inertia",
        "inertia_deceleration",
        "inertia_max_speed",
        "interpolation",
        "keyboard",
        "keyboard_pan_offset",
        "keyboard_zoom_offset",
        "max_zoom",
        "min_zoom",
        "prefer_canvas",
        "scroll_wheel_zoom",
        "tap",
        "tap_tolerance",
        "touch_zoom",
        "world_copy_jump",
        "zoom",
        "zoom_animation_threshold",
        "zoom_delta",
        "zoom_snap"
       ],
       "prefer_canvas": false,
       "south": 90,
       "style": "IPY_MODEL_8d7c44f1e536481f86b04521cae737c0",
       "west": null,
       "window_url": "http://localhost:8888/notebooks/js/xarray-leaflet.ipynb#",
       "zoom": 2
      }
     },
     "562c7e225a8c4da498306c136ab3c0f6": {
      "model_module": "@jupyter-widgets/base",
      "model_module_version": "1.2.0",
      "model_name": "LayoutModel",
      "state": {}
     },
     "563239b4e3c646da8d72e51175540fbb": {
      "model_module": "jupyter-leaflet",
      "model_module_version": "^0.17",
      "model_name": "LeafletTileLayerModel",
      "state": {
       "_model_module_version": "^0.17",
       "_view_module_version": "^0.17",
       "attribution": "&copy; <a href=\"https://www.openstreetmap.org/copyright\">OpenStreetMap</a> contributors &copy; <a href=\"https://carto.com/attributions\">CARTO</a>",
       "base": true,
       "max_zoom": 20,
       "min_zoom": 1,
       "name": "CartoDB.DarkMatter",
       "options": [
        "attribution",
        "bounds",
        "detect_retina",
        "max_native_zoom",
        "max_zoom",
        "min_native_zoom",
        "min_zoom",
        "no_wrap",
        "tile_size",
        "tms",
        "zoom_offset"
       ],
       "url": "https://a.basemaps.cartocdn.com/dark_all/{z}/{x}/{y}.png"
      }
     },
     "567df0b91b2d4319bb092443ae096ad2": {
      "model_module": "@jupyter-widgets/base",
      "model_module_version": "1.2.0",
      "model_name": "LayoutModel",
      "state": {}
     },
     "56dac1ca94d945eb969fa9c6cb0ccda4": {
      "model_module": "@jupyter-widgets/controls",
      "model_module_version": "1.5.0",
      "model_name": "SliderStyleModel",
      "state": {
       "description_width": ""
      }
     },
     "56f3fc5ff42e4aa4bbd6438362457b12": {
      "model_module": "jupyter-leaflet",
      "model_module_version": "^0.12.6",
      "model_name": "LeafletTileLayerModel",
      "state": {
       "_model_module_version": "^0.12.6",
       "_view_module_version": "^0.12.6",
       "attribution": "&copy; <a href=\"http://www.openstreetmap.org/copyright\">OpenStreetMap</a> &copy; <a href=\"http://cartodb.com/attributions\">CartoDB</a>",
       "base": true,
       "max_native_zoom": 18,
       "max_zoom": 20,
       "min_native_zoom": 0,
       "min_zoom": 1,
       "name": "CartoDB.Positron",
       "options": [
        "attribution",
        "detect_retina",
        "max_native_zoom",
        "max_zoom",
        "min_native_zoom",
        "min_zoom",
        "no_wrap",
        "tile_size",
        "tms"
       ],
       "url": "http://c.basemaps.cartocdn.com/light_all/{z}/{x}/{y}.png"
      }
     },
     "57160713dc984c66a916c7b8055e0ac5": {
      "model_module": "jupyter-leaflet",
      "model_module_version": "^0.17",
      "model_name": "LeafletWidgetControlModel",
      "state": {
       "_model_module": "jupyter-leaflet",
       "_model_module_version": "^0.17",
       "_view_count": null,
       "_view_module": "jupyter-leaflet",
       "_view_module_version": "^0.17",
       "options": [
        "position",
        "transparent_bg"
       ],
       "position": "bottomright",
       "widget": "IPY_MODEL_1208b31bec4143e29348f42125816443"
      }
     },
     "57a1ab0aa383459a97e00a309f6154aa": {
      "model_module": "jupyter-leaflet",
      "model_module_version": "^0.12.6",
      "model_name": "LeafletMapModel",
      "state": {
       "_model_module_version": "^0.12.6",
       "_view_module_version": "^0.12.6",
       "center": [
        -20,
        -60
       ],
       "controls": [
        "IPY_MODEL_a5e264b8b71c4ce29eb8603388a718aa",
        "IPY_MODEL_4fce4fba9c87449eb1dfe7efd27d98c9"
       ],
       "default_style": "IPY_MODEL_da17bd752fc64b22b2fa855b4b379354",
       "dragging_style": "IPY_MODEL_a251846c1ebd4024a3c14c270e2c6285",
       "east": 26.367187500000004,
       "fullscreen": false,
       "interpolation": "bilinear",
       "layers": [
        "IPY_MODEL_e1667f124b2c430cb8d2a0f7df05af97"
       ],
       "layout": "IPY_MODEL_a922615c95e34126a4ad70043b92a37e",
       "modisdate": "yesterday",
       "north": 14.604847155053898,
       "options": [
        "bounce_at_zoom_limits",
        "box_zoom",
        "center",
        "close_popup_on_click",
        "double_click_zoom",
        "dragging",
        "fullscreen",
        "inertia",
        "inertia_deceleration",
        "inertia_max_speed",
        "interpolation",
        "keyboard",
        "keyboard_pan_offset",
        "keyboard_zoom_offset",
        "max_zoom",
        "min_zoom",
        "scroll_wheel_zoom",
        "tap",
        "tap_tolerance",
        "touch_zoom",
        "world_copy_jump",
        "zoom",
        "zoom_animation_threshold",
        "zoom_start"
       ],
       "south": -48.45835188280866,
       "style": "IPY_MODEL_655fb736a1ad4388aacef5a48155372c",
       "west": -146.25000000000003,
       "window_url": "http://localhost:8888/notebooks/js/xarray-leaflet.ipynb",
       "zoom": 3
      }
     },
     "57c80858ed1c4bf9bcdcf0b63471bf9c": {
      "model_module": "jupyter-leaflet",
      "model_module_version": "^0.17",
      "model_name": "LeafletMapStyleModel",
      "state": {
       "_model_module_version": "^0.17"
      }
     },
     "57d42962a6ca464abb5337572b7e2f0d": {
      "model_module": "jupyter-leaflet",
      "model_module_version": "^0.17",
      "model_name": "LeafletMapStyleModel",
      "state": {
       "_model_module_version": "^0.17",
       "cursor": "move"
      }
     },
     "57d641fbcee64386b436bc9935b7d15c": {
      "model_module": "@jupyter-widgets/base",
      "model_module_version": "1.2.0",
      "model_name": "LayoutModel",
      "state": {}
     },
     "580001cf83ac48259e61fd63613f97e1": {
      "model_module": "jupyter-leaflet",
      "model_module_version": "^0.17",
      "model_name": "LeafletLocalTileLayerModel",
      "state": {
       "_model_module_version": "^0.17",
       "_view_module_version": "^0.17",
       "name": "DEM",
       "options": [
        "attribution",
        "bounds",
        "detect_retina",
        "max_native_zoom",
        "max_zoom",
        "min_native_zoom",
        "min_zoom",
        "no_wrap",
        "tile_size",
        "tms",
        "zoom_offset"
       ]
      }
     },
     "5815878a419d4cc9b61db3d97e8e0fd3": {
      "model_module": "ipyspin",
      "model_module_version": "^1.0.0",
      "model_name": "SpinnerModel",
      "state": {
       "_model_module_version": "^1.0.0",
       "_view_module_version": "^1.0.0",
       "layout": "IPY_MODEL_50d570b021c0434aa3a8ef9347ba665b",
       "length": 3,
       "lines": 8,
       "radius": 5,
       "width": 5,
       "window_url": "http://localhost:8888/notebooks/js/xarray-leaflet.ipynb#"
      }
     },
     "5837e419ff5c41a08dc446a92aa15239": {
      "model_module": "jupyter-leaflet",
      "model_module_version": "^0.17",
      "model_name": "LeafletAttributionControlModel",
      "state": {
       "_model_module_version": "^0.17",
       "_view_module_version": "^0.17",
       "options": [
        "position",
        "prefix"
       ],
       "position": "bottomright",
       "prefix": "ipyleaflet"
      }
     },
     "58a29dbb1bcc432a952f523a17e9b654": {
      "model_module": "jupyter-leaflet",
      "model_module_version": "^0.17",
      "model_name": "LeafletAttributionControlModel",
      "state": {
       "_model_module_version": "^0.17",
       "_view_module_version": "^0.17",
       "options": [
        "position",
        "prefix"
       ],
       "position": "bottomright",
       "prefix": "ipyleaflet"
      }
     },
     "58b0698705b54b47906d8d63027403d8": {
      "model_module": "@jupyter-widgets/controls",
      "model_module_version": "1.5.0",
      "model_name": "FloatSliderModel",
      "state": {
       "description": "opacity",
       "layout": "IPY_MODEL_bf237e950be9454c93fabd2f30e3352d",
       "max": 1,
       "step": 0.1,
       "style": "IPY_MODEL_c49b7a8e57624c61bbe5db43418521f1",
       "value": 1
      }
     },
     "599bc69e360f4cd3935bb3a812fc410c": {
      "model_module": "@jupyter-widgets/base",
      "model_module_version": "1.2.0",
      "model_name": "LayoutModel",
      "state": {}
     },
     "59f6a479af2a469989161dd714ca9431": {
      "model_module": "jupyter-leaflet",
      "model_module_version": "^0.12.6",
      "model_name": "LeafletMapStyleModel",
      "state": {
       "_model_module_version": "^0.12.6"
      }
     },
     "5a4d03701b0b42d3ae218bcebf02e873": {
      "model_module": "ipyspin",
      "model_module_version": "^1.0.0",
      "model_name": "SpinnerModel",
      "state": {
       "_model_module_version": "^1.0.0",
       "_view_module_version": "^1.0.0",
       "layout": "IPY_MODEL_679d2252c91848028524d3a8122f57d1",
       "length": 3,
       "lines": 8,
       "radius": 5,
       "width": 5,
       "window_url": "http://localhost:8888/notebooks/js/xarray-leaflet.ipynb#"
      }
     },
     "5a5e52f01bc546ea9a9f7cbaabc20849": {
      "model_module": "@jupyter-widgets/base",
      "model_module_version": "1.2.0",
      "model_name": "LayoutModel",
      "state": {}
     },
     "5b6370e948474c9fa4229ff9baaf4811": {
      "model_module": "jupyter-leaflet",
      "model_module_version": "^0.17",
      "model_name": "LeafletAttributionControlModel",
      "state": {
       "_model_module_version": "^0.17",
       "_view_module_version": "^0.17",
       "options": [
        "position",
        "prefix"
       ],
       "position": "bottomright",
       "prefix": "ipyleaflet"
      }
     },
     "5b65ff33d6fa4ef99410cb68d221e406": {
      "model_module": "jupyter-leaflet",
      "model_module_version": "^0.12.6",
      "model_name": "LeafletMapModel",
      "state": {
       "_model_module_version": "^0.12.6",
       "_view_module_version": "^0.12.6",
       "center": [
        -20,
        -60
       ],
       "controls": [
        "IPY_MODEL_a460bae8393e416dac313324bb572353",
        "IPY_MODEL_fd1bc4b2298c4576800aaa61cf297487"
       ],
       "default_style": "IPY_MODEL_d09d27dea5154eea90d86c9dddabff2a",
       "dragging_style": "IPY_MODEL_afeaa8311fde44d19003db2b1620ffbe",
       "east": 26.367187500000004,
       "fullscreen": false,
       "interpolation": "bilinear",
       "layers": [
        "IPY_MODEL_e38ac3dcdc0b4e789b3df6edf30b9146",
        "IPY_MODEL_fb18cbc556044d7d8e84c77c83d55727"
       ],
       "layout": "IPY_MODEL_fc2e046589f949549b8398d5095d77e6",
       "modisdate": "yesterday",
       "north": 14.604847155053898,
       "options": [
        "bounce_at_zoom_limits",
        "box_zoom",
        "center",
        "close_popup_on_click",
        "double_click_zoom",
        "dragging",
        "fullscreen",
        "inertia",
        "inertia_deceleration",
        "inertia_max_speed",
        "interpolation",
        "keyboard",
        "keyboard_pan_offset",
        "keyboard_zoom_offset",
        "max_zoom",
        "min_zoom",
        "scroll_wheel_zoom",
        "tap",
        "tap_tolerance",
        "touch_zoom",
        "world_copy_jump",
        "zoom",
        "zoom_animation_threshold",
        "zoom_start"
       ],
       "south": -48.45835188280866,
       "style": "IPY_MODEL_457d8df6dfbd4279a4f700d72709e2d8",
       "west": -146.25000000000003,
       "window_url": "http://localhost:8888/notebooks/js/xarray-leaflet.ipynb",
       "zoom": 3
      }
     },
     "5bf1da27dbca46adaf99b5210d4648b2": {
      "model_module": "@jupyter-widgets/base",
      "model_module_version": "1.2.0",
      "model_name": "LayoutModel",
      "state": {}
     },
     "5c1297855efb42a2aef397b5e20704e2": {
      "model_module": "ipyurl",
      "model_module_version": "^0.1.2",
      "model_name": "UrlModel",
      "state": {
       "_model_module_version": "^0.1.2",
       "_view_module_version": "^0.1.2",
       "layout": "IPY_MODEL_0c47ea8646bb4481b24f794978180821"
      }
     },
     "5c3ea5facc374a198bb40f207fdba5f1": {
      "model_module": "@jupyter-widgets/controls",
      "model_module_version": "1.5.0",
      "model_name": "BoxModel",
      "state": {
       "children": [
        "IPY_MODEL_2331330dd28644c7b02de498696ed77e"
       ],
       "layout": "IPY_MODEL_da05d8809b21418f8667ff57531bc117"
      }
     },
     "5c9a5b7446ba4671882d8ec00fda8880": {
      "model_module": "jupyter-leaflet",
      "model_module_version": "^0.17",
      "model_name": "LeafletMapStyleModel",
      "state": {
       "_model_module_version": "^0.17",
       "cursor": "move"
      }
     },
     "5d550ce93efa484baaa1387c7893b54f": {
      "model_module": "@jupyter-widgets/base",
      "model_module_version": "1.2.0",
      "model_name": "LayoutModel",
      "state": {}
     },
     "5d58b3f7e0d64abdafb0c3a5e967cfe9": {
      "model_module": "jupyter-leaflet",
      "model_module_version": "^0.17",
      "model_name": "LeafletZoomControlModel",
      "state": {
       "_model_module_version": "^0.17",
       "_view_module_version": "^0.17",
       "options": [
        "position",
        "zoom_in_text",
        "zoom_in_title",
        "zoom_out_text",
        "zoom_out_title"
       ]
      }
     },
     "5d7a3d4b650d4e4e9e3b2c4cb60b0fe9": {
      "model_module": "jupyter-leaflet",
      "model_module_version": "^0.17",
      "model_name": "LeafletLayersControlModel",
      "state": {
       "_model_module_version": "^0.17",
       "_view_module_version": "^0.17",
       "options": [
        "position"
       ],
       "position": "topright"
      }
     },
     "5d7d79f38dbe4b509c9b2e719e473ef4": {
      "model_module": "jupyter-leaflet",
      "model_module_version": "^0.12.6",
      "model_name": "LeafletTileLayerModel",
      "state": {
       "_model_module_version": "^0.12.6",
       "_view_module_version": "^0.12.6",
       "attribution": "&copy; <a href=\"http://www.openstreetmap.org/copyright\">OpenStreetMap</a> &copy; <a href=\"http://cartodb.com/attributions\">CartoDB</a>",
       "base": true,
       "max_native_zoom": 18,
       "max_zoom": 20,
       "min_native_zoom": 0,
       "min_zoom": 1,
       "name": "CartoDB.DarkMatter",
       "options": [
        "attribution",
        "detect_retina",
        "max_native_zoom",
        "max_zoom",
        "min_native_zoom",
        "min_zoom",
        "no_wrap",
        "tile_size",
        "tms"
       ],
       "url": "http://c.basemaps.cartocdn.com/dark_all/{z}/{x}/{y}.png"
      }
     },
     "5de073cfce2a45a89ef963cf3189bb80": {
      "model_module": "jupyter-leaflet",
      "model_module_version": "^0.17",
      "model_name": "LeafletMapStyleModel",
      "state": {
       "_model_module_version": "^0.17"
      }
     },
     "5dfe844f168243558e1aa6f2a08df8ed": {
      "model_module": "@jupyter-widgets/base",
      "model_module_version": "1.2.0",
      "model_name": "LayoutModel",
      "state": {}
     },
     "5e5572f1771b4bf3a7d66ec258206dc5": {
      "model_module": "@jupyter-widgets/base",
      "model_module_version": "1.2.0",
      "model_name": "LayoutModel",
      "state": {}
     },
     "5f3bc6ff26ba4ef8b1d655e8c1265225": {
      "model_module": "@jupyter-widgets/base",
      "model_module_version": "1.2.0",
      "model_name": "LayoutModel",
      "state": {}
     },
     "5f4cec21740944cf8968e5bd269c107d": {
      "model_module": "jupyter-leaflet",
      "model_module_version": "^0.12.6",
      "model_name": "LeafletLocalTileLayerModel",
      "state": {
       "_model_module_version": "^0.12.6",
       "_view_module_version": "^0.12.6",
       "max_native_zoom": 18,
       "min_native_zoom": 0,
       "options": [
        "attribution",
        "detect_retina",
        "max_native_zoom",
        "max_zoom",
        "min_native_zoom",
        "min_zoom",
        "no_wrap",
        "tile_size",
        "tms"
       ],
       "path": "/tiles/var/folders/f8/0034db6d78s5r6m34fxhpk7m0000gp/T/xarray_leaflet_12it4xre/{z}/{x}/{y}.png",
       "url": "/tiles/var/folders/f8/0034db6d78s5r6m34fxhpk7m0000gp/T/xarray_leaflet_12it4xre/{z}/{x}/{y}.png"
      }
     },
     "601aefe85df54aa99c400a0256afface": {
      "model_module": "@jupyter-widgets/base",
      "model_module_version": "1.2.0",
      "model_name": "LayoutModel",
      "state": {
       "height": "30px",
       "width": "30px"
      }
     },
     "6150afdab5ab4dd7a5f259976e254ad2": {
      "model_module": "jupyter-leaflet",
      "model_module_version": "^0.17",
      "model_name": "LeafletWidgetControlModel",
      "state": {
       "_model_module": "jupyter-leaflet",
       "_model_module_version": "^0.17",
       "_view_count": null,
       "_view_module": "jupyter-leaflet",
       "_view_module_version": "^0.17",
       "options": [
        "position",
        "transparent_bg"
       ],
       "position": "bottomright",
       "widget": "IPY_MODEL_5815878a419d4cc9b61db3d97e8e0fd3"
      }
     },
     "62353140f4054f42b444e40a9e7eee59": {
      "model_module": "jupyter-leaflet",
      "model_module_version": "^0.17",
      "model_name": "LeafletMapStyleModel",
      "state": {
       "_model_module_version": "^0.17",
       "cursor": "move"
      }
     },
     "6244be56d6c84cb887795cac46efba68": {
      "model_module": "@jupyter-widgets/base",
      "model_module_version": "1.2.0",
      "model_name": "LayoutModel",
      "state": {}
     },
     "625fea3ec6994b8396a65c5292426b17": {
      "model_module": "@jupyter-widgets/controls",
      "model_module_version": "1.5.0",
      "model_name": "SliderStyleModel",
      "state": {
       "description_width": ""
      }
     },
     "6294adb97c5f42e98e5825d35e748397": {
      "model_module": "jupyter-leaflet",
      "model_module_version": "^0.12.6",
      "model_name": "LeafletMapModel",
      "state": {
       "_model_module_version": "^0.12.6",
       "_view_module_version": "^0.12.6",
       "center": [
        -20,
        -60
       ],
       "controls": [
        "IPY_MODEL_cde60991aa7941f1b6e6e53e92438efc",
        "IPY_MODEL_13fed174730d43759f2dcb0fea8d1d51"
       ],
       "default_style": "IPY_MODEL_635e1a626fcd4030aff03189c5c9e6b4",
       "dragging_style": "IPY_MODEL_8e0ba9bdd3014a85b14860f0957e8ba3",
       "east": 26.367187500000004,
       "fullscreen": false,
       "interpolation": "bilinear",
       "layers": [
        "IPY_MODEL_2f703c5e6ce9437f8f9a2b30a25ebf48",
        "IPY_MODEL_31a8cc2b18ac4da89fe6b178cbd26624"
       ],
       "layout": "IPY_MODEL_efdf9048f56c41be90140069d613017c",
       "modisdate": "yesterday",
       "north": 14.604847155053898,
       "options": [
        "bounce_at_zoom_limits",
        "box_zoom",
        "center",
        "close_popup_on_click",
        "double_click_zoom",
        "dragging",
        "fullscreen",
        "inertia",
        "inertia_deceleration",
        "inertia_max_speed",
        "interpolation",
        "keyboard",
        "keyboard_pan_offset",
        "keyboard_zoom_offset",
        "max_zoom",
        "min_zoom",
        "scroll_wheel_zoom",
        "tap",
        "tap_tolerance",
        "touch_zoom",
        "world_copy_jump",
        "zoom",
        "zoom_animation_threshold",
        "zoom_start"
       ],
       "south": -48.45835188280866,
       "style": "IPY_MODEL_c397c2f36db54b8d98162e2e26a848d4",
       "west": -146.25000000000003,
       "window_url": "http://localhost:8888/notebooks/js/xarray-leaflet.ipynb",
       "zoom": 3
      }
     },
     "635e1a626fcd4030aff03189c5c9e6b4": {
      "model_module": "jupyter-leaflet",
      "model_module_version": "^0.12.6",
      "model_name": "LeafletMapStyleModel",
      "state": {
       "_model_module_version": "^0.12.6"
      }
     },
     "638edb4203cb43dd8c6a379b0590d43c": {
      "model_module": "@jupyter-widgets/base",
      "model_module_version": "1.2.0",
      "model_name": "LayoutModel",
      "state": {}
     },
     "63b56bd55c4d49b48a11ad5cccd915fc": {
      "model_module": "jupyter-leaflet",
      "model_module_version": "^0.17",
      "model_name": "LeafletLocalTileLayerModel",
      "state": {
       "_model_module_version": "^0.17",
       "_view_module_version": "^0.17",
       "name": "DEM",
       "options": [
        "attribution",
        "bounds",
        "detect_retina",
        "max_native_zoom",
        "max_zoom",
        "min_native_zoom",
        "min_zoom",
        "no_wrap",
        "tile_size",
        "tms",
        "zoom_offset"
       ]
      }
     },
     "63c024306bd54362bd0593db4b1b438d": {
      "model_module": "@jupyter-widgets/base",
      "model_module_version": "1.2.0",
      "model_name": "LayoutModel",
      "state": {}
     },
     "63e9723aa2ad4c4e94f36f32b6709a19": {
      "model_module": "jupyter-leaflet",
      "model_module_version": "^0.17",
      "model_name": "LeafletMapStyleModel",
      "state": {
       "_model_module_version": "^0.17",
       "cursor": "move"
      }
     },
     "643478478bad41fa93a6b02cfbb8e981": {
      "model_module": "@jupyter-widgets/base",
      "model_module_version": "1.2.0",
      "model_name": "LayoutModel",
      "state": {}
     },
     "64861f579bf942baa067436644be44ad": {
      "model_module": "@jupyter-widgets/controls",
      "model_module_version": "1.5.0",
      "model_name": "SliderStyleModel",
      "state": {
       "description_width": ""
      }
     },
     "64c258d05cc94bf886f8f3fe5a1fbaf7": {
      "model_module": "jupyter-leaflet",
      "model_module_version": "^0.12.6",
      "model_name": "LeafletAttributionControlModel",
      "state": {
       "_model_module_version": "^0.12.6",
       "_view_module_version": "^0.12.6",
       "options": [
        "position",
        "prefix"
       ],
       "position": "bottomright",
       "prefix": "Leaflet"
      }
     },
     "64f48ece316d41d59783916daa7e8726": {
      "model_module": "jupyter-leaflet",
      "model_module_version": "^0.17",
      "model_name": "LeafletZoomControlModel",
      "state": {
       "_model_module_version": "^0.17",
       "_view_module_version": "^0.17",
       "options": [
        "position",
        "zoom_in_text",
        "zoom_in_title",
        "zoom_out_text",
        "zoom_out_title"
       ]
      }
     },
     "655fb736a1ad4388aacef5a48155372c": {
      "model_module": "jupyter-leaflet",
      "model_module_version": "^0.12.6",
      "model_name": "LeafletMapStyleModel",
      "state": {
       "_model_module_version": "^0.12.6"
      }
     },
     "65848f708dfd4d87ba7f7b83b329a0df": {
      "model_module": "@jupyter-widgets/base",
      "model_module_version": "1.2.0",
      "model_name": "LayoutModel",
      "state": {}
     },
     "659344b596214641b396c0adbf901f7a": {
      "model_module": "jupyter-leaflet",
      "model_module_version": "^0.17",
      "model_name": "LeafletMapStyleModel",
      "state": {
       "_model_module_version": "^0.17",
       "cursor": "move"
      }
     },
     "65972886f71b49559627468f17d01d2b": {
      "model_module": "jupyter-leaflet",
      "model_module_version": "^0.17",
      "model_name": "LeafletZoomControlModel",
      "state": {
       "_model_module_version": "^0.17",
       "_view_module_version": "^0.17",
       "options": [
        "position",
        "zoom_in_text",
        "zoom_in_title",
        "zoom_out_text",
        "zoom_out_title"
       ]
      }
     },
     "65befc5f443947a490a66fb2f4091751": {
      "model_module": "@jupyter-widgets/base",
      "model_module_version": "1.2.0",
      "model_name": "LayoutModel",
      "state": {}
     },
     "6649a990e6404b23b670bdaa3b9cb3ef": {
      "model_module": "jupyter-leaflet",
      "model_module_version": "^0.17",
      "model_name": "LeafletMapModel",
      "state": {
       "_model_module_version": "^0.17",
       "_view_module_version": "^0.17",
       "center": [
        52.482780222078226,
        13.535156250000002
       ],
       "controls": [
        "IPY_MODEL_88e0acb2042f4f07b003908d27dc7847",
        "IPY_MODEL_78f738c51c8e4ed8b1165d60cde7010b"
       ],
       "default_style": "IPY_MODEL_7b029e07e58f46c583c8c9eb55902517",
       "dragging_style": "IPY_MODEL_62353140f4054f42b444e40a9e7eee59",
       "east": null,
       "fullscreen": false,
       "interpolation": "nearest",
       "layers": [
        "IPY_MODEL_a90ba33d41c44515a351418b782bbcb5"
       ],
       "layout": "IPY_MODEL_0a6109f71a2449b1a72b21f66f4c3558",
       "modisdate": "2023-07-11",
       "north": -90,
       "options": [
        "bounce_at_zoom_limits",
        "box_zoom",
        "center",
        "close_popup_on_click",
        "double_click_zoom",
        "dragging",
        "fullscreen",
        "inertia",
        "inertia_deceleration",
        "inertia_max_speed",
        "interpolation",
        "keyboard",
        "keyboard_pan_offset",
        "keyboard_zoom_offset",
        "max_zoom",
        "min_zoom",
        "prefer_canvas",
        "scroll_wheel_zoom",
        "tap",
        "tap_tolerance",
        "touch_zoom",
        "world_copy_jump",
        "zoom",
        "zoom_animation_threshold",
        "zoom_delta",
        "zoom_snap"
       ],
       "prefer_canvas": false,
       "south": 90,
       "style": "IPY_MODEL_7b029e07e58f46c583c8c9eb55902517",
       "west": null,
       "window_url": "http://localhost:8888/notebooks/js/xarray-leaflet.ipynb#",
       "zoom": 3
      }
     },
     "664d0880799a4dcbadec1e125847514c": {
      "model_module": "jupyter-leaflet",
      "model_module_version": "^0.17",
      "model_name": "LeafletMapModel",
      "state": {
       "_model_module_version": "^0.17",
       "_view_module_version": "^0.17",
       "bottom": 602,
       "center": [
        36.03133177633189,
        25.488281250000004
       ],
       "controls": [
        "IPY_MODEL_2aa4c1867c08464483c9cea2d408855a",
        "IPY_MODEL_7b7e6d78a7474f6b87abe58423f62512",
        "IPY_MODEL_f1be4aca79b6430abeee7de03311e6af",
        "IPY_MODEL_b6ab08c3f33341a5bad2c88e2740a663"
       ],
       "default_style": "IPY_MODEL_57c80858ed1c4bf9bcdcf0b63471bf9c",
       "dragging_style": "IPY_MODEL_cc811ad422e345e89ba494d5c4ec58c4",
       "east": 195.8203125,
       "fullscreen": false,
       "interpolation": "nearest",
       "layers": [
        "IPY_MODEL_e51b24a90adf495ea0eb96498fd07f0f"
       ],
       "layout": "IPY_MODEL_c8fff96af5e143d083c29fe021eb054f",
       "left": 100,
       "modisdate": "2023-07-11",
       "north": 73.02259157147301,
       "options": [
        "bounce_at_zoom_limits",
        "box_zoom",
        "center",
        "close_popup_on_click",
        "double_click_zoom",
        "dragging",
        "fullscreen",
        "inertia",
        "inertia_deceleration",
        "inertia_max_speed",
        "interpolation",
        "keyboard",
        "keyboard_pan_offset",
        "keyboard_zoom_offset",
        "max_zoom",
        "min_zoom",
        "prefer_canvas",
        "scroll_wheel_zoom",
        "tap",
        "tap_tolerance",
        "touch_zoom",
        "world_copy_jump",
        "zoom",
        "zoom_animation_threshold",
        "zoom_delta",
        "zoom_snap"
       ],
       "prefer_canvas": false,
       "right": 1069,
       "south": -30.145127183376115,
       "style": "IPY_MODEL_57c80858ed1c4bf9bcdcf0b63471bf9c",
       "top": 202,
       "west": -144.84375000000003,
       "window_url": "http://localhost:8888/notebooks/js/xarray-leaflet.ipynb#",
       "zoom": 2
      }
     },
     "66ab8b68f5cb42e9bd03501ec5354cbf": {
      "model_module": "jupyter-leaflet",
      "model_module_version": "^0.17",
      "model_name": "LeafletDrawControlModel",
      "state": {
       "_model_module_version": "^0.17",
       "_view_module_version": "^0.17",
       "options": [
        "position"
       ],
       "polygon": {},
       "polyline": {},
       "rectangle": {
        "shapeOptions": {
         "clickable": true,
         "color": "#3388ff",
         "fill": true,
         "fillColor": null,
         "fillOpacity": 0.5,
         "opacity": 0.5,
         "stroke": true,
         "weight": 4
        }
       }
      }
     },
     "679d2252c91848028524d3a8122f57d1": {
      "model_module": "@jupyter-widgets/base",
      "model_module_version": "1.2.0",
      "model_name": "LayoutModel",
      "state": {
       "height": "30px",
       "width": "30px"
      }
     },
     "67ebbb6aef014adbb669eb366ba691c6": {
      "model_module": "jupyter-leaflet",
      "model_module_version": "^0.17",
      "model_name": "LeafletMapModel",
      "state": {
       "_model_module_version": "^0.17",
       "_view_module_version": "^0.17",
       "bottom": 1077,
       "center": [
        25.005972656239187,
        117.33398437500001
       ],
       "controls": [
        "IPY_MODEL_53373f1257f74a12b5f2247fe7055860",
        "IPY_MODEL_f103075f4e554c4783ff4533238b399b",
        "IPY_MODEL_90130642d8f84f2581faaaa30f17214d",
        "IPY_MODEL_d2a93c18449c4200ab6e81623fe058af"
       ],
       "default_style": "IPY_MODEL_3b48885253b8435a83961e84c9e7675e",
       "dragging_style": "IPY_MODEL_57d42962a6ca464abb5337572b7e2f0d",
       "east": 202.50000000000003,
       "fullscreen": false,
       "interpolation": "nearest",
       "layers": [
        "IPY_MODEL_3bf24602bc2b4f1e896f8ad7f874c015"
       ],
       "layout": "IPY_MODEL_5e5572f1771b4bf3a7d66ec258206dc5",
       "left": 1207,
       "modisdate": "2023-07-11",
       "north": 51.944264879028765,
       "options": [
        "bounce_at_zoom_limits",
        "box_zoom",
        "center",
        "close_popup_on_click",
        "double_click_zoom",
        "dragging",
        "fullscreen",
        "inertia",
        "inertia_deceleration",
        "inertia_max_speed",
        "interpolation",
        "keyboard",
        "keyboard_pan_offset",
        "keyboard_zoom_offset",
        "max_zoom",
        "min_zoom",
        "prefer_canvas",
        "scroll_wheel_zoom",
        "tap",
        "tap_tolerance",
        "touch_zoom",
        "world_copy_jump",
        "zoom",
        "zoom_animation_threshold",
        "zoom_delta",
        "zoom_snap"
       ],
       "prefer_canvas": false,
       "right": 2176,
       "south": -9.275622176792098,
       "style": "IPY_MODEL_3b48885253b8435a83961e84c9e7675e",
       "top": 677,
       "west": 32.16796875000001,
       "window_url": "http://localhost:8888/notebooks/js/xarray-leaflet.ipynb#",
       "zoom": 3
      }
     },
     "67f08232db3040cdb75c006f22a6cadc": {
      "model_module": "@jupyter-widgets/controls",
      "model_module_version": "1.5.0",
      "model_name": "FloatSliderModel",
      "state": {
       "description": "opacity",
       "layout": "IPY_MODEL_7110bf94f4ab429182715746041d5898",
       "max": 1,
       "step": 0.1,
       "style": "IPY_MODEL_50386d713f0f436292942c9a8637af04",
       "value": 1
      }
     },
     "69cddbbb9e2448208b4616119276e66a": {
      "model_module": "jupyter-leaflet",
      "model_module_version": "^0.17",
      "model_name": "LeafletTileLayerModel",
      "state": {
       "_model_module_version": "^0.17",
       "_view_module_version": "^0.17",
       "attribution": "&copy; <a href=\"https://www.openstreetmap.org/copyright\">OpenStreetMap</a> contributors &copy; <a href=\"https://carto.com/attributions\">CARTO</a>",
       "base": true,
       "max_zoom": 20,
       "min_zoom": 1,
       "name": "CartoDB.DarkMatter",
       "options": [
        "attribution",
        "bounds",
        "detect_retina",
        "max_native_zoom",
        "max_zoom",
        "min_native_zoom",
        "min_zoom",
        "no_wrap",
        "tile_size",
        "tms",
        "zoom_offset"
       ],
       "url": "https://a.basemaps.cartocdn.com/dark_all/{z}/{x}/{y}.png"
      }
     },
     "69f5b9d10e5b4bb786a2ae8a7d72fe95": {
      "model_module": "@jupyter-widgets/base",
      "model_module_version": "1.2.0",
      "model_name": "LayoutModel",
      "state": {}
     },
     "69f5f73a2aa44a76ba3b3cd6e7dc5268": {
      "model_module": "@jupyter-widgets/controls",
      "model_module_version": "1.5.0",
      "model_name": "FloatSliderModel",
      "state": {
       "description": "opacity",
       "layout": "IPY_MODEL_c0b2a99d778f4edd9d5881a4adc9894c",
       "max": 1,
       "step": 0.1,
       "style": "IPY_MODEL_56dac1ca94d945eb969fa9c6cb0ccda4",
       "value": 0.8
      }
     },
     "6a3eacf49ee0475bbba4a4a3c5cd3d54": {
      "model_module": "jupyter-leaflet",
      "model_module_version": "^0.17",
      "model_name": "LeafletMapStyleModel",
      "state": {
       "_model_module_version": "^0.17",
       "cursor": "move"
      }
     },
     "6a4954f161164f9f86fe0639fa1ec802": {
      "model_module": "@jupyter-widgets/controls",
      "model_module_version": "1.5.0",
      "model_name": "SliderStyleModel",
      "state": {
       "description_width": ""
      }
     },
     "6a5ef78b98cb42569eb67cfe6482a2c8": {
      "model_module": "@jupyter-widgets/base",
      "model_module_version": "1.2.0",
      "model_name": "LayoutModel",
      "state": {}
     },
     "6a896a07479c44d588bbe695c764a31e": {
      "model_module": "ipyspin",
      "model_module_version": "^1.0.0",
      "model_name": "SpinnerModel",
      "state": {
       "_model_module_version": "^1.0.0",
       "_view_module_version": "^1.0.0",
       "layout": "IPY_MODEL_17353b9a157a45228592f4534ee5315d",
       "length": 3,
       "lines": 8,
       "radius": 5,
       "width": 5,
       "window_url": "http://localhost:8888/notebooks/js/xarray-leaflet.ipynb#"
      }
     },
     "6a9a7247b0f54838af839b09a919e8a3": {
      "model_module": "jupyter-leaflet",
      "model_module_version": "^0.17",
      "model_name": "LeafletAttributionControlModel",
      "state": {
       "_model_module_version": "^0.17",
       "_view_module_version": "^0.17",
       "options": [
        "position",
        "prefix"
       ],
       "position": "bottomright",
       "prefix": "ipyleaflet"
      }
     },
     "6a9cbe3e5d864ff192b359c22022f213": {
      "model_module": "@jupyter-widgets/base",
      "model_module_version": "1.2.0",
      "model_name": "LayoutModel",
      "state": {}
     },
     "6ac2f5b67f634ef1b9336f2cf33c3867": {
      "model_module": "ipyspin",
      "model_module_version": "^1.0.0",
      "model_name": "SpinnerModel",
      "state": {
       "_model_module_version": "^1.0.0",
       "_view_module_version": "^1.0.0",
       "layout": "IPY_MODEL_4b9b9abd89d2432aaaf40bef522a76db",
       "length": 3,
       "lines": 8,
       "radius": 5,
       "width": 5,
       "window_url": "http://localhost:8888/notebooks/js/xarray-leaflet.ipynb#"
      }
     },
     "6c61a4ce7c1c4919b1ecc114918844f1": {
      "model_module": "@jupyter-widgets/base",
      "model_module_version": "1.2.0",
      "model_name": "LayoutModel",
      "state": {}
     },
     "6c76ed00bb734c3f8a2f7aa9247ed29a": {
      "model_module": "@jupyter-widgets/controls",
      "model_module_version": "1.5.0",
      "model_name": "BoxModel",
      "state": {
       "children": [
        "IPY_MODEL_838b44401d704cc09f270c1a062c3ab1"
       ],
       "layout": "IPY_MODEL_e57299be38004b4eb1d2d9d586e7903f"
      }
     },
     "6c7babba882b478a8846fc80f03bc4c0": {
      "model_module": "jupyter-leaflet",
      "model_module_version": "^0.17",
      "model_name": "LeafletZoomControlModel",
      "state": {
       "_model_module_version": "^0.17",
       "_view_module_version": "^0.17",
       "options": [
        "position",
        "zoom_in_text",
        "zoom_in_title",
        "zoom_out_text",
        "zoom_out_title"
       ]
      }
     },
     "6cbb78aa9a1f4f5c9db9111ea96d3887": {
      "model_module": "jupyter-leaflet",
      "model_module_version": "^0.12.6",
      "model_name": "LeafletZoomControlModel",
      "state": {
       "_model_module_version": "^0.12.6",
       "_view_module_version": "^0.12.6",
       "options": [
        "position",
        "zoom_in_text",
        "zoom_in_title",
        "zoom_out_text",
        "zoom_out_title"
       ]
      }
     },
     "6cd14968d88649e6aceb88aa4b5a5cc3": {
      "model_module": "jupyter-leaflet",
      "model_module_version": "^0.17",
      "model_name": "LeafletTileLayerModel",
      "state": {
       "_model_module_version": "^0.17",
       "_view_module_version": "^0.17",
       "attribution": "&copy; <a href=\"https://www.openstreetmap.org/copyright\">OpenStreetMap</a> contributors &copy; <a href=\"https://carto.com/attributions\">CARTO</a>",
       "base": true,
       "max_zoom": 20,
       "min_zoom": 1,
       "name": "CartoDB.Positron",
       "options": [
        "attribution",
        "bounds",
        "detect_retina",
        "max_native_zoom",
        "max_zoom",
        "min_native_zoom",
        "min_zoom",
        "no_wrap",
        "tile_size",
        "tms",
        "zoom_offset"
       ],
       "url": "https://a.basemaps.cartocdn.com/light_all/{z}/{x}/{y}.png"
      }
     },
     "6cfdd256c4244e66b35f8c7b8916503f": {
      "model_module": "jupyter-leaflet",
      "model_module_version": "^0.17",
      "model_name": "LeafletWidgetControlModel",
      "state": {
       "_model_module": "jupyter-leaflet",
       "_model_module_version": "^0.17",
       "_view_count": null,
       "_view_module": "jupyter-leaflet",
       "_view_module_version": "^0.17",
       "options": [
        "position",
        "transparent_bg"
       ],
       "position": "bottomright",
       "widget": "IPY_MODEL_48351c4e054247688ee5de962b5db2fe"
      }
     },
     "6d23da1445384f1eb8ca565694e521bc": {
      "model_module": "@jupyter-widgets/base",
      "model_module_version": "1.2.0",
      "model_name": "LayoutModel",
      "state": {}
     },
     "6d43c72a9b0e49e683129a07c1e72283": {
      "model_module": "jupyter-leaflet",
      "model_module_version": "^0.17",
      "model_name": "LeafletLayersControlModel",
      "state": {
       "_model_module_version": "^0.17",
       "_view_module_version": "^0.17",
       "options": [
        "position"
       ],
       "position": "topright"
      }
     },
     "6e6316e4e2954184be507d75970ed285": {
      "model_module": "@jupyter-widgets/base",
      "model_module_version": "1.2.0",
      "model_name": "LayoutModel",
      "state": {}
     },
     "6eed799eaccd4e5681c639a0a9c49806": {
      "model_module": "@jupyter-widgets/base",
      "model_module_version": "1.2.0",
      "model_name": "LayoutModel",
      "state": {}
     },
     "6f17cab1e082421b8171c0527087a6a0": {
      "model_module": "jupyter-leaflet",
      "model_module_version": "^0.12.6",
      "model_name": "LeafletMapModel",
      "state": {
       "_model_module_version": "^0.12.6",
       "_view_module_version": "^0.12.6",
       "center": [
        -20,
        -60
       ],
       "controls": [
        "IPY_MODEL_7edb73e753374682830c1ec86305f78e",
        "IPY_MODEL_3d87076f35814525a86f208f269d365e"
       ],
       "default_style": "IPY_MODEL_24c0c3245ab44a76a97fe0c609c3727b",
       "dragging_style": "IPY_MODEL_c192441d14444ce19c37b8ea356f285d",
       "east": 26.367187500000004,
       "fullscreen": false,
       "interpolation": "bilinear",
       "layers": [
        "IPY_MODEL_23dc4714d3ea4d6f9564796b6b6a87f1",
        "IPY_MODEL_0c0bf1c3eb054af3971f26223c12e343"
       ],
       "layout": "IPY_MODEL_1fed352667454f93b51be7dc4c51ee9d",
       "modisdate": "yesterday",
       "north": 14.604847155053898,
       "options": [
        "bounce_at_zoom_limits",
        "box_zoom",
        "center",
        "close_popup_on_click",
        "double_click_zoom",
        "dragging",
        "fullscreen",
        "inertia",
        "inertia_deceleration",
        "inertia_max_speed",
        "interpolation",
        "keyboard",
        "keyboard_pan_offset",
        "keyboard_zoom_offset",
        "max_zoom",
        "min_zoom",
        "scroll_wheel_zoom",
        "tap",
        "tap_tolerance",
        "touch_zoom",
        "world_copy_jump",
        "zoom",
        "zoom_animation_threshold",
        "zoom_start"
       ],
       "south": -48.45835188280866,
       "style": "IPY_MODEL_82254bdb701b466db58558d6dbaccfa6",
       "west": -146.25000000000003,
       "window_url": "http://localhost:8888/notebooks/js/xarray-leaflet.ipynb",
       "zoom": 3
      }
     },
     "6f39321da30141e7ae20530bf81a6e98": {
      "model_module": "jupyter-leaflet",
      "model_module_version": "^0.12.6",
      "model_name": "LeafletMapModel",
      "state": {
       "_model_module_version": "^0.12.6",
       "_view_module_version": "^0.12.6",
       "center": [
        -20,
        -60
       ],
       "controls": [
        "IPY_MODEL_dd374e1fc64e40ce8941a74d3748bb65",
        "IPY_MODEL_4e46ee0334594f88bcb5452cd67592ab"
       ],
       "default_style": "IPY_MODEL_182a0e0b9f544787b2eb37df13829b5c",
       "dragging_style": "IPY_MODEL_42f9fe8760fd48bb935a3142d22470cf",
       "east": 26.367187500000004,
       "fullscreen": false,
       "interpolation": "bilinear",
       "layers": [
        "IPY_MODEL_a8c2f9a2e6544fbc950a72f4dfb7fab9",
        "IPY_MODEL_55844bdf113a4e46b2b1c8263996a52f",
        "IPY_MODEL_5f4cec21740944cf8968e5bd269c107d"
       ],
       "layout": "IPY_MODEL_6e6316e4e2954184be507d75970ed285",
       "modisdate": "yesterday",
       "north": 14.604847155053898,
       "options": [
        "bounce_at_zoom_limits",
        "box_zoom",
        "center",
        "close_popup_on_click",
        "double_click_zoom",
        "dragging",
        "fullscreen",
        "inertia",
        "inertia_deceleration",
        "inertia_max_speed",
        "interpolation",
        "keyboard",
        "keyboard_pan_offset",
        "keyboard_zoom_offset",
        "max_zoom",
        "min_zoom",
        "scroll_wheel_zoom",
        "tap",
        "tap_tolerance",
        "touch_zoom",
        "world_copy_jump",
        "zoom",
        "zoom_animation_threshold",
        "zoom_start"
       ],
       "south": -48.45835188280866,
       "style": "IPY_MODEL_4b5d8ded16c149c19bc2b4f688a8756d",
       "west": -146.25000000000003,
       "window_url": "http://localhost:8888/notebooks/js/xarray-leaflet.ipynb",
       "zoom": 3
      }
     },
     "6ff96d67365f43f6826fba022ac633bc": {
      "model_module": "jupyter-leaflet",
      "model_module_version": "^0.12.6",
      "model_name": "LeafletMapModel",
      "state": {
       "_model_module_version": "^0.12.6",
       "_view_module_version": "^0.12.6",
       "center": [
        -20,
        -60
       ],
       "controls": [
        "IPY_MODEL_fb1f71f9d21b4ec786e2af85cc2e5a7b",
        "IPY_MODEL_9781adcc788d4639b0ece232ad3a5f5d"
       ],
       "default_style": "IPY_MODEL_d2fbf07b2ac5429bb9eda86d6b916869",
       "dragging_style": "IPY_MODEL_f25199fdf3f04dd383406d586f634d2d",
       "east": 26.367187500000004,
       "fullscreen": false,
       "interpolation": "bilinear",
       "layers": [
        "IPY_MODEL_ef2730c7f56b416484bdce946f053193",
        "IPY_MODEL_87ce275fc7c94c83b31def8ac4ec21c9"
       ],
       "layout": "IPY_MODEL_26525a4e2d3846aa8c263616ea1d7e49",
       "modisdate": "yesterday",
       "north": 14.604847155053898,
       "options": [
        "bounce_at_zoom_limits",
        "box_zoom",
        "center",
        "close_popup_on_click",
        "double_click_zoom",
        "dragging",
        "fullscreen",
        "inertia",
        "inertia_deceleration",
        "inertia_max_speed",
        "interpolation",
        "keyboard",
        "keyboard_pan_offset",
        "keyboard_zoom_offset",
        "max_zoom",
        "min_zoom",
        "scroll_wheel_zoom",
        "tap",
        "tap_tolerance",
        "touch_zoom",
        "world_copy_jump",
        "zoom",
        "zoom_animation_threshold",
        "zoom_start"
       ],
       "south": -48.45835188280866,
       "style": "IPY_MODEL_4e5d6135fc724497b952a3893ec906de",
       "west": -146.25000000000003,
       "window_url": "http://localhost:8888/notebooks/js/xarray-leaflet.ipynb",
       "zoom": 3
      }
     },
     "702bb1d2cc4a44f7aec54db28702dbbb": {
      "model_module": "@jupyter-widgets/controls",
      "model_module_version": "1.5.0",
      "model_name": "BoxModel",
      "state": {
       "children": [
        "IPY_MODEL_55c1386d14fc4d73bd891b3f9fd87ebc"
       ],
       "layout": "IPY_MODEL_2d808df3511c4a398711617f1ab1230a"
      }
     },
     "70836597df244f7291c7c54c0a7de82e": {
      "model_module": "jupyter-leaflet",
      "model_module_version": "^0.17",
      "model_name": "LeafletAttributionControlModel",
      "state": {
       "_model_module_version": "^0.17",
       "_view_module_version": "^0.17",
       "options": [
        "position",
        "prefix"
       ],
       "position": "bottomright",
       "prefix": "ipyleaflet"
      }
     },
     "7110bf94f4ab429182715746041d5898": {
      "model_module": "@jupyter-widgets/base",
      "model_module_version": "1.2.0",
      "model_name": "LayoutModel",
      "state": {}
     },
     "71ad686536f94957b1e22f5d3c9f4eba": {
      "model_module": "@jupyter-widgets/controls",
      "model_module_version": "1.5.0",
      "model_name": "BoxModel",
      "state": {
       "children": [
        "IPY_MODEL_67f08232db3040cdb75c006f22a6cadc"
       ],
       "layout": "IPY_MODEL_8b828e2a65124e6ea312902067c6550f"
      }
     },
     "7272a24611e64ce9ad9893df35ac9fe3": {
      "model_module": "ipyspin",
      "model_module_version": "^1.0.0",
      "model_name": "SpinnerModel",
      "state": {
       "_model_module_version": "^1.0.0",
       "_view_module_version": "^1.0.0",
       "layout": "IPY_MODEL_94ac1efcb44b4c92aac2372da40a45e3",
       "length": 3,
       "lines": 8,
       "radius": 5,
       "width": 5,
       "window_url": "http://localhost:8888/notebooks/js/xarray-leaflet.ipynb#"
      }
     },
     "72a8ae2c93fb4621909f62187c9f734b": {
      "model_module": "@jupyter-widgets/controls",
      "model_module_version": "1.5.0",
      "model_name": "BoxModel",
      "state": {
       "children": [
        "IPY_MODEL_41e56528ca0740ef8e7d3ed79eb67958"
       ],
       "layout": "IPY_MODEL_a95f278847b44822a4d98c44e918f616"
      }
     },
     "739ca27cd53b4ea69139a7b414006448": {
      "model_module": "@jupyter-widgets/base",
      "model_module_version": "1.2.0",
      "model_name": "LayoutModel",
      "state": {}
     },
     "7432f81482144f1b83f0cf826b74a9cd": {
      "model_module": "@jupyter-widgets/base",
      "model_module_version": "1.2.0",
      "model_name": "LayoutModel",
      "state": {
       "height": "30px",
       "width": "30px"
      }
     },
     "74957bf0865b4e468d7c51139e9c653c": {
      "model_module": "jupyter-leaflet",
      "model_module_version": "^0.17",
      "model_name": "LeafletAttributionControlModel",
      "state": {
       "_model_module_version": "^0.17",
       "_view_module_version": "^0.17",
       "options": [
        "position",
        "prefix"
       ],
       "position": "bottomright",
       "prefix": "ipyleaflet"
      }
     },
     "7586e4e48c2e4911a870ad2b07e2d8e3": {
      "model_module": "jupyter-leaflet",
      "model_module_version": "^0.12.6",
      "model_name": "LeafletMapStyleModel",
      "state": {
       "_model_module_version": "^0.12.6"
      }
     },
     "75a81e0235a24b12b520e6f2a06234c1": {
      "model_module": "jupyter-leaflet",
      "model_module_version": "^0.12.6",
      "model_name": "LeafletLocalTileLayerModel",
      "state": {
       "_model_module_version": "^0.12.6",
       "_view_module_version": "^0.12.6",
       "max_native_zoom": 18,
       "min_native_zoom": 0,
       "options": [
        "attribution",
        "detect_retina",
        "max_native_zoom",
        "max_zoom",
        "min_native_zoom",
        "min_zoom",
        "no_wrap",
        "tile_size",
        "tms"
       ],
       "path": "./xarray_leaflet_tiles/tmph__igc3v/{z}/{x}/{y}.png"
      }
     },
     "760c2b25be1b4dbc95cbb10c49a548fb": {
      "model_module": "@jupyter-widgets/controls",
      "model_module_version": "1.5.0",
      "model_name": "SliderStyleModel",
      "state": {
       "description_width": ""
      }
     },
     "7714601d837f466a8192d6c3fd94e762": {
      "model_module": "@jupyter-widgets/base",
      "model_module_version": "1.2.0",
      "model_name": "LayoutModel",
      "state": {}
     },
     "771bcc0bdd194c4cb6718ffcc008c801": {
      "model_module": "jupyter-leaflet",
      "model_module_version": "^0.17",
      "model_name": "LeafletWidgetControlModel",
      "state": {
       "_model_module": "jupyter-leaflet",
       "_model_module_version": "^0.17",
       "_view_count": null,
       "_view_module": "jupyter-leaflet",
       "_view_module_version": "^0.17",
       "options": [
        "position",
        "transparent_bg"
       ],
       "position": "bottomright",
       "widget": "IPY_MODEL_7272a24611e64ce9ad9893df35ac9fe3"
      }
     },
     "7771a2a665a4448a99d65d5275cde6b6": {
      "model_module": "@jupyter-widgets/base",
      "model_module_version": "1.2.0",
      "model_name": "LayoutModel",
      "state": {}
     },
     "77b7350aed2b457186f632ad0d16620a": {
      "model_module": "@jupyter-widgets/controls",
      "model_module_version": "1.5.0",
      "model_name": "SliderStyleModel",
      "state": {
       "description_width": ""
      }
     },
     "780b12e4176b444a98efffe1d0792c01": {
      "model_module": "jupyter-leaflet",
      "model_module_version": "^0.17",
      "model_name": "LeafletMapStyleModel",
      "state": {
       "_model_module_version": "^0.17"
      }
     },
     "78314fe074b84e929f678962887ca69e": {
      "model_module": "jupyter-leaflet",
      "model_module_version": "^0.17",
      "model_name": "LeafletWidgetControlModel",
      "state": {
       "_model_module": "jupyter-leaflet",
       "_model_module_version": "^0.17",
       "_view_count": null,
       "_view_module": "jupyter-leaflet",
       "_view_module_version": "^0.17",
       "options": [
        "position",
        "transparent_bg"
       ],
       "position": "bottomleft",
       "widget": "IPY_MODEL_bd18fced93ed4efa80273a73db67b5c1"
      }
     },
     "78c8841162de49958c55d3967a342206": {
      "model_module": "@jupyter-widgets/base",
      "model_module_version": "1.2.0",
      "model_name": "LayoutModel",
      "state": {}
     },
     "78cb0e8815d140178e09d94ca1b327c4": {
      "model_module": "@jupyter-widgets/base",
      "model_module_version": "1.2.0",
      "model_name": "LayoutModel",
      "state": {}
     },
     "78f738c51c8e4ed8b1165d60cde7010b": {
      "model_module": "jupyter-leaflet",
      "model_module_version": "^0.17",
      "model_name": "LeafletAttributionControlModel",
      "state": {
       "_model_module_version": "^0.17",
       "_view_module_version": "^0.17",
       "options": [
        "position",
        "prefix"
       ],
       "position": "bottomright",
       "prefix": "ipyleaflet"
      }
     },
     "79f54855fa6b48618701f4e90597ed21": {
      "model_module": "@jupyter-widgets/base",
      "model_module_version": "1.2.0",
      "model_name": "LayoutModel",
      "state": {}
     },
     "7a46133aee8e432396eed0c609c600eb": {
      "model_module": "jupyter-leaflet",
      "model_module_version": "^0.17",
      "model_name": "LeafletLayersControlModel",
      "state": {
       "_model_module_version": "^0.17",
       "_view_module_version": "^0.17",
       "options": [
        "position"
       ],
       "position": "topright"
      }
     },
     "7a936290e99f4282aadad6f05dc0522c": {
      "model_module": "@jupyter-widgets/base",
      "model_module_version": "1.2.0",
      "model_name": "LayoutModel",
      "state": {}
     },
     "7b029e07e58f46c583c8c9eb55902517": {
      "model_module": "jupyter-leaflet",
      "model_module_version": "^0.17",
      "model_name": "LeafletMapStyleModel",
      "state": {
       "_model_module_version": "^0.17"
      }
     },
     "7b32bd7e099e4ed588560cad348031a5": {
      "model_module": "jupyter-leaflet",
      "model_module_version": "^0.12.6",
      "model_name": "LeafletMapStyleModel",
      "state": {
       "_model_module_version": "^0.12.6",
       "cursor": "move"
      }
     },
     "7b7e6d78a7474f6b87abe58423f62512": {
      "model_module": "jupyter-leaflet",
      "model_module_version": "^0.17",
      "model_name": "LeafletAttributionControlModel",
      "state": {
       "_model_module_version": "^0.17",
       "_view_module_version": "^0.17",
       "options": [
        "position",
        "prefix"
       ],
       "position": "bottomright",
       "prefix": "ipyleaflet"
      }
     },
     "7bff18945d5643718db91fd90ce0df1d": {
      "model_module": "jupyter-leaflet",
      "model_module_version": "^0.17",
      "model_name": "LeafletTileLayerModel",
      "state": {
       "_model_module_version": "^0.17",
       "_view_module_version": "^0.17",
       "attribution": "&copy; <a href=\"https://www.openstreetmap.org/copyright\">OpenStreetMap</a> contributors &copy; <a href=\"https://carto.com/attributions\">CARTO</a>",
       "base": true,
       "max_zoom": 20,
       "min_zoom": 1,
       "name": "CartoDB.Positron",
       "options": [
        "attribution",
        "bounds",
        "detect_retina",
        "max_native_zoom",
        "max_zoom",
        "min_native_zoom",
        "min_zoom",
        "no_wrap",
        "tile_size",
        "tms",
        "zoom_offset"
       ],
       "url": "https://a.basemaps.cartocdn.com/light_all/{z}/{x}/{y}.png"
      }
     },
     "7c5b071f58e447dca40cd2ecad777f90": {
      "model_module": "jupyter-leaflet",
      "model_module_version": "^0.17",
      "model_name": "LeafletMapStyleModel",
      "state": {
       "_model_module_version": "^0.17"
      }
     },
     "7d4b1a37186047cbb2000ccea8ea26ec": {
      "model_module": "@jupyter-widgets/base",
      "model_module_version": "1.2.0",
      "model_name": "LayoutModel",
      "state": {}
     },
     "7e5197d693054813ba9020c4064e66bb": {
      "model_module": "@jupyter-widgets/base",
      "model_module_version": "1.2.0",
      "model_name": "LayoutModel",
      "state": {}
     },
     "7e5f2394a55549428225562ad1176ace": {
      "model_module": "jupyter-leaflet",
      "model_module_version": "^0.17",
      "model_name": "LeafletMapStyleModel",
      "state": {
       "_model_module_version": "^0.17"
      }
     },
     "7edb73e753374682830c1ec86305f78e": {
      "model_module": "jupyter-leaflet",
      "model_module_version": "^0.12.6",
      "model_name": "LeafletZoomControlModel",
      "state": {
       "_model_module_version": "^0.12.6",
       "_view_module_version": "^0.12.6",
       "options": [
        "position",
        "zoom_in_text",
        "zoom_in_title",
        "zoom_out_text",
        "zoom_out_title"
       ]
      }
     },
     "7f4929f7283e45c38e4c8bb8463d910b": {
      "model_module": "jupyter-leaflet",
      "model_module_version": "^0.17",
      "model_name": "LeafletLocalTileLayerModel",
      "state": {
       "_model_module_version": "^0.17",
       "_view_module_version": "^0.17",
       "name": "DEM",
       "options": [
        "attribution",
        "bounds",
        "detect_retina",
        "max_native_zoom",
        "max_zoom",
        "min_native_zoom",
        "min_zoom",
        "no_wrap",
        "tile_size",
        "tms",
        "zoom_offset"
       ]
      }
     },
     "7f96e314ab194d35bb67e74758759567": {
      "model_module": "jupyter-leaflet",
      "model_module_version": "^0.12.6",
      "model_name": "LeafletZoomControlModel",
      "state": {
       "_model_module_version": "^0.12.6",
       "_view_module_version": "^0.12.6",
       "options": [
        "position",
        "zoom_in_text",
        "zoom_in_title",
        "zoom_out_text",
        "zoom_out_title"
       ]
      }
     },
     "7fc796d939154472b32446971214b8bb": {
      "model_module": "jupyter-leaflet",
      "model_module_version": "^0.12.6",
      "model_name": "LeafletZoomControlModel",
      "state": {
       "_model_module_version": "^0.12.6",
       "_view_module_version": "^0.12.6",
       "options": [
        "position",
        "zoom_in_text",
        "zoom_in_title",
        "zoom_out_text",
        "zoom_out_title"
       ]
      }
     },
     "7fddaab737ff45a691ebffbd291098bf": {
      "model_module": "jupyter-leaflet",
      "model_module_version": "^0.17",
      "model_name": "LeafletZoomControlModel",
      "state": {
       "_model_module_version": "^0.17",
       "_view_module_version": "^0.17",
       "options": [
        "position",
        "zoom_in_text",
        "zoom_in_title",
        "zoom_out_text",
        "zoom_out_title"
       ]
      }
     },
     "801828174ec34c6f9e4b71baffc0b6ff": {
      "model_module": "@jupyter-widgets/controls",
      "model_module_version": "1.5.0",
      "model_name": "SliderStyleModel",
      "state": {
       "description_width": ""
      }
     },
     "803cd2567f9e455485e72726ad400aa0": {
      "model_module": "jupyter-leaflet",
      "model_module_version": "^0.17",
      "model_name": "LeafletMapStyleModel",
      "state": {
       "_model_module_version": "^0.17"
      }
     },
     "807e9ab5787a494aaf39cfc99df25fda": {
      "model_module": "jupyter-leaflet",
      "model_module_version": "^0.17",
      "model_name": "LeafletLayersControlModel",
      "state": {
       "_model_module_version": "^0.17",
       "_view_module_version": "^0.17",
       "options": [
        "position"
       ],
       "position": "topright"
      }
     },
     "80c2608557a54fd48a5730f696d175a3": {
      "model_module": "jupyter-leaflet",
      "model_module_version": "^0.17",
      "model_name": "LeafletMapStyleModel",
      "state": {
       "_model_module_version": "^0.17"
      }
     },
     "80eb5f309048475eafd302ca638de3b4": {
      "model_module": "@jupyter-widgets/controls",
      "model_module_version": "1.5.0",
      "model_name": "FloatSliderModel",
      "state": {
       "description": "Opacity:",
       "layout": "IPY_MODEL_ff6547b38f0747c19724bf11c07402e1",
       "max": 1,
       "step": 0.1,
       "style": "IPY_MODEL_959ec0a17c9e4917bb0fc47fa0c482b7",
       "value": 0.4
      }
     },
     "814e69c1f67d409381c57c86afafe7ed": {
      "model_module": "jupyter-leaflet",
      "model_module_version": "^0.17",
      "model_name": "LeafletLayersControlModel",
      "state": {
       "_model_module_version": "^0.17",
       "_view_module_version": "^0.17",
       "options": [
        "position"
       ],
       "position": "topright"
      }
     },
     "81e57cb8185b4a378d727d7c95fd5ceb": {
      "model_module": "jupyter-leaflet",
      "model_module_version": "^0.12.6",
      "model_name": "LeafletAttributionControlModel",
      "state": {
       "_model_module_version": "^0.12.6",
       "_view_module_version": "^0.12.6",
       "options": [
        "position",
        "prefix"
       ],
       "position": "bottomright",
       "prefix": "Leaflet"
      }
     },
     "82254bdb701b466db58558d6dbaccfa6": {
      "model_module": "jupyter-leaflet",
      "model_module_version": "^0.12.6",
      "model_name": "LeafletMapStyleModel",
      "state": {
       "_model_module_version": "^0.12.6"
      }
     },
     "82c6f1d43c39442e82e551ffa82c5a64": {
      "model_module": "@jupyter-widgets/controls",
      "model_module_version": "1.5.0",
      "model_name": "BoxModel",
      "state": {
       "children": [
        "IPY_MODEL_ba66a419c3204e16ac2d71e6c1796f97"
       ],
       "layout": "IPY_MODEL_3b2a61da4ec7491ab1238dfb3fee5856"
      }
     },
     "832069ad5f33470c9a5e6ff60657dad1": {
      "model_module": "@jupyter-widgets/controls",
      "model_module_version": "1.5.0",
      "model_name": "SliderStyleModel",
      "state": {
       "description_width": ""
      }
     },
     "83277a49358a4e53ba088a6c0a2b7c70": {
      "model_module": "jupyter-leaflet",
      "model_module_version": "^0.17",
      "model_name": "LeafletLocalTileLayerModel",
      "state": {
       "_model_module_version": "^0.17",
       "_view_module_version": "^0.17",
       "name": "DEM",
       "opacity": 0.5,
       "options": [
        "attribution",
        "bounds",
        "detect_retina",
        "max_native_zoom",
        "max_zoom",
        "min_native_zoom",
        "min_zoom",
        "no_wrap",
        "tile_size",
        "tms",
        "zoom_offset"
       ]
      }
     },
     "83593630f26a40c49d72ffd5567fda77": {
      "model_module": "jupyter-leaflet",
      "model_module_version": "^0.17",
      "model_name": "LeafletTileLayerModel",
      "state": {
       "_model_module_version": "^0.17",
       "_view_module_version": "^0.17",
       "attribution": "&copy; <a href=\"https://www.openstreetmap.org/copyright\">OpenStreetMap</a> contributors &copy; <a href=\"https://carto.com/attributions\">CARTO</a>",
       "base": true,
       "max_zoom": 20,
       "min_zoom": 1,
       "name": "CartoDB.DarkMatter",
       "options": [
        "attribution",
        "bounds",
        "detect_retina",
        "max_native_zoom",
        "max_zoom",
        "min_native_zoom",
        "min_zoom",
        "no_wrap",
        "tile_size",
        "tms",
        "zoom_offset"
       ],
       "url": "https://a.basemaps.cartocdn.com/dark_all/{z}/{x}/{y}.png"
      }
     },
     "83880e5282ac49479d3268eb84796019": {
      "model_module": "jupyter-leaflet",
      "model_module_version": "^0.17",
      "model_name": "LeafletLocalTileLayerModel",
      "state": {
       "_model_module_version": "^0.17",
       "_view_module_version": "^0.17",
       "name": "DEM",
       "options": [
        "attribution",
        "bounds",
        "detect_retina",
        "max_native_zoom",
        "max_zoom",
        "min_native_zoom",
        "min_zoom",
        "no_wrap",
        "tile_size",
        "tms",
        "zoom_offset"
       ]
      }
     },
     "838b44401d704cc09f270c1a062c3ab1": {
      "model_module": "@jupyter-widgets/controls",
      "model_module_version": "1.5.0",
      "model_name": "FloatSliderModel",
      "state": {
       "description": "opacity",
       "layout": "IPY_MODEL_2c07c345dda24b1cac2755ea6fa15e51",
       "max": 1,
       "step": 0.1,
       "style": "IPY_MODEL_061d97d2c00b4d698717ae1d95e6518e",
       "value": 1
      }
     },
     "838ef4f5fdd04bedae6e22cbdc6d7526": {
      "model_module": "@jupyter-widgets/base",
      "model_module_version": "1.2.0",
      "model_name": "LayoutModel",
      "state": {}
     },
     "849f342de0ed4dafa18b392c8f317c8a": {
      "model_module": "@jupyter-widgets/controls",
      "model_module_version": "1.5.0",
      "model_name": "FloatSliderModel",
      "state": {
       "description": "opacity",
       "layout": "IPY_MODEL_e56c9acad7f04b10ad2f93659aa91809",
       "max": 1,
       "step": 0.1,
       "style": "IPY_MODEL_d21453441f2048949cd6eb25ebbd3229",
       "value": 1
      }
     },
     "856008e6c246495b841e5a206387d0a0": {
      "model_module": "jupyter-leaflet",
      "model_module_version": "^0.17",
      "model_name": "LeafletWidgetControlModel",
      "state": {
       "_model_module": "jupyter-leaflet",
       "_model_module_version": "^0.17",
       "_view_count": null,
       "_view_module": "jupyter-leaflet",
       "_view_module_version": "^0.17",
       "options": [
        "position",
        "transparent_bg"
       ],
       "position": "bottomleft",
       "widget": "IPY_MODEL_bf9c0cc2286b4c06b9bf8a7f40353fa8"
      }
     },
     "8616ba6bdb7440f6b5339fbb27c1c127": {
      "model_module": "jupyter-leaflet",
      "model_module_version": "^0.17",
      "model_name": "LeafletAttributionControlModel",
      "state": {
       "_model_module_version": "^0.17",
       "_view_module_version": "^0.17",
       "options": [
        "position",
        "prefix"
       ],
       "position": "bottomright",
       "prefix": "ipyleaflet"
      }
     },
     "86291df8c7174343ba57cdbc3c53b6c3": {
      "model_module": "jupyter-leaflet",
      "model_module_version": "^0.17",
      "model_name": "LeafletWidgetControlModel",
      "state": {
       "_model_module": "jupyter-leaflet",
       "_model_module_version": "^0.17",
       "_view_count": null,
       "_view_module": "jupyter-leaflet",
       "_view_module_version": "^0.17",
       "options": [
        "position",
        "transparent_bg"
       ],
       "position": "bottomright",
       "widget": "IPY_MODEL_3935945ecc3c4b4488a524b3560034d4"
      }
     },
     "86d9fa14aff3421a8da01d55c103044d": {
      "model_module": "@jupyter-widgets/base",
      "model_module_version": "1.2.0",
      "model_name": "LayoutModel",
      "state": {}
     },
     "87471ddf2401442784c4efcbfa3e540c": {
      "model_module": "jupyter-leaflet",
      "model_module_version": "^0.17",
      "model_name": "LeafletWidgetControlModel",
      "state": {
       "_model_module": "jupyter-leaflet",
       "_model_module_version": "^0.17",
       "_view_count": null,
       "_view_module": "jupyter-leaflet",
       "_view_module_version": "^0.17",
       "options": [
        "position",
        "transparent_bg"
       ],
       "position": "bottomright",
       "widget": "IPY_MODEL_f1667f5798974879a7f63111dd037022"
      }
     },
     "878e27ac6d5c4443a91d95bf019eeaae": {
      "model_module": "jupyter-leaflet",
      "model_module_version": "^0.17",
      "model_name": "LeafletZoomControlModel",
      "state": {
       "_model_module_version": "^0.17",
       "_view_module_version": "^0.17",
       "options": [
        "position",
        "zoom_in_text",
        "zoom_in_title",
        "zoom_out_text",
        "zoom_out_title"
       ]
      }
     },
     "87ce275fc7c94c83b31def8ac4ec21c9": {
      "model_module": "jupyter-leaflet",
      "model_module_version": "^0.12.6",
      "model_name": "LeafletLocalTileLayerModel",
      "state": {
       "_model_module_version": "^0.12.6",
       "_view_module_version": "^0.12.6",
       "max_native_zoom": 18,
       "min_native_zoom": 0,
       "options": [
        "attribution",
        "detect_retina",
        "max_native_zoom",
        "max_zoom",
        "min_native_zoom",
        "min_zoom",
        "no_wrap",
        "tile_size",
        "tms"
       ],
       "path": "/tiles/var/folders/f8/0034db6d78s5r6m34fxhpk7m0000gp/T/xarray_leaflet_dt4pbvav/{z}/{x}/{y}.png",
       "url": "/tiles/var/folders/f8/0034db6d78s5r6m34fxhpk7m0000gp/T/xarray_leaflet_dt4pbvav/{z}/{x}/{y}.png"
      }
     },
     "8898e609ef574fbcba7daa1f1845dca5": {
      "model_module": "@jupyter-widgets/base",
      "model_module_version": "1.2.0",
      "model_name": "LayoutModel",
      "state": {}
     },
     "88bccf9733ee45f797ad1e8f288998c8": {
      "model_module": "ipyurl",
      "model_module_version": "^0.1.2",
      "model_name": "UrlModel",
      "state": {
       "_model_module_version": "^0.1.2",
       "_view_module_version": "^0.1.2",
       "layout": "IPY_MODEL_7d4b1a37186047cbb2000ccea8ea26ec"
      }
     },
     "88e0acb2042f4f07b003908d27dc7847": {
      "model_module": "jupyter-leaflet",
      "model_module_version": "^0.17",
      "model_name": "LeafletZoomControlModel",
      "state": {
       "_model_module_version": "^0.17",
       "_view_module_version": "^0.17",
       "options": [
        "position",
        "zoom_in_text",
        "zoom_in_title",
        "zoom_out_text",
        "zoom_out_title"
       ]
      }
     },
     "8974e3a7969b49b1bbe9c15fae0467df": {
      "model_module": "@jupyter-widgets/controls",
      "model_module_version": "1.5.0",
      "model_name": "FloatSliderModel",
      "state": {
       "description": "Opacity:",
       "layout": "IPY_MODEL_5dfe844f168243558e1aa6f2a08df8ed",
       "max": 1,
       "step": 0.1,
       "style": "IPY_MODEL_d6d5b619bd0847f6bedc1836dec16210",
       "value": 1
      }
     },
     "8a46327048c84c4ca249a77e2fa030e0": {
      "model_module": "jupyter-leaflet",
      "model_module_version": "^0.17",
      "model_name": "LeafletWidgetControlModel",
      "state": {
       "_model_module": "jupyter-leaflet",
       "_model_module_version": "^0.17",
       "_view_count": null,
       "_view_module": "jupyter-leaflet",
       "_view_module_version": "^0.17",
       "options": [
        "position",
        "transparent_bg"
       ],
       "position": "bottomright",
       "widget": "IPY_MODEL_a057325281f64fd89db1f8044b92ab0f"
      }
     },
     "8a62049d6b354901a8a59c10c8d40f84": {
      "model_module": "@jupyter-widgets/base",
      "model_module_version": "1.2.0",
      "model_name": "LayoutModel",
      "state": {}
     },
     "8a87923987ca42088a17861404c6ff42": {
      "model_module": "jupyter-leaflet",
      "model_module_version": "^0.12.6",
      "model_name": "LeafletAttributionControlModel",
      "state": {
       "_model_module_version": "^0.12.6",
       "_view_module_version": "^0.12.6",
       "options": [
        "position",
        "prefix"
       ],
       "position": "bottomright",
       "prefix": "Leaflet"
      }
     },
     "8b828e2a65124e6ea312902067c6550f": {
      "model_module": "@jupyter-widgets/base",
      "model_module_version": "1.2.0",
      "model_name": "LayoutModel",
      "state": {}
     },
     "8bbc9155335247c889a5720f6402fe96": {
      "model_module": "jupyter-leaflet",
      "model_module_version": "^0.12.6",
      "model_name": "LeafletMapModel",
      "state": {
       "_model_module_version": "^0.12.6",
       "_view_module_version": "^0.12.6",
       "center": [
        -20,
        -60
       ],
       "controls": [
        "IPY_MODEL_ab6c9a56fceb4403987ac0346cbaee56",
        "IPY_MODEL_aace453091dc4b1e8174b75f4dda2837"
       ],
       "default_style": "IPY_MODEL_ba8440309a304f79b2e5cf95b863eaac",
       "dragging_style": "IPY_MODEL_2dfa1387448e4891ac39783bf3c4a460",
       "east": 26.367187500000004,
       "fullscreen": false,
       "interpolation": "bilinear",
       "layers": [
        "IPY_MODEL_a2406d51a3254deda649a8f2ba775dd1"
       ],
       "layout": "IPY_MODEL_b035e652c8244825a0fc43d5014632b3",
       "modisdate": "yesterday",
       "north": 14.604847155053898,
       "options": [
        "bounce_at_zoom_limits",
        "box_zoom",
        "center",
        "close_popup_on_click",
        "double_click_zoom",
        "dragging",
        "fullscreen",
        "inertia",
        "inertia_deceleration",
        "inertia_max_speed",
        "interpolation",
        "keyboard",
        "keyboard_pan_offset",
        "keyboard_zoom_offset",
        "max_zoom",
        "min_zoom",
        "scroll_wheel_zoom",
        "tap",
        "tap_tolerance",
        "touch_zoom",
        "world_copy_jump",
        "zoom",
        "zoom_animation_threshold",
        "zoom_start"
       ],
       "south": -48.45835188280866,
       "style": "IPY_MODEL_021c036fc7414401bf843723dcc4428f",
       "west": -146.25000000000003,
       "window_url": "http://localhost:8888/notebooks/js/xarray-leaflet.ipynb",
       "zoom": 3
      }
     },
     "8bcd8d3bc09741bbb52d4ea9d5f01940": {
      "model_module": "jupyter-leaflet",
      "model_module_version": "^0.17",
      "model_name": "LeafletMapStyleModel",
      "state": {
       "_model_module_version": "^0.17"
      }
     },
     "8d21b3e8d775440ba8c7c8bbac0e8df9": {
      "model_module": "jupyter-leaflet",
      "model_module_version": "^0.17",
      "model_name": "LeafletMapStyleModel",
      "state": {
       "_model_module_version": "^0.17"
      }
     },
     "8d7c44f1e536481f86b04521cae737c0": {
      "model_module": "jupyter-leaflet",
      "model_module_version": "^0.17",
      "model_name": "LeafletMapStyleModel",
      "state": {
       "_model_module_version": "^0.17"
      }
     },
     "8de547e5bcd447d195f11b5c85fa39de": {
      "model_module": "jupyter-leaflet",
      "model_module_version": "^0.17",
      "model_name": "LeafletTileLayerModel",
      "state": {
       "_model_module_version": "^0.17",
       "_view_module_version": "^0.17",
       "attribution": "&copy; <a href=\"https://www.openstreetmap.org/copyright\">OpenStreetMap</a> contributors &copy; <a href=\"https://carto.com/attributions\">CARTO</a>",
       "base": true,
       "max_zoom": 20,
       "min_zoom": 1,
       "name": "CartoDB.Positron",
       "options": [
        "attribution",
        "bounds",
        "detect_retina",
        "max_native_zoom",
        "max_zoom",
        "min_native_zoom",
        "min_zoom",
        "no_wrap",
        "tile_size",
        "tms",
        "zoom_offset"
       ],
       "url": "https://a.basemaps.cartocdn.com/light_all/{z}/{x}/{y}.png"
      }
     },
     "8e0ba9bdd3014a85b14860f0957e8ba3": {
      "model_module": "jupyter-leaflet",
      "model_module_version": "^0.12.6",
      "model_name": "LeafletMapStyleModel",
      "state": {
       "_model_module_version": "^0.12.6",
       "cursor": "move"
      }
     },
     "8e0f00c20e764eaaa19b05755266c0f6": {
      "model_module": "jupyter-leaflet",
      "model_module_version": "^0.12.6",
      "model_name": "LeafletMapStyleModel",
      "state": {
       "_model_module_version": "^0.12.6"
      }
     },
     "8e3ec28585fa4ed8a99441422052e8ad": {
      "model_module": "jupyter-leaflet",
      "model_module_version": "^0.17",
      "model_name": "LeafletZoomControlModel",
      "state": {
       "_model_module_version": "^0.17",
       "_view_module_version": "^0.17",
       "options": [
        "position",
        "zoom_in_text",
        "zoom_in_title",
        "zoom_out_text",
        "zoom_out_title"
       ]
      }
     },
     "8f81c46728cd42baacb92304ff47a601": {
      "model_module": "jupyter-leaflet",
      "model_module_version": "^0.17",
      "model_name": "LeafletDrawControlModel",
      "state": {
       "_model_module_version": "^0.17",
       "_view_module_version": "^0.17",
       "options": [
        "position"
       ],
       "polygon": {},
       "polyline": {},
       "rectangle": {
        "shapeOptions": {
         "clickable": true,
         "color": "#3388ff",
         "fill": true,
         "fillColor": null,
         "fillOpacity": 0.5,
         "opacity": 0.5,
         "stroke": true,
         "weight": 4
        }
       }
      }
     },
     "8f95d3603d93404e8b7b992043e2ee26": {
      "model_module": "@jupyter-widgets/base",
      "model_module_version": "1.2.0",
      "model_name": "LayoutModel",
      "state": {
       "height": "30px",
       "width": "30px"
      }
     },
     "8fe4fdd7b876421e9d37fe3392736197": {
      "model_module": "jupyter-leaflet",
      "model_module_version": "^0.17",
      "model_name": "LeafletAttributionControlModel",
      "state": {
       "_model_module_version": "^0.17",
       "_view_module_version": "^0.17",
       "options": [
        "position",
        "prefix"
       ],
       "position": "bottomright",
       "prefix": "ipyleaflet"
      }
     },
     "8fed9900147b4d84b2f944ab19b065f8": {
      "model_module": "jupyter-leaflet",
      "model_module_version": "^0.12.6",
      "model_name": "LeafletTileLayerModel",
      "state": {
       "_model_module_version": "^0.12.6",
       "_view_module_version": "^0.12.6",
       "attribution": "&copy; <a href=\"http://www.openstreetmap.org/copyright\">OpenStreetMap</a> &copy; <a href=\"http://cartodb.com/attributions\">CartoDB</a>",
       "base": true,
       "max_native_zoom": 18,
       "max_zoom": 20,
       "min_native_zoom": 0,
       "min_zoom": 1,
       "name": "CartoDB.Positron",
       "options": [
        "attribution",
        "detect_retina",
        "max_native_zoom",
        "max_zoom",
        "min_native_zoom",
        "min_zoom",
        "no_wrap",
        "tile_size",
        "tms"
       ],
       "url": "http://c.basemaps.cartocdn.com/light_all/{z}/{x}/{y}.png"
      }
     },
     "90130642d8f84f2581faaaa30f17214d": {
      "model_module": "jupyter-leaflet",
      "model_module_version": "^0.17",
      "model_name": "LeafletLayersControlModel",
      "state": {
       "_model_module_version": "^0.17",
       "_view_module_version": "^0.17",
       "options": [
        "position"
       ],
       "position": "topright"
      }
     },
     "908ee915b80b4d5993d5a020dc7d304b": {
      "model_module": "@jupyter-widgets/controls",
      "model_module_version": "1.5.0",
      "model_name": "BoxModel",
      "state": {
       "children": [
        "IPY_MODEL_bb43a40b91c34ccda5f4561e424f6c0f"
       ],
       "layout": "IPY_MODEL_3fd65a3875ef4403aa44e47b909c4f7f"
      }
     },
     "909f7b4fea954bdea268a9f4f6e955ef": {
      "model_module": "jupyter-leaflet",
      "model_module_version": "^0.17",
      "model_name": "LeafletMapModel",
      "state": {
       "_model_module_version": "^0.17",
       "_view_module_version": "^0.17",
       "bottom": 419,
       "center": [
        24.999999999998593,
        117.4999999999975
       ],
       "controls": [
        "IPY_MODEL_5d58b3f7e0d64abdafb0c3a5e967cfe9",
        "IPY_MODEL_17cb25c695ed4859a9329c3873801388"
       ],
       "default_style": "IPY_MODEL_30fce7c9e6a04aa3a1158b7659bf3f3e",
       "dragging_style": "IPY_MODEL_3f2890dd5f404beb8d9cda57e93c2fe7",
       "east": 458.43750000000006,
       "fullscreen": false,
       "interpolation": "bilinear",
       "layers": [
        "IPY_MODEL_563239b4e3c646da8d72e51175540fbb"
       ],
       "layout": "IPY_MODEL_57d641fbcee64386b436bc9935b7d15c",
       "left": -61,
       "modisdate": "2023-07-11",
       "north": 83.7539108491127,
       "options": [
        "bounce_at_zoom_limits",
        "box_zoom",
        "center",
        "close_popup_on_click",
        "double_click_zoom",
        "dragging",
        "fullscreen",
        "inertia",
        "inertia_deceleration",
        "inertia_max_speed",
        "interpolation",
        "keyboard",
        "keyboard_pan_offset",
        "keyboard_zoom_offset",
        "max_zoom",
        "min_zoom",
        "prefer_canvas",
        "scroll_wheel_zoom",
        "tap",
        "tap_tolerance",
        "touch_zoom",
        "world_copy_jump",
        "zoom",
        "zoom_animation_threshold",
        "zoom_delta",
        "zoom_snap"
       ],
       "prefer_canvas": false,
       "right": 908,
       "south": -74.59010800882324,
       "style": "IPY_MODEL_30fce7c9e6a04aa3a1158b7659bf3f3e",
       "top": 19,
       "west": -222.890625,
       "window_url": "http://localhost:8888/notebooks/js/xarray-leaflet.ipynb#",
       "zoom": 1
      }
     },
     "915703f396ac4967b620de280b3580e5": {
      "model_module": "@jupyter-widgets/controls",
      "model_module_version": "1.5.0",
      "model_name": "FloatSliderModel",
      "state": {
       "description": "Opacity:",
       "layout": "IPY_MODEL_7714601d837f466a8192d6c3fd94e762",
       "max": 1,
       "step": 0.1,
       "style": "IPY_MODEL_625fea3ec6994b8396a65c5292426b17",
       "value": 1
      }
     },
     "92674fdce790441f98f98ffc02984624": {
      "model_module": "jupyter-leaflet",
      "model_module_version": "^0.12.6",
      "model_name": "LeafletMapStyleModel",
      "state": {
       "_model_module_version": "^0.12.6"
      }
     },
     "92ab899fb09740a1bb0039125101679e": {
      "model_module": "jupyter-leaflet",
      "model_module_version": "^0.17",
      "model_name": "LeafletZoomControlModel",
      "state": {
       "_model_module_version": "^0.17",
       "_view_module_version": "^0.17",
       "options": [
        "position",
        "zoom_in_text",
        "zoom_in_title",
        "zoom_out_text",
        "zoom_out_title"
       ]
      }
     },
     "935ea0036eae4254939c6164f0da2eca": {
      "model_module": "@jupyter-widgets/base",
      "model_module_version": "1.2.0",
      "model_name": "LayoutModel",
      "state": {}
     },
     "93619289eb214b8aa9bba00d19884d95": {
      "model_module": "jupyter-leaflet",
      "model_module_version": "^0.17",
      "model_name": "LeafletLocalTileLayerModel",
      "state": {
       "_model_module_version": "^0.17",
       "_view_module_version": "^0.17",
       "name": "DEM",
       "options": [
        "attribution",
        "bounds",
        "detect_retina",
        "max_native_zoom",
        "max_zoom",
        "min_native_zoom",
        "min_zoom",
        "no_wrap",
        "tile_size",
        "tms",
        "zoom_offset"
       ]
      }
     },
     "938b293005c74a01aaff1b5ff5a5e64b": {
      "model_module": "@jupyter-widgets/base",
      "model_module_version": "1.2.0",
      "model_name": "LayoutModel",
      "state": {
       "height": "30px",
       "width": "30px"
      }
     },
     "940581c0aa7141f8aaa7574d50d726c5": {
      "model_module": "jupyter-leaflet",
      "model_module_version": "^0.17",
      "model_name": "LeafletMapStyleModel",
      "state": {
       "_model_module_version": "^0.17",
       "cursor": "move"
      }
     },
     "9461e257f0e749df90acd506d1bd0d72": {
      "model_module": "jupyter-leaflet",
      "model_module_version": "^0.17",
      "model_name": "LeafletMapStyleModel",
      "state": {
       "_model_module_version": "^0.17"
      }
     },
     "94ac1efcb44b4c92aac2372da40a45e3": {
      "model_module": "@jupyter-widgets/base",
      "model_module_version": "1.2.0",
      "model_name": "LayoutModel",
      "state": {
       "height": "30px",
       "width": "30px"
      }
     },
     "959c9d67623e4bb793c97c3e3fbe32bc": {
      "model_module": "jupyter-leaflet",
      "model_module_version": "^0.17",
      "model_name": "LeafletWidgetControlModel",
      "state": {
       "_model_module": "jupyter-leaflet",
       "_model_module_version": "^0.17",
       "_view_count": null,
       "_view_module": "jupyter-leaflet",
       "_view_module_version": "^0.17",
       "options": [
        "position",
        "transparent_bg"
       ],
       "position": "bottomleft",
       "widget": "IPY_MODEL_a5ef146a6802481998e5707a407f3e3b"
      }
     },
     "959ec0a17c9e4917bb0fc47fa0c482b7": {
      "model_module": "@jupyter-widgets/controls",
      "model_module_version": "1.5.0",
      "model_name": "SliderStyleModel",
      "state": {
       "description_width": ""
      }
     },
     "95ba3263db014e578dd5fe8aa2ef4862": {
      "model_module": "jupyter-leaflet",
      "model_module_version": "^0.17",
      "model_name": "LeafletMapModel",
      "state": {
       "_model_module_version": "^0.17",
       "_view_module_version": "^0.17",
       "bottom": 602,
       "center": [
        35.999999999999034,
        25.49999999999842
       ],
       "controls": [
        "IPY_MODEL_8e3ec28585fa4ed8a99441422052e8ad",
        "IPY_MODEL_4c844105ceeb45d1bf2fd3e7baf8aa65",
        "IPY_MODEL_5d7a3d4b650d4e4e9e3b2c4cb60b0fe9",
        "IPY_MODEL_3d5e0a0f8ca34ca59f0dda117bd21872",
        "IPY_MODEL_24c589c0840f43bb9dd8d19f57ac238e"
       ],
       "default_style": "IPY_MODEL_301eaa1ab74b4c3f81993db3ea0d2a8e",
       "dragging_style": "IPY_MODEL_2a67dcb986cd48bda02e4c5e20fc755b",
       "east": 195.8203125,
       "fullscreen": false,
       "interpolation": "nearest",
       "layers": [
        "IPY_MODEL_1785965d7f4149f0b9838e5abf571413"
       ],
       "layout": "IPY_MODEL_148f1646786d4a9ebaf774f5fbc87387",
       "left": 100,
       "modisdate": "2023-07-11",
       "north": 73.02259157147301,
       "options": [
        "bounce_at_zoom_limits",
        "box_zoom",
        "center",
        "close_popup_on_click",
        "double_click_zoom",
        "dragging",
        "fullscreen",
        "inertia",
        "inertia_deceleration",
        "inertia_max_speed",
        "interpolation",
        "keyboard",
        "keyboard_pan_offset",
        "keyboard_zoom_offset",
        "max_zoom",
        "min_zoom",
        "prefer_canvas",
        "scroll_wheel_zoom",
        "tap",
        "tap_tolerance",
        "touch_zoom",
        "world_copy_jump",
        "zoom",
        "zoom_animation_threshold",
        "zoom_delta",
        "zoom_snap"
       ],
       "prefer_canvas": false,
       "right": 1069,
       "south": -30.145127183376115,
       "style": "IPY_MODEL_301eaa1ab74b4c3f81993db3ea0d2a8e",
       "top": 202,
       "west": -144.84375000000003,
       "window_url": "http://localhost:8888/notebooks/js/xarray-leaflet.ipynb#",
       "zoom": 2
      }
     },
     "966e266d6a724aefa7b3dc8465e7c64d": {
      "model_module": "jupyter-leaflet",
      "model_module_version": "^0.17",
      "model_name": "LeafletMapStyleModel",
      "state": {
       "_model_module_version": "^0.17"
      }
     },
     "9731092c7e92430cadf32ec5351219ba": {
      "model_module": "@jupyter-widgets/base",
      "model_module_version": "1.2.0",
      "model_name": "LayoutModel",
      "state": {}
     },
     "9736a4655d5d4c2ea3da3a7a81a893bd": {
      "model_module": "jupyter-leaflet",
      "model_module_version": "^0.17",
      "model_name": "LeafletLocalTileLayerModel",
      "state": {
       "_model_module_version": "^0.17",
       "_view_module_version": "^0.17",
       "name": "DEM",
       "options": [
        "attribution",
        "bounds",
        "detect_retina",
        "max_native_zoom",
        "max_zoom",
        "min_native_zoom",
        "min_zoom",
        "no_wrap",
        "tile_size",
        "tms",
        "zoom_offset"
       ]
      }
     },
     "9781adcc788d4639b0ece232ad3a5f5d": {
      "model_module": "jupyter-leaflet",
      "model_module_version": "^0.12.6",
      "model_name": "LeafletAttributionControlModel",
      "state": {
       "_model_module_version": "^0.12.6",
       "_view_module_version": "^0.12.6",
       "options": [
        "position",
        "prefix"
       ],
       "position": "bottomright",
       "prefix": "Leaflet"
      }
     },
     "97966a92fd7146a796608feefd993b7b": {
      "model_module": "jupyter-leaflet",
      "model_module_version": "^0.17",
      "model_name": "LeafletZoomControlModel",
      "state": {
       "_model_module_version": "^0.17",
       "_view_module_version": "^0.17",
       "options": [
        "position",
        "zoom_in_text",
        "zoom_in_title",
        "zoom_out_text",
        "zoom_out_title"
       ]
      }
     },
     "97b438fd311342518b7d8c40683eca3e": {
      "model_module": "jupyter-leaflet",
      "model_module_version": "^0.17",
      "model_name": "LeafletAttributionControlModel",
      "state": {
       "_model_module_version": "^0.17",
       "_view_module_version": "^0.17",
       "options": [
        "position",
        "prefix"
       ],
       "position": "bottomright",
       "prefix": "ipyleaflet"
      }
     },
     "98c5b83929be4db180e2789aab0e8274": {
      "model_module": "@jupyter-widgets/controls",
      "model_module_version": "1.5.0",
      "model_name": "FloatSliderModel",
      "state": {
       "description": "opacity",
       "layout": "IPY_MODEL_78c8841162de49958c55d3967a342206",
       "max": 1,
       "min": 0.1,
       "step": 0.1,
       "style": "IPY_MODEL_d846bb06ca2d42f29e09b2cad8ad145b",
       "value": 1
      }
     },
     "98f1635dbe4f41b88bca604653e86709": {
      "model_module": "@jupyter-widgets/base",
      "model_module_version": "1.2.0",
      "model_name": "LayoutModel",
      "state": {}
     },
     "99cf56d6a54e463ab6319c6c21fbdbcd": {
      "model_module": "jupyter-leaflet",
      "model_module_version": "^0.17",
      "model_name": "LeafletDrawControlModel",
      "state": {
       "_model_module_version": "^0.17",
       "_view_module_version": "^0.17",
       "data": [
        {
         "geometry": {
          "coordinates": [
           [
            [
             -16.348214,
             31.047915
            ],
            [
             -16.348214,
             60.756298
            ],
            [
             38.156162,
             60.756298
            ],
            [
             38.156162,
             31.047915
            ],
            [
             -16.348214,
             31.047915
            ]
           ]
          ],
          "type": "Polygon"
         },
         "properties": {
          "style": {
           "clickable": true,
           "color": "#3388ff",
           "fill": true,
           "fillColor": null,
           "fillOpacity": 0.5,
           "opacity": 0.5,
           "stroke": true,
           "weight": 4
          }
         },
         "type": "Feature"
        }
       ],
       "options": [
        "position"
       ],
       "polygon": {},
       "polyline": {},
       "rectangle": {
        "shapeOptions": {
         "clickable": true,
         "color": "#3388ff",
         "fill": true,
         "fillColor": null,
         "fillOpacity": 0.5,
         "opacity": 0.5,
         "stroke": true,
         "weight": 4
        }
       }
      }
     },
     "99fa597ee7ce45cfbb79b097c5bb2a2f": {
      "model_module": "jupyter-leaflet",
      "model_module_version": "^0.12.6",
      "model_name": "LeafletAttributionControlModel",
      "state": {
       "_model_module_version": "^0.12.6",
       "_view_module_version": "^0.12.6",
       "options": [
        "position",
        "prefix"
       ],
       "position": "bottomright",
       "prefix": "Leaflet"
      }
     },
     "9a09a4cd69f14219a1bf99d63b6b2511": {
      "model_module": "jupyter-leaflet",
      "model_module_version": "^0.17",
      "model_name": "LeafletWidgetControlModel",
      "state": {
       "_model_module": "jupyter-leaflet",
       "_model_module_version": "^0.17",
       "_view_count": null,
       "_view_module": "jupyter-leaflet",
       "_view_module_version": "^0.17",
       "options": [
        "position",
        "transparent_bg"
       ],
       "position": "bottomright",
       "widget": "IPY_MODEL_26d5f93ddc6c42af90a9a7cca3e50b2f"
      }
     },
     "9b5aa6c709c84461a05f942af5b982c6": {
      "model_module": "@jupyter-widgets/base",
      "model_module_version": "1.2.0",
      "model_name": "LayoutModel",
      "state": {}
     },
     "9bcb23d9e7ba43478ecf69c0424f4f1b": {
      "model_module": "@jupyter-widgets/base",
      "model_module_version": "1.2.0",
      "model_name": "LayoutModel",
      "state": {}
     },
     "9bd94d10070e4679a930f69f7f07893c": {
      "model_module": "@jupyter-widgets/base",
      "model_module_version": "1.2.0",
      "model_name": "LayoutModel",
      "state": {}
     },
     "9ce7fa36f40b4fdbb5f24c254d7b3ec8": {
      "model_module": "jupyter-leaflet",
      "model_module_version": "^0.17",
      "model_name": "LeafletZoomControlModel",
      "state": {
       "_model_module_version": "^0.17",
       "_view_module_version": "^0.17",
       "options": [
        "position",
        "zoom_in_text",
        "zoom_in_title",
        "zoom_out_text",
        "zoom_out_title"
       ]
      }
     },
     "9d713a4b5a2b462395b15833759ee95c": {
      "model_module": "jupyter-leaflet",
      "model_module_version": "^0.12.6",
      "model_name": "LeafletTileLayerModel",
      "state": {
       "_model_module_version": "^0.12.6",
       "_view_module_version": "^0.12.6",
       "attribution": "&copy; <a href=\"http://www.openstreetmap.org/copyright\">OpenStreetMap</a> &copy; <a href=\"http://cartodb.com/attributions\">CartoDB</a>",
       "base": true,
       "max_native_zoom": 18,
       "max_zoom": 20,
       "min_native_zoom": 0,
       "min_zoom": 1,
       "name": "CartoDB.Positron",
       "options": [
        "attribution",
        "detect_retina",
        "max_native_zoom",
        "max_zoom",
        "min_native_zoom",
        "min_zoom",
        "no_wrap",
        "tile_size",
        "tms"
       ],
       "url": "http://c.basemaps.cartocdn.com/light_all/{z}/{x}/{y}.png"
      }
     },
     "9ec91df5c38c4aeca10eedd07850c244": {
      "model_module": "jupyter-leaflet",
      "model_module_version": "^0.17",
      "model_name": "LeafletLocalTileLayerModel",
      "state": {
       "_model_module_version": "^0.17",
       "_view_module_version": "^0.17",
       "name": "DEM",
       "opacity": 0.8,
       "options": [
        "attribution",
        "bounds",
        "detect_retina",
        "max_native_zoom",
        "max_zoom",
        "min_native_zoom",
        "min_zoom",
        "no_wrap",
        "tile_size",
        "tms",
        "zoom_offset"
       ]
      }
     },
     "9ecfbfa18332424cb2dc74ce2cdb89b0": {
      "model_module": "ipyspin",
      "model_module_version": "^1.0.0",
      "model_name": "SpinnerModel",
      "state": {
       "_model_module_version": "^1.0.0",
       "_view_module_version": "^1.0.0",
       "layout": "IPY_MODEL_7432f81482144f1b83f0cf826b74a9cd",
       "length": 3,
       "lines": 8,
       "radius": 5,
       "width": 5,
       "window_url": "http://localhost:8888/notebooks/js/xarray-leaflet.ipynb#"
      }
     },
     "9f6d7308127c4e4491ec3697c0676bc0": {
      "model_module": "jupyter-leaflet",
      "model_module_version": "^0.17",
      "model_name": "LeafletMapStyleModel",
      "state": {
       "_model_module_version": "^0.17",
       "cursor": "move"
      }
     },
     "9fb6db93b37d47eeb65fe7bf6ec5054c": {
      "model_module": "jupyter-leaflet",
      "model_module_version": "^0.17",
      "model_name": "LeafletTileLayerModel",
      "state": {
       "_model_module_version": "^0.17",
       "_view_module_version": "^0.17",
       "attribution": "&copy; <a href=\"https://www.openstreetmap.org/copyright\">OpenStreetMap</a> contributors &copy; <a href=\"https://carto.com/attributions\">CARTO</a>",
       "base": true,
       "max_zoom": 20,
       "min_zoom": 1,
       "name": "CartoDB.DarkMatter",
       "options": [
        "attribution",
        "bounds",
        "detect_retina",
        "max_native_zoom",
        "max_zoom",
        "min_native_zoom",
        "min_zoom",
        "no_wrap",
        "tile_size",
        "tms",
        "zoom_offset"
       ],
       "url": "https://a.basemaps.cartocdn.com/dark_all/{z}/{x}/{y}.png"
      }
     },
     "a057325281f64fd89db1f8044b92ab0f": {
      "model_module": "ipyspin",
      "model_module_version": "^1.0.0",
      "model_name": "SpinnerModel",
      "state": {
       "_model_module_version": "^1.0.0",
       "_view_module_version": "^1.0.0",
       "layout": "IPY_MODEL_a4ac1b881998413d800c4f768e14fe68",
       "length": 3,
       "lines": 8,
       "radius": 5,
       "width": 5,
       "window_url": "http://localhost:8888/notebooks/js/xarray-leaflet.ipynb#"
      }
     },
     "a0a286a2a4ab474382b56b7cb9e478bd": {
      "model_module": "jupyter-leaflet",
      "model_module_version": "^0.12.6",
      "model_name": "LeafletMapStyleModel",
      "state": {
       "_model_module_version": "^0.12.6"
      }
     },
     "a0c569eff69842d2ac044f8fda0f9464": {
      "model_module": "@jupyter-widgets/controls",
      "model_module_version": "1.5.0",
      "model_name": "FloatSliderModel",
      "state": {
       "description": "opacity",
       "layout": "IPY_MODEL_9bd94d10070e4679a930f69f7f07893c",
       "max": 1,
       "min": 0.1,
       "step": 0.1,
       "style": "IPY_MODEL_3ea86e286b7f4e31ab47209037ce2aa4",
       "value": 1
      }
     },
     "a10fd294c57c4e649baac6dc2beae3b2": {
      "model_module": "jupyter-leaflet",
      "model_module_version": "^0.12.6",
      "model_name": "LeafletMapModel",
      "state": {
       "_model_module_version": "^0.12.6",
       "_view_module_version": "^0.12.6",
       "center": [
        -20,
        -60
       ],
       "controls": [
        "IPY_MODEL_7fc796d939154472b32446971214b8bb",
        "IPY_MODEL_81e57cb8185b4a378d727d7c95fd5ceb"
       ],
       "default_style": "IPY_MODEL_e3e1439cfea345c19132fb2238728f72",
       "dragging_style": "IPY_MODEL_184d464cafe14dc4be15eafc5836f630",
       "east": 26.367187500000004,
       "fullscreen": false,
       "interpolation": "bilinear",
       "layers": [
        "IPY_MODEL_3bf116cbf4194a7287575275c59a9bf7"
       ],
       "layout": "IPY_MODEL_ef293ede56a34d7c94b31157b9d195d3",
       "modisdate": "yesterday",
       "north": 14.604847155053898,
       "options": [
        "bounce_at_zoom_limits",
        "box_zoom",
        "center",
        "close_popup_on_click",
        "double_click_zoom",
        "dragging",
        "fullscreen",
        "inertia",
        "inertia_deceleration",
        "inertia_max_speed",
        "interpolation",
        "keyboard",
        "keyboard_pan_offset",
        "keyboard_zoom_offset",
        "max_zoom",
        "min_zoom",
        "scroll_wheel_zoom",
        "tap",
        "tap_tolerance",
        "touch_zoom",
        "world_copy_jump",
        "zoom",
        "zoom_animation_threshold",
        "zoom_start"
       ],
       "south": -48.45835188280866,
       "style": "IPY_MODEL_f38ce78a87ff44bf81f369eb51633a57",
       "west": -146.25000000000003,
       "window_url": "http://localhost:8888/notebooks/js/xarray-leaflet.ipynb",
       "zoom": 3
      }
     },
     "a1440fa2e965482b84724ca18c1870e3": {
      "model_module": "@jupyter-widgets/base",
      "model_module_version": "1.2.0",
      "model_name": "LayoutModel",
      "state": {}
     },
     "a1e333c3f9814ebaaf946857b8107ee5": {
      "model_module": "jupyter-leaflet",
      "model_module_version": "^0.17",
      "model_name": "LeafletLayersControlModel",
      "state": {
       "_model_module_version": "^0.17",
       "_view_module_version": "^0.17",
       "options": [
        "position"
       ],
       "position": "topright"
      }
     },
     "a1f2ec5c8da74b46bc0908c64915f48a": {
      "model_module": "jupyter-leaflet",
      "model_module_version": "^0.17",
      "model_name": "LeafletMapStyleModel",
      "state": {
       "_model_module_version": "^0.17"
      }
     },
     "a2321a6c7e514372ac8084c9e182c431": {
      "model_module": "@jupyter-widgets/base",
      "model_module_version": "1.2.0",
      "model_name": "LayoutModel",
      "state": {}
     },
     "a2406d51a3254deda649a8f2ba775dd1": {
      "model_module": "jupyter-leaflet",
      "model_module_version": "^0.12.6",
      "model_name": "LeafletTileLayerModel",
      "state": {
       "_model_module_version": "^0.12.6",
       "_view_module_version": "^0.12.6",
       "attribution": "&copy; <a href=\"http://www.openstreetmap.org/copyright\">OpenStreetMap</a> &copy; <a href=\"http://cartodb.com/attributions\">CartoDB</a>",
       "base": true,
       "max_native_zoom": 18,
       "max_zoom": 20,
       "min_native_zoom": 0,
       "min_zoom": 1,
       "name": "CartoDB.DarkMatter",
       "options": [
        "attribution",
        "detect_retina",
        "max_native_zoom",
        "max_zoom",
        "min_native_zoom",
        "min_zoom",
        "no_wrap",
        "tile_size",
        "tms"
       ],
       "url": "http://c.basemaps.cartocdn.com/dark_all/{z}/{x}/{y}.png"
      }
     },
     "a251846c1ebd4024a3c14c270e2c6285": {
      "model_module": "jupyter-leaflet",
      "model_module_version": "^0.12.6",
      "model_name": "LeafletMapStyleModel",
      "state": {
       "_model_module_version": "^0.12.6",
       "cursor": "move"
      }
     },
     "a287f359feea49caa00e76ccf1100d6d": {
      "model_module": "@jupyter-widgets/base",
      "model_module_version": "1.2.0",
      "model_name": "LayoutModel",
      "state": {}
     },
     "a292d7c0fc3c45e5ac745077e3f8ea41": {
      "model_module": "jupyter-leaflet",
      "model_module_version": "^0.12.6",
      "model_name": "LeafletMapStyleModel",
      "state": {
       "_model_module_version": "^0.12.6"
      }
     },
     "a302968c07ff43cc9bf15fcced4da230": {
      "model_module": "@jupyter-widgets/base",
      "model_module_version": "1.2.0",
      "model_name": "LayoutModel",
      "state": {
       "height": "30px",
       "width": "30px"
      }
     },
     "a3a95665c27f42c08010cef5bc4f8240": {
      "model_module": "jupyter-leaflet",
      "model_module_version": "^0.12.6",
      "model_name": "LeafletLocalTileLayerModel",
      "state": {
       "_model_module_version": "^0.12.6",
       "_view_module_version": "^0.12.6",
       "max_native_zoom": 18,
       "min_native_zoom": 0,
       "options": [
        "attribution",
        "detect_retina",
        "max_native_zoom",
        "max_zoom",
        "min_native_zoom",
        "min_zoom",
        "no_wrap",
        "tile_size",
        "tms"
       ],
       "path": "/tiles/var/folders/f8/0034db6d78s5r6m34fxhpk7m0000gp/T/xarray_leaflet_c9_yi89o/{z}/{x}/{y}.png"
      }
     },
     "a460bae8393e416dac313324bb572353": {
      "model_module": "jupyter-leaflet",
      "model_module_version": "^0.12.6",
      "model_name": "LeafletZoomControlModel",
      "state": {
       "_model_module_version": "^0.12.6",
       "_view_module_version": "^0.12.6",
       "options": [
        "position",
        "zoom_in_text",
        "zoom_in_title",
        "zoom_out_text",
        "zoom_out_title"
       ]
      }
     },
     "a4ac1b881998413d800c4f768e14fe68": {
      "model_module": "@jupyter-widgets/base",
      "model_module_version": "1.2.0",
      "model_name": "LayoutModel",
      "state": {
       "height": "30px",
       "width": "30px"
      }
     },
     "a51a9e922b464d1b9b100edc26438883": {
      "model_module": "jupyter-leaflet",
      "model_module_version": "^0.12.6",
      "model_name": "LeafletZoomControlModel",
      "state": {
       "_model_module_version": "^0.12.6",
       "_view_module_version": "^0.12.6",
       "options": [
        "position",
        "zoom_in_text",
        "zoom_in_title",
        "zoom_out_text",
        "zoom_out_title"
       ]
      }
     },
     "a52f462118e744fdafbb1b2d32ba7d23": {
      "model_module": "jupyter-leaflet",
      "model_module_version": "^0.12.6",
      "model_name": "LeafletMapStyleModel",
      "state": {
       "_model_module_version": "^0.12.6"
      }
     },
     "a558b58f0e5949b680ccc7c398e0260a": {
      "model_module": "jupyter-leaflet",
      "model_module_version": "^0.12.6",
      "model_name": "LeafletAttributionControlModel",
      "state": {
       "_model_module_version": "^0.12.6",
       "_view_module_version": "^0.12.6",
       "options": [
        "position",
        "prefix"
       ],
       "position": "bottomright",
       "prefix": "Leaflet"
      }
     },
     "a5c2565b35e74baf875570a2ecff5e53": {
      "model_module": "jupyter-leaflet",
      "model_module_version": "^0.17",
      "model_name": "LeafletWidgetControlModel",
      "state": {
       "_model_module": "jupyter-leaflet",
       "_model_module_version": "^0.17",
       "_view_count": null,
       "_view_module": "jupyter-leaflet",
       "_view_module_version": "^0.17",
       "options": [
        "position",
        "transparent_bg"
       ],
       "position": "bottomright",
       "widget": "IPY_MODEL_4445338cd08944d1a9cd82fe910c4fe5"
      }
     },
     "a5e264b8b71c4ce29eb8603388a718aa": {
      "model_module": "jupyter-leaflet",
      "model_module_version": "^0.12.6",
      "model_name": "LeafletZoomControlModel",
      "state": {
       "_model_module_version": "^0.12.6",
       "_view_module_version": "^0.12.6",
       "options": [
        "position",
        "zoom_in_text",
        "zoom_in_title",
        "zoom_out_text",
        "zoom_out_title"
       ]
      }
     },
     "a5ef146a6802481998e5707a407f3e3b": {
      "model_module": "@jupyter-widgets/controls",
      "model_module_version": "1.5.0",
      "model_name": "FloatSliderModel",
      "state": {
       "description": "Opacity:",
       "layout": "IPY_MODEL_4ae357112df348538d56c0ff3be0f68f",
       "max": 1,
       "step": 0.1,
       "style": "IPY_MODEL_0255334acf6c4e2b922de718a480ef52",
       "value": 1
      }
     },
     "a6248112160a49daa54f0fb309e97baf": {
      "model_module": "jupyter-leaflet",
      "model_module_version": "^0.17",
      "model_name": "LeafletMapStyleModel",
      "state": {
       "_model_module_version": "^0.17"
      }
     },
     "a6ed301c1c544d1aa2c0c7997caf17aa": {
      "model_module": "jupyter-leaflet",
      "model_module_version": "^0.17",
      "model_name": "LeafletTileLayerModel",
      "state": {
       "_model_module_version": "^0.17",
       "_view_module_version": "^0.17",
       "attribution": "&copy; <a href=\"https://www.openstreetmap.org/copyright\">OpenStreetMap</a> contributors &copy; <a href=\"https://carto.com/attributions\">CARTO</a>",
       "base": true,
       "max_zoom": 20,
       "min_zoom": 1,
       "name": "CartoDB.Positron",
       "options": [
        "attribution",
        "bounds",
        "detect_retina",
        "max_native_zoom",
        "max_zoom",
        "min_native_zoom",
        "min_zoom",
        "no_wrap",
        "tile_size",
        "tms",
        "zoom_offset"
       ],
       "url": "https://a.basemaps.cartocdn.com/light_all/{z}/{x}/{y}.png"
      }
     },
     "a70ef88086ac475594ca0d2edfec3878": {
      "model_module": "jupyter-leaflet",
      "model_module_version": "^0.17",
      "model_name": "LeafletLayersControlModel",
      "state": {
       "_model_module_version": "^0.17",
       "_view_module_version": "^0.17",
       "options": [
        "position"
       ],
       "position": "topright"
      }
     },
     "a710b4a949fd4653ab276edbf8cec183": {
      "model_module": "@jupyter-widgets/controls",
      "model_module_version": "1.5.0",
      "model_name": "SliderStyleModel",
      "state": {
       "description_width": ""
      }
     },
     "a7476d55dc9d432a9a84f6b98bcb273d": {
      "model_module": "@jupyter-widgets/base",
      "model_module_version": "1.2.0",
      "model_name": "LayoutModel",
      "state": {}
     },
     "a7eb13d615e64c7e919b9209d5112469": {
      "model_module": "jupyter-leaflet",
      "model_module_version": "^0.12.6",
      "model_name": "LeafletMapStyleModel",
      "state": {
       "_model_module_version": "^0.12.6"
      }
     },
     "a80110f4dd384129be23147a2c9fcba7": {
      "model_module": "ipyurl",
      "model_module_version": "^0.1.2",
      "model_name": "UrlModel",
      "state": {
       "_model_module_version": "^0.1.2",
       "_view_module_version": "^0.1.2",
       "layout": "IPY_MODEL_ac239cd546db451ab717e18d65c398d2"
      }
     },
     "a84970c2d10e465d829f015b5506a827": {
      "model_module": "@jupyter-widgets/controls",
      "model_module_version": "1.5.0",
      "model_name": "SliderStyleModel",
      "state": {
       "description_width": ""
      }
     },
     "a8c2f9a2e6544fbc950a72f4dfb7fab9": {
      "model_module": "jupyter-leaflet",
      "model_module_version": "^0.12.6",
      "model_name": "LeafletTileLayerModel",
      "state": {
       "_model_module_version": "^0.12.6",
       "_view_module_version": "^0.12.6",
       "attribution": "&copy; <a href=\"http://www.openstreetmap.org/copyright\">OpenStreetMap</a> &copy; <a href=\"http://cartodb.com/attributions\">CartoDB</a>",
       "base": true,
       "max_native_zoom": 18,
       "max_zoom": 20,
       "min_native_zoom": 0,
       "min_zoom": 1,
       "name": "CartoDB.Positron",
       "options": [
        "attribution",
        "detect_retina",
        "max_native_zoom",
        "max_zoom",
        "min_native_zoom",
        "min_zoom",
        "no_wrap",
        "tile_size",
        "tms"
       ],
       "url": "http://c.basemaps.cartocdn.com/light_all/{z}/{x}/{y}.png"
      }
     },
     "a90ba33d41c44515a351418b782bbcb5": {
      "model_module": "jupyter-leaflet",
      "model_module_version": "^0.17",
      "model_name": "LeafletTileLayerModel",
      "state": {
       "_model_module_version": "^0.17",
       "_view_module_version": "^0.17",
       "attribution": "&copy; <a href=\"https://www.openstreetmap.org/copyright\">OpenStreetMap</a> contributors &copy; <a href=\"https://carto.com/attributions\">CARTO</a>",
       "base": true,
       "max_zoom": 20,
       "min_zoom": 1,
       "name": "CartoDB.DarkMatter",
       "options": [
        "attribution",
        "bounds",
        "detect_retina",
        "max_native_zoom",
        "max_zoom",
        "min_native_zoom",
        "min_zoom",
        "no_wrap",
        "tile_size",
        "tms",
        "zoom_offset"
       ],
       "url": "https://a.basemaps.cartocdn.com/dark_all/{z}/{x}/{y}.png"
      }
     },
     "a922615c95e34126a4ad70043b92a37e": {
      "model_module": "@jupyter-widgets/base",
      "model_module_version": "1.2.0",
      "model_name": "LayoutModel",
      "state": {}
     },
     "a95f278847b44822a4d98c44e918f616": {
      "model_module": "@jupyter-widgets/base",
      "model_module_version": "1.2.0",
      "model_name": "LayoutModel",
      "state": {}
     },
     "aa6ee950f8754e6a8f894c2d222ad14b": {
      "model_module": "@jupyter-widgets/controls",
      "model_module_version": "1.5.0",
      "model_name": "SliderStyleModel",
      "state": {
       "description_width": ""
      }
     },
     "aace453091dc4b1e8174b75f4dda2837": {
      "model_module": "jupyter-leaflet",
      "model_module_version": "^0.12.6",
      "model_name": "LeafletAttributionControlModel",
      "state": {
       "_model_module_version": "^0.12.6",
       "_view_module_version": "^0.12.6",
       "options": [
        "position",
        "prefix"
       ],
       "position": "bottomright",
       "prefix": "Leaflet"
      }
     },
     "ab147b8b5bff4d38ac286a172fc449b9": {
      "model_module": "@jupyter-widgets/base",
      "model_module_version": "1.2.0",
      "model_name": "LayoutModel",
      "state": {}
     },
     "ab1aa78e24bd4691b5b61d1e3c0ac2b5": {
      "model_module": "jupyter-leaflet",
      "model_module_version": "^0.17",
      "model_name": "LeafletMapModel",
      "state": {
       "_model_module_version": "^0.17",
       "_view_module_version": "^0.17",
       "center": [
        40.04443758460859,
        115.13671875
       ],
       "controls": [
        "IPY_MODEL_7fddaab737ff45a691ebffbd291098bf",
        "IPY_MODEL_5837e419ff5c41a08dc446a92aa15239"
       ],
       "default_style": "IPY_MODEL_31265a8af080484ebc5be9c255ff3dfe",
       "dragging_style": "IPY_MODEL_659344b596214641b396c0adbf901f7a",
       "east": null,
       "fullscreen": false,
       "interpolation": "nearest",
       "layers": [
        "IPY_MODEL_da747298fd3c49ccbdb883a67525eaa0"
       ],
       "layout": "IPY_MODEL_9bcb23d9e7ba43478ecf69c0424f4f1b",
       "modisdate": "2023-07-11",
       "north": -90,
       "options": [
        "bounce_at_zoom_limits",
        "box_zoom",
        "center",
        "close_popup_on_click",
        "double_click_zoom",
        "dragging",
        "fullscreen",
        "inertia",
        "inertia_deceleration",
        "inertia_max_speed",
        "interpolation",
        "keyboard",
        "keyboard_pan_offset",
        "keyboard_zoom_offset",
        "max_zoom",
        "min_zoom",
        "prefer_canvas",
        "scroll_wheel_zoom",
        "tap",
        "tap_tolerance",
        "touch_zoom",
        "world_copy_jump",
        "zoom",
        "zoom_animation_threshold",
        "zoom_delta",
        "zoom_snap"
       ],
       "prefer_canvas": false,
       "south": 90,
       "style": "IPY_MODEL_31265a8af080484ebc5be9c255ff3dfe",
       "west": null,
       "window_url": "http://localhost:8888/notebooks/js/xarray-leaflet.ipynb#",
       "zoom": 3
      }
     },
     "ab4eba89eb4146e192f8335fae592ef7": {
      "model_module": "jupyter-leaflet",
      "model_module_version": "^0.12.6",
      "model_name": "LeafletMapStyleModel",
      "state": {
       "_model_module_version": "^0.12.6"
      }
     },
     "ab6c9a56fceb4403987ac0346cbaee56": {
      "model_module": "jupyter-leaflet",
      "model_module_version": "^0.12.6",
      "model_name": "LeafletZoomControlModel",
      "state": {
       "_model_module_version": "^0.12.6",
       "_view_module_version": "^0.12.6",
       "options": [
        "position",
        "zoom_in_text",
        "zoom_in_title",
        "zoom_out_text",
        "zoom_out_title"
       ]
      }
     },
     "ab7939367b05486fbffdd6e6f2437988": {
      "model_module": "jupyter-leaflet",
      "model_module_version": "^0.12.6",
      "model_name": "LeafletMapStyleModel",
      "state": {
       "_model_module_version": "^0.12.6",
       "cursor": "move"
      }
     },
     "abcdb5b698a6423b8c0cd256efd34f31": {
      "model_module": "ipyurl",
      "model_module_version": "^0.1.2",
      "model_name": "UrlModel",
      "state": {
       "_model_module_version": "^0.1.2",
       "_view_module_version": "^0.1.2",
       "layout": "IPY_MODEL_27e7e504defc442396282508050674ee"
      }
     },
     "abea57b4e61e4d4788eb314b7e6f1f79": {
      "model_module": "jupyter-leaflet",
      "model_module_version": "^0.12.6",
      "model_name": "LeafletMapStyleModel",
      "state": {
       "_model_module_version": "^0.12.6"
      }
     },
     "ac239cd546db451ab717e18d65c398d2": {
      "model_module": "@jupyter-widgets/base",
      "model_module_version": "1.2.0",
      "model_name": "LayoutModel",
      "state": {}
     },
     "ac83d30d029a4c83b0013873c451048e": {
      "model_module": "ipyurl",
      "model_module_version": "^0.1.2",
      "model_name": "UrlModel",
      "state": {
       "_model_module_version": "^0.1.2",
       "_view_module_version": "^0.1.2",
       "layout": "IPY_MODEL_4b07681c5d27493b987c98b19bad4abb"
      }
     },
     "acaae1d34f9341ea9f21808b3a14b9b2": {
      "model_module": "@jupyter-widgets/base",
      "model_module_version": "1.2.0",
      "model_name": "LayoutModel",
      "state": {}
     },
     "ad5ffbb3ddc1483e99ee542c1704e742": {
      "model_module": "@jupyter-widgets/controls",
      "model_module_version": "1.5.0",
      "model_name": "BoxModel",
      "state": {
       "children": [
        "IPY_MODEL_17704e7730624708b0f67aa141a24da5"
       ],
       "layout": "IPY_MODEL_86d9fa14aff3421a8da01d55c103044d"
      }
     },
     "ade24e62751347e79f7e4a97c4bb82e7": {
      "model_module": "@jupyter-widgets/base",
      "model_module_version": "1.2.0",
      "model_name": "LayoutModel",
      "state": {}
     },
     "af2b7b90f34d42b1a6c3f12ee3958475": {
      "model_module": "jupyter-leaflet",
      "model_module_version": "^0.17",
      "model_name": "LeafletZoomControlModel",
      "state": {
       "_model_module_version": "^0.17",
       "_view_module_version": "^0.17",
       "options": [
        "position",
        "zoom_in_text",
        "zoom_in_title",
        "zoom_out_text",
        "zoom_out_title"
       ]
      }
     },
     "afafe83f4f2144e884cb3ba02750befa": {
      "model_module": "@jupyter-widgets/controls",
      "model_module_version": "1.5.0",
      "model_name": "FloatSliderModel",
      "state": {
       "description": "Opacity:",
       "layout": "IPY_MODEL_ab147b8b5bff4d38ac286a172fc449b9",
       "max": 1,
       "step": 0.1,
       "style": "IPY_MODEL_0c4c50d8a24643cbb10091f80ab4b088",
       "value": 1
      }
     },
     "afeaa8311fde44d19003db2b1620ffbe": {
      "model_module": "jupyter-leaflet",
      "model_module_version": "^0.12.6",
      "model_name": "LeafletMapStyleModel",
      "state": {
       "_model_module_version": "^0.12.6",
       "cursor": "move"
      }
     },
     "b035e652c8244825a0fc43d5014632b3": {
      "model_module": "@jupyter-widgets/base",
      "model_module_version": "1.2.0",
      "model_name": "LayoutModel",
      "state": {}
     },
     "b038cba5b44f422ebe4bd9e172562e00": {
      "model_module": "@jupyter-widgets/base",
      "model_module_version": "1.2.0",
      "model_name": "LayoutModel",
      "state": {}
     },
     "b03eca4c72fa457e9c155ff6afc3606a": {
      "model_module": "@jupyter-widgets/controls",
      "model_module_version": "1.5.0",
      "model_name": "BoxModel",
      "state": {
       "children": [
        "IPY_MODEL_55b2c93444bf436fafd4ebcccbeeba1f"
       ],
       "layout": "IPY_MODEL_a287f359feea49caa00e76ccf1100d6d"
      }
     },
     "b067c1b4fe2d4ec0b7dc63961c4d6702": {
      "model_module": "jupyter-leaflet",
      "model_module_version": "^0.17",
      "model_name": "LeafletMapModel",
      "state": {
       "_model_module_version": "^0.17",
       "_view_module_version": "^0.17",
       "bottom": 602,
       "center": [
        36.03133177633189,
        25.400390625
       ],
       "controls": [
        "IPY_MODEL_92ab899fb09740a1bb0039125101679e",
        "IPY_MODEL_97b438fd311342518b7d8c40683eca3e"
       ],
       "default_style": "IPY_MODEL_360165379e2a472e9cf87e1c96ca0264",
       "dragging_style": "IPY_MODEL_31a06bbcbd29463e8d6902168c38457c",
       "east": 195.8203125,
       "fullscreen": false,
       "interpolation": "nearest",
       "layers": [
        "IPY_MODEL_e171007f815d41e98cc295821ff12c21"
       ],
       "layout": "IPY_MODEL_55883ecd917444c983b8c6a5294fc22e",
       "left": 100,
       "modisdate": "2023-07-11",
       "north": 73.02259157147301,
       "options": [
        "bounce_at_zoom_limits",
        "box_zoom",
        "center",
        "close_popup_on_click",
        "double_click_zoom",
        "dragging",
        "fullscreen",
        "inertia",
        "inertia_deceleration",
        "inertia_max_speed",
        "interpolation",
        "keyboard",
        "keyboard_pan_offset",
        "keyboard_zoom_offset",
        "max_zoom",
        "min_zoom",
        "prefer_canvas",
        "scroll_wheel_zoom",
        "tap",
        "tap_tolerance",
        "touch_zoom",
        "world_copy_jump",
        "zoom",
        "zoom_animation_threshold",
        "zoom_delta",
        "zoom_snap"
       ],
       "prefer_canvas": false,
       "right": 1069,
       "south": -30.145127183376115,
       "style": "IPY_MODEL_360165379e2a472e9cf87e1c96ca0264",
       "top": 202,
       "west": -144.84375000000003,
       "window_url": "http://localhost:8888/notebooks/js/xarray-leaflet.ipynb#",
       "zoom": 2
      }
     },
     "b0f0919c5df64c318fe3e5b6331fa780": {
      "model_module": "jupyter-leaflet",
      "model_module_version": "^0.12.6",
      "model_name": "LeafletLocalTileLayerModel",
      "state": {
       "_model_module_version": "^0.12.6",
       "_view_module_version": "^0.12.6",
       "max_native_zoom": 18,
       "min_native_zoom": 0,
       "options": [
        "attribution",
        "detect_retina",
        "max_native_zoom",
        "max_zoom",
        "min_native_zoom",
        "min_zoom",
        "no_wrap",
        "tile_size",
        "tms"
       ],
       "path": "./xarray_leaflet_tiles/tmp66du8l5l/{z}/{x}/{y}.png"
      }
     },
     "b240b7053b654824a9c9410e536339b5": {
      "model_module": "jupyter-leaflet",
      "model_module_version": "^0.17",
      "model_name": "LeafletMapStyleModel",
      "state": {
       "_model_module_version": "^0.17"
      }
     },
     "b2f1719f375b4ddfb61d82228ae8361d": {
      "model_module": "@jupyter-widgets/base",
      "model_module_version": "1.2.0",
      "model_name": "LayoutModel",
      "state": {}
     },
     "b40dcd56f45e46bdb00442886b04b12a": {
      "model_module": "jupyter-leaflet",
      "model_module_version": "^0.17",
      "model_name": "LeafletMapModel",
      "state": {
       "_model_module_version": "^0.17",
       "_view_module_version": "^0.17",
       "bottom": 602,
       "center": [
        36.03133177633189,
        25.400390625
       ],
       "controls": [
        "IPY_MODEL_4b0ff6f5157c47fb950dc652317c10a9",
        "IPY_MODEL_332d5081334b4fd49503e1bc6a8fc92a",
        "IPY_MODEL_a1e333c3f9814ebaaf946857b8107ee5",
        "IPY_MODEL_fe955431c09741d7bc604e51ee40f57c"
       ],
       "default_style": "IPY_MODEL_0de7d2cd61b9466e9575e8f93acd24c4",
       "dragging_style": "IPY_MODEL_2f741556764240608b8100b105b9990a",
       "east": 195.8203125,
       "fullscreen": false,
       "interpolation": "nearest",
       "layers": [
        "IPY_MODEL_8de547e5bcd447d195f11b5c85fa39de"
       ],
       "layout": "IPY_MODEL_b038cba5b44f422ebe4bd9e172562e00",
       "left": 100,
       "modisdate": "2023-07-11",
       "north": 73.02259157147301,
       "options": [
        "bounce_at_zoom_limits",
        "box_zoom",
        "center",
        "close_popup_on_click",
        "double_click_zoom",
        "dragging",
        "fullscreen",
        "inertia",
        "inertia_deceleration",
        "inertia_max_speed",
        "interpolation",
        "keyboard",
        "keyboard_pan_offset",
        "keyboard_zoom_offset",
        "max_zoom",
        "min_zoom",
        "prefer_canvas",
        "scroll_wheel_zoom",
        "tap",
        "tap_tolerance",
        "touch_zoom",
        "world_copy_jump",
        "zoom",
        "zoom_animation_threshold",
        "zoom_delta",
        "zoom_snap"
       ],
       "prefer_canvas": false,
       "right": 1069,
       "south": -30.145127183376115,
       "style": "IPY_MODEL_0de7d2cd61b9466e9575e8f93acd24c4",
       "top": 202,
       "west": -144.84375000000003,
       "window_url": "http://localhost:8888/notebooks/js/xarray-leaflet.ipynb#",
       "zoom": 2
      }
     },
     "b480996de45944b5a5535f5fefda083f": {
      "model_module": "@jupyter-widgets/controls",
      "model_module_version": "1.5.0",
      "model_name": "BoxModel",
      "state": {
       "children": [
        "IPY_MODEL_dc08e5dab071490a859cf32d244f203c"
       ],
       "layout": "IPY_MODEL_f02f143eb8424ed18096b3082e7a1468"
      }
     },
     "b4ebd0ac1ec74b70827c56971f5d2c38": {
      "model_module": "jupyter-leaflet",
      "model_module_version": "^0.17",
      "model_name": "LeafletMapModel",
      "state": {
       "_model_module_version": "^0.17",
       "_view_module_version": "^0.17",
       "center": [
        52.482780222078226,
        13.535156250000002
       ],
       "controls": [
        "IPY_MODEL_af2b7b90f34d42b1a6c3f12ee3958475",
        "IPY_MODEL_d89c9b948915450784b164c528b846cb"
       ],
       "default_style": "IPY_MODEL_8bcd8d3bc09741bbb52d4ea9d5f01940",
       "dragging_style": "IPY_MODEL_9f6d7308127c4e4491ec3697c0676bc0",
       "east": null,
       "fullscreen": false,
       "interpolation": "nearest",
       "layers": [
        "IPY_MODEL_9fb6db93b37d47eeb65fe7bf6ec5054c"
       ],
       "layout": "IPY_MODEL_567df0b91b2d4319bb092443ae096ad2",
       "modisdate": "2023-07-11",
       "north": -90,
       "options": [
        "bounce_at_zoom_limits",
        "box_zoom",
        "center",
        "close_popup_on_click",
        "double_click_zoom",
        "dragging",
        "fullscreen",
        "inertia",
        "inertia_deceleration",
        "inertia_max_speed",
        "interpolation",
        "keyboard",
        "keyboard_pan_offset",
        "keyboard_zoom_offset",
        "max_zoom",
        "min_zoom",
        "prefer_canvas",
        "scroll_wheel_zoom",
        "tap",
        "tap_tolerance",
        "touch_zoom",
        "world_copy_jump",
        "zoom",
        "zoom_animation_threshold",
        "zoom_delta",
        "zoom_snap"
       ],
       "prefer_canvas": false,
       "south": 90,
       "style": "IPY_MODEL_8bcd8d3bc09741bbb52d4ea9d5f01940",
       "west": null,
       "window_url": "http://localhost:8888/notebooks/js/xarray-leaflet.ipynb#",
       "zoom": 3
      }
     },
     "b4f222e4d3d040dda1658e893a7c1efc": {
      "model_module": "@jupyter-widgets/base",
      "model_module_version": "1.2.0",
      "model_name": "LayoutModel",
      "state": {
       "height": "30px",
       "width": "30px"
      }
     },
     "b5abd5b2710d4e38a803694ef8a67c21": {
      "model_module": "@jupyter-widgets/base",
      "model_module_version": "1.2.0",
      "model_name": "LayoutModel",
      "state": {}
     },
     "b5ccd0e5aa904b099d2ab035428466c4": {
      "model_module": "ipyurl",
      "model_module_version": "^0.1.2",
      "model_name": "UrlModel",
      "state": {
       "_model_module_version": "^0.1.2",
       "_view_module_version": "^0.1.2",
       "layout": "IPY_MODEL_ade24e62751347e79f7e4a97c4bb82e7"
      }
     },
     "b5fdb0cdcf034c039e3aa749a86e57a2": {
      "model_module": "jupyter-leaflet",
      "model_module_version": "^0.17",
      "model_name": "LeafletWidgetControlModel",
      "state": {
       "_model_module": "jupyter-leaflet",
       "_model_module_version": "^0.17",
       "_view_count": null,
       "_view_module": "jupyter-leaflet",
       "_view_module_version": "^0.17",
       "options": [
        "position",
        "transparent_bg"
       ],
       "position": "bottomright",
       "widget": "IPY_MODEL_ee85814acab742a4b397951af99e9efa"
      }
     },
     "b62ba27149954db18f2c811973e39b20": {
      "model_module": "jupyter-leaflet",
      "model_module_version": "^0.12.6",
      "model_name": "LeafletMapModel",
      "state": {
       "_model_module_version": "^0.12.6",
       "_view_module_version": "^0.12.6",
       "center": [
        -20,
        -60
       ],
       "controls": [
        "IPY_MODEL_340c77b997424e84a5d046c222b14d5d",
        "IPY_MODEL_99fa597ee7ce45cfbb79b097c5bb2a2f"
       ],
       "default_style": "IPY_MODEL_92674fdce790441f98f98ffc02984624",
       "dragging_style": "IPY_MODEL_cb20f50ffbeb47d4ad594cd253d8e9b5",
       "east": 26.367187500000004,
       "fullscreen": false,
       "interpolation": "bilinear",
       "layers": [
        "IPY_MODEL_56f3fc5ff42e4aa4bbd6438362457b12"
       ],
       "layout": "IPY_MODEL_a2321a6c7e514372ac8084c9e182c431",
       "modisdate": "yesterday",
       "north": 14.604847155053898,
       "options": [
        "bounce_at_zoom_limits",
        "box_zoom",
        "center",
        "close_popup_on_click",
        "double_click_zoom",
        "dragging",
        "fullscreen",
        "inertia",
        "inertia_deceleration",
        "inertia_max_speed",
        "interpolation",
        "keyboard",
        "keyboard_pan_offset",
        "keyboard_zoom_offset",
        "max_zoom",
        "min_zoom",
        "scroll_wheel_zoom",
        "tap",
        "tap_tolerance",
        "touch_zoom",
        "world_copy_jump",
        "zoom",
        "zoom_animation_threshold",
        "zoom_start"
       ],
       "south": -48.45835188280866,
       "style": "IPY_MODEL_abea57b4e61e4d4788eb314b7e6f1f79",
       "west": -146.25000000000003,
       "window_url": "http://localhost:8888/notebooks/js/xarray-leaflet.ipynb",
       "zoom": 3
      }
     },
     "b6ab08c3f33341a5bad2c88e2740a663": {
      "model_module": "jupyter-leaflet",
      "model_module_version": "^0.17",
      "model_name": "LeafletWidgetControlModel",
      "state": {
       "_model_module": "jupyter-leaflet",
       "_model_module_version": "^0.17",
       "_view_count": null,
       "_view_module": "jupyter-leaflet",
       "_view_module_version": "^0.17",
       "options": [
        "position",
        "transparent_bg"
       ],
       "position": "bottomleft",
       "widget": "IPY_MODEL_10d1641c3e964c7599e94276741ffaa3"
      }
     },
     "b6b0379f71b542d89e94aff0c7dd8945": {
      "model_module": "jupyter-leaflet",
      "model_module_version": "^0.12.6",
      "model_name": "LeafletLocalTileLayerModel",
      "state": {
       "_model_module_version": "^0.12.6",
       "_view_module_version": "^0.12.6",
       "max_native_zoom": 18,
       "min_native_zoom": 0,
       "options": [
        "attribution",
        "detect_retina",
        "max_native_zoom",
        "max_zoom",
        "min_native_zoom",
        "min_zoom",
        "no_wrap",
        "tile_size",
        "tms"
       ],
       "path": "./xarray_leaflet_tiles/tmpvy45cwd5/{z}/{x}/{y}.png"
      }
     },
     "b7274221d44249ff80adc226eedd4060": {
      "model_module": "@jupyter-widgets/base",
      "model_module_version": "1.2.0",
      "model_name": "LayoutModel",
      "state": {}
     },
     "b7513749f5d94ec2b435b40c78996aa3": {
      "model_module": "ipyurl",
      "model_module_version": "^0.1.2",
      "model_name": "UrlModel",
      "state": {
       "_model_module_version": "^0.1.2",
       "_view_module_version": "^0.1.2",
       "layout": "IPY_MODEL_6a9cbe3e5d864ff192b359c22022f213"
      }
     },
     "b7693ca93b854b02b6252b2f401cce1e": {
      "model_module": "jupyter-leaflet",
      "model_module_version": "^0.17",
      "model_name": "LeafletTileLayerModel",
      "state": {
       "_model_module_version": "^0.17",
       "_view_module_version": "^0.17",
       "attribution": "&copy; <a href=\"https://www.openstreetmap.org/copyright\">OpenStreetMap</a> contributors &copy; <a href=\"https://carto.com/attributions\">CARTO</a>",
       "base": true,
       "max_zoom": 20,
       "min_zoom": 1,
       "name": "CartoDB.Positron",
       "options": [
        "attribution",
        "bounds",
        "detect_retina",
        "max_native_zoom",
        "max_zoom",
        "min_native_zoom",
        "min_zoom",
        "no_wrap",
        "tile_size",
        "tms",
        "zoom_offset"
       ],
       "url": "https://a.basemaps.cartocdn.com/light_all/{z}/{x}/{y}.png"
      }
     },
     "b76d4efc223d4ffebacd022027751fdd": {
      "model_module": "jupyter-leaflet",
      "model_module_version": "^0.17",
      "model_name": "LeafletLocalTileLayerModel",
      "state": {
       "_model_module_version": "^0.17",
       "_view_module_version": "^0.17",
       "name": "DEM",
       "options": [
        "attribution",
        "bounds",
        "detect_retina",
        "max_native_zoom",
        "max_zoom",
        "min_native_zoom",
        "min_zoom",
        "no_wrap",
        "tile_size",
        "tms",
        "zoom_offset"
       ]
      }
     },
     "b77e4be3f7db48b4beca40153b713a19": {
      "model_module": "jupyter-leaflet",
      "model_module_version": "^0.17",
      "model_name": "LeafletMapModel",
      "state": {
       "_model_module_version": "^0.17",
       "_view_module_version": "^0.17",
       "center": [
        37.71859032558816,
        138.52026412756183
       ],
       "controls": [
        "IPY_MODEL_97966a92fd7146a796608feefd993b7b",
        "IPY_MODEL_50003aa495f74d00b0369b67226c7a02"
       ],
       "default_style": "IPY_MODEL_f370dc46bb584dc0a0438e85ceda900e",
       "dragging_style": "IPY_MODEL_940581c0aa7141f8aaa7574d50d726c5",
       "east": null,
       "fullscreen": false,
       "interpolation": "bilinear",
       "layers": [
        "IPY_MODEL_eda18dad0ca54f4fad6bed38e0345f51"
       ],
       "layout": "IPY_MODEL_f90882e219bc4a0abc6f93c4a93b75f3",
       "modisdate": "2023-07-11",
       "north": -90,
       "options": [
        "bounce_at_zoom_limits",
        "box_zoom",
        "center",
        "close_popup_on_click",
        "double_click_zoom",
        "dragging",
        "fullscreen",
        "inertia",
        "inertia_deceleration",
        "inertia_max_speed",
        "interpolation",
        "keyboard",
        "keyboard_pan_offset",
        "keyboard_zoom_offset",
        "max_zoom",
        "min_zoom",
        "prefer_canvas",
        "scroll_wheel_zoom",
        "tap",
        "tap_tolerance",
        "touch_zoom",
        "world_copy_jump",
        "zoom",
        "zoom_animation_threshold",
        "zoom_delta",
        "zoom_snap"
       ],
       "prefer_canvas": false,
       "south": 90,
       "style": "IPY_MODEL_f370dc46bb584dc0a0438e85ceda900e",
       "west": null,
       "window_url": "http://localhost:8888/notebooks/js/xarray-leaflet.ipynb#",
       "zoom": 2
      }
     },
     "b7b0adb6bb7d48eeb801b6f5ac1034ca": {
      "model_module": "jupyter-leaflet",
      "model_module_version": "^0.12.6",
      "model_name": "LeafletMapStyleModel",
      "state": {
       "_model_module_version": "^0.12.6"
      }
     },
     "b7e068f16fd640a0b5f53e35931bbfe6": {
      "model_module": "jupyter-leaflet",
      "model_module_version": "^0.17",
      "model_name": "LeafletAttributionControlModel",
      "state": {
       "_model_module_version": "^0.17",
       "_view_module_version": "^0.17",
       "options": [
        "position",
        "prefix"
       ],
       "position": "bottomright",
       "prefix": "ipyleaflet"
      }
     },
     "b8fca13498654f348b7115ebe092c370": {
      "model_module": "jupyter-leaflet",
      "model_module_version": "^0.17",
      "model_name": "LeafletMapStyleModel",
      "state": {
       "_model_module_version": "^0.17"
      }
     },
     "b91d9079893c4b2f83d1f3c275c3efca": {
      "model_module": "@jupyter-widgets/base",
      "model_module_version": "1.2.0",
      "model_name": "LayoutModel",
      "state": {}
     },
     "b92dcffa0294435286c7c62a11032cf6": {
      "model_module": "@jupyter-widgets/controls",
      "model_module_version": "1.5.0",
      "model_name": "SliderStyleModel",
      "state": {
       "description_width": ""
      }
     },
     "b95408e01e8f4399bc52ed2c70327375": {
      "model_module": "ipyspin",
      "model_module_version": "^1.0.0",
      "model_name": "SpinnerModel",
      "state": {
       "_model_module_version": "^1.0.0",
       "_view_module_version": "^1.0.0",
       "layout": "IPY_MODEL_080187a9ee6a4110a7b1d637dc2b6e8b",
       "length": 3,
       "lines": 8,
       "radius": 5,
       "width": 5,
       "window_url": "http://localhost:8888/notebooks/js/xarray-leaflet.ipynb#"
      }
     },
     "b9614faa4e0a48bc9f98f20d3da490c7": {
      "model_module": "jupyter-leaflet",
      "model_module_version": "^0.17",
      "model_name": "LeafletMapStyleModel",
      "state": {
       "_model_module_version": "^0.17"
      }
     },
     "b9803381ab554fffb72ab65fa88c66c1": {
      "model_module": "@jupyter-widgets/base",
      "model_module_version": "1.2.0",
      "model_name": "LayoutModel",
      "state": {
       "height": "30px",
       "width": "30px"
      }
     },
     "b9a373dc3d0c45a39e9085e882316fbf": {
      "model_module": "@jupyter-widgets/controls",
      "model_module_version": "1.5.0",
      "model_name": "SliderStyleModel",
      "state": {
       "description_width": ""
      }
     },
     "b9c2a49a42ce41bcbf183f92ba4f1d7c": {
      "model_module": "jupyter-leaflet",
      "model_module_version": "^0.17",
      "model_name": "LeafletLocalTileLayerModel",
      "state": {
       "_model_module_version": "^0.17",
       "_view_module_version": "^0.17",
       "name": "DEM",
       "options": [
        "attribution",
        "bounds",
        "detect_retina",
        "max_native_zoom",
        "max_zoom",
        "min_native_zoom",
        "min_zoom",
        "no_wrap",
        "tile_size",
        "tms",
        "zoom_offset"
       ]
      }
     },
     "ba66a419c3204e16ac2d71e6c1796f97": {
      "model_module": "@jupyter-widgets/controls",
      "model_module_version": "1.5.0",
      "model_name": "FloatSliderModel",
      "state": {
       "description": "opacity",
       "layout": "IPY_MODEL_838ef4f5fdd04bedae6e22cbdc6d7526",
       "max": 1,
       "step": 0.1,
       "style": "IPY_MODEL_832069ad5f33470c9a5e6ff60657dad1",
       "value": 1
      }
     },
     "ba8440309a304f79b2e5cf95b863eaac": {
      "model_module": "jupyter-leaflet",
      "model_module_version": "^0.12.6",
      "model_name": "LeafletMapStyleModel",
      "state": {
       "_model_module_version": "^0.12.6"
      }
     },
     "bb43a40b91c34ccda5f4561e424f6c0f": {
      "model_module": "@jupyter-widgets/controls",
      "model_module_version": "1.5.0",
      "model_name": "FloatSliderModel",
      "state": {
       "description": "opacity",
       "layout": "IPY_MODEL_fd73064e08434699b321c80996cc0e07",
       "max": 1,
       "step": 0.1,
       "style": "IPY_MODEL_a710b4a949fd4653ab276edbf8cec183",
       "value": 0.5
      }
     },
     "bb48058cd3ed4008bee58b6738f7415f": {
      "model_module": "@jupyter-widgets/controls",
      "model_module_version": "1.5.0",
      "model_name": "SliderStyleModel",
      "state": {
       "description_width": ""
      }
     },
     "bb52eafb429a4f72ab3217003821a39e": {
      "model_module": "@jupyter-widgets/base",
      "model_module_version": "1.2.0",
      "model_name": "LayoutModel",
      "state": {
       "height": "30px",
       "width": "30px"
      }
     },
     "bbe57bd216804f77993d9d7e8aaf5864": {
      "model_module": "@jupyter-widgets/base",
      "model_module_version": "1.2.0",
      "model_name": "LayoutModel",
      "state": {}
     },
     "bc200fefdd0e42d2bcd792281c814ece": {
      "model_module": "jupyter-leaflet",
      "model_module_version": "^0.17",
      "model_name": "LeafletMapStyleModel",
      "state": {
       "_model_module_version": "^0.17"
      }
     },
     "bd18fced93ed4efa80273a73db67b5c1": {
      "model_module": "@jupyter-widgets/controls",
      "model_module_version": "1.5.0",
      "model_name": "FloatSliderModel",
      "state": {
       "description": "Opacity:",
       "layout": "IPY_MODEL_bd614805e3b1437285e41022dbca5291",
       "max": 1,
       "step": 0.1,
       "style": "IPY_MODEL_bb48058cd3ed4008bee58b6738f7415f",
       "value": 1
      }
     },
     "bd614805e3b1437285e41022dbca5291": {
      "model_module": "@jupyter-widgets/base",
      "model_module_version": "1.2.0",
      "model_name": "LayoutModel",
      "state": {}
     },
     "bdd8ea43bbc14b3ba49cef3e29029fd1": {
      "model_module": "jupyter-leaflet",
      "model_module_version": "^0.12.6",
      "model_name": "LeafletMapStyleModel",
      "state": {
       "_model_module_version": "^0.12.6",
       "cursor": "move"
      }
     },
     "be1fcec440d148248684f1e8e6965645": {
      "model_module": "@jupyter-widgets/controls",
      "model_module_version": "1.5.0",
      "model_name": "FloatSliderModel",
      "state": {
       "description": "opacity",
       "layout": "IPY_MODEL_eb6612a1fbce4039b28a5d1d38c8a183",
       "max": 1,
       "step": 0.1,
       "style": "IPY_MODEL_2c161986c8cd4c6ba7a4ae48e0946199",
       "value": 1
      }
     },
     "bf237e950be9454c93fabd2f30e3352d": {
      "model_module": "@jupyter-widgets/base",
      "model_module_version": "1.2.0",
      "model_name": "LayoutModel",
      "state": {}
     },
     "bf59cc96b8904531a1d38c10cb3aa49e": {
      "model_module": "ipyurl",
      "model_module_version": "^0.1.2",
      "model_name": "UrlModel",
      "state": {
       "_model_module_version": "^0.1.2",
       "_view_module_version": "^0.1.2",
       "layout": "IPY_MODEL_3a951739c4644df2b7be2f7f89401904"
      }
     },
     "bf8964b260be4136830f99864a2b9740": {
      "model_module": "@jupyter-widgets/base",
      "model_module_version": "1.2.0",
      "model_name": "LayoutModel",
      "state": {}
     },
     "bf9c0cc2286b4c06b9bf8a7f40353fa8": {
      "model_module": "@jupyter-widgets/controls",
      "model_module_version": "1.5.0",
      "model_name": "FloatSliderModel",
      "state": {
       "description": "Opacity:",
       "layout": "IPY_MODEL_49ca00b775614eef84286d43f4b719b2",
       "max": 1,
       "step": 0.1,
       "style": "IPY_MODEL_d100cde81467481c98035c5480803ad3",
       "value": 1
      }
     },
     "bfe30fd482884c74aa44e264e7503a7c": {
      "model_module": "jupyter-leaflet",
      "model_module_version": "^0.17",
      "model_name": "LeafletAttributionControlModel",
      "state": {
       "_model_module_version": "^0.17",
       "_view_module_version": "^0.17",
       "options": [
        "position",
        "prefix"
       ],
       "position": "bottomright",
       "prefix": "ipyleaflet"
      }
     },
     "c0b2a99d778f4edd9d5881a4adc9894c": {
      "model_module": "@jupyter-widgets/base",
      "model_module_version": "1.2.0",
      "model_name": "LayoutModel",
      "state": {}
     },
     "c11e8cc1e25a483d9c7217d671ce2d20": {
      "model_module": "jupyter-leaflet",
      "model_module_version": "^0.12.6",
      "model_name": "LeafletMapStyleModel",
      "state": {
       "_model_module_version": "^0.12.6"
      }
     },
     "c192441d14444ce19c37b8ea356f285d": {
      "model_module": "jupyter-leaflet",
      "model_module_version": "^0.12.6",
      "model_name": "LeafletMapStyleModel",
      "state": {
       "_model_module_version": "^0.12.6",
       "cursor": "move"
      }
     },
     "c19ff5dc36a44072aeee5a7142d1297e": {
      "model_module": "@jupyter-widgets/controls",
      "model_module_version": "1.5.0",
      "model_name": "SliderStyleModel",
      "state": {
       "description_width": ""
      }
     },
     "c1a4c8ded3784f9b87c4a0d648fb5a24": {
      "model_module": "jupyter-leaflet",
      "model_module_version": "^0.17",
      "model_name": "LeafletMapStyleModel",
      "state": {
       "_model_module_version": "^0.17"
      }
     },
     "c21fed95103942d38e2ea86465f60225": {
      "model_module": "@jupyter-widgets/base",
      "model_module_version": "1.2.0",
      "model_name": "LayoutModel",
      "state": {}
     },
     "c347827da1564330a8f98feb4db426c8": {
      "model_module": "@jupyter-widgets/base",
      "model_module_version": "1.2.0",
      "model_name": "LayoutModel",
      "state": {}
     },
     "c397c2f36db54b8d98162e2e26a848d4": {
      "model_module": "jupyter-leaflet",
      "model_module_version": "^0.12.6",
      "model_name": "LeafletMapStyleModel",
      "state": {
       "_model_module_version": "^0.12.6"
      }
     },
     "c3cace1174594aa8a2800722b6bcf432": {
      "model_module": "jupyter-leaflet",
      "model_module_version": "^0.17",
      "model_name": "LeafletLocalTileLayerModel",
      "state": {
       "_model_module_version": "^0.17",
       "_view_module_version": "^0.17",
       "name": "DEM",
       "options": [
        "attribution",
        "bounds",
        "detect_retina",
        "max_native_zoom",
        "max_zoom",
        "min_native_zoom",
        "min_zoom",
        "no_wrap",
        "tile_size",
        "tms",
        "zoom_offset"
       ]
      }
     },
     "c3d73b8a85ae41c6836fc9dde89147fb": {
      "model_module": "ipyurl",
      "model_module_version": "^0.1.2",
      "model_name": "UrlModel",
      "state": {
       "_model_module_version": "^0.1.2",
       "_view_module_version": "^0.1.2",
       "layout": "IPY_MODEL_dbd928c0ceb240d8b36c9af312f1d27e"
      }
     },
     "c3e716944ded4aa58fbf64320ceee03f": {
      "model_module": "jupyter-leaflet",
      "model_module_version": "^0.12.6",
      "model_name": "LeafletLocalTileLayerModel",
      "state": {
       "_model_module_version": "^0.12.6",
       "_view_module_version": "^0.12.6",
       "max_native_zoom": 18,
       "min_native_zoom": 0,
       "options": [
        "attribution",
        "detect_retina",
        "max_native_zoom",
        "max_zoom",
        "min_native_zoom",
        "min_zoom",
        "no_wrap",
        "tile_size",
        "tms"
       ],
       "path": "./xarray_leaflet_tiles/tmppv8veedw/{z}/{x}/{y}.png"
      }
     },
     "c49b7a8e57624c61bbe5db43418521f1": {
      "model_module": "@jupyter-widgets/controls",
      "model_module_version": "1.5.0",
      "model_name": "SliderStyleModel",
      "state": {
       "description_width": ""
      }
     },
     "c508b1c1cda84611a73173bebb8a89b2": {
      "model_module": "@jupyter-widgets/base",
      "model_module_version": "1.2.0",
      "model_name": "LayoutModel",
      "state": {}
     },
     "c5434c782c07423ca8cf421c1211931c": {
      "model_module": "@jupyter-widgets/controls",
      "model_module_version": "1.5.0",
      "model_name": "SliderStyleModel",
      "state": {
       "description_width": ""
      }
     },
     "c56451170feb4fc99e4b07a791c93575": {
      "model_module": "jupyter-leaflet",
      "model_module_version": "^0.17",
      "model_name": "LeafletDrawControlModel",
      "state": {
       "_model_module_version": "^0.17",
       "_view_module_version": "^0.17",
       "options": [
        "position"
       ],
       "polygon": {},
       "polyline": {},
       "rectangle": {
        "shapeOptions": {
         "clickable": true,
         "color": "#3388ff",
         "fill": true,
         "fillColor": null,
         "fillOpacity": 0.5,
         "opacity": 0.5,
         "stroke": true,
         "weight": 4
        }
       }
      }
     },
     "c57c7f3582d14eb59fe85df84037396b": {
      "model_module": "jupyter-leaflet",
      "model_module_version": "^0.12.6",
      "model_name": "LeafletMapStyleModel",
      "state": {
       "_model_module_version": "^0.12.6"
      }
     },
     "c5d5771026254e71bd9e3fd0b6780546": {
      "model_module": "ipyurl",
      "model_module_version": "^0.1.2",
      "model_name": "UrlModel",
      "state": {
       "_model_module_version": "^0.1.2",
       "_view_module_version": "^0.1.2",
       "layout": "IPY_MODEL_562c7e225a8c4da498306c136ab3c0f6"
      }
     },
     "c69525266ed3495583dd5a002a37b493": {
      "model_module": "jupyter-leaflet",
      "model_module_version": "^0.17",
      "model_name": "LeafletMapModel",
      "state": {
       "_model_module_version": "^0.17",
       "_view_module_version": "^0.17",
       "bottom": 872,
       "center": [
        52.5162,
        13.3777
       ],
       "controls": [
        "IPY_MODEL_6c7babba882b478a8846fc80f03bc4c0",
        "IPY_MODEL_bfe30fd482884c74aa44e264e7503a7c"
       ],
       "default_style": "IPY_MODEL_966e266d6a724aefa7b3dc8465e7c64d",
       "dragging_style": "IPY_MODEL_1ebf4c6d34054248b58162f9ba910b1c",
       "east": 98.61328125,
       "fullscreen": false,
       "interpolation": "nearest",
       "layers": [
        "IPY_MODEL_2b7d3dbbe6274a84bc4fc3438152f3e7"
       ],
       "layout": "IPY_MODEL_6c61a4ce7c1c4919b1ecc114918844f1",
       "left": 616,
       "modisdate": "2023-07-11",
       "north": 69.16255790810501,
       "options": [
        "bounce_at_zoom_limits",
        "box_zoom",
        "center",
        "close_popup_on_click",
        "double_click_zoom",
        "dragging",
        "fullscreen",
        "inertia",
        "inertia_deceleration",
        "inertia_max_speed",
        "interpolation",
        "keyboard",
        "keyboard_pan_offset",
        "keyboard_zoom_offset",
        "max_zoom",
        "min_zoom",
        "prefer_canvas",
        "scroll_wheel_zoom",
        "tap",
        "tap_tolerance",
        "touch_zoom",
        "world_copy_jump",
        "zoom",
        "zoom_animation_threshold",
        "zoom_delta",
        "zoom_snap"
       ],
       "prefer_canvas": false,
       "right": 1585,
       "south": 25.799891182088334,
       "style": "IPY_MODEL_d9d9ba59331c4556a50644cd626b9e5f",
       "top": 472,
       "west": -71.71875000000001,
       "window_url": "http://localhost:8888/notebooks/js/xarray-leaflet.ipynb#",
       "zoom": 3
      }
     },
     "c7de89eff44f47adbf66d231e2ad5f96": {
      "model_module": "@jupyter-widgets/base",
      "model_module_version": "1.2.0",
      "model_name": "LayoutModel",
      "state": {}
     },
     "c84332af9de74d12ab4bc1bb7ea80040": {
      "model_module": "jupyter-leaflet",
      "model_module_version": "^0.17",
      "model_name": "LeafletWidgetControlModel",
      "state": {
       "_model_module": "jupyter-leaflet",
       "_model_module_version": "^0.17",
       "_view_count": null,
       "_view_module": "jupyter-leaflet",
       "_view_module_version": "^0.17",
       "options": [
        "position",
        "transparent_bg"
       ],
       "position": "bottomright",
       "widget": "IPY_MODEL_4f509b0f90394c7ab23a6dc285909f61"
      }
     },
     "c85146754f614163a13611f5466ef040": {
      "model_module": "jupyter-leaflet",
      "model_module_version": "^0.12.6",
      "model_name": "LeafletMapStyleModel",
      "state": {
       "_model_module_version": "^0.12.6"
      }
     },
     "c88610bddc02460f996d8ac799cbc947": {
      "model_module": "@jupyter-widgets/base",
      "model_module_version": "1.2.0",
      "model_name": "LayoutModel",
      "state": {
       "height": "30px",
       "width": "30px"
      }
     },
     "c8980188f99342e9b5e7b473fa466e0f": {
      "model_module": "@jupyter-widgets/base",
      "model_module_version": "1.2.0",
      "model_name": "LayoutModel",
      "state": {
       "height": "30px",
       "width": "30px"
      }
     },
     "c8f8e98899ee4fb6a0aff4759feaf285": {
      "model_module": "@jupyter-widgets/controls",
      "model_module_version": "1.5.0",
      "model_name": "SliderStyleModel",
      "state": {
       "description_width": ""
      }
     },
     "c8fff96af5e143d083c29fe021eb054f": {
      "model_module": "@jupyter-widgets/base",
      "model_module_version": "1.2.0",
      "model_name": "LayoutModel",
      "state": {}
     },
     "cacb7b9659bc464dbfdb6efa53fe492f": {
      "model_module": "jupyter-leaflet",
      "model_module_version": "^0.17",
      "model_name": "LeafletMapStyleModel",
      "state": {
       "_model_module_version": "^0.17"
      }
     },
     "cb20f50ffbeb47d4ad594cd253d8e9b5": {
      "model_module": "jupyter-leaflet",
      "model_module_version": "^0.12.6",
      "model_name": "LeafletMapStyleModel",
      "state": {
       "_model_module_version": "^0.12.6",
       "cursor": "move"
      }
     },
     "cb9baabae79142dcb74202d328b036b7": {
      "model_module": "@jupyter-widgets/controls",
      "model_module_version": "1.5.0",
      "model_name": "FloatSliderModel",
      "state": {
       "description": "opacity",
       "layout": "IPY_MODEL_4b2926ce9e7f4e04aea7c4d5dbf80d19",
       "max": 1,
       "step": 0.1,
       "style": "IPY_MODEL_e4762b332a3b4a6d8f9bdf720a5e2117",
       "value": 0.1
      }
     },
     "cc811ad422e345e89ba494d5c4ec58c4": {
      "model_module": "jupyter-leaflet",
      "model_module_version": "^0.17",
      "model_name": "LeafletMapStyleModel",
      "state": {
       "_model_module_version": "^0.17",
       "cursor": "move"
      }
     },
     "cc8bcad672e54b2ea1c3eaf929d45c71": {
      "model_module": "@jupyter-widgets/base",
      "model_module_version": "1.2.0",
      "model_name": "LayoutModel",
      "state": {}
     },
     "cd097ac04a8a41a0bc51edeaff07a59a": {
      "model_module": "@jupyter-widgets/controls",
      "model_module_version": "1.5.0",
      "model_name": "FloatSliderModel",
      "state": {
       "description": "opacity",
       "layout": "IPY_MODEL_65848f708dfd4d87ba7f7b83b329a0df",
       "max": 1,
       "step": 0.1,
       "style": "IPY_MODEL_c19ff5dc36a44072aeee5a7142d1297e",
       "value": 1
      }
     },
     "cd21e9bbc03940088e8eb151aa02c343": {
      "model_module": "@jupyter-widgets/base",
      "model_module_version": "1.2.0",
      "model_name": "LayoutModel",
      "state": {}
     },
     "cde3b111b2a04adba06b7cd19eed8b5a": {
      "model_module": "@jupyter-widgets/controls",
      "model_module_version": "1.5.0",
      "model_name": "BoxModel",
      "state": {
       "children": [
        "IPY_MODEL_0ab01a4aa8884315aa36bc9fbfad5b8e"
       ],
       "layout": "IPY_MODEL_5d550ce93efa484baaa1387c7893b54f"
      }
     },
     "cde60991aa7941f1b6e6e53e92438efc": {
      "model_module": "jupyter-leaflet",
      "model_module_version": "^0.12.6",
      "model_name": "LeafletZoomControlModel",
      "state": {
       "_model_module_version": "^0.12.6",
       "_view_module_version": "^0.12.6",
       "options": [
        "position",
        "zoom_in_text",
        "zoom_in_title",
        "zoom_out_text",
        "zoom_out_title"
       ]
      }
     },
     "cea646f01c3040ad973abb965cfce58e": {
      "model_module": "jupyter-leaflet",
      "model_module_version": "^0.12.6",
      "model_name": "LeafletAttributionControlModel",
      "state": {
       "_model_module_version": "^0.12.6",
       "_view_module_version": "^0.12.6",
       "options": [
        "position",
        "prefix"
       ],
       "position": "bottomright",
       "prefix": "Leaflet"
      }
     },
     "cef4cca1aa2c464fa63f33801e2840bc": {
      "model_module": "@jupyter-widgets/base",
      "model_module_version": "1.2.0",
      "model_name": "LayoutModel",
      "state": {}
     },
     "cf060e327f3745e5b7852b61b6bb6c9f": {
      "model_module": "jupyter-leaflet",
      "model_module_version": "^0.17",
      "model_name": "LeafletAttributionControlModel",
      "state": {
       "_model_module_version": "^0.17",
       "_view_module_version": "^0.17",
       "options": [
        "position",
        "prefix"
       ],
       "position": "bottomright",
       "prefix": "ipyleaflet"
      }
     },
     "d03a532a1b2b4dbe92d43d5e5726e179": {
      "model_module": "ipyspin",
      "model_module_version": "^1.0.0",
      "model_name": "SpinnerModel",
      "state": {
       "_model_module_version": "^1.0.0",
       "_view_module_version": "^1.0.0",
       "layout": "IPY_MODEL_c8980188f99342e9b5e7b473fa466e0f",
       "length": 3,
       "lines": 8,
       "radius": 5,
       "width": 5,
       "window_url": "http://localhost:8888/notebooks/js/xarray-leaflet.ipynb#"
      }
     },
     "d0587dc2160748e1b83ad8efd916b95e": {
      "model_module": "jupyter-leaflet",
      "model_module_version": "^0.17",
      "model_name": "LeafletWidgetControlModel",
      "state": {
       "_model_module": "jupyter-leaflet",
       "_model_module_version": "^0.17",
       "_view_count": null,
       "_view_module": "jupyter-leaflet",
       "_view_module_version": "^0.17",
       "options": [
        "position",
        "transparent_bg"
       ],
       "position": "bottomright",
       "widget": "IPY_MODEL_6a896a07479c44d588bbe695c764a31e"
      }
     },
     "d0868a92e0f946f3ad77b63c20114b3e": {
      "model_module": "jupyter-leaflet",
      "model_module_version": "^0.12.6",
      "model_name": "LeafletLocalTileLayerModel",
      "state": {
       "_model_module_version": "^0.12.6",
       "_view_module_version": "^0.12.6",
       "max_native_zoom": 18,
       "min_native_zoom": 0,
       "options": [
        "attribution",
        "detect_retina",
        "max_native_zoom",
        "max_zoom",
        "min_native_zoom",
        "min_zoom",
        "no_wrap",
        "tile_size",
        "tms"
       ],
       "path": "./xarray_leaflet_tiles/tmp7im_45f6/{z}/{x}/{y}.png"
      }
     },
     "d09d27dea5154eea90d86c9dddabff2a": {
      "model_module": "jupyter-leaflet",
      "model_module_version": "^0.12.6",
      "model_name": "LeafletMapStyleModel",
      "state": {
       "_model_module_version": "^0.12.6"
      }
     },
     "d0b40e4d5b32489497ef24baeebfa018": {
      "model_module": "jupyter-leaflet",
      "model_module_version": "^0.12.6",
      "model_name": "LeafletMapModel",
      "state": {
       "_model_module_version": "^0.12.6",
       "_view_module_version": "^0.12.6",
       "center": [
        -20,
        -60
       ],
       "controls": [
        "IPY_MODEL_f0723004ad354cf7a0f4ac90b073c944",
        "IPY_MODEL_19295a705b3540a0bacbdf1e5b4e0a21"
       ],
       "default_style": "IPY_MODEL_d6e4d8d86f7e457d905422c2ad47d4d5",
       "dragging_style": "IPY_MODEL_bdd8ea43bbc14b3ba49cef3e29029fd1",
       "east": 26.367187500000004,
       "fullscreen": false,
       "interpolation": "bilinear",
       "layers": [
        "IPY_MODEL_de4470967e714e8aa1972a1f0fca515d"
       ],
       "layout": "IPY_MODEL_490dfd671a534acb8f5e4f3767e8c9b6",
       "modisdate": "yesterday",
       "north": 14.604847155053898,
       "options": [
        "bounce_at_zoom_limits",
        "box_zoom",
        "center",
        "close_popup_on_click",
        "double_click_zoom",
        "dragging",
        "fullscreen",
        "inertia",
        "inertia_deceleration",
        "inertia_max_speed",
        "interpolation",
        "keyboard",
        "keyboard_pan_offset",
        "keyboard_zoom_offset",
        "max_zoom",
        "min_zoom",
        "scroll_wheel_zoom",
        "tap",
        "tap_tolerance",
        "touch_zoom",
        "world_copy_jump",
        "zoom",
        "zoom_animation_threshold",
        "zoom_start"
       ],
       "south": -48.45835188280866,
       "style": "IPY_MODEL_f5fb1f31e17a4aa1ba4450965f982a0a",
       "west": -146.25000000000003,
       "window_url": "http://localhost:8888/notebooks/js/xarray-leaflet.ipynb",
       "zoom": 3
      }
     },
     "d0e64c436f6a49dfa08bf21b12b3d295": {
      "model_module": "@jupyter-widgets/controls",
      "model_module_version": "1.5.0",
      "model_name": "BoxModel",
      "state": {
       "children": [
        "IPY_MODEL_ea54342acdfd4642aea18c456a539ac1"
       ],
       "layout": "IPY_MODEL_3ec3de3f41c74e3eb103b62fff3037d3"
      }
     },
     "d0ee75317d8f4fe194ccb2d644a426b0": {
      "model_module": "@jupyter-widgets/controls",
      "model_module_version": "1.5.0",
      "model_name": "BoxModel",
      "state": {
       "children": [
        "IPY_MODEL_98c5b83929be4db180e2789aab0e8274"
       ],
       "layout": "IPY_MODEL_c7de89eff44f47adbf66d231e2ad5f96"
      }
     },
     "d100cde81467481c98035c5480803ad3": {
      "model_module": "@jupyter-widgets/controls",
      "model_module_version": "1.5.0",
      "model_name": "SliderStyleModel",
      "state": {
       "description_width": ""
      }
     },
     "d113b37a75fe4860ac0dd2d9224878c9": {
      "model_module": "jupyter-leaflet",
      "model_module_version": "^0.17",
      "model_name": "LeafletWidgetControlModel",
      "state": {
       "_model_module": "jupyter-leaflet",
       "_model_module_version": "^0.17",
       "_view_count": null,
       "_view_module": "jupyter-leaflet",
       "_view_module_version": "^0.17",
       "options": [
        "position",
        "transparent_bg"
       ],
       "position": "bottomright",
       "widget": "IPY_MODEL_4307e1c142e84c1b931f16feef03f50a"
      }
     },
     "d193b832c31e4b759daef76efeacbc4e": {
      "model_module": "@jupyter-widgets/controls",
      "model_module_version": "1.5.0",
      "model_name": "FloatSliderModel",
      "state": {
       "description": "opacity",
       "layout": "IPY_MODEL_65befc5f443947a490a66fb2f4091751",
       "max": 1,
       "step": 0.1,
       "style": "IPY_MODEL_3220ccf74f2d428c9d0178447adcb6ec",
       "value": 1
      }
     },
     "d1a1eb48c4274022914f9e734ce7ac6e": {
      "model_module": "jupyter-leaflet",
      "model_module_version": "^0.17",
      "model_name": "LeafletLocalTileLayerModel",
      "state": {
       "_model_module_version": "^0.17",
       "_view_module_version": "^0.17",
       "name": "DEM",
       "options": [
        "attribution",
        "bounds",
        "detect_retina",
        "max_native_zoom",
        "max_zoom",
        "min_native_zoom",
        "min_zoom",
        "no_wrap",
        "tile_size",
        "tms",
        "zoom_offset"
       ]
      }
     },
     "d21453441f2048949cd6eb25ebbd3229": {
      "model_module": "@jupyter-widgets/controls",
      "model_module_version": "1.5.0",
      "model_name": "SliderStyleModel",
      "state": {
       "description_width": ""
      }
     },
     "d28f2e0941bf40d88ba9d99e29312ed7": {
      "model_module": "@jupyter-widgets/base",
      "model_module_version": "1.2.0",
      "model_name": "LayoutModel",
      "state": {
       "height": "30px",
       "width": "30px"
      }
     },
     "d2a93c18449c4200ab6e81623fe058af": {
      "model_module": "jupyter-leaflet",
      "model_module_version": "^0.17",
      "model_name": "LeafletWidgetControlModel",
      "state": {
       "_model_module": "jupyter-leaflet",
       "_model_module_version": "^0.17",
       "_view_count": null,
       "_view_module": "jupyter-leaflet",
       "_view_module_version": "^0.17",
       "options": [
        "position",
        "transparent_bg"
       ],
       "position": "bottomleft",
       "widget": "IPY_MODEL_8974e3a7969b49b1bbe9c15fae0467df"
      }
     },
     "d2fbf07b2ac5429bb9eda86d6b916869": {
      "model_module": "jupyter-leaflet",
      "model_module_version": "^0.12.6",
      "model_name": "LeafletMapStyleModel",
      "state": {
       "_model_module_version": "^0.12.6"
      }
     },
     "d31bfd44d9aa41dcb636735a804a3fb3": {
      "model_module": "@jupyter-widgets/base",
      "model_module_version": "1.2.0",
      "model_name": "LayoutModel",
      "state": {}
     },
     "d3ac3341d13148a4b1b4ad90b3b0b361": {
      "model_module": "jupyter-leaflet",
      "model_module_version": "^0.17",
      "model_name": "LeafletTileLayerModel",
      "state": {
       "_model_module_version": "^0.17",
       "_view_module_version": "^0.17",
       "attribution": "&copy; <a href=\"https://www.openstreetmap.org/copyright\">OpenStreetMap</a> contributors &copy; <a href=\"https://carto.com/attributions\">CARTO</a>",
       "base": true,
       "max_zoom": 20,
       "min_zoom": 1,
       "name": "CartoDB.Positron",
       "options": [
        "attribution",
        "bounds",
        "detect_retina",
        "max_native_zoom",
        "max_zoom",
        "min_native_zoom",
        "min_zoom",
        "no_wrap",
        "tile_size",
        "tms",
        "zoom_offset"
       ],
       "url": "https://a.basemaps.cartocdn.com/light_all/{z}/{x}/{y}.png"
      }
     },
     "d3f9456a556044f1bf4ad0514946ac60": {
      "model_module": "jupyter-leaflet",
      "model_module_version": "^0.17",
      "model_name": "LeafletLocalTileLayerModel",
      "state": {
       "_model_module_version": "^0.17",
       "_view_module_version": "^0.17",
       "name": "DEM",
       "options": [
        "attribution",
        "bounds",
        "detect_retina",
        "max_native_zoom",
        "max_zoom",
        "min_native_zoom",
        "min_zoom",
        "no_wrap",
        "tile_size",
        "tms",
        "zoom_offset"
       ]
      }
     },
     "d502c9e4e32147269399d7b948be0512": {
      "model_module": "ipyurl",
      "model_module_version": "^0.1.2",
      "model_name": "UrlModel",
      "state": {
       "_model_module_version": "^0.1.2",
       "_view_module_version": "^0.1.2",
       "layout": "IPY_MODEL_cef4cca1aa2c464fa63f33801e2840bc"
      }
     },
     "d5e8bf560b61425c9e15429e92c53424": {
      "model_module": "jupyter-leaflet",
      "model_module_version": "^0.12.6",
      "model_name": "LeafletTileLayerModel",
      "state": {
       "_model_module_version": "^0.12.6",
       "_view_module_version": "^0.12.6",
       "attribution": "&copy; <a href=\"http://www.openstreetmap.org/copyright\">OpenStreetMap</a> &copy; <a href=\"http://cartodb.com/attributions\">CartoDB</a>",
       "base": true,
       "max_native_zoom": 18,
       "max_zoom": 20,
       "min_native_zoom": 0,
       "min_zoom": 1,
       "name": "CartoDB.DarkMatter",
       "options": [
        "attribution",
        "detect_retina",
        "max_native_zoom",
        "max_zoom",
        "min_native_zoom",
        "min_zoom",
        "no_wrap",
        "tile_size",
        "tms"
       ],
       "url": "http://c.basemaps.cartocdn.com/dark_all/{z}/{x}/{y}.png"
      }
     },
     "d637ebd749364a048e5ce92766b7c655": {
      "model_module": "jupyter-leaflet",
      "model_module_version": "^0.12.6",
      "model_name": "LeafletLocalTileLayerModel",
      "state": {
       "_model_module_version": "^0.12.6",
       "_view_module_version": "^0.12.6",
       "max_native_zoom": 18,
       "min_native_zoom": 0,
       "options": [
        "attribution",
        "detect_retina",
        "max_native_zoom",
        "max_zoom",
        "min_native_zoom",
        "min_zoom",
        "no_wrap",
        "tile_size",
        "tms"
       ],
       "path": "./xarray_leaflet_tiles/tmp5ltwxbk2/{z}/{x}/{y}.png"
      }
     },
     "d6d5b619bd0847f6bedc1836dec16210": {
      "model_module": "@jupyter-widgets/controls",
      "model_module_version": "1.5.0",
      "model_name": "SliderStyleModel",
      "state": {
       "description_width": ""
      }
     },
     "d6e4d8d86f7e457d905422c2ad47d4d5": {
      "model_module": "jupyter-leaflet",
      "model_module_version": "^0.12.6",
      "model_name": "LeafletMapStyleModel",
      "state": {
       "_model_module_version": "^0.12.6"
      }
     },
     "d846bb06ca2d42f29e09b2cad8ad145b": {
      "model_module": "@jupyter-widgets/controls",
      "model_module_version": "1.5.0",
      "model_name": "SliderStyleModel",
      "state": {
       "description_width": ""
      }
     },
     "d89c9b948915450784b164c528b846cb": {
      "model_module": "jupyter-leaflet",
      "model_module_version": "^0.17",
      "model_name": "LeafletAttributionControlModel",
      "state": {
       "_model_module_version": "^0.17",
       "_view_module_version": "^0.17",
       "options": [
        "position",
        "prefix"
       ],
       "position": "bottomright",
       "prefix": "ipyleaflet"
      }
     },
     "d8bed7e75e00454eae3abf5bce4eca30": {
      "model_module": "@jupyter-widgets/controls",
      "model_module_version": "1.5.0",
      "model_name": "FloatSliderModel",
      "state": {
       "description": "opacity",
       "layout": "IPY_MODEL_ef967b6d91cd41519ea4c3cde0d126f1",
       "max": 1,
       "step": 0.1,
       "style": "IPY_MODEL_dfafddc1f7584359b5960135d0ca601c",
       "value": 1
      }
     },
     "d8ccddc591e24ebe935eba351dcf1369": {
      "model_module": "jupyter-leaflet",
      "model_module_version": "^0.12.6",
      "model_name": "LeafletZoomControlModel",
      "state": {
       "_model_module_version": "^0.12.6",
       "_view_module_version": "^0.12.6",
       "options": [
        "position",
        "zoom_in_text",
        "zoom_in_title",
        "zoom_out_text",
        "zoom_out_title"
       ]
      }
     },
     "d91169f1dbfc4528b8b7ebc5c77ec47f": {
      "model_module": "@jupyter-widgets/controls",
      "model_module_version": "1.5.0",
      "model_name": "BoxModel",
      "state": {
       "children": [
        "IPY_MODEL_a0c569eff69842d2ac044f8fda0f9464"
       ],
       "layout": "IPY_MODEL_bbe57bd216804f77993d9d7e8aaf5864"
      }
     },
     "d9b9006e9ddb47b9a9acaa8581fa7f0c": {
      "model_module": "jupyter-leaflet",
      "model_module_version": "^0.17",
      "model_name": "LeafletWidgetControlModel",
      "state": {
       "_model_module": "jupyter-leaflet",
       "_model_module_version": "^0.17",
       "_view_count": null,
       "_view_module": "jupyter-leaflet",
       "_view_module_version": "^0.17",
       "options": [
        "position",
        "transparent_bg"
       ],
       "position": "bottomleft",
       "widget": "IPY_MODEL_fc53fd07db36470fa06d86339255f6e2"
      }
     },
     "d9d9ba59331c4556a50644cd626b9e5f": {
      "model_module": "jupyter-leaflet",
      "model_module_version": "^0.17",
      "model_name": "LeafletMapStyleModel",
      "state": {
       "_model_module_version": "^0.17"
      }
     },
     "d9e3221d2882463a8a41acb034904c36": {
      "model_module": "@jupyter-widgets/controls",
      "model_module_version": "1.5.0",
      "model_name": "BoxModel",
      "state": {
       "children": [
        "IPY_MODEL_849f342de0ed4dafa18b392c8f317c8a"
       ],
       "layout": "IPY_MODEL_18d0d5b53e9f499da0969a9a9490fb3c"
      }
     },
     "d9f53f8af902417ea0d593729600f1fd": {
      "model_module": "jupyter-leaflet",
      "model_module_version": "^0.12.6",
      "model_name": "LeafletMapStyleModel",
      "state": {
       "_model_module_version": "^0.12.6"
      }
     },
     "da05d8809b21418f8667ff57531bc117": {
      "model_module": "@jupyter-widgets/base",
      "model_module_version": "1.2.0",
      "model_name": "LayoutModel",
      "state": {}
     },
     "da17bd752fc64b22b2fa855b4b379354": {
      "model_module": "jupyter-leaflet",
      "model_module_version": "^0.12.6",
      "model_name": "LeafletMapStyleModel",
      "state": {
       "_model_module_version": "^0.12.6"
      }
     },
     "da747298fd3c49ccbdb883a67525eaa0": {
      "model_module": "jupyter-leaflet",
      "model_module_version": "^0.17",
      "model_name": "LeafletTileLayerModel",
      "state": {
       "_model_module_version": "^0.17",
       "_view_module_version": "^0.17",
       "attribution": "&copy; <a href=\"https://www.openstreetmap.org/copyright\">OpenStreetMap</a> contributors &copy; <a href=\"https://carto.com/attributions\">CARTO</a>",
       "base": true,
       "max_zoom": 20,
       "min_zoom": 1,
       "name": "CartoDB.DarkMatter",
       "options": [
        "attribution",
        "bounds",
        "detect_retina",
        "max_native_zoom",
        "max_zoom",
        "min_native_zoom",
        "min_zoom",
        "no_wrap",
        "tile_size",
        "tms",
        "zoom_offset"
       ],
       "url": "https://a.basemaps.cartocdn.com/dark_all/{z}/{x}/{y}.png"
      }
     },
     "dae9f5c5859e4d5299349cc67d61fa5e": {
      "model_module": "jupyter-leaflet",
      "model_module_version": "^0.17",
      "model_name": "LeafletMapStyleModel",
      "state": {
       "_model_module_version": "^0.17"
      }
     },
     "db4cd3f9ee964020b7769753745c9283": {
      "model_module": "ipyurl",
      "model_module_version": "^0.1.2",
      "model_name": "UrlModel",
      "state": {
       "_model_module_version": "^0.1.2",
       "_view_module_version": "^0.1.2",
       "layout": "IPY_MODEL_4191272af89047c8891f2b3674440e97"
      }
     },
     "db51bed30b2a43e0adf56d440ada46a2": {
      "model_module": "@jupyter-widgets/controls",
      "model_module_version": "1.5.0",
      "model_name": "BoxModel",
      "state": {
       "children": [
        "IPY_MODEL_be1fcec440d148248684f1e8e6965645"
       ],
       "layout": "IPY_MODEL_638edb4203cb43dd8c6a379b0590d43c"
      }
     },
     "db7d56c4479c44bfbabb6a33530efdda": {
      "model_module": "jupyter-leaflet",
      "model_module_version": "^0.17",
      "model_name": "LeafletWidgetControlModel",
      "state": {
       "_model_module": "jupyter-leaflet",
       "_model_module_version": "^0.17",
       "_view_count": null,
       "_view_module": "jupyter-leaflet",
       "_view_module_version": "^0.17",
       "options": [
        "position",
        "transparent_bg"
       ],
       "position": "bottomright",
       "widget": "IPY_MODEL_dbc0d2b61eff4e7cafe17ab3fa0bcf3f"
      }
     },
     "db8b28dd4f184fe5a769c2b3d87a35ba": {
      "model_module": "jupyter-leaflet",
      "model_module_version": "^0.12.6",
      "model_name": "LeafletLocalTileLayerModel",
      "state": {
       "_model_module_version": "^0.12.6",
       "_view_module_version": "^0.12.6",
       "max_native_zoom": 18,
       "min_native_zoom": 0,
       "options": [
        "attribution",
        "detect_retina",
        "max_native_zoom",
        "max_zoom",
        "min_native_zoom",
        "min_zoom",
        "no_wrap",
        "tile_size",
        "tms"
       ],
       "path": "./xarray_leaflet_tiles/tmp623onuw8/{z}/{x}/{y}.png"
      }
     },
     "dbc0d2b61eff4e7cafe17ab3fa0bcf3f": {
      "model_module": "ipyspin",
      "model_module_version": "^1.0.0",
      "model_name": "SpinnerModel",
      "state": {
       "_model_module_version": "^1.0.0",
       "_view_module_version": "^1.0.0",
       "layout": "IPY_MODEL_d28f2e0941bf40d88ba9d99e29312ed7",
       "length": 3,
       "lines": 8,
       "radius": 5,
       "width": 5,
       "window_url": "http://localhost:8888/notebooks/js/xarray-leaflet.ipynb#"
      }
     },
     "dbd928c0ceb240d8b36c9af312f1d27e": {
      "model_module": "@jupyter-widgets/base",
      "model_module_version": "1.2.0",
      "model_name": "LayoutModel",
      "state": {}
     },
     "dc08e5dab071490a859cf32d244f203c": {
      "model_module": "@jupyter-widgets/controls",
      "model_module_version": "1.5.0",
      "model_name": "FloatSliderModel",
      "state": {
       "description": "opacity",
       "layout": "IPY_MODEL_79f54855fa6b48618701f4e90597ed21",
       "max": 1,
       "step": 0.1,
       "style": "IPY_MODEL_3a4bae64cd484c1780ee93575eb1aadb",
       "value": 1
      }
     },
     "dcc058bf816940ed918de08fdf06a9f5": {
      "model_module": "jupyter-leaflet",
      "model_module_version": "^0.12.6",
      "model_name": "LeafletMapModel",
      "state": {
       "_model_module_version": "^0.12.6",
       "_view_module_version": "^0.12.6",
       "center": [
        -20,
        -60
       ],
       "controls": [
        "IPY_MODEL_1db3da6440284b7281be2b902c461dd1",
        "IPY_MODEL_8a87923987ca42088a17861404c6ff42"
       ],
       "default_style": "IPY_MODEL_a292d7c0fc3c45e5ac745077e3f8ea41",
       "dragging_style": "IPY_MODEL_4ed74ce8199f4d4aaf97983a3752797e",
       "fullscreen": false,
       "interpolation": "bilinear",
       "layers": [
        "IPY_MODEL_177af9087b894d0eb0f61e53e13e6789"
       ],
       "layout": "IPY_MODEL_5a5e52f01bc546ea9a9f7cbaabc20849",
       "modisdate": "yesterday",
       "options": [
        "bounce_at_zoom_limits",
        "box_zoom",
        "center",
        "close_popup_on_click",
        "double_click_zoom",
        "dragging",
        "fullscreen",
        "inertia",
        "inertia_deceleration",
        "inertia_max_speed",
        "interpolation",
        "keyboard",
        "keyboard_pan_offset",
        "keyboard_zoom_offset",
        "max_zoom",
        "min_zoom",
        "scroll_wheel_zoom",
        "tap",
        "tap_tolerance",
        "touch_zoom",
        "world_copy_jump",
        "zoom",
        "zoom_animation_threshold",
        "zoom_start"
       ],
       "style": "IPY_MODEL_d9f53f8af902417ea0d593729600f1fd",
       "window_url": "http://localhost:8888/notebooks/js/xarray-leaflet.ipynb",
       "zoom": 3
      }
     },
     "dd0a3fa99bed4911a4de3baf516ade69": {
      "model_module": "jupyter-leaflet",
      "model_module_version": "^0.17",
      "model_name": "LeafletMapModel",
      "state": {
       "_model_module_version": "^0.17",
       "_view_module_version": "^0.17",
       "center": [
        24.84656534821976,
        117.42187500000001
       ],
       "controls": [
        "IPY_MODEL_0e6c101e69104dc8b986867f930443a2",
        "IPY_MODEL_6a9a7247b0f54838af839b09a919e8a3"
       ],
       "default_style": "IPY_MODEL_b8fca13498654f348b7115ebe092c370",
       "dragging_style": "IPY_MODEL_63e9723aa2ad4c4e94f36f32b6709a19",
       "east": null,
       "fullscreen": false,
       "interpolation": "nearest",
       "layers": [
        "IPY_MODEL_d3ac3341d13148a4b1b4ad90b3b0b361"
       ],
       "layout": "IPY_MODEL_b2f1719f375b4ddfb61d82228ae8361d",
       "modisdate": "2023-07-11",
       "north": -90,
       "options": [
        "bounce_at_zoom_limits",
        "box_zoom",
        "center",
        "close_popup_on_click",
        "double_click_zoom",
        "dragging",
        "fullscreen",
        "inertia",
        "inertia_deceleration",
        "inertia_max_speed",
        "interpolation",
        "keyboard",
        "keyboard_pan_offset",
        "keyboard_zoom_offset",
        "max_zoom",
        "min_zoom",
        "prefer_canvas",
        "scroll_wheel_zoom",
        "tap",
        "tap_tolerance",
        "touch_zoom",
        "world_copy_jump",
        "zoom",
        "zoom_animation_threshold",
        "zoom_delta",
        "zoom_snap"
       ],
       "prefer_canvas": false,
       "south": 90,
       "style": "IPY_MODEL_b8fca13498654f348b7115ebe092c370",
       "west": null,
       "window_url": "http://localhost:8888/notebooks/js/xarray-leaflet.ipynb#",
       "zoom": 2
      }
     },
     "dd0c049f84ba4258a1aec460244a5c6c": {
      "model_module": "jupyter-leaflet",
      "model_module_version": "^0.12.6",
      "model_name": "LeafletLocalTileLayerModel",
      "state": {
       "_model_module_version": "^0.12.6",
       "_view_module_version": "^0.12.6",
       "max_native_zoom": 18,
       "min_native_zoom": 0,
       "options": [
        "attribution",
        "detect_retina",
        "max_native_zoom",
        "max_zoom",
        "min_native_zoom",
        "min_zoom",
        "no_wrap",
        "tile_size",
        "tms"
       ],
       "path": "./xarray_leaflet_tiles/tmpmicqrze0/{z}/{x}/{y}.png",
       "url": "./xarray_leaflet_tiles/tmpmicqrze0/{z}/{x}/{y}.png"
      }
     },
     "dd374e1fc64e40ce8941a74d3748bb65": {
      "model_module": "jupyter-leaflet",
      "model_module_version": "^0.12.6",
      "model_name": "LeafletZoomControlModel",
      "state": {
       "_model_module_version": "^0.12.6",
       "_view_module_version": "^0.12.6",
       "options": [
        "position",
        "zoom_in_text",
        "zoom_in_title",
        "zoom_out_text",
        "zoom_out_title"
       ]
      }
     },
     "dd952f6393da44b2a905fe011586b336": {
      "model_module": "jupyter-leaflet",
      "model_module_version": "^0.12.6",
      "model_name": "LeafletMapModel",
      "state": {
       "_model_module_version": "^0.12.6",
       "_view_module_version": "^0.12.6",
       "center": [
        -20,
        -60
       ],
       "controls": [
        "IPY_MODEL_a51a9e922b464d1b9b100edc26438883",
        "IPY_MODEL_52a092cc1ccb44a683561ac7c34cad89"
       ],
       "default_style": "IPY_MODEL_a0a286a2a4ab474382b56b7cb9e478bd",
       "dragging_style": "IPY_MODEL_0280f5b77ab24118aff7ca3ee04d325e",
       "east": 26.367187500000004,
       "fullscreen": false,
       "interpolation": "bilinear",
       "layers": [
        "IPY_MODEL_d5e8bf560b61425c9e15429e92c53424"
       ],
       "layout": "IPY_MODEL_c508b1c1cda84611a73173bebb8a89b2",
       "modisdate": "yesterday",
       "north": 14.604847155053898,
       "options": [
        "bounce_at_zoom_limits",
        "box_zoom",
        "center",
        "close_popup_on_click",
        "double_click_zoom",
        "dragging",
        "fullscreen",
        "inertia",
        "inertia_deceleration",
        "inertia_max_speed",
        "interpolation",
        "keyboard",
        "keyboard_pan_offset",
        "keyboard_zoom_offset",
        "max_zoom",
        "min_zoom",
        "scroll_wheel_zoom",
        "tap",
        "tap_tolerance",
        "touch_zoom",
        "world_copy_jump",
        "zoom",
        "zoom_animation_threshold",
        "zoom_start"
       ],
       "south": -48.45835188280866,
       "style": "IPY_MODEL_a7eb13d615e64c7e919b9209d5112469",
       "west": -146.25000000000003,
       "window_url": "http://localhost:8888/notebooks/js/xarray-leaflet.ipynb",
       "zoom": 3
      }
     },
     "de4470967e714e8aa1972a1f0fca515d": {
      "model_module": "jupyter-leaflet",
      "model_module_version": "^0.12.6",
      "model_name": "LeafletTileLayerModel",
      "state": {
       "_model_module_version": "^0.12.6",
       "_view_module_version": "^0.12.6",
       "attribution": "&copy; <a href=\"http://www.openstreetmap.org/copyright\">OpenStreetMap</a> &copy; <a href=\"http://cartodb.com/attributions\">CartoDB</a>",
       "base": true,
       "max_native_zoom": 18,
       "max_zoom": 20,
       "min_native_zoom": 0,
       "min_zoom": 1,
       "name": "CartoDB.Positron",
       "options": [
        "attribution",
        "detect_retina",
        "max_native_zoom",
        "max_zoom",
        "min_native_zoom",
        "min_zoom",
        "no_wrap",
        "tile_size",
        "tms"
       ],
       "url": "http://c.basemaps.cartocdn.com/light_all/{z}/{x}/{y}.png"
      }
     },
     "de8285c62bde4c62bf41ee114bc66f7a": {
      "model_module": "jupyter-leaflet",
      "model_module_version": "^0.17",
      "model_name": "LeafletAttributionControlModel",
      "state": {
       "_model_module_version": "^0.17",
       "_view_module_version": "^0.17",
       "options": [
        "position",
        "prefix"
       ],
       "position": "bottomright",
       "prefix": "ipyleaflet"
      }
     },
     "df31d504907243afb48ad616e02997b6": {
      "model_module": "@jupyter-widgets/controls",
      "model_module_version": "1.5.0",
      "model_name": "FloatSliderModel",
      "state": {
       "description": "opacity",
       "layout": "IPY_MODEL_935ea0036eae4254939c6164f0da2eca",
       "max": 1,
       "step": 0.1,
       "style": "IPY_MODEL_c8f8e98899ee4fb6a0aff4759feaf285",
       "value": 1
      }
     },
     "df95c655e2e54fc9b12da8bfbd0ddfda": {
      "model_module": "jupyter-leaflet",
      "model_module_version": "^0.17",
      "model_name": "LeafletLocalTileLayerModel",
      "state": {
       "_model_module_version": "^0.17",
       "_view_module_version": "^0.17",
       "name": "DEM",
       "options": [
        "attribution",
        "bounds",
        "detect_retina",
        "max_native_zoom",
        "max_zoom",
        "min_native_zoom",
        "min_zoom",
        "no_wrap",
        "tile_size",
        "tms",
        "zoom_offset"
       ],
       "url": ""
      }
     },
     "dfafddc1f7584359b5960135d0ca601c": {
      "model_module": "@jupyter-widgets/controls",
      "model_module_version": "1.5.0",
      "model_name": "SliderStyleModel",
      "state": {
       "description_width": ""
      }
     },
     "e02a2a94ada14a62867936f61e7c31e1": {
      "model_module": "jupyter-leaflet",
      "model_module_version": "^0.12.6",
      "model_name": "LeafletMapStyleModel",
      "state": {
       "_model_module_version": "^0.12.6"
      }
     },
     "e14c694ad3ef4054bf7b642ae877170f": {
      "model_module": "jupyter-leaflet",
      "model_module_version": "^0.12.6",
      "model_name": "LeafletLocalTileLayerModel",
      "state": {
       "_model_module_version": "^0.12.6",
       "_view_module_version": "^0.12.6",
       "max_native_zoom": 18,
       "min_native_zoom": 0,
       "options": [
        "attribution",
        "detect_retina",
        "max_native_zoom",
        "max_zoom",
        "min_native_zoom",
        "min_zoom",
        "no_wrap",
        "tile_size",
        "tms"
       ],
       "path": "./xarray_leaflet_tiles/tmpoom_w10q/{z}/{x}/{y}.png"
      }
     },
     "e1667f124b2c430cb8d2a0f7df05af97": {
      "model_module": "jupyter-leaflet",
      "model_module_version": "^0.12.6",
      "model_name": "LeafletTileLayerModel",
      "state": {
       "_model_module_version": "^0.12.6",
       "_view_module_version": "^0.12.6",
       "attribution": "&copy; <a href=\"http://www.openstreetmap.org/copyright\">OpenStreetMap</a> &copy; <a href=\"http://cartodb.com/attributions\">CartoDB</a>",
       "base": true,
       "max_native_zoom": 18,
       "max_zoom": 20,
       "min_native_zoom": 0,
       "min_zoom": 1,
       "name": "CartoDB.DarkMatter",
       "options": [
        "attribution",
        "detect_retina",
        "max_native_zoom",
        "max_zoom",
        "min_native_zoom",
        "min_zoom",
        "no_wrap",
        "tile_size",
        "tms"
       ],
       "url": "http://c.basemaps.cartocdn.com/dark_all/{z}/{x}/{y}.png"
      }
     },
     "e171007f815d41e98cc295821ff12c21": {
      "model_module": "jupyter-leaflet",
      "model_module_version": "^0.17",
      "model_name": "LeafletTileLayerModel",
      "state": {
       "_model_module_version": "^0.17",
       "_view_module_version": "^0.17",
       "attribution": "&copy; <a href=\"https://www.openstreetmap.org/copyright\">OpenStreetMap</a> contributors &copy; <a href=\"https://carto.com/attributions\">CARTO</a>",
       "base": true,
       "max_zoom": 20,
       "min_zoom": 1,
       "name": "CartoDB.Positron",
       "options": [
        "attribution",
        "bounds",
        "detect_retina",
        "max_native_zoom",
        "max_zoom",
        "min_native_zoom",
        "min_zoom",
        "no_wrap",
        "tile_size",
        "tms",
        "zoom_offset"
       ],
       "url": "https://a.basemaps.cartocdn.com/light_all/{z}/{x}/{y}.png"
      }
     },
     "e1b14c3ef72142238324862493d431c5": {
      "model_module": "ipyurl",
      "model_module_version": "^0.1.2",
      "model_name": "UrlModel",
      "state": {
       "_model_module_version": "^0.1.2",
       "_view_module_version": "^0.1.2",
       "layout": "IPY_MODEL_23e2db8c4af149988ceb72d70d9ae73f"
      }
     },
     "e1e6ccb69b124f86910799f3fea46063": {
      "model_module": "jupyter-leaflet",
      "model_module_version": "^0.17",
      "model_name": "LeafletMapStyleModel",
      "state": {
       "_model_module_version": "^0.17"
      }
     },
     "e32cd36ff73f47119175b4ccdab05c3f": {
      "model_module": "jupyter-leaflet",
      "model_module_version": "^0.12.6",
      "model_name": "LeafletLocalTileLayerModel",
      "state": {
       "_model_module_version": "^0.12.6",
       "_view_module_version": "^0.12.6",
       "max_native_zoom": 18,
       "min_native_zoom": 0,
       "options": [
        "attribution",
        "detect_retina",
        "max_native_zoom",
        "max_zoom",
        "min_native_zoom",
        "min_zoom",
        "no_wrap",
        "tile_size",
        "tms"
       ],
       "path": "./xarray_leaflet_tiles/tmp4_kad3w4/{z}/{x}/{y}.png"
      }
     },
     "e38ac3dcdc0b4e789b3df6edf30b9146": {
      "model_module": "jupyter-leaflet",
      "model_module_version": "^0.12.6",
      "model_name": "LeafletTileLayerModel",
      "state": {
       "_model_module_version": "^0.12.6",
       "_view_module_version": "^0.12.6",
       "attribution": "&copy; <a href=\"http://www.openstreetmap.org/copyright\">OpenStreetMap</a> &copy; <a href=\"http://cartodb.com/attributions\">CartoDB</a>",
       "base": true,
       "max_native_zoom": 18,
       "max_zoom": 20,
       "min_native_zoom": 0,
       "min_zoom": 1,
       "name": "CartoDB.DarkMatter",
       "options": [
        "attribution",
        "detect_retina",
        "max_native_zoom",
        "max_zoom",
        "min_native_zoom",
        "min_zoom",
        "no_wrap",
        "tile_size",
        "tms"
       ],
       "url": "http://c.basemaps.cartocdn.com/dark_all/{z}/{x}/{y}.png"
      }
     },
     "e3d07926d06e403391c25c06b76ba6a5": {
      "model_module": "@jupyter-widgets/base",
      "model_module_version": "1.2.0",
      "model_name": "LayoutModel",
      "state": {}
     },
     "e3d0dca6282c4d8da7b6db2be2fbc850": {
      "model_module": "jupyter-leaflet",
      "model_module_version": "^0.17",
      "model_name": "LeafletDrawControlModel",
      "state": {
       "_model_module_version": "^0.17",
       "_view_module_version": "^0.17",
       "options": [
        "position"
       ],
       "polygon": {},
       "polyline": {},
       "rectangle": {
        "shapeOptions": {
         "clickable": true,
         "color": "#3388ff",
         "fill": true,
         "fillColor": null,
         "fillOpacity": 0.5,
         "opacity": 0.5,
         "stroke": true,
         "weight": 4
        }
       }
      }
     },
     "e3e1439cfea345c19132fb2238728f72": {
      "model_module": "jupyter-leaflet",
      "model_module_version": "^0.12.6",
      "model_name": "LeafletMapStyleModel",
      "state": {
       "_model_module_version": "^0.12.6"
      }
     },
     "e3e67e104d98435f87b8755482b2af82": {
      "model_module": "jupyter-leaflet",
      "model_module_version": "^0.17",
      "model_name": "LeafletDrawControlModel",
      "state": {
       "_model_module_version": "^0.17",
       "_view_module_version": "^0.17",
       "data": [
        {
         "geometry": {
          "coordinates": [
           [
            [
             -22.326113,
             25.826258
            ],
            [
             -22.326113,
             58.278691
            ],
            [
             41.672573,
             58.278691
            ],
            [
             41.672573,
             25.826258
            ],
            [
             -22.326113,
             25.826258
            ]
           ]
          ],
          "type": "Polygon"
         },
         "properties": {
          "style": {
           "clickable": true,
           "color": "#3388ff",
           "fill": true,
           "fillColor": null,
           "fillOpacity": 0.5,
           "opacity": 0.5,
           "stroke": true,
           "weight": 4
          }
         },
         "type": "Feature"
        }
       ],
       "options": [
        "position"
       ],
       "polygon": {},
       "polyline": {},
       "rectangle": {
        "shapeOptions": {
         "clickable": true,
         "color": "#3388ff",
         "fill": true,
         "fillColor": null,
         "fillOpacity": 0.5,
         "opacity": 0.5,
         "stroke": true,
         "weight": 4
        }
       }
      }
     },
     "e3e85820cd594022bddd7dba9227fc3a": {
      "model_module": "@jupyter-widgets/base",
      "model_module_version": "1.2.0",
      "model_name": "LayoutModel",
      "state": {
       "height": "30px",
       "width": "30px"
      }
     },
     "e41960a2b49c42bfacd5abb0b15b3738": {
      "model_module": "ipyspin",
      "model_module_version": "^1.0.0",
      "model_name": "SpinnerModel",
      "state": {
       "_model_module_version": "^1.0.0",
       "_view_module_version": "^1.0.0",
       "layout": "IPY_MODEL_c88610bddc02460f996d8ac799cbc947",
       "length": 3,
       "lines": 8,
       "radius": 5,
       "width": 5,
       "window_url": "http://localhost:8888/notebooks/js/xarray-leaflet.ipynb#"
      }
     },
     "e4762b332a3b4a6d8f9bdf720a5e2117": {
      "model_module": "@jupyter-widgets/controls",
      "model_module_version": "1.5.0",
      "model_name": "SliderStyleModel",
      "state": {
       "description_width": ""
      }
     },
     "e4b70d1b70ce47e88f6ef9a61089497e": {
      "model_module": "@jupyter-widgets/base",
      "model_module_version": "1.2.0",
      "model_name": "LayoutModel",
      "state": {}
     },
     "e4cde677a2a3413a8a5459ea5f206cc4": {
      "model_module": "jupyter-leaflet",
      "model_module_version": "^0.17",
      "model_name": "LeafletAttributionControlModel",
      "state": {
       "_model_module_version": "^0.17",
       "_view_module_version": "^0.17",
       "options": [
        "position",
        "prefix"
       ],
       "position": "bottomright",
       "prefix": "ipyleaflet"
      }
     },
     "e51b24a90adf495ea0eb96498fd07f0f": {
      "model_module": "jupyter-leaflet",
      "model_module_version": "^0.17",
      "model_name": "LeafletTileLayerModel",
      "state": {
       "_model_module_version": "^0.17",
       "_view_module_version": "^0.17",
       "attribution": "&copy; <a href=\"https://www.openstreetmap.org/copyright\">OpenStreetMap</a> contributors &copy; <a href=\"https://carto.com/attributions\">CARTO</a>",
       "base": true,
       "max_zoom": 20,
       "min_zoom": 1,
       "name": "CartoDB.Positron",
       "options": [
        "attribution",
        "bounds",
        "detect_retina",
        "max_native_zoom",
        "max_zoom",
        "min_native_zoom",
        "min_zoom",
        "no_wrap",
        "tile_size",
        "tms",
        "zoom_offset"
       ],
       "url": "https://a.basemaps.cartocdn.com/light_all/{z}/{x}/{y}.png"
      }
     },
     "e56c9acad7f04b10ad2f93659aa91809": {
      "model_module": "@jupyter-widgets/base",
      "model_module_version": "1.2.0",
      "model_name": "LayoutModel",
      "state": {}
     },
     "e57299be38004b4eb1d2d9d586e7903f": {
      "model_module": "@jupyter-widgets/base",
      "model_module_version": "1.2.0",
      "model_name": "LayoutModel",
      "state": {}
     },
     "e659afc000fc44d598eb1344d70f9162": {
      "model_module": "jupyter-leaflet",
      "model_module_version": "^0.12.6",
      "model_name": "LeafletMapStyleModel",
      "state": {
       "_model_module_version": "^0.12.6"
      }
     },
     "e74260e7b9b7435b96b97568ade67fae": {
      "model_module": "jupyter-leaflet",
      "model_module_version": "^0.17",
      "model_name": "LeafletLocalTileLayerModel",
      "state": {
       "_model_module_version": "^0.17",
       "_view_module_version": "^0.17",
       "name": "DEM",
       "options": [
        "attribution",
        "bounds",
        "detect_retina",
        "max_native_zoom",
        "max_zoom",
        "min_native_zoom",
        "min_zoom",
        "no_wrap",
        "tile_size",
        "tms",
        "zoom_offset"
       ]
      }
     },
     "e85dfee915674cc28e1858f6f6c902c8": {
      "model_module": "jupyter-leaflet",
      "model_module_version": "^0.17",
      "model_name": "LeafletMapModel",
      "state": {
       "_model_module_version": "^0.17",
       "_view_module_version": "^0.17",
       "center": [
        24.84656534821976,
        117.42187500000001
       ],
       "controls": [
        "IPY_MODEL_65972886f71b49559627468f17d01d2b",
        "IPY_MODEL_8fe4fdd7b876421e9d37fe3392736197",
        "IPY_MODEL_6d43c72a9b0e49e683129a07c1e72283",
        "IPY_MODEL_0cff675276dc4f8a8f869ffcd3b11f4c"
       ],
       "default_style": "IPY_MODEL_ec4fd57b99ca48189b8814d3ed363ed3",
       "dragging_style": "IPY_MODEL_291ec9ce15344ea9ae38c744bfdb9d4e",
       "east": null,
       "fullscreen": false,
       "interpolation": "nearest",
       "layers": [
        "IPY_MODEL_6cd14968d88649e6aceb88aa4b5a5cc3"
       ],
       "layout": "IPY_MODEL_35179f95e8c0433dbb388b3f235715b0",
       "modisdate": "2023-07-11",
       "north": -90,
       "options": [
        "bounce_at_zoom_limits",
        "box_zoom",
        "center",
        "close_popup_on_click",
        "double_click_zoom",
        "dragging",
        "fullscreen",
        "inertia",
        "inertia_deceleration",
        "inertia_max_speed",
        "interpolation",
        "keyboard",
        "keyboard_pan_offset",
        "keyboard_zoom_offset",
        "max_zoom",
        "min_zoom",
        "prefer_canvas",
        "scroll_wheel_zoom",
        "tap",
        "tap_tolerance",
        "touch_zoom",
        "world_copy_jump",
        "zoom",
        "zoom_animation_threshold",
        "zoom_delta",
        "zoom_snap"
       ],
       "prefer_canvas": false,
       "south": 90,
       "style": "IPY_MODEL_ec4fd57b99ca48189b8814d3ed363ed3",
       "west": null,
       "window_url": "http://localhost:8888/notebooks/js/xarray-leaflet.ipynb#",
       "zoom": 2
      }
     },
     "e8604c67679d439fb9a46fae682053d1": {
      "model_module": "@jupyter-widgets/base",
      "model_module_version": "1.2.0",
      "model_name": "LayoutModel",
      "state": {
       "height": "30px",
       "width": "30px"
      }
     },
     "e879efa44cce413daeda4e55b83dc288": {
      "model_module": "jupyter-leaflet",
      "model_module_version": "^0.17",
      "model_name": "LeafletZoomControlModel",
      "state": {
       "_model_module_version": "^0.17",
       "_view_module_version": "^0.17",
       "options": [
        "position",
        "zoom_in_text",
        "zoom_in_title",
        "zoom_out_text",
        "zoom_out_title"
       ]
      }
     },
     "ea12e0b24c9247fb9a8f7b5ee6acc843": {
      "model_module": "jupyter-leaflet",
      "model_module_version": "^0.17",
      "model_name": "LeafletWidgetControlModel",
      "state": {
       "_model_module": "jupyter-leaflet",
       "_model_module_version": "^0.17",
       "_view_count": null,
       "_view_module": "jupyter-leaflet",
       "_view_module_version": "^0.17",
       "options": [
        "position",
        "transparent_bg"
       ],
       "position": "bottomright",
       "widget": "IPY_MODEL_25f2c8556c7746a395ebc7eb89854aa3"
      }
     },
     "ea54342acdfd4642aea18c456a539ac1": {
      "model_module": "@jupyter-widgets/controls",
      "model_module_version": "1.5.0",
      "model_name": "FloatSliderModel",
      "state": {
       "description": "opacity",
       "layout": "IPY_MODEL_8898e609ef574fbcba7daa1f1845dca5",
       "max": 1,
       "min": 0.1,
       "step": 0.1,
       "style": "IPY_MODEL_1cd87ab8e36e450897c9cca558774356",
       "value": 1
      }
     },
     "eacd700705024fadbd9e9e4c328ec092": {
      "model_module": "ipyurl",
      "model_module_version": "^0.1.2",
      "model_name": "UrlModel",
      "state": {
       "_model_module_version": "^0.1.2",
       "_view_module_version": "^0.1.2",
       "layout": "IPY_MODEL_feadc0f9bde249aa88308b43e2540085"
      }
     },
     "eb6612a1fbce4039b28a5d1d38c8a183": {
      "model_module": "@jupyter-widgets/base",
      "model_module_version": "1.2.0",
      "model_name": "LayoutModel",
      "state": {}
     },
     "ebb3a72d61ac42f28380ec03feb5f139": {
      "model_module": "jupyter-leaflet",
      "model_module_version": "^0.17",
      "model_name": "LeafletZoomControlModel",
      "state": {
       "_model_module_version": "^0.17",
       "_view_module_version": "^0.17",
       "options": [
        "position",
        "zoom_in_text",
        "zoom_in_title",
        "zoom_out_text",
        "zoom_out_title"
       ]
      }
     },
     "ec4fd57b99ca48189b8814d3ed363ed3": {
      "model_module": "jupyter-leaflet",
      "model_module_version": "^0.17",
      "model_name": "LeafletMapStyleModel",
      "state": {
       "_model_module_version": "^0.17"
      }
     },
     "ec89718639594fe28922188421331166": {
      "model_module": "jupyter-leaflet",
      "model_module_version": "^0.17",
      "model_name": "LeafletWidgetControlModel",
      "state": {
       "_model_module": "jupyter-leaflet",
       "_model_module_version": "^0.17",
       "_view_count": null,
       "_view_module": "jupyter-leaflet",
       "_view_module_version": "^0.17",
       "options": [
        "position",
        "transparent_bg"
       ],
       "position": "bottomright",
       "widget": "IPY_MODEL_e41960a2b49c42bfacd5abb0b15b3738"
      }
     },
     "ecc79a8b217e4957860f4337f48872cf": {
      "model_module": "@jupyter-widgets/controls",
      "model_module_version": "1.5.0",
      "model_name": "BoxModel",
      "state": {
       "children": [
        "IPY_MODEL_cd097ac04a8a41a0bc51edeaff07a59a"
       ],
       "layout": "IPY_MODEL_5bf1da27dbca46adaf99b5210d4648b2"
      }
     },
     "ed6fc955b37341ef9efa82806f2b3975": {
      "model_module": "jupyter-leaflet",
      "model_module_version": "^0.12.6",
      "model_name": "LeafletZoomControlModel",
      "state": {
       "_model_module_version": "^0.12.6",
       "_view_module_version": "^0.12.6",
       "options": [
        "position",
        "zoom_in_text",
        "zoom_in_title",
        "zoom_out_text",
        "zoom_out_title"
       ]
      }
     },
     "eda18dad0ca54f4fad6bed38e0345f51": {
      "model_module": "jupyter-leaflet",
      "model_module_version": "^0.17",
      "model_name": "LeafletTileLayerModel",
      "state": {
       "_model_module_version": "^0.17",
       "_view_module_version": "^0.17",
       "attribution": "&copy; <a href=\"https://www.openstreetmap.org/copyright\">OpenStreetMap</a> contributors &copy; <a href=\"https://carto.com/attributions\">CARTO</a>",
       "base": true,
       "max_zoom": 20,
       "min_zoom": 1,
       "name": "CartoDB.DarkMatter",
       "options": [
        "attribution",
        "bounds",
        "detect_retina",
        "max_native_zoom",
        "max_zoom",
        "min_native_zoom",
        "min_zoom",
        "no_wrap",
        "tile_size",
        "tms",
        "zoom_offset"
       ],
       "url": "https://a.basemaps.cartocdn.com/dark_all/{z}/{x}/{y}.png"
      }
     },
     "ee11ccc385784575bd35ff66b299ddd8": {
      "model_module": "jupyter-leaflet",
      "model_module_version": "^0.17",
      "model_name": "LeafletMapModel",
      "state": {
       "_model_module_version": "^0.17",
       "_view_module_version": "^0.17",
       "bottom": 639,
       "center": [
        25.005972656239187,
        117.33398437500001
       ],
       "controls": [
        "IPY_MODEL_9ce7fa36f40b4fdbb5f24c254d7b3ec8",
        "IPY_MODEL_cf060e327f3745e5b7852b61b6bb6c9f"
       ],
       "default_style": "IPY_MODEL_bc200fefdd0e42d2bcd792281c814ece",
       "dragging_style": "IPY_MODEL_25899b78d57345fd9ea6c613deadac7e",
       "east": 287.57812500000006,
       "fullscreen": false,
       "interpolation": "nearest",
       "layers": [
        "IPY_MODEL_362c3cccb32a489bbc0caa0703afb6ac"
       ],
       "layout": "IPY_MODEL_bf8964b260be4136830f99864a2b9740",
       "left": 361,
       "modisdate": "2023-07-11",
       "north": 68.78414378041504,
       "options": [
        "bounce_at_zoom_limits",
        "box_zoom",
        "center",
        "close_popup_on_click",
        "double_click_zoom",
        "dragging",
        "fullscreen",
        "inertia",
        "inertia_deceleration",
        "inertia_max_speed",
        "interpolation",
        "keyboard",
        "keyboard_pan_offset",
        "keyboard_zoom_offset",
        "max_zoom",
        "min_zoom",
        "prefer_canvas",
        "scroll_wheel_zoom",
        "tap",
        "tap_tolerance",
        "touch_zoom",
        "world_copy_jump",
        "zoom",
        "zoom_animation_threshold",
        "zoom_delta",
        "zoom_snap"
       ],
       "prefer_canvas": false,
       "right": 1330,
       "south": -40.713955826286046,
       "style": "IPY_MODEL_bc200fefdd0e42d2bcd792281c814ece",
       "top": 239,
       "west": -53.08593750000001,
       "window_url": "http://localhost:8888/notebooks/js/xarray-leaflet.ipynb#",
       "zoom": 2
      }
     },
     "ee85814acab742a4b397951af99e9efa": {
      "model_module": "ipyspin",
      "model_module_version": "^1.0.0",
      "model_name": "SpinnerModel",
      "state": {
       "_model_module_version": "^1.0.0",
       "_view_module_version": "^1.0.0",
       "layout": "IPY_MODEL_938b293005c74a01aaff1b5ff5a5e64b",
       "length": 3,
       "lines": 8,
       "radius": 5,
       "width": 5,
       "window_url": "http://localhost:8888/notebooks/js/xarray-leaflet.ipynb#"
      }
     },
     "eebce7cf31774a09b2f775f08fc096d1": {
      "model_module": "jupyter-leaflet",
      "model_module_version": "^0.12.6",
      "model_name": "LeafletLocalTileLayerModel",
      "state": {
       "_model_module_version": "^0.12.6",
       "_view_module_version": "^0.12.6",
       "max_native_zoom": 18,
       "min_native_zoom": 0,
       "opacity": 0.1,
       "options": [
        "attribution",
        "detect_retina",
        "max_native_zoom",
        "max_zoom",
        "min_native_zoom",
        "min_zoom",
        "no_wrap",
        "tile_size",
        "tms"
       ],
       "path": "/tiles/var/folders/f8/0034db6d78s5r6m34fxhpk7m0000gp/T/xarray_leaflet_vnfntrdt/{z}/{x}/{y}.png",
       "url": "/tiles/var/folders/f8/0034db6d78s5r6m34fxhpk7m0000gp/T/xarray_leaflet_vnfntrdt/{z}/{x}/{y}.png"
      }
     },
     "eecaf0d751ad4700baf2849446420bf3": {
      "model_module": "@jupyter-widgets/base",
      "model_module_version": "1.2.0",
      "model_name": "LayoutModel",
      "state": {}
     },
     "ef2730c7f56b416484bdce946f053193": {
      "model_module": "jupyter-leaflet",
      "model_module_version": "^0.12.6",
      "model_name": "LeafletTileLayerModel",
      "state": {
       "_model_module_version": "^0.12.6",
       "_view_module_version": "^0.12.6",
       "attribution": "&copy; <a href=\"http://www.openstreetmap.org/copyright\">OpenStreetMap</a> &copy; <a href=\"http://cartodb.com/attributions\">CartoDB</a>",
       "base": true,
       "max_native_zoom": 18,
       "max_zoom": 20,
       "min_native_zoom": 0,
       "min_zoom": 1,
       "name": "CartoDB.DarkMatter",
       "options": [
        "attribution",
        "detect_retina",
        "max_native_zoom",
        "max_zoom",
        "min_native_zoom",
        "min_zoom",
        "no_wrap",
        "tile_size",
        "tms"
       ],
       "url": "http://c.basemaps.cartocdn.com/dark_all/{z}/{x}/{y}.png"
      }
     },
     "ef293ede56a34d7c94b31157b9d195d3": {
      "model_module": "@jupyter-widgets/base",
      "model_module_version": "1.2.0",
      "model_name": "LayoutModel",
      "state": {}
     },
     "ef4cf54413c443bf8b5b1caa598c8193": {
      "model_module": "jupyter-leaflet",
      "model_module_version": "^0.17",
      "model_name": "LeafletWidgetControlModel",
      "state": {
       "_model_module": "jupyter-leaflet",
       "_model_module_version": "^0.17",
       "_view_count": null,
       "_view_module": "jupyter-leaflet",
       "_view_module_version": "^0.17",
       "options": [
        "position",
        "transparent_bg"
       ],
       "position": "bottomright",
       "widget": "IPY_MODEL_9ecfbfa18332424cb2dc74ce2cdb89b0"
      }
     },
     "ef967b6d91cd41519ea4c3cde0d126f1": {
      "model_module": "@jupyter-widgets/base",
      "model_module_version": "1.2.0",
      "model_name": "LayoutModel",
      "state": {}
     },
     "efd81896ebac4a9780c4defb0bd2e1f0": {
      "model_module": "@jupyter-widgets/controls",
      "model_module_version": "1.5.0",
      "model_name": "FloatSliderModel",
      "state": {
       "description": "Opacity:",
       "layout": "IPY_MODEL_5f3bc6ff26ba4ef8b1d655e8c1265225",
       "max": 1,
       "step": 0.1,
       "style": "IPY_MODEL_a84970c2d10e465d829f015b5506a827",
       "value": 1
      }
     },
     "efdf9048f56c41be90140069d613017c": {
      "model_module": "@jupyter-widgets/base",
      "model_module_version": "1.2.0",
      "model_name": "LayoutModel",
      "state": {}
     },
     "f02f143eb8424ed18096b3082e7a1468": {
      "model_module": "@jupyter-widgets/base",
      "model_module_version": "1.2.0",
      "model_name": "LayoutModel",
      "state": {}
     },
     "f063a5cf862a459d9d0499fd6f95962e": {
      "model_module": "jupyter-leaflet",
      "model_module_version": "^0.12.6",
      "model_name": "LeafletMapModel",
      "state": {
       "_model_module_version": "^0.12.6",
       "_view_module_version": "^0.12.6",
       "center": [
        -20,
        -60
       ],
       "controls": [
        "IPY_MODEL_f67d53baac6b4a88840224ba030633fe",
        "IPY_MODEL_1b238359e36b4634b4e28f162bedaeec"
       ],
       "default_style": "IPY_MODEL_3f7391ebf9234de0936d0bc0cd23a8fc",
       "dragging_style": "IPY_MODEL_53655aa9b6e1473986000c5689cf4ecc",
       "east": 26.367187500000004,
       "fullscreen": false,
       "interpolation": "bilinear",
       "layers": [
        "IPY_MODEL_5d7d79f38dbe4b509c9b2e719e473ef4"
       ],
       "layout": "IPY_MODEL_6eed799eaccd4e5681c639a0a9c49806",
       "modisdate": "yesterday",
       "north": 14.604847155053898,
       "options": [
        "bounce_at_zoom_limits",
        "box_zoom",
        "center",
        "close_popup_on_click",
        "double_click_zoom",
        "dragging",
        "fullscreen",
        "inertia",
        "inertia_deceleration",
        "inertia_max_speed",
        "interpolation",
        "keyboard",
        "keyboard_pan_offset",
        "keyboard_zoom_offset",
        "max_zoom",
        "min_zoom",
        "scroll_wheel_zoom",
        "tap",
        "tap_tolerance",
        "touch_zoom",
        "world_copy_jump",
        "zoom",
        "zoom_animation_threshold",
        "zoom_start"
       ],
       "south": -48.45835188280866,
       "style": "IPY_MODEL_c85146754f614163a13611f5466ef040",
       "west": -146.25000000000003,
       "window_url": "http://localhost:8888/notebooks/js/xarray-leaflet.ipynb",
       "zoom": 3
      }
     },
     "f0723004ad354cf7a0f4ac90b073c944": {
      "model_module": "jupyter-leaflet",
      "model_module_version": "^0.12.6",
      "model_name": "LeafletZoomControlModel",
      "state": {
       "_model_module_version": "^0.12.6",
       "_view_module_version": "^0.12.6",
       "options": [
        "position",
        "zoom_in_text",
        "zoom_in_title",
        "zoom_out_text",
        "zoom_out_title"
       ]
      }
     },
     "f103075f4e554c4783ff4533238b399b": {
      "model_module": "jupyter-leaflet",
      "model_module_version": "^0.17",
      "model_name": "LeafletAttributionControlModel",
      "state": {
       "_model_module_version": "^0.17",
       "_view_module_version": "^0.17",
       "options": [
        "position",
        "prefix"
       ],
       "position": "bottomright",
       "prefix": "ipyleaflet"
      }
     },
     "f1667f5798974879a7f63111dd037022": {
      "model_module": "ipyspin",
      "model_module_version": "^1.0.0",
      "model_name": "SpinnerModel",
      "state": {
       "_model_module_version": "^1.0.0",
       "_view_module_version": "^1.0.0",
       "layout": "IPY_MODEL_2523eb9d13924e61a8f36409a70fbfb7",
       "length": 3,
       "lines": 8,
       "radius": 5,
       "width": 5,
       "window_url": "http://localhost:8888/notebooks/js/xarray-leaflet.ipynb#"
      }
     },
     "f188ea315143492182ab5d00763327be": {
      "model_module": "@jupyter-widgets/controls",
      "model_module_version": "1.5.0",
      "model_name": "FloatSliderModel",
      "state": {
       "description": "opacity",
       "layout": "IPY_MODEL_7e5197d693054813ba9020c4064e66bb",
       "max": 1,
       "step": 0.1,
       "style": "IPY_MODEL_77b7350aed2b457186f632ad0d16620a",
       "value": 1
      }
     },
     "f1be4aca79b6430abeee7de03311e6af": {
      "model_module": "jupyter-leaflet",
      "model_module_version": "^0.17",
      "model_name": "LeafletLayersControlModel",
      "state": {
       "_model_module_version": "^0.17",
       "_view_module_version": "^0.17",
       "options": [
        "position"
       ],
       "position": "topright"
      }
     },
     "f24b3c2262844b04941212514f93f5b9": {
      "model_module": "jupyter-leaflet",
      "model_module_version": "^0.17",
      "model_name": "LeafletMapModel",
      "state": {
       "_model_module_version": "^0.17",
       "_view_module_version": "^0.17",
       "center": [
        40,
        115
       ],
       "controls": [
        "IPY_MODEL_e879efa44cce413daeda4e55b83dc288",
        "IPY_MODEL_b7e068f16fd640a0b5f53e35931bbfe6"
       ],
       "default_style": "IPY_MODEL_3a2dd59ce65141138c02f0e943c1de31",
       "dragging_style": "IPY_MODEL_147532a3a1ec4506807e3dfbf41c08a9",
       "fullscreen": false,
       "interpolation": "nearest",
       "layers": [
        "IPY_MODEL_4cae809787ad4da0b83a45b8fc5cf49b"
       ],
       "layout": "IPY_MODEL_17e030a015864570b66ccd9a0b0fe3b1",
       "modisdate": "2023-07-11",
       "options": [
        "bounce_at_zoom_limits",
        "box_zoom",
        "center",
        "close_popup_on_click",
        "double_click_zoom",
        "dragging",
        "fullscreen",
        "inertia",
        "inertia_deceleration",
        "inertia_max_speed",
        "interpolation",
        "keyboard",
        "keyboard_pan_offset",
        "keyboard_zoom_offset",
        "max_zoom",
        "min_zoom",
        "prefer_canvas",
        "scroll_wheel_zoom",
        "tap",
        "tap_tolerance",
        "touch_zoom",
        "world_copy_jump",
        "zoom",
        "zoom_animation_threshold",
        "zoom_delta",
        "zoom_snap"
       ],
       "prefer_canvas": false,
       "style": "IPY_MODEL_416a7e01e848477a836edccdc48615d7",
       "window_url": "http://localhost:8888/notebooks/js/xarray-leaflet.ipynb#",
       "zoom": 3
      }
     },
     "f25199fdf3f04dd383406d586f634d2d": {
      "model_module": "jupyter-leaflet",
      "model_module_version": "^0.12.6",
      "model_name": "LeafletMapStyleModel",
      "state": {
       "_model_module_version": "^0.12.6",
       "cursor": "move"
      }
     },
     "f26d554f00cf4fb4ab0f680c5d02057f": {
      "model_module": "ipyspin",
      "model_module_version": "^1.0.0",
      "model_name": "SpinnerModel",
      "state": {
       "_model_module_version": "^1.0.0",
       "_view_module_version": "^1.0.0",
       "layout": "IPY_MODEL_4ea0816b6ccf4993bf8cfc3802c1bb79",
       "length": 3,
       "lines": 8,
       "radius": 5,
       "width": 5,
       "window_url": "http://localhost:8888/notebooks/js/xarray-leaflet.ipynb#"
      }
     },
     "f2915f7fc81d4d25b21370455f9a88bc": {
      "model_module": "jupyter-leaflet",
      "model_module_version": "^0.17",
      "model_name": "LeafletMapStyleModel",
      "state": {
       "_model_module_version": "^0.17"
      }
     },
     "f2e8e4c5493846f59bef287006bf455f": {
      "model_module": "@jupyter-widgets/base",
      "model_module_version": "1.2.0",
      "model_name": "LayoutModel",
      "state": {}
     },
     "f370dc46bb584dc0a0438e85ceda900e": {
      "model_module": "jupyter-leaflet",
      "model_module_version": "^0.17",
      "model_name": "LeafletMapStyleModel",
      "state": {
       "_model_module_version": "^0.17"
      }
     },
     "f372b13380b345c7b839bd2f38b5c7b3": {
      "model_module": "jupyter-leaflet",
      "model_module_version": "^0.17",
      "model_name": "LeafletMapModel",
      "state": {
       "_model_module_version": "^0.17",
       "_view_module_version": "^0.17",
       "center": [
        24.84656534821976,
        117.42187500000001
       ],
       "controls": [
        "IPY_MODEL_1e5d9d812a434c3eaf0493e7bc278b3a",
        "IPY_MODEL_74957bf0865b4e468d7c51139e9c653c"
       ],
       "default_style": "IPY_MODEL_803cd2567f9e455485e72726ad400aa0",
       "dragging_style": "IPY_MODEL_f46e8645eb364934bd1fec2408591590",
       "east": null,
       "fullscreen": false,
       "interpolation": "nearest",
       "layers": [
        "IPY_MODEL_69cddbbb9e2448208b4616119276e66a"
       ],
       "layout": "IPY_MODEL_643478478bad41fa93a6b02cfbb8e981",
       "modisdate": "2023-07-11",
       "north": -90,
       "options": [
        "bounce_at_zoom_limits",
        "box_zoom",
        "center",
        "close_popup_on_click",
        "double_click_zoom",
        "dragging",
        "fullscreen",
        "inertia",
        "inertia_deceleration",
        "inertia_max_speed",
        "interpolation",
        "keyboard",
        "keyboard_pan_offset",
        "keyboard_zoom_offset",
        "max_zoom",
        "min_zoom",
        "prefer_canvas",
        "scroll_wheel_zoom",
        "tap",
        "tap_tolerance",
        "touch_zoom",
        "world_copy_jump",
        "zoom",
        "zoom_animation_threshold",
        "zoom_delta",
        "zoom_snap"
       ],
       "prefer_canvas": false,
       "south": 90,
       "style": "IPY_MODEL_803cd2567f9e455485e72726ad400aa0",
       "west": null,
       "window_url": "http://localhost:8888/notebooks/js/xarray-leaflet.ipynb#",
       "zoom": 2
      }
     },
     "f38ce78a87ff44bf81f369eb51633a57": {
      "model_module": "jupyter-leaflet",
      "model_module_version": "^0.12.6",
      "model_name": "LeafletMapStyleModel",
      "state": {
       "_model_module_version": "^0.12.6"
      }
     },
     "f46e8645eb364934bd1fec2408591590": {
      "model_module": "jupyter-leaflet",
      "model_module_version": "^0.17",
      "model_name": "LeafletMapStyleModel",
      "state": {
       "_model_module_version": "^0.17",
       "cursor": "move"
      }
     },
     "f487865c576a43fd9013d8070a28ce8a": {
      "model_module": "jupyter-leaflet",
      "model_module_version": "^0.17",
      "model_name": "LeafletMapModel",
      "state": {
       "_model_module_version": "^0.17",
       "_view_module_version": "^0.17",
       "center": [
        24.84656534821976,
        117.42187500000001
       ],
       "controls": [
        "IPY_MODEL_368742e07fcc47d5942516d665b34947",
        "IPY_MODEL_e4cde677a2a3413a8a5459ea5f206cc4",
        "IPY_MODEL_34348785f0ea4cfb9447342c7896d9da",
        "IPY_MODEL_16c068eda2ac41a3b68a4fe8fb96b1fe",
        "IPY_MODEL_02990a1b60ea4c50bec2d8be5b6009cd",
        "IPY_MODEL_78314fe074b84e929f678962887ca69e",
        "IPY_MODEL_7a46133aee8e432396eed0c609c600eb",
        "IPY_MODEL_3647bef89f9c4647b12bd65ef387807c",
        "IPY_MODEL_54444307f2734ef0b7abbe40644aadfc"
       ],
       "default_style": "IPY_MODEL_44948d11a851479e91ff6952956a39a2",
       "dragging_style": "IPY_MODEL_5c9a5b7446ba4671882d8ec00fda8880",
       "east": null,
       "fullscreen": false,
       "interpolation": "nearest",
       "layers": [
        "IPY_MODEL_394a8a50a1d04d00b398da743ff572eb"
       ],
       "layout": "IPY_MODEL_78cb0e8815d140178e09d94ca1b327c4",
       "modisdate": "2023-07-11",
       "north": -90,
       "options": [
        "bounce_at_zoom_limits",
        "box_zoom",
        "center",
        "close_popup_on_click",
        "double_click_zoom",
        "dragging",
        "fullscreen",
        "inertia",
        "inertia_deceleration",
        "inertia_max_speed",
        "interpolation",
        "keyboard",
        "keyboard_pan_offset",
        "keyboard_zoom_offset",
        "max_zoom",
        "min_zoom",
        "prefer_canvas",
        "scroll_wheel_zoom",
        "tap",
        "tap_tolerance",
        "touch_zoom",
        "world_copy_jump",
        "zoom",
        "zoom_animation_threshold",
        "zoom_delta",
        "zoom_snap"
       ],
       "prefer_canvas": false,
       "south": 90,
       "style": "IPY_MODEL_44948d11a851479e91ff6952956a39a2",
       "west": null,
       "window_url": "http://localhost:8888/notebooks/js/xarray-leaflet.ipynb#",
       "zoom": 2
      }
     },
     "f581afb510084ec28b88cfc9b81e5f5a": {
      "model_module": "@jupyter-widgets/base",
      "model_module_version": "1.2.0",
      "model_name": "LayoutModel",
      "state": {
       "height": "30px",
       "width": "30px"
      }
     },
     "f5b58fc238a5472b908ee34008fd57d6": {
      "model_module": "jupyter-leaflet",
      "model_module_version": "^0.17",
      "model_name": "LeafletMapStyleModel",
      "state": {
       "_model_module_version": "^0.17"
      }
     },
     "f5e27603927c446ca7d835bfcd077afd": {
      "model_module": "ipyurl",
      "model_module_version": "^0.1.2",
      "model_name": "UrlModel",
      "state": {
       "_model_module_version": "^0.1.2",
       "_view_module_version": "^0.1.2",
       "layout": "IPY_MODEL_eecaf0d751ad4700baf2849446420bf3"
      }
     },
     "f5fb1f31e17a4aa1ba4450965f982a0a": {
      "model_module": "jupyter-leaflet",
      "model_module_version": "^0.12.6",
      "model_name": "LeafletMapStyleModel",
      "state": {
       "_model_module_version": "^0.12.6"
      }
     },
     "f631912be23a436988311b68f7ecaf30": {
      "model_module": "jupyter-leaflet",
      "model_module_version": "^0.12.6",
      "model_name": "LeafletMapModel",
      "state": {
       "_model_module_version": "^0.12.6",
       "_view_module_version": "^0.12.6",
       "center": [
        -20,
        -60
       ],
       "controls": [
        "IPY_MODEL_0a78b17534224420adf6b95ee1a2a928",
        "IPY_MODEL_312d317e9a534d798857b09c65824238"
       ],
       "default_style": "IPY_MODEL_8e0f00c20e764eaaa19b05755266c0f6",
       "dragging_style": "IPY_MODEL_ab7939367b05486fbffdd6e6f2437988",
       "east": 26.367187500000004,
       "fullscreen": false,
       "interpolation": "bilinear",
       "layers": [
        "IPY_MODEL_154f23eb20354be998ccc728ef103379"
       ],
       "layout": "IPY_MODEL_2498fc49dca54896a07ed83217f34ee1",
       "modisdate": "yesterday",
       "north": 14.604847155053898,
       "options": [
        "bounce_at_zoom_limits",
        "box_zoom",
        "center",
        "close_popup_on_click",
        "double_click_zoom",
        "dragging",
        "fullscreen",
        "inertia",
        "inertia_deceleration",
        "inertia_max_speed",
        "interpolation",
        "keyboard",
        "keyboard_pan_offset",
        "keyboard_zoom_offset",
        "max_zoom",
        "min_zoom",
        "scroll_wheel_zoom",
        "tap",
        "tap_tolerance",
        "touch_zoom",
        "world_copy_jump",
        "zoom",
        "zoom_animation_threshold",
        "zoom_start"
       ],
       "south": -48.45835188280866,
       "style": "IPY_MODEL_c11e8cc1e25a483d9c7217d671ce2d20",
       "west": -146.25000000000003,
       "window_url": "http://localhost:8888/notebooks/js/xarray-leaflet.ipynb",
       "zoom": 3
      }
     },
     "f67d53baac6b4a88840224ba030633fe": {
      "model_module": "jupyter-leaflet",
      "model_module_version": "^0.12.6",
      "model_name": "LeafletZoomControlModel",
      "state": {
       "_model_module_version": "^0.12.6",
       "_view_module_version": "^0.12.6",
       "options": [
        "position",
        "zoom_in_text",
        "zoom_in_title",
        "zoom_out_text",
        "zoom_out_title"
       ]
      }
     },
     "f69d628d5d874d77a460c89bf69178f0": {
      "model_module": "jupyter-leaflet",
      "model_module_version": "^0.17",
      "model_name": "LeafletWidgetControlModel",
      "state": {
       "_model_module": "jupyter-leaflet",
       "_model_module_version": "^0.17",
       "_view_count": null,
       "_view_module": "jupyter-leaflet",
       "_view_module_version": "^0.17",
       "options": [
        "position",
        "transparent_bg"
       ],
       "position": "bottomright",
       "widget": "IPY_MODEL_5a4d03701b0b42d3ae218bcebf02e873"
      }
     },
     "f70963464e0e4df2a346f13e15e9c629": {
      "model_module": "@jupyter-widgets/base",
      "model_module_version": "1.2.0",
      "model_name": "LayoutModel",
      "state": {
       "height": "30px",
       "width": "30px"
      }
     },
     "f7892526b7d0491ca49ac4b6d7a4a0e1": {
      "model_module": "jupyter-leaflet",
      "model_module_version": "^0.17",
      "model_name": "LeafletMapStyleModel",
      "state": {
       "_model_module_version": "^0.17"
      }
     },
     "f8681e15e65d4f9dad1a1152068831a8": {
      "model_module": "jupyter-leaflet",
      "model_module_version": "^0.12.6",
      "model_name": "LeafletMapModel",
      "state": {
       "_model_module_version": "^0.12.6",
       "_view_module_version": "^0.12.6",
       "center": [
        -20,
        -60
       ],
       "controls": [
        "IPY_MODEL_7f96e314ab194d35bb67e74758759567",
        "IPY_MODEL_a558b58f0e5949b680ccc7c398e0260a"
       ],
       "default_style": "IPY_MODEL_b7b0adb6bb7d48eeb801b6f5ac1034ca",
       "dragging_style": "IPY_MODEL_55af7fd8d953416192905657840a4232",
       "east": 26.367187500000004,
       "fullscreen": false,
       "interpolation": "bilinear",
       "layers": [
        "IPY_MODEL_28d084231ccf43d89e29b8fc5ad94f98",
        "IPY_MODEL_23581d67ea954e22bacd39d540869087"
       ],
       "layout": "IPY_MODEL_509c8e3814864cd5a94db307b19d199f",
       "modisdate": "yesterday",
       "north": 14.604847155053898,
       "options": [
        "bounce_at_zoom_limits",
        "box_zoom",
        "center",
        "close_popup_on_click",
        "double_click_zoom",
        "dragging",
        "fullscreen",
        "inertia",
        "inertia_deceleration",
        "inertia_max_speed",
        "interpolation",
        "keyboard",
        "keyboard_pan_offset",
        "keyboard_zoom_offset",
        "max_zoom",
        "min_zoom",
        "scroll_wheel_zoom",
        "tap",
        "tap_tolerance",
        "touch_zoom",
        "world_copy_jump",
        "zoom",
        "zoom_animation_threshold",
        "zoom_start"
       ],
       "south": -48.45835188280866,
       "style": "IPY_MODEL_ab4eba89eb4146e192f8335fae592ef7",
       "west": -146.25000000000003,
       "window_url": "http://localhost:8888/notebooks/js/xarray-leaflet.ipynb",
       "zoom": 3
      }
     },
     "f8805ff1792a431bacd0dd1fb8c35e6d": {
      "model_module": "jupyter-leaflet",
      "model_module_version": "^0.17",
      "model_name": "LeafletMapModel",
      "state": {
       "_model_module_version": "^0.17",
       "_view_module_version": "^0.17",
       "bottom": 602,
       "center": [
        36.03133177633189,
        25.400390625
       ],
       "controls": [
        "IPY_MODEL_1573e208bb954aa7b3b71fe3c56a4408",
        "IPY_MODEL_8616ba6bdb7440f6b5339fbb27c1c127",
        "IPY_MODEL_807e9ab5787a494aaf39cfc99df25fda",
        "IPY_MODEL_d9b9006e9ddb47b9a9acaa8581fa7f0c"
       ],
       "default_style": "IPY_MODEL_5271531704ae46eea9216689630a3427",
       "dragging_style": "IPY_MODEL_215dc1f0447945cfb960c506a890af51",
       "east": 195.8203125,
       "fullscreen": false,
       "interpolation": "nearest",
       "layers": [
        "IPY_MODEL_2e57cdde05aa4aefa6bc72bb8bc452d6"
       ],
       "layout": "IPY_MODEL_1d9e063cb36446328863d3eb7076d532",
       "left": 100,
       "modisdate": "2023-07-11",
       "north": 73.02259157147301,
       "options": [
        "bounce_at_zoom_limits",
        "box_zoom",
        "center",
        "close_popup_on_click",
        "double_click_zoom",
        "dragging",
        "fullscreen",
        "inertia",
        "inertia_deceleration",
        "inertia_max_speed",
        "interpolation",
        "keyboard",
        "keyboard_pan_offset",
        "keyboard_zoom_offset",
        "max_zoom",
        "min_zoom",
        "prefer_canvas",
        "scroll_wheel_zoom",
        "tap",
        "tap_tolerance",
        "touch_zoom",
        "world_copy_jump",
        "zoom",
        "zoom_animation_threshold",
        "zoom_delta",
        "zoom_snap"
       ],
       "prefer_canvas": false,
       "right": 1069,
       "south": -30.145127183376115,
       "style": "IPY_MODEL_5271531704ae46eea9216689630a3427",
       "top": 202,
       "west": -144.84375000000003,
       "window_url": "http://localhost:8888/notebooks/js/xarray-leaflet.ipynb#",
       "zoom": 2
      }
     },
     "f8ca5b95d29546e7b9746e7b52ad789e": {
      "model_module": "jupyter-leaflet",
      "model_module_version": "^0.17",
      "model_name": "LeafletMapStyleModel",
      "state": {
       "_model_module_version": "^0.17",
       "cursor": "move"
      }
     },
     "f90882e219bc4a0abc6f93c4a93b75f3": {
      "model_module": "@jupyter-widgets/base",
      "model_module_version": "1.2.0",
      "model_name": "LayoutModel",
      "state": {}
     },
     "f911ce5b563f40078573a7ea658570a4": {
      "model_module": "jupyter-leaflet",
      "model_module_version": "^0.17",
      "model_name": "LeafletTileLayerModel",
      "state": {
       "_model_module_version": "^0.17",
       "_view_module_version": "^0.17",
       "attribution": "&copy; <a href=\"https://www.openstreetmap.org/copyright\">OpenStreetMap</a> contributors &copy; <a href=\"https://carto.com/attributions\">CARTO</a>",
       "base": true,
       "max_zoom": 20,
       "min_zoom": 1,
       "name": "CartoDB.Positron",
       "options": [
        "attribution",
        "bounds",
        "detect_retina",
        "max_native_zoom",
        "max_zoom",
        "min_native_zoom",
        "min_zoom",
        "no_wrap",
        "tile_size",
        "tms",
        "zoom_offset"
       ],
       "url": "https://a.basemaps.cartocdn.com/light_all/{z}/{x}/{y}.png"
      }
     },
     "f99206e97ab949dd84c95524015cff12": {
      "model_module": "jupyter-leaflet",
      "model_module_version": "^0.17",
      "model_name": "LeafletWidgetControlModel",
      "state": {
       "_model_module": "jupyter-leaflet",
       "_model_module_version": "^0.17",
       "_view_count": null,
       "_view_module": "jupyter-leaflet",
       "_view_module_version": "^0.17",
       "options": [
        "position",
        "transparent_bg"
       ],
       "position": "bottomright",
       "widget": "IPY_MODEL_348ff7da0bb049649f3cbb6475e90861"
      }
     },
     "fa04c8b448d94f088af0bed1228aac66": {
      "model_module": "ipyurl",
      "model_module_version": "^0.1.2",
      "model_name": "UrlModel",
      "state": {
       "_model_module_version": "^0.1.2",
       "_view_module_version": "^0.1.2",
       "layout": "IPY_MODEL_086bd58fa9d1491ea1c165740cb04d08"
      }
     },
     "fa824c626c304e33ab11421e2439111b": {
      "model_module": "jupyter-leaflet",
      "model_module_version": "^0.17",
      "model_name": "LeafletWidgetControlModel",
      "state": {
       "_model_module": "jupyter-leaflet",
       "_model_module_version": "^0.17",
       "_view_count": null,
       "_view_module": "jupyter-leaflet",
       "_view_module_version": "^0.17",
       "options": [
        "position",
        "transparent_bg"
       ],
       "position": "bottomleft",
       "widget": "IPY_MODEL_43051a6c79c14d2aa5703740a4aa627d"
      }
     },
     "fa9c16390ed7422ab900c1df254da06d": {
      "model_module": "ipyurl",
      "model_module_version": "^0.1.2",
      "model_name": "UrlModel",
      "state": {
       "_model_module_version": "^0.1.2",
       "_view_module_version": "^0.1.2",
       "layout": "IPY_MODEL_3399c7e58c1648ac96ba57320cb4ed90"
      }
     },
     "fb18cbc556044d7d8e84c77c83d55727": {
      "model_module": "jupyter-leaflet",
      "model_module_version": "^0.12.6",
      "model_name": "LeafletLocalTileLayerModel",
      "state": {
       "_model_module_version": "^0.12.6",
       "_view_module_version": "^0.12.6",
       "max_native_zoom": 18,
       "min_native_zoom": 0,
       "opacity": 0.7,
       "options": [
        "attribution",
        "detect_retina",
        "max_native_zoom",
        "max_zoom",
        "min_native_zoom",
        "min_zoom",
        "no_wrap",
        "tile_size",
        "tms"
       ],
       "path": "/tiles/var/folders/f8/0034db6d78s5r6m34fxhpk7m0000gp/T/xarray_leaflet_1bapv1yq/{z}/{x}/{y}.png",
       "url": "/tiles/var/folders/f8/0034db6d78s5r6m34fxhpk7m0000gp/T/xarray_leaflet_1bapv1yq/{z}/{x}/{y}.png"
      }
     },
     "fb1f71f9d21b4ec786e2af85cc2e5a7b": {
      "model_module": "jupyter-leaflet",
      "model_module_version": "^0.12.6",
      "model_name": "LeafletZoomControlModel",
      "state": {
       "_model_module_version": "^0.12.6",
       "_view_module_version": "^0.12.6",
       "options": [
        "position",
        "zoom_in_text",
        "zoom_in_title",
        "zoom_out_text",
        "zoom_out_title"
       ]
      }
     },
     "fba7515856174b15816ad438bf0390a4": {
      "model_module": "@jupyter-widgets/base",
      "model_module_version": "1.2.0",
      "model_name": "LayoutModel",
      "state": {}
     },
     "fbb4ab29c0054fdd981d0b64cafec208": {
      "model_module": "@jupyter-widgets/base",
      "model_module_version": "1.2.0",
      "model_name": "LayoutModel",
      "state": {
       "height": "30px",
       "width": "30px"
      }
     },
     "fc2e046589f949549b8398d5095d77e6": {
      "model_module": "@jupyter-widgets/base",
      "model_module_version": "1.2.0",
      "model_name": "LayoutModel",
      "state": {}
     },
     "fc53fd07db36470fa06d86339255f6e2": {
      "model_module": "@jupyter-widgets/controls",
      "model_module_version": "1.5.0",
      "model_name": "FloatSliderModel",
      "state": {
       "description": "Opacity:",
       "layout": "IPY_MODEL_0d3fc52255ea48d4a2d7d2f04f9cc901",
       "max": 1,
       "step": 0.1,
       "style": "IPY_MODEL_1657c70f28944fe2b94a11cc0ce92b68",
       "value": 1
      }
     },
     "fd13e6df6fbc4c93964a8d79374109ca": {
      "model_module": "jupyter-leaflet",
      "model_module_version": "^0.12.6",
      "model_name": "LeafletTileLayerModel",
      "state": {
       "_model_module_version": "^0.12.6",
       "_view_module_version": "^0.12.6",
       "attribution": "&copy; <a href=\"http://www.openstreetmap.org/copyright\">OpenStreetMap</a> &copy; <a href=\"http://cartodb.com/attributions\">CartoDB</a>",
       "base": true,
       "max_native_zoom": 18,
       "max_zoom": 20,
       "min_native_zoom": 0,
       "min_zoom": 1,
       "name": "CartoDB.DarkMatter",
       "options": [
        "attribution",
        "detect_retina",
        "max_native_zoom",
        "max_zoom",
        "min_native_zoom",
        "min_zoom",
        "no_wrap",
        "tile_size",
        "tms"
       ],
       "url": "http://c.basemaps.cartocdn.com/dark_all/{z}/{x}/{y}.png"
      }
     },
     "fd1bc4b2298c4576800aaa61cf297487": {
      "model_module": "jupyter-leaflet",
      "model_module_version": "^0.12.6",
      "model_name": "LeafletAttributionControlModel",
      "state": {
       "_model_module_version": "^0.12.6",
       "_view_module_version": "^0.12.6",
       "options": [
        "position",
        "prefix"
       ],
       "position": "bottomright",
       "prefix": "Leaflet"
      }
     },
     "fd1e88f233124010973a8eed290967ff": {
      "model_module": "jupyter-leaflet",
      "model_module_version": "^0.17",
      "model_name": "LeafletWidgetControlModel",
      "state": {
       "_model_module": "jupyter-leaflet",
       "_model_module_version": "^0.17",
       "_view_count": null,
       "_view_module": "jupyter-leaflet",
       "_view_module_version": "^0.17",
       "options": [
        "position",
        "transparent_bg"
       ],
       "position": "bottomright",
       "widget": "IPY_MODEL_b95408e01e8f4399bc52ed2c70327375"
      }
     },
     "fd73064e08434699b321c80996cc0e07": {
      "model_module": "@jupyter-widgets/base",
      "model_module_version": "1.2.0",
      "model_name": "LayoutModel",
      "state": {}
     },
     "fd8b7a7a8eab4bb39b6d0083e4c32a2f": {
      "model_module": "jupyter-leaflet",
      "model_module_version": "^0.17",
      "model_name": "LeafletWidgetControlModel",
      "state": {
       "_model_module": "jupyter-leaflet",
       "_model_module_version": "^0.17",
       "_view_count": null,
       "_view_module": "jupyter-leaflet",
       "_view_module_version": "^0.17",
       "options": [
        "position",
        "transparent_bg"
       ],
       "position": "bottomright",
       "widget": "IPY_MODEL_420ea0410fc74a36aeffd26211ec8298"
      }
     },
     "fe3a3cb60c8549efa0e0db32bdd3ed5e": {
      "model_module": "jupyter-leaflet",
      "model_module_version": "^0.17",
      "model_name": "LeafletWidgetControlModel",
      "state": {
       "_model_module": "jupyter-leaflet",
       "_model_module_version": "^0.17",
       "_view_count": null,
       "_view_module": "jupyter-leaflet",
       "_view_module_version": "^0.17",
       "options": [
        "position",
        "transparent_bg"
       ],
       "position": "bottomright",
       "widget": "IPY_MODEL_6ac2f5b67f634ef1b9336f2cf33c3867"
      }
     },
     "fe955431c09741d7bc604e51ee40f57c": {
      "model_module": "jupyter-leaflet",
      "model_module_version": "^0.17",
      "model_name": "LeafletWidgetControlModel",
      "state": {
       "_model_module": "jupyter-leaflet",
       "_model_module_version": "^0.17",
       "_view_count": null,
       "_view_module": "jupyter-leaflet",
       "_view_module_version": "^0.17",
       "options": [
        "position",
        "transparent_bg"
       ],
       "position": "bottomleft",
       "widget": "IPY_MODEL_915703f396ac4967b620de280b3580e5"
      }
     },
     "feadc0f9bde249aa88308b43e2540085": {
      "model_module": "@jupyter-widgets/base",
      "model_module_version": "1.2.0",
      "model_name": "LayoutModel",
      "state": {}
     },
     "ff2f5953bbe2406bb74b5b45952e65f0": {
      "model_module": "@jupyter-widgets/base",
      "model_module_version": "1.2.0",
      "model_name": "LayoutModel",
      "state": {}
     },
     "ff6547b38f0747c19724bf11c07402e1": {
      "model_module": "@jupyter-widgets/base",
      "model_module_version": "1.2.0",
      "model_name": "LayoutModel",
      "state": {}
     },
     "ff89d3125f3149cea5596ad55ca8e55b": {
      "model_module": "ipyspin",
      "model_module_version": "^1.0.0",
      "model_name": "SpinnerModel",
      "state": {
       "_model_module_version": "^1.0.0",
       "_view_module_version": "^1.0.0",
       "layout": "IPY_MODEL_bb52eafb429a4f72ab3217003821a39e",
       "length": 3,
       "lines": 8,
       "radius": 5,
       "width": 5,
       "window_url": "http://localhost:8888/notebooks/js/xarray-leaflet.ipynb#"
      }
     },
     "ff8b2b0f1b7943c98f9dc19d3241dccb": {
      "model_module": "jupyter-leaflet",
      "model_module_version": "^0.12.6",
      "model_name": "LeafletAttributionControlModel",
      "state": {
       "_model_module_version": "^0.12.6",
       "_view_module_version": "^0.12.6",
       "options": [
        "position",
        "prefix"
       ],
       "position": "bottomright",
       "prefix": "Leaflet"
      }
     },
     "ffe0cad9147c4fe6bc43a4228837e439": {
      "model_module": "@jupyter-widgets/base",
      "model_module_version": "1.2.0",
      "model_name": "LayoutModel",
      "state": {
       "height": "30px",
       "width": "30px"
      }
     }
    },
    "version_major": 2,
    "version_minor": 0
   }
  }
 },
 "nbformat": 4,
 "nbformat_minor": 4
}
