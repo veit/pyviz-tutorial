{
 "cells": [
  {
   "cell_type": "markdown",
   "metadata": {},
   "source": [
    "# ipyleaflet"
   ]
  },
  {
   "cell_type": "code",
   "execution_count": 1,
   "metadata": {},
   "outputs": [],
   "source": [
    "from ipyleaflet import Map, basemaps"
   ]
  },
  {
   "cell_type": "code",
   "execution_count": 2,
   "metadata": {},
   "outputs": [],
   "source": [
    "center = [52.5162, 13.3777]\n",
    "zoom = 6"
   ]
  },
  {
   "cell_type": "code",
   "execution_count": 3,
   "metadata": {},
   "outputs": [
    {
     "data": {
      "application/vnd.jupyter.widget-view+json": {
       "model_id": "a3654b3b8b4e4331b13a384068e5ce82",
       "version_major": 2,
       "version_minor": 0
      },
      "text/plain": [
       "Map(center=[52.5162, 13.3777], controls=(ZoomControl(options=['position', 'zoom_in_text', 'zoom_in_title', 'zo…"
      ]
     },
     "metadata": {},
     "output_type": "display_data"
    }
   ],
   "source": [
    "Map(basemap=basemaps.OpenStreetMap.Mapnik, center=center, zoom=zoom)"
   ]
  },
  {
   "cell_type": "code",
   "execution_count": 4,
   "metadata": {},
   "outputs": [
    {
     "data": {
      "application/vnd.jupyter.widget-view+json": {
       "model_id": "86029e18689d49ef9445f11e1f3da046",
       "version_major": 2,
       "version_minor": 0
      },
      "text/plain": [
       "Map(center=[52.5162, 13.3777], controls=(ZoomControl(options=['position', 'zoom_in_text', 'zoom_in_title', 'zo…"
      ]
     },
     "metadata": {},
     "output_type": "display_data"
    }
   ],
   "source": [
    "Map(basemap=basemaps.Strava.All, center=center, zoom=zoom)"
   ]
  },
  {
   "cell_type": "code",
   "execution_count": 5,
   "metadata": {},
   "outputs": [
    {
     "data": {
      "application/vnd.jupyter.widget-view+json": {
       "model_id": "0d31608b2b2248ab97deb12a674435f3",
       "version_major": 2,
       "version_minor": 0
      },
      "text/plain": [
       "Map(center=[52.5162, 13.3777], controls=(ZoomControl(options=['position', 'zoom_in_text', 'zoom_in_title', 'zo…"
      ]
     },
     "metadata": {},
     "output_type": "display_data"
    }
   ],
   "source": [
    "from ipyleaflet import WidgetControl\n",
    "from ipywidgets import IntSlider, jslink\n",
    "\n",
    "\n",
    "m = Map(basemap=basemaps.OpenStreetMap.Mapnik, center=center)\n",
    "zoom_slider = IntSlider(description=\"Zoom level:\", min=0, max=19, value=9)\n",
    "jslink((zoom_slider, \"value\"), (m, \"zoom\"))\n",
    "widget_control1 = WidgetControl(widget=zoom_slider, position=\"topright\")\n",
    "m.add_control(widget_control1)\n",
    "\n",
    "m"
   ]
  },
  {
   "cell_type": "code",
   "execution_count": 6,
   "metadata": {},
   "outputs": [
    {
     "data": {
      "application/vnd.jupyter.widget-view+json": {
       "model_id": "0d29964dfe4743629eeb8e643edc679a",
       "version_major": 2,
       "version_minor": 0
      },
      "text/plain": [
       "Label(value='')"
      ]
     },
     "metadata": {},
     "output_type": "display_data"
    },
    {
     "data": {
      "application/vnd.jupyter.widget-view+json": {
       "model_id": "0d31608b2b2248ab97deb12a674435f3",
       "version_major": 2,
       "version_minor": 0
      },
      "text/plain": [
       "Map(bottom=43188.0, center=[52.5162, 13.3777], controls=(ZoomControl(options=['position', 'zoom_in_text', 'zoo…"
      ]
     },
     "metadata": {},
     "output_type": "display_data"
    }
   ],
   "source": [
    "from ipywidgets import Label\n",
    "\n",
    "label = Label()\n",
    "display(label)\n",
    "\n",
    "def handle_interaction(**kwargs):\n",
    "    if kwargs.get('type') == 'mousemove':\n",
    "        label.value = str(kwargs.get('coordinates'))\n",
    "m.on_interaction(handle_interaction)\n",
    "\n",
    "m"
   ]
  },
  {
   "cell_type": "code",
   "execution_count": 7,
   "metadata": {},
   "outputs": [
    {
     "data": {
      "application/vnd.jupyter.widget-view+json": {
       "model_id": "0d31608b2b2248ab97deb12a674435f3",
       "version_major": 2,
       "version_minor": 0
      },
      "text/plain": [
       "Map(bottom=43188.0, center=[52.5162, 13.3777], controls=(ZoomControl(options=['position', 'zoom_in_text', 'zoo…"
      ]
     },
     "metadata": {},
     "output_type": "display_data"
    }
   ],
   "source": [
    "import json\n",
    "import os\n",
    "\n",
    "import pandas as pd\n",
    "import requests\n",
    "\n",
    "from geojson import GeoJSON\n",
    "from ipyleaflet import LayersControl\n",
    "\n",
    "\n",
    "if not os.path.exists(\"europe_110.geo.json\"):\n",
    "    url = \"https://github.com/jupyter-widgets/ipyleaflet/raw/master/examples/europe_110.geo.json\"\n",
    "    r = requests.get(url)\n",
    "    with open(\"europe_110.geo.json\", \"w\") as f:\n",
    "        f.write(r.content.decode(\"utf-8\"))\n",
    "with open(\"europe_110.geo.json\", \"r\") as f:\n",
    "    data = json.load(f)\n",
    "\n",
    "geo_json = GeoJSON(\n",
    "    data=data,\n",
    "    style={\"opacity\": 1, \"dashArray\": \"9\", \"fillOpacity\": 0.1, \"weight\": 1},\n",
    "    hover_style={\"color\": \"white\", \"dashArray\": \"0\", \"fillOpacity\": 0.5},\n",
    "    style_callback={\"color\": \"black\", \"fillColor\": \"grey\"},\n",
    ")\n",
    "m.add_layer(geo_json)\n",
    "m.add_control(LayersControl())\n",
    "\n",
    "m"
   ]
  },
  {
   "cell_type": "code",
   "execution_count": 8,
   "metadata": {
    "scrolled": true
   },
   "outputs": [
    {
     "data": {
      "application/vnd.jupyter.widget-view+json": {
       "model_id": "3f1b6e1508584ffea076b8ed956cc9c0",
       "version_major": 2,
       "version_minor": 0
      },
      "text/plain": [
       "HBox(children=(Map(bottom=43188.0, center=[52.5162, 13.3777], controls=(ZoomControl(options=['position', 'zoom…"
      ]
     },
     "metadata": {},
     "output_type": "display_data"
    }
   ],
   "source": [
    "import ipywidgets\n",
    "\n",
    "\n",
    "ipywidgets.HBox([m, Map(center=[52.5162, 13.3777], zoom=5)])"
   ]
  },
  {
   "cell_type": "markdown",
   "metadata": {},
   "source": [
    "## WMS layer\n",
    "\n",
    "With ipyleaflet you can also define your own [WMS](https://en.wikipedia.org/wiki/Web_Map_Service) layers. Options such as `layers`, `format` and `transparent` are usually passed in the request URL. However, if you need additional parameters, you can also define these in your own WMS layer classes. In the following example, a time parameter is added by defining a custom `TimeWMSLayer`."
   ]
  },
  {
   "cell_type": "markdown",
   "metadata": {},
   "source": [
    "### Example of a custom WMS layer"
   ]
  },
  {
   "cell_type": "code",
   "execution_count": 9,
   "metadata": {
    "scrolled": false
   },
   "outputs": [
    {
     "data": {
      "application/vnd.jupyter.widget-view+json": {
       "model_id": "0c8415fa7926406a9774ddf851f11b8c",
       "version_major": 2,
       "version_minor": 0
      },
      "text/plain": [
       "Map(center=[30.661, -88.645], controls=(ZoomControl(options=['position', 'zoom_in_text', 'zoom_in_title', 'zoo…"
      ]
     },
     "metadata": {},
     "output_type": "display_data"
    }
   ],
   "source": [
    "from ipyleaflet import Map, WMSLayer, basemaps\n",
    "from traitlets import Unicode\n",
    "\n",
    "\n",
    "class TimeWMSLayer(WMSLayer):\n",
    "    time = Unicode(\"\").tag(sync=True, o=True)\n",
    "\n",
    "\n",
    "time_wms = TimeWMSLayer(\n",
    "    url=\"https://mesonet.agron.iastate.edu/cgi-bin/wms/nexrad/n0r-t.cgi?\",\n",
    "    layers=\"nexrad-n0r-wmst\",\n",
    "    time=\"2005-08-29T13:00:00Z\",\n",
    "    format=\"image/png\",\n",
    "    transparent=True,\n",
    "    attribution=\"Weather data © 2012 IEM Nexrad\",\n",
    ")\n",
    "\n",
    "m = Map(basemap=basemaps.CartoDB.Positron, center=(30.661, -88.645), zoom=5)\n",
    "\n",
    "m.add_layer(time_wms)\n",
    "\n",
    "m"
   ]
  },
  {
   "cell_type": "markdown",
   "metadata": {},
   "source": [
    "As this is a widget, you can also simply change the WMS parameter `time_wms.time`:"
   ]
  },
  {
   "cell_type": "code",
   "execution_count": 10,
   "metadata": {},
   "outputs": [],
   "source": [
    "time_wms.time = \"2005-08-29T19:00\""
   ]
  },
  {
   "cell_type": "markdown",
   "metadata": {},
   "source": [
    "Or you can define a slider with suitable time intervals:"
   ]
  },
  {
   "cell_type": "code",
   "execution_count": 11,
   "metadata": {},
   "outputs": [
    {
     "data": {
      "application/vnd.jupyter.widget-view+json": {
       "model_id": "03475e65b67e4f00a79c7f52b6118f40",
       "version_major": 2,
       "version_minor": 0
      },
      "text/plain": [
       "SelectionSlider(description='Time:', options=('13:00', '13:30', '14:00', '14:30', '15:00', '15:30', '16:00', '…"
      ]
     },
     "metadata": {},
     "output_type": "display_data"
    }
   ],
   "source": [
    "from ipywidgets import SelectionSlider\n",
    "\n",
    "\n",
    "time_options = [\n",
    "    \"13:00\",\n",
    "    \"13:30\",\n",
    "    \"14:00\",\n",
    "    \"14:30\",\n",
    "    \"15:00\",\n",
    "    \"15:30\",\n",
    "    \"16:00\",\n",
    "    \"16:30\",\n",
    "]\n",
    "\n",
    "slider = SelectionSlider(description=\"Time:\", options=time_options)\n",
    "\n",
    "\n",
    "def update_wms(change):\n",
    "    time_wms.time = \"2005-08-29T{}\".format(slider.value)\n",
    "\n",
    "\n",
    "slider.observe(update_wms, \"value\")\n",
    "\n",
    "slider"
   ]
  },
  {
   "cell_type": "markdown",
   "metadata": {},
   "source": [
    "### WMS layer attributes\n",
    "\n",
    "| Attributes | Default value | Comment |\n",
    "| :--------- | :------------ | :------ |\n",
    "| `url` | `\"https://{s}.tile.openstreetmap.org/{z}/{x}/{y}.png\"` |  |\n",
    "| `min_zoom` | `0` |  |\n",
    "| `max_zoom` | `18` |  |\n",
    "| `tile_size` | `256` |  |\n",
    "| `attribution` | `\"Map data (c) <a href='https://openstreetmap.org'>OpenStreetMap</a> contributors\"` |  |\n",
    "| `detect_retina` | `False` |  |\n",
    "| `opacity` | `1.0` |  |\n",
    "| `visible` | `True` |  |\n",
    "| `service` | `\"WMS\"` |  |\n",
    "| `request` | `\"GetMap\"` |  |\n",
    "| `layers` | `\"\"` | Comma-separated list of the WMS layers to be displayed |\n",
    "| `styles` | `\"\"` | Comma-separated list of WMS styles |\n",
    "| `format` | `\"image/jpeg\"` | For layers with transparency you should use `\"image/png\"` |\n",
    "| `transparent` | `False` |  |\n",
    "| `version` | `\"1.1.1\"` | Version of the WMS service to be used |\n",
    "| `crs` | `\"\"` |  |\n"
   ]
  }
 ],
 "metadata": {
  "kernelspec": {
   "display_name": "Python 3.11 Kernel",
   "language": "python",
   "name": "python311"
  },
  "language_info": {
   "codemirror_mode": {
    "name": "ipython",
    "version": 3
   },
   "file_extension": ".py",
   "mimetype": "text/x-python",
   "name": "python",
   "nbconvert_exporter": "python",
   "pygments_lexer": "ipython3",
   "version": "3.11.4"
  },
  "latex_envs": {
   "LaTeX_envs_menu_present": true,
   "autoclose": false,
   "autocomplete": true,
   "bibliofile": "biblio.bib",
   "cite_by": "apalike",
   "current_citInitial": 1,
   "eqLabelWithNumbers": true,
   "eqNumInitial": 1,
   "hotkeys": {
    "equation": "Ctrl-E",
    "itemize": "Ctrl-I"
   },
   "labels_anchors": false,
   "latex_user_defs": false,
   "report_style_numbering": false,
   "user_envs_cfg": false
  },
  "varInspector": {
   "cols": {
    "lenName": 16,
    "lenType": 16,
    "lenVar": 40
   },
   "kernels_config": {
    "python": {
     "delete_cmd_postfix": "",
     "delete_cmd_prefix": "del ",
     "library": "var_list.py",
     "varRefreshCmd": "print(var_dic_list())"
    },
    "r": {
     "delete_cmd_postfix": ") ",
     "delete_cmd_prefix": "rm(",
     "library": "var_list.r",
     "varRefreshCmd": "cat(var_dic_list()) "
    }
   },
   "types_to_exclude": [
    "module",
    "function",
    "builtin_function_or_method",
    "instance",
    "_Feature"
   ],
   "window_display": false
  },
  "widgets": {
   "application/vnd.jupyter.widget-state+json": {
    "state": {
     "0035a0472f10488d8aead5695546a77f": {
      "model_module": "@jupyter-widgets/base",
      "model_module_version": "1.2.0",
      "model_name": "LayoutModel",
      "state": {}
     },
     "00561c67afd04f089a3331c9dae60365": {
      "model_module": "@jupyter-widgets/controls",
      "model_module_version": "1.5.0",
      "model_name": "SelectionSliderModel",
      "state": {
       "_options_labels": [
        "13:00",
        "13:30",
        "14:00",
        "14:30",
        "15:00",
        "15:30",
        "16:00",
        "16:30"
       ],
       "description": "Time:",
       "index": 0,
       "layout": "IPY_MODEL_564fbdf5cda548b8ba9b6994e26b8ff3",
       "style": "IPY_MODEL_b1ab3a590ce545d9af67835fc435373e"
      }
     },
     "0058d21f60134cc39076c5ed1566e306": {
      "model_module": "jupyter-leaflet",
      "model_module_version": "^0.17",
      "model_name": "LeafletWidgetControlModel",
      "state": {
       "_model_module": "jupyter-leaflet",
       "_model_module_version": "^0.17",
       "_view_count": null,
       "_view_module": "jupyter-leaflet",
       "_view_module_version": "^0.17",
       "options": [
        "position",
        "transparent_bg"
       ],
       "position": "topright",
       "widget": "IPY_MODEL_e3d45dcd83d445a8a1b0a7411c781115"
      }
     },
     "0066dc6f6a834fb1aafba711f5c95cc7": {
      "model_module": "@jupyter-widgets/base",
      "model_module_version": "1.2.0",
      "model_name": "LayoutModel",
      "state": {}
     },
     "00c9eacb959946c2b88671054fd6086d": {
      "model_module": "jupyter-leaflet",
      "model_module_version": "^0.17",
      "model_name": "LeafletMapStyleModel",
      "state": {
       "_model_module_version": "^0.17"
      }
     },
     "00cc568fefdf4a8b8a253e090f1fabe1": {
      "model_module": "@jupyter-widgets/base",
      "model_module_version": "1.2.0",
      "model_name": "LayoutModel",
      "state": {}
     },
     "01091223f140422d86a27b4c2e27affb": {
      "model_module": "jupyter-leaflet",
      "model_module_version": "^0.12.1",
      "model_name": "LeafletMapStyleModel",
      "state": {
       "_model_module_version": "^0.12.1",
       "cursor": "move"
      }
     },
     "01409081608748f9ba531527726f5edf": {
      "model_module": "jupyter-leaflet",
      "model_module_version": "^0.17",
      "model_name": "LeafletMapStyleModel",
      "state": {
       "_model_module_version": "^0.17",
       "cursor": "move"
      }
     },
     "0157cf67271245d980e16a0b6552ae7d": {
      "model_module": "@jupyter-widgets/base",
      "model_module_version": "1.2.0",
      "model_name": "LayoutModel",
      "state": {}
     },
     "01a328a2b08b458aae9c1729c620b5fb": {
      "model_module": "@jupyter-widgets/base",
      "model_module_version": "1.2.0",
      "model_name": "LayoutModel",
      "state": {}
     },
     "01b3a817657740c7ba5feaf08dc034d6": {
      "model_module": "@jupyter-widgets/controls",
      "model_module_version": "1.5.0",
      "model_name": "SelectionSliderModel",
      "state": {
       "_options_labels": [
        "13:00",
        "13:30",
        "14:00",
        "14:30",
        "15:00",
        "15:30",
        "16:00",
        "16:30"
       ],
       "description": "Time:",
       "index": 0,
       "layout": "IPY_MODEL_4de792ac64a54215883e27166ac292ce",
       "style": "IPY_MODEL_a36e0a7925ea477c95fd4e2560083baf"
      }
     },
     "01f945bb6d174c139b71c863b96c06dc": {
      "model_module": "jupyter-leaflet",
      "model_module_version": "^0.17",
      "model_name": "LeafletZoomControlModel",
      "state": {
       "_model_module_version": "^0.17",
       "_view_module_version": "^0.17",
       "options": [
        "position",
        "zoom_in_text",
        "zoom_in_title",
        "zoom_out_text",
        "zoom_out_title"
       ]
      }
     },
     "0216fd853a3b4bfd84c31d711e984be1": {
      "model_module": "jupyter-leaflet",
      "model_module_version": "^0.17",
      "model_name": "LeafletMapStyleModel",
      "state": {
       "_model_module_version": "^0.17"
      }
     },
     "021ea006d09a483e9bcf95a7483d4f91": {
      "model_module": "jupyter-leaflet",
      "model_module_version": "^0.11.6",
      "model_name": "LeafletTileLayerModel",
      "state": {
       "_model_module_version": "^0.11.6",
       "_view_module_version": "^0.11.6",
       "attribution": "Map tiles by <a href=\"https://labs.strava.com/heatmap\">Strava 2017</a>",
       "max_native_zoom": 18,
       "max_zoom": 15,
       "min_native_zoom": 0,
       "min_zoom": 1,
       "name": "Strava.Water",
       "options": [
        "attribution",
        "detect_retina",
        "max_native_zoom",
        "max_zoom",
        "min_native_zoom",
        "min_zoom",
        "no_wrap",
        "tile_size",
        "tms"
       ],
       "url": "https://heatmap-external-a.strava.com//tiles/water/blue/{z}/{x}/{y}.png?v=19"
      }
     },
     "023210129e2043939a1bd48ba82e6447": {
      "model_module": "jupyter-leaflet",
      "model_module_version": "^0.12.1",
      "model_name": "LeafletTileLayerModel",
      "state": {
       "_model_module_version": "^0.12.1",
       "_view_module_version": "^0.12.1",
       "attribution": "Map tiles by <a href=\"https://labs.strava.com/heatmap\">Strava 2017</a>",
       "max_native_zoom": 18,
       "max_zoom": 15,
       "min_native_zoom": 0,
       "min_zoom": 1,
       "name": "Strava.All",
       "options": [
        "attribution",
        "detect_retina",
        "max_native_zoom",
        "max_zoom",
        "min_native_zoom",
        "min_zoom",
        "no_wrap",
        "tile_size",
        "tms"
       ],
       "url": "https://heatmap-external-a.strava.com//tiles/all/hot/{z}/{x}/{y}.png?v=19"
      }
     },
     "02446a3ed268422a8a8ee00aef6e84b3": {
      "model_module": "@jupyter-widgets/base",
      "model_module_version": "1.2.0",
      "model_name": "LayoutModel",
      "state": {}
     },
     "02bad0f064b146cea71fef9554dfc13b": {
      "model_module": "jupyter-leaflet",
      "model_module_version": "~0.9.2",
      "model_name": "LeafletTileLayerModel",
      "state": {
       "_model_module_version": "~0.9.2",
       "_view_module_version": "~0.9.2",
       "attribution": "Tiles courtesy of <a href=\"http://openstreetmap.se/\" target=\"_blank\">OpenStreetMap Sweden</a> &mdash; Map data &copy; <a href=\"http://www.openstreetmap.org/copyright\">OpenStreetMap</a>",
       "base": true,
       "min_zoom": 1,
       "name": "Hydda.Full",
       "options": [
        "attribution",
        "detect_retina",
        "max_zoom",
        "min_zoom",
        "tile_size"
       ],
       "url": "http://{s}.tile.openstreetmap.se/hydda/full/{z}/{x}/{y}.png"
      }
     },
     "02da8eb627094de08dc413f4b46c22f4": {
      "model_module": "jupyter-leaflet",
      "model_module_version": "^0.17",
      "model_name": "LeafletMapModel",
      "state": {
       "_model_module_version": "^0.17",
       "_view_module_version": "^0.17",
       "bottom": 5954,
       "center": [
        47.128,
        7.51
       ],
       "controls": [
        "IPY_MODEL_c63d0f16ea364f85942c0ae9644af611",
        "IPY_MODEL_f613e6ec1d314792b75762542e40ce42"
       ],
       "default_style": "IPY_MODEL_6d69b73c35d940fabc61dc38000116d6",
       "dragging_style": "IPY_MODEL_850aed46cb17480ba56f71d858edca07",
       "east": 18.149414062500004,
       "fullscreen": false,
       "interpolation": "bilinear",
       "layers": [
        "IPY_MODEL_fad29b3c2eba4625af87b02bbb873f17"
       ],
       "layout": "IPY_MODEL_678f38f1b79742aabcfdac9aa12f058d",
       "left": 8049,
       "modisdate": "2023-07-11",
       "north": 50.035973672195496,
       "options": [
        "bounce_at_zoom_limits",
        "box_zoom",
        "center",
        "close_popup_on_click",
        "double_click_zoom",
        "dragging",
        "fullscreen",
        "inertia",
        "inertia_deceleration",
        "inertia_max_speed",
        "interpolation",
        "keyboard",
        "keyboard_pan_offset",
        "keyboard_zoom_offset",
        "max_zoom",
        "min_zoom",
        "prefer_canvas",
        "scroll_wheel_zoom",
        "tap",
        "tap_tolerance",
        "touch_zoom",
        "world_copy_jump",
        "zoom",
        "zoom_animation_threshold",
        "zoom_delta",
        "zoom_snap"
       ],
       "prefer_canvas": false,
       "right": 9018,
       "south": 44.05601169578525,
       "style": "IPY_MODEL_67001eede95340778f85027ebb7b0165",
       "top": 5554,
       "west": -3.1420898437500004,
       "window_url": "http://localhost:8888/notebooks/js/ipyleaflet.ipynb#",
       "zoom": 6
      }
     },
     "033b42c566b449bc9798982d211c0929": {
      "model_module": "jupyter-leaflet",
      "model_module_version": "~0.9.2",
      "model_name": "LeafletTileLayerModel",
      "state": {
       "_model_module_version": "~0.9.2",
       "_view_module_version": "~0.9.2",
       "attribution": "Tiles courtesy of <a href=\"http://openstreetmap.se/\" target=\"_blank\">OpenStreetMap Sweden</a> &mdash; Map data &copy; <a href=\"http://www.openstreetmap.org/copyright\">OpenStreetMap</a>",
       "base": true,
       "min_zoom": 1,
       "name": "Hydda.Full",
       "options": [
        "attribution",
        "detect_retina",
        "max_zoom",
        "min_zoom",
        "tile_size"
       ],
       "url": "http://{s}.tile.openstreetmap.se/hydda/full/{z}/{x}/{y}.png"
      }
     },
     "03475e65b67e4f00a79c7f52b6118f40": {
      "model_module": "@jupyter-widgets/controls",
      "model_module_version": "1.5.0",
      "model_name": "SelectionSliderModel",
      "state": {
       "_options_labels": [
        "13:00",
        "13:30",
        "14:00",
        "14:30",
        "15:00",
        "15:30",
        "16:00",
        "16:30"
       ],
       "description": "Time:",
       "index": 0,
       "layout": "IPY_MODEL_2133e2219a784e5581227b5f6d4d92cd",
       "style": "IPY_MODEL_d14adbd70afc4bdb8ac281eabcfc4332"
      }
     },
     "03b53130e0e84026ac5a160f7f52acf7": {
      "model_module": "@jupyter-widgets/base",
      "model_module_version": "1.2.0",
      "model_name": "LayoutModel",
      "state": {}
     },
     "03fe45f61b06481db28200d79442710a": {
      "model_module": "jupyter-leaflet",
      "model_module_version": "^0.17",
      "model_name": "LeafletMapStyleModel",
      "state": {
       "_model_module_version": "^0.17",
       "cursor": "move"
      }
     },
     "042cecf548aa4408b02dd8a47c501658": {
      "model_module": "@jupyter-widgets/controls",
      "model_module_version": "1.5.0",
      "model_name": "IntSliderModel",
      "state": {
       "description": "Zoom level:",
       "layout": "IPY_MODEL_62fb2dbd24354b79b9d05c8e4fdf46af",
       "max": 15,
       "style": "IPY_MODEL_0774f9c6e37b4c82b0e5e05595d7ada8",
       "value": 12
      }
     },
     "04e47dd81fe54a8a8fa2010acfa0ee30": {
      "model_module": "jupyter-leaflet",
      "model_module_version": "^0.12.1",
      "model_name": "LeafletMapStyleModel",
      "state": {
       "_model_module_version": "^0.12.1"
      }
     },
     "0528c8f3a73a424a83aa84ae61821e35": {
      "model_module": "@jupyter-widgets/base",
      "model_module_version": "1.2.0",
      "model_name": "LayoutModel",
      "state": {}
     },
     "054f101ae2e0462b81c695ff645fefa6": {
      "model_module": "@jupyter-widgets/base",
      "model_module_version": "1.2.0",
      "model_name": "LayoutModel",
      "state": {}
     },
     "058346f3a4074c5d8c53ebf1f7c7a473": {
      "model_module": "jupyter-leaflet",
      "model_module_version": "^0.17",
      "model_name": "LeafletMapStyleModel",
      "state": {
       "_model_module_version": "^0.17",
       "cursor": "move"
      }
     },
     "05a2364882a14114aab2f400783ec299": {
      "model_module": "jupyter-leaflet",
      "model_module_version": "^0.12.1",
      "model_name": "LeafletMapStyleModel",
      "state": {
       "_model_module_version": "^0.12.1",
       "cursor": "move"
      }
     },
     "0602858f31d0429cac7bdb06a9b1aeef": {
      "model_module": "jupyter-leaflet",
      "model_module_version": "^0.12.1",
      "model_name": "LeafletMapStyleModel",
      "state": {
       "_model_module_version": "^0.12.1",
       "cursor": "move"
      }
     },
     "069b28b200a74598b74d9dc9c076cd26": {
      "model_module": "jupyter-leaflet",
      "model_module_version": "^0.17",
      "model_name": "LeafletTileLayerModel",
      "state": {
       "_model_module_version": "^0.17",
       "_view_module_version": "^0.17",
       "attribution": "Map tiles by <a href=\"https://labs.strava.com/heatmap\">Strava 2021</a>",
       "max_zoom": 15,
       "min_zoom": 1,
       "name": "Strava.All",
       "options": [
        "attribution",
        "bounds",
        "detect_retina",
        "max_native_zoom",
        "max_zoom",
        "min_native_zoom",
        "min_zoom",
        "no_wrap",
        "tile_size",
        "tms",
        "zoom_offset"
       ],
       "url": "https://heatmap-external-a.strava.com/tiles/all/hot/{z}/{x}/{y}.png"
      }
     },
     "06b8750df45e4c7c992c0aeb7ef8a9f8": {
      "model_module": "jupyter-leaflet",
      "model_module_version": "^0.17",
      "model_name": "LeafletMapStyleModel",
      "state": {
       "_model_module_version": "^0.17"
      }
     },
     "06d0b8caf72c41d6b79f2b1fe549e336": {
      "model_module": "jupyter-leaflet",
      "model_module_version": "^0.12.1",
      "model_name": "LeafletMapStyleModel",
      "state": {
       "_model_module_version": "^0.12.1",
       "cursor": "move"
      }
     },
     "06d0e549dbd54b42bccb2e4c8034f8e3": {
      "model_module": "@jupyter-widgets/base",
      "model_module_version": "1.2.0",
      "model_name": "LayoutModel",
      "state": {}
     },
     "073c75f8033e451f97168855c33b7b5f": {
      "model_module": "jupyter-leaflet",
      "model_module_version": "^0.17",
      "model_name": "LeafletMapModel",
      "state": {
       "_model_module_version": "^0.17",
       "_view_module_version": "^0.17",
       "bottom": 3175,
       "center": [
        44.128,
        1.588
       ],
       "controls": [
        "IPY_MODEL_60bd9122c42740db8d23e690c968bd07",
        "IPY_MODEL_252690700acd47fb97792768e8627527"
       ],
       "default_style": "IPY_MODEL_0d4dc7218e584fddae6faa22fcace9f2",
       "dragging_style": "IPY_MODEL_63dc83fc4f8e45f3b2c98b2247e964ec",
       "east": 22.895507812500004,
       "fullscreen": false,
       "interpolation": "bilinear",
       "layers": [
        "IPY_MODEL_0bcd59aae31f41128b066c7ee590b984"
       ],
       "layout": "IPY_MODEL_26e76c79d2ab486488bbe6a241a0bd0d",
       "left": 3648,
       "modisdate": "2023-07-11",
       "north": 50.0923932109388,
       "options": [
        "bounce_at_zoom_limits",
        "box_zoom",
        "center",
        "close_popup_on_click",
        "double_click_zoom",
        "dragging",
        "fullscreen",
        "inertia",
        "inertia_deceleration",
        "inertia_max_speed",
        "interpolation",
        "keyboard",
        "keyboard_pan_offset",
        "keyboard_zoom_offset",
        "max_zoom",
        "min_zoom",
        "prefer_canvas",
        "scroll_wheel_zoom",
        "tap",
        "tap_tolerance",
        "touch_zoom",
        "world_copy_jump",
        "zoom",
        "zoom_animation_threshold",
        "zoom_delta",
        "zoom_snap"
       ],
       "prefer_canvas": false,
       "right": 4617,
       "south": 37.474858084971046,
       "style": "IPY_MODEL_a23cfe845e354c62afc4edc55455e572",
       "top": 2775,
       "west": -19.687500000000004,
       "window_url": "http://localhost:8888/notebooks/js/ipyleaflet.ipynb#",
       "zoom": 5
      }
     },
     "076d7d71a7fe4417bfdff6ef8dd3258f": {
      "model_module": "jupyter-leaflet",
      "model_module_version": "^0.17",
      "model_name": "LeafletMapStyleModel",
      "state": {
       "_model_module_version": "^0.17"
      }
     },
     "0774f9c6e37b4c82b0e5e05595d7ada8": {
      "model_module": "@jupyter-widgets/controls",
      "model_module_version": "1.5.0",
      "model_name": "SliderStyleModel",
      "state": {
       "description_width": ""
      }
     },
     "07e360a4f6704dc9a9aa5586cdb3ea6c": {
      "model_module": "jupyter-leaflet",
      "model_module_version": "^0.12.1",
      "model_name": "LeafletWMSLayerModel",
      "state": {
       "_model_module_version": "^0.12.1",
       "_view_module_version": "^0.12.1",
       "attribution": "Weather data © 2012 IEM Nexrad",
       "crs": "EPSG3857",
       "format": "image/png",
       "layers": "nexrad-n0r-wmst",
       "max_native_zoom": 18,
       "min_native_zoom": 0,
       "options": [
        "attribution",
        "detect_retina",
        "format",
        "layers",
        "max_native_zoom",
        "max_zoom",
        "min_native_zoom",
        "min_zoom",
        "no_wrap",
        "styles",
        "tile_size",
        "time",
        "tms",
        "transparent",
        "uppercase"
       ],
       "time": "2005-08-29T14:00",
       "transparent": true,
       "url": "https://mesonet.agron.iastate.edu/cgi-bin/wms/nexrad/n0r-t.cgi?"
      }
     },
     "081aa7331bf745198915e6cb5ec3e71f": {
      "model_module": "jupyter-leaflet",
      "model_module_version": "^0.17",
      "model_name": "LeafletTileLayerModel",
      "state": {
       "_model_module_version": "^0.17",
       "_view_module_version": "^0.17",
       "attribution": "&copy; <a href=\"https://www.openstreetmap.org/copyright\">OpenStreetMap</a> contributors",
       "base": true,
       "max_zoom": 19,
       "min_zoom": 1,
       "name": "OpenStreetMap.Mapnik",
       "options": [
        "attribution",
        "bounds",
        "detect_retina",
        "max_native_zoom",
        "max_zoom",
        "min_native_zoom",
        "min_zoom",
        "no_wrap",
        "tile_size",
        "tms",
        "zoom_offset"
       ],
       "url": "https://tile.openstreetmap.org/{z}/{x}/{y}.png"
      }
     },
     "084e1f4933004fd68f3996358e76d5a5": {
      "model_module": "jupyter-leaflet",
      "model_module_version": "^0.17",
      "model_name": "LeafletMapModel",
      "state": {
       "_model_module_version": "^0.17",
       "_view_module_version": "^0.17",
       "bottom": 2887,
       "center": [
        52.5162,
        13.3777
       ],
       "controls": [
        "IPY_MODEL_ff7cd497b0c44685b8bbaf2203eb8f56",
        "IPY_MODEL_fcd2df0da5824d28b179037ab66f0925"
       ],
       "default_style": "IPY_MODEL_ebf87a235de14c2b98af600c605a1c35",
       "dragging_style": "IPY_MODEL_84f6e5abcc324fb8a0b522ae72470adc",
       "east": 23.950195312500004,
       "fullscreen": false,
       "interpolation": "bilinear",
       "layers": [
        "IPY_MODEL_6ccbacb829974a4497dbf6ecd4b5a1bc"
       ],
       "layout": "IPY_MODEL_42e12a8f26784d939ba55bbdab195cce",
       "left": 4159,
       "modisdate": "2023-07-11",
       "north": 57.539416794474995,
       "options": [
        "bounce_at_zoom_limits",
        "box_zoom",
        "center",
        "close_popup_on_click",
        "double_click_zoom",
        "dragging",
        "fullscreen",
        "inertia",
        "inertia_deceleration",
        "inertia_max_speed",
        "interpolation",
        "keyboard",
        "keyboard_pan_offset",
        "keyboard_zoom_offset",
        "max_zoom",
        "min_zoom",
        "prefer_canvas",
        "scroll_wheel_zoom",
        "tap",
        "tap_tolerance",
        "touch_zoom",
        "world_copy_jump",
        "zoom",
        "zoom_animation_threshold",
        "zoom_delta",
        "zoom_snap"
       ],
       "prefer_canvas": false,
       "right": 4641,
       "south": 46.830133640447414,
       "style": "IPY_MODEL_ea0d700c26c4425abebc9ce6c67732e1",
       "top": 2487,
       "west": 2.7685546875000004,
       "window_url": "http://localhost:8888/notebooks/js/ipyleaflet.ipynb#",
       "zoom": 5
      }
     },
     "086933222e264fb3a4da6e2ae057f75b": {
      "model_module": "jupyter-leaflet",
      "model_module_version": "^0.17",
      "model_name": "LeafletMapModel",
      "state": {
       "_model_module_version": "^0.17",
       "_view_module_version": "^0.17",
       "bottom": 44008876,
       "center": [
        52.53423038361441,
        13.423867374658585
       ],
       "controls": [
        "IPY_MODEL_7434968d995543dda832922f69d89ee3",
        "IPY_MODEL_6ae66ad00f4f414ca02ec7bf9bf09698",
        "IPY_MODEL_961f5a492841483f91b4d17d27f1f403"
       ],
       "default_style": "IPY_MODEL_8fa50860a8334dbd874079a8e3039e54",
       "dragging_style": "IPY_MODEL_b518eddf0bb147c0993ea31689835e3c",
       "east": 13.425166904926302,
       "fullscreen": false,
       "interpolation": "bilinear",
       "layers": [
        "IPY_MODEL_711fabbd2afc4201badab2c4e02c9221"
       ],
       "layout": "IPY_MODEL_d1a0b1ac2b1745eba4d00313d7076efd",
       "left": 72113160,
       "modisdate": "2023-07-11",
       "north": 52.53455669316201,
       "options": [
        "bounce_at_zoom_limits",
        "box_zoom",
        "center",
        "close_popup_on_click",
        "double_click_zoom",
        "dragging",
        "fullscreen",
        "inertia",
        "inertia_deceleration",
        "inertia_max_speed",
        "interpolation",
        "keyboard",
        "keyboard_pan_offset",
        "keyboard_zoom_offset",
        "max_zoom",
        "min_zoom",
        "prefer_canvas",
        "scroll_wheel_zoom",
        "tap",
        "tap_tolerance",
        "touch_zoom",
        "world_copy_jump",
        "zoom",
        "zoom_animation_threshold",
        "zoom_delta",
        "zoom_snap"
       ],
       "prefer_canvas": false,
       "right": 72114129,
       "south": 52.53390407164185,
       "style": "IPY_MODEL_8fa50860a8334dbd874079a8e3039e54",
       "top": 44008476,
       "west": 13.422567844390871,
       "window_url": "http://localhost:8888/notebooks/js/ipyleaflet.ipynb#",
       "zoom": 19
      }
     },
     "08f6b83ea4064992b203b7b3bac22de6": {
      "model_module": "jupyter-leaflet",
      "model_module_version": "~0.9.2",
      "model_name": "LeafletMapModel",
      "state": {
       "_model_module_version": "~0.9.2",
       "_view_module_version": "~0.9.2",
       "basemap": {
        "attribution": "Map data (c) <a href=\"https://openstreetmap.org\">OpenStreetMap</a> contributors",
        "max_zoom": 19,
        "url": "https://{s}.tile.openstreetmap.org/{z}/{x}/{y}.png"
       },
       "center": [
        47.6,
        7.44
       ],
       "east": 7.774200439453126,
       "interpolation": "bilinear",
       "layers": [
        "IPY_MODEL_2fb39cf3a83e4ce2b7bf8cc7444e759e"
       ],
       "layout": "IPY_MODEL_9a623d82ed5845ef9b7a2b1044ca23ac",
       "modisdate": "yesterday",
       "north": 47.78455738546879,
       "options": [
        "attribution_control",
        "basemap",
        "bounce_at_zoom_limits",
        "box_zoom",
        "center",
        "close_popup_on_click",
        "double_click_zoom",
        "dragging",
        "inertia",
        "inertia_deceleration",
        "inertia_max_speed",
        "interpolation",
        "keyboard",
        "keyboard_pan_offset",
        "keyboard_zoom_offset",
        "max_zoom",
        "min_zoom",
        "scroll_wheel_zoom",
        "tap",
        "tap_tolerance",
        "touch_zoom",
        "world_copy_jump",
        "zoom",
        "zoom_animation_threshold",
        "zoom_control",
        "zoom_start"
       ],
       "south": 47.414149636384714,
       "west": 7.105407714843751,
       "window_url": "http://localhost:8888/notebooks/js/ipyleaflet.ipynb",
       "zoom": 10
      }
     },
     "097d33fd10394a13a45ecff73e88bfcc": {
      "model_module": "jupyter-leaflet",
      "model_module_version": "~0.9.2",
      "model_name": "LeafletTileLayerModel",
      "state": {
       "_model_module_version": "~0.9.2",
       "_view_module_version": "~0.9.2",
       "base": true,
       "max_zoom": 19,
       "min_zoom": 1,
       "options": [
        "attribution",
        "detect_retina",
        "max_zoom",
        "min_zoom",
        "tile_size"
       ]
      }
     },
     "09bb9b0a1375462abbb029da30a43d14": {
      "model_module": "@jupyter-widgets/base",
      "model_module_version": "1.2.0",
      "model_name": "LayoutModel",
      "state": {}
     },
     "09e2f126b9f84f05b447446db24feb6d": {
      "model_module": "@jupyter-widgets/base",
      "model_module_version": "1.2.0",
      "model_name": "LayoutModel",
      "state": {}
     },
     "0a182c3ee6904a77958f5daa9534b92a": {
      "model_module": "jupyter-leaflet",
      "model_module_version": "^0.17",
      "model_name": "LeafletTileLayerModel",
      "state": {
       "_model_module_version": "^0.17",
       "_view_module_version": "^0.17",
       "attribution": "&copy; <a href=\"https://www.openstreetmap.org/copyright\">OpenStreetMap</a> contributors",
       "base": true,
       "max_zoom": 19,
       "min_zoom": 1,
       "name": "OpenStreetMap.Mapnik",
       "options": [
        "attribution",
        "bounds",
        "detect_retina",
        "max_native_zoom",
        "max_zoom",
        "min_native_zoom",
        "min_zoom",
        "no_wrap",
        "tile_size",
        "tms",
        "zoom_offset"
       ],
       "url": "https://tile.openstreetmap.org/{z}/{x}/{y}.png"
      }
     },
     "0a7af6451de0499db4eeb1168fe13b7a": {
      "model_module": "jupyter-leaflet",
      "model_module_version": "^0.12.1",
      "model_name": "LeafletMapStyleModel",
      "state": {
       "_model_module_version": "^0.12.1"
      }
     },
     "0a80c5fbf6324dc3940106bee099907f": {
      "model_module": "@jupyter-widgets/controls",
      "model_module_version": "1.5.0",
      "model_name": "DescriptionStyleModel",
      "state": {
       "description_width": ""
      }
     },
     "0aa80615ec4f46a28b14b37c90ba72f0": {
      "model_module": "jupyter-leaflet",
      "model_module_version": "^0.17",
      "model_name": "LeafletZoomControlModel",
      "state": {
       "_model_module_version": "^0.17",
       "_view_module_version": "^0.17",
       "options": [
        "position",
        "zoom_in_text",
        "zoom_in_title",
        "zoom_out_text",
        "zoom_out_title"
       ]
      }
     },
     "0ac3b233a77a4d25a0158332cef4d6c9": {
      "model_module": "@jupyter-widgets/base",
      "model_module_version": "1.2.0",
      "model_name": "LayoutModel",
      "state": {}
     },
     "0b07a6110c93498f995fc1b6f3cc4754": {
      "model_module": "jupyter-leaflet",
      "model_module_version": "^0.17",
      "model_name": "LeafletMapStyleModel",
      "state": {
       "_model_module_version": "^0.17"
      }
     },
     "0b172492dd9743979a3e1e276cf4e570": {
      "model_module": "jupyter-leaflet",
      "model_module_version": "^0.12.1",
      "model_name": "LeafletMapStyleModel",
      "state": {
       "_model_module_version": "^0.12.1"
      }
     },
     "0b654871583e4ca3b47674679904f4f0": {
      "model_module": "jupyter-leaflet",
      "model_module_version": "^0.17",
      "model_name": "LeafletMapStyleModel",
      "state": {
       "_model_module_version": "^0.17"
      }
     },
     "0badfb8ced994e45b123b2a16b5bae65": {
      "model_module": "jupyter-leaflet",
      "model_module_version": "^0.17",
      "model_name": "LeafletMapModel",
      "state": {
       "_model_module_version": "^0.17",
       "_view_module_version": "^0.17",
       "bottom": 5574,
       "center": [
        52.5162,
        13.3777
       ],
       "controls": [
        "IPY_MODEL_2150c6fd0c9a4b47abd54edd2b05433b",
        "IPY_MODEL_c373e829cf774af3b7b2c630deff3637"
       ],
       "default_style": "IPY_MODEL_23a19256503d405d88c5848ef214026e",
       "dragging_style": "IPY_MODEL_3760e2bcdb4b4f52885dfd92aab2e44e",
       "east": 24.01611328125,
       "fullscreen": false,
       "interpolation": "bilinear",
       "layers": [
        "IPY_MODEL_2b1d2a58b8794df3820fb46f40317474"
       ],
       "layout": "IPY_MODEL_4d7f8f2a59e7451ca42a38197031ae69",
       "left": 8316,
       "modisdate": "2023-07-11",
       "north": 55.10351605801967,
       "options": [
        "bounce_at_zoom_limits",
        "box_zoom",
        "center",
        "close_popup_on_click",
        "double_click_zoom",
        "dragging",
        "fullscreen",
        "inertia",
        "inertia_deceleration",
        "inertia_max_speed",
        "interpolation",
        "keyboard",
        "keyboard_pan_offset",
        "keyboard_zoom_offset",
        "max_zoom",
        "min_zoom",
        "prefer_canvas",
        "scroll_wheel_zoom",
        "tap",
        "tap_tolerance",
        "touch_zoom",
        "world_copy_jump",
        "zoom",
        "zoom_animation_threshold",
        "zoom_delta",
        "zoom_snap"
       ],
       "prefer_canvas": false,
       "right": 9285,
       "south": 49.75287993415023,
       "style": "IPY_MODEL_6b6c5adc3ca54c6bb837d38476917f48",
       "top": 5174,
       "west": 2.7246093750000004,
       "window_url": "http://localhost:8888/notebooks/js/ipyleaflet.ipynb#",
       "zoom": 6
      }
     },
     "0baffc17693845b69b91b1414af63d29": {
      "model_module": "@jupyter-widgets/base",
      "model_module_version": "1.2.0",
      "model_name": "LayoutModel",
      "state": {}
     },
     "0bb47637c3c0492baf8e30b74025cdcd": {
      "model_module": "jupyter-leaflet",
      "model_module_version": "^0.12.1",
      "model_name": "LeafletAttributionControlModel",
      "state": {
       "_model_module_version": "^0.12.1",
       "_view_module_version": "^0.12.1",
       "options": [
        "position",
        "prefix"
       ],
       "position": "bottomright",
       "prefix": "Leaflet"
      }
     },
     "0bc101ad93c4429ea6cb88788d31958a": {
      "model_module": "@jupyter-widgets/base",
      "model_module_version": "1.2.0",
      "model_name": "LayoutModel",
      "state": {}
     },
     "0bcd59aae31f41128b066c7ee590b984": {
      "model_module": "jupyter-leaflet",
      "model_module_version": "^0.17",
      "model_name": "LeafletTileLayerModel",
      "state": {
       "_model_module_version": "^0.17",
       "_view_module_version": "^0.17",
       "attribution": "&copy; <a href=\"https://www.openstreetmap.org/copyright\">OpenStreetMap</a> contributors",
       "base": true,
       "max_zoom": 19,
       "min_zoom": 1,
       "name": "OpenStreetMap.Mapnik",
       "options": [
        "attribution",
        "bounds",
        "detect_retina",
        "max_native_zoom",
        "max_zoom",
        "min_native_zoom",
        "min_zoom",
        "no_wrap",
        "tile_size",
        "tms",
        "zoom_offset"
       ],
       "url": "https://tile.openstreetmap.org/{z}/{x}/{y}.png"
      }
     },
     "0c11214072764edba8f9975c92ea5cbd": {
      "model_module": "@jupyter-widgets/base",
      "model_module_version": "1.2.0",
      "model_name": "LayoutModel",
      "state": {}
     },
     "0c20ad02044744cca65f8cc5ec8ea563": {
      "model_module": "@jupyter-widgets/controls",
      "model_module_version": "1.5.0",
      "model_name": "IntSliderModel",
      "state": {
       "description": "Zoom level:",
       "layout": "IPY_MODEL_01a328a2b08b458aae9c1729c620b5fb",
       "max": 15,
       "style": "IPY_MODEL_59a6e16b95bd4252a9854d4c029fdcd0",
       "value": 12
      }
     },
     "0c4c49fbfd684f9083bb36fe51baf5b5": {
      "model_module": "jupyter-leaflet",
      "model_module_version": "^0.17",
      "model_name": "LeafletTileLayerModel",
      "state": {
       "_model_module_version": "^0.17",
       "_view_module_version": "^0.17",
       "attribution": "&copy; <a href=\"https://www.openstreetmap.org/copyright\">OpenStreetMap</a> contributors",
       "base": true,
       "max_zoom": 19,
       "min_zoom": 1,
       "name": "OpenStreetMap.Mapnik",
       "options": [
        "attribution",
        "bounds",
        "detect_retina",
        "max_native_zoom",
        "max_zoom",
        "min_native_zoom",
        "min_zoom",
        "no_wrap",
        "tile_size",
        "tms",
        "zoom_offset"
       ],
       "url": "https://tile.openstreetmap.org/{z}/{x}/{y}.png"
      }
     },
     "0c8415fa7926406a9774ddf851f11b8c": {
      "model_module": "jupyter-leaflet",
      "model_module_version": "^0.17",
      "model_name": "LeafletMapModel",
      "state": {
       "_model_module_version": "^0.17",
       "_view_module_version": "^0.17",
       "bottom": 3562,
       "center": [
        30.661,
        -88.645
       ],
       "controls": [
        "IPY_MODEL_56e3400f53124cd59f51b2cf1fa2d0ea",
        "IPY_MODEL_936ea2bc652c404398f631d92fc61702"
       ],
       "default_style": "IPY_MODEL_0b07a6110c93498f995fc1b6f3cc4754",
       "dragging_style": "IPY_MODEL_dbf5bf9789e5426b88df39fa4abb486f",
       "east": -67.36816406250001,
       "fullscreen": false,
       "interpolation": "bilinear",
       "layers": [
        "IPY_MODEL_9be17019c2a2471eb90f51cfd67cc954",
        "IPY_MODEL_95c3ebe7e7d4442ab2a003fac03c0197"
       ],
       "layout": "IPY_MODEL_b8dfb7830263436195f0c6b7a1b62dcb",
       "left": 1594,
       "modisdate": "2023-07-11",
       "north": 37.92686760148135,
       "options": [
        "bounce_at_zoom_limits",
        "box_zoom",
        "center",
        "close_popup_on_click",
        "double_click_zoom",
        "dragging",
        "fullscreen",
        "inertia",
        "inertia_deceleration",
        "inertia_max_speed",
        "interpolation",
        "keyboard",
        "keyboard_pan_offset",
        "keyboard_zoom_offset",
        "max_zoom",
        "min_zoom",
        "prefer_canvas",
        "scroll_wheel_zoom",
        "tap",
        "tap_tolerance",
        "touch_zoom",
        "world_copy_jump",
        "zoom",
        "zoom_animation_threshold",
        "zoom_delta",
        "zoom_snap"
       ],
       "prefer_canvas": false,
       "right": 2563,
       "south": 22.836945920943855,
       "style": "IPY_MODEL_f44692ed23cd45fb9f409d7dedb90330",
       "top": 3162,
       "west": -109.95117187500001,
       "window_url": "http://localhost:8888/notebooks/js/ipyleaflet.ipynb#",
       "zoom": 5
      }
     },
     "0cb0f24d0c1c45168a7d094a3be4d6e4": {
      "model_module": "jupyter-leaflet",
      "model_module_version": "^0.17",
      "model_name": "LeafletZoomControlModel",
      "state": {
       "_model_module_version": "^0.17",
       "_view_module_version": "^0.17",
       "options": [
        "position",
        "zoom_in_text",
        "zoom_in_title",
        "zoom_out_text",
        "zoom_out_title"
       ]
      }
     },
     "0cdd7c90226941558bf2c62ff3490968": {
      "model_module": "@jupyter-widgets/controls",
      "model_module_version": "1.5.0",
      "model_name": "SliderStyleModel",
      "state": {
       "description_width": ""
      }
     },
     "0d27734f5eea4d578556d106e8df6b83": {
      "model_module": "jupyter-leaflet",
      "model_module_version": "^0.17",
      "model_name": "LeafletWidgetControlModel",
      "state": {
       "_model_module": "jupyter-leaflet",
       "_model_module_version": "^0.17",
       "_view_count": null,
       "_view_module": "jupyter-leaflet",
       "_view_module_version": "^0.17",
       "options": [
        "position",
        "transparent_bg"
       ],
       "position": "topright",
       "widget": "IPY_MODEL_fcf8b2d6399544189d585115c48edbcb"
      }
     },
     "0d29964dfe4743629eeb8e643edc679a": {
      "model_module": "@jupyter-widgets/controls",
      "model_module_version": "1.5.0",
      "model_name": "LabelModel",
      "state": {
       "layout": "IPY_MODEL_ffa107d6b44a48aeafbab98ae744c8e8",
       "style": "IPY_MODEL_2bfaf8a5ef2a4dca9bfab1a4903d21e9",
       "value": "[52.841101497907104, 12.605467067396804]"
      }
     },
     "0d31608b2b2248ab97deb12a674435f3": {
      "model_module": "jupyter-leaflet",
      "model_module_version": "^0.17",
      "model_name": "LeafletMapModel",
      "state": {
       "_model_module_version": "^0.17",
       "_view_module_version": "^0.17",
       "bottom": 43188,
       "center": [
        52.5162,
        13.3777
       ],
       "controls": [
        "IPY_MODEL_c27171471dac44de84e982c7f3a12bcf",
        "IPY_MODEL_74a2bca0963f46e39679947486733e33",
        "IPY_MODEL_782d6d63ce3d41779e33354d461b733a",
        "IPY_MODEL_ac9f4c3455824d69a55f7e9778aa310a"
       ],
       "default_style": "IPY_MODEL_67b349a568f042a7a682af06a9256b72",
       "dragging_style": "IPY_MODEL_2262f75847da47d5ab4effb19ac5f1b0",
       "east": 14.707946777343752,
       "fullscreen": false,
       "interpolation": "bilinear",
       "layers": [
        "IPY_MODEL_bbc37d7c5b414df9923bf5d15a6b3ac0"
       ],
       "layout": "IPY_MODEL_8aec3134d7cd4fb6b3db35f45cf681d8",
       "left": 69922,
       "modisdate": "2023-07-11",
       "north": 52.8492298820527,
       "options": [
        "bounce_at_zoom_limits",
        "box_zoom",
        "center",
        "close_popup_on_click",
        "double_click_zoom",
        "dragging",
        "fullscreen",
        "inertia",
        "inertia_deceleration",
        "inertia_max_speed",
        "interpolation",
        "keyboard",
        "keyboard_pan_offset",
        "keyboard_zoom_offset",
        "max_zoom",
        "min_zoom",
        "prefer_canvas",
        "scroll_wheel_zoom",
        "tap",
        "tap_tolerance",
        "touch_zoom",
        "world_copy_jump",
        "zoom",
        "zoom_animation_threshold",
        "zoom_delta",
        "zoom_snap"
       ],
       "prefer_canvas": false,
       "right": 70891,
       "south": 52.18066872927717,
       "style": "IPY_MODEL_67b349a568f042a7a682af06a9256b72",
       "top": 42788,
       "west": 12.046508789062502,
       "window_url": "http://localhost:8888/notebooks/js/ipyleaflet.ipynb#",
       "zoom": 9
      }
     },
     "0d4dc7218e584fddae6faa22fcace9f2": {
      "model_module": "jupyter-leaflet",
      "model_module_version": "^0.17",
      "model_name": "LeafletMapStyleModel",
      "state": {
       "_model_module_version": "^0.17"
      }
     },
     "0d634455a61244ca8afe7b4c05078bf3": {
      "model_module": "jupyter-leaflet",
      "model_module_version": "~0.9.2",
      "model_name": "LeafletTileLayerModel",
      "state": {
       "_model_module_version": "~0.9.2",
       "_view_module_version": "~0.9.2",
       "attribution": "Tiles courtesy of <a href=\"http://openstreetmap.se/\" target=\"_blank\">OpenStreetMap Sweden</a> &mdash; Map data &copy; <a href=\"http://www.openstreetmap.org/copyright\">OpenStreetMap</a>",
       "base": true,
       "min_zoom": 1,
       "name": "Hydda.Full",
       "options": [
        "attribution",
        "detect_retina",
        "max_zoom",
        "min_zoom",
        "tile_size"
       ],
       "url": "http://{s}.tile.openstreetmap.se/hydda/full/{z}/{x}/{y}.png"
      }
     },
     "0da2004b395e4ecf9d6a2ad9fb74b50a": {
      "model_module": "jupyter-leaflet",
      "model_module_version": "^0.12.6",
      "model_name": "LeafletZoomControlModel",
      "state": {
       "_model_module_version": "^0.12.6",
       "_view_module_version": "^0.12.6",
       "options": [
        "position",
        "zoom_in_text",
        "zoom_in_title",
        "zoom_out_text",
        "zoom_out_title"
       ]
      }
     },
     "0daff683e82e4f09a76095fa3a079df4": {
      "model_module": "jupyter-leaflet",
      "model_module_version": "^0.17",
      "model_name": "LeafletZoomControlModel",
      "state": {
       "_model_module_version": "^0.17",
       "_view_module_version": "^0.17",
       "options": [
        "position",
        "zoom_in_text",
        "zoom_in_title",
        "zoom_out_text",
        "zoom_out_title"
       ]
      }
     },
     "0dc873adc46e484b822d6e3287443c2d": {
      "model_module": "jupyter-leaflet",
      "model_module_version": "^0.12.1",
      "model_name": "LeafletAttributionControlModel",
      "state": {
       "_model_module_version": "^0.12.1",
       "_view_module_version": "^0.12.1",
       "options": [
        "position",
        "prefix"
       ],
       "position": "bottomright",
       "prefix": "Leaflet"
      }
     },
     "0e009f916b664e13aacd75a8f7a979d9": {
      "model_module": "@jupyter-widgets/base",
      "model_module_version": "1.2.0",
      "model_name": "LayoutModel",
      "state": {}
     },
     "0e08e5dc4b134612832133a0eb9a60b3": {
      "model_module": "@jupyter-widgets/base",
      "model_module_version": "1.2.0",
      "model_name": "LayoutModel",
      "state": {}
     },
     "0e215454cb614a8db3657ec1f175931d": {
      "model_module": "jupyter-leaflet",
      "model_module_version": "^0.12.1",
      "model_name": "LeafletWMSLayerModel",
      "state": {
       "_model_module_version": "^0.12.1",
       "_view_module_version": "^0.12.1",
       "attribution": "Weather data © 2012 IEM Nexrad",
       "crs": "EPSG3857",
       "format": "image/png",
       "layers": "nexrad-n0r-wmst",
       "max_native_zoom": 18,
       "min_native_zoom": 0,
       "options": [
        "attribution",
        "detect_retina",
        "format",
        "layers",
        "max_native_zoom",
        "max_zoom",
        "min_native_zoom",
        "min_zoom",
        "no_wrap",
        "styles",
        "tile_size",
        "time",
        "tms",
        "transparent",
        "uppercase"
       ],
       "time": "2005-08-29T19:00",
       "transparent": true,
       "url": "https://mesonet.agron.iastate.edu/cgi-bin/wms/nexrad/n0r-t.cgi?"
      }
     },
     "0e3a67ceb8d547ffac04bc121114fe8d": {
      "model_module": "jupyter-leaflet",
      "model_module_version": "^0.12.1",
      "model_name": "LeafletMapStyleModel",
      "state": {
       "_model_module_version": "^0.12.1"
      }
     },
     "0e8b854a0f5e459c9016b5b92ec3d743": {
      "model_module": "jupyter-leaflet",
      "model_module_version": "^0.17",
      "model_name": "LeafletMapStyleModel",
      "state": {
       "_model_module_version": "^0.17"
      }
     },
     "0e95604e06db46e4904ac48bdb67f562": {
      "model_module": "jupyter-leaflet",
      "model_module_version": "^0.12.1",
      "model_name": "LeafletAttributionControlModel",
      "state": {
       "_model_module_version": "^0.12.1",
       "_view_module_version": "^0.12.1",
       "options": [
        "position",
        "prefix"
       ],
       "position": "bottomright",
       "prefix": "Leaflet"
      }
     },
     "0ebfc17b523549dd936af6638f4f1fc0": {
      "model_module": "jupyter-leaflet",
      "model_module_version": "^0.17",
      "model_name": "LeafletMapModel",
      "state": {
       "_model_module_version": "^0.17",
       "_view_module_version": "^0.17",
       "bottom": 3562,
       "center": [
        30.661,
        -88.645
       ],
       "controls": [
        "IPY_MODEL_bc3b249e5ca44ab38fb85e3a2e2b7ba0",
        "IPY_MODEL_2c00067cae484938a15425ec0d5644c3"
       ],
       "default_style": "IPY_MODEL_8934c564e4ab41d5a4f0e154ca27e05d",
       "dragging_style": "IPY_MODEL_f36f30a0ed7b44318a2065b623299246",
       "east": -67.36816406250001,
       "fullscreen": false,
       "interpolation": "bilinear",
       "layers": [
        "IPY_MODEL_833c0a194780438583eb80c41388ef8b",
        "IPY_MODEL_dfb2c92e748b4b429c74adf5ef99c06c"
       ],
       "layout": "IPY_MODEL_9cd552d5757141a1a35bb4e2ee0025da",
       "left": 1594,
       "modisdate": "2023-07-11",
       "north": 37.92686760148135,
       "options": [
        "bounce_at_zoom_limits",
        "box_zoom",
        "center",
        "close_popup_on_click",
        "double_click_zoom",
        "dragging",
        "fullscreen",
        "inertia",
        "inertia_deceleration",
        "inertia_max_speed",
        "interpolation",
        "keyboard",
        "keyboard_pan_offset",
        "keyboard_zoom_offset",
        "max_zoom",
        "min_zoom",
        "prefer_canvas",
        "scroll_wheel_zoom",
        "tap",
        "tap_tolerance",
        "touch_zoom",
        "world_copy_jump",
        "zoom",
        "zoom_animation_threshold",
        "zoom_delta",
        "zoom_snap"
       ],
       "prefer_canvas": false,
       "right": 2563,
       "south": 22.836945920943855,
       "style": "IPY_MODEL_00c9eacb959946c2b88671054fd6086d",
       "top": 3162,
       "west": -109.95117187500001,
       "window_url": "http://localhost:8888/notebooks/js/ipyleaflet.ipynb#",
       "zoom": 5
      }
     },
     "0f16246239484a40b5ed3ebdeeddfc75": {
      "model_module": "jupyter-leaflet",
      "model_module_version": "^0.12.1",
      "model_name": "LeafletMapModel",
      "state": {
       "_model_module_version": "^0.12.1",
       "_view_module_version": "^0.12.1",
       "center": [
        30.675715404167743,
        -88.63769531250001
       ],
       "controls": [
        "IPY_MODEL_bfb45636ac48465e883c241957c2c930",
        "IPY_MODEL_7c9caa3cece645d8911c39c773619ada"
       ],
       "default_style": "IPY_MODEL_9cecc09a2cf842b395ca3a4f4186b5c1",
       "dragging_style": "IPY_MODEL_bd75d1acd65446c29c722f7768ba3089",
       "east": -67.58789062500001,
       "fullscreen": false,
       "interpolation": "bilinear",
       "layers": [
        "IPY_MODEL_88327adb281b47c5977090581383baad",
        "IPY_MODEL_fb703692d04642bf9edf42645575c65b"
       ],
       "layout": "IPY_MODEL_77aa2343e13a4c40b1eabfea84b01a96",
       "modisdate": "yesterday",
       "north": 37.92686760148135,
       "options": [
        "bounce_at_zoom_limits",
        "box_zoom",
        "center",
        "close_popup_on_click",
        "double_click_zoom",
        "dragging",
        "fullscreen",
        "inertia",
        "inertia_deceleration",
        "inertia_max_speed",
        "interpolation",
        "keyboard",
        "keyboard_pan_offset",
        "keyboard_zoom_offset",
        "max_zoom",
        "min_zoom",
        "scroll_wheel_zoom",
        "tap",
        "tap_tolerance",
        "touch_zoom",
        "world_copy_jump",
        "zoom",
        "zoom_animation_threshold",
        "zoom_start"
       ],
       "south": 22.836945920943855,
       "style": "IPY_MODEL_9cecc09a2cf842b395ca3a4f4186b5c1",
       "west": -109.73144531250001,
       "window_url": "http://localhost:8888/notebooks/js/ipyleaflet.ipynb",
       "zoom": 5
      }
     },
     "0f2e0c4606484abea8a66bd642a20ab6": {
      "model_module": "jupyter-leaflet",
      "model_module_version": "^0.12.1",
      "model_name": "LeafletMapStyleModel",
      "state": {
       "_model_module_version": "^0.12.1"
      }
     },
     "0f34e08adc0149108ac3efa92d125c78": {
      "model_module": "jupyter-leaflet",
      "model_module_version": "^0.11.2",
      "model_name": "LeafletMapStyleModel",
      "state": {
       "_model_module_version": "^0.11.2"
      }
     },
     "0f7f90386d5545d2ace3da8b5493ccc3": {
      "model_module": "jupyter-leaflet",
      "model_module_version": "^0.17",
      "model_name": "LeafletMapStyleModel",
      "state": {
       "_model_module_version": "^0.17"
      }
     },
     "0fa3eab2a991477b9330efc9247fba2d": {
      "model_module": "jupyter-leaflet",
      "model_module_version": "^0.17",
      "model_name": "LeafletWidgetControlModel",
      "state": {
       "_model_module": "jupyter-leaflet",
       "_model_module_version": "^0.17",
       "_view_count": null,
       "_view_module": "jupyter-leaflet",
       "_view_module_version": "^0.17",
       "options": [
        "position",
        "transparent_bg"
       ],
       "position": "topright",
       "widget": "IPY_MODEL_d53da07303394d7ba14a2d101f0500ac"
      }
     },
     "0fb08dd41d03496083ef5d795c663c0e": {
      "model_module": "jupyter-leaflet",
      "model_module_version": "^0.17",
      "model_name": "LeafletMapStyleModel",
      "state": {
       "_model_module_version": "^0.17",
       "cursor": "move"
      }
     },
     "0fc0381e0de044aead0afa36b2ca2f07": {
      "model_module": "jupyter-leaflet",
      "model_module_version": "^0.12.1",
      "model_name": "LeafletTileLayerModel",
      "state": {
       "_model_module_version": "^0.12.1",
       "_view_module_version": "^0.12.1",
       "attribution": "",
       "max_native_zoom": 18,
       "max_zoom": 19,
       "min_native_zoom": 0,
       "min_zoom": 1,
       "name": "Countries",
       "options": [
        "attribution",
        "detect_retina",
        "max_native_zoom",
        "max_zoom",
        "min_native_zoom",
        "min_zoom",
        "no_wrap",
        "tile_size",
        "tms"
       ],
       "url": ""
      }
     },
     "0fc67a478228450eb3fc2f70726b5734": {
      "model_module": "@jupyter-widgets/base",
      "model_module_version": "1.2.0",
      "model_name": "LayoutModel",
      "state": {}
     },
     "0ff7528a82db498aabd887149776b6e5": {
      "model_module": "@jupyter-widgets/base",
      "model_module_version": "1.2.0",
      "model_name": "LayoutModel",
      "state": {}
     },
     "1061e6858b984224b77c34b6df068ecb": {
      "model_module": "@jupyter-widgets/controls",
      "model_module_version": "1.5.0",
      "model_name": "DescriptionStyleModel",
      "state": {
       "description_width": ""
      }
     },
     "108a3d21c29b482c848b5d4f974f3442": {
      "model_module": "jupyter-leaflet",
      "model_module_version": "^0.17",
      "model_name": "LeafletZoomControlModel",
      "state": {
       "_model_module_version": "^0.17",
       "_view_module_version": "^0.17",
       "options": [
        "position",
        "zoom_in_text",
        "zoom_in_title",
        "zoom_out_text",
        "zoom_out_title"
       ]
      }
     },
     "109d014675cb4c8f967f65234d6cac83": {
      "model_module": "jupyter-leaflet",
      "model_module_version": "~0.9.2",
      "model_name": "LeafletTileLayerModel",
      "state": {
       "_model_module_version": "~0.9.2",
       "_view_module_version": "~0.9.2",
       "attribution": "Tiles courtesy of <a href=\"http://openstreetmap.se/\" target=\"_blank\">OpenStreetMap Sweden</a> &mdash; Map data &copy; <a href=\"http://www.openstreetmap.org/copyright\">OpenStreetMap</a>",
       "base": true,
       "min_zoom": 1,
       "name": "Hydda.Full",
       "options": [
        "attribution",
        "detect_retina",
        "max_zoom",
        "min_zoom",
        "tile_size"
       ],
       "url": "http://{s}.tile.openstreetmap.se/hydda/full/{z}/{x}/{y}.png"
      }
     },
     "10f42baae60b4e2d8320531c6560b877": {
      "model_module": "jupyter-leaflet",
      "model_module_version": "^0.17",
      "model_name": "LeafletMapStyleModel",
      "state": {
       "_model_module_version": "^0.17"
      }
     },
     "110a4d68c05344129d4de28f83fef65d": {
      "model_module": "@jupyter-widgets/controls",
      "model_module_version": "1.5.0",
      "model_name": "LabelModel",
      "state": {
       "layout": "IPY_MODEL_60895ce9cb214ced84daaef76effdf05",
       "style": "IPY_MODEL_0a80c5fbf6324dc3940106bee099907f"
      }
     },
     "110dc44c940043e3baf40c2c4a047e56": {
      "model_module": "jupyter-leaflet",
      "model_module_version": "^0.17",
      "model_name": "LeafletAttributionControlModel",
      "state": {
       "_model_module_version": "^0.17",
       "_view_module_version": "^0.17",
       "options": [
        "position",
        "prefix"
       ],
       "position": "bottomright",
       "prefix": "ipyleaflet"
      }
     },
     "11281905205549378725a08601d81ba8": {
      "model_module": "jupyter-leaflet",
      "model_module_version": "^0.12.1",
      "model_name": "LeafletTileLayerModel",
      "state": {
       "_model_module_version": "^0.12.1",
       "_view_module_version": "^0.12.1",
       "attribution": "&copy; <a href=\"http://www.openstreetmap.org/copyright\">OpenStreetMap</a> &copy; <a href=\"http://cartodb.com/attributions\">CartoDB</a>",
       "base": true,
       "max_native_zoom": 18,
       "max_zoom": 20,
       "min_native_zoom": 0,
       "min_zoom": 1,
       "name": "CartoDB.Positron",
       "options": [
        "attribution",
        "detect_retina",
        "max_native_zoom",
        "max_zoom",
        "min_native_zoom",
        "min_zoom",
        "no_wrap",
        "tile_size",
        "tms"
       ],
       "url": "http://c.basemaps.cartocdn.com/light_all/{z}/{x}/{y}.png"
      }
     },
     "112e1372b1254ef8b09001ea8618e531": {
      "model_module": "@jupyter-widgets/controls",
      "model_module_version": "1.5.0",
      "model_name": "LinkModel",
      "state": {
       "source": [
        "IPY_MODEL_fcf8b2d6399544189d585115c48edbcb",
        "value"
       ],
       "target": [
        "IPY_MODEL_9a2b26e3718c413fb7a182d21c7e4bad",
        "zoom"
       ]
      }
     },
     "114b137dace94348a2b1267c9fb1fdfc": {
      "model_module": "@jupyter-widgets/base",
      "model_module_version": "1.2.0",
      "model_name": "LayoutModel",
      "state": {}
     },
     "116025b4fbe14d74854d57c2516c6035": {
      "model_module": "jupyter-leaflet",
      "model_module_version": "^0.17",
      "model_name": "LeafletAttributionControlModel",
      "state": {
       "_model_module_version": "^0.17",
       "_view_module_version": "^0.17",
       "options": [
        "position",
        "prefix"
       ],
       "position": "bottomright",
       "prefix": "ipyleaflet"
      }
     },
     "116afa09e81b459dbeed03b10888f600": {
      "model_module": "jupyter-leaflet",
      "model_module_version": "^0.17",
      "model_name": "LeafletMapStyleModel",
      "state": {
       "_model_module_version": "^0.17"
      }
     },
     "116c726b318449558905e5acd5747ac8": {
      "model_module": "jupyter-leaflet",
      "model_module_version": "^0.17",
      "model_name": "LeafletMapStyleModel",
      "state": {
       "_model_module_version": "^0.17",
       "cursor": "move"
      }
     },
     "11799fa0378b460cab9564b4cb125493": {
      "model_module": "jupyter-leaflet",
      "model_module_version": "~0.9.2",
      "model_name": "LeafletTileLayerModel",
      "state": {
       "_model_module_version": "~0.9.2",
       "_view_module_version": "~0.9.2",
       "attribution": "Tiles courtesy of <a href=\"http://openstreetmap.se/\" target=\"_blank\">OpenStreetMap Sweden</a> &mdash; Map data &copy; <a href=\"http://www.openstreetmap.org/copyright\">OpenStreetMap</a>",
       "base": true,
       "min_zoom": 1,
       "name": "Hydda.Full",
       "options": [
        "attribution",
        "detect_retina",
        "max_zoom",
        "min_zoom",
        "tile_size"
       ],
       "url": "http://{s}.tile.openstreetmap.se/hydda/full/{z}/{x}/{y}.png"
      }
     },
     "11c4f5a15cf64b14a44224a7b87f4a9e": {
      "model_module": "jupyter-leaflet",
      "model_module_version": "^0.12.1",
      "model_name": "LeafletAttributionControlModel",
      "state": {
       "_model_module_version": "^0.12.1",
       "_view_module_version": "^0.12.1",
       "options": [
        "position",
        "prefix"
       ],
       "position": "bottomright",
       "prefix": "Leaflet"
      }
     },
     "11db33042bcd49e697117604b2b9b1e3": {
      "model_module": "jupyter-leaflet",
      "model_module_version": "^0.12.6",
      "model_name": "LeafletWMSLayerModel",
      "state": {
       "_model_module_version": "^0.12.6",
       "_view_module_version": "^0.12.6",
       "attribution": "Weather data © 2012 IEM Nexrad",
       "crs": "EPSG3857",
       "format": "image/png",
       "layers": "nexrad-n0r-wmst",
       "max_native_zoom": 18,
       "min_native_zoom": 0,
       "options": [
        "attribution",
        "detect_retina",
        "format",
        "layers",
        "max_native_zoom",
        "max_zoom",
        "min_native_zoom",
        "min_zoom",
        "no_wrap",
        "styles",
        "tile_size",
        "time",
        "tms",
        "transparent",
        "uppercase"
       ],
       "time": "2005-08-29T19:00",
       "transparent": true,
       "url": "https://mesonet.agron.iastate.edu/cgi-bin/wms/nexrad/n0r-t.cgi?"
      }
     },
     "12074d67a5ee4fc191fbd270299f1a6b": {
      "model_module": "jupyter-leaflet",
      "model_module_version": "^0.17",
      "model_name": "LeafletAttributionControlModel",
      "state": {
       "_model_module_version": "^0.17",
       "_view_module_version": "^0.17",
       "options": [
        "position",
        "prefix"
       ],
       "position": "bottomright",
       "prefix": "ipyleaflet"
      }
     },
     "1213119fbd1343cfaa01177f24aa0b5d": {
      "model_module": "@jupyter-widgets/base",
      "model_module_version": "1.2.0",
      "model_name": "LayoutModel",
      "state": {}
     },
     "121a17b452264d02bd49761259585e74": {
      "model_module": "jupyter-leaflet",
      "model_module_version": "^0.17",
      "model_name": "LeafletWidgetControlModel",
      "state": {
       "_model_module": "jupyter-leaflet",
       "_model_module_version": "^0.17",
       "_view_count": null,
       "_view_module": "jupyter-leaflet",
       "_view_module_version": "^0.17",
       "options": [
        "position",
        "transparent_bg"
       ],
       "position": "topright",
       "widget": "IPY_MODEL_8ac89e5599b1412cb99d7b28356d5064"
      }
     },
     "124f62f33a684abfa8340c9c566b24e2": {
      "model_module": "jupyter-leaflet",
      "model_module_version": "^0.17",
      "model_name": "LeafletTileLayerModel",
      "state": {
       "_model_module_version": "^0.17",
       "_view_module_version": "^0.17",
       "attribution": "&copy; <a href=\"https://www.openstreetmap.org/copyright\">OpenStreetMap</a> contributors",
       "base": true,
       "max_zoom": 19,
       "min_zoom": 1,
       "name": "OpenStreetMap.Mapnik",
       "options": [
        "attribution",
        "bounds",
        "detect_retina",
        "max_native_zoom",
        "max_zoom",
        "min_native_zoom",
        "min_zoom",
        "no_wrap",
        "tile_size",
        "tms",
        "zoom_offset"
       ],
       "url": "https://tile.openstreetmap.org/{z}/{x}/{y}.png"
      }
     },
     "12778d0a94204574be81ed96cc56407e": {
      "model_module": "jupyter-leaflet",
      "model_module_version": "^0.17",
      "model_name": "LeafletZoomControlModel",
      "state": {
       "_model_module_version": "^0.17",
       "_view_module_version": "^0.17",
       "options": [
        "position",
        "zoom_in_text",
        "zoom_in_title",
        "zoom_out_text",
        "zoom_out_title"
       ]
      }
     },
     "129a30e098a7403ab5a776c603009727": {
      "model_module": "jupyter-leaflet",
      "model_module_version": "^0.11.2",
      "model_name": "LeafletTileLayerModel",
      "state": {
       "_model_module_version": "^0.11.2",
       "_view_module_version": "^0.11.2",
       "attribution": "Map tiles by <a href=\"https://labs.strava.com/heatmap\">Strava 2017</a>",
       "max_native_zoom": 18,
       "max_zoom": 15,
       "min_native_zoom": 0,
       "min_zoom": 1,
       "name": "Strava.Water",
       "options": [
        "attribution",
        "detect_retina",
        "max_native_zoom",
        "max_zoom",
        "min_native_zoom",
        "min_zoom",
        "no_wrap",
        "tile_size"
       ],
       "url": "https://heatmap-external-a.strava.com//tiles/water/blue/{z}/{x}/{y}.png?v=19"
      }
     },
     "1300ef4c804b4dae982fc34a793fd411": {
      "model_module": "@jupyter-widgets/base",
      "model_module_version": "1.2.0",
      "model_name": "LayoutModel",
      "state": {}
     },
     "1319c1f69f4a442e84ffdc770fb8009c": {
      "model_module": "jupyter-leaflet",
      "model_module_version": "^0.12.6",
      "model_name": "LeafletTileLayerModel",
      "state": {
       "_model_module_version": "^0.12.6",
       "_view_module_version": "^0.12.6",
       "attribution": "&copy; <a href=\"http://www.openstreetmap.org/copyright\">OpenStreetMap</a> &copy; <a href=\"http://cartodb.com/attributions\">CartoDB</a>",
       "base": true,
       "max_native_zoom": 18,
       "max_zoom": 20,
       "min_native_zoom": 0,
       "min_zoom": 1,
       "name": "CartoDB.Positron",
       "options": [
        "attribution",
        "detect_retina",
        "max_native_zoom",
        "max_zoom",
        "min_native_zoom",
        "min_zoom",
        "no_wrap",
        "tile_size",
        "tms"
       ],
       "url": "http://c.basemaps.cartocdn.com/light_all/{z}/{x}/{y}.png"
      }
     },
     "13258971a2024e428aa965af31d09192": {
      "model_module": "@jupyter-widgets/base",
      "model_module_version": "1.2.0",
      "model_name": "LayoutModel",
      "state": {}
     },
     "1369c7789091467abde7c7c72f65b4fe": {
      "model_module": "jupyter-leaflet",
      "model_module_version": "^0.17",
      "model_name": "LeafletAttributionControlModel",
      "state": {
       "_model_module_version": "^0.17",
       "_view_module_version": "^0.17",
       "options": [
        "position",
        "prefix"
       ],
       "position": "bottomright",
       "prefix": "ipyleaflet"
      }
     },
     "13a02efa6a0746da804f284964545d66": {
      "model_module": "jupyter-leaflet",
      "model_module_version": "^0.12.1",
      "model_name": "LeafletMapStyleModel",
      "state": {
       "_model_module_version": "^0.12.1",
       "cursor": "move"
      }
     },
     "13b4f06edce94d479a4d633979c30c11": {
      "model_module": "@jupyter-widgets/controls",
      "model_module_version": "1.5.0",
      "model_name": "LinkModel",
      "state": {
       "source": [
        "IPY_MODEL_55a5dcb724c64d62a964c425cd9923f0",
        "value"
       ],
       "target": [
        "IPY_MODEL_7b5aca1085ad42b4b33b2c195e9c961b",
        "zoom"
       ]
      }
     },
     "14787dc7fe3b4d97813596049ec2203c": {
      "model_module": "jupyter-leaflet",
      "model_module_version": "^0.17",
      "model_name": "LeafletMapStyleModel",
      "state": {
       "_model_module_version": "^0.17"
      }
     },
     "151f0e814c644871b80e446e67729354": {
      "model_module": "jupyter-leaflet",
      "model_module_version": "^0.12.1",
      "model_name": "LeafletMapStyleModel",
      "state": {
       "_model_module_version": "^0.12.1"
      }
     },
     "1551565a7cbc4977a02724d90b97bf21": {
      "model_module": "jupyter-leaflet",
      "model_module_version": "^0.17",
      "model_name": "LeafletMapStyleModel",
      "state": {
       "_model_module_version": "^0.17"
      }
     },
     "15523f3d75ec454d8b0b2ca8b3ae6604": {
      "model_module": "@jupyter-widgets/controls",
      "model_module_version": "1.5.0",
      "model_name": "LabelModel",
      "state": {
       "layout": "IPY_MODEL_998a9b816d1e49ef956399e528420182",
       "style": "IPY_MODEL_8867e630ee1c443aa718073682029234"
      }
     },
     "160d5f1d48f14d8980b6ef5250306759": {
      "model_module": "jupyter-leaflet",
      "model_module_version": "^0.12.1",
      "model_name": "LeafletMapStyleModel",
      "state": {
       "_model_module_version": "^0.12.1"
      }
     },
     "163b5ba536c042e99848d2e3d62584e9": {
      "model_module": "@jupyter-widgets/controls",
      "model_module_version": "1.5.0",
      "model_name": "LinkModel",
      "state": {
       "source": [
        "IPY_MODEL_72bc3c89ba094c03ac7f49499e97809b",
        "value"
       ],
       "target": [
        "IPY_MODEL_312886f22eed464bbe05516249f7a944",
        "zoom"
       ]
      }
     },
     "1692ae33321443a18f806905b725b6b6": {
      "model_module": "jupyter-leaflet",
      "model_module_version": "^0.17",
      "model_name": "LeafletMapStyleModel",
      "state": {
       "_model_module_version": "^0.17"
      }
     },
     "16ba9fe3287b40f6a96d3c2872498737": {
      "model_module": "jupyter-leaflet",
      "model_module_version": "^0.11.2",
      "model_name": "LeafletMapStyleModel",
      "state": {
       "_model_module_version": "^0.11.2"
      }
     },
     "16be0029c33f4e42923636d826fe798e": {
      "model_module": "@jupyter-widgets/base",
      "model_module_version": "1.2.0",
      "model_name": "LayoutModel",
      "state": {}
     },
     "16f355f1d13d47db898509fa130c4196": {
      "model_module": "jupyter-leaflet",
      "model_module_version": "^0.12.1",
      "model_name": "LeafletMapStyleModel",
      "state": {
       "_model_module_version": "^0.12.1"
      }
     },
     "1753e983c3c1428785d1e4a2ffafcb97": {
      "model_module": "jupyter-leaflet",
      "model_module_version": "^0.12.1",
      "model_name": "LeafletMapStyleModel",
      "state": {
       "_model_module_version": "^0.12.1"
      }
     },
     "175583b7c8164f26babfe8a442c7ba6c": {
      "model_module": "jupyter-leaflet",
      "model_module_version": "^0.17",
      "model_name": "LeafletWidgetControlModel",
      "state": {
       "_model_module": "jupyter-leaflet",
       "_model_module_version": "^0.17",
       "_view_count": null,
       "_view_module": "jupyter-leaflet",
       "_view_module_version": "^0.17",
       "options": [
        "position",
        "transparent_bg"
       ],
       "position": "topright",
       "widget": "IPY_MODEL_ed38e29dd6b44be2ab1cf05b44ee25b8"
      }
     },
     "177a33a3a8d04e22a8413d473e6fb635": {
      "model_module": "jupyter-leaflet",
      "model_module_version": "^0.17",
      "model_name": "LeafletLayersControlModel",
      "state": {
       "_model_module_version": "^0.17",
       "_view_module_version": "^0.17",
       "options": [
        "position"
       ]
      }
     },
     "178b71ef41bf4f7a9285b2bcdfec9497": {
      "model_module": "@jupyter-widgets/base",
      "model_module_version": "1.2.0",
      "model_name": "LayoutModel",
      "state": {}
     },
     "17a17656ebe04fc3964cdf938c2e6d96": {
      "model_module": "jupyter-leaflet",
      "model_module_version": "^0.17",
      "model_name": "LeafletTileLayerModel",
      "state": {
       "_model_module_version": "^0.17",
       "_view_module_version": "^0.17",
       "attribution": "&copy; <a href=\"https://www.openstreetmap.org/copyright\">OpenStreetMap</a> contributors",
       "base": true,
       "max_zoom": 19,
       "min_zoom": 1,
       "name": "OpenStreetMap.Mapnik",
       "options": [
        "attribution",
        "bounds",
        "detect_retina",
        "max_native_zoom",
        "max_zoom",
        "min_native_zoom",
        "min_zoom",
        "no_wrap",
        "tile_size",
        "tms",
        "zoom_offset"
       ],
       "url": "https://tile.openstreetmap.org/{z}/{x}/{y}.png"
      }
     },
     "17aa6ee312884e5a8ef77123a82ad74c": {
      "model_module": "jupyter-leaflet",
      "model_module_version": "^0.17",
      "model_name": "LeafletTileLayerModel",
      "state": {
       "_model_module_version": "^0.17",
       "_view_module_version": "^0.17",
       "attribution": "&copy; <a href=\"https://www.openstreetmap.org/copyright\">OpenStreetMap</a> contributors",
       "base": true,
       "max_zoom": 19,
       "min_zoom": 1,
       "name": "OpenStreetMap.Mapnik",
       "options": [
        "attribution",
        "bounds",
        "detect_retina",
        "max_native_zoom",
        "max_zoom",
        "min_native_zoom",
        "min_zoom",
        "no_wrap",
        "tile_size",
        "tms",
        "zoom_offset"
       ],
       "url": "https://tile.openstreetmap.org/{z}/{x}/{y}.png"
      }
     },
     "17ab3e57ed25426b83083edc24a9c6c4": {
      "model_module": "jupyter-leaflet",
      "model_module_version": "^0.17",
      "model_name": "LeafletMapStyleModel",
      "state": {
       "_model_module_version": "^0.17"
      }
     },
     "17ac497370eb43f380b6d7544f5819e7": {
      "model_module": "jupyter-leaflet",
      "model_module_version": "^0.11.6",
      "model_name": "LeafletMapStyleModel",
      "state": {
       "_model_module_version": "^0.11.6"
      }
     },
     "180b2d7f4ca5457c80f5110bbf8b9fb4": {
      "model_module": "jupyter-leaflet",
      "model_module_version": "^0.17",
      "model_name": "LeafletZoomControlModel",
      "state": {
       "_model_module_version": "^0.17",
       "_view_module_version": "^0.17",
       "options": [
        "position",
        "zoom_in_text",
        "zoom_in_title",
        "zoom_out_text",
        "zoom_out_title"
       ]
      }
     },
     "182a87c84b6f4df69208b34e2b925786": {
      "model_module": "jupyter-leaflet",
      "model_module_version": "~0.9.2",
      "model_name": "LeafletMapModel",
      "state": {
       "_model_module_version": "~0.9.2",
       "_view_module_version": "~0.9.2",
       "basemap": {
        "attribution": "Tiles courtesy of <a href=\"http://openstreetmap.se/\" target=\"_blank\">OpenStreetMap Sweden</a> &mdash; Map data &copy; <a href=\"http://www.openstreetmap.org/copyright\">OpenStreetMap</a>",
        "max_zoom": 18,
        "name": "Hydda.Full",
        "url": "http://{s}.tile.openstreetmap.se/hydda/full/{z}/{x}/{y}.png"
       },
       "center": [
        52,
        10
       ],
       "east": 12.689208984375002,
       "interpolation": "bilinear",
       "layers": [
        "IPY_MODEL_e481cad2a8db4e1ca64db00bfd9daf12"
       ],
       "layout": "IPY_MODEL_a51f4420134e49a5bfaa2a7a90c61ace",
       "modisdate": "yesterday",
       "north": 52.669720383688166,
       "options": [
        "attribution_control",
        "basemap",
        "bounce_at_zoom_limits",
        "box_zoom",
        "center",
        "close_popup_on_click",
        "double_click_zoom",
        "dragging",
        "inertia",
        "inertia_deceleration",
        "inertia_max_speed",
        "interpolation",
        "keyboard",
        "keyboard_pan_offset",
        "keyboard_zoom_offset",
        "max_zoom",
        "min_zoom",
        "scroll_wheel_zoom",
        "tap",
        "tap_tolerance",
        "touch_zoom",
        "world_copy_jump",
        "zoom",
        "zoom_animation_threshold",
        "zoom_control",
        "zoom_start"
       ],
       "south": 51.316880504045876,
       "west": 7.3114013671875,
       "window_url": "http://localhost:8888/notebooks/js/ipyleaflet.ipynb",
       "zoom": 8
      }
     },
     "184fdc1e166744aaac61fd87ecabf42a": {
      "model_module": "jupyter-leaflet",
      "model_module_version": "^0.11.2",
      "model_name": "LeafletMapStyleModel",
      "state": {
       "_model_module_version": "^0.11.2"
      }
     },
     "194393b6c2934f149ac40ea065a5397f": {
      "model_module": "@jupyter-widgets/base",
      "model_module_version": "1.2.0",
      "model_name": "LayoutModel",
      "state": {}
     },
     "194bb7be751b4974be3a46a5799387a4": {
      "model_module": "@jupyter-widgets/controls",
      "model_module_version": "1.5.0",
      "model_name": "SelectionSliderModel",
      "state": {
       "_options_labels": [
        "13:00",
        "13:30",
        "14:00",
        "14:30",
        "15:00",
        "15:30",
        "16:00",
        "16:30"
       ],
       "description": "Time:",
       "index": 0,
       "layout": "IPY_MODEL_42fd8d9c6145400986720d1d0a18222c",
       "style": "IPY_MODEL_2ddc04ab798047639d5e3bb0aa649c18"
      }
     },
     "195fae11435b40908fc5a0177969a24c": {
      "model_module": "@jupyter-widgets/controls",
      "model_module_version": "1.5.0",
      "model_name": "LabelModel",
      "state": {
       "layout": "IPY_MODEL_945a0aa96cab4034907e3e86dbcb2036",
       "style": "IPY_MODEL_9a8e7b4b2e084a3c9b83e90a4cbee802"
      }
     },
     "19c7e4e6503047b8af9b57c2e80dcbb5": {
      "model_module": "jupyter-leaflet",
      "model_module_version": "^0.17",
      "model_name": "LeafletMapModel",
      "state": {
       "_model_module_version": "^0.17",
       "_view_module_version": "^0.17",
       "bottom": 5900,
       "center": [
        47.931066347509784,
        8.668598301591983
       ],
       "controls": [
        "IPY_MODEL_d529821cde7740df9b133d8c31833e6e",
        "IPY_MODEL_ab763aea2e1f4726be91fcd3e9dfed05"
       ],
       "default_style": "IPY_MODEL_36f2f73634274163bccc1bc457bd9b04",
       "dragging_style": "IPY_MODEL_54fccfe76682453a861ce0720e14b509",
       "east": 19.314350254716985,
       "fullscreen": false,
       "interpolation": "bilinear",
       "layers": [
        "IPY_MODEL_902fb7324f17454eb67d6c35b0107bee"
       ],
       "layout": "IPY_MODEL_adf65b5c107c493897159102435467d7",
       "left": 8102.017540481341,
       "modisdate": "2023-07-11",
       "north": 50.792047064406866,
       "options": [
        "bounce_at_zoom_limits",
        "box_zoom",
        "center",
        "close_popup_on_click",
        "double_click_zoom",
        "dragging",
        "fullscreen",
        "inertia",
        "inertia_deceleration",
        "inertia_max_speed",
        "interpolation",
        "keyboard",
        "keyboard_pan_offset",
        "keyboard_zoom_offset",
        "max_zoom",
        "min_zoom",
        "prefer_canvas",
        "scroll_wheel_zoom",
        "tap",
        "tap_tolerance",
        "touch_zoom",
        "world_copy_jump",
        "zoom",
        "zoom_animation_threshold",
        "zoom_delta",
        "zoom_snap"
       ],
       "prefer_canvas": false,
       "right": 9071.017540481342,
       "south": 44.902577996288876,
       "style": "IPY_MODEL_36f2f73634274163bccc1bc457bd9b04",
       "top": 5500,
       "west": -1.9771536515330392,
       "window_url": "http://localhost:8888/notebooks/js/ipyleaflet.ipynb#",
       "zoom": 6
      }
     },
     "19ce1dc791aa4940ac26600a40d46675": {
      "model_module": "jupyter-leaflet",
      "model_module_version": "^0.12.1",
      "model_name": "LeafletMapStyleModel",
      "state": {
       "_model_module_version": "^0.12.1",
       "cursor": "move"
      }
     },
     "1a004e4befe3407bacded5e85df33c18": {
      "model_module": "@jupyter-widgets/base",
      "model_module_version": "1.2.0",
      "model_name": "LayoutModel",
      "state": {}
     },
     "1a1f1412f2294f55a0953e8abbe4c0e1": {
      "model_module": "@jupyter-widgets/base",
      "model_module_version": "1.2.0",
      "model_name": "LayoutModel",
      "state": {}
     },
     "1a3ec264326c4b9c8d40d96d47b1930a": {
      "model_module": "jupyter-leaflet",
      "model_module_version": "^0.17",
      "model_name": "LeafletMapStyleModel",
      "state": {
       "_model_module_version": "^0.17",
       "cursor": "move"
      }
     },
     "1a45720002f54232b1455d504db7d2d5": {
      "model_module": "jupyter-leaflet",
      "model_module_version": "^0.17",
      "model_name": "LeafletMapStyleModel",
      "state": {
       "_model_module_version": "^0.17"
      }
     },
     "1a61a38f69e44e6abb77b7c80e055380": {
      "model_module": "jupyter-leaflet",
      "model_module_version": "^0.17",
      "model_name": "LeafletTileLayerModel",
      "state": {
       "_model_module_version": "^0.17",
       "_view_module_version": "^0.17",
       "attribution": "&copy; <a href=\"https://www.openstreetmap.org/copyright\">OpenStreetMap</a> contributors",
       "base": true,
       "max_zoom": 19,
       "min_zoom": 1,
       "name": "OpenStreetMap.Mapnik",
       "options": [
        "attribution",
        "bounds",
        "detect_retina",
        "max_native_zoom",
        "max_zoom",
        "min_native_zoom",
        "min_zoom",
        "no_wrap",
        "tile_size",
        "tms",
        "zoom_offset"
       ],
       "url": "https://tile.openstreetmap.org/{z}/{x}/{y}.png"
      }
     },
     "1a6f9ae285014dd8a18dfa46eb90fc8d": {
      "model_module": "jupyter-leaflet",
      "model_module_version": "^0.17",
      "model_name": "LeafletZoomControlModel",
      "state": {
       "_model_module_version": "^0.17",
       "_view_module_version": "^0.17",
       "options": [
        "position",
        "zoom_in_text",
        "zoom_in_title",
        "zoom_out_text",
        "zoom_out_title"
       ]
      }
     },
     "1abf1ee407054f8aa66d7cd5a4e4a28e": {
      "model_module": "@jupyter-widgets/base",
      "model_module_version": "1.2.0",
      "model_name": "LayoutModel",
      "state": {}
     },
     "1abfb7d59d16428fa3461c61131b00e7": {
      "model_module": "jupyter-leaflet",
      "model_module_version": "^0.17",
      "model_name": "LeafletTileLayerModel",
      "state": {
       "_model_module_version": "^0.17",
       "_view_module_version": "^0.17",
       "attribution": "&copy; <a href=\"https://www.openstreetmap.org/copyright\">OpenStreetMap</a> contributors",
       "base": true,
       "max_zoom": 19,
       "min_zoom": 1,
       "name": "OpenStreetMap.Mapnik",
       "options": [
        "attribution",
        "bounds",
        "detect_retina",
        "max_native_zoom",
        "max_zoom",
        "min_native_zoom",
        "min_zoom",
        "no_wrap",
        "tile_size",
        "tms",
        "zoom_offset"
       ],
       "url": "https://tile.openstreetmap.org/{z}/{x}/{y}.png"
      }
     },
     "1ac9f64237f24a539d69aec3209268bb": {
      "model_module": "jupyter-leaflet",
      "model_module_version": "^0.17",
      "model_name": "LeafletZoomControlModel",
      "state": {
       "_model_module_version": "^0.17",
       "_view_module_version": "^0.17",
       "options": [
        "position",
        "zoom_in_text",
        "zoom_in_title",
        "zoom_out_text",
        "zoom_out_title"
       ]
      }
     },
     "1b3613be99d84485be296f31b21f34d3": {
      "model_module": "@jupyter-widgets/controls",
      "model_module_version": "1.5.0",
      "model_name": "LabelModel",
      "state": {
       "layout": "IPY_MODEL_ed7021898dfc407baf61f0995595aa9d",
       "style": "IPY_MODEL_695983b4ca1d4ab99014c1dee1a1cabc",
       "value": "[47.923704717745686, 7.316106935643348]"
      }
     },
     "1b49195b1a0f4260bf735e9c5612a8f3": {
      "model_module": "jupyter-leaflet",
      "model_module_version": "^0.17",
      "model_name": "LeafletTileLayerModel",
      "state": {
       "_model_module_version": "^0.17",
       "_view_module_version": "^0.17",
       "attribution": "Map tiles by <a href=\"https://labs.strava.com/heatmap\">Strava 2021</a>",
       "base": true,
       "max_zoom": 15,
       "min_zoom": 1,
       "name": "Strava.All",
       "options": [
        "attribution",
        "bounds",
        "detect_retina",
        "max_native_zoom",
        "max_zoom",
        "min_native_zoom",
        "min_zoom",
        "no_wrap",
        "tile_size",
        "tms",
        "zoom_offset"
       ],
       "url": "https://heatmap-external-a.strava.com/tiles/all/hot/{z}/{x}/{y}.png"
      }
     },
     "1ba06635127f432e9d5eb280f592e7c5": {
      "model_module": "jupyter-leaflet",
      "model_module_version": "^0.12.6",
      "model_name": "LeafletTileLayerModel",
      "state": {
       "_model_module_version": "^0.12.6",
       "_view_module_version": "^0.12.6",
       "attribution": "Tiles courtesy of <a href=\"http://openstreetmap.se/\" target=\"_blank\">OpenStreetMap Sweden</a> &mdash; Map data &copy; <a href=\"http://www.openstreetmap.org/copyright\">OpenStreetMap</a>",
       "base": true,
       "max_native_zoom": 18,
       "min_native_zoom": 0,
       "min_zoom": 1,
       "name": "Hydda.Full",
       "options": [
        "attribution",
        "detect_retina",
        "max_native_zoom",
        "max_zoom",
        "min_native_zoom",
        "min_zoom",
        "no_wrap",
        "tile_size",
        "tms"
       ],
       "url": "http://{s}.tile.openstreetmap.se/hydda/full/{z}/{x}/{y}.png"
      }
     },
     "1c37356bba8a4889bb6e31747a6b7c02": {
      "model_module": "jupyter-leaflet",
      "model_module_version": "~0.9.2",
      "model_name": "LeafletMapModel",
      "state": {
       "_model_module_version": "~0.9.2",
       "_view_module_version": "~0.9.2",
       "basemap": {
        "attribution": "Map data (c) <a href=\"https://openstreetmap.org\">OpenStreetMap</a> contributors",
        "max_zoom": 19,
        "url": "https://{s}.tile.openstreetmap.org/{z}/{x}/{y}.png"
       },
       "center": [
        43.6,
        1.44
       ],
       "east": 1.7742919921875002,
       "interpolation": "bilinear",
       "layers": [
        "IPY_MODEL_b07604ca1a254d1f9c595438aea14c6b"
       ],
       "layout": "IPY_MODEL_b738fe77bce74b17be45040cf05627b0",
       "modisdate": "yesterday",
       "north": 43.79885402720353,
       "options": [
        "attribution_control",
        "basemap",
        "bounce_at_zoom_limits",
        "box_zoom",
        "center",
        "close_popup_on_click",
        "double_click_zoom",
        "dragging",
        "inertia",
        "inertia_deceleration",
        "inertia_max_speed",
        "interpolation",
        "keyboard",
        "keyboard_pan_offset",
        "keyboard_zoom_offset",
        "max_zoom",
        "min_zoom",
        "scroll_wheel_zoom",
        "tap",
        "tap_tolerance",
        "touch_zoom",
        "world_copy_jump",
        "zoom",
        "zoom_animation_threshold",
        "zoom_control",
        "zoom_start"
       ],
       "south": 43.401056495052906,
       "west": 1.1054992675781252,
       "window_url": "http://localhost:8888/notebooks/js/ipyleaflet.ipynb",
       "zoom": 10
      }
     },
     "1c4fbcdefb7944fcb4f9bcb9e90631bc": {
      "model_module": "@jupyter-widgets/base",
      "model_module_version": "1.2.0",
      "model_name": "LayoutModel",
      "state": {}
     },
     "1c60f61343234fe4a6b280a7c9d2e925": {
      "model_module": "jupyter-leaflet",
      "model_module_version": "^0.12.1",
      "model_name": "LeafletTileLayerModel",
      "state": {
       "_model_module_version": "^0.12.1",
       "_view_module_version": "^0.12.1",
       "base": true,
       "max_native_zoom": 18,
       "max_zoom": 19,
       "min_native_zoom": 0,
       "min_zoom": 1,
       "options": [
        "attribution",
        "detect_retina",
        "max_native_zoom",
        "max_zoom",
        "min_native_zoom",
        "min_zoom",
        "no_wrap",
        "tile_size",
        "tms"
       ]
      }
     },
     "1c6a3ae0e6534b73af01fda72066a5f4": {
      "model_module": "jupyter-leaflet",
      "model_module_version": "^0.12.1",
      "model_name": "LeafletMapStyleModel",
      "state": {
       "_model_module_version": "^0.12.1"
      }
     },
     "1d169a433ff94649842984e229d61be0": {
      "model_module": "jupyter-leaflet",
      "model_module_version": "^0.17",
      "model_name": "LeafletTileLayerModel",
      "state": {
       "_model_module_version": "^0.17",
       "_view_module_version": "^0.17",
       "attribution": "&copy; <a href=\"https://www.openstreetmap.org/copyright\">OpenStreetMap</a> contributors",
       "base": true,
       "max_zoom": 19,
       "min_zoom": 1,
       "name": "OpenStreetMap.Mapnik",
       "options": [
        "attribution",
        "bounds",
        "detect_retina",
        "max_native_zoom",
        "max_zoom",
        "min_native_zoom",
        "min_zoom",
        "no_wrap",
        "tile_size",
        "tms",
        "zoom_offset"
       ],
       "url": "https://tile.openstreetmap.org/{z}/{x}/{y}.png"
      }
     },
     "1d36d16a943e4e2c8b9f44e99066ecb8": {
      "model_module": "jupyter-leaflet",
      "model_module_version": "^0.12.1",
      "model_name": "LeafletLayersControlModel",
      "state": {
       "_model_module_version": "^0.12.1",
       "_view_module_version": "^0.12.1",
       "options": [
        "position"
       ]
      }
     },
     "1d41ee65b30f4d4db7a473e757de33a4": {
      "model_module": "@jupyter-widgets/base",
      "model_module_version": "1.2.0",
      "model_name": "LayoutModel",
      "state": {}
     },
     "1d5a4754eb6549aaa8b1af0a2be73aff": {
      "model_module": "@jupyter-widgets/base",
      "model_module_version": "1.2.0",
      "model_name": "LayoutModel",
      "state": {}
     },
     "1d5edb80c76442f2ba00857adb528dc4": {
      "model_module": "@jupyter-widgets/base",
      "model_module_version": "1.2.0",
      "model_name": "LayoutModel",
      "state": {}
     },
     "1dd13ab6c1324e8e843275ff62207ae6": {
      "model_module": "jupyter-leaflet",
      "model_module_version": "^0.17",
      "model_name": "LeafletAttributionControlModel",
      "state": {
       "_model_module_version": "^0.17",
       "_view_module_version": "^0.17",
       "options": [
        "position",
        "prefix"
       ],
       "position": "bottomright",
       "prefix": "ipyleaflet"
      }
     },
     "1e3f9b2429624d14a01e81ca2e6cf4b7": {
      "model_module": "jupyter-leaflet",
      "model_module_version": "~0.9.2",
      "model_name": "LeafletMapModel",
      "state": {
       "_model_module_version": "~0.9.2",
       "_view_module_version": "~0.9.2",
       "basemap": {
        "attribution": "Map data (c) <a href=\"https://openstreetmap.org\">OpenStreetMap</a> contributors",
        "max_zoom": 19,
        "url": "https://{s}.tile.openstreetmap.org/{z}/{x}/{y}.png"
       },
       "center": [
        48.6,
        8.44
       ],
       "east": 8.773956298828127,
       "interpolation": "bilinear",
       "layers": [
        "IPY_MODEL_6d42b9d2e9944cdaae8d6cbb9fc0425b"
       ],
       "layout": "IPY_MODEL_0ac3b233a77a4d25a0158332cef4d6c9",
       "modisdate": "yesterday",
       "north": 48.78153250728974,
       "options": [
        "attribution_control",
        "basemap",
        "bounce_at_zoom_limits",
        "box_zoom",
        "center",
        "close_popup_on_click",
        "double_click_zoom",
        "dragging",
        "inertia",
        "inertia_deceleration",
        "inertia_max_speed",
        "interpolation",
        "keyboard",
        "keyboard_pan_offset",
        "keyboard_zoom_offset",
        "max_zoom",
        "min_zoom",
        "scroll_wheel_zoom",
        "tap",
        "tap_tolerance",
        "touch_zoom",
        "world_copy_jump",
        "zoom",
        "zoom_animation_threshold",
        "zoom_control",
        "zoom_start"
       ],
       "south": 48.41826449418746,
       "west": 8.105163574218752,
       "window_url": "http://localhost:8888/notebooks/js/ipyleaflet.ipynb",
       "zoom": 10
      }
     },
     "1e4b02d4cf0944f5984870c7ba5140db": {
      "model_module": "jupyter-leaflet",
      "model_module_version": "^0.12.6",
      "model_name": "LeafletAttributionControlModel",
      "state": {
       "_model_module_version": "^0.12.6",
       "_view_module_version": "^0.12.6",
       "options": [
        "position",
        "prefix"
       ],
       "position": "bottomright",
       "prefix": "Leaflet"
      }
     },
     "1e58908dc3264845be9fef2590bd8fbf": {
      "model_module": "@jupyter-widgets/base",
      "model_module_version": "1.2.0",
      "model_name": "LayoutModel",
      "state": {}
     },
     "1e779c60bf7e4c479c6210ca69cc6cde": {
      "model_module": "@jupyter-widgets/base",
      "model_module_version": "1.2.0",
      "model_name": "LayoutModel",
      "state": {}
     },
     "1e9d62104e89452db285db6ab2b87adc": {
      "model_module": "jupyter-leaflet",
      "model_module_version": "^0.12.1",
      "model_name": "LeafletMapStyleModel",
      "state": {
       "_model_module_version": "^0.12.1",
       "cursor": "move"
      }
     },
     "1ea9cf6e734643c8be314224adc05fdf": {
      "model_module": "jupyter-leaflet",
      "model_module_version": "^0.12.1",
      "model_name": "LeafletMapStyleModel",
      "state": {
       "_model_module_version": "^0.12.1",
       "cursor": "move"
      }
     },
     "1ed28a65897e4847ba7e4dd6c11d9bcb": {
      "model_module": "jupyter-leaflet",
      "model_module_version": "^0.17",
      "model_name": "LeafletZoomControlModel",
      "state": {
       "_model_module_version": "^0.17",
       "_view_module_version": "^0.17",
       "options": [
        "position",
        "zoom_in_text",
        "zoom_in_title",
        "zoom_out_text",
        "zoom_out_title"
       ]
      }
     },
     "1ee7b5934ce74031ac29a1b1701f1c6e": {
      "model_module": "jupyter-leaflet",
      "model_module_version": "^0.12.1",
      "model_name": "LeafletAttributionControlModel",
      "state": {
       "_model_module_version": "^0.12.1",
       "_view_module_version": "^0.12.1",
       "options": [
        "position",
        "prefix"
       ],
       "position": "bottomright",
       "prefix": "Leaflet"
      }
     },
     "1eed77d699964e0e96cf9e605781dccf": {
      "model_module": "jupyter-leaflet",
      "model_module_version": "~0.9.2",
      "model_name": "LeafletTileLayerModel",
      "state": {
       "_model_module_version": "~0.9.2",
       "_view_module_version": "~0.9.2",
       "attribution": "Tiles courtesy of <a href=\"http://openstreetmap.se/\" target=\"_blank\">OpenStreetMap Sweden</a> &mdash; Map data &copy; <a href=\"http://www.openstreetmap.org/copyright\">OpenStreetMap</a>",
       "base": true,
       "min_zoom": 1,
       "name": "Hydda.Full",
       "options": [
        "attribution",
        "detect_retina",
        "max_zoom",
        "min_zoom",
        "tile_size"
       ],
       "url": "http://{s}.tile.openstreetmap.se/hydda/full/{z}/{x}/{y}.png"
      }
     },
     "1ef1abf128004ad4a8c60eb3f5415025": {
      "model_module": "jupyter-leaflet",
      "model_module_version": "^0.12.1",
      "model_name": "LeafletZoomControlModel",
      "state": {
       "_model_module_version": "^0.12.1",
       "_view_module_version": "^0.12.1",
       "options": [
        "position",
        "zoom_in_text",
        "zoom_in_title",
        "zoom_out_text",
        "zoom_out_title"
       ]
      }
     },
     "1f358c486af641d49f729534e05ca4a6": {
      "model_module": "@jupyter-widgets/base",
      "model_module_version": "1.2.0",
      "model_name": "LayoutModel",
      "state": {}
     },
     "1f73511aca5f48faaba84e7363ba5f72": {
      "model_module": "jupyter-leaflet",
      "model_module_version": "^0.12.1",
      "model_name": "LeafletMapStyleModel",
      "state": {
       "_model_module_version": "^0.12.1"
      }
     },
     "1fabf56e644a4646abc247517716553e": {
      "model_module": "@jupyter-widgets/controls",
      "model_module_version": "1.5.0",
      "model_name": "DescriptionStyleModel",
      "state": {
       "description_width": ""
      }
     },
     "1fd17447e5e04ee68c2df62e38d42639": {
      "model_module": "jupyter-leaflet",
      "model_module_version": "^0.17",
      "model_name": "LeafletMapStyleModel",
      "state": {
       "_model_module_version": "^0.17"
      }
     },
     "1ff099c48ac149a58a58d31f5f708cbb": {
      "model_module": "jupyter-leaflet",
      "model_module_version": "^0.17",
      "model_name": "LeafletAttributionControlModel",
      "state": {
       "_model_module_version": "^0.17",
       "_view_module_version": "^0.17",
       "options": [
        "position",
        "prefix"
       ],
       "position": "bottomright",
       "prefix": "ipyleaflet"
      }
     },
     "20059dbc650d4f10ac00b3cf84426e68": {
      "model_module": "jupyter-leaflet",
      "model_module_version": "^0.12.1",
      "model_name": "LeafletTileLayerModel",
      "state": {
       "_model_module_version": "^0.12.1",
       "_view_module_version": "^0.12.1",
       "attribution": "",
       "max_native_zoom": 18,
       "max_zoom": 19,
       "min_native_zoom": 0,
       "min_zoom": 1,
       "name": "Countries",
       "options": [
        "attribution",
        "detect_retina",
        "max_native_zoom",
        "max_zoom",
        "min_native_zoom",
        "min_zoom",
        "no_wrap",
        "tile_size",
        "tms"
       ],
       "url": ""
      }
     },
     "201f2dc1dca54187b2daba8068441a01": {
      "model_module": "@jupyter-widgets/base",
      "model_module_version": "1.2.0",
      "model_name": "LayoutModel",
      "state": {}
     },
     "202ec3000efc4b7083fe966cd3276d67": {
      "model_module": "jupyter-leaflet",
      "model_module_version": "^0.17",
      "model_name": "LeafletAttributionControlModel",
      "state": {
       "_model_module_version": "^0.17",
       "_view_module_version": "^0.17",
       "options": [
        "position",
        "prefix"
       ],
       "position": "bottomright",
       "prefix": "ipyleaflet"
      }
     },
     "20397cb536864150bee8effadc2c0fc8": {
      "model_module": "jupyter-leaflet",
      "model_module_version": "^0.12.6",
      "model_name": "LeafletTileLayerModel",
      "state": {
       "_model_module_version": "^0.12.6",
       "_view_module_version": "^0.12.6",
       "base": true,
       "max_native_zoom": 18,
       "max_zoom": 19,
       "min_native_zoom": 0,
       "min_zoom": 1,
       "options": [
        "attribution",
        "detect_retina",
        "max_native_zoom",
        "max_zoom",
        "min_native_zoom",
        "min_zoom",
        "no_wrap",
        "tile_size",
        "tms"
       ]
      }
     },
     "20918eb5b0bd4a449bac144c835afe7d": {
      "model_module": "@jupyter-widgets/base",
      "model_module_version": "1.2.0",
      "model_name": "LayoutModel",
      "state": {}
     },
     "2093c1345e8b441f823f2578f924e393": {
      "model_module": "jupyter-leaflet",
      "model_module_version": "^0.11.2",
      "model_name": "LeafletMapStyleModel",
      "state": {
       "_model_module_version": "^0.11.2",
       "cursor": "move"
      }
     },
     "20b0e6d981264b53ae5392d991da2fde": {
      "model_module": "jupyter-leaflet",
      "model_module_version": "^0.12.1",
      "model_name": "LeafletLayersControlModel",
      "state": {
       "_model_module_version": "^0.12.1",
       "_view_module_version": "^0.12.1",
       "options": [
        "position"
       ]
      }
     },
     "20da4c7914874d7f809d21665687443d": {
      "model_module": "jupyter-leaflet",
      "model_module_version": "^0.12.1",
      "model_name": "LeafletAttributionControlModel",
      "state": {
       "_model_module_version": "^0.12.1",
       "_view_module_version": "^0.12.1",
       "options": [
        "position",
        "prefix"
       ],
       "position": "bottomright",
       "prefix": "Leaflet"
      }
     },
     "2119c3b3c14e4b308d25478587947b80": {
      "model_module": "jupyter-leaflet",
      "model_module_version": "^0.12.1",
      "model_name": "LeafletTileLayerModel",
      "state": {
       "_model_module_version": "^0.12.1",
       "_view_module_version": "^0.12.1",
       "attribution": "&copy; <a href=\"http://www.openstreetmap.org/copyright\">OpenStreetMap</a> &copy; <a href=\"http://cartodb.com/attributions\">CartoDB</a>",
       "base": true,
       "max_native_zoom": 18,
       "max_zoom": 20,
       "min_native_zoom": 0,
       "min_zoom": 1,
       "name": "CartoDB.Positron",
       "options": [
        "attribution",
        "detect_retina",
        "max_native_zoom",
        "max_zoom",
        "min_native_zoom",
        "min_zoom",
        "no_wrap",
        "tile_size",
        "tms"
       ],
       "url": "http://c.basemaps.cartocdn.com/light_all/{z}/{x}/{y}.png"
      }
     },
     "213362cc75f1415ba995dc18121caeb0": {
      "model_module": "jupyter-leaflet",
      "model_module_version": "^0.12.1",
      "model_name": "LeafletAttributionControlModel",
      "state": {
       "_model_module_version": "^0.12.1",
       "_view_module_version": "^0.12.1",
       "options": [
        "position",
        "prefix"
       ],
       "position": "bottomright",
       "prefix": "Leaflet"
      }
     },
     "2133e2219a784e5581227b5f6d4d92cd": {
      "model_module": "@jupyter-widgets/base",
      "model_module_version": "1.2.0",
      "model_name": "LayoutModel",
      "state": {}
     },
     "214e5c48369c4860be8f8bbd5911d60b": {
      "model_module": "@jupyter-widgets/base",
      "model_module_version": "1.2.0",
      "model_name": "LayoutModel",
      "state": {}
     },
     "2150c6fd0c9a4b47abd54edd2b05433b": {
      "model_module": "jupyter-leaflet",
      "model_module_version": "^0.17",
      "model_name": "LeafletZoomControlModel",
      "state": {
       "_model_module_version": "^0.17",
       "_view_module_version": "^0.17",
       "options": [
        "position",
        "zoom_in_text",
        "zoom_in_title",
        "zoom_out_text",
        "zoom_out_title"
       ]
      }
     },
     "2177edcfbc414da69030b88274c6c08f": {
      "model_module": "jupyter-leaflet",
      "model_module_version": "^0.17",
      "model_name": "LeafletAttributionControlModel",
      "state": {
       "_model_module_version": "^0.17",
       "_view_module_version": "^0.17",
       "options": [
        "position",
        "prefix"
       ],
       "position": "bottomright",
       "prefix": "ipyleaflet"
      }
     },
     "21b1993c333a437c81326f2e4bd15a00": {
      "model_module": "jupyter-leaflet",
      "model_module_version": "^0.17",
      "model_name": "LeafletAttributionControlModel",
      "state": {
       "_model_module_version": "^0.17",
       "_view_module_version": "^0.17",
       "options": [
        "position",
        "prefix"
       ],
       "position": "bottomright",
       "prefix": "ipyleaflet"
      }
     },
     "21cc6ea5d49a4da2bce1637142a53136": {
      "model_module": "jupyter-leaflet",
      "model_module_version": "^0.17",
      "model_name": "LeafletMapModel",
      "state": {
       "_model_module_version": "^0.17",
       "_view_module_version": "^0.17",
       "bottom": 3356,
       "center": [
        38.128,
        2.588
       ],
       "controls": [
        "IPY_MODEL_d8c3b7986fb44ed58749d74c7b4a612d",
        "IPY_MODEL_bea68f1a402f4e1fa418e35a934f1031"
       ],
       "default_style": "IPY_MODEL_600604e3566f45f2b293aab75e88eca8",
       "dragging_style": "IPY_MODEL_01409081608748f9ba531527726f5edf",
       "east": 23.8623046875,
       "fullscreen": false,
       "interpolation": "bilinear",
       "layers": [
        "IPY_MODEL_6fc9b1fc63004e2c9448c00b4eaf8341"
       ],
       "layout": "IPY_MODEL_f13531bcae24450fa7612820a57d4a8e",
       "left": 3670,
       "modisdate": "2023-07-11",
       "north": 44.715513732021336,
       "options": [
        "bounce_at_zoom_limits",
        "box_zoom",
        "center",
        "close_popup_on_click",
        "double_click_zoom",
        "dragging",
        "fullscreen",
        "inertia",
        "inertia_deceleration",
        "inertia_max_speed",
        "interpolation",
        "keyboard",
        "keyboard_pan_offset",
        "keyboard_zoom_offset",
        "max_zoom",
        "min_zoom",
        "prefer_canvas",
        "scroll_wheel_zoom",
        "tap",
        "tap_tolerance",
        "touch_zoom",
        "world_copy_jump",
        "zoom",
        "zoom_animation_threshold",
        "zoom_delta",
        "zoom_snap"
       ],
       "prefer_canvas": false,
       "right": 4639,
       "south": 30.90222470517144,
       "style": "IPY_MODEL_bd15255bb17041489d6e42bc44d7a1ca",
       "top": 2956,
       "west": -18.720703125000004,
       "window_url": "http://localhost:8888/notebooks/js/ipyleaflet.ipynb#",
       "zoom": 5
      }
     },
     "21d8c5f0dde04cdf9570e67079622de2": {
      "model_module": "jupyter-leaflet",
      "model_module_version": "^0.17",
      "model_name": "LeafletTileLayerModel",
      "state": {
       "_model_module_version": "^0.17",
       "_view_module_version": "^0.17",
       "attribution": "Map tiles by <a href=\"https://labs.strava.com/heatmap\">Strava 2021</a>",
       "base": true,
       "max_zoom": 15,
       "min_zoom": 1,
       "name": "Strava.All",
       "options": [
        "attribution",
        "bounds",
        "detect_retina",
        "max_native_zoom",
        "max_zoom",
        "min_native_zoom",
        "min_zoom",
        "no_wrap",
        "tile_size",
        "tms",
        "zoom_offset"
       ],
       "url": "https://heatmap-external-a.strava.com/tiles/all/hot/{z}/{x}/{y}.png"
      }
     },
     "21e85d2ced9349e6adec78ccd93f261f": {
      "model_module": "jupyter-leaflet",
      "model_module_version": "^0.12.1",
      "model_name": "LeafletZoomControlModel",
      "state": {
       "_model_module_version": "^0.12.1",
       "_view_module_version": "^0.12.1",
       "options": [
        "position",
        "zoom_in_text",
        "zoom_in_title",
        "zoom_out_text",
        "zoom_out_title"
       ]
      }
     },
     "224aaab308e746bdb61c430bdb1947d3": {
      "model_module": "@jupyter-widgets/controls",
      "model_module_version": "1.5.0",
      "model_name": "HBoxModel",
      "state": {
       "children": [
        "IPY_MODEL_2a0f6d89c0844b93a69ef9742d7acb6b",
        "IPY_MODEL_7c60d7251c784ef28dabf038b4a583c2"
       ],
       "layout": "IPY_MODEL_d2726321e75b49b8910f088581df0653"
      }
     },
     "2262f75847da47d5ab4effb19ac5f1b0": {
      "model_module": "jupyter-leaflet",
      "model_module_version": "^0.17",
      "model_name": "LeafletMapStyleModel",
      "state": {
       "_model_module_version": "^0.17",
       "cursor": "move"
      }
     },
     "22ae830e010f435b9ce7fae8038a4f5a": {
      "model_module": "jupyter-leaflet",
      "model_module_version": "^0.17",
      "model_name": "LeafletMapStyleModel",
      "state": {
       "_model_module_version": "^0.17",
       "cursor": "move"
      }
     },
     "22b3621404c44010aca8defd9454a022": {
      "model_module": "@jupyter-widgets/controls",
      "model_module_version": "1.5.0",
      "model_name": "SelectionSliderModel",
      "state": {
       "_options_labels": [
        "13:00",
        "13:30",
        "14:00",
        "14:30",
        "15:00",
        "15:30",
        "16:00",
        "16:30"
       ],
       "description": "Time:",
       "index": 0,
       "layout": "IPY_MODEL_35428465e67749d1b855f7d6b1049fdb",
       "style": "IPY_MODEL_fa1147debe6b479f951887fc59f434a4"
      }
     },
     "22f4532e82704104ae82f27207df5823": {
      "model_module": "jupyter-leaflet",
      "model_module_version": "^0.12.6",
      "model_name": "LeafletMapStyleModel",
      "state": {
       "_model_module_version": "^0.12.6"
      }
     },
     "23263f6ec2aa4bcdbbd2ad746566caeb": {
      "model_module": "jupyter-leaflet",
      "model_module_version": "~0.9.2",
      "model_name": "LeafletMapModel",
      "state": {
       "_model_module_version": "~0.9.2",
       "_view_module_version": "~0.9.2",
       "basemap": {
        "attribution": "Map data (c) <a href=\"https://openstreetmap.org\">OpenStreetMap</a> contributors",
        "max_zoom": 19,
        "url": "https://{s}.tile.openstreetmap.org/{z}/{x}/{y}.png"
       },
       "center": [
        48.1,
        7.9
       ],
       "east": 8.234252929687502,
       "interpolation": "bilinear",
       "layers": [
        "IPY_MODEL_4aafc4a9dd9d469ba9de94b718407ad9"
       ],
       "layout": "IPY_MODEL_c42c2c4a603443d7a9a02958cd5f6820",
       "modisdate": "yesterday",
       "north": 48.28319289548349,
       "options": [
        "attribution_control",
        "basemap",
        "bounce_at_zoom_limits",
        "box_zoom",
        "center",
        "close_popup_on_click",
        "double_click_zoom",
        "dragging",
        "inertia",
        "inertia_deceleration",
        "inertia_max_speed",
        "interpolation",
        "keyboard",
        "keyboard_pan_offset",
        "keyboard_zoom_offset",
        "max_zoom",
        "min_zoom",
        "scroll_wheel_zoom",
        "tap",
        "tap_tolerance",
        "touch_zoom",
        "world_copy_jump",
        "zoom",
        "zoom_animation_threshold",
        "zoom_control",
        "zoom_start"
       ],
       "south": 47.91634204016118,
       "west": 7.565460205078126,
       "window_url": "http://localhost:8888/notebooks/js/ipyleaflet.ipynb",
       "zoom": 10
      }
     },
     "237613f6a8fe42619456bca2298c14e2": {
      "model_module": "jupyter-leaflet",
      "model_module_version": "^0.17",
      "model_name": "LeafletAttributionControlModel",
      "state": {
       "_model_module_version": "^0.17",
       "_view_module_version": "^0.17",
       "options": [
        "position",
        "prefix"
       ],
       "position": "bottomright",
       "prefix": "ipyleaflet"
      }
     },
     "238fb18a45b744bea5470f7d30891649": {
      "model_module": "jupyter-leaflet",
      "model_module_version": "^0.17",
      "model_name": "LeafletMapStyleModel",
      "state": {
       "_model_module_version": "^0.17",
       "cursor": "move"
      }
     },
     "23a19256503d405d88c5848ef214026e": {
      "model_module": "jupyter-leaflet",
      "model_module_version": "^0.17",
      "model_name": "LeafletMapStyleModel",
      "state": {
       "_model_module_version": "^0.17"
      }
     },
     "2417b1c34a0742a581514da898b9ff5b": {
      "model_module": "jupyter-leaflet",
      "model_module_version": "^0.12.1",
      "model_name": "LeafletTileLayerModel",
      "state": {
       "_model_module_version": "^0.12.1",
       "_view_module_version": "^0.12.1",
       "attribution": "&copy; <a href=\"http://www.openstreetmap.org/copyright\">OpenStreetMap</a> &copy; <a href=\"http://cartodb.com/attributions\">CartoDB</a>",
       "base": true,
       "max_native_zoom": 18,
       "max_zoom": 20,
       "min_native_zoom": 0,
       "min_zoom": 1,
       "name": "CartoDB.Positron",
       "options": [
        "attribution",
        "detect_retina",
        "max_native_zoom",
        "max_zoom",
        "min_native_zoom",
        "min_zoom",
        "no_wrap",
        "tile_size",
        "tms"
       ],
       "url": "http://c.basemaps.cartocdn.com/light_all/{z}/{x}/{y}.png"
      }
     },
     "24195b94e39c46e2a2438f33653e2575": {
      "model_module": "@jupyter-widgets/base",
      "model_module_version": "1.2.0",
      "model_name": "LayoutModel",
      "state": {}
     },
     "2479f802613344e98a6f95081dd4c45d": {
      "model_module": "jupyter-leaflet",
      "model_module_version": "^0.11.2",
      "model_name": "LeafletTileLayerModel",
      "state": {
       "_model_module_version": "^0.11.2",
       "_view_module_version": "^0.11.2",
       "attribution": "Map tiles by <a href=\"https://labs.strava.com/heatmap\">Strava 2017</a>",
       "max_native_zoom": 18,
       "max_zoom": 15,
       "min_native_zoom": 0,
       "min_zoom": 1,
       "name": "Strava.All",
       "options": [
        "attribution",
        "detect_retina",
        "max_native_zoom",
        "max_zoom",
        "min_native_zoom",
        "min_zoom",
        "no_wrap",
        "tile_size"
       ],
       "url": "https://heatmap-external-a.strava.com//tiles/all/hot/{z}/{x}/{y}.png?v=19"
      }
     },
     "24bb3a1618564a588ab5802981aa0bf3": {
      "model_module": "@jupyter-widgets/base",
      "model_module_version": "1.2.0",
      "model_name": "LayoutModel",
      "state": {}
     },
     "24cf4b76c7194054bb4a339c2b4ba90f": {
      "model_module": "@jupyter-widgets/controls",
      "model_module_version": "1.5.0",
      "model_name": "DescriptionStyleModel",
      "state": {
       "description_width": ""
      }
     },
     "252690700acd47fb97792768e8627527": {
      "model_module": "jupyter-leaflet",
      "model_module_version": "^0.17",
      "model_name": "LeafletAttributionControlModel",
      "state": {
       "_model_module_version": "^0.17",
       "_view_module_version": "^0.17",
       "options": [
        "position",
        "prefix"
       ],
       "position": "bottomright",
       "prefix": "ipyleaflet"
      }
     },
     "25c18ce6ef3e4d2ca1202acbae8ee45a": {
      "model_module": "jupyter-leaflet",
      "model_module_version": "^0.17",
      "model_name": "LeafletMapModel",
      "state": {
       "_model_module_version": "^0.17",
       "_view_module_version": "^0.17",
       "bottom": 344104,
       "center": [
        52.5162,
        13.3777
       ],
       "controls": [
        "IPY_MODEL_dee977ea0dae4344acf028be24aedc74",
        "IPY_MODEL_2177edcfbc414da69030b88274c6c08f"
       ],
       "default_style": "IPY_MODEL_80a3c0cc59ba42b7b74b8cd3b2954336",
       "dragging_style": "IPY_MODEL_e44f0769135745f3b8ae0a65f339adc8",
       "east": 13.544082641601564,
       "fullscreen": false,
       "interpolation": "bilinear",
       "layers": [
        "IPY_MODEL_ca6c593a944242c29e705cebf1768163"
       ],
       "layout": "IPY_MODEL_b828794f83034aaab25399410f77a259",
       "left": 562769,
       "modisdate": "2023-07-11",
       "north": 52.55798590427374,
       "options": [
        "bounce_at_zoom_limits",
        "box_zoom",
        "center",
        "close_popup_on_click",
        "double_click_zoom",
        "dragging",
        "fullscreen",
        "inertia",
        "inertia_deceleration",
        "inertia_max_speed",
        "interpolation",
        "keyboard",
        "keyboard_pan_offset",
        "keyboard_zoom_offset",
        "max_zoom",
        "min_zoom",
        "prefer_canvas",
        "scroll_wheel_zoom",
        "tap",
        "tap_tolerance",
        "touch_zoom",
        "world_copy_jump",
        "zoom",
        "zoom_animation_threshold",
        "zoom_delta",
        "zoom_snap"
       ],
       "prefer_canvas": false,
       "right": 563738,
       "south": 52.47441608702583,
       "style": "IPY_MODEL_dc515fc1831246dbb09416497366f79e",
       "top": 343704,
       "west": 13.211402893066408,
       "window_url": "http://localhost:8888/notebooks/js/ipyleaflet.ipynb#"
      }
     },
     "26062efd91964eac96c44b8c36e47620": {
      "model_module": "@jupyter-widgets/controls",
      "model_module_version": "1.5.0",
      "model_name": "HBoxModel",
      "state": {
       "children": [
        "IPY_MODEL_2a0f6d89c0844b93a69ef9742d7acb6b",
        "IPY_MODEL_4961ce892d9d47b29cba21e4fa250ca4"
       ],
       "layout": "IPY_MODEL_8e8bca74dd764b0590170a77e4c2fca2"
      }
     },
     "2616c92d1f6c4acfa98becc68c7ba863": {
      "model_module": "jupyter-leaflet",
      "model_module_version": "^0.12.1",
      "model_name": "LeafletMapStyleModel",
      "state": {
       "_model_module_version": "^0.12.1"
      }
     },
     "263e9695bf6842039d0346937dcfad9b": {
      "model_module": "@jupyter-widgets/controls",
      "model_module_version": "1.5.0",
      "model_name": "SelectionSliderModel",
      "state": {
       "_options_labels": [
        "13:00",
        "13:30",
        "14:00",
        "14:30",
        "15:00",
        "15:30",
        "16:00",
        "16:30"
       ],
       "description": "Time:",
       "index": 0,
       "layout": "IPY_MODEL_03b53130e0e84026ac5a160f7f52acf7",
       "style": "IPY_MODEL_6ded955efddc480d92e5bc2c3c395411"
      }
     },
     "266ddb908e2e4e26ae3917939d2740a0": {
      "model_module": "jupyter-leaflet",
      "model_module_version": "^0.12.1",
      "model_name": "LeafletMapModel",
      "state": {
       "_model_module_version": "^0.12.1",
       "_view_module_version": "^0.12.1",
       "center": [
        48.00094957553023,
        7.995300292968751
       ],
       "controls": [
        "IPY_MODEL_84b5d9617f9347f8b4c716c33e1d1519",
        "IPY_MODEL_0e95604e06db46e4904ac48bdb67f562",
        "IPY_MODEL_7447228212634c1ca84112571ad4ca5c"
       ],
       "default_style": "IPY_MODEL_322190f2745a423ba338ff02a1cafcce",
       "dragging_style": "IPY_MODEL_7acb65a5c440458eb28579ab2b09c9f6",
       "east": 10.634765625,
       "fullscreen": false,
       "interpolation": "bilinear",
       "layers": [
        "IPY_MODEL_700833d0a40f46ed974c76579c8f3435",
        "IPY_MODEL_7fca7adf16064d84ade0ab9c599dee09",
        "IPY_MODEL_20059dbc650d4f10ac00b3cf84426e68"
       ],
       "layout": "IPY_MODEL_7d3b6e7ebbc540fbb69e120fcfa07352",
       "modisdate": "yesterday",
       "north": 48.73083222613518,
       "options": [
        "bounce_at_zoom_limits",
        "box_zoom",
        "center",
        "close_popup_on_click",
        "double_click_zoom",
        "dragging",
        "fullscreen",
        "inertia",
        "inertia_deceleration",
        "inertia_max_speed",
        "interpolation",
        "keyboard",
        "keyboard_pan_offset",
        "keyboard_zoom_offset",
        "max_zoom",
        "min_zoom",
        "scroll_wheel_zoom",
        "tap",
        "tap_tolerance",
        "touch_zoom",
        "world_copy_jump",
        "zoom",
        "zoom_animation_threshold",
        "zoom_start"
       ],
       "south": 47.260592193424706,
       "style": "IPY_MODEL_322190f2745a423ba338ff02a1cafcce",
       "west": 5.366821289062501,
       "window_url": "http://localhost:8888/notebooks/js/ipyleaflet.ipynb",
       "zoom": 8
      }
     },
     "26c8cccfc7024475b110da85655c7c03": {
      "model_module": "@jupyter-widgets/base",
      "model_module_version": "1.2.0",
      "model_name": "LayoutModel",
      "state": {}
     },
     "26e6aba732264b63823f1e8c8a019f95": {
      "model_module": "jupyter-leaflet",
      "model_module_version": "^0.12.6",
      "model_name": "LeafletMapStyleModel",
      "state": {
       "_model_module_version": "^0.12.6",
       "cursor": "move"
      }
     },
     "26e76c79d2ab486488bbe6a241a0bd0d": {
      "model_module": "@jupyter-widgets/base",
      "model_module_version": "1.2.0",
      "model_name": "LayoutModel",
      "state": {}
     },
     "273324adb29c4c1797448ca137a67c30": {
      "model_module": "jupyter-leaflet",
      "model_module_version": "^0.17",
      "model_name": "LeafletMapStyleModel",
      "state": {
       "_model_module_version": "^0.17",
       "cursor": "move"
      }
     },
     "276d80fd6afa4b68ad1403d235d3ee29": {
      "model_module": "@jupyter-widgets/controls",
      "model_module_version": "1.5.0",
      "model_name": "DescriptionStyleModel",
      "state": {
       "description_width": ""
      }
     },
     "27b70a9a4f5f4eefbf97f965afbbf52c": {
      "model_module": "jupyter-leaflet",
      "model_module_version": "^0.17",
      "model_name": "LeafletAttributionControlModel",
      "state": {
       "_model_module_version": "^0.17",
       "_view_module_version": "^0.17",
       "options": [
        "position",
        "prefix"
       ],
       "position": "bottomright",
       "prefix": "ipyleaflet"
      }
     },
     "27ebde1f01804f3092a5b9e5a3a3b89e": {
      "model_module": "jupyter-leaflet",
      "model_module_version": "^0.12.1",
      "model_name": "LeafletMapStyleModel",
      "state": {
       "_model_module_version": "^0.12.1"
      }
     },
     "281bfd02449e4183b9b2d8e37ad7e692": {
      "model_module": "jupyter-leaflet",
      "model_module_version": "^0.17",
      "model_name": "LeafletTileLayerModel",
      "state": {
       "_model_module_version": "^0.17",
       "_view_module_version": "^0.17",
       "attribution": "&copy; <a href=\"https://www.openstreetmap.org/copyright\">OpenStreetMap</a> contributors",
       "base": true,
       "max_zoom": 19,
       "min_zoom": 1,
       "name": "OpenStreetMap.Mapnik",
       "options": [
        "attribution",
        "bounds",
        "detect_retina",
        "max_native_zoom",
        "max_zoom",
        "min_native_zoom",
        "min_zoom",
        "no_wrap",
        "tile_size",
        "tms",
        "zoom_offset"
       ],
       "url": "https://tile.openstreetmap.org/{z}/{x}/{y}.png"
      }
     },
     "28349ccad7494fd3849631d9e7bb4e33": {
      "model_module": "jupyter-leaflet",
      "model_module_version": "^0.17",
      "model_name": "LeafletAttributionControlModel",
      "state": {
       "_model_module_version": "^0.17",
       "_view_module_version": "^0.17",
       "options": [
        "position",
        "prefix"
       ],
       "position": "bottomright",
       "prefix": "ipyleaflet"
      }
     },
     "28d1f71e60c24055a9a4f0e5db0ba96c": {
      "model_module": "@jupyter-widgets/controls",
      "model_module_version": "1.5.0",
      "model_name": "IntSliderModel",
      "state": {
       "description": "Zoom level:",
       "layout": "IPY_MODEL_a13c2e18edbd47cdb127fdfb9997f85e",
       "max": 19,
       "style": "IPY_MODEL_2da6961c442e481383b7023e7b5319d1",
       "value": 9
      }
     },
     "28f7c3d6d7264f4fabe300a2ce5e8f86": {
      "model_module": "jupyter-leaflet",
      "model_module_version": "^0.12.1",
      "model_name": "LeafletMapStyleModel",
      "state": {
       "_model_module_version": "^0.12.1"
      }
     },
     "2936a2cd99f74def9d15e9fc3306eb16": {
      "model_module": "jupyter-leaflet",
      "model_module_version": "^0.17",
      "model_name": "LeafletAttributionControlModel",
      "state": {
       "_model_module_version": "^0.17",
       "_view_module_version": "^0.17",
       "options": [
        "position",
        "prefix"
       ],
       "position": "bottomright",
       "prefix": "ipyleaflet"
      }
     },
     "29af3dd8117747ab98250f6755017b85": {
      "model_module": "jupyter-leaflet",
      "model_module_version": "^0.12.1",
      "model_name": "LeafletMapStyleModel",
      "state": {
       "_model_module_version": "^0.12.1"
      }
     },
     "2a0f6d89c0844b93a69ef9742d7acb6b": {
      "model_module": "jupyter-leaflet",
      "model_module_version": "~0.9.2",
      "model_name": "LeafletMapModel",
      "state": {
       "_model_module_version": "~0.9.2",
       "_view_module_version": "~0.9.2",
       "basemap": {
        "attribution": "Tiles courtesy of <a href=\"http://openstreetmap.se/\" target=\"_blank\">OpenStreetMap Sweden</a> &mdash; Map data &copy; <a href=\"http://www.openstreetmap.org/copyright\">OpenStreetMap</a>",
        "max_zoom": 18,
        "name": "Hydda.Full",
        "url": "http://{s}.tile.openstreetmap.se/hydda/full/{z}/{x}/{y}.png"
       },
       "center": [
        48,
        8
       ],
       "controls": [
        "IPY_MODEL_7e52235ac4fc459fa9fae2f87a0f842c"
       ],
       "east": 10.689697265625002,
       "interpolation": "bilinear",
       "layers": [
        "IPY_MODEL_1eed77d699964e0e96cf9e605781dccf",
        "IPY_MODEL_3c6eee3cd4ef4d9d933e362001441ab7",
        "IPY_MODEL_5b31696a5483464f9379646cb1c1fd35"
       ],
       "layout": "IPY_MODEL_afa45931452b40b991d8e72acd169add",
       "modisdate": "yesterday",
       "north": 48.73083222613518,
       "options": [
        "attribution_control",
        "basemap",
        "bounce_at_zoom_limits",
        "box_zoom",
        "center",
        "close_popup_on_click",
        "double_click_zoom",
        "dragging",
        "inertia",
        "inertia_deceleration",
        "inertia_max_speed",
        "interpolation",
        "keyboard",
        "keyboard_pan_offset",
        "keyboard_zoom_offset",
        "max_zoom",
        "min_zoom",
        "scroll_wheel_zoom",
        "tap",
        "tap_tolerance",
        "touch_zoom",
        "world_copy_jump",
        "zoom",
        "zoom_animation_threshold",
        "zoom_control",
        "zoom_start"
       ],
       "south": 47.260592193424706,
       "west": 5.311889648437501,
       "window_url": "http://localhost:8888/notebooks/js/ipyleaflet.ipynb",
       "zoom": 8
      }
     },
     "2a2e2a62b96344d0a0a6972cef5a1166": {
      "model_module": "@jupyter-widgets/controls",
      "model_module_version": "1.5.0",
      "model_name": "LabelModel",
      "state": {
       "layout": "IPY_MODEL_bebe4e36c0fb442fb71ab3b173338eff",
       "style": "IPY_MODEL_1fabf56e644a4646abc247517716553e",
       "value": "[52.53453042537302, 13.422587961996292]"
      }
     },
     "2a88a5b963c44613974a2810c1c16413": {
      "model_module": "jupyter-leaflet",
      "model_module_version": "^0.12.1",
      "model_name": "LeafletZoomControlModel",
      "state": {
       "_model_module_version": "^0.12.1",
       "_view_module_version": "^0.12.1",
       "options": [
        "position",
        "zoom_in_text",
        "zoom_in_title",
        "zoom_out_text",
        "zoom_out_title"
       ]
      }
     },
     "2abb5cd4ab8f43d38a5bb8c0a8874319": {
      "model_module": "jupyter-leaflet",
      "model_module_version": "^0.17",
      "model_name": "LeafletMapStyleModel",
      "state": {
       "_model_module_version": "^0.17"
      }
     },
     "2b1d2a58b8794df3820fb46f40317474": {
      "model_module": "jupyter-leaflet",
      "model_module_version": "^0.17",
      "model_name": "LeafletTileLayerModel",
      "state": {
       "_model_module_version": "^0.17",
       "_view_module_version": "^0.17",
       "attribution": "Map tiles by <a href=\"https://labs.strava.com/heatmap\">Strava 2021</a>",
       "base": true,
       "max_zoom": 15,
       "min_zoom": 1,
       "name": "Strava.All",
       "options": [
        "attribution",
        "bounds",
        "detect_retina",
        "max_native_zoom",
        "max_zoom",
        "min_native_zoom",
        "min_zoom",
        "no_wrap",
        "tile_size",
        "tms",
        "zoom_offset"
       ],
       "url": "https://heatmap-external-a.strava.com/tiles/all/hot/{z}/{x}/{y}.png"
      }
     },
     "2bb2e344ee1f4582b792afc7cbc36c50": {
      "model_module": "@jupyter-widgets/base",
      "model_module_version": "1.2.0",
      "model_name": "LayoutModel",
      "state": {}
     },
     "2bfa797007174187b7c416c364d5cd23": {
      "model_module": "jupyter-leaflet",
      "model_module_version": "^0.17",
      "model_name": "LeafletMapStyleModel",
      "state": {
       "_model_module_version": "^0.17"
      }
     },
     "2bfaf8a5ef2a4dca9bfab1a4903d21e9": {
      "model_module": "@jupyter-widgets/controls",
      "model_module_version": "1.5.0",
      "model_name": "DescriptionStyleModel",
      "state": {
       "description_width": ""
      }
     },
     "2c00067cae484938a15425ec0d5644c3": {
      "model_module": "jupyter-leaflet",
      "model_module_version": "^0.17",
      "model_name": "LeafletAttributionControlModel",
      "state": {
       "_model_module_version": "^0.17",
       "_view_module_version": "^0.17",
       "options": [
        "position",
        "prefix"
       ],
       "position": "bottomright",
       "prefix": "ipyleaflet"
      }
     },
     "2c16c0a14e8f4fccae8d2cc4144bd0d8": {
      "model_module": "jupyter-leaflet",
      "model_module_version": "~0.9.2",
      "model_name": "LeafletMapModel",
      "state": {
       "_model_module_version": "~0.9.2",
       "_view_module_version": "~0.9.2",
       "basemap": {
        "attribution": "Tiles courtesy of <a href=\"http://openstreetmap.se/\" target=\"_blank\">OpenStreetMap Sweden</a> &mdash; Map data &copy; <a href=\"http://www.openstreetmap.org/copyright\">OpenStreetMap</a>",
        "max_zoom": 18,
        "name": "Hydda.Full",
        "url": "http://{s}.tile.openstreetmap.se/hydda/full/{z}/{x}/{y}.png"
       },
       "center": [
        62,
        10
       ],
       "east": 12.689208984375002,
       "interpolation": "bilinear",
       "layers": [
        "IPY_MODEL_eb81a40952f84c0c82965b08ba83a2a1"
       ],
       "layout": "IPY_MODEL_6fb8b06c1200464786ec3af93f307e48",
       "modisdate": "yesterday",
       "north": 62.51231793838694,
       "options": [
        "attribution_control",
        "basemap",
        "bounce_at_zoom_limits",
        "box_zoom",
        "center",
        "close_popup_on_click",
        "double_click_zoom",
        "dragging",
        "inertia",
        "inertia_deceleration",
        "inertia_max_speed",
        "interpolation",
        "keyboard",
        "keyboard_pan_offset",
        "keyboard_zoom_offset",
        "max_zoom",
        "min_zoom",
        "scroll_wheel_zoom",
        "tap",
        "tap_tolerance",
        "touch_zoom",
        "world_copy_jump",
        "zoom",
        "zoom_animation_threshold",
        "zoom_control",
        "zoom_start"
       ],
       "south": 61.48075950007598,
       "west": 7.3114013671875,
       "window_url": "http://localhost:8888/notebooks/js/ipyleaflet.ipynb",
       "zoom": 8
      }
     },
     "2c254a300a864e8689002e8012dafe6e": {
      "model_module": "@jupyter-widgets/controls",
      "model_module_version": "1.5.0",
      "model_name": "DescriptionStyleModel",
      "state": {
       "description_width": ""
      }
     },
     "2c3668f5bf4f4bbda563545cfa175dd7": {
      "model_module": "jupyter-leaflet",
      "model_module_version": "^0.17",
      "model_name": "LeafletMapStyleModel",
      "state": {
       "_model_module_version": "^0.17",
       "cursor": "move"
      }
     },
     "2c43e839fcc14517b8291091333d92d9": {
      "model_module": "@jupyter-widgets/base",
      "model_module_version": "1.2.0",
      "model_name": "LayoutModel",
      "state": {}
     },
     "2c5d546020804d42a881b2a764c5ae99": {
      "model_module": "jupyter-leaflet",
      "model_module_version": "^0.17",
      "model_name": "LeafletMapStyleModel",
      "state": {
       "_model_module_version": "^0.17"
      }
     },
     "2c62c0d598fc4f46bd68858495877c87": {
      "model_module": "jupyter-leaflet",
      "model_module_version": "~0.9.2",
      "model_name": "LeafletTileLayerModel",
      "state": {
       "_model_module_version": "~0.9.2",
       "_view_module_version": "~0.9.2",
       "base": true,
       "max_zoom": 19,
       "min_zoom": 1,
       "options": [
        "attribution",
        "detect_retina",
        "max_zoom",
        "min_zoom",
        "tile_size"
       ]
      }
     },
     "2c894ec33f334a47a22e4cc6deb075e0": {
      "model_module": "jupyter-leaflet",
      "model_module_version": "^0.17",
      "model_name": "LeafletZoomControlModel",
      "state": {
       "_model_module_version": "^0.17",
       "_view_module_version": "^0.17",
       "options": [
        "position",
        "zoom_in_text",
        "zoom_in_title",
        "zoom_out_text",
        "zoom_out_title"
       ]
      }
     },
     "2c8ee408404744db88e72b9202bda5f1": {
      "model_module": "jupyter-leaflet",
      "model_module_version": "~0.9.2",
      "model_name": "LeafletTileLayerModel",
      "state": {
       "_model_module_version": "~0.9.2",
       "_view_module_version": "~0.9.2",
       "attribution": "",
       "max_zoom": 19,
       "min_zoom": 1,
       "name": "Countries",
       "options": [
        "attribution",
        "detect_retina",
        "max_zoom",
        "min_zoom",
        "tile_size"
       ],
       "url": ""
      }
     },
     "2c9a390b26464066807062b7c4685c38": {
      "model_module": "@jupyter-widgets/base",
      "model_module_version": "1.2.0",
      "model_name": "LayoutModel",
      "state": {}
     },
     "2c9ff9f97cf844569be674ca7ac4e9c9": {
      "model_module": "jupyter-leaflet",
      "model_module_version": "^0.12.1",
      "model_name": "LeafletMapStyleModel",
      "state": {
       "_model_module_version": "^0.12.1"
      }
     },
     "2cd1f4faa618452c98da7d3d455782de": {
      "model_module": "@jupyter-widgets/controls",
      "model_module_version": "1.5.0",
      "model_name": "LabelModel",
      "state": {
       "layout": "IPY_MODEL_4d5bd01fb7674e708145a4b2942efc7b",
       "style": "IPY_MODEL_309fbf8836ed4670bd1d3c316b836d6f",
       "value": "[52.1805003055165, 12.047882150925735]"
      }
     },
     "2cf124882cf04238b076f7608ad1d7bb": {
      "model_module": "jupyter-leaflet",
      "model_module_version": "^0.12.1",
      "model_name": "LeafletAttributionControlModel",
      "state": {
       "_model_module_version": "^0.12.1",
       "_view_module_version": "^0.12.1",
       "options": [
        "position",
        "prefix"
       ],
       "position": "bottomright",
       "prefix": "Leaflet"
      }
     },
     "2cfda4e19e344a719b60b372ed11fb04": {
      "model_module": "jupyter-leaflet",
      "model_module_version": "^0.12.1",
      "model_name": "LeafletMapModel",
      "state": {
       "_model_module_version": "^0.12.1",
       "_view_module_version": "^0.12.1",
       "center": [
        48,
        7.9
       ],
       "controls": [
        "IPY_MODEL_c219e0187806487b9c02a9cd31efbf6e",
        "IPY_MODEL_788608422c4f4137ae626ff060368632"
       ],
       "default_style": "IPY_MODEL_04e47dd81fe54a8a8fa2010acfa0ee30",
       "dragging_style": "IPY_MODEL_2ff83724aa5f47ca8a7a51d7987c8b16",
       "east": 8.228759765625002,
       "fullscreen": false,
       "interpolation": "bilinear",
       "layers": [
        "IPY_MODEL_6d180393264540c195ea7997c10c9082"
       ],
       "layout": "IPY_MODEL_cd3ed9e4dc294a6e92873c7def90c076",
       "modisdate": "yesterday",
       "north": 48.18348549519126,
       "options": [
        "bounce_at_zoom_limits",
        "box_zoom",
        "center",
        "close_popup_on_click",
        "double_click_zoom",
        "dragging",
        "fullscreen",
        "inertia",
        "inertia_deceleration",
        "inertia_max_speed",
        "interpolation",
        "keyboard",
        "keyboard_pan_offset",
        "keyboard_zoom_offset",
        "max_zoom",
        "min_zoom",
        "scroll_wheel_zoom",
        "tap",
        "tap_tolerance",
        "touch_zoom",
        "world_copy_jump",
        "zoom",
        "zoom_animation_threshold",
        "zoom_start"
       ],
       "south": 47.81592114659014,
       "style": "IPY_MODEL_f193902eb3544899bfd228bdc1bf3bdc",
       "west": 7.572326660156251,
       "window_url": "http://localhost:8888/notebooks/js/ipyleaflet.ipynb",
       "zoom": 10
      }
     },
     "2da6961c442e481383b7023e7b5319d1": {
      "model_module": "@jupyter-widgets/controls",
      "model_module_version": "1.5.0",
      "model_name": "SliderStyleModel",
      "state": {
       "description_width": ""
      }
     },
     "2dbf6f8544d3421faec0931623362739": {
      "model_module": "@jupyter-widgets/base",
      "model_module_version": "1.2.0",
      "model_name": "LayoutModel",
      "state": {}
     },
     "2ddc04ab798047639d5e3bb0aa649c18": {
      "model_module": "@jupyter-widgets/controls",
      "model_module_version": "1.5.0",
      "model_name": "DescriptionStyleModel",
      "state": {
       "description_width": ""
      }
     },
     "2e08e2a3cc774b1d83f0635f43080959": {
      "model_module": "jupyter-leaflet",
      "model_module_version": "^0.17",
      "model_name": "LeafletMapStyleModel",
      "state": {
       "_model_module_version": "^0.17"
      }
     },
     "2e78749e587744949c64bf547b6a8f19": {
      "model_module": "jupyter-leaflet",
      "model_module_version": "^0.17",
      "model_name": "LeafletMapModel",
      "state": {
       "_model_module_version": "^0.17",
       "_view_module_version": "^0.17",
       "bottom": 3356,
       "center": [
        38.128,
        2.588
       ],
       "controls": [
        "IPY_MODEL_1ed28a65897e4847ba7e4dd6c11d9bcb",
        "IPY_MODEL_4473ab7509444ea3800871bbac3d824d"
       ],
       "default_style": "IPY_MODEL_4134bf1144554ff1b324d8217b069893",
       "dragging_style": "IPY_MODEL_e979937fd0e24f028436273773543553",
       "east": 23.8623046875,
       "fullscreen": false,
       "interpolation": "bilinear",
       "layers": [
        "IPY_MODEL_946cf631723b45f9b8c5bbbe647ab5b3"
       ],
       "layout": "IPY_MODEL_214e5c48369c4860be8f8bbd5911d60b",
       "left": 3670,
       "modisdate": "2023-07-11",
       "north": 44.715513732021336,
       "options": [
        "bounce_at_zoom_limits",
        "box_zoom",
        "center",
        "close_popup_on_click",
        "double_click_zoom",
        "dragging",
        "fullscreen",
        "inertia",
        "inertia_deceleration",
        "inertia_max_speed",
        "interpolation",
        "keyboard",
        "keyboard_pan_offset",
        "keyboard_zoom_offset",
        "max_zoom",
        "min_zoom",
        "prefer_canvas",
        "scroll_wheel_zoom",
        "tap",
        "tap_tolerance",
        "touch_zoom",
        "world_copy_jump",
        "zoom",
        "zoom_animation_threshold",
        "zoom_delta",
        "zoom_snap"
       ],
       "prefer_canvas": false,
       "right": 4639,
       "south": 30.90222470517144,
       "style": "IPY_MODEL_68d775e6853949d488fe6d60bead1315",
       "top": 2956,
       "west": -18.720703125000004,
       "window_url": "http://localhost:8888/notebooks/js/ipyleaflet.ipynb#",
       "zoom": 5
      }
     },
     "2e7fb98bce76482eb640ea10989fc91a": {
      "model_module": "jupyter-leaflet",
      "model_module_version": "^0.17",
      "model_name": "LeafletTileLayerModel",
      "state": {
       "_model_module_version": "^0.17",
       "_view_module_version": "^0.17",
       "attribution": "Map tiles by <a href=\"https://labs.strava.com/heatmap\">Strava 2021</a>",
       "base": true,
       "max_zoom": 15,
       "min_zoom": 1,
       "name": "Strava.All",
       "options": [
        "attribution",
        "bounds",
        "detect_retina",
        "max_native_zoom",
        "max_zoom",
        "min_native_zoom",
        "min_zoom",
        "no_wrap",
        "tile_size",
        "tms",
        "zoom_offset"
       ],
       "url": "https://heatmap-external-a.strava.com/tiles/all/hot/{z}/{x}/{y}.png"
      }
     },
     "2ec5b5f15a9743abbf87e9ddd8756764": {
      "model_module": "jupyter-leaflet",
      "model_module_version": "^0.17",
      "model_name": "LeafletMapStyleModel",
      "state": {
       "_model_module_version": "^0.17"
      }
     },
     "2f3eac376bd74697a9c40eb136cb50a3": {
      "model_module": "@jupyter-widgets/base",
      "model_module_version": "1.2.0",
      "model_name": "LayoutModel",
      "state": {}
     },
     "2f57f8edb44e4ef0ae6c8233682c366f": {
      "model_module": "jupyter-leaflet",
      "model_module_version": "^0.17",
      "model_name": "LeafletMapModel",
      "state": {
       "_model_module_version": "^0.17",
       "_view_module_version": "^0.17",
       "bottom": 5574,
       "center": [
        52.5162,
        13.3777
       ],
       "controls": [
        "IPY_MODEL_51ba2bc2e444453ab91bbba8378972b4",
        "IPY_MODEL_55eaad914a8b474aac90ac9299edc1ce"
       ],
       "default_style": "IPY_MODEL_41470029d0af46b5ac2f87b4736f1cd3",
       "dragging_style": "IPY_MODEL_bd30be30e4e847589ddd7c98154b1e6a",
       "east": 24.01611328125,
       "fullscreen": false,
       "interpolation": "bilinear",
       "layers": [
        "IPY_MODEL_72f257a0c71543f383fb5f7f3b805ac9"
       ],
       "layout": "IPY_MODEL_8c93e1aaef1443afa192c9710005cacd",
       "left": 8316,
       "modisdate": "2023-07-11",
       "north": 55.10351605801967,
       "options": [
        "bounce_at_zoom_limits",
        "box_zoom",
        "center",
        "close_popup_on_click",
        "double_click_zoom",
        "dragging",
        "fullscreen",
        "inertia",
        "inertia_deceleration",
        "inertia_max_speed",
        "interpolation",
        "keyboard",
        "keyboard_pan_offset",
        "keyboard_zoom_offset",
        "max_zoom",
        "min_zoom",
        "prefer_canvas",
        "scroll_wheel_zoom",
        "tap",
        "tap_tolerance",
        "touch_zoom",
        "world_copy_jump",
        "zoom",
        "zoom_animation_threshold",
        "zoom_delta",
        "zoom_snap"
       ],
       "prefer_canvas": false,
       "right": 9285,
       "south": 49.75287993415023,
       "style": "IPY_MODEL_59a386af029340f6b922bdad4bb7126b",
       "top": 5174,
       "west": 2.7246093750000004,
       "window_url": "http://localhost:8888/notebooks/js/ipyleaflet.ipynb#",
       "zoom": 6
      }
     },
     "2fb39cf3a83e4ce2b7bf8cc7444e759e": {
      "model_module": "jupyter-leaflet",
      "model_module_version": "~0.9.2",
      "model_name": "LeafletTileLayerModel",
      "state": {
       "_model_module_version": "~0.9.2",
       "_view_module_version": "~0.9.2",
       "base": true,
       "max_zoom": 19,
       "min_zoom": 1,
       "options": [
        "attribution",
        "detect_retina",
        "max_zoom",
        "min_zoom",
        "tile_size"
       ]
      }
     },
     "2fbb50e078784f6e94d6eb9102805318": {
      "model_module": "@jupyter-widgets/base",
      "model_module_version": "1.2.0",
      "model_name": "LayoutModel",
      "state": {}
     },
     "2fc5b8afa16f44d38e46268fde768960": {
      "model_module": "jupyter-leaflet",
      "model_module_version": "^0.12.1",
      "model_name": "LeafletZoomControlModel",
      "state": {
       "_model_module_version": "^0.12.1",
       "_view_module_version": "^0.12.1",
       "options": [
        "position",
        "zoom_in_text",
        "zoom_in_title",
        "zoom_out_text",
        "zoom_out_title"
       ]
      }
     },
     "2ff83724aa5f47ca8a7a51d7987c8b16": {
      "model_module": "jupyter-leaflet",
      "model_module_version": "^0.12.1",
      "model_name": "LeafletMapStyleModel",
      "state": {
       "_model_module_version": "^0.12.1",
       "cursor": "move"
      }
     },
     "30067bff1ccd4e579bb1483f322b6614": {
      "model_module": "@jupyter-widgets/base",
      "model_module_version": "1.2.0",
      "model_name": "LayoutModel",
      "state": {}
     },
     "301f1ce373ec4835b4577f39988c21d9": {
      "model_module": "jupyter-leaflet",
      "model_module_version": "~0.9.2",
      "model_name": "LeafletTileLayerModel",
      "state": {
       "_model_module_version": "~0.9.2",
       "_view_module_version": "~0.9.2",
       "attribution": "Tiles courtesy of <a href=\"http://openstreetmap.se/\" target=\"_blank\">OpenStreetMap Sweden</a> &mdash; Map data &copy; <a href=\"http://www.openstreetmap.org/copyright\">OpenStreetMap</a>",
       "base": true,
       "min_zoom": 1,
       "name": "Hydda.Full",
       "options": [
        "attribution",
        "detect_retina",
        "max_zoom",
        "min_zoom",
        "tile_size"
       ],
       "url": "http://{s}.tile.openstreetmap.se/hydda/full/{z}/{x}/{y}.png"
      }
     },
     "3022eb01879c4811b571ead82f8842fb": {
      "model_module": "jupyter-leaflet",
      "model_module_version": "^0.17",
      "model_name": "LeafletMapStyleModel",
      "state": {
       "_model_module_version": "^0.17",
       "cursor": "move"
      }
     },
     "3028c288d01d49999c9570568c36d3f5": {
      "model_module": "jupyter-leaflet",
      "model_module_version": "^0.12.1",
      "model_name": "LeafletAttributionControlModel",
      "state": {
       "_model_module_version": "^0.12.1",
       "_view_module_version": "^0.12.1",
       "options": [
        "position",
        "prefix"
       ],
       "position": "bottomright",
       "prefix": "Leaflet"
      }
     },
     "309fbf8836ed4670bd1d3c316b836d6f": {
      "model_module": "@jupyter-widgets/controls",
      "model_module_version": "1.5.0",
      "model_name": "DescriptionStyleModel",
      "state": {
       "description_width": ""
      }
     },
     "310711b9f3db411ebe77b96017aae62a": {
      "model_module": "jupyter-leaflet",
      "model_module_version": "^0.12.1",
      "model_name": "LeafletWMSLayerModel",
      "state": {
       "_model_module_version": "^0.12.1",
       "_view_module_version": "^0.12.1",
       "attribution": "Weather data © 2012 IEM Nexrad",
       "crs": "EPSG3857",
       "format": "image/png",
       "layers": "nexrad-n0r-wmst",
       "max_native_zoom": 18,
       "min_native_zoom": 0,
       "options": [
        "attribution",
        "detect_retina",
        "format",
        "layers",
        "max_native_zoom",
        "max_zoom",
        "min_native_zoom",
        "min_zoom",
        "no_wrap",
        "styles",
        "tile_size",
        "time",
        "tms",
        "transparent",
        "uppercase"
       ],
       "time": "2005-08-29T13:00:00Z",
       "transparent": true,
       "url": "https://mesonet.agron.iastate.edu/cgi-bin/wms/nexrad/n0r-t.cgi?"
      }
     },
     "312886f22eed464bbe05516249f7a944": {
      "model_module": "jupyter-leaflet",
      "model_module_version": "^0.17",
      "model_name": "LeafletMapModel",
      "state": {
       "_model_module_version": "^0.17",
       "_view_module_version": "^0.17",
       "bottom": 44019463,
       "center": [
        52.51695372589731,
        13.38881626725197
       ],
       "controls": [
        "IPY_MODEL_108a3d21c29b482c848b5d4f974f3442",
        "IPY_MODEL_1dd13ab6c1324e8e843275ff62207ae6",
        "IPY_MODEL_bf36f8539b1b4a2aa048120a351fad7c",
        "IPY_MODEL_177a33a3a8d04e22a8413d473e6fb635",
        "IPY_MODEL_3fd8f9f76aea4007a96b1ca3c99527b8"
       ],
       "default_style": "IPY_MODEL_db2b81449c19462e95e320c4eebe98fa",
       "dragging_style": "IPY_MODEL_a3eec104a73e4e04822cf39f65aa9e45",
       "east": 13.390115797519686,
       "fullscreen": false,
       "interpolation": "bilinear",
       "layers": [
        "IPY_MODEL_876983a4ee7348d1ac09ffb570cd31f9"
       ],
       "layout": "IPY_MODEL_d4363afbc4ab4c2586971333e447a32a",
       "left": 72100092,
       "modisdate": "2023-07-11",
       "north": 52.517280163818185,
       "options": [
        "bounce_at_zoom_limits",
        "box_zoom",
        "center",
        "close_popup_on_click",
        "double_click_zoom",
        "dragging",
        "fullscreen",
        "inertia",
        "inertia_deceleration",
        "inertia_max_speed",
        "interpolation",
        "keyboard",
        "keyboard_pan_offset",
        "keyboard_zoom_offset",
        "max_zoom",
        "min_zoom",
        "prefer_canvas",
        "scroll_wheel_zoom",
        "tap",
        "tap_tolerance",
        "touch_zoom",
        "world_copy_jump",
        "zoom",
        "zoom_animation_threshold",
        "zoom_delta",
        "zoom_snap"
       ],
       "prefer_canvas": false,
       "right": 72101061,
       "south": 52.516627285551124,
       "style": "IPY_MODEL_db2b81449c19462e95e320c4eebe98fa",
       "top": 44019063,
       "west": 13.387516736984255,
       "window_url": "http://localhost:8888/notebooks/js/ipyleaflet.ipynb#",
       "zoom": 19
      }
     },
     "3140e612aef24dab83b339e3c16423c0": {
      "model_module": "jupyter-leaflet",
      "model_module_version": "^0.17",
      "model_name": "LeafletMapStyleModel",
      "state": {
       "_model_module_version": "^0.17",
       "cursor": "move"
      }
     },
     "315e76be5f794a2a9a4751ad73031335": {
      "model_module": "jupyter-leaflet",
      "model_module_version": "^0.17",
      "model_name": "LeafletMapStyleModel",
      "state": {
       "_model_module_version": "^0.17"
      }
     },
     "3193b3cec6f546b4aeafb6602c3c1716": {
      "model_module": "jupyter-leaflet",
      "model_module_version": "~0.9.2",
      "model_name": "LeafletMapModel",
      "state": {
       "_model_module_version": "~0.9.2",
       "_view_module_version": "~0.9.2",
       "basemap": {
        "attribution": "Tiles courtesy of <a href=\"http://openstreetmap.se/\" target=\"_blank\">OpenStreetMap Sweden</a> &mdash; Map data &copy; <a href=\"http://www.openstreetmap.org/copyright\">OpenStreetMap</a>",
        "max_zoom": 18,
        "name": "Hydda.Full",
        "url": "http://{s}.tile.openstreetmap.se/hydda/full/{z}/{x}/{y}.png"
       },
       "center": [
        49,
        10
       ],
       "east": 12.689208984375002,
       "interpolation": "bilinear",
       "layers": [
        "IPY_MODEL_0d634455a61244ca8afe7b4c05078bf3"
       ],
       "layout": "IPY_MODEL_ae4a2f50a2de44f5a4dd7ea5df7461bd",
       "modisdate": "yesterday",
       "north": 49.713824623405046,
       "options": [
        "attribution_control",
        "basemap",
        "bounce_at_zoom_limits",
        "box_zoom",
        "center",
        "close_popup_on_click",
        "double_click_zoom",
        "dragging",
        "inertia",
        "inertia_deceleration",
        "inertia_max_speed",
        "interpolation",
        "keyboard",
        "keyboard_pan_offset",
        "keyboard_zoom_offset",
        "max_zoom",
        "min_zoom",
        "scroll_wheel_zoom",
        "tap",
        "tap_tolerance",
        "touch_zoom",
        "world_copy_jump",
        "zoom",
        "zoom_animation_threshold",
        "zoom_control",
        "zoom_start"
       ],
       "south": 48.272225451004324,
       "west": 7.3114013671875,
       "window_url": "http://localhost:8888/notebooks/js/ipyleaflet.ipynb",
       "zoom": 8
      }
     },
     "31c2aa08bd764986ad77ec7d01576909": {
      "model_module": "@jupyter-widgets/base",
      "model_module_version": "1.2.0",
      "model_name": "LayoutModel",
      "state": {}
     },
     "322190f2745a423ba338ff02a1cafcce": {
      "model_module": "jupyter-leaflet",
      "model_module_version": "^0.12.1",
      "model_name": "LeafletMapStyleModel",
      "state": {
       "_model_module_version": "^0.12.1"
      }
     },
     "323a50bc8d9b480a9242328d71f6159b": {
      "model_module": "jupyter-leaflet",
      "model_module_version": "^0.17",
      "model_name": "LeafletTileLayerModel",
      "state": {
       "_model_module_version": "^0.17",
       "_view_module_version": "^0.17",
       "attribution": "Map tiles by <a href=\"https://labs.strava.com/heatmap\">Strava 2021</a>",
       "max_zoom": 15,
       "min_zoom": 1,
       "name": "Strava.All",
       "options": [
        "attribution",
        "bounds",
        "detect_retina",
        "max_native_zoom",
        "max_zoom",
        "min_native_zoom",
        "min_zoom",
        "no_wrap",
        "tile_size",
        "tms",
        "zoom_offset"
       ],
       "url": "https://heatmap-external-a.strava.com/tiles/all/hot/{z}/{x}/{y}.png"
      }
     },
     "324b8a0a4b1b4711a596e28f326836cb": {
      "model_module": "jupyter-leaflet",
      "model_module_version": "^0.12.1",
      "model_name": "LeafletTileLayerModel",
      "state": {
       "_model_module_version": "^0.12.1",
       "_view_module_version": "^0.12.1",
       "attribution": "&copy; <a href=\"http://www.openstreetmap.org/copyright\">OpenStreetMap</a> &copy; <a href=\"http://cartodb.com/attributions\">CartoDB</a>",
       "base": true,
       "max_native_zoom": 18,
       "max_zoom": 20,
       "min_native_zoom": 0,
       "min_zoom": 1,
       "name": "CartoDB.Positron",
       "options": [
        "attribution",
        "detect_retina",
        "max_native_zoom",
        "max_zoom",
        "min_native_zoom",
        "min_zoom",
        "no_wrap",
        "tile_size",
        "tms"
       ],
       "url": "http://c.basemaps.cartocdn.com/light_all/{z}/{x}/{y}.png"
      }
     },
     "3251e44da7bf4ab7919900243a7e68c6": {
      "model_module": "@jupyter-widgets/base",
      "model_module_version": "1.2.0",
      "model_name": "LayoutModel",
      "state": {}
     },
     "328c6846a1f0457ea497b7ae4367353b": {
      "model_module": "@jupyter-widgets/controls",
      "model_module_version": "1.5.0",
      "model_name": "LinkModel",
      "state": {
       "source": [
        "IPY_MODEL_042cecf548aa4408b02dd8a47c501658",
        "value"
       ],
       "target": [
        "IPY_MODEL_68d64ecf0d0b45c39dde778f9c21bd91",
        "zoom"
       ]
      }
     },
     "329fb432f4fc41c58e830333427c3e53": {
      "model_module": "@jupyter-widgets/base",
      "model_module_version": "1.2.0",
      "model_name": "LayoutModel",
      "state": {}
     },
     "32ab0b86c526433bbddf91e0e2ce1f7e": {
      "model_module": "jupyter-leaflet",
      "model_module_version": "^0.12.1",
      "model_name": "LeafletAttributionControlModel",
      "state": {
       "_model_module_version": "^0.12.1",
       "_view_module_version": "^0.12.1",
       "options": [
        "position",
        "prefix"
       ],
       "position": "bottomright",
       "prefix": "Leaflet"
      }
     },
     "32b8462f74344f53be1c966b1f595fd5": {
      "model_module": "jupyter-leaflet",
      "model_module_version": "^0.17",
      "model_name": "LeafletMapStyleModel",
      "state": {
       "_model_module_version": "^0.17"
      }
     },
     "32cd9f43bab54e92b819bcaf368400ea": {
      "model_module": "@jupyter-widgets/base",
      "model_module_version": "1.2.0",
      "model_name": "LayoutModel",
      "state": {}
     },
     "33172a3d4ce8423c819d41f761d91102": {
      "model_module": "jupyter-leaflet",
      "model_module_version": "^0.17",
      "model_name": "LeafletAttributionControlModel",
      "state": {
       "_model_module_version": "^0.17",
       "_view_module_version": "^0.17",
       "options": [
        "position",
        "prefix"
       ],
       "position": "bottomright",
       "prefix": "ipyleaflet"
      }
     },
     "3367f8480ba24020837761d7513d46a2": {
      "model_module": "jupyter-leaflet",
      "model_module_version": "^0.11.2",
      "model_name": "LeafletZoomControlModel",
      "state": {
       "_model_module_version": "^0.11.2",
       "_view_module_version": "^0.11.2",
       "options": [
        "position",
        "zoom_in_text",
        "zoom_in_title",
        "zoom_out_text",
        "zoom_out_title"
       ]
      }
     },
     "336ac90c828a496c925109d19cac3a4d": {
      "model_module": "@jupyter-widgets/controls",
      "model_module_version": "1.5.0",
      "model_name": "LabelModel",
      "state": {
       "layout": "IPY_MODEL_c142684a64e6482daa850aba6087dca3",
       "style": "IPY_MODEL_eebc3cf4667d4c00a27b56c671d4bc68",
       "value": "[47.94149351068146, 6.992078889205451]"
      }
     },
     "336e48ff6c4248ac998f26e0b679a9f4": {
      "model_module": "jupyter-leaflet",
      "model_module_version": "^0.17",
      "model_name": "LeafletTileLayerModel",
      "state": {
       "_model_module_version": "^0.17",
       "_view_module_version": "^0.17",
       "attribution": "Map tiles by <a href=\"https://labs.strava.com/heatmap\">Strava 2021</a>",
       "max_zoom": 15,
       "min_zoom": 1,
       "name": "Strava.Water",
       "options": [
        "attribution",
        "bounds",
        "detect_retina",
        "max_native_zoom",
        "max_zoom",
        "min_native_zoom",
        "min_zoom",
        "no_wrap",
        "tile_size",
        "tms",
        "zoom_offset"
       ],
       "url": "https://heatmap-external-a.strava.com/tiles/water/blue/{z}/{x}/{y}.png"
      }
     },
     "338cf134823d46efa91c99910e67f246": {
      "model_module": "@jupyter-widgets/base",
      "model_module_version": "1.2.0",
      "model_name": "LayoutModel",
      "state": {}
     },
     "33997f23612343c09f02b9ab4e7045be": {
      "model_module": "@jupyter-widgets/base",
      "model_module_version": "1.2.0",
      "model_name": "LayoutModel",
      "state": {}
     },
     "33e58f6c492b4587885e07614899761a": {
      "model_module": "jupyter-leaflet",
      "model_module_version": "^0.17",
      "model_name": "LeafletMapStyleModel",
      "state": {
       "_model_module_version": "^0.17"
      }
     },
     "33eef982a5404181b4fec012a1f80f3f": {
      "model_module": "@jupyter-widgets/controls",
      "model_module_version": "1.5.0",
      "model_name": "LabelModel",
      "state": {
       "layout": "IPY_MODEL_71b6a5f2b1ce4b3686d2a8d916f6fed1",
       "style": "IPY_MODEL_da621ece22c1469eb1bbf6ad0fd4e31c",
       "value": "[48.05911336165878, 6.8108428632317]"
      }
     },
     "34193876071f4e3599d569031329ed68": {
      "model_module": "jupyter-leaflet",
      "model_module_version": "^0.12.1",
      "model_name": "LeafletMapModel",
      "state": {
       "_model_module_version": "^0.12.1",
       "_view_module_version": "^0.12.1",
       "center": [
        48,
        7.9
       ],
       "controls": [
        "IPY_MODEL_8c7735cf28b146f2bae2b645bec30e99",
        "IPY_MODEL_0dc873adc46e484b822d6e3287443c2d"
       ],
       "default_style": "IPY_MODEL_34500fd0b1d04e75a05a2f062f4a84b5",
       "dragging_style": "IPY_MODEL_1ea9cf6e734643c8be314224adc05fdf",
       "east": 8.228759765625002,
       "fullscreen": false,
       "interpolation": "bilinear",
       "layers": [
        "IPY_MODEL_7bde861d3e8c4f93a47d9f0840debe1c"
       ],
       "layout": "IPY_MODEL_954292eca1cb4a8b8360bf146a931ece",
       "modisdate": "yesterday",
       "north": 48.18348549519126,
       "options": [
        "bounce_at_zoom_limits",
        "box_zoom",
        "center",
        "close_popup_on_click",
        "double_click_zoom",
        "dragging",
        "fullscreen",
        "inertia",
        "inertia_deceleration",
        "inertia_max_speed",
        "interpolation",
        "keyboard",
        "keyboard_pan_offset",
        "keyboard_zoom_offset",
        "max_zoom",
        "min_zoom",
        "scroll_wheel_zoom",
        "tap",
        "tap_tolerance",
        "touch_zoom",
        "world_copy_jump",
        "zoom",
        "zoom_animation_threshold",
        "zoom_start"
       ],
       "south": 47.81592114659014,
       "style": "IPY_MODEL_446e272488e945ddaed5b5daaca74015",
       "west": 7.572326660156251,
       "window_url": "http://localhost:8888/notebooks/js/ipyleaflet.ipynb",
       "zoom": 10
      }
     },
     "3429b7f733544ed2b2ec4038bc948fc4": {
      "model_module": "@jupyter-widgets/controls",
      "model_module_version": "1.5.0",
      "model_name": "SliderStyleModel",
      "state": {
       "description_width": ""
      }
     },
     "34500fd0b1d04e75a05a2f062f4a84b5": {
      "model_module": "jupyter-leaflet",
      "model_module_version": "^0.12.1",
      "model_name": "LeafletMapStyleModel",
      "state": {
       "_model_module_version": "^0.12.1"
      }
     },
     "3499f76a4d2d4463b65a6bbc0422e076": {
      "model_module": "jupyter-leaflet",
      "model_module_version": "^0.12.1",
      "model_name": "LeafletLayersControlModel",
      "state": {
       "_model_module_version": "^0.12.1",
       "_view_module_version": "^0.12.1",
       "options": [
        "position"
       ]
      }
     },
     "35428465e67749d1b855f7d6b1049fdb": {
      "model_module": "@jupyter-widgets/base",
      "model_module_version": "1.2.0",
      "model_name": "LayoutModel",
      "state": {}
     },
     "356d76ffc919474cb1212ba5fcc2ddea": {
      "model_module": "@jupyter-widgets/controls",
      "model_module_version": "1.5.0",
      "model_name": "SliderStyleModel",
      "state": {
       "description_width": ""
      }
     },
     "357b740044d546d5ab4fcb2350704dbc": {
      "model_module": "jupyter-leaflet",
      "model_module_version": "~0.9.2",
      "model_name": "LeafletMapModel",
      "state": {
       "_model_module_version": "~0.9.2",
       "_view_module_version": "~0.9.2",
       "basemap": {
        "attribution": "Tiles courtesy of <a href=\"http://openstreetmap.se/\" target=\"_blank\">OpenStreetMap Sweden</a> &mdash; Map data &copy; <a href=\"http://www.openstreetmap.org/copyright\">OpenStreetMap</a>",
        "max_zoom": 18,
        "name": "Hydda.Full",
        "url": "http://{s}.tile.openstreetmap.se/hydda/full/{z}/{x}/{y}.png"
       },
       "center": [
        48,
        8
       ],
       "controls": [
        "IPY_MODEL_965a40387bd04092b9b33bf42e6633e1"
       ],
       "east": 10.695190429687502,
       "interpolation": "bilinear",
       "layers": [
        "IPY_MODEL_60ea836d16ac48ff80ccf9667d7a6d44",
        "IPY_MODEL_471125073c9e4c42a4b5a03d989e17ea",
        "IPY_MODEL_d8bec27c29c44dd186507b311fe0bc9b"
       ],
       "layout": "IPY_MODEL_1d5a4754eb6549aaa8b1af0a2be73aff",
       "modisdate": "yesterday",
       "north": 48.73083222613518,
       "options": [
        "attribution_control",
        "basemap",
        "bounce_at_zoom_limits",
        "box_zoom",
        "center",
        "close_popup_on_click",
        "double_click_zoom",
        "dragging",
        "inertia",
        "inertia_deceleration",
        "inertia_max_speed",
        "interpolation",
        "keyboard",
        "keyboard_pan_offset",
        "keyboard_zoom_offset",
        "max_zoom",
        "min_zoom",
        "scroll_wheel_zoom",
        "tap",
        "tap_tolerance",
        "touch_zoom",
        "world_copy_jump",
        "zoom",
        "zoom_animation_threshold",
        "zoom_control",
        "zoom_start"
       ],
       "south": 47.260592193424706,
       "west": 5.300903320312501,
       "window_url": "http://localhost:8888/notebooks/js/ipyleaflet.ipynb",
       "zoom": 8
      }
     },
     "359639697ef4412ba0b4916c869df8b7": {
      "model_module": "@jupyter-widgets/controls",
      "model_module_version": "1.5.0",
      "model_name": "LinkModel",
      "state": {
       "source": [
        "IPY_MODEL_ed38e29dd6b44be2ab1cf05b44ee25b8",
        "value"
       ],
       "target": [
        "IPY_MODEL_c116926ff41b4d3c9f0bb1d25e7bd558",
        "zoom"
       ]
      }
     },
     "35e4056cc25c4746a373683c6aa57c80": {
      "model_module": "jupyter-leaflet",
      "model_module_version": "^0.17",
      "model_name": "LeafletMapStyleModel",
      "state": {
       "_model_module_version": "^0.17"
      }
     },
     "3606f30ee3eb4f4faded52e2367747a7": {
      "model_module": "@jupyter-widgets/base",
      "model_module_version": "1.2.0",
      "model_name": "LayoutModel",
      "state": {}
     },
     "360d54f0973441049b5130d86ab1e27c": {
      "model_module": "@jupyter-widgets/controls",
      "model_module_version": "1.5.0",
      "model_name": "SliderStyleModel",
      "state": {
       "description_width": ""
      }
     },
     "36689022b3bd4868a3c5ca0e38157ce7": {
      "model_module": "jupyter-leaflet",
      "model_module_version": "^0.12.1",
      "model_name": "LeafletAttributionControlModel",
      "state": {
       "_model_module_version": "^0.12.1",
       "_view_module_version": "^0.12.1",
       "options": [
        "position",
        "prefix"
       ],
       "position": "bottomright",
       "prefix": "Leaflet"
      }
     },
     "369d8dba41fd43c3bd4c44be963b98a4": {
      "model_module": "jupyter-leaflet",
      "model_module_version": "^0.12.6",
      "model_name": "LeafletMapModel",
      "state": {
       "_model_module_version": "^0.12.6",
       "_view_module_version": "^0.12.6",
       "center": [
        48,
        8
       ],
       "controls": [
        "IPY_MODEL_4e7b5a871f7649c0a7f8240ffb20ff45",
        "IPY_MODEL_1e4b02d4cf0944f5984870c7ba5140db",
        "IPY_MODEL_6b7c5f3851c046d998d21ec9a76fa748"
       ],
       "default_style": "IPY_MODEL_b69a8906f3f0420c8c43fe23ffbb2e88",
       "dragging_style": "IPY_MODEL_dfdf3ce6bfb54aaf8f37caa1a24ea63b",
       "east": 10.695190429687502,
       "fullscreen": false,
       "interpolation": "bilinear",
       "layers": [
        "IPY_MODEL_50577eaa3ef24d2596278998b7bfb3f6",
        "IPY_MODEL_447e50906b7e45fe8b4fc0811ebb4221",
        "IPY_MODEL_5e4ad7b95fc94a5494cc3175b2826141"
       ],
       "layout": "IPY_MODEL_6ad7431ea20a443c9c0240589f1c6555",
       "modisdate": "yesterday",
       "north": 48.73083222613518,
       "options": [
        "bounce_at_zoom_limits",
        "box_zoom",
        "center",
        "close_popup_on_click",
        "double_click_zoom",
        "dragging",
        "fullscreen",
        "inertia",
        "inertia_deceleration",
        "inertia_max_speed",
        "interpolation",
        "keyboard",
        "keyboard_pan_offset",
        "keyboard_zoom_offset",
        "max_zoom",
        "min_zoom",
        "scroll_wheel_zoom",
        "tap",
        "tap_tolerance",
        "touch_zoom",
        "world_copy_jump",
        "zoom",
        "zoom_animation_threshold",
        "zoom_start"
       ],
       "south": 47.260592193424706,
       "style": "IPY_MODEL_b69a8906f3f0420c8c43fe23ffbb2e88",
       "west": 5.300903320312501,
       "window_url": "http://localhost:8888/notebooks/js/ipyleaflet.ipynb",
       "zoom": 8
      }
     },
     "36b5fb5f60e34f15b9fb5649fd049c89": {
      "model_module": "jupyter-leaflet",
      "model_module_version": "^0.17",
      "model_name": "LeafletMapModel",
      "state": {
       "_model_module_version": "^0.17",
       "_view_module_version": "^0.17",
       "bottom": 344104,
       "center": [
        52.5162,
        13.3777
       ],
       "controls": [
        "IPY_MODEL_4adaa14899314d62a9c40d1cba4ce1f3",
        "IPY_MODEL_56e9f5d39d30419c97d6e08874c7db4d",
        "IPY_MODEL_6e7c9d50d14b478e9bd07abf679dff06"
       ],
       "default_style": "IPY_MODEL_ce4c3b360e4c4dd8bd422835fcee5542",
       "dragging_style": "IPY_MODEL_7e4e0fdcb0a641a4a3f1d17fdc6a3961",
       "east": 13.544082641601564,
       "fullscreen": false,
       "interpolation": "bilinear",
       "layers": [
        "IPY_MODEL_400c7ea785824517b0f086bf97e09ab8"
       ],
       "layout": "IPY_MODEL_4ce331d5a6e94ae5bfb550978a5ce94b",
       "left": 562769,
       "modisdate": "2023-07-11",
       "north": 52.55798590427374,
       "options": [
        "bounce_at_zoom_limits",
        "box_zoom",
        "center",
        "close_popup_on_click",
        "double_click_zoom",
        "dragging",
        "fullscreen",
        "inertia",
        "inertia_deceleration",
        "inertia_max_speed",
        "interpolation",
        "keyboard",
        "keyboard_pan_offset",
        "keyboard_zoom_offset",
        "max_zoom",
        "min_zoom",
        "prefer_canvas",
        "scroll_wheel_zoom",
        "tap",
        "tap_tolerance",
        "touch_zoom",
        "world_copy_jump",
        "zoom",
        "zoom_animation_threshold",
        "zoom_delta",
        "zoom_snap"
       ],
       "prefer_canvas": false,
       "right": 563738,
       "south": 52.47441608702583,
       "style": "IPY_MODEL_6fe35dceaa7e4f9fb81bab4faf2e0905",
       "top": 343704,
       "west": 13.211402893066408,
       "window_url": "http://localhost:8888/notebooks/js/ipyleaflet.ipynb#"
      }
     },
     "36f2f73634274163bccc1bc457bd9b04": {
      "model_module": "jupyter-leaflet",
      "model_module_version": "^0.17",
      "model_name": "LeafletMapStyleModel",
      "state": {
       "_model_module_version": "^0.17"
      }
     },
     "370e87e672354cb1913a007b834c2243": {
      "model_module": "jupyter-leaflet",
      "model_module_version": "^0.17",
      "model_name": "LeafletAttributionControlModel",
      "state": {
       "_model_module_version": "^0.17",
       "_view_module_version": "^0.17",
       "options": [
        "position",
        "prefix"
       ],
       "position": "bottomright",
       "prefix": "ipyleaflet"
      }
     },
     "37465618d807457e93801d780239344c": {
      "model_module": "jupyter-leaflet",
      "model_module_version": "^0.17",
      "model_name": "LeafletMapStyleModel",
      "state": {
       "_model_module_version": "^0.17"
      }
     },
     "374c3085478845aeaf7dba18c5876a35": {
      "model_module": "jupyter-leaflet",
      "model_module_version": "^0.12.1",
      "model_name": "LeafletZoomControlModel",
      "state": {
       "_model_module_version": "^0.12.1",
       "_view_module_version": "^0.12.1",
       "options": [
        "position",
        "zoom_in_text",
        "zoom_in_title",
        "zoom_out_text",
        "zoom_out_title"
       ]
      }
     },
     "3760e2bcdb4b4f52885dfd92aab2e44e": {
      "model_module": "jupyter-leaflet",
      "model_module_version": "^0.17",
      "model_name": "LeafletMapStyleModel",
      "state": {
       "_model_module_version": "^0.17",
       "cursor": "move"
      }
     },
     "3764b4d4709045c99ab7a935f37e69da": {
      "model_module": "@jupyter-widgets/base",
      "model_module_version": "1.2.0",
      "model_name": "LayoutModel",
      "state": {}
     },
     "378a01a52a4d4f4d9d7e4857a3a9e3b6": {
      "model_module": "@jupyter-widgets/controls",
      "model_module_version": "1.5.0",
      "model_name": "LabelModel",
      "state": {
       "layout": "IPY_MODEL_0066dc6f6a834fb1aafba711f5c95cc7",
       "style": "IPY_MODEL_b2a72c44c8e54f9e8bec700052458039",
       "value": "[48.629278127969414, 7.87392320957185]"
      }
     },
     "379860c6597741058c88dde95b85571b": {
      "model_module": "jupyter-leaflet",
      "model_module_version": "^0.17",
      "model_name": "LeafletMapStyleModel",
      "state": {
       "_model_module_version": "^0.17"
      }
     },
     "37b03791d81647d1b694ede6b4580c42": {
      "model_module": "jupyter-leaflet",
      "model_module_version": "^0.17",
      "model_name": "LeafletMapStyleModel",
      "state": {
       "_model_module_version": "^0.17"
      }
     },
     "388669dce6964012a0388b1282188acb": {
      "model_module": "jupyter-leaflet",
      "model_module_version": "^0.12.1",
      "model_name": "LeafletMapStyleModel",
      "state": {
       "_model_module_version": "^0.12.1"
      }
     },
     "38dd4ff50f7e43e9b230f3262d27d6cc": {
      "model_module": "jupyter-leaflet",
      "model_module_version": "^0.17",
      "model_name": "LeafletZoomControlModel",
      "state": {
       "_model_module_version": "^0.17",
       "_view_module_version": "^0.17",
       "options": [
        "position",
        "zoom_in_text",
        "zoom_in_title",
        "zoom_out_text",
        "zoom_out_title"
       ]
      }
     },
     "3935bb02927f438a8ed864e3d7093366": {
      "model_module": "@jupyter-widgets/controls",
      "model_module_version": "1.5.0",
      "model_name": "HBoxModel",
      "state": {
       "children": [
        "IPY_MODEL_7b5aca1085ad42b4b33b2c195e9c961b",
        "IPY_MODEL_ee79e19952564840b25dcb42cf25c799"
       ],
       "layout": "IPY_MODEL_194393b6c2934f149ac40ea065a5397f"
      }
     },
     "39d1637e24b740e0bac5241eb32f444c": {
      "model_module": "jupyter-leaflet",
      "model_module_version": "^0.12.1",
      "model_name": "LeafletMapStyleModel",
      "state": {
       "_model_module_version": "^0.12.1",
       "cursor": "move"
      }
     },
     "39e5950b54a74c47bf631b19e4be70dd": {
      "model_module": "jupyter-leaflet",
      "model_module_version": "^0.12.1",
      "model_name": "LeafletMapStyleModel",
      "state": {
       "_model_module_version": "^0.12.1"
      }
     },
     "39e846f119be4c09994ce6df14951dc9": {
      "model_module": "@jupyter-widgets/controls",
      "model_module_version": "1.5.0",
      "model_name": "DescriptionStyleModel",
      "state": {
       "description_width": ""
      }
     },
     "3aca8b0019214057a9ccd06fc7e9d6d5": {
      "model_module": "jupyter-leaflet",
      "model_module_version": "^0.17",
      "model_name": "LeafletZoomControlModel",
      "state": {
       "_model_module_version": "^0.17",
       "_view_module_version": "^0.17",
       "options": [
        "position",
        "zoom_in_text",
        "zoom_in_title",
        "zoom_out_text",
        "zoom_out_title"
       ]
      }
     },
     "3ad72067ed9c470a8f06d5ce8d2855b3": {
      "model_module": "@jupyter-widgets/controls",
      "model_module_version": "1.5.0",
      "model_name": "SelectionSliderModel",
      "state": {
       "_options_labels": [
        "13:00",
        "13:30",
        "14:00",
        "14:30",
        "15:00",
        "15:30",
        "16:00",
        "16:30"
       ],
       "description": "Time:",
       "index": 0,
       "layout": "IPY_MODEL_7aaae9b612ca421a861020bd639a23c0",
       "style": "IPY_MODEL_d9083c42b2c94912875396563a7ea152"
      }
     },
     "3ae1bf1bae734e269b52aed8aefa8e01": {
      "model_module": "jupyter-leaflet",
      "model_module_version": "^0.12.1",
      "model_name": "LeafletTileLayerModel",
      "state": {
       "_model_module_version": "^0.12.1",
       "_view_module_version": "^0.12.1",
       "attribution": "Map tiles by <a href=\"https://labs.strava.com/heatmap\">Strava 2017</a>",
       "max_native_zoom": 18,
       "max_zoom": 15,
       "min_native_zoom": 0,
       "min_zoom": 1,
       "name": "Strava.Water",
       "options": [
        "attribution",
        "detect_retina",
        "max_native_zoom",
        "max_zoom",
        "min_native_zoom",
        "min_zoom",
        "no_wrap",
        "tile_size",
        "tms"
       ],
       "url": "https://heatmap-external-a.strava.com//tiles/water/blue/{z}/{x}/{y}.png?v=19"
      }
     },
     "3b052ebd20184e0597cb7e47dd223751": {
      "model_module": "jupyter-leaflet",
      "model_module_version": "^0.12.1",
      "model_name": "LeafletTileLayerModel",
      "state": {
       "_model_module_version": "^0.12.1",
       "_view_module_version": "^0.12.1",
       "attribution": "Map tiles by <a href=\"https://labs.strava.com/heatmap\">Strava 2017</a>",
       "max_native_zoom": 18,
       "max_zoom": 15,
       "min_native_zoom": 0,
       "min_zoom": 1,
       "name": "Strava.All",
       "options": [
        "attribution",
        "detect_retina",
        "max_native_zoom",
        "max_zoom",
        "min_native_zoom",
        "min_zoom",
        "no_wrap",
        "tile_size",
        "tms"
       ],
       "url": "https://heatmap-external-a.strava.com//tiles/all/hot/{z}/{x}/{y}.png?v=19"
      }
     },
     "3b080decabf9485883bb0d0b8a1e225e": {
      "model_module": "jupyter-leaflet",
      "model_module_version": "^0.17",
      "model_name": "LeafletMapStyleModel",
      "state": {
       "_model_module_version": "^0.17",
       "cursor": "move"
      }
     },
     "3b1b9b50d7334390bfb3b88cb3bab5f1": {
      "model_module": "@jupyter-widgets/base",
      "model_module_version": "1.2.0",
      "model_name": "LayoutModel",
      "state": {}
     },
     "3b1eb8690349446eb6a5f25862774a0a": {
      "model_module": "jupyter-leaflet",
      "model_module_version": "^0.17",
      "model_name": "LeafletZoomControlModel",
      "state": {
       "_model_module_version": "^0.17",
       "_view_module_version": "^0.17",
       "options": [
        "position",
        "zoom_in_text",
        "zoom_in_title",
        "zoom_out_text",
        "zoom_out_title"
       ]
      }
     },
     "3b1ebff34aba44b8b56b0a7ca7351418": {
      "model_module": "jupyter-leaflet",
      "model_module_version": "^0.17",
      "model_name": "LeafletMapStyleModel",
      "state": {
       "_model_module_version": "^0.17"
      }
     },
     "3b3c412c35514bec9eb0d7b8618fa892": {
      "model_module": "@jupyter-widgets/base",
      "model_module_version": "1.2.0",
      "model_name": "LayoutModel",
      "state": {}
     },
     "3b65606e94cc47f4889fb6e58c20f8fc": {
      "model_module": "@jupyter-widgets/base",
      "model_module_version": "1.2.0",
      "model_name": "LayoutModel",
      "state": {}
     },
     "3b6ca2dc7bad45feb806c548e0913ceb": {
      "model_module": "@jupyter-widgets/controls",
      "model_module_version": "1.5.0",
      "model_name": "SelectionSliderModel",
      "state": {
       "_options_labels": [
        "13:00",
        "13:30",
        "14:00",
        "14:30",
        "15:00",
        "15:30",
        "16:00",
        "16:30"
       ],
       "description": "Time:",
       "index": 0,
       "layout": "IPY_MODEL_3764b4d4709045c99ab7a935f37e69da",
       "style": "IPY_MODEL_a69b15450ea345af8d7cf66205bcecca"
      }
     },
     "3b6e1797e1b6448da3c928efd3df3457": {
      "model_module": "jupyter-leaflet",
      "model_module_version": "^0.17",
      "model_name": "LeafletMapModel",
      "state": {
       "_model_module_version": "^0.17",
       "_view_module_version": "^0.17",
       "bottom": 5574,
       "center": [
        52.5162,
        13.3777
       ],
       "controls": [
        "IPY_MODEL_8704122cac3f409fabacbb9d866b6595",
        "IPY_MODEL_1369c7789091467abde7c7c72f65b4fe"
       ],
       "default_style": "IPY_MODEL_c0415202f7624aae97c37ae5817dc509",
       "dragging_style": "IPY_MODEL_a8f47baee0f4478e8ede3d9749aac006",
       "east": 24.01611328125,
       "fullscreen": false,
       "interpolation": "bilinear",
       "layers": [
        "IPY_MODEL_2e7fb98bce76482eb640ea10989fc91a"
       ],
       "layout": "IPY_MODEL_d08cd84d88734dd0aeb3c249e266c566",
       "left": 8316,
       "modisdate": "2023-07-11",
       "north": 55.10351605801967,
       "options": [
        "bounce_at_zoom_limits",
        "box_zoom",
        "center",
        "close_popup_on_click",
        "double_click_zoom",
        "dragging",
        "fullscreen",
        "inertia",
        "inertia_deceleration",
        "inertia_max_speed",
        "interpolation",
        "keyboard",
        "keyboard_pan_offset",
        "keyboard_zoom_offset",
        "max_zoom",
        "min_zoom",
        "prefer_canvas",
        "scroll_wheel_zoom",
        "tap",
        "tap_tolerance",
        "touch_zoom",
        "world_copy_jump",
        "zoom",
        "zoom_animation_threshold",
        "zoom_delta",
        "zoom_snap"
       ],
       "prefer_canvas": false,
       "right": 9285,
       "south": 49.75287993415023,
       "style": "IPY_MODEL_ffd539a14a5a49bbbd4efaf25760bbdb",
       "top": 5174,
       "west": 2.7246093750000004,
       "window_url": "http://localhost:8888/notebooks/js/ipyleaflet.ipynb#",
       "zoom": 6
      }
     },
     "3b703d2cc34d4b21b0d8a0cf874354db": {
      "model_module": "@jupyter-widgets/base",
      "model_module_version": "1.2.0",
      "model_name": "LayoutModel",
      "state": {}
     },
     "3bb2856dd18b436fba01dbae9b8de050": {
      "model_module": "jupyter-leaflet",
      "model_module_version": "^0.11.2",
      "model_name": "LeafletMapModel",
      "state": {
       "_model_module_version": "^0.11.2",
       "_view_module_version": "^0.11.2",
       "basemap": {
        "attribution": "Tiles courtesy of <a href=\"http://openstreetmap.se/\" target=\"_blank\">OpenStreetMap Sweden</a> &mdash; Map data &copy; <a href=\"http://www.openstreetmap.org/copyright\">OpenStreetMap</a>",
        "max_zoom": 18,
        "name": "Hydda.Full",
        "url": "http://{s}.tile.openstreetmap.se/hydda/full/{z}/{x}/{y}.png"
       },
       "center": [
        48,
        8
       ],
       "controls": [
        "IPY_MODEL_c12f9be0beb142719cbfa6c69b16b783",
        "IPY_MODEL_588226bd8ddd4944b7658e5e9b02afe0",
        "IPY_MODEL_46712550dc8c4b758b64c402a9409f5a"
       ],
       "default_style": "IPY_MODEL_16ba9fe3287b40f6a96d3c2872498737",
       "dragging_style": "IPY_MODEL_898b8822b0464749859f897198adb846",
       "east": 10.695190429687502,
       "fullscreen": false,
       "interpolation": "bilinear",
       "layers": [
        "IPY_MODEL_ff403c6cdc2e47cc86c7659d7d6120e1",
        "IPY_MODEL_129a30e098a7403ab5a776c603009727",
        "IPY_MODEL_fbcb85263e844af5893f3ef86a5eea1e"
       ],
       "layout": "IPY_MODEL_6a4722c755124c49b4395f779f93fc47",
       "modisdate": "yesterday",
       "north": 48.73083222613518,
       "options": [
        "basemap",
        "bounce_at_zoom_limits",
        "box_zoom",
        "center",
        "close_popup_on_click",
        "double_click_zoom",
        "dragging",
        "fullscreen",
        "inertia",
        "inertia_deceleration",
        "inertia_max_speed",
        "interpolation",
        "keyboard",
        "keyboard_pan_offset",
        "keyboard_zoom_offset",
        "max_zoom",
        "min_zoom",
        "scroll_wheel_zoom",
        "tap",
        "tap_tolerance",
        "touch_zoom",
        "world_copy_jump",
        "zoom",
        "zoom_animation_threshold",
        "zoom_start"
       ],
       "south": 47.260592193424706,
       "style": "IPY_MODEL_16ba9fe3287b40f6a96d3c2872498737",
       "west": 5.300903320312501,
       "window_url": "http://localhost:8888/notebooks/js/ipyleaflet.ipynb",
       "zoom": 8
      }
     },
     "3c2d2c0a2f394ce6b6ae5252600e8694": {
      "model_module": "jupyter-leaflet",
      "model_module_version": "^0.12.1",
      "model_name": "LeafletMapModel",
      "state": {
       "_model_module_version": "^0.12.1",
       "_view_module_version": "^0.12.1",
       "center": [
        30.661,
        -88.645
       ],
       "controls": [
        "IPY_MODEL_644d8a01d2de4b5db9005b5e27c4aaf0",
        "IPY_MODEL_2cf124882cf04238b076f7608ad1d7bb"
       ],
       "default_style": "IPY_MODEL_1c6a3ae0e6534b73af01fda72066a5f4",
       "dragging_style": "IPY_MODEL_05a2364882a14114aab2f400783ec299",
       "east": -67.58789062500001,
       "fullscreen": false,
       "interpolation": "bilinear",
       "layers": [
        "IPY_MODEL_b38935c8c2c74c289df7aeb7fb424911",
        "IPY_MODEL_8678da2f18c94c5dab1e7ef598ad8d10"
       ],
       "layout": "IPY_MODEL_aab407d3479d4fe482464a5570ddc978",
       "modisdate": "yesterday",
       "north": 37.92686760148135,
       "options": [
        "bounce_at_zoom_limits",
        "box_zoom",
        "center",
        "close_popup_on_click",
        "double_click_zoom",
        "dragging",
        "fullscreen",
        "inertia",
        "inertia_deceleration",
        "inertia_max_speed",
        "interpolation",
        "keyboard",
        "keyboard_pan_offset",
        "keyboard_zoom_offset",
        "max_zoom",
        "min_zoom",
        "scroll_wheel_zoom",
        "tap",
        "tap_tolerance",
        "touch_zoom",
        "world_copy_jump",
        "zoom",
        "zoom_animation_threshold",
        "zoom_start"
       ],
       "south": 22.836945920943855,
       "style": "IPY_MODEL_4cd768a1281a4aefa94079deaa0b7766",
       "west": -109.73144531250001,
       "window_url": "http://localhost:8888/notebooks/js/ipyleaflet.ipynb",
       "zoom": 5
      }
     },
     "3c6eee3cd4ef4d9d933e362001441ab7": {
      "model_module": "jupyter-leaflet",
      "model_module_version": "~0.9.2",
      "model_name": "LeafletTileLayerModel",
      "state": {
       "_model_module_version": "~0.9.2",
       "_view_module_version": "~0.9.2",
       "attribution": "Map tiles by <a href=\"https://labs.strava.com/heatmap\">Strava 2017</a>",
       "max_zoom": 15,
       "min_zoom": 1,
       "name": "Strava.Water",
       "options": [
        "attribution",
        "detect_retina",
        "max_zoom",
        "min_zoom",
        "tile_size"
       ],
       "url": "https://heatmap-external-a.strava.com//tiles/water/blue/{z}/{x}/{y}.png?v=19"
      }
     },
     "3cd525bdfe184aecb0d6ac0449df2c52": {
      "model_module": "jupyter-leaflet",
      "model_module_version": "^0.17",
      "model_name": "LeafletTileLayerModel",
      "state": {
       "_model_module_version": "^0.17",
       "_view_module_version": "^0.17",
       "attribution": "&copy; <a href=\"https://www.openstreetmap.org/copyright\">OpenStreetMap</a> contributors",
       "base": true,
       "max_zoom": 19,
       "min_zoom": 1,
       "name": "OpenStreetMap.Mapnik",
       "options": [
        "attribution",
        "bounds",
        "detect_retina",
        "max_native_zoom",
        "max_zoom",
        "min_native_zoom",
        "min_zoom",
        "no_wrap",
        "tile_size",
        "tms",
        "zoom_offset"
       ],
       "url": "https://tile.openstreetmap.org/{z}/{x}/{y}.png"
      }
     },
     "3d6768e1a575403fa6811666468982f1": {
      "model_module": "@jupyter-widgets/base",
      "model_module_version": "1.2.0",
      "model_name": "LayoutModel",
      "state": {}
     },
     "3e52058b50334d04a5921896927fbd55": {
      "model_module": "jupyter-leaflet",
      "model_module_version": "^0.11.2",
      "model_name": "LeafletTileLayerModel",
      "state": {
       "_model_module_version": "^0.11.2",
       "_view_module_version": "^0.11.2",
       "attribution": "Map tiles by <a href=\"https://labs.strava.com/heatmap\">Strava 2017</a>",
       "max_native_zoom": 18,
       "max_zoom": 15,
       "min_native_zoom": 0,
       "min_zoom": 1,
       "name": "Strava.Water",
       "options": [
        "attribution",
        "detect_retina",
        "max_native_zoom",
        "max_zoom",
        "min_native_zoom",
        "min_zoom",
        "no_wrap",
        "tile_size"
       ],
       "url": "https://heatmap-external-a.strava.com//tiles/water/blue/{z}/{x}/{y}.png?v=19"
      }
     },
     "3e5adfbfc39648a9a5f5dfaab95d404b": {
      "model_module": "jupyter-leaflet",
      "model_module_version": "^0.12.1",
      "model_name": "LeafletTileLayerModel",
      "state": {
       "_model_module_version": "^0.12.1",
       "_view_module_version": "^0.12.1",
       "attribution": "",
       "max_native_zoom": 18,
       "max_zoom": 19,
       "min_native_zoom": 0,
       "min_zoom": 1,
       "name": "Countries",
       "options": [
        "attribution",
        "detect_retina",
        "max_native_zoom",
        "max_zoom",
        "min_native_zoom",
        "min_zoom",
        "no_wrap",
        "tile_size",
        "tms"
       ],
       "url": ""
      }
     },
     "3e6f4373ffa94a62b6d5385c985a474e": {
      "model_module": "jupyter-leaflet",
      "model_module_version": "^0.17",
      "model_name": "LeafletMapModel",
      "state": {
       "_model_module_version": "^0.17",
       "_view_module_version": "^0.17",
       "bottom": 1543,
       "center": [
        52.5162,
        13.3777
       ],
       "controls": [
        "IPY_MODEL_cde8664ea7e54901a8231089af564c9b",
        "IPY_MODEL_b509a0a7f09f44a694f1f5dec7565532",
        "IPY_MODEL_bd3bf9151bea4b738d8691866b3196bc"
       ],
       "default_style": "IPY_MODEL_aa9ce80323474599a32ad6e636132943",
       "dragging_style": "IPY_MODEL_48531d54657f4a8eb4bf92fae2e91c8c",
       "east": 55.98632812500001,
       "fullscreen": false,
       "interpolation": "bilinear",
       "layers": [
        "IPY_MODEL_a875065ce73f4602bf05e341945e1bfa"
       ],
       "layout": "IPY_MODEL_8cd7f0627c244b16b379729a49bf4c02",
       "left": 1716,
       "modisdate": "2023-07-11",
       "north": 61.98026726504404,
       "options": [
        "bounce_at_zoom_limits",
        "box_zoom",
        "center",
        "close_popup_on_click",
        "double_click_zoom",
        "dragging",
        "fullscreen",
        "inertia",
        "inertia_deceleration",
        "inertia_max_speed",
        "interpolation",
        "keyboard",
        "keyboard_pan_offset",
        "keyboard_zoom_offset",
        "max_zoom",
        "min_zoom",
        "prefer_canvas",
        "scroll_wheel_zoom",
        "tap",
        "tap_tolerance",
        "touch_zoom",
        "world_copy_jump",
        "zoom",
        "zoom_animation_threshold",
        "zoom_delta",
        "zoom_snap"
       ],
       "prefer_canvas": false,
       "right": 2685,
       "south": 40.51379915504413,
       "style": "IPY_MODEL_aa9ce80323474599a32ad6e636132943",
       "top": 1143,
       "west": -29.179687500000004,
       "window_url": "http://localhost:8888/notebooks/js/ipyleaflet.ipynb#",
       "zoom": 4
      }
     },
     "3e8ba82837b9467e8cfb5b2d11a4328d": {
      "model_module": "@jupyter-widgets/controls",
      "model_module_version": "1.5.0",
      "model_name": "HBoxModel",
      "state": {
       "children": [
        "IPY_MODEL_2a0f6d89c0844b93a69ef9742d7acb6b",
        "IPY_MODEL_d4b96f425b1344aa927c1be91ead6e43"
       ],
       "layout": "IPY_MODEL_6fd0b77f69884506a35c4cde1acd94ae"
      }
     },
     "3eb63a12eb894eed93f2f7e6246f83eb": {
      "model_module": "jupyter-leaflet",
      "model_module_version": "^0.12.1",
      "model_name": "LeafletMapModel",
      "state": {
       "_model_module_version": "^0.12.1",
       "_view_module_version": "^0.12.1",
       "center": [
        30.675715404167743,
        -88.63769531250001
       ],
       "controls": [
        "IPY_MODEL_46bb6d1b87ab4ff2a1be33d61538ef54",
        "IPY_MODEL_adbb091b7e0c45f5a0f54d0bdcbf751a"
       ],
       "default_style": "IPY_MODEL_39e5950b54a74c47bf631b19e4be70dd",
       "dragging_style": "IPY_MODEL_bc007a82ee5c4adb91ff9952c64077e9",
       "east": -180,
       "fullscreen": false,
       "interpolation": "bilinear",
       "layers": [
        "IPY_MODEL_11281905205549378725a08601d81ba8",
        "IPY_MODEL_a964a88e215041b29322571106c45ed5"
       ],
       "layout": "IPY_MODEL_06d0e549dbd54b42bccb2e4c8034f8e3",
       "modisdate": "yesterday",
       "north": -90,
       "options": [
        "bounce_at_zoom_limits",
        "box_zoom",
        "center",
        "close_popup_on_click",
        "double_click_zoom",
        "dragging",
        "fullscreen",
        "inertia",
        "inertia_deceleration",
        "inertia_max_speed",
        "interpolation",
        "keyboard",
        "keyboard_pan_offset",
        "keyboard_zoom_offset",
        "max_zoom",
        "min_zoom",
        "scroll_wheel_zoom",
        "tap",
        "tap_tolerance",
        "touch_zoom",
        "world_copy_jump",
        "zoom",
        "zoom_animation_threshold",
        "zoom_start"
       ],
       "south": 90,
       "style": "IPY_MODEL_39e5950b54a74c47bf631b19e4be70dd",
       "west": 180,
       "window_url": "http://localhost:8888/notebooks/js/ipyleaflet.ipynb",
       "zoom": 5
      }
     },
     "3f040acbb2d04277865e559de22986ec": {
      "model_module": "@jupyter-widgets/controls",
      "model_module_version": "1.5.0",
      "model_name": "SelectionSliderModel",
      "state": {
       "_options_labels": [
        "13:00",
        "13:30",
        "14:00",
        "14:30",
        "15:00",
        "15:30",
        "16:00",
        "16:30"
       ],
       "description": "Time:",
       "index": 3,
       "layout": "IPY_MODEL_d11daaca635e402ba41b64053b030bb3",
       "style": "IPY_MODEL_eb22b24dedd34503ae30f24c6b94490c"
      }
     },
     "3f137d8fd86944ca8293dbf2ea55f595": {
      "model_module": "jupyter-leaflet",
      "model_module_version": "^0.12.1",
      "model_name": "LeafletTileLayerModel",
      "state": {
       "_model_module_version": "^0.12.1",
       "_view_module_version": "^0.12.1",
       "attribution": "&copy; <a href=\"http://www.openstreetmap.org/copyright\">OpenStreetMap</a> &copy; <a href=\"http://cartodb.com/attributions\">CartoDB</a>",
       "base": true,
       "max_native_zoom": 18,
       "max_zoom": 20,
       "min_native_zoom": 0,
       "min_zoom": 1,
       "name": "CartoDB.Positron",
       "options": [
        "attribution",
        "detect_retina",
        "max_native_zoom",
        "max_zoom",
        "min_native_zoom",
        "min_zoom",
        "no_wrap",
        "tile_size",
        "tms"
       ],
       "url": "http://c.basemaps.cartocdn.com/light_all/{z}/{x}/{y}.png"
      }
     },
     "3f1b6e1508584ffea076b8ed956cc9c0": {
      "model_module": "@jupyter-widgets/controls",
      "model_module_version": "1.5.0",
      "model_name": "HBoxModel",
      "state": {
       "children": [
        "IPY_MODEL_0d31608b2b2248ab97deb12a674435f3",
        "IPY_MODEL_084e1f4933004fd68f3996358e76d5a5"
       ],
       "layout": "IPY_MODEL_665121f53548486b96d2e3a5ba2d1570"
      }
     },
     "3fb49d3867294d60a0a7ac57de5ca969": {
      "model_module": "jupyter-leaflet",
      "model_module_version": "^0.12.1",
      "model_name": "LeafletMapStyleModel",
      "state": {
       "_model_module_version": "^0.12.1"
      }
     },
     "3fd8f9f76aea4007a96b1ca3c99527b8": {
      "model_module": "jupyter-leaflet",
      "model_module_version": "^0.17",
      "model_name": "LeafletLayersControlModel",
      "state": {
       "_model_module_version": "^0.17",
       "_view_module_version": "^0.17",
       "options": [
        "position"
       ]
      }
     },
     "400c7ea785824517b0f086bf97e09ab8": {
      "model_module": "jupyter-leaflet",
      "model_module_version": "^0.17",
      "model_name": "LeafletTileLayerModel",
      "state": {
       "_model_module_version": "^0.17",
       "_view_module_version": "^0.17",
       "attribution": "&copy; <a href=\"https://www.openstreetmap.org/copyright\">OpenStreetMap</a> contributors",
       "base": true,
       "max_zoom": 19,
       "min_zoom": 1,
       "name": "OpenStreetMap.Mapnik",
       "options": [
        "attribution",
        "bounds",
        "detect_retina",
        "max_native_zoom",
        "max_zoom",
        "min_native_zoom",
        "min_zoom",
        "no_wrap",
        "tile_size",
        "tms",
        "zoom_offset"
       ],
       "url": "https://tile.openstreetmap.org/{z}/{x}/{y}.png"
      }
     },
     "402cc7fe0e804bbbb6f372510cd7d5ed": {
      "model_module": "@jupyter-widgets/base",
      "model_module_version": "1.2.0",
      "model_name": "LayoutModel",
      "state": {}
     },
     "409fd13e71774f7bb9a6abe53a3e3f8b": {
      "model_module": "@jupyter-widgets/base",
      "model_module_version": "1.2.0",
      "model_name": "LayoutModel",
      "state": {}
     },
     "40eea482080c40188eb6bccbca892aca": {
      "model_module": "jupyter-leaflet",
      "model_module_version": "^0.12.1",
      "model_name": "LeafletMapModel",
      "state": {
       "_model_module_version": "^0.12.1",
       "_view_module_version": "^0.12.1",
       "center": [
        30.675715404167743,
        -88.63769531250001
       ],
       "controls": [
        "IPY_MODEL_b609ab7dd7bc47d495d1922fc7f86940",
        "IPY_MODEL_e6ef6d1b2a4e4fbe9e3b9c64a6a6762b"
       ],
       "default_style": "IPY_MODEL_28f7c3d6d7264f4fabe300a2ce5e8f86",
       "dragging_style": "IPY_MODEL_06d0b8caf72c41d6b79f2b1fe549e336",
       "east": -180,
       "fullscreen": false,
       "interpolation": "bilinear",
       "layers": [
        "IPY_MODEL_c08aee09fe2d4662bc5642362ccf539f",
        "IPY_MODEL_ba8ec3ce1817473fa0d33a75abebc474"
       ],
       "layout": "IPY_MODEL_2c9a390b26464066807062b7c4685c38",
       "modisdate": "yesterday",
       "north": -90,
       "options": [
        "bounce_at_zoom_limits",
        "box_zoom",
        "center",
        "close_popup_on_click",
        "double_click_zoom",
        "dragging",
        "fullscreen",
        "inertia",
        "inertia_deceleration",
        "inertia_max_speed",
        "interpolation",
        "keyboard",
        "keyboard_pan_offset",
        "keyboard_zoom_offset",
        "max_zoom",
        "min_zoom",
        "scroll_wheel_zoom",
        "tap",
        "tap_tolerance",
        "touch_zoom",
        "world_copy_jump",
        "zoom",
        "zoom_animation_threshold",
        "zoom_start"
       ],
       "south": 90,
       "style": "IPY_MODEL_28f7c3d6d7264f4fabe300a2ce5e8f86",
       "west": 180,
       "window_url": "http://localhost:8888/notebooks/js/ipyleaflet.ipynb",
       "zoom": 5
      }
     },
     "411c791aa63944528addcab259586c96": {
      "model_module": "jupyter-leaflet",
      "model_module_version": "^0.12.6",
      "model_name": "LeafletMapStyleModel",
      "state": {
       "_model_module_version": "^0.12.6"
      }
     },
     "4134bf1144554ff1b324d8217b069893": {
      "model_module": "jupyter-leaflet",
      "model_module_version": "^0.17",
      "model_name": "LeafletMapStyleModel",
      "state": {
       "_model_module_version": "^0.17"
      }
     },
     "41470029d0af46b5ac2f87b4736f1cd3": {
      "model_module": "jupyter-leaflet",
      "model_module_version": "^0.17",
      "model_name": "LeafletMapStyleModel",
      "state": {
       "_model_module_version": "^0.17"
      }
     },
     "416e40a59ba24909907210bbd61da42a": {
      "model_module": "jupyter-leaflet",
      "model_module_version": "^0.17",
      "model_name": "LeafletTileLayerModel",
      "state": {
       "_model_module_version": "^0.17",
       "_view_module_version": "^0.17",
       "attribution": "&copy; <a href=\"https://www.openstreetmap.org/copyright\">OpenStreetMap</a> contributors",
       "base": true,
       "max_zoom": 19,
       "min_zoom": 1,
       "name": "OpenStreetMap.Mapnik",
       "options": [
        "attribution",
        "bounds",
        "detect_retina",
        "max_native_zoom",
        "max_zoom",
        "min_native_zoom",
        "min_zoom",
        "no_wrap",
        "tile_size",
        "tms",
        "zoom_offset"
       ],
       "url": "https://tile.openstreetmap.org/{z}/{x}/{y}.png"
      }
     },
     "41ca183bddee4336b1b6b0c13712ed0c": {
      "model_module": "@jupyter-widgets/base",
      "model_module_version": "1.2.0",
      "model_name": "LayoutModel",
      "state": {}
     },
     "41fafba38249417683e11ef3a3e572cb": {
      "model_module": "@jupyter-widgets/controls",
      "model_module_version": "1.5.0",
      "model_name": "DescriptionStyleModel",
      "state": {
       "description_width": ""
      }
     },
     "420490ae4419430d98925bd8b47fdd9b": {
      "model_module": "@jupyter-widgets/controls",
      "model_module_version": "1.5.0",
      "model_name": "HBoxModel",
      "state": {
       "children": [
        "IPY_MODEL_d3bbb73b214b453989caeb55e31ab2ad",
        "IPY_MODEL_df9ca5fd229244a38a81268e25187b70"
       ],
       "layout": "IPY_MODEL_e2135b7f69d8473fbf1abf3aede718d1"
      }
     },
     "42dcdda87daf475bad014df1c1bea3d7": {
      "model_module": "jupyter-leaflet",
      "model_module_version": "~0.9.2",
      "model_name": "LeafletMapModel",
      "state": {
       "_model_module_version": "~0.9.2",
       "_view_module_version": "~0.9.2",
       "basemap": {
        "attribution": "Tiles courtesy of <a href=\"http://openstreetmap.se/\" target=\"_blank\">OpenStreetMap Sweden</a> &mdash; Map data &copy; <a href=\"http://www.openstreetmap.org/copyright\">OpenStreetMap</a>",
        "max_zoom": 18,
        "name": "Hydda.Full",
        "url": "http://{s}.tile.openstreetmap.se/hydda/full/{z}/{x}/{y}.png"
       },
       "center": [
        53,
        10
       ],
       "east": 12.689208984375002,
       "interpolation": "bilinear",
       "layers": [
        "IPY_MODEL_d044652d4409436a940c7825d743b777"
       ],
       "layout": "IPY_MODEL_9ec9737151454ecf8902796fd725849f",
       "modisdate": "yesterday",
       "north": 53.657661020298,
       "options": [
        "attribution_control",
        "basemap",
        "bounce_at_zoom_limits",
        "box_zoom",
        "center",
        "close_popup_on_click",
        "double_click_zoom",
        "dragging",
        "inertia",
        "inertia_deceleration",
        "inertia_max_speed",
        "interpolation",
        "keyboard",
        "keyboard_pan_offset",
        "keyboard_zoom_offset",
        "max_zoom",
        "min_zoom",
        "scroll_wheel_zoom",
        "tap",
        "tap_tolerance",
        "touch_zoom",
        "world_copy_jump",
        "zoom",
        "zoom_animation_threshold",
        "zoom_control",
        "zoom_start"
       ],
       "south": 52.33533907188941,
       "west": 7.3114013671875,
       "window_url": "http://localhost:8888/notebooks/js/ipyleaflet.ipynb",
       "zoom": 8
      }
     },
     "42e12a8f26784d939ba55bbdab195cce": {
      "model_module": "@jupyter-widgets/base",
      "model_module_version": "1.2.0",
      "model_name": "LayoutModel",
      "state": {}
     },
     "42fd8d9c6145400986720d1d0a18222c": {
      "model_module": "@jupyter-widgets/base",
      "model_module_version": "1.2.0",
      "model_name": "LayoutModel",
      "state": {}
     },
     "430236840f8b432eb205388b8d07fb01": {
      "model_module": "jupyter-leaflet",
      "model_module_version": "^0.17",
      "model_name": "LeafletLayersControlModel",
      "state": {
       "_model_module_version": "^0.17",
       "_view_module_version": "^0.17",
       "options": [
        "position"
       ]
      }
     },
     "433db74fd2d84a92abe9a2b4ad536e23": {
      "model_module": "@jupyter-widgets/base",
      "model_module_version": "1.2.0",
      "model_name": "LayoutModel",
      "state": {}
     },
     "4345c2f388584bdba1ade7d67018ee20": {
      "model_module": "jupyter-leaflet",
      "model_module_version": "^0.12.1",
      "model_name": "LeafletAttributionControlModel",
      "state": {
       "_model_module_version": "^0.12.1",
       "_view_module_version": "^0.12.1",
       "options": [
        "position",
        "prefix"
       ],
       "position": "bottomright",
       "prefix": "Leaflet"
      }
     },
     "43880b4ab17c4ce198ad29147300bc13": {
      "model_module": "jupyter-leaflet",
      "model_module_version": "^0.17",
      "model_name": "LeafletAttributionControlModel",
      "state": {
       "_model_module_version": "^0.17",
       "_view_module_version": "^0.17",
       "options": [
        "position",
        "prefix"
       ],
       "position": "bottomright",
       "prefix": "ipyleaflet"
      }
     },
     "43933bd4413a48af838c728b2cebc042": {
      "model_module": "jupyter-leaflet",
      "model_module_version": "^0.12.1",
      "model_name": "LeafletTileLayerModel",
      "state": {
       "_model_module_version": "^0.12.1",
       "_view_module_version": "^0.12.1",
       "attribution": "&copy; <a href=\"http://www.openstreetmap.org/copyright\">OpenStreetMap</a> &copy; <a href=\"http://cartodb.com/attributions\">CartoDB</a>",
       "base": true,
       "max_native_zoom": 18,
       "max_zoom": 20,
       "min_native_zoom": 0,
       "min_zoom": 1,
       "name": "CartoDB.Positron",
       "options": [
        "attribution",
        "detect_retina",
        "max_native_zoom",
        "max_zoom",
        "min_native_zoom",
        "min_zoom",
        "no_wrap",
        "tile_size",
        "tms"
       ],
       "url": "http://c.basemaps.cartocdn.com/light_all/{z}/{x}/{y}.png"
      }
     },
     "43a920990bbf48fc8dd248e7c4d0e2b6": {
      "model_module": "jupyter-leaflet",
      "model_module_version": "^0.12.1",
      "model_name": "LeafletMapStyleModel",
      "state": {
       "_model_module_version": "^0.12.1"
      }
     },
     "43b0692537524eccafce569874514b2f": {
      "model_module": "@jupyter-widgets/base",
      "model_module_version": "1.2.0",
      "model_name": "LayoutModel",
      "state": {}
     },
     "43bc5574cfc34903bc95f04b2283d866": {
      "model_module": "jupyter-leaflet",
      "model_module_version": "^0.12.1",
      "model_name": "LeafletMapStyleModel",
      "state": {
       "_model_module_version": "^0.12.1"
      }
     },
     "43f000f9e8c640f3b6d13f8a0ef2f10d": {
      "model_module": "jupyter-leaflet",
      "model_module_version": "^0.12.1",
      "model_name": "LeafletMapStyleModel",
      "state": {
       "_model_module_version": "^0.12.1"
      }
     },
     "446e272488e945ddaed5b5daaca74015": {
      "model_module": "jupyter-leaflet",
      "model_module_version": "^0.12.1",
      "model_name": "LeafletMapStyleModel",
      "state": {
       "_model_module_version": "^0.12.1"
      }
     },
     "4473ab7509444ea3800871bbac3d824d": {
      "model_module": "jupyter-leaflet",
      "model_module_version": "^0.17",
      "model_name": "LeafletAttributionControlModel",
      "state": {
       "_model_module_version": "^0.17",
       "_view_module_version": "^0.17",
       "options": [
        "position",
        "prefix"
       ],
       "position": "bottomright",
       "prefix": "ipyleaflet"
      }
     },
     "447e50906b7e45fe8b4fc0811ebb4221": {
      "model_module": "jupyter-leaflet",
      "model_module_version": "^0.12.6",
      "model_name": "LeafletTileLayerModel",
      "state": {
       "_model_module_version": "^0.12.6",
       "_view_module_version": "^0.12.6",
       "attribution": "Map tiles by <a href=\"https://labs.strava.com/heatmap\">Strava 2017</a>",
       "max_native_zoom": 18,
       "max_zoom": 15,
       "min_native_zoom": 0,
       "min_zoom": 1,
       "name": "Strava.Water",
       "options": [
        "attribution",
        "detect_retina",
        "max_native_zoom",
        "max_zoom",
        "min_native_zoom",
        "min_zoom",
        "no_wrap",
        "tile_size",
        "tms"
       ],
       "url": "https://heatmap-external-a.strava.com//tiles/water/blue/{z}/{x}/{y}.png?v=19"
      }
     },
     "448f88585e2c4d4584b9416640a1cf02": {
      "model_module": "jupyter-leaflet",
      "model_module_version": "^0.17",
      "model_name": "LeafletAttributionControlModel",
      "state": {
       "_model_module_version": "^0.17",
       "_view_module_version": "^0.17",
       "options": [
        "position",
        "prefix"
       ],
       "position": "bottomright",
       "prefix": "ipyleaflet"
      }
     },
     "44c2c1af2e5b4d64bef20855ff12ff27": {
      "model_module": "jupyter-leaflet",
      "model_module_version": "^0.17",
      "model_name": "LeafletMapStyleModel",
      "state": {
       "_model_module_version": "^0.17"
      }
     },
     "44e10cc8005349f781d3d66b0b36684e": {
      "model_module": "jupyter-leaflet",
      "model_module_version": "^0.12.1",
      "model_name": "LeafletZoomControlModel",
      "state": {
       "_model_module_version": "^0.12.1",
       "_view_module_version": "^0.12.1",
       "options": [
        "position",
        "zoom_in_text",
        "zoom_in_title",
        "zoom_out_text",
        "zoom_out_title"
       ]
      }
     },
     "45454e59da2340ed890533e9ae1a7dc5": {
      "model_module": "@jupyter-widgets/controls",
      "model_module_version": "1.5.0",
      "model_name": "SliderStyleModel",
      "state": {
       "description_width": ""
      }
     },
     "4555a699bd1049fb83f4f7004d4bc4a7": {
      "model_module": "jupyter-leaflet",
      "model_module_version": "^0.12.1",
      "model_name": "LeafletTileLayerModel",
      "state": {
       "_model_module_version": "^0.12.1",
       "_view_module_version": "^0.12.1",
       "attribution": "",
       "max_native_zoom": 18,
       "max_zoom": 19,
       "min_native_zoom": 0,
       "min_zoom": 1,
       "name": "Countries",
       "options": [
        "attribution",
        "detect_retina",
        "max_native_zoom",
        "max_zoom",
        "min_native_zoom",
        "min_zoom",
        "no_wrap",
        "tile_size",
        "tms"
       ],
       "url": ""
      }
     },
     "45606fe780e94ab988d3c1a90851b9dd": {
      "model_module": "jupyter-leaflet",
      "model_module_version": "^0.17",
      "model_name": "LeafletMapStyleModel",
      "state": {
       "_model_module_version": "^0.17"
      }
     },
     "45b793e8efbe44bf8c4305bf9c4f01da": {
      "model_module": "@jupyter-widgets/controls",
      "model_module_version": "1.5.0",
      "model_name": "LinkModel",
      "state": {
       "source": [
        "IPY_MODEL_469b8a035cab4913bbac1b6191007bf3",
        "value"
       ],
       "target": [
        "IPY_MODEL_fc5627ceb72f414c8f739c3cb8ec0a6e",
        "zoom"
       ]
      }
     },
     "45c1c5e32ac042aeb041d542362372f5": {
      "model_module": "@jupyter-widgets/controls",
      "model_module_version": "1.5.0",
      "model_name": "SliderStyleModel",
      "state": {
       "description_width": ""
      }
     },
     "460eb2dfac544ab8b3d98a458e2768fd": {
      "model_module": "@jupyter-widgets/base",
      "model_module_version": "1.2.0",
      "model_name": "LayoutModel",
      "state": {}
     },
     "462d082fd56148d2bc423c96bacc6de3": {
      "model_module": "@jupyter-widgets/base",
      "model_module_version": "1.2.0",
      "model_name": "LayoutModel",
      "state": {}
     },
     "46712550dc8c4b758b64c402a9409f5a": {
      "model_module": "jupyter-leaflet",
      "model_module_version": "^0.11.2",
      "model_name": "LeafletLayersControlModel",
      "state": {
       "_model_module_version": "^0.11.2",
       "_view_module_version": "^0.11.2",
       "options": [
        "position"
       ]
      }
     },
     "469b8a035cab4913bbac1b6191007bf3": {
      "model_module": "@jupyter-widgets/controls",
      "model_module_version": "1.5.0",
      "model_name": "IntSliderModel",
      "state": {
       "description": "Zoom level:",
       "layout": "IPY_MODEL_edd16969db974e638cbe8731e980eb39",
       "max": 19,
       "style": "IPY_MODEL_6a1076d6ae0a412ebfcd69d0834d8d4d",
       "value": 12
      }
     },
     "46a704f6fe6f4d1986cd072fa2378500": {
      "model_module": "jupyter-leaflet",
      "model_module_version": "^0.12.1",
      "model_name": "LeafletMapStyleModel",
      "state": {
       "_model_module_version": "^0.12.1",
       "cursor": "move"
      }
     },
     "46bb6d1b87ab4ff2a1be33d61538ef54": {
      "model_module": "jupyter-leaflet",
      "model_module_version": "^0.12.1",
      "model_name": "LeafletZoomControlModel",
      "state": {
       "_model_module_version": "^0.12.1",
       "_view_module_version": "^0.12.1",
       "options": [
        "position",
        "zoom_in_text",
        "zoom_in_title",
        "zoom_out_text",
        "zoom_out_title"
       ]
      }
     },
     "46cb604980f9481ca76af03e530f4d3f": {
      "model_module": "jupyter-leaflet",
      "model_module_version": "^0.17",
      "model_name": "LeafletTileLayerModel",
      "state": {
       "_model_module_version": "^0.17",
       "_view_module_version": "^0.17",
       "attribution": "&copy; <a href=\"https://www.openstreetmap.org/copyright\">OpenStreetMap</a> contributors",
       "base": true,
       "max_zoom": 19,
       "min_zoom": 1,
       "name": "OpenStreetMap.Mapnik",
       "options": [
        "attribution",
        "bounds",
        "detect_retina",
        "max_native_zoom",
        "max_zoom",
        "min_native_zoom",
        "min_zoom",
        "no_wrap",
        "tile_size",
        "tms",
        "zoom_offset"
       ],
       "url": "https://tile.openstreetmap.org/{z}/{x}/{y}.png"
      }
     },
     "471125073c9e4c42a4b5a03d989e17ea": {
      "model_module": "jupyter-leaflet",
      "model_module_version": "~0.9.2",
      "model_name": "LeafletTileLayerModel",
      "state": {
       "_model_module_version": "~0.9.2",
       "_view_module_version": "~0.9.2",
       "attribution": "Map tiles by <a href=\"https://labs.strava.com/heatmap\">Strava 2017</a>",
       "max_zoom": 15,
       "min_zoom": 1,
       "name": "Strava.Water",
       "options": [
        "attribution",
        "detect_retina",
        "max_zoom",
        "min_zoom",
        "tile_size"
       ],
       "url": "https://heatmap-external-a.strava.com//tiles/water/blue/{z}/{x}/{y}.png?v=19"
      }
     },
     "472bda8109524630ab4133fe955f8eca": {
      "model_module": "@jupyter-widgets/controls",
      "model_module_version": "1.5.0",
      "model_name": "HBoxModel",
      "state": {
       "children": [
        "IPY_MODEL_2a0f6d89c0844b93a69ef9742d7acb6b",
        "IPY_MODEL_7e7a835db8084fe299e07b1884c59bcf"
       ],
       "layout": "IPY_MODEL_0c11214072764edba8f9975c92ea5cbd"
      }
     },
     "47574eac11ca433abd4c0238d5736531": {
      "model_module": "jupyter-leaflet",
      "model_module_version": "^0.17",
      "model_name": "LeafletZoomControlModel",
      "state": {
       "_model_module_version": "^0.17",
       "_view_module_version": "^0.17",
       "options": [
        "position",
        "zoom_in_text",
        "zoom_in_title",
        "zoom_out_text",
        "zoom_out_title"
       ]
      }
     },
     "47a25e86543c4fdfaf3d6002b4f01841": {
      "model_module": "jupyter-leaflet",
      "model_module_version": "^0.12.1",
      "model_name": "LeafletTileLayerModel",
      "state": {
       "_model_module_version": "^0.12.1",
       "_view_module_version": "^0.12.1",
       "attribution": "Map tiles by <a href=\"https://labs.strava.com/heatmap\">Strava 2017</a>",
       "max_native_zoom": 18,
       "max_zoom": 15,
       "min_native_zoom": 0,
       "min_zoom": 1,
       "name": "Strava.All",
       "options": [
        "attribution",
        "detect_retina",
        "max_native_zoom",
        "max_zoom",
        "min_native_zoom",
        "min_zoom",
        "no_wrap",
        "tile_size",
        "tms"
       ],
       "url": "https://heatmap-external-a.strava.com//tiles/all/hot/{z}/{x}/{y}.png?v=19"
      }
     },
     "47cc71a739494efdb3760f9ef73d47ed": {
      "model_module": "jupyter-leaflet",
      "model_module_version": "^0.17",
      "model_name": "LeafletMapStyleModel",
      "state": {
       "_model_module_version": "^0.17"
      }
     },
     "481cee36ca27442696fbfa1532ce1a29": {
      "model_module": "jupyter-leaflet",
      "model_module_version": "^0.12.1",
      "model_name": "LeafletTileLayerModel",
      "state": {
       "_model_module_version": "^0.12.1",
       "_view_module_version": "^0.12.1",
       "attribution": "Tiles courtesy of <a href=\"http://openstreetmap.se/\" target=\"_blank\">OpenStreetMap Sweden</a> &mdash; Map data &copy; <a href=\"http://www.openstreetmap.org/copyright\">OpenStreetMap</a>",
       "base": true,
       "max_native_zoom": 18,
       "min_native_zoom": 0,
       "min_zoom": 1,
       "name": "Hydda.Full",
       "options": [
        "attribution",
        "detect_retina",
        "max_native_zoom",
        "max_zoom",
        "min_native_zoom",
        "min_zoom",
        "no_wrap",
        "tile_size",
        "tms"
       ],
       "url": "http://{s}.tile.openstreetmap.se/hydda/full/{z}/{x}/{y}.png"
      }
     },
     "482b7230a3f549fe82ae31897a286573": {
      "model_module": "jupyter-leaflet",
      "model_module_version": "^0.17",
      "model_name": "LeafletMapStyleModel",
      "state": {
       "_model_module_version": "^0.17",
       "cursor": "move"
      }
     },
     "4849430844c84160b174f0897f67c166": {
      "model_module": "@jupyter-widgets/controls",
      "model_module_version": "1.5.0",
      "model_name": "SliderStyleModel",
      "state": {
       "description_width": ""
      }
     },
     "48531d54657f4a8eb4bf92fae2e91c8c": {
      "model_module": "jupyter-leaflet",
      "model_module_version": "^0.17",
      "model_name": "LeafletMapStyleModel",
      "state": {
       "_model_module_version": "^0.17",
       "cursor": "move"
      }
     },
     "48d1a09bc23040f7ba492bf79771e4c4": {
      "model_module": "@jupyter-widgets/base",
      "model_module_version": "1.2.0",
      "model_name": "LayoutModel",
      "state": {}
     },
     "48e3524a61204a8997105ab075af30db": {
      "model_module": "jupyter-leaflet",
      "model_module_version": "^0.17",
      "model_name": "LeafletMapStyleModel",
      "state": {
       "_model_module_version": "^0.17"
      }
     },
     "48edcaf1d5984dee93fee49a59b10990": {
      "model_module": "jupyter-leaflet",
      "model_module_version": "^0.17",
      "model_name": "LeafletWMSLayerModel",
      "state": {
       "_model_module_version": "^0.17",
       "_view_module_version": "^0.17",
       "attribution": "Weather data © 2012 IEM Nexrad",
       "crs": {
        "custom": false,
        "name": "EPSG3857"
       },
       "format": "image/png",
       "layers": "nexrad-n0r-wmst",
       "options": [
        "attribution",
        "bounds",
        "detect_retina",
        "format",
        "layers",
        "max_native_zoom",
        "max_zoom",
        "min_native_zoom",
        "min_zoom",
        "no_wrap",
        "styles",
        "tile_size",
        "time",
        "tms",
        "transparent",
        "uppercase",
        "zoom_offset"
       ],
       "time": "2005-08-29T13:00",
       "transparent": true,
       "url": "https://mesonet.agron.iastate.edu/cgi-bin/wms/nexrad/n0r-t.cgi?"
      }
     },
     "490a59f2bc1446979f7b2b324cc6fb23": {
      "model_module": "jupyter-leaflet",
      "model_module_version": "^0.17",
      "model_name": "LeafletMapModel",
      "state": {
       "_model_module_version": "^0.17",
       "_view_module_version": "^0.17",
       "bottom": 5574,
       "center": [
        52.5162,
        13.3777
       ],
       "controls": [
        "IPY_MODEL_5c66f1d778da46dca685e8f3fa7174ba",
        "IPY_MODEL_237613f6a8fe42619456bca2298c14e2"
       ],
       "default_style": "IPY_MODEL_9913471183154beba366547952539b21",
       "dragging_style": "IPY_MODEL_3140e612aef24dab83b339e3c16423c0",
       "east": 24.01611328125,
       "fullscreen": false,
       "interpolation": "bilinear",
       "layers": [
        "IPY_MODEL_8359c26d12ab4617ac668b9675bef1f4"
       ],
       "layout": "IPY_MODEL_5fdd8a7741b740c091cea4e1ae42db6d",
       "left": 8316,
       "modisdate": "2023-07-11",
       "north": 55.10351605801967,
       "options": [
        "bounce_at_zoom_limits",
        "box_zoom",
        "center",
        "close_popup_on_click",
        "double_click_zoom",
        "dragging",
        "fullscreen",
        "inertia",
        "inertia_deceleration",
        "inertia_max_speed",
        "interpolation",
        "keyboard",
        "keyboard_pan_offset",
        "keyboard_zoom_offset",
        "max_zoom",
        "min_zoom",
        "prefer_canvas",
        "scroll_wheel_zoom",
        "tap",
        "tap_tolerance",
        "touch_zoom",
        "world_copy_jump",
        "zoom",
        "zoom_animation_threshold",
        "zoom_delta",
        "zoom_snap"
       ],
       "prefer_canvas": false,
       "right": 9285,
       "south": 49.75287993415023,
       "style": "IPY_MODEL_54d03cd27ac246d9a9a1213bdda6e558",
       "top": 5174,
       "west": 2.7246093750000004,
       "window_url": "http://localhost:8888/notebooks/js/ipyleaflet.ipynb#",
       "zoom": 6
      }
     },
     "491292837b8e4402915c6ac10c0787a1": {
      "model_module": "jupyter-leaflet",
      "model_module_version": "^0.12.1",
      "model_name": "LeafletMapStyleModel",
      "state": {
       "_model_module_version": "^0.12.1",
       "cursor": "move"
      }
     },
     "4961ce892d9d47b29cba21e4fa250ca4": {
      "model_module": "jupyter-leaflet",
      "model_module_version": "~0.9.2",
      "model_name": "LeafletMapModel",
      "state": {
       "_model_module_version": "~0.9.2",
       "_view_module_version": "~0.9.2",
       "basemap": {
        "attribution": "Map data (c) <a href=\"https://openstreetmap.org\">OpenStreetMap</a> contributors",
        "max_zoom": 19,
        "url": "https://{s}.tile.openstreetmap.org/{z}/{x}/{y}.png"
       },
       "center": [
        48,
        7.9
       ],
       "east": 8.234252929687502,
       "interpolation": "bilinear",
       "layers": [
        "IPY_MODEL_097d33fd10394a13a45ecff73e88bfcc"
       ],
       "layout": "IPY_MODEL_26c8cccfc7024475b110da85655c7c03",
       "modisdate": "yesterday",
       "north": 48.18348549519126,
       "options": [
        "attribution_control",
        "basemap",
        "bounce_at_zoom_limits",
        "box_zoom",
        "center",
        "close_popup_on_click",
        "double_click_zoom",
        "dragging",
        "inertia",
        "inertia_deceleration",
        "inertia_max_speed",
        "interpolation",
        "keyboard",
        "keyboard_pan_offset",
        "keyboard_zoom_offset",
        "max_zoom",
        "min_zoom",
        "scroll_wheel_zoom",
        "tap",
        "tap_tolerance",
        "touch_zoom",
        "world_copy_jump",
        "zoom",
        "zoom_animation_threshold",
        "zoom_control",
        "zoom_start"
       ],
       "south": 47.81592114659014,
       "west": 7.565460205078126,
       "window_url": "http://localhost:8888/notebooks/js/ipyleaflet.ipynb",
       "zoom": 10
      }
     },
     "4a01fe2be4374d299df3a3b1b1317c6e": {
      "model_module": "jupyter-leaflet",
      "model_module_version": "^0.12.1",
      "model_name": "LeafletAttributionControlModel",
      "state": {
       "_model_module_version": "^0.12.1",
       "_view_module_version": "^0.12.1",
       "options": [
        "position",
        "prefix"
       ],
       "position": "bottomright",
       "prefix": "Leaflet"
      }
     },
     "4a3d704b75ed45248054b03d9e1caa14": {
      "model_module": "@jupyter-widgets/base",
      "model_module_version": "1.2.0",
      "model_name": "LayoutModel",
      "state": {}
     },
     "4a5560bfb9074e539258c81c802370d6": {
      "model_module": "@jupyter-widgets/controls",
      "model_module_version": "1.5.0",
      "model_name": "LabelModel",
      "state": {
       "layout": "IPY_MODEL_1c4fbcdefb7944fcb4f9bcb9e90631bc",
       "style": "IPY_MODEL_bc453944cdeb4621ac12ec07f7366b45"
      }
     },
     "4a7b48d1d86643d5b41a41f2a7620bf1": {
      "model_module": "@jupyter-widgets/base",
      "model_module_version": "1.2.0",
      "model_name": "LayoutModel",
      "state": {}
     },
     "4aafc4a9dd9d469ba9de94b718407ad9": {
      "model_module": "jupyter-leaflet",
      "model_module_version": "~0.9.2",
      "model_name": "LeafletTileLayerModel",
      "state": {
       "_model_module_version": "~0.9.2",
       "_view_module_version": "~0.9.2",
       "base": true,
       "max_zoom": 19,
       "min_zoom": 1,
       "options": [
        "attribution",
        "detect_retina",
        "max_zoom",
        "min_zoom",
        "tile_size"
       ]
      }
     },
     "4adaa14899314d62a9c40d1cba4ce1f3": {
      "model_module": "jupyter-leaflet",
      "model_module_version": "^0.17",
      "model_name": "LeafletZoomControlModel",
      "state": {
       "_model_module_version": "^0.17",
       "_view_module_version": "^0.17",
       "options": [
        "position",
        "zoom_in_text",
        "zoom_in_title",
        "zoom_out_text",
        "zoom_out_title"
       ]
      }
     },
     "4b0d5f61b81f46bfb6f2f03e6b3bf955": {
      "model_module": "@jupyter-widgets/base",
      "model_module_version": "1.2.0",
      "model_name": "LayoutModel",
      "state": {}
     },
     "4b5b43b4e06c4e7c827ed337390a5308": {
      "model_module": "@jupyter-widgets/base",
      "model_module_version": "1.2.0",
      "model_name": "LayoutModel",
      "state": {}
     },
     "4bf599fcfa384f489c6e66441c80c3f6": {
      "model_module": "jupyter-leaflet",
      "model_module_version": "^0.17",
      "model_name": "LeafletMapStyleModel",
      "state": {
       "_model_module_version": "^0.17"
      }
     },
     "4c2137833df7427c86bf21f139cdd19a": {
      "model_module": "jupyter-leaflet",
      "model_module_version": "^0.17",
      "model_name": "LeafletMapStyleModel",
      "state": {
       "_model_module_version": "^0.17"
      }
     },
     "4c28d532d8b44c479d270f52d3de069d": {
      "model_module": "jupyter-leaflet",
      "model_module_version": "^0.17",
      "model_name": "LeafletMapModel",
      "state": {
       "_model_module_version": "^0.17",
       "_view_module_version": "^0.17",
       "bottom": 5574,
       "center": [
        52.5162,
        13.3777
       ],
       "controls": [
        "IPY_MODEL_dba7f4edbcbb4c79bad66c7b9a2b482a",
        "IPY_MODEL_af21055eb4f24561bffd24d4bfe9c5aa"
       ],
       "default_style": "IPY_MODEL_5f242d9f59144195aa93aaf24a9740e3",
       "dragging_style": "IPY_MODEL_5da5dbc6a2d24d2aa96e86123a01d7f2",
       "east": 24.01611328125,
       "fullscreen": false,
       "interpolation": "bilinear",
       "layers": [
        "IPY_MODEL_1b49195b1a0f4260bf735e9c5612a8f3"
       ],
       "layout": "IPY_MODEL_6e30685494864a7499f8a6d57ec77c5b",
       "left": 8316,
       "modisdate": "2023-07-11",
       "north": 55.10351605801967,
       "options": [
        "bounce_at_zoom_limits",
        "box_zoom",
        "center",
        "close_popup_on_click",
        "double_click_zoom",
        "dragging",
        "fullscreen",
        "inertia",
        "inertia_deceleration",
        "inertia_max_speed",
        "interpolation",
        "keyboard",
        "keyboard_pan_offset",
        "keyboard_zoom_offset",
        "max_zoom",
        "min_zoom",
        "prefer_canvas",
        "scroll_wheel_zoom",
        "tap",
        "tap_tolerance",
        "touch_zoom",
        "world_copy_jump",
        "zoom",
        "zoom_animation_threshold",
        "zoom_delta",
        "zoom_snap"
       ],
       "prefer_canvas": false,
       "right": 9285,
       "south": 49.75287993415023,
       "style": "IPY_MODEL_9b7941fc2c9941019d205127d08c5c9e",
       "top": 5174,
       "west": 2.7246093750000004,
       "window_url": "http://localhost:8888/notebooks/js/ipyleaflet.ipynb#",
       "zoom": 6
      }
     },
     "4c3add49bf144c69ac20210e8ce65cfd": {
      "model_module": "@jupyter-widgets/base",
      "model_module_version": "1.2.0",
      "model_name": "LayoutModel",
      "state": {}
     },
     "4c6db0e191b241b898a3a90ae676ff82": {
      "model_module": "jupyter-leaflet",
      "model_module_version": "^0.12.1",
      "model_name": "LeafletMapStyleModel",
      "state": {
       "_model_module_version": "^0.12.1",
       "cursor": "move"
      }
     },
     "4c831ddc48e9428ba2eb13c873a1e6e8": {
      "model_module": "jupyter-leaflet",
      "model_module_version": "^0.17",
      "model_name": "LeafletAttributionControlModel",
      "state": {
       "_model_module_version": "^0.17",
       "_view_module_version": "^0.17",
       "options": [
        "position",
        "prefix"
       ],
       "position": "bottomright",
       "prefix": "ipyleaflet"
      }
     },
     "4cccbe8842f94fd9b47c8bffa8325c46": {
      "model_module": "@jupyter-widgets/controls",
      "model_module_version": "1.5.0",
      "model_name": "LinkModel",
      "state": {
       "source": [
        "IPY_MODEL_8ac89e5599b1412cb99d7b28356d5064",
        "value"
       ],
       "target": [
        "IPY_MODEL_55152641e0f54870ab702c2f54e920a3",
        "zoom"
       ]
      }
     },
     "4cd768a1281a4aefa94079deaa0b7766": {
      "model_module": "jupyter-leaflet",
      "model_module_version": "^0.12.1",
      "model_name": "LeafletMapStyleModel",
      "state": {
       "_model_module_version": "^0.12.1"
      }
     },
     "4ce331d5a6e94ae5bfb550978a5ce94b": {
      "model_module": "@jupyter-widgets/base",
      "model_module_version": "1.2.0",
      "model_name": "LayoutModel",
      "state": {}
     },
     "4ce5742460044447bf1b132fbb65a802": {
      "model_module": "@jupyter-widgets/base",
      "model_module_version": "1.2.0",
      "model_name": "LayoutModel",
      "state": {}
     },
     "4d4bd6c78e2946e9ba05153dfcb13aac": {
      "model_module": "jupyter-leaflet",
      "model_module_version": "^0.12.1",
      "model_name": "LeafletWMSLayerModel",
      "state": {
       "_model_module_version": "^0.12.1",
       "_view_module_version": "^0.12.1",
       "attribution": "Weather data © 2012 IEM Nexrad",
       "crs": "EPSG3857",
       "format": "image/png",
       "layers": "nexrad-n0r-wmst",
       "max_native_zoom": 18,
       "min_native_zoom": 0,
       "options": [
        "attribution",
        "detect_retina",
        "format",
        "layers",
        "max_native_zoom",
        "max_zoom",
        "min_native_zoom",
        "min_zoom",
        "no_wrap",
        "styles",
        "tile_size",
        "time",
        "tms",
        "transparent",
        "uppercase"
       ],
       "time": "2005-08-29T19:00",
       "transparent": true,
       "url": "https://mesonet.agron.iastate.edu/cgi-bin/wms/nexrad/n0r-t.cgi?"
      }
     },
     "4d5bd01fb7674e708145a4b2942efc7b": {
      "model_module": "@jupyter-widgets/base",
      "model_module_version": "1.2.0",
      "model_name": "LayoutModel",
      "state": {}
     },
     "4d7f8f2a59e7451ca42a38197031ae69": {
      "model_module": "@jupyter-widgets/base",
      "model_module_version": "1.2.0",
      "model_name": "LayoutModel",
      "state": {}
     },
     "4da7fb49f9ee45888c026801f7603f25": {
      "model_module": "jupyter-leaflet",
      "model_module_version": "^0.17",
      "model_name": "LeafletMapStyleModel",
      "state": {
       "_model_module_version": "^0.17"
      }
     },
     "4de792ac64a54215883e27166ac292ce": {
      "model_module": "@jupyter-widgets/base",
      "model_module_version": "1.2.0",
      "model_name": "LayoutModel",
      "state": {}
     },
     "4e0b10bd55374bb0a1c408c73226f130": {
      "model_module": "@jupyter-widgets/controls",
      "model_module_version": "1.5.0",
      "model_name": "IntSliderModel",
      "state": {
       "description": "Zoom level:",
       "layout": "IPY_MODEL_d578c096af284369819dfa6da5888bc2",
       "max": 15,
       "style": "IPY_MODEL_ba68032af26f4fc0ae8e4c75740b4a8e",
       "value": 12
      }
     },
     "4e0e07ee2a7a4fda969060facdd69bbc": {
      "model_module": "jupyter-leaflet",
      "model_module_version": "^0.12.1",
      "model_name": "LeafletZoomControlModel",
      "state": {
       "_model_module_version": "^0.12.1",
       "_view_module_version": "^0.12.1",
       "options": [
        "position",
        "zoom_in_text",
        "zoom_in_title",
        "zoom_out_text",
        "zoom_out_title"
       ]
      }
     },
     "4e2f946ec3f24e0d897f11f9e16da6ec": {
      "model_module": "jupyter-leaflet",
      "model_module_version": "^0.12.1",
      "model_name": "LeafletMapStyleModel",
      "state": {
       "_model_module_version": "^0.12.1"
      }
     },
     "4e67a6e0b6bd468f9f59cb27eb8f8817": {
      "model_module": "jupyter-leaflet",
      "model_module_version": "^0.17",
      "model_name": "LeafletLayersControlModel",
      "state": {
       "_model_module_version": "^0.17",
       "_view_module_version": "^0.17",
       "options": [
        "position"
       ]
      }
     },
     "4e7542449cd04647821d20ec037acb03": {
      "model_module": "@jupyter-widgets/controls",
      "model_module_version": "1.5.0",
      "model_name": "HBoxModel",
      "state": {
       "children": [
        "IPY_MODEL_2a0f6d89c0844b93a69ef9742d7acb6b",
        "IPY_MODEL_5d47848ad1a844f1b1c09968d254f31f"
       ],
       "layout": "IPY_MODEL_9d80ea246f28492c828e8921e018abc7"
      }
     },
     "4e7b5a871f7649c0a7f8240ffb20ff45": {
      "model_module": "jupyter-leaflet",
      "model_module_version": "^0.12.6",
      "model_name": "LeafletZoomControlModel",
      "state": {
       "_model_module_version": "^0.12.6",
       "_view_module_version": "^0.12.6",
       "options": [
        "position",
        "zoom_in_text",
        "zoom_in_title",
        "zoom_out_text",
        "zoom_out_title"
       ]
      }
     },
     "4e7caa70ef2b4fecafac5be50db06304": {
      "model_module": "@jupyter-widgets/base",
      "model_module_version": "1.2.0",
      "model_name": "LayoutModel",
      "state": {}
     },
     "4ec9045d69e64cd9b046653435bd6164": {
      "model_module": "@jupyter-widgets/controls",
      "model_module_version": "1.5.0",
      "model_name": "HBoxModel",
      "state": {
       "children": [
        "IPY_MODEL_2a0f6d89c0844b93a69ef9742d7acb6b",
        "IPY_MODEL_6a178c4829404185a9a28fb79bf9d6ea"
       ],
       "layout": "IPY_MODEL_cf4722e2545242bf8e2e8bd111ac36a2"
      }
     },
     "4ef362501da849458dee1abb0a477e89": {
      "model_module": "jupyter-leaflet",
      "model_module_version": "^0.17",
      "model_name": "LeafletMapStyleModel",
      "state": {
       "_model_module_version": "^0.17"
      }
     },
     "4f267a0229024f60bf19ec37620eba8f": {
      "model_module": "jupyter-leaflet",
      "model_module_version": "^0.12.1",
      "model_name": "LeafletMapModel",
      "state": {
       "_model_module_version": "^0.12.1",
       "_view_module_version": "^0.12.1",
       "center": [
        48.00003067321043,
        7.899856567382813
       ],
       "controls": [
        "IPY_MODEL_7b10cdfb0eea41559084a64a3afd0e82",
        "IPY_MODEL_32ab0b86c526433bbddf91e0e2ce1f7e"
       ],
       "default_style": "IPY_MODEL_0f2e0c4606484abea8a66bd642a20ab6",
       "dragging_style": "IPY_MODEL_0602858f31d0429cac7bdb06a9b1aeef",
       "east": 8.217773437500002,
       "fullscreen": false,
       "interpolation": "bilinear",
       "layers": [
        "IPY_MODEL_951a935c88d4460ca625c4b9194aac53"
       ],
       "layout": "IPY_MODEL_8b13f38ac565429390bb4b163f012b0c",
       "modisdate": "yesterday",
       "north": 48.18348549519126,
       "options": [
        "bounce_at_zoom_limits",
        "box_zoom",
        "center",
        "close_popup_on_click",
        "double_click_zoom",
        "dragging",
        "fullscreen",
        "inertia",
        "inertia_deceleration",
        "inertia_max_speed",
        "interpolation",
        "keyboard",
        "keyboard_pan_offset",
        "keyboard_zoom_offset",
        "max_zoom",
        "min_zoom",
        "scroll_wheel_zoom",
        "tap",
        "tap_tolerance",
        "touch_zoom",
        "world_copy_jump",
        "zoom",
        "zoom_animation_threshold",
        "zoom_start"
       ],
       "south": 47.81592114659014,
       "style": "IPY_MODEL_0f2e0c4606484abea8a66bd642a20ab6",
       "west": 7.581939697265626,
       "window_url": "http://localhost:8888/notebooks/js/ipyleaflet.ipynb",
       "zoom": 10
      }
     },
     "4f661398db0544378698170e781b41cf": {
      "model_module": "jupyter-leaflet",
      "model_module_version": "^0.17",
      "model_name": "LeafletAttributionControlModel",
      "state": {
       "_model_module_version": "^0.17",
       "_view_module_version": "^0.17",
       "options": [
        "position",
        "prefix"
       ],
       "position": "bottomright",
       "prefix": "ipyleaflet"
      }
     },
     "4fba4ca5e58944db8b8de0c57ff1c431": {
      "model_module": "@jupyter-widgets/base",
      "model_module_version": "1.2.0",
      "model_name": "LayoutModel",
      "state": {}
     },
     "50577eaa3ef24d2596278998b7bfb3f6": {
      "model_module": "jupyter-leaflet",
      "model_module_version": "^0.12.6",
      "model_name": "LeafletTileLayerModel",
      "state": {
       "_model_module_version": "^0.12.6",
       "_view_module_version": "^0.12.6",
       "attribution": "Tiles courtesy of <a href=\"http://openstreetmap.se/\" target=\"_blank\">OpenStreetMap Sweden</a> &mdash; Map data &copy; <a href=\"http://www.openstreetmap.org/copyright\">OpenStreetMap</a>",
       "base": true,
       "loading": true,
       "max_native_zoom": 18,
       "min_native_zoom": 0,
       "min_zoom": 1,
       "name": "Hydda.Full",
       "options": [
        "attribution",
        "detect_retina",
        "max_native_zoom",
        "max_zoom",
        "min_native_zoom",
        "min_zoom",
        "no_wrap",
        "tile_size",
        "tms"
       ],
       "url": "http://{s}.tile.openstreetmap.se/hydda/full/{z}/{x}/{y}.png"
      }
     },
     "506556076a5640f795eecac944039bfe": {
      "model_module": "jupyter-leaflet",
      "model_module_version": "^0.12.6",
      "model_name": "LeafletTileLayerModel",
      "state": {
       "_model_module_version": "^0.12.6",
       "_view_module_version": "^0.12.6",
       "attribution": "Map tiles by <a href=\"https://labs.strava.com/heatmap\">Strava 2017</a>",
       "loading": true,
       "max_native_zoom": 18,
       "max_zoom": 15,
       "min_native_zoom": 0,
       "min_zoom": 1,
       "name": "Strava.All",
       "options": [
        "attribution",
        "detect_retina",
        "max_native_zoom",
        "max_zoom",
        "min_native_zoom",
        "min_zoom",
        "no_wrap",
        "tile_size",
        "tms"
       ],
       "url": "https://heatmap-external-a.strava.com//tiles/all/hot/{z}/{x}/{y}.png?v=19"
      }
     },
     "50938d7b6f454d48a5f030795061deca": {
      "model_module": "jupyter-leaflet",
      "model_module_version": "^0.17",
      "model_name": "LeafletMapStyleModel",
      "state": {
       "_model_module_version": "^0.17"
      }
     },
     "510d6df6ce51481abb2eb1e110eeef13": {
      "model_module": "@jupyter-widgets/base",
      "model_module_version": "1.2.0",
      "model_name": "LayoutModel",
      "state": {}
     },
     "51241fb3935c4d719e27f38ca5293ddc": {
      "model_module": "jupyter-leaflet",
      "model_module_version": "^0.12.1",
      "model_name": "LeafletZoomControlModel",
      "state": {
       "_model_module_version": "^0.12.1",
       "_view_module_version": "^0.12.1",
       "options": [
        "position",
        "zoom_in_text",
        "zoom_in_title",
        "zoom_out_text",
        "zoom_out_title"
       ]
      }
     },
     "518bddd87b414106ba23955161193f0e": {
      "model_module": "jupyter-leaflet",
      "model_module_version": "^0.17",
      "model_name": "LeafletAttributionControlModel",
      "state": {
       "_model_module_version": "^0.17",
       "_view_module_version": "^0.17",
       "options": [
        "position",
        "prefix"
       ],
       "position": "bottomright",
       "prefix": "ipyleaflet"
      }
     },
     "51ba2bc2e444453ab91bbba8378972b4": {
      "model_module": "jupyter-leaflet",
      "model_module_version": "^0.17",
      "model_name": "LeafletZoomControlModel",
      "state": {
       "_model_module_version": "^0.17",
       "_view_module_version": "^0.17",
       "options": [
        "position",
        "zoom_in_text",
        "zoom_in_title",
        "zoom_out_text",
        "zoom_out_title"
       ]
      }
     },
     "52090236f4f64575811581f88c9b3e55": {
      "model_module": "jupyter-leaflet",
      "model_module_version": "^0.17",
      "model_name": "LeafletMapModel",
      "state": {
       "_model_module_version": "^0.17",
       "_view_module_version": "^0.17",
       "bottom": 5574,
       "center": [
        52.5162,
        13.3777
       ],
       "controls": [
        "IPY_MODEL_38dd4ff50f7e43e9b230f3262d27d6cc",
        "IPY_MODEL_448f88585e2c4d4584b9416640a1cf02"
       ],
       "default_style": "IPY_MODEL_cd66dde766dd4380b36a84f48f13e83d",
       "dragging_style": "IPY_MODEL_f143bd55bba04b2dbb6a43a9a152a49a",
       "east": 24.01611328125,
       "fullscreen": false,
       "interpolation": "bilinear",
       "layers": [
        "IPY_MODEL_c5bfdd31221642de94e778eb1294d778"
       ],
       "layout": "IPY_MODEL_e14cd0c6f2da484992091ecb210a14c1",
       "left": 8316,
       "modisdate": "2023-07-11",
       "north": 55.10351605801967,
       "options": [
        "bounce_at_zoom_limits",
        "box_zoom",
        "center",
        "close_popup_on_click",
        "double_click_zoom",
        "dragging",
        "fullscreen",
        "inertia",
        "inertia_deceleration",
        "inertia_max_speed",
        "interpolation",
        "keyboard",
        "keyboard_pan_offset",
        "keyboard_zoom_offset",
        "max_zoom",
        "min_zoom",
        "prefer_canvas",
        "scroll_wheel_zoom",
        "tap",
        "tap_tolerance",
        "touch_zoom",
        "world_copy_jump",
        "zoom",
        "zoom_animation_threshold",
        "zoom_delta",
        "zoom_snap"
       ],
       "prefer_canvas": false,
       "right": 9285,
       "south": 49.75287993415023,
       "style": "IPY_MODEL_b4ce0d8b00a04825aa1e29a6832e6130",
       "top": 5174,
       "west": 2.7246093750000004,
       "window_url": "http://localhost:8888/notebooks/js/ipyleaflet.ipynb#",
       "zoom": 6
      }
     },
     "5222473b23a241cda44455d33b7add87": {
      "model_module": "jupyter-leaflet",
      "model_module_version": "^0.12.1",
      "model_name": "LeafletZoomControlModel",
      "state": {
       "_model_module_version": "^0.12.1",
       "_view_module_version": "^0.12.1",
       "options": [
        "position",
        "zoom_in_text",
        "zoom_in_title",
        "zoom_out_text",
        "zoom_out_title"
       ]
      }
     },
     "52b85a95813f404b946fc64e5891f7b1": {
      "model_module": "jupyter-leaflet",
      "model_module_version": "^0.17",
      "model_name": "LeafletTileLayerModel",
      "state": {
       "_model_module_version": "^0.17",
       "_view_module_version": "^0.17",
       "attribution": "&copy; <a href=\"https://www.openstreetmap.org/copyright\">OpenStreetMap</a> contributors",
       "base": true,
       "max_zoom": 19,
       "min_zoom": 1,
       "name": "OpenStreetMap.Mapnik",
       "options": [
        "attribution",
        "bounds",
        "detect_retina",
        "max_native_zoom",
        "max_zoom",
        "min_native_zoom",
        "min_zoom",
        "no_wrap",
        "tile_size",
        "tms",
        "zoom_offset"
       ],
       "url": "https://tile.openstreetmap.org/{z}/{x}/{y}.png"
      }
     },
     "532e532bf9344139bd58496025f43281": {
      "model_module": "@jupyter-widgets/base",
      "model_module_version": "1.2.0",
      "model_name": "LayoutModel",
      "state": {}
     },
     "53db0ea77b78447ab66232b2362065dc": {
      "model_module": "@jupyter-widgets/base",
      "model_module_version": "1.2.0",
      "model_name": "LayoutModel",
      "state": {}
     },
     "53deda17ad524b3ab5319d8573abd2ee": {
      "model_module": "jupyter-leaflet",
      "model_module_version": "^0.17",
      "model_name": "LeafletMapModel",
      "state": {
       "_model_module_version": "^0.17",
       "_view_module_version": "^0.17",
       "center": [
        52.5162,
        13.3777
       ],
       "controls": [
        "IPY_MODEL_5bd4290f5e7d4f0fa853dfaa48b2d61f",
        "IPY_MODEL_4f661398db0544378698170e781b41cf",
        "IPY_MODEL_e70cd86b5d5144f691f6af00f2c33113"
       ],
       "default_style": "IPY_MODEL_e2c3874b49ee49d2a47223c3405a177f",
       "dragging_style": "IPY_MODEL_22ae830e010f435b9ce7fae8038a4f5a",
       "fullscreen": false,
       "interpolation": "bilinear",
       "layers": [
        "IPY_MODEL_7296082494c144ebb6d7b697870917c2"
       ],
       "layout": "IPY_MODEL_4a3d704b75ed45248054b03d9e1caa14",
       "modisdate": "2023-07-11",
       "options": [
        "bounce_at_zoom_limits",
        "box_zoom",
        "center",
        "close_popup_on_click",
        "double_click_zoom",
        "dragging",
        "fullscreen",
        "inertia",
        "inertia_deceleration",
        "inertia_max_speed",
        "interpolation",
        "keyboard",
        "keyboard_pan_offset",
        "keyboard_zoom_offset",
        "max_zoom",
        "min_zoom",
        "prefer_canvas",
        "scroll_wheel_zoom",
        "tap",
        "tap_tolerance",
        "touch_zoom",
        "world_copy_jump",
        "zoom",
        "zoom_animation_threshold",
        "zoom_delta",
        "zoom_snap"
       ],
       "prefer_canvas": false,
       "style": "IPY_MODEL_b6c3a13818504d1aae52a60136460545",
       "window_url": "http://localhost:8888/notebooks/js/ipyleaflet.ipynb#"
      }
     },
     "53fde5729fde4f1385a251ad6199b68f": {
      "model_module": "jupyter-leaflet",
      "model_module_version": "~0.9.2",
      "model_name": "LeafletTileLayerModel",
      "state": {
       "_model_module_version": "~0.9.2",
       "_view_module_version": "~0.9.2",
       "base": true,
       "max_zoom": 19,
       "min_zoom": 1,
       "options": [
        "attribution",
        "detect_retina",
        "max_zoom",
        "min_zoom",
        "tile_size"
       ]
      }
     },
     "5403902f772c454b9728891db6f3da3e": {
      "model_module": "jupyter-leaflet",
      "model_module_version": "^0.17",
      "model_name": "LeafletWidgetControlModel",
      "state": {
       "_model_module": "jupyter-leaflet",
       "_model_module_version": "^0.17",
       "_view_count": null,
       "_view_module": "jupyter-leaflet",
       "_view_module_version": "^0.17",
       "options": [
        "position",
        "transparent_bg"
       ],
       "position": "topright",
       "widget": "IPY_MODEL_469b8a035cab4913bbac1b6191007bf3"
      }
     },
     "54d03cd27ac246d9a9a1213bdda6e558": {
      "model_module": "jupyter-leaflet",
      "model_module_version": "^0.17",
      "model_name": "LeafletMapStyleModel",
      "state": {
       "_model_module_version": "^0.17"
      }
     },
     "54fccfe76682453a861ce0720e14b509": {
      "model_module": "jupyter-leaflet",
      "model_module_version": "^0.17",
      "model_name": "LeafletMapStyleModel",
      "state": {
       "_model_module_version": "^0.17",
       "cursor": "move"
      }
     },
     "550e7b41d5374380a8bba4c9d014f3d7": {
      "model_module": "@jupyter-widgets/controls",
      "model_module_version": "1.5.0",
      "model_name": "LabelModel",
      "state": {
       "layout": "IPY_MODEL_564d80f0c5c64dd6a966df4319f6e856",
       "style": "IPY_MODEL_276d80fd6afa4b68ad1403d235d3ee29",
       "value": "[47.538775577269845, 5.992220192516028]"
      }
     },
     "55152641e0f54870ab702c2f54e920a3": {
      "model_module": "jupyter-leaflet",
      "model_module_version": "^0.17",
      "model_name": "LeafletMapModel",
      "state": {
       "_model_module_version": "^0.17",
       "_view_module_version": "^0.17",
       "bottom": 344104,
       "center": [
        52.5162,
        13.3777
       ],
       "controls": [
        "IPY_MODEL_0daff683e82e4f09a76095fa3a079df4",
        "IPY_MODEL_fe5177d78d094423832792e60adeea5f",
        "IPY_MODEL_121a17b452264d02bd49761259585e74"
       ],
       "default_style": "IPY_MODEL_116afa09e81b459dbeed03b10888f600",
       "dragging_style": "IPY_MODEL_6a68f309770d4094b8eab81e0a492352",
       "east": 13.544082641601564,
       "fullscreen": false,
       "interpolation": "bilinear",
       "layers": [
        "IPY_MODEL_1d169a433ff94649842984e229d61be0"
       ],
       "layout": "IPY_MODEL_7315cddeaa884c9a81966f4c4679710b",
       "left": 562769,
       "modisdate": "2023-07-11",
       "north": 52.55798590427374,
       "options": [
        "bounce_at_zoom_limits",
        "box_zoom",
        "center",
        "close_popup_on_click",
        "double_click_zoom",
        "dragging",
        "fullscreen",
        "inertia",
        "inertia_deceleration",
        "inertia_max_speed",
        "interpolation",
        "keyboard",
        "keyboard_pan_offset",
        "keyboard_zoom_offset",
        "max_zoom",
        "min_zoom",
        "prefer_canvas",
        "scroll_wheel_zoom",
        "tap",
        "tap_tolerance",
        "touch_zoom",
        "world_copy_jump",
        "zoom",
        "zoom_animation_threshold",
        "zoom_delta",
        "zoom_snap"
       ],
       "prefer_canvas": false,
       "right": 563738,
       "south": 52.47441608702583,
       "style": "IPY_MODEL_116afa09e81b459dbeed03b10888f600",
       "top": 343704,
       "west": 13.211402893066408,
       "window_url": "http://localhost:8888/notebooks/js/ipyleaflet.ipynb#"
      }
     },
     "551e62d47e8e44878e90bd4a2ff5a967": {
      "model_module": "jupyter-leaflet",
      "model_module_version": "^0.11.2",
      "model_name": "LeafletMapStyleModel",
      "state": {
       "_model_module_version": "^0.11.2",
       "cursor": "move"
      }
     },
     "5528d8ad1f084ed4a84e1629ab0c7b73": {
      "model_module": "@jupyter-widgets/controls",
      "model_module_version": "1.5.0",
      "model_name": "LinkModel",
      "state": {
       "source": [
        "IPY_MODEL_0c20ad02044744cca65f8cc5ec8ea563",
        "value"
       ],
       "target": [
        "IPY_MODEL_36b5fb5f60e34f15b9fb5649fd049c89",
        "zoom"
       ]
      }
     },
     "552c6b8508b543018f184a9ebdfa82e6": {
      "model_module": "jupyter-leaflet",
      "model_module_version": "^0.17",
      "model_name": "LeafletAttributionControlModel",
      "state": {
       "_model_module_version": "^0.17",
       "_view_module_version": "^0.17",
       "options": [
        "position",
        "prefix"
       ],
       "position": "bottomright",
       "prefix": "ipyleaflet"
      }
     },
     "5544e4f350d341c6adf5d920bd31b071": {
      "model_module": "jupyter-leaflet",
      "model_module_version": "^0.12.1",
      "model_name": "LeafletTileLayerModel",
      "state": {
       "_model_module_version": "^0.12.1",
       "_view_module_version": "^0.12.1",
       "attribution": "Map tiles by <a href=\"https://labs.strava.com/heatmap\">Strava 2017</a>",
       "max_native_zoom": 18,
       "max_zoom": 15,
       "min_native_zoom": 0,
       "min_zoom": 1,
       "name": "Strava.Water",
       "options": [
        "attribution",
        "detect_retina",
        "max_native_zoom",
        "max_zoom",
        "min_native_zoom",
        "min_zoom",
        "no_wrap",
        "tile_size",
        "tms"
       ],
       "url": "https://heatmap-external-a.strava.com//tiles/water/blue/{z}/{x}/{y}.png?v=19"
      }
     },
     "55a5dcb724c64d62a964c425cd9923f0": {
      "model_module": "@jupyter-widgets/controls",
      "model_module_version": "1.5.0",
      "model_name": "IntSliderModel",
      "state": {
       "description": "Zoom level:",
       "layout": "IPY_MODEL_97c8bdfc1aaa40bb9b48a52c1cdfdf76",
       "max": 19,
       "style": "IPY_MODEL_66e91c3b0e924688b5db8ec8b9805e5d",
       "value": 9
      }
     },
     "55eaad914a8b474aac90ac9299edc1ce": {
      "model_module": "jupyter-leaflet",
      "model_module_version": "^0.17",
      "model_name": "LeafletAttributionControlModel",
      "state": {
       "_model_module_version": "^0.17",
       "_view_module_version": "^0.17",
       "options": [
        "position",
        "prefix"
       ],
       "position": "bottomright",
       "prefix": "ipyleaflet"
      }
     },
     "5605723188ca4f8ab51639cac498a325": {
      "model_module": "@jupyter-widgets/base",
      "model_module_version": "1.2.0",
      "model_name": "LayoutModel",
      "state": {}
     },
     "5605f451550d45ada73504789d1c4c1d": {
      "model_module": "jupyter-leaflet",
      "model_module_version": "^0.17",
      "model_name": "LeafletWidgetControlModel",
      "state": {
       "_model_module": "jupyter-leaflet",
       "_model_module_version": "^0.17",
       "_view_count": null,
       "_view_module": "jupyter-leaflet",
       "_view_module_version": "^0.17",
       "options": [
        "position",
        "transparent_bg"
       ],
       "position": "topright",
       "widget": "IPY_MODEL_55a5dcb724c64d62a964c425cd9923f0"
      }
     },
     "561eef377cf749f3904bdba3790bd0bd": {
      "model_module": "jupyter-leaflet",
      "model_module_version": "^0.12.1",
      "model_name": "LeafletTileLayerModel",
      "state": {
       "_model_module_version": "^0.12.1",
       "_view_module_version": "^0.12.1",
       "attribution": "Tiles courtesy of <a href=\"http://openstreetmap.se/\" target=\"_blank\">OpenStreetMap Sweden</a> &mdash; Map data &copy; <a href=\"http://www.openstreetmap.org/copyright\">OpenStreetMap</a>",
       "base": true,
       "max_native_zoom": 18,
       "min_native_zoom": 0,
       "min_zoom": 1,
       "name": "Hydda.Full",
       "options": [
        "attribution",
        "detect_retina",
        "max_native_zoom",
        "max_zoom",
        "min_native_zoom",
        "min_zoom",
        "no_wrap",
        "tile_size",
        "tms"
       ],
       "url": "http://{s}.tile.openstreetmap.se/hydda/full/{z}/{x}/{y}.png"
      }
     },
     "5646bd7e67b149919a00870af2c58195": {
      "model_module": "jupyter-leaflet",
      "model_module_version": "^0.17",
      "model_name": "LeafletMapStyleModel",
      "state": {
       "_model_module_version": "^0.17",
       "cursor": "move"
      }
     },
     "564d80f0c5c64dd6a966df4319f6e856": {
      "model_module": "@jupyter-widgets/base",
      "model_module_version": "1.2.0",
      "model_name": "LayoutModel",
      "state": {}
     },
     "564fbdf5cda548b8ba9b6994e26b8ff3": {
      "model_module": "@jupyter-widgets/base",
      "model_module_version": "1.2.0",
      "model_name": "LayoutModel",
      "state": {}
     },
     "56721606291142638c01e544cd884048": {
      "model_module": "jupyter-leaflet",
      "model_module_version": "^0.17",
      "model_name": "LeafletAttributionControlModel",
      "state": {
       "_model_module_version": "^0.17",
       "_view_module_version": "^0.17",
       "options": [
        "position",
        "prefix"
       ],
       "position": "bottomright",
       "prefix": "ipyleaflet"
      }
     },
     "569bd40f21d54bdeb889b1aeb0107be7": {
      "model_module": "jupyter-leaflet",
      "model_module_version": "^0.17",
      "model_name": "LeafletMapStyleModel",
      "state": {
       "_model_module_version": "^0.17"
      }
     },
     "56e3400f53124cd59f51b2cf1fa2d0ea": {
      "model_module": "jupyter-leaflet",
      "model_module_version": "^0.17",
      "model_name": "LeafletZoomControlModel",
      "state": {
       "_model_module_version": "^0.17",
       "_view_module_version": "^0.17",
       "options": [
        "position",
        "zoom_in_text",
        "zoom_in_title",
        "zoom_out_text",
        "zoom_out_title"
       ]
      }
     },
     "56e9f5d39d30419c97d6e08874c7db4d": {
      "model_module": "jupyter-leaflet",
      "model_module_version": "^0.17",
      "model_name": "LeafletAttributionControlModel",
      "state": {
       "_model_module_version": "^0.17",
       "_view_module_version": "^0.17",
       "options": [
        "position",
        "prefix"
       ],
       "position": "bottomright",
       "prefix": "ipyleaflet"
      }
     },
     "56f9f0afa29a42bd8c358d73505fd84c": {
      "model_module": "@jupyter-widgets/base",
      "model_module_version": "1.2.0",
      "model_name": "LayoutModel",
      "state": {}
     },
     "57293d8c444b44868b65b3cdc0c735e6": {
      "model_module": "@jupyter-widgets/base",
      "model_module_version": "1.2.0",
      "model_name": "LayoutModel",
      "state": {}
     },
     "57395ebc582349018eeb7ac1330ee40b": {
      "model_module": "jupyter-leaflet",
      "model_module_version": "^0.17",
      "model_name": "LeafletAttributionControlModel",
      "state": {
       "_model_module_version": "^0.17",
       "_view_module_version": "^0.17",
       "options": [
        "position",
        "prefix"
       ],
       "position": "bottomright",
       "prefix": "ipyleaflet"
      }
     },
     "5751f69413a4453e8a58a2fca1c9a130": {
      "model_module": "jupyter-leaflet",
      "model_module_version": "^0.17",
      "model_name": "LeafletMapStyleModel",
      "state": {
       "_model_module_version": "^0.17",
       "cursor": "move"
      }
     },
     "5798e5a4972e4369b980bbc193d11dd4": {
      "model_module": "jupyter-leaflet",
      "model_module_version": "^0.12.1",
      "model_name": "LeafletZoomControlModel",
      "state": {
       "_model_module_version": "^0.12.1",
       "_view_module_version": "^0.12.1",
       "options": [
        "position",
        "zoom_in_text",
        "zoom_in_title",
        "zoom_out_text",
        "zoom_out_title"
       ]
      }
     },
     "57d3286dd9b94cda839fe111439a9cf9": {
      "model_module": "@jupyter-widgets/base",
      "model_module_version": "1.2.0",
      "model_name": "LayoutModel",
      "state": {}
     },
     "57e42831deef46b7ac3e66faea98c235": {
      "model_module": "jupyter-leaflet",
      "model_module_version": "^0.11.2",
      "model_name": "LeafletMapModel",
      "state": {
       "_model_module_version": "^0.11.2",
       "_view_module_version": "^0.11.2",
       "basemap": {
        "attribution": "Tiles courtesy of <a href=\"http://openstreetmap.se/\" target=\"_blank\">OpenStreetMap Sweden</a> &mdash; Map data &copy; <a href=\"http://www.openstreetmap.org/copyright\">OpenStreetMap</a>",
        "max_zoom": 18,
        "name": "Hydda.Full",
        "url": "http://{s}.tile.openstreetmap.se/hydda/full/{z}/{x}/{y}.png"
       },
       "center": [
        48,
        8
       ],
       "controls": [
        "IPY_MODEL_3367f8480ba24020837761d7513d46a2",
        "IPY_MODEL_63d75f2895eb4ee9b33954b555abcf91"
       ],
       "default_style": "IPY_MODEL_60aecd227c674b9c82f90b824bb4aefb",
       "dragging_style": "IPY_MODEL_2093c1345e8b441f823f2578f924e393",
       "east": 10.695190429687502,
       "fullscreen": false,
       "interpolation": "bilinear",
       "layers": [
        "IPY_MODEL_ce994f6d9c2c4a80abb4152ef633f2cd",
        "IPY_MODEL_3e52058b50334d04a5921896927fbd55"
       ],
       "layout": "IPY_MODEL_3b3c412c35514bec9eb0d7b8618fa892",
       "modisdate": "yesterday",
       "north": 48.73083222613518,
       "options": [
        "basemap",
        "bounce_at_zoom_limits",
        "box_zoom",
        "center",
        "close_popup_on_click",
        "double_click_zoom",
        "dragging",
        "fullscreen",
        "inertia",
        "inertia_deceleration",
        "inertia_max_speed",
        "interpolation",
        "keyboard",
        "keyboard_pan_offset",
        "keyboard_zoom_offset",
        "max_zoom",
        "min_zoom",
        "scroll_wheel_zoom",
        "tap",
        "tap_tolerance",
        "touch_zoom",
        "world_copy_jump",
        "zoom",
        "zoom_animation_threshold",
        "zoom_start"
       ],
       "south": 47.260592193424706,
       "style": "IPY_MODEL_6bcc93df14d544b4894c65636f7301e3",
       "west": 5.300903320312501,
       "window_url": "http://localhost:8888/notebooks/js/ipyleaflet.ipynb",
       "zoom": 8
      }
     },
     "5818fb24828c4c3eb89c7f7944b940e7": {
      "model_module": "jupyter-leaflet",
      "model_module_version": "^0.12.1",
      "model_name": "LeafletTileLayerModel",
      "state": {
       "_model_module_version": "^0.12.1",
       "_view_module_version": "^0.12.1",
       "attribution": "Tiles courtesy of <a href=\"http://openstreetmap.se/\" target=\"_blank\">OpenStreetMap Sweden</a> &mdash; Map data &copy; <a href=\"http://www.openstreetmap.org/copyright\">OpenStreetMap</a>",
       "base": true,
       "max_native_zoom": 18,
       "min_native_zoom": 0,
       "min_zoom": 1,
       "name": "Hydda.Full",
       "options": [
        "attribution",
        "detect_retina",
        "max_native_zoom",
        "max_zoom",
        "min_native_zoom",
        "min_zoom",
        "no_wrap",
        "tile_size",
        "tms"
       ],
       "url": "http://{s}.tile.openstreetmap.se/hydda/full/{z}/{x}/{y}.png"
      }
     },
     "58243c1b075f4c3a96e17f220bd4188a": {
      "model_module": "@jupyter-widgets/controls",
      "model_module_version": "1.5.0",
      "model_name": "LinkModel",
      "state": {
       "source": [
        "IPY_MODEL_752a8535e13843cfb7bfb063a9040692",
        "value"
       ],
       "target": [
        "IPY_MODEL_3e6f4373ffa94a62b6d5385c985a474e",
        "zoom"
       ]
      }
     },
     "58343eb01bdf45d8aa0c4d97d2b3c5cd": {
      "model_module": "jupyter-leaflet",
      "model_module_version": "^0.17",
      "model_name": "LeafletMapStyleModel",
      "state": {
       "_model_module_version": "^0.17",
       "cursor": "move"
      }
     },
     "588226bd8ddd4944b7658e5e9b02afe0": {
      "model_module": "jupyter-leaflet",
      "model_module_version": "^0.11.2",
      "model_name": "LeafletAttributionControlModel",
      "state": {
       "_model_module_version": "^0.11.2",
       "_view_module_version": "^0.11.2",
       "options": [
        "position",
        "prefix"
       ],
       "position": "bottomright",
       "prefix": "Leaflet"
      }
     },
     "58a9411e43b741c5a51d3cdb6095d3c5": {
      "model_module": "jupyter-leaflet",
      "model_module_version": "^0.17",
      "model_name": "LeafletLayersControlModel",
      "state": {
       "_model_module_version": "^0.17",
       "_view_module_version": "^0.17",
       "options": [
        "position"
       ]
      }
     },
     "58ba9a7ad65f46b9811ed781d1f097a5": {
      "model_module": "@jupyter-widgets/controls",
      "model_module_version": "1.5.0",
      "model_name": "LabelModel",
      "state": {
       "layout": "IPY_MODEL_09bb9b0a1375462abbb029da30a43d14",
       "style": "IPY_MODEL_b23b652ac3cb4a8ba4ec3e63ef7becc7"
      }
     },
     "58bdf689abf44495b25bcaa6affd601f": {
      "model_module": "jupyter-leaflet",
      "model_module_version": "^0.17",
      "model_name": "LeafletMapModel",
      "state": {
       "_model_module_version": "^0.17",
       "_view_module_version": "^0.17",
       "bottom": 2887,
       "center": [
        52.5162,
        13.3777
       ],
       "controls": [
        "IPY_MODEL_75ab9ed65e954613bc17a549003ae0ac",
        "IPY_MODEL_2936a2cd99f74def9d15e9fc3306eb16"
       ],
       "default_style": "IPY_MODEL_4da7fb49f9ee45888c026801f7603f25",
       "dragging_style": "IPY_MODEL_c32a65b291894553bc7c624e9de15655",
       "east": 34.67285156250001,
       "fullscreen": false,
       "interpolation": "bilinear",
       "layers": [
        "IPY_MODEL_e28b6d226b454bc4a8782a34506ac594",
        "IPY_MODEL_d3e310859cfd44a3b2d9a7cbac402c03"
       ],
       "layout": "IPY_MODEL_e5665086383743b4b142a41d89d106e5",
       "left": 3916,
       "modisdate": "2023-07-11",
       "north": 57.539416794474995,
       "options": [
        "bounce_at_zoom_limits",
        "box_zoom",
        "center",
        "close_popup_on_click",
        "double_click_zoom",
        "dragging",
        "fullscreen",
        "inertia",
        "inertia_deceleration",
        "inertia_max_speed",
        "interpolation",
        "keyboard",
        "keyboard_pan_offset",
        "keyboard_zoom_offset",
        "max_zoom",
        "min_zoom",
        "prefer_canvas",
        "scroll_wheel_zoom",
        "tap",
        "tap_tolerance",
        "touch_zoom",
        "world_copy_jump",
        "zoom",
        "zoom_animation_threshold",
        "zoom_delta",
        "zoom_snap"
       ],
       "prefer_canvas": false,
       "right": 4885,
       "south": 46.830133640447414,
       "style": "IPY_MODEL_ecbcf4390e6846beb5f71a9f1b1e6212",
       "top": 2487,
       "west": -7.910156250000001,
       "window_url": "http://localhost:8888/notebooks/js/ipyleaflet.ipynb#",
       "zoom": 5
      }
     },
     "58d1b749d2a84b8983788ee9c32e58f6": {
      "model_module": "@jupyter-widgets/controls",
      "model_module_version": "1.5.0",
      "model_name": "LinkModel",
      "state": {
       "source": [
        "IPY_MODEL_e274211be9d8489e9ecb9012985e8076",
        "value"
       ],
       "target": [
        "IPY_MODEL_94a877e07a644da395520b8de1d10c78",
        "zoom"
       ]
      }
     },
     "59a386af029340f6b922bdad4bb7126b": {
      "model_module": "jupyter-leaflet",
      "model_module_version": "^0.17",
      "model_name": "LeafletMapStyleModel",
      "state": {
       "_model_module_version": "^0.17"
      }
     },
     "59a6e16b95bd4252a9854d4c029fdcd0": {
      "model_module": "@jupyter-widgets/controls",
      "model_module_version": "1.5.0",
      "model_name": "SliderStyleModel",
      "state": {
       "description_width": ""
      }
     },
     "59ada3008661449696eccc251f701624": {
      "model_module": "jupyter-leaflet",
      "model_module_version": "^0.17",
      "model_name": "LeafletAttributionControlModel",
      "state": {
       "_model_module_version": "^0.17",
       "_view_module_version": "^0.17",
       "options": [
        "position",
        "prefix"
       ],
       "position": "bottomright",
       "prefix": "ipyleaflet"
      }
     },
     "5a2292fb651a448697d3884fd7389aa7": {
      "model_module": "jupyter-leaflet",
      "model_module_version": "^0.12.1",
      "model_name": "LeafletMapStyleModel",
      "state": {
       "_model_module_version": "^0.12.1",
       "cursor": "move"
      }
     },
     "5a407cdbc45b4798b065af559e22a6b5": {
      "model_module": "@jupyter-widgets/base",
      "model_module_version": "1.2.0",
      "model_name": "LayoutModel",
      "state": {}
     },
     "5b31696a5483464f9379646cb1c1fd35": {
      "model_module": "jupyter-leaflet",
      "model_module_version": "~0.9.2",
      "model_name": "LeafletTileLayerModel",
      "state": {
       "_model_module_version": "~0.9.2",
       "_view_module_version": "~0.9.2",
       "attribution": "",
       "max_zoom": 19,
       "min_zoom": 1,
       "name": "Countries",
       "options": [
        "attribution",
        "detect_retina",
        "max_zoom",
        "min_zoom",
        "tile_size"
       ],
       "url": ""
      }
     },
     "5b657ab1e0dc49e19c38e1057c941554": {
      "model_module": "jupyter-leaflet",
      "model_module_version": "^0.17",
      "model_name": "LeafletMapStyleModel",
      "state": {
       "_model_module_version": "^0.17",
       "cursor": "move"
      }
     },
     "5b8631c9ec574c7d864e31bc485365d6": {
      "model_module": "@jupyter-widgets/controls",
      "model_module_version": "1.5.0",
      "model_name": "IntSliderModel",
      "state": {
       "description": "Zoom level:",
       "layout": "IPY_MODEL_3b703d2cc34d4b21b0d8a0cf874354db",
       "max": 15,
       "style": "IPY_MODEL_aa7000610eb04aeaabf189436729b824",
       "value": 12
      }
     },
     "5b9fd9f75f1d48e4b519e72a9489b034": {
      "model_module": "jupyter-leaflet",
      "model_module_version": "^0.17",
      "model_name": "LeafletZoomControlModel",
      "state": {
       "_model_module_version": "^0.17",
       "_view_module_version": "^0.17",
       "options": [
        "position",
        "zoom_in_text",
        "zoom_in_title",
        "zoom_out_text",
        "zoom_out_title"
       ]
      }
     },
     "5bc5ce8bc016412090940afeed221984": {
      "model_module": "jupyter-leaflet",
      "model_module_version": "^0.17",
      "model_name": "LeafletMapStyleModel",
      "state": {
       "_model_module_version": "^0.17"
      }
     },
     "5bd4290f5e7d4f0fa853dfaa48b2d61f": {
      "model_module": "jupyter-leaflet",
      "model_module_version": "^0.17",
      "model_name": "LeafletZoomControlModel",
      "state": {
       "_model_module_version": "^0.17",
       "_view_module_version": "^0.17",
       "options": [
        "position",
        "zoom_in_text",
        "zoom_in_title",
        "zoom_out_text",
        "zoom_out_title"
       ]
      }
     },
     "5bd4e9b3553f444f8e312641b88e3422": {
      "model_module": "jupyter-leaflet",
      "model_module_version": "^0.12.1",
      "model_name": "LeafletMapModel",
      "state": {
       "_model_module_version": "^0.12.1",
       "_view_module_version": "^0.12.1",
       "center": [
        48,
        8
       ],
       "controls": [
        "IPY_MODEL_7bc44c108faa449283fa300e2446cc6e",
        "IPY_MODEL_4a01fe2be4374d299df3a3b1b1317c6e",
        "IPY_MODEL_20b0e6d981264b53ae5392d991da2fde"
       ],
       "default_style": "IPY_MODEL_1f73511aca5f48faaba84e7363ba5f72",
       "dragging_style": "IPY_MODEL_7fe7bd820a554b308ba582745da4cf57",
       "east": 10.634765625,
       "fullscreen": false,
       "interpolation": "bilinear",
       "layers": [
        "IPY_MODEL_a580ed8015b24caf83d3856441e11a3f",
        "IPY_MODEL_3ae1bf1bae734e269b52aed8aefa8e01",
        "IPY_MODEL_3e5adfbfc39648a9a5f5dfaab95d404b"
       ],
       "layout": "IPY_MODEL_32cd9f43bab54e92b819bcaf368400ea",
       "modisdate": "yesterday",
       "north": 48.73083222613518,
       "options": [
        "bounce_at_zoom_limits",
        "box_zoom",
        "center",
        "close_popup_on_click",
        "double_click_zoom",
        "dragging",
        "fullscreen",
        "inertia",
        "inertia_deceleration",
        "inertia_max_speed",
        "interpolation",
        "keyboard",
        "keyboard_pan_offset",
        "keyboard_zoom_offset",
        "max_zoom",
        "min_zoom",
        "scroll_wheel_zoom",
        "tap",
        "tap_tolerance",
        "touch_zoom",
        "world_copy_jump",
        "zoom",
        "zoom_animation_threshold",
        "zoom_start"
       ],
       "south": 47.260592193424706,
       "style": "IPY_MODEL_1f73511aca5f48faaba84e7363ba5f72",
       "west": 5.366821289062501,
       "window_url": "http://localhost:8888/notebooks/js/ipyleaflet.ipynb",
       "zoom": 8
      }
     },
     "5c142e258b1b43729826a90def02328a": {
      "model_module": "jupyter-leaflet",
      "model_module_version": "^0.17",
      "model_name": "LeafletZoomControlModel",
      "state": {
       "_model_module_version": "^0.17",
       "_view_module_version": "^0.17",
       "options": [
        "position",
        "zoom_in_text",
        "zoom_in_title",
        "zoom_out_text",
        "zoom_out_title"
       ]
      }
     },
     "5c53ff7c3ebd4532b7cd98f0aa8d0af1": {
      "model_module": "jupyter-leaflet",
      "model_module_version": "^0.12.6",
      "model_name": "LeafletAttributionControlModel",
      "state": {
       "_model_module_version": "^0.12.6",
       "_view_module_version": "^0.12.6",
       "options": [
        "position",
        "prefix"
       ],
       "position": "bottomright",
       "prefix": "Leaflet"
      }
     },
     "5c66f1d778da46dca685e8f3fa7174ba": {
      "model_module": "jupyter-leaflet",
      "model_module_version": "^0.17",
      "model_name": "LeafletZoomControlModel",
      "state": {
       "_model_module_version": "^0.17",
       "_view_module_version": "^0.17",
       "options": [
        "position",
        "zoom_in_text",
        "zoom_in_title",
        "zoom_out_text",
        "zoom_out_title"
       ]
      }
     },
     "5c7e8839ed184eef81e2aac8e967dc6c": {
      "model_module": "jupyter-leaflet",
      "model_module_version": "^0.17",
      "model_name": "LeafletWidgetControlModel",
      "state": {
       "_model_module": "jupyter-leaflet",
       "_model_module_version": "^0.17",
       "_view_count": null,
       "_view_module": "jupyter-leaflet",
       "_view_module_version": "^0.17",
       "options": [
        "position",
        "transparent_bg"
       ],
       "position": "topright",
       "widget": "IPY_MODEL_bc1c14399f8d430c8043e8bc194e6c30"
      }
     },
     "5d47848ad1a844f1b1c09968d254f31f": {
      "model_module": "jupyter-leaflet",
      "model_module_version": "~0.9.2",
      "model_name": "LeafletMapModel",
      "state": {
       "_model_module_version": "~0.9.2",
       "_view_module_version": "~0.9.2",
       "basemap": {
        "attribution": "Map data (c) <a href=\"https://openstreetmap.org\">OpenStreetMap</a> contributors",
        "max_zoom": 19,
        "url": "https://{s}.tile.openstreetmap.org/{z}/{x}/{y}.png"
       },
       "center": [
        47.6,
        8.44
       ],
       "east": 8.773956298828127,
       "interpolation": "bilinear",
       "layers": [
        "IPY_MODEL_53fde5729fde4f1385a251ad6199b68f"
       ],
       "layout": "IPY_MODEL_0528c8f3a73a424a83aa84ae61821e35",
       "modisdate": "yesterday",
       "north": 47.78455738546879,
       "options": [
        "attribution_control",
        "basemap",
        "bounce_at_zoom_limits",
        "box_zoom",
        "center",
        "close_popup_on_click",
        "double_click_zoom",
        "dragging",
        "inertia",
        "inertia_deceleration",
        "inertia_max_speed",
        "interpolation",
        "keyboard",
        "keyboard_pan_offset",
        "keyboard_zoom_offset",
        "max_zoom",
        "min_zoom",
        "scroll_wheel_zoom",
        "tap",
        "tap_tolerance",
        "touch_zoom",
        "world_copy_jump",
        "zoom",
        "zoom_animation_threshold",
        "zoom_control",
        "zoom_start"
       ],
       "south": 47.414149636384714,
       "west": 8.105163574218752,
       "window_url": "http://localhost:8888/notebooks/js/ipyleaflet.ipynb",
       "zoom": 10
      }
     },
     "5da5dbc6a2d24d2aa96e86123a01d7f2": {
      "model_module": "jupyter-leaflet",
      "model_module_version": "^0.17",
      "model_name": "LeafletMapStyleModel",
      "state": {
       "_model_module_version": "^0.17",
       "cursor": "move"
      }
     },
     "5ddc9998437e44468f3ec749590d8edd": {
      "model_module": "jupyter-leaflet",
      "model_module_version": "^0.12.1",
      "model_name": "LeafletMapStyleModel",
      "state": {
       "_model_module_version": "^0.12.1"
      }
     },
     "5e36ed03ac1b4eeba3bebcd8569ad01a": {
      "model_module": "@jupyter-widgets/controls",
      "model_module_version": "1.5.0",
      "model_name": "SelectionSliderModel",
      "state": {
       "_options_labels": [
        "13:00",
        "13:30",
        "14:00",
        "14:30",
        "15:00",
        "15:30",
        "16:00",
        "16:30"
       ],
       "description": "Time:",
       "index": 0,
       "layout": "IPY_MODEL_bf20536804d2415fb738261642789099",
       "style": "IPY_MODEL_ef59dfa5b67d4b7ba97d418220caad65"
      }
     },
     "5e4ad7b95fc94a5494cc3175b2826141": {
      "model_module": "jupyter-leaflet",
      "model_module_version": "^0.12.6",
      "model_name": "LeafletTileLayerModel",
      "state": {
       "_model_module_version": "^0.12.6",
       "_view_module_version": "^0.12.6",
       "attribution": "",
       "max_native_zoom": 18,
       "max_zoom": 19,
       "min_native_zoom": 0,
       "min_zoom": 1,
       "name": "Countries",
       "options": [
        "attribution",
        "detect_retina",
        "max_native_zoom",
        "max_zoom",
        "min_native_zoom",
        "min_zoom",
        "no_wrap",
        "tile_size",
        "tms"
       ],
       "url": ""
      }
     },
     "5e4b909094b14951ace4f41872ab5dd5": {
      "model_module": "jupyter-leaflet",
      "model_module_version": "~0.9.2",
      "model_name": "LeafletTileLayerModel",
      "state": {
       "_model_module_version": "~0.9.2",
       "_view_module_version": "~0.9.2",
       "attribution": "Tiles courtesy of <a href=\"http://openstreetmap.se/\" target=\"_blank\">OpenStreetMap Sweden</a> &mdash; Map data &copy; <a href=\"http://www.openstreetmap.org/copyright\">OpenStreetMap</a>",
       "base": true,
       "min_zoom": 1,
       "name": "Hydda.Full",
       "options": [
        "attribution",
        "detect_retina",
        "max_zoom",
        "min_zoom",
        "tile_size"
       ],
       "url": "http://{s}.tile.openstreetmap.se/hydda/full/{z}/{x}/{y}.png"
      }
     },
     "5e5fe3d65ed14c1dbc3bf24030f884ab": {
      "model_module": "@jupyter-widgets/base",
      "model_module_version": "1.2.0",
      "model_name": "LayoutModel",
      "state": {}
     },
     "5ea10d2acf194e3f94a813e3d26438f6": {
      "model_module": "jupyter-leaflet",
      "model_module_version": "^0.17",
      "model_name": "LeafletMapStyleModel",
      "state": {
       "_model_module_version": "^0.17",
       "cursor": "move"
      }
     },
     "5eada4b0bcb743ceb221bc89d6010ccc": {
      "model_module": "@jupyter-widgets/base",
      "model_module_version": "1.2.0",
      "model_name": "LayoutModel",
      "state": {}
     },
     "5ebfe503a9774cc19803cb4554766bdf": {
      "model_module": "@jupyter-widgets/controls",
      "model_module_version": "1.5.0",
      "model_name": "DescriptionStyleModel",
      "state": {
       "description_width": ""
      }
     },
     "5eec74c3e7db4530893395b26fea4369": {
      "model_module": "jupyter-leaflet",
      "model_module_version": "^0.17",
      "model_name": "LeafletAttributionControlModel",
      "state": {
       "_model_module_version": "^0.17",
       "_view_module_version": "^0.17",
       "options": [
        "position",
        "prefix"
       ],
       "position": "bottomright",
       "prefix": "ipyleaflet"
      }
     },
     "5f1157722f7947e181d10ef209f82505": {
      "model_module": "@jupyter-widgets/base",
      "model_module_version": "1.2.0",
      "model_name": "LayoutModel",
      "state": {}
     },
     "5f242d9f59144195aa93aaf24a9740e3": {
      "model_module": "jupyter-leaflet",
      "model_module_version": "^0.17",
      "model_name": "LeafletMapStyleModel",
      "state": {
       "_model_module_version": "^0.17"
      }
     },
     "5f2cf37fba2e4126b3e84ab51faaa8f1": {
      "model_module": "@jupyter-widgets/controls",
      "model_module_version": "1.5.0",
      "model_name": "DescriptionStyleModel",
      "state": {
       "description_width": ""
      }
     },
     "5f3b54a653cd494ea7b22ccc02ee0048": {
      "model_module": "jupyter-leaflet",
      "model_module_version": "^0.12.1",
      "model_name": "LeafletTileLayerModel",
      "state": {
       "_model_module_version": "^0.12.1",
       "_view_module_version": "^0.12.1",
       "attribution": "&copy; <a href=\"http://www.openstreetmap.org/copyright\">OpenStreetMap</a> &copy; <a href=\"http://cartodb.com/attributions\">CartoDB</a>",
       "base": true,
       "max_native_zoom": 18,
       "max_zoom": 20,
       "min_native_zoom": 0,
       "min_zoom": 1,
       "name": "CartoDB.Positron",
       "options": [
        "attribution",
        "detect_retina",
        "max_native_zoom",
        "max_zoom",
        "min_native_zoom",
        "min_zoom",
        "no_wrap",
        "tile_size",
        "tms"
       ],
       "url": "http://c.basemaps.cartocdn.com/light_all/{z}/{x}/{y}.png"
      }
     },
     "5f5b33942bbc400ea936487e9d13a2c6": {
      "model_module": "jupyter-leaflet",
      "model_module_version": "^0.17",
      "model_name": "LeafletAttributionControlModel",
      "state": {
       "_model_module_version": "^0.17",
       "_view_module_version": "^0.17",
       "options": [
        "position",
        "prefix"
       ],
       "position": "bottomright",
       "prefix": "ipyleaflet"
      }
     },
     "5f6a00ce8b31467fa3a87e9d92ee483d": {
      "model_module": "jupyter-leaflet",
      "model_module_version": "~0.9.2",
      "model_name": "LeafletTileLayerModel",
      "state": {
       "_model_module_version": "~0.9.2",
       "_view_module_version": "~0.9.2",
       "attribution": "Map tiles by <a href=\"https://labs.strava.com/heatmap\">Strava 2017</a>",
       "max_zoom": 15,
       "min_zoom": 1,
       "name": "Strava.All",
       "options": [
        "attribution",
        "detect_retina",
        "max_zoom",
        "min_zoom",
        "tile_size"
       ],
       "url": "https://heatmap-external-a.strava.com//tiles/all/hot/{z}/{x}/{y}.png?v=19"
      }
     },
     "5f9f47d830dd4a55b2047ee28f5bf321": {
      "model_module": "jupyter-leaflet",
      "model_module_version": "^0.17",
      "model_name": "LeafletMapStyleModel",
      "state": {
       "_model_module_version": "^0.17",
       "cursor": "move"
      }
     },
     "5fb422c2e82f4bcda043f797f85fceb4": {
      "model_module": "jupyter-leaflet",
      "model_module_version": "^0.17",
      "model_name": "LeafletMapStyleModel",
      "state": {
       "_model_module_version": "^0.17",
       "cursor": "move"
      }
     },
     "5fb96163d5f94d63bd132364e822048e": {
      "model_module": "@jupyter-widgets/base",
      "model_module_version": "1.2.0",
      "model_name": "LayoutModel",
      "state": {}
     },
     "5fdd8a7741b740c091cea4e1ae42db6d": {
      "model_module": "@jupyter-widgets/base",
      "model_module_version": "1.2.0",
      "model_name": "LayoutModel",
      "state": {}
     },
     "600604e3566f45f2b293aab75e88eca8": {
      "model_module": "jupyter-leaflet",
      "model_module_version": "^0.17",
      "model_name": "LeafletMapStyleModel",
      "state": {
       "_model_module_version": "^0.17"
      }
     },
     "600da7db70b149cf94268cec1e12bf9d": {
      "model_module": "@jupyter-widgets/base",
      "model_module_version": "1.2.0",
      "model_name": "LayoutModel",
      "state": {}
     },
     "603a6893503e4884bfe82824810d6382": {
      "model_module": "jupyter-leaflet",
      "model_module_version": "^0.12.1",
      "model_name": "LeafletMapModel",
      "state": {
       "_model_module_version": "^0.12.1",
       "_view_module_version": "^0.12.1",
       "center": [
        30.661,
        -88.645
       ],
       "controls": [
        "IPY_MODEL_88c35b9843de4e549947412a0f996ccf",
        "IPY_MODEL_36689022b3bd4868a3c5ca0e38157ce7"
       ],
       "default_style": "IPY_MODEL_7a7b36ff81fd4f7a85c0e934113caf39",
       "dragging_style": "IPY_MODEL_9cedd982cc9a4789b3a7b675bf727210",
       "east": -67.58789062500001,
       "fullscreen": false,
       "interpolation": "bilinear",
       "layers": [
        "IPY_MODEL_920695e79b5548a18dd6daf0410415a9",
        "IPY_MODEL_f4ae894d08be4f55b61346a63b305042"
       ],
       "layout": "IPY_MODEL_8e80213883d64a7b8efd4f589f82f8c4",
       "modisdate": "yesterday",
       "north": 37.92686760148135,
       "options": [
        "bounce_at_zoom_limits",
        "box_zoom",
        "center",
        "close_popup_on_click",
        "double_click_zoom",
        "dragging",
        "fullscreen",
        "inertia",
        "inertia_deceleration",
        "inertia_max_speed",
        "interpolation",
        "keyboard",
        "keyboard_pan_offset",
        "keyboard_zoom_offset",
        "max_zoom",
        "min_zoom",
        "scroll_wheel_zoom",
        "tap",
        "tap_tolerance",
        "touch_zoom",
        "world_copy_jump",
        "zoom",
        "zoom_animation_threshold",
        "zoom_start"
       ],
       "south": 22.836945920943855,
       "style": "IPY_MODEL_cee205ba2a844b23b5d51279e2ab8997",
       "west": -109.73144531250001,
       "window_url": "http://localhost:8888/notebooks/js/ipyleaflet.ipynb",
       "zoom": 5
      }
     },
     "60895ce9cb214ced84daaef76effdf05": {
      "model_module": "@jupyter-widgets/base",
      "model_module_version": "1.2.0",
      "model_name": "LayoutModel",
      "state": {}
     },
     "6098be57e582459d8f542bfb99c42fbf": {
      "model_module": "jupyter-leaflet",
      "model_module_version": "^0.17",
      "model_name": "LeafletAttributionControlModel",
      "state": {
       "_model_module_version": "^0.17",
       "_view_module_version": "^0.17",
       "options": [
        "position",
        "prefix"
       ],
       "position": "bottomright",
       "prefix": "ipyleaflet"
      }
     },
     "60aecd227c674b9c82f90b824bb4aefb": {
      "model_module": "jupyter-leaflet",
      "model_module_version": "^0.11.2",
      "model_name": "LeafletMapStyleModel",
      "state": {
       "_model_module_version": "^0.11.2"
      }
     },
     "60bd9122c42740db8d23e690c968bd07": {
      "model_module": "jupyter-leaflet",
      "model_module_version": "^0.17",
      "model_name": "LeafletZoomControlModel",
      "state": {
       "_model_module_version": "^0.17",
       "_view_module_version": "^0.17",
       "options": [
        "position",
        "zoom_in_text",
        "zoom_in_title",
        "zoom_out_text",
        "zoom_out_title"
       ]
      }
     },
     "60c62504f65147ffa66aefd9f2bc0e39": {
      "model_module": "@jupyter-widgets/base",
      "model_module_version": "1.2.0",
      "model_name": "LayoutModel",
      "state": {}
     },
     "60cd189bc6814691b478f5dcfdf8b48b": {
      "model_module": "@jupyter-widgets/base",
      "model_module_version": "1.2.0",
      "model_name": "LayoutModel",
      "state": {}
     },
     "60ea836d16ac48ff80ccf9667d7a6d44": {
      "model_module": "jupyter-leaflet",
      "model_module_version": "~0.9.2",
      "model_name": "LeafletTileLayerModel",
      "state": {
       "_model_module_version": "~0.9.2",
       "_view_module_version": "~0.9.2",
       "attribution": "Tiles courtesy of <a href=\"http://openstreetmap.se/\" target=\"_blank\">OpenStreetMap Sweden</a> &mdash; Map data &copy; <a href=\"http://www.openstreetmap.org/copyright\">OpenStreetMap</a>",
       "base": true,
       "min_zoom": 1,
       "name": "Hydda.Full",
       "options": [
        "attribution",
        "detect_retina",
        "max_zoom",
        "min_zoom",
        "tile_size"
       ],
       "url": "http://{s}.tile.openstreetmap.se/hydda/full/{z}/{x}/{y}.png"
      }
     },
     "614ffc56af3c41efa3ab201e43f8cab8": {
      "model_module": "@jupyter-widgets/controls",
      "model_module_version": "1.5.0",
      "model_name": "IntSliderModel",
      "state": {
       "description": "Zoom level:",
       "layout": "IPY_MODEL_054f101ae2e0462b81c695ff645fefa6",
       "max": 15,
       "style": "IPY_MODEL_360d54f0973441049b5130d86ab1e27c",
       "value": 12
      }
     },
     "624a2008efbd425783da7326e12a3a65": {
      "model_module": "jupyter-leaflet",
      "model_module_version": "^0.12.1",
      "model_name": "LeafletTileLayerModel",
      "state": {
       "_model_module_version": "^0.12.1",
       "_view_module_version": "^0.12.1",
       "attribution": "Tiles courtesy of <a href=\"http://openstreetmap.se/\" target=\"_blank\">OpenStreetMap Sweden</a> &mdash; Map data &copy; <a href=\"http://www.openstreetmap.org/copyright\">OpenStreetMap</a>",
       "base": true,
       "max_native_zoom": 18,
       "min_native_zoom": 0,
       "min_zoom": 1,
       "name": "Hydda.Full",
       "options": [
        "attribution",
        "detect_retina",
        "max_native_zoom",
        "max_zoom",
        "min_native_zoom",
        "min_zoom",
        "no_wrap",
        "tile_size",
        "tms"
       ],
       "url": "http://{s}.tile.openstreetmap.se/hydda/full/{z}/{x}/{y}.png"
      }
     },
     "62a7c554813041229feda13e23938ea3": {
      "model_module": "jupyter-leaflet",
      "model_module_version": "^0.12.6",
      "model_name": "LeafletTileLayerModel",
      "state": {
       "_model_module_version": "^0.12.6",
       "_view_module_version": "^0.12.6",
       "attribution": "Map tiles by <a href=\"https://labs.strava.com/heatmap\">Strava 2017</a>",
       "max_native_zoom": 18,
       "max_zoom": 15,
       "min_native_zoom": 0,
       "min_zoom": 1,
       "name": "Strava.All",
       "options": [
        "attribution",
        "detect_retina",
        "max_native_zoom",
        "max_zoom",
        "min_native_zoom",
        "min_zoom",
        "no_wrap",
        "tile_size",
        "tms"
       ],
       "url": "https://heatmap-external-a.strava.com//tiles/all/hot/{z}/{x}/{y}.png?v=19"
      }
     },
     "62cbe93b228948d6bb860d02fc4757ed": {
      "model_module": "jupyter-leaflet",
      "model_module_version": "^0.12.1",
      "model_name": "LeafletMapStyleModel",
      "state": {
       "_model_module_version": "^0.12.1"
      }
     },
     "62ea2fa565d64483b90002a060542694": {
      "model_module": "@jupyter-widgets/controls",
      "model_module_version": "1.5.0",
      "model_name": "DescriptionStyleModel",
      "state": {
       "description_width": ""
      }
     },
     "62fb2dbd24354b79b9d05c8e4fdf46af": {
      "model_module": "@jupyter-widgets/base",
      "model_module_version": "1.2.0",
      "model_name": "LayoutModel",
      "state": {}
     },
     "633b1b1f980d451e9f7c60ab1adc962f": {
      "model_module": "jupyter-leaflet",
      "model_module_version": "^0.17",
      "model_name": "LeafletMapStyleModel",
      "state": {
       "_model_module_version": "^0.17",
       "cursor": "move"
      }
     },
     "633c6526784d477f80e26ecf73747b0d": {
      "model_module": "jupyter-leaflet",
      "model_module_version": "^0.17",
      "model_name": "LeafletAttributionControlModel",
      "state": {
       "_model_module_version": "^0.17",
       "_view_module_version": "^0.17",
       "options": [
        "position",
        "prefix"
       ],
       "position": "bottomright",
       "prefix": "ipyleaflet"
      }
     },
     "63b36c2b42934cd0b41daa5040b6f112": {
      "model_module": "jupyter-leaflet",
      "model_module_version": "^0.17",
      "model_name": "LeafletMapStyleModel",
      "state": {
       "_model_module_version": "^0.17"
      }
     },
     "63c2ff9aebf047c0ac6e5ac8c9e78a1c": {
      "model_module": "jupyter-leaflet",
      "model_module_version": "^0.12.1",
      "model_name": "LeafletMapModel",
      "state": {
       "_model_module_version": "^0.12.1",
       "_view_module_version": "^0.12.1",
       "center": [
        48,
        7.9
       ],
       "controls": [
        "IPY_MODEL_51241fb3935c4d719e27f38ca5293ddc",
        "IPY_MODEL_7e7ee55950904cf38f28d9938ff622b5"
       ],
       "default_style": "IPY_MODEL_74b5c9c1d60f4ac8a32292173d98b480",
       "dragging_style": "IPY_MODEL_9968de95942445afa52f32d511e61aee",
       "east": 8.217773437500002,
       "fullscreen": false,
       "interpolation": "bilinear",
       "layers": [
        "IPY_MODEL_d65b34a5518b4b5a8163c27fc45ff852"
       ],
       "layout": "IPY_MODEL_c03b2d717c914f31a2c8ebaf7a72710a",
       "modisdate": "yesterday",
       "north": 48.18348549519126,
       "options": [
        "bounce_at_zoom_limits",
        "box_zoom",
        "center",
        "close_popup_on_click",
        "double_click_zoom",
        "dragging",
        "fullscreen",
        "inertia",
        "inertia_deceleration",
        "inertia_max_speed",
        "interpolation",
        "keyboard",
        "keyboard_pan_offset",
        "keyboard_zoom_offset",
        "max_zoom",
        "min_zoom",
        "scroll_wheel_zoom",
        "tap",
        "tap_tolerance",
        "touch_zoom",
        "world_copy_jump",
        "zoom",
        "zoom_animation_threshold",
        "zoom_start"
       ],
       "south": 47.81592114659014,
       "style": "IPY_MODEL_74b5c9c1d60f4ac8a32292173d98b480",
       "west": 7.581939697265626,
       "window_url": "http://localhost:8888/notebooks/js/ipyleaflet.ipynb",
       "zoom": 10
      }
     },
     "63d75f2895eb4ee9b33954b555abcf91": {
      "model_module": "jupyter-leaflet",
      "model_module_version": "^0.11.2",
      "model_name": "LeafletAttributionControlModel",
      "state": {
       "_model_module_version": "^0.11.2",
       "_view_module_version": "^0.11.2",
       "options": [
        "position",
        "prefix"
       ],
       "position": "bottomright",
       "prefix": "Leaflet"
      }
     },
     "63dc83fc4f8e45f3b2c98b2247e964ec": {
      "model_module": "jupyter-leaflet",
      "model_module_version": "^0.17",
      "model_name": "LeafletMapStyleModel",
      "state": {
       "_model_module_version": "^0.17",
       "cursor": "move"
      }
     },
     "642b76f32f534a0b81c26212567df1ff": {
      "model_module": "jupyter-leaflet",
      "model_module_version": "^0.17",
      "model_name": "LeafletMapStyleModel",
      "state": {
       "_model_module_version": "^0.17",
       "cursor": "move"
      }
     },
     "644b16a4bbf14dccb59bf4737d2fa5a6": {
      "model_module": "jupyter-leaflet",
      "model_module_version": "^0.17",
      "model_name": "LeafletTileLayerModel",
      "state": {
       "_model_module_version": "^0.17",
       "_view_module_version": "^0.17",
       "attribution": "&copy; <a href=\"https://www.openstreetmap.org/copyright\">OpenStreetMap</a> contributors",
       "base": true,
       "max_zoom": 19,
       "min_zoom": 1,
       "name": "OpenStreetMap.Mapnik",
       "options": [
        "attribution",
        "bounds",
        "detect_retina",
        "max_native_zoom",
        "max_zoom",
        "min_native_zoom",
        "min_zoom",
        "no_wrap",
        "tile_size",
        "tms",
        "zoom_offset"
       ],
       "url": "https://tile.openstreetmap.org/{z}/{x}/{y}.png"
      }
     },
     "644d8a01d2de4b5db9005b5e27c4aaf0": {
      "model_module": "jupyter-leaflet",
      "model_module_version": "^0.12.1",
      "model_name": "LeafletZoomControlModel",
      "state": {
       "_model_module_version": "^0.12.1",
       "_view_module_version": "^0.12.1",
       "options": [
        "position",
        "zoom_in_text",
        "zoom_in_title",
        "zoom_out_text",
        "zoom_out_title"
       ]
      }
     },
     "64c42b5128c94f469b55275322914b01": {
      "model_module": "@jupyter-widgets/controls",
      "model_module_version": "1.5.0",
      "model_name": "HBoxModel",
      "state": {
       "children": [
        "IPY_MODEL_2a0f6d89c0844b93a69ef9742d7acb6b",
        "IPY_MODEL_08f6b83ea4064992b203b7b3bac22de6"
       ],
       "layout": "IPY_MODEL_7152416fb1e14e279754ffde7e9e5336"
      }
     },
     "654b57194ff64b138d8baa91db55f76c": {
      "model_module": "jupyter-leaflet",
      "model_module_version": "^0.17",
      "model_name": "LeafletLayersControlModel",
      "state": {
       "_model_module_version": "^0.17",
       "_view_module_version": "^0.17",
       "options": [
        "position"
       ]
      }
     },
     "65a02bd896c54997970b2ad152a5ab47": {
      "model_module": "jupyter-leaflet",
      "model_module_version": "^0.17",
      "model_name": "LeafletZoomControlModel",
      "state": {
       "_model_module_version": "^0.17",
       "_view_module_version": "^0.17",
       "options": [
        "position",
        "zoom_in_text",
        "zoom_in_title",
        "zoom_out_text",
        "zoom_out_title"
       ]
      }
     },
     "65c9d73ea7ca4974938cee9b7fd1a9ed": {
      "model_module": "jupyter-leaflet",
      "model_module_version": "^0.17",
      "model_name": "LeafletMapStyleModel",
      "state": {
       "_model_module_version": "^0.17"
      }
     },
     "6639d85c33904e0ab346d19b42e01db5": {
      "model_module": "jupyter-leaflet",
      "model_module_version": "^0.17",
      "model_name": "LeafletZoomControlModel",
      "state": {
       "_model_module_version": "^0.17",
       "_view_module_version": "^0.17",
       "options": [
        "position",
        "zoom_in_text",
        "zoom_in_title",
        "zoom_out_text",
        "zoom_out_title"
       ]
      }
     },
     "664f312970444b0ab64e4d9017e95e20": {
      "model_module": "jupyter-leaflet",
      "model_module_version": "^0.17",
      "model_name": "LeafletMapStyleModel",
      "state": {
       "_model_module_version": "^0.17"
      }
     },
     "664f624affdb4461a10ed9f9dbb5c770": {
      "model_module": "jupyter-leaflet",
      "model_module_version": "^0.17",
      "model_name": "LeafletMapStyleModel",
      "state": {
       "_model_module_version": "^0.17",
       "cursor": "move"
      }
     },
     "665121f53548486b96d2e3a5ba2d1570": {
      "model_module": "@jupyter-widgets/base",
      "model_module_version": "1.2.0",
      "model_name": "LayoutModel",
      "state": {}
     },
     "66e91c3b0e924688b5db8ec8b9805e5d": {
      "model_module": "@jupyter-widgets/controls",
      "model_module_version": "1.5.0",
      "model_name": "SliderStyleModel",
      "state": {
       "description_width": ""
      }
     },
     "67001eede95340778f85027ebb7b0165": {
      "model_module": "jupyter-leaflet",
      "model_module_version": "^0.17",
      "model_name": "LeafletMapStyleModel",
      "state": {
       "_model_module_version": "^0.17"
      }
     },
     "673d5bb0a8854681b4124726d28594da": {
      "model_module": "jupyter-leaflet",
      "model_module_version": "^0.12.1",
      "model_name": "LeafletMapModel",
      "state": {
       "_model_module_version": "^0.12.1",
       "_view_module_version": "^0.12.1",
       "center": [
        48,
        7.9
       ],
       "controls": [
        "IPY_MODEL_4e0e07ee2a7a4fda969060facdd69bbc",
        "IPY_MODEL_20da4c7914874d7f809d21665687443d"
       ],
       "default_style": "IPY_MODEL_85e815d6ebb047d7bc968d0013da09f4",
       "dragging_style": "IPY_MODEL_19ce1dc791aa4940ac26600a40d46675",
       "east": 8.217773437500002,
       "fullscreen": false,
       "interpolation": "bilinear",
       "layers": [
        "IPY_MODEL_f72f6891720b4382819cc831bce6538b"
       ],
       "layout": "IPY_MODEL_687ac351fc214741a3667076a6db9a9d",
       "modisdate": "yesterday",
       "north": 48.18348549519126,
       "options": [
        "bounce_at_zoom_limits",
        "box_zoom",
        "center",
        "close_popup_on_click",
        "double_click_zoom",
        "dragging",
        "fullscreen",
        "inertia",
        "inertia_deceleration",
        "inertia_max_speed",
        "interpolation",
        "keyboard",
        "keyboard_pan_offset",
        "keyboard_zoom_offset",
        "max_zoom",
        "min_zoom",
        "scroll_wheel_zoom",
        "tap",
        "tap_tolerance",
        "touch_zoom",
        "world_copy_jump",
        "zoom",
        "zoom_animation_threshold",
        "zoom_start"
       ],
       "south": 47.81592114659014,
       "style": "IPY_MODEL_85e815d6ebb047d7bc968d0013da09f4",
       "west": 7.581939697265626,
       "window_url": "http://localhost:8888/notebooks/js/ipyleaflet.ipynb",
       "zoom": 10
      }
     },
     "6752be8fc91540329d6d6d3cc0f22108": {
      "model_module": "jupyter-leaflet",
      "model_module_version": "^0.12.1",
      "model_name": "LeafletAttributionControlModel",
      "state": {
       "_model_module_version": "^0.12.1",
       "_view_module_version": "^0.12.1",
       "options": [
        "position",
        "prefix"
       ],
       "position": "bottomright",
       "prefix": "Leaflet"
      }
     },
     "677c7aa048be4141a62fb9b429caf8bd": {
      "model_module": "jupyter-leaflet",
      "model_module_version": "^0.17",
      "model_name": "LeafletMapModel",
      "state": {
       "_model_module_version": "^0.17",
       "_view_module_version": "^0.17",
       "bottom": 43188,
       "center": [
        52.5162,
        13.3777
       ],
       "controls": [
        "IPY_MODEL_8d2195da765543cfb0852268fdf99600",
        "IPY_MODEL_c268dc47817d4e50aead0289e5ea65fc",
        "IPY_MODEL_d9d1c855222f44d08f8c842814955dde",
        "IPY_MODEL_7c04b8ac019e4f77b7afceaaa70a73e8"
       ],
       "default_style": "IPY_MODEL_63b36c2b42934cd0b41daa5040b6f112",
       "dragging_style": "IPY_MODEL_5b657ab1e0dc49e19c38e1057c941554",
       "east": 14.707946777343752,
       "fullscreen": false,
       "interpolation": "bilinear",
       "layers": [
        "IPY_MODEL_b66744feb69c4d4e83057257d74028b1"
       ],
       "layout": "IPY_MODEL_02446a3ed268422a8a8ee00aef6e84b3",
       "left": 69922,
       "modisdate": "2023-07-11",
       "north": 52.8492298820527,
       "options": [
        "bounce_at_zoom_limits",
        "box_zoom",
        "center",
        "close_popup_on_click",
        "double_click_zoom",
        "dragging",
        "fullscreen",
        "inertia",
        "inertia_deceleration",
        "inertia_max_speed",
        "interpolation",
        "keyboard",
        "keyboard_pan_offset",
        "keyboard_zoom_offset",
        "max_zoom",
        "min_zoom",
        "prefer_canvas",
        "scroll_wheel_zoom",
        "tap",
        "tap_tolerance",
        "touch_zoom",
        "world_copy_jump",
        "zoom",
        "zoom_animation_threshold",
        "zoom_delta",
        "zoom_snap"
       ],
       "prefer_canvas": false,
       "right": 70891,
       "south": 52.18066872927717,
       "style": "IPY_MODEL_63b36c2b42934cd0b41daa5040b6f112",
       "top": 42788,
       "west": 12.046508789062502,
       "window_url": "http://localhost:8888/notebooks/js/ipyleaflet.ipynb#",
       "zoom": 9
      }
     },
     "678f38f1b79742aabcfdac9aa12f058d": {
      "model_module": "@jupyter-widgets/base",
      "model_module_version": "1.2.0",
      "model_name": "LayoutModel",
      "state": {}
     },
     "67b0bb8360254f3990cf0c72926a5aae": {
      "model_module": "jupyter-leaflet",
      "model_module_version": "^0.12.1",
      "model_name": "LeafletMapStyleModel",
      "state": {
       "_model_module_version": "^0.12.1",
       "cursor": "move"
      }
     },
     "67b349a568f042a7a682af06a9256b72": {
      "model_module": "jupyter-leaflet",
      "model_module_version": "^0.17",
      "model_name": "LeafletMapStyleModel",
      "state": {
       "_model_module_version": "^0.17"
      }
     },
     "67ddb640ab9c48f18b2b430bc31ac89b": {
      "model_module": "jupyter-leaflet",
      "model_module_version": "^0.17",
      "model_name": "LeafletTileLayerModel",
      "state": {
       "_model_module_version": "^0.17",
       "_view_module_version": "^0.17",
       "attribution": "&copy; <a href=\"https://www.openstreetmap.org/copyright\">OpenStreetMap</a> contributors &copy; <a href=\"https://carto.com/attributions\">CARTO</a>",
       "base": true,
       "max_zoom": 20,
       "min_zoom": 1,
       "name": "CartoDB.Positron",
       "options": [
        "attribution",
        "bounds",
        "detect_retina",
        "max_native_zoom",
        "max_zoom",
        "min_native_zoom",
        "min_zoom",
        "no_wrap",
        "tile_size",
        "tms",
        "zoom_offset"
       ],
       "url": "https://a.basemaps.cartocdn.com/light_all/{z}/{x}/{y}.png"
      }
     },
     "680df379e7bc47f3b524695704a9f8c4": {
      "model_module": "jupyter-leaflet",
      "model_module_version": "^0.12.1",
      "model_name": "LeafletMapStyleModel",
      "state": {
       "_model_module_version": "^0.12.1",
       "cursor": "move"
      }
     },
     "687ac351fc214741a3667076a6db9a9d": {
      "model_module": "@jupyter-widgets/base",
      "model_module_version": "1.2.0",
      "model_name": "LayoutModel",
      "state": {}
     },
     "6888b9fcd5e14cf4bcf25d4811b6e5e3": {
      "model_module": "@jupyter-widgets/controls",
      "model_module_version": "1.5.0",
      "model_name": "LabelModel",
      "state": {
       "layout": "IPY_MODEL_8f73c393d05145919bd443e00f4a613e",
       "style": "IPY_MODEL_dd9b1b19e0704101bbaf33113d06170f"
      }
     },
     "68d64ecf0d0b45c39dde778f9c21bd91": {
      "model_module": "jupyter-leaflet",
      "model_module_version": "^0.17",
      "model_name": "LeafletMapModel",
      "state": {
       "_model_module_version": "^0.17",
       "_view_module_version": "^0.17",
       "bottom": 344104,
       "center": [
        52.5162,
        13.3777
       ],
       "controls": [
        "IPY_MODEL_dc81ec34ab914bf7a35da9fbd4569cbf",
        "IPY_MODEL_5f5b33942bbc400ea936487e9d13a2c6"
       ],
       "default_style": "IPY_MODEL_84b53579abda4700911bd28f63e36f22",
       "dragging_style": "IPY_MODEL_9d4acbabe89044be90d61dadc8a1910d",
       "east": 13.544082641601564,
       "fullscreen": false,
       "interpolation": "bilinear",
       "layers": [
        "IPY_MODEL_891d431c846244a2b5eecc55f52f8402"
       ],
       "layout": "IPY_MODEL_43b0692537524eccafce569874514b2f",
       "left": 562769,
       "modisdate": "2023-07-11",
       "north": 52.55798590427374,
       "options": [
        "bounce_at_zoom_limits",
        "box_zoom",
        "center",
        "close_popup_on_click",
        "double_click_zoom",
        "dragging",
        "fullscreen",
        "inertia",
        "inertia_deceleration",
        "inertia_max_speed",
        "interpolation",
        "keyboard",
        "keyboard_pan_offset",
        "keyboard_zoom_offset",
        "max_zoom",
        "min_zoom",
        "prefer_canvas",
        "scroll_wheel_zoom",
        "tap",
        "tap_tolerance",
        "touch_zoom",
        "world_copy_jump",
        "zoom",
        "zoom_animation_threshold",
        "zoom_delta",
        "zoom_snap"
       ],
       "prefer_canvas": false,
       "right": 563738,
       "south": 52.47441608702583,
       "style": "IPY_MODEL_3b1ebff34aba44b8b56b0a7ca7351418",
       "top": 343704,
       "west": 13.211402893066408,
       "window_url": "http://localhost:8888/notebooks/js/ipyleaflet.ipynb#"
      }
     },
     "68d775e6853949d488fe6d60bead1315": {
      "model_module": "jupyter-leaflet",
      "model_module_version": "^0.17",
      "model_name": "LeafletMapStyleModel",
      "state": {
       "_model_module_version": "^0.17"
      }
     },
     "68fc23a55efc49a490fbcf224b4b031d": {
      "model_module": "jupyter-leaflet",
      "model_module_version": "^0.17",
      "model_name": "LeafletMapModel",
      "state": {
       "_model_module_version": "^0.17",
       "_view_module_version": "^0.17",
       "bottom": 2887,
       "center": [
        52.5162,
        13.3777
       ],
       "controls": [
        "IPY_MODEL_bd771993de8a41569f4f91669fef6b6c",
        "IPY_MODEL_202ec3000efc4b7083fe966cd3276d67"
       ],
       "default_style": "IPY_MODEL_8649dfef1afc488f9f6b5abea10fa557",
       "dragging_style": "IPY_MODEL_3022eb01879c4811b571ead82f8842fb",
       "east": 23.950195312500004,
       "fullscreen": false,
       "interpolation": "bilinear",
       "layers": [
        "IPY_MODEL_ba369b1b0ac24571b692127194bb758f"
       ],
       "layout": "IPY_MODEL_48d1a09bc23040f7ba492bf79771e4c4",
       "left": 4159,
       "modisdate": "2023-07-11",
       "north": 57.539416794474995,
       "options": [
        "bounce_at_zoom_limits",
        "box_zoom",
        "center",
        "close_popup_on_click",
        "double_click_zoom",
        "dragging",
        "fullscreen",
        "inertia",
        "inertia_deceleration",
        "inertia_max_speed",
        "interpolation",
        "keyboard",
        "keyboard_pan_offset",
        "keyboard_zoom_offset",
        "max_zoom",
        "min_zoom",
        "prefer_canvas",
        "scroll_wheel_zoom",
        "tap",
        "tap_tolerance",
        "touch_zoom",
        "world_copy_jump",
        "zoom",
        "zoom_animation_threshold",
        "zoom_delta",
        "zoom_snap"
       ],
       "prefer_canvas": false,
       "right": 4641,
       "south": 46.830133640447414,
       "style": "IPY_MODEL_a7d5de9b0def4fe5a8c16927dd5fb012",
       "top": 2487,
       "west": 2.7685546875000004,
       "window_url": "http://localhost:8888/notebooks/js/ipyleaflet.ipynb#",
       "zoom": 5
      }
     },
     "695983b4ca1d4ab99014c1dee1a1cabc": {
      "model_module": "@jupyter-widgets/controls",
      "model_module_version": "1.5.0",
      "model_name": "DescriptionStyleModel",
      "state": {
       "description_width": ""
      }
     },
     "697f6ea37f874200bfab4dda40481369": {
      "model_module": "@jupyter-widgets/controls",
      "model_module_version": "1.5.0",
      "model_name": "SliderStyleModel",
      "state": {
       "description_width": ""
      }
     },
     "69c7713945ae4971a2d9d9468f7a7a95": {
      "model_module": "jupyter-leaflet",
      "model_module_version": "^0.17",
      "model_name": "LeafletZoomControlModel",
      "state": {
       "_model_module_version": "^0.17",
       "_view_module_version": "^0.17",
       "options": [
        "position",
        "zoom_in_text",
        "zoom_in_title",
        "zoom_out_text",
        "zoom_out_title"
       ]
      }
     },
     "69c839bc2ad744d096d2413bebb075dd": {
      "model_module": "jupyter-leaflet",
      "model_module_version": "^0.12.1",
      "model_name": "LeafletZoomControlModel",
      "state": {
       "_model_module_version": "^0.12.1",
       "_view_module_version": "^0.12.1",
       "options": [
        "position",
        "zoom_in_text",
        "zoom_in_title",
        "zoom_out_text",
        "zoom_out_title"
       ]
      }
     },
     "6a0c8f188fec419fb73a69770ffa6eef": {
      "model_module": "jupyter-leaflet",
      "model_module_version": "^0.17",
      "model_name": "LeafletMapStyleModel",
      "state": {
       "_model_module_version": "^0.17"
      }
     },
     "6a1076d6ae0a412ebfcd69d0834d8d4d": {
      "model_module": "@jupyter-widgets/controls",
      "model_module_version": "1.5.0",
      "model_name": "SliderStyleModel",
      "state": {
       "description_width": ""
      }
     },
     "6a178c4829404185a9a28fb79bf9d6ea": {
      "model_module": "jupyter-leaflet",
      "model_module_version": "~0.9.2",
      "model_name": "LeafletMapModel",
      "state": {
       "_model_module_version": "~0.9.2",
       "_view_module_version": "~0.9.2",
       "basemap": {
        "attribution": "Map data (c) <a href=\"https://openstreetmap.org\">OpenStreetMap</a> contributors",
        "max_zoom": 19,
        "url": "https://{s}.tile.openstreetmap.org/{z}/{x}/{y}.png"
       },
       "center": [
        47.94762618352869,
        7.916336059570313
       ],
       "east": 8.250732421875002,
       "interpolation": "bilinear",
       "layers": [
        "IPY_MODEL_fdc38783e566411bbbe07e13a32c7e8c"
       ],
       "layout": "IPY_MODEL_7663b365db6f4636907ff0ef0a38513f",
       "modisdate": "yesterday",
       "north": 48.13126755117028,
       "options": [
        "attribution_control",
        "basemap",
        "bounce_at_zoom_limits",
        "box_zoom",
        "center",
        "close_popup_on_click",
        "double_click_zoom",
        "dragging",
        "inertia",
        "inertia_deceleration",
        "inertia_max_speed",
        "interpolation",
        "keyboard",
        "keyboard_pan_offset",
        "keyboard_zoom_offset",
        "max_zoom",
        "min_zoom",
        "scroll_wheel_zoom",
        "tap",
        "tap_tolerance",
        "touch_zoom",
        "world_copy_jump",
        "zoom",
        "zoom_animation_threshold",
        "zoom_control",
        "zoom_start"
       ],
       "south": 47.76332998647307,
       "west": 7.581939697265626,
       "window_url": "http://localhost:8888/notebooks/js/ipyleaflet.ipynb",
       "zoom": 10
      }
     },
     "6a4722c755124c49b4395f779f93fc47": {
      "model_module": "@jupyter-widgets/base",
      "model_module_version": "1.2.0",
      "model_name": "LayoutModel",
      "state": {}
     },
     "6a68f309770d4094b8eab81e0a492352": {
      "model_module": "jupyter-leaflet",
      "model_module_version": "^0.17",
      "model_name": "LeafletMapStyleModel",
      "state": {
       "_model_module_version": "^0.17",
       "cursor": "move"
      }
     },
     "6a697946c9b34b33af3fa30bb8399bd8": {
      "model_module": "@jupyter-widgets/base",
      "model_module_version": "1.2.0",
      "model_name": "LayoutModel",
      "state": {}
     },
     "6a74f008f16149e481dcd27e750fa830": {
      "model_module": "jupyter-leaflet",
      "model_module_version": "^0.17",
      "model_name": "LeafletMapModel",
      "state": {
       "_model_module_version": "^0.17",
       "_view_module_version": "^0.17",
       "bottom": 2887,
       "center": [
        52.5162,
        13.3777
       ],
       "controls": [
        "IPY_MODEL_72a7978d61eb4d3489ad8df833c4857b",
        "IPY_MODEL_552c6b8508b543018f184a9ebdfa82e6"
       ],
       "default_style": "IPY_MODEL_2ec5b5f15a9743abbf87e9ddd8756764",
       "dragging_style": "IPY_MODEL_0fb08dd41d03496083ef5d795c663c0e",
       "east": 23.950195312500004,
       "fullscreen": false,
       "interpolation": "bilinear",
       "layers": [
        "IPY_MODEL_baafe39bc4d14b83b9d0eedea0746142"
       ],
       "layout": "IPY_MODEL_3b1b9b50d7334390bfb3b88cb3bab5f1",
       "left": 4159,
       "modisdate": "2023-07-11",
       "north": 57.539416794474995,
       "options": [
        "bounce_at_zoom_limits",
        "box_zoom",
        "center",
        "close_popup_on_click",
        "double_click_zoom",
        "dragging",
        "fullscreen",
        "inertia",
        "inertia_deceleration",
        "inertia_max_speed",
        "interpolation",
        "keyboard",
        "keyboard_pan_offset",
        "keyboard_zoom_offset",
        "max_zoom",
        "min_zoom",
        "prefer_canvas",
        "scroll_wheel_zoom",
        "tap",
        "tap_tolerance",
        "touch_zoom",
        "world_copy_jump",
        "zoom",
        "zoom_animation_threshold",
        "zoom_delta",
        "zoom_snap"
       ],
       "prefer_canvas": false,
       "right": 4641,
       "south": 46.830133640447414,
       "style": "IPY_MODEL_b9401007dbb5460abe10b3e87ac78378",
       "top": 2487,
       "west": 2.7685546875000004,
       "window_url": "http://localhost:8888/notebooks/js/ipyleaflet.ipynb#",
       "zoom": 5
      }
     },
     "6a8ab40c19874f69a7943b9dfd54116e": {
      "model_module": "@jupyter-widgets/controls",
      "model_module_version": "1.5.0",
      "model_name": "SliderStyleModel",
      "state": {
       "description_width": ""
      }
     },
     "6a96d8ef765c4ac08990c595c75a5e1f": {
      "model_module": "@jupyter-widgets/controls",
      "model_module_version": "1.5.0",
      "model_name": "DescriptionStyleModel",
      "state": {
       "description_width": ""
      }
     },
     "6ab86c136b2740dd975b769fa38d62dd": {
      "model_module": "jupyter-leaflet",
      "model_module_version": "^0.12.1",
      "model_name": "LeafletAttributionControlModel",
      "state": {
       "_model_module_version": "^0.12.1",
       "_view_module_version": "^0.12.1",
       "options": [
        "position",
        "prefix"
       ],
       "position": "bottomright",
       "prefix": "Leaflet"
      }
     },
     "6ac2defab53a485f8153afe38a0990d0": {
      "model_module": "jupyter-leaflet",
      "model_module_version": "^0.12.1",
      "model_name": "LeafletZoomControlModel",
      "state": {
       "_model_module_version": "^0.12.1",
       "_view_module_version": "^0.12.1",
       "options": [
        "position",
        "zoom_in_text",
        "zoom_in_title",
        "zoom_out_text",
        "zoom_out_title"
       ]
      }
     },
     "6ad7431ea20a443c9c0240589f1c6555": {
      "model_module": "@jupyter-widgets/base",
      "model_module_version": "1.2.0",
      "model_name": "LayoutModel",
      "state": {}
     },
     "6ae66ad00f4f414ca02ec7bf9bf09698": {
      "model_module": "jupyter-leaflet",
      "model_module_version": "^0.17",
      "model_name": "LeafletAttributionControlModel",
      "state": {
       "_model_module_version": "^0.17",
       "_view_module_version": "^0.17",
       "options": [
        "position",
        "prefix"
       ],
       "position": "bottomright",
       "prefix": "ipyleaflet"
      }
     },
     "6b334b86f3344eee81feaffb51a1e3f5": {
      "model_module": "@jupyter-widgets/base",
      "model_module_version": "1.2.0",
      "model_name": "LayoutModel",
      "state": {}
     },
     "6b436f78a19f4ed4a2738ab2de00428b": {
      "model_module": "jupyter-leaflet",
      "model_module_version": "^0.17",
      "model_name": "LeafletMapStyleModel",
      "state": {
       "_model_module_version": "^0.17"
      }
     },
     "6b6c5adc3ca54c6bb837d38476917f48": {
      "model_module": "jupyter-leaflet",
      "model_module_version": "^0.17",
      "model_name": "LeafletMapStyleModel",
      "state": {
       "_model_module_version": "^0.17"
      }
     },
     "6b7c5f3851c046d998d21ec9a76fa748": {
      "model_module": "jupyter-leaflet",
      "model_module_version": "^0.12.6",
      "model_name": "LeafletLayersControlModel",
      "state": {
       "_model_module_version": "^0.12.6",
       "_view_module_version": "^0.12.6",
       "options": [
        "position"
       ]
      }
     },
     "6b8280ca0a50486282df4561cdb47178": {
      "model_module": "jupyter-leaflet",
      "model_module_version": "^0.17",
      "model_name": "LeafletMapStyleModel",
      "state": {
       "_model_module_version": "^0.17"
      }
     },
     "6bcc93df14d544b4894c65636f7301e3": {
      "model_module": "jupyter-leaflet",
      "model_module_version": "^0.11.2",
      "model_name": "LeafletMapStyleModel",
      "state": {
       "_model_module_version": "^0.11.2"
      }
     },
     "6bccee7680654b64afe898f61f9fa5b0": {
      "model_module": "jupyter-leaflet",
      "model_module_version": "^0.17",
      "model_name": "LeafletTileLayerModel",
      "state": {
       "_model_module_version": "^0.17",
       "_view_module_version": "^0.17",
       "attribution": "Map tiles by <a href=\"https://labs.strava.com/heatmap\">Strava 2021</a>",
       "base": true,
       "max_zoom": 15,
       "min_zoom": 1,
       "name": "Strava.All",
       "options": [
        "attribution",
        "bounds",
        "detect_retina",
        "max_native_zoom",
        "max_zoom",
        "min_native_zoom",
        "min_zoom",
        "no_wrap",
        "tile_size",
        "tms",
        "zoom_offset"
       ],
       "url": "https://heatmap-external-a.strava.com/tiles/all/hot/{z}/{x}/{y}.png"
      }
     },
     "6cae1342129c442aacdd8051d7fdce70": {
      "model_module": "jupyter-leaflet",
      "model_module_version": "^0.17",
      "model_name": "LeafletZoomControlModel",
      "state": {
       "_model_module_version": "^0.17",
       "_view_module_version": "^0.17",
       "options": [
        "position",
        "zoom_in_text",
        "zoom_in_title",
        "zoom_out_text",
        "zoom_out_title"
       ]
      }
     },
     "6ccbacb829974a4497dbf6ecd4b5a1bc": {
      "model_module": "jupyter-leaflet",
      "model_module_version": "^0.17",
      "model_name": "LeafletTileLayerModel",
      "state": {
       "_model_module_version": "^0.17",
       "_view_module_version": "^0.17",
       "attribution": "&copy; <a href=\"https://www.openstreetmap.org/copyright\">OpenStreetMap</a> contributors",
       "base": true,
       "max_zoom": 19,
       "min_zoom": 1,
       "name": "OpenStreetMap.Mapnik",
       "options": [
        "attribution",
        "bounds",
        "detect_retina",
        "max_native_zoom",
        "max_zoom",
        "min_native_zoom",
        "min_zoom",
        "no_wrap",
        "tile_size",
        "tms",
        "zoom_offset"
       ],
       "url": "https://tile.openstreetmap.org/{z}/{x}/{y}.png"
      }
     },
     "6cf67866a7e7458f8c91bf0598fbc210": {
      "model_module": "jupyter-leaflet",
      "model_module_version": "^0.17",
      "model_name": "LeafletAttributionControlModel",
      "state": {
       "_model_module_version": "^0.17",
       "_view_module_version": "^0.17",
       "options": [
        "position",
        "prefix"
       ],
       "position": "bottomright",
       "prefix": "ipyleaflet"
      }
     },
     "6d180393264540c195ea7997c10c9082": {
      "model_module": "jupyter-leaflet",
      "model_module_version": "^0.12.1",
      "model_name": "LeafletTileLayerModel",
      "state": {
       "_model_module_version": "^0.12.1",
       "_view_module_version": "^0.12.1",
       "base": true,
       "max_native_zoom": 18,
       "max_zoom": 19,
       "min_native_zoom": 0,
       "min_zoom": 1,
       "options": [
        "attribution",
        "detect_retina",
        "max_native_zoom",
        "max_zoom",
        "min_native_zoom",
        "min_zoom",
        "no_wrap",
        "tile_size",
        "tms"
       ]
      }
     },
     "6d396e38dc1742108434340ef9759ef9": {
      "model_module": "@jupyter-widgets/base",
      "model_module_version": "1.2.0",
      "model_name": "LayoutModel",
      "state": {}
     },
     "6d42b9d2e9944cdaae8d6cbb9fc0425b": {
      "model_module": "jupyter-leaflet",
      "model_module_version": "~0.9.2",
      "model_name": "LeafletTileLayerModel",
      "state": {
       "_model_module_version": "~0.9.2",
       "_view_module_version": "~0.9.2",
       "base": true,
       "max_zoom": 19,
       "min_zoom": 1,
       "options": [
        "attribution",
        "detect_retina",
        "max_zoom",
        "min_zoom",
        "tile_size"
       ]
      }
     },
     "6d4d596865844a7c9443ab53ec54b483": {
      "model_module": "jupyter-leaflet",
      "model_module_version": "^0.17",
      "model_name": "LeafletMapStyleModel",
      "state": {
       "_model_module_version": "^0.17"
      }
     },
     "6d69b73c35d940fabc61dc38000116d6": {
      "model_module": "jupyter-leaflet",
      "model_module_version": "^0.17",
      "model_name": "LeafletMapStyleModel",
      "state": {
       "_model_module_version": "^0.17"
      }
     },
     "6ded955efddc480d92e5bc2c3c395411": {
      "model_module": "@jupyter-widgets/controls",
      "model_module_version": "1.5.0",
      "model_name": "DescriptionStyleModel",
      "state": {
       "description_width": ""
      }
     },
     "6e12cf995e2b402fb3108180407cdf61": {
      "model_module": "@jupyter-widgets/base",
      "model_module_version": "1.2.0",
      "model_name": "LayoutModel",
      "state": {}
     },
     "6e30685494864a7499f8a6d57ec77c5b": {
      "model_module": "@jupyter-widgets/base",
      "model_module_version": "1.2.0",
      "model_name": "LayoutModel",
      "state": {}
     },
     "6e7c9d50d14b478e9bd07abf679dff06": {
      "model_module": "jupyter-leaflet",
      "model_module_version": "^0.17",
      "model_name": "LeafletWidgetControlModel",
      "state": {
       "_model_module": "jupyter-leaflet",
       "_model_module_version": "^0.17",
       "_view_count": null,
       "_view_module": "jupyter-leaflet",
       "_view_module_version": "^0.17",
       "options": [
        "position",
        "transparent_bg"
       ],
       "position": "topright",
       "widget": "IPY_MODEL_0c20ad02044744cca65f8cc5ec8ea563"
      }
     },
     "6e9f60370eeb4033868c05b0c51408e7": {
      "model_module": "jupyter-leaflet",
      "model_module_version": "^0.17",
      "model_name": "LeafletZoomControlModel",
      "state": {
       "_model_module_version": "^0.17",
       "_view_module_version": "^0.17",
       "options": [
        "position",
        "zoom_in_text",
        "zoom_in_title",
        "zoom_out_text",
        "zoom_out_title"
       ]
      }
     },
     "6fb8b06c1200464786ec3af93f307e48": {
      "model_module": "@jupyter-widgets/base",
      "model_module_version": "1.2.0",
      "model_name": "LayoutModel",
      "state": {}
     },
     "6fc9b1fc63004e2c9448c00b4eaf8341": {
      "model_module": "jupyter-leaflet",
      "model_module_version": "^0.17",
      "model_name": "LeafletTileLayerModel",
      "state": {
       "_model_module_version": "^0.17",
       "_view_module_version": "^0.17",
       "attribution": "&copy; <a href=\"https://www.openstreetmap.org/copyright\">OpenStreetMap</a> contributors",
       "base": true,
       "max_zoom": 19,
       "min_zoom": 1,
       "name": "OpenStreetMap.Mapnik",
       "options": [
        "attribution",
        "bounds",
        "detect_retina",
        "max_native_zoom",
        "max_zoom",
        "min_native_zoom",
        "min_zoom",
        "no_wrap",
        "tile_size",
        "tms",
        "zoom_offset"
       ],
       "url": "https://tile.openstreetmap.org/{z}/{x}/{y}.png"
      }
     },
     "6fd0b77f69884506a35c4cde1acd94ae": {
      "model_module": "@jupyter-widgets/base",
      "model_module_version": "1.2.0",
      "model_name": "LayoutModel",
      "state": {}
     },
     "6fd29f07c5474ea99fed3461265f9947": {
      "model_module": "@jupyter-widgets/base",
      "model_module_version": "1.2.0",
      "model_name": "LayoutModel",
      "state": {}
     },
     "6fd89602d1444e1d908c02b139af54c4": {
      "model_module": "jupyter-leaflet",
      "model_module_version": "^0.17",
      "model_name": "LeafletMapStyleModel",
      "state": {
       "_model_module_version": "^0.17"
      }
     },
     "6fe35dceaa7e4f9fb81bab4faf2e0905": {
      "model_module": "jupyter-leaflet",
      "model_module_version": "^0.17",
      "model_name": "LeafletMapStyleModel",
      "state": {
       "_model_module_version": "^0.17"
      }
     },
     "6fed534ec3074bdb9f94ee5b0f416248": {
      "model_module": "@jupyter-widgets/base",
      "model_module_version": "1.2.0",
      "model_name": "LayoutModel",
      "state": {}
     },
     "6ff6bbf4b8f9431e8804da9f2f537349": {
      "model_module": "jupyter-leaflet",
      "model_module_version": "^0.12.1",
      "model_name": "LeafletTileLayerModel",
      "state": {
       "_model_module_version": "^0.12.1",
       "_view_module_version": "^0.12.1",
       "attribution": "Map tiles by <a href=\"https://labs.strava.com/heatmap\">Strava 2017</a>",
       "max_native_zoom": 18,
       "max_zoom": 15,
       "min_native_zoom": 0,
       "min_zoom": 1,
       "name": "Strava.Water",
       "options": [
        "attribution",
        "detect_retina",
        "max_native_zoom",
        "max_zoom",
        "min_native_zoom",
        "min_zoom",
        "no_wrap",
        "tile_size",
        "tms"
       ],
       "url": "https://heatmap-external-a.strava.com//tiles/water/blue/{z}/{x}/{y}.png?v=19"
      }
     },
     "700833d0a40f46ed974c76579c8f3435": {
      "model_module": "jupyter-leaflet",
      "model_module_version": "^0.12.1",
      "model_name": "LeafletTileLayerModel",
      "state": {
       "_model_module_version": "^0.12.1",
       "_view_module_version": "^0.12.1",
       "attribution": "Tiles courtesy of <a href=\"http://openstreetmap.se/\" target=\"_blank\">OpenStreetMap Sweden</a> &mdash; Map data &copy; <a href=\"http://www.openstreetmap.org/copyright\">OpenStreetMap</a>",
       "base": true,
       "max_native_zoom": 18,
       "min_native_zoom": 0,
       "min_zoom": 1,
       "name": "Hydda.Full",
       "options": [
        "attribution",
        "detect_retina",
        "max_native_zoom",
        "max_zoom",
        "min_native_zoom",
        "min_zoom",
        "no_wrap",
        "tile_size",
        "tms"
       ],
       "url": "http://{s}.tile.openstreetmap.se/hydda/full/{z}/{x}/{y}.png"
      }
     },
     "701d5fd338734401a408c23cf5291753": {
      "model_module": "jupyter-leaflet",
      "model_module_version": "^0.17",
      "model_name": "LeafletAttributionControlModel",
      "state": {
       "_model_module_version": "^0.17",
       "_view_module_version": "^0.17",
       "options": [
        "position",
        "prefix"
       ],
       "position": "bottomright",
       "prefix": "ipyleaflet"
      }
     },
     "7050f8da861340f5b7b4f284f9dd289a": {
      "model_module": "@jupyter-widgets/controls",
      "model_module_version": "1.5.0",
      "model_name": "HBoxModel",
      "state": {
       "children": [
        "IPY_MODEL_ba02744d957e421a94f1b8ed332dca8b",
        "IPY_MODEL_9d237ade58a4477a9e294648e35868c2"
       ],
       "layout": "IPY_MODEL_1a1f1412f2294f55a0953e8abbe4c0e1"
      }
     },
     "705ec065545d41f284d15a18ea578d27": {
      "model_module": "jupyter-leaflet",
      "model_module_version": "^0.17",
      "model_name": "LeafletMapStyleModel",
      "state": {
       "_model_module_version": "^0.17"
      }
     },
     "706cff576e9b4472b35de3d949a80ff8": {
      "model_module": "jupyter-leaflet",
      "model_module_version": "^0.17",
      "model_name": "LeafletAttributionControlModel",
      "state": {
       "_model_module_version": "^0.17",
       "_view_module_version": "^0.17",
       "options": [
        "position",
        "prefix"
       ],
       "position": "bottomright",
       "prefix": "ipyleaflet"
      }
     },
     "70cefb23e7b24a4cac387080b5c0ea23": {
      "model_module": "jupyter-leaflet",
      "model_module_version": "^0.17",
      "model_name": "LeafletMapStyleModel",
      "state": {
       "_model_module_version": "^0.17"
      }
     },
     "711fabbd2afc4201badab2c4e02c9221": {
      "model_module": "jupyter-leaflet",
      "model_module_version": "^0.17",
      "model_name": "LeafletTileLayerModel",
      "state": {
       "_model_module_version": "^0.17",
       "_view_module_version": "^0.17",
       "attribution": "&copy; <a href=\"https://www.openstreetmap.org/copyright\">OpenStreetMap</a> contributors",
       "base": true,
       "max_zoom": 19,
       "min_zoom": 1,
       "name": "OpenStreetMap.Mapnik",
       "options": [
        "attribution",
        "bounds",
        "detect_retina",
        "max_native_zoom",
        "max_zoom",
        "min_native_zoom",
        "min_zoom",
        "no_wrap",
        "tile_size",
        "tms",
        "zoom_offset"
       ],
       "url": "https://tile.openstreetmap.org/{z}/{x}/{y}.png"
      }
     },
     "714f60c8c59a46958d2f572405dba91a": {
      "model_module": "@jupyter-widgets/base",
      "model_module_version": "1.2.0",
      "model_name": "LayoutModel",
      "state": {}
     },
     "7152416fb1e14e279754ffde7e9e5336": {
      "model_module": "@jupyter-widgets/base",
      "model_module_version": "1.2.0",
      "model_name": "LayoutModel",
      "state": {}
     },
     "71b6a5f2b1ce4b3686d2a8d916f6fed1": {
      "model_module": "@jupyter-widgets/base",
      "model_module_version": "1.2.0",
      "model_name": "LayoutModel",
      "state": {}
     },
     "71bcbd2b4f8a4679a911702f947efa1e": {
      "model_module": "@jupyter-widgets/controls",
      "model_module_version": "1.5.0",
      "model_name": "DescriptionStyleModel",
      "state": {
       "description_width": ""
      }
     },
     "72417ef047984da59998d6d42c51fc8c": {
      "model_module": "jupyter-leaflet",
      "model_module_version": "^0.12.1",
      "model_name": "LeafletMapStyleModel",
      "state": {
       "_model_module_version": "^0.12.1"
      }
     },
     "724c1bb8de3b452d8aa3a882919700ac": {
      "model_module": "jupyter-leaflet",
      "model_module_version": "^0.17",
      "model_name": "LeafletAttributionControlModel",
      "state": {
       "_model_module_version": "^0.17",
       "_view_module_version": "^0.17",
       "options": [
        "position",
        "prefix"
       ],
       "position": "bottomright",
       "prefix": "ipyleaflet"
      }
     },
     "72737912a8044d3b991d83420693972d": {
      "model_module": "@jupyter-widgets/base",
      "model_module_version": "1.2.0",
      "model_name": "LayoutModel",
      "state": {}
     },
     "7296082494c144ebb6d7b697870917c2": {
      "model_module": "jupyter-leaflet",
      "model_module_version": "^0.17",
      "model_name": "LeafletTileLayerModel",
      "state": {
       "_model_module_version": "^0.17",
       "_view_module_version": "^0.17",
       "attribution": "&copy; <a href=\"https://www.openstreetmap.org/copyright\">OpenStreetMap</a> contributors",
       "base": true,
       "max_zoom": 19,
       "min_zoom": 1,
       "name": "OpenStreetMap.Mapnik",
       "options": [
        "attribution",
        "bounds",
        "detect_retina",
        "max_native_zoom",
        "max_zoom",
        "min_native_zoom",
        "min_zoom",
        "no_wrap",
        "tile_size",
        "tms",
        "zoom_offset"
       ],
       "url": "https://tile.openstreetmap.org/{z}/{x}/{y}.png"
      }
     },
     "72a7978d61eb4d3489ad8df833c4857b": {
      "model_module": "jupyter-leaflet",
      "model_module_version": "^0.17",
      "model_name": "LeafletZoomControlModel",
      "state": {
       "_model_module_version": "^0.17",
       "_view_module_version": "^0.17",
       "options": [
        "position",
        "zoom_in_text",
        "zoom_in_title",
        "zoom_out_text",
        "zoom_out_title"
       ]
      }
     },
     "72bc3c89ba094c03ac7f49499e97809b": {
      "model_module": "@jupyter-widgets/controls",
      "model_module_version": "1.5.0",
      "model_name": "IntSliderModel",
      "state": {
       "description": "Zoom level:",
       "layout": "IPY_MODEL_09e2f126b9f84f05b447446db24feb6d",
       "max": 19,
       "style": "IPY_MODEL_356d76ffc919474cb1212ba5fcc2ddea",
       "value": 19
      }
     },
     "72d984681d3b45038d58f6c79f7cd21d": {
      "model_module": "@jupyter-widgets/base",
      "model_module_version": "1.2.0",
      "model_name": "LayoutModel",
      "state": {}
     },
     "72f257a0c71543f383fb5f7f3b805ac9": {
      "model_module": "jupyter-leaflet",
      "model_module_version": "^0.17",
      "model_name": "LeafletTileLayerModel",
      "state": {
       "_model_module_version": "^0.17",
       "_view_module_version": "^0.17",
       "attribution": "Map tiles by <a href=\"https://labs.strava.com/heatmap\">Strava 2021</a>",
       "base": true,
       "max_zoom": 15,
       "min_zoom": 1,
       "name": "Strava.All",
       "options": [
        "attribution",
        "bounds",
        "detect_retina",
        "max_native_zoom",
        "max_zoom",
        "min_native_zoom",
        "min_zoom",
        "no_wrap",
        "tile_size",
        "tms",
        "zoom_offset"
       ],
       "url": "https://heatmap-external-a.strava.com/tiles/all/hot/{z}/{x}/{y}.png"
      }
     },
     "72fa4a93850e44139ab522d27571770f": {
      "model_module": "@jupyter-widgets/controls",
      "model_module_version": "1.5.0",
      "model_name": "DescriptionStyleModel",
      "state": {
       "description_width": ""
      }
     },
     "7315cddeaa884c9a81966f4c4679710b": {
      "model_module": "@jupyter-widgets/base",
      "model_module_version": "1.2.0",
      "model_name": "LayoutModel",
      "state": {}
     },
     "73b3e5d49c4d4ae98b19b8719560b3f9": {
      "model_module": "@jupyter-widgets/controls",
      "model_module_version": "1.5.0",
      "model_name": "SliderStyleModel",
      "state": {
       "description_width": ""
      }
     },
     "73ed99dddc414dfa8d32b45fa947c042": {
      "model_module": "jupyter-leaflet",
      "model_module_version": "^0.17",
      "model_name": "LeafletMapStyleModel",
      "state": {
       "_model_module_version": "^0.17",
       "cursor": "move"
      }
     },
     "7434968d995543dda832922f69d89ee3": {
      "model_module": "jupyter-leaflet",
      "model_module_version": "^0.17",
      "model_name": "LeafletZoomControlModel",
      "state": {
       "_model_module_version": "^0.17",
       "_view_module_version": "^0.17",
       "options": [
        "position",
        "zoom_in_text",
        "zoom_in_title",
        "zoom_out_text",
        "zoom_out_title"
       ]
      }
     },
     "7447228212634c1ca84112571ad4ca5c": {
      "model_module": "jupyter-leaflet",
      "model_module_version": "^0.12.1",
      "model_name": "LeafletLayersControlModel",
      "state": {
       "_model_module_version": "^0.12.1",
       "_view_module_version": "^0.12.1",
       "options": [
        "position"
       ]
      }
     },
     "746a9db55a344dc3bc737f834563a191": {
      "model_module": "@jupyter-widgets/controls",
      "model_module_version": "1.5.0",
      "model_name": "HBoxModel",
      "state": {
       "children": [
        "IPY_MODEL_2a0f6d89c0844b93a69ef9742d7acb6b",
        "IPY_MODEL_e7c691cb5b21468a8fb8ac5de527bc56"
       ],
       "layout": "IPY_MODEL_0035a0472f10488d8aead5695546a77f"
      }
     },
     "746f5d2323f34643842f2a804e6c660f": {
      "model_module": "jupyter-leaflet",
      "model_module_version": "^0.12.1",
      "model_name": "LeafletTileLayerModel",
      "state": {
       "_model_module_version": "^0.12.1",
       "_view_module_version": "^0.12.1",
       "base": true,
       "max_native_zoom": 18,
       "max_zoom": 19,
       "min_native_zoom": 0,
       "min_zoom": 1,
       "options": [
        "attribution",
        "detect_retina",
        "max_native_zoom",
        "max_zoom",
        "min_native_zoom",
        "min_zoom",
        "no_wrap",
        "tile_size",
        "tms"
       ]
      }
     },
     "749f6ede590d4d9690a42696a6eec181": {
      "model_module": "@jupyter-widgets/controls",
      "model_module_version": "1.5.0",
      "model_name": "LinkModel",
      "state": {
       "source": [
        "IPY_MODEL_bc1c14399f8d430c8043e8bc194e6c30",
        "value"
       ],
       "target": [
        "IPY_MODEL_a455a03f5b8146158ac771e34071e5d3",
        "zoom"
       ]
      }
     },
     "74a2bca0963f46e39679947486733e33": {
      "model_module": "jupyter-leaflet",
      "model_module_version": "^0.17",
      "model_name": "LeafletAttributionControlModel",
      "state": {
       "_model_module_version": "^0.17",
       "_view_module_version": "^0.17",
       "options": [
        "position",
        "prefix"
       ],
       "position": "bottomright",
       "prefix": "ipyleaflet"
      }
     },
     "74b5c9c1d60f4ac8a32292173d98b480": {
      "model_module": "jupyter-leaflet",
      "model_module_version": "^0.12.1",
      "model_name": "LeafletMapStyleModel",
      "state": {
       "_model_module_version": "^0.12.1"
      }
     },
     "74e20f9dd55445ba807620e6084bfdf7": {
      "model_module": "jupyter-leaflet",
      "model_module_version": "^0.12.1",
      "model_name": "LeafletZoomControlModel",
      "state": {
       "_model_module_version": "^0.12.1",
       "_view_module_version": "^0.12.1",
       "options": [
        "position",
        "zoom_in_text",
        "zoom_in_title",
        "zoom_out_text",
        "zoom_out_title"
       ]
      }
     },
     "74f19e34737e4a1389be0719e70c6464": {
      "model_module": "@jupyter-widgets/base",
      "model_module_version": "1.2.0",
      "model_name": "LayoutModel",
      "state": {}
     },
     "752a8535e13843cfb7bfb063a9040692": {
      "model_module": "@jupyter-widgets/controls",
      "model_module_version": "1.5.0",
      "model_name": "IntSliderModel",
      "state": {
       "description": "Zoom level:",
       "layout": "IPY_MODEL_0ff7528a82db498aabd887149776b6e5",
       "max": 15,
       "style": "IPY_MODEL_6a8ab40c19874f69a7943b9dfd54116e",
       "value": 4
      }
     },
     "755357db9f1a4fe0ba31b5a5b8162f8a": {
      "model_module": "@jupyter-widgets/base",
      "model_module_version": "1.2.0",
      "model_name": "LayoutModel",
      "state": {}
     },
     "759cc5ebe4a246f4a1f45479c34f3a54": {
      "model_module": "jupyter-leaflet",
      "model_module_version": "^0.17",
      "model_name": "LeafletTileLayerModel",
      "state": {
       "_model_module_version": "^0.17",
       "_view_module_version": "^0.17",
       "attribution": "&copy; <a href=\"https://www.openstreetmap.org/copyright\">OpenStreetMap</a> contributors",
       "base": true,
       "max_zoom": 19,
       "min_zoom": 1,
       "name": "OpenStreetMap.Mapnik",
       "options": [
        "attribution",
        "bounds",
        "detect_retina",
        "max_native_zoom",
        "max_zoom",
        "min_native_zoom",
        "min_zoom",
        "no_wrap",
        "tile_size",
        "tms",
        "zoom_offset"
       ],
       "url": "https://tile.openstreetmap.org/{z}/{x}/{y}.png"
      }
     },
     "75ab9ed65e954613bc17a549003ae0ac": {
      "model_module": "jupyter-leaflet",
      "model_module_version": "^0.17",
      "model_name": "LeafletZoomControlModel",
      "state": {
       "_model_module_version": "^0.17",
       "_view_module_version": "^0.17",
       "options": [
        "position",
        "zoom_in_text",
        "zoom_in_title",
        "zoom_out_text",
        "zoom_out_title"
       ]
      }
     },
     "75ef6d8a578e4828b7ffb0372d122ce5": {
      "model_module": "jupyter-leaflet",
      "model_module_version": "^0.17",
      "model_name": "LeafletMapStyleModel",
      "state": {
       "_model_module_version": "^0.17"
      }
     },
     "7659a3a0ab6f40739205a6025d928bd5": {
      "model_module": "jupyter-leaflet",
      "model_module_version": "~0.9.2",
      "model_name": "LeafletTileLayerModel",
      "state": {
       "_model_module_version": "~0.9.2",
       "_view_module_version": "~0.9.2",
       "base": true,
       "max_zoom": 19,
       "min_zoom": 1,
       "options": [
        "attribution",
        "detect_retina",
        "max_zoom",
        "min_zoom",
        "tile_size"
       ]
      }
     },
     "765b037a747749b08a182bd90f29c5a9": {
      "model_module": "@jupyter-widgets/controls",
      "model_module_version": "1.5.0",
      "model_name": "SelectionSliderModel",
      "state": {
       "_options_labels": [
        "13:00",
        "13:30",
        "14:00",
        "14:30",
        "15:00",
        "15:30",
        "16:00",
        "16:30"
       ],
       "description": "Time:",
       "index": 0,
       "layout": "IPY_MODEL_f101c0baab58445094f89cfac071ea4c",
       "style": "IPY_MODEL_62ea2fa565d64483b90002a060542694"
      }
     },
     "7663b365db6f4636907ff0ef0a38513f": {
      "model_module": "@jupyter-widgets/base",
      "model_module_version": "1.2.0",
      "model_name": "LayoutModel",
      "state": {}
     },
     "76993913601248ef8d64f4bcd5e4b472": {
      "model_module": "jupyter-leaflet",
      "model_module_version": "^0.17",
      "model_name": "LeafletMapModel",
      "state": {
       "_model_module_version": "^0.17",
       "_view_module_version": "^0.17",
       "bottom": 5574,
       "center": [
        52.5162,
        13.3777
       ],
       "controls": [
        "IPY_MODEL_b462775d415d45d8b7bb8352ad89ffec",
        "IPY_MODEL_c39325ab8934495f93afddd6a8a30134"
       ],
       "default_style": "IPY_MODEL_b245e7d41fcc49299f63dda3ac543a61",
       "dragging_style": "IPY_MODEL_3b080decabf9485883bb0d0b8a1e225e",
       "east": 24.01611328125,
       "fullscreen": false,
       "interpolation": "bilinear",
       "layers": [
        "IPY_MODEL_c3c07df436dc4be5938b099d0f69fd11"
       ],
       "layout": "IPY_MODEL_80c7360887de44db8c8a6c54b96c3b58",
       "left": 8316,
       "modisdate": "2023-07-11",
       "north": 55.10351605801967,
       "options": [
        "bounce_at_zoom_limits",
        "box_zoom",
        "center",
        "close_popup_on_click",
        "double_click_zoom",
        "dragging",
        "fullscreen",
        "inertia",
        "inertia_deceleration",
        "inertia_max_speed",
        "interpolation",
        "keyboard",
        "keyboard_pan_offset",
        "keyboard_zoom_offset",
        "max_zoom",
        "min_zoom",
        "prefer_canvas",
        "scroll_wheel_zoom",
        "tap",
        "tap_tolerance",
        "touch_zoom",
        "world_copy_jump",
        "zoom",
        "zoom_animation_threshold",
        "zoom_delta",
        "zoom_snap"
       ],
       "prefer_canvas": false,
       "right": 9285,
       "south": 49.75287993415023,
       "style": "IPY_MODEL_6d4d596865844a7c9443ab53ec54b483",
       "top": 5174,
       "west": 2.7246093750000004,
       "window_url": "http://localhost:8888/notebooks/js/ipyleaflet.ipynb#",
       "zoom": 6
      }
     },
     "7705cf4e4a7f4888924cba916b378556": {
      "model_module": "jupyter-leaflet",
      "model_module_version": "^0.17",
      "model_name": "LeafletMapStyleModel",
      "state": {
       "_model_module_version": "^0.17"
      }
     },
     "7723bbdf50354e77a6aadc1a9524d4eb": {
      "model_module": "@jupyter-widgets/base",
      "model_module_version": "1.2.0",
      "model_name": "LayoutModel",
      "state": {}
     },
     "77aa2343e13a4c40b1eabfea84b01a96": {
      "model_module": "@jupyter-widgets/base",
      "model_module_version": "1.2.0",
      "model_name": "LayoutModel",
      "state": {}
     },
     "77efdcc7e3014641a2e81fbda78a188a": {
      "model_module": "jupyter-leaflet",
      "model_module_version": "^0.17",
      "model_name": "LeafletMapModel",
      "state": {
       "_model_module_version": "^0.17",
       "_view_module_version": "^0.17",
       "bottom": 3562,
       "center": [
        30.661,
        -88.645
       ],
       "controls": [
        "IPY_MODEL_9c30686ac30a41cea3bdc9601420505f",
        "IPY_MODEL_f309c67d2a5440e3ac04af880509bdcf"
       ],
       "default_style": "IPY_MODEL_843562e0ce824d39b21ff42e258d885c",
       "dragging_style": "IPY_MODEL_85ef69691f0b46ada82d894155bddf00",
       "east": -67.36816406250001,
       "fullscreen": false,
       "interpolation": "bilinear",
       "layers": [
        "IPY_MODEL_b8a1e350ee79442cb5b804d704e1d49c",
        "IPY_MODEL_e678b59fa7834265a9afbc9ee3b318f4"
       ],
       "layout": "IPY_MODEL_8efafad3513e491fad23afdcfbe4384c",
       "left": 1594,
       "modisdate": "2023-07-11",
       "north": 37.92686760148135,
       "options": [
        "bounce_at_zoom_limits",
        "box_zoom",
        "center",
        "close_popup_on_click",
        "double_click_zoom",
        "dragging",
        "fullscreen",
        "inertia",
        "inertia_deceleration",
        "inertia_max_speed",
        "interpolation",
        "keyboard",
        "keyboard_pan_offset",
        "keyboard_zoom_offset",
        "max_zoom",
        "min_zoom",
        "prefer_canvas",
        "scroll_wheel_zoom",
        "tap",
        "tap_tolerance",
        "touch_zoom",
        "world_copy_jump",
        "zoom",
        "zoom_animation_threshold",
        "zoom_delta",
        "zoom_snap"
       ],
       "prefer_canvas": false,
       "right": 2563,
       "south": 22.836945920943855,
       "style": "IPY_MODEL_d001609595cd454abd7215c29f41502e",
       "top": 3162,
       "west": -109.95117187500001,
       "window_url": "http://localhost:8888/notebooks/js/ipyleaflet.ipynb#",
       "zoom": 5
      }
     },
     "781a7bba732d4aa08ea05297e78824c8": {
      "model_module": "@jupyter-widgets/base",
      "model_module_version": "1.2.0",
      "model_name": "LayoutModel",
      "state": {}
     },
     "782d6d63ce3d41779e33354d461b733a": {
      "model_module": "jupyter-leaflet",
      "model_module_version": "^0.17",
      "model_name": "LeafletWidgetControlModel",
      "state": {
       "_model_module": "jupyter-leaflet",
       "_model_module_version": "^0.17",
       "_view_count": null,
       "_view_module": "jupyter-leaflet",
       "_view_module_version": "^0.17",
       "options": [
        "position",
        "transparent_bg"
       ],
       "position": "topright",
       "widget": "IPY_MODEL_c5760c12f721426ca03a320fad859dd5"
      }
     },
     "785859749c114e7f8b3eb1439092ef57": {
      "model_module": "jupyter-leaflet",
      "model_module_version": "^0.17",
      "model_name": "LeafletMapStyleModel",
      "state": {
       "_model_module_version": "^0.17"
      }
     },
     "786144d18b614041918b3640127372e9": {
      "model_module": "@jupyter-widgets/base",
      "model_module_version": "1.2.0",
      "model_name": "LayoutModel",
      "state": {}
     },
     "7861dcfe04934e98b70870b36cb48414": {
      "model_module": "@jupyter-widgets/base",
      "model_module_version": "1.2.0",
      "model_name": "LayoutModel",
      "state": {}
     },
     "788608422c4f4137ae626ff060368632": {
      "model_module": "jupyter-leaflet",
      "model_module_version": "^0.12.1",
      "model_name": "LeafletAttributionControlModel",
      "state": {
       "_model_module_version": "^0.12.1",
       "_view_module_version": "^0.12.1",
       "options": [
        "position",
        "prefix"
       ],
       "position": "bottomright",
       "prefix": "Leaflet"
      }
     },
     "78e075e596a54a13ab41842785a52548": {
      "model_module": "jupyter-leaflet",
      "model_module_version": "^0.17",
      "model_name": "LeafletZoomControlModel",
      "state": {
       "_model_module_version": "^0.17",
       "_view_module_version": "^0.17",
       "options": [
        "position",
        "zoom_in_text",
        "zoom_in_title",
        "zoom_out_text",
        "zoom_out_title"
       ]
      }
     },
     "790ff2d2b61646789df0563fd597093b": {
      "model_module": "jupyter-leaflet",
      "model_module_version": "~0.9.2",
      "model_name": "LeafletTileLayerModel",
      "state": {
       "_model_module_version": "~0.9.2",
       "_view_module_version": "~0.9.2",
       "attribution": "Map tiles by <a href=\"https://labs.strava.com/heatmap\">Strava 2017</a>",
       "max_zoom": 15,
       "min_zoom": 1,
       "name": "Strava.All",
       "options": [
        "attribution",
        "detect_retina",
        "max_zoom",
        "min_zoom",
        "tile_size"
       ],
       "url": "https://heatmap-external-a.strava.com//tiles/all/hot/{z}/{x}/{y}.png?v=19"
      }
     },
     "79ed7541ba0249af96711409003b6373": {
      "model_module": "jupyter-leaflet",
      "model_module_version": "^0.17",
      "model_name": "LeafletMapModel",
      "state": {
       "_model_module_version": "^0.17",
       "_view_module_version": "^0.17",
       "bottom": 5574,
       "center": [
        52.5162,
        13.3777
       ],
       "controls": [
        "IPY_MODEL_bc2aa166cd064249bbc57e9c25c29ac9",
        "IPY_MODEL_f393f01504b44ec5903485e09cac8b1c"
       ],
       "default_style": "IPY_MODEL_f124bbc1c7744153ae59ef2ccfde8814",
       "dragging_style": "IPY_MODEL_2c3668f5bf4f4bbda563545cfa175dd7",
       "east": 24.01611328125,
       "fullscreen": false,
       "interpolation": "bilinear",
       "layers": [
        "IPY_MODEL_e0c247e8baa1449aac4652ee63920270"
       ],
       "layout": "IPY_MODEL_9bb338c422254bb7bca17353fdaf8d63",
       "left": 8316,
       "modisdate": "2023-07-11",
       "north": 55.10351605801967,
       "options": [
        "bounce_at_zoom_limits",
        "box_zoom",
        "center",
        "close_popup_on_click",
        "double_click_zoom",
        "dragging",
        "fullscreen",
        "inertia",
        "inertia_deceleration",
        "inertia_max_speed",
        "interpolation",
        "keyboard",
        "keyboard_pan_offset",
        "keyboard_zoom_offset",
        "max_zoom",
        "min_zoom",
        "prefer_canvas",
        "scroll_wheel_zoom",
        "tap",
        "tap_tolerance",
        "touch_zoom",
        "world_copy_jump",
        "zoom",
        "zoom_animation_threshold",
        "zoom_delta",
        "zoom_snap"
       ],
       "prefer_canvas": false,
       "right": 9285,
       "south": 49.75287993415023,
       "style": "IPY_MODEL_85ff7c7a40c24515b83a21b9cc2ef939",
       "top": 5174,
       "west": 2.7246093750000004,
       "window_url": "http://localhost:8888/notebooks/js/ipyleaflet.ipynb#",
       "zoom": 6
      }
     },
     "79f075cd9950452ab307269c5cce37b5": {
      "model_module": "jupyter-leaflet",
      "model_module_version": "^0.17",
      "model_name": "LeafletTileLayerModel",
      "state": {
       "_model_module_version": "^0.17",
       "_view_module_version": "^0.17",
       "attribution": "&copy; <a href=\"https://www.openstreetmap.org/copyright\">OpenStreetMap</a> contributors &copy; <a href=\"https://carto.com/attributions\">CARTO</a>",
       "base": true,
       "max_zoom": 20,
       "min_zoom": 1,
       "name": "CartoDB.Positron",
       "options": [
        "attribution",
        "bounds",
        "detect_retina",
        "max_native_zoom",
        "max_zoom",
        "min_native_zoom",
        "min_zoom",
        "no_wrap",
        "tile_size",
        "tms",
        "zoom_offset"
       ],
       "url": "https://a.basemaps.cartocdn.com/light_all/{z}/{x}/{y}.png"
      }
     },
     "7a2cb844ebc64b049a920a496f665a41": {
      "model_module": "jupyter-leaflet",
      "model_module_version": "^0.17",
      "model_name": "LeafletWidgetControlModel",
      "state": {
       "_model_module": "jupyter-leaflet",
       "_model_module_version": "^0.17",
       "_view_count": null,
       "_view_module": "jupyter-leaflet",
       "_view_module_version": "^0.17",
       "options": [
        "position",
        "transparent_bg"
       ],
       "position": "topright",
       "widget": "IPY_MODEL_e274211be9d8489e9ecb9012985e8076"
      }
     },
     "7a565dcd52a94a538dd51e725a0466da": {
      "model_module": "jupyter-leaflet",
      "model_module_version": "^0.17",
      "model_name": "LeafletAttributionControlModel",
      "state": {
       "_model_module_version": "^0.17",
       "_view_module_version": "^0.17",
       "options": [
        "position",
        "prefix"
       ],
       "position": "bottomright",
       "prefix": "ipyleaflet"
      }
     },
     "7a7b36ff81fd4f7a85c0e934113caf39": {
      "model_module": "jupyter-leaflet",
      "model_module_version": "^0.12.1",
      "model_name": "LeafletMapStyleModel",
      "state": {
       "_model_module_version": "^0.12.1"
      }
     },
     "7aaae9b612ca421a861020bd639a23c0": {
      "model_module": "@jupyter-widgets/base",
      "model_module_version": "1.2.0",
      "model_name": "LayoutModel",
      "state": {}
     },
     "7ab24d5e47e147ce9cae41d5f4e97d11": {
      "model_module": "@jupyter-widgets/base",
      "model_module_version": "1.2.0",
      "model_name": "LayoutModel",
      "state": {}
     },
     "7acb65a5c440458eb28579ab2b09c9f6": {
      "model_module": "jupyter-leaflet",
      "model_module_version": "^0.12.1",
      "model_name": "LeafletMapStyleModel",
      "state": {
       "_model_module_version": "^0.12.1",
       "cursor": "move"
      }
     },
     "7b0fda2db2934b28a7adb016a4b32fe7": {
      "model_module": "@jupyter-widgets/base",
      "model_module_version": "1.2.0",
      "model_name": "LayoutModel",
      "state": {}
     },
     "7b10cdfb0eea41559084a64a3afd0e82": {
      "model_module": "jupyter-leaflet",
      "model_module_version": "^0.12.1",
      "model_name": "LeafletZoomControlModel",
      "state": {
       "_model_module_version": "^0.12.1",
       "_view_module_version": "^0.12.1",
       "options": [
        "position",
        "zoom_in_text",
        "zoom_in_title",
        "zoom_out_text",
        "zoom_out_title"
       ]
      }
     },
     "7b4ec7b4bb2243f3b14cd7113c48df66": {
      "model_module": "@jupyter-widgets/controls",
      "model_module_version": "1.5.0",
      "model_name": "LabelModel",
      "state": {
       "layout": "IPY_MODEL_60c62504f65147ffa66aefd9f2bc0e39",
       "style": "IPY_MODEL_927627761a1b40018ad07a5863e160ff",
       "value": "[48.71718271505055, 7.959227151162343]"
      }
     },
     "7b5a808c40644c5da53368ecfcedfe26": {
      "model_module": "@jupyter-widgets/controls",
      "model_module_version": "1.5.0",
      "model_name": "HBoxModel",
      "state": {
       "children": [
        "IPY_MODEL_c0f98fb4b06b4f0ca02984f8a84890de",
        "IPY_MODEL_87cb8cd0a8224fe6a59285fdbfefe3a5"
       ],
       "layout": "IPY_MODEL_dc3f4cfc468b45c69a13f73a05e9f93f"
      }
     },
     "7b5aca1085ad42b4b33b2c195e9c961b": {
      "model_module": "jupyter-leaflet",
      "model_module_version": "^0.17",
      "model_name": "LeafletMapModel",
      "state": {
       "_model_module_version": "^0.17",
       "_view_module_version": "^0.17",
       "bottom": 43188,
       "center": [
        52.5162,
        13.3777
       ],
       "controls": [
        "IPY_MODEL_65a02bd896c54997970b2ad152a5ab47",
        "IPY_MODEL_370e87e672354cb1913a007b834c2243",
        "IPY_MODEL_5605f451550d45ada73504789d1c4c1d",
        "IPY_MODEL_58a9411e43b741c5a51d3cdb6095d3c5"
       ],
       "default_style": "IPY_MODEL_5bc5ce8bc016412090940afeed221984",
       "dragging_style": "IPY_MODEL_5ea10d2acf194e3f94a813e3d26438f6",
       "east": 14.707946777343752,
       "fullscreen": false,
       "interpolation": "bilinear",
       "layers": [
        "IPY_MODEL_ba5c1058a1f44602aef06ab915214e36"
       ],
       "layout": "IPY_MODEL_6b334b86f3344eee81feaffb51a1e3f5",
       "left": 69922,
       "modisdate": "2023-07-11",
       "north": 52.8492298820527,
       "options": [
        "bounce_at_zoom_limits",
        "box_zoom",
        "center",
        "close_popup_on_click",
        "double_click_zoom",
        "dragging",
        "fullscreen",
        "inertia",
        "inertia_deceleration",
        "inertia_max_speed",
        "interpolation",
        "keyboard",
        "keyboard_pan_offset",
        "keyboard_zoom_offset",
        "max_zoom",
        "min_zoom",
        "prefer_canvas",
        "scroll_wheel_zoom",
        "tap",
        "tap_tolerance",
        "touch_zoom",
        "world_copy_jump",
        "zoom",
        "zoom_animation_threshold",
        "zoom_delta",
        "zoom_snap"
       ],
       "prefer_canvas": false,
       "right": 70891,
       "south": 52.18066872927717,
       "style": "IPY_MODEL_5bc5ce8bc016412090940afeed221984",
       "top": 42788,
       "west": 12.046508789062502,
       "window_url": "http://localhost:8888/notebooks/js/ipyleaflet.ipynb#",
       "zoom": 9
      }
     },
     "7b5de46fbf03452b947964102c0682b9": {
      "model_module": "jupyter-leaflet",
      "model_module_version": "^0.17",
      "model_name": "LeafletZoomControlModel",
      "state": {
       "_model_module_version": "^0.17",
       "_view_module_version": "^0.17",
       "options": [
        "position",
        "zoom_in_text",
        "zoom_in_title",
        "zoom_out_text",
        "zoom_out_title"
       ]
      }
     },
     "7b90d74434ed4909b98a3cc1e4d59310": {
      "model_module": "jupyter-leaflet",
      "model_module_version": "^0.17",
      "model_name": "LeafletMapStyleModel",
      "state": {
       "_model_module_version": "^0.17"
      }
     },
     "7bb5a0d2f2124ff79f7ae55bc293ca7a": {
      "model_module": "jupyter-leaflet",
      "model_module_version": "^0.17",
      "model_name": "LeafletMapModel",
      "state": {
       "_model_module_version": "^0.17",
       "_view_module_version": "^0.17",
       "bottom": 5574,
       "center": [
        52.5162,
        13.3777
       ],
       "controls": [
        "IPY_MODEL_f4a8f10457a5406eb8adc558f4459414",
        "IPY_MODEL_5eec74c3e7db4530893395b26fea4369"
       ],
       "default_style": "IPY_MODEL_70cefb23e7b24a4cac387080b5c0ea23",
       "dragging_style": "IPY_MODEL_e7a74b019c6c4ebf8b2d6878dc675a26",
       "east": 24.01611328125,
       "fullscreen": false,
       "interpolation": "bilinear",
       "layers": [
        "IPY_MODEL_cf9d71859e3e42fdb449f118cccd724a"
       ],
       "layout": "IPY_MODEL_60cd189bc6814691b478f5dcfdf8b48b",
       "left": 8316,
       "modisdate": "2023-07-11",
       "north": 55.10351605801967,
       "options": [
        "bounce_at_zoom_limits",
        "box_zoom",
        "center",
        "close_popup_on_click",
        "double_click_zoom",
        "dragging",
        "fullscreen",
        "inertia",
        "inertia_deceleration",
        "inertia_max_speed",
        "interpolation",
        "keyboard",
        "keyboard_pan_offset",
        "keyboard_zoom_offset",
        "max_zoom",
        "min_zoom",
        "prefer_canvas",
        "scroll_wheel_zoom",
        "tap",
        "tap_tolerance",
        "touch_zoom",
        "world_copy_jump",
        "zoom",
        "zoom_animation_threshold",
        "zoom_delta",
        "zoom_snap"
       ],
       "prefer_canvas": false,
       "right": 9285,
       "south": 49.75287993415023,
       "style": "IPY_MODEL_d07a5abb24364cc88190c77e91f2fd97",
       "top": 5174,
       "west": 2.7246093750000004,
       "window_url": "http://localhost:8888/notebooks/js/ipyleaflet.ipynb#",
       "zoom": 6
      }
     },
     "7bc44c108faa449283fa300e2446cc6e": {
      "model_module": "jupyter-leaflet",
      "model_module_version": "^0.12.1",
      "model_name": "LeafletZoomControlModel",
      "state": {
       "_model_module_version": "^0.12.1",
       "_view_module_version": "^0.12.1",
       "options": [
        "position",
        "zoom_in_text",
        "zoom_in_title",
        "zoom_out_text",
        "zoom_out_title"
       ]
      }
     },
     "7bd780fc6fcf4d5892269a57350a9f22": {
      "model_module": "jupyter-leaflet",
      "model_module_version": "^0.12.1",
      "model_name": "LeafletMapStyleModel",
      "state": {
       "_model_module_version": "^0.12.1"
      }
     },
     "7bde861d3e8c4f93a47d9f0840debe1c": {
      "model_module": "jupyter-leaflet",
      "model_module_version": "^0.12.1",
      "model_name": "LeafletTileLayerModel",
      "state": {
       "_model_module_version": "^0.12.1",
       "_view_module_version": "^0.12.1",
       "base": true,
       "max_native_zoom": 18,
       "max_zoom": 19,
       "min_native_zoom": 0,
       "min_zoom": 1,
       "options": [
        "attribution",
        "detect_retina",
        "max_native_zoom",
        "max_zoom",
        "min_native_zoom",
        "min_zoom",
        "no_wrap",
        "tile_size",
        "tms"
       ]
      }
     },
     "7becfa6e819b413ca333be44dc21b8c4": {
      "model_module": "jupyter-leaflet",
      "model_module_version": "^0.12.1",
      "model_name": "LeafletAttributionControlModel",
      "state": {
       "_model_module_version": "^0.12.1",
       "_view_module_version": "^0.12.1",
       "options": [
        "position",
        "prefix"
       ],
       "position": "bottomright",
       "prefix": "Leaflet"
      }
     },
     "7bfa1c73e68b48b294e7d39afda00df8": {
      "model_module": "jupyter-leaflet",
      "model_module_version": "^0.17",
      "model_name": "LeafletMapModel",
      "state": {
       "_model_module_version": "^0.17",
       "_view_module_version": "^0.17",
       "bottom": 3237,
       "center": [
        42.128,
        2.588
       ],
       "controls": [
        "IPY_MODEL_01f945bb6d174c139b71c863b96c06dc",
        "IPY_MODEL_891d92329b944823864b378f86336586"
       ],
       "default_style": "IPY_MODEL_2bfa797007174187b7c416c364d5cd23",
       "dragging_style": "IPY_MODEL_f376793edc9a4ea4b5388eece13ba995",
       "east": 23.8623046875,
       "fullscreen": false,
       "interpolation": "bilinear",
       "layers": [
        "IPY_MODEL_90186a2efda14fee8fceca832d48a498"
       ],
       "layout": "IPY_MODEL_b92dbb1b3f9b47609bc00d4ce5c2af9f",
       "left": 3670,
       "modisdate": "2023-07-11",
       "north": 48.31242790407178,
       "options": [
        "bounce_at_zoom_limits",
        "box_zoom",
        "center",
        "close_popup_on_click",
        "double_click_zoom",
        "dragging",
        "fullscreen",
        "inertia",
        "inertia_deceleration",
        "inertia_max_speed",
        "interpolation",
        "keyboard",
        "keyboard_pan_offset",
        "keyboard_zoom_offset",
        "max_zoom",
        "min_zoom",
        "prefer_canvas",
        "scroll_wheel_zoom",
        "tap",
        "tap_tolerance",
        "touch_zoom",
        "world_copy_jump",
        "zoom",
        "zoom_animation_threshold",
        "zoom_delta",
        "zoom_snap"
       ],
       "prefer_canvas": false,
       "right": 4639,
       "south": 35.28150065789119,
       "style": "IPY_MODEL_85af6956c6b1449e860a80d55cbae092",
       "top": 2837,
       "west": -18.720703125000004,
       "window_url": "http://localhost:8888/notebooks/js/ipyleaflet.ipynb#",
       "zoom": 5
      }
     },
     "7c04b8ac019e4f77b7afceaaa70a73e8": {
      "model_module": "jupyter-leaflet",
      "model_module_version": "^0.17",
      "model_name": "LeafletLayersControlModel",
      "state": {
       "_model_module_version": "^0.17",
       "_view_module_version": "^0.17",
       "options": [
        "position"
       ]
      }
     },
     "7c53f44231a146cf96d29d625275c7b1": {
      "model_module": "jupyter-leaflet",
      "model_module_version": "^0.12.1",
      "model_name": "LeafletTileLayerModel",
      "state": {
       "_model_module_version": "^0.12.1",
       "_view_module_version": "^0.12.1",
       "attribution": "Map tiles by <a href=\"https://labs.strava.com/heatmap\">Strava 2017</a>",
       "max_native_zoom": 18,
       "max_zoom": 15,
       "min_native_zoom": 0,
       "min_zoom": 1,
       "name": "Strava.All",
       "options": [
        "attribution",
        "detect_retina",
        "max_native_zoom",
        "max_zoom",
        "min_native_zoom",
        "min_zoom",
        "no_wrap",
        "tile_size",
        "tms"
       ],
       "url": "https://heatmap-external-a.strava.com//tiles/all/hot/{z}/{x}/{y}.png?v=19"
      }
     },
     "7c60d7251c784ef28dabf038b4a583c2": {
      "model_module": "jupyter-leaflet",
      "model_module_version": "~0.9.2",
      "model_name": "LeafletMapModel",
      "state": {
       "_model_module_version": "~0.9.2",
       "_view_module_version": "~0.9.2",
       "basemap": {
        "attribution": "Map data (c) <a href=\"https://openstreetmap.org\">OpenStreetMap</a> contributors",
        "max_zoom": 19,
        "url": "https://{s}.tile.openstreetmap.org/{z}/{x}/{y}.png"
       },
       "center": [
        48,
        8.1
       ],
       "east": 8.434753417968752,
       "interpolation": "bilinear",
       "layers": [
        "IPY_MODEL_8b9323ff58c0421e8290639caf53be2a"
       ],
       "layout": "IPY_MODEL_2c43e839fcc14517b8291091333d92d9",
       "modisdate": "yesterday",
       "north": 48.18348549519126,
       "options": [
        "attribution_control",
        "basemap",
        "bounce_at_zoom_limits",
        "box_zoom",
        "center",
        "close_popup_on_click",
        "double_click_zoom",
        "dragging",
        "inertia",
        "inertia_deceleration",
        "inertia_max_speed",
        "interpolation",
        "keyboard",
        "keyboard_pan_offset",
        "keyboard_zoom_offset",
        "max_zoom",
        "min_zoom",
        "scroll_wheel_zoom",
        "tap",
        "tap_tolerance",
        "touch_zoom",
        "world_copy_jump",
        "zoom",
        "zoom_animation_threshold",
        "zoom_control",
        "zoom_start"
       ],
       "south": 47.81592114659014,
       "west": 7.765960693359376,
       "window_url": "http://localhost:8888/notebooks/js/ipyleaflet.ipynb",
       "zoom": 10
      }
     },
     "7c9caa3cece645d8911c39c773619ada": {
      "model_module": "jupyter-leaflet",
      "model_module_version": "^0.12.1",
      "model_name": "LeafletAttributionControlModel",
      "state": {
       "_model_module_version": "^0.12.1",
       "_view_module_version": "^0.12.1",
       "options": [
        "position",
        "prefix"
       ],
       "position": "bottomright",
       "prefix": "Leaflet"
      }
     },
     "7d19b234305f40fe9e21aa83fdbb2a0a": {
      "model_module": "jupyter-leaflet",
      "model_module_version": "^0.12.1",
      "model_name": "LeafletAttributionControlModel",
      "state": {
       "_model_module_version": "^0.12.1",
       "_view_module_version": "^0.12.1",
       "options": [
        "position",
        "prefix"
       ],
       "position": "bottomright",
       "prefix": "Leaflet"
      }
     },
     "7d3b6e7ebbc540fbb69e120fcfa07352": {
      "model_module": "@jupyter-widgets/base",
      "model_module_version": "1.2.0",
      "model_name": "LayoutModel",
      "state": {}
     },
     "7d8392f936f84cbebc4dc1721ad7d045": {
      "model_module": "jupyter-leaflet",
      "model_module_version": "^0.17",
      "model_name": "LeafletMapStyleModel",
      "state": {
       "_model_module_version": "^0.17"
      }
     },
     "7e4e0fdcb0a641a4a3f1d17fdc6a3961": {
      "model_module": "jupyter-leaflet",
      "model_module_version": "^0.17",
      "model_name": "LeafletMapStyleModel",
      "state": {
       "_model_module_version": "^0.17",
       "cursor": "move"
      }
     },
     "7e52235ac4fc459fa9fae2f87a0f842c": {
      "model_module": "jupyter-leaflet",
      "model_module_version": "~0.9.2",
      "model_name": "LeafletLayersControlModel",
      "state": {
       "_model_module_version": "~0.9.2",
       "_view_module_version": "~0.9.2"
      }
     },
     "7e654d6246fe4ceba80faefe11fb6862": {
      "model_module": "@jupyter-widgets/base",
      "model_module_version": "1.2.0",
      "model_name": "LayoutModel",
      "state": {}
     },
     "7e7a835db8084fe299e07b1884c59bcf": {
      "model_module": "jupyter-leaflet",
      "model_module_version": "~0.9.2",
      "model_name": "LeafletMapModel",
      "state": {
       "_model_module_version": "~0.9.2",
       "_view_module_version": "~0.9.2",
       "basemap": {
        "attribution": "Map data (c) <a href=\"https://openstreetmap.org\">OpenStreetMap</a> contributors",
        "max_zoom": 19,
        "url": "https://{s}.tile.openstreetmap.org/{z}/{x}/{y}.png"
       },
       "center": [
        48.2,
        7.9
       ],
       "east": 8.234252929687502,
       "interpolation": "bilinear",
       "layers": [
        "IPY_MODEL_c930e7640d8f4b3598277763f25975e6"
       ],
       "layout": "IPY_MODEL_b5df758f9c6c4bcc8c9574e264565b70",
       "modisdate": "yesterday",
       "north": 48.38270604320723,
       "options": [
        "attribution_control",
        "basemap",
        "bounce_at_zoom_limits",
        "box_zoom",
        "center",
        "close_popup_on_click",
        "double_click_zoom",
        "dragging",
        "inertia",
        "inertia_deceleration",
        "inertia_max_speed",
        "interpolation",
        "keyboard",
        "keyboard_pan_offset",
        "keyboard_zoom_offset",
        "max_zoom",
        "min_zoom",
        "scroll_wheel_zoom",
        "tap",
        "tap_tolerance",
        "touch_zoom",
        "world_copy_jump",
        "zoom",
        "zoom_animation_threshold",
        "zoom_control",
        "zoom_start"
       ],
       "south": 48.0165684107673,
       "west": 7.565460205078126,
       "window_url": "http://localhost:8888/notebooks/js/ipyleaflet.ipynb",
       "zoom": 10
      }
     },
     "7e7ee55950904cf38f28d9938ff622b5": {
      "model_module": "jupyter-leaflet",
      "model_module_version": "^0.12.1",
      "model_name": "LeafletAttributionControlModel",
      "state": {
       "_model_module_version": "^0.12.1",
       "_view_module_version": "^0.12.1",
       "options": [
        "position",
        "prefix"
       ],
       "position": "bottomright",
       "prefix": "Leaflet"
      }
     },
     "7e88e98c929a4395b8f7c2282f8312e7": {
      "model_module": "jupyter-leaflet",
      "model_module_version": "^0.17",
      "model_name": "LeafletMapModel",
      "state": {
       "_model_module_version": "^0.17",
       "_view_module_version": "^0.17",
       "bottom": 3562,
       "center": [
        30.661,
        -88.645
       ],
       "controls": [
        "IPY_MODEL_78e075e596a54a13ab41842785a52548",
        "IPY_MODEL_1ff099c48ac149a58a58d31f5f708cbb"
       ],
       "default_style": "IPY_MODEL_6b436f78a19f4ed4a2738ab2de00428b",
       "dragging_style": "IPY_MODEL_238fb18a45b744bea5470f7d30891649",
       "east": -67.36816406250001,
       "fullscreen": false,
       "interpolation": "bilinear",
       "layers": [
        "IPY_MODEL_8c06e2a5dc0e42c5bd9ba658be8c8d24",
        "IPY_MODEL_c0ce35c6cf4b45a99ac89665b0dc1ecc"
       ],
       "layout": "IPY_MODEL_4ce5742460044447bf1b132fbb65a802",
       "left": 1594,
       "modisdate": "2023-07-11",
       "north": 37.92686760148135,
       "options": [
        "bounce_at_zoom_limits",
        "box_zoom",
        "center",
        "close_popup_on_click",
        "double_click_zoom",
        "dragging",
        "fullscreen",
        "inertia",
        "inertia_deceleration",
        "inertia_max_speed",
        "interpolation",
        "keyboard",
        "keyboard_pan_offset",
        "keyboard_zoom_offset",
        "max_zoom",
        "min_zoom",
        "prefer_canvas",
        "scroll_wheel_zoom",
        "tap",
        "tap_tolerance",
        "touch_zoom",
        "world_copy_jump",
        "zoom",
        "zoom_animation_threshold",
        "zoom_delta",
        "zoom_snap"
       ],
       "prefer_canvas": false,
       "right": 2563,
       "south": 22.836945920943855,
       "style": "IPY_MODEL_e19cf387f38548a28a69f973e8c962b7",
       "top": 3162,
       "west": -109.95117187500001,
       "window_url": "http://localhost:8888/notebooks/js/ipyleaflet.ipynb#",
       "zoom": 5
      }
     },
     "7e8a522788144f9297ff8fb48284ed59": {
      "model_module": "jupyter-leaflet",
      "model_module_version": "^0.17",
      "model_name": "LeafletZoomControlModel",
      "state": {
       "_model_module_version": "^0.17",
       "_view_module_version": "^0.17",
       "options": [
        "position",
        "zoom_in_text",
        "zoom_in_title",
        "zoom_out_text",
        "zoom_out_title"
       ]
      }
     },
     "7e8f1e7d7a9e4d4ab45eb7e1f0f54c1a": {
      "model_module": "jupyter-leaflet",
      "model_module_version": "^0.17",
      "model_name": "LeafletMapModel",
      "state": {
       "_model_module_version": "^0.17",
       "_view_module_version": "^0.17",
       "bottom": 44019925,
       "center": [
        52.5162,
        13.3777
       ],
       "controls": [
        "IPY_MODEL_9fbc5b4e93584853950a11fd8f286279",
        "IPY_MODEL_bcd0e7c2dd4a4aeebf020ecdd6960b66",
        "IPY_MODEL_c1220e0822904c2d8bfef012b0752484"
       ],
       "default_style": "IPY_MODEL_664f312970444b0ab64e4d9017e95e20",
       "dragging_style": "IPY_MODEL_8bbe1335e1c04916ba5c658f627660be",
       "east": 13.37900072336197,
       "fullscreen": false,
       "interpolation": "bilinear",
       "layers": [
        "IPY_MODEL_85387cfda82345408883b67bb00b9ebf"
       ],
       "layout": "IPY_MODEL_f517128093aa4ad290f601729ece7ea8",
       "left": 72095948,
       "modisdate": "2023-07-11",
       "north": 52.516526088551366,
       "options": [
        "bounce_at_zoom_limits",
        "box_zoom",
        "center",
        "close_popup_on_click",
        "double_click_zoom",
        "dragging",
        "fullscreen",
        "inertia",
        "inertia_deceleration",
        "inertia_max_speed",
        "interpolation",
        "keyboard",
        "keyboard_pan_offset",
        "keyboard_zoom_offset",
        "max_zoom",
        "min_zoom",
        "prefer_canvas",
        "scroll_wheel_zoom",
        "tap",
        "tap_tolerance",
        "touch_zoom",
        "world_copy_jump",
        "zoom",
        "zoom_animation_threshold",
        "zoom_delta",
        "zoom_snap"
       ],
       "prefer_canvas": false,
       "right": 72096917,
       "south": 52.515873199079344,
       "style": "IPY_MODEL_664f312970444b0ab64e4d9017e95e20",
       "top": 44019525,
       "west": 13.37640166282654,
       "window_url": "http://localhost:8888/notebooks/js/ipyleaflet.ipynb#",
       "zoom": 19
      }
     },
     "7ea0c9cac8324127bea513edd2baf7e5": {
      "model_module": "jupyter-leaflet",
      "model_module_version": "^0.17",
      "model_name": "LeafletZoomControlModel",
      "state": {
       "_model_module_version": "^0.17",
       "_view_module_version": "^0.17",
       "options": [
        "position",
        "zoom_in_text",
        "zoom_in_title",
        "zoom_out_text",
        "zoom_out_title"
       ]
      }
     },
     "7ee7857ba14149858520d3d9998f783d": {
      "model_module": "jupyter-leaflet",
      "model_module_version": "^0.17",
      "model_name": "LeafletMapStyleModel",
      "state": {
       "_model_module_version": "^0.17",
       "cursor": "move"
      }
     },
     "7f0ae1892b634970b55ad76cb515f3d7": {
      "model_module": "@jupyter-widgets/controls",
      "model_module_version": "1.5.0",
      "model_name": "SelectionSliderModel",
      "state": {
       "_options_labels": [
        "13:00",
        "13:30",
        "14:00",
        "14:30",
        "15:00",
        "15:30",
        "16:00",
        "16:30"
       ],
       "description": "Time:",
       "index": 0,
       "layout": "IPY_MODEL_e8d996bc840442cf95de01977c06cd5d",
       "style": "IPY_MODEL_39e846f119be4c09994ce6df14951dc9"
      }
     },
     "7f16612ce5ea4879b21db670c723fc5e": {
      "model_module": "jupyter-leaflet",
      "model_module_version": "^0.17",
      "model_name": "LeafletMapModel",
      "state": {
       "_model_module_version": "^0.17",
       "_view_module_version": "^0.17",
       "center": [
        52.5162,
        13.3777
       ],
       "controls": [
        "IPY_MODEL_7e8a522788144f9297ff8fb48284ed59",
        "IPY_MODEL_116025b4fbe14d74854d57c2516c6035"
       ],
       "default_style": "IPY_MODEL_65c9d73ea7ca4974938cee9b7fd1a9ed",
       "dragging_style": "IPY_MODEL_94dbac5b84414dcf86a12613d45e2d99",
       "fullscreen": false,
       "interpolation": "bilinear",
       "layers": [
        "IPY_MODEL_0c4c49fbfd684f9083bb36fe51baf5b5"
       ],
       "layout": "IPY_MODEL_0e009f916b664e13aacd75a8f7a979d9",
       "modisdate": "2023-07-11",
       "options": [
        "bounce_at_zoom_limits",
        "box_zoom",
        "center",
        "close_popup_on_click",
        "double_click_zoom",
        "dragging",
        "fullscreen",
        "inertia",
        "inertia_deceleration",
        "inertia_max_speed",
        "interpolation",
        "keyboard",
        "keyboard_pan_offset",
        "keyboard_zoom_offset",
        "max_zoom",
        "min_zoom",
        "prefer_canvas",
        "scroll_wheel_zoom",
        "tap",
        "tap_tolerance",
        "touch_zoom",
        "world_copy_jump",
        "zoom",
        "zoom_animation_threshold",
        "zoom_delta",
        "zoom_snap"
       ],
       "prefer_canvas": false,
       "style": "IPY_MODEL_17ab3e57ed25426b83083edc24a9c6c4",
       "window_url": "http://localhost:8888/notebooks/js/ipyleaflet.ipynb#"
      }
     },
     "7f325142701b449585e3cc3d740db70d": {
      "model_module": "jupyter-leaflet",
      "model_module_version": "^0.17",
      "model_name": "LeafletZoomControlModel",
      "state": {
       "_model_module_version": "^0.17",
       "_view_module_version": "^0.17",
       "options": [
        "position",
        "zoom_in_text",
        "zoom_in_title",
        "zoom_out_text",
        "zoom_out_title"
       ]
      }
     },
     "7f93b2b5af9d42ddb6f98ad69743a281": {
      "model_module": "jupyter-leaflet",
      "model_module_version": "^0.17",
      "model_name": "LeafletMapModel",
      "state": {
       "_model_module_version": "^0.17",
       "_view_module_version": "^0.17",
       "center": [
        [
         52.5345,
         13.4226
        ]
       ],
       "controls": [
        "IPY_MODEL_6cae1342129c442aacdd8051d7fdce70",
        "IPY_MODEL_c2b2c347644b41fa80608209b6117319"
       ],
       "default_style": "IPY_MODEL_e0fc147213c84f4aad4a801980f6e0de",
       "dragging_style": "IPY_MODEL_b3f8a07a06cb420f9307945ee2994d11",
       "fullscreen": false,
       "interpolation": "bilinear",
       "layers": [
        "IPY_MODEL_124f62f33a684abfa8340c9c566b24e2"
       ],
       "layout": "IPY_MODEL_3251e44da7bf4ab7919900243a7e68c6",
       "modisdate": "2023-07-11",
       "options": [
        "bounce_at_zoom_limits",
        "box_zoom",
        "center",
        "close_popup_on_click",
        "double_click_zoom",
        "dragging",
        "fullscreen",
        "inertia",
        "inertia_deceleration",
        "inertia_max_speed",
        "interpolation",
        "keyboard",
        "keyboard_pan_offset",
        "keyboard_zoom_offset",
        "max_zoom",
        "min_zoom",
        "prefer_canvas",
        "scroll_wheel_zoom",
        "tap",
        "tap_tolerance",
        "touch_zoom",
        "world_copy_jump",
        "zoom",
        "zoom_animation_threshold",
        "zoom_delta",
        "zoom_snap"
       ],
       "prefer_canvas": false,
       "style": "IPY_MODEL_f97aab2f222a447d94c4da9a57d03f1f",
       "window_url": "http://localhost:8888/notebooks/js/ipyleaflet.ipynb#",
       "zoom": 6
      }
     },
     "7fca7adf16064d84ade0ab9c599dee09": {
      "model_module": "jupyter-leaflet",
      "model_module_version": "^0.12.1",
      "model_name": "LeafletTileLayerModel",
      "state": {
       "_model_module_version": "^0.12.1",
       "_view_module_version": "^0.12.1",
       "attribution": "Map tiles by <a href=\"https://labs.strava.com/heatmap\">Strava 2017</a>",
       "max_native_zoom": 18,
       "max_zoom": 15,
       "min_native_zoom": 0,
       "min_zoom": 1,
       "name": "Strava.Water",
       "options": [
        "attribution",
        "detect_retina",
        "max_native_zoom",
        "max_zoom",
        "min_native_zoom",
        "min_zoom",
        "no_wrap",
        "tile_size",
        "tms"
       ],
       "url": "https://heatmap-external-a.strava.com//tiles/water/blue/{z}/{x}/{y}.png?v=19"
      }
     },
     "7fe7bd820a554b308ba582745da4cf57": {
      "model_module": "jupyter-leaflet",
      "model_module_version": "^0.12.1",
      "model_name": "LeafletMapStyleModel",
      "state": {
       "_model_module_version": "^0.12.1",
       "cursor": "move"
      }
     },
     "8077c4f353c547d0962a490a5a9de5d1": {
      "model_module": "@jupyter-widgets/controls",
      "model_module_version": "1.5.0",
      "model_name": "DescriptionStyleModel",
      "state": {
       "description_width": ""
      }
     },
     "80a3c0cc59ba42b7b74b8cd3b2954336": {
      "model_module": "jupyter-leaflet",
      "model_module_version": "^0.17",
      "model_name": "LeafletMapStyleModel",
      "state": {
       "_model_module_version": "^0.17"
      }
     },
     "80ae0d074d5e4092a86870ddde9bc4a0": {
      "model_module": "@jupyter-widgets/controls",
      "model_module_version": "1.5.0",
      "model_name": "LinkModel",
      "state": {
       "source": [
        "IPY_MODEL_d56e2bcd12b3493fbeda76233fb3cdd5",
        "value"
       ],
       "target": [
        "IPY_MODEL_c0f98fb4b06b4f0ca02984f8a84890de",
        "zoom"
       ]
      }
     },
     "80c7360887de44db8c8a6c54b96c3b58": {
      "model_module": "@jupyter-widgets/base",
      "model_module_version": "1.2.0",
      "model_name": "LayoutModel",
      "state": {}
     },
     "81000aba87174f309c97913ee49c42ee": {
      "model_module": "jupyter-leaflet",
      "model_module_version": "^0.12.1",
      "model_name": "LeafletMapModel",
      "state": {
       "_model_module_version": "^0.12.1",
       "_view_module_version": "^0.12.1",
       "center": [
        48,
        8
       ],
       "controls": [
        "IPY_MODEL_b0a523ecddd544b2ba76fbb58ad5db69",
        "IPY_MODEL_0bb47637c3c0492baf8e30b74025cdcd",
        "IPY_MODEL_1d36d16a943e4e2c8b9f44e99066ecb8"
       ],
       "default_style": "IPY_MODEL_d4da037bb7d54a3a863c94d011d3e52b",
       "dragging_style": "IPY_MODEL_67b0bb8360254f3990cf0c72926a5aae",
       "east": 10.634765625,
       "fullscreen": false,
       "interpolation": "bilinear",
       "layers": [
        "IPY_MODEL_624a2008efbd425783da7326e12a3a65",
        "IPY_MODEL_5544e4f350d341c6adf5d920bd31b071",
        "IPY_MODEL_4555a699bd1049fb83f4f7004d4bc4a7"
       ],
       "layout": "IPY_MODEL_4fba4ca5e58944db8b8de0c57ff1c431",
       "modisdate": "yesterday",
       "north": 48.73083222613518,
       "options": [
        "bounce_at_zoom_limits",
        "box_zoom",
        "center",
        "close_popup_on_click",
        "double_click_zoom",
        "dragging",
        "fullscreen",
        "inertia",
        "inertia_deceleration",
        "inertia_max_speed",
        "interpolation",
        "keyboard",
        "keyboard_pan_offset",
        "keyboard_zoom_offset",
        "max_zoom",
        "min_zoom",
        "scroll_wheel_zoom",
        "tap",
        "tap_tolerance",
        "touch_zoom",
        "world_copy_jump",
        "zoom",
        "zoom_animation_threshold",
        "zoom_start"
       ],
       "south": 47.260592193424706,
       "style": "IPY_MODEL_d4da037bb7d54a3a863c94d011d3e52b",
       "west": 5.366821289062501,
       "window_url": "http://localhost:8888/notebooks/js/ipyleaflet.ipynb",
       "zoom": 8
      }
     },
     "8108a03cd25d4cdea5c87d14ac265ea2": {
      "model_module": "jupyter-leaflet",
      "model_module_version": "^0.17",
      "model_name": "LeafletMapStyleModel",
      "state": {
       "_model_module_version": "^0.17"
      }
     },
     "812b8279c08d47df893b3c7ace280011": {
      "model_module": "jupyter-leaflet",
      "model_module_version": "~0.9.2",
      "model_name": "LeafletTileLayerModel",
      "state": {
       "_model_module_version": "~0.9.2",
       "_view_module_version": "~0.9.2",
       "attribution": "Map tiles by <a href=\"https://labs.strava.com/heatmap\">Strava 2017</a>",
       "max_zoom": 15,
       "min_zoom": 1,
       "name": "Strava.All",
       "options": [
        "attribution",
        "detect_retina",
        "max_zoom",
        "min_zoom",
        "tile_size"
       ],
       "url": "https://heatmap-external-a.strava.com//tiles/all/hot/{z}/{x}/{y}.png?v=19"
      }
     },
     "8183592169084fb48facca25a20c1e1b": {
      "model_module": "@jupyter-widgets/controls",
      "model_module_version": "1.5.0",
      "model_name": "DescriptionStyleModel",
      "state": {
       "description_width": ""
      }
     },
     "8187742c404b4db5b055144087d199e7": {
      "model_module": "jupyter-leaflet",
      "model_module_version": "^0.12.1",
      "model_name": "LeafletMapStyleModel",
      "state": {
       "_model_module_version": "^0.12.1",
       "cursor": "move"
      }
     },
     "8190f1f6a8b447f180752157b6c03938": {
      "model_module": "@jupyter-widgets/controls",
      "model_module_version": "1.5.0",
      "model_name": "LabelModel",
      "state": {
       "layout": "IPY_MODEL_a0cf11b61e3d4f5a963e09d11dd6e9ec",
       "style": "IPY_MODEL_f05b6e74e9734fce85214e9545702592",
       "value": "[52.52336027948271, 13.401807693292273]"
      }
     },
     "8193e83214d04534bcc434a694c7f724": {
      "model_module": "@jupyter-widgets/controls",
      "model_module_version": "1.5.0",
      "model_name": "HBoxModel",
      "state": {
       "children": [
        "IPY_MODEL_2a0f6d89c0844b93a69ef9742d7acb6b",
        "IPY_MODEL_23263f6ec2aa4bcdbbd2ad746566caeb"
       ],
       "layout": "IPY_MODEL_9eb800e558a849aab48b7f3e3dcc8b15"
      }
     },
     "8232bb3246814405ac44dc82253ff47e": {
      "model_module": "jupyter-leaflet",
      "model_module_version": "^0.17",
      "model_name": "LeafletMapStyleModel",
      "state": {
       "_model_module_version": "^0.17"
      }
     },
     "8281bda74faa4b708ca11bfb042dec91": {
      "model_module": "jupyter-leaflet",
      "model_module_version": "^0.11.2",
      "model_name": "LeafletTileLayerModel",
      "state": {
       "_model_module_version": "^0.11.2",
       "_view_module_version": "^0.11.2",
       "attribution": "Map tiles by <a href=\"https://labs.strava.com/heatmap\">Strava 2017</a>",
       "max_native_zoom": 18,
       "max_zoom": 15,
       "min_native_zoom": 0,
       "min_zoom": 1,
       "name": "Strava.All",
       "options": [
        "attribution",
        "detect_retina",
        "max_native_zoom",
        "max_zoom",
        "min_native_zoom",
        "min_zoom",
        "no_wrap",
        "tile_size"
       ],
       "url": "https://heatmap-external-a.strava.com//tiles/all/hot/{z}/{x}/{y}.png?v=19"
      }
     },
     "82f51f9e9a14448ba3ef36e7ed8c14da": {
      "model_module": "jupyter-leaflet",
      "model_module_version": "^0.12.1",
      "model_name": "LeafletMapStyleModel",
      "state": {
       "_model_module_version": "^0.12.1"
      }
     },
     "833c0a194780438583eb80c41388ef8b": {
      "model_module": "jupyter-leaflet",
      "model_module_version": "^0.17",
      "model_name": "LeafletTileLayerModel",
      "state": {
       "_model_module_version": "^0.17",
       "_view_module_version": "^0.17",
       "attribution": "&copy; <a href=\"https://www.openstreetmap.org/copyright\">OpenStreetMap</a> contributors &copy; <a href=\"https://carto.com/attributions\">CARTO</a>",
       "base": true,
       "max_zoom": 20,
       "min_zoom": 1,
       "name": "CartoDB.Positron",
       "options": [
        "attribution",
        "bounds",
        "detect_retina",
        "max_native_zoom",
        "max_zoom",
        "min_native_zoom",
        "min_zoom",
        "no_wrap",
        "tile_size",
        "tms",
        "zoom_offset"
       ],
       "url": "https://a.basemaps.cartocdn.com/light_all/{z}/{x}/{y}.png"
      }
     },
     "8359c26d12ab4617ac668b9675bef1f4": {
      "model_module": "jupyter-leaflet",
      "model_module_version": "^0.17",
      "model_name": "LeafletTileLayerModel",
      "state": {
       "_model_module_version": "^0.17",
       "_view_module_version": "^0.17",
       "attribution": "&copy; <a href=\"https://www.openstreetmap.org/copyright\">OpenStreetMap</a> contributors",
       "base": true,
       "max_zoom": 19,
       "min_zoom": 1,
       "name": "OpenStreetMap.Mapnik",
       "options": [
        "attribution",
        "bounds",
        "detect_retina",
        "max_native_zoom",
        "max_zoom",
        "min_native_zoom",
        "min_zoom",
        "no_wrap",
        "tile_size",
        "tms",
        "zoom_offset"
       ],
       "url": "https://tile.openstreetmap.org/{z}/{x}/{y}.png"
      }
     },
     "83d061351f314a2487e3236124c75ce3": {
      "model_module": "jupyter-leaflet",
      "model_module_version": "^0.17",
      "model_name": "LeafletTileLayerModel",
      "state": {
       "_model_module_version": "^0.17",
       "_view_module_version": "^0.17",
       "attribution": "&copy; <a href=\"https://www.openstreetmap.org/copyright\">OpenStreetMap</a> contributors",
       "base": true,
       "max_zoom": 19,
       "min_zoom": 1,
       "name": "OpenStreetMap.Mapnik",
       "options": [
        "attribution",
        "bounds",
        "detect_retina",
        "max_native_zoom",
        "max_zoom",
        "min_native_zoom",
        "min_zoom",
        "no_wrap",
        "tile_size",
        "tms",
        "zoom_offset"
       ],
       "url": "https://tile.openstreetmap.org/{z}/{x}/{y}.png"
      }
     },
     "83f7e05f761c42ebbfe809aeeb5721cf": {
      "model_module": "jupyter-leaflet",
      "model_module_version": "^0.12.6",
      "model_name": "LeafletAttributionControlModel",
      "state": {
       "_model_module_version": "^0.12.6",
       "_view_module_version": "^0.12.6",
       "options": [
        "position",
        "prefix"
       ],
       "position": "bottomright",
       "prefix": "Leaflet"
      }
     },
     "8412b4d3078d48b48dddd02a382ff22e": {
      "model_module": "jupyter-leaflet",
      "model_module_version": "^0.17",
      "model_name": "LeafletMapModel",
      "state": {
       "_model_module_version": "^0.17",
       "_view_module_version": "^0.17",
       "bottom": 44019925,
       "center": [
        52.5162,
        13.3777
       ],
       "controls": [
        "IPY_MODEL_5b9fd9f75f1d48e4b519e72a9489b034",
        "IPY_MODEL_e10f0ba48de740c0b8fc5f4e8ba46343",
        "IPY_MODEL_0058d21f60134cc39076c5ed1566e306"
       ],
       "default_style": "IPY_MODEL_ecf5edfe3ba94f218b46bfa754b7b520",
       "dragging_style": "IPY_MODEL_e4268bf3348d43e480b8d89c9406e00b",
       "east": 13.37900072336197,
       "fullscreen": false,
       "interpolation": "bilinear",
       "layers": [
        "IPY_MODEL_9dcaa0d312c745939b9f0ba3062f2f66"
       ],
       "layout": "IPY_MODEL_4a7b48d1d86643d5b41a41f2a7620bf1",
       "left": 72095948,
       "modisdate": "2023-07-11",
       "north": 52.516526088551366,
       "options": [
        "bounce_at_zoom_limits",
        "box_zoom",
        "center",
        "close_popup_on_click",
        "double_click_zoom",
        "dragging",
        "fullscreen",
        "inertia",
        "inertia_deceleration",
        "inertia_max_speed",
        "interpolation",
        "keyboard",
        "keyboard_pan_offset",
        "keyboard_zoom_offset",
        "max_zoom",
        "min_zoom",
        "prefer_canvas",
        "scroll_wheel_zoom",
        "tap",
        "tap_tolerance",
        "touch_zoom",
        "world_copy_jump",
        "zoom",
        "zoom_animation_threshold",
        "zoom_delta",
        "zoom_snap"
       ],
       "prefer_canvas": false,
       "right": 72096917,
       "south": 52.515873199079344,
       "style": "IPY_MODEL_ecf5edfe3ba94f218b46bfa754b7b520",
       "top": 44019525,
       "west": 13.37640166282654,
       "window_url": "http://localhost:8888/notebooks/js/ipyleaflet.ipynb#",
       "zoom": 20
      }
     },
     "8416370130224feb8a13ce5b5e7d55a3": {
      "model_module": "jupyter-leaflet",
      "model_module_version": "^0.17",
      "model_name": "LeafletAttributionControlModel",
      "state": {
       "_model_module_version": "^0.17",
       "_view_module_version": "^0.17",
       "options": [
        "position",
        "prefix"
       ],
       "position": "bottomright",
       "prefix": "ipyleaflet"
      }
     },
     "843562e0ce824d39b21ff42e258d885c": {
      "model_module": "jupyter-leaflet",
      "model_module_version": "^0.17",
      "model_name": "LeafletMapStyleModel",
      "state": {
       "_model_module_version": "^0.17"
      }
     },
     "844391e86ee849d89afc1e1c5d5d1f38": {
      "model_module": "jupyter-leaflet",
      "model_module_version": "^0.17",
      "model_name": "LeafletWMSLayerModel",
      "state": {
       "_model_module_version": "^0.17",
       "_view_module_version": "^0.17",
       "attribution": "Weather data © 2012 IEM Nexrad",
       "crs": {
        "custom": false,
        "name": "EPSG3857"
       },
       "format": "image/png",
       "layers": "nexrad-n0r-wmst",
       "options": [
        "attribution",
        "bounds",
        "detect_retina",
        "format",
        "layers",
        "max_native_zoom",
        "max_zoom",
        "min_native_zoom",
        "min_zoom",
        "no_wrap",
        "styles",
        "tile_size",
        "time",
        "tms",
        "transparent",
        "uppercase",
        "zoom_offset"
       ],
       "time": "2005-08-29T19:00",
       "transparent": true,
       "url": "https://mesonet.agron.iastate.edu/cgi-bin/wms/nexrad/n0r-t.cgi?"
      }
     },
     "84666b81e319482e944b417561ecb0e0": {
      "model_module": "jupyter-leaflet",
      "model_module_version": "~0.9.2",
      "model_name": "LeafletTileLayerModel",
      "state": {
       "_model_module_version": "~0.9.2",
       "_view_module_version": "~0.9.2",
       "attribution": "Map tiles by <a href=\"https://labs.strava.com/heatmap\">Strava 2017</a>",
       "max_zoom": 15,
       "min_zoom": 1,
       "name": "Strava.Water",
       "options": [
        "attribution",
        "detect_retina",
        "max_zoom",
        "min_zoom",
        "tile_size"
       ],
       "url": "https://heatmap-external-a.strava.com//tiles/water/blue/{z}/{x}/{y}.png?v=19"
      }
     },
     "84b53579abda4700911bd28f63e36f22": {
      "model_module": "jupyter-leaflet",
      "model_module_version": "^0.17",
      "model_name": "LeafletMapStyleModel",
      "state": {
       "_model_module_version": "^0.17"
      }
     },
     "84b5d9617f9347f8b4c716c33e1d1519": {
      "model_module": "jupyter-leaflet",
      "model_module_version": "^0.12.1",
      "model_name": "LeafletZoomControlModel",
      "state": {
       "_model_module_version": "^0.12.1",
       "_view_module_version": "^0.12.1",
       "options": [
        "position",
        "zoom_in_text",
        "zoom_in_title",
        "zoom_out_text",
        "zoom_out_title"
       ]
      }
     },
     "84f6e5abcc324fb8a0b522ae72470adc": {
      "model_module": "jupyter-leaflet",
      "model_module_version": "^0.17",
      "model_name": "LeafletMapStyleModel",
      "state": {
       "_model_module_version": "^0.17",
       "cursor": "move"
      }
     },
     "850aed46cb17480ba56f71d858edca07": {
      "model_module": "jupyter-leaflet",
      "model_module_version": "^0.17",
      "model_name": "LeafletMapStyleModel",
      "state": {
       "_model_module_version": "^0.17",
       "cursor": "move"
      }
     },
     "85377e93c93f4f9980e3d089c1883eee": {
      "model_module": "@jupyter-widgets/base",
      "model_module_version": "1.2.0",
      "model_name": "LayoutModel",
      "state": {}
     },
     "85387cfda82345408883b67bb00b9ebf": {
      "model_module": "jupyter-leaflet",
      "model_module_version": "^0.17",
      "model_name": "LeafletTileLayerModel",
      "state": {
       "_model_module_version": "^0.17",
       "_view_module_version": "^0.17",
       "attribution": "&copy; <a href=\"https://www.openstreetmap.org/copyright\">OpenStreetMap</a> contributors",
       "base": true,
       "max_zoom": 19,
       "min_zoom": 1,
       "name": "OpenStreetMap.Mapnik",
       "options": [
        "attribution",
        "bounds",
        "detect_retina",
        "max_native_zoom",
        "max_zoom",
        "min_native_zoom",
        "min_zoom",
        "no_wrap",
        "tile_size",
        "tms",
        "zoom_offset"
       ],
       "url": "https://tile.openstreetmap.org/{z}/{x}/{y}.png"
      }
     },
     "85702a86fe76411b9be1dce5c49ccfc0": {
      "model_module": "@jupyter-widgets/controls",
      "model_module_version": "1.5.0",
      "model_name": "IntSliderModel",
      "state": {
       "description": "Zoom level:",
       "layout": "IPY_MODEL_6a697946c9b34b33af3fa30bb8399bd8",
       "max": 19,
       "style": "IPY_MODEL_cccc1654765248d2bea68029e130a256",
       "value": 19
      }
     },
     "85af6956c6b1449e860a80d55cbae092": {
      "model_module": "jupyter-leaflet",
      "model_module_version": "^0.17",
      "model_name": "LeafletMapStyleModel",
      "state": {
       "_model_module_version": "^0.17"
      }
     },
     "85e815d6ebb047d7bc968d0013da09f4": {
      "model_module": "jupyter-leaflet",
      "model_module_version": "^0.12.1",
      "model_name": "LeafletMapStyleModel",
      "state": {
       "_model_module_version": "^0.12.1"
      }
     },
     "85ef69691f0b46ada82d894155bddf00": {
      "model_module": "jupyter-leaflet",
      "model_module_version": "^0.17",
      "model_name": "LeafletMapStyleModel",
      "state": {
       "_model_module_version": "^0.17",
       "cursor": "move"
      }
     },
     "85ff7c7a40c24515b83a21b9cc2ef939": {
      "model_module": "jupyter-leaflet",
      "model_module_version": "^0.17",
      "model_name": "LeafletMapStyleModel",
      "state": {
       "_model_module_version": "^0.17"
      }
     },
     "86029e18689d49ef9445f11e1f3da046": {
      "model_module": "jupyter-leaflet",
      "model_module_version": "^0.17",
      "model_name": "LeafletMapModel",
      "state": {
       "_model_module_version": "^0.17",
       "_view_module_version": "^0.17",
       "bottom": 5574,
       "center": [
        52.5162,
        13.3777
       ],
       "controls": [
        "IPY_MODEL_f7d1cab8ea924682bd5d2f44423640fe",
        "IPY_MODEL_724c1bb8de3b452d8aa3a882919700ac"
       ],
       "default_style": "IPY_MODEL_50938d7b6f454d48a5f030795061deca",
       "dragging_style": "IPY_MODEL_ecbb898fbdbf43b1bf02079e509c8fa6",
       "east": 24.01611328125,
       "fullscreen": false,
       "interpolation": "bilinear",
       "layers": [
        "IPY_MODEL_b5aabab964034930bf11416a134a679f"
       ],
       "layout": "IPY_MODEL_7861dcfe04934e98b70870b36cb48414",
       "left": 8316,
       "modisdate": "2023-07-11",
       "north": 55.10351605801967,
       "options": [
        "bounce_at_zoom_limits",
        "box_zoom",
        "center",
        "close_popup_on_click",
        "double_click_zoom",
        "dragging",
        "fullscreen",
        "inertia",
        "inertia_deceleration",
        "inertia_max_speed",
        "interpolation",
        "keyboard",
        "keyboard_pan_offset",
        "keyboard_zoom_offset",
        "max_zoom",
        "min_zoom",
        "prefer_canvas",
        "scroll_wheel_zoom",
        "tap",
        "tap_tolerance",
        "touch_zoom",
        "world_copy_jump",
        "zoom",
        "zoom_animation_threshold",
        "zoom_delta",
        "zoom_snap"
       ],
       "prefer_canvas": false,
       "right": 9285,
       "south": 49.75287993415023,
       "style": "IPY_MODEL_33e58f6c492b4587885e07614899761a",
       "top": 5174,
       "west": 2.7246093750000004,
       "window_url": "http://localhost:8888/notebooks/js/ipyleaflet.ipynb#",
       "zoom": 6
      }
     },
     "8649dfef1afc488f9f6b5abea10fa557": {
      "model_module": "jupyter-leaflet",
      "model_module_version": "^0.17",
      "model_name": "LeafletMapStyleModel",
      "state": {
       "_model_module_version": "^0.17"
      }
     },
     "86597a57a4d54acf89ea1697685c122e": {
      "model_module": "jupyter-leaflet",
      "model_module_version": "^0.17",
      "model_name": "LeafletMapModel",
      "state": {
       "_model_module_version": "^0.17",
       "_view_module_version": "^0.17",
       "bottom": 5574,
       "center": [
        52.5162,
        13.3777
       ],
       "controls": [
        "IPY_MODEL_1a6f9ae285014dd8a18dfa46eb90fc8d",
        "IPY_MODEL_110dc44c940043e3baf40c2c4a047e56"
       ],
       "default_style": "IPY_MODEL_b0203b306cef46cf9fd688fb6bd90fbe",
       "dragging_style": "IPY_MODEL_c6f0eb605ba64cbe862f3a91b8ab3e0a",
       "east": 24.01611328125,
       "fullscreen": false,
       "interpolation": "bilinear",
       "layers": [
        "IPY_MODEL_9812de079dd94056940d5d968c84e513"
       ],
       "layout": "IPY_MODEL_201f2dc1dca54187b2daba8068441a01",
       "left": 8316,
       "modisdate": "2023-07-11",
       "north": 55.10351605801967,
       "options": [
        "bounce_at_zoom_limits",
        "box_zoom",
        "center",
        "close_popup_on_click",
        "double_click_zoom",
        "dragging",
        "fullscreen",
        "inertia",
        "inertia_deceleration",
        "inertia_max_speed",
        "interpolation",
        "keyboard",
        "keyboard_pan_offset",
        "keyboard_zoom_offset",
        "max_zoom",
        "min_zoom",
        "prefer_canvas",
        "scroll_wheel_zoom",
        "tap",
        "tap_tolerance",
        "touch_zoom",
        "world_copy_jump",
        "zoom",
        "zoom_animation_threshold",
        "zoom_delta",
        "zoom_snap"
       ],
       "prefer_canvas": false,
       "right": 9285,
       "south": 49.75287993415023,
       "style": "IPY_MODEL_06b8750df45e4c7c992c0aeb7ef8a9f8",
       "top": 5174,
       "west": 2.7246093750000004,
       "window_url": "http://localhost:8888/notebooks/js/ipyleaflet.ipynb#",
       "zoom": 6
      }
     },
     "8678da2f18c94c5dab1e7ef598ad8d10": {
      "model_module": "jupyter-leaflet",
      "model_module_version": "^0.12.1",
      "model_name": "LeafletWMSLayerModel",
      "state": {
       "_model_module_version": "^0.12.1",
       "_view_module_version": "^0.12.1",
       "attribution": "Weather data © 2012 IEM Nexrad",
       "crs": "EPSG3857",
       "format": "image/png",
       "layers": "nexrad-n0r-wmst",
       "max_native_zoom": 18,
       "min_native_zoom": 0,
       "options": [
        "attribution",
        "detect_retina",
        "format",
        "layers",
        "max_native_zoom",
        "max_zoom",
        "min_native_zoom",
        "min_zoom",
        "no_wrap",
        "styles",
        "tile_size",
        "time",
        "tms",
        "transparent",
        "uppercase"
       ],
       "time": "2005-08-29T19:00",
       "transparent": true,
       "url": "https://mesonet.agron.iastate.edu/cgi-bin/wms/nexrad/n0r-t.cgi?"
      }
     },
     "868172b381104c3897415d7870578c79": {
      "model_module": "@jupyter-widgets/controls",
      "model_module_version": "1.5.0",
      "model_name": "HBoxModel",
      "state": {
       "children": [
        "IPY_MODEL_677c7aa048be4141a62fb9b429caf8bd",
        "IPY_MODEL_68fc23a55efc49a490fbcf224b4b031d"
       ],
       "layout": "IPY_MODEL_0baffc17693845b69b91b1414af63d29"
      }
     },
     "86b383e033004dd09c39c53493d790bd": {
      "model_module": "jupyter-leaflet",
      "model_module_version": "^0.12.1",
      "model_name": "LeafletMapStyleModel",
      "state": {
       "_model_module_version": "^0.12.1"
      }
     },
     "86d33c82fe18436e9107f2d51cdd86ff": {
      "model_module": "jupyter-leaflet",
      "model_module_version": "^0.12.1",
      "model_name": "LeafletTileLayerModel",
      "state": {
       "_model_module_version": "^0.12.1",
       "_view_module_version": "^0.12.1",
       "attribution": "&copy; <a href=\"http://www.openstreetmap.org/copyright\">OpenStreetMap</a> &copy; <a href=\"http://cartodb.com/attributions\">CartoDB</a>",
       "base": true,
       "max_native_zoom": 18,
       "max_zoom": 20,
       "min_native_zoom": 0,
       "min_zoom": 1,
       "name": "CartoDB.Positron",
       "options": [
        "attribution",
        "detect_retina",
        "max_native_zoom",
        "max_zoom",
        "min_native_zoom",
        "min_zoom",
        "no_wrap",
        "tile_size",
        "tms"
       ],
       "url": "http://c.basemaps.cartocdn.com/light_all/{z}/{x}/{y}.png"
      }
     },
     "86dbdd68a27540faa27809766769fc36": {
      "model_module": "jupyter-leaflet",
      "model_module_version": "^0.17",
      "model_name": "LeafletTileLayerModel",
      "state": {
       "_model_module_version": "^0.17",
       "_view_module_version": "^0.17",
       "attribution": "Map tiles by <a href=\"https://labs.strava.com/heatmap\">Strava 2021</a>",
       "base": true,
       "max_zoom": 15,
       "min_zoom": 1,
       "name": "Strava.All",
       "options": [
        "attribution",
        "bounds",
        "detect_retina",
        "max_native_zoom",
        "max_zoom",
        "min_native_zoom",
        "min_zoom",
        "no_wrap",
        "tile_size",
        "tms",
        "zoom_offset"
       ],
       "url": "https://heatmap-external-a.strava.com/tiles/all/hot/{z}/{x}/{y}.png"
      }
     },
     "8704122cac3f409fabacbb9d866b6595": {
      "model_module": "jupyter-leaflet",
      "model_module_version": "^0.17",
      "model_name": "LeafletZoomControlModel",
      "state": {
       "_model_module_version": "^0.17",
       "_view_module_version": "^0.17",
       "options": [
        "position",
        "zoom_in_text",
        "zoom_in_title",
        "zoom_out_text",
        "zoom_out_title"
       ]
      }
     },
     "871d4a98b66f4cc596e9a00ffc7d01d7": {
      "model_module": "jupyter-leaflet",
      "model_module_version": "^0.12.1",
      "model_name": "LeafletTileLayerModel",
      "state": {
       "_model_module_version": "^0.12.1",
       "_view_module_version": "^0.12.1",
       "attribution": "Map tiles by <a href=\"https://labs.strava.com/heatmap\">Strava 2017</a>",
       "max_native_zoom": 18,
       "max_zoom": 15,
       "min_native_zoom": 0,
       "min_zoom": 1,
       "name": "Strava.All",
       "options": [
        "attribution",
        "detect_retina",
        "max_native_zoom",
        "max_zoom",
        "min_native_zoom",
        "min_zoom",
        "no_wrap",
        "tile_size",
        "tms"
       ],
       "url": "https://heatmap-external-a.strava.com//tiles/all/hot/{z}/{x}/{y}.png?v=19"
      }
     },
     "876983a4ee7348d1ac09ffb570cd31f9": {
      "model_module": "jupyter-leaflet",
      "model_module_version": "^0.17",
      "model_name": "LeafletTileLayerModel",
      "state": {
       "_model_module_version": "^0.17",
       "_view_module_version": "^0.17",
       "attribution": "&copy; <a href=\"https://www.openstreetmap.org/copyright\">OpenStreetMap</a> contributors",
       "base": true,
       "max_zoom": 19,
       "min_zoom": 1,
       "name": "OpenStreetMap.Mapnik",
       "options": [
        "attribution",
        "bounds",
        "detect_retina",
        "max_native_zoom",
        "max_zoom",
        "min_native_zoom",
        "min_zoom",
        "no_wrap",
        "tile_size",
        "tms",
        "zoom_offset"
       ],
       "url": "https://tile.openstreetmap.org/{z}/{x}/{y}.png"
      }
     },
     "878e61ba82aa44cea386b98134299b51": {
      "model_module": "jupyter-leaflet",
      "model_module_version": "^0.12.6",
      "model_name": "LeafletMapStyleModel",
      "state": {
       "_model_module_version": "^0.12.6",
       "cursor": "move"
      }
     },
     "87bf3403759d4673bed50b2291b76712": {
      "model_module": "jupyter-leaflet",
      "model_module_version": "^0.17",
      "model_name": "LeafletAttributionControlModel",
      "state": {
       "_model_module_version": "^0.17",
       "_view_module_version": "^0.17",
       "options": [
        "position",
        "prefix"
       ],
       "position": "bottomright",
       "prefix": "ipyleaflet"
      }
     },
     "87cb8cd0a8224fe6a59285fdbfefe3a5": {
      "model_module": "jupyter-leaflet",
      "model_module_version": "^0.17",
      "model_name": "LeafletMapModel",
      "state": {
       "_model_module_version": "^0.17",
       "_view_module_version": "^0.17",
       "bottom": 2887,
       "center": [
        52.5162,
        13.3777
       ],
       "controls": [
        "IPY_MODEL_1ac9f64237f24a539d69aec3209268bb",
        "IPY_MODEL_ac37d238452d450b9a4b1864bafb7d38"
       ],
       "default_style": "IPY_MODEL_569bd40f21d54bdeb889b1aeb0107be7",
       "dragging_style": "IPY_MODEL_942a8f06e032474bbc8ed752d2058df8",
       "east": 23.950195312500004,
       "fullscreen": false,
       "interpolation": "bilinear",
       "layers": [
        "IPY_MODEL_3cd525bdfe184aecb0d6ac0449df2c52"
       ],
       "layout": "IPY_MODEL_781a7bba732d4aa08ea05297e78824c8",
       "left": 4159,
       "modisdate": "2023-07-11",
       "north": 57.539416794474995,
       "options": [
        "bounce_at_zoom_limits",
        "box_zoom",
        "center",
        "close_popup_on_click",
        "double_click_zoom",
        "dragging",
        "fullscreen",
        "inertia",
        "inertia_deceleration",
        "inertia_max_speed",
        "interpolation",
        "keyboard",
        "keyboard_pan_offset",
        "keyboard_zoom_offset",
        "max_zoom",
        "min_zoom",
        "prefer_canvas",
        "scroll_wheel_zoom",
        "tap",
        "tap_tolerance",
        "touch_zoom",
        "world_copy_jump",
        "zoom",
        "zoom_animation_threshold",
        "zoom_delta",
        "zoom_snap"
       ],
       "prefer_canvas": false,
       "right": 4641,
       "south": 46.830133640447414,
       "style": "IPY_MODEL_32b8462f74344f53be1c966b1f595fd5",
       "top": 2487,
       "west": 2.7685546875000004,
       "window_url": "http://localhost:8888/notebooks/js/ipyleaflet.ipynb#",
       "zoom": 5
      }
     },
     "881e91af136246a79b1489ab6aef211d": {
      "model_module": "jupyter-leaflet",
      "model_module_version": "^0.12.1",
      "model_name": "LeafletMapStyleModel",
      "state": {
       "_model_module_version": "^0.12.1"
      }
     },
     "88327adb281b47c5977090581383baad": {
      "model_module": "jupyter-leaflet",
      "model_module_version": "^0.12.1",
      "model_name": "LeafletTileLayerModel",
      "state": {
       "_model_module_version": "^0.12.1",
       "_view_module_version": "^0.12.1",
       "attribution": "&copy; <a href=\"http://www.openstreetmap.org/copyright\">OpenStreetMap</a> &copy; <a href=\"http://cartodb.com/attributions\">CartoDB</a>",
       "base": true,
       "max_native_zoom": 18,
       "max_zoom": 20,
       "min_native_zoom": 0,
       "min_zoom": 1,
       "name": "CartoDB.Positron",
       "options": [
        "attribution",
        "detect_retina",
        "max_native_zoom",
        "max_zoom",
        "min_native_zoom",
        "min_zoom",
        "no_wrap",
        "tile_size",
        "tms"
       ],
       "url": "http://c.basemaps.cartocdn.com/light_all/{z}/{x}/{y}.png"
      }
     },
     "88387f25f1f94284b9f13ad14ffe0557": {
      "model_module": "jupyter-leaflet",
      "model_module_version": "~0.9.2",
      "model_name": "LeafletMapModel",
      "state": {
       "_model_module_version": "~0.9.2",
       "_view_module_version": "~0.9.2",
       "basemap": {
        "attribution": "Tiles courtesy of <a href=\"http://openstreetmap.se/\" target=\"_blank\">OpenStreetMap Sweden</a> &mdash; Map data &copy; <a href=\"http://www.openstreetmap.org/copyright\">OpenStreetMap</a>",
        "max_zoom": 18,
        "name": "Hydda.Full",
        "url": "http://{s}.tile.openstreetmap.se/hydda/full/{z}/{x}/{y}.png"
       },
       "center": [
        48,
        9
       ],
       "east": 11.689453125000002,
       "interpolation": "bilinear",
       "layers": [
        "IPY_MODEL_bf4952e0e6ed48b7938b7c99d3cc0e65"
       ],
       "layout": "IPY_MODEL_56f9f0afa29a42bd8c358d73505fd84c",
       "modisdate": "yesterday",
       "north": 48.73083222613518,
       "options": [
        "attribution_control",
        "basemap",
        "bounce_at_zoom_limits",
        "box_zoom",
        "center",
        "close_popup_on_click",
        "double_click_zoom",
        "dragging",
        "inertia",
        "inertia_deceleration",
        "inertia_max_speed",
        "interpolation",
        "keyboard",
        "keyboard_pan_offset",
        "keyboard_zoom_offset",
        "max_zoom",
        "min_zoom",
        "scroll_wheel_zoom",
        "tap",
        "tap_tolerance",
        "touch_zoom",
        "world_copy_jump",
        "zoom",
        "zoom_animation_threshold",
        "zoom_control",
        "zoom_start"
       ],
       "south": 47.260592193424706,
       "west": 6.3116455078125,
       "window_url": "http://localhost:8888/notebooks/js/ipyleaflet.ipynb",
       "zoom": 8
      }
     },
     "883e2f3e67b440e2a93ae835f8c7de83": {
      "model_module": "jupyter-leaflet",
      "model_module_version": "^0.12.6",
      "model_name": "LeafletMapStyleModel",
      "state": {
       "_model_module_version": "^0.12.6"
      }
     },
     "8867e630ee1c443aa718073682029234": {
      "model_module": "@jupyter-widgets/controls",
      "model_module_version": "1.5.0",
      "model_name": "DescriptionStyleModel",
      "state": {
       "description_width": ""
      }
     },
     "88c35b9843de4e549947412a0f996ccf": {
      "model_module": "jupyter-leaflet",
      "model_module_version": "^0.12.1",
      "model_name": "LeafletZoomControlModel",
      "state": {
       "_model_module_version": "^0.12.1",
       "_view_module_version": "^0.12.1",
       "options": [
        "position",
        "zoom_in_text",
        "zoom_in_title",
        "zoom_out_text",
        "zoom_out_title"
       ]
      }
     },
     "891d431c846244a2b5eecc55f52f8402": {
      "model_module": "jupyter-leaflet",
      "model_module_version": "^0.17",
      "model_name": "LeafletTileLayerModel",
      "state": {
       "_model_module_version": "^0.17",
       "_view_module_version": "^0.17",
       "attribution": "&copy; <a href=\"https://www.openstreetmap.org/copyright\">OpenStreetMap</a> contributors",
       "base": true,
       "max_zoom": 19,
       "min_zoom": 1,
       "name": "OpenStreetMap.Mapnik",
       "options": [
        "attribution",
        "bounds",
        "detect_retina",
        "max_native_zoom",
        "max_zoom",
        "min_native_zoom",
        "min_zoom",
        "no_wrap",
        "tile_size",
        "tms",
        "zoom_offset"
       ],
       "url": "https://tile.openstreetmap.org/{z}/{x}/{y}.png"
      }
     },
     "891d92329b944823864b378f86336586": {
      "model_module": "jupyter-leaflet",
      "model_module_version": "^0.17",
      "model_name": "LeafletAttributionControlModel",
      "state": {
       "_model_module_version": "^0.17",
       "_view_module_version": "^0.17",
       "options": [
        "position",
        "prefix"
       ],
       "position": "bottomright",
       "prefix": "ipyleaflet"
      }
     },
     "8934c564e4ab41d5a4f0e154ca27e05d": {
      "model_module": "jupyter-leaflet",
      "model_module_version": "^0.17",
      "model_name": "LeafletMapStyleModel",
      "state": {
       "_model_module_version": "^0.17"
      }
     },
     "898b8822b0464749859f897198adb846": {
      "model_module": "jupyter-leaflet",
      "model_module_version": "^0.11.2",
      "model_name": "LeafletMapStyleModel",
      "state": {
       "_model_module_version": "^0.11.2",
       "cursor": "move"
      }
     },
     "89c00106aa3047e398c8eccb2653c3ab": {
      "model_module": "@jupyter-widgets/controls",
      "model_module_version": "1.5.0",
      "model_name": "SliderStyleModel",
      "state": {
       "description_width": ""
      }
     },
     "8a2841be86984d9eb1f2947cd8d0e5e5": {
      "model_module": "jupyter-leaflet",
      "model_module_version": "^0.17",
      "model_name": "LeafletTileLayerModel",
      "state": {
       "_model_module_version": "^0.17",
       "_view_module_version": "^0.17",
       "attribution": "&copy; <a href=\"https://www.openstreetmap.org/copyright\">OpenStreetMap</a> contributors",
       "base": true,
       "max_zoom": 19,
       "min_zoom": 1,
       "name": "OpenStreetMap.Mapnik",
       "options": [
        "attribution",
        "bounds",
        "detect_retina",
        "max_native_zoom",
        "max_zoom",
        "min_native_zoom",
        "min_zoom",
        "no_wrap",
        "tile_size",
        "tms",
        "zoom_offset"
       ],
       "url": "https://tile.openstreetmap.org/{z}/{x}/{y}.png"
      }
     },
     "8ac89e5599b1412cb99d7b28356d5064": {
      "model_module": "@jupyter-widgets/controls",
      "model_module_version": "1.5.0",
      "model_name": "IntSliderModel",
      "state": {
       "description": "Zoom level:",
       "layout": "IPY_MODEL_8b0459ccd1a0446a8a8a40ecdaf2be1f",
       "max": 15,
       "style": "IPY_MODEL_45454e59da2340ed890533e9ae1a7dc5",
       "value": 12
      }
     },
     "8aec3134d7cd4fb6b3db35f45cf681d8": {
      "model_module": "@jupyter-widgets/base",
      "model_module_version": "1.2.0",
      "model_name": "LayoutModel",
      "state": {}
     },
     "8b0459ccd1a0446a8a8a40ecdaf2be1f": {
      "model_module": "@jupyter-widgets/base",
      "model_module_version": "1.2.0",
      "model_name": "LayoutModel",
      "state": {}
     },
     "8b13f38ac565429390bb4b163f012b0c": {
      "model_module": "@jupyter-widgets/base",
      "model_module_version": "1.2.0",
      "model_name": "LayoutModel",
      "state": {}
     },
     "8b8c0b98050e4c60978ff41e987900e3": {
      "model_module": "@jupyter-widgets/base",
      "model_module_version": "1.2.0",
      "model_name": "LayoutModel",
      "state": {}
     },
     "8b9323ff58c0421e8290639caf53be2a": {
      "model_module": "jupyter-leaflet",
      "model_module_version": "~0.9.2",
      "model_name": "LeafletTileLayerModel",
      "state": {
       "_model_module_version": "~0.9.2",
       "_view_module_version": "~0.9.2",
       "base": true,
       "max_zoom": 19,
       "min_zoom": 1,
       "options": [
        "attribution",
        "detect_retina",
        "max_zoom",
        "min_zoom",
        "tile_size"
       ]
      }
     },
     "8bbe1335e1c04916ba5c658f627660be": {
      "model_module": "jupyter-leaflet",
      "model_module_version": "^0.17",
      "model_name": "LeafletMapStyleModel",
      "state": {
       "_model_module_version": "^0.17",
       "cursor": "move"
      }
     },
     "8c06e2a5dc0e42c5bd9ba658be8c8d24": {
      "model_module": "jupyter-leaflet",
      "model_module_version": "^0.17",
      "model_name": "LeafletTileLayerModel",
      "state": {
       "_model_module_version": "^0.17",
       "_view_module_version": "^0.17",
       "attribution": "&copy; <a href=\"https://www.openstreetmap.org/copyright\">OpenStreetMap</a> contributors &copy; <a href=\"https://carto.com/attributions\">CARTO</a>",
       "base": true,
       "max_zoom": 20,
       "min_zoom": 1,
       "name": "CartoDB.Positron",
       "options": [
        "attribution",
        "bounds",
        "detect_retina",
        "max_native_zoom",
        "max_zoom",
        "min_native_zoom",
        "min_zoom",
        "no_wrap",
        "tile_size",
        "tms",
        "zoom_offset"
       ],
       "url": "https://a.basemaps.cartocdn.com/light_all/{z}/{x}/{y}.png"
      }
     },
     "8c1ecc5fcbe14aacb302875f0975a2e4": {
      "model_module": "@jupyter-widgets/base",
      "model_module_version": "1.2.0",
      "model_name": "LayoutModel",
      "state": {}
     },
     "8c7735cf28b146f2bae2b645bec30e99": {
      "model_module": "jupyter-leaflet",
      "model_module_version": "^0.12.1",
      "model_name": "LeafletZoomControlModel",
      "state": {
       "_model_module_version": "^0.12.1",
       "_view_module_version": "^0.12.1",
       "options": [
        "position",
        "zoom_in_text",
        "zoom_in_title",
        "zoom_out_text",
        "zoom_out_title"
       ]
      }
     },
     "8c93e1aaef1443afa192c9710005cacd": {
      "model_module": "@jupyter-widgets/base",
      "model_module_version": "1.2.0",
      "model_name": "LayoutModel",
      "state": {}
     },
     "8cd7f0627c244b16b379729a49bf4c02": {
      "model_module": "@jupyter-widgets/base",
      "model_module_version": "1.2.0",
      "model_name": "LayoutModel",
      "state": {}
     },
     "8cf9e6151903488e9e3ef294a3fbdd28": {
      "model_module": "jupyter-leaflet",
      "model_module_version": "^0.12.1",
      "model_name": "LeafletMapStyleModel",
      "state": {
       "_model_module_version": "^0.12.1"
      }
     },
     "8d2195da765543cfb0852268fdf99600": {
      "model_module": "jupyter-leaflet",
      "model_module_version": "^0.17",
      "model_name": "LeafletZoomControlModel",
      "state": {
       "_model_module_version": "^0.17",
       "_view_module_version": "^0.17",
       "options": [
        "position",
        "zoom_in_text",
        "zoom_in_title",
        "zoom_out_text",
        "zoom_out_title"
       ]
      }
     },
     "8d4bf92dfb94416fa3648a6245e4e48d": {
      "model_module": "jupyter-leaflet",
      "model_module_version": "^0.12.6",
      "model_name": "LeafletMapModel",
      "state": {
       "_model_module_version": "^0.12.6",
       "_view_module_version": "^0.12.6",
       "center": [
        48,
        7.9
       ],
       "controls": [
        "IPY_MODEL_a30514478a324e8d9867567058d3525d",
        "IPY_MODEL_83f7e05f761c42ebbfe809aeeb5721cf"
       ],
       "default_style": "IPY_MODEL_a861c69d6c174eb0b91dbee918008043",
       "dragging_style": "IPY_MODEL_878e61ba82aa44cea386b98134299b51",
       "east": 8.235626220703127,
       "fullscreen": false,
       "interpolation": "bilinear",
       "layers": [
        "IPY_MODEL_20397cb536864150bee8effadc2c0fc8"
       ],
       "layout": "IPY_MODEL_cb66983e061e4b2eae6e76520878dd60",
       "modisdate": "yesterday",
       "north": 48.18348549519126,
       "options": [
        "bounce_at_zoom_limits",
        "box_zoom",
        "center",
        "close_popup_on_click",
        "double_click_zoom",
        "dragging",
        "fullscreen",
        "inertia",
        "inertia_deceleration",
        "inertia_max_speed",
        "interpolation",
        "keyboard",
        "keyboard_pan_offset",
        "keyboard_zoom_offset",
        "max_zoom",
        "min_zoom",
        "scroll_wheel_zoom",
        "tap",
        "tap_tolerance",
        "touch_zoom",
        "world_copy_jump",
        "zoom",
        "zoom_animation_threshold",
        "zoom_start"
       ],
       "south": 47.81592114659014,
       "style": "IPY_MODEL_d12facbf49c04223bfd8e34256b9e78e",
       "west": 7.564086914062501,
       "window_url": "http://localhost:8888/notebooks/js/ipyleaflet.ipynb",
       "zoom": 10
      }
     },
     "8d8d054ceee445fdad18468da433a516": {
      "model_module": "jupyter-leaflet",
      "model_module_version": "^0.12.1",
      "model_name": "LeafletMapStyleModel",
      "state": {
       "_model_module_version": "^0.12.1"
      }
     },
     "8deb403c49fa4fd9ba8b822b11582fe1": {
      "model_module": "@jupyter-widgets/base",
      "model_module_version": "1.2.0",
      "model_name": "LayoutModel",
      "state": {}
     },
     "8e80213883d64a7b8efd4f589f82f8c4": {
      "model_module": "@jupyter-widgets/base",
      "model_module_version": "1.2.0",
      "model_name": "LayoutModel",
      "state": {}
     },
     "8e8bca74dd764b0590170a77e4c2fca2": {
      "model_module": "@jupyter-widgets/base",
      "model_module_version": "1.2.0",
      "model_name": "LayoutModel",
      "state": {}
     },
     "8ea4f7b59f3846888aa27804a8b7bd6b": {
      "model_module": "jupyter-leaflet",
      "model_module_version": "~0.9.2",
      "model_name": "LeafletMapModel",
      "state": {
       "_model_module_version": "~0.9.2",
       "_view_module_version": "~0.9.2",
       "basemap": {
        "attribution": "Map data (c) <a href=\"https://openstreetmap.org\">OpenStreetMap</a> contributors",
        "max_zoom": 19,
        "url": "https://{s}.tile.openstreetmap.org/{z}/{x}/{y}.png"
       },
       "center": [
        48,
        7.9
       ],
       "east": 8.228759765625002,
       "interpolation": "bilinear",
       "layers": [
        "IPY_MODEL_c206fe5856fc41a0848370624aa66829"
       ],
       "layout": "IPY_MODEL_2fbb50e078784f6e94d6eb9102805318",
       "modisdate": "yesterday",
       "north": 48.18348549519126,
       "options": [
        "attribution_control",
        "basemap",
        "bounce_at_zoom_limits",
        "box_zoom",
        "center",
        "close_popup_on_click",
        "double_click_zoom",
        "dragging",
        "inertia",
        "inertia_deceleration",
        "inertia_max_speed",
        "interpolation",
        "keyboard",
        "keyboard_pan_offset",
        "keyboard_zoom_offset",
        "max_zoom",
        "min_zoom",
        "scroll_wheel_zoom",
        "tap",
        "tap_tolerance",
        "touch_zoom",
        "world_copy_jump",
        "zoom",
        "zoom_animation_threshold",
        "zoom_control",
        "zoom_start"
       ],
       "south": 47.81592114659014,
       "west": 7.570953369140626,
       "window_url": "http://localhost:8888/notebooks/js/ipyleaflet.ipynb",
       "zoom": 10
      }
     },
     "8ea5cd151d424e16a9e5f6e03656eb5c": {
      "model_module": "jupyter-leaflet",
      "model_module_version": "^0.17",
      "model_name": "LeafletMapModel",
      "state": {
       "_model_module_version": "^0.17",
       "_view_module_version": "^0.17",
       "bottom": 3562,
       "center": [
        30.661,
        -88.645
       ],
       "controls": [
        "IPY_MODEL_a2100bc84fb949dab22bef2c24e41d2c",
        "IPY_MODEL_57395ebc582349018eeb7ac1330ee40b"
       ],
       "default_style": "IPY_MODEL_d87ad5fd8c12401fa9bbfb217bd4874e",
       "dragging_style": "IPY_MODEL_c4e20d4c78964276bae5c988f38fc0f7",
       "east": -67.36816406250001,
       "fullscreen": false,
       "interpolation": "bilinear",
       "layers": [
        "IPY_MODEL_67ddb640ab9c48f18b2b430bc31ac89b",
        "IPY_MODEL_48edcaf1d5984dee93fee49a59b10990"
       ],
       "layout": "IPY_MODEL_c6780db2034d45b7a1d2ec8e5e81e67c",
       "left": 1594,
       "modisdate": "2023-07-11",
       "north": 37.92686760148135,
       "options": [
        "bounce_at_zoom_limits",
        "box_zoom",
        "center",
        "close_popup_on_click",
        "double_click_zoom",
        "dragging",
        "fullscreen",
        "inertia",
        "inertia_deceleration",
        "inertia_max_speed",
        "interpolation",
        "keyboard",
        "keyboard_pan_offset",
        "keyboard_zoom_offset",
        "max_zoom",
        "min_zoom",
        "prefer_canvas",
        "scroll_wheel_zoom",
        "tap",
        "tap_tolerance",
        "touch_zoom",
        "world_copy_jump",
        "zoom",
        "zoom_animation_threshold",
        "zoom_delta",
        "zoom_snap"
       ],
       "prefer_canvas": false,
       "right": 2563,
       "south": 22.836945920943855,
       "style": "IPY_MODEL_aa999a90e53c4b1ab9a91c26bfc6b906",
       "top": 3162,
       "west": -109.95117187500001,
       "window_url": "http://localhost:8888/notebooks/js/ipyleaflet.ipynb#",
       "zoom": 5
      }
     },
     "8ee0d6c4735a48d0acf3f200e3e382b2": {
      "model_module": "jupyter-leaflet",
      "model_module_version": "^0.17",
      "model_name": "LeafletAttributionControlModel",
      "state": {
       "_model_module_version": "^0.17",
       "_view_module_version": "^0.17",
       "options": [
        "position",
        "prefix"
       ],
       "position": "bottomright",
       "prefix": "ipyleaflet"
      }
     },
     "8ee3b4b475224045a722438a5a9f7d6b": {
      "model_module": "jupyter-leaflet",
      "model_module_version": "^0.12.1",
      "model_name": "LeafletMapModel",
      "state": {
       "_model_module_version": "^0.12.1",
       "_view_module_version": "^0.12.1",
       "center": [
        48,
        8
       ],
       "controls": [
        "IPY_MODEL_6ac2defab53a485f8153afe38a0990d0",
        "IPY_MODEL_c7f719791a594187b17822525e10d70c"
       ],
       "default_style": "IPY_MODEL_e20c6f6fc84947159f5b5c28594faedd",
       "dragging_style": "IPY_MODEL_8187742c404b4db5b055144087d199e7",
       "east": 10.634765625,
       "fullscreen": false,
       "interpolation": "bilinear",
       "layers": [
        "IPY_MODEL_481cee36ca27442696fbfa1532ce1a29",
        "IPY_MODEL_b69ff43eeae44d779c881c2b5a7a8d42"
       ],
       "layout": "IPY_MODEL_8b8c0b98050e4c60978ff41e987900e3",
       "modisdate": "yesterday",
       "north": 48.73083222613518,
       "options": [
        "bounce_at_zoom_limits",
        "box_zoom",
        "center",
        "close_popup_on_click",
        "double_click_zoom",
        "dragging",
        "fullscreen",
        "inertia",
        "inertia_deceleration",
        "inertia_max_speed",
        "interpolation",
        "keyboard",
        "keyboard_pan_offset",
        "keyboard_zoom_offset",
        "max_zoom",
        "min_zoom",
        "scroll_wheel_zoom",
        "tap",
        "tap_tolerance",
        "touch_zoom",
        "world_copy_jump",
        "zoom",
        "zoom_animation_threshold",
        "zoom_start"
       ],
       "south": 47.260592193424706,
       "style": "IPY_MODEL_8d8d054ceee445fdad18468da433a516",
       "west": 5.366821289062501,
       "window_url": "http://localhost:8888/notebooks/js/ipyleaflet.ipynb",
       "zoom": 8
      }
     },
     "8efafad3513e491fad23afdcfbe4384c": {
      "model_module": "@jupyter-widgets/base",
      "model_module_version": "1.2.0",
      "model_name": "LayoutModel",
      "state": {}
     },
     "8f73c393d05145919bd443e00f4a613e": {
      "model_module": "@jupyter-widgets/base",
      "model_module_version": "1.2.0",
      "model_name": "LayoutModel",
      "state": {}
     },
     "8fa50860a8334dbd874079a8e3039e54": {
      "model_module": "jupyter-leaflet",
      "model_module_version": "^0.17",
      "model_name": "LeafletMapStyleModel",
      "state": {
       "_model_module_version": "^0.17"
      }
     },
     "90186a2efda14fee8fceca832d48a498": {
      "model_module": "jupyter-leaflet",
      "model_module_version": "^0.17",
      "model_name": "LeafletTileLayerModel",
      "state": {
       "_model_module_version": "^0.17",
       "_view_module_version": "^0.17",
       "attribution": "&copy; <a href=\"https://www.openstreetmap.org/copyright\">OpenStreetMap</a> contributors",
       "base": true,
       "max_zoom": 19,
       "min_zoom": 1,
       "name": "OpenStreetMap.Mapnik",
       "options": [
        "attribution",
        "bounds",
        "detect_retina",
        "max_native_zoom",
        "max_zoom",
        "min_native_zoom",
        "min_zoom",
        "no_wrap",
        "tile_size",
        "tms",
        "zoom_offset"
       ],
       "url": "https://tile.openstreetmap.org/{z}/{x}/{y}.png"
      }
     },
     "90186a6f3fc944d09282c9f8ee6e8aab": {
      "model_module": "@jupyter-widgets/base",
      "model_module_version": "1.2.0",
      "model_name": "LayoutModel",
      "state": {}
     },
     "902fb7324f17454eb67d6c35b0107bee": {
      "model_module": "jupyter-leaflet",
      "model_module_version": "^0.17",
      "model_name": "LeafletTileLayerModel",
      "state": {
       "_model_module_version": "^0.17",
       "_view_module_version": "^0.17",
       "attribution": "&copy; <a href=\"https://www.openstreetmap.org/copyright\">OpenStreetMap</a> contributors",
       "base": true,
       "max_zoom": 19,
       "min_zoom": 1,
       "name": "OpenStreetMap.Mapnik",
       "options": [
        "attribution",
        "bounds",
        "detect_retina",
        "max_native_zoom",
        "max_zoom",
        "min_native_zoom",
        "min_zoom",
        "no_wrap",
        "tile_size",
        "tms",
        "zoom_offset"
       ],
       "url": "https://tile.openstreetmap.org/{z}/{x}/{y}.png"
      }
     },
     "90999748c5dd496080c115f0b9367120": {
      "model_module": "jupyter-leaflet",
      "model_module_version": "~0.9.2",
      "model_name": "LeafletTileLayerModel",
      "state": {
       "_model_module_version": "~0.9.2",
       "_view_module_version": "~0.9.2",
       "attribution": "Tiles courtesy of <a href=\"http://openstreetmap.se/\" target=\"_blank\">OpenStreetMap Sweden</a> &mdash; Map data &copy; <a href=\"http://www.openstreetmap.org/copyright\">OpenStreetMap</a>",
       "base": true,
       "min_zoom": 1,
       "name": "Hydda.Full",
       "options": [
        "attribution",
        "detect_retina",
        "max_zoom",
        "min_zoom",
        "tile_size"
       ],
       "url": "http://{s}.tile.openstreetmap.se/hydda/full/{z}/{x}/{y}.png"
      }
     },
     "90df7de65a5f4cb1963c3a7bbd582878": {
      "model_module": "@jupyter-widgets/controls",
      "model_module_version": "1.5.0",
      "model_name": "HBoxModel",
      "state": {
       "children": [
        "IPY_MODEL_ab0626e428d848a0a04b52392c04764f",
        "IPY_MODEL_673d5bb0a8854681b4124726d28594da"
       ],
       "layout": "IPY_MODEL_7b0fda2db2934b28a7adb016a4b32fe7"
      }
     },
     "9127caa63121488e99406d2df94fa0ac": {
      "model_module": "@jupyter-widgets/controls",
      "model_module_version": "1.5.0",
      "model_name": "DescriptionStyleModel",
      "state": {
       "description_width": ""
      }
     },
     "9149ada1674a40d59173a1041441338d": {
      "model_module": "@jupyter-widgets/controls",
      "model_module_version": "1.5.0",
      "model_name": "SelectionSliderModel",
      "state": {
       "_options_labels": [
        "13:00",
        "13:30",
        "14:00",
        "14:30",
        "15:00",
        "15:30",
        "16:00",
        "16:30"
       ],
       "description": "Time:",
       "index": 0,
       "layout": "IPY_MODEL_1f358c486af641d49f729534e05ca4a6",
       "style": "IPY_MODEL_5ebfe503a9774cc19803cb4554766bdf"
      }
     },
     "920695e79b5548a18dd6daf0410415a9": {
      "model_module": "jupyter-leaflet",
      "model_module_version": "^0.12.1",
      "model_name": "LeafletTileLayerModel",
      "state": {
       "_model_module_version": "^0.12.1",
       "_view_module_version": "^0.12.1",
       "attribution": "&copy; <a href=\"http://www.openstreetmap.org/copyright\">OpenStreetMap</a> &copy; <a href=\"http://cartodb.com/attributions\">CartoDB</a>",
       "base": true,
       "max_native_zoom": 18,
       "max_zoom": 20,
       "min_native_zoom": 0,
       "min_zoom": 1,
       "name": "CartoDB.Positron",
       "options": [
        "attribution",
        "detect_retina",
        "max_native_zoom",
        "max_zoom",
        "min_native_zoom",
        "min_zoom",
        "no_wrap",
        "tile_size",
        "tms"
       ],
       "url": "http://c.basemaps.cartocdn.com/light_all/{z}/{x}/{y}.png"
      }
     },
     "9231ad689dfe48118c56ea95021c1845": {
      "model_module": "@jupyter-widgets/base",
      "model_module_version": "1.2.0",
      "model_name": "LayoutModel",
      "state": {}
     },
     "9271ca03be224f90b8ad5357a86d05b7": {
      "model_module": "jupyter-leaflet",
      "model_module_version": "^0.17",
      "model_name": "LeafletMapModel",
      "state": {
       "_model_module_version": "^0.17",
       "_view_module_version": "^0.17",
       "bottom": 2929,
       "center": [
        51.37178037591739,
        10.569330553520372
       ],
       "controls": [
        "IPY_MODEL_eb9472db8d894c18a4b2bf351ba5f8a7",
        "IPY_MODEL_8416370130224feb8a13ce5b5e7d55a3"
       ],
       "default_style": "IPY_MODEL_7b90d74434ed4909b98a3cc1e4d59310",
       "dragging_style": "IPY_MODEL_116c726b318449558905e5acd5747ac8",
       "east": 31.860834459770377,
       "fullscreen": false,
       "interpolation": "bilinear",
       "layers": [
        "IPY_MODEL_b7db805a28514b6cac32b00eef1e5e8b"
       ],
       "layout": "IPY_MODEL_cbae26824f97412499ba8d7702a0b08a",
       "left": 3852.0109885956635,
       "modisdate": "2023-07-11",
       "north": 56.53525774684848,
       "options": [
        "bounce_at_zoom_limits",
        "box_zoom",
        "center",
        "close_popup_on_click",
        "double_click_zoom",
        "dragging",
        "fullscreen",
        "inertia",
        "inertia_deceleration",
        "inertia_max_speed",
        "interpolation",
        "keyboard",
        "keyboard_pan_offset",
        "keyboard_zoom_offset",
        "max_zoom",
        "min_zoom",
        "prefer_canvas",
        "scroll_wheel_zoom",
        "tap",
        "tap_tolerance",
        "touch_zoom",
        "world_copy_jump",
        "zoom",
        "zoom_animation_threshold",
        "zoom_delta",
        "zoom_snap"
       ],
       "prefer_canvas": false,
       "right": 4821.010988595664,
       "south": 45.55252525134013,
       "style": "IPY_MODEL_7b90d74434ed4909b98a3cc1e4d59310",
       "top": 2529,
       "west": -10.722173352729628,
       "window_url": "http://localhost:8888/notebooks/js/ipyleaflet.ipynb#",
       "zoom": 5
      }
     },
     "927627761a1b40018ad07a5863e160ff": {
      "model_module": "@jupyter-widgets/controls",
      "model_module_version": "1.5.0",
      "model_name": "DescriptionStyleModel",
      "state": {
       "description_width": ""
      }
     },
     "928abc41733c4006afc005da6cf18162": {
      "model_module": "jupyter-leaflet",
      "model_module_version": "^0.12.6",
      "model_name": "LeafletMapStyleModel",
      "state": {
       "_model_module_version": "^0.12.6"
      }
     },
     "932db1fcdaf6462fab20388e3253ce94": {
      "model_module": "@jupyter-widgets/controls",
      "model_module_version": "1.5.0",
      "model_name": "SelectionSliderModel",
      "state": {
       "_options_labels": [
        "13:00",
        "13:30",
        "14:00",
        "14:30",
        "15:00",
        "15:30",
        "16:00",
        "16:30"
       ],
       "description": "Time:",
       "index": 0,
       "layout": "IPY_MODEL_a2f05315dddc419d88325139a218c622",
       "style": "IPY_MODEL_9127caa63121488e99406d2df94fa0ac"
      }
     },
     "936ea2bc652c404398f631d92fc61702": {
      "model_module": "jupyter-leaflet",
      "model_module_version": "^0.17",
      "model_name": "LeafletAttributionControlModel",
      "state": {
       "_model_module_version": "^0.17",
       "_view_module_version": "^0.17",
       "options": [
        "position",
        "prefix"
       ],
       "position": "bottomright",
       "prefix": "ipyleaflet"
      }
     },
     "9376071f192e435d857a4536c9bafbb4": {
      "model_module": "jupyter-leaflet",
      "model_module_version": "^0.17",
      "model_name": "LeafletMapStyleModel",
      "state": {
       "_model_module_version": "^0.17",
       "cursor": "move"
      }
     },
     "93fca842981849c98bda0849b72ff825": {
      "model_module": "@jupyter-widgets/controls",
      "model_module_version": "1.5.0",
      "model_name": "SliderStyleModel",
      "state": {
       "description_width": ""
      }
     },
     "942a8f06e032474bbc8ed752d2058df8": {
      "model_module": "jupyter-leaflet",
      "model_module_version": "^0.17",
      "model_name": "LeafletMapStyleModel",
      "state": {
       "_model_module_version": "^0.17",
       "cursor": "move"
      }
     },
     "94488c41e3bc44e49ba4c96d183c963f": {
      "model_module": "@jupyter-widgets/base",
      "model_module_version": "1.2.0",
      "model_name": "LayoutModel",
      "state": {}
     },
     "945a0aa96cab4034907e3e86dbcb2036": {
      "model_module": "@jupyter-widgets/base",
      "model_module_version": "1.2.0",
      "model_name": "LayoutModel",
      "state": {}
     },
     "946cf631723b45f9b8c5bbbe647ab5b3": {
      "model_module": "jupyter-leaflet",
      "model_module_version": "^0.17",
      "model_name": "LeafletTileLayerModel",
      "state": {
       "_model_module_version": "^0.17",
       "_view_module_version": "^0.17",
       "attribution": "&copy; <a href=\"https://www.openstreetmap.org/copyright\">OpenStreetMap</a> contributors",
       "base": true,
       "max_zoom": 19,
       "min_zoom": 1,
       "name": "OpenStreetMap.Mapnik",
       "options": [
        "attribution",
        "bounds",
        "detect_retina",
        "max_native_zoom",
        "max_zoom",
        "min_native_zoom",
        "min_zoom",
        "no_wrap",
        "tile_size",
        "tms",
        "zoom_offset"
       ],
       "url": "https://tile.openstreetmap.org/{z}/{x}/{y}.png"
      }
     },
     "94a877e07a644da395520b8de1d10c78": {
      "model_module": "jupyter-leaflet",
      "model_module_version": "^0.17",
      "model_name": "LeafletMapModel",
      "state": {
       "_model_module_version": "^0.17",
       "_view_module_version": "^0.17",
       "bottom": 344104,
       "center": [
        52.5162,
        13.3777
       ],
       "controls": [
        "IPY_MODEL_c6f2b6b20bee45698bc53f43766cb2cf",
        "IPY_MODEL_21b1993c333a437c81326f2e4bd15a00",
        "IPY_MODEL_7a2cb844ebc64b049a920a496f665a41"
       ],
       "default_style": "IPY_MODEL_e54278c4c05542cba9d67f04e6b3522a",
       "dragging_style": "IPY_MODEL_7ee7857ba14149858520d3d9998f783d",
       "east": 13.544082641601564,
       "fullscreen": false,
       "interpolation": "bilinear",
       "layers": [
        "IPY_MODEL_c8e3511122714c31a87717c6bcb7e50d"
       ],
       "layout": "IPY_MODEL_409fd13e71774f7bb9a6abe53a3e3f8b",
       "left": 562769,
       "modisdate": "2023-07-11",
       "north": 52.55798590427374,
       "options": [
        "bounce_at_zoom_limits",
        "box_zoom",
        "center",
        "close_popup_on_click",
        "double_click_zoom",
        "dragging",
        "fullscreen",
        "inertia",
        "inertia_deceleration",
        "inertia_max_speed",
        "interpolation",
        "keyboard",
        "keyboard_pan_offset",
        "keyboard_zoom_offset",
        "max_zoom",
        "min_zoom",
        "prefer_canvas",
        "scroll_wheel_zoom",
        "tap",
        "tap_tolerance",
        "touch_zoom",
        "world_copy_jump",
        "zoom",
        "zoom_animation_threshold",
        "zoom_delta",
        "zoom_snap"
       ],
       "prefer_canvas": false,
       "right": 563738,
       "south": 52.47441608702583,
       "style": "IPY_MODEL_f8a7c0353ce44a849c7e78989e1c4a4f",
       "top": 343704,
       "west": 13.211402893066408,
       "window_url": "http://localhost:8888/notebooks/js/ipyleaflet.ipynb#"
      }
     },
     "94b21977b30e46aa929fdaa2975c6344": {
      "model_module": "jupyter-leaflet",
      "model_module_version": "^0.12.1",
      "model_name": "LeafletAttributionControlModel",
      "state": {
       "_model_module_version": "^0.12.1",
       "_view_module_version": "^0.12.1",
       "options": [
        "position",
        "prefix"
       ],
       "position": "bottomright",
       "prefix": "Leaflet"
      }
     },
     "94c813831f574fd8a547abfe82822b85": {
      "model_module": "@jupyter-widgets/controls",
      "model_module_version": "1.5.0",
      "model_name": "LabelModel",
      "state": {
       "layout": "IPY_MODEL_1e58908dc3264845be9fef2590bd8fbf",
       "style": "IPY_MODEL_e84a4864d87b40ca9db358b8d5bd9729"
      }
     },
     "94dbac5b84414dcf86a12613d45e2d99": {
      "model_module": "jupyter-leaflet",
      "model_module_version": "^0.17",
      "model_name": "LeafletMapStyleModel",
      "state": {
       "_model_module_version": "^0.17",
       "cursor": "move"
      }
     },
     "94e2d2afdf4e4d1c894568d971e6b995": {
      "model_module": "jupyter-leaflet",
      "model_module_version": "^0.17",
      "model_name": "LeafletZoomControlModel",
      "state": {
       "_model_module_version": "^0.17",
       "_view_module_version": "^0.17",
       "options": [
        "position",
        "zoom_in_text",
        "zoom_in_title",
        "zoom_out_text",
        "zoom_out_title"
       ]
      }
     },
     "951a935c88d4460ca625c4b9194aac53": {
      "model_module": "jupyter-leaflet",
      "model_module_version": "^0.12.1",
      "model_name": "LeafletTileLayerModel",
      "state": {
       "_model_module_version": "^0.12.1",
       "_view_module_version": "^0.12.1",
       "base": true,
       "max_native_zoom": 18,
       "max_zoom": 19,
       "min_native_zoom": 0,
       "min_zoom": 1,
       "options": [
        "attribution",
        "detect_retina",
        "max_native_zoom",
        "max_zoom",
        "min_native_zoom",
        "min_zoom",
        "no_wrap",
        "tile_size",
        "tms"
       ]
      }
     },
     "954292eca1cb4a8b8360bf146a931ece": {
      "model_module": "@jupyter-widgets/base",
      "model_module_version": "1.2.0",
      "model_name": "LayoutModel",
      "state": {}
     },
     "954a928213f748a8a411dd635e60aa66": {
      "model_module": "jupyter-leaflet",
      "model_module_version": "^0.12.1",
      "model_name": "LeafletMapModel",
      "state": {
       "_model_module_version": "^0.12.1",
       "_view_module_version": "^0.12.1",
       "center": [
        30.675715404167743,
        -88.63769531250001
       ],
       "controls": [
        "IPY_MODEL_def07c40e91748c3b0d1981bd45cc879",
        "IPY_MODEL_6752be8fc91540329d6d6d3cc0f22108"
       ],
       "default_style": "IPY_MODEL_dbe4e90e5426466f9597fc72e875d584",
       "dragging_style": "IPY_MODEL_680df379e7bc47f3b524695704a9f8c4",
       "east": -180,
       "fullscreen": false,
       "interpolation": "bilinear",
       "layers": [
        "IPY_MODEL_86d33c82fe18436e9107f2d51cdd86ff",
        "IPY_MODEL_a257217152f1450b982a72ee8f84dcb7"
       ],
       "layout": "IPY_MODEL_e48726183d9147ff96e5e258b0b7ba17",
       "modisdate": "yesterday",
       "north": -90,
       "options": [
        "bounce_at_zoom_limits",
        "box_zoom",
        "center",
        "close_popup_on_click",
        "double_click_zoom",
        "dragging",
        "fullscreen",
        "inertia",
        "inertia_deceleration",
        "inertia_max_speed",
        "interpolation",
        "keyboard",
        "keyboard_pan_offset",
        "keyboard_zoom_offset",
        "max_zoom",
        "min_zoom",
        "scroll_wheel_zoom",
        "tap",
        "tap_tolerance",
        "touch_zoom",
        "world_copy_jump",
        "zoom",
        "zoom_animation_threshold",
        "zoom_start"
       ],
       "south": 90,
       "style": "IPY_MODEL_dbe4e90e5426466f9597fc72e875d584",
       "west": 180,
       "window_url": "http://localhost:8888/notebooks/js/ipyleaflet.ipynb",
       "zoom": 5
      }
     },
     "95815563991948a3bf133626210dc2a0": {
      "model_module": "jupyter-leaflet",
      "model_module_version": "^0.12.1",
      "model_name": "LeafletZoomControlModel",
      "state": {
       "_model_module_version": "^0.12.1",
       "_view_module_version": "^0.12.1",
       "options": [
        "position",
        "zoom_in_text",
        "zoom_in_title",
        "zoom_out_text",
        "zoom_out_title"
       ]
      }
     },
     "95b6f13449fc48dd8d4575fdd2754402": {
      "model_module": "@jupyter-widgets/base",
      "model_module_version": "1.2.0",
      "model_name": "LayoutModel",
      "state": {}
     },
     "95c3ebe7e7d4442ab2a003fac03c0197": {
      "model_module": "jupyter-leaflet",
      "model_module_version": "^0.17",
      "model_name": "LeafletWMSLayerModel",
      "state": {
       "_model_module_version": "^0.17",
       "_view_module_version": "^0.17",
       "attribution": "Weather data © 2012 IEM Nexrad",
       "crs": {
        "custom": false,
        "name": "EPSG3857"
       },
       "format": "image/png",
       "layers": "nexrad-n0r-wmst",
       "options": [
        "attribution",
        "bounds",
        "detect_retina",
        "format",
        "layers",
        "max_native_zoom",
        "max_zoom",
        "min_native_zoom",
        "min_zoom",
        "no_wrap",
        "styles",
        "tile_size",
        "time",
        "tms",
        "transparent",
        "uppercase",
        "zoom_offset"
       ],
       "time": "2005-08-29T19:00",
       "transparent": true,
       "url": "https://mesonet.agron.iastate.edu/cgi-bin/wms/nexrad/n0r-t.cgi?"
      }
     },
     "95ea14daea7145e2b879e3ed8aa3ef76": {
      "model_module": "jupyter-leaflet",
      "model_module_version": "^0.17",
      "model_name": "LeafletMapStyleModel",
      "state": {
       "_model_module_version": "^0.17"
      }
     },
     "961f5a492841483f91b4d17d27f1f403": {
      "model_module": "jupyter-leaflet",
      "model_module_version": "^0.17",
      "model_name": "LeafletWidgetControlModel",
      "state": {
       "_model_module": "jupyter-leaflet",
       "_model_module_version": "^0.17",
       "_view_count": null,
       "_view_module": "jupyter-leaflet",
       "_view_module_version": "^0.17",
       "options": [
        "position",
        "transparent_bg"
       ],
       "position": "topright",
       "widget": "IPY_MODEL_85702a86fe76411b9be1dce5c49ccfc0"
      }
     },
     "9621d768368d46a2bc9870ff9f836d8a": {
      "model_module": "@jupyter-widgets/base",
      "model_module_version": "1.2.0",
      "model_name": "LayoutModel",
      "state": {}
     },
     "965a40387bd04092b9b33bf42e6633e1": {
      "model_module": "jupyter-leaflet",
      "model_module_version": "~0.9.2",
      "model_name": "LeafletLayersControlModel",
      "state": {
       "_model_module_version": "~0.9.2",
       "_view_module_version": "~0.9.2"
      }
     },
     "9714fac8eab543b5b5c16fc81c08d911": {
      "model_module": "jupyter-leaflet",
      "model_module_version": "^0.12.1",
      "model_name": "LeafletAttributionControlModel",
      "state": {
       "_model_module_version": "^0.12.1",
       "_view_module_version": "^0.12.1",
       "options": [
        "position",
        "prefix"
       ],
       "position": "bottomright",
       "prefix": "Leaflet"
      }
     },
     "9724ed3178d546dd82086c78245fe1fa": {
      "model_module": "jupyter-leaflet",
      "model_module_version": "^0.17",
      "model_name": "LeafletTileLayerModel",
      "state": {
       "_model_module_version": "^0.17",
       "_view_module_version": "^0.17",
       "attribution": "&copy; <a href=\"https://www.openstreetmap.org/copyright\">OpenStreetMap</a> contributors",
       "base": true,
       "max_zoom": 19,
       "min_zoom": 1,
       "name": "OpenStreetMap.Mapnik",
       "options": [
        "attribution",
        "bounds",
        "detect_retina",
        "max_native_zoom",
        "max_zoom",
        "min_native_zoom",
        "min_zoom",
        "no_wrap",
        "tile_size",
        "tms",
        "zoom_offset"
       ],
       "url": "https://tile.openstreetmap.org/{z}/{x}/{y}.png"
      }
     },
     "9734ca9ae21340c08e0f7d70f8255aac": {
      "model_module": "@jupyter-widgets/controls",
      "model_module_version": "1.5.0",
      "model_name": "SelectionSliderModel",
      "state": {
       "_options_labels": [
        "13:00",
        "13:30",
        "14:00",
        "14:30",
        "15:00",
        "15:30",
        "16:00",
        "16:30"
       ],
       "description": "Time:",
       "index": 6,
       "layout": "IPY_MODEL_94488c41e3bc44e49ba4c96d183c963f",
       "style": "IPY_MODEL_dd2e6a4a3db540bd99b5088b3692d5f3"
      }
     },
     "975b08c55fbc4fa3a5274dcb02c011c9": {
      "model_module": "@jupyter-widgets/controls",
      "model_module_version": "1.5.0",
      "model_name": "LabelModel",
      "state": {
       "layout": "IPY_MODEL_53db0ea77b78447ab66232b2362065dc",
       "style": "IPY_MODEL_a6f2b44fde2a4007a40ce1377849242d",
       "value": "[48.5915664423796, 6.01393821501746]"
      }
     },
     "97620df4c9dd4ace9fc74252d12c5710": {
      "model_module": "jupyter-leaflet",
      "model_module_version": "^0.12.1",
      "model_name": "LeafletTileLayerModel",
      "state": {
       "_model_module_version": "^0.12.1",
       "_view_module_version": "^0.12.1",
       "attribution": "&copy; <a href=\"http://www.openstreetmap.org/copyright\">OpenStreetMap</a> &copy; <a href=\"http://cartodb.com/attributions\">CartoDB</a>",
       "base": true,
       "max_native_zoom": 18,
       "max_zoom": 20,
       "min_native_zoom": 0,
       "min_zoom": 1,
       "name": "CartoDB.Positron",
       "options": [
        "attribution",
        "detect_retina",
        "max_native_zoom",
        "max_zoom",
        "min_native_zoom",
        "min_zoom",
        "no_wrap",
        "tile_size",
        "tms"
       ],
       "url": "http://c.basemaps.cartocdn.com/light_all/{z}/{x}/{y}.png"
      }
     },
     "97c237aa6eff4e34a73b4e3143922049": {
      "model_module": "jupyter-leaflet",
      "model_module_version": "^0.12.1",
      "model_name": "LeafletAttributionControlModel",
      "state": {
       "_model_module_version": "^0.12.1",
       "_view_module_version": "^0.12.1",
       "options": [
        "position",
        "prefix"
       ],
       "position": "bottomright",
       "prefix": "Leaflet"
      }
     },
     "97c8bdfc1aaa40bb9b48a52c1cdfdf76": {
      "model_module": "@jupyter-widgets/base",
      "model_module_version": "1.2.0",
      "model_name": "LayoutModel",
      "state": {}
     },
     "97f46b0fa80445deb992ffc1a8282ed9": {
      "model_module": "jupyter-leaflet",
      "model_module_version": "~0.9.2",
      "model_name": "LeafletMapModel",
      "state": {
       "_model_module_version": "~0.9.2",
       "_view_module_version": "~0.9.2",
       "basemap": {
        "attribution": "Map data (c) <a href=\"https://openstreetmap.org\">OpenStreetMap</a> contributors",
        "max_zoom": 19,
        "url": "https://{s}.tile.openstreetmap.org/{z}/{x}/{y}.png"
       },
       "center": [
        43.6,
        1.44
       ],
       "east": 1.7742919921875002,
       "interpolation": "bilinear",
       "layers": [
        "IPY_MODEL_b80ad7606c5b4f399666673b6733b168"
       ],
       "layout": "IPY_MODEL_2f3eac376bd74697a9c40eb136cb50a3",
       "modisdate": "yesterday",
       "north": 43.79885402720353,
       "options": [
        "attribution_control",
        "basemap",
        "bounce_at_zoom_limits",
        "box_zoom",
        "center",
        "close_popup_on_click",
        "double_click_zoom",
        "dragging",
        "inertia",
        "inertia_deceleration",
        "inertia_max_speed",
        "interpolation",
        "keyboard",
        "keyboard_pan_offset",
        "keyboard_zoom_offset",
        "max_zoom",
        "min_zoom",
        "scroll_wheel_zoom",
        "tap",
        "tap_tolerance",
        "touch_zoom",
        "world_copy_jump",
        "zoom",
        "zoom_animation_threshold",
        "zoom_control",
        "zoom_start"
       ],
       "south": 43.401056495052906,
       "west": 1.1054992675781252,
       "window_url": "http://localhost:8888/notebooks/js/ipyleaflet.ipynb",
       "zoom": 10
      }
     },
     "9812de079dd94056940d5d968c84e513": {
      "model_module": "jupyter-leaflet",
      "model_module_version": "^0.17",
      "model_name": "LeafletTileLayerModel",
      "state": {
       "_model_module_version": "^0.17",
       "_view_module_version": "^0.17",
       "attribution": "Map tiles by <a href=\"https://labs.strava.com/heatmap\">Strava 2021</a>",
       "base": true,
       "max_zoom": 15,
       "min_zoom": 1,
       "name": "Strava.All",
       "options": [
        "attribution",
        "bounds",
        "detect_retina",
        "max_native_zoom",
        "max_zoom",
        "min_native_zoom",
        "min_zoom",
        "no_wrap",
        "tile_size",
        "tms",
        "zoom_offset"
       ],
       "url": "https://heatmap-external-a.strava.com/tiles/all/hot/{z}/{x}/{y}.png"
      }
     },
     "9875b01facb14eadb52dac6f4209811e": {
      "model_module": "jupyter-leaflet",
      "model_module_version": "^0.17",
      "model_name": "LeafletMapModel",
      "state": {
       "_model_module_version": "^0.17",
       "_view_module_version": "^0.17",
       "bottom": 44019925,
       "center": [
        52.5162,
        13.3777
       ],
       "controls": [
        "IPY_MODEL_c088cc5194b64dd09bc623025452faec",
        "IPY_MODEL_b23396d4394d4f919ab540be92128783",
        "IPY_MODEL_0fa3eab2a991477b9330efc9247fba2d"
       ],
       "default_style": "IPY_MODEL_ed26ea6445204b7daaf3fe0e918c99cc",
       "dragging_style": "IPY_MODEL_fed60530c9e445d3922c3a6c48e8a29c",
       "east": 13.37900072336197,
       "fullscreen": false,
       "interpolation": "bilinear",
       "layers": [
        "IPY_MODEL_f8acf8ce821f41d290350036e9d8f22e"
       ],
       "layout": "IPY_MODEL_5a407cdbc45b4798b065af559e22a6b5",
       "left": 72095948,
       "modisdate": "2023-07-11",
       "north": 52.516526088551366,
       "options": [
        "bounce_at_zoom_limits",
        "box_zoom",
        "center",
        "close_popup_on_click",
        "double_click_zoom",
        "dragging",
        "fullscreen",
        "inertia",
        "inertia_deceleration",
        "inertia_max_speed",
        "interpolation",
        "keyboard",
        "keyboard_pan_offset",
        "keyboard_zoom_offset",
        "max_zoom",
        "min_zoom",
        "prefer_canvas",
        "scroll_wheel_zoom",
        "tap",
        "tap_tolerance",
        "touch_zoom",
        "world_copy_jump",
        "zoom",
        "zoom_animation_threshold",
        "zoom_delta",
        "zoom_snap"
       ],
       "prefer_canvas": false,
       "right": 72096917,
       "south": 52.515873199079344,
       "style": "IPY_MODEL_ed26ea6445204b7daaf3fe0e918c99cc",
       "top": 44019525,
       "west": 13.37640166282654,
       "window_url": "http://localhost:8888/notebooks/js/ipyleaflet.ipynb#",
       "zoom": 25
      }
     },
     "98dea48e9978476180c167eaa75efda7": {
      "model_module": "jupyter-leaflet",
      "model_module_version": "^0.12.1",
      "model_name": "LeafletTileLayerModel",
      "state": {
       "_model_module_version": "^0.12.1",
       "_view_module_version": "^0.12.1",
       "attribution": "&copy; <a href=\"http://www.openstreetmap.org/copyright\">OpenStreetMap</a> &copy; <a href=\"http://cartodb.com/attributions\">CartoDB</a>",
       "base": true,
       "max_native_zoom": 18,
       "max_zoom": 20,
       "min_native_zoom": 0,
       "min_zoom": 1,
       "name": "CartoDB.Positron",
       "options": [
        "attribution",
        "detect_retina",
        "max_native_zoom",
        "max_zoom",
        "min_native_zoom",
        "min_zoom",
        "no_wrap",
        "tile_size",
        "tms"
       ],
       "url": "http://c.basemaps.cartocdn.com/light_all/{z}/{x}/{y}.png"
      }
     },
     "9913471183154beba366547952539b21": {
      "model_module": "jupyter-leaflet",
      "model_module_version": "^0.17",
      "model_name": "LeafletMapStyleModel",
      "state": {
       "_model_module_version": "^0.17"
      }
     },
     "99477f57c1514c26b771b73787f6457d": {
      "model_module": "jupyter-leaflet",
      "model_module_version": "^0.12.1",
      "model_name": "LeafletZoomControlModel",
      "state": {
       "_model_module_version": "^0.12.1",
       "_view_module_version": "^0.12.1",
       "options": [
        "position",
        "zoom_in_text",
        "zoom_in_title",
        "zoom_out_text",
        "zoom_out_title"
       ]
      }
     },
     "9968de95942445afa52f32d511e61aee": {
      "model_module": "jupyter-leaflet",
      "model_module_version": "^0.12.1",
      "model_name": "LeafletMapStyleModel",
      "state": {
       "_model_module_version": "^0.12.1",
       "cursor": "move"
      }
     },
     "998a9b816d1e49ef956399e528420182": {
      "model_module": "@jupyter-widgets/base",
      "model_module_version": "1.2.0",
      "model_name": "LayoutModel",
      "state": {}
     },
     "999f7c8d99cc4a40a621e885ed469701": {
      "model_module": "@jupyter-widgets/base",
      "model_module_version": "1.2.0",
      "model_name": "LayoutModel",
      "state": {}
     },
     "99c814030b8d4b49986a5db2370f51a2": {
      "model_module": "jupyter-leaflet",
      "model_module_version": "^0.12.1",
      "model_name": "LeafletMapStyleModel",
      "state": {
       "_model_module_version": "^0.12.1",
       "cursor": "move"
      }
     },
     "99cdf3382e2648a89e18365e0e7d05c1": {
      "model_module": "@jupyter-widgets/base",
      "model_module_version": "1.2.0",
      "model_name": "LayoutModel",
      "state": {}
     },
     "99ee61a72c214b538f395429819ce4cd": {
      "model_module": "@jupyter-widgets/controls",
      "model_module_version": "1.5.0",
      "model_name": "LabelModel",
      "state": {
       "layout": "IPY_MODEL_24195b94e39c46e2a2438f33653e2575",
       "style": "IPY_MODEL_5f2cf37fba2e4126b3e84ab51faaa8f1",
       "value": "[52.62075352870125, 12.73176639410721]"
      }
     },
     "9a2b26e3718c413fb7a182d21c7e4bad": {
      "model_module": "jupyter-leaflet",
      "model_module_version": "^0.17",
      "model_name": "LeafletMapModel",
      "state": {
       "_model_module_version": "^0.17",
       "_view_module_version": "^0.17",
       "bottom": 344104,
       "center": [
        52.5162,
        13.3777
       ],
       "controls": [
        "IPY_MODEL_e51bede45d254aabacc10c0db25395c7",
        "IPY_MODEL_de464bef28c043678fc2d5e07f5595c8",
        "IPY_MODEL_0d27734f5eea4d578556d106e8df6b83"
       ],
       "default_style": "IPY_MODEL_7d8392f936f84cbebc4dc1721ad7d045",
       "dragging_style": "IPY_MODEL_273324adb29c4c1797448ca137a67c30",
       "east": 13.544082641601564,
       "fullscreen": false,
       "interpolation": "bilinear",
       "layers": [
        "IPY_MODEL_83d061351f314a2487e3236124c75ce3"
       ],
       "layout": "IPY_MODEL_338cf134823d46efa91c99910e67f246",
       "left": 562769,
       "modisdate": "2023-07-11",
       "north": 52.55798590427374,
       "options": [
        "bounce_at_zoom_limits",
        "box_zoom",
        "center",
        "close_popup_on_click",
        "double_click_zoom",
        "dragging",
        "fullscreen",
        "inertia",
        "inertia_deceleration",
        "inertia_max_speed",
        "interpolation",
        "keyboard",
        "keyboard_pan_offset",
        "keyboard_zoom_offset",
        "max_zoom",
        "min_zoom",
        "prefer_canvas",
        "scroll_wheel_zoom",
        "tap",
        "tap_tolerance",
        "touch_zoom",
        "world_copy_jump",
        "zoom",
        "zoom_animation_threshold",
        "zoom_delta",
        "zoom_snap"
       ],
       "prefer_canvas": false,
       "right": 563738,
       "south": 52.47441608702583,
       "style": "IPY_MODEL_f23abaa834f9460fab423fc5fd5fbc6b",
       "top": 343704,
       "west": 13.211402893066408,
       "window_url": "http://localhost:8888/notebooks/js/ipyleaflet.ipynb#"
      }
     },
     "9a623d82ed5845ef9b7a2b1044ca23ac": {
      "model_module": "@jupyter-widgets/base",
      "model_module_version": "1.2.0",
      "model_name": "LayoutModel",
      "state": {}
     },
     "9a8e7b4b2e084a3c9b83e90a4cbee802": {
      "model_module": "@jupyter-widgets/controls",
      "model_module_version": "1.5.0",
      "model_name": "DescriptionStyleModel",
      "state": {
       "description_width": ""
      }
     },
     "9aae6317a4034b939de53429cec3c1db": {
      "model_module": "jupyter-leaflet",
      "model_module_version": "^0.12.1",
      "model_name": "LeafletMapStyleModel",
      "state": {
       "_model_module_version": "^0.12.1"
      }
     },
     "9b02b2cc442e48f8995e3ecc5da8d3f6": {
      "model_module": "jupyter-leaflet",
      "model_module_version": "^0.17",
      "model_name": "LeafletMapStyleModel",
      "state": {
       "_model_module_version": "^0.17",
       "cursor": "move"
      }
     },
     "9b178a5f3d3f43f7b2e97c893fcb0f3e": {
      "model_module": "jupyter-leaflet",
      "model_module_version": "^0.12.6",
      "model_name": "LeafletMapModel",
      "state": {
       "_model_module_version": "^0.12.6",
       "_view_module_version": "^0.12.6",
       "center": [
        48,
        8
       ],
       "controls": [
        "IPY_MODEL_df363a44d31e417285526dbd97e81860",
        "IPY_MODEL_5c53ff7c3ebd4532b7cd98f0aa8d0af1"
       ],
       "default_style": "IPY_MODEL_22f4532e82704104ae82f27207df5823",
       "dragging_style": "IPY_MODEL_26e6aba732264b63823f1e8c8a019f95",
       "east": 10.695190429687502,
       "fullscreen": false,
       "interpolation": "bilinear",
       "layers": [
        "IPY_MODEL_1ba06635127f432e9d5eb280f592e7c5",
        "IPY_MODEL_e2290144b4a04c66b6a7353d94778fc7"
       ],
       "layout": "IPY_MODEL_f2e61303f8d1442384585e8e5eca91d4",
       "modisdate": "yesterday",
       "north": 48.73083222613518,
       "options": [
        "bounce_at_zoom_limits",
        "box_zoom",
        "center",
        "close_popup_on_click",
        "double_click_zoom",
        "dragging",
        "fullscreen",
        "inertia",
        "inertia_deceleration",
        "inertia_max_speed",
        "interpolation",
        "keyboard",
        "keyboard_pan_offset",
        "keyboard_zoom_offset",
        "max_zoom",
        "min_zoom",
        "scroll_wheel_zoom",
        "tap",
        "tap_tolerance",
        "touch_zoom",
        "world_copy_jump",
        "zoom",
        "zoom_animation_threshold",
        "zoom_start"
       ],
       "south": 47.260592193424706,
       "style": "IPY_MODEL_a1f368baf08a463b8864f1ea5fe9a9ec",
       "west": 5.300903320312501,
       "window_url": "http://localhost:8888/notebooks/js/ipyleaflet.ipynb",
       "zoom": 8
      }
     },
     "9b299cae66c4462eb307f0e1b45da4bc": {
      "model_module": "@jupyter-widgets/base",
      "model_module_version": "1.2.0",
      "model_name": "LayoutModel",
      "state": {}
     },
     "9b590ba3a72f44d28044e0df76aed117": {
      "model_module": "jupyter-leaflet",
      "model_module_version": "^0.12.1",
      "model_name": "LeafletMapStyleModel",
      "state": {
       "_model_module_version": "^0.12.1"
      }
     },
     "9b7941fc2c9941019d205127d08c5c9e": {
      "model_module": "jupyter-leaflet",
      "model_module_version": "^0.17",
      "model_name": "LeafletMapStyleModel",
      "state": {
       "_model_module_version": "^0.17"
      }
     },
     "9b8e4b995034409086581a2b7386a981": {
      "model_module": "jupyter-leaflet",
      "model_module_version": "^0.12.1",
      "model_name": "LeafletTileLayerModel",
      "state": {
       "_model_module_version": "^0.12.1",
       "_view_module_version": "^0.12.1",
       "attribution": "Map tiles by <a href=\"https://labs.strava.com/heatmap\">Strava 2017</a>",
       "max_native_zoom": 18,
       "max_zoom": 15,
       "min_native_zoom": 0,
       "min_zoom": 1,
       "name": "Strava.Water",
       "options": [
        "attribution",
        "detect_retina",
        "max_native_zoom",
        "max_zoom",
        "min_native_zoom",
        "min_zoom",
        "no_wrap",
        "tile_size",
        "tms"
       ],
       "url": "https://heatmap-external-a.strava.com//tiles/water/blue/{z}/{x}/{y}.png?v=19"
      }
     },
     "9bb338c422254bb7bca17353fdaf8d63": {
      "model_module": "@jupyter-widgets/base",
      "model_module_version": "1.2.0",
      "model_name": "LayoutModel",
      "state": {}
     },
     "9bda07807e3a40f28cc3d5dddc56f727": {
      "model_module": "jupyter-leaflet",
      "model_module_version": "^0.12.1",
      "model_name": "LeafletMapStyleModel",
      "state": {
       "_model_module_version": "^0.12.1",
       "cursor": "move"
      }
     },
     "9be17019c2a2471eb90f51cfd67cc954": {
      "model_module": "jupyter-leaflet",
      "model_module_version": "^0.17",
      "model_name": "LeafletTileLayerModel",
      "state": {
       "_model_module_version": "^0.17",
       "_view_module_version": "^0.17",
       "attribution": "&copy; <a href=\"https://www.openstreetmap.org/copyright\">OpenStreetMap</a> contributors &copy; <a href=\"https://carto.com/attributions\">CARTO</a>",
       "base": true,
       "max_zoom": 20,
       "min_zoom": 1,
       "name": "CartoDB.Positron",
       "options": [
        "attribution",
        "bounds",
        "detect_retina",
        "max_native_zoom",
        "max_zoom",
        "min_native_zoom",
        "min_zoom",
        "no_wrap",
        "tile_size",
        "tms",
        "zoom_offset"
       ],
       "url": "https://a.basemaps.cartocdn.com/light_all/{z}/{x}/{y}.png"
      }
     },
     "9c1677ba6c6940a9b87e67c2e8e6292b": {
      "model_module": "jupyter-leaflet",
      "model_module_version": "~0.9.2",
      "model_name": "LeafletTileLayerModel",
      "state": {
       "_model_module_version": "~0.9.2",
       "_view_module_version": "~0.9.2",
       "attribution": "Map tiles by <a href=\"https://labs.strava.com/heatmap\">Strava 2017</a>",
       "max_zoom": 15,
       "min_zoom": 1,
       "name": "Strava.All",
       "options": [
        "attribution",
        "detect_retina",
        "max_zoom",
        "min_zoom",
        "tile_size"
       ],
       "url": "https://heatmap-external-a.strava.com//tiles/all/hot/{z}/{x}/{y}.png?v=19"
      }
     },
     "9c30686ac30a41cea3bdc9601420505f": {
      "model_module": "jupyter-leaflet",
      "model_module_version": "^0.17",
      "model_name": "LeafletZoomControlModel",
      "state": {
       "_model_module_version": "^0.17",
       "_view_module_version": "^0.17",
       "options": [
        "position",
        "zoom_in_text",
        "zoom_in_title",
        "zoom_out_text",
        "zoom_out_title"
       ]
      }
     },
     "9c4160711d1643d5b9d993ca55c3a056": {
      "model_module": "jupyter-leaflet",
      "model_module_version": "^0.17",
      "model_name": "LeafletMapModel",
      "state": {
       "_model_module_version": "^0.17",
       "_view_module_version": "^0.17",
       "bottom": 5574,
       "center": [
        52.5162,
        13.3777
       ],
       "controls": [
        "IPY_MODEL_2c894ec33f334a47a22e4cc6deb075e0",
        "IPY_MODEL_b6fafb03728145ca8d6e86106b47d2a6"
       ],
       "default_style": "IPY_MODEL_ee8573c8c4364179a4ee47c982f1b46e",
       "dragging_style": "IPY_MODEL_9376071f192e435d857a4536c9bafbb4",
       "east": 24.01611328125,
       "fullscreen": false,
       "interpolation": "bilinear",
       "layers": [
        "IPY_MODEL_b07cff6678bb4f56b2f9c3494534d65e"
       ],
       "layout": "IPY_MODEL_e3d6e61a7e554387b1bb7b62c3b3d1af",
       "left": 8316,
       "modisdate": "2023-07-11",
       "north": 55.10351605801967,
       "options": [
        "bounce_at_zoom_limits",
        "box_zoom",
        "center",
        "close_popup_on_click",
        "double_click_zoom",
        "dragging",
        "fullscreen",
        "inertia",
        "inertia_deceleration",
        "inertia_max_speed",
        "interpolation",
        "keyboard",
        "keyboard_pan_offset",
        "keyboard_zoom_offset",
        "max_zoom",
        "min_zoom",
        "prefer_canvas",
        "scroll_wheel_zoom",
        "tap",
        "tap_tolerance",
        "touch_zoom",
        "world_copy_jump",
        "zoom",
        "zoom_animation_threshold",
        "zoom_delta",
        "zoom_snap"
       ],
       "prefer_canvas": false,
       "right": 9285,
       "south": 49.75287993415023,
       "style": "IPY_MODEL_f399ed6fb12d43bdba5f0b4b7cc6f7a6",
       "top": 5174,
       "west": 2.7246093750000004,
       "window_url": "http://localhost:8888/notebooks/js/ipyleaflet.ipynb#",
       "zoom": 6
      }
     },
     "9c48bc5aab1648548a1f2f90725296fe": {
      "model_module": "jupyter-leaflet",
      "model_module_version": "^0.17",
      "model_name": "LeafletMapModel",
      "state": {
       "_model_module_version": "^0.17",
       "_view_module_version": "^0.17",
       "bottom": 3175,
       "center": [
        44.128,
        1.5
       ],
       "controls": [
        "IPY_MODEL_0aa80615ec4f46a28b14b37c90ba72f0",
        "IPY_MODEL_fcb053e7a78f486692958b1677a9aec9"
       ],
       "default_style": "IPY_MODEL_b8180c7fc9dc45bf91e57c59330eedb0",
       "dragging_style": "IPY_MODEL_a7fa0848fe9a40ba8480aca8527bb2d6",
       "east": 22.8076171875,
       "fullscreen": false,
       "interpolation": "bilinear",
       "layers": [
        "IPY_MODEL_9724ed3178d546dd82086c78245fe1fa"
       ],
       "layout": "IPY_MODEL_33997f23612343c09f02b9ab4e7045be",
       "left": 3646,
       "modisdate": "2023-07-11",
       "north": 50.0923932109388,
       "options": [
        "bounce_at_zoom_limits",
        "box_zoom",
        "center",
        "close_popup_on_click",
        "double_click_zoom",
        "dragging",
        "fullscreen",
        "inertia",
        "inertia_deceleration",
        "inertia_max_speed",
        "interpolation",
        "keyboard",
        "keyboard_pan_offset",
        "keyboard_zoom_offset",
        "max_zoom",
        "min_zoom",
        "prefer_canvas",
        "scroll_wheel_zoom",
        "tap",
        "tap_tolerance",
        "touch_zoom",
        "world_copy_jump",
        "zoom",
        "zoom_animation_threshold",
        "zoom_delta",
        "zoom_snap"
       ],
       "prefer_canvas": false,
       "right": 4615,
       "south": 37.474858084971046,
       "style": "IPY_MODEL_4c2137833df7427c86bf21f139cdd19a",
       "top": 2775,
       "west": -19.775390625,
       "window_url": "http://localhost:8888/notebooks/js/ipyleaflet.ipynb#",
       "zoom": 5
      }
     },
     "9c97ed6be840486bb272022501bd93c1": {
      "model_module": "jupyter-leaflet",
      "model_module_version": "^0.17",
      "model_name": "LeafletMapStyleModel",
      "state": {
       "_model_module_version": "^0.17"
      }
     },
     "9cca2a922db74ac2a45d308a30fa19ff": {
      "model_module": "jupyter-leaflet",
      "model_module_version": "^0.12.1",
      "model_name": "LeafletLayersControlModel",
      "state": {
       "_model_module_version": "^0.12.1",
       "_view_module_version": "^0.12.1",
       "options": [
        "position"
       ]
      }
     },
     "9cd552d5757141a1a35bb4e2ee0025da": {
      "model_module": "@jupyter-widgets/base",
      "model_module_version": "1.2.0",
      "model_name": "LayoutModel",
      "state": {}
     },
     "9ce5f694ade343d4934c2bc8af1273c9": {
      "model_module": "@jupyter-widgets/controls",
      "model_module_version": "1.5.0",
      "model_name": "HBoxModel",
      "state": {
       "children": [
        "IPY_MODEL_357b740044d546d5ab4fcb2350704dbc",
        "IPY_MODEL_8ea4f7b59f3846888aa27804a8b7bd6b"
       ],
       "layout": "IPY_MODEL_9b299cae66c4462eb307f0e1b45da4bc"
      }
     },
     "9cecc09a2cf842b395ca3a4f4186b5c1": {
      "model_module": "jupyter-leaflet",
      "model_module_version": "^0.12.1",
      "model_name": "LeafletMapStyleModel",
      "state": {
       "_model_module_version": "^0.12.1"
      }
     },
     "9cedd982cc9a4789b3a7b675bf727210": {
      "model_module": "jupyter-leaflet",
      "model_module_version": "^0.12.1",
      "model_name": "LeafletMapStyleModel",
      "state": {
       "_model_module_version": "^0.12.1",
       "cursor": "move"
      }
     },
     "9d237ade58a4477a9e294648e35868c2": {
      "model_module": "jupyter-leaflet",
      "model_module_version": "^0.17",
      "model_name": "LeafletMapModel",
      "state": {
       "_model_module_version": "^0.17",
       "_view_module_version": "^0.17",
       "bottom": 2887,
       "center": [
        52.5162,
        13.3777
       ],
       "controls": [
        "IPY_MODEL_6e9f60370eeb4033868c05b0c51408e7",
        "IPY_MODEL_e5495425f99f44e897b2cc5bf6127a65"
       ],
       "default_style": "IPY_MODEL_fa6ba364617e40e49b2ee59b0083545c",
       "dragging_style": "IPY_MODEL_de2c4499449447358f5e8b7df8737e2c",
       "east": 23.950195312500004,
       "fullscreen": false,
       "interpolation": "bilinear",
       "layers": [
        "IPY_MODEL_416e40a59ba24909907210bbd61da42a"
       ],
       "layout": "IPY_MODEL_7e654d6246fe4ceba80faefe11fb6862",
       "left": 4159,
       "modisdate": "2023-07-11",
       "north": 57.539416794474995,
       "options": [
        "bounce_at_zoom_limits",
        "box_zoom",
        "center",
        "close_popup_on_click",
        "double_click_zoom",
        "dragging",
        "fullscreen",
        "inertia",
        "inertia_deceleration",
        "inertia_max_speed",
        "interpolation",
        "keyboard",
        "keyboard_pan_offset",
        "keyboard_zoom_offset",
        "max_zoom",
        "min_zoom",
        "prefer_canvas",
        "scroll_wheel_zoom",
        "tap",
        "tap_tolerance",
        "touch_zoom",
        "world_copy_jump",
        "zoom",
        "zoom_animation_threshold",
        "zoom_delta",
        "zoom_snap"
       ],
       "prefer_canvas": false,
       "right": 4641,
       "south": 46.830133640447414,
       "style": "IPY_MODEL_2abb5cd4ab8f43d38a5bb8c0a8874319",
       "top": 2487,
       "west": 2.7685546875000004,
       "window_url": "http://localhost:8888/notebooks/js/ipyleaflet.ipynb#",
       "zoom": 5
      }
     },
     "9d4acbabe89044be90d61dadc8a1910d": {
      "model_module": "jupyter-leaflet",
      "model_module_version": "^0.17",
      "model_name": "LeafletMapStyleModel",
      "state": {
       "_model_module_version": "^0.17",
       "cursor": "move"
      }
     },
     "9d80ea246f28492c828e8921e018abc7": {
      "model_module": "@jupyter-widgets/base",
      "model_module_version": "1.2.0",
      "model_name": "LayoutModel",
      "state": {}
     },
     "9dcaa0d312c745939b9f0ba3062f2f66": {
      "model_module": "jupyter-leaflet",
      "model_module_version": "^0.17",
      "model_name": "LeafletTileLayerModel",
      "state": {
       "_model_module_version": "^0.17",
       "_view_module_version": "^0.17",
       "attribution": "&copy; <a href=\"https://www.openstreetmap.org/copyright\">OpenStreetMap</a> contributors",
       "base": true,
       "max_zoom": 19,
       "min_zoom": 1,
       "name": "OpenStreetMap.Mapnik",
       "options": [
        "attribution",
        "bounds",
        "detect_retina",
        "max_native_zoom",
        "max_zoom",
        "min_native_zoom",
        "min_zoom",
        "no_wrap",
        "tile_size",
        "tms",
        "zoom_offset"
       ],
       "url": "https://tile.openstreetmap.org/{z}/{x}/{y}.png"
      }
     },
     "9e1449ada1294ea9b20d2313b9f10cbc": {
      "model_module": "@jupyter-widgets/base",
      "model_module_version": "1.2.0",
      "model_name": "LayoutModel",
      "state": {}
     },
     "9e289d919c7f47e797cbaebbb404edbf": {
      "model_module": "jupyter-leaflet",
      "model_module_version": "^0.17",
      "model_name": "LeafletMapStyleModel",
      "state": {
       "_model_module_version": "^0.17"
      }
     },
     "9e694740cf5944c2b87fc9f164c0a39b": {
      "model_module": "jupyter-leaflet",
      "model_module_version": "~0.9.2",
      "model_name": "LeafletTileLayerModel",
      "state": {
       "_model_module_version": "~0.9.2",
       "_view_module_version": "~0.9.2",
       "attribution": "Tiles courtesy of <a href=\"http://openstreetmap.se/\" target=\"_blank\">OpenStreetMap Sweden</a> &mdash; Map data &copy; <a href=\"http://www.openstreetmap.org/copyright\">OpenStreetMap</a>",
       "base": true,
       "min_zoom": 1,
       "name": "Hydda.Full",
       "options": [
        "attribution",
        "detect_retina",
        "max_zoom",
        "min_zoom",
        "tile_size"
       ],
       "url": "http://{s}.tile.openstreetmap.se/hydda/full/{z}/{x}/{y}.png"
      }
     },
     "9eb800e558a849aab48b7f3e3dcc8b15": {
      "model_module": "@jupyter-widgets/base",
      "model_module_version": "1.2.0",
      "model_name": "LayoutModel",
      "state": {}
     },
     "9ec6c05779064248b6cbdcde8244b2fd": {
      "model_module": "jupyter-leaflet",
      "model_module_version": "^0.17",
      "model_name": "LeafletMapModel",
      "state": {
       "_model_module_version": "^0.17",
       "_view_module_version": "^0.17",
       "bottom": 5574,
       "center": [
        52.5162,
        13.3777
       ],
       "controls": [
        "IPY_MODEL_d192dd98888f4210bfcc5664d058ca35",
        "IPY_MODEL_87bf3403759d4673bed50b2291b76712"
       ],
       "default_style": "IPY_MODEL_379860c6597741058c88dde95b85571b",
       "dragging_style": "IPY_MODEL_b9f95dfa2b9c491ea0ecf52dea1598d2",
       "east": 24.01611328125,
       "fullscreen": false,
       "interpolation": "bilinear",
       "layers": [
        "IPY_MODEL_86dbdd68a27540faa27809766769fc36"
       ],
       "layout": "IPY_MODEL_ea2ebb3920bb46ad9f50e9027995b0c9",
       "left": 8316,
       "modisdate": "2023-07-11",
       "north": 55.10351605801967,
       "options": [
        "bounce_at_zoom_limits",
        "box_zoom",
        "center",
        "close_popup_on_click",
        "double_click_zoom",
        "dragging",
        "fullscreen",
        "inertia",
        "inertia_deceleration",
        "inertia_max_speed",
        "interpolation",
        "keyboard",
        "keyboard_pan_offset",
        "keyboard_zoom_offset",
        "max_zoom",
        "min_zoom",
        "prefer_canvas",
        "scroll_wheel_zoom",
        "tap",
        "tap_tolerance",
        "touch_zoom",
        "world_copy_jump",
        "zoom",
        "zoom_animation_threshold",
        "zoom_delta",
        "zoom_snap"
       ],
       "prefer_canvas": false,
       "right": 9285,
       "south": 49.75287993415023,
       "style": "IPY_MODEL_f165d784be574cd7829cec91e6f9038e",
       "top": 5174,
       "west": 2.7246093750000004,
       "window_url": "http://localhost:8888/notebooks/js/ipyleaflet.ipynb#",
       "zoom": 6
      }
     },
     "9ec9737151454ecf8902796fd725849f": {
      "model_module": "@jupyter-widgets/base",
      "model_module_version": "1.2.0",
      "model_name": "LayoutModel",
      "state": {}
     },
     "9ecbf233c2de4d35872e529bb0201d24": {
      "model_module": "jupyter-leaflet",
      "model_module_version": "^0.12.1",
      "model_name": "LeafletTileLayerModel",
      "state": {
       "_model_module_version": "^0.12.1",
       "_view_module_version": "^0.12.1",
       "attribution": "Tiles courtesy of <a href=\"http://openstreetmap.se/\" target=\"_blank\">OpenStreetMap Sweden</a> &mdash; Map data &copy; <a href=\"http://www.openstreetmap.org/copyright\">OpenStreetMap</a>",
       "base": true,
       "max_native_zoom": 18,
       "min_native_zoom": 0,
       "min_zoom": 1,
       "name": "Hydda.Full",
       "options": [
        "attribution",
        "detect_retina",
        "max_native_zoom",
        "max_zoom",
        "min_native_zoom",
        "min_zoom",
        "no_wrap",
        "tile_size",
        "tms"
       ],
       "url": "http://{s}.tile.openstreetmap.se/hydda/full/{z}/{x}/{y}.png"
      }
     },
     "9f09bce1cbde4dd1a1632fe26532512f": {
      "model_module": "jupyter-leaflet",
      "model_module_version": "^0.11.6",
      "model_name": "LeafletTileLayerModel",
      "state": {
       "_model_module_version": "^0.11.6",
       "_view_module_version": "^0.11.6",
       "attribution": "Tiles courtesy of <a href=\"http://openstreetmap.se/\" target=\"_blank\">OpenStreetMap Sweden</a> &mdash; Map data &copy; <a href=\"http://www.openstreetmap.org/copyright\">OpenStreetMap</a>",
       "base": true,
       "max_native_zoom": 18,
       "min_native_zoom": 0,
       "min_zoom": 1,
       "name": "Hydda.Full",
       "options": [
        "attribution",
        "detect_retina",
        "max_native_zoom",
        "max_zoom",
        "min_native_zoom",
        "min_zoom",
        "no_wrap",
        "tile_size",
        "tms"
       ],
       "url": "http://{s}.tile.openstreetmap.se/hydda/full/{z}/{x}/{y}.png"
      }
     },
     "9f51004f53114ace83b2f09f2c78f85b": {
      "model_module": "@jupyter-widgets/base",
      "model_module_version": "1.2.0",
      "model_name": "LayoutModel",
      "state": {}
     },
     "9fa267c3ebe64c269a315ceb4fe944b9": {
      "model_module": "jupyter-leaflet",
      "model_module_version": "^0.12.1",
      "model_name": "LeafletMapStyleModel",
      "state": {
       "_model_module_version": "^0.12.1"
      }
     },
     "9fbc5b4e93584853950a11fd8f286279": {
      "model_module": "jupyter-leaflet",
      "model_module_version": "^0.17",
      "model_name": "LeafletZoomControlModel",
      "state": {
       "_model_module_version": "^0.17",
       "_view_module_version": "^0.17",
       "options": [
        "position",
        "zoom_in_text",
        "zoom_in_title",
        "zoom_out_text",
        "zoom_out_title"
       ]
      }
     },
     "9ff59ba999a34c35932be02228a871e5": {
      "model_module": "@jupyter-widgets/controls",
      "model_module_version": "1.5.0",
      "model_name": "LabelModel",
      "state": {
       "layout": "IPY_MODEL_d7a8a36001c34dea986ca55ac427c905",
       "style": "IPY_MODEL_b13e751336b44a7b94b7776f35fe15a9",
       "value": "[52.51712380037662, 13.387518078157948]"
      }
     },
     "9ff6bca9f2d54869adc9858906f57c04": {
      "model_module": "jupyter-leaflet",
      "model_module_version": "^0.17",
      "model_name": "LeafletMapModel",
      "state": {
       "_model_module_version": "^0.17",
       "_view_module_version": "^0.17",
       "bottom": 2751433,
       "center": [
        52.5162,
        13.3777
       ],
       "controls": [
        "IPY_MODEL_bede2c537e774e7ba8795d2d024b6411",
        "IPY_MODEL_633c6526784d477f80e26ecf73747b0d"
       ],
       "default_style": "IPY_MODEL_1692ae33321443a18f806905b725b6b6",
       "dragging_style": "IPY_MODEL_03fe45f61b06481db28200d79442710a",
       "east": 13.388042449951174,
       "fullscreen": false,
       "interpolation": "bilinear",
       "layers": [
        "IPY_MODEL_52b85a95813f404b946fc64e5891f7b1"
       ],
       "layout": "IPY_MODEL_5e5fe3d65ed14c1dbc3bf24030f884ab",
       "left": 4505786,
       "modisdate": "2023-07-11",
       "north": 52.5214175542779,
       "options": [
        "bounce_at_zoom_limits",
        "box_zoom",
        "center",
        "close_popup_on_click",
        "double_click_zoom",
        "dragging",
        "fullscreen",
        "inertia",
        "inertia_deceleration",
        "inertia_max_speed",
        "interpolation",
        "keyboard",
        "keyboard_pan_offset",
        "keyboard_zoom_offset",
        "max_zoom",
        "min_zoom",
        "prefer_canvas",
        "scroll_wheel_zoom",
        "tap",
        "tap_tolerance",
        "touch_zoom",
        "world_copy_jump",
        "zoom",
        "zoom_animation_threshold",
        "zoom_delta",
        "zoom_snap"
       ],
       "prefer_canvas": false,
       "right": 4506268,
       "south": 52.510971321551494,
       "style": "IPY_MODEL_ee486e6509344bd69c10c9a49ed21813",
       "top": 2751033,
       "west": 13.367357254028322,
       "window_url": "http://localhost:8888/notebooks/js/ipyleaflet.ipynb#",
       "zoom": 15
      }
     },
     "a0347d8158984da093ce4a06e0aba030": {
      "model_module": "jupyter-leaflet",
      "model_module_version": "^0.12.1",
      "model_name": "LeafletMapModel",
      "state": {
       "_model_module_version": "^0.12.1",
       "_view_module_version": "^0.12.1",
       "center": [
        30.675715404167743,
        -88.63769531250001
       ],
       "controls": [
        "IPY_MODEL_2fc5b8afa16f44d38e46268fde768960",
        "IPY_MODEL_11c4f5a15cf64b14a44224a7b87f4a9e"
       ],
       "default_style": "IPY_MODEL_43f000f9e8c640f3b6d13f8a0ef2f10d",
       "dragging_style": "IPY_MODEL_01091223f140422d86a27b4c2e27affb",
       "east": -180,
       "fullscreen": false,
       "interpolation": "bilinear",
       "layers": [
        "IPY_MODEL_2119c3b3c14e4b308d25478587947b80",
        "IPY_MODEL_310711b9f3db411ebe77b96017aae62a"
       ],
       "layout": "IPY_MODEL_24bb3a1618564a588ab5802981aa0bf3",
       "modisdate": "yesterday",
       "north": -90,
       "options": [
        "bounce_at_zoom_limits",
        "box_zoom",
        "center",
        "close_popup_on_click",
        "double_click_zoom",
        "dragging",
        "fullscreen",
        "inertia",
        "inertia_deceleration",
        "inertia_max_speed",
        "interpolation",
        "keyboard",
        "keyboard_pan_offset",
        "keyboard_zoom_offset",
        "max_zoom",
        "min_zoom",
        "scroll_wheel_zoom",
        "tap",
        "tap_tolerance",
        "touch_zoom",
        "world_copy_jump",
        "zoom",
        "zoom_animation_threshold",
        "zoom_start"
       ],
       "south": 90,
       "style": "IPY_MODEL_43f000f9e8c640f3b6d13f8a0ef2f10d",
       "west": 180,
       "window_url": "http://localhost:8888/notebooks/js/ipyleaflet.ipynb",
       "zoom": 5
      }
     },
     "a0877923892844938ec97a64dc8e2b5a": {
      "model_module": "@jupyter-widgets/base",
      "model_module_version": "1.2.0",
      "model_name": "LayoutModel",
      "state": {}
     },
     "a0a45b2a90764546890bc14413803742": {
      "model_module": "@jupyter-widgets/controls",
      "model_module_version": "1.5.0",
      "model_name": "LabelModel",
      "state": {
       "layout": "IPY_MODEL_cc338c8ea012429eb400c9e812337302",
       "style": "IPY_MODEL_e19414a88f8640518ad0d9bcc30fa71a",
       "value": "[52.51595138309497, 13.377036037984064]"
      }
     },
     "a0cf11b61e3d4f5a963e09d11dd6e9ec": {
      "model_module": "@jupyter-widgets/base",
      "model_module_version": "1.2.0",
      "model_name": "LayoutModel",
      "state": {}
     },
     "a0fd1dfc5d4d4bac97aeb5f361ea3052": {
      "model_module": "jupyter-leaflet",
      "model_module_version": "^0.12.1",
      "model_name": "LeafletMapStyleModel",
      "state": {
       "_model_module_version": "^0.12.1"
      }
     },
     "a123d52685564478b9c349ab98195b06": {
      "model_module": "@jupyter-widgets/controls",
      "model_module_version": "1.5.0",
      "model_name": "HBoxModel",
      "state": {
       "children": [
        "IPY_MODEL_2a0f6d89c0844b93a69ef9742d7acb6b",
        "IPY_MODEL_e27658e30b9b452594d2d8f9d49475ed"
       ],
       "layout": "IPY_MODEL_1d41ee65b30f4d4db7a473e757de33a4"
      }
     },
     "a13c2e18edbd47cdb127fdfb9997f85e": {
      "model_module": "@jupyter-widgets/base",
      "model_module_version": "1.2.0",
      "model_name": "LayoutModel",
      "state": {}
     },
     "a17fee91d1b446cf9561b945f8be99a4": {
      "model_module": "jupyter-leaflet",
      "model_module_version": "^0.12.1",
      "model_name": "LeafletAttributionControlModel",
      "state": {
       "_model_module_version": "^0.12.1",
       "_view_module_version": "^0.12.1",
       "options": [
        "position",
        "prefix"
       ],
       "position": "bottomright",
       "prefix": "Leaflet"
      }
     },
     "a1e0fa929b374898a79e7ad2096891c8": {
      "model_module": "@jupyter-widgets/controls",
      "model_module_version": "1.5.0",
      "model_name": "LinkModel",
      "state": {
       "source": [
        "IPY_MODEL_5b8631c9ec574c7d864e31bc485365d6",
        "value"
       ],
       "target": [
        "IPY_MODEL_b00acb89df8f4110ba50548ed1903fa2",
        "zoom"
       ]
      }
     },
     "a1f368baf08a463b8864f1ea5fe9a9ec": {
      "model_module": "jupyter-leaflet",
      "model_module_version": "^0.12.6",
      "model_name": "LeafletMapStyleModel",
      "state": {
       "_model_module_version": "^0.12.6"
      }
     },
     "a200d19478844c54b14f8c8b7497e4c7": {
      "model_module": "jupyter-leaflet",
      "model_module_version": "^0.12.1",
      "model_name": "LeafletMapModel",
      "state": {
       "_model_module_version": "^0.12.1",
       "_view_module_version": "^0.12.1",
       "center": [
        48,
        8
       ],
       "controls": [
        "IPY_MODEL_5222473b23a241cda44455d33b7add87",
        "IPY_MODEL_ceda651b259243a4a704cfec5fccb0af",
        "IPY_MODEL_a26ea3c3c5084f0481e763083b338785"
       ],
       "default_style": "IPY_MODEL_388669dce6964012a0388b1282188acb",
       "dragging_style": "IPY_MODEL_39d1637e24b740e0bac5241eb32f444c",
       "east": 10.634765625,
       "fullscreen": false,
       "interpolation": "bilinear",
       "layers": [
        "IPY_MODEL_561eef377cf749f3904bdba3790bd0bd",
        "IPY_MODEL_9b8e4b995034409086581a2b7386a981",
        "IPY_MODEL_bdfcc9c1ac464b12a8864b7adc263357"
       ],
       "layout": "IPY_MODEL_402cc7fe0e804bbbb6f372510cd7d5ed",
       "modisdate": "yesterday",
       "north": 48.73083222613518,
       "options": [
        "bounce_at_zoom_limits",
        "box_zoom",
        "center",
        "close_popup_on_click",
        "double_click_zoom",
        "dragging",
        "fullscreen",
        "inertia",
        "inertia_deceleration",
        "inertia_max_speed",
        "interpolation",
        "keyboard",
        "keyboard_pan_offset",
        "keyboard_zoom_offset",
        "max_zoom",
        "min_zoom",
        "scroll_wheel_zoom",
        "tap",
        "tap_tolerance",
        "touch_zoom",
        "world_copy_jump",
        "zoom",
        "zoom_animation_threshold",
        "zoom_start"
       ],
       "south": 47.260592193424706,
       "style": "IPY_MODEL_388669dce6964012a0388b1282188acb",
       "west": 5.366821289062501,
       "window_url": "http://localhost:8888/notebooks/js/ipyleaflet.ipynb",
       "zoom": 8
      }
     },
     "a2100bc84fb949dab22bef2c24e41d2c": {
      "model_module": "jupyter-leaflet",
      "model_module_version": "^0.17",
      "model_name": "LeafletZoomControlModel",
      "state": {
       "_model_module_version": "^0.17",
       "_view_module_version": "^0.17",
       "options": [
        "position",
        "zoom_in_text",
        "zoom_in_title",
        "zoom_out_text",
        "zoom_out_title"
       ]
      }
     },
     "a23cfe845e354c62afc4edc55455e572": {
      "model_module": "jupyter-leaflet",
      "model_module_version": "^0.17",
      "model_name": "LeafletMapStyleModel",
      "state": {
       "_model_module_version": "^0.17"
      }
     },
     "a257217152f1450b982a72ee8f84dcb7": {
      "model_module": "jupyter-leaflet",
      "model_module_version": "^0.12.1",
      "model_name": "LeafletWMSLayerModel",
      "state": {
       "_model_module_version": "^0.12.1",
       "_view_module_version": "^0.12.1",
       "attribution": "Weather data © 2012 IEM Nexrad",
       "crs": "EPSG3857",
       "format": "image/png",
       "layers": "nexrad-n0r-wmst",
       "max_native_zoom": 18,
       "min_native_zoom": 0,
       "options": [
        "attribution",
        "detect_retina",
        "format",
        "layers",
        "max_native_zoom",
        "max_zoom",
        "min_native_zoom",
        "min_zoom",
        "no_wrap",
        "styles",
        "tile_size",
        "time",
        "tms",
        "transparent",
        "uppercase"
       ],
       "time": "2005-08-29T13:00:00Z",
       "transparent": true,
       "url": "https://mesonet.agron.iastate.edu/cgi-bin/wms/nexrad/n0r-t.cgi?"
      }
     },
     "a26ea3c3c5084f0481e763083b338785": {
      "model_module": "jupyter-leaflet",
      "model_module_version": "^0.12.1",
      "model_name": "LeafletLayersControlModel",
      "state": {
       "_model_module_version": "^0.12.1",
       "_view_module_version": "^0.12.1",
       "options": [
        "position"
       ]
      }
     },
     "a2d3f033fe0e4307a66eef7a96d3e589": {
      "model_module": "jupyter-leaflet",
      "model_module_version": "^0.17",
      "model_name": "LeafletMapModel",
      "state": {
       "_model_module_version": "^0.17",
       "_view_module_version": "^0.17",
       "bottom": 5574,
       "center": [
        52.5162,
        13.3777
       ],
       "controls": [
        "IPY_MODEL_ac69212922fa4b48b161963de0ec0000",
        "IPY_MODEL_b450e0aa60b34a40af33844e2706dd35"
       ],
       "default_style": "IPY_MODEL_af585ed13dd74fba9a42caa180ba1dfe",
       "dragging_style": "IPY_MODEL_c21d4535b6ca460a95dec55bdb1d3c99",
       "east": 24.01611328125,
       "fullscreen": false,
       "interpolation": "bilinear",
       "layers": [
        "IPY_MODEL_6bccee7680654b64afe898f61f9fa5b0"
       ],
       "layout": "IPY_MODEL_3b65606e94cc47f4889fb6e58c20f8fc",
       "left": 8316,
       "modisdate": "2023-07-11",
       "north": 55.10351605801967,
       "options": [
        "bounce_at_zoom_limits",
        "box_zoom",
        "center",
        "close_popup_on_click",
        "double_click_zoom",
        "dragging",
        "fullscreen",
        "inertia",
        "inertia_deceleration",
        "inertia_max_speed",
        "interpolation",
        "keyboard",
        "keyboard_pan_offset",
        "keyboard_zoom_offset",
        "max_zoom",
        "min_zoom",
        "prefer_canvas",
        "scroll_wheel_zoom",
        "tap",
        "tap_tolerance",
        "touch_zoom",
        "world_copy_jump",
        "zoom",
        "zoom_animation_threshold",
        "zoom_delta",
        "zoom_snap"
       ],
       "prefer_canvas": false,
       "right": 9285,
       "south": 49.75287993415023,
       "style": "IPY_MODEL_4bf599fcfa384f489c6e66441c80c3f6",
       "top": 5174,
       "west": 2.7246093750000004,
       "window_url": "http://localhost:8888/notebooks/js/ipyleaflet.ipynb#",
       "zoom": 6
      }
     },
     "a2f05315dddc419d88325139a218c622": {
      "model_module": "@jupyter-widgets/base",
      "model_module_version": "1.2.0",
      "model_name": "LayoutModel",
      "state": {}
     },
     "a30514478a324e8d9867567058d3525d": {
      "model_module": "jupyter-leaflet",
      "model_module_version": "^0.12.6",
      "model_name": "LeafletZoomControlModel",
      "state": {
       "_model_module_version": "^0.12.6",
       "_view_module_version": "^0.12.6",
       "options": [
        "position",
        "zoom_in_text",
        "zoom_in_title",
        "zoom_out_text",
        "zoom_out_title"
       ]
      }
     },
     "a31c70e00432482cb552dd83c0ff06c4": {
      "model_module": "@jupyter-widgets/controls",
      "model_module_version": "1.5.0",
      "model_name": "LinkModel",
      "state": {
       "source": [
        "IPY_MODEL_fb4749bfa6d547119a12c0255b8c8fa3",
        "value"
       ],
       "target": [
        "IPY_MODEL_677c7aa048be4141a62fb9b429caf8bd",
        "zoom"
       ]
      }
     },
     "a36433977f8b41d08c650faac885bbf1": {
      "model_module": "jupyter-leaflet",
      "model_module_version": "^0.17",
      "model_name": "LeafletMapStyleModel",
      "state": {
       "_model_module_version": "^0.17"
      }
     },
     "a3654b3b8b4e4331b13a384068e5ce82": {
      "model_module": "jupyter-leaflet",
      "model_module_version": "^0.17",
      "model_name": "LeafletMapModel",
      "state": {
       "_model_module_version": "^0.17",
       "_view_module_version": "^0.17",
       "bottom": 5574,
       "center": [
        52.5162,
        13.3777
       ],
       "controls": [
        "IPY_MODEL_ab55f99242f14524baa16fa53bb7d97c",
        "IPY_MODEL_6cf67866a7e7458f8c91bf0598fbc210"
       ],
       "default_style": "IPY_MODEL_a36433977f8b41d08c650faac885bbf1",
       "dragging_style": "IPY_MODEL_642b76f32f534a0b81c26212567df1ff",
       "east": 24.01611328125,
       "fullscreen": false,
       "interpolation": "bilinear",
       "layers": [
        "IPY_MODEL_a44e8344b63c426f89d09ce1f6982ba1"
       ],
       "layout": "IPY_MODEL_1213119fbd1343cfaa01177f24aa0b5d",
       "left": 8316,
       "modisdate": "2023-07-11",
       "north": 55.10351605801967,
       "options": [
        "bounce_at_zoom_limits",
        "box_zoom",
        "center",
        "close_popup_on_click",
        "double_click_zoom",
        "dragging",
        "fullscreen",
        "inertia",
        "inertia_deceleration",
        "inertia_max_speed",
        "interpolation",
        "keyboard",
        "keyboard_pan_offset",
        "keyboard_zoom_offset",
        "max_zoom",
        "min_zoom",
        "prefer_canvas",
        "scroll_wheel_zoom",
        "tap",
        "tap_tolerance",
        "touch_zoom",
        "world_copy_jump",
        "zoom",
        "zoom_animation_threshold",
        "zoom_delta",
        "zoom_snap"
       ],
       "prefer_canvas": false,
       "right": 9285,
       "south": 49.75287993415023,
       "style": "IPY_MODEL_9c97ed6be840486bb272022501bd93c1",
       "top": 5174,
       "west": 2.7246093750000004,
       "window_url": "http://localhost:8888/notebooks/js/ipyleaflet.ipynb#",
       "zoom": 6
      }
     },
     "a36e0a7925ea477c95fd4e2560083baf": {
      "model_module": "@jupyter-widgets/controls",
      "model_module_version": "1.5.0",
      "model_name": "DescriptionStyleModel",
      "state": {
       "description_width": ""
      }
     },
     "a3747a9687c64d6b9700638538132d7c": {
      "model_module": "@jupyter-widgets/base",
      "model_module_version": "1.2.0",
      "model_name": "LayoutModel",
      "state": {}
     },
     "a3791b4b0fcf475988cc4504a8921491": {
      "model_module": "jupyter-leaflet",
      "model_module_version": "^0.12.1",
      "model_name": "LeafletTileLayerModel",
      "state": {
       "_model_module_version": "^0.12.1",
       "_view_module_version": "^0.12.1",
       "attribution": "&copy; <a href=\"http://www.openstreetmap.org/copyright\">OpenStreetMap</a> &copy; <a href=\"http://cartodb.com/attributions\">CartoDB</a>",
       "base": true,
       "max_native_zoom": 18,
       "max_zoom": 20,
       "min_native_zoom": 0,
       "min_zoom": 1,
       "name": "CartoDB.Positron",
       "options": [
        "attribution",
        "detect_retina",
        "max_native_zoom",
        "max_zoom",
        "min_native_zoom",
        "min_zoom",
        "no_wrap",
        "tile_size",
        "tms"
       ],
       "url": "http://c.basemaps.cartocdn.com/light_all/{z}/{x}/{y}.png"
      }
     },
     "a3eec104a73e4e04822cf39f65aa9e45": {
      "model_module": "jupyter-leaflet",
      "model_module_version": "^0.17",
      "model_name": "LeafletMapStyleModel",
      "state": {
       "_model_module_version": "^0.17",
       "cursor": "move"
      }
     },
     "a3f1d68f717c4c839e61eb1b0ded725f": {
      "model_module": "jupyter-leaflet",
      "model_module_version": "^0.12.1",
      "model_name": "LeafletWMSLayerModel",
      "state": {
       "_model_module_version": "^0.12.1",
       "_view_module_version": "^0.12.1",
       "attribution": "Weather data © 2012 IEM Nexrad",
       "crs": "EPSG3857",
       "format": "image/png",
       "layers": "nexrad-n0r-wmst",
       "max_native_zoom": 18,
       "min_native_zoom": 0,
       "options": [
        "attribution",
        "detect_retina",
        "format",
        "layers",
        "max_native_zoom",
        "max_zoom",
        "min_native_zoom",
        "min_zoom",
        "no_wrap",
        "styles",
        "tile_size",
        "time",
        "tms",
        "transparent",
        "uppercase"
       ],
       "time": "2005-08-29T13:00:00Z",
       "transparent": true,
       "url": "https://mesonet.agron.iastate.edu/cgi-bin/wms/nexrad/n0r-t.cgi?"
      }
     },
     "a3f8b614f5aa46668642180d64188325": {
      "model_module": "jupyter-leaflet",
      "model_module_version": "^0.12.1",
      "model_name": "LeafletMapStyleModel",
      "state": {
       "_model_module_version": "^0.12.1",
       "cursor": "move"
      }
     },
     "a41e489f00d745df8f59ef8acdff6c94": {
      "model_module": "jupyter-leaflet",
      "model_module_version": "^0.12.1",
      "model_name": "LeafletMapStyleModel",
      "state": {
       "_model_module_version": "^0.12.1"
      }
     },
     "a44e8344b63c426f89d09ce1f6982ba1": {
      "model_module": "jupyter-leaflet",
      "model_module_version": "^0.17",
      "model_name": "LeafletTileLayerModel",
      "state": {
       "_model_module_version": "^0.17",
       "_view_module_version": "^0.17",
       "attribution": "&copy; <a href=\"https://www.openstreetmap.org/copyright\">OpenStreetMap</a> contributors",
       "base": true,
       "max_zoom": 19,
       "min_zoom": 1,
       "name": "OpenStreetMap.Mapnik",
       "options": [
        "attribution",
        "bounds",
        "detect_retina",
        "max_native_zoom",
        "max_zoom",
        "min_native_zoom",
        "min_zoom",
        "no_wrap",
        "tile_size",
        "tms",
        "zoom_offset"
       ],
       "url": "https://tile.openstreetmap.org/{z}/{x}/{y}.png"
      }
     },
     "a455a03f5b8146158ac771e34071e5d3": {
      "model_module": "jupyter-leaflet",
      "model_module_version": "^0.17",
      "model_name": "LeafletMapModel",
      "state": {
       "_model_module_version": "^0.17",
       "_view_module_version": "^0.17",
       "bottom": 43188,
       "center": [
        52.5162,
        13.3777
       ],
       "controls": [
        "IPY_MODEL_3b1eb8690349446eb6a5f25862774a0a",
        "IPY_MODEL_701d5fd338734401a408c23cf5291753",
        "IPY_MODEL_5c7e8839ed184eef81e2aac8e967dc6c",
        "IPY_MODEL_4e67a6e0b6bd468f9f59cb27eb8f8817"
       ],
       "default_style": "IPY_MODEL_2c5d546020804d42a881b2a764c5ae99",
       "dragging_style": "IPY_MODEL_5646bd7e67b149919a00870af2c58195",
       "east": 14.707946777343752,
       "fullscreen": false,
       "interpolation": "bilinear",
       "layers": [
        "IPY_MODEL_1abfb7d59d16428fa3461c61131b00e7"
       ],
       "layout": "IPY_MODEL_f8c7216992264073879d16044afe6c5d",
       "left": 69922,
       "modisdate": "2023-07-11",
       "north": 52.8492298820527,
       "options": [
        "bounce_at_zoom_limits",
        "box_zoom",
        "center",
        "close_popup_on_click",
        "double_click_zoom",
        "dragging",
        "fullscreen",
        "inertia",
        "inertia_deceleration",
        "inertia_max_speed",
        "interpolation",
        "keyboard",
        "keyboard_pan_offset",
        "keyboard_zoom_offset",
        "max_zoom",
        "min_zoom",
        "prefer_canvas",
        "scroll_wheel_zoom",
        "tap",
        "tap_tolerance",
        "touch_zoom",
        "world_copy_jump",
        "zoom",
        "zoom_animation_threshold",
        "zoom_delta",
        "zoom_snap"
       ],
       "prefer_canvas": false,
       "right": 70891,
       "south": 52.18066872927717,
       "style": "IPY_MODEL_2c5d546020804d42a881b2a764c5ae99",
       "top": 42788,
       "west": 12.046508789062502,
       "window_url": "http://localhost:8888/notebooks/js/ipyleaflet.ipynb#",
       "zoom": 9
      }
     },
     "a4c4e6d2c3dc4f26a01f96702e42345f": {
      "model_module": "@jupyter-widgets/base",
      "model_module_version": "1.2.0",
      "model_name": "LayoutModel",
      "state": {}
     },
     "a4d7bb63c40a4b33b029fb1f24bcd53d": {
      "model_module": "jupyter-leaflet",
      "model_module_version": "~0.9.2",
      "model_name": "LeafletMapModel",
      "state": {
       "_model_module_version": "~0.9.2",
       "_view_module_version": "~0.9.2",
       "basemap": {
        "attribution": "Tiles courtesy of <a href=\"http://openstreetmap.se/\" target=\"_blank\">OpenStreetMap Sweden</a> &mdash; Map data &copy; <a href=\"http://www.openstreetmap.org/copyright\">OpenStreetMap</a>",
        "max_zoom": 18,
        "name": "Hydda.Full",
        "url": "http://{s}.tile.openstreetmap.se/hydda/full/{z}/{x}/{y}.png"
       },
       "center": [
        47.96510025611193,
        7.854537963867188
       ],
       "controls": [
        "IPY_MODEL_e5ddef9d254648a7b3d3771a314711c3"
       ],
       "east": 8.526763916015627,
       "interpolation": "bilinear",
       "layers": [
        "IPY_MODEL_11799fa0378b460cab9564b4cb125493",
        "IPY_MODEL_9c1677ba6c6940a9b87e67c2e8e6292b",
        "IPY_MODEL_84666b81e319482e944b417561ecb0e0",
        "IPY_MODEL_2c8ee408404744db88e72b9202bda5f1"
       ],
       "layout": "IPY_MODEL_460eb2dfac544ab8b3d98a458e2768fd",
       "modisdate": "yesterday",
       "north": 48.148679437804546,
       "options": [
        "attribution_control",
        "basemap",
        "bounce_at_zoom_limits",
        "box_zoom",
        "center",
        "close_popup_on_click",
        "double_click_zoom",
        "dragging",
        "inertia",
        "inertia_deceleration",
        "inertia_max_speed",
        "interpolation",
        "keyboard",
        "keyboard_pan_offset",
        "keyboard_zoom_offset",
        "max_zoom",
        "min_zoom",
        "scroll_wheel_zoom",
        "tap",
        "tap_tolerance",
        "touch_zoom",
        "world_copy_jump",
        "zoom",
        "zoom_animation_threshold",
        "zoom_control",
        "zoom_start"
       ],
       "south": 47.78086628636737,
       "west": 7.182312011718751,
       "window_url": "http://localhost:8888/notebooks/js/ipyleaflet.ipynb",
       "zoom": 10
      }
     },
     "a4e7b4e8a63c41c2826a5611dc35f854": {
      "model_module": "@jupyter-widgets/controls",
      "model_module_version": "1.5.0",
      "model_name": "LabelModel",
      "state": {
       "layout": "IPY_MODEL_5eada4b0bcb743ceb221bc89d6010ccc",
       "style": "IPY_MODEL_f50771e149a44edda1be2d98cf4797d6"
      }
     },
     "a51df39cf5be494e90ee81c2782a400f": {
      "model_module": "jupyter-leaflet",
      "model_module_version": "~0.9.2",
      "model_name": "LeafletMapModel",
      "state": {
       "_model_module_version": "~0.9.2",
       "_view_module_version": "~0.9.2",
       "basemap": {
        "attribution": "Tiles courtesy of <a href=\"http://openstreetmap.se/\" target=\"_blank\">OpenStreetMap Sweden</a> &mdash; Map data &copy; <a href=\"http://www.openstreetmap.org/copyright\">OpenStreetMap</a>",
        "max_zoom": 18,
        "name": "Hydda.Full",
        "url": "http://{s}.tile.openstreetmap.se/hydda/full/{z}/{x}/{y}.png"
       },
       "center": [
        48,
        8
       ],
       "east": 10.689697265625002,
       "interpolation": "bilinear",
       "layers": [
        "IPY_MODEL_109d014675cb4c8f967f65234d6cac83"
       ],
       "layout": "IPY_MODEL_8c1ecc5fcbe14aacb302875f0975a2e4",
       "modisdate": "yesterday",
       "north": 48.73083222613518,
       "options": [
        "attribution_control",
        "basemap",
        "bounce_at_zoom_limits",
        "box_zoom",
        "center",
        "close_popup_on_click",
        "double_click_zoom",
        "dragging",
        "inertia",
        "inertia_deceleration",
        "inertia_max_speed",
        "interpolation",
        "keyboard",
        "keyboard_pan_offset",
        "keyboard_zoom_offset",
        "max_zoom",
        "min_zoom",
        "scroll_wheel_zoom",
        "tap",
        "tap_tolerance",
        "touch_zoom",
        "world_copy_jump",
        "zoom",
        "zoom_animation_threshold",
        "zoom_control",
        "zoom_start"
       ],
       "south": 47.260592193424706,
       "west": 5.311889648437501,
       "window_url": "http://localhost:8888/notebooks/js/ipyleaflet.ipynb",
       "zoom": 8
      }
     },
     "a51f4420134e49a5bfaa2a7a90c61ace": {
      "model_module": "@jupyter-widgets/base",
      "model_module_version": "1.2.0",
      "model_name": "LayoutModel",
      "state": {}
     },
     "a5331a894d44473b92daa1732975b4b9": {
      "model_module": "@jupyter-widgets/base",
      "model_module_version": "1.2.0",
      "model_name": "LayoutModel",
      "state": {}
     },
     "a580ed8015b24caf83d3856441e11a3f": {
      "model_module": "jupyter-leaflet",
      "model_module_version": "^0.12.1",
      "model_name": "LeafletTileLayerModel",
      "state": {
       "_model_module_version": "^0.12.1",
       "_view_module_version": "^0.12.1",
       "attribution": "Tiles courtesy of <a href=\"http://openstreetmap.se/\" target=\"_blank\">OpenStreetMap Sweden</a> &mdash; Map data &copy; <a href=\"http://www.openstreetmap.org/copyright\">OpenStreetMap</a>",
       "base": true,
       "max_native_zoom": 18,
       "min_native_zoom": 0,
       "min_zoom": 1,
       "name": "Hydda.Full",
       "options": [
        "attribution",
        "detect_retina",
        "max_native_zoom",
        "max_zoom",
        "min_native_zoom",
        "min_zoom",
        "no_wrap",
        "tile_size",
        "tms"
       ],
       "url": "http://{s}.tile.openstreetmap.se/hydda/full/{z}/{x}/{y}.png"
      }
     },
     "a624f8baf42b4d25bc006e559e209078": {
      "model_module": "jupyter-leaflet",
      "model_module_version": "^0.12.6",
      "model_name": "LeafletMapStyleModel",
      "state": {
       "_model_module_version": "^0.12.6",
       "cursor": "move"
      }
     },
     "a64eed59adee4e8d8a3086bf093aafdb": {
      "model_module": "jupyter-leaflet",
      "model_module_version": "^0.11.6",
      "model_name": "LeafletTileLayerModel",
      "state": {
       "_model_module_version": "^0.11.6",
       "_view_module_version": "^0.11.6",
       "attribution": "Map tiles by <a href=\"https://labs.strava.com/heatmap\">Strava 2017</a>",
       "max_native_zoom": 18,
       "max_zoom": 15,
       "min_native_zoom": 0,
       "min_zoom": 1,
       "name": "Strava.All",
       "options": [
        "attribution",
        "detect_retina",
        "max_native_zoom",
        "max_zoom",
        "min_native_zoom",
        "min_zoom",
        "no_wrap",
        "tile_size",
        "tms"
       ],
       "url": "https://heatmap-external-a.strava.com//tiles/all/hot/{z}/{x}/{y}.png?v=19"
      }
     },
     "a69b15450ea345af8d7cf66205bcecca": {
      "model_module": "@jupyter-widgets/controls",
      "model_module_version": "1.5.0",
      "model_name": "DescriptionStyleModel",
      "state": {
       "description_width": ""
      }
     },
     "a6e71869a4c84f12ab9311d10b4b28ea": {
      "model_module": "jupyter-leaflet",
      "model_module_version": "^0.17",
      "model_name": "LeafletAttributionControlModel",
      "state": {
       "_model_module_version": "^0.17",
       "_view_module_version": "^0.17",
       "options": [
        "position",
        "prefix"
       ],
       "position": "bottomright",
       "prefix": "ipyleaflet"
      }
     },
     "a6f2b44fde2a4007a40ce1377849242d": {
      "model_module": "@jupyter-widgets/controls",
      "model_module_version": "1.5.0",
      "model_name": "DescriptionStyleModel",
      "state": {
       "description_width": ""
      }
     },
     "a71a8fb82ba245bba214ef942fced458": {
      "model_module": "@jupyter-widgets/base",
      "model_module_version": "1.2.0",
      "model_name": "LayoutModel",
      "state": {}
     },
     "a79ae612c32444af97cfa8584024741b": {
      "model_module": "@jupyter-widgets/controls",
      "model_module_version": "1.5.0",
      "model_name": "HBoxModel",
      "state": {
       "children": [
        "IPY_MODEL_a200d19478844c54b14f8c8b7497e4c7",
        "IPY_MODEL_b0421f2a2c2e4e49bd3e85eb9c0d1db7"
       ],
       "layout": "IPY_MODEL_72737912a8044d3b991d83420693972d"
      }
     },
     "a7d5de9b0def4fe5a8c16927dd5fb012": {
      "model_module": "jupyter-leaflet",
      "model_module_version": "^0.17",
      "model_name": "LeafletMapStyleModel",
      "state": {
       "_model_module_version": "^0.17"
      }
     },
     "a7fa0848fe9a40ba8480aca8527bb2d6": {
      "model_module": "jupyter-leaflet",
      "model_module_version": "^0.17",
      "model_name": "LeafletMapStyleModel",
      "state": {
       "_model_module_version": "^0.17",
       "cursor": "move"
      }
     },
     "a861c69d6c174eb0b91dbee918008043": {
      "model_module": "jupyter-leaflet",
      "model_module_version": "^0.12.6",
      "model_name": "LeafletMapStyleModel",
      "state": {
       "_model_module_version": "^0.12.6"
      }
     },
     "a875065ce73f4602bf05e341945e1bfa": {
      "model_module": "jupyter-leaflet",
      "model_module_version": "^0.17",
      "model_name": "LeafletTileLayerModel",
      "state": {
       "_model_module_version": "^0.17",
       "_view_module_version": "^0.17",
       "attribution": "&copy; <a href=\"https://www.openstreetmap.org/copyright\">OpenStreetMap</a> contributors",
       "base": true,
       "max_zoom": 19,
       "min_zoom": 1,
       "name": "OpenStreetMap.Mapnik",
       "options": [
        "attribution",
        "bounds",
        "detect_retina",
        "max_native_zoom",
        "max_zoom",
        "min_native_zoom",
        "min_zoom",
        "no_wrap",
        "tile_size",
        "tms",
        "zoom_offset"
       ],
       "url": "https://tile.openstreetmap.org/{z}/{x}/{y}.png"
      }
     },
     "a8a8c69859ad4161ac0047e9e485c3ae": {
      "model_module": "jupyter-leaflet",
      "model_module_version": "^0.12.6",
      "model_name": "LeafletAttributionControlModel",
      "state": {
       "_model_module_version": "^0.12.6",
       "_view_module_version": "^0.12.6",
       "options": [
        "position",
        "prefix"
       ],
       "position": "bottomright",
       "prefix": "Leaflet"
      }
     },
     "a8cef17b020b4b57a1487c48e1e9c792": {
      "model_module": "@jupyter-widgets/controls",
      "model_module_version": "1.5.0",
      "model_name": "SelectionSliderModel",
      "state": {
       "_options_labels": [
        "13:00",
        "13:30",
        "14:00",
        "14:30",
        "15:00",
        "15:30",
        "16:00",
        "16:30"
       ],
       "description": "Time:",
       "index": 7,
       "layout": "IPY_MODEL_a5331a894d44473b92daa1732975b4b9",
       "style": "IPY_MODEL_f2a5658e11d84a19b5fa60eaa68c4a2e"
      }
     },
     "a8dff5e50888432fa531433065251a13": {
      "model_module": "jupyter-leaflet",
      "model_module_version": "^0.17",
      "model_name": "LeafletZoomControlModel",
      "state": {
       "_model_module_version": "^0.17",
       "_view_module_version": "^0.17",
       "options": [
        "position",
        "zoom_in_text",
        "zoom_in_title",
        "zoom_out_text",
        "zoom_out_title"
       ]
      }
     },
     "a8f47baee0f4478e8ede3d9749aac006": {
      "model_module": "jupyter-leaflet",
      "model_module_version": "^0.17",
      "model_name": "LeafletMapStyleModel",
      "state": {
       "_model_module_version": "^0.17",
       "cursor": "move"
      }
     },
     "a935dcbc7645495aa9006c213d64b515": {
      "model_module": "@jupyter-widgets/controls",
      "model_module_version": "1.5.0",
      "model_name": "LabelModel",
      "state": {
       "layout": "IPY_MODEL_95b6f13449fc48dd8d4575fdd2754402",
       "style": "IPY_MODEL_6a96d8ef765c4ac08990c595c75a5e1f",
       "value": "[48.61517738025083, 5.332670954195562]"
      }
     },
     "a9451b999c4843a19b1d0d9b372025e9": {
      "model_module": "jupyter-leaflet",
      "model_module_version": "^0.17",
      "model_name": "LeafletMapStyleModel",
      "state": {
       "_model_module_version": "^0.17"
      }
     },
     "a964a88e215041b29322571106c45ed5": {
      "model_module": "jupyter-leaflet",
      "model_module_version": "^0.12.1",
      "model_name": "LeafletWMSLayerModel",
      "state": {
       "_model_module_version": "^0.12.1",
       "_view_module_version": "^0.12.1",
       "attribution": "Weather data © 2012 IEM Nexrad",
       "crs": "EPSG3857",
       "format": "image/png",
       "layers": "nexrad-n0r-wmst",
       "max_native_zoom": 18,
       "min_native_zoom": 0,
       "options": [
        "attribution",
        "detect_retina",
        "format",
        "layers",
        "max_native_zoom",
        "max_zoom",
        "min_native_zoom",
        "min_zoom",
        "no_wrap",
        "styles",
        "tile_size",
        "time",
        "tms",
        "transparent",
        "uppercase"
       ],
       "time": "2005-08-29T13:00",
       "transparent": true,
       "url": "https://mesonet.agron.iastate.edu/cgi-bin/wms/nexrad/n0r-t.cgi?"
      }
     },
     "a9e2bb7ee6fa4051a8251fef1e368ce8": {
      "model_module": "jupyter-leaflet",
      "model_module_version": "^0.17",
      "model_name": "LeafletAttributionControlModel",
      "state": {
       "_model_module_version": "^0.17",
       "_view_module_version": "^0.17",
       "options": [
        "position",
        "prefix"
       ],
       "position": "bottomright",
       "prefix": "ipyleaflet"
      }
     },
     "aa05c1ff0e124baf96f8353b2634ac5b": {
      "model_module": "@jupyter-widgets/controls",
      "model_module_version": "1.5.0",
      "model_name": "LinkModel",
      "state": {
       "source": [
        "IPY_MODEL_4e0b10bd55374bb0a1c408c73226f130",
        "value"
       ],
       "target": [
        "IPY_MODEL_53deda17ad524b3ab5319d8573abd2ee",
        "zoom"
       ]
      }
     },
     "aa6b9bd48df24147b64f8d884e84a0f6": {
      "model_module": "jupyter-leaflet",
      "model_module_version": "^0.17",
      "model_name": "LeafletMapStyleModel",
      "state": {
       "_model_module_version": "^0.17"
      }
     },
     "aa6ba7bba399405b83594075aec9f039": {
      "model_module": "jupyter-leaflet",
      "model_module_version": "^0.12.1",
      "model_name": "LeafletMapStyleModel",
      "state": {
       "_model_module_version": "^0.12.1"
      }
     },
     "aa7000610eb04aeaabf189436729b824": {
      "model_module": "@jupyter-widgets/controls",
      "model_module_version": "1.5.0",
      "model_name": "SliderStyleModel",
      "state": {
       "description_width": ""
      }
     },
     "aa999a90e53c4b1ab9a91c26bfc6b906": {
      "model_module": "jupyter-leaflet",
      "model_module_version": "^0.17",
      "model_name": "LeafletMapStyleModel",
      "state": {
       "_model_module_version": "^0.17"
      }
     },
     "aa9ce80323474599a32ad6e636132943": {
      "model_module": "jupyter-leaflet",
      "model_module_version": "^0.17",
      "model_name": "LeafletMapStyleModel",
      "state": {
       "_model_module_version": "^0.17"
      }
     },
     "aab407d3479d4fe482464a5570ddc978": {
      "model_module": "@jupyter-widgets/base",
      "model_module_version": "1.2.0",
      "model_name": "LayoutModel",
      "state": {}
     },
     "ab0626e428d848a0a04b52392c04764f": {
      "model_module": "jupyter-leaflet",
      "model_module_version": "^0.12.1",
      "model_name": "LeafletMapModel",
      "state": {
       "_model_module_version": "^0.12.1",
       "_view_module_version": "^0.12.1",
       "center": [
        48,
        8
       ],
       "controls": [
        "IPY_MODEL_99477f57c1514c26b771b73787f6457d",
        "IPY_MODEL_b0f86df0aa80480bb685168969074074",
        "IPY_MODEL_3499f76a4d2d4463b65a6bbc0422e076"
       ],
       "default_style": "IPY_MODEL_9b590ba3a72f44d28044e0df76aed117",
       "dragging_style": "IPY_MODEL_1e9d62104e89452db285db6ab2b87adc",
       "east": 10.634765625,
       "fullscreen": false,
       "interpolation": "bilinear",
       "layers": [
        "IPY_MODEL_d826eee2d48a45abada1b274dcb6eb1a",
        "IPY_MODEL_6ff6bbf4b8f9431e8804da9f2f537349",
        "IPY_MODEL_c4d3137deb634112b4c75c29d77982c7"
       ],
       "layout": "IPY_MODEL_0e08e5dc4b134612832133a0eb9a60b3",
       "modisdate": "yesterday",
       "north": 48.73083222613518,
       "options": [
        "bounce_at_zoom_limits",
        "box_zoom",
        "center",
        "close_popup_on_click",
        "double_click_zoom",
        "dragging",
        "fullscreen",
        "inertia",
        "inertia_deceleration",
        "inertia_max_speed",
        "interpolation",
        "keyboard",
        "keyboard_pan_offset",
        "keyboard_zoom_offset",
        "max_zoom",
        "min_zoom",
        "scroll_wheel_zoom",
        "tap",
        "tap_tolerance",
        "touch_zoom",
        "world_copy_jump",
        "zoom",
        "zoom_animation_threshold",
        "zoom_start"
       ],
       "south": 47.260592193424706,
       "style": "IPY_MODEL_9b590ba3a72f44d28044e0df76aed117",
       "west": 5.366821289062501,
       "window_url": "http://localhost:8888/notebooks/js/ipyleaflet.ipynb",
       "zoom": 8
      }
     },
     "ab55f99242f14524baa16fa53bb7d97c": {
      "model_module": "jupyter-leaflet",
      "model_module_version": "^0.17",
      "model_name": "LeafletZoomControlModel",
      "state": {
       "_model_module_version": "^0.17",
       "_view_module_version": "^0.17",
       "options": [
        "position",
        "zoom_in_text",
        "zoom_in_title",
        "zoom_out_text",
        "zoom_out_title"
       ]
      }
     },
     "ab763aea2e1f4726be91fcd3e9dfed05": {
      "model_module": "jupyter-leaflet",
      "model_module_version": "^0.17",
      "model_name": "LeafletAttributionControlModel",
      "state": {
       "_model_module_version": "^0.17",
       "_view_module_version": "^0.17",
       "options": [
        "position",
        "prefix"
       ],
       "position": "bottomright",
       "prefix": "ipyleaflet"
      }
     },
     "ab9cb7a77cfd4cbfab854ca62d6e5dbc": {
      "model_module": "jupyter-leaflet",
      "model_module_version": "^0.12.1",
      "model_name": "LeafletMapModel",
      "state": {
       "_model_module_version": "^0.12.1",
       "_view_module_version": "^0.12.1",
       "center": [
        30.661,
        -88.645
       ],
       "controls": [
        "IPY_MODEL_5798e5a4972e4369b980bbc193d11dd4",
        "IPY_MODEL_6ab86c136b2740dd975b769fa38d62dd"
       ],
       "default_style": "IPY_MODEL_881e91af136246a79b1489ab6aef211d",
       "dragging_style": "IPY_MODEL_f361820c462c4a5bb8a060b0d6cca613",
       "east": -67.58789062500001,
       "fullscreen": false,
       "interpolation": "bilinear",
       "layers": [
        "IPY_MODEL_a3791b4b0fcf475988cc4504a8921491",
        "IPY_MODEL_b158a5dc31124ca79e4e97462220a398"
       ],
       "layout": "IPY_MODEL_4c3add49bf144c69ac20210e8ce65cfd",
       "modisdate": "yesterday",
       "north": 37.92686760148135,
       "options": [
        "bounce_at_zoom_limits",
        "box_zoom",
        "center",
        "close_popup_on_click",
        "double_click_zoom",
        "dragging",
        "fullscreen",
        "inertia",
        "inertia_deceleration",
        "inertia_max_speed",
        "interpolation",
        "keyboard",
        "keyboard_pan_offset",
        "keyboard_zoom_offset",
        "max_zoom",
        "min_zoom",
        "scroll_wheel_zoom",
        "tap",
        "tap_tolerance",
        "touch_zoom",
        "world_copy_jump",
        "zoom",
        "zoom_animation_threshold",
        "zoom_start"
       ],
       "south": 22.836945920943855,
       "style": "IPY_MODEL_82f51f9e9a14448ba3ef36e7ed8c14da",
       "west": -109.73144531250001,
       "window_url": "http://localhost:8888/notebooks/js/ipyleaflet.ipynb",
       "zoom": 5
      }
     },
     "abb17273f1ed496fa6cbff699449f836": {
      "model_module": "@jupyter-widgets/controls",
      "model_module_version": "1.5.0",
      "model_name": "HBoxModel",
      "state": {
       "children": [
        "IPY_MODEL_a455a03f5b8146158ac771e34071e5d3",
        "IPY_MODEL_6a74f008f16149e481dcd27e750fa830"
       ],
       "layout": "IPY_MODEL_0bc101ad93c4429ea6cb88788d31958a"
      }
     },
     "ac37d238452d450b9a4b1864bafb7d38": {
      "model_module": "jupyter-leaflet",
      "model_module_version": "^0.17",
      "model_name": "LeafletAttributionControlModel",
      "state": {
       "_model_module_version": "^0.17",
       "_view_module_version": "^0.17",
       "options": [
        "position",
        "prefix"
       ],
       "position": "bottomright",
       "prefix": "ipyleaflet"
      }
     },
     "ac69212922fa4b48b161963de0ec0000": {
      "model_module": "jupyter-leaflet",
      "model_module_version": "^0.17",
      "model_name": "LeafletZoomControlModel",
      "state": {
       "_model_module_version": "^0.17",
       "_view_module_version": "^0.17",
       "options": [
        "position",
        "zoom_in_text",
        "zoom_in_title",
        "zoom_out_text",
        "zoom_out_title"
       ]
      }
     },
     "ac9f4c3455824d69a55f7e9778aa310a": {
      "model_module": "jupyter-leaflet",
      "model_module_version": "^0.17",
      "model_name": "LeafletLayersControlModel",
      "state": {
       "_model_module_version": "^0.17",
       "_view_module_version": "^0.17",
       "options": [
        "position"
       ]
      }
     },
     "acedcb2cd7994d35befafbb317dd8fc9": {
      "model_module": "jupyter-leaflet",
      "model_module_version": "^0.12.1",
      "model_name": "LeafletMapStyleModel",
      "state": {
       "_model_module_version": "^0.12.1"
      }
     },
     "acfe3e23f9ec4ebd9e26d0885fe3ceef": {
      "model_module": "@jupyter-widgets/base",
      "model_module_version": "1.2.0",
      "model_name": "LayoutModel",
      "state": {}
     },
     "adbb091b7e0c45f5a0f54d0bdcbf751a": {
      "model_module": "jupyter-leaflet",
      "model_module_version": "^0.12.1",
      "model_name": "LeafletAttributionControlModel",
      "state": {
       "_model_module_version": "^0.12.1",
       "_view_module_version": "^0.12.1",
       "options": [
        "position",
        "prefix"
       ],
       "position": "bottomright",
       "prefix": "Leaflet"
      }
     },
     "adf65b5c107c493897159102435467d7": {
      "model_module": "@jupyter-widgets/base",
      "model_module_version": "1.2.0",
      "model_name": "LayoutModel",
      "state": {}
     },
     "ae4a2f50a2de44f5a4dd7ea5df7461bd": {
      "model_module": "@jupyter-widgets/base",
      "model_module_version": "1.2.0",
      "model_name": "LayoutModel",
      "state": {}
     },
     "ae50dfedfec247a88b6523920e4e2e0a": {
      "model_module": "jupyter-leaflet",
      "model_module_version": "^0.17",
      "model_name": "LeafletMapStyleModel",
      "state": {
       "_model_module_version": "^0.17"
      }
     },
     "aeab303de2c64c1f8b2f80aa69651d1e": {
      "model_module": "@jupyter-widgets/controls",
      "model_module_version": "1.5.0",
      "model_name": "LabelModel",
      "state": {
       "layout": "IPY_MODEL_1a004e4befe3407bacded5e85df33c18",
       "style": "IPY_MODEL_b3ace244dfda4783a3c313d34004c6bf"
      }
     },
     "af21055eb4f24561bffd24d4bfe9c5aa": {
      "model_module": "jupyter-leaflet",
      "model_module_version": "^0.17",
      "model_name": "LeafletAttributionControlModel",
      "state": {
       "_model_module_version": "^0.17",
       "_view_module_version": "^0.17",
       "options": [
        "position",
        "prefix"
       ],
       "position": "bottomright",
       "prefix": "ipyleaflet"
      }
     },
     "af585ed13dd74fba9a42caa180ba1dfe": {
      "model_module": "jupyter-leaflet",
      "model_module_version": "^0.17",
      "model_name": "LeafletMapStyleModel",
      "state": {
       "_model_module_version": "^0.17"
      }
     },
     "af63f8754f9f4394bcbe02f91370c574": {
      "model_module": "jupyter-leaflet",
      "model_module_version": "^0.12.1",
      "model_name": "LeafletZoomControlModel",
      "state": {
       "_model_module_version": "^0.12.1",
       "_view_module_version": "^0.12.1",
       "options": [
        "position",
        "zoom_in_text",
        "zoom_in_title",
        "zoom_out_text",
        "zoom_out_title"
       ]
      }
     },
     "afa45931452b40b991d8e72acd169add": {
      "model_module": "@jupyter-widgets/base",
      "model_module_version": "1.2.0",
      "model_name": "LayoutModel",
      "state": {}
     },
     "b00acb89df8f4110ba50548ed1903fa2": {
      "model_module": "jupyter-leaflet",
      "model_module_version": "^0.17",
      "model_name": "LeafletMapModel",
      "state": {
       "_model_module_version": "^0.17",
       "_view_module_version": "^0.17",
       "bottom": 344104,
       "center": [
        52.5162,
        13.3777
       ],
       "controls": [
        "IPY_MODEL_94e2d2afdf4e4d1c894568d971e6b995",
        "IPY_MODEL_59ada3008661449696eccc251f701624"
       ],
       "default_style": "IPY_MODEL_e17684a09cc3419da68b48d74ff4e12e",
       "dragging_style": "IPY_MODEL_be0d7f6765bf48b98ec3f395677ca2d7",
       "east": 13.544082641601564,
       "fullscreen": false,
       "interpolation": "bilinear",
       "layers": [
        "IPY_MODEL_081aa7331bf745198915e6cb5ec3e71f"
       ],
       "layout": "IPY_MODEL_0fc67a478228450eb3fc2f70726b5734",
       "left": 562769,
       "modisdate": "2023-07-11",
       "north": 52.55798590427374,
       "options": [
        "bounce_at_zoom_limits",
        "box_zoom",
        "center",
        "close_popup_on_click",
        "double_click_zoom",
        "dragging",
        "fullscreen",
        "inertia",
        "inertia_deceleration",
        "inertia_max_speed",
        "interpolation",
        "keyboard",
        "keyboard_pan_offset",
        "keyboard_zoom_offset",
        "max_zoom",
        "min_zoom",
        "prefer_canvas",
        "scroll_wheel_zoom",
        "tap",
        "tap_tolerance",
        "touch_zoom",
        "world_copy_jump",
        "zoom",
        "zoom_animation_threshold",
        "zoom_delta",
        "zoom_snap"
       ],
       "prefer_canvas": false,
       "right": 563738,
       "south": 52.47441608702583,
       "style": "IPY_MODEL_ed213d7366f8483db3f72efbe3b98358",
       "top": 343704,
       "west": 13.211402893066408,
       "window_url": "http://localhost:8888/notebooks/js/ipyleaflet.ipynb#"
      }
     },
     "b0203b306cef46cf9fd688fb6bd90fbe": {
      "model_module": "jupyter-leaflet",
      "model_module_version": "^0.17",
      "model_name": "LeafletMapStyleModel",
      "state": {
       "_model_module_version": "^0.17"
      }
     },
     "b03da389107d4c7c982805521461aaeb": {
      "model_module": "@jupyter-widgets/controls",
      "model_module_version": "1.5.0",
      "model_name": "SelectionSliderModel",
      "state": {
       "_options_labels": [
        "13:00",
        "13:30",
        "14:00",
        "14:30",
        "15:00",
        "15:30",
        "16:00",
        "16:30"
       ],
       "description": "Time:",
       "index": 0,
       "layout": "IPY_MODEL_5fb96163d5f94d63bd132364e822048e",
       "style": "IPY_MODEL_b8f6cb53c7f747c080783b30169e0be7"
      }
     },
     "b0421f2a2c2e4e49bd3e85eb9c0d1db7": {
      "model_module": "jupyter-leaflet",
      "model_module_version": "^0.12.1",
      "model_name": "LeafletMapModel",
      "state": {
       "_model_module_version": "^0.12.1",
       "_view_module_version": "^0.12.1",
       "center": [
        48,
        7.9
       ],
       "controls": [
        "IPY_MODEL_374c3085478845aeaf7dba18c5876a35",
        "IPY_MODEL_213362cc75f1415ba995dc18121caeb0"
       ],
       "default_style": "IPY_MODEL_29af3dd8117747ab98250f6755017b85",
       "dragging_style": "IPY_MODEL_b42162d5d7bf4100a9fff906be070453",
       "east": 8.228759765625002,
       "fullscreen": false,
       "interpolation": "bilinear",
       "layers": [
        "IPY_MODEL_746f5d2323f34643842f2a804e6c660f"
       ],
       "layout": "IPY_MODEL_da5aa2d8ebdc48dcba71576472b54090",
       "modisdate": "yesterday",
       "north": 48.18348549519126,
       "options": [
        "bounce_at_zoom_limits",
        "box_zoom",
        "center",
        "close_popup_on_click",
        "double_click_zoom",
        "dragging",
        "fullscreen",
        "inertia",
        "inertia_deceleration",
        "inertia_max_speed",
        "interpolation",
        "keyboard",
        "keyboard_pan_offset",
        "keyboard_zoom_offset",
        "max_zoom",
        "min_zoom",
        "scroll_wheel_zoom",
        "tap",
        "tap_tolerance",
        "touch_zoom",
        "world_copy_jump",
        "zoom",
        "zoom_animation_threshold",
        "zoom_start"
       ],
       "south": 47.81592114659014,
       "style": "IPY_MODEL_ef8bec32a1504c97b1986c4f7f907760",
       "west": 7.572326660156251,
       "window_url": "http://localhost:8888/notebooks/js/ipyleaflet.ipynb",
       "zoom": 10
      }
     },
     "b07604ca1a254d1f9c595438aea14c6b": {
      "model_module": "jupyter-leaflet",
      "model_module_version": "~0.9.2",
      "model_name": "LeafletTileLayerModel",
      "state": {
       "_model_module_version": "~0.9.2",
       "_view_module_version": "~0.9.2",
       "base": true,
       "max_zoom": 19,
       "min_zoom": 1,
       "options": [
        "attribution",
        "detect_retina",
        "max_zoom",
        "min_zoom",
        "tile_size"
       ]
      }
     },
     "b07cff6678bb4f56b2f9c3494534d65e": {
      "model_module": "jupyter-leaflet",
      "model_module_version": "^0.17",
      "model_name": "LeafletTileLayerModel",
      "state": {
       "_model_module_version": "^0.17",
       "_view_module_version": "^0.17",
       "attribution": "&copy; <a href=\"https://www.openstreetmap.org/copyright\">OpenStreetMap</a> contributors",
       "base": true,
       "max_zoom": 19,
       "min_zoom": 1,
       "name": "OpenStreetMap.Mapnik",
       "options": [
        "attribution",
        "bounds",
        "detect_retina",
        "max_native_zoom",
        "max_zoom",
        "min_native_zoom",
        "min_zoom",
        "no_wrap",
        "tile_size",
        "tms",
        "zoom_offset"
       ],
       "url": "https://tile.openstreetmap.org/{z}/{x}/{y}.png"
      }
     },
     "b0a523ecddd544b2ba76fbb58ad5db69": {
      "model_module": "jupyter-leaflet",
      "model_module_version": "^0.12.1",
      "model_name": "LeafletZoomControlModel",
      "state": {
       "_model_module_version": "^0.12.1",
       "_view_module_version": "^0.12.1",
       "options": [
        "position",
        "zoom_in_text",
        "zoom_in_title",
        "zoom_out_text",
        "zoom_out_title"
       ]
      }
     },
     "b0b308c6d57448d58da132286bca32d5": {
      "model_module": "jupyter-leaflet",
      "model_module_version": "^0.17",
      "model_name": "LeafletMapStyleModel",
      "state": {
       "_model_module_version": "^0.17"
      }
     },
     "b0b5a9791d3a47208c5c595dc8e23439": {
      "model_module": "jupyter-leaflet",
      "model_module_version": "^0.17",
      "model_name": "LeafletWidgetControlModel",
      "state": {
       "_model_module": "jupyter-leaflet",
       "_model_module_version": "^0.17",
       "_view_count": null,
       "_view_module": "jupyter-leaflet",
       "_view_module_version": "^0.17",
       "options": [
        "position",
        "transparent_bg"
       ],
       "position": "topright",
       "widget": "IPY_MODEL_d56e2bcd12b3493fbeda76233fb3cdd5"
      }
     },
     "b0f86df0aa80480bb685168969074074": {
      "model_module": "jupyter-leaflet",
      "model_module_version": "^0.12.1",
      "model_name": "LeafletAttributionControlModel",
      "state": {
       "_model_module_version": "^0.12.1",
       "_view_module_version": "^0.12.1",
       "options": [
        "position",
        "prefix"
       ],
       "position": "bottomright",
       "prefix": "Leaflet"
      }
     },
     "b13e751336b44a7b94b7776f35fe15a9": {
      "model_module": "@jupyter-widgets/controls",
      "model_module_version": "1.5.0",
      "model_name": "DescriptionStyleModel",
      "state": {
       "description_width": ""
      }
     },
     "b158a5dc31124ca79e4e97462220a398": {
      "model_module": "jupyter-leaflet",
      "model_module_version": "^0.12.1",
      "model_name": "LeafletWMSLayerModel",
      "state": {
       "_model_module_version": "^0.12.1",
       "_view_module_version": "^0.12.1",
       "attribution": "Weather data © 2012 IEM Nexrad",
       "crs": "EPSG3857",
       "format": "image/png",
       "layers": "nexrad-n0r-wmst",
       "max_native_zoom": 18,
       "min_native_zoom": 0,
       "options": [
        "attribution",
        "detect_retina",
        "format",
        "layers",
        "max_native_zoom",
        "max_zoom",
        "min_native_zoom",
        "min_zoom",
        "no_wrap",
        "styles",
        "tile_size",
        "time",
        "tms",
        "transparent",
        "uppercase"
       ],
       "time": "2005-08-29T19:00",
       "transparent": true,
       "url": "https://mesonet.agron.iastate.edu/cgi-bin/wms/nexrad/n0r-t.cgi?"
      }
     },
     "b1ab3a590ce545d9af67835fc435373e": {
      "model_module": "@jupyter-widgets/controls",
      "model_module_version": "1.5.0",
      "model_name": "DescriptionStyleModel",
      "state": {
       "description_width": ""
      }
     },
     "b1d4d7b4465c4ef191bcf51a34dcfac6": {
      "model_module": "@jupyter-widgets/base",
      "model_module_version": "1.2.0",
      "model_name": "LayoutModel",
      "state": {}
     },
     "b22752a1e011483d946885efbdb8f33c": {
      "model_module": "jupyter-leaflet",
      "model_module_version": "^0.17",
      "model_name": "LeafletMapModel",
      "state": {
       "_model_module_version": "^0.17",
       "_view_module_version": "^0.17",
       "bottom": 3562,
       "center": [
        30.661,
        -88.645
       ],
       "controls": [
        "IPY_MODEL_180b2d7f4ca5457c80f5110bbf8b9fb4",
        "IPY_MODEL_518bddd87b414106ba23955161193f0e"
       ],
       "default_style": "IPY_MODEL_75ef6d8a578e4828b7ffb0372d122ce5",
       "dragging_style": "IPY_MODEL_482b7230a3f549fe82ae31897a286573",
       "east": -67.36816406250001,
       "fullscreen": false,
       "interpolation": "bilinear",
       "layers": [
        "IPY_MODEL_79f075cd9950452ab307269c5cce37b5",
        "IPY_MODEL_844391e86ee849d89afc1e1c5d5d1f38"
       ],
       "layout": "IPY_MODEL_2dbf6f8544d3421faec0931623362739",
       "left": 1594,
       "modisdate": "2023-07-11",
       "north": 37.92686760148135,
       "options": [
        "bounce_at_zoom_limits",
        "box_zoom",
        "center",
        "close_popup_on_click",
        "double_click_zoom",
        "dragging",
        "fullscreen",
        "inertia",
        "inertia_deceleration",
        "inertia_max_speed",
        "interpolation",
        "keyboard",
        "keyboard_pan_offset",
        "keyboard_zoom_offset",
        "max_zoom",
        "min_zoom",
        "prefer_canvas",
        "scroll_wheel_zoom",
        "tap",
        "tap_tolerance",
        "touch_zoom",
        "world_copy_jump",
        "zoom",
        "zoom_animation_threshold",
        "zoom_delta",
        "zoom_snap"
       ],
       "prefer_canvas": false,
       "right": 2563,
       "south": 22.836945920943855,
       "style": "IPY_MODEL_9e289d919c7f47e797cbaebbb404edbf",
       "top": 3162,
       "west": -109.95117187500001,
       "window_url": "http://localhost:8888/notebooks/js/ipyleaflet.ipynb#",
       "zoom": 5
      }
     },
     "b23396d4394d4f919ab540be92128783": {
      "model_module": "jupyter-leaflet",
      "model_module_version": "^0.17",
      "model_name": "LeafletAttributionControlModel",
      "state": {
       "_model_module_version": "^0.17",
       "_view_module_version": "^0.17",
       "options": [
        "position",
        "prefix"
       ],
       "position": "bottomright",
       "prefix": "ipyleaflet"
      }
     },
     "b23b652ac3cb4a8ba4ec3e63ef7becc7": {
      "model_module": "@jupyter-widgets/controls",
      "model_module_version": "1.5.0",
      "model_name": "DescriptionStyleModel",
      "state": {
       "description_width": ""
      }
     },
     "b245e7d41fcc49299f63dda3ac543a61": {
      "model_module": "jupyter-leaflet",
      "model_module_version": "^0.17",
      "model_name": "LeafletMapStyleModel",
      "state": {
       "_model_module_version": "^0.17"
      }
     },
     "b2a72c44c8e54f9e8bec700052458039": {
      "model_module": "@jupyter-widgets/controls",
      "model_module_version": "1.5.0",
      "model_name": "DescriptionStyleModel",
      "state": {
       "description_width": ""
      }
     },
     "b2ecf56bc7e5473bbb0f6bfdb0262a0c": {
      "model_module": "@jupyter-widgets/base",
      "model_module_version": "1.2.0",
      "model_name": "LayoutModel",
      "state": {}
     },
     "b32fee54b6a74bed89ff184256056a8b": {
      "model_module": "jupyter-leaflet",
      "model_module_version": "^0.17",
      "model_name": "LeafletTileLayerModel",
      "state": {
       "_model_module_version": "^0.17",
       "_view_module_version": "^0.17",
       "attribution": "&copy; <a href=\"https://www.openstreetmap.org/copyright\">OpenStreetMap</a> contributors",
       "base": true,
       "max_zoom": 19,
       "min_zoom": 1,
       "name": "OpenStreetMap.Mapnik",
       "options": [
        "attribution",
        "bounds",
        "detect_retina",
        "max_native_zoom",
        "max_zoom",
        "min_native_zoom",
        "min_zoom",
        "no_wrap",
        "tile_size",
        "tms",
        "zoom_offset"
       ],
       "url": "https://tile.openstreetmap.org/{z}/{x}/{y}.png"
      }
     },
     "b38935c8c2c74c289df7aeb7fb424911": {
      "model_module": "jupyter-leaflet",
      "model_module_version": "^0.12.1",
      "model_name": "LeafletTileLayerModel",
      "state": {
       "_model_module_version": "^0.12.1",
       "_view_module_version": "^0.12.1",
       "attribution": "&copy; <a href=\"http://www.openstreetmap.org/copyright\">OpenStreetMap</a> &copy; <a href=\"http://cartodb.com/attributions\">CartoDB</a>",
       "base": true,
       "max_native_zoom": 18,
       "max_zoom": 20,
       "min_native_zoom": 0,
       "min_zoom": 1,
       "name": "CartoDB.Positron",
       "options": [
        "attribution",
        "detect_retina",
        "max_native_zoom",
        "max_zoom",
        "min_native_zoom",
        "min_zoom",
        "no_wrap",
        "tile_size",
        "tms"
       ],
       "url": "http://c.basemaps.cartocdn.com/light_all/{z}/{x}/{y}.png"
      }
     },
     "b3ace244dfda4783a3c313d34004c6bf": {
      "model_module": "@jupyter-widgets/controls",
      "model_module_version": "1.5.0",
      "model_name": "DescriptionStyleModel",
      "state": {
       "description_width": ""
      }
     },
     "b3f8a07a06cb420f9307945ee2994d11": {
      "model_module": "jupyter-leaflet",
      "model_module_version": "^0.17",
      "model_name": "LeafletMapStyleModel",
      "state": {
       "_model_module_version": "^0.17",
       "cursor": "move"
      }
     },
     "b42162d5d7bf4100a9fff906be070453": {
      "model_module": "jupyter-leaflet",
      "model_module_version": "^0.12.1",
      "model_name": "LeafletMapStyleModel",
      "state": {
       "_model_module_version": "^0.12.1",
       "cursor": "move"
      }
     },
     "b444b70697654e9ca1bf1140644985e8": {
      "model_module": "@jupyter-widgets/controls",
      "model_module_version": "1.5.0",
      "model_name": "HBoxModel",
      "state": {
       "children": [
        "IPY_MODEL_2a0f6d89c0844b93a69ef9742d7acb6b",
        "IPY_MODEL_1e3f9b2429624d14a01e81ca2e6cf4b7"
       ],
       "layout": "IPY_MODEL_f9190a74f9ef49a7bd861159ec09d63f"
      }
     },
     "b450e0aa60b34a40af33844e2706dd35": {
      "model_module": "jupyter-leaflet",
      "model_module_version": "^0.17",
      "model_name": "LeafletAttributionControlModel",
      "state": {
       "_model_module_version": "^0.17",
       "_view_module_version": "^0.17",
       "options": [
        "position",
        "prefix"
       ],
       "position": "bottomright",
       "prefix": "ipyleaflet"
      }
     },
     "b4527f7382ff467db68711bf9bde37b8": {
      "model_module": "@jupyter-widgets/base",
      "model_module_version": "1.2.0",
      "model_name": "LayoutModel",
      "state": {}
     },
     "b45da3ff9eec4f5496d50a1c0b129b88": {
      "model_module": "@jupyter-widgets/controls",
      "model_module_version": "1.5.0",
      "model_name": "SliderStyleModel",
      "state": {
       "description_width": ""
      }
     },
     "b462775d415d45d8b7bb8352ad89ffec": {
      "model_module": "jupyter-leaflet",
      "model_module_version": "^0.17",
      "model_name": "LeafletZoomControlModel",
      "state": {
       "_model_module_version": "^0.17",
       "_view_module_version": "^0.17",
       "options": [
        "position",
        "zoom_in_text",
        "zoom_in_title",
        "zoom_out_text",
        "zoom_out_title"
       ]
      }
     },
     "b47829b2ff2d44f3ae4b43f00c764042": {
      "model_module": "jupyter-leaflet",
      "model_module_version": "^0.17",
      "model_name": "LeafletAttributionControlModel",
      "state": {
       "_model_module_version": "^0.17",
       "_view_module_version": "^0.17",
       "options": [
        "position",
        "prefix"
       ],
       "position": "bottomright",
       "prefix": "ipyleaflet"
      }
     },
     "b48086993b0f4342aba3019227691fa5": {
      "model_module": "jupyter-leaflet",
      "model_module_version": "^0.17",
      "model_name": "LeafletMapStyleModel",
      "state": {
       "_model_module_version": "^0.17"
      }
     },
     "b4b540fff4274ea8bfc367980ff0dfa2": {
      "model_module": "jupyter-leaflet",
      "model_module_version": "^0.17",
      "model_name": "LeafletTileLayerModel",
      "state": {
       "_model_module_version": "^0.17",
       "_view_module_version": "^0.17",
       "attribution": "&copy; <a href=\"https://www.openstreetmap.org/copyright\">OpenStreetMap</a> contributors &copy; <a href=\"https://carto.com/attributions\">CARTO</a>",
       "base": true,
       "max_zoom": 20,
       "min_zoom": 1,
       "name": "CartoDB.Positron",
       "options": [
        "attribution",
        "bounds",
        "detect_retina",
        "max_native_zoom",
        "max_zoom",
        "min_native_zoom",
        "min_zoom",
        "no_wrap",
        "tile_size",
        "tms",
        "zoom_offset"
       ],
       "url": "https://a.basemaps.cartocdn.com/light_all/{z}/{x}/{y}.png"
      }
     },
     "b4b7b5d32fd146eeb64b816eddcc7879": {
      "model_module": "jupyter-leaflet",
      "model_module_version": "^0.12.1",
      "model_name": "LeafletLayersControlModel",
      "state": {
       "_model_module_version": "^0.12.1",
       "_view_module_version": "^0.12.1",
       "options": [
        "position"
       ]
      }
     },
     "b4ce0d8b00a04825aa1e29a6832e6130": {
      "model_module": "jupyter-leaflet",
      "model_module_version": "^0.17",
      "model_name": "LeafletMapStyleModel",
      "state": {
       "_model_module_version": "^0.17"
      }
     },
     "b509a0a7f09f44a694f1f5dec7565532": {
      "model_module": "jupyter-leaflet",
      "model_module_version": "^0.17",
      "model_name": "LeafletAttributionControlModel",
      "state": {
       "_model_module_version": "^0.17",
       "_view_module_version": "^0.17",
       "options": [
        "position",
        "prefix"
       ],
       "position": "bottomright",
       "prefix": "ipyleaflet"
      }
     },
     "b518eddf0bb147c0993ea31689835e3c": {
      "model_module": "jupyter-leaflet",
      "model_module_version": "^0.17",
      "model_name": "LeafletMapStyleModel",
      "state": {
       "_model_module_version": "^0.17",
       "cursor": "move"
      }
     },
     "b56aff1585784e4399c9cd52850bdf33": {
      "model_module": "@jupyter-widgets/controls",
      "model_module_version": "1.5.0",
      "model_name": "DescriptionStyleModel",
      "state": {
       "description_width": ""
      }
     },
     "b5aabab964034930bf11416a134a679f": {
      "model_module": "jupyter-leaflet",
      "model_module_version": "^0.17",
      "model_name": "LeafletTileLayerModel",
      "state": {
       "_model_module_version": "^0.17",
       "_view_module_version": "^0.17",
       "attribution": "Map tiles by <a href=\"https://labs.strava.com/heatmap\">Strava 2021</a>",
       "base": true,
       "max_zoom": 15,
       "min_zoom": 1,
       "name": "Strava.All",
       "options": [
        "attribution",
        "bounds",
        "detect_retina",
        "max_native_zoom",
        "max_zoom",
        "min_native_zoom",
        "min_zoom",
        "no_wrap",
        "tile_size",
        "tms",
        "zoom_offset"
       ],
       "url": "https://heatmap-external-a.strava.com/tiles/all/hot/{z}/{x}/{y}.png"
      }
     },
     "b5df758f9c6c4bcc8c9574e264565b70": {
      "model_module": "@jupyter-widgets/base",
      "model_module_version": "1.2.0",
      "model_name": "LayoutModel",
      "state": {}
     },
     "b5e9844d21b24149863e50c0172f9a48": {
      "model_module": "jupyter-leaflet",
      "model_module_version": "^0.12.1",
      "model_name": "LeafletMapStyleModel",
      "state": {
       "_model_module_version": "^0.12.1"
      }
     },
     "b609ab7dd7bc47d495d1922fc7f86940": {
      "model_module": "jupyter-leaflet",
      "model_module_version": "^0.12.1",
      "model_name": "LeafletZoomControlModel",
      "state": {
       "_model_module_version": "^0.12.1",
       "_view_module_version": "^0.12.1",
       "options": [
        "position",
        "zoom_in_text",
        "zoom_in_title",
        "zoom_out_text",
        "zoom_out_title"
       ]
      }
     },
     "b66744feb69c4d4e83057257d74028b1": {
      "model_module": "jupyter-leaflet",
      "model_module_version": "^0.17",
      "model_name": "LeafletTileLayerModel",
      "state": {
       "_model_module_version": "^0.17",
       "_view_module_version": "^0.17",
       "attribution": "&copy; <a href=\"https://www.openstreetmap.org/copyright\">OpenStreetMap</a> contributors",
       "base": true,
       "max_zoom": 19,
       "min_zoom": 1,
       "name": "OpenStreetMap.Mapnik",
       "options": [
        "attribution",
        "bounds",
        "detect_retina",
        "max_native_zoom",
        "max_zoom",
        "min_native_zoom",
        "min_zoom",
        "no_wrap",
        "tile_size",
        "tms",
        "zoom_offset"
       ],
       "url": "https://tile.openstreetmap.org/{z}/{x}/{y}.png"
      }
     },
     "b66c66c8ea74409784b44fcf6670440b": {
      "model_module": "jupyter-leaflet",
      "model_module_version": "^0.17",
      "model_name": "LeafletMapStyleModel",
      "state": {
       "_model_module_version": "^0.17",
       "cursor": "move"
      }
     },
     "b68b426e689446479907046bde4cfb50": {
      "model_module": "@jupyter-widgets/base",
      "model_module_version": "1.2.0",
      "model_name": "LayoutModel",
      "state": {}
     },
     "b69a8906f3f0420c8c43fe23ffbb2e88": {
      "model_module": "jupyter-leaflet",
      "model_module_version": "^0.12.6",
      "model_name": "LeafletMapStyleModel",
      "state": {
       "_model_module_version": "^0.12.6"
      }
     },
     "b69ff43eeae44d779c881c2b5a7a8d42": {
      "model_module": "jupyter-leaflet",
      "model_module_version": "^0.12.1",
      "model_name": "LeafletTileLayerModel",
      "state": {
       "_model_module_version": "^0.12.1",
       "_view_module_version": "^0.12.1",
       "attribution": "Map tiles by <a href=\"https://labs.strava.com/heatmap\">Strava 2017</a>",
       "max_native_zoom": 18,
       "max_zoom": 15,
       "min_native_zoom": 0,
       "min_zoom": 1,
       "name": "Strava.Water",
       "options": [
        "attribution",
        "detect_retina",
        "max_native_zoom",
        "max_zoom",
        "min_native_zoom",
        "min_zoom",
        "no_wrap",
        "tile_size",
        "tms"
       ],
       "url": "https://heatmap-external-a.strava.com//tiles/water/blue/{z}/{x}/{y}.png?v=19"
      }
     },
     "b6c3a13818504d1aae52a60136460545": {
      "model_module": "jupyter-leaflet",
      "model_module_version": "^0.17",
      "model_name": "LeafletMapStyleModel",
      "state": {
       "_model_module_version": "^0.17"
      }
     },
     "b6dbe7a2371d4112bef7bcf93502bcc2": {
      "model_module": "jupyter-leaflet",
      "model_module_version": "^0.17",
      "model_name": "LeafletTileLayerModel",
      "state": {
       "_model_module_version": "^0.17",
       "_view_module_version": "^0.17",
       "attribution": "&copy; <a href=\"https://www.openstreetmap.org/copyright\">OpenStreetMap</a> contributors",
       "base": true,
       "max_zoom": 19,
       "min_zoom": 1,
       "name": "OpenStreetMap.Mapnik",
       "options": [
        "attribution",
        "bounds",
        "detect_retina",
        "max_native_zoom",
        "max_zoom",
        "min_native_zoom",
        "min_zoom",
        "no_wrap",
        "tile_size",
        "tms",
        "zoom_offset"
       ],
       "url": "https://tile.openstreetmap.org/{z}/{x}/{y}.png"
      }
     },
     "b6fafb03728145ca8d6e86106b47d2a6": {
      "model_module": "jupyter-leaflet",
      "model_module_version": "^0.17",
      "model_name": "LeafletAttributionControlModel",
      "state": {
       "_model_module_version": "^0.17",
       "_view_module_version": "^0.17",
       "options": [
        "position",
        "prefix"
       ],
       "position": "bottomright",
       "prefix": "ipyleaflet"
      }
     },
     "b738fe77bce74b17be45040cf05627b0": {
      "model_module": "@jupyter-widgets/base",
      "model_module_version": "1.2.0",
      "model_name": "LayoutModel",
      "state": {}
     },
     "b764c3e8ad814834acea0dc892cdf30b": {
      "model_module": "jupyter-leaflet",
      "model_module_version": "^0.17",
      "model_name": "LeafletMapModel",
      "state": {
       "_model_module_version": "^0.17",
       "_view_module_version": "^0.17",
       "bottom": 344104,
       "center": [
        52.5162,
        13.3777
       ],
       "controls": [
        "IPY_MODEL_0cb0f24d0c1c45168a7d094a3be4d6e4",
        "IPY_MODEL_12074d67a5ee4fc191fbd270299f1a6b"
       ],
       "default_style": "IPY_MODEL_a9451b999c4843a19b1d0d9b372025e9",
       "dragging_style": "IPY_MODEL_664f624affdb4461a10ed9f9dbb5c770",
       "east": 13.544082641601564,
       "fullscreen": false,
       "interpolation": "bilinear",
       "layers": [
        "IPY_MODEL_46cb604980f9481ca76af03e530f4d3f"
       ],
       "layout": "IPY_MODEL_30067bff1ccd4e579bb1483f322b6614",
       "left": 562769,
       "modisdate": "2023-07-11",
       "north": 52.55798590427374,
       "options": [
        "bounce_at_zoom_limits",
        "box_zoom",
        "center",
        "close_popup_on_click",
        "double_click_zoom",
        "dragging",
        "fullscreen",
        "inertia",
        "inertia_deceleration",
        "inertia_max_speed",
        "interpolation",
        "keyboard",
        "keyboard_pan_offset",
        "keyboard_zoom_offset",
        "max_zoom",
        "min_zoom",
        "prefer_canvas",
        "scroll_wheel_zoom",
        "tap",
        "tap_tolerance",
        "touch_zoom",
        "world_copy_jump",
        "zoom",
        "zoom_animation_threshold",
        "zoom_delta",
        "zoom_snap"
       ],
       "prefer_canvas": false,
       "right": 563738,
       "south": 52.47441608702583,
       "style": "IPY_MODEL_37b03791d81647d1b694ede6b4580c42",
       "top": 343704,
       "west": 13.211402893066408,
       "window_url": "http://localhost:8888/notebooks/js/ipyleaflet.ipynb#"
      }
     },
     "b769961a7e984d58b7a5023070215a90": {
      "model_module": "jupyter-leaflet",
      "model_module_version": "^0.17",
      "model_name": "LeafletMapStyleModel",
      "state": {
       "_model_module_version": "^0.17",
       "cursor": "move"
      }
     },
     "b78567e946554daca98e755a1800fb2d": {
      "model_module": "@jupyter-widgets/base",
      "model_module_version": "1.2.0",
      "model_name": "LayoutModel",
      "state": {}
     },
     "b7db805a28514b6cac32b00eef1e5e8b": {
      "model_module": "jupyter-leaflet",
      "model_module_version": "^0.17",
      "model_name": "LeafletTileLayerModel",
      "state": {
       "_model_module_version": "^0.17",
       "_view_module_version": "^0.17",
       "attribution": "&copy; <a href=\"https://www.openstreetmap.org/copyright\">OpenStreetMap</a> contributors",
       "base": true,
       "max_zoom": 19,
       "min_zoom": 1,
       "name": "OpenStreetMap.Mapnik",
       "options": [
        "attribution",
        "bounds",
        "detect_retina",
        "max_native_zoom",
        "max_zoom",
        "min_native_zoom",
        "min_zoom",
        "no_wrap",
        "tile_size",
        "tms",
        "zoom_offset"
       ],
       "url": "https://tile.openstreetmap.org/{z}/{x}/{y}.png"
      }
     },
     "b80ad7606c5b4f399666673b6733b168": {
      "model_module": "jupyter-leaflet",
      "model_module_version": "~0.9.2",
      "model_name": "LeafletTileLayerModel",
      "state": {
       "_model_module_version": "~0.9.2",
       "_view_module_version": "~0.9.2",
       "base": true,
       "max_zoom": 19,
       "min_zoom": 1,
       "options": [
        "attribution",
        "detect_retina",
        "max_zoom",
        "min_zoom",
        "tile_size"
       ]
      }
     },
     "b8180c7fc9dc45bf91e57c59330eedb0": {
      "model_module": "jupyter-leaflet",
      "model_module_version": "^0.17",
      "model_name": "LeafletMapStyleModel",
      "state": {
       "_model_module_version": "^0.17"
      }
     },
     "b828794f83034aaab25399410f77a259": {
      "model_module": "@jupyter-widgets/base",
      "model_module_version": "1.2.0",
      "model_name": "LayoutModel",
      "state": {}
     },
     "b854ed0982c548cf9ff5cb3476e1080d": {
      "model_module": "@jupyter-widgets/controls",
      "model_module_version": "1.5.0",
      "model_name": "HBoxModel",
      "state": {
       "children": [
        "IPY_MODEL_3bb2856dd18b436fba01dbae9b8de050",
        "IPY_MODEL_f25cd12a02344e7096c8148f596de858"
       ],
       "layout": "IPY_MODEL_5f1157722f7947e181d10ef209f82505"
      }
     },
     "b8a1e350ee79442cb5b804d704e1d49c": {
      "model_module": "jupyter-leaflet",
      "model_module_version": "^0.17",
      "model_name": "LeafletTileLayerModel",
      "state": {
       "_model_module_version": "^0.17",
       "_view_module_version": "^0.17",
       "attribution": "&copy; <a href=\"https://www.openstreetmap.org/copyright\">OpenStreetMap</a> contributors &copy; <a href=\"https://carto.com/attributions\">CARTO</a>",
       "base": true,
       "max_zoom": 20,
       "min_zoom": 1,
       "name": "CartoDB.Positron",
       "options": [
        "attribution",
        "bounds",
        "detect_retina",
        "max_native_zoom",
        "max_zoom",
        "min_native_zoom",
        "min_zoom",
        "no_wrap",
        "tile_size",
        "tms",
        "zoom_offset"
       ],
       "url": "https://a.basemaps.cartocdn.com/light_all/{z}/{x}/{y}.png"
      }
     },
     "b8dfb7830263436195f0c6b7a1b62dcb": {
      "model_module": "@jupyter-widgets/base",
      "model_module_version": "1.2.0",
      "model_name": "LayoutModel",
      "state": {}
     },
     "b8f6cb53c7f747c080783b30169e0be7": {
      "model_module": "@jupyter-widgets/controls",
      "model_module_version": "1.5.0",
      "model_name": "DescriptionStyleModel",
      "state": {
       "description_width": ""
      }
     },
     "b92dbb1b3f9b47609bc00d4ce5c2af9f": {
      "model_module": "@jupyter-widgets/base",
      "model_module_version": "1.2.0",
      "model_name": "LayoutModel",
      "state": {}
     },
     "b9401007dbb5460abe10b3e87ac78378": {
      "model_module": "jupyter-leaflet",
      "model_module_version": "^0.17",
      "model_name": "LeafletMapStyleModel",
      "state": {
       "_model_module_version": "^0.17"
      }
     },
     "b9e6a27ec77e43dfb228f3446cf0d263": {
      "model_module": "@jupyter-widgets/base",
      "model_module_version": "1.2.0",
      "model_name": "LayoutModel",
      "state": {}
     },
     "b9f95dfa2b9c491ea0ecf52dea1598d2": {
      "model_module": "jupyter-leaflet",
      "model_module_version": "^0.17",
      "model_name": "LeafletMapStyleModel",
      "state": {
       "_model_module_version": "^0.17",
       "cursor": "move"
      }
     },
     "ba02744d957e421a94f1b8ed332dca8b": {
      "model_module": "jupyter-leaflet",
      "model_module_version": "^0.17",
      "model_name": "LeafletMapModel",
      "state": {
       "_model_module_version": "^0.17",
       "_view_module_version": "^0.17",
       "bottom": 3562,
       "center": [
        30.661,
        -88.645
       ],
       "controls": [
        "IPY_MODEL_e90b70db499d413bb7dcdc4946292083",
        "IPY_MODEL_de11b620537c435c966580f1189d3b97"
       ],
       "default_style": "IPY_MODEL_1a45720002f54232b1455d504db7d2d5",
       "dragging_style": "IPY_MODEL_73ed99dddc414dfa8d32b45fa947c042",
       "east": -67.36816406250001,
       "fullscreen": false,
       "interpolation": "bilinear",
       "layers": [
        "IPY_MODEL_b4b540fff4274ea8bfc367980ff0dfa2",
        "IPY_MODEL_dbe9f0fbdbc04c538c5288249c9d093b"
       ],
       "layout": "IPY_MODEL_7723bbdf50354e77a6aadc1a9524d4eb",
       "left": 1594,
       "modisdate": "2023-07-11",
       "north": 37.92686760148135,
       "options": [
        "bounce_at_zoom_limits",
        "box_zoom",
        "center",
        "close_popup_on_click",
        "double_click_zoom",
        "dragging",
        "fullscreen",
        "inertia",
        "inertia_deceleration",
        "inertia_max_speed",
        "interpolation",
        "keyboard",
        "keyboard_pan_offset",
        "keyboard_zoom_offset",
        "max_zoom",
        "min_zoom",
        "prefer_canvas",
        "scroll_wheel_zoom",
        "tap",
        "tap_tolerance",
        "touch_zoom",
        "world_copy_jump",
        "zoom",
        "zoom_animation_threshold",
        "zoom_delta",
        "zoom_snap"
       ],
       "prefer_canvas": false,
       "right": 2563,
       "south": 22.836945920943855,
       "style": "IPY_MODEL_1a45720002f54232b1455d504db7d2d5",
       "top": 3162,
       "west": -109.95117187500001,
       "window_url": "http://localhost:8888/notebooks/js/ipyleaflet.ipynb#",
       "zoom": 5
      }
     },
     "ba34945c6b224ccfbe246e942df8c80e": {
      "model_module": "jupyter-leaflet",
      "model_module_version": "^0.11.6",
      "model_name": "LeafletMapStyleModel",
      "state": {
       "_model_module_version": "^0.11.6",
       "cursor": "move"
      }
     },
     "ba369b1b0ac24571b692127194bb758f": {
      "model_module": "jupyter-leaflet",
      "model_module_version": "^0.17",
      "model_name": "LeafletTileLayerModel",
      "state": {
       "_model_module_version": "^0.17",
       "_view_module_version": "^0.17",
       "attribution": "&copy; <a href=\"https://www.openstreetmap.org/copyright\">OpenStreetMap</a> contributors",
       "base": true,
       "max_zoom": 19,
       "min_zoom": 1,
       "name": "OpenStreetMap.Mapnik",
       "options": [
        "attribution",
        "bounds",
        "detect_retina",
        "max_native_zoom",
        "max_zoom",
        "min_native_zoom",
        "min_zoom",
        "no_wrap",
        "tile_size",
        "tms",
        "zoom_offset"
       ],
       "url": "https://tile.openstreetmap.org/{z}/{x}/{y}.png"
      }
     },
     "ba5c1058a1f44602aef06ab915214e36": {
      "model_module": "jupyter-leaflet",
      "model_module_version": "^0.17",
      "model_name": "LeafletTileLayerModel",
      "state": {
       "_model_module_version": "^0.17",
       "_view_module_version": "^0.17",
       "attribution": "&copy; <a href=\"https://www.openstreetmap.org/copyright\">OpenStreetMap</a> contributors",
       "base": true,
       "max_zoom": 19,
       "min_zoom": 1,
       "name": "OpenStreetMap.Mapnik",
       "options": [
        "attribution",
        "bounds",
        "detect_retina",
        "max_native_zoom",
        "max_zoom",
        "min_native_zoom",
        "min_zoom",
        "no_wrap",
        "tile_size",
        "tms",
        "zoom_offset"
       ],
       "url": "https://tile.openstreetmap.org/{z}/{x}/{y}.png"
      }
     },
     "ba68032af26f4fc0ae8e4c75740b4a8e": {
      "model_module": "@jupyter-widgets/controls",
      "model_module_version": "1.5.0",
      "model_name": "SliderStyleModel",
      "state": {
       "description_width": ""
      }
     },
     "ba8ec3ce1817473fa0d33a75abebc474": {
      "model_module": "jupyter-leaflet",
      "model_module_version": "^0.12.1",
      "model_name": "LeafletWMSLayerModel",
      "state": {
       "_model_module_version": "^0.12.1",
       "_view_module_version": "^0.12.1",
       "attribution": "Weather data © 2012 IEM Nexrad",
       "crs": "EPSG3857",
       "format": "image/png",
       "layers": "nexrad-n0r-wmst",
       "max_native_zoom": 18,
       "min_native_zoom": 0,
       "options": [
        "attribution",
        "detect_retina",
        "format",
        "layers",
        "max_native_zoom",
        "max_zoom",
        "min_native_zoom",
        "min_zoom",
        "no_wrap",
        "styles",
        "tile_size",
        "time",
        "tms",
        "transparent",
        "uppercase"
       ],
       "time": "2005-08-29T13:00:00Z",
       "transparent": true,
       "url": "https://mesonet.agron.iastate.edu/cgi-bin/wms/nexrad/n0r-t.cgi?"
      }
     },
     "baafe39bc4d14b83b9d0eedea0746142": {
      "model_module": "jupyter-leaflet",
      "model_module_version": "^0.17",
      "model_name": "LeafletTileLayerModel",
      "state": {
       "_model_module_version": "^0.17",
       "_view_module_version": "^0.17",
       "attribution": "&copy; <a href=\"https://www.openstreetmap.org/copyright\">OpenStreetMap</a> contributors",
       "base": true,
       "max_zoom": 19,
       "min_zoom": 1,
       "name": "OpenStreetMap.Mapnik",
       "options": [
        "attribution",
        "bounds",
        "detect_retina",
        "max_native_zoom",
        "max_zoom",
        "min_native_zoom",
        "min_zoom",
        "no_wrap",
        "tile_size",
        "tms",
        "zoom_offset"
       ],
       "url": "https://tile.openstreetmap.org/{z}/{x}/{y}.png"
      }
     },
     "bb60258a2c0644a28d50554462609c6f": {
      "model_module": "@jupyter-widgets/controls",
      "model_module_version": "1.5.0",
      "model_name": "HBoxModel",
      "state": {
       "children": [
        "IPY_MODEL_266ddb908e2e4e26ae3917939d2740a0",
        "IPY_MODEL_4f267a0229024f60bf19ec37620eba8f"
       ],
       "layout": "IPY_MODEL_c7835c0d4a4f4f508f2b1807bef9c8e9"
      }
     },
     "bbc37d7c5b414df9923bf5d15a6b3ac0": {
      "model_module": "jupyter-leaflet",
      "model_module_version": "^0.17",
      "model_name": "LeafletTileLayerModel",
      "state": {
       "_model_module_version": "^0.17",
       "_view_module_version": "^0.17",
       "attribution": "&copy; <a href=\"https://www.openstreetmap.org/copyright\">OpenStreetMap</a> contributors",
       "base": true,
       "max_zoom": 19,
       "min_zoom": 1,
       "name": "OpenStreetMap.Mapnik",
       "options": [
        "attribution",
        "bounds",
        "detect_retina",
        "max_native_zoom",
        "max_zoom",
        "min_native_zoom",
        "min_zoom",
        "no_wrap",
        "tile_size",
        "tms",
        "zoom_offset"
       ],
       "url": "https://tile.openstreetmap.org/{z}/{x}/{y}.png"
      }
     },
     "bc007a82ee5c4adb91ff9952c64077e9": {
      "model_module": "jupyter-leaflet",
      "model_module_version": "^0.12.1",
      "model_name": "LeafletMapStyleModel",
      "state": {
       "_model_module_version": "^0.12.1",
       "cursor": "move"
      }
     },
     "bc1c14399f8d430c8043e8bc194e6c30": {
      "model_module": "@jupyter-widgets/controls",
      "model_module_version": "1.5.0",
      "model_name": "IntSliderModel",
      "state": {
       "description": "Zoom level:",
       "layout": "IPY_MODEL_cc7178927067495a95059ee290fcd42c",
       "max": 19,
       "style": "IPY_MODEL_e91ff7f4c4b84acaa13f4a854edc596d",
       "value": 9
      }
     },
     "bc201a6891424a209008a45c97ea6569": {
      "model_module": "jupyter-leaflet",
      "model_module_version": "^0.17",
      "model_name": "LeafletMapStyleModel",
      "state": {
       "_model_module_version": "^0.17"
      }
     },
     "bc2aa166cd064249bbc57e9c25c29ac9": {
      "model_module": "jupyter-leaflet",
      "model_module_version": "^0.17",
      "model_name": "LeafletZoomControlModel",
      "state": {
       "_model_module_version": "^0.17",
       "_view_module_version": "^0.17",
       "options": [
        "position",
        "zoom_in_text",
        "zoom_in_title",
        "zoom_out_text",
        "zoom_out_title"
       ]
      }
     },
     "bc3b249e5ca44ab38fb85e3a2e2b7ba0": {
      "model_module": "jupyter-leaflet",
      "model_module_version": "^0.17",
      "model_name": "LeafletZoomControlModel",
      "state": {
       "_model_module_version": "^0.17",
       "_view_module_version": "^0.17",
       "options": [
        "position",
        "zoom_in_text",
        "zoom_in_title",
        "zoom_out_text",
        "zoom_out_title"
       ]
      }
     },
     "bc453944cdeb4621ac12ec07f7366b45": {
      "model_module": "@jupyter-widgets/controls",
      "model_module_version": "1.5.0",
      "model_name": "DescriptionStyleModel",
      "state": {
       "description_width": ""
      }
     },
     "bcd0e7c2dd4a4aeebf020ecdd6960b66": {
      "model_module": "jupyter-leaflet",
      "model_module_version": "^0.17",
      "model_name": "LeafletAttributionControlModel",
      "state": {
       "_model_module_version": "^0.17",
       "_view_module_version": "^0.17",
       "options": [
        "position",
        "prefix"
       ],
       "position": "bottomright",
       "prefix": "ipyleaflet"
      }
     },
     "bd0cfd71501549f7a35f8fe8aabe2d4e": {
      "model_module": "jupyter-leaflet",
      "model_module_version": "^0.12.1",
      "model_name": "LeafletMapModel",
      "state": {
       "_model_module_version": "^0.12.1",
       "_view_module_version": "^0.12.1",
       "center": [
        30.661,
        -88.645
       ],
       "controls": [
        "IPY_MODEL_cdf67f8f0b7144cc86281242d3af7f87",
        "IPY_MODEL_9714fac8eab543b5b5c16fc81c08d911"
       ],
       "default_style": "IPY_MODEL_0a7af6451de0499db4eeb1168fe13b7a",
       "dragging_style": "IPY_MODEL_e7fba9c9f9c643a98e4280016fb5be47",
       "east": -67.58789062500001,
       "fullscreen": false,
       "interpolation": "bilinear",
       "layers": [
        "IPY_MODEL_98dea48e9978476180c167eaa75efda7",
        "IPY_MODEL_0e215454cb614a8db3657ec1f175931d"
       ],
       "layout": "IPY_MODEL_6fd29f07c5474ea99fed3461265f9947",
       "modisdate": "yesterday",
       "north": 37.92686760148135,
       "options": [
        "bounce_at_zoom_limits",
        "box_zoom",
        "center",
        "close_popup_on_click",
        "double_click_zoom",
        "dragging",
        "fullscreen",
        "inertia",
        "inertia_deceleration",
        "inertia_max_speed",
        "interpolation",
        "keyboard",
        "keyboard_pan_offset",
        "keyboard_zoom_offset",
        "max_zoom",
        "min_zoom",
        "scroll_wheel_zoom",
        "tap",
        "tap_tolerance",
        "touch_zoom",
        "world_copy_jump",
        "zoom",
        "zoom_animation_threshold",
        "zoom_start"
       ],
       "south": 22.836945920943855,
       "style": "IPY_MODEL_4e2f946ec3f24e0d897f11f9e16da6ec",
       "west": -109.73144531250001,
       "window_url": "http://localhost:8888/notebooks/js/ipyleaflet.ipynb",
       "zoom": 5
      }
     },
     "bd15255bb17041489d6e42bc44d7a1ca": {
      "model_module": "jupyter-leaflet",
      "model_module_version": "^0.17",
      "model_name": "LeafletMapStyleModel",
      "state": {
       "_model_module_version": "^0.17"
      }
     },
     "bd30be30e4e847589ddd7c98154b1e6a": {
      "model_module": "jupyter-leaflet",
      "model_module_version": "^0.17",
      "model_name": "LeafletMapStyleModel",
      "state": {
       "_model_module_version": "^0.17",
       "cursor": "move"
      }
     },
     "bd3bf9151bea4b738d8691866b3196bc": {
      "model_module": "jupyter-leaflet",
      "model_module_version": "^0.17",
      "model_name": "LeafletWidgetControlModel",
      "state": {
       "_model_module": "jupyter-leaflet",
       "_model_module_version": "^0.17",
       "_view_count": null,
       "_view_module": "jupyter-leaflet",
       "_view_module_version": "^0.17",
       "options": [
        "position",
        "transparent_bg"
       ],
       "position": "topright",
       "widget": "IPY_MODEL_752a8535e13843cfb7bfb063a9040692"
      }
     },
     "bd75d1acd65446c29c722f7768ba3089": {
      "model_module": "jupyter-leaflet",
      "model_module_version": "^0.12.1",
      "model_name": "LeafletMapStyleModel",
      "state": {
       "_model_module_version": "^0.12.1",
       "cursor": "move"
      }
     },
     "bd771993de8a41569f4f91669fef6b6c": {
      "model_module": "jupyter-leaflet",
      "model_module_version": "^0.17",
      "model_name": "LeafletZoomControlModel",
      "state": {
       "_model_module_version": "^0.17",
       "_view_module_version": "^0.17",
       "options": [
        "position",
        "zoom_in_text",
        "zoom_in_title",
        "zoom_out_text",
        "zoom_out_title"
       ]
      }
     },
     "bdc572a0ea6948aeb38dd771c8e03efb": {
      "model_module": "@jupyter-widgets/controls",
      "model_module_version": "1.5.0",
      "model_name": "LabelModel",
      "state": {
       "layout": "IPY_MODEL_a4c4e6d2c3dc4f26a01f96702e42345f",
       "style": "IPY_MODEL_cfd744fed5c14e0c8c645b42e7849015",
       "value": "[48.477412672205226, 7.234848425777703]"
      }
     },
     "bdfcc9c1ac464b12a8864b7adc263357": {
      "model_module": "jupyter-leaflet",
      "model_module_version": "^0.12.1",
      "model_name": "LeafletTileLayerModel",
      "state": {
       "_model_module_version": "^0.12.1",
       "_view_module_version": "^0.12.1",
       "attribution": "",
       "max_native_zoom": 18,
       "max_zoom": 19,
       "min_native_zoom": 0,
       "min_zoom": 1,
       "name": "Countries",
       "options": [
        "attribution",
        "detect_retina",
        "max_native_zoom",
        "max_zoom",
        "min_native_zoom",
        "min_zoom",
        "no_wrap",
        "tile_size",
        "tms"
       ],
       "url": ""
      }
     },
     "be0d7f6765bf48b98ec3f395677ca2d7": {
      "model_module": "jupyter-leaflet",
      "model_module_version": "^0.17",
      "model_name": "LeafletMapStyleModel",
      "state": {
       "_model_module_version": "^0.17",
       "cursor": "move"
      }
     },
     "be5bbedfbce14255b1e6fed95e45f7cc": {
      "model_module": "jupyter-leaflet",
      "model_module_version": "^0.17",
      "model_name": "LeafletAttributionControlModel",
      "state": {
       "_model_module_version": "^0.17",
       "_view_module_version": "^0.17",
       "options": [
        "position",
        "prefix"
       ],
       "position": "bottomright",
       "prefix": "ipyleaflet"
      }
     },
     "be81c039c9e64592ac2bb3701ac58fb8": {
      "model_module": "jupyter-leaflet",
      "model_module_version": "^0.17",
      "model_name": "LeafletMapStyleModel",
      "state": {
       "_model_module_version": "^0.17"
      }
     },
     "bea1e4aa3ba14ca098f7092bb9145ba9": {
      "model_module": "jupyter-leaflet",
      "model_module_version": "~0.9.2",
      "model_name": "LeafletTileLayerModel",
      "state": {
       "_model_module_version": "~0.9.2",
       "_view_module_version": "~0.9.2",
       "base": true,
       "max_zoom": 19,
       "min_zoom": 1,
       "options": [
        "attribution",
        "detect_retina",
        "max_zoom",
        "min_zoom",
        "tile_size"
       ]
      }
     },
     "bea68f1a402f4e1fa418e35a934f1031": {
      "model_module": "jupyter-leaflet",
      "model_module_version": "^0.17",
      "model_name": "LeafletAttributionControlModel",
      "state": {
       "_model_module_version": "^0.17",
       "_view_module_version": "^0.17",
       "options": [
        "position",
        "prefix"
       ],
       "position": "bottomright",
       "prefix": "ipyleaflet"
      }
     },
     "bebe4e36c0fb442fb71ab3b173338eff": {
      "model_module": "@jupyter-widgets/base",
      "model_module_version": "1.2.0",
      "model_name": "LayoutModel",
      "state": {}
     },
     "bede2c537e774e7ba8795d2d024b6411": {
      "model_module": "jupyter-leaflet",
      "model_module_version": "^0.17",
      "model_name": "LeafletZoomControlModel",
      "state": {
       "_model_module_version": "^0.17",
       "_view_module_version": "^0.17",
       "options": [
        "position",
        "zoom_in_text",
        "zoom_in_title",
        "zoom_out_text",
        "zoom_out_title"
       ]
      }
     },
     "bedfb00dacdc4b4282bad561a7b173e7": {
      "model_module": "@jupyter-widgets/controls",
      "model_module_version": "1.5.0",
      "model_name": "HBoxModel",
      "state": {
       "children": [
        "IPY_MODEL_a4d7bb63c40a4b33b029fb1f24bcd53d",
        "IPY_MODEL_1c37356bba8a4889bb6e31747a6b7c02"
       ],
       "layout": "IPY_MODEL_72d984681d3b45038d58f6c79f7cd21d"
      }
     },
     "bf20536804d2415fb738261642789099": {
      "model_module": "@jupyter-widgets/base",
      "model_module_version": "1.2.0",
      "model_name": "LayoutModel",
      "state": {}
     },
     "bf36f8539b1b4a2aa048120a351fad7c": {
      "model_module": "jupyter-leaflet",
      "model_module_version": "^0.17",
      "model_name": "LeafletWidgetControlModel",
      "state": {
       "_model_module": "jupyter-leaflet",
       "_model_module_version": "^0.17",
       "_view_count": null,
       "_view_module": "jupyter-leaflet",
       "_view_module_version": "^0.17",
       "options": [
        "position",
        "transparent_bg"
       ],
       "position": "topright",
       "widget": "IPY_MODEL_72bc3c89ba094c03ac7f49499e97809b"
      }
     },
     "bf4952e0e6ed48b7938b7c99d3cc0e65": {
      "model_module": "jupyter-leaflet",
      "model_module_version": "~0.9.2",
      "model_name": "LeafletTileLayerModel",
      "state": {
       "_model_module_version": "~0.9.2",
       "_view_module_version": "~0.9.2",
       "attribution": "Tiles courtesy of <a href=\"http://openstreetmap.se/\" target=\"_blank\">OpenStreetMap Sweden</a> &mdash; Map data &copy; <a href=\"http://www.openstreetmap.org/copyright\">OpenStreetMap</a>",
       "base": true,
       "min_zoom": 1,
       "name": "Hydda.Full",
       "options": [
        "attribution",
        "detect_retina",
        "max_zoom",
        "min_zoom",
        "tile_size"
       ],
       "url": "http://{s}.tile.openstreetmap.se/hydda/full/{z}/{x}/{y}.png"
      }
     },
     "bfb45636ac48465e883c241957c2c930": {
      "model_module": "jupyter-leaflet",
      "model_module_version": "^0.12.1",
      "model_name": "LeafletZoomControlModel",
      "state": {
       "_model_module_version": "^0.12.1",
       "_view_module_version": "^0.12.1",
       "options": [
        "position",
        "zoom_in_text",
        "zoom_in_title",
        "zoom_out_text",
        "zoom_out_title"
       ]
      }
     },
     "c016cd1f0b9548989abb6b83f60fa501": {
      "model_module": "jupyter-leaflet",
      "model_module_version": "~0.9.2",
      "model_name": "LeafletTileLayerModel",
      "state": {
       "_model_module_version": "~0.9.2",
       "_view_module_version": "~0.9.2",
       "base": true,
       "max_zoom": 19,
       "min_zoom": 1,
       "options": [
        "attribution",
        "detect_retina",
        "max_zoom",
        "min_zoom",
        "tile_size"
       ]
      }
     },
     "c03b2d717c914f31a2c8ebaf7a72710a": {
      "model_module": "@jupyter-widgets/base",
      "model_module_version": "1.2.0",
      "model_name": "LayoutModel",
      "state": {}
     },
     "c0415202f7624aae97c37ae5817dc509": {
      "model_module": "jupyter-leaflet",
      "model_module_version": "^0.17",
      "model_name": "LeafletMapStyleModel",
      "state": {
       "_model_module_version": "^0.17"
      }
     },
     "c088cc5194b64dd09bc623025452faec": {
      "model_module": "jupyter-leaflet",
      "model_module_version": "^0.17",
      "model_name": "LeafletZoomControlModel",
      "state": {
       "_model_module_version": "^0.17",
       "_view_module_version": "^0.17",
       "options": [
        "position",
        "zoom_in_text",
        "zoom_in_title",
        "zoom_out_text",
        "zoom_out_title"
       ]
      }
     },
     "c08aee09fe2d4662bc5642362ccf539f": {
      "model_module": "jupyter-leaflet",
      "model_module_version": "^0.12.1",
      "model_name": "LeafletTileLayerModel",
      "state": {
       "_model_module_version": "^0.12.1",
       "_view_module_version": "^0.12.1",
       "attribution": "&copy; <a href=\"http://www.openstreetmap.org/copyright\">OpenStreetMap</a> &copy; <a href=\"http://cartodb.com/attributions\">CartoDB</a>",
       "base": true,
       "max_native_zoom": 18,
       "max_zoom": 20,
       "min_native_zoom": 0,
       "min_zoom": 1,
       "name": "CartoDB.Positron",
       "options": [
        "attribution",
        "detect_retina",
        "max_native_zoom",
        "max_zoom",
        "min_native_zoom",
        "min_zoom",
        "no_wrap",
        "tile_size",
        "tms"
       ],
       "url": "http://c.basemaps.cartocdn.com/light_all/{z}/{x}/{y}.png"
      }
     },
     "c0ce35c6cf4b45a99ac89665b0dc1ecc": {
      "model_module": "jupyter-leaflet",
      "model_module_version": "^0.17",
      "model_name": "LeafletWMSLayerModel",
      "state": {
       "_model_module_version": "^0.17",
       "_view_module_version": "^0.17",
       "attribution": "Weather data © 2012 IEM Nexrad",
       "crs": {
        "custom": false,
        "name": "EPSG3857"
       },
       "format": "image/png",
       "layers": "nexrad-n0r-wmst",
       "options": [
        "attribution",
        "bounds",
        "detect_retina",
        "format",
        "layers",
        "max_native_zoom",
        "max_zoom",
        "min_native_zoom",
        "min_zoom",
        "no_wrap",
        "styles",
        "tile_size",
        "time",
        "tms",
        "transparent",
        "uppercase",
        "zoom_offset"
       ],
       "time": "2005-08-29T13:00:00Z",
       "transparent": true,
       "url": "https://mesonet.agron.iastate.edu/cgi-bin/wms/nexrad/n0r-t.cgi?"
      }
     },
     "c0f98fb4b06b4f0ca02984f8a84890de": {
      "model_module": "jupyter-leaflet",
      "model_module_version": "^0.17",
      "model_name": "LeafletMapModel",
      "state": {
       "_model_module_version": "^0.17",
       "_view_module_version": "^0.17",
       "bottom": 43188,
       "center": [
        52.5162,
        13.3777
       ],
       "controls": [
        "IPY_MODEL_d1e0e78d910f4608a94f91c7d8cc2753",
        "IPY_MODEL_43880b4ab17c4ce198ad29147300bc13",
        "IPY_MODEL_b0b5a9791d3a47208c5c595dc8e23439",
        "IPY_MODEL_f46e23f9906943a39bb8f6f43ae96a55"
       ],
       "default_style": "IPY_MODEL_48e3524a61204a8997105ab075af30db",
       "dragging_style": "IPY_MODEL_cacfc8ba47134f3c955883a118a9f0b4",
       "east": 14.707946777343752,
       "fullscreen": false,
       "interpolation": "bilinear",
       "layers": [
        "IPY_MODEL_17aa6ee312884e5a8ef77123a82ad74c"
       ],
       "layout": "IPY_MODEL_c26a954b83be4ab58ff8b94e99bf2599",
       "left": 69922,
       "modisdate": "2023-07-11",
       "north": 52.8492298820527,
       "options": [
        "bounce_at_zoom_limits",
        "box_zoom",
        "center",
        "close_popup_on_click",
        "double_click_zoom",
        "dragging",
        "fullscreen",
        "inertia",
        "inertia_deceleration",
        "inertia_max_speed",
        "interpolation",
        "keyboard",
        "keyboard_pan_offset",
        "keyboard_zoom_offset",
        "max_zoom",
        "min_zoom",
        "prefer_canvas",
        "scroll_wheel_zoom",
        "tap",
        "tap_tolerance",
        "touch_zoom",
        "world_copy_jump",
        "zoom",
        "zoom_animation_threshold",
        "zoom_delta",
        "zoom_snap"
       ],
       "prefer_canvas": false,
       "right": 70891,
       "south": 52.18066872927717,
       "style": "IPY_MODEL_48e3524a61204a8997105ab075af30db",
       "top": 42788,
       "west": 12.046508789062502,
       "window_url": "http://localhost:8888/notebooks/js/ipyleaflet.ipynb#",
       "zoom": 9
      }
     },
     "c116926ff41b4d3c9f0bb1d25e7bd558": {
      "model_module": "jupyter-leaflet",
      "model_module_version": "^0.17",
      "model_name": "LeafletMapModel",
      "state": {
       "_model_module_version": "^0.17",
       "_view_module_version": "^0.17",
       "bottom": 344104,
       "center": [
        52.5162,
        13.3777
       ],
       "controls": [
        "IPY_MODEL_12778d0a94204574be81ed96cc56407e",
        "IPY_MODEL_33172a3d4ce8423c819d41f761d91102",
        "IPY_MODEL_175583b7c8164f26babfe8a442c7ba6c"
       ],
       "default_style": "IPY_MODEL_b48086993b0f4342aba3019227691fa5",
       "dragging_style": "IPY_MODEL_1a3ec264326c4b9c8d40d96d47b1930a",
       "east": 13.544082641601564,
       "fullscreen": false,
       "interpolation": "bilinear",
       "layers": [
        "IPY_MODEL_8a2841be86984d9eb1f2947cd8d0e5e5"
       ],
       "layout": "IPY_MODEL_1abf1ee407054f8aa66d7cd5a4e4a28e",
       "left": 562769,
       "modisdate": "2023-07-11",
       "north": 52.55798590427374,
       "options": [
        "bounce_at_zoom_limits",
        "box_zoom",
        "center",
        "close_popup_on_click",
        "double_click_zoom",
        "dragging",
        "fullscreen",
        "inertia",
        "inertia_deceleration",
        "inertia_max_speed",
        "interpolation",
        "keyboard",
        "keyboard_pan_offset",
        "keyboard_zoom_offset",
        "max_zoom",
        "min_zoom",
        "prefer_canvas",
        "scroll_wheel_zoom",
        "tap",
        "tap_tolerance",
        "touch_zoom",
        "world_copy_jump",
        "zoom",
        "zoom_animation_threshold",
        "zoom_delta",
        "zoom_snap"
       ],
       "prefer_canvas": false,
       "right": 563738,
       "south": 52.47441608702583,
       "style": "IPY_MODEL_c71fb53427bd4a50a1c60cb6a3cf34a1",
       "top": 343704,
       "west": 13.211402893066408,
       "window_url": "http://localhost:8888/notebooks/js/ipyleaflet.ipynb#"
      }
     },
     "c1220e0822904c2d8bfef012b0752484": {
      "model_module": "jupyter-leaflet",
      "model_module_version": "^0.17",
      "model_name": "LeafletWidgetControlModel",
      "state": {
       "_model_module": "jupyter-leaflet",
       "_model_module_version": "^0.17",
       "_view_count": null,
       "_view_module": "jupyter-leaflet",
       "_view_module_version": "^0.17",
       "options": [
        "position",
        "transparent_bg"
       ],
       "position": "topright",
       "widget": "IPY_MODEL_c9207ae6864447ea92f63bb5216f62d4"
      }
     },
     "c12f9be0beb142719cbfa6c69b16b783": {
      "model_module": "jupyter-leaflet",
      "model_module_version": "^0.11.2",
      "model_name": "LeafletZoomControlModel",
      "state": {
       "_model_module_version": "^0.11.2",
       "_view_module_version": "^0.11.2",
       "options": [
        "position",
        "zoom_in_text",
        "zoom_in_title",
        "zoom_out_text",
        "zoom_out_title"
       ]
      }
     },
     "c137297744504d66b7a0b3d066980cfd": {
      "model_module": "jupyter-leaflet",
      "model_module_version": "^0.12.6",
      "model_name": "LeafletMapModel",
      "state": {
       "_model_module_version": "^0.12.6",
       "_view_module_version": "^0.12.6",
       "center": [
        30.661,
        -88.645
       ],
       "controls": [
        "IPY_MODEL_0da2004b395e4ecf9d6a2ad9fb74b50a",
        "IPY_MODEL_a8a8c69859ad4161ac0047e9e485c3ae"
       ],
       "default_style": "IPY_MODEL_928abc41733c4006afc005da6cf18162",
       "dragging_style": "IPY_MODEL_a624f8baf42b4d25bc006e559e209078",
       "east": -67.06054687500001,
       "fullscreen": false,
       "interpolation": "bilinear",
       "layers": [
        "IPY_MODEL_1319c1f69f4a442e84ffdc770fb8009c",
        "IPY_MODEL_11db33042bcd49e697117604b2b9b1e3"
       ],
       "layout": "IPY_MODEL_b68b426e689446479907046bde4cfb50",
       "modisdate": "yesterday",
       "north": 37.92686760148135,
       "options": [
        "bounce_at_zoom_limits",
        "box_zoom",
        "center",
        "close_popup_on_click",
        "double_click_zoom",
        "dragging",
        "fullscreen",
        "inertia",
        "inertia_deceleration",
        "inertia_max_speed",
        "interpolation",
        "keyboard",
        "keyboard_pan_offset",
        "keyboard_zoom_offset",
        "max_zoom",
        "min_zoom",
        "scroll_wheel_zoom",
        "tap",
        "tap_tolerance",
        "touch_zoom",
        "world_copy_jump",
        "zoom",
        "zoom_animation_threshold",
        "zoom_start"
       ],
       "south": 22.836945920943855,
       "style": "IPY_MODEL_411c791aa63944528addcab259586c96",
       "west": -110.21484375,
       "window_url": "http://localhost:8888/notebooks/js/ipyleaflet.ipynb",
       "zoom": 5
      }
     },
     "c142684a64e6482daa850aba6087dca3": {
      "model_module": "@jupyter-widgets/base",
      "model_module_version": "1.2.0",
      "model_name": "LayoutModel",
      "state": {}
     },
     "c206fe5856fc41a0848370624aa66829": {
      "model_module": "jupyter-leaflet",
      "model_module_version": "~0.9.2",
      "model_name": "LeafletTileLayerModel",
      "state": {
       "_model_module_version": "~0.9.2",
       "_view_module_version": "~0.9.2",
       "base": true,
       "max_zoom": 19,
       "min_zoom": 1,
       "options": [
        "attribution",
        "detect_retina",
        "max_zoom",
        "min_zoom",
        "tile_size"
       ]
      }
     },
     "c213e497075443b594ac760792ccccc0": {
      "model_module": "jupyter-leaflet",
      "model_module_version": "^0.17",
      "model_name": "LeafletMapStyleModel",
      "state": {
       "_model_module_version": "^0.17"
      }
     },
     "c219e0187806487b9c02a9cd31efbf6e": {
      "model_module": "jupyter-leaflet",
      "model_module_version": "^0.12.1",
      "model_name": "LeafletZoomControlModel",
      "state": {
       "_model_module_version": "^0.12.1",
       "_view_module_version": "^0.12.1",
       "options": [
        "position",
        "zoom_in_text",
        "zoom_in_title",
        "zoom_out_text",
        "zoom_out_title"
       ]
      }
     },
     "c21d4535b6ca460a95dec55bdb1d3c99": {
      "model_module": "jupyter-leaflet",
      "model_module_version": "^0.17",
      "model_name": "LeafletMapStyleModel",
      "state": {
       "_model_module_version": "^0.17",
       "cursor": "move"
      }
     },
     "c268dc47817d4e50aead0289e5ea65fc": {
      "model_module": "jupyter-leaflet",
      "model_module_version": "^0.17",
      "model_name": "LeafletAttributionControlModel",
      "state": {
       "_model_module_version": "^0.17",
       "_view_module_version": "^0.17",
       "options": [
        "position",
        "prefix"
       ],
       "position": "bottomright",
       "prefix": "ipyleaflet"
      }
     },
     "c26a954b83be4ab58ff8b94e99bf2599": {
      "model_module": "@jupyter-widgets/base",
      "model_module_version": "1.2.0",
      "model_name": "LayoutModel",
      "state": {}
     },
     "c27171471dac44de84e982c7f3a12bcf": {
      "model_module": "jupyter-leaflet",
      "model_module_version": "^0.17",
      "model_name": "LeafletZoomControlModel",
      "state": {
       "_model_module_version": "^0.17",
       "_view_module_version": "^0.17",
       "options": [
        "position",
        "zoom_in_text",
        "zoom_in_title",
        "zoom_out_text",
        "zoom_out_title"
       ]
      }
     },
     "c2b2c347644b41fa80608209b6117319": {
      "model_module": "jupyter-leaflet",
      "model_module_version": "^0.17",
      "model_name": "LeafletAttributionControlModel",
      "state": {
       "_model_module_version": "^0.17",
       "_view_module_version": "^0.17",
       "options": [
        "position",
        "prefix"
       ],
       "position": "bottomright",
       "prefix": "ipyleaflet"
      }
     },
     "c2e3c84d6d1f4473980bc53496d1f16a": {
      "model_module": "@jupyter-widgets/base",
      "model_module_version": "1.2.0",
      "model_name": "LayoutModel",
      "state": {}
     },
     "c2e3d96eb1e144279a9fca82da9680e7": {
      "model_module": "@jupyter-widgets/controls",
      "model_module_version": "1.5.0",
      "model_name": "HBoxModel",
      "state": {
       "children": [
        "IPY_MODEL_7b5aca1085ad42b4b33b2c195e9c961b",
        "IPY_MODEL_ccf8beafa9ab420280af40ae64c53136"
       ],
       "layout": "IPY_MODEL_f250e151010542dbb5c81443546ce28d"
      }
     },
     "c31c6f8d3ce6405fa71619002b7e4b74": {
      "model_module": "jupyter-leaflet",
      "model_module_version": "^0.12.1",
      "model_name": "LeafletMapStyleModel",
      "state": {
       "_model_module_version": "^0.12.1"
      }
     },
     "c32a65b291894553bc7c624e9de15655": {
      "model_module": "jupyter-leaflet",
      "model_module_version": "^0.17",
      "model_name": "LeafletMapStyleModel",
      "state": {
       "_model_module_version": "^0.17",
       "cursor": "move"
      }
     },
     "c32fc08d31374c6381c22f11efb2339c": {
      "model_module": "jupyter-leaflet",
      "model_module_version": "^0.17",
      "model_name": "LeafletMapModel",
      "state": {
       "_model_module_version": "^0.17",
       "_view_module_version": "^0.17",
       "bottom": 5574,
       "center": [
        52.5162,
        13.3777
       ],
       "controls": [
        "IPY_MODEL_7b5de46fbf03452b947964102c0682b9",
        "IPY_MODEL_27b70a9a4f5f4eefbf97f965afbbf52c"
       ],
       "default_style": "IPY_MODEL_076d7d71a7fe4417bfdff6ef8dd3258f",
       "dragging_style": "IPY_MODEL_5fb422c2e82f4bcda043f797f85fceb4",
       "east": 24.01611328125,
       "fullscreen": false,
       "interpolation": "bilinear",
       "layers": [
        "IPY_MODEL_ca5f51d0ddfc41e1a5edc809a463ad34"
       ],
       "layout": "IPY_MODEL_0157cf67271245d980e16a0b6552ae7d",
       "left": 8316,
       "modisdate": "2023-07-11",
       "north": 55.10351605801967,
       "options": [
        "bounce_at_zoom_limits",
        "box_zoom",
        "center",
        "close_popup_on_click",
        "double_click_zoom",
        "dragging",
        "fullscreen",
        "inertia",
        "inertia_deceleration",
        "inertia_max_speed",
        "interpolation",
        "keyboard",
        "keyboard_pan_offset",
        "keyboard_zoom_offset",
        "max_zoom",
        "min_zoom",
        "prefer_canvas",
        "scroll_wheel_zoom",
        "tap",
        "tap_tolerance",
        "touch_zoom",
        "world_copy_jump",
        "zoom",
        "zoom_animation_threshold",
        "zoom_delta",
        "zoom_snap"
       ],
       "prefer_canvas": false,
       "right": 9285,
       "south": 49.75287993415023,
       "style": "IPY_MODEL_f2ffec69b2be490cb213e40bbd43406e",
       "top": 5174,
       "west": 2.7246093750000004,
       "window_url": "http://localhost:8888/notebooks/js/ipyleaflet.ipynb#",
       "zoom": 6
      }
     },
     "c373e829cf774af3b7b2c630deff3637": {
      "model_module": "jupyter-leaflet",
      "model_module_version": "^0.17",
      "model_name": "LeafletAttributionControlModel",
      "state": {
       "_model_module_version": "^0.17",
       "_view_module_version": "^0.17",
       "options": [
        "position",
        "prefix"
       ],
       "position": "bottomright",
       "prefix": "ipyleaflet"
      }
     },
     "c39325ab8934495f93afddd6a8a30134": {
      "model_module": "jupyter-leaflet",
      "model_module_version": "^0.17",
      "model_name": "LeafletAttributionControlModel",
      "state": {
       "_model_module_version": "^0.17",
       "_view_module_version": "^0.17",
       "options": [
        "position",
        "prefix"
       ],
       "position": "bottomright",
       "prefix": "ipyleaflet"
      }
     },
     "c3c07df436dc4be5938b099d0f69fd11": {
      "model_module": "jupyter-leaflet",
      "model_module_version": "^0.17",
      "model_name": "LeafletTileLayerModel",
      "state": {
       "_model_module_version": "^0.17",
       "_view_module_version": "^0.17",
       "attribution": "Map tiles by <a href=\"https://labs.strava.com/heatmap\">Strava 2021</a>",
       "base": true,
       "max_zoom": 15,
       "min_zoom": 1,
       "name": "Strava.All",
       "options": [
        "attribution",
        "bounds",
        "detect_retina",
        "max_native_zoom",
        "max_zoom",
        "min_native_zoom",
        "min_zoom",
        "no_wrap",
        "tile_size",
        "tms",
        "zoom_offset"
       ],
       "url": "https://heatmap-external-a.strava.com/tiles/all/hot/{z}/{x}/{y}.png"
      }
     },
     "c42a2e82ab2845e8b4b5c0510feda95c": {
      "model_module": "@jupyter-widgets/controls",
      "model_module_version": "1.5.0",
      "model_name": "LabelModel",
      "state": {
       "layout": "IPY_MODEL_20918eb5b0bd4a449bac144c835afe7d",
       "style": "IPY_MODEL_b56aff1585784e4399c9cd52850bdf33",
       "value": "[52.81039894261704, 12.72353461806008]"
      }
     },
     "c42c2c4a603443d7a9a02958cd5f6820": {
      "model_module": "@jupyter-widgets/base",
      "model_module_version": "1.2.0",
      "model_name": "LayoutModel",
      "state": {}
     },
     "c457ba0ce6d24041b2acf1a390ff6cca": {
      "model_module": "@jupyter-widgets/base",
      "model_module_version": "1.2.0",
      "model_name": "LayoutModel",
      "state": {}
     },
     "c483a8118ff949f5b85602c37cac9e62": {
      "model_module": "jupyter-leaflet",
      "model_module_version": "^0.17",
      "model_name": "LeafletMapStyleModel",
      "state": {
       "_model_module_version": "^0.17"
      }
     },
     "c4ce3a568754485988eeb9ffb5081978": {
      "model_module": "jupyter-leaflet",
      "model_module_version": "^0.12.1",
      "model_name": "LeafletMapStyleModel",
      "state": {
       "_model_module_version": "^0.12.1"
      }
     },
     "c4d3137deb634112b4c75c29d77982c7": {
      "model_module": "jupyter-leaflet",
      "model_module_version": "^0.12.1",
      "model_name": "LeafletTileLayerModel",
      "state": {
       "_model_module_version": "^0.12.1",
       "_view_module_version": "^0.12.1",
       "attribution": "",
       "max_native_zoom": 18,
       "max_zoom": 19,
       "min_native_zoom": 0,
       "min_zoom": 1,
       "name": "Countries",
       "options": [
        "attribution",
        "detect_retina",
        "max_native_zoom",
        "max_zoom",
        "min_native_zoom",
        "min_zoom",
        "no_wrap",
        "tile_size",
        "tms"
       ],
       "url": ""
      }
     },
     "c4e20d4c78964276bae5c988f38fc0f7": {
      "model_module": "jupyter-leaflet",
      "model_module_version": "^0.17",
      "model_name": "LeafletMapStyleModel",
      "state": {
       "_model_module_version": "^0.17",
       "cursor": "move"
      }
     },
     "c4e983faf478425bbeeeb983d510f41f": {
      "model_module": "jupyter-leaflet",
      "model_module_version": "^0.17",
      "model_name": "LeafletAttributionControlModel",
      "state": {
       "_model_module_version": "^0.17",
       "_view_module_version": "^0.17",
       "options": [
        "position",
        "prefix"
       ],
       "position": "bottomright",
       "prefix": "ipyleaflet"
      }
     },
     "c4fa2c4911b24d77baf20cd698de64f9": {
      "model_module": "jupyter-leaflet",
      "model_module_version": "^0.17",
      "model_name": "LeafletWidgetControlModel",
      "state": {
       "_model_module": "jupyter-leaflet",
       "_model_module_version": "^0.17",
       "_view_count": null,
       "_view_module": "jupyter-leaflet",
       "_view_module_version": "^0.17",
       "options": [
        "position",
        "transparent_bg"
       ],
       "position": "topright",
       "widget": "IPY_MODEL_28d1f71e60c24055a9a4f0e5db0ba96c"
      }
     },
     "c50a52515acd43dcb2cc5e9d86cb3961": {
      "model_module": "jupyter-leaflet",
      "model_module_version": "^0.17",
      "model_name": "LeafletZoomControlModel",
      "state": {
       "_model_module_version": "^0.17",
       "_view_module_version": "^0.17",
       "options": [
        "position",
        "zoom_in_text",
        "zoom_in_title",
        "zoom_out_text",
        "zoom_out_title"
       ]
      }
     },
     "c5760c12f721426ca03a320fad859dd5": {
      "model_module": "@jupyter-widgets/controls",
      "model_module_version": "1.5.0",
      "model_name": "IntSliderModel",
      "state": {
       "description": "Zoom level:",
       "layout": "IPY_MODEL_6e12cf995e2b402fb3108180407cdf61",
       "max": 19,
       "style": "IPY_MODEL_0cdd7c90226941558bf2c62ff3490968",
       "value": 9
      }
     },
     "c58bbc9662de43e9b5866e6b48bc3401": {
      "model_module": "jupyter-leaflet",
      "model_module_version": "~0.9.2",
      "model_name": "LeafletMapModel",
      "state": {
       "_model_module_version": "~0.9.2",
       "_view_module_version": "~0.9.2",
       "basemap": {
        "attribution": "Tiles courtesy of <a href=\"http://openstreetmap.se/\" target=\"_blank\">OpenStreetMap Sweden</a> &mdash; Map data &copy; <a href=\"http://www.openstreetmap.org/copyright\">OpenStreetMap</a>",
        "max_zoom": 18,
        "name": "Hydda.Full",
        "url": "http://{s}.tile.openstreetmap.se/hydda/full/{z}/{x}/{y}.png"
       },
       "center": [
        50,
        10
       ],
       "east": 12.689208984375002,
       "interpolation": "bilinear",
       "layers": [
        "IPY_MODEL_02bad0f064b146cea71fef9554dfc13b"
       ],
       "layout": "IPY_MODEL_57293d8c444b44868b65b3cdc0c735e6",
       "modisdate": "yesterday",
       "north": 50.70167663576478,
       "options": [
        "attribution_control",
        "basemap",
        "bounce_at_zoom_limits",
        "box_zoom",
        "center",
        "close_popup_on_click",
        "double_click_zoom",
        "dragging",
        "inertia",
        "inertia_deceleration",
        "inertia_max_speed",
        "interpolation",
        "keyboard",
        "keyboard_pan_offset",
        "keyboard_zoom_offset",
        "max_zoom",
        "min_zoom",
        "scroll_wheel_zoom",
        "tap",
        "tap_tolerance",
        "touch_zoom",
        "world_copy_jump",
        "zoom",
        "zoom_animation_threshold",
        "zoom_control",
        "zoom_start"
       ],
       "south": 49.28930640196742,
       "west": 7.3114013671875,
       "window_url": "http://localhost:8888/notebooks/js/ipyleaflet.ipynb",
       "zoom": 8
      }
     },
     "c5bfdd31221642de94e778eb1294d778": {
      "model_module": "jupyter-leaflet",
      "model_module_version": "^0.17",
      "model_name": "LeafletTileLayerModel",
      "state": {
       "_model_module_version": "^0.17",
       "_view_module_version": "^0.17",
       "attribution": "&copy; <a href=\"https://www.openstreetmap.org/copyright\">OpenStreetMap</a> contributors",
       "base": true,
       "max_zoom": 19,
       "min_zoom": 1,
       "name": "OpenStreetMap.Mapnik",
       "options": [
        "attribution",
        "bounds",
        "detect_retina",
        "max_native_zoom",
        "max_zoom",
        "min_native_zoom",
        "min_zoom",
        "no_wrap",
        "tile_size",
        "tms",
        "zoom_offset"
       ],
       "url": "https://tile.openstreetmap.org/{z}/{x}/{y}.png"
      }
     },
     "c63d0f16ea364f85942c0ae9644af611": {
      "model_module": "jupyter-leaflet",
      "model_module_version": "^0.17",
      "model_name": "LeafletZoomControlModel",
      "state": {
       "_model_module_version": "^0.17",
       "_view_module_version": "^0.17",
       "options": [
        "position",
        "zoom_in_text",
        "zoom_in_title",
        "zoom_out_text",
        "zoom_out_title"
       ]
      }
     },
     "c6780db2034d45b7a1d2ec8e5e81e67c": {
      "model_module": "@jupyter-widgets/base",
      "model_module_version": "1.2.0",
      "model_name": "LayoutModel",
      "state": {}
     },
     "c6f0eb605ba64cbe862f3a91b8ab3e0a": {
      "model_module": "jupyter-leaflet",
      "model_module_version": "^0.17",
      "model_name": "LeafletMapStyleModel",
      "state": {
       "_model_module_version": "^0.17",
       "cursor": "move"
      }
     },
     "c6f2b6b20bee45698bc53f43766cb2cf": {
      "model_module": "jupyter-leaflet",
      "model_module_version": "^0.17",
      "model_name": "LeafletZoomControlModel",
      "state": {
       "_model_module_version": "^0.17",
       "_view_module_version": "^0.17",
       "options": [
        "position",
        "zoom_in_text",
        "zoom_in_title",
        "zoom_out_text",
        "zoom_out_title"
       ]
      }
     },
     "c71fb53427bd4a50a1c60cb6a3cf34a1": {
      "model_module": "jupyter-leaflet",
      "model_module_version": "^0.17",
      "model_name": "LeafletMapStyleModel",
      "state": {
       "_model_module_version": "^0.17"
      }
     },
     "c7835c0d4a4f4f508f2b1807bef9c8e9": {
      "model_module": "@jupyter-widgets/base",
      "model_module_version": "1.2.0",
      "model_name": "LayoutModel",
      "state": {}
     },
     "c7a9c8ba9d2b4290b9bfa2f1ee4fb88e": {
      "model_module": "@jupyter-widgets/controls",
      "model_module_version": "1.5.0",
      "model_name": "LinkModel",
      "state": {
       "source": [
        "IPY_MODEL_28d1f71e60c24055a9a4f0e5db0ba96c",
        "value"
       ],
       "target": [
        "IPY_MODEL_d985122f6cac4fa88a1d7e94f4167fad",
        "zoom"
       ]
      }
     },
     "c7d5ac2178cf49e4a07e7e0005262fec": {
      "model_module": "@jupyter-widgets/controls",
      "model_module_version": "1.5.0",
      "model_name": "HBoxModel",
      "state": {
       "children": [
        "IPY_MODEL_5bd4e9b3553f444f8e312641b88e3422",
        "IPY_MODEL_2cfda4e19e344a719b60b372ed11fb04"
       ],
       "layout": "IPY_MODEL_41ca183bddee4336b1b6b0c13712ed0c"
      }
     },
     "c7f719791a594187b17822525e10d70c": {
      "model_module": "jupyter-leaflet",
      "model_module_version": "^0.12.1",
      "model_name": "LeafletAttributionControlModel",
      "state": {
       "_model_module_version": "^0.12.1",
       "_view_module_version": "^0.12.1",
       "options": [
        "position",
        "prefix"
       ],
       "position": "bottomright",
       "prefix": "Leaflet"
      }
     },
     "c823c022404f4ca0a742d9e9d1c3904a": {
      "model_module": "@jupyter-widgets/controls",
      "model_module_version": "1.5.0",
      "model_name": "LinkModel",
      "state": {
       "source": [
        "IPY_MODEL_e3d45dcd83d445a8a1b0a7411c781115",
        "value"
       ],
       "target": [
        "IPY_MODEL_8412b4d3078d48b48dddd02a382ff22e",
        "zoom"
       ]
      }
     },
     "c866bc47f6074f0a9991ec310919a072": {
      "model_module": "jupyter-leaflet",
      "model_module_version": "^0.17",
      "model_name": "LeafletMapStyleModel",
      "state": {
       "_model_module_version": "^0.17"
      }
     },
     "c88b5c9abf2a4d13902a3594cd4ce303": {
      "model_module": "@jupyter-widgets/base",
      "model_module_version": "1.2.0",
      "model_name": "LayoutModel",
      "state": {}
     },
     "c8b2566cd4874735b592c3a1b365def2": {
      "model_module": "@jupyter-widgets/base",
      "model_module_version": "1.2.0",
      "model_name": "LayoutModel",
      "state": {}
     },
     "c8e3511122714c31a87717c6bcb7e50d": {
      "model_module": "jupyter-leaflet",
      "model_module_version": "^0.17",
      "model_name": "LeafletTileLayerModel",
      "state": {
       "_model_module_version": "^0.17",
       "_view_module_version": "^0.17",
       "attribution": "&copy; <a href=\"https://www.openstreetmap.org/copyright\">OpenStreetMap</a> contributors",
       "base": true,
       "max_zoom": 19,
       "min_zoom": 1,
       "name": "OpenStreetMap.Mapnik",
       "options": [
        "attribution",
        "bounds",
        "detect_retina",
        "max_native_zoom",
        "max_zoom",
        "min_native_zoom",
        "min_zoom",
        "no_wrap",
        "tile_size",
        "tms",
        "zoom_offset"
       ],
       "url": "https://tile.openstreetmap.org/{z}/{x}/{y}.png"
      }
     },
     "c9207ae6864447ea92f63bb5216f62d4": {
      "model_module": "@jupyter-widgets/controls",
      "model_module_version": "1.5.0",
      "model_name": "IntSliderModel",
      "state": {
       "description": "Zoom level:",
       "layout": "IPY_MODEL_786144d18b614041918b3640127372e9",
       "max": 19,
       "style": "IPY_MODEL_93fca842981849c98bda0849b72ff825",
       "value": 19
      }
     },
     "c930e7640d8f4b3598277763f25975e6": {
      "model_module": "jupyter-leaflet",
      "model_module_version": "~0.9.2",
      "model_name": "LeafletTileLayerModel",
      "state": {
       "_model_module_version": "~0.9.2",
       "_view_module_version": "~0.9.2",
       "base": true,
       "max_zoom": 19,
       "min_zoom": 1,
       "options": [
        "attribution",
        "detect_retina",
        "max_zoom",
        "min_zoom",
        "tile_size"
       ]
      }
     },
     "c97ef181e57044adb9a3ccbfe9bb11c4": {
      "model_module": "jupyter-leaflet",
      "model_module_version": "^0.11.6",
      "model_name": "LeafletMapModel",
      "state": {
       "_model_module_version": "^0.11.6",
       "_view_module_version": "^0.11.6",
       "basemap": {
        "attribution": "Tiles courtesy of <a href=\"http://openstreetmap.se/\" target=\"_blank\">OpenStreetMap Sweden</a> &mdash; Map data &copy; <a href=\"http://www.openstreetmap.org/copyright\">OpenStreetMap</a>",
        "max_zoom": 18,
        "name": "Hydda.Full",
        "url": "http://{s}.tile.openstreetmap.se/hydda/full/{z}/{x}/{y}.png"
       },
       "center": [
        48.00094957553023,
        8.003540039062502
       ],
       "controls": [
        "IPY_MODEL_d04a9ef122cb4ed0bb49f501ce124b20",
        "IPY_MODEL_ccb4e06099354913b84331473422efa8"
       ],
       "default_style": "IPY_MODEL_e62b5cbddd50413487eef0087ede16db",
       "dragging_style": "IPY_MODEL_ba34945c6b224ccfbe246e942df8c80e",
       "east": -180,
       "fullscreen": false,
       "interpolation": "bilinear",
       "layers": [
        "IPY_MODEL_9f09bce1cbde4dd1a1632fe26532512f",
        "IPY_MODEL_021ea006d09a483e9bcf95a7483d4f91"
       ],
       "layout": "IPY_MODEL_4e7caa70ef2b4fecafac5be50db06304",
       "modisdate": "yesterday",
       "north": -90,
       "options": [
        "basemap",
        "bounce_at_zoom_limits",
        "box_zoom",
        "center",
        "close_popup_on_click",
        "double_click_zoom",
        "dragging",
        "fullscreen",
        "inertia",
        "inertia_deceleration",
        "inertia_max_speed",
        "interpolation",
        "keyboard",
        "keyboard_pan_offset",
        "keyboard_zoom_offset",
        "max_zoom",
        "min_zoom",
        "scroll_wheel_zoom",
        "tap",
        "tap_tolerance",
        "touch_zoom",
        "world_copy_jump",
        "zoom",
        "zoom_animation_threshold",
        "zoom_start"
       ],
       "south": 90,
       "style": "IPY_MODEL_e62b5cbddd50413487eef0087ede16db",
       "west": 180,
       "window_url": "http://localhost:8888/notebooks/js/ipyleaflet.ipynb",
       "zoom": 8
      }
     },
     "c9bed6347b1f4336bfabb11f56ae9bb4": {
      "model_module": "@jupyter-widgets/controls",
      "model_module_version": "1.5.0",
      "model_name": "LabelModel",
      "state": {
       "layout": "IPY_MODEL_3d6768e1a575403fa6811666468982f1",
       "style": "IPY_MODEL_72fa4a93850e44139ab522d27571770f",
       "value": "[47.87779360064788, 7.189975716061882]"
      }
     },
     "ca5f51d0ddfc41e1a5edc809a463ad34": {
      "model_module": "jupyter-leaflet",
      "model_module_version": "^0.17",
      "model_name": "LeafletTileLayerModel",
      "state": {
       "_model_module_version": "^0.17",
       "_view_module_version": "^0.17",
       "attribution": "&copy; <a href=\"https://www.openstreetmap.org/copyright\">OpenStreetMap</a> contributors",
       "base": true,
       "max_zoom": 19,
       "min_zoom": 1,
       "name": "OpenStreetMap.Mapnik",
       "options": [
        "attribution",
        "bounds",
        "detect_retina",
        "max_native_zoom",
        "max_zoom",
        "min_native_zoom",
        "min_zoom",
        "no_wrap",
        "tile_size",
        "tms",
        "zoom_offset"
       ],
       "url": "https://tile.openstreetmap.org/{z}/{x}/{y}.png"
      }
     },
     "ca6c593a944242c29e705cebf1768163": {
      "model_module": "jupyter-leaflet",
      "model_module_version": "^0.17",
      "model_name": "LeafletTileLayerModel",
      "state": {
       "_model_module_version": "^0.17",
       "_view_module_version": "^0.17",
       "attribution": "&copy; <a href=\"https://www.openstreetmap.org/copyright\">OpenStreetMap</a> contributors",
       "base": true,
       "max_zoom": 19,
       "min_zoom": 1,
       "name": "OpenStreetMap.Mapnik",
       "options": [
        "attribution",
        "bounds",
        "detect_retina",
        "max_native_zoom",
        "max_zoom",
        "min_native_zoom",
        "min_zoom",
        "no_wrap",
        "tile_size",
        "tms",
        "zoom_offset"
       ],
       "url": "https://tile.openstreetmap.org/{z}/{x}/{y}.png"
      }
     },
     "caa2755fb9e140a28eaacbb2e7171a2d": {
      "model_module": "jupyter-leaflet",
      "model_module_version": "^0.12.1",
      "model_name": "LeafletTileLayerModel",
      "state": {
       "_model_module_version": "^0.12.1",
       "_view_module_version": "^0.12.1",
       "attribution": "Map tiles by <a href=\"https://labs.strava.com/heatmap\">Strava 2017</a>",
       "max_native_zoom": 18,
       "max_zoom": 15,
       "min_native_zoom": 0,
       "min_zoom": 1,
       "name": "Strava.Water",
       "options": [
        "attribution",
        "detect_retina",
        "max_native_zoom",
        "max_zoom",
        "min_native_zoom",
        "min_zoom",
        "no_wrap",
        "tile_size",
        "tms"
       ],
       "url": "https://heatmap-external-a.strava.com//tiles/water/blue/{z}/{x}/{y}.png?v=19"
      }
     },
     "cacfc8ba47134f3c955883a118a9f0b4": {
      "model_module": "jupyter-leaflet",
      "model_module_version": "^0.17",
      "model_name": "LeafletMapStyleModel",
      "state": {
       "_model_module_version": "^0.17",
       "cursor": "move"
      }
     },
     "cb66983e061e4b2eae6e76520878dd60": {
      "model_module": "@jupyter-widgets/base",
      "model_module_version": "1.2.0",
      "model_name": "LayoutModel",
      "state": {}
     },
     "cb7e9c8e2cc94856b95c09053956d613": {
      "model_module": "jupyter-leaflet",
      "model_module_version": "^0.17",
      "model_name": "LeafletMapModel",
      "state": {
       "_model_module_version": "^0.17",
       "_view_module_version": "^0.17",
       "center": [
        [
         52.5345,
         13.4226
        ]
       ],
       "controls": [
        "IPY_MODEL_a8dff5e50888432fa531433065251a13",
        "IPY_MODEL_a6e71869a4c84f12ab9311d10b4b28ea"
       ],
       "default_style": "IPY_MODEL_6a0c8f188fec419fb73a69770ffa6eef",
       "dragging_style": "IPY_MODEL_633b1b1f980d451e9f7c60ab1adc962f",
       "fullscreen": false,
       "interpolation": "bilinear",
       "layers": [
        "IPY_MODEL_f1f1cb2fd2be4183a71a436c30530018"
       ],
       "layout": "IPY_MODEL_cd54249847e2413c8c88a4714629b58e",
       "modisdate": "2023-07-11",
       "options": [
        "bounce_at_zoom_limits",
        "box_zoom",
        "center",
        "close_popup_on_click",
        "double_click_zoom",
        "dragging",
        "fullscreen",
        "inertia",
        "inertia_deceleration",
        "inertia_max_speed",
        "interpolation",
        "keyboard",
        "keyboard_pan_offset",
        "keyboard_zoom_offset",
        "max_zoom",
        "min_zoom",
        "prefer_canvas",
        "scroll_wheel_zoom",
        "tap",
        "tap_tolerance",
        "touch_zoom",
        "world_copy_jump",
        "zoom",
        "zoom_animation_threshold",
        "zoom_delta",
        "zoom_snap"
       ],
       "prefer_canvas": false,
       "style": "IPY_MODEL_b0b308c6d57448d58da132286bca32d5",
       "window_url": "http://localhost:8888/notebooks/js/ipyleaflet.ipynb#",
       "zoom": 6
      }
     },
     "cbae26824f97412499ba8d7702a0b08a": {
      "model_module": "@jupyter-widgets/base",
      "model_module_version": "1.2.0",
      "model_name": "LayoutModel",
      "state": {}
     },
     "cc338c8ea012429eb400c9e812337302": {
      "model_module": "@jupyter-widgets/base",
      "model_module_version": "1.2.0",
      "model_name": "LayoutModel",
      "state": {}
     },
     "cc340ff3e62f490189c84a7a1944ba45": {
      "model_module": "jupyter-leaflet",
      "model_module_version": "~0.9.2",
      "model_name": "LeafletMapModel",
      "state": {
       "_model_module_version": "~0.9.2",
       "_view_module_version": "~0.9.2",
       "basemap": {
        "attribution": "Tiles courtesy of <a href=\"http://openstreetmap.se/\" target=\"_blank\">OpenStreetMap Sweden</a> &mdash; Map data &copy; <a href=\"http://www.openstreetmap.org/copyright\">OpenStreetMap</a>",
        "max_zoom": 18,
        "name": "Hydda.Full",
        "url": "http://{s}.tile.openstreetmap.se/hydda/full/{z}/{x}/{y}.png"
       },
       "center": [
        48,
        7
       ],
       "east": 9.689941406250002,
       "interpolation": "bilinear",
       "layers": [
        "IPY_MODEL_90999748c5dd496080c115f0b9367120"
       ],
       "layout": "IPY_MODEL_999f7c8d99cc4a40a621e885ed469701",
       "modisdate": "yesterday",
       "north": 48.73083222613518,
       "options": [
        "attribution_control",
        "basemap",
        "bounce_at_zoom_limits",
        "box_zoom",
        "center",
        "close_popup_on_click",
        "double_click_zoom",
        "dragging",
        "inertia",
        "inertia_deceleration",
        "inertia_max_speed",
        "interpolation",
        "keyboard",
        "keyboard_pan_offset",
        "keyboard_zoom_offset",
        "max_zoom",
        "min_zoom",
        "scroll_wheel_zoom",
        "tap",
        "tap_tolerance",
        "touch_zoom",
        "world_copy_jump",
        "zoom",
        "zoom_animation_threshold",
        "zoom_control",
        "zoom_start"
       ],
       "south": 47.260592193424706,
       "west": 4.312133789062501,
       "window_url": "http://localhost:8888/notebooks/js/ipyleaflet.ipynb",
       "zoom": 8
      }
     },
     "cc7178927067495a95059ee290fcd42c": {
      "model_module": "@jupyter-widgets/base",
      "model_module_version": "1.2.0",
      "model_name": "LayoutModel",
      "state": {}
     },
     "ccb4e06099354913b84331473422efa8": {
      "model_module": "jupyter-leaflet",
      "model_module_version": "^0.11.6",
      "model_name": "LeafletAttributionControlModel",
      "state": {
       "_model_module_version": "^0.11.6",
       "_view_module_version": "^0.11.6",
       "options": [
        "position",
        "prefix"
       ],
       "position": "bottomright",
       "prefix": "Leaflet"
      }
     },
     "cccc1654765248d2bea68029e130a256": {
      "model_module": "@jupyter-widgets/controls",
      "model_module_version": "1.5.0",
      "model_name": "SliderStyleModel",
      "state": {
       "description_width": ""
      }
     },
     "ccf8beafa9ab420280af40ae64c53136": {
      "model_module": "jupyter-leaflet",
      "model_module_version": "^0.17",
      "model_name": "LeafletMapModel",
      "state": {
       "_model_module_version": "^0.17",
       "_view_module_version": "^0.17",
       "bottom": 2887,
       "center": [
        52.5162,
        13.3777
       ],
       "controls": [
        "IPY_MODEL_f043cc1830d84f6f98071578668d2540",
        "IPY_MODEL_706cff576e9b4472b35de3d949a80ff8"
       ],
       "default_style": "IPY_MODEL_fcfa08cf15604a3199723307270db846",
       "dragging_style": "IPY_MODEL_5f9f47d830dd4a55b2047ee28f5bf321",
       "east": 23.950195312500004,
       "fullscreen": false,
       "interpolation": "bilinear",
       "layers": [
        "IPY_MODEL_17a17656ebe04fc3964cdf938c2e6d96"
       ],
       "layout": "IPY_MODEL_9e1449ada1294ea9b20d2313b9f10cbc",
       "left": 4159,
       "modisdate": "2023-07-11",
       "north": 57.539416794474995,
       "options": [
        "bounce_at_zoom_limits",
        "box_zoom",
        "center",
        "close_popup_on_click",
        "double_click_zoom",
        "dragging",
        "fullscreen",
        "inertia",
        "inertia_deceleration",
        "inertia_max_speed",
        "interpolation",
        "keyboard",
        "keyboard_pan_offset",
        "keyboard_zoom_offset",
        "max_zoom",
        "min_zoom",
        "prefer_canvas",
        "scroll_wheel_zoom",
        "tap",
        "tap_tolerance",
        "touch_zoom",
        "world_copy_jump",
        "zoom",
        "zoom_animation_threshold",
        "zoom_delta",
        "zoom_snap"
       ],
       "prefer_canvas": false,
       "right": 4641,
       "south": 46.830133640447414,
       "style": "IPY_MODEL_4ef362501da849458dee1abb0a477e89",
       "top": 2487,
       "west": 2.7685546875000004,
       "window_url": "http://localhost:8888/notebooks/js/ipyleaflet.ipynb#",
       "zoom": 5
      }
     },
     "cd02671347a24425bb107ca6d30c143d": {
      "model_module": "jupyter-leaflet",
      "model_module_version": "^0.12.1",
      "model_name": "LeafletTileLayerModel",
      "state": {
       "_model_module_version": "^0.12.1",
       "_view_module_version": "^0.12.1",
       "attribution": "Map tiles by <a href=\"https://labs.strava.com/heatmap\">Strava 2017</a>",
       "max_native_zoom": 18,
       "max_zoom": 15,
       "min_native_zoom": 0,
       "min_zoom": 1,
       "name": "Strava.All",
       "options": [
        "attribution",
        "detect_retina",
        "max_native_zoom",
        "max_zoom",
        "min_native_zoom",
        "min_zoom",
        "no_wrap",
        "tile_size",
        "tms"
       ],
       "url": "https://heatmap-external-a.strava.com//tiles/all/hot/{z}/{x}/{y}.png?v=19"
      }
     },
     "cd3c490fd5754e5f94a90e191c623299": {
      "model_module": "@jupyter-widgets/base",
      "model_module_version": "1.2.0",
      "model_name": "LayoutModel",
      "state": {}
     },
     "cd3ed9e4dc294a6e92873c7def90c076": {
      "model_module": "@jupyter-widgets/base",
      "model_module_version": "1.2.0",
      "model_name": "LayoutModel",
      "state": {}
     },
     "cd54249847e2413c8c88a4714629b58e": {
      "model_module": "@jupyter-widgets/base",
      "model_module_version": "1.2.0",
      "model_name": "LayoutModel",
      "state": {}
     },
     "cd66dde766dd4380b36a84f48f13e83d": {
      "model_module": "jupyter-leaflet",
      "model_module_version": "^0.17",
      "model_name": "LeafletMapStyleModel",
      "state": {
       "_model_module_version": "^0.17"
      }
     },
     "cde8664ea7e54901a8231089af564c9b": {
      "model_module": "jupyter-leaflet",
      "model_module_version": "^0.17",
      "model_name": "LeafletZoomControlModel",
      "state": {
       "_model_module_version": "^0.17",
       "_view_module_version": "^0.17",
       "options": [
        "position",
        "zoom_in_text",
        "zoom_in_title",
        "zoom_out_text",
        "zoom_out_title"
       ]
      }
     },
     "cdf67f8f0b7144cc86281242d3af7f87": {
      "model_module": "jupyter-leaflet",
      "model_module_version": "^0.12.1",
      "model_name": "LeafletZoomControlModel",
      "state": {
       "_model_module_version": "^0.12.1",
       "_view_module_version": "^0.12.1",
       "options": [
        "position",
        "zoom_in_text",
        "zoom_in_title",
        "zoom_out_text",
        "zoom_out_title"
       ]
      }
     },
     "ce4c3b360e4c4dd8bd422835fcee5542": {
      "model_module": "jupyter-leaflet",
      "model_module_version": "^0.17",
      "model_name": "LeafletMapStyleModel",
      "state": {
       "_model_module_version": "^0.17"
      }
     },
     "ce7f714c2666467686fe83c4979afb36": {
      "model_module": "jupyter-leaflet",
      "model_module_version": "^0.12.1",
      "model_name": "LeafletMapModel",
      "state": {
       "_model_module_version": "^0.12.1",
       "_view_module_version": "^0.12.1",
       "center": [
        30.661,
        -88.645
       ],
       "controls": [
        "IPY_MODEL_2a88a5b963c44613974a2810c1c16413",
        "IPY_MODEL_1ee7b5934ce74031ac29a1b1701f1c6e"
       ],
       "default_style": "IPY_MODEL_7bd780fc6fcf4d5892269a57350a9f22",
       "dragging_style": "IPY_MODEL_13a02efa6a0746da804f284964545d66",
       "east": -67.58789062500001,
       "fullscreen": false,
       "interpolation": "bilinear",
       "layers": [
        "IPY_MODEL_43933bd4413a48af838c728b2cebc042",
        "IPY_MODEL_4d4bd6c78e2946e9ba05153dfcb13aac"
       ],
       "layout": "IPY_MODEL_6fed534ec3074bdb9f94ee5b0f416248",
       "modisdate": "yesterday",
       "north": 37.92686760148135,
       "options": [
        "bounce_at_zoom_limits",
        "box_zoom",
        "center",
        "close_popup_on_click",
        "double_click_zoom",
        "dragging",
        "fullscreen",
        "inertia",
        "inertia_deceleration",
        "inertia_max_speed",
        "interpolation",
        "keyboard",
        "keyboard_pan_offset",
        "keyboard_zoom_offset",
        "max_zoom",
        "min_zoom",
        "scroll_wheel_zoom",
        "tap",
        "tap_tolerance",
        "touch_zoom",
        "world_copy_jump",
        "zoom",
        "zoom_animation_threshold",
        "zoom_start"
       ],
       "south": 22.836945920943855,
       "style": "IPY_MODEL_c31c6f8d3ce6405fa71619002b7e4b74",
       "west": -109.73144531250001,
       "window_url": "http://localhost:8888/notebooks/js/ipyleaflet.ipynb",
       "zoom": 5
      }
     },
     "ce994f6d9c2c4a80abb4152ef633f2cd": {
      "model_module": "jupyter-leaflet",
      "model_module_version": "^0.11.2",
      "model_name": "LeafletTileLayerModel",
      "state": {
       "_model_module_version": "^0.11.2",
       "_view_module_version": "^0.11.2",
       "attribution": "Tiles courtesy of <a href=\"http://openstreetmap.se/\" target=\"_blank\">OpenStreetMap Sweden</a> &mdash; Map data &copy; <a href=\"http://www.openstreetmap.org/copyright\">OpenStreetMap</a>",
       "base": true,
       "max_native_zoom": 18,
       "min_native_zoom": 0,
       "min_zoom": 1,
       "name": "Hydda.Full",
       "options": [
        "attribution",
        "detect_retina",
        "max_native_zoom",
        "max_zoom",
        "min_native_zoom",
        "min_zoom",
        "no_wrap",
        "tile_size"
       ],
       "url": "http://{s}.tile.openstreetmap.se/hydda/full/{z}/{x}/{y}.png"
      }
     },
     "ceda651b259243a4a704cfec5fccb0af": {
      "model_module": "jupyter-leaflet",
      "model_module_version": "^0.12.1",
      "model_name": "LeafletAttributionControlModel",
      "state": {
       "_model_module_version": "^0.12.1",
       "_view_module_version": "^0.12.1",
       "options": [
        "position",
        "prefix"
       ],
       "position": "bottomright",
       "prefix": "Leaflet"
      }
     },
     "cee205ba2a844b23b5d51279e2ab8997": {
      "model_module": "jupyter-leaflet",
      "model_module_version": "^0.12.1",
      "model_name": "LeafletMapStyleModel",
      "state": {
       "_model_module_version": "^0.12.1"
      }
     },
     "cef2b2142e944c0a9aa5a4139928930d": {
      "model_module": "jupyter-leaflet",
      "model_module_version": "^0.12.1",
      "model_name": "LeafletTileLayerModel",
      "state": {
       "_model_module_version": "^0.12.1",
       "_view_module_version": "^0.12.1",
       "attribution": "Map tiles by <a href=\"https://labs.strava.com/heatmap\">Strava 2017</a>",
       "max_native_zoom": 18,
       "max_zoom": 15,
       "min_native_zoom": 0,
       "min_zoom": 1,
       "name": "Strava.All",
       "options": [
        "attribution",
        "detect_retina",
        "max_native_zoom",
        "max_zoom",
        "min_native_zoom",
        "min_zoom",
        "no_wrap",
        "tile_size",
        "tms"
       ],
       "url": "https://heatmap-external-a.strava.com//tiles/all/hot/{z}/{x}/{y}.png?v=19"
      }
     },
     "cf4722e2545242bf8e2e8bd111ac36a2": {
      "model_module": "@jupyter-widgets/base",
      "model_module_version": "1.2.0",
      "model_name": "LayoutModel",
      "state": {}
     },
     "cf9d71859e3e42fdb449f118cccd724a": {
      "model_module": "jupyter-leaflet",
      "model_module_version": "^0.17",
      "model_name": "LeafletTileLayerModel",
      "state": {
       "_model_module_version": "^0.17",
       "_view_module_version": "^0.17",
       "attribution": "&copy; <a href=\"https://www.openstreetmap.org/copyright\">OpenStreetMap</a> contributors",
       "base": true,
       "max_zoom": 19,
       "min_zoom": 1,
       "name": "OpenStreetMap.Mapnik",
       "options": [
        "attribution",
        "bounds",
        "detect_retina",
        "max_native_zoom",
        "max_zoom",
        "min_native_zoom",
        "min_zoom",
        "no_wrap",
        "tile_size",
        "tms",
        "zoom_offset"
       ],
       "url": "https://tile.openstreetmap.org/{z}/{x}/{y}.png"
      }
     },
     "cfd744fed5c14e0c8c645b42e7849015": {
      "model_module": "@jupyter-widgets/controls",
      "model_module_version": "1.5.0",
      "model_name": "DescriptionStyleModel",
      "state": {
       "description_width": ""
      }
     },
     "d001609595cd454abd7215c29f41502e": {
      "model_module": "jupyter-leaflet",
      "model_module_version": "^0.17",
      "model_name": "LeafletMapStyleModel",
      "state": {
       "_model_module_version": "^0.17"
      }
     },
     "d044652d4409436a940c7825d743b777": {
      "model_module": "jupyter-leaflet",
      "model_module_version": "~0.9.2",
      "model_name": "LeafletTileLayerModel",
      "state": {
       "_model_module_version": "~0.9.2",
       "_view_module_version": "~0.9.2",
       "attribution": "Tiles courtesy of <a href=\"http://openstreetmap.se/\" target=\"_blank\">OpenStreetMap Sweden</a> &mdash; Map data &copy; <a href=\"http://www.openstreetmap.org/copyright\">OpenStreetMap</a>",
       "base": true,
       "min_zoom": 1,
       "name": "Hydda.Full",
       "options": [
        "attribution",
        "detect_retina",
        "max_zoom",
        "min_zoom",
        "tile_size"
       ],
       "url": "http://{s}.tile.openstreetmap.se/hydda/full/{z}/{x}/{y}.png"
      }
     },
     "d04875cf9e3a4b84b0921422e052c635": {
      "model_module": "jupyter-leaflet",
      "model_module_version": "^0.17",
      "model_name": "LeafletTileLayerModel",
      "state": {
       "_model_module_version": "^0.17",
       "_view_module_version": "^0.17",
       "attribution": "&copy; <a href=\"https://www.openstreetmap.org/copyright\">OpenStreetMap</a> contributors",
       "base": true,
       "max_zoom": 19,
       "min_zoom": 1,
       "name": "OpenStreetMap.Mapnik",
       "options": [
        "attribution",
        "bounds",
        "detect_retina",
        "max_native_zoom",
        "max_zoom",
        "min_native_zoom",
        "min_zoom",
        "no_wrap",
        "tile_size",
        "tms",
        "zoom_offset"
       ],
       "url": "https://tile.openstreetmap.org/{z}/{x}/{y}.png"
      }
     },
     "d04a9ef122cb4ed0bb49f501ce124b20": {
      "model_module": "jupyter-leaflet",
      "model_module_version": "^0.11.6",
      "model_name": "LeafletZoomControlModel",
      "state": {
       "_model_module_version": "^0.11.6",
       "_view_module_version": "^0.11.6",
       "options": [
        "position",
        "zoom_in_text",
        "zoom_in_title",
        "zoom_out_text",
        "zoom_out_title"
       ]
      }
     },
     "d07a5abb24364cc88190c77e91f2fd97": {
      "model_module": "jupyter-leaflet",
      "model_module_version": "^0.17",
      "model_name": "LeafletMapStyleModel",
      "state": {
       "_model_module_version": "^0.17"
      }
     },
     "d08cd84d88734dd0aeb3c249e266c566": {
      "model_module": "@jupyter-widgets/base",
      "model_module_version": "1.2.0",
      "model_name": "LayoutModel",
      "state": {}
     },
     "d0b49a3e7f1c4712a77eb86cfdfbd6c9": {
      "model_module": "@jupyter-widgets/controls",
      "model_module_version": "1.5.0",
      "model_name": "LabelModel",
      "state": {
       "layout": "IPY_MODEL_74f19e34737e4a1389be0719e70c6464",
       "style": "IPY_MODEL_8077c4f353c547d0962a490a5a9de5d1",
       "value": "[47.541742213553675, 5.310478910808305]"
      }
     },
     "d0de0363f20e4f35963b89be40e78ff7": {
      "model_module": "@jupyter-widgets/controls",
      "model_module_version": "1.5.0",
      "model_name": "DescriptionStyleModel",
      "state": {
       "description_width": ""
      }
     },
     "d11daaca635e402ba41b64053b030bb3": {
      "model_module": "@jupyter-widgets/base",
      "model_module_version": "1.2.0",
      "model_name": "LayoutModel",
      "state": {}
     },
     "d12facbf49c04223bfd8e34256b9e78e": {
      "model_module": "jupyter-leaflet",
      "model_module_version": "^0.12.6",
      "model_name": "LeafletMapStyleModel",
      "state": {
       "_model_module_version": "^0.12.6"
      }
     },
     "d14adbd70afc4bdb8ac281eabcfc4332": {
      "model_module": "@jupyter-widgets/controls",
      "model_module_version": "1.5.0",
      "model_name": "DescriptionStyleModel",
      "state": {
       "description_width": ""
      }
     },
     "d174510afbfe4c159fb60b6f9d0ab96f": {
      "model_module": "@jupyter-widgets/base",
      "model_module_version": "1.2.0",
      "model_name": "LayoutModel",
      "state": {}
     },
     "d192dd98888f4210bfcc5664d058ca35": {
      "model_module": "jupyter-leaflet",
      "model_module_version": "^0.17",
      "model_name": "LeafletZoomControlModel",
      "state": {
       "_model_module_version": "^0.17",
       "_view_module_version": "^0.17",
       "options": [
        "position",
        "zoom_in_text",
        "zoom_in_title",
        "zoom_out_text",
        "zoom_out_title"
       ]
      }
     },
     "d1a0b1ac2b1745eba4d00313d7076efd": {
      "model_module": "@jupyter-widgets/base",
      "model_module_version": "1.2.0",
      "model_name": "LayoutModel",
      "state": {}
     },
     "d1e0e78d910f4608a94f91c7d8cc2753": {
      "model_module": "jupyter-leaflet",
      "model_module_version": "^0.17",
      "model_name": "LeafletZoomControlModel",
      "state": {
       "_model_module_version": "^0.17",
       "_view_module_version": "^0.17",
       "options": [
        "position",
        "zoom_in_text",
        "zoom_in_title",
        "zoom_out_text",
        "zoom_out_title"
       ]
      }
     },
     "d1f5be45cfeb4a2384c2bf91d8c705f8": {
      "model_module": "jupyter-leaflet",
      "model_module_version": "^0.17",
      "model_name": "LeafletMapModel",
      "state": {
       "_model_module_version": "^0.17",
       "_view_module_version": "^0.17",
       "bottom": 5574,
       "center": [
        52.5162,
        13.3777
       ],
       "controls": [
        "IPY_MODEL_47574eac11ca433abd4c0238d5736531",
        "IPY_MODEL_4c831ddc48e9428ba2eb13c873a1e6e8"
       ],
       "default_style": "IPY_MODEL_0216fd853a3b4bfd84c31d711e984be1",
       "dragging_style": "IPY_MODEL_df6c955aaa0a456299b0f319fc4571c7",
       "east": 24.01611328125,
       "fullscreen": false,
       "interpolation": "bilinear",
       "layers": [
        "IPY_MODEL_759cc5ebe4a246f4a1f45479c34f3a54"
       ],
       "layout": "IPY_MODEL_c2e3c84d6d1f4473980bc53496d1f16a",
       "left": 8316,
       "modisdate": "2023-07-11",
       "north": 55.10351605801967,
       "options": [
        "bounce_at_zoom_limits",
        "box_zoom",
        "center",
        "close_popup_on_click",
        "double_click_zoom",
        "dragging",
        "fullscreen",
        "inertia",
        "inertia_deceleration",
        "inertia_max_speed",
        "interpolation",
        "keyboard",
        "keyboard_pan_offset",
        "keyboard_zoom_offset",
        "max_zoom",
        "min_zoom",
        "prefer_canvas",
        "scroll_wheel_zoom",
        "tap",
        "tap_tolerance",
        "touch_zoom",
        "world_copy_jump",
        "zoom",
        "zoom_animation_threshold",
        "zoom_delta",
        "zoom_snap"
       ],
       "prefer_canvas": false,
       "right": 9285,
       "south": 49.75287993415023,
       "style": "IPY_MODEL_47cc71a739494efdb3760f9ef73d47ed",
       "top": 5174,
       "west": 2.7246093750000004,
       "window_url": "http://localhost:8888/notebooks/js/ipyleaflet.ipynb#",
       "zoom": 6
      }
     },
     "d2726321e75b49b8910f088581df0653": {
      "model_module": "@jupyter-widgets/base",
      "model_module_version": "1.2.0",
      "model_name": "LayoutModel",
      "state": {}
     },
     "d3bbb73b214b453989caeb55e31ab2ad": {
      "model_module": "jupyter-leaflet",
      "model_module_version": "^0.12.1",
      "model_name": "LeafletMapModel",
      "state": {
       "_model_module_version": "^0.12.1",
       "_view_module_version": "^0.12.1",
       "center": [
        48,
        8
       ],
       "controls": [
        "IPY_MODEL_f9a230e31c424b99a6bb96a608dd5891",
        "IPY_MODEL_7d19b234305f40fe9e21aa83fdbb2a0a",
        "IPY_MODEL_b4b7b5d32fd146eeb64b816eddcc7879"
       ],
       "default_style": "IPY_MODEL_b5e9844d21b24149863e50c0172f9a48",
       "dragging_style": "IPY_MODEL_9bda07807e3a40f28cc3d5dddc56f727",
       "east": 10.634765625,
       "fullscreen": false,
       "interpolation": "bilinear",
       "layers": [
        "IPY_MODEL_9ecbf233c2de4d35872e529bb0201d24",
        "IPY_MODEL_d3e38a1f8d9944afb1f417c18f81c242",
        "IPY_MODEL_e76abd5edd8d441cba87638973191a30"
       ],
       "layout": "IPY_MODEL_13258971a2024e428aa965af31d09192",
       "modisdate": "yesterday",
       "north": 48.73083222613518,
       "options": [
        "bounce_at_zoom_limits",
        "box_zoom",
        "center",
        "close_popup_on_click",
        "double_click_zoom",
        "dragging",
        "fullscreen",
        "inertia",
        "inertia_deceleration",
        "inertia_max_speed",
        "interpolation",
        "keyboard",
        "keyboard_pan_offset",
        "keyboard_zoom_offset",
        "max_zoom",
        "min_zoom",
        "scroll_wheel_zoom",
        "tap",
        "tap_tolerance",
        "touch_zoom",
        "world_copy_jump",
        "zoom",
        "zoom_animation_threshold",
        "zoom_start"
       ],
       "south": 47.260592193424706,
       "style": "IPY_MODEL_b5e9844d21b24149863e50c0172f9a48",
       "west": 5.366821289062501,
       "window_url": "http://localhost:8888/notebooks/js/ipyleaflet.ipynb",
       "zoom": 8
      }
     },
     "d3e310859cfd44a3b2d9a7cbac402c03": {
      "model_module": "jupyter-leaflet",
      "model_module_version": "^0.17",
      "model_name": "LeafletWMSLayerModel",
      "state": {
       "_model_module_version": "^0.17",
       "_view_module_version": "^0.17",
       "attribution": "Weather data © 2012 IEM Nexrad",
       "crs": {
        "custom": false,
        "name": "EPSG3857"
       },
       "format": "image/png",
       "layers": "nexrad-n0r-wmst",
       "options": [
        "attribution",
        "bounds",
        "detect_retina",
        "format",
        "layers",
        "max_native_zoom",
        "max_zoom",
        "min_native_zoom",
        "min_zoom",
        "no_wrap",
        "styles",
        "tile_size",
        "time",
        "tms",
        "transparent",
        "uppercase",
        "zoom_offset"
       ],
       "time": "2005-08-29T13:00:00Z",
       "transparent": true,
       "url": "https://mesonet.agron.iastate.edu/cgi-bin/wms/nexrad/n0r-t.cgi?"
      }
     },
     "d3e38a1f8d9944afb1f417c18f81c242": {
      "model_module": "jupyter-leaflet",
      "model_module_version": "^0.12.1",
      "model_name": "LeafletTileLayerModel",
      "state": {
       "_model_module_version": "^0.12.1",
       "_view_module_version": "^0.12.1",
       "attribution": "Map tiles by <a href=\"https://labs.strava.com/heatmap\">Strava 2017</a>",
       "max_native_zoom": 18,
       "max_zoom": 15,
       "min_native_zoom": 0,
       "min_zoom": 1,
       "name": "Strava.Water",
       "options": [
        "attribution",
        "detect_retina",
        "max_native_zoom",
        "max_zoom",
        "min_native_zoom",
        "min_zoom",
        "no_wrap",
        "tile_size",
        "tms"
       ],
       "url": "https://heatmap-external-a.strava.com//tiles/water/blue/{z}/{x}/{y}.png?v=19"
      }
     },
     "d4363afbc4ab4c2586971333e447a32a": {
      "model_module": "@jupyter-widgets/base",
      "model_module_version": "1.2.0",
      "model_name": "LayoutModel",
      "state": {}
     },
     "d4b96f425b1344aa927c1be91ead6e43": {
      "model_module": "jupyter-leaflet",
      "model_module_version": "~0.9.2",
      "model_name": "LeafletMapModel",
      "state": {
       "_model_module_version": "~0.9.2",
       "_view_module_version": "~0.9.2",
       "basemap": {
        "attribution": "Map data (c) <a href=\"https://openstreetmap.org\">OpenStreetMap</a> contributors",
        "max_zoom": 19,
        "url": "https://{s}.tile.openstreetmap.org/{z}/{x}/{y}.png"
       },
       "center": [
        47.5941249027327,
        6.551284790039063
       ],
       "east": 6.88568115234375,
       "interpolation": "bilinear",
       "layers": [
        "IPY_MODEL_2c62c0d598fc4f46bd68858495877c87"
       ],
       "layout": "IPY_MODEL_9621d768368d46a2bc9870ff9f836d8a",
       "modisdate": "yesterday",
       "north": 47.779020638534796,
       "options": [
        "attribution_control",
        "basemap",
        "bounce_at_zoom_limits",
        "box_zoom",
        "center",
        "close_popup_on_click",
        "double_click_zoom",
        "dragging",
        "inertia",
        "inertia_deceleration",
        "inertia_max_speed",
        "interpolation",
        "keyboard",
        "keyboard_pan_offset",
        "keyboard_zoom_offset",
        "max_zoom",
        "min_zoom",
        "scroll_wheel_zoom",
        "tap",
        "tap_tolerance",
        "touch_zoom",
        "world_copy_jump",
        "zoom",
        "zoom_animation_threshold",
        "zoom_control",
        "zoom_start"
       ],
       "south": 47.408573553097575,
       "west": 6.216888427734376,
       "window_url": "http://localhost:8888/notebooks/js/ipyleaflet.ipynb",
       "zoom": 10
      }
     },
     "d4da037bb7d54a3a863c94d011d3e52b": {
      "model_module": "jupyter-leaflet",
      "model_module_version": "^0.12.1",
      "model_name": "LeafletMapStyleModel",
      "state": {
       "_model_module_version": "^0.12.1"
      }
     },
     "d529821cde7740df9b133d8c31833e6e": {
      "model_module": "jupyter-leaflet",
      "model_module_version": "^0.17",
      "model_name": "LeafletZoomControlModel",
      "state": {
       "_model_module_version": "^0.17",
       "_view_module_version": "^0.17",
       "options": [
        "position",
        "zoom_in_text",
        "zoom_in_title",
        "zoom_out_text",
        "zoom_out_title"
       ]
      }
     },
     "d53da07303394d7ba14a2d101f0500ac": {
      "model_module": "@jupyter-widgets/controls",
      "model_module_version": "1.5.0",
      "model_name": "IntSliderModel",
      "state": {
       "description": "Zoom level:",
       "layout": "IPY_MODEL_d174510afbfe4c159fb60b6f9d0ab96f",
       "max": 25,
       "style": "IPY_MODEL_45c1c5e32ac042aeb041d542362372f5",
       "value": 25
      }
     },
     "d56e2bcd12b3493fbeda76233fb3cdd5": {
      "model_module": "@jupyter-widgets/controls",
      "model_module_version": "1.5.0",
      "model_name": "IntSliderModel",
      "state": {
       "description": "Zoom level:",
       "layout": "IPY_MODEL_e75544f6587a44cbbd32ad080cb8feed",
       "max": 19,
       "style": "IPY_MODEL_3429b7f733544ed2b2ec4038bc948fc4",
       "value": 9
      }
     },
     "d578c096af284369819dfa6da5888bc2": {
      "model_module": "@jupyter-widgets/base",
      "model_module_version": "1.2.0",
      "model_name": "LayoutModel",
      "state": {}
     },
     "d5d8b45ec5864e269153c762103ed5a8": {
      "model_module": "jupyter-leaflet",
      "model_module_version": "~0.9.2",
      "model_name": "LeafletTileLayerModel",
      "state": {
       "_model_module_version": "~0.9.2",
       "_view_module_version": "~0.9.2",
       "base": true,
       "max_zoom": 19,
       "min_zoom": 1,
       "options": [
        "attribution",
        "detect_retina",
        "max_zoom",
        "min_zoom",
        "tile_size"
       ]
      }
     },
     "d5fca2bbef914b378410deb1a012ebf0": {
      "model_module": "jupyter-leaflet",
      "model_module_version": "^0.12.1",
      "model_name": "LeafletMapModel",
      "state": {
       "_model_module_version": "^0.12.1",
       "_view_module_version": "^0.12.1",
       "center": [
        30.661,
        -88.645
       ],
       "controls": [
        "IPY_MODEL_af63f8754f9f4394bcbe02f91370c574",
        "IPY_MODEL_94b21977b30e46aa929fdaa2975c6344"
       ],
       "default_style": "IPY_MODEL_aa6ba7bba399405b83594075aec9f039",
       "dragging_style": "IPY_MODEL_99c814030b8d4b49986a5db2370f51a2",
       "east": -67.58789062500001,
       "fullscreen": false,
       "interpolation": "bilinear",
       "layers": [
        "IPY_MODEL_324b8a0a4b1b4711a596e28f326836cb",
        "IPY_MODEL_dd2f0792a93e4634ba798549ff762c09"
       ],
       "layout": "IPY_MODEL_a71a8fb82ba245bba214ef942fced458",
       "modisdate": "yesterday",
       "north": 37.92686760148135,
       "options": [
        "bounce_at_zoom_limits",
        "box_zoom",
        "center",
        "close_popup_on_click",
        "double_click_zoom",
        "dragging",
        "fullscreen",
        "inertia",
        "inertia_deceleration",
        "inertia_max_speed",
        "interpolation",
        "keyboard",
        "keyboard_pan_offset",
        "keyboard_zoom_offset",
        "max_zoom",
        "min_zoom",
        "scroll_wheel_zoom",
        "tap",
        "tap_tolerance",
        "touch_zoom",
        "world_copy_jump",
        "zoom",
        "zoom_animation_threshold",
        "zoom_start"
       ],
       "south": 22.836945920943855,
       "style": "IPY_MODEL_86b383e033004dd09c39c53493d790bd",
       "west": -109.73144531250001,
       "window_url": "http://localhost:8888/notebooks/js/ipyleaflet.ipynb",
       "zoom": 5
      }
     },
     "d621a5300665451da490cc968e9a3182": {
      "model_module": "jupyter-leaflet",
      "model_module_version": "^0.12.1",
      "model_name": "LeafletAttributionControlModel",
      "state": {
       "_model_module_version": "^0.12.1",
       "_view_module_version": "^0.12.1",
       "options": [
        "position",
        "prefix"
       ],
       "position": "bottomright",
       "prefix": "Leaflet"
      }
     },
     "d65b34a5518b4b5a8163c27fc45ff852": {
      "model_module": "jupyter-leaflet",
      "model_module_version": "^0.12.1",
      "model_name": "LeafletTileLayerModel",
      "state": {
       "_model_module_version": "^0.12.1",
       "_view_module_version": "^0.12.1",
       "base": true,
       "max_native_zoom": 18,
       "max_zoom": 19,
       "min_native_zoom": 0,
       "min_zoom": 1,
       "options": [
        "attribution",
        "detect_retina",
        "max_native_zoom",
        "max_zoom",
        "min_native_zoom",
        "min_zoom",
        "no_wrap",
        "tile_size",
        "tms"
       ]
      }
     },
     "d788bcd56abd4ae99aabae841f1256c7": {
      "model_module": "jupyter-leaflet",
      "model_module_version": "^0.12.1",
      "model_name": "LeafletMapModel",
      "state": {
       "_model_module_version": "^0.12.1",
       "_view_module_version": "^0.12.1",
       "center": [
        30.675715404167743,
        -88.63769531250001
       ],
       "controls": [
        "IPY_MODEL_1ef1abf128004ad4a8c60eb3f5415025",
        "IPY_MODEL_d621a5300665451da490cc968e9a3182"
       ],
       "default_style": "IPY_MODEL_9fa267c3ebe64c269a315ceb4fe944b9",
       "dragging_style": "IPY_MODEL_491292837b8e4402915c6ac10c0787a1",
       "east": -180,
       "fullscreen": false,
       "interpolation": "bilinear",
       "layers": [
        "IPY_MODEL_3f137d8fd86944ca8293dbf2ea55f595",
        "IPY_MODEL_f4d1612db6d84e53ae64315d8bed2ce4"
       ],
       "layout": "IPY_MODEL_510d6df6ce51481abb2eb1e110eeef13",
       "modisdate": "yesterday",
       "north": -90,
       "options": [
        "bounce_at_zoom_limits",
        "box_zoom",
        "center",
        "close_popup_on_click",
        "double_click_zoom",
        "dragging",
        "fullscreen",
        "inertia",
        "inertia_deceleration",
        "inertia_max_speed",
        "interpolation",
        "keyboard",
        "keyboard_pan_offset",
        "keyboard_zoom_offset",
        "max_zoom",
        "min_zoom",
        "scroll_wheel_zoom",
        "tap",
        "tap_tolerance",
        "touch_zoom",
        "world_copy_jump",
        "zoom",
        "zoom_animation_threshold",
        "zoom_start"
       ],
       "south": 90,
       "style": "IPY_MODEL_9fa267c3ebe64c269a315ceb4fe944b9",
       "west": 180,
       "window_url": "http://localhost:8888/notebooks/js/ipyleaflet.ipynb",
       "zoom": 5
      }
     },
     "d7a8a36001c34dea986ca55ac427c905": {
      "model_module": "@jupyter-widgets/base",
      "model_module_version": "1.2.0",
      "model_name": "LayoutModel",
      "state": {}
     },
     "d826eee2d48a45abada1b274dcb6eb1a": {
      "model_module": "jupyter-leaflet",
      "model_module_version": "^0.12.1",
      "model_name": "LeafletTileLayerModel",
      "state": {
       "_model_module_version": "^0.12.1",
       "_view_module_version": "^0.12.1",
       "attribution": "Tiles courtesy of <a href=\"http://openstreetmap.se/\" target=\"_blank\">OpenStreetMap Sweden</a> &mdash; Map data &copy; <a href=\"http://www.openstreetmap.org/copyright\">OpenStreetMap</a>",
       "base": true,
       "max_native_zoom": 18,
       "min_native_zoom": 0,
       "min_zoom": 1,
       "name": "Hydda.Full",
       "options": [
        "attribution",
        "detect_retina",
        "max_native_zoom",
        "max_zoom",
        "min_native_zoom",
        "min_zoom",
        "no_wrap",
        "tile_size",
        "tms"
       ],
       "url": "http://{s}.tile.openstreetmap.se/hydda/full/{z}/{x}/{y}.png"
      }
     },
     "d87ad5fd8c12401fa9bbfb217bd4874e": {
      "model_module": "jupyter-leaflet",
      "model_module_version": "^0.17",
      "model_name": "LeafletMapStyleModel",
      "state": {
       "_model_module_version": "^0.17"
      }
     },
     "d8bec27c29c44dd186507b311fe0bc9b": {
      "model_module": "jupyter-leaflet",
      "model_module_version": "~0.9.2",
      "model_name": "LeafletTileLayerModel",
      "state": {
       "_model_module_version": "~0.9.2",
       "_view_module_version": "~0.9.2",
       "attribution": "",
       "max_zoom": 19,
       "min_zoom": 1,
       "name": "Countries",
       "options": [
        "attribution",
        "detect_retina",
        "max_zoom",
        "min_zoom",
        "tile_size"
       ],
       "url": ""
      }
     },
     "d8c3b7986fb44ed58749d74c7b4a612d": {
      "model_module": "jupyter-leaflet",
      "model_module_version": "^0.17",
      "model_name": "LeafletZoomControlModel",
      "state": {
       "_model_module_version": "^0.17",
       "_view_module_version": "^0.17",
       "options": [
        "position",
        "zoom_in_text",
        "zoom_in_title",
        "zoom_out_text",
        "zoom_out_title"
       ]
      }
     },
     "d9083c42b2c94912875396563a7ea152": {
      "model_module": "@jupyter-widgets/controls",
      "model_module_version": "1.5.0",
      "model_name": "DescriptionStyleModel",
      "state": {
       "description_width": ""
      }
     },
     "d985122f6cac4fa88a1d7e94f4167fad": {
      "model_module": "jupyter-leaflet",
      "model_module_version": "^0.17",
      "model_name": "LeafletMapModel",
      "state": {
       "_model_module_version": "^0.17",
       "_view_module_version": "^0.17",
       "bottom": 43188,
       "center": [
        52.5162,
        13.3777
       ],
       "controls": [
        "IPY_MODEL_e18194fbeb6f42968ba5e0787e1d4ca4",
        "IPY_MODEL_7a565dcd52a94a538dd51e725a0466da",
        "IPY_MODEL_c4fa2c4911b24d77baf20cd698de64f9",
        "IPY_MODEL_654b57194ff64b138d8baa91db55f76c",
        "IPY_MODEL_430236840f8b432eb205388b8d07fb01"
       ],
       "default_style": "IPY_MODEL_8108a03cd25d4cdea5c87d14ac265ea2",
       "dragging_style": "IPY_MODEL_dee1b495e3894e9297626012a6d6450d",
       "east": 14.707946777343752,
       "fullscreen": false,
       "interpolation": "bilinear",
       "layers": [
        "IPY_MODEL_d04875cf9e3a4b84b0921422e052c635"
       ],
       "layout": "IPY_MODEL_b78567e946554daca98e755a1800fb2d",
       "left": 69922,
       "modisdate": "2023-07-11",
       "north": 52.8492298820527,
       "options": [
        "bounce_at_zoom_limits",
        "box_zoom",
        "center",
        "close_popup_on_click",
        "double_click_zoom",
        "dragging",
        "fullscreen",
        "inertia",
        "inertia_deceleration",
        "inertia_max_speed",
        "interpolation",
        "keyboard",
        "keyboard_pan_offset",
        "keyboard_zoom_offset",
        "max_zoom",
        "min_zoom",
        "prefer_canvas",
        "scroll_wheel_zoom",
        "tap",
        "tap_tolerance",
        "touch_zoom",
        "world_copy_jump",
        "zoom",
        "zoom_animation_threshold",
        "zoom_delta",
        "zoom_snap"
       ],
       "prefer_canvas": false,
       "right": 70891,
       "south": 52.18066872927717,
       "style": "IPY_MODEL_8108a03cd25d4cdea5c87d14ac265ea2",
       "top": 42788,
       "west": 12.046508789062502,
       "window_url": "http://localhost:8888/notebooks/js/ipyleaflet.ipynb#",
       "zoom": 9
      }
     },
     "d9d1c855222f44d08f8c842814955dde": {
      "model_module": "jupyter-leaflet",
      "model_module_version": "^0.17",
      "model_name": "LeafletWidgetControlModel",
      "state": {
       "_model_module": "jupyter-leaflet",
       "_model_module_version": "^0.17",
       "_view_count": null,
       "_view_module": "jupyter-leaflet",
       "_view_module_version": "^0.17",
       "options": [
        "position",
        "transparent_bg"
       ],
       "position": "topright",
       "widget": "IPY_MODEL_fb4749bfa6d547119a12c0255b8c8fa3"
      }
     },
     "d9f4a0156ed440978062b4ab4638b22d": {
      "model_module": "jupyter-leaflet",
      "model_module_version": "^0.12.1",
      "model_name": "LeafletMapStyleModel",
      "state": {
       "_model_module_version": "^0.12.1",
       "cursor": "move"
      }
     },
     "d9fe322fd9854224aa174015cc6db1e6": {
      "model_module": "jupyter-leaflet",
      "model_module_version": "^0.12.1",
      "model_name": "LeafletMapModel",
      "state": {
       "_model_module_version": "^0.12.1",
       "_view_module_version": "^0.12.1",
       "center": [
        30.37287518811804,
        -89.4287109375
       ],
       "controls": [
        "IPY_MODEL_44e10cc8005349f781d3d66b0b36684e",
        "IPY_MODEL_4345c2f388584bdba1ade7d67018ee20"
       ],
       "default_style": "IPY_MODEL_0e3a67ceb8d547ffac04bc121114fe8d",
       "dragging_style": "IPY_MODEL_5a2292fb651a448697d3884fd7389aa7",
       "east": -180,
       "fullscreen": false,
       "interpolation": "bilinear",
       "layers": [
        "IPY_MODEL_2417b1c34a0742a581514da898b9ff5b",
        "IPY_MODEL_f3f142f4b21f4ada8467f29537624dab"
       ],
       "layout": "IPY_MODEL_4b0d5f61b81f46bfb6f2f03e6b3bf955",
       "modisdate": "yesterday",
       "north": -90,
       "options": [
        "bounce_at_zoom_limits",
        "box_zoom",
        "center",
        "close_popup_on_click",
        "double_click_zoom",
        "dragging",
        "fullscreen",
        "inertia",
        "inertia_deceleration",
        "inertia_max_speed",
        "interpolation",
        "keyboard",
        "keyboard_pan_offset",
        "keyboard_zoom_offset",
        "max_zoom",
        "min_zoom",
        "scroll_wheel_zoom",
        "tap",
        "tap_tolerance",
        "touch_zoom",
        "world_copy_jump",
        "zoom",
        "zoom_animation_threshold",
        "zoom_start"
       ],
       "south": 90,
       "style": "IPY_MODEL_0e3a67ceb8d547ffac04bc121114fe8d",
       "west": 180,
       "window_url": "http://localhost:8888/notebooks/js/ipyleaflet.ipynb",
       "zoom": 5
      }
     },
     "da5aa2d8ebdc48dcba71576472b54090": {
      "model_module": "@jupyter-widgets/base",
      "model_module_version": "1.2.0",
      "model_name": "LayoutModel",
      "state": {}
     },
     "da621ece22c1469eb1bbf6ad0fd4e31c": {
      "model_module": "@jupyter-widgets/controls",
      "model_module_version": "1.5.0",
      "model_name": "DescriptionStyleModel",
      "state": {
       "description_width": ""
      }
     },
     "da6ace200d794349bbdcbb143a113877": {
      "model_module": "jupyter-leaflet",
      "model_module_version": "^0.17",
      "model_name": "LeafletMapStyleModel",
      "state": {
       "_model_module_version": "^0.17",
       "cursor": "move"
      }
     },
     "da6f00fceac94bc1909968a37e2e773b": {
      "model_module": "@jupyter-widgets/controls",
      "model_module_version": "1.5.0",
      "model_name": "SelectionSliderModel",
      "state": {
       "_options_labels": [
        "13:00",
        "13:30",
        "14:00",
        "14:30",
        "15:00",
        "15:30",
        "16:00",
        "16:30"
       ],
       "description": "Time:",
       "index": 0,
       "layout": "IPY_MODEL_e846fa5f31844dceb504eab30b071dae",
       "style": "IPY_MODEL_41fafba38249417683e11ef3a3e572cb"
      }
     },
     "dacee95a14ac40fd87721213cd6bb33d": {
      "model_module": "jupyter-leaflet",
      "model_module_version": "^0.17",
      "model_name": "LeafletAttributionControlModel",
      "state": {
       "_model_module_version": "^0.17",
       "_view_module_version": "^0.17",
       "options": [
        "position",
        "prefix"
       ],
       "position": "bottomright",
       "prefix": "ipyleaflet"
      }
     },
     "dae67652aa8041deb066a1fcb0dfb3fc": {
      "model_module": "jupyter-leaflet",
      "model_module_version": "^0.17",
      "model_name": "LeafletMapStyleModel",
      "state": {
       "_model_module_version": "^0.17"
      }
     },
     "dafc6d893b2a4ec08ac7f2d99faf8c84": {
      "model_module": "jupyter-leaflet",
      "model_module_version": "^0.11.2",
      "model_name": "LeafletMapStyleModel",
      "state": {
       "_model_module_version": "^0.11.2"
      }
     },
     "db19871f06154d8e804d59a5a1ebcc71": {
      "model_module": "jupyter-leaflet",
      "model_module_version": "^0.17",
      "model_name": "LeafletMapModel",
      "state": {
       "_model_module_version": "^0.17",
       "_view_module_version": "^0.17",
       "center": [
        [
         52,
         5345,
         13,
         4226
        ]
       ],
       "controls": [
        "IPY_MODEL_c50a52515acd43dcb2cc5e9d86cb3961",
        "IPY_MODEL_28349ccad7494fd3849631d9e7bb4e33"
       ],
       "default_style": "IPY_MODEL_315e76be5f794a2a9a4751ad73031335",
       "dragging_style": "IPY_MODEL_eb3a3474ceec4965b4fc76d3de36962c",
       "fullscreen": false,
       "interpolation": "bilinear",
       "layers": [
        "IPY_MODEL_b6dbe7a2371d4112bef7bcf93502bcc2"
       ],
       "layout": "IPY_MODEL_178b71ef41bf4f7a9285b2bcdfec9497",
       "modisdate": "2023-07-11",
       "options": [
        "bounce_at_zoom_limits",
        "box_zoom",
        "center",
        "close_popup_on_click",
        "double_click_zoom",
        "dragging",
        "fullscreen",
        "inertia",
        "inertia_deceleration",
        "inertia_max_speed",
        "interpolation",
        "keyboard",
        "keyboard_pan_offset",
        "keyboard_zoom_offset",
        "max_zoom",
        "min_zoom",
        "prefer_canvas",
        "scroll_wheel_zoom",
        "tap",
        "tap_tolerance",
        "touch_zoom",
        "world_copy_jump",
        "zoom",
        "zoom_animation_threshold",
        "zoom_delta",
        "zoom_snap"
       ],
       "prefer_canvas": false,
       "style": "IPY_MODEL_14787dc7fe3b4d97813596049ec2203c",
       "window_url": "http://localhost:8888/notebooks/js/ipyleaflet.ipynb#",
       "zoom": 6
      }
     },
     "db2b81449c19462e95e320c4eebe98fa": {
      "model_module": "jupyter-leaflet",
      "model_module_version": "^0.17",
      "model_name": "LeafletMapStyleModel",
      "state": {
       "_model_module_version": "^0.17"
      }
     },
     "dba7f4edbcbb4c79bad66c7b9a2b482a": {
      "model_module": "jupyter-leaflet",
      "model_module_version": "^0.17",
      "model_name": "LeafletZoomControlModel",
      "state": {
       "_model_module_version": "^0.17",
       "_view_module_version": "^0.17",
       "options": [
        "position",
        "zoom_in_text",
        "zoom_in_title",
        "zoom_out_text",
        "zoom_out_title"
       ]
      }
     },
     "dba8f62800d94048b65578b0f91caff1": {
      "model_module": "jupyter-leaflet",
      "model_module_version": "^0.12.1",
      "model_name": "LeafletMapModel",
      "state": {
       "_model_module_version": "^0.12.1",
       "_view_module_version": "^0.12.1",
       "center": [
        30.661,
        -88.645
       ],
       "controls": [
        "IPY_MODEL_74e20f9dd55445ba807620e6084bfdf7",
        "IPY_MODEL_a17fee91d1b446cf9561b945f8be99a4"
       ],
       "default_style": "IPY_MODEL_27ebde1f01804f3092a5b9e5a3a3b89e",
       "dragging_style": "IPY_MODEL_d9f4a0156ed440978062b4ab4638b22d",
       "fullscreen": false,
       "interpolation": "bilinear",
       "layers": [
        "IPY_MODEL_5f3b54a653cd494ea7b22ccc02ee0048",
        "IPY_MODEL_07e360a4f6704dc9a9aa5586cdb3ea6c"
       ],
       "layout": "IPY_MODEL_114b137dace94348a2b1267c9fb1fdfc",
       "modisdate": "yesterday",
       "options": [
        "bounce_at_zoom_limits",
        "box_zoom",
        "center",
        "close_popup_on_click",
        "double_click_zoom",
        "dragging",
        "fullscreen",
        "inertia",
        "inertia_deceleration",
        "inertia_max_speed",
        "interpolation",
        "keyboard",
        "keyboard_pan_offset",
        "keyboard_zoom_offset",
        "max_zoom",
        "min_zoom",
        "scroll_wheel_zoom",
        "tap",
        "tap_tolerance",
        "touch_zoom",
        "world_copy_jump",
        "zoom",
        "zoom_animation_threshold",
        "zoom_start"
       ],
       "style": "IPY_MODEL_160d5f1d48f14d8980b6ef5250306759",
       "window_url": "http://localhost:8888/notebooks/js/ipyleaflet.ipynb",
       "zoom": 5
      }
     },
     "dbe4e90e5426466f9597fc72e875d584": {
      "model_module": "jupyter-leaflet",
      "model_module_version": "^0.12.1",
      "model_name": "LeafletMapStyleModel",
      "state": {
       "_model_module_version": "^0.12.1"
      }
     },
     "dbe9f0fbdbc04c538c5288249c9d093b": {
      "model_module": "jupyter-leaflet",
      "model_module_version": "^0.17",
      "model_name": "LeafletWMSLayerModel",
      "state": {
       "_model_module_version": "^0.17",
       "_view_module_version": "^0.17",
       "attribution": "Weather data © 2012 IEM Nexrad",
       "crs": {
        "custom": false,
        "name": "EPSG3857"
       },
       "format": "image/png",
       "layers": "nexrad-n0r-wmst",
       "options": [
        "attribution",
        "bounds",
        "detect_retina",
        "format",
        "layers",
        "max_native_zoom",
        "max_zoom",
        "min_native_zoom",
        "min_zoom",
        "no_wrap",
        "styles",
        "tile_size",
        "time",
        "tms",
        "transparent",
        "uppercase",
        "zoom_offset"
       ],
       "time": "2005-08-29T19:00",
       "transparent": true,
       "url": "https://mesonet.agron.iastate.edu/cgi-bin/wms/nexrad/n0r-t.cgi?"
      }
     },
     "dbf08ba42302443aa759dd630ae1ee3a": {
      "model_module": "jupyter-leaflet",
      "model_module_version": "^0.17",
      "model_name": "LeafletMapModel",
      "state": {
       "_model_module_version": "^0.17",
       "_view_module_version": "^0.17",
       "bottom": 5574,
       "center": [
        52.5162,
        13.3777
       ],
       "controls": [
        "IPY_MODEL_3aca8b0019214057a9ccd06fc7e9d6d5",
        "IPY_MODEL_56721606291142638c01e544cd884048"
       ],
       "default_style": "IPY_MODEL_44c2c1af2e5b4d64bef20855ff12ff27",
       "dragging_style": "IPY_MODEL_58343eb01bdf45d8aa0c4d97d2b3c5cd",
       "east": 24.01611328125,
       "fullscreen": false,
       "interpolation": "bilinear",
       "layers": [
        "IPY_MODEL_281bfd02449e4183b9b2d8e37ad7e692"
       ],
       "layout": "IPY_MODEL_fc1cb1a75a214e0c80cab7b53d07996a",
       "left": 8316,
       "modisdate": "2023-07-11",
       "north": 55.10351605801967,
       "options": [
        "bounce_at_zoom_limits",
        "box_zoom",
        "center",
        "close_popup_on_click",
        "double_click_zoom",
        "dragging",
        "fullscreen",
        "inertia",
        "inertia_deceleration",
        "inertia_max_speed",
        "interpolation",
        "keyboard",
        "keyboard_pan_offset",
        "keyboard_zoom_offset",
        "max_zoom",
        "min_zoom",
        "prefer_canvas",
        "scroll_wheel_zoom",
        "tap",
        "tap_tolerance",
        "touch_zoom",
        "world_copy_jump",
        "zoom",
        "zoom_animation_threshold",
        "zoom_delta",
        "zoom_snap"
       ],
       "prefer_canvas": false,
       "right": 9285,
       "south": 49.75287993415023,
       "style": "IPY_MODEL_fac50419ade148379f97aaf196786653",
       "top": 5174,
       "west": 2.7246093750000004,
       "window_url": "http://localhost:8888/notebooks/js/ipyleaflet.ipynb#",
       "zoom": 6
      }
     },
     "dbf5bf9789e5426b88df39fa4abb486f": {
      "model_module": "jupyter-leaflet",
      "model_module_version": "^0.17",
      "model_name": "LeafletMapStyleModel",
      "state": {
       "_model_module_version": "^0.17",
       "cursor": "move"
      }
     },
     "dc3f4cfc468b45c69a13f73a05e9f93f": {
      "model_module": "@jupyter-widgets/base",
      "model_module_version": "1.2.0",
      "model_name": "LayoutModel",
      "state": {}
     },
     "dc515fc1831246dbb09416497366f79e": {
      "model_module": "jupyter-leaflet",
      "model_module_version": "^0.17",
      "model_name": "LeafletMapStyleModel",
      "state": {
       "_model_module_version": "^0.17"
      }
     },
     "dc81ec34ab914bf7a35da9fbd4569cbf": {
      "model_module": "jupyter-leaflet",
      "model_module_version": "^0.17",
      "model_name": "LeafletZoomControlModel",
      "state": {
       "_model_module_version": "^0.17",
       "_view_module_version": "^0.17",
       "options": [
        "position",
        "zoom_in_text",
        "zoom_in_title",
        "zoom_out_text",
        "zoom_out_title"
       ]
      }
     },
     "dc98eaf93a6e4c5e9db0e6425e1af630": {
      "model_module": "@jupyter-widgets/controls",
      "model_module_version": "1.5.0",
      "model_name": "SelectionSliderModel",
      "state": {
       "_options_labels": [
        "13:00",
        "13:30",
        "14:00",
        "14:30",
        "15:00",
        "15:30",
        "16:00",
        "16:30"
       ],
       "description": "Time:",
       "index": 0,
       "layout": "IPY_MODEL_85377e93c93f4f9980e3d089c1883eee",
       "style": "IPY_MODEL_71bcbd2b4f8a4679a911702f947efa1e"
      }
     },
     "dd2e6a4a3db540bd99b5088b3692d5f3": {
      "model_module": "@jupyter-widgets/controls",
      "model_module_version": "1.5.0",
      "model_name": "DescriptionStyleModel",
      "state": {
       "description_width": ""
      }
     },
     "dd2f0792a93e4634ba798549ff762c09": {
      "model_module": "jupyter-leaflet",
      "model_module_version": "^0.12.1",
      "model_name": "LeafletWMSLayerModel",
      "state": {
       "_model_module_version": "^0.12.1",
       "_view_module_version": "^0.12.1",
       "attribution": "Weather data © 2012 IEM Nexrad",
       "crs": "EPSG3857",
       "format": "image/png",
       "layers": "nexrad-n0r-wmst",
       "max_native_zoom": 18,
       "min_native_zoom": 0,
       "options": [
        "attribution",
        "detect_retina",
        "format",
        "layers",
        "max_native_zoom",
        "max_zoom",
        "min_native_zoom",
        "min_zoom",
        "no_wrap",
        "styles",
        "tile_size",
        "time",
        "tms",
        "transparent",
        "uppercase"
       ],
       "time": "2005-08-29T16:00",
       "transparent": true,
       "url": "https://mesonet.agron.iastate.edu/cgi-bin/wms/nexrad/n0r-t.cgi?"
      }
     },
     "dd9b1b19e0704101bbaf33113d06170f": {
      "model_module": "@jupyter-widgets/controls",
      "model_module_version": "1.5.0",
      "model_name": "DescriptionStyleModel",
      "state": {
       "description_width": ""
      }
     },
     "de11b620537c435c966580f1189d3b97": {
      "model_module": "jupyter-leaflet",
      "model_module_version": "^0.17",
      "model_name": "LeafletAttributionControlModel",
      "state": {
       "_model_module_version": "^0.17",
       "_view_module_version": "^0.17",
       "options": [
        "position",
        "prefix"
       ],
       "position": "bottomright",
       "prefix": "ipyleaflet"
      }
     },
     "de2c4499449447358f5e8b7df8737e2c": {
      "model_module": "jupyter-leaflet",
      "model_module_version": "^0.17",
      "model_name": "LeafletMapStyleModel",
      "state": {
       "_model_module_version": "^0.17",
       "cursor": "move"
      }
     },
     "de464bef28c043678fc2d5e07f5595c8": {
      "model_module": "jupyter-leaflet",
      "model_module_version": "^0.17",
      "model_name": "LeafletAttributionControlModel",
      "state": {
       "_model_module_version": "^0.17",
       "_view_module_version": "^0.17",
       "options": [
        "position",
        "prefix"
       ],
       "position": "bottomright",
       "prefix": "ipyleaflet"
      }
     },
     "dee1b495e3894e9297626012a6d6450d": {
      "model_module": "jupyter-leaflet",
      "model_module_version": "^0.17",
      "model_name": "LeafletMapStyleModel",
      "state": {
       "_model_module_version": "^0.17",
       "cursor": "move"
      }
     },
     "dee977ea0dae4344acf028be24aedc74": {
      "model_module": "jupyter-leaflet",
      "model_module_version": "^0.17",
      "model_name": "LeafletZoomControlModel",
      "state": {
       "_model_module_version": "^0.17",
       "_view_module_version": "^0.17",
       "options": [
        "position",
        "zoom_in_text",
        "zoom_in_title",
        "zoom_out_text",
        "zoom_out_title"
       ]
      }
     },
     "def07c40e91748c3b0d1981bd45cc879": {
      "model_module": "jupyter-leaflet",
      "model_module_version": "^0.12.1",
      "model_name": "LeafletZoomControlModel",
      "state": {
       "_model_module_version": "^0.12.1",
       "_view_module_version": "^0.12.1",
       "options": [
        "position",
        "zoom_in_text",
        "zoom_in_title",
        "zoom_out_text",
        "zoom_out_title"
       ]
      }
     },
     "df363a44d31e417285526dbd97e81860": {
      "model_module": "jupyter-leaflet",
      "model_module_version": "^0.12.6",
      "model_name": "LeafletZoomControlModel",
      "state": {
       "_model_module_version": "^0.12.6",
       "_view_module_version": "^0.12.6",
       "options": [
        "position",
        "zoom_in_text",
        "zoom_in_title",
        "zoom_out_text",
        "zoom_out_title"
       ]
      }
     },
     "df6c955aaa0a456299b0f319fc4571c7": {
      "model_module": "jupyter-leaflet",
      "model_module_version": "^0.17",
      "model_name": "LeafletMapStyleModel",
      "state": {
       "_model_module_version": "^0.17",
       "cursor": "move"
      }
     },
     "df9ca5fd229244a38a81268e25187b70": {
      "model_module": "jupyter-leaflet",
      "model_module_version": "^0.12.1",
      "model_name": "LeafletMapModel",
      "state": {
       "_model_module_version": "^0.12.1",
       "_view_module_version": "^0.12.1",
       "center": [
        48,
        7.9
       ],
       "controls": [
        "IPY_MODEL_69c839bc2ad744d096d2413bebb075dd",
        "IPY_MODEL_7becfa6e819b413ca333be44dc21b8c4"
       ],
       "default_style": "IPY_MODEL_acedcb2cd7994d35befafbb317dd8fc9",
       "dragging_style": "IPY_MODEL_a3f8b614f5aa46668642180d64188325",
       "east": 8.217773437500002,
       "fullscreen": false,
       "interpolation": "bilinear",
       "layers": [
        "IPY_MODEL_1c60f61343234fe4a6b280a7c9d2e925"
       ],
       "layout": "IPY_MODEL_9f51004f53114ace83b2f09f2c78f85b",
       "modisdate": "yesterday",
       "north": 48.18348549519126,
       "options": [
        "bounce_at_zoom_limits",
        "box_zoom",
        "center",
        "close_popup_on_click",
        "double_click_zoom",
        "dragging",
        "fullscreen",
        "inertia",
        "inertia_deceleration",
        "inertia_max_speed",
        "interpolation",
        "keyboard",
        "keyboard_pan_offset",
        "keyboard_zoom_offset",
        "max_zoom",
        "min_zoom",
        "scroll_wheel_zoom",
        "tap",
        "tap_tolerance",
        "touch_zoom",
        "world_copy_jump",
        "zoom",
        "zoom_animation_threshold",
        "zoom_start"
       ],
       "south": 47.81592114659014,
       "style": "IPY_MODEL_acedcb2cd7994d35befafbb317dd8fc9",
       "west": 7.581939697265626,
       "window_url": "http://localhost:8888/notebooks/js/ipyleaflet.ipynb",
       "zoom": 10
      }
     },
     "dfb2c92e748b4b429c74adf5ef99c06c": {
      "model_module": "jupyter-leaflet",
      "model_module_version": "^0.17",
      "model_name": "LeafletWMSLayerModel",
      "state": {
       "_model_module_version": "^0.17",
       "_view_module_version": "^0.17",
       "attribution": "Weather data © 2012 IEM Nexrad",
       "crs": {
        "custom": false,
        "name": "EPSG3857"
       },
       "format": "image/png",
       "layers": "nexrad-n0r-wmst",
       "options": [
        "attribution",
        "bounds",
        "detect_retina",
        "format",
        "layers",
        "max_native_zoom",
        "max_zoom",
        "min_native_zoom",
        "min_zoom",
        "no_wrap",
        "styles",
        "tile_size",
        "time",
        "tms",
        "transparent",
        "uppercase",
        "zoom_offset"
       ],
       "time": "2005-08-29T19:00",
       "transparent": true,
       "url": "https://mesonet.agron.iastate.edu/cgi-bin/wms/nexrad/n0r-t.cgi?"
      }
     },
     "dfdf3ce6bfb54aaf8f37caa1a24ea63b": {
      "model_module": "jupyter-leaflet",
      "model_module_version": "^0.12.6",
      "model_name": "LeafletMapStyleModel",
      "state": {
       "_model_module_version": "^0.12.6",
       "cursor": "move"
      }
     },
     "e0c247e8baa1449aac4652ee63920270": {
      "model_module": "jupyter-leaflet",
      "model_module_version": "^0.17",
      "model_name": "LeafletTileLayerModel",
      "state": {
       "_model_module_version": "^0.17",
       "_view_module_version": "^0.17",
       "attribution": "Map tiles by <a href=\"https://labs.strava.com/heatmap\">Strava 2021</a>",
       "base": true,
       "max_zoom": 15,
       "min_zoom": 1,
       "name": "Strava.All",
       "options": [
        "attribution",
        "bounds",
        "detect_retina",
        "max_native_zoom",
        "max_zoom",
        "min_native_zoom",
        "min_zoom",
        "no_wrap",
        "tile_size",
        "tms",
        "zoom_offset"
       ],
       "url": "https://heatmap-external-a.strava.com/tiles/all/hot/{z}/{x}/{y}.png"
      }
     },
     "e0ce537ef98c4e15b394ffdf817fac9b": {
      "model_module": "jupyter-leaflet",
      "model_module_version": "^0.12.1",
      "model_name": "LeafletMapModel",
      "state": {
       "_model_module_version": "^0.12.1",
       "_view_module_version": "^0.12.1",
       "center": [
        30.661,
        -88.645
       ],
       "controls": [
        "IPY_MODEL_21e85d2ced9349e6adec78ccd93f261f",
        "IPY_MODEL_97c237aa6eff4e34a73b4e3143922049"
       ],
       "default_style": "IPY_MODEL_16f355f1d13d47db898509fa130c4196",
       "dragging_style": "IPY_MODEL_4c6db0e191b241b898a3a90ae676ff82",
       "east": -67.58789062500001,
       "fullscreen": false,
       "interpolation": "bilinear",
       "layers": [
        "IPY_MODEL_97620df4c9dd4ace9fc74252d12c5710",
        "IPY_MODEL_a3f1d68f717c4c839e61eb1b0ded725f"
       ],
       "layout": "IPY_MODEL_b2ecf56bc7e5473bbb0f6bfdb0262a0c",
       "modisdate": "yesterday",
       "north": 37.92686760148135,
       "options": [
        "bounce_at_zoom_limits",
        "box_zoom",
        "center",
        "close_popup_on_click",
        "double_click_zoom",
        "dragging",
        "fullscreen",
        "inertia",
        "inertia_deceleration",
        "inertia_max_speed",
        "interpolation",
        "keyboard",
        "keyboard_pan_offset",
        "keyboard_zoom_offset",
        "max_zoom",
        "min_zoom",
        "scroll_wheel_zoom",
        "tap",
        "tap_tolerance",
        "touch_zoom",
        "world_copy_jump",
        "zoom",
        "zoom_animation_threshold",
        "zoom_start"
       ],
       "south": 22.836945920943855,
       "style": "IPY_MODEL_8cf9e6151903488e9e3ef294a3fbdd28",
       "west": -109.73144531250001,
       "window_url": "http://localhost:8888/notebooks/js/ipyleaflet.ipynb",
       "zoom": 5
      }
     },
     "e0fc147213c84f4aad4a801980f6e0de": {
      "model_module": "jupyter-leaflet",
      "model_module_version": "^0.17",
      "model_name": "LeafletMapStyleModel",
      "state": {
       "_model_module_version": "^0.17"
      }
     },
     "e10f0ba48de740c0b8fc5f4e8ba46343": {
      "model_module": "jupyter-leaflet",
      "model_module_version": "^0.17",
      "model_name": "LeafletAttributionControlModel",
      "state": {
       "_model_module_version": "^0.17",
       "_view_module_version": "^0.17",
       "options": [
        "position",
        "prefix"
       ],
       "position": "bottomright",
       "prefix": "ipyleaflet"
      }
     },
     "e14cd0c6f2da484992091ecb210a14c1": {
      "model_module": "@jupyter-widgets/base",
      "model_module_version": "1.2.0",
      "model_name": "LayoutModel",
      "state": {}
     },
     "e152ef94272947878eefc239c53c01bd": {
      "model_module": "@jupyter-widgets/base",
      "model_module_version": "1.2.0",
      "model_name": "LayoutModel",
      "state": {}
     },
     "e17684a09cc3419da68b48d74ff4e12e": {
      "model_module": "jupyter-leaflet",
      "model_module_version": "^0.17",
      "model_name": "LeafletMapStyleModel",
      "state": {
       "_model_module_version": "^0.17"
      }
     },
     "e18194fbeb6f42968ba5e0787e1d4ca4": {
      "model_module": "jupyter-leaflet",
      "model_module_version": "^0.17",
      "model_name": "LeafletZoomControlModel",
      "state": {
       "_model_module_version": "^0.17",
       "_view_module_version": "^0.17",
       "options": [
        "position",
        "zoom_in_text",
        "zoom_in_title",
        "zoom_out_text",
        "zoom_out_title"
       ]
      }
     },
     "e19414a88f8640518ad0d9bcc30fa71a": {
      "model_module": "@jupyter-widgets/controls",
      "model_module_version": "1.5.0",
      "model_name": "DescriptionStyleModel",
      "state": {
       "description_width": ""
      }
     },
     "e19cf387f38548a28a69f973e8c962b7": {
      "model_module": "jupyter-leaflet",
      "model_module_version": "^0.17",
      "model_name": "LeafletMapStyleModel",
      "state": {
       "_model_module_version": "^0.17"
      }
     },
     "e20c6f6fc84947159f5b5c28594faedd": {
      "model_module": "jupyter-leaflet",
      "model_module_version": "^0.12.1",
      "model_name": "LeafletMapStyleModel",
      "state": {
       "_model_module_version": "^0.12.1"
      }
     },
     "e2135b7f69d8473fbf1abf3aede718d1": {
      "model_module": "@jupyter-widgets/base",
      "model_module_version": "1.2.0",
      "model_name": "LayoutModel",
      "state": {}
     },
     "e2290144b4a04c66b6a7353d94778fc7": {
      "model_module": "jupyter-leaflet",
      "model_module_version": "^0.12.6",
      "model_name": "LeafletTileLayerModel",
      "state": {
       "_model_module_version": "^0.12.6",
       "_view_module_version": "^0.12.6",
       "attribution": "Map tiles by <a href=\"https://labs.strava.com/heatmap\">Strava 2017</a>",
       "max_native_zoom": 18,
       "max_zoom": 15,
       "min_native_zoom": 0,
       "min_zoom": 1,
       "name": "Strava.Water",
       "options": [
        "attribution",
        "detect_retina",
        "max_native_zoom",
        "max_zoom",
        "min_native_zoom",
        "min_zoom",
        "no_wrap",
        "tile_size",
        "tms"
       ],
       "url": "https://heatmap-external-a.strava.com//tiles/water/blue/{z}/{x}/{y}.png?v=19"
      }
     },
     "e22a8b737fa044ad993278c2efc8f104": {
      "model_module": "jupyter-leaflet",
      "model_module_version": "^0.12.1",
      "model_name": "LeafletMapStyleModel",
      "state": {
       "_model_module_version": "^0.12.1"
      }
     },
     "e274211be9d8489e9ecb9012985e8076": {
      "model_module": "@jupyter-widgets/controls",
      "model_module_version": "1.5.0",
      "model_name": "IntSliderModel",
      "state": {
       "description": "Zoom level:",
       "layout": "IPY_MODEL_c457ba0ce6d24041b2acf1a390ff6cca",
       "max": 15,
       "style": "IPY_MODEL_4849430844c84160b174f0897f67c166",
       "value": 12
      }
     },
     "e27658e30b9b452594d2d8f9d49475ed": {
      "model_module": "jupyter-leaflet",
      "model_module_version": "~0.9.2",
      "model_name": "LeafletMapModel",
      "state": {
       "_model_module_version": "~0.9.2",
       "_view_module_version": "~0.9.2",
       "basemap": {
        "attribution": "Map data (c) <a href=\"https://openstreetmap.org\">OpenStreetMap</a> contributors",
        "max_zoom": 19,
        "url": "https://{s}.tile.openstreetmap.org/{z}/{x}/{y}.png"
       },
       "center": [
        47.785480119293645,
        7.445297241210938
       ],
       "east": 7.779693603515626,
       "interpolation": "bilinear",
       "layers": [
        "IPY_MODEL_7659a3a0ab6f40739205a6025d928bd5"
       ],
       "layout": "IPY_MODEL_b1d4d7b4465c4ef191bcf51a34dcfac6",
       "modisdate": "yesterday",
       "north": 47.9696977140649,
       "options": [
        "attribution_control",
        "basemap",
        "bounce_at_zoom_limits",
        "box_zoom",
        "center",
        "close_popup_on_click",
        "double_click_zoom",
        "dragging",
        "inertia",
        "inertia_deceleration",
        "inertia_max_speed",
        "interpolation",
        "keyboard",
        "keyboard_pan_offset",
        "keyboard_zoom_offset",
        "max_zoom",
        "min_zoom",
        "scroll_wheel_zoom",
        "tap",
        "tap_tolerance",
        "touch_zoom",
        "world_copy_jump",
        "zoom",
        "zoom_animation_threshold",
        "zoom_control",
        "zoom_start"
       ],
       "south": 47.600607322920695,
       "west": 7.110900878906251,
       "window_url": "http://localhost:8888/notebooks/js/ipyleaflet.ipynb",
       "zoom": 10
      }
     },
     "e28b6d226b454bc4a8782a34506ac594": {
      "model_module": "jupyter-leaflet",
      "model_module_version": "^0.17",
      "model_name": "LeafletTileLayerModel",
      "state": {
       "_model_module_version": "^0.17",
       "_view_module_version": "^0.17",
       "attribution": "&copy; <a href=\"https://www.openstreetmap.org/copyright\">OpenStreetMap</a> contributors &copy; <a href=\"https://carto.com/attributions\">CARTO</a>",
       "base": true,
       "max_zoom": 20,
       "min_zoom": 1,
       "name": "CartoDB.Positron",
       "options": [
        "attribution",
        "bounds",
        "detect_retina",
        "max_native_zoom",
        "max_zoom",
        "min_native_zoom",
        "min_zoom",
        "no_wrap",
        "tile_size",
        "tms",
        "zoom_offset"
       ],
       "url": "https://a.basemaps.cartocdn.com/light_all/{z}/{x}/{y}.png"
      }
     },
     "e2c3874b49ee49d2a47223c3405a177f": {
      "model_module": "jupyter-leaflet",
      "model_module_version": "^0.17",
      "model_name": "LeafletMapStyleModel",
      "state": {
       "_model_module_version": "^0.17"
      }
     },
     "e3450f64e64741078d28c02a3709cd04": {
      "model_module": "@jupyter-widgets/controls",
      "model_module_version": "1.5.0",
      "model_name": "LinkModel",
      "state": {
       "source": [
        "IPY_MODEL_c9207ae6864447ea92f63bb5216f62d4",
        "value"
       ],
       "target": [
        "IPY_MODEL_7e8f1e7d7a9e4d4ab45eb7e1f0f54c1a",
        "zoom"
       ]
      }
     },
     "e3985c72fa1040f98352157c8f760adb": {
      "model_module": "jupyter-leaflet",
      "model_module_version": "^0.17",
      "model_name": "LeafletZoomControlModel",
      "state": {
       "_model_module_version": "^0.17",
       "_view_module_version": "^0.17",
       "options": [
        "position",
        "zoom_in_text",
        "zoom_in_title",
        "zoom_out_text",
        "zoom_out_title"
       ]
      }
     },
     "e3c2c97d6d1c498db40dffce660ce55e": {
      "model_module": "jupyter-leaflet",
      "model_module_version": "^0.12.1",
      "model_name": "LeafletMapStyleModel",
      "state": {
       "_model_module_version": "^0.12.1"
      }
     },
     "e3d45dcd83d445a8a1b0a7411c781115": {
      "model_module": "@jupyter-widgets/controls",
      "model_module_version": "1.5.0",
      "model_name": "IntSliderModel",
      "state": {
       "description": "Zoom level:",
       "layout": "IPY_MODEL_433db74fd2d84a92abe9a2b4ad536e23",
       "max": 30,
       "style": "IPY_MODEL_697f6ea37f874200bfab4dda40481369",
       "value": 20
      }
     },
     "e3d6e61a7e554387b1bb7b62c3b3d1af": {
      "model_module": "@jupyter-widgets/base",
      "model_module_version": "1.2.0",
      "model_name": "LayoutModel",
      "state": {}
     },
     "e4268bf3348d43e480b8d89c9406e00b": {
      "model_module": "jupyter-leaflet",
      "model_module_version": "^0.17",
      "model_name": "LeafletMapStyleModel",
      "state": {
       "_model_module_version": "^0.17",
       "cursor": "move"
      }
     },
     "e43b19e18d7c4a20a7839cc366db573d": {
      "model_module": "@jupyter-widgets/controls",
      "model_module_version": "1.5.0",
      "model_name": "LinkModel",
      "state": {
       "source": [
        "IPY_MODEL_d53da07303394d7ba14a2d101f0500ac",
        "value"
       ],
       "target": [
        "IPY_MODEL_9875b01facb14eadb52dac6f4209811e",
        "zoom"
       ]
      }
     },
     "e44f0769135745f3b8ae0a65f339adc8": {
      "model_module": "jupyter-leaflet",
      "model_module_version": "^0.17",
      "model_name": "LeafletMapStyleModel",
      "state": {
       "_model_module_version": "^0.17",
       "cursor": "move"
      }
     },
     "e481cad2a8db4e1ca64db00bfd9daf12": {
      "model_module": "jupyter-leaflet",
      "model_module_version": "~0.9.2",
      "model_name": "LeafletTileLayerModel",
      "state": {
       "_model_module_version": "~0.9.2",
       "_view_module_version": "~0.9.2",
       "attribution": "Tiles courtesy of <a href=\"http://openstreetmap.se/\" target=\"_blank\">OpenStreetMap Sweden</a> &mdash; Map data &copy; <a href=\"http://www.openstreetmap.org/copyright\">OpenStreetMap</a>",
       "base": true,
       "min_zoom": 1,
       "name": "Hydda.Full",
       "options": [
        "attribution",
        "detect_retina",
        "max_zoom",
        "min_zoom",
        "tile_size"
       ],
       "url": "http://{s}.tile.openstreetmap.se/hydda/full/{z}/{x}/{y}.png"
      }
     },
     "e48726183d9147ff96e5e258b0b7ba17": {
      "model_module": "@jupyter-widgets/base",
      "model_module_version": "1.2.0",
      "model_name": "LayoutModel",
      "state": {}
     },
     "e4bb9073491a42ebbecdf75bbc0d4f41": {
      "model_module": "@jupyter-widgets/controls",
      "model_module_version": "1.5.0",
      "model_name": "DescriptionStyleModel",
      "state": {
       "description_width": ""
      }
     },
     "e4cb0e4b15fc44eba7efc45c9a443529": {
      "model_module": "jupyter-leaflet",
      "model_module_version": "^0.17",
      "model_name": "LeafletTileLayerModel",
      "state": {
       "_model_module_version": "^0.17",
       "_view_module_version": "^0.17",
       "attribution": "&copy; <a href=\"https://www.openstreetmap.org/copyright\">OpenStreetMap</a> contributors",
       "base": true,
       "max_zoom": 19,
       "min_zoom": 1,
       "name": "OpenStreetMap.Mapnik",
       "options": [
        "attribution",
        "bounds",
        "detect_retina",
        "max_native_zoom",
        "max_zoom",
        "min_native_zoom",
        "min_zoom",
        "no_wrap",
        "tile_size",
        "tms",
        "zoom_offset"
       ],
       "url": "https://tile.openstreetmap.org/{z}/{x}/{y}.png"
      }
     },
     "e51bede45d254aabacc10c0db25395c7": {
      "model_module": "jupyter-leaflet",
      "model_module_version": "^0.17",
      "model_name": "LeafletZoomControlModel",
      "state": {
       "_model_module_version": "^0.17",
       "_view_module_version": "^0.17",
       "options": [
        "position",
        "zoom_in_text",
        "zoom_in_title",
        "zoom_out_text",
        "zoom_out_title"
       ]
      }
     },
     "e51d4ad81bce460ca4721d8037c83612": {
      "model_module": "jupyter-leaflet",
      "model_module_version": "~0.9.2",
      "model_name": "LeafletMapModel",
      "state": {
       "_model_module_version": "~0.9.2",
       "_view_module_version": "~0.9.2",
       "basemap": {
        "attribution": "Tiles courtesy of <a href=\"http://openstreetmap.se/\" target=\"_blank\">OpenStreetMap Sweden</a> &mdash; Map data &copy; <a href=\"http://www.openstreetmap.org/copyright\">OpenStreetMap</a>",
        "max_zoom": 18,
        "name": "Hydda.Full",
        "url": "http://{s}.tile.openstreetmap.se/hydda/full/{z}/{x}/{y}.png"
       },
       "center": [
        52,
        10
       ],
       "east": 12.689208984375002,
       "interpolation": "bilinear",
       "layers": [
        "IPY_MODEL_9e694740cf5944c2b87fc9f164c0a39b"
       ],
       "layout": "IPY_MODEL_3606f30ee3eb4f4faded52e2367747a7",
       "modisdate": "yesterday",
       "north": 52.669720383688166,
       "options": [
        "attribution_control",
        "basemap",
        "bounce_at_zoom_limits",
        "box_zoom",
        "center",
        "close_popup_on_click",
        "double_click_zoom",
        "dragging",
        "inertia",
        "inertia_deceleration",
        "inertia_max_speed",
        "interpolation",
        "keyboard",
        "keyboard_pan_offset",
        "keyboard_zoom_offset",
        "max_zoom",
        "min_zoom",
        "scroll_wheel_zoom",
        "tap",
        "tap_tolerance",
        "touch_zoom",
        "world_copy_jump",
        "zoom",
        "zoom_animation_threshold",
        "zoom_control",
        "zoom_start"
       ],
       "south": 51.316880504045876,
       "west": 7.3114013671875,
       "window_url": "http://localhost:8888/notebooks/js/ipyleaflet.ipynb",
       "zoom": 8
      }
     },
     "e54278c4c05542cba9d67f04e6b3522a": {
      "model_module": "jupyter-leaflet",
      "model_module_version": "^0.17",
      "model_name": "LeafletMapStyleModel",
      "state": {
       "_model_module_version": "^0.17"
      }
     },
     "e5495425f99f44e897b2cc5bf6127a65": {
      "model_module": "jupyter-leaflet",
      "model_module_version": "^0.17",
      "model_name": "LeafletAttributionControlModel",
      "state": {
       "_model_module_version": "^0.17",
       "_view_module_version": "^0.17",
       "options": [
        "position",
        "prefix"
       ],
       "position": "bottomright",
       "prefix": "ipyleaflet"
      }
     },
     "e5665086383743b4b142a41d89d106e5": {
      "model_module": "@jupyter-widgets/base",
      "model_module_version": "1.2.0",
      "model_name": "LayoutModel",
      "state": {}
     },
     "e5742688e911447fa1eb03bd5a3cf7c7": {
      "model_module": "@jupyter-widgets/controls",
      "model_module_version": "1.5.0",
      "model_name": "HBoxModel",
      "state": {
       "children": [
        "IPY_MODEL_2a0f6d89c0844b93a69ef9742d7acb6b",
        "IPY_MODEL_97f46b0fa80445deb992ffc1a8282ed9"
       ],
       "layout": "IPY_MODEL_5605723188ca4f8ab51639cac498a325"
      }
     },
     "e58a6dcf7b824993b8fe999a82345e47": {
      "model_module": "jupyter-leaflet",
      "model_module_version": "~0.9.2",
      "model_name": "LeafletMapModel",
      "state": {
       "_model_module_version": "~0.9.2",
       "_view_module_version": "~0.9.2",
       "basemap": {
        "attribution": "Tiles courtesy of <a href=\"http://openstreetmap.se/\" target=\"_blank\">OpenStreetMap Sweden</a> &mdash; Map data &copy; <a href=\"http://www.openstreetmap.org/copyright\">OpenStreetMap</a>",
        "max_zoom": 18,
        "name": "Hydda.Full",
        "url": "http://{s}.tile.openstreetmap.se/hydda/full/{z}/{x}/{y}.png"
       },
       "center": [
        51,
        10
       ],
       "east": 12.689208984375002,
       "interpolation": "bilinear",
       "layers": [
        "IPY_MODEL_5e4b909094b14951ace4f41872ab5dd5"
       ],
       "layout": "IPY_MODEL_31c2aa08bd764986ad77ec7d01576909",
       "modisdate": "yesterday",
       "north": 51.68617954855624,
       "options": [
        "attribution_control",
        "basemap",
        "bounce_at_zoom_limits",
        "box_zoom",
        "center",
        "close_popup_on_click",
        "double_click_zoom",
        "dragging",
        "inertia",
        "inertia_deceleration",
        "inertia_max_speed",
        "interpolation",
        "keyboard",
        "keyboard_pan_offset",
        "keyboard_zoom_offset",
        "max_zoom",
        "min_zoom",
        "scroll_wheel_zoom",
        "tap",
        "tap_tolerance",
        "touch_zoom",
        "world_copy_jump",
        "zoom",
        "zoom_animation_threshold",
        "zoom_control",
        "zoom_start"
       ],
       "south": 50.30337575356313,
       "west": 7.3114013671875,
       "window_url": "http://localhost:8888/notebooks/js/ipyleaflet.ipynb",
       "zoom": 8
      }
     },
     "e5ddef9d254648a7b3d3771a314711c3": {
      "model_module": "jupyter-leaflet",
      "model_module_version": "~0.9.2",
      "model_name": "LeafletLayersControlModel",
      "state": {
       "_model_module_version": "~0.9.2",
       "_view_module_version": "~0.9.2"
      }
     },
     "e62b5cbddd50413487eef0087ede16db": {
      "model_module": "jupyter-leaflet",
      "model_module_version": "^0.11.6",
      "model_name": "LeafletMapStyleModel",
      "state": {
       "_model_module_version": "^0.11.6"
      }
     },
     "e64a29c1c54d43a7909671f4bec129d1": {
      "model_module": "jupyter-leaflet",
      "model_module_version": "^0.17",
      "model_name": "LeafletMapModel",
      "state": {
       "_model_module_version": "^0.17",
       "_view_module_version": "^0.17",
       "bottom": 5574,
       "center": [
        52.5162,
        13.3777
       ],
       "controls": [
        "IPY_MODEL_e3985c72fa1040f98352157c8f760adb",
        "IPY_MODEL_dacee95a14ac40fd87721213cd6bb33d"
       ],
       "default_style": "IPY_MODEL_c866bc47f6074f0a9991ec310919a072",
       "dragging_style": "IPY_MODEL_058346f3a4074c5d8c53ebf1f7c7a473",
       "east": 24.01611328125,
       "fullscreen": false,
       "interpolation": "bilinear",
       "layers": [
        "IPY_MODEL_1a61a38f69e44e6abb77b7c80e055380"
       ],
       "layout": "IPY_MODEL_2bb2e344ee1f4582b792afc7cbc36c50",
       "left": 8316,
       "modisdate": "2023-07-11",
       "north": 55.10351605801967,
       "options": [
        "bounce_at_zoom_limits",
        "box_zoom",
        "center",
        "close_popup_on_click",
        "double_click_zoom",
        "dragging",
        "fullscreen",
        "inertia",
        "inertia_deceleration",
        "inertia_max_speed",
        "interpolation",
        "keyboard",
        "keyboard_pan_offset",
        "keyboard_zoom_offset",
        "max_zoom",
        "min_zoom",
        "prefer_canvas",
        "scroll_wheel_zoom",
        "tap",
        "tap_tolerance",
        "touch_zoom",
        "world_copy_jump",
        "zoom",
        "zoom_animation_threshold",
        "zoom_delta",
        "zoom_snap"
       ],
       "prefer_canvas": false,
       "right": 9285,
       "south": 49.75287993415023,
       "style": "IPY_MODEL_c213e497075443b594ac760792ccccc0",
       "top": 5174,
       "west": 2.7246093750000004,
       "window_url": "http://localhost:8888/notebooks/js/ipyleaflet.ipynb#",
       "zoom": 6
      }
     },
     "e678b59fa7834265a9afbc9ee3b318f4": {
      "model_module": "jupyter-leaflet",
      "model_module_version": "^0.17",
      "model_name": "LeafletWMSLayerModel",
      "state": {
       "_model_module_version": "^0.17",
       "_view_module_version": "^0.17",
       "attribution": "Weather data © 2012 IEM Nexrad",
       "crs": {
        "custom": false,
        "name": "EPSG3857"
       },
       "format": "image/png",
       "layers": "nexrad-n0r-wmst",
       "options": [
        "attribution",
        "bounds",
        "detect_retina",
        "format",
        "layers",
        "max_native_zoom",
        "max_zoom",
        "min_native_zoom",
        "min_zoom",
        "no_wrap",
        "styles",
        "tile_size",
        "time",
        "tms",
        "transparent",
        "uppercase",
        "zoom_offset"
       ],
       "time": "2005-08-29T13:00:00Z",
       "transparent": true,
       "url": "https://mesonet.agron.iastate.edu/cgi-bin/wms/nexrad/n0r-t.cgi?"
      }
     },
     "e6ef6d1b2a4e4fbe9e3b9c64a6a6762b": {
      "model_module": "jupyter-leaflet",
      "model_module_version": "^0.12.1",
      "model_name": "LeafletAttributionControlModel",
      "state": {
       "_model_module_version": "^0.12.1",
       "_view_module_version": "^0.12.1",
       "options": [
        "position",
        "prefix"
       ],
       "position": "bottomright",
       "prefix": "Leaflet"
      }
     },
     "e6f21f4f588d48b5841784acbc4a7931": {
      "model_module": "jupyter-leaflet",
      "model_module_version": "^0.17",
      "model_name": "LeafletMapModel",
      "state": {
       "_model_module_version": "^0.17",
       "_view_module_version": "^0.17",
       "center": [
        [
         52.5345,
         13.4226
        ]
       ],
       "controls": [
        "IPY_MODEL_69c7713945ae4971a2d9d9468f7a7a95",
        "IPY_MODEL_a9e2bb7ee6fa4051a8251fef1e368ce8"
       ],
       "default_style": "IPY_MODEL_35e4056cc25c4746a373683c6aa57c80",
       "dragging_style": "IPY_MODEL_b66c66c8ea74409784b44fcf6670440b",
       "fullscreen": false,
       "interpolation": "bilinear",
       "layers": [
        "IPY_MODEL_21d8c5f0dde04cdf9570e67079622de2"
       ],
       "layout": "IPY_MODEL_4b5b43b4e06c4e7c827ed337390a5308",
       "modisdate": "2023-07-11",
       "options": [
        "bounce_at_zoom_limits",
        "box_zoom",
        "center",
        "close_popup_on_click",
        "double_click_zoom",
        "dragging",
        "fullscreen",
        "inertia",
        "inertia_deceleration",
        "inertia_max_speed",
        "interpolation",
        "keyboard",
        "keyboard_pan_offset",
        "keyboard_zoom_offset",
        "max_zoom",
        "min_zoom",
        "prefer_canvas",
        "scroll_wheel_zoom",
        "tap",
        "tap_tolerance",
        "touch_zoom",
        "world_copy_jump",
        "zoom",
        "zoom_animation_threshold",
        "zoom_delta",
        "zoom_snap"
       ],
       "prefer_canvas": false,
       "style": "IPY_MODEL_f1f2e4ab1639483bb74cff05b809a9ec",
       "window_url": "http://localhost:8888/notebooks/js/ipyleaflet.ipynb#",
       "zoom": 6
      }
     },
     "e70cd86b5d5144f691f6af00f2c33113": {
      "model_module": "jupyter-leaflet",
      "model_module_version": "^0.17",
      "model_name": "LeafletWidgetControlModel",
      "state": {
       "_model_module": "jupyter-leaflet",
       "_model_module_version": "^0.17",
       "_view_count": null,
       "_view_module": "jupyter-leaflet",
       "_view_module_version": "^0.17",
       "options": [
        "position",
        "transparent_bg"
       ],
       "position": "topright",
       "widget": "IPY_MODEL_4e0b10bd55374bb0a1c408c73226f130"
      }
     },
     "e75544f6587a44cbbd32ad080cb8feed": {
      "model_module": "@jupyter-widgets/base",
      "model_module_version": "1.2.0",
      "model_name": "LayoutModel",
      "state": {}
     },
     "e76abd5edd8d441cba87638973191a30": {
      "model_module": "jupyter-leaflet",
      "model_module_version": "^0.12.1",
      "model_name": "LeafletTileLayerModel",
      "state": {
       "_model_module_version": "^0.12.1",
       "_view_module_version": "^0.12.1",
       "attribution": "",
       "max_native_zoom": 18,
       "max_zoom": 19,
       "min_native_zoom": 0,
       "min_zoom": 1,
       "name": "Countries",
       "options": [
        "attribution",
        "detect_retina",
        "max_native_zoom",
        "max_zoom",
        "min_native_zoom",
        "min_zoom",
        "no_wrap",
        "tile_size",
        "tms"
       ],
       "url": ""
      }
     },
     "e7a74b019c6c4ebf8b2d6878dc675a26": {
      "model_module": "jupyter-leaflet",
      "model_module_version": "^0.17",
      "model_name": "LeafletMapStyleModel",
      "state": {
       "_model_module_version": "^0.17",
       "cursor": "move"
      }
     },
     "e7c691cb5b21468a8fb8ac5de527bc56": {
      "model_module": "jupyter-leaflet",
      "model_module_version": "~0.9.2",
      "model_name": "LeafletMapModel",
      "state": {
       "_model_module_version": "~0.9.2",
       "_view_module_version": "~0.9.2",
       "basemap": {
        "attribution": "Map data (c) <a href=\"https://openstreetmap.org\">OpenStreetMap</a> contributors",
        "max_zoom": 19,
        "url": "https://{s}.tile.openstreetmap.org/{z}/{x}/{y}.png"
       },
       "center": [
        46.6,
        7.9
       ],
       "east": 8.234252929687502,
       "interpolation": "bilinear",
       "layers": [
        "IPY_MODEL_c016cd1f0b9548989abb6b83f60fa501"
       ],
       "layout": "IPY_MODEL_acfe3e23f9ec4ebd9e26d0885fe3ceef",
       "modisdate": "yesterday",
       "north": 46.78877728793222,
       "options": [
        "attribution_control",
        "basemap",
        "bounce_at_zoom_limits",
        "box_zoom",
        "center",
        "close_popup_on_click",
        "double_click_zoom",
        "dragging",
        "inertia",
        "inertia_deceleration",
        "inertia_max_speed",
        "interpolation",
        "keyboard",
        "keyboard_pan_offset",
        "keyboard_zoom_offset",
        "max_zoom",
        "min_zoom",
        "scroll_wheel_zoom",
        "tap",
        "tap_tolerance",
        "touch_zoom",
        "world_copy_jump",
        "zoom",
        "zoom_animation_threshold",
        "zoom_control",
        "zoom_start"
       ],
       "south": 46.411351502899215,
       "west": 7.565460205078126,
       "window_url": "http://localhost:8888/notebooks/js/ipyleaflet.ipynb",
       "zoom": 10
      }
     },
     "e7f0222549124519bd3a5d1799ba6600": {
      "model_module": "@jupyter-widgets/controls",
      "model_module_version": "1.5.0",
      "model_name": "HBoxModel",
      "state": {
       "children": [
        "IPY_MODEL_2a0f6d89c0844b93a69ef9742d7acb6b",
        "IPY_MODEL_f8b6b100d59f42cc91cff3575a87208f"
       ],
       "layout": "IPY_MODEL_16be0029c33f4e42923636d826fe798e"
      }
     },
     "e7fba9c9f9c643a98e4280016fb5be47": {
      "model_module": "jupyter-leaflet",
      "model_module_version": "^0.12.1",
      "model_name": "LeafletMapStyleModel",
      "state": {
       "_model_module_version": "^0.12.1",
       "cursor": "move"
      }
     },
     "e83ce2114af94efbb8eb4500137064c1": {
      "model_module": "@jupyter-widgets/base",
      "model_module_version": "1.2.0",
      "model_name": "LayoutModel",
      "state": {}
     },
     "e846fa5f31844dceb504eab30b071dae": {
      "model_module": "@jupyter-widgets/base",
      "model_module_version": "1.2.0",
      "model_name": "LayoutModel",
      "state": {}
     },
     "e84a4864d87b40ca9db358b8d5bd9729": {
      "model_module": "@jupyter-widgets/controls",
      "model_module_version": "1.5.0",
      "model_name": "DescriptionStyleModel",
      "state": {
       "description_width": ""
      }
     },
     "e8d996bc840442cf95de01977c06cd5d": {
      "model_module": "@jupyter-widgets/base",
      "model_module_version": "1.2.0",
      "model_name": "LayoutModel",
      "state": {}
     },
     "e8db4aaff6304eed8140d540f6c4869b": {
      "model_module": "jupyter-leaflet",
      "model_module_version": "^0.12.1",
      "model_name": "LeafletMapStyleModel",
      "state": {
       "_model_module_version": "^0.12.1"
      }
     },
     "e90b70db499d413bb7dcdc4946292083": {
      "model_module": "jupyter-leaflet",
      "model_module_version": "^0.17",
      "model_name": "LeafletZoomControlModel",
      "state": {
       "_model_module_version": "^0.17",
       "_view_module_version": "^0.17",
       "options": [
        "position",
        "zoom_in_text",
        "zoom_in_title",
        "zoom_out_text",
        "zoom_out_title"
       ]
      }
     },
     "e91ff7f4c4b84acaa13f4a854edc596d": {
      "model_module": "@jupyter-widgets/controls",
      "model_module_version": "1.5.0",
      "model_name": "SliderStyleModel",
      "state": {
       "description_width": ""
      }
     },
     "e92c12c873824f4dbdfd50a4855ee24b": {
      "model_module": "@jupyter-widgets/controls",
      "model_module_version": "1.5.0",
      "model_name": "LinkModel",
      "state": {
       "source": [
        "IPY_MODEL_c5760c12f721426ca03a320fad859dd5",
        "value"
       ],
       "target": [
        "IPY_MODEL_0d31608b2b2248ab97deb12a674435f3",
        "zoom"
       ]
      }
     },
     "e979937fd0e24f028436273773543553": {
      "model_module": "jupyter-leaflet",
      "model_module_version": "^0.17",
      "model_name": "LeafletMapStyleModel",
      "state": {
       "_model_module_version": "^0.17",
       "cursor": "move"
      }
     },
     "e97bdbbe96cf4043ad0cef60a485c15b": {
      "model_module": "jupyter-leaflet",
      "model_module_version": "^0.17",
      "model_name": "LeafletMapModel",
      "state": {
       "_model_module_version": "^0.17",
       "_view_module_version": "^0.17",
       "bottom": 91325,
       "center": [
        48,
        7.9
       ],
       "controls": [
        "IPY_MODEL_6639d85c33904e0ab346d19b42e01db5",
        "IPY_MODEL_c4e983faf478425bbeeeb983d510f41f"
       ],
       "default_style": "IPY_MODEL_1551565a7cbc4977a02724d90b97bf21",
       "dragging_style": "IPY_MODEL_f2e23f3ba8374c97a933f741f629c7be",
       "east": 8.231506347656252,
       "fullscreen": false,
       "interpolation": "bilinear",
       "layers": [
        "IPY_MODEL_644b16a4bbf14dccb59bf4737d2fa5a6"
       ],
       "layout": "IPY_MODEL_6d396e38dc1742108434340ef9759ef9",
       "left": 136584,
       "modisdate": "2023-07-11",
       "north": 48.18348549519126,
       "options": [
        "bounce_at_zoom_limits",
        "box_zoom",
        "center",
        "close_popup_on_click",
        "double_click_zoom",
        "dragging",
        "fullscreen",
        "inertia",
        "inertia_deceleration",
        "inertia_max_speed",
        "interpolation",
        "keyboard",
        "keyboard_pan_offset",
        "keyboard_zoom_offset",
        "max_zoom",
        "min_zoom",
        "prefer_canvas",
        "scroll_wheel_zoom",
        "tap",
        "tap_tolerance",
        "touch_zoom",
        "world_copy_jump",
        "zoom",
        "zoom_animation_threshold",
        "zoom_delta",
        "zoom_snap"
       ],
       "prefer_canvas": false,
       "right": 137066,
       "south": 47.81592114659014,
       "style": "IPY_MODEL_0f7f90386d5545d2ace3da8b5493ccc3",
       "top": 90925,
       "west": 7.569580078125001,
       "window_url": "http://localhost:8888/notebooks/js/ipyleaflet.ipynb#",
       "zoom": 10
      }
     },
     "e9cb624b707a48bcb491a9c3a2a8c84f": {
      "model_module": "@jupyter-widgets/controls",
      "model_module_version": "1.5.0",
      "model_name": "HBoxModel",
      "state": {
       "children": [
        "IPY_MODEL_7b5aca1085ad42b4b33b2c195e9c961b",
        "IPY_MODEL_f782d2d330b545c9a76d7b9191aef322"
       ],
       "layout": "IPY_MODEL_a3747a9687c64d6b9700638538132d7c"
      }
     },
     "ea0d700c26c4425abebc9ce6c67732e1": {
      "model_module": "jupyter-leaflet",
      "model_module_version": "^0.17",
      "model_name": "LeafletMapStyleModel",
      "state": {
       "_model_module_version": "^0.17"
      }
     },
     "ea2ebb3920bb46ad9f50e9027995b0c9": {
      "model_module": "@jupyter-widgets/base",
      "model_module_version": "1.2.0",
      "model_name": "LayoutModel",
      "state": {}
     },
     "eb22b24dedd34503ae30f24c6b94490c": {
      "model_module": "@jupyter-widgets/controls",
      "model_module_version": "1.5.0",
      "model_name": "DescriptionStyleModel",
      "state": {
       "description_width": ""
      }
     },
     "eb3a3474ceec4965b4fc76d3de36962c": {
      "model_module": "jupyter-leaflet",
      "model_module_version": "^0.17",
      "model_name": "LeafletMapStyleModel",
      "state": {
       "_model_module_version": "^0.17",
       "cursor": "move"
      }
     },
     "eb81a40952f84c0c82965b08ba83a2a1": {
      "model_module": "jupyter-leaflet",
      "model_module_version": "~0.9.2",
      "model_name": "LeafletTileLayerModel",
      "state": {
       "_model_module_version": "~0.9.2",
       "_view_module_version": "~0.9.2",
       "attribution": "Tiles courtesy of <a href=\"http://openstreetmap.se/\" target=\"_blank\">OpenStreetMap Sweden</a> &mdash; Map data &copy; <a href=\"http://www.openstreetmap.org/copyright\">OpenStreetMap</a>",
       "base": true,
       "min_zoom": 1,
       "name": "Hydda.Full",
       "options": [
        "attribution",
        "detect_retina",
        "max_zoom",
        "min_zoom",
        "tile_size"
       ],
       "url": "http://{s}.tile.openstreetmap.se/hydda/full/{z}/{x}/{y}.png"
      }
     },
     "eb9472db8d894c18a4b2bf351ba5f8a7": {
      "model_module": "jupyter-leaflet",
      "model_module_version": "^0.17",
      "model_name": "LeafletZoomControlModel",
      "state": {
       "_model_module_version": "^0.17",
       "_view_module_version": "^0.17",
       "options": [
        "position",
        "zoom_in_text",
        "zoom_in_title",
        "zoom_out_text",
        "zoom_out_title"
       ]
      }
     },
     "ebd46bdf0e8e431c86ca5b99cb5abf76": {
      "model_module": "@jupyter-widgets/controls",
      "model_module_version": "1.5.0",
      "model_name": "HBoxModel",
      "state": {
       "children": [
        "IPY_MODEL_81000aba87174f309c97913ee49c42ee",
        "IPY_MODEL_63c2ff9aebf047c0ac6e5ac8c9e78a1c"
       ],
       "layout": "IPY_MODEL_329fb432f4fc41c58e830333427c3e53"
      }
     },
     "ebf87a235de14c2b98af600c605a1c35": {
      "model_module": "jupyter-leaflet",
      "model_module_version": "^0.17",
      "model_name": "LeafletMapStyleModel",
      "state": {
       "_model_module_version": "^0.17"
      }
     },
     "ecbb898fbdbf43b1bf02079e509c8fa6": {
      "model_module": "jupyter-leaflet",
      "model_module_version": "^0.17",
      "model_name": "LeafletMapStyleModel",
      "state": {
       "_model_module_version": "^0.17",
       "cursor": "move"
      }
     },
     "ecbcf4390e6846beb5f71a9f1b1e6212": {
      "model_module": "jupyter-leaflet",
      "model_module_version": "^0.17",
      "model_name": "LeafletMapStyleModel",
      "state": {
       "_model_module_version": "^0.17"
      }
     },
     "ecf5edfe3ba94f218b46bfa754b7b520": {
      "model_module": "jupyter-leaflet",
      "model_module_version": "^0.17",
      "model_name": "LeafletMapStyleModel",
      "state": {
       "_model_module_version": "^0.17"
      }
     },
     "ed11bdbfd3414aed847ff270762dedf7": {
      "model_module": "jupyter-leaflet",
      "model_module_version": "^0.17",
      "model_name": "LeafletMapModel",
      "state": {
       "_model_module_version": "^0.17",
       "_view_module_version": "^0.17",
       "bottom": 5574,
       "center": [
        52.5162,
        13.3777
       ],
       "controls": [
        "IPY_MODEL_f6ebf0fbeee347c49d731d150eb8a7f1",
        "IPY_MODEL_b47829b2ff2d44f3ae4b43f00c764042"
       ],
       "default_style": "IPY_MODEL_6fd89602d1444e1d908c02b139af54c4",
       "dragging_style": "IPY_MODEL_b769961a7e984d58b7a5023070215a90",
       "east": 24.01611328125,
       "fullscreen": false,
       "interpolation": "bilinear",
       "layers": [
        "IPY_MODEL_0a182c3ee6904a77958f5daa9534b92a"
       ],
       "layout": "IPY_MODEL_462d082fd56148d2bc423c96bacc6de3",
       "left": 8316,
       "modisdate": "2023-07-11",
       "north": 55.10351605801967,
       "options": [
        "bounce_at_zoom_limits",
        "box_zoom",
        "center",
        "close_popup_on_click",
        "double_click_zoom",
        "dragging",
        "fullscreen",
        "inertia",
        "inertia_deceleration",
        "inertia_max_speed",
        "interpolation",
        "keyboard",
        "keyboard_pan_offset",
        "keyboard_zoom_offset",
        "max_zoom",
        "min_zoom",
        "prefer_canvas",
        "scroll_wheel_zoom",
        "tap",
        "tap_tolerance",
        "touch_zoom",
        "world_copy_jump",
        "zoom",
        "zoom_animation_threshold",
        "zoom_delta",
        "zoom_snap"
       ],
       "prefer_canvas": false,
       "right": 9285,
       "south": 49.75287993415023,
       "style": "IPY_MODEL_785859749c114e7f8b3eb1439092ef57",
       "top": 5174,
       "west": 2.7246093750000004,
       "window_url": "http://localhost:8888/notebooks/js/ipyleaflet.ipynb#",
       "zoom": 6
      }
     },
     "ed213d7366f8483db3f72efbe3b98358": {
      "model_module": "jupyter-leaflet",
      "model_module_version": "^0.17",
      "model_name": "LeafletMapStyleModel",
      "state": {
       "_model_module_version": "^0.17"
      }
     },
     "ed26ea6445204b7daaf3fe0e918c99cc": {
      "model_module": "jupyter-leaflet",
      "model_module_version": "^0.17",
      "model_name": "LeafletMapStyleModel",
      "state": {
       "_model_module_version": "^0.17"
      }
     },
     "ed38e29dd6b44be2ab1cf05b44ee25b8": {
      "model_module": "@jupyter-widgets/controls",
      "model_module_version": "1.5.0",
      "model_name": "IntSliderModel",
      "state": {
       "description": "Zoom level:",
       "layout": "IPY_MODEL_7ab24d5e47e147ce9cae41d5f4e97d11",
       "max": 15,
       "style": "IPY_MODEL_89c00106aa3047e398c8eccb2653c3ab",
       "value": 12
      }
     },
     "ed7021898dfc407baf61f0995595aa9d": {
      "model_module": "@jupyter-widgets/base",
      "model_module_version": "1.2.0",
      "model_name": "LayoutModel",
      "state": {}
     },
     "edd16969db974e638cbe8731e980eb39": {
      "model_module": "@jupyter-widgets/base",
      "model_module_version": "1.2.0",
      "model_name": "LayoutModel",
      "state": {}
     },
     "ee486e6509344bd69c10c9a49ed21813": {
      "model_module": "jupyter-leaflet",
      "model_module_version": "^0.17",
      "model_name": "LeafletMapStyleModel",
      "state": {
       "_model_module_version": "^0.17"
      }
     },
     "ee79e19952564840b25dcb42cf25c799": {
      "model_module": "jupyter-leaflet",
      "model_module_version": "^0.17",
      "model_name": "LeafletMapModel",
      "state": {
       "_model_module_version": "^0.17",
       "_view_module_version": "^0.17",
       "bottom": 11005131,
       "center": [
        52.5162,
        13.3777
       ],
       "controls": [
        "IPY_MODEL_5c142e258b1b43729826a90def02328a",
        "IPY_MODEL_6098be57e582459d8f542bfb99c42fbf"
       ],
       "default_style": "IPY_MODEL_bc201a6891424a209008a45c97ea6569",
       "dragging_style": "IPY_MODEL_9b02b2cc442e48f8995e3ecc5da8d3f6",
       "east": 13.380285501480104,
       "fullscreen": false,
       "interpolation": "bilinear",
       "layers": [
        "IPY_MODEL_e4cb0e4b15fc44eba7efc45c9a443529"
       ],
       "layout": "IPY_MODEL_e83ce2114af94efbb8eb4500137064c1",
       "left": 18023867,
       "modisdate": "2023-07-11",
       "north": 52.51750703674465,
       "options": [
        "bounce_at_zoom_limits",
        "box_zoom",
        "center",
        "close_popup_on_click",
        "double_click_zoom",
        "dragging",
        "fullscreen",
        "inertia",
        "inertia_deceleration",
        "inertia_max_speed",
        "interpolation",
        "keyboard",
        "keyboard_pan_offset",
        "keyboard_zoom_offset",
        "max_zoom",
        "min_zoom",
        "prefer_canvas",
        "scroll_wheel_zoom",
        "tap",
        "tap_tolerance",
        "touch_zoom",
        "world_copy_jump",
        "zoom",
        "zoom_animation_threshold",
        "zoom_delta",
        "zoom_snap"
       ],
       "prefer_canvas": false,
       "right": 18024349,
       "south": 52.514895478953456,
       "style": "IPY_MODEL_0b654871583e4ca3b47674679904f4f0",
       "top": 11004731,
       "west": 13.375114202499391,
       "window_url": "http://localhost:8888/notebooks/js/ipyleaflet.ipynb#",
       "zoom": 17
      }
     },
     "ee8573c8c4364179a4ee47c982f1b46e": {
      "model_module": "jupyter-leaflet",
      "model_module_version": "^0.17",
      "model_name": "LeafletMapStyleModel",
      "state": {
       "_model_module_version": "^0.17"
      }
     },
     "eebc3cf4667d4c00a27b56c671d4bc68": {
      "model_module": "@jupyter-widgets/controls",
      "model_module_version": "1.5.0",
      "model_name": "DescriptionStyleModel",
      "state": {
       "description_width": ""
      }
     },
     "ef59dfa5b67d4b7ba97d418220caad65": {
      "model_module": "@jupyter-widgets/controls",
      "model_module_version": "1.5.0",
      "model_name": "DescriptionStyleModel",
      "state": {
       "description_width": ""
      }
     },
     "ef8bec32a1504c97b1986c4f7f907760": {
      "model_module": "jupyter-leaflet",
      "model_module_version": "^0.12.1",
      "model_name": "LeafletMapStyleModel",
      "state": {
       "_model_module_version": "^0.12.1"
      }
     },
     "efc9811fef5a438b90554b418fec29cb": {
      "model_module": "@jupyter-widgets/controls",
      "model_module_version": "1.5.0",
      "model_name": "HBoxModel",
      "state": {
       "children": [
        "IPY_MODEL_7b5aca1085ad42b4b33b2c195e9c961b",
        "IPY_MODEL_9ff6bca9f2d54869adc9858906f57c04"
       ],
       "layout": "IPY_MODEL_c8b2566cd4874735b592c3a1b365def2"
      }
     },
     "f043cc1830d84f6f98071578668d2540": {
      "model_module": "jupyter-leaflet",
      "model_module_version": "^0.17",
      "model_name": "LeafletZoomControlModel",
      "state": {
       "_model_module_version": "^0.17",
       "_view_module_version": "^0.17",
       "options": [
        "position",
        "zoom_in_text",
        "zoom_in_title",
        "zoom_out_text",
        "zoom_out_title"
       ]
      }
     },
     "f05b6e74e9734fce85214e9545702592": {
      "model_module": "@jupyter-widgets/controls",
      "model_module_version": "1.5.0",
      "model_name": "DescriptionStyleModel",
      "state": {
       "description_width": ""
      }
     },
     "f06093ce1d704ac7980d88a93f02183a": {
      "model_module": "jupyter-leaflet",
      "model_module_version": "^0.17",
      "model_name": "LeafletMapStyleModel",
      "state": {
       "_model_module_version": "^0.17"
      }
     },
     "f101c0baab58445094f89cfac071ea4c": {
      "model_module": "@jupyter-widgets/base",
      "model_module_version": "1.2.0",
      "model_name": "LayoutModel",
      "state": {}
     },
     "f10d557e1cdc48a9a375d4176f07e185": {
      "model_module": "jupyter-leaflet",
      "model_module_version": "^0.12.1",
      "model_name": "LeafletTileLayerModel",
      "state": {
       "_model_module_version": "^0.12.1",
       "_view_module_version": "^0.12.1",
       "attribution": "Map tiles by <a href=\"https://labs.strava.com/heatmap\">Strava 2017</a>",
       "max_native_zoom": 18,
       "max_zoom": 15,
       "min_native_zoom": 0,
       "min_zoom": 1,
       "name": "Strava.All",
       "options": [
        "attribution",
        "detect_retina",
        "max_native_zoom",
        "max_zoom",
        "min_native_zoom",
        "min_zoom",
        "no_wrap",
        "tile_size",
        "tms"
       ],
       "url": "https://heatmap-external-a.strava.com//tiles/all/hot/{z}/{x}/{y}.png?v=19"
      }
     },
     "f124bbc1c7744153ae59ef2ccfde8814": {
      "model_module": "jupyter-leaflet",
      "model_module_version": "^0.17",
      "model_name": "LeafletMapStyleModel",
      "state": {
       "_model_module_version": "^0.17"
      }
     },
     "f13531bcae24450fa7612820a57d4a8e": {
      "model_module": "@jupyter-widgets/base",
      "model_module_version": "1.2.0",
      "model_name": "LayoutModel",
      "state": {}
     },
     "f143bd55bba04b2dbb6a43a9a152a49a": {
      "model_module": "jupyter-leaflet",
      "model_module_version": "^0.17",
      "model_name": "LeafletMapStyleModel",
      "state": {
       "_model_module_version": "^0.17",
       "cursor": "move"
      }
     },
     "f165d784be574cd7829cec91e6f9038e": {
      "model_module": "jupyter-leaflet",
      "model_module_version": "^0.17",
      "model_name": "LeafletMapStyleModel",
      "state": {
       "_model_module_version": "^0.17"
      }
     },
     "f193902eb3544899bfd228bdc1bf3bdc": {
      "model_module": "jupyter-leaflet",
      "model_module_version": "^0.12.1",
      "model_name": "LeafletMapStyleModel",
      "state": {
       "_model_module_version": "^0.12.1"
      }
     },
     "f1f1cb2fd2be4183a71a436c30530018": {
      "model_module": "jupyter-leaflet",
      "model_module_version": "^0.17",
      "model_name": "LeafletTileLayerModel",
      "state": {
       "_model_module_version": "^0.17",
       "_view_module_version": "^0.17",
       "attribution": "&copy; <a href=\"https://www.openstreetmap.org/copyright\">OpenStreetMap</a> contributors",
       "base": true,
       "max_zoom": 19,
       "min_zoom": 1,
       "name": "OpenStreetMap.Mapnik",
       "options": [
        "attribution",
        "bounds",
        "detect_retina",
        "max_native_zoom",
        "max_zoom",
        "min_native_zoom",
        "min_zoom",
        "no_wrap",
        "tile_size",
        "tms",
        "zoom_offset"
       ],
       "url": "https://tile.openstreetmap.org/{z}/{x}/{y}.png"
      }
     },
     "f1f2e4ab1639483bb74cff05b809a9ec": {
      "model_module": "jupyter-leaflet",
      "model_module_version": "^0.17",
      "model_name": "LeafletMapStyleModel",
      "state": {
       "_model_module_version": "^0.17"
      }
     },
     "f200051f626d48a1b346b434b73a40ba": {
      "model_module": "jupyter-leaflet",
      "model_module_version": "~0.9.2",
      "model_name": "LeafletMapModel",
      "state": {
       "_model_module_version": "~0.9.2",
       "_view_module_version": "~0.9.2",
       "basemap": {
        "attribution": "Tiles courtesy of <a href=\"http://openstreetmap.se/\" target=\"_blank\">OpenStreetMap Sweden</a> &mdash; Map data &copy; <a href=\"http://www.openstreetmap.org/copyright\">OpenStreetMap</a>",
        "max_zoom": 18,
        "name": "Hydda.Full",
        "url": "http://{s}.tile.openstreetmap.se/hydda/full/{z}/{x}/{y}.png"
       },
       "center": [
        48,
        10
       ],
       "east": 12.689208984375002,
       "interpolation": "bilinear",
       "layers": [
        "IPY_MODEL_033b42c566b449bc9798982d211c0929"
       ],
       "layout": "IPY_MODEL_1e779c60bf7e4c479c6210ca69cc6cde",
       "modisdate": "yesterday",
       "north": 48.73083222613518,
       "options": [
        "attribution_control",
        "basemap",
        "bounce_at_zoom_limits",
        "box_zoom",
        "center",
        "close_popup_on_click",
        "double_click_zoom",
        "dragging",
        "inertia",
        "inertia_deceleration",
        "inertia_max_speed",
        "interpolation",
        "keyboard",
        "keyboard_pan_offset",
        "keyboard_zoom_offset",
        "max_zoom",
        "min_zoom",
        "scroll_wheel_zoom",
        "tap",
        "tap_tolerance",
        "touch_zoom",
        "world_copy_jump",
        "zoom",
        "zoom_animation_threshold",
        "zoom_control",
        "zoom_start"
       ],
       "south": 47.260592193424706,
       "west": 7.3114013671875,
       "window_url": "http://localhost:8888/notebooks/js/ipyleaflet.ipynb",
       "zoom": 8
      }
     },
     "f23abaa834f9460fab423fc5fd5fbc6b": {
      "model_module": "jupyter-leaflet",
      "model_module_version": "^0.17",
      "model_name": "LeafletMapStyleModel",
      "state": {
       "_model_module_version": "^0.17"
      }
     },
     "f250e151010542dbb5c81443546ce28d": {
      "model_module": "@jupyter-widgets/base",
      "model_module_version": "1.2.0",
      "model_name": "LayoutModel",
      "state": {}
     },
     "f25cd12a02344e7096c8148f596de858": {
      "model_module": "jupyter-leaflet",
      "model_module_version": "^0.11.2",
      "model_name": "LeafletMapModel",
      "state": {
       "_model_module_version": "^0.11.2",
       "_view_module_version": "^0.11.2",
       "basemap": {
        "attribution": "Map data (c) <a href=\"https://openstreetmap.org\">OpenStreetMap</a> contributors",
        "max_zoom": 19,
        "url": "https://{s}.tile.openstreetmap.org/{z}/{x}/{y}.png"
       },
       "center": [
        48,
        7.9
       ],
       "controls": [
        "IPY_MODEL_c12f9be0beb142719cbfa6c69b16b783",
        "IPY_MODEL_588226bd8ddd4944b7658e5e9b02afe0"
       ],
       "default_style": "IPY_MODEL_184fdc1e166744aaac61fd87ecabf42a",
       "dragging_style": "IPY_MODEL_551e62d47e8e44878e90bd4a2ff5a967",
       "east": 8.235626220703127,
       "fullscreen": false,
       "interpolation": "bilinear",
       "layers": [
        "IPY_MODEL_ffeadde18dd74ffd8f08aeabf592c39f"
       ],
       "layout": "IPY_MODEL_c88b5c9abf2a4d13902a3594cd4ce303",
       "modisdate": "yesterday",
       "north": 48.18348549519126,
       "options": [
        "basemap",
        "bounce_at_zoom_limits",
        "box_zoom",
        "center",
        "close_popup_on_click",
        "double_click_zoom",
        "dragging",
        "fullscreen",
        "inertia",
        "inertia_deceleration",
        "inertia_max_speed",
        "interpolation",
        "keyboard",
        "keyboard_pan_offset",
        "keyboard_zoom_offset",
        "max_zoom",
        "min_zoom",
        "scroll_wheel_zoom",
        "tap",
        "tap_tolerance",
        "touch_zoom",
        "world_copy_jump",
        "zoom",
        "zoom_animation_threshold",
        "zoom_start"
       ],
       "south": 47.81592114659014,
       "style": "IPY_MODEL_0f34e08adc0149108ac3efa92d125c78",
       "west": 7.564086914062501,
       "window_url": "http://localhost:8888/notebooks/js/ipyleaflet.ipynb",
       "zoom": 10
      }
     },
     "f2a5658e11d84a19b5fa60eaa68c4a2e": {
      "model_module": "@jupyter-widgets/controls",
      "model_module_version": "1.5.0",
      "model_name": "DescriptionStyleModel",
      "state": {
       "description_width": ""
      }
     },
     "f2e23f3ba8374c97a933f741f629c7be": {
      "model_module": "jupyter-leaflet",
      "model_module_version": "^0.17",
      "model_name": "LeafletMapStyleModel",
      "state": {
       "_model_module_version": "^0.17",
       "cursor": "move"
      }
     },
     "f2e61303f8d1442384585e8e5eca91d4": {
      "model_module": "@jupyter-widgets/base",
      "model_module_version": "1.2.0",
      "model_name": "LayoutModel",
      "state": {}
     },
     "f2ffec69b2be490cb213e40bbd43406e": {
      "model_module": "jupyter-leaflet",
      "model_module_version": "^0.17",
      "model_name": "LeafletMapStyleModel",
      "state": {
       "_model_module_version": "^0.17"
      }
     },
     "f309c67d2a5440e3ac04af880509bdcf": {
      "model_module": "jupyter-leaflet",
      "model_module_version": "^0.17",
      "model_name": "LeafletAttributionControlModel",
      "state": {
       "_model_module_version": "^0.17",
       "_view_module_version": "^0.17",
       "options": [
        "position",
        "prefix"
       ],
       "position": "bottomright",
       "prefix": "ipyleaflet"
      }
     },
     "f31dfd74d46c4c6bab5014723f842316": {
      "model_module": "@jupyter-widgets/controls",
      "model_module_version": "1.5.0",
      "model_name": "SelectionSliderModel",
      "state": {
       "_options_labels": [
        "13:00",
        "13:30",
        "14:00",
        "14:30",
        "15:00",
        "15:30",
        "16:00",
        "16:30"
       ],
       "description": "Time:",
       "index": 0,
       "layout": "IPY_MODEL_9231ad689dfe48118c56ea95021c1845",
       "style": "IPY_MODEL_e4bb9073491a42ebbecdf75bbc0d4f41"
      }
     },
     "f35e6a234c18499098700912337dfade": {
      "model_module": "@jupyter-widgets/controls",
      "model_module_version": "1.5.0",
      "model_name": "LabelModel",
      "state": {
       "layout": "IPY_MODEL_00cc568fefdf4a8b8a253e090f1fabe1",
       "style": "IPY_MODEL_24cf4b76c7194054bb4a339c2b4ba90f",
       "value": "[47.84388654174777, 6.871254871889604]"
      }
     },
     "f361820c462c4a5bb8a060b0d6cca613": {
      "model_module": "jupyter-leaflet",
      "model_module_version": "^0.12.1",
      "model_name": "LeafletMapStyleModel",
      "state": {
       "_model_module_version": "^0.12.1",
       "cursor": "move"
      }
     },
     "f36f30a0ed7b44318a2065b623299246": {
      "model_module": "jupyter-leaflet",
      "model_module_version": "^0.17",
      "model_name": "LeafletMapStyleModel",
      "state": {
       "_model_module_version": "^0.17",
       "cursor": "move"
      }
     },
     "f376793edc9a4ea4b5388eece13ba995": {
      "model_module": "jupyter-leaflet",
      "model_module_version": "^0.17",
      "model_name": "LeafletMapStyleModel",
      "state": {
       "_model_module_version": "^0.17",
       "cursor": "move"
      }
     },
     "f393f01504b44ec5903485e09cac8b1c": {
      "model_module": "jupyter-leaflet",
      "model_module_version": "^0.17",
      "model_name": "LeafletAttributionControlModel",
      "state": {
       "_model_module_version": "^0.17",
       "_view_module_version": "^0.17",
       "options": [
        "position",
        "prefix"
       ],
       "position": "bottomright",
       "prefix": "ipyleaflet"
      }
     },
     "f399ed6fb12d43bdba5f0b4b7cc6f7a6": {
      "model_module": "jupyter-leaflet",
      "model_module_version": "^0.17",
      "model_name": "LeafletMapStyleModel",
      "state": {
       "_model_module_version": "^0.17"
      }
     },
     "f3f142f4b21f4ada8467f29537624dab": {
      "model_module": "jupyter-leaflet",
      "model_module_version": "^0.12.1",
      "model_name": "LeafletWMSLayerModel",
      "state": {
       "_model_module_version": "^0.12.1",
       "_view_module_version": "^0.12.1",
       "attribution": "Weather data © 2012 IEM Nexrad",
       "crs": "EPSG3857",
       "format": "image/png",
       "layers": "nexrad-n0r-wmst",
       "max_native_zoom": 18,
       "min_native_zoom": 0,
       "options": [
        "attribution",
        "detect_retina",
        "format",
        "layers",
        "max_native_zoom",
        "max_zoom",
        "min_native_zoom",
        "min_zoom",
        "no_wrap",
        "styles",
        "tile_size",
        "time",
        "tms",
        "transparent",
        "uppercase"
       ],
       "time": "2005-08-29T13:00",
       "transparent": true,
       "url": "https://mesonet.agron.iastate.edu/cgi-bin/wms/nexrad/n0r-t.cgi?"
      }
     },
     "f44692ed23cd45fb9f409d7dedb90330": {
      "model_module": "jupyter-leaflet",
      "model_module_version": "^0.17",
      "model_name": "LeafletMapStyleModel",
      "state": {
       "_model_module_version": "^0.17"
      }
     },
     "f46e23f9906943a39bb8f6f43ae96a55": {
      "model_module": "jupyter-leaflet",
      "model_module_version": "^0.17",
      "model_name": "LeafletLayersControlModel",
      "state": {
       "_model_module_version": "^0.17",
       "_view_module_version": "^0.17",
       "options": [
        "position"
       ]
      }
     },
     "f4a8f10457a5406eb8adc558f4459414": {
      "model_module": "jupyter-leaflet",
      "model_module_version": "^0.17",
      "model_name": "LeafletZoomControlModel",
      "state": {
       "_model_module_version": "^0.17",
       "_view_module_version": "^0.17",
       "options": [
        "position",
        "zoom_in_text",
        "zoom_in_title",
        "zoom_out_text",
        "zoom_out_title"
       ]
      }
     },
     "f4ae894d08be4f55b61346a63b305042": {
      "model_module": "jupyter-leaflet",
      "model_module_version": "^0.12.1",
      "model_name": "LeafletWMSLayerModel",
      "state": {
       "_model_module_version": "^0.12.1",
       "_view_module_version": "^0.12.1",
       "attribution": "Weather data © 2012 IEM Nexrad",
       "crs": "EPSG3857",
       "format": "image/png",
       "layers": "nexrad-n0r-wmst",
       "max_native_zoom": 18,
       "min_native_zoom": 0,
       "options": [
        "attribution",
        "detect_retina",
        "format",
        "layers",
        "max_native_zoom",
        "max_zoom",
        "min_native_zoom",
        "min_zoom",
        "no_wrap",
        "styles",
        "tile_size",
        "time",
        "tms",
        "transparent",
        "uppercase"
       ],
       "time": "2005-08-29T19:00",
       "transparent": true,
       "url": "https://mesonet.agron.iastate.edu/cgi-bin/wms/nexrad/n0r-t.cgi?"
      }
     },
     "f4d1612db6d84e53ae64315d8bed2ce4": {
      "model_module": "jupyter-leaflet",
      "model_module_version": "^0.12.1",
      "model_name": "LeafletWMSLayerModel",
      "state": {
       "_model_module_version": "^0.12.1",
       "_view_module_version": "^0.12.1",
       "attribution": "Weather data © 2012 IEM Nexrad",
       "crs": "EPSG3857",
       "format": "image/png",
       "layers": "nexrad-n0r-wmst",
       "max_native_zoom": 18,
       "min_native_zoom": 0,
       "options": [
        "attribution",
        "detect_retina",
        "format",
        "layers",
        "max_native_zoom",
        "max_zoom",
        "min_native_zoom",
        "min_zoom",
        "no_wrap",
        "styles",
        "tile_size",
        "time",
        "tms",
        "transparent",
        "uppercase"
       ],
       "time": "2005-08-29T13:00",
       "transparent": true,
       "url": "https://mesonet.agron.iastate.edu/cgi-bin/wms/nexrad/n0r-t.cgi?"
      }
     },
     "f50771e149a44edda1be2d98cf4797d6": {
      "model_module": "@jupyter-widgets/controls",
      "model_module_version": "1.5.0",
      "model_name": "DescriptionStyleModel",
      "state": {
       "description_width": ""
      }
     },
     "f517128093aa4ad290f601729ece7ea8": {
      "model_module": "@jupyter-widgets/base",
      "model_module_version": "1.2.0",
      "model_name": "LayoutModel",
      "state": {}
     },
     "f613e6ec1d314792b75762542e40ce42": {
      "model_module": "jupyter-leaflet",
      "model_module_version": "^0.17",
      "model_name": "LeafletAttributionControlModel",
      "state": {
       "_model_module_version": "^0.17",
       "_view_module_version": "^0.17",
       "options": [
        "position",
        "prefix"
       ],
       "position": "bottomright",
       "prefix": "ipyleaflet"
      }
     },
     "f655f04f7ab8491f909c9daae47c3531": {
      "model_module": "@jupyter-widgets/controls",
      "model_module_version": "1.5.0",
      "model_name": "LinkModel",
      "state": {
       "source": [
        "IPY_MODEL_85702a86fe76411b9be1dce5c49ccfc0",
        "value"
       ],
       "target": [
        "IPY_MODEL_086933222e264fb3a4da6e2ae057f75b",
        "zoom"
       ]
      }
     },
     "f6a870d308e848329e7ba00a7b9d10c7": {
      "model_module": "@jupyter-widgets/controls",
      "model_module_version": "1.5.0",
      "model_name": "SelectionSliderModel",
      "state": {
       "_options_labels": [
        "13:00",
        "13:30",
        "14:00",
        "14:30",
        "15:00",
        "15:30",
        "16:00",
        "16:30"
       ],
       "description": "Time:",
       "index": 0,
       "layout": "IPY_MODEL_b4527f7382ff467db68711bf9bde37b8",
       "style": "IPY_MODEL_8183592169084fb48facca25a20c1e1b"
      }
     },
     "f6b0cce85c3848af8380db484cb42b07": {
      "model_module": "@jupyter-widgets/base",
      "model_module_version": "1.2.0",
      "model_name": "LayoutModel",
      "state": {}
     },
     "f6ebf0fbeee347c49d731d150eb8a7f1": {
      "model_module": "jupyter-leaflet",
      "model_module_version": "^0.17",
      "model_name": "LeafletZoomControlModel",
      "state": {
       "_model_module_version": "^0.17",
       "_view_module_version": "^0.17",
       "options": [
        "position",
        "zoom_in_text",
        "zoom_in_title",
        "zoom_out_text",
        "zoom_out_title"
       ]
      }
     },
     "f70676486a5b41bca4c25e5d6fd63091": {
      "model_module": "@jupyter-widgets/controls",
      "model_module_version": "1.5.0",
      "model_name": "HBoxModel",
      "state": {
       "children": [
        "IPY_MODEL_369d8dba41fd43c3bd4c44be963b98a4",
        "IPY_MODEL_8d4bf92dfb94416fa3648a6245e4e48d"
       ],
       "layout": "IPY_MODEL_1300ef4c804b4dae982fc34a793fd411"
      }
     },
     "f72f6891720b4382819cc831bce6538b": {
      "model_module": "jupyter-leaflet",
      "model_module_version": "^0.12.1",
      "model_name": "LeafletTileLayerModel",
      "state": {
       "_model_module_version": "^0.12.1",
       "_view_module_version": "^0.12.1",
       "base": true,
       "max_native_zoom": 18,
       "max_zoom": 19,
       "min_native_zoom": 0,
       "min_zoom": 1,
       "options": [
        "attribution",
        "detect_retina",
        "max_native_zoom",
        "max_zoom",
        "min_native_zoom",
        "min_zoom",
        "no_wrap",
        "tile_size",
        "tms"
       ]
      }
     },
     "f782d2d330b545c9a76d7b9191aef322": {
      "model_module": "jupyter-leaflet",
      "model_module_version": "^0.17",
      "model_name": "LeafletMapModel",
      "state": {
       "_model_module_version": "^0.17",
       "_view_module_version": "^0.17",
       "bottom": 91325,
       "center": [
        48,
        7.9
       ],
       "controls": [
        "IPY_MODEL_7ea0c9cac8324127bea513edd2baf7e5",
        "IPY_MODEL_8ee0d6c4735a48d0acf3f200e3e382b2"
       ],
       "default_style": "IPY_MODEL_aa6b9bd48df24147b64f8d884e84a0f6",
       "dragging_style": "IPY_MODEL_da6ace200d794349bbdcbb143a113877",
       "east": 8.231506347656252,
       "fullscreen": false,
       "interpolation": "bilinear",
       "layers": [
        "IPY_MODEL_b32fee54b6a74bed89ff184256056a8b"
       ],
       "layout": "IPY_MODEL_99cdf3382e2648a89e18365e0e7d05c1",
       "left": 136584,
       "modisdate": "2023-07-11",
       "north": 48.18348549519126,
       "options": [
        "bounce_at_zoom_limits",
        "box_zoom",
        "center",
        "close_popup_on_click",
        "double_click_zoom",
        "dragging",
        "fullscreen",
        "inertia",
        "inertia_deceleration",
        "inertia_max_speed",
        "interpolation",
        "keyboard",
        "keyboard_pan_offset",
        "keyboard_zoom_offset",
        "max_zoom",
        "min_zoom",
        "prefer_canvas",
        "scroll_wheel_zoom",
        "tap",
        "tap_tolerance",
        "touch_zoom",
        "world_copy_jump",
        "zoom",
        "zoom_animation_threshold",
        "zoom_delta",
        "zoom_snap"
       ],
       "prefer_canvas": false,
       "right": 137066,
       "south": 47.81592114659014,
       "style": "IPY_MODEL_6b8280ca0a50486282df4561cdb47178",
       "top": 90925,
       "west": 7.569580078125001,
       "window_url": "http://localhost:8888/notebooks/js/ipyleaflet.ipynb#",
       "zoom": 10
      }
     },
     "f7d1cab8ea924682bd5d2f44423640fe": {
      "model_module": "jupyter-leaflet",
      "model_module_version": "^0.17",
      "model_name": "LeafletZoomControlModel",
      "state": {
       "_model_module_version": "^0.17",
       "_view_module_version": "^0.17",
       "options": [
        "position",
        "zoom_in_text",
        "zoom_in_title",
        "zoom_out_text",
        "zoom_out_title"
       ]
      }
     },
     "f8372f42665c445aa32dcf80ef492f84": {
      "model_module": "jupyter-leaflet",
      "model_module_version": "^0.17",
      "model_name": "LeafletMapStyleModel",
      "state": {
       "_model_module_version": "^0.17"
      }
     },
     "f86b11aa1a5e46538e5578870b0f1b76": {
      "model_module": "@jupyter-widgets/controls",
      "model_module_version": "1.5.0",
      "model_name": "HBoxModel",
      "state": {
       "children": [
        "IPY_MODEL_fd00695da33b46b5aaba669a6be00cd0",
        "IPY_MODEL_34193876071f4e3599d569031329ed68"
       ],
       "layout": "IPY_MODEL_f6b0cce85c3848af8380db484cb42b07"
      }
     },
     "f89b9c0a5dc94382aaa6fb22f3084da1": {
      "model_module": "@jupyter-widgets/controls",
      "model_module_version": "1.5.0",
      "model_name": "HBoxModel",
      "state": {
       "children": [
        "IPY_MODEL_2a0f6d89c0844b93a69ef9742d7acb6b",
        "IPY_MODEL_fca68e9a60574c25a1ec7b53fae0f537"
       ],
       "layout": "IPY_MODEL_57d3286dd9b94cda839fe111439a9cf9"
      }
     },
     "f8a7c0353ce44a849c7e78989e1c4a4f": {
      "model_module": "jupyter-leaflet",
      "model_module_version": "^0.17",
      "model_name": "LeafletMapStyleModel",
      "state": {
       "_model_module_version": "^0.17"
      }
     },
     "f8acf8ce821f41d290350036e9d8f22e": {
      "model_module": "jupyter-leaflet",
      "model_module_version": "^0.17",
      "model_name": "LeafletTileLayerModel",
      "state": {
       "_model_module_version": "^0.17",
       "_view_module_version": "^0.17",
       "attribution": "&copy; <a href=\"https://www.openstreetmap.org/copyright\">OpenStreetMap</a> contributors",
       "base": true,
       "max_zoom": 19,
       "min_zoom": 1,
       "name": "OpenStreetMap.Mapnik",
       "options": [
        "attribution",
        "bounds",
        "detect_retina",
        "max_native_zoom",
        "max_zoom",
        "min_native_zoom",
        "min_zoom",
        "no_wrap",
        "tile_size",
        "tms",
        "zoom_offset"
       ],
       "url": "https://tile.openstreetmap.org/{z}/{x}/{y}.png"
      }
     },
     "f8b6b100d59f42cc91cff3575a87208f": {
      "model_module": "jupyter-leaflet",
      "model_module_version": "~0.9.2",
      "model_name": "LeafletMapModel",
      "state": {
       "_model_module_version": "~0.9.2",
       "_view_module_version": "~0.9.2",
       "basemap": {
        "attribution": "Map data (c) <a href=\"https://openstreetmap.org\">OpenStreetMap</a> contributors",
        "max_zoom": 19,
        "url": "https://{s}.tile.openstreetmap.org/{z}/{x}/{y}.png"
       },
       "center": [
        48,
        7.9
       ],
       "east": 8.234252929687502,
       "interpolation": "bilinear",
       "layers": [
        "IPY_MODEL_bea1e4aa3ba14ca098f7092bb9145ba9"
       ],
       "layout": "IPY_MODEL_e152ef94272947878eefc239c53c01bd",
       "modisdate": "yesterday",
       "north": 48.18348549519126,
       "options": [
        "attribution_control",
        "basemap",
        "bounce_at_zoom_limits",
        "box_zoom",
        "center",
        "close_popup_on_click",
        "double_click_zoom",
        "dragging",
        "inertia",
        "inertia_deceleration",
        "inertia_max_speed",
        "interpolation",
        "keyboard",
        "keyboard_pan_offset",
        "keyboard_zoom_offset",
        "max_zoom",
        "min_zoom",
        "scroll_wheel_zoom",
        "tap",
        "tap_tolerance",
        "touch_zoom",
        "world_copy_jump",
        "zoom",
        "zoom_animation_threshold",
        "zoom_control",
        "zoom_start"
       ],
       "south": 47.81592114659014,
       "west": 7.565460205078126,
       "window_url": "http://localhost:8888/notebooks/js/ipyleaflet.ipynb",
       "zoom": 10
      }
     },
     "f8bfb8d6ea1148d4ac2d721313229189": {
      "model_module": "jupyter-leaflet",
      "model_module_version": "^0.12.1",
      "model_name": "LeafletMapStyleModel",
      "state": {
       "_model_module_version": "^0.12.1"
      }
     },
     "f8c7216992264073879d16044afe6c5d": {
      "model_module": "@jupyter-widgets/base",
      "model_module_version": "1.2.0",
      "model_name": "LayoutModel",
      "state": {}
     },
     "f9190a74f9ef49a7bd861159ec09d63f": {
      "model_module": "@jupyter-widgets/base",
      "model_module_version": "1.2.0",
      "model_name": "LayoutModel",
      "state": {}
     },
     "f9290509b2d243dca86bc549b4dc1d60": {
      "model_module": "jupyter-leaflet",
      "model_module_version": "~0.9.2",
      "model_name": "LeafletMapModel",
      "state": {
       "_model_module_version": "~0.9.2",
       "_view_module_version": "~0.9.2",
       "basemap": {
        "attribution": "Tiles courtesy of <a href=\"http://openstreetmap.se/\" target=\"_blank\">OpenStreetMap Sweden</a> &mdash; Map data &copy; <a href=\"http://www.openstreetmap.org/copyright\">OpenStreetMap</a>",
        "max_zoom": 18,
        "name": "Hydda.Full",
        "url": "http://{s}.tile.openstreetmap.se/hydda/full/{z}/{x}/{y}.png"
       },
       "center": [
        57,
        10
       ],
       "east": 12.689208984375002,
       "interpolation": "bilinear",
       "layers": [
        "IPY_MODEL_301f1ce373ec4835b4577f39988c21d9"
       ],
       "layout": "IPY_MODEL_90186a6f3fc944d09282c9f8ee6e8aab",
       "modisdate": "yesterday",
       "north": 57.592447334458846,
       "options": [
        "attribution_control",
        "basemap",
        "bounce_at_zoom_limits",
        "box_zoom",
        "center",
        "close_popup_on_click",
        "double_click_zoom",
        "dragging",
        "inertia",
        "inertia_deceleration",
        "inertia_max_speed",
        "interpolation",
        "keyboard",
        "keyboard_pan_offset",
        "keyboard_zoom_offset",
        "max_zoom",
        "min_zoom",
        "scroll_wheel_zoom",
        "tap",
        "tap_tolerance",
        "touch_zoom",
        "world_copy_jump",
        "zoom",
        "zoom_animation_threshold",
        "zoom_control",
        "zoom_start"
       ],
       "south": 56.39566444471659,
       "west": 7.3114013671875,
       "window_url": "http://localhost:8888/notebooks/js/ipyleaflet.ipynb",
       "zoom": 8
      }
     },
     "f97aab2f222a447d94c4da9a57d03f1f": {
      "model_module": "jupyter-leaflet",
      "model_module_version": "^0.17",
      "model_name": "LeafletMapStyleModel",
      "state": {
       "_model_module_version": "^0.17"
      }
     },
     "f9a230e31c424b99a6bb96a608dd5891": {
      "model_module": "jupyter-leaflet",
      "model_module_version": "^0.12.1",
      "model_name": "LeafletZoomControlModel",
      "state": {
       "_model_module_version": "^0.12.1",
       "_view_module_version": "^0.12.1",
       "options": [
        "position",
        "zoom_in_text",
        "zoom_in_title",
        "zoom_out_text",
        "zoom_out_title"
       ]
      }
     },
     "fa1147debe6b479f951887fc59f434a4": {
      "model_module": "@jupyter-widgets/controls",
      "model_module_version": "1.5.0",
      "model_name": "DescriptionStyleModel",
      "state": {
       "description_width": ""
      }
     },
     "fa6ba364617e40e49b2ee59b0083545c": {
      "model_module": "jupyter-leaflet",
      "model_module_version": "^0.17",
      "model_name": "LeafletMapStyleModel",
      "state": {
       "_model_module_version": "^0.17"
      }
     },
     "fac50419ade148379f97aaf196786653": {
      "model_module": "jupyter-leaflet",
      "model_module_version": "^0.17",
      "model_name": "LeafletMapStyleModel",
      "state": {
       "_model_module_version": "^0.17"
      }
     },
     "fad29b3c2eba4625af87b02bbb873f17": {
      "model_module": "jupyter-leaflet",
      "model_module_version": "^0.17",
      "model_name": "LeafletTileLayerModel",
      "state": {
       "_model_module_version": "^0.17",
       "_view_module_version": "^0.17",
       "attribution": "&copy; <a href=\"https://www.openstreetmap.org/copyright\">OpenStreetMap</a> contributors",
       "base": true,
       "max_zoom": 19,
       "min_zoom": 1,
       "name": "OpenStreetMap.Mapnik",
       "options": [
        "attribution",
        "bounds",
        "detect_retina",
        "max_native_zoom",
        "max_zoom",
        "min_native_zoom",
        "min_zoom",
        "no_wrap",
        "tile_size",
        "tms",
        "zoom_offset"
       ],
       "url": "https://tile.openstreetmap.org/{z}/{x}/{y}.png"
      }
     },
     "fb313751085b48ccbdd52679c9edf773": {
      "model_module": "jupyter-leaflet",
      "model_module_version": "^0.17",
      "model_name": "LeafletMapStyleModel",
      "state": {
       "_model_module_version": "^0.17"
      }
     },
     "fb3951fad860456ca5c101acab03075f": {
      "model_module": "@jupyter-widgets/controls",
      "model_module_version": "1.5.0",
      "model_name": "LabelModel",
      "state": {
       "layout": "IPY_MODEL_8deb403c49fa4fd9ba8b822b11582fe1",
       "style": "IPY_MODEL_2c254a300a864e8689002e8012dafe6e"
      }
     },
     "fb4749bfa6d547119a12c0255b8c8fa3": {
      "model_module": "@jupyter-widgets/controls",
      "model_module_version": "1.5.0",
      "model_name": "IntSliderModel",
      "state": {
       "description": "Zoom level:",
       "layout": "IPY_MODEL_600da7db70b149cf94268cec1e12bf9d",
       "max": 19,
       "style": "IPY_MODEL_73b3e5d49c4d4ae98b19b8719560b3f9",
       "value": 9
      }
     },
     "fb703692d04642bf9edf42645575c65b": {
      "model_module": "jupyter-leaflet",
      "model_module_version": "^0.12.1",
      "model_name": "LeafletWMSLayerModel",
      "state": {
       "_model_module_version": "^0.12.1",
       "_view_module_version": "^0.12.1",
       "attribution": "Weather data © 2012 IEM Nexrad",
       "crs": "EPSG3857",
       "format": "image/png",
       "layers": "nexrad-n0r-wmst",
       "max_native_zoom": 18,
       "min_native_zoom": 0,
       "options": [
        "attribution",
        "detect_retina",
        "format",
        "layers",
        "max_native_zoom",
        "max_zoom",
        "min_native_zoom",
        "min_zoom",
        "no_wrap",
        "styles",
        "tile_size",
        "time",
        "tms",
        "transparent",
        "uppercase"
       ],
       "time": "2005-08-29T16:30",
       "transparent": true,
       "url": "https://mesonet.agron.iastate.edu/cgi-bin/wms/nexrad/n0r-t.cgi?"
      }
     },
     "fb8f1796307b4cab9cdc7b51b996beb1": {
      "model_module": "jupyter-leaflet",
      "model_module_version": "^0.17",
      "model_name": "LeafletMapStyleModel",
      "state": {
       "_model_module_version": "^0.17"
      }
     },
     "fbcb85263e844af5893f3ef86a5eea1e": {
      "model_module": "jupyter-leaflet",
      "model_module_version": "^0.11.2",
      "model_name": "LeafletTileLayerModel",
      "state": {
       "_model_module_version": "^0.11.2",
       "_view_module_version": "^0.11.2",
       "attribution": "",
       "max_native_zoom": 18,
       "max_zoom": 19,
       "min_native_zoom": 0,
       "min_zoom": 1,
       "name": "Countries",
       "options": [
        "attribution",
        "detect_retina",
        "max_native_zoom",
        "max_zoom",
        "min_native_zoom",
        "min_zoom",
        "no_wrap",
        "tile_size"
       ],
       "url": ""
      }
     },
     "fc1cb1a75a214e0c80cab7b53d07996a": {
      "model_module": "@jupyter-widgets/base",
      "model_module_version": "1.2.0",
      "model_name": "LayoutModel",
      "state": {}
     },
     "fc5627ceb72f414c8f739c3cb8ec0a6e": {
      "model_module": "jupyter-leaflet",
      "model_module_version": "^0.17",
      "model_name": "LeafletMapModel",
      "state": {
       "_model_module_version": "^0.17",
       "_view_module_version": "^0.17",
       "bottom": 344111,
       "center": [
        52.51486283349881,
        13.411912210730321
       ],
       "controls": [
        "IPY_MODEL_7f325142701b449585e3cc3d740db70d",
        "IPY_MODEL_be5bbedfbce14255b1e6fed95e45f7cc",
        "IPY_MODEL_5403902f772c454b9728891db6f3da3e"
       ],
       "default_style": "IPY_MODEL_8232bb3246814405ac44dc82253ff47e",
       "dragging_style": "IPY_MODEL_5751f69413a4453e8a58a2fca1c9a130",
       "east": 13.57841491699219,
       "fullscreen": false,
       "interpolation": "bilinear",
       "layers": [
        "IPY_MODEL_fd007460ec8e4770bbaa25d469485f83"
       ],
       "layout": "IPY_MODEL_a0877923892844938ec97a64dc8e2b5a",
       "left": 562869,
       "modisdate": "2023-07-11",
       "north": 52.55652479874057,
       "options": [
        "bounce_at_zoom_limits",
        "box_zoom",
        "center",
        "close_popup_on_click",
        "double_click_zoom",
        "dragging",
        "fullscreen",
        "inertia",
        "inertia_deceleration",
        "inertia_max_speed",
        "interpolation",
        "keyboard",
        "keyboard_pan_offset",
        "keyboard_zoom_offset",
        "max_zoom",
        "min_zoom",
        "prefer_canvas",
        "scroll_wheel_zoom",
        "tap",
        "tap_tolerance",
        "touch_zoom",
        "world_copy_jump",
        "zoom",
        "zoom_animation_threshold",
        "zoom_delta",
        "zoom_snap"
       ],
       "prefer_canvas": false,
       "right": 563838,
       "south": 52.472952199914666,
       "style": "IPY_MODEL_8232bb3246814405ac44dc82253ff47e",
       "top": 343711,
       "west": 13.245735168457033,
       "window_url": "http://localhost:8888/notebooks/js/ipyleaflet.ipynb#"
      }
     },
     "fca68e9a60574c25a1ec7b53fae0f537": {
      "model_module": "jupyter-leaflet",
      "model_module_version": "~0.9.2",
      "model_name": "LeafletMapModel",
      "state": {
       "_model_module_version": "~0.9.2",
       "_view_module_version": "~0.9.2",
       "basemap": {
        "attribution": "Map data (c) <a href=\"https://openstreetmap.org\">OpenStreetMap</a> contributors",
        "max_zoom": 19,
        "url": "https://{s}.tile.openstreetmap.org/{z}/{x}/{y}.png"
       },
       "center": [
        48.6,
        7.9
       ],
       "east": 8.234252929687502,
       "interpolation": "bilinear",
       "layers": [
        "IPY_MODEL_d5d8b45ec5864e269153c762103ed5a8"
       ],
       "layout": "IPY_MODEL_714f60c8c59a46958d2f572405dba91a",
       "modisdate": "yesterday",
       "north": 48.78153250728974,
       "options": [
        "attribution_control",
        "basemap",
        "bounce_at_zoom_limits",
        "box_zoom",
        "center",
        "close_popup_on_click",
        "double_click_zoom",
        "dragging",
        "inertia",
        "inertia_deceleration",
        "inertia_max_speed",
        "interpolation",
        "keyboard",
        "keyboard_pan_offset",
        "keyboard_zoom_offset",
        "max_zoom",
        "min_zoom",
        "scroll_wheel_zoom",
        "tap",
        "tap_tolerance",
        "touch_zoom",
        "world_copy_jump",
        "zoom",
        "zoom_animation_threshold",
        "zoom_control",
        "zoom_start"
       ],
       "south": 48.41826449418746,
       "west": 7.565460205078126,
       "window_url": "http://localhost:8888/notebooks/js/ipyleaflet.ipynb",
       "zoom": 10
      }
     },
     "fcb053e7a78f486692958b1677a9aec9": {
      "model_module": "jupyter-leaflet",
      "model_module_version": "^0.17",
      "model_name": "LeafletAttributionControlModel",
      "state": {
       "_model_module_version": "^0.17",
       "_view_module_version": "^0.17",
       "options": [
        "position",
        "prefix"
       ],
       "position": "bottomright",
       "prefix": "ipyleaflet"
      }
     },
     "fcd2df0da5824d28b179037ab66f0925": {
      "model_module": "jupyter-leaflet",
      "model_module_version": "^0.17",
      "model_name": "LeafletAttributionControlModel",
      "state": {
       "_model_module_version": "^0.17",
       "_view_module_version": "^0.17",
       "options": [
        "position",
        "prefix"
       ],
       "position": "bottomright",
       "prefix": "ipyleaflet"
      }
     },
     "fcf8b2d6399544189d585115c48edbcb": {
      "model_module": "@jupyter-widgets/controls",
      "model_module_version": "1.5.0",
      "model_name": "IntSliderModel",
      "state": {
       "description": "Zoom level:",
       "layout": "IPY_MODEL_b9e6a27ec77e43dfb228f3446cf0d263",
       "max": 19,
       "style": "IPY_MODEL_b45da3ff9eec4f5496d50a1c0b129b88",
       "value": 12
      }
     },
     "fcfa08cf15604a3199723307270db846": {
      "model_module": "jupyter-leaflet",
      "model_module_version": "^0.17",
      "model_name": "LeafletMapStyleModel",
      "state": {
       "_model_module_version": "^0.17"
      }
     },
     "fd00695da33b46b5aaba669a6be00cd0": {
      "model_module": "jupyter-leaflet",
      "model_module_version": "^0.12.1",
      "model_name": "LeafletMapModel",
      "state": {
       "_model_module_version": "^0.12.1",
       "_view_module_version": "^0.12.1",
       "center": [
        48,
        8
       ],
       "controls": [
        "IPY_MODEL_95815563991948a3bf133626210dc2a0",
        "IPY_MODEL_3028c288d01d49999c9570568c36d3f5",
        "IPY_MODEL_9cca2a922db74ac2a45d308a30fa19ff"
       ],
       "default_style": "IPY_MODEL_2c9ff9f97cf844569be674ca7ac4e9c9",
       "dragging_style": "IPY_MODEL_46a704f6fe6f4d1986cd072fa2378500",
       "east": 10.634765625,
       "fullscreen": false,
       "interpolation": "bilinear",
       "layers": [
        "IPY_MODEL_5818fb24828c4c3eb89c7f7944b940e7",
        "IPY_MODEL_caa2755fb9e140a28eaacbb2e7171a2d",
        "IPY_MODEL_0fc0381e0de044aead0afa36b2ca2f07"
       ],
       "layout": "IPY_MODEL_755357db9f1a4fe0ba31b5a5b8162f8a",
       "modisdate": "yesterday",
       "north": 48.73083222613518,
       "options": [
        "bounce_at_zoom_limits",
        "box_zoom",
        "center",
        "close_popup_on_click",
        "double_click_zoom",
        "dragging",
        "fullscreen",
        "inertia",
        "inertia_deceleration",
        "inertia_max_speed",
        "interpolation",
        "keyboard",
        "keyboard_pan_offset",
        "keyboard_zoom_offset",
        "max_zoom",
        "min_zoom",
        "scroll_wheel_zoom",
        "tap",
        "tap_tolerance",
        "touch_zoom",
        "world_copy_jump",
        "zoom",
        "zoom_animation_threshold",
        "zoom_start"
       ],
       "south": 47.260592193424706,
       "style": "IPY_MODEL_2c9ff9f97cf844569be674ca7ac4e9c9",
       "west": 5.366821289062501,
       "window_url": "http://localhost:8888/notebooks/js/ipyleaflet.ipynb",
       "zoom": 8
      }
     },
     "fd007460ec8e4770bbaa25d469485f83": {
      "model_module": "jupyter-leaflet",
      "model_module_version": "^0.17",
      "model_name": "LeafletTileLayerModel",
      "state": {
       "_model_module_version": "^0.17",
       "_view_module_version": "^0.17",
       "attribution": "&copy; <a href=\"https://www.openstreetmap.org/copyright\">OpenStreetMap</a> contributors",
       "base": true,
       "max_zoom": 19,
       "min_zoom": 1,
       "name": "OpenStreetMap.Mapnik",
       "options": [
        "attribution",
        "bounds",
        "detect_retina",
        "max_native_zoom",
        "max_zoom",
        "min_native_zoom",
        "min_zoom",
        "no_wrap",
        "tile_size",
        "tms",
        "zoom_offset"
       ],
       "url": "https://tile.openstreetmap.org/{z}/{x}/{y}.png"
      }
     },
     "fda0837e94a840c39b9c433ab04bb908": {
      "model_module": "@jupyter-widgets/controls",
      "model_module_version": "1.5.0",
      "model_name": "HBoxModel",
      "state": {
       "children": [
        "IPY_MODEL_d985122f6cac4fa88a1d7e94f4167fad",
        "IPY_MODEL_e97bdbbe96cf4043ad0cef60a485c15b"
       ],
       "layout": "IPY_MODEL_532e532bf9344139bd58496025f43281"
      }
     },
     "fdc38783e566411bbbe07e13a32c7e8c": {
      "model_module": "jupyter-leaflet",
      "model_module_version": "~0.9.2",
      "model_name": "LeafletTileLayerModel",
      "state": {
       "_model_module_version": "~0.9.2",
       "_view_module_version": "~0.9.2",
       "base": true,
       "max_zoom": 19,
       "min_zoom": 1,
       "options": [
        "attribution",
        "detect_retina",
        "max_zoom",
        "min_zoom",
        "tile_size"
       ]
      }
     },
     "fdc911db592b4d32915c957c0f90038f": {
      "model_module": "@jupyter-widgets/controls",
      "model_module_version": "1.5.0",
      "model_name": "SelectionSliderModel",
      "state": {
       "_options_labels": [
        "13:00",
        "13:30",
        "14:00",
        "14:30",
        "15:00",
        "15:30",
        "16:00",
        "16:30"
       ],
       "description": "Time:",
       "index": 0,
       "layout": "IPY_MODEL_cd3c490fd5754e5f94a90e191c623299",
       "style": "IPY_MODEL_1061e6858b984224b77c34b6df068ecb"
      }
     },
     "fdea4546896c49fab609fd124b3d9892": {
      "model_module": "@jupyter-widgets/controls",
      "model_module_version": "1.5.0",
      "model_name": "LabelModel",
      "state": {
       "layout": "IPY_MODEL_1d5edb80c76442f2ba00857adb528dc4",
       "style": "IPY_MODEL_d0de0363f20e4f35963b89be40e78ff7",
       "value": "[48.022294135624044, 7.5258587656400575]"
      }
     },
     "fe5177d78d094423832792e60adeea5f": {
      "model_module": "jupyter-leaflet",
      "model_module_version": "^0.17",
      "model_name": "LeafletAttributionControlModel",
      "state": {
       "_model_module_version": "^0.17",
       "_view_module_version": "^0.17",
       "options": [
        "position",
        "prefix"
       ],
       "position": "bottomright",
       "prefix": "ipyleaflet"
      }
     },
     "fed60530c9e445d3922c3a6c48e8a29c": {
      "model_module": "jupyter-leaflet",
      "model_module_version": "^0.17",
      "model_name": "LeafletMapStyleModel",
      "state": {
       "_model_module_version": "^0.17",
       "cursor": "move"
      }
     },
     "ff403c6cdc2e47cc86c7659d7d6120e1": {
      "model_module": "jupyter-leaflet",
      "model_module_version": "^0.11.2",
      "model_name": "LeafletTileLayerModel",
      "state": {
       "_model_module_version": "^0.11.2",
       "_view_module_version": "^0.11.2",
       "attribution": "Tiles courtesy of <a href=\"http://openstreetmap.se/\" target=\"_blank\">OpenStreetMap Sweden</a> &mdash; Map data &copy; <a href=\"http://www.openstreetmap.org/copyright\">OpenStreetMap</a>",
       "base": true,
       "max_native_zoom": 18,
       "min_native_zoom": 0,
       "min_zoom": 1,
       "name": "Hydda.Full",
       "options": [
        "attribution",
        "detect_retina",
        "max_native_zoom",
        "max_zoom",
        "min_native_zoom",
        "min_zoom",
        "no_wrap",
        "tile_size"
       ],
       "url": "http://{s}.tile.openstreetmap.se/hydda/full/{z}/{x}/{y}.png"
      }
     },
     "ff7cd497b0c44685b8bbaf2203eb8f56": {
      "model_module": "jupyter-leaflet",
      "model_module_version": "^0.17",
      "model_name": "LeafletZoomControlModel",
      "state": {
       "_model_module_version": "^0.17",
       "_view_module_version": "^0.17",
       "options": [
        "position",
        "zoom_in_text",
        "zoom_in_title",
        "zoom_out_text",
        "zoom_out_title"
       ]
      }
     },
     "ffa107d6b44a48aeafbab98ae744c8e8": {
      "model_module": "@jupyter-widgets/base",
      "model_module_version": "1.2.0",
      "model_name": "LayoutModel",
      "state": {}
     },
     "ffd539a14a5a49bbbd4efaf25760bbdb": {
      "model_module": "jupyter-leaflet",
      "model_module_version": "^0.17",
      "model_name": "LeafletMapStyleModel",
      "state": {
       "_model_module_version": "^0.17"
      }
     },
     "ffeadde18dd74ffd8f08aeabf592c39f": {
      "model_module": "jupyter-leaflet",
      "model_module_version": "^0.11.2",
      "model_name": "LeafletTileLayerModel",
      "state": {
       "_model_module_version": "^0.11.2",
       "_view_module_version": "^0.11.2",
       "base": true,
       "max_native_zoom": 18,
       "max_zoom": 19,
       "min_native_zoom": 0,
       "min_zoom": 1,
       "options": [
        "attribution",
        "detect_retina",
        "max_native_zoom",
        "max_zoom",
        "min_native_zoom",
        "min_zoom",
        "no_wrap",
        "tile_size"
       ]
      }
     }
    },
    "version_major": 2,
    "version_minor": 0
   }
  }
 },
 "nbformat": 4,
 "nbformat_minor": 2
}
