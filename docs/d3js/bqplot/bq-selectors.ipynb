{
 "cells": [
  {
   "cell_type": "markdown",
   "metadata": {},
   "source": [
    "# Selectors\n",
    "\n",
    "`bqplot.interacts` offers the following selectors:\n",
    "\n",
    "| Class                             | Description                                         |\n",
    "| --------------------------------- | --------------------------------------------------- |\n",
    "| `BrushIntervalSelector(**kwargs)` | Selection of an interval with the brush             |\n",
    "| `BrushSelector(**kwargs)`         | Selection with the brush                            |\n",
    "| `HandDraw(**kwargs)`              | Hand-drawn interaction.                             |\n",
    "| `IndexSelector(**kwargs)`         | Selection of an index                               |\n",
    "| `FastIntervalSelector(**kwargs)`  | Fast selection of an interval.                      |\n",
    "| `MultiSelector(**kwargs)`         | Multiselector interaction                           |\n",
    "| `OneDSelector(**kwargs)`          | One-dimensional selection                           |\n",
    "| `Interaction(**kwargs)`           | Base class for interactions.                        |\n",
    "| `PanZoom(**kwargs)`               | Interactions for moving and zooming scales          |\n",
    "| `Selector(**kwargs)`              | Selection interaction.                              |\n",
    "| `TwoDSelector(**kwargs)`          | Two-dimensional selection interaction               |"
   ]
  },
  {
   "cell_type": "code",
   "execution_count": 1,
   "metadata": {},
   "outputs": [],
   "source": [
    "import numpy as np\n",
    "import pandas as pd\n",
    "\n",
    "\n",
    "symbol = \"Security 1\"\n",
    "symbol2 = \"Security 2\""
   ]
  },
  {
   "cell_type": "code",
   "execution_count": 2,
   "metadata": {},
   "outputs": [],
   "source": [
    "price_data = pd.DataFrame(\n",
    "    np.cumsum(np.random.randn(150, 2).dot([[0.5, 0.4], [0.4, 1.0]]), axis=0)\n",
    "    + 100,\n",
    "    columns=[\"Security 1\", \"Security 2\"],\n",
    "    index=pd.date_range(start=\"01-01-2007\", periods=150),\n",
    ")\n",
    "\n",
    "dates_actual = price_data.index.values\n",
    "prices = price_data[symbol].values"
   ]
  },
  {
   "cell_type": "code",
   "execution_count": 3,
   "metadata": {},
   "outputs": [],
   "source": [
    "from bqplot import (\n",
    "    Axis,\n",
    "    Bars,\n",
    "    DateScale,\n",
    "    Figure,\n",
    "    Hist,\n",
    "    LinearScale,\n",
    "    Lines,\n",
    "    Scatter,\n",
    ")\n",
    "from bqplot.interacts import (\n",
    "    BrushIntervalSelector,\n",
    "    BrushSelector,\n",
    "    FastIntervalSelector,\n",
    "    HandDraw,\n",
    "    IndexSelector,\n",
    "    LassoSelector,\n",
    "    MultiSelector,\n",
    "    PanZoom,\n",
    ")\n",
    "from ipywidgets import HTML, ToggleButtons, VBox\n",
    "from traitlets import link"
   ]
  },
  {
   "cell_type": "markdown",
   "metadata": {},
   "source": [
    "## Line chart selectors"
   ]
  },
  {
   "cell_type": "markdown",
   "metadata": {},
   "source": [
    "### `FastIntervalSelector`"
   ]
  },
  {
   "cell_type": "code",
   "execution_count": 4,
   "metadata": {},
   "outputs": [],
   "source": [
    "## First we define a Figure\n",
    "dt_x_fast = DateScale()\n",
    "lin_y = LinearScale()\n",
    "\n",
    "x_ax = Axis(label=\"Index\", scale=dt_x_fast)\n",
    "x_ay = Axis(label=(symbol + \" Price\"), scale=lin_y, orientation=\"vertical\")\n",
    "lc = Lines(\n",
    "    x=dates_actual,\n",
    "    y=prices,\n",
    "    scales={\"x\": dt_x_fast, \"y\": lin_y},\n",
    "    colors=[\"orange\"],\n",
    ")\n",
    "lc_2 = Lines(\n",
    "    x=dates_actual[50:],\n",
    "    y=prices[50:] + 2,\n",
    "    scales={\"x\": dt_x_fast, \"y\": lin_y},\n",
    "    colors=[\"blue\"],\n",
    ")"
   ]
  },
  {
   "cell_type": "code",
   "execution_count": 5,
   "metadata": {},
   "outputs": [],
   "source": [
    "## Next we define the type of selector we would like\n",
    "intsel_fast = FastIntervalSelector(scale=dt_x_fast, marks=[lc, lc_2])"
   ]
  },
  {
   "cell_type": "code",
   "execution_count": 6,
   "metadata": {},
   "outputs": [],
   "source": [
    "## Now, we define a function that will be called when the FastIntervalSelector is interacted with\n",
    "def fast_interval_change_callback(change):\n",
    "    db_fast.value = \"The selected period is \" + str(change.new)"
   ]
  },
  {
   "cell_type": "code",
   "execution_count": 7,
   "metadata": {},
   "outputs": [],
   "source": [
    "## Now we connect the selectors to that function\n",
    "intsel_fast.observe(fast_interval_change_callback, names=[\"selected\"])"
   ]
  },
  {
   "cell_type": "code",
   "execution_count": 8,
   "metadata": {},
   "outputs": [
    {
     "data": {
      "application/vnd.jupyter.widget-view+json": {
       "model_id": "515831a779824c35aa0622065502ff0b",
       "version_major": 2,
       "version_minor": 0
      },
      "text/plain": [
       "VBox(children=(HTML(value='The selected period is None'), Figure(axes=[Axis(label='Index', scale=DateScale(), …"
      ]
     },
     "metadata": {},
     "output_type": "display_data"
    }
   ],
   "source": [
    "## We use the HTML widget to see the value of what we are selecting and modify it when an interaction is performed\n",
    "## on the selector\n",
    "db_fast = HTML()\n",
    "db_fast.value = \"The selected period is \" + str(intsel_fast.selected)\n",
    "\n",
    "fig_fast_intsel = Figure(\n",
    "    marks=[lc, lc_2],\n",
    "    axes=[x_ax, x_ay],\n",
    "    title=\"Fast Interval Selector Example\",\n",
    "    interaction=intsel_fast,\n",
    ")  # This is where we assign the interaction to this particular Figure\n",
    "\n",
    "VBox([db_fast, fig_fast_intsel])"
   ]
  },
  {
   "cell_type": "markdown",
   "metadata": {},
   "source": [
    "### `IndexSelector`"
   ]
  },
  {
   "cell_type": "code",
   "execution_count": 9,
   "metadata": {},
   "outputs": [],
   "source": [
    "db_index = HTML(value=\"[]\")"
   ]
  },
  {
   "cell_type": "code",
   "execution_count": 10,
   "metadata": {},
   "outputs": [],
   "source": [
    "## Now we try a selector made to select all the y-values associated with a single x-value\n",
    "index_sel = IndexSelector(scale=dt_x_fast, marks=[lc, lc_2])"
   ]
  },
  {
   "cell_type": "code",
   "execution_count": 11,
   "metadata": {},
   "outputs": [],
   "source": [
    "## Now, we define a function that will be called when the selectors are interacted with\n",
    "def index_change_callback(change):\n",
    "    db_index.value = \"The selected date is \" + str(change.new)"
   ]
  },
  {
   "cell_type": "code",
   "execution_count": 12,
   "metadata": {},
   "outputs": [],
   "source": [
    "index_sel.observe(index_change_callback, names=[\"selected\"])"
   ]
  },
  {
   "cell_type": "code",
   "execution_count": 13,
   "metadata": {},
   "outputs": [
    {
     "data": {
      "application/vnd.jupyter.widget-view+json": {
       "model_id": "201c392b5b37461d9cfae5b9735ad8dd",
       "version_major": 2,
       "version_minor": 0
      },
      "text/plain": [
       "VBox(children=(HTML(value='[]'), Figure(axes=[Axis(label='Index', scale=DateScale(), side='bottom'), Axis(labe…"
      ]
     },
     "metadata": {},
     "output_type": "display_data"
    }
   ],
   "source": [
    "fig_index_sel = Figure(\n",
    "    marks=[lc, lc_2],\n",
    "    axes=[x_ax, x_ay],\n",
    "    title=\"Index Selector Example\",\n",
    "    interaction=index_sel,\n",
    ")\n",
    "VBox([db_index, fig_index_sel])"
   ]
  },
  {
   "cell_type": "markdown",
   "metadata": {},
   "source": [
    "Return of indices of selected values:"
   ]
  },
  {
   "cell_type": "code",
   "execution_count": 14,
   "metadata": {},
   "outputs": [],
   "source": [
    "from datetime import datetime as py_dtime\n",
    "\n",
    "\n",
    "dt_x_index = DateScale(min=np.datetime64(py_dtime(2006, 6, 1)))\n",
    "lin_y2 = LinearScale()\n",
    "\n",
    "lc2_index = Lines(\n",
    "    x=dates_actual, y=prices, scales={\"x\": dt_x_index, \"y\": lin_y2}\n",
    ")\n",
    "\n",
    "x_ax1 = Axis(label=\"Date\", scale=dt_x_index)\n",
    "x_ay2 = Axis(label=(symbol + \" Price\"), scale=lin_y2, orientation=\"vertical\")"
   ]
  },
  {
   "cell_type": "code",
   "execution_count": 15,
   "metadata": {},
   "outputs": [],
   "source": [
    "intsel_date = FastIntervalSelector(scale=dt_x_index, marks=[lc2_index])"
   ]
  },
  {
   "cell_type": "code",
   "execution_count": 16,
   "metadata": {},
   "outputs": [],
   "source": [
    "db_date = HTML()\n",
    "db_date.value = str(intsel_date.selected)"
   ]
  },
  {
   "cell_type": "code",
   "execution_count": 17,
   "metadata": {},
   "outputs": [],
   "source": [
    "## Now, we define a function that will be called when the selectors are interacted with - a callback\n",
    "def date_interval_change_callback(change):\n",
    "    db_date.value = str(change.new)"
   ]
  },
  {
   "cell_type": "code",
   "execution_count": 18,
   "metadata": {},
   "outputs": [
    {
     "data": {
      "application/vnd.jupyter.widget-view+json": {
       "model_id": "439c29b08b994d3cb14b773fca403b38",
       "version_major": 2,
       "version_minor": 0
      },
      "text/plain": [
       "VBox(children=(HTML(value='None'), Figure(axes=[Axis(label='Date', scale=DateScale(min=datetime.datetime(2006,…"
      ]
     },
     "metadata": {},
     "output_type": "display_data"
    }
   ],
   "source": [
    "## Notice here that we call the observe on the Mark lc2_index rather than on the selector intsel_date\n",
    "lc2_index.observe(date_interval_change_callback, names=[\"selected\"])\n",
    "\n",
    "fig_date_mark = Figure(\n",
    "    marks=[lc2_index],\n",
    "    axes=[x_ax1, x_ay2],\n",
    "    title=\"Fast Interval Selector Selected Indices Example\",\n",
    "    interaction=intsel_date,\n",
    ")\n",
    "\n",
    "VBox([db_date, fig_date_mark])"
   ]
  },
  {
   "cell_type": "markdown",
   "metadata": {},
   "source": [
    "### `BrushSelector`\n",
    "\n",
    "We can do the same with any other selector:"
   ]
  },
  {
   "cell_type": "code",
   "execution_count": 19,
   "metadata": {},
   "outputs": [],
   "source": [
    "## Defining a new Figure\n",
    "dt_x_brush = DateScale(min=np.datetime64(py_dtime(2006, 6, 1)))\n",
    "lin_y2_brush = LinearScale()\n",
    "\n",
    "lc3_brush = Lines(\n",
    "    x=dates_actual, y=prices, scales={\"x\": dt_x_brush, \"y\": lin_y2_brush}\n",
    ")\n",
    "\n",
    "x_ax_brush = Axis(label=\"Date\", scale=dt_x_brush)\n",
    "x_ay_brush = Axis(\n",
    "    label=(symbol + \" Price\"), scale=lin_y2_brush, orientation=\"vertical\"\n",
    ")"
   ]
  },
  {
   "cell_type": "code",
   "execution_count": 20,
   "metadata": {},
   "outputs": [],
   "source": [
    "db_brush = HTML(value=\"[]\")"
   ]
  },
  {
   "cell_type": "code",
   "execution_count": 21,
   "metadata": {},
   "outputs": [],
   "source": [
    "brushsel_date = BrushIntervalSelector(\n",
    "    scale=dt_x_brush, marks=[lc3_brush], color=\"FireBrick\"\n",
    ")"
   ]
  },
  {
   "cell_type": "code",
   "execution_count": 22,
   "metadata": {},
   "outputs": [],
   "source": [
    "## Now, we define a function that will be called when the selectors are interacted with - a callback\n",
    "def date_brush_change_callback(change):\n",
    "    db_brush.value = str(change.new)"
   ]
  },
  {
   "cell_type": "code",
   "execution_count": 23,
   "metadata": {},
   "outputs": [],
   "source": [
    "lc3_brush.observe(date_brush_change_callback, names=[\"selected\"])"
   ]
  },
  {
   "cell_type": "code",
   "execution_count": 24,
   "metadata": {},
   "outputs": [
    {
     "data": {
      "application/vnd.jupyter.widget-view+json": {
       "model_id": "194f37f685e64e7799beabc58a7ca557",
       "version_major": 2,
       "version_minor": 0
      },
      "text/plain": [
       "VBox(children=(HTML(value='[]'), Figure(axes=[Axis(label='Date', scale=DateScale(min=datetime.datetime(2006, 6…"
      ]
     },
     "metadata": {},
     "output_type": "display_data"
    }
   ],
   "source": [
    "fig_brush_sel = Figure(\n",
    "    marks=[lc3_brush],\n",
    "    axes=[x_ax_brush, x_ay_brush],\n",
    "    title=\"Brush Selector Selected Indices Example\",\n",
    "    interaction=brushsel_date,\n",
    ")\n",
    "\n",
    "VBox([db_brush, fig_brush_sel])"
   ]
  },
  {
   "cell_type": "markdown",
   "metadata": {},
   "source": [
    "## Scatter chart selectors"
   ]
  },
  {
   "cell_type": "markdown",
   "metadata": {},
   "source": [
    "### `BrushSelector`"
   ]
  },
  {
   "cell_type": "code",
   "execution_count": 25,
   "metadata": {},
   "outputs": [],
   "source": [
    "date_fmt = \"%m-%d-%Y\"\n",
    "\n",
    "sec2_data = price_data[symbol2].values\n",
    "dates = price_data.index.values"
   ]
  },
  {
   "cell_type": "code",
   "execution_count": 26,
   "metadata": {},
   "outputs": [],
   "source": [
    "sc_x = LinearScale()\n",
    "sc_y = LinearScale()\n",
    "\n",
    "scatt = Scatter(x=prices, y=sec2_data, scales={\"x\": sc_x, \"y\": sc_y})\n",
    "\n",
    "sc_xax = Axis(label=(symbol), scale=sc_x)\n",
    "sc_yax = Axis(label=(symbol2), scale=sc_y, orientation=\"vertical\")"
   ]
  },
  {
   "cell_type": "code",
   "execution_count": 27,
   "metadata": {},
   "outputs": [],
   "source": [
    "br_sel = BrushSelector(x_scale=sc_x, y_scale=sc_y, marks=[scatt], color=\"red\")\n",
    "\n",
    "db_scat_brush = HTML(value=\"[]\")"
   ]
  },
  {
   "cell_type": "code",
   "execution_count": 28,
   "metadata": {},
   "outputs": [],
   "source": [
    "## call back for the selector\n",
    "def brush_callback(change):\n",
    "    db_scat_brush.value = str(br_sel.selected)"
   ]
  },
  {
   "cell_type": "code",
   "execution_count": 29,
   "metadata": {},
   "outputs": [],
   "source": [
    "br_sel.observe(brush_callback, names=[\"brushing\"])"
   ]
  },
  {
   "cell_type": "code",
   "execution_count": 30,
   "metadata": {},
   "outputs": [],
   "source": [
    "fig_scat_brush = Figure(\n",
    "    marks=[scatt],\n",
    "    axes=[sc_xax, sc_yax],\n",
    "    title=\"Scatter Chart Brush Selector Example\",\n",
    "    interaction=br_sel,\n",
    ")"
   ]
  },
  {
   "cell_type": "code",
   "execution_count": 31,
   "metadata": {},
   "outputs": [
    {
     "data": {
      "application/vnd.jupyter.widget-view+json": {
       "model_id": "f910b758e5854c4abc8f064d23ff4958",
       "version_major": 2,
       "version_minor": 0
      },
      "text/plain": [
       "VBox(children=(HTML(value='[]'), Figure(axes=[Axis(label='Security 1', scale=LinearScale(), side='bottom'), Ax…"
      ]
     },
     "metadata": {},
     "output_type": "display_data"
    }
   ],
   "source": [
    "VBox([db_scat_brush, fig_scat_brush])"
   ]
  },
  {
   "cell_type": "markdown",
   "metadata": {},
   "source": [
    "### `BrushSelector` with date values"
   ]
  },
  {
   "cell_type": "code",
   "execution_count": 32,
   "metadata": {},
   "outputs": [],
   "source": [
    "sc_brush_dt_x = DateScale(date_format=date_fmt)\n",
    "sc_brush_dt_y = LinearScale()\n",
    "\n",
    "scatt2 = Scatter(\n",
    "    x=dates_actual,\n",
    "    y=sec2_data,\n",
    "    scales={\"x\": sc_brush_dt_x, \"y\": sc_brush_dt_y},\n",
    ")"
   ]
  },
  {
   "cell_type": "code",
   "execution_count": 33,
   "metadata": {},
   "outputs": [],
   "source": [
    "br_sel_dt = BrushSelector(\n",
    "    x_scale=sc_brush_dt_x, y_scale=sc_brush_dt_y, marks=[scatt2]\n",
    ")"
   ]
  },
  {
   "cell_type": "code",
   "execution_count": 34,
   "metadata": {},
   "outputs": [],
   "source": [
    "db_brush_dt = HTML(value=str(br_sel_dt.selected))"
   ]
  },
  {
   "cell_type": "code",
   "execution_count": 35,
   "metadata": {},
   "outputs": [],
   "source": [
    "## call back for the selector\n",
    "def brush_dt_callback(change):\n",
    "    db_brush_dt.value = str(br_sel_dt.selected)"
   ]
  },
  {
   "cell_type": "code",
   "execution_count": 36,
   "metadata": {},
   "outputs": [],
   "source": [
    "br_sel_dt.observe(brush_dt_callback, names=[\"brushing\"])"
   ]
  },
  {
   "cell_type": "code",
   "execution_count": 37,
   "metadata": {},
   "outputs": [],
   "source": [
    "sc_xax = Axis(label=(symbol), scale=sc_brush_dt_x)\n",
    "sc_yax = Axis(label=(symbol2), scale=sc_brush_dt_y, orientation=\"vertical\")\n",
    "fig_brush_dt = Figure(\n",
    "    marks=[scatt2],\n",
    "    axes=[sc_xax, sc_yax],\n",
    "    title=\"Brush Selector with Dates Example\",\n",
    "    interaction=br_sel_dt,\n",
    ")"
   ]
  },
  {
   "cell_type": "code",
   "execution_count": 38,
   "metadata": {},
   "outputs": [
    {
     "data": {
      "application/vnd.jupyter.widget-view+json": {
       "model_id": "385e68e6425349ba9f3c4f03c6944ba3",
       "version_major": 2,
       "version_minor": 0
      },
      "text/plain": [
       "VBox(children=(HTML(value='None'), Figure(axes=[Axis(label='Security 1', scale=DateScale(), side='bottom'), Ax…"
      ]
     },
     "metadata": {},
     "output_type": "display_data"
    }
   ],
   "source": [
    "VBox([db_brush_dt, fig_brush_dt])"
   ]
  },
  {
   "cell_type": "markdown",
   "metadata": {},
   "source": [
    "## Histogram selectors"
   ]
  },
  {
   "cell_type": "code",
   "execution_count": 39,
   "metadata": {},
   "outputs": [],
   "source": [
    "## call back for selectors\n",
    "def interval_change_callback(name, value):\n",
    "    db3.value = str(value)\n",
    "\n",
    "\n",
    "## call back for the selector\n",
    "def brush_callback(change):\n",
    "    if not br_intsel.brushing:\n",
    "        db3.value = str(br_intsel.selected)"
   ]
  },
  {
   "cell_type": "code",
   "execution_count": 40,
   "metadata": {},
   "outputs": [
    {
     "data": {
      "application/vnd.jupyter.widget-view+json": {
       "model_id": "b179109ee57e41949af92db37e16e09c",
       "version_major": 2,
       "version_minor": 0
      },
      "text/plain": [
       "VBox(children=(HTML(value='None'), Figure(axes=[Axis(label='Returns', scale=LinearScale(), tick_format='0.2%')…"
      ]
     },
     "metadata": {},
     "output_type": "display_data"
    }
   ],
   "source": [
    "returns = np.log(prices[1:]) - np.log(prices[:-1])\n",
    "hist_x = LinearScale()\n",
    "hist_y = LinearScale()\n",
    "hist = Hist(sample=returns, scales={\"sample\": hist_x, \"count\": hist_y})\n",
    "\n",
    "br_intsel = BrushIntervalSelector(scale=hist_x, marks=[hist])\n",
    "br_intsel.observe(brush_callback, names=[\"selected\"])\n",
    "br_intsel.observe(brush_callback, names=[\"brushing\"])\n",
    "\n",
    "db3 = HTML()\n",
    "db3.value = str(br_intsel.selected)\n",
    "\n",
    "h_xax = Axis(\n",
    "    scale=hist_x,\n",
    "    label=\"Returns\",\n",
    "    grids=\"off\",\n",
    "    set_ticks=True,\n",
    "    tick_format=\"0.2%\",\n",
    ")\n",
    "h_yax = Axis(\n",
    "    scale=hist_y, label=\"Freq\", orientation=\"vertical\", grid_lines=\"none\"\n",
    ")\n",
    "\n",
    "fig_hist = Figure(\n",
    "    marks=[hist],\n",
    "    axes=[h_xax, h_yax],\n",
    "    title=\"Histogram Selection Example\",\n",
    "    interaction=br_intsel,\n",
    ")\n",
    "VBox([db3, fig_hist])"
   ]
  },
  {
   "cell_type": "markdown",
   "metadata": {},
   "source": [
    "### `MultiSelector`\n",
    "\n",
    "* This selector offers the option of using several brush selectors in one diagram.\n",
    "* The first brush works like a normal brush.\n",
    "* `Ctrl + click` creates a new brush that works like the normal brush.\n",
    "* The `active` brush has a green border, while all `inactive` brushes have a red border. inactive\n",
    "* `Shift + click` deactivates the current `active` brush. Now click on an `inactive` brush to make it `active`.\n",
    "* `Ctrl + Alt + Shift + click` deletes all brushes and resets them."
   ]
  },
  {
   "cell_type": "code",
   "execution_count": 41,
   "metadata": {},
   "outputs": [],
   "source": [
    "def multi_sel_callback(change):\n",
    "    if not multi_sel.brushing:\n",
    "        db4.value = str(multi_sel.selected)"
   ]
  },
  {
   "cell_type": "code",
   "execution_count": 42,
   "metadata": {},
   "outputs": [
    {
     "data": {
      "application/vnd.jupyter.widget-view+json": {
       "model_id": "54fdfa6b809842afa121b6d1eeabfa95",
       "version_major": 2,
       "version_minor": 0
      },
      "text/plain": [
       "VBox(children=(HTML(value='{}'), Figure(axes=[Axis(grid_lines='none', label='Returns', scale=LinearScale()), A…"
      ]
     },
     "metadata": {},
     "output_type": "display_data"
    }
   ],
   "source": [
    "line_x = LinearScale()\n",
    "line_y = LinearScale()\n",
    "line = Lines(\n",
    "    x=np.arange(100), y=np.random.randn(100), scales={\"x\": line_x, \"y\": line_y}\n",
    ")\n",
    "\n",
    "multi_sel = MultiSelector(scale=line_x, marks=[line])\n",
    "multi_sel.observe(multi_sel_callback, names=[\"selected\"])\n",
    "multi_sel.observe(multi_sel_callback, names=[\"brushing\"])\n",
    "\n",
    "db4 = HTML()\n",
    "db4.value = str(multi_sel.selected)\n",
    "\n",
    "h_xax = Axis(scale=line_x, label=\"Returns\", grid_lines=\"none\")\n",
    "h_yax = Axis(\n",
    "    scale=hist_y, label=\"Freq\", orientation=\"vertical\", grid_lines=\"none\"\n",
    ")\n",
    "\n",
    "fig_multi = Figure(\n",
    "    marks=[line],\n",
    "    axes=[h_xax, h_yax],\n",
    "    title=\"Multi-Selector Example\",\n",
    "    interaction=multi_sel,\n",
    ")\n",
    "VBox([db4, fig_multi])"
   ]
  },
  {
   "cell_type": "code",
   "execution_count": 43,
   "metadata": {},
   "outputs": [],
   "source": [
    "# changing the names of the intervals.\n",
    "multi_sel.names = [\"int1\", \"int2\", \"int3\"]"
   ]
  },
  {
   "cell_type": "markdown",
   "metadata": {},
   "source": [
    "### Multifunction selector with date"
   ]
  },
  {
   "cell_type": "code",
   "execution_count": 44,
   "metadata": {},
   "outputs": [],
   "source": [
    "def multi_sel_dt_callback(change):\n",
    "    if not multi_sel_dt.brushing:\n",
    "        db_multi_dt.value = str(multi_sel_dt.selected)"
   ]
  },
  {
   "cell_type": "code",
   "execution_count": 45,
   "metadata": {},
   "outputs": [
    {
     "data": {
      "application/vnd.jupyter.widget-view+json": {
       "model_id": "7bdc1001dade49f59985bc25007cdc5d",
       "version_major": 2,
       "version_minor": 0
      },
      "text/plain": [
       "VBox(children=(HTML(value='{}'), Figure(axes=[Axis(grid_lines='none', label='Returns', scale=DateScale(min=dat…"
      ]
     },
     "metadata": {},
     "output_type": "display_data"
    }
   ],
   "source": [
    "line_dt_x = DateScale(min=np.datetime64(py_dtime(2007, 1, 1)))\n",
    "line_dt_y = LinearScale()\n",
    "line_dt = Lines(\n",
    "    x=dates_actual,\n",
    "    y=sec2_data,\n",
    "    scales={\"x\": line_dt_x, \"y\": line_dt_y},\n",
    "    colors=[\"red\"],\n",
    ")\n",
    "\n",
    "multi_sel_dt = MultiSelector(scale=line_dt_x)\n",
    "multi_sel_dt.observe(multi_sel_dt_callback, names=[\"selected\"])\n",
    "multi_sel_dt.observe(multi_sel_dt_callback, names=[\"brushing\"])\n",
    "\n",
    "db_multi_dt = HTML()\n",
    "db_multi_dt.value = str(multi_sel_dt.selected)\n",
    "\n",
    "h_xax_dt = Axis(scale=line_dt_x, label=\"Returns\", grid_lines=\"none\")\n",
    "h_yax_dt = Axis(\n",
    "    scale=line_dt_y, label=\"Freq\", orientation=\"vertical\", grid_lines=\"none\"\n",
    ")\n",
    "\n",
    "fig_multi_dt = Figure(\n",
    "    marks=[line_dt],\n",
    "    axes=[h_xax_dt, h_yax_dt],\n",
    "    title=\"Multi-Selector with Date Example\",\n",
    "    interaction=multi_sel_dt,\n",
    ")\n",
    "VBox([db_multi_dt, fig_multi_dt])"
   ]
  },
  {
   "cell_type": "markdown",
   "metadata": {},
   "source": [
    "### `LassoSelector`"
   ]
  },
  {
   "cell_type": "code",
   "execution_count": 46,
   "metadata": {},
   "outputs": [],
   "source": [
    "lasso_sel = LassoSelector()"
   ]
  },
  {
   "cell_type": "code",
   "execution_count": 47,
   "metadata": {},
   "outputs": [
    {
     "data": {
      "application/vnd.jupyter.widget-view+json": {
       "model_id": "ad552f98866847418e0780105e9c0608",
       "version_major": 2,
       "version_minor": 0
      },
      "text/plain": [
       "Figure(axes=[Axis(label='X', scale=LinearScale()), Axis(label='Y', orientation='vertical', scale=LinearScale()…"
      ]
     },
     "metadata": {},
     "output_type": "display_data"
    }
   ],
   "source": [
    "xs, ys = LinearScale(), LinearScale()\n",
    "data = np.arange(20)\n",
    "line_lasso = Lines(x=data, y=data, scales={\"x\": xs, \"y\": ys})\n",
    "scatter_lasso = Scatter(\n",
    "    x=data, y=data, scales={\"x\": xs, \"y\": ys}, colors=[\"skyblue\"]\n",
    ")\n",
    "bar_lasso = Bars(x=data, y=data / 2.0, scales={\"x\": xs, \"y\": ys})\n",
    "xax_lasso, yax_lasso = Axis(scale=xs, label=\"X\"), Axis(\n",
    "    scale=ys, label=\"Y\", orientation=\"vertical\"\n",
    ")\n",
    "fig_lasso = Figure(\n",
    "    marks=[scatter_lasso, line_lasso, bar_lasso],\n",
    "    axes=[xax_lasso, yax_lasso],\n",
    "    title=\"Lasso Selector Example\",\n",
    "    interaction=lasso_sel,\n",
    ")\n",
    "lasso_sel.marks = [scatter_lasso, line_lasso]\n",
    "fig_lasso"
   ]
  },
  {
   "cell_type": "code",
   "execution_count": 48,
   "metadata": {},
   "outputs": [
    {
     "data": {
      "text/plain": [
       "(None, None)"
      ]
     },
     "execution_count": 48,
     "metadata": {},
     "output_type": "execute_result"
    }
   ],
   "source": [
    "scatter_lasso.selected, line_lasso.selected"
   ]
  },
  {
   "cell_type": "markdown",
   "metadata": {},
   "source": [
    "### `PanZoom`"
   ]
  },
  {
   "cell_type": "code",
   "execution_count": 49,
   "metadata": {},
   "outputs": [
    {
     "data": {
      "application/vnd.jupyter.widget-view+json": {
       "model_id": "a99ba2e0d32b490582f489b434e043aa",
       "version_major": 2,
       "version_minor": 0
      },
      "text/plain": [
       "Figure(axes=[Axis(label='Date', scale=DateScale(min=datetime.datetime(2007, 1, 1, 0, 0))), Axis(grid_lines='no…"
      ]
     },
     "metadata": {},
     "output_type": "display_data"
    }
   ],
   "source": [
    "xs_pz = DateScale(min=np.datetime64(py_dtime(2007, 1, 1)))\n",
    "ys_pz = LinearScale()\n",
    "line_pz = Lines(\n",
    "    x=dates_actual,\n",
    "    y=sec2_data,\n",
    "    scales={\"x\": xs_pz, \"y\": ys_pz},\n",
    "    colors=[\"red\"],\n",
    ")\n",
    "\n",
    "panzoom = PanZoom(scales={\"x\": [xs_pz], \"y\": [ys_pz]})\n",
    "xax = Axis(scale=xs_pz, label=\"Date\", grids=\"off\")\n",
    "yax = Axis(\n",
    "    scale=ys_pz, label=\"Price\", orientation=\"vertical\", grid_lines=\"none\"\n",
    ")\n",
    "\n",
    "Figure(marks=[line_pz], axes=[xax, yax], interaction=panzoom)"
   ]
  },
  {
   "cell_type": "markdown",
   "metadata": {},
   "source": [
    "### `HandDraw`"
   ]
  },
  {
   "cell_type": "code",
   "execution_count": 50,
   "metadata": {},
   "outputs": [
    {
     "data": {
      "application/vnd.jupyter.widget-view+json": {
       "model_id": "b365c24620ed446ab74ab25ccba22403",
       "version_major": 2,
       "version_minor": 0
      },
      "text/plain": [
       "Figure(axes=[Axis(grid_lines='none', label='Date', scale=DateScale(min=datetime.datetime(2007, 1, 1, 0, 0))), …"
      ]
     },
     "metadata": {},
     "output_type": "display_data"
    }
   ],
   "source": [
    "xs_hd = DateScale(min=np.datetime64(py_dtime(2007, 1, 1)))\n",
    "ys_hd = LinearScale()\n",
    "line_hd = Lines(\n",
    "    x=dates_actual,\n",
    "    y=sec2_data,\n",
    "    scales={\"x\": xs_hd, \"y\": ys_hd},\n",
    "    colors=[\"red\"],\n",
    ")\n",
    "\n",
    "handdraw = HandDraw(lines=line_hd)\n",
    "xax = Axis(scale=xs_hd, label=\"Date\", grid_lines=\"none\")\n",
    "yax = Axis(\n",
    "    scale=ys_hd, label=\"Price\", orientation=\"vertical\", grid_lines=\"none\"\n",
    ")\n",
    "\n",
    "Figure(marks=[line_hd], axes=[xax, yax], interaction=handdraw)"
   ]
  },
  {
   "cell_type": "markdown",
   "metadata": {},
   "source": [
    "## `Figure` with all interactions"
   ]
  },
  {
   "cell_type": "markdown",
   "metadata": {},
   "source": [
    "Define `Figure`:"
   ]
  },
  {
   "cell_type": "code",
   "execution_count": 51,
   "metadata": {},
   "outputs": [],
   "source": [
    "dt_x = DateScale(date_format=date_fmt, min=py_dtime(2007, 1, 1))\n",
    "lc1_x = LinearScale()\n",
    "lc2_y = LinearScale()\n",
    "\n",
    "lc2 = Lines(\n",
    "    x=np.linspace(0.0, 10.0, len(prices)),\n",
    "    y=prices * 0.25,\n",
    "    scales={\"x\": lc1_x, \"y\": lc2_y},\n",
    "    display_legend=True,\n",
    "    labels=[\"Security 1\"],\n",
    ")\n",
    "\n",
    "lc3 = Lines(\n",
    "    x=dates_actual,\n",
    "    y=sec2_data,\n",
    "    scales={\"x\": dt_x, \"y\": lc2_y},\n",
    "    colors=[\"red\"],\n",
    "    display_legend=True,\n",
    "    labels=[\"Security 2\"],\n",
    ")\n",
    "\n",
    "lc4 = Lines(\n",
    "    x=np.linspace(0.0, 10.0, len(prices)),\n",
    "    y=sec2_data * 0.75,\n",
    "    scales={\"x\": LinearScale(min=5, max=10), \"y\": lc2_y},\n",
    "    colors=[\"green\"],\n",
    "    display_legend=True,\n",
    "    labels=[\"Security 2 squared\"],\n",
    ")\n",
    "\n",
    "x_ax1 = Axis(label=\"Date\", scale=dt_x)\n",
    "x_ax2 = Axis(label=\"Time\", scale=lc1_x, side=\"top\", grid_lines=\"none\")\n",
    "x_ay2 = Axis(label=(symbol + \" Price\"), scale=lc2_y, orientation=\"vertical\")\n",
    "\n",
    "\n",
    "fig = Figure(marks=[lc2, lc3, lc4], axes=[x_ax1, x_ax2, x_ay2])"
   ]
  },
  {
   "cell_type": "markdown",
   "metadata": {},
   "source": [
    "Define interactions:"
   ]
  },
  {
   "cell_type": "code",
   "execution_count": 52,
   "metadata": {},
   "outputs": [],
   "source": [
    "multi_sel = MultiSelector(scale=dt_x, marks=[lc2, lc3])\n",
    "br_intsel = BrushIntervalSelector(scale=lc1_x, marks=[lc2, lc3])\n",
    "index_sel = IndexSelector(scale=dt_x, marks=[lc2, lc3])\n",
    "int_sel = FastIntervalSelector(scale=dt_x, marks=[lc3, lc2])\n",
    "\n",
    "hd = HandDraw(lines=lc2)\n",
    "hd2 = HandDraw(lines=lc3)\n",
    "pz = PanZoom(scales={\"x\": [dt_x], \"y\": [lc2_y]})\n",
    "\n",
    "deb = HTML()\n",
    "deb.value = \"[]\""
   ]
  },
  {
   "cell_type": "markdown",
   "metadata": {},
   "source": [
    "Define call-back handlers for the interactions:"
   ]
  },
  {
   "cell_type": "code",
   "execution_count": 53,
   "metadata": {},
   "outputs": [],
   "source": [
    "def test_callback(change):\n",
    "    deb.value = str(change.new)\n",
    "\n",
    "\n",
    "multi_sel.observe(test_callback, names=[\"selected\"])\n",
    "br_intsel.observe(test_callback, names=[\"selected\"])\n",
    "index_sel.observe(test_callback, names=[\"selected\"])\n",
    "int_sel.observe(test_callback, names=[\"selected\"])"
   ]
  },
  {
   "cell_type": "code",
   "execution_count": 54,
   "metadata": {},
   "outputs": [
    {
     "data": {
      "application/vnd.jupyter.widget-view+json": {
       "model_id": "f925327153c04f04ac844848c5ac226d",
       "version_major": 2,
       "version_minor": 0
      },
      "text/plain": [
       "VBox(children=(HTML(value='[]'), Figure(axes=[Axis(label='Date', scale=DateScale(min=datetime.datetime(2007, 1…"
      ]
     },
     "metadata": {},
     "output_type": "display_data"
    }
   ],
   "source": [
    "from collections import OrderedDict\n",
    "\n",
    "\n",
    "selection_interacts = ToggleButtons(\n",
    "    options=OrderedDict(\n",
    "        [\n",
    "            (\"HandDraw1\", hd),\n",
    "            (\"HandDraw2\", hd2),\n",
    "            (\"PanZoom\", pz),\n",
    "            (\"FastIntervalSelector\", int_sel),\n",
    "            (\"IndexSelector\", index_sel),\n",
    "            (\"BrushIntervalSelector\", br_intsel),\n",
    "            (\"MultiSelector\", multi_sel),\n",
    "            (\"None\", None),\n",
    "        ]\n",
    "    )\n",
    ")\n",
    "\n",
    "link((selection_interacts, \"value\"), (fig, \"interaction\"))\n",
    "VBox([deb, fig, selection_interacts], align_self=\"stretch\")"
   ]
  }
 ],
 "metadata": {
  "kernelspec": {
   "display_name": "Python 3.11 Kernel",
   "language": "python",
   "name": "python311"
  },
  "language_info": {
   "codemirror_mode": {
    "name": "ipython",
    "version": 3
   },
   "file_extension": ".py",
   "mimetype": "text/x-python",
   "name": "python",
   "nbconvert_exporter": "python",
   "pygments_lexer": "ipython3",
   "version": "3.11.4"
  },
  "latex_envs": {
   "LaTeX_envs_menu_present": true,
   "autoclose": false,
   "autocomplete": true,
   "bibliofile": "biblio.bib",
   "cite_by": "apalike",
   "current_citInitial": 1,
   "eqLabelWithNumbers": true,
   "eqNumInitial": 1,
   "hotkeys": {
    "equation": "Ctrl-E",
    "itemize": "Ctrl-I"
   },
   "labels_anchors": false,
   "latex_user_defs": false,
   "report_style_numbering": false,
   "user_envs_cfg": false
  },
  "widgets": {
   "application/vnd.jupyter.widget-state+json": {
    "state": {
     "00f6aee200444cee86e5a9b7f346c49e": {
      "model_module": "bqplot",
      "model_module_version": "^0.5.3",
      "model_name": "DateScaleModel",
      "state": {
       "_model_module_version": "^0.5.3",
       "_view_module_version": "^0.5.3"
      }
     },
     "013d4e7e712a4ffdab5030f3c88a1bd5": {
      "model_module": "@jupyter-widgets/controls",
      "model_module_version": "1.5.0",
      "model_name": "VBoxModel",
      "state": {
       "children": [
        "IPY_MODEL_c942c7aadcf1494a95a78d0213cfd963",
        "IPY_MODEL_6f782a62e5ef41cc91ba3a7458587414"
       ],
       "layout": "IPY_MODEL_e4df246ba1604e63a20dada3fbdfa46d"
      }
     },
     "01b2cb433eba4258ac8a849c0e056c5d": {
      "model_module": "@jupyter-widgets/base",
      "model_module_version": "1.2.0",
      "model_name": "LayoutModel",
      "state": {}
     },
     "03431295391240318e1f100f1fea0e7c": {
      "model_module": "bqplot",
      "model_module_version": "^0.5.10",
      "model_name": "MultiSelectorModel",
      "state": {
       "_model_module_version": "^0.5.10",
       "_view_module_version": "^0.5.10",
       "color": null,
       "orientation": "horizontal",
       "scale": "IPY_MODEL_b9e5a3ec74f9417480e14b3be70ea021"
      }
     },
     "03e0d892a5ec465a80fd2973e5a2aed8": {
      "model_module": "bqplot",
      "model_module_version": "^0.5",
      "model_name": "FigureModel",
      "state": {
       "_model_module_version": "^0.5",
       "_view_module_version": "^0.5",
       "axes": [
        "IPY_MODEL_69d01567a94c4fcc8b48320382a2e662",
        "IPY_MODEL_e4264c95595349caaad1000c12b1a666"
       ],
       "interaction": "IPY_MODEL_21775ab3cd044781959dc71588c31454",
       "layout": "IPY_MODEL_a5accf37dcdd4abeaff1b9ed4f6f45f5",
       "marks": [
        "IPY_MODEL_5e64dc3da2034c5e9236416019b457c5"
       ],
       "scale_x": "IPY_MODEL_4f3c67e318e349f3aeb2a38f98cd4804",
       "scale_y": "IPY_MODEL_b154856eb87b4b599ced6265b21280f9",
       "title": "Brush Selector with Dates Example"
      }
     },
     "0458fb46dc7d4405bdfbc091104f1efc": {
      "model_module": "bqplot",
      "model_module_version": "^0.5.3",
      "model_name": "FigureModel",
      "state": {
       "_model_module_version": "^0.5.3",
       "_view_module_version": "^0.5.3",
       "axes": [
        "IPY_MODEL_cc190b1b60a542eaab629c70e7e67056",
        "IPY_MODEL_449cfc74ded54a55a611279d2f5649d8"
       ],
       "interaction": "IPY_MODEL_c0685757deb645759d78fd9986f82506",
       "layout": "IPY_MODEL_6e53eb0892534ae893dc8c027fd3e91a",
       "marks": [
        "IPY_MODEL_ff319b5d1d2546d2a31481f7b3eeddc5"
       ],
       "scale_x": "IPY_MODEL_2681060cd06f4b45bf8c5862baea6b6f",
       "scale_y": "IPY_MODEL_1c404a89ab624837a07a52771b498efb",
       "title": "Histogram Selection Example"
      }
     },
     "04d0fe00c6c24bbb809de6cb505faaaa": {
      "buffers": [
       {
        "data": "AAAAAAEAAAACAAAAAwAAAAQAAAAFAAAABgAAAAcAAAAIAAAACQAAAAoAAAALAAAADAAAAA0AAAAOAAAADwAAABAAAAARAAAAEgAAABMAAAA=",
        "encoding": "base64",
        "path": [
         "x",
         "value"
        ]
       },
       {
        "data": "AAAAAAAAAAAAAAAAAADgPwAAAAAAAPA/AAAAAAAA+D8AAAAAAAAAQAAAAAAAAARAAAAAAAAACEAAAAAAAAAMQAAAAAAAABBAAAAAAAAAEkAAAAAAAAAUQAAAAAAAABZAAAAAAAAAGEAAAAAAAAAaQAAAAAAAABxAAAAAAAAAHkAAAAAAAAAgQAAAAAAAACFAAAAAAAAAIkAAAAAAAAAjQA==",
        "encoding": "base64",
        "path": [
         "y",
         "value"
        ]
       }
      ],
      "model_module": "bqplot",
      "model_module_version": "^0.5",
      "model_name": "BarsModel",
      "state": {
       "_model_module_version": "^0.5",
       "_view_module_version": "^0.5",
       "label_font_style": {},
       "scales": {
        "x": "IPY_MODEL_63ab96ce801944468da2fe46c2db84a6",
        "y": "IPY_MODEL_f70b4b13ac3c4da88caba7418e3bf8e0"
       },
       "x": {
        "dtype": "int32",
        "shape": [
         20
        ],
        "type": null
       },
       "y": {
        "dtype": "float64",
        "shape": [
         20
        ],
        "type": null
       }
      }
     },
     "050dc9e16a4e4452823bd60965d11a07": {
      "model_module": "@jupyter-widgets/base",
      "model_module_version": "1.2.0",
      "model_name": "LayoutModel",
      "state": {}
     },
     "058a3161a0e245f38b1748f794211f0d": {
      "model_module": "bqplot",
      "model_module_version": "^0.5.3",
      "model_name": "LinearScaleModel",
      "state": {
       "_model_module_version": "^0.5.3",
       "_view_module_version": "^0.5.3",
       "stabilized": false
      }
     },
     "058fa67d5191467fb6344f8c87cd29ab": {
      "model_module": "bqplot",
      "model_module_version": "^0.5",
      "model_name": "AxisModel",
      "state": {
       "_model_module_version": "^0.5",
       "_view_module_version": "^0.5",
       "grid_lines": "none",
       "label": "Date",
       "scale": "IPY_MODEL_ef83ad0d2f18427aa81f06c465ab0041",
       "side": "bottom",
       "tick_labels": {},
       "tick_values": null
      }
     },
     "05d47ffdc7eb4ff0a012d132f164f6be": {
      "model_module": "@jupyter-widgets/base",
      "model_module_version": "1.2.0",
      "model_name": "LayoutModel",
      "state": {}
     },
     "05ee0c46393d4b568e4ae12a5c871941": {
      "model_module": "bqplot",
      "model_module_version": "^0.5.10",
      "model_name": "AxisModel",
      "state": {
       "_model_module_version": "^0.5.10",
       "_view_module_version": "^0.5.10",
       "label": "Security 1",
       "scale": "IPY_MODEL_502e83aff46f4e55b04bc261cce50fcb",
       "side": "bottom",
       "tick_values": null
      }
     },
     "06ceff306b4b4e2fb8e534b494fddd7b": {
      "model_module": "@jupyter-widgets/base",
      "model_module_version": "1.2.0",
      "model_name": "LayoutModel",
      "state": {}
     },
     "074fd2f986514679a72bdaae539c1228": {
      "model_module": "bqplot",
      "model_module_version": "^0.5.10",
      "model_name": "MultiSelectorModel",
      "state": {
       "_model_module_version": "^0.5.10",
       "_view_module_version": "^0.5.10",
       "color": null,
       "marks": [
        "IPY_MODEL_54a4cc5a4f7541a6b27849a6b9dc2a0a",
        "IPY_MODEL_793f6ff6ead346618ebc9f4b11dd3403"
       ],
       "orientation": "horizontal",
       "scale": "IPY_MODEL_49acd346f6f2485baf6029128b6451ad"
      }
     },
     "08281f5bf6864072a48dcfc508b8a061": {
      "model_module": "@jupyter-widgets/controls",
      "model_module_version": "1.5.0",
      "model_name": "DescriptionStyleModel",
      "state": {
       "description_width": ""
      }
     },
     "09fe1b2d53724690ba45682b02138fa5": {
      "buffers": [
       {
        "data": "AACASa/9cEIAAECvAf5wQgAAABVU/nBCAADAeqb+cEIAAIDg+P5wQgAAQEZL/3BCAAAArJ3/cEIAAMAR8P9wQgAAgHdCAHFCAABA3ZQAcUIAAABD5wBxQgAAwKg5AXFCAACADowBcUIAAEB03gFxQgAAANowAnFCAADAP4MCcUIAAICl1QJxQgAAQAsoA3FCAAAAcXoDcUIAAMDWzANxQgAAgDwfBHFCAABAonEEcUIAAAAIxARxQgAAwG0WBXFCAACA02gFcUIAAEA5uwVxQgAAAJ8NBnFCAADABGAGcUIAAIBqsgZxQgAAQNAEB3FCAAAANlcHcUIAAMCbqQdxQgAAgAH8B3FCAABAZ04IcUIAAADNoAhxQgAAwDLzCHFCAACAmEUJcUIAAED+lwlxQgAAAGTqCXFCAADAyTwKcUIAAIAvjwpxQgAAQJXhCnFCAAAA+zMLcUIAAMBghgtxQgAAgMbYC3FCAABALCsMcUIAAACSfQxxQgAAwPfPDHFCAACAXSINcUIAAEDDdA1xQgAAACnHDXFCAADAjhkOcUIAAID0aw5xQgAAQFq+DnFCAAAAwBAPcUIAAMAlYw9xQgAAgIu1D3FCAABA8QcQcUIAAABXWhBxQgAAwLysEHFCAACAIv8QcUIAAECIURFxQgAAAO6jEXFCAADAU/YRcUIAAIC5SBJxQgAAQB+bEnFCAAAAhe0ScUIAAMDqPxNxQgAAgFCSE3FCAABAtuQTcUIAAAAcNxRxQgAAwIGJFHFCAACA59sUcUIAAEBNLhVxQgAAALOAFXFCAADAGNMVcUIAAIB+JRZxQgAAQOR3FnFCAAAASsoWcUIAAMCvHBdxQgAAgBVvF3FCAABAe8EXcUIAAADhExhxQgAAwEZmGHFCAACArLgYcUIAAEASCxlxQgAAAHhdGXFCAADA3a8ZcUIAAIBDAhpxQgAAQKlUGnFCAAAAD6cacUIAAMB0+RpxQgAAgNpLG3FCAABAQJ4bcUIAAACm8BtxQgAAwAtDHHFCAACAcZUccUIAAEDX5xxxQgAAAD06HXFCAADAoowdcUIAAIAI3x1xQgAAQG4xHnFCAAAA1IMecUIAAMA51h5xQgAAgJ8oH3FCAABABXsfcUIAAABrzR9xQgAAwNAfIHFCAACANnIgcUIAAECcxCBxQgAAAAIXIXFCAADAZ2khcUIAAIDNuyFxQgAAQDMOInFCAAAAmWAicUIAAMD+siJxQgAAgGQFI3FCAABAylcjcUIAAAAwqiNxQgAAwJX8I3FCAACA+04kcUIAAEBhoSRxQgAAAMfzJHFCAADALEYlcUIAAICSmCVxQgAAQPjqJXFCAAAAXj0mcUIAAMDDjyZxQgAAgCniJnFCAABAjzQncUIAAAD1hidxQgAAwFrZJ3FCAACAwCsocUIAAEAmfihxQgAAAIzQKHFCAADA8SIpcUIAAIBXdSlxQgAAQL3HKXFCAAAAIxoqcUIAAMCIbCpxQgAAgO6+KnFCAABAVBErcUIAAAC6YytxQgAAwB+2K3FCAACAhQgscUIAAEDrWixxQgAAAFGtLHFCAADAtv8scUIAAIAcUi1xQgAAQIKkLXFC",
        "encoding": "base64",
        "path": [
         "x",
         "value"
        ]
       },
       {
        "data": "caYMcqLnWECSxo/PBudYQG+JcwWOEFlAJf8QR04SWUDq1eiLzidZQNhHdZQZJllAMQ/KPEMOWUD29ljf0O9YQFlw1N2q91hAHp68eovCWEBBnnxJUqZYQLMqyqrhcFhASAH8ofheWEByhRizJURYQAKz/2CMaVhA+vB/S8A9WEBuS6O8R/BXQDjM6qcIAlhAX4b+pxYKWEDB0J7p5T1YQHbB0PNMK1hAKoYxMcf6V0B0o6TvJuNXQO/BT6kX01dAT9wVBI+vV0DnTx+OlZ9XQEHMpz9RoldAH278LfV+V0AncndqBZxXQO3snkAQsFdAPqJJULmLV0Ah3jb+UXNXQIfZTurTZVdAfZXkijapV0ASHj9TBsRXQHUn8d0EtVdAjdcJfvraV0AtPpNhwJpXQBBaqP18o1dAmZAXw1Y+V0Dp+qEuIG9XQEI7lUn6dVdAI02flvZJV0AASZXw1z9XQFAF1oAWNldAAJEhm5d9V0Dc6wh4b3VXQHYHfd6qm1dAWptyyN2RV0BEcCrWp4hXQNr0QxrniVdAJAz12kAwV0DkMNu58ihXQDyLuZ1IjFdACxoVh35dV0CR0mYEGjxXQC47oFGyAldA5bUeXZ7gVkBBYgiwxOlWQFKQm0qCBVdAVG5lcBY+V0ArWNNwPG5XQHYyUNizJldAEE00hbYUV0Ack8bIdN1WQHfuEdGF9VZARVFKnR35VkC6r3Ngn9pWQPEykGHZ2VZAMH5r3gb7VkA18mAux+1WQPXV//B7IFdAQGoRP7gsV0BDl7ZVdzFXQE40SKbZ71ZAf65dDFKgVkAmeuEru61WQAauHzfnfVZAQsPmWC7qVkATcefFdOtWQI1m3+st6VZAhEdisgfzVkBqsUzFA+NWQOP3Rnwm0VZAT6PpCprSVkA/9Gxkpt1WQNGG7jNz6lZAE8lfysnwVkB4RKRF0SxXQIJm+2fBXFdASxOSwkIJV0C0WB2piy5XQERrhTArY1dAFBfa8750V0A1Lk70fGNXQBx3N5sdaFdA1qd8/EQfV0Byab4DbONWQH+Vu+gp3lZAEq8E29z/VkA6Z/B7bQtXQDYmDowpz1ZAxD/2cvv8VkDuLQ9fWvNWQFWllfrLxVZArX32V8fHVkAmbK2bxr9WQFxaP1H2s1ZAHrvcr9dvVkDUy+9CqN1WQNSx2csRHFdAFVP+SYAIV0DWhGFHQQFXQMP9obyt9VZAI2s6IUbuVkB1TLfQwP5WQKDWON5f1lZARBn6GssnV0BugRqP8CxXQCJpDPtns1dAalYPpYukV0DipuW/eKtXQA9AEuQ7bVdA3p9AxC9tV0DpHWCt0llXQBe5szNoLVdAhIGtmis4V0CifS1Q3HpXQP/RrP6FgldApqQz9KLVV0BUgT9zTA1YQK6ni1Tz51dAxvOc7mXXV0BqNmzVytZXQJmRQKl9rVdASlAf0KLNV0DeT+OCPt5XQGrsU0eewVdAgWjlmV/hV0DVEx0mlIxXQHTXW2QxfFdAojnzZYlDV0BtzkNyiUhXQA4nvEgQQ1dAEX93cHJPV0DEb/tgHz9XQP+f1k0FNVdAMdlTo/QnV0CYgSjhODBXQOp04Cj5O1dA",
        "encoding": "base64",
        "path": [
         "y",
         "value"
        ]
       }
      ],
      "model_module": "bqplot",
      "model_module_version": "^0.5.10",
      "model_name": "LinesModel",
      "state": {
       "_model_module_version": "^0.5.10",
       "_view_module_version": "^0.5.10",
       "fill_colors": [],
       "labels": [
        "C1"
       ],
       "scales": {
        "x": "IPY_MODEL_c9c76ac8ba4f4d91af35beec23e50607",
        "y": "IPY_MODEL_4946d3ac122d47c79caeaa61de218c4d"
       },
       "x": {
        "dtype": "float64",
        "shape": [
         150
        ],
        "type": "date"
       },
       "y": {
        "dtype": "float64",
        "shape": [
         150
        ],
        "type": null
       }
      }
     },
     "0a348c0ac4fd4553b3e64cfc45098cf9": {
      "model_module": "@jupyter-widgets/controls",
      "model_module_version": "1.5.0",
      "model_name": "DescriptionStyleModel",
      "state": {
       "description_width": ""
      }
     },
     "0a5b7c33262e41fdafc23f2256db8fc5": {
      "buffers": [
       {
        "data": "AAAAAAAAAAA3YKimYy6xPzdgqKZjLsE/UpD8eZXFyT83YKimYy7RP0V4UpD8edU/UpD8eZXF2T9gqKZjLhHePzdgqKZjLuE/Pmx9GzBU4z9FeFKQ/HnlP0yEJwXJn+c/UpD8eZXF6T9ZnNHuYevrP2CopmMuEe4/NNo9bH0b8D83YKimYy7xPzrmEuFJQfI/Pmx9GzBU8z9B8udVFmf0P0V4UpD8efU/SP68yuKM9j9MhCcFyZ/3P08Kkj+vsvg/UpD8eZXF+T9WFme0e9j6P1mc0e5h6/s/XSI8KUj+/D9gqKZjLhH+P2QuEZ4UJP8/NNo9bH0bAEA1HXOJ8KQAQDdgqKZjLgFAOaPdw9a3AUA65hLhSUECQDwpSP68ygJAPmx9GzBUA0BAr7I4o90DQEHy51UWZwRAQzUdc4nwBEBFeFKQ/HkFQEa7h61vAwZASP68yuKMBkBKQfLnVRYHQEyEJwXJnwdATcdcIjwpCEBPCpI/r7IIQFFNx1wiPAlAUpD8eZXFCUBU0zGXCE8KQFYWZ7R72ApAWFmc0e5hC0BZnNHuYesLQFvfBgzVdAxAXSI8KUj+DEBfZXFGu4cNQGCopmMuEQ5AYuvbgKGaDkBkLhGeFCQPQGVxRruHrQ9ANNo9bH0bEEC0e9j6NmAQQDUdc4nwpBBAtr4NGKrpEEA3YKimYy4RQLgBQzUdcxFAOaPdw9a3EUC6RHhSkPwRQDrmEuFJQRJAu4etbwOGEkA8KUj+vMoSQL3K4ox2DxNAPmx9GzBUE0C/DRiq6ZgTQECvsjij3RNAwFBNx1wiFEBB8udVFmcUQMKTguTPqxRAQzUdc4nwFEDE1rcBQzUVQEV4UpD8eRVAxhntHra+FUBGu4etbwMWQMdcIjwpSBZASP68yuKMFkDJn1dZnNEWQEpB8udVFhdAy+KMdg9bF0BMhCcFyZ8XQMwlwpOC5BdATcdcIjwpGEDOaPew9W0YQE8Kkj+vshhA0Ksszmj3GEBRTcdcIjwZQNLuYevbgBlAUpD8eZXFGUDTMZcITwoaQFTTMZcITxpA1XTMJcKTGkBWFme0e9gaQNe3AUM1HRtAWFmc0e5hG0DZ+jZgqKYbQFmc0e5h6xtA2j1sfRswHEBb3wYM1XQcQNyAoZqOuRxAXSI8KUj+HEDew9a3AUMdQF9lcUa7hx1A3wYM1XTMHUBgqKZjLhEeQOFJQfLnVR5AYuvbgKGaHkDjjHYPW98eQGQuEZ4UJB9A5c+rLM5oH0BlcUa7h60fQOYS4UlB8h9ANNo9bH0bIED0Kosz2j0gQLR72Po2YCBAdcwlwpOCIEA1HXOJ8KQgQPZtwFBNxyBAtr4NGKrpIEB3D1vfBgwhQDdgqKZjLiFA97D1bcBQIUC4AUM1HXMhQHhSkPx5lSFAOaPdw9a3IUD58yqLM9ohQLpEeFKQ/CFAepXFGe0eIkA65hLhSUEiQPs2YKimYyJAu4etbwOGIkB82Po2YKgiQDwpSP68yiJA/XmVxRntIkC9yuKMdg8jQH0bMFTTMSNAPmx9GzBUI0D+vMrijHYjQL8NGKrpmCNAf15lcUa7I0BAr7I4o90jQAAAAAAAACRA",
        "encoding": "base64",
        "path": [
         "x",
         "value"
        ]
       },
       {
        "data": "ZJFdPFfbOEDts2hJF5s4QFaLygJpTDhASVWqf5YoOECnr3iXkxI4QORsrP8LBThA6mA81pgKOEDE20OS+g84QKbD/XpHFDhAzfpQN8YTOEA8yRc1U/03QKJ2yMou3TdAAwf1BTzjN0AqMk2/xK03QOmgmxYHkzdAV1kHMYhiN0Bs+D6ElXM3QAV0qKWkPzdA9xUu2DlNN0DwWlPlk3k3QKJkDXZ6eDdA2Tk5v+6BN0BrUkicfYc3QOHFf0ipnDdA5cYWnXmQN0AWgV5rjZg3QFWwbv5lnjdAMfcwbahqN0CCod83tj43QKLKOrcWTDdAsO5basx4N0AHL5gI93s3QFJUA3KPoDdAJq8b0l7oN0Cuhf3qig04QE6+FtvZVjhAr2vjaogwOEB5f1edR9k3QGTZRDGV3DdAqRkxa2INOEDWJQxYRjk4QERfP8McFThARfd1F+oROEDIIffMAwg4QELNdYh4KjhASFsFIroGOEABpRJMsjY4QOONjK8JVzhA4PTQsYS4OEBrQmRPUqk4QDlNmgpf9jhAJbSn+WlYOUCdK0KEjKo5QHfyg0Sh6TlARXWqHo4dOkDi6A+aPQE6QC+Fo51QrDlABBxfyaPKOUAl9vZv+Lc5QPvlM6SL4zlAfeFMucv9OUCEdX33cTA6QHJN+OoAMTpAnYBsYBtDOkCidkDuI206QBr5vjHGNDpA37jzUT04OkAdmefg7D46QBJfsw62TTpATiM9dc5iOkDa33woM2Y6QLr+iMyQVzpAzZy9H2E2OkBkzD7uRjg6QLeAv6FlIzpAvCyFswHqOUDOklwptCE6QJsmPZPsATpAIH/ieMwJOkBhJFFXPhc6QEpVFyz8HTpAm2iAhu7cOUA/nYgDGro5QDolH6L9hDlAcXbVVSaDOUB+o5Pmg645QFRx7j+NDTpAchhSHPUIOkCQlAgwMfU5QMG/Zttx0zlA/CYlq9/mOUAcMAwCAtY5QDIS40sUwjlAPnedjKylOUBCpBrb6Y85QD6P7R7pjDlAvFPQGsTAOUBIezHi0Nc5QMMMMUZqlDlADaAKluKmOUAlwWfkX185QLecaP1NZTlAJuLBG5hHOUBlIUFt+H85QLowkz60rTlAOeGhAFyWOUCcVZiJ4aI5QERuq1CRgDlAxI2Wd2aeOUAzug6PgFE5QHNru9zxLjlAsR9UEtzXOEAOwYusBhM5QPWZKGg0JDlApeLpbyybOUDZOqK1fmo5QJIRqzW79zlAcp9ngvJOOkASv7mjuHw6QLkVWMf9pzpAj1p7ivVwOkCnRztrG4s6QO8YoCt3aTpAUKpczSUvOkC88gbz1DM6QHY/UNbScDpAR8q/Uw02OkBcz0Smvy86QO+uiC3fMjpA0dTigcoAOkCLfI7tDq45QGeZ5WSbjTlAZtT3SHeoOUDxnjX8BIU5QPoo9w1LpjlA2F5o1BB+OUDAwAHw4UY5QO1+UYKjGjlAZrxdywoSOUAAd52MKv04QI0tT3bU+ThAMPdiSs++OEClER3R8uo4QLHAlNJi6zhAwWcrt5n8OEAF1IPnqE05QP71+7JOdTlAjISuL1mWOUDDkszPo2A5QA5ciEnsaDlA",
        "encoding": "base64",
        "path": [
         "y",
         "value"
        ]
       }
      ],
      "model_module": "bqplot",
      "model_module_version": "^0.5",
      "model_name": "LinesModel",
      "state": {
       "_model_module_version": "^0.5",
       "_view_module_version": "^0.5",
       "display_legend": true,
       "fill_colors": [],
       "labels": [
        "Security 1"
       ],
       "scales": {
        "x": "IPY_MODEL_be0a031081e448f9a11ee25f55ac28cd",
        "y": "IPY_MODEL_c0ca45d131e04efebb0335fa5cac778a"
       },
       "x": {
        "dtype": "float64",
        "shape": [
         150
        ],
        "type": null
       },
       "y": {
        "dtype": "float64",
        "shape": [
         150
        ],
        "type": null
       }
      }
     },
     "0a7b4064d2314a3bb6806a82f0ac5606": {
      "model_module": "bqplot",
      "model_module_version": "^0.5",
      "model_name": "LinearScaleModel",
      "state": {
       "_model_module_version": "^0.5",
       "_view_module_version": "^0.5",
       "stabilized": false
      }
     },
     "0a839d1b2235495ea0ed04e646a01be1": {
      "model_module": "bqplot",
      "model_module_version": "^0.5.10",
      "model_name": "HandDrawModel",
      "state": {
       "_model_module_version": "^0.5.10",
       "_view_module_version": "^0.5.10",
       "lines": "IPY_MODEL_54a4cc5a4f7541a6b27849a6b9dc2a0a"
      }
     },
     "0acde1c1338a49758d1375f79495271e": {
      "model_module": "@jupyter-widgets/base",
      "model_module_version": "1.2.0",
      "model_name": "LayoutModel",
      "state": {}
     },
     "0acfd0f8ca8640a6ba21a6976d94c839": {
      "model_module": "@jupyter-widgets/base",
      "model_module_version": "1.2.0",
      "model_name": "LayoutModel",
      "state": {}
     },
     "0b856f3154d74130a4e834596440a0f5": {
      "model_module": "bqplot",
      "model_module_version": "^0.5.10",
      "model_name": "LinearScaleModel",
      "state": {
       "_model_module_version": "^0.5.10",
       "_view_module_version": "^0.5.10",
       "allow_padding": false,
       "max": 1,
       "min": 0,
       "stabilized": false
      }
     },
     "0c5a7b27ef6d4cf79e4627e01dfbb99a": {
      "model_module": "@jupyter-widgets/base",
      "model_module_version": "1.2.0",
      "model_name": "LayoutModel",
      "state": {}
     },
     "0c93eea864554514835d718019631fa7": {
      "model_module": "bqplot",
      "model_module_version": "^0.5.10",
      "model_name": "AxisModel",
      "state": {
       "_model_module_version": "^0.5.10",
       "_view_module_version": "^0.5.10",
       "label": "Date",
       "scale": "IPY_MODEL_9343486f51384fe4bae5c8d078f36dd6",
       "side": "bottom",
       "tick_values": null
      }
     },
     "0ce70154066348798dea8a3a851e8156": {
      "model_module": "bqplot",
      "model_module_version": "^0.5",
      "model_name": "MultiSelectorModel",
      "state": {
       "_model_module_version": "^0.5",
       "_view_module_version": "^0.5",
       "color": null,
       "marks": [
        "IPY_MODEL_0a5b7c33262e41fdafc23f2256db8fc5",
        "IPY_MODEL_bfcb14123037401f81aca1f4a52a33cf"
       ],
       "orientation": "horizontal",
       "scale": "IPY_MODEL_fd564f48c10d44b3901f35cd009e2bed"
      }
     },
     "0d735c2bb0b6483192d886db55dcb9da": {
      "model_module": "@jupyter-widgets/controls",
      "model_module_version": "1.5.0",
      "model_name": "HTMLModel",
      "state": {
       "layout": "IPY_MODEL_f4951078d0aa4e959335684e9116ef46",
       "style": "IPY_MODEL_9a49b1ef86da4a9d979b48363f723e26",
       "value": "[]"
      }
     },
     "0e8fd935349f433fb9b4011b0b290aa6": {
      "model_module": "bqplot",
      "model_module_version": "^0.5.10",
      "model_name": "AxisModel",
      "state": {
       "_model_module_version": "^0.5.10",
       "_view_module_version": "^0.5.10",
       "grid_lines": "none",
       "label": "Time",
       "scale": "IPY_MODEL_dfca47db612a435db16b2f144c759f9e",
       "side": "top",
       "tick_values": null
      }
     },
     "1057e3baf88b437888df698a3815e1b9": {
      "model_module": "bqplot",
      "model_module_version": "^0.5.10",
      "model_name": "LinearScaleModel",
      "state": {
       "_model_module_version": "^0.5.10",
       "_view_module_version": "^0.5.10",
       "allow_padding": false,
       "max": 1,
       "min": 0,
       "stabilized": false
      }
     },
     "106b8771479040048221ad0f5cb511c0": {
      "model_module": "bqplot",
      "model_module_version": "^0.5",
      "model_name": "LinearScaleModel",
      "state": {
       "_model_module_version": "^0.5",
       "_view_module_version": "^0.5",
       "stabilized": false
      }
     },
     "10b06a0e7e9e4f988a1a7ad8e9e22585": {
      "buffers": [
       {
        "data": "AACASa/9cEIAAECvAf5wQgAAABVU/nBCAADAeqb+cEIAAIDg+P5wQgAAQEZL/3BCAAAArJ3/cEIAAMAR8P9wQgAAgHdCAHFCAABA3ZQAcUIAAABD5wBxQgAAwKg5AXFCAACADowBcUIAAEB03gFxQgAAANowAnFCAADAP4MCcUIAAICl1QJxQgAAQAsoA3FCAAAAcXoDcUIAAMDWzANxQgAAgDwfBHFCAABAonEEcUIAAAAIxARxQgAAwG0WBXFCAACA02gFcUIAAEA5uwVxQgAAAJ8NBnFCAADABGAGcUIAAIBqsgZxQgAAQNAEB3FCAAAANlcHcUIAAMCbqQdxQgAAgAH8B3FCAABAZ04IcUIAAADNoAhxQgAAwDLzCHFCAACAmEUJcUIAAED+lwlxQgAAAGTqCXFCAADAyTwKcUIAAIAvjwpxQgAAQJXhCnFCAAAA+zMLcUIAAMBghgtxQgAAgMbYC3FCAABALCsMcUIAAACSfQxxQgAAwPfPDHFCAACAXSINcUIAAEDDdA1xQgAAACnHDXFCAADAjhkOcUIAAID0aw5xQgAAQFq+DnFCAAAAwBAPcUIAAMAlYw9xQgAAgIu1D3FCAABA8QcQcUIAAABXWhBxQgAAwLysEHFCAACAIv8QcUIAAECIURFxQgAAAO6jEXFCAADAU/YRcUIAAIC5SBJxQgAAQB+bEnFCAAAAhe0ScUIAAMDqPxNxQgAAgFCSE3FCAABAtuQTcUIAAAAcNxRxQgAAwIGJFHFCAACA59sUcUIAAEBNLhVxQgAAALOAFXFCAADAGNMVcUIAAIB+JRZxQgAAQOR3FnFCAAAASsoWcUIAAMCvHBdxQgAAgBVvF3FCAABAe8EXcUIAAADhExhxQgAAwEZmGHFCAACArLgYcUIAAEASCxlxQgAAAHhdGXFCAADA3a8ZcUIAAIBDAhpxQgAAQKlUGnFCAAAAD6cacUIAAMB0+RpxQgAAgNpLG3FCAABAQJ4bcUIAAACm8BtxQgAAwAtDHHFCAACAcZUccUIAAEDX5xxxQgAAAD06HXFCAADAoowdcUIAAIAI3x1xQgAAQG4xHnFCAAAA1IMecUIAAMA51h5xQgAAgJ8oH3FCAABABXsfcUIAAABrzR9xQgAAwNAfIHFCAACANnIgcUIAAECcxCBxQgAAAAIXIXFCAADAZ2khcUIAAIDNuyFxQgAAQDMOInFCAAAAmWAicUIAAMD+siJxQgAAgGQFI3FCAABAylcjcUIAAAAwqiNxQgAAwJX8I3FCAACA+04kcUIAAEBhoSRxQgAAAMfzJHFCAADALEYlcUIAAICSmCVxQgAAQPjqJXFCAAAAXj0mcUIAAMDDjyZxQgAAgCniJnFCAABAjzQncUIAAAD1hidxQgAAwFrZJ3FCAACAwCsocUIAAEAmfihxQgAAAIzQKHFCAADA8SIpcUIAAIBXdSlxQgAAQL3HKXFCAAAAIxoqcUIAAMCIbCpxQgAAgO6+KnFCAABAVBErcUIAAAC6YytxQgAAwB+2K3FCAACAhQgscUIAAEDrWixxQgAAAFGtLHFCAADAtv8scUIAAIAcUi1xQgAAQIKkLXFC",
        "encoding": "base64",
        "path": [
         "x",
         "value"
        ]
       },
       {
        "data": "ASMAG4jiWECwpG0Wj/dYQAAjHEF3OllA6xJE5tFCWUBpnJlFNHBZQA41OJG7c1lAh5EIo9g6WUDRoSqbJipZQBJZTIgBUFlACNsdZfKyWEAx5d8ia55YQDNJ4dP4GlhAH2uHhXg0WEAk3SDZKOdXQErAu4NeNVhANWLjiqY1WECOv01bde5XQEjF8WVe21dAqh9Leg4MWEDj2ULN+Z5YQBjOJwGsvlhAWWiv0YF8WECDZrYyem5YQE6kE1HGMlhAXNpMupApWEAvqs2RpCtYQHpUXIGMMlhAmMrNVbICWEBOsLQgv0lYQJhIqqO2UlhAyVqTXfZYWEDIBAMNClVYQAwJRzz/I1hAbYxWLZp7WEAXoK2RAKtYQEgs6ajRf1hArmWtYs+lWEAw52fkryNYQJgqomGVI1hAyyhZCjKXV0AZkZyzGN5XQLpxnbKSxFdAXLmoT0xYV0DLB4X9QwhXQHyfzAJa7FZAkiKO9dhLV0BZbvdiY0lXQOq6ebspZ1dA8FjnJ05HV0C8K1F86zVXQIImT+bzQldA8oWB1fLFVkA9ZP1k1q5WQGI2lmUiR1dA3IydetUhV0AOJWlDIe1WQLQJXkvhbVZAqr9xHwAYVkAK6P6c+15WQFRE62qtg1ZAeFEFKBv6VkDcGwTYYR1XQNHtxCvNmVZACtHFNgGqVkDjwWeUDLRWQAYs7tupD1dAdI9CrIgtV0D8f0OGnftWQI2+rvQfPldA2t7NgiKUV0AOBU12DnBXQC6qqXz72FdAmrOTJp/RV0AQ7NyRs/RXQBeENI9ti1dAVgrnplIyV0DnddMddypXQMIKvliGI1dAEZJPDE/AV0Cie6aQI9tXQLqCV3rzqFdAsnjqzl7iV0CgH00pF+JXQLri4qtAj1dAOiho2S+dV0BQjwWA2MxXQBRhSkSJz1dAAoH0AwnPV0BjA5pN3gxYQHV7+3f9pVhA7B/qwOg5WEAHHrVpek5YQON+DtrdhVhArawq0oy6WEC4FDOi3IVYQCTUnypmj1hA60ksn/I1WEBWHpxpegdYQDkAdPEo8ldAKf42EF6OWEBoFXB6Br1YQO5q6CwGflhARE8SoH7AWEB8/K7DAN1YQDYl7EosyFhAvHogvty8WEAh6SNfLuBYQOFj3p+s11hASBBfSI+AWEDCDAWnyFxZQKQagH7ny1lAfZJeip2+WUC3cAXErsRZQNdUJNSjvFlA5MCLS4atWUDcsBiK2NhZQBGVz6/2SVlANMzrs8GpWUBkB2kzladZQCEZ1U9wcFpAtq1AYd5wWkD1QycEVGdaQO21BdOyLlpAp/mouuf1WUBmDCWXwbZZQE+a5ILAallAb5QDnD9yWUAExFB8jthZQKcxsmUa81lAMt9oJ4eOWkAg+wyO0r1aQKSZxSooZ1pAut+sKrwzWkC76souB1FaQEPfNcIZD1pAngKowBRDWkC0ypuT9WVaQKwTHE4HPFpAEnjttIddWkAdppjp6flZQL8o8Aed9VlAaFABH2ihWUCPCwWFmoFZQB5Ieo9hgFlAhD9rn12FWUAJZUxog2dZQFWshJaiLFlA2WGquEIEWUASwXb3vS5ZQI3t7uS+I1lA",
        "encoding": "base64",
        "path": [
         "y",
         "value"
        ]
       }
      ],
      "model_module": "bqplot",
      "model_module_version": "^0.5.10",
      "model_name": "LinesModel",
      "state": {
       "_model_module_version": "^0.5.10",
       "_view_module_version": "^0.5.10",
       "colors": [
        "red"
       ],
       "fill_colors": [],
       "labels": [
        "C1"
       ],
       "scales": {
        "x": "IPY_MODEL_9343486f51384fe4bae5c8d078f36dd6",
        "y": "IPY_MODEL_e470dba691af4891b8bac238683673f3"
       },
       "x": {
        "dtype": "float64",
        "shape": [
         150
        ],
        "type": "date"
       },
       "y": {
        "dtype": "float64",
        "shape": [
         150
        ],
        "type": null
       }
      }
     },
     "11188a190401427699ea8ccc6ae867a6": {
      "buffers": [
       {
        "data": "AAAAAAEAAAACAAAAAwAAAAQAAAAFAAAABgAAAAcAAAAIAAAACQAAAAoAAAALAAAADAAAAA0AAAAOAAAADwAAABAAAAARAAAAEgAAABMAAAA=",
        "encoding": "base64",
        "path": [
         "x",
         "value"
        ]
       },
       {
        "data": "AAAAAAEAAAACAAAAAwAAAAQAAAAFAAAABgAAAAcAAAAIAAAACQAAAAoAAAALAAAADAAAAA0AAAAOAAAADwAAABAAAAARAAAAEgAAABMAAAA=",
        "encoding": "base64",
        "path": [
         "y",
         "value"
        ]
       }
      ],
      "model_module": "bqplot",
      "model_module_version": "^0.5.3",
      "model_name": "LinesModel",
      "state": {
       "_model_module_version": "^0.5.3",
       "_view_module_version": "^0.5.3",
       "fill_colors": [],
       "labels": [
        "C1"
       ],
       "scales": {
        "x": "IPY_MODEL_3e14b18e83d844268bfaa6527ab6f694",
        "y": "IPY_MODEL_b0fb4887ff26488ba84d1a10b9e49881"
       },
       "x": {
        "dtype": "int32",
        "shape": [
         20
        ],
        "type": null
       },
       "y": {
        "dtype": "int32",
        "shape": [
         20
        ],
        "type": null
       }
      }
     },
     "11223a47e16549d9b13e8f8e266fbb6b": {
      "model_module": "bqplot",
      "model_module_version": "^0.5",
      "model_name": "BrushSelectorModel",
      "state": {
       "_model_module_version": "^0.5",
       "_view_module_version": "^0.5",
       "color": "red",
       "marks": [
        "IPY_MODEL_6b178c4cd0cd42ff8394d8e4b4492c8d"
       ],
       "x_scale": "IPY_MODEL_0a7b4064d2314a3bb6806a82f0ac5606",
       "y_scale": "IPY_MODEL_df52a23b309f49adb00632c3596fbc45"
      }
     },
     "120e3b1b9b0745fcb6777a0973e52034": {
      "model_module": "@jupyter-widgets/controls",
      "model_module_version": "1.5.0",
      "model_name": "DescriptionStyleModel",
      "state": {
       "description_width": ""
      }
     },
     "129f61f113474394b9495e3adb403683": {
      "buffers": [
       {
        "data": "AAAAAAAA8D8=",
        "encoding": "base64",
        "path": [
         "default_opacities",
         "value"
        ]
       },
       {
        "data": "AACASa/9cEIAAECvAf5wQgAAABVU/nBCAADAeqb+cEIAAIDg+P5wQgAAQEZL/3BCAAAArJ3/cEIAAMAR8P9wQgAAgHdCAHFCAABA3ZQAcUIAAABD5wBxQgAAwKg5AXFCAACADowBcUIAAEB03gFxQgAAANowAnFCAADAP4MCcUIAAICl1QJxQgAAQAsoA3FCAAAAcXoDcUIAAMDWzANxQgAAgDwfBHFCAABAonEEcUIAAAAIxARxQgAAwG0WBXFCAACA02gFcUIAAEA5uwVxQgAAAJ8NBnFCAADABGAGcUIAAIBqsgZxQgAAQNAEB3FCAAAANlcHcUIAAMCbqQdxQgAAgAH8B3FCAABAZ04IcUIAAADNoAhxQgAAwDLzCHFCAACAmEUJcUIAAED+lwlxQgAAAGTqCXFCAADAyTwKcUIAAIAvjwpxQgAAQJXhCnFCAAAA+zMLcUIAAMBghgtxQgAAgMbYC3FCAABALCsMcUIAAACSfQxxQgAAwPfPDHFCAACAXSINcUIAAEDDdA1xQgAAACnHDXFCAADAjhkOcUIAAID0aw5xQgAAQFq+DnFCAAAAwBAPcUIAAMAlYw9xQgAAgIu1D3FCAABA8QcQcUIAAABXWhBxQgAAwLysEHFCAACAIv8QcUIAAECIURFxQgAAAO6jEXFCAADAU/YRcUIAAIC5SBJxQgAAQB+bEnFCAAAAhe0ScUIAAMDqPxNxQgAAgFCSE3FCAABAtuQTcUIAAAAcNxRxQgAAwIGJFHFCAACA59sUcUIAAEBNLhVxQgAAALOAFXFCAADAGNMVcUIAAIB+JRZxQgAAQOR3FnFCAAAASsoWcUIAAMCvHBdxQgAAgBVvF3FCAABAe8EXcUIAAADhExhxQgAAwEZmGHFCAACArLgYcUIAAEASCxlxQgAAAHhdGXFCAADA3a8ZcUIAAIBDAhpxQgAAQKlUGnFCAAAAD6cacUIAAMB0+RpxQgAAgNpLG3FCAABAQJ4bcUIAAACm8BtxQgAAwAtDHHFCAACAcZUccUIAAEDX5xxxQgAAAD06HXFCAADAoowdcUIAAIAI3x1xQgAAQG4xHnFCAAAA1IMecUIAAMA51h5xQgAAgJ8oH3FCAABABXsfcUIAAABrzR9xQgAAwNAfIHFCAACANnIgcUIAAECcxCBxQgAAAAIXIXFCAADAZ2khcUIAAIDNuyFxQgAAQDMOInFCAAAAmWAicUIAAMD+siJxQgAAgGQFI3FCAABAylcjcUIAAAAwqiNxQgAAwJX8I3FCAACA+04kcUIAAEBhoSRxQgAAAMfzJHFCAADALEYlcUIAAICSmCVxQgAAQPjqJXFCAAAAXj0mcUIAAMDDjyZxQgAAgCniJnFCAABAjzQncUIAAAD1hidxQgAAwFrZJ3FCAACAwCsocUIAAEAmfihxQgAAAIzQKHFCAADA8SIpcUIAAIBXdSlxQgAAQL3HKXFCAAAAIxoqcUIAAMCIbCpxQgAAgO6+KnFCAABAVBErcUIAAAC6YytxQgAAwB+2K3FCAACAhQgscUIAAEDrWixxQgAAAFGtLHFCAADAtv8scUIAAIAcUi1xQgAAQIKkLXFC",
        "encoding": "base64",
        "path": [
         "x",
         "value"
        ]
       },
       {
        "data": "ASMAG4jiWECwpG0Wj/dYQAAjHEF3OllA6xJE5tFCWUBpnJlFNHBZQA41OJG7c1lAh5EIo9g6WUDRoSqbJipZQBJZTIgBUFlACNsdZfKyWEAx5d8ia55YQDNJ4dP4GlhAH2uHhXg0WEAk3SDZKOdXQErAu4NeNVhANWLjiqY1WECOv01bde5XQEjF8WVe21dAqh9Leg4MWEDj2ULN+Z5YQBjOJwGsvlhAWWiv0YF8WECDZrYyem5YQE6kE1HGMlhAXNpMupApWEAvqs2RpCtYQHpUXIGMMlhAmMrNVbICWEBOsLQgv0lYQJhIqqO2UlhAyVqTXfZYWEDIBAMNClVYQAwJRzz/I1hAbYxWLZp7WEAXoK2RAKtYQEgs6ajRf1hArmWtYs+lWEAw52fkryNYQJgqomGVI1hAyyhZCjKXV0AZkZyzGN5XQLpxnbKSxFdAXLmoT0xYV0DLB4X9QwhXQHyfzAJa7FZAkiKO9dhLV0BZbvdiY0lXQOq6ebspZ1dA8FjnJ05HV0C8K1F86zVXQIImT+bzQldA8oWB1fLFVkA9ZP1k1q5WQGI2lmUiR1dA3IydetUhV0AOJWlDIe1WQLQJXkvhbVZAqr9xHwAYVkAK6P6c+15WQFRE62qtg1ZAeFEFKBv6VkDcGwTYYR1XQNHtxCvNmVZACtHFNgGqVkDjwWeUDLRWQAYs7tupD1dAdI9CrIgtV0D8f0OGnftWQI2+rvQfPldA2t7NgiKUV0AOBU12DnBXQC6qqXz72FdAmrOTJp/RV0AQ7NyRs/RXQBeENI9ti1dAVgrnplIyV0DnddMddypXQMIKvliGI1dAEZJPDE/AV0Cie6aQI9tXQLqCV3rzqFdAsnjqzl7iV0CgH00pF+JXQLri4qtAj1dAOiho2S+dV0BQjwWA2MxXQBRhSkSJz1dAAoH0AwnPV0BjA5pN3gxYQHV7+3f9pVhA7B/qwOg5WEAHHrVpek5YQON+DtrdhVhArawq0oy6WEC4FDOi3IVYQCTUnypmj1hA60ksn/I1WEBWHpxpegdYQDkAdPEo8ldAKf42EF6OWEBoFXB6Br1YQO5q6CwGflhARE8SoH7AWEB8/K7DAN1YQDYl7EosyFhAvHogvty8WEAh6SNfLuBYQOFj3p+s11hASBBfSI+AWEDCDAWnyFxZQKQagH7ny1lAfZJeip2+WUC3cAXErsRZQNdUJNSjvFlA5MCLS4atWUDcsBiK2NhZQBGVz6/2SVlANMzrs8GpWUBkB2kzladZQCEZ1U9wcFpAtq1AYd5wWkD1QycEVGdaQO21BdOyLlpAp/mouuf1WUBmDCWXwbZZQE+a5ILAallAb5QDnD9yWUAExFB8jthZQKcxsmUa81lAMt9oJ4eOWkAg+wyO0r1aQKSZxSooZ1pAut+sKrwzWkC76souB1FaQEPfNcIZD1pAngKowBRDWkC0ypuT9WVaQKwTHE4HPFpAEnjttIddWkAdppjp6flZQL8o8Aed9VlAaFABH2ihWUCPCwWFmoFZQB5Ieo9hgFlAhD9rn12FWUAJZUxog2dZQFWshJaiLFlA2WGquEIEWUASwXb3vS5ZQI3t7uS+I1lA",
        "encoding": "base64",
        "path": [
         "y",
         "value"
        ]
       }
      ],
      "model_module": "bqplot",
      "model_module_version": "^0.5.10",
      "model_name": "ScatterModel",
      "state": {
       "_model_module_version": "^0.5.10",
       "_view_module_version": "^0.5.10",
       "default_opacities": {
        "dtype": "float64",
        "shape": [
         1
        ],
        "type": null
       },
       "names": null,
       "scales": {
        "x": "IPY_MODEL_7b56e8ba34e04b528ab32ac8c490667a",
        "y": "IPY_MODEL_b6a3797824914dc192f42b3aadb59aa0"
       },
       "scales_metadata": {
        "color": {
         "dimension": "color"
        },
        "opacity": {
         "dimension": "opacity"
        },
        "rotation": {
         "dimension": "rotation"
        },
        "size": {
         "dimension": "size"
        },
        "skew": {
         "dimension": "skew"
        },
        "x": {
         "dimension": "x",
         "orientation": "horizontal"
        },
        "y": {
         "dimension": "y",
         "orientation": "vertical"
        }
       },
       "x": {
        "dtype": "float64",
        "shape": [
         150
        ],
        "type": "date"
       },
       "y": {
        "dtype": "float64",
        "shape": [
         150
        ],
        "type": null
       }
      }
     },
     "12ec71be94564c7682a2440013cbbd9f": {
      "model_module": "bqplot",
      "model_module_version": "^0.5.3",
      "model_name": "LinearScaleModel",
      "state": {
       "_model_module_version": "^0.5.3",
       "_view_module_version": "^0.5.3",
       "stabilized": false
      }
     },
     "12fb5e2e547b482198039de7ceea06bf": {
      "model_module": "@jupyter-widgets/controls",
      "model_module_version": "1.5.0",
      "model_name": "DescriptionStyleModel",
      "state": {
       "description_width": ""
      }
     },
     "133f0504843144c4992cd8475c140601": {
      "model_module": "@jupyter-widgets/controls",
      "model_module_version": "1.5.0",
      "model_name": "HTMLModel",
      "state": {
       "layout": "IPY_MODEL_1a2fc20f133e47e4a6fea6e876440dde",
       "style": "IPY_MODEL_4fe6daf563464e86be3380edbb140be5",
       "value": "[]"
      }
     },
     "13528458dd354c99b75ddded7e66dcfb": {
      "model_module": "bqplot",
      "model_module_version": "^0.5.3",
      "model_name": "FigureModel",
      "state": {
       "_model_module_version": "^0.5.3",
       "_view_module_version": "^0.5.3",
       "axes": [
        "IPY_MODEL_6db84896448b45b7a6ccda88efdf99c0",
        "IPY_MODEL_9eda66aa6938438d87f82dac6446784c"
       ],
       "interaction": "IPY_MODEL_7ad1ccaa83c54090b5d1b1c2598d2722",
       "layout": "IPY_MODEL_05d47ffdc7eb4ff0a012d132f164f6be",
       "marks": [
        "IPY_MODEL_79b07b2fb66c498484ed505fa2b539b8"
       ],
       "scale_x": "IPY_MODEL_6665170d0fd04cf580e5c04d6a1445a9",
       "scale_y": "IPY_MODEL_96b52cfa497744bfa9cae248cb8cbd60",
       "title": "Multi-Selector with Date Example"
      }
     },
     "149f8e78ca9a4801b6efd2c68ce48767": {
      "model_module": "@jupyter-widgets/controls",
      "model_module_version": "1.5.0",
      "model_name": "VBoxModel",
      "state": {
       "children": [
        "IPY_MODEL_7a104df44f004918ae621305348a1fbb",
        "IPY_MODEL_521fc94f36964629a35ec4f75981d4f6"
       ],
       "layout": "IPY_MODEL_e4e16614ae324283898deda047dce810"
      }
     },
     "14eddf6299c54cd7a6b4ebc9d6d8d07d": {
      "model_module": "@jupyter-widgets/base",
      "model_module_version": "1.2.0",
      "model_name": "LayoutModel",
      "state": {}
     },
     "15d60a15eeb24a4fa391d6c8fb66eb2d": {
      "model_module": "@jupyter-widgets/controls",
      "model_module_version": "1.5.0",
      "model_name": "DescriptionStyleModel",
      "state": {
       "description_width": ""
      }
     },
     "176197a113324472a8fe6ec4c6250190": {
      "model_module": "bqplot",
      "model_module_version": "^0.5.3",
      "model_name": "LinearScaleModel",
      "state": {
       "_model_module_version": "^0.5.3",
       "_view_module_version": "^0.5.3",
       "allow_padding": false,
       "max": 1,
       "min": 0,
       "stabilized": false
      }
     },
     "17ec40d56486456ea663605d2506ff03": {
      "buffers": [
       {
        "data": "AAAAAAEAAAACAAAAAwAAAAQAAAAFAAAABgAAAAcAAAAIAAAACQAAAAoAAAALAAAADAAAAA0AAAAOAAAADwAAABAAAAARAAAAEgAAABMAAAAUAAAAFQAAABYAAAAXAAAAGAAAABkAAAAaAAAAGwAAABwAAAAdAAAAHgAAAB8AAAAgAAAAIQAAACIAAAAjAAAAJAAAACUAAAAmAAAAJwAAACgAAAApAAAAKgAAACsAAAAsAAAALQAAAC4AAAAvAAAAMAAAADEAAAAyAAAAMwAAADQAAAA1AAAANgAAADcAAAA4AAAAOQAAADoAAAA7AAAAPAAAAD0AAAA+AAAAPwAAAEAAAABBAAAAQgAAAEMAAABEAAAARQAAAEYAAABHAAAASAAAAEkAAABKAAAASwAAAEwAAABNAAAATgAAAE8AAABQAAAAUQAAAFIAAABTAAAAVAAAAFUAAABWAAAAVwAAAFgAAABZAAAAWgAAAFsAAABcAAAAXQAAAF4AAABfAAAAYAAAAGEAAABiAAAAYwAAAA==",
        "encoding": "base64",
        "path": [
         "x",
         "value"
        ]
       },
       {
        "data": "+v8KUzKf4D+Xm9RTdCSiv5jxPRsQHv0/v4zBND5yjr+V/PAEEGa/P8VCKHY/mP6/4D7RLrzG7L+Gtvc5t9/yPz5iIVfabcO/drctONGk2j9jsb45s1XiPx2/oCSTRPI/mVY5sVcH4z8fUnRSJE/Hv6ufwuw+BNU/l5mjr5wa4z+Gj1/i+UvaP6+6pQcJe8C/epgVeWoX8j+3IFF/3/f2v3O1XSPk37S/1octZ812ur9Zl+Z/eEHpv9HBobMPqss/sVDdFWL45r/479eLoyL7v8dybaNkp/A/ODFaXBlX6r+K8HFmySX4v8uEhkK97Ne/UzdK7G7H8r9MNeqPfj/pP9Nn+s5GANG/p7w4kMMYAkDK2Mg8YVDbP4FhyFFz++q/8Pcseu0s8r/UNgEcZIDEP17on4ii8OQ/Zc47560cAcCEyYYWKNXuv9HnafTryve/TYNc/YSx9T8pkAYuPqCYv67xEnklf/A/cYaXfEo+zb9+M3oxbNrkv11Y6pr6Fu0/XaFElRWq5r/UPPntndPnPyMEZcUEdvU/EdAhpV/b7j+QiVxWYRfyP37tzWXzGe6/XnKe4Rhg8D/Dg1DqGGUAQIdC1fhhL8A/TcPri/ZB6D/6Knt/AD/mPzPw0B49rPI/z0vcI+7o3L9XmMal787XP51xZobYDdm/poi6Hkje2L85IwpNTcPuPzRHV1uepOM/Ya/kWCJS6z/Kq7Tn0k/wP3dN8j3CKPQ/HZxvbMJN0D8Djo2NIyviv1Ueqj0Cdre/F6LR+Vv51j85sLOOKN/8P5Z+98JJafi/Th6gVz3A9D8o73mFGjb8P3jBktx9Xe6/+JRxv6vz4D8J8p5KFmD3v9217C9L1vq/50esVNGV7b9lwB5GdV28v2zxzw4Ppuk/AfNOzam1079BW/wxqckCwIiW+Vp/Umc/ZDbhFiey9j8hbY190FrIP8bSHqOcj/U/cCXyYUWRzL/LfcwawwHAv/TkBkF/PuO/vKgPfC0H5D86XntMzeffP9bdAvZmzvG/ZqX+uCUuyD+0N0eL3pvrPwZACi4gZ+4/3Smk2EUT9z8=",
        "encoding": "base64",
        "path": [
         "y",
         "value"
        ]
       }
      ],
      "model_module": "bqplot",
      "model_module_version": "^0.5.3",
      "model_name": "LinesModel",
      "state": {
       "_model_module_version": "^0.5.3",
       "_view_module_version": "^0.5.3",
       "fill_colors": [],
       "labels": [
        "C1"
       ],
       "scales": {
        "x": "IPY_MODEL_acd62a19a6f048718d0bdfbb41f85811",
        "y": "IPY_MODEL_a26fbbf9b6244f7f827879597d2a3aef"
       },
       "x": {
        "dtype": "int32",
        "shape": [
         100
        ],
        "type": null
       },
       "y": {
        "dtype": "float64",
        "shape": [
         100
        ],
        "type": null
       }
      }
     },
     "18ae5ae4e5d54b0bba4ca734112224d2": {
      "model_module": "bqplot",
      "model_module_version": "^0.5",
      "model_name": "HandDrawModel",
      "state": {
       "_model_module_version": "^0.5",
       "_view_module_version": "^0.5",
       "lines": "IPY_MODEL_e233c488df9e4d4c9723b5af7a2c2d55"
      }
     },
     "1911af656fa442b984b64a141232689a": {
      "model_module": "bqplot",
      "model_module_version": "^0.5",
      "model_name": "BrushIntervalSelectorModel",
      "state": {
       "_model_module_version": "^0.5",
       "_view_module_version": "^0.5",
       "color": "FireBrick",
       "marks": [
        "IPY_MODEL_239cc07e926e4dd79725dad7b9dd3535"
       ],
       "scale": "IPY_MODEL_4254bcfb1b4a483ab62c8d8473d7456c"
      }
     },
     "194f37f685e64e7799beabc58a7ca557": {
      "model_module": "@jupyter-widgets/controls",
      "model_module_version": "1.5.0",
      "model_name": "VBoxModel",
      "state": {
       "children": [
        "IPY_MODEL_ca2949e951304092bf9797e3bec5b57c",
        "IPY_MODEL_74ccc21876a4402099e5a70da4d9b221"
       ],
       "layout": "IPY_MODEL_9aef9bdfc91b4b0899c26e2e70c1d9d7"
      }
     },
     "1a19389f129049f1b2cacb70e1f23ad4": {
      "buffers": [
       {
        "data": "AAAAAAAAFEAAAAAAAAAoQAAAAAAAADJAAAAAAAAAQ0AAAAAAAABDQAAAAAAAADJAAAAAAAAAJkAAAAAAAAAUQAAAAAAAAPA/AAAAAAAACEA=",
        "encoding": "base64",
        "path": [
         "count",
         "value"
        ]
       },
       {
        "data": "AAA+JXf/GL8AQFgCeph6PwBAWGut4TE/AFjR6qBlaz8AgCb+d18xvwAQoRsvY26/ANBN5iZ9c78AsLDFdSNUPwBChqOvF4G/AOSCu2FHcr8AxMyb62qBvwDwUemxe2e/ABw/6/ylcb8A4M0PK5Z4PwCcN0Vazny/APA3ZkS6ib8AmFI0p7JnPwAgZcM/dVU/APA8sFwrgT8AUMRMEZZovwDamQ/RH4C/AODL2cWWb78AUDnQzYplvwBI+bLy7ne/ADC5xD2cZb8AgEcXrJw9PwAUGIshAni/AAhHjl6+cz8AQPNMxh5rPwAY5fCdnni/AKD+sNadcL8AANbvqW5ivwCqnX9I6YY/AMgh1ywXcj8AqCIi0zpkvwDoi9kHink/AKTQ5iCnhb8AEF3E2KtXPwDXb6q2QpG/AOx6pxu5gD8A4JZU17NSPwD0APS4IH6/APCcIWHVW78AEPYvfOBavwCknuJgf4g/AND08Po8Vr8ApLFOU/55PwDwEbp+l1q/AJDOv4QHWb8AgKcDNiErPwDoIU6dso6/AODNe7csVL8AXsx2qAORPwDUCfVs6n+/AGh3OD3udr8ArP8jedyDvwCIH6asw3e/ADAQ4ZSTWT8AVNHgR1NzPwA8fKU/kYM/AJTUln6BgD8AQPmnHpKIvwBIVDs/52i/AIjP7hM+g78AtIPhY85wPwBAbbluBkQ/ALTBLu1Kdb8AAJjIAVQhvwAwveM+Knc/AIhaUy94Yr8A2gD5nJ2BPwBoPyOb6WA/ACB6ZpM0Sj8AuqjyP8KGvwBMNQKb7Yu/AKjKos7xYj8ApDwQAfGAvwCHf7HcE5M/AABOwcF8LD8AAC7aXm85vwBwKQWCfls/APg46KRcZr8AUBfWEwRpvwCA+Lo+SDA/AADbltrzXj8AGMyPyeRhPwBwhnkqsVE/AGDJNNrThD8ASqytTHuAPwDSpFntyoy/APyRcqLQeT8AUCXbgRSCPwAII7jSA2g/AJhHX/OTZ78AwNaKy1BJPwBUhb3UDIm/ADp6ntzPhL8AQD2BSWtNvwCoIAa8gnc/ABgA9zATYD8AUoJZYweFvwAO9EUIAoA/AJC+JXzUWr8ApDHwHeJ/vwBAUuiZRjY/ANDxsb1/Vr8AGLWJbqJgvwBmWhhDJYi/ABc1uIpkkz8AmjLoariFPwCou4gtJGu/AMBUzX4lVL8AsEn4XR5gvwCQTI9Tp1S/AKBcgPP2Zj8AOO8+OTF8vwD2XbwQU4w/AMBcfIlvTD8AOvLXAfOWPwDY8jfIFmS/ABDK6Pq8Uj8A1hC64iSFvwAAQPe3j+C+AKCJnjV+ar8A6Ac+IYx+vwBAxF+jsV0/AJBdLXfZhj8AABVYnd9UPwBgxJqlFow/AIrZUCCZgj8AhA9mrut4vwA4njLAL2a/AADdZ+IFGr8AGDapf9B7vwDQ7c4VqnU/AKBJhAJMZj8A5JZ9BTxzvwCUivDkVHU/AAThtviajL8A2B4I2ktmvwCOTjoVZIO/AGAEtAGASz8AQEx9ahpOvwA4X6FzBGE/AMBULsxwZr8AYNKxwdVbvwCgP0r/CGK/AKA8JOjUVj8AoAhuVDNgPw==",
        "encoding": "base64",
        "path": [
         "sample",
         "value"
        ]
       }
      ],
      "model_module": "bqplot",
      "model_module_version": "^0.5.10",
      "model_name": "HistModel",
      "state": {
       "_model_module_version": "^0.5.10",
       "_view_module_version": "^0.5.10",
       "count": {
        "dtype": "float64",
        "shape": [
         10
        ],
        "type": null
       },
       "midpoints": [
        -0.01489268303369875,
        -0.010965940197895607,
        -0.007039197362092463,
        -0.00311245452628932,
        0.0008142883095138224,
        0.0047410311453169665,
        0.00866777398112011,
        0.012594516816923253,
        0.016521259652726397
       ],
       "sample": {
        "dtype": "float64",
        "shape": [
         149
        ],
        "type": null
       },
       "scales": {
        "count": "IPY_MODEL_3592e2c0bd4e437c8b4edfd163eda3f2",
        "sample": "IPY_MODEL_2d7f55a4fa2f4c5796dd7e9d07c12429"
       }
      }
     },
     "1a2fc20f133e47e4a6fea6e876440dde": {
      "model_module": "@jupyter-widgets/base",
      "model_module_version": "1.2.0",
      "model_name": "LayoutModel",
      "state": {}
     },
     "1a9047ac72e34a92be6d7333bd7c9787": {
      "model_module": "@jupyter-widgets/controls",
      "model_module_version": "1.5.0",
      "model_name": "DescriptionStyleModel",
      "state": {
       "description_width": ""
      }
     },
     "1af5582ab1394e5cb29d7ba81ce5b4a7": {
      "buffers": [
       {
        "data": "AAAAAAAAAAA3YKimYy6xPzdgqKZjLsE/UpD8eZXFyT83YKimYy7RP0V4UpD8edU/UpD8eZXF2T9gqKZjLhHePzdgqKZjLuE/Pmx9GzBU4z9FeFKQ/HnlP0yEJwXJn+c/UpD8eZXF6T9ZnNHuYevrP2CopmMuEe4/NNo9bH0b8D83YKimYy7xPzrmEuFJQfI/Pmx9GzBU8z9B8udVFmf0P0V4UpD8efU/SP68yuKM9j9MhCcFyZ/3P08Kkj+vsvg/UpD8eZXF+T9WFme0e9j6P1mc0e5h6/s/XSI8KUj+/D9gqKZjLhH+P2QuEZ4UJP8/NNo9bH0bAEA1HXOJ8KQAQDdgqKZjLgFAOaPdw9a3AUA65hLhSUECQDwpSP68ygJAPmx9GzBUA0BAr7I4o90DQEHy51UWZwRAQzUdc4nwBEBFeFKQ/HkFQEa7h61vAwZASP68yuKMBkBKQfLnVRYHQEyEJwXJnwdATcdcIjwpCEBPCpI/r7IIQFFNx1wiPAlAUpD8eZXFCUBU0zGXCE8KQFYWZ7R72ApAWFmc0e5hC0BZnNHuYesLQFvfBgzVdAxAXSI8KUj+DEBfZXFGu4cNQGCopmMuEQ5AYuvbgKGaDkBkLhGeFCQPQGVxRruHrQ9ANNo9bH0bEEC0e9j6NmAQQDUdc4nwpBBAtr4NGKrpEEA3YKimYy4RQLgBQzUdcxFAOaPdw9a3EUC6RHhSkPwRQDrmEuFJQRJAu4etbwOGEkA8KUj+vMoSQL3K4ox2DxNAPmx9GzBUE0C/DRiq6ZgTQECvsjij3RNAwFBNx1wiFEBB8udVFmcUQMKTguTPqxRAQzUdc4nwFEDE1rcBQzUVQEV4UpD8eRVAxhntHra+FUBGu4etbwMWQMdcIjwpSBZASP68yuKMFkDJn1dZnNEWQEpB8udVFhdAy+KMdg9bF0BMhCcFyZ8XQMwlwpOC5BdATcdcIjwpGEDOaPew9W0YQE8Kkj+vshhA0Ksszmj3GEBRTcdcIjwZQNLuYevbgBlAUpD8eZXFGUDTMZcITwoaQFTTMZcITxpA1XTMJcKTGkBWFme0e9gaQNe3AUM1HRtAWFmc0e5hG0DZ+jZgqKYbQFmc0e5h6xtA2j1sfRswHEBb3wYM1XQcQNyAoZqOuRxAXSI8KUj+HEDew9a3AUMdQF9lcUa7hx1A3wYM1XTMHUBgqKZjLhEeQOFJQfLnVR5AYuvbgKGaHkDjjHYPW98eQGQuEZ4UJB9A5c+rLM5oH0BlcUa7h60fQOYS4UlB8h9ANNo9bH0bIED0Kosz2j0gQLR72Po2YCBAdcwlwpOCIEA1HXOJ8KQgQPZtwFBNxyBAtr4NGKrpIEB3D1vfBgwhQDdgqKZjLiFA97D1bcBQIUC4AUM1HXMhQHhSkPx5lSFAOaPdw9a3IUD58yqLM9ohQLpEeFKQ/CFAepXFGe0eIkA65hLhSUEiQPs2YKimYyJAu4etbwOGIkB82Po2YKgiQDwpSP68yiJA/XmVxRntIkC9yuKMdg8jQH0bMFTTMSNAPmx9GzBUI0D+vMrijHYjQL8NGKrpmCNAf15lcUa7I0BAr7I4o90jQAAAAAAAACRA",
        "encoding": "base64",
        "path": [
         "x",
         "value"
        ]
       },
       {
        "data": "tO7dTL3GUkALResmK4RSQEgIq+xF6lJAtBbgu2XaUkDV9noxWs1SQMWuNRKlQlNAKLcBT0xkU0DPImJcYWdTQMZDbzMeoFNAWKWvKVtlU0D6u9tnlN5TQBTJ+a8iklNAewyuX/VkU0CrA8LWepdTQOZa/bDIiVNAFNPdAbNcU0Dix6/rzpZTQKRzuAmHLVNAAQV6kSlgU0CheZwKmUZTQEhY38oVQlNA+WTNoUxRU0BAHGN+8vNSQOqcTxQAoVJAwmG5bLIBU0B7HlRgPzxTQOYyo0s3H1NA9qIiELYaU0AHLmHRhMFSQDD2cqXa5FJA+UOpaTIYU0Aoa3ArQUdTQI2e52UFcFNA/c7KQfetU0A7sdewKEZTQEN5cSwFhVNAwJOvePm6U0CA7HNBooJTQEMkFZdClVNA8ndJTVqmU0DySPg3JQBUQClUUeoP7lNA1FzjwyXtU0CUnhN6OMRTQAyKXUQOKFRAuVw/nmlSVEDi9LjyO1BUQHDj5JIvh1RAEK4uqEm8VEBW1qm/uJ1UQEE+a4Tqi1RApyXjKqk0VECO5xXlmD5UQEKI0AST71NAINTitXDxU0C2G+jYrvRTQFjzYsQvgVRAYQf11oxGVEBC+dRhnPBTQPM+Z8NRXlRATv47ubFyVECrMwqUrqpUQJJHYWYOZ1RAHjMfp0ZFVEDMn4RaAUVUQAZmhTEWclRAoLVXJ0CGVED5Aqq+wYtUQHo443zpY1RAHXg10z9rVEAcLGkVWoJUQPU4kjpyWlRACBLuKZJdVEC+Z0EBu9VUQDRIaRHB+1RA92JX35L/VECG6uRww+tUQPzZ0Sru0lRA7CBUypjMVEDcTKAZT/dUQDrzu0QTK1VApvxhy3VTVUBABz+XljtVQG/uFD2eC1VAQB3NvxMKVUDc/1PsNSFVQKpv+FAwyFRA5ajxe7rfVEBbwLd7VeJUQC3jKL2/8VRAHHcPuVHYVEBcMlSZhHtUQBW4WL+zVFRAQDsknxRwVEA9Rzw/vnJUQHUaozNc0FRAllHs0AvVVEC0e8sgXuhUQHkPunuwqVRAe4MllaPRVED6a2Yo+jtUQG62Q85MnVRAe1fLaHB3VEBHEuvKHqRUQCIETNQZoVRAJecHRHt5VEB2a8RL5VdUQOQ0hcOsd1RArD8sggFcVECQeUmrrFtUQB365tpEcFRAa1BTRMuvVEC05ZoPzrpUQPReYbzYjlRAGNl32HT6VEArQUXUbhpVQAutDZ7yDlVAc49cGiU4VUDxIlEINA9VQJTVrNYH21RAkIMsx2zqVEBS2xj7brlUQAGZpZKtiFRAcM1zDweEVEDiKHnQSdJUQJc5ZqHtFVVApJm+8DH4VEAkLO2kuKxUQCpr87x+d1RAqtmQrkf8VEDetplu9vFUQCFBA/LgAlVAmFDbtxr6VEChohSsjixVQASeBToAIVVAOh7fWq4JVUDrWpjmWrBUQFoIPFJ8uVRAJmWoxhaLVEDPtjTC1WdUQBze6bjTdFRA9l5spYWhVED8y/YScKNUQJMSyANWhlRAihm0Tl4/VEBkjPBGwgtUQBGK9FWX0VNAItUX3gy4U0A48lftQNxTQKZxFVngdVNA",
        "encoding": "base64",
        "path": [
         "y",
         "value"
        ]
       }
      ],
      "model_module": "bqplot",
      "model_module_version": "^0.5.3",
      "model_name": "LinesModel",
      "state": {
       "_model_module_version": "^0.5.3",
       "_view_module_version": "^0.5.3",
       "colors": [
        "green"
       ],
       "display_legend": true,
       "fill_colors": [],
       "labels": [
        "Security 2 squared"
       ],
       "scales": {
        "x": "IPY_MODEL_4eba90e9c5de4146b6a2fdee312c4ae4",
        "y": "IPY_MODEL_b80ae359193644dca5eb2e0f2cb4c0c2"
       },
       "x": {
        "dtype": "float64",
        "shape": [
         150
        ],
        "type": null
       },
       "y": {
        "dtype": "float64",
        "shape": [
         150
        ],
        "type": null
       }
      }
     },
     "1bff647fb0dd48468569ce0ab7b7b0fe": {
      "model_module": "@jupyter-widgets/controls",
      "model_module_version": "1.5.0",
      "model_name": "DescriptionStyleModel",
      "state": {
       "description_width": ""
      }
     },
     "1c404a89ab624837a07a52771b498efb": {
      "model_module": "bqplot",
      "model_module_version": "^0.5.3",
      "model_name": "LinearScaleModel",
      "state": {
       "_model_module_version": "^0.5.3",
       "_view_module_version": "^0.5.3",
       "allow_padding": false,
       "max": 1,
       "min": 0,
       "stabilized": false
      }
     },
     "1c8c7ed4a2c34f8ea9249c7283b94ba9": {
      "model_module": "@jupyter-widgets/base",
      "model_module_version": "1.2.0",
      "model_name": "LayoutModel",
      "state": {}
     },
     "1d4c7ff50018485098466e8ca6ae0660": {
      "buffers": [
       {
        "data": "AAAAAAAAAAA3YKimYy6xPzdgqKZjLsE/UpD8eZXFyT83YKimYy7RP0V4UpD8edU/UpD8eZXF2T9gqKZjLhHePzdgqKZjLuE/Pmx9GzBU4z9FeFKQ/HnlP0yEJwXJn+c/UpD8eZXF6T9ZnNHuYevrP2CopmMuEe4/NNo9bH0b8D83YKimYy7xPzrmEuFJQfI/Pmx9GzBU8z9B8udVFmf0P0V4UpD8efU/SP68yuKM9j9MhCcFyZ/3P08Kkj+vsvg/UpD8eZXF+T9WFme0e9j6P1mc0e5h6/s/XSI8KUj+/D9gqKZjLhH+P2QuEZ4UJP8/NNo9bH0bAEA1HXOJ8KQAQDdgqKZjLgFAOaPdw9a3AUA65hLhSUECQDwpSP68ygJAPmx9GzBUA0BAr7I4o90DQEHy51UWZwRAQzUdc4nwBEBFeFKQ/HkFQEa7h61vAwZASP68yuKMBkBKQfLnVRYHQEyEJwXJnwdATcdcIjwpCEBPCpI/r7IIQFFNx1wiPAlAUpD8eZXFCUBU0zGXCE8KQFYWZ7R72ApAWFmc0e5hC0BZnNHuYesLQFvfBgzVdAxAXSI8KUj+DEBfZXFGu4cNQGCopmMuEQ5AYuvbgKGaDkBkLhGeFCQPQGVxRruHrQ9ANNo9bH0bEEC0e9j6NmAQQDUdc4nwpBBAtr4NGKrpEEA3YKimYy4RQLgBQzUdcxFAOaPdw9a3EUC6RHhSkPwRQDrmEuFJQRJAu4etbwOGEkA8KUj+vMoSQL3K4ox2DxNAPmx9GzBUE0C/DRiq6ZgTQECvsjij3RNAwFBNx1wiFEBB8udVFmcUQMKTguTPqxRAQzUdc4nwFEDE1rcBQzUVQEV4UpD8eRVAxhntHra+FUBGu4etbwMWQMdcIjwpSBZASP68yuKMFkDJn1dZnNEWQEpB8udVFhdAy+KMdg9bF0BMhCcFyZ8XQMwlwpOC5BdATcdcIjwpGEDOaPew9W0YQE8Kkj+vshhA0Ksszmj3GEBRTcdcIjwZQNLuYevbgBlAUpD8eZXFGUDTMZcITwoaQFTTMZcITxpA1XTMJcKTGkBWFme0e9gaQNe3AUM1HRtAWFmc0e5hG0DZ+jZgqKYbQFmc0e5h6xtA2j1sfRswHEBb3wYM1XQcQNyAoZqOuRxAXSI8KUj+HEDew9a3AUMdQF9lcUa7hx1A3wYM1XTMHUBgqKZjLhEeQOFJQfLnVR5AYuvbgKGaHkDjjHYPW98eQGQuEZ4UJB9A5c+rLM5oH0BlcUa7h60fQOYS4UlB8h9ANNo9bH0bIED0Kosz2j0gQLR72Po2YCBAdcwlwpOCIEA1HXOJ8KQgQPZtwFBNxyBAtr4NGKrpIEB3D1vfBgwhQDdgqKZjLiFA97D1bcBQIUC4AUM1HXMhQHhSkPx5lSFAOaPdw9a3IUD58yqLM9ohQLpEeFKQ/CFAepXFGe0eIkA65hLhSUEiQPs2YKimYyJAu4etbwOGIkB82Po2YKgiQDwpSP68yiJA/XmVxRntIkC9yuKMdg8jQH0bMFTTMSNAPmx9GzBUI0D+vMrijHYjQL8NGKrpmCNAf15lcUa7I0BAr7I4o90jQAAAAAAAACRA",
        "encoding": "base64",
        "path": [
         "x",
         "value"
        ]
       },
       {
        "data": "WoiU/IUfOUBDumk0IOc4QAJPyZTTLjlA6+0yWGg2OUAUdELZDxk5QFpAaMDsVDlAe6Otam2DOUCJe14ZB6s5QFncswUQvjlAn4Q8RwKhOUA5+4rEaPU5QIDaYYe7vTlAupZNiLmqOUA0JHRFp8E5QP9AFmO33DlAqueqPhm8OUDcShdkuuc5QANj0jJ4mjlAmHw+O5HMOUCbX+TGU9I5QIor/9d0zTlAbAnv0InLOUAUZevkE3Y5QMBaGEtfNDlAAs0119t/OUA0000/Br05QEjzxcGrzjlAfVNKPoTYOUCQ3vZL6585QMvkDiu6oTlAA8idyCfLOUBkklmux+U5QO2VKmaxJDpAKRY2VSlPOkCF2N0ure45QNLRSOevNzpA6Xtg2F1xOkATwDEL1Ww6QA5Q+4W8gDpA7hhp5nCqOkARfLF+bP86QGO69LEc9jpAAMI5VF7aOkCBdI9X5J46QEKjohAi/zpAUOFejws1O0AjDwJvlSI7QAiIz71pQDtAT1UkuKddO0CJ9TmOEE47QAlzBVi4SjtAlpTIjCITO0AV6aUznhQ7QEYvTAIG3zpAVyUEaEr2OkBc1kk7Ct06QOar/83XMztAO7FiRUkFO0Dm0pp+sbo6QMRax+jpHjtAQf1VAdwpO0BGXl9WOlQ7QIzngbwDKDtApg71sXHqOkAum9p1iso6QIKV70ss3zpAzXOWyrvmOkDYnY6H3Ok6QGTtjRCkwTpA5x2pkTrQOkAbPCzJKOE6QAx39t4a2TpANP5ABIbhOkAShfzvDSA7QFLpUEXlQztAin03kRxQO0BRzsPlFkU7QPP/CwqqOztAHu1s36U6O0BLtnxjG1Y7QIB9fDG/TztAci8qSMpEO0Ans2HBnz47QLkPT9qsDztAheR9UX8AO0AuvEjW4Qs7QHkVCsKkzDpAMSBXprLaOkDP5BuxtuA6QJQMzJmO4DpATAap0MTBOkDD7eaTCmg6QNhI9vslYDpAFc6SbYBzOkBOPZeOi4c6QJQZCBv+wDpAoHTEXFeoOkDFV+PqQKY6QGgJZA6qejpATTDBB3CkOkBa70srJDE6QC5KcE7PlDpAHFH/Oi+JOkBsYEUu5K86QO8pEkk0jTpAEV5qiKqaOkBsqOs7oWc6QI80aR1OmTpAiD8ZJDx4OkDsVweHW1U6QGovMA/ZfTpAouIULIOfOkCImMLfgbI6QEsmQ6XRazpAlExZ/N+kOkCZqDaLmKw6QDTmGUFnnzpAN2/1fDPSOkA7RF5EpqI6QEF/PTYXjzpANrpJe7KMOkCaaoLI3lk6QExxGVy+IzpAOycYHM0YOkDqLT3aXzk6QPMmI55UiTpAGcKk+9psOkCTiBrgAzU6QDAObjCdFzpAr/wJTUx0OkAW6P3kgFs6QEVma3lXUTpAtAVgc0hLOkDkwUwT4nU6QDC7faiDWzpA4uHya9BBOkC/JPsiDRI6QJmJO9MFCTpAolTSOqDWOUAOaHHQAbM5QGX6fwecuzlAxJAoGI2/OUBF+/9NE7I5QKysNKZdsDlAaRweiEx2OUCju9PA7205QA1CqXCnNTlAGbR7vm5OOUBPELQ9XWs5QA34u6XbNDlA",
        "encoding": "base64",
        "path": [
         "y",
         "value"
        ]
       }
      ],
      "model_module": "bqplot",
      "model_module_version": "^0.5.3",
      "model_name": "LinesModel",
      "state": {
       "_model_module_version": "^0.5.3",
       "_view_module_version": "^0.5.3",
       "display_legend": true,
       "fill_colors": [],
       "labels": [
        "Security 1"
       ],
       "scales": {
        "x": "IPY_MODEL_227cddda0bd148f39b61a2b3d1def394",
        "y": "IPY_MODEL_b80ae359193644dca5eb2e0f2cb4c0c2"
       },
       "x": {
        "dtype": "float64",
        "shape": [
         150
        ],
        "type": null
       },
       "y": {
        "dtype": "float64",
        "shape": [
         150
        ],
        "type": null
       }
      }
     },
     "1dcb470ea38b472c923d64a710dca112": {
      "model_module": "bqplot",
      "model_module_version": "^0.5.10",
      "model_name": "AxisModel",
      "state": {
       "_model_module_version": "^0.5.10",
       "_view_module_version": "^0.5.10",
       "label": "Security 2",
       "orientation": "vertical",
       "scale": "IPY_MODEL_d2516729ccaa4e388c31a37d52e5667e",
       "side": "left",
       "tick_values": null
      }
     },
     "1e10d47443754750a44f93528d273dec": {
      "model_module": "bqplot",
      "model_module_version": "^0.5.10",
      "model_name": "AxisModel",
      "state": {
       "_model_module_version": "^0.5.10",
       "_view_module_version": "^0.5.10",
       "grid_lines": "none",
       "label": "Returns",
       "scale": "IPY_MODEL_b9e5a3ec74f9417480e14b3be70ea021",
       "side": "bottom",
       "tick_values": null
      }
     },
     "1e829d6e825644ddb1060ce0fbe7caa0": {
      "model_module": "@jupyter-widgets/base",
      "model_module_version": "1.2.0",
      "model_name": "LayoutModel",
      "state": {}
     },
     "1e8c0d7955da43fdb392f9543d5c26c0": {
      "model_module": "bqplot",
      "model_module_version": "^0.5.3",
      "model_name": "HandDrawModel",
      "state": {
       "_model_module_version": "^0.5.3",
       "_view_module_version": "^0.5.3",
       "lines": "IPY_MODEL_b721d7ed1e3c433fa4c5471e0d8e5bcf"
      }
     },
     "1e8eeb8b3fcd402284a510b1d3aefb56": {
      "model_module": "bqplot",
      "model_module_version": "^0.5.10",
      "model_name": "LinearScaleModel",
      "state": {
       "_model_module_version": "^0.5.10",
       "_view_module_version": "^0.5.10",
       "allow_padding": false,
       "max": 1,
       "min": 0,
       "stabilized": false
      }
     },
     "1f4c70d3f7ed4bc3b3ef0322205c4b5b": {
      "model_module": "@jupyter-widgets/base",
      "model_module_version": "1.2.0",
      "model_name": "LayoutModel",
      "state": {}
     },
     "1f825b8e8a684faa82e110be0196d5ba": {
      "model_module": "bqplot",
      "model_module_version": "^0.5.10",
      "model_name": "FigureModel",
      "state": {
       "_model_module_version": "^0.5.10",
       "_view_module_version": "^0.5.10",
       "axes": [
        "IPY_MODEL_a77a5e562bba4674b7814ae9fe27e565",
        "IPY_MODEL_b327e84f5ef34534845429e1d2fca4e6"
       ],
       "interaction": "IPY_MODEL_346884e391e54e818ea7ee37686ebf82",
       "layout": "IPY_MODEL_a416ad066953405aa29a36e378c7654f",
       "marks": [
        "IPY_MODEL_5fb41bb99de6411a975f8c4b32954646"
       ],
       "scale_x": "IPY_MODEL_bf846558517141d3bfc1695251dd4166",
       "scale_y": "IPY_MODEL_3a47a4c4589b4de6be6cc3831a4121a2"
      }
     },
     "1f8793e420c24daaa15ffeaf92225477": {
      "model_module": "@jupyter-widgets/base",
      "model_module_version": "1.2.0",
      "model_name": "LayoutModel",
      "state": {}
     },
     "1f9df3539eaa4c6e848bb08bd9853a1a": {
      "model_module": "@jupyter-widgets/controls",
      "model_module_version": "1.5.0",
      "model_name": "DescriptionStyleModel",
      "state": {
       "description_width": ""
      }
     },
     "1fdca9fad0ec486794c75a7330d6033c": {
      "model_module": "bqplot",
      "model_module_version": "^0.5.3",
      "model_name": "AxisModel",
      "state": {
       "_model_module_version": "^0.5.3",
       "_view_module_version": "^0.5.3",
       "label": "Security 1 Price",
       "orientation": "vertical",
       "scale": "IPY_MODEL_d1ace1d3268e426c9bd8696dcac74ebb",
       "side": "left",
       "tick_values": null
      }
     },
     "201c392b5b37461d9cfae5b9735ad8dd": {
      "model_module": "@jupyter-widgets/controls",
      "model_module_version": "1.5.0",
      "model_name": "VBoxModel",
      "state": {
       "children": [
        "IPY_MODEL_3a143f5816f049808025d315f03b4e39",
        "IPY_MODEL_7e7ada98b76148e3909294edf159ccfe"
       ],
       "layout": "IPY_MODEL_56df05e0b83c4ca4b164be16e9683fdd"
      }
     },
     "20579d6dde614944b42870a784db5e13": {
      "model_module": "@jupyter-widgets/controls",
      "model_module_version": "1.5.0",
      "model_name": "DescriptionStyleModel",
      "state": {
       "description_width": ""
      }
     },
     "205c281503714b77825a341f55f228e6": {
      "model_module": "bqplot",
      "model_module_version": "^0.5.10",
      "model_name": "FigureModel",
      "state": {
       "_model_module_version": "^0.5.10",
       "_view_module_version": "^0.5.10",
       "axes": [
        "IPY_MODEL_eb96886cea6b438ead6fde6512698675",
        "IPY_MODEL_0e8fd935349f433fb9b4011b0b290aa6",
        "IPY_MODEL_a55828aebb7349589a5fefe2ee133400"
       ],
       "interaction": "IPY_MODEL_0a839d1b2235495ea0ed04e646a01be1",
       "layout": "IPY_MODEL_b21e5366b1954cc5a38b78efe100eba7",
       "marks": [
        "IPY_MODEL_54a4cc5a4f7541a6b27849a6b9dc2a0a",
        "IPY_MODEL_793f6ff6ead346618ebc9f4b11dd3403",
        "IPY_MODEL_bf1a632de8544189a5a47400058275ad"
       ],
       "scale_x": "IPY_MODEL_9890e25d8c504d639b00961e18487075",
       "scale_y": "IPY_MODEL_f0582d0ab48c4476824ac355d098fa40"
      }
     },
     "2062bb59d1f74a11929c2d7c7dd3c1ef": {
      "model_module": "bqplot",
      "model_module_version": "^0.5",
      "model_name": "HandDrawModel",
      "state": {
       "_model_module_version": "^0.5",
       "_view_module_version": "^0.5",
       "lines": "IPY_MODEL_0a5b7c33262e41fdafc23f2256db8fc5"
      }
     },
     "20e1b20b01c34ba98e81f29073693c0c": {
      "model_module": "@jupyter-widgets/base",
      "model_module_version": "1.2.0",
      "model_name": "LayoutModel",
      "state": {}
     },
     "20ed2d955c4e4ad2a3e01f3ea6b79326": {
      "model_module": "bqplot",
      "model_module_version": "^0.5.3",
      "model_name": "LinearScaleModel",
      "state": {
       "_model_module_version": "^0.5.3",
       "_view_module_version": "^0.5.3",
       "stabilized": false
      }
     },
     "210220f4b9c2410184888e310ee18553": {
      "model_module": "bqplot",
      "model_module_version": "^0.5.10",
      "model_name": "FigureModel",
      "state": {
       "_model_module_version": "^0.5.10",
       "_view_module_version": "^0.5.10",
       "axes": [
        "IPY_MODEL_0c93eea864554514835d718019631fa7",
        "IPY_MODEL_f374bdfbcc4f44269278f47313931984"
       ],
       "interaction": "IPY_MODEL_6df84270a7f74bc9b2617c5fe98f590d",
       "layout": "IPY_MODEL_24c3128710074e15b35d752a324c7717",
       "marks": [
        "IPY_MODEL_10b06a0e7e9e4f988a1a7ad8e9e22585"
       ],
       "scale_x": "IPY_MODEL_1e8eeb8b3fcd402284a510b1d3aefb56",
       "scale_y": "IPY_MODEL_91011b10ca0e4bc58431bd80329b87f8"
      }
     },
     "210c8d1daf7b443ebb610fcc3649e066": {
      "model_module": "bqplot",
      "model_module_version": "^0.5",
      "model_name": "LinearScaleModel",
      "state": {
       "_model_module_version": "^0.5",
       "_view_module_version": "^0.5",
       "stabilized": false
      }
     },
     "215f5951959f4cd3803d7167ef5710a9": {
      "model_module": "bqplot",
      "model_module_version": "^0.5",
      "model_name": "LinearScaleModel",
      "state": {
       "_model_module_version": "^0.5",
       "_view_module_version": "^0.5",
       "allow_padding": false,
       "max": 1,
       "min": 0,
       "stabilized": false
      }
     },
     "21775ab3cd044781959dc71588c31454": {
      "model_module": "bqplot",
      "model_module_version": "^0.5",
      "model_name": "BrushSelectorModel",
      "state": {
       "_model_module_version": "^0.5",
       "_view_module_version": "^0.5",
       "marks": [
        "IPY_MODEL_5e64dc3da2034c5e9236416019b457c5"
       ],
       "x_scale": "IPY_MODEL_9325cefa277f4a2c9ad133db99c26c2a",
       "y_scale": "IPY_MODEL_eabbf710806d4363aedea281bbd2fe3e"
      }
     },
     "21ae1bfb03fb42a68c6ca4941e68cc1a": {
      "model_module": "bqplot",
      "model_module_version": "^0.5.3",
      "model_name": "LinearScaleModel",
      "state": {
       "_model_module_version": "^0.5.3",
       "_view_module_version": "^0.5.3",
       "allow_padding": false,
       "max": 1,
       "min": 0,
       "stabilized": false
      }
     },
     "21dfb89950b54704a834c88423ab3ac2": {
      "model_module": "@jupyter-widgets/base",
      "model_module_version": "1.2.0",
      "model_name": "LayoutModel",
      "state": {}
     },
     "22259dcf956b4627ad51b119e310cfa8": {
      "model_module": "bqplot",
      "model_module_version": "^0.5",
      "model_name": "LinearScaleModel",
      "state": {
       "_model_module_version": "^0.5",
       "_view_module_version": "^0.5",
       "allow_padding": false,
       "max": 1,
       "min": 0,
       "stabilized": false
      }
     },
     "227cddda0bd148f39b61a2b3d1def394": {
      "model_module": "bqplot",
      "model_module_version": "^0.5.3",
      "model_name": "LinearScaleModel",
      "state": {
       "_model_module_version": "^0.5.3",
       "_view_module_version": "^0.5.3",
       "stabilized": false
      }
     },
     "22c03648b28148e1ac87f1b1d0e4e2eb": {
      "model_module": "bqplot",
      "model_module_version": "^0.5.3",
      "model_name": "AxisModel",
      "state": {
       "_model_module_version": "^0.5.3",
       "_view_module_version": "^0.5.3",
       "label": "X",
       "scale": "IPY_MODEL_3e14b18e83d844268bfaa6527ab6f694",
       "side": "bottom",
       "tick_values": null
      }
     },
     "2394a5b4ad8d4460a605a4c5cdec9df7": {
      "model_module": "bqplot",
      "model_module_version": "^0.5.10",
      "model_name": "AxisModel",
      "state": {
       "_model_module_version": "^0.5.10",
       "_view_module_version": "^0.5.10",
       "label": "Security 2",
       "orientation": "vertical",
       "scale": "IPY_MODEL_b6a3797824914dc192f42b3aadb59aa0",
       "side": "left",
       "tick_values": null
      }
     },
     "239cc07e926e4dd79725dad7b9dd3535": {
      "buffers": [
       {
        "data": "AACASa/9cEIAAECvAf5wQgAAABVU/nBCAADAeqb+cEIAAIDg+P5wQgAAQEZL/3BCAAAArJ3/cEIAAMAR8P9wQgAAgHdCAHFCAABA3ZQAcUIAAABD5wBxQgAAwKg5AXFCAACADowBcUIAAEB03gFxQgAAANowAnFCAADAP4MCcUIAAICl1QJxQgAAQAsoA3FCAAAAcXoDcUIAAMDWzANxQgAAgDwfBHFCAABAonEEcUIAAAAIxARxQgAAwG0WBXFCAACA02gFcUIAAEA5uwVxQgAAAJ8NBnFCAADABGAGcUIAAIBqsgZxQgAAQNAEB3FCAAAANlcHcUIAAMCbqQdxQgAAgAH8B3FCAABAZ04IcUIAAADNoAhxQgAAwDLzCHFCAACAmEUJcUIAAED+lwlxQgAAAGTqCXFCAADAyTwKcUIAAIAvjwpxQgAAQJXhCnFCAAAA+zMLcUIAAMBghgtxQgAAgMbYC3FCAABALCsMcUIAAACSfQxxQgAAwPfPDHFCAACAXSINcUIAAEDDdA1xQgAAACnHDXFCAADAjhkOcUIAAID0aw5xQgAAQFq+DnFCAAAAwBAPcUIAAMAlYw9xQgAAgIu1D3FCAABA8QcQcUIAAABXWhBxQgAAwLysEHFCAACAIv8QcUIAAECIURFxQgAAAO6jEXFCAADAU/YRcUIAAIC5SBJxQgAAQB+bEnFCAAAAhe0ScUIAAMDqPxNxQgAAgFCSE3FCAABAtuQTcUIAAAAcNxRxQgAAwIGJFHFCAACA59sUcUIAAEBNLhVxQgAAALOAFXFCAADAGNMVcUIAAIB+JRZxQgAAQOR3FnFCAAAASsoWcUIAAMCvHBdxQgAAgBVvF3FCAABAe8EXcUIAAADhExhxQgAAwEZmGHFCAACArLgYcUIAAEASCxlxQgAAAHhdGXFCAADA3a8ZcUIAAIBDAhpxQgAAQKlUGnFCAAAAD6cacUIAAMB0+RpxQgAAgNpLG3FCAABAQJ4bcUIAAACm8BtxQgAAwAtDHHFCAACAcZUccUIAAEDX5xxxQgAAAD06HXFCAADAoowdcUIAAIAI3x1xQgAAQG4xHnFCAAAA1IMecUIAAMA51h5xQgAAgJ8oH3FCAABABXsfcUIAAABrzR9xQgAAwNAfIHFCAACANnIgcUIAAECcxCBxQgAAAAIXIXFCAADAZ2khcUIAAIDNuyFxQgAAQDMOInFCAAAAmWAicUIAAMD+siJxQgAAgGQFI3FCAABAylcjcUIAAAAwqiNxQgAAwJX8I3FCAACA+04kcUIAAEBhoSRxQgAAAMfzJHFCAADALEYlcUIAAICSmCVxQgAAQPjqJXFCAAAAXj0mcUIAAMDDjyZxQgAAgCniJnFCAABAjzQncUIAAAD1hidxQgAAwFrZJ3FCAACAwCsocUIAAEAmfihxQgAAAIzQKHFCAADA8SIpcUIAAIBXdSlxQgAAQL3HKXFCAAAAIxoqcUIAAMCIbCpxQgAAgO6+KnFCAABAVBErcUIAAAC6YytxQgAAwB+2K3FCAACAhQgscUIAAEDrWixxQgAAAFGtLHFCAADAtv8scUIAAIAcUi1xQgAAQIKkLXFC",
        "encoding": "base64",
        "path": [
         "x",
         "value"
        ]
       },
       {
        "data": "ZJFdPFfbWEDts2hJF5tYQFaLygJpTFhASVWqf5YoWECnr3iXkxJYQORsrP8LBVhA6mA81pgKWEDE20OS+g9YQKbD/XpHFFhAzfpQN8YTWEA8yRc1U/1XQKJ2yMou3VdAAwf1BTzjV0AqMk2/xK1XQOmgmxYHk1dAV1kHMYhiV0Bs+D6ElXNXQAV0qKWkP1dA9xUu2DlNV0DwWlPlk3lXQKJkDXZ6eFdA2Tk5v+6BV0BrUkicfYdXQOHFf0ipnFdA5cYWnXmQV0AWgV5rjZhXQFWwbv5lnldAMfcwbahqV0CCod83tj5XQKLKOrcWTFdAsO5basx4V0AHL5gI93tXQFJUA3KPoFdAJq8b0l7oV0Cuhf3qig1YQE6+FtvZVlhAr2vjaogwWEB5f1edR9lXQGTZRDGV3FdAqRkxa2INWEDWJQxYRjlYQERfP8McFVhARfd1F+oRWEDIIffMAwhYQELNdYh4KlhASFsFIroGWEABpRJMsjZYQOONjK8JV1hA4PTQsYS4WEBrQmRPUqlYQDlNmgpf9lhAJbSn+WlYWUCdK0KEjKpZQHfyg0Sh6VlARXWqHo4dWkDi6A+aPQFaQC+Fo51QrFlABBxfyaPKWUAl9vZv+LdZQPvlM6SL41lAfeFMucv9WUCEdX33cTBaQHJN+OoAMVpAnYBsYBtDWkCidkDuI21aQBr5vjHGNFpA37jzUT04WkAdmefg7D5aQBJfsw62TVpATiM9dc5iWkDa33woM2ZaQLr+iMyQV1pAzZy9H2E2WkBkzD7uRjhaQLeAv6FlI1pAvCyFswHqWUDOklwptCFaQJsmPZPsAVpAIH/ieMwJWkBhJFFXPhdaQEpVFyz8HVpAm2iAhu7cWUA/nYgDGrpZQDolH6L9hFlAcXbVVSaDWUB+o5Pmg65ZQFRx7j+NDVpAchhSHPUIWkCQlAgwMfVZQMG/Zttx01lA/CYlq9/mWUAcMAwCAtZZQDIS40sUwllAPnedjKylWUBCpBrb6Y9ZQD6P7R7pjFlAvFPQGsTAWUBIezHi0NdZQMMMMUZqlFlADaAKluKmWUAlwWfkX19ZQLecaP1NZVlAJuLBG5hHWUBlIUFt+H9ZQLowkz60rVlAOeGhAFyWWUCcVZiJ4aJZQERuq1CRgFlAxI2Wd2aeWUAzug6PgFFZQHNru9zxLllAsR9UEtzXWEAOwYusBhNZQPWZKGg0JFlApeLpbyybWUDZOqK1fmpZQJIRqzW791lAcp9ngvJOWkASv7mjuHxaQLkVWMf9p1pAj1p7ivVwWkCnRztrG4taQO8YoCt3aVpAUKpczSUvWkC88gbz1DNaQHY/UNbScFpAR8q/Uw02WkBcz0Smvy9aQO+uiC3fMlpA0dTigcoAWkCLfI7tDq5ZQGeZ5WSbjVlAZtT3SHeoWUDxnjX8BIVZQPoo9w1LpllA2F5o1BB+WUDAwAHw4UZZQO1+UYKjGllAZrxdywoSWUAAd52MKv1YQI0tT3bU+VhAMPdiSs++WEClER3R8upYQLHAlNJi61hAwWcrt5n8WEAF1IPnqE1ZQP71+7JOdVlAjISuL1mWWUDDkszPo2BZQA5ciEnsaFlA",
        "encoding": "base64",
        "path": [
         "y",
         "value"
        ]
       }
      ],
      "model_module": "bqplot",
      "model_module_version": "^0.5",
      "model_name": "LinesModel",
      "state": {
       "_model_module_version": "^0.5",
       "_view_module_version": "^0.5",
       "fill_colors": [],
       "labels": [
        "C1"
       ],
       "scales": {
        "x": "IPY_MODEL_4254bcfb1b4a483ab62c8d8473d7456c",
        "y": "IPY_MODEL_106b8771479040048221ad0f5cb511c0"
       },
       "x": {
        "dtype": "float64",
        "shape": [
         150
        ],
        "type": "date"
       },
       "y": {
        "dtype": "float64",
        "shape": [
         150
        ],
        "type": null
       }
      }
     },
     "241bab2aed794794a13ce1e93723aa9c": {
      "model_module": "bqplot",
      "model_module_version": "^0.5.10",
      "model_name": "FigureModel",
      "state": {
       "_model_module_version": "^0.5.10",
       "_view_module_version": "^0.5.10",
       "axes": [
        "IPY_MODEL_1e10d47443754750a44f93528d273dec",
        "IPY_MODEL_5e1428aefe774e6aa992fe156169c07c"
       ],
       "interaction": "IPY_MODEL_03431295391240318e1f100f1fea0e7c",
       "layout": "IPY_MODEL_61b8922c50854e29b7e020882267a987",
       "marks": [
        "IPY_MODEL_cdffef3496d84c009f7014fb8a207efa"
       ],
       "scale_x": "IPY_MODEL_1057e3baf88b437888df698a3815e1b9",
       "scale_y": "IPY_MODEL_a57a42cef2d64f5190cd143996dd8a94",
       "title": "Multi-Selector with Date Example"
      }
     },
     "24c3128710074e15b35d752a324c7717": {
      "model_module": "@jupyter-widgets/base",
      "model_module_version": "1.2.0",
      "model_name": "LayoutModel",
      "state": {}
     },
     "255a47c0e5cd4beb9988dd53127c4952": {
      "model_module": "@jupyter-widgets/controls",
      "model_module_version": "1.5.0",
      "model_name": "HTMLModel",
      "state": {
       "layout": "IPY_MODEL_e803bf8797e64be28ba4c64567f87fac",
       "style": "IPY_MODEL_3b8681fb34cc4716bb5261d2d6fbd5fe",
       "value": "{}"
      }
     },
     "2573a6b82555448aacf29d38add61ddf": {
      "model_module": "@jupyter-widgets/base",
      "model_module_version": "1.2.0",
      "model_name": "LayoutModel",
      "state": {}
     },
     "2614995fcc4042de838e4602e09db89e": {
      "model_module": "bqplot",
      "model_module_version": "^0.5.10",
      "model_name": "FigureModel",
      "state": {
       "_model_module_version": "^0.5.10",
       "_view_module_version": "^0.5.10",
       "axes": [
        "IPY_MODEL_05ee0c46393d4b568e4ae12a5c871941",
        "IPY_MODEL_1dcb470ea38b472c923d64a710dca112"
       ],
       "interaction": "IPY_MODEL_b0e2a78f9bde487c9284c2de85e9e321",
       "layout": "IPY_MODEL_f1ed770e81f04f51b07489db1106a8f1",
       "marks": [
        "IPY_MODEL_7ba6d111efb34a8c964e8163e88d9129"
       ],
       "scale_x": "IPY_MODEL_c2c0e901223f4575847b41bc56caf0e8",
       "scale_y": "IPY_MODEL_353ab9bcb22146599efd55a8ba59827c",
       "title": "Scatter Chart Brush Selector Example"
      }
     },
     "262c1f64f61a4d20934cd22766718cfc": {
      "model_module": "bqplot",
      "model_module_version": "^0.5",
      "model_name": "LinearScaleModel",
      "state": {
       "_model_module_version": "^0.5",
       "_view_module_version": "^0.5",
       "allow_padding": false,
       "max": 1,
       "min": 0,
       "stabilized": false
      }
     },
     "2681060cd06f4b45bf8c5862baea6b6f": {
      "model_module": "bqplot",
      "model_module_version": "^0.5.3",
      "model_name": "LinearScaleModel",
      "state": {
       "_model_module_version": "^0.5.3",
       "_view_module_version": "^0.5.3",
       "allow_padding": false,
       "max": 1,
       "min": 0,
       "stabilized": false
      }
     },
     "26c8f8e258104e30a5dd30986997316d": {
      "model_module": "bqplot",
      "model_module_version": "^0.5.3",
      "model_name": "DateScaleModel",
      "state": {
       "_model_module_version": "^0.5.3",
       "_view_module_version": "^0.5.3",
       "min": "2007-01-01T00:00:00.000000"
      }
     },
     "26e6ce810d4e4de7b37d1636cbc06b54": {
      "model_module": "@jupyter-widgets/base",
      "model_module_version": "1.2.0",
      "model_name": "LayoutModel",
      "state": {}
     },
     "2714b759163a4c4a8b8692c3097a6d23": {
      "model_module": "bqplot",
      "model_module_version": "^0.5.10",
      "model_name": "FigureModel",
      "state": {
       "_model_module_version": "^0.5.10",
       "_view_module_version": "^0.5.10",
       "axes": [
        "IPY_MODEL_8f0405f94ac44e6dbb3343d0c02712f7",
        "IPY_MODEL_66a06384640a48c3b8f2c3831d010229"
       ],
       "interaction": "IPY_MODEL_fbb1cd379e3e4a2a84179e054de95487",
       "layout": "IPY_MODEL_20e1b20b01c34ba98e81f29073693c0c",
       "marks": [
        "IPY_MODEL_9ef09bbadc154ff3aaecbfce767553d2",
        "IPY_MODEL_cdc65ba27c11475485eb19d89d33787b"
       ],
       "scale_x": "IPY_MODEL_c22d46c87e314047b3b6cba0c66e873b",
       "scale_y": "IPY_MODEL_d4c350ff2f1c42a3962c4b0572660688",
       "title": "Index Selector Example"
      }
     },
     "2749b0d8996e41d780c62ba7cc457a3b": {
      "model_module": "bqplot",
      "model_module_version": "^0.5.3",
      "model_name": "DateScaleModel",
      "state": {
       "_model_module_version": "^0.5.3",
       "_view_module_version": "^0.5.3",
       "min": "2007-01-01T00:00:00.000000"
      }
     },
     "274cb2c6c2344b4bb215363f35d0ba53": {
      "model_module": "bqplot",
      "model_module_version": "^0.5",
      "model_name": "PanZoomModel",
      "state": {
       "_model_module_version": "^0.5",
       "_view_module_version": "^0.5",
       "scales": {
        "x": [
         "IPY_MODEL_fd564f48c10d44b3901f35cd009e2bed"
        ],
        "y": [
         "IPY_MODEL_c0ca45d131e04efebb0335fa5cac778a"
        ]
       }
      }
     },
     "27a9b4de4eef4586939a431c40355cc1": {
      "model_module": "bqplot",
      "model_module_version": "^0.5.3",
      "model_name": "LinearScaleModel",
      "state": {
       "_model_module_version": "^0.5.3",
       "_view_module_version": "^0.5.3",
       "allow_padding": false,
       "max": 1,
       "min": 0,
       "stabilized": false
      }
     },
     "2899910010824ca99ca39a5979f55637": {
      "model_module": "@jupyter-widgets/base",
      "model_module_version": "1.2.0",
      "model_name": "LayoutModel",
      "state": {}
     },
     "28b845bec2a2455d99356e948570237a": {
      "model_module": "bqplot",
      "model_module_version": "^0.5.3",
      "model_name": "MultiSelectorModel",
      "state": {
       "_model_module_version": "^0.5.3",
       "_view_module_version": "^0.5.3",
       "color": null,
       "marks": [
        "IPY_MODEL_1d4c7ff50018485098466e8ca6ae0660",
        "IPY_MODEL_d670a57487a349019d117e15f6067f0b"
       ],
       "orientation": "horizontal",
       "scale": "IPY_MODEL_2749b0d8996e41d780c62ba7cc457a3b"
      }
     },
     "28b9566bcafc4c5d9a8f732acec010dc": {
      "model_module": "@jupyter-widgets/base",
      "model_module_version": "1.2.0",
      "model_name": "LayoutModel",
      "state": {}
     },
     "28cb6261a3614bbc8efd0ed83ebd3566": {
      "model_module": "@jupyter-widgets/controls",
      "model_module_version": "1.5.0",
      "model_name": "DescriptionStyleModel",
      "state": {
       "description_width": ""
      }
     },
     "28ffcee0b3994ba0b10c22450696bd27": {
      "model_module": "@jupyter-widgets/controls",
      "model_module_version": "1.5.0",
      "model_name": "DescriptionStyleModel",
      "state": {
       "description_width": ""
      }
     },
     "29aab346a3ff413ea02e1a3338798ec3": {
      "model_module": "bqplot",
      "model_module_version": "^0.5.3",
      "model_name": "LinearScaleModel",
      "state": {
       "_model_module_version": "^0.5.3",
       "_view_module_version": "^0.5.3",
       "stabilized": false
      }
     },
     "29ca4a3ceb174f318f676bc8d4d17b94": {
      "model_module": "@jupyter-widgets/controls",
      "model_module_version": "1.5.0",
      "model_name": "HTMLModel",
      "state": {
       "layout": "IPY_MODEL_9b5524e0a6fb42d5a42085cfc3f56113",
       "style": "IPY_MODEL_8165c38d55ab454fab034971204059cc",
       "value": "[]"
      }
     },
     "2a1a9a94e08343b48e18d416d0cf6b1d": {
      "model_module": "bqplot",
      "model_module_version": "^0.5.3",
      "model_name": "LinearScaleModel",
      "state": {
       "_model_module_version": "^0.5.3",
       "_view_module_version": "^0.5.3",
       "stabilized": false
      }
     },
     "2adc7c933cc3434ab0374a248e6251a7": {
      "model_module": "bqplot",
      "model_module_version": "^0.5.10",
      "model_name": "AxisModel",
      "state": {
       "_model_module_version": "^0.5.10",
       "_view_module_version": "^0.5.10",
       "grid_lines": "none",
       "label": "Returns",
       "scale": "IPY_MODEL_45b0ad85db3a4deea92f405f3a003164",
       "side": "bottom",
       "tick_values": null
      }
     },
     "2b1412def8474dca9e69ab15b4f4109f": {
      "model_module": "bqplot",
      "model_module_version": "^0.5",
      "model_name": "FastIntervalSelectorModel",
      "state": {
       "_model_module_version": "^0.5",
       "_view_module_version": "^0.5",
       "marks": [
        "IPY_MODEL_9f4a4adc5ad34dbe99516b9cf0b7b1b1"
       ],
       "scale": "IPY_MODEL_fbedfa4a17a84ca2bf0177c96efd6caa"
      }
     },
     "2b7299f751344c41987999c2eeff1fe7": {
      "model_module": "bqplot",
      "model_module_version": "^0.5.10",
      "model_name": "LinearScaleModel",
      "state": {
       "_model_module_version": "^0.5.10",
       "_view_module_version": "^0.5.10",
       "max": 10,
       "min": 5,
       "stabilized": false
      }
     },
     "2b888d31d683490d9d8d5c18280ae34f": {
      "model_module": "bqplot",
      "model_module_version": "^0.5",
      "model_name": "AxisModel",
      "state": {
       "_model_module_version": "^0.5",
       "_view_module_version": "^0.5",
       "grid_lines": "none",
       "label": "Time",
       "scale": "IPY_MODEL_be0a031081e448f9a11ee25f55ac28cd",
       "side": "top",
       "tick_labels": {},
       "tick_values": null
      }
     },
     "2b917d486e8145a2b4fd80c07935b824": {
      "model_module": "bqplot",
      "model_module_version": "^0.5",
      "model_name": "LinearScaleModel",
      "state": {
       "_model_module_version": "^0.5",
       "_view_module_version": "^0.5",
       "allow_padding": false,
       "max": 1,
       "min": 0,
       "stabilized": false
      }
     },
     "2bc0299a83144426839de5a43b9a7eca": {
      "model_module": "bqplot",
      "model_module_version": "^0.5.3",
      "model_name": "PanZoomModel",
      "state": {
       "_model_module_version": "^0.5.3",
       "_view_module_version": "^0.5.3",
       "scales": {
        "x": [
         "IPY_MODEL_2749b0d8996e41d780c62ba7cc457a3b"
        ],
        "y": [
         "IPY_MODEL_b80ae359193644dca5eb2e0f2cb4c0c2"
        ]
       }
      }
     },
     "2c6b74c94bc448ed81edbc0cf12e047c": {
      "model_module": "@jupyter-widgets/base",
      "model_module_version": "1.2.0",
      "model_name": "LayoutModel",
      "state": {}
     },
     "2c95ecf532f44f67b9beb34d9009d4b6": {
      "model_module": "bqplot",
      "model_module_version": "^0.5.10",
      "model_name": "LinearScaleModel",
      "state": {
       "_model_module_version": "^0.5.10",
       "_view_module_version": "^0.5.10",
       "allow_padding": false,
       "max": 1,
       "min": 0,
       "stabilized": false
      }
     },
     "2cd614a78f1342b8aabc81d692f56baa": {
      "model_module": "bqplot",
      "model_module_version": "^0.5.3",
      "model_name": "BrushSelectorModel",
      "state": {
       "_model_module_version": "^0.5.3",
       "_view_module_version": "^0.5.3",
       "marks": [
        "IPY_MODEL_513415bf9c944854bb9199a5f2a3bf57"
       ],
       "x_scale": "IPY_MODEL_00f6aee200444cee86e5a9b7f346c49e",
       "y_scale": "IPY_MODEL_cd9dd453ef134a6a8462d053a83dab4e"
      }
     },
     "2d7f55a4fa2f4c5796dd7e9d07c12429": {
      "model_module": "bqplot",
      "model_module_version": "^0.5.10",
      "model_name": "LinearScaleModel",
      "state": {
       "_model_module_version": "^0.5.10",
       "_view_module_version": "^0.5.10",
       "stabilized": false
      }
     },
     "2e0944e3a137429da45ba376f5090f09": {
      "model_module": "bqplot",
      "model_module_version": "^0.5",
      "model_name": "HandDrawModel",
      "state": {
       "_model_module_version": "^0.5",
       "_view_module_version": "^0.5",
       "lines": "IPY_MODEL_bfcb14123037401f81aca1f4a52a33cf"
      }
     },
     "2efb1775ecc24c9d856920fd6aa9b5b8": {
      "model_module": "@jupyter-widgets/base",
      "model_module_version": "1.2.0",
      "model_name": "LayoutModel",
      "state": {}
     },
     "2f4a1d408945489e8dc16da0f0acc1c6": {
      "model_module": "@jupyter-widgets/controls",
      "model_module_version": "1.5.0",
      "model_name": "HTMLModel",
      "state": {
       "layout": "IPY_MODEL_4bd5657c24f84159816b66cb0052db3e",
       "style": "IPY_MODEL_4fcebe85f32e4d968de78509dff92973",
       "value": "None"
      }
     },
     "2f7f20ca452d4ed293594648d1258bcf": {
      "buffers": [
       {
        "data": "AAAAAAAAAAA3YKimYy6xPzdgqKZjLsE/UpD8eZXFyT83YKimYy7RP0V4UpD8edU/UpD8eZXF2T9gqKZjLhHePzdgqKZjLuE/Pmx9GzBU4z9FeFKQ/HnlP0yEJwXJn+c/UpD8eZXF6T9ZnNHuYevrP2CopmMuEe4/NNo9bH0b8D83YKimYy7xPzrmEuFJQfI/Pmx9GzBU8z9B8udVFmf0P0V4UpD8efU/SP68yuKM9j9MhCcFyZ/3P08Kkj+vsvg/UpD8eZXF+T9WFme0e9j6P1mc0e5h6/s/XSI8KUj+/D9gqKZjLhH+P2QuEZ4UJP8/NNo9bH0bAEA1HXOJ8KQAQDdgqKZjLgFAOaPdw9a3AUA65hLhSUECQDwpSP68ygJAPmx9GzBUA0BAr7I4o90DQEHy51UWZwRAQzUdc4nwBEBFeFKQ/HkFQEa7h61vAwZASP68yuKMBkBKQfLnVRYHQEyEJwXJnwdATcdcIjwpCEBPCpI/r7IIQFFNx1wiPAlAUpD8eZXFCUBU0zGXCE8KQFYWZ7R72ApAWFmc0e5hC0BZnNHuYesLQFvfBgzVdAxAXSI8KUj+DEBfZXFGu4cNQGCopmMuEQ5AYuvbgKGaDkBkLhGeFCQPQGVxRruHrQ9ANNo9bH0bEEC0e9j6NmAQQDUdc4nwpBBAtr4NGKrpEEA3YKimYy4RQLgBQzUdcxFAOaPdw9a3EUC6RHhSkPwRQDrmEuFJQRJAu4etbwOGEkA8KUj+vMoSQL3K4ox2DxNAPmx9GzBUE0C/DRiq6ZgTQECvsjij3RNAwFBNx1wiFEBB8udVFmcUQMKTguTPqxRAQzUdc4nwFEDE1rcBQzUVQEV4UpD8eRVAxhntHra+FUBGu4etbwMWQMdcIjwpSBZASP68yuKMFkDJn1dZnNEWQEpB8udVFhdAy+KMdg9bF0BMhCcFyZ8XQMwlwpOC5BdATcdcIjwpGEDOaPew9W0YQE8Kkj+vshhA0Ksszmj3GEBRTcdcIjwZQNLuYevbgBlAUpD8eZXFGUDTMZcITwoaQFTTMZcITxpA1XTMJcKTGkBWFme0e9gaQNe3AUM1HRtAWFmc0e5hG0DZ+jZgqKYbQFmc0e5h6xtA2j1sfRswHEBb3wYM1XQcQNyAoZqOuRxAXSI8KUj+HEDew9a3AUMdQF9lcUa7hx1A3wYM1XTMHUBgqKZjLhEeQOFJQfLnVR5AYuvbgKGaHkDjjHYPW98eQGQuEZ4UJB9A5c+rLM5oH0BlcUa7h60fQOYS4UlB8h9ANNo9bH0bIED0Kosz2j0gQLR72Po2YCBAdcwlwpOCIEA1HXOJ8KQgQPZtwFBNxyBAtr4NGKrpIEB3D1vfBgwhQDdgqKZjLiFA97D1bcBQIUC4AUM1HXMhQHhSkPx5lSFAOaPdw9a3IUD58yqLM9ohQLpEeFKQ/CFAepXFGe0eIkA65hLhSUEiQPs2YKimYyJAu4etbwOGIkB82Po2YKgiQDwpSP68yiJA/XmVxRntIkC9yuKMdg8jQH0bMFTTMSNAPmx9GzBUI0D+vMrijHYjQL8NGKrpmCNAf15lcUa7I0BAr7I4o90jQAAAAAAAACRA",
        "encoding": "base64",
        "path": [
         "x",
         "value"
        ]
       },
       {
        "data": "JphfzuOUUkDrpp/T5UZSQBX5uXTn/1FATUKnN1bfUUB3UKybb+RRQDSmNjhNs1FA/Pzi5azHUUBOiNKk6NdRQOLxcudB11FAM3saecviUUA+3AK3ZspRQCLXxe1inlFAUja5YA6ZUUAgqEskL39RQNICGLgwPlFAGtlS8/r4UEB2i/9ishJRQPs6Aac/slBAKZD8Ak3FUEArb8sWWN5QQAAnuqXi11BA8EmSUNIeUUB2G++h8y5RQBKy1lz5eVFAkvNPeR9sUUAXd+OSKJJRQPv0a+EKmVFA0K+hR1FyUUCqaeYtXj5RQC4pKc7zTFFA2Czt5jqTUUDmXq5HQZdRQArEjOUOxlFAPrpeMU0jUkCf04Il31NSQKMTRsTerlJAvCeagiCOUkDPulNBpS5SQBt5vqwVQVJAAXd2fbmbUkCuTh/Mc9lSQEwa7fgL31JAksOI/K4GU0CoUYn/oQxTQHpQgKvnPVNAiJ3b7iv6UkAH+0w2zxVTQKTAizdETVNAiiS7HfiaU0DBYza1SWlTQJ+S8ffKxFNAzt2mItVIVEBYN+23p6tUQHb+b4mR+lRAEkyuFLQXVUBdpK/gxwxVQIoLb+cdtVRAUVNW8J64VEAkrs10b8NUQKe/4lFy0FRA+GJRmWMiVUAYr8+YHGRVQKZsTnEXZVVAUrZZm5GYVUAmV7df161VQC7hKD/QjFVATsuha9eYVUA+Qyqj7pVVQKXjQKZTrFVAXOoyaXDeVUCNM/4/H+ZVQFQnrLxZ0FVAbaQe84ytVUBFNRc/hLhVQNvb+cr3oVVAqJnd5sNJVUAYxgow1ItVQKgpwbIxTVVAcbcqoDyJVUBwtY7KRJ5VQPXQR2sVnVVAbp8wgaViVUBQ0UkStlVVQCGwL+TB41RAgJe2157rVECagDPD9f9UQGhCjLDQVFVAZovTy/1dVUC4T0R3gE1VQFPnk+3hLFVATN0NbbYoVUCXJrqPZudUQKfC6w2k8VRAzxn7ZNKWVEDcB7TJN4xUQOUUzeXFklRAYUDPMs2mVEAAI7NtCfdUQNYUuZySf1RAF+BtY0qXVEDakhU/cGtUQGK8nZBudlRAaVe+yeBjVECLU4UBT6NUQC1V1WE4uFRANqup453DVEBRfoUzlMVUQHJs8DNZdVRA5eGpoqGlVEDQDyRHMUdUQLe6GUxT9lNA0QTvaeeyU0ABghzBvtRTQDBx8OlwuVNAJjqkjTYoVEA2NzEKo/5TQJcOa6+pm1RAT3Km1a3tVEBwa0SVs1tVQI4Rb67PfFVAXV7QsLolVUCoJJb9fkxVQAHIU8IqV1VA0vNpShEaVUBryK3AECZVQEPKnkpvaVVAR3U7rnVMVUBYJT9aUHFVQPHukWyFa1VAgDh6BYUqVUDmOTMV7NlUQCvY+IiXtlRAg/8Fax2/VEDDAlL/2YlUQLC+3dnPsVRAnIt9sDlqVECXpoNUA+BTQFW1m60Nn1NAODE2lp2PU0Cb6nXdrGlTQI0aa9dGWVNA3PG3lrAbU0BpU2CINzxTQKR3LeDpWFNAD5nXWN+SU0D101PwReFTQLHAMYbxOFRAt4+CiSVtVEAQRs4s7Q9UQAXTqR2N+VNA",
        "encoding": "base64",
        "path": [
         "y",
         "value"
        ]
       }
      ],
      "model_module": "bqplot",
      "model_module_version": "^0.5",
      "model_name": "LinesModel",
      "state": {
       "_model_module_version": "^0.5",
       "_view_module_version": "^0.5",
       "colors": [
        "green"
       ],
       "display_legend": true,
       "fill_colors": [],
       "labels": [
        "Security 2 squared"
       ],
       "scales": {
        "x": "IPY_MODEL_e22632f2ad6843e48171dcac653a1de5",
        "y": "IPY_MODEL_c0ca45d131e04efebb0335fa5cac778a"
       },
       "x": {
        "dtype": "float64",
        "shape": [
         150
        ],
        "type": null
       },
       "y": {
        "dtype": "float64",
        "shape": [
         150
        ],
        "type": null
       }
      }
     },
     "2f8ecab6a0574d4ea15c82ad38c4e9b2": {
      "buffers": [
       {
        "data": "AAAAAAEAAAACAAAAAwAAAAQAAAAFAAAABgAAAAcAAAAIAAAACQAAAAoAAAALAAAADAAAAA0AAAAOAAAADwAAABAAAAARAAAAEgAAABMAAAA=",
        "encoding": "base64",
        "path": [
         "x",
         "value"
        ]
       },
       {
        "data": "AAAAAAEAAAACAAAAAwAAAAQAAAAFAAAABgAAAAcAAAAIAAAACQAAAAoAAAALAAAADAAAAA0AAAAOAAAADwAAABAAAAARAAAAEgAAABMAAAA=",
        "encoding": "base64",
        "path": [
         "y",
         "value"
        ]
       }
      ],
      "model_module": "bqplot",
      "model_module_version": "^0.5",
      "model_name": "LinesModel",
      "state": {
       "_model_module_version": "^0.5",
       "_view_module_version": "^0.5",
       "fill_colors": [],
       "labels": [
        "C1"
       ],
       "scales": {
        "x": "IPY_MODEL_63ab96ce801944468da2fe46c2db84a6",
        "y": "IPY_MODEL_f70b4b13ac3c4da88caba7418e3bf8e0"
       },
       "x": {
        "dtype": "int32",
        "shape": [
         20
        ],
        "type": null
       },
       "y": {
        "dtype": "int32",
        "shape": [
         20
        ],
        "type": null
       }
      }
     },
     "2f9079fd91e342058aac5b3c8161f99b": {
      "model_module": "bqplot",
      "model_module_version": "^0.5",
      "model_name": "FigureModel",
      "state": {
       "_model_module_version": "^0.5",
       "_view_module_version": "^0.5",
       "axes": [
        "IPY_MODEL_81fcbe5d27374fe0b35921094cceb171",
        "IPY_MODEL_78112bf10f7a4f4b820aa39249a50a60"
       ],
       "interaction": "IPY_MODEL_3965d33535a24228a7ecd3e19dedbccc",
       "layout": "IPY_MODEL_21dfb89950b54704a834c88423ab3ac2",
       "marks": [
        "IPY_MODEL_c4e69ff95799478eb828ef1a1fb9a3be"
       ],
       "scale_x": "IPY_MODEL_88953781c5ef4aa094197cba30ea5145",
       "scale_y": "IPY_MODEL_22259dcf956b4627ad51b119e310cfa8",
       "title": "Multi-Selector with Date Example"
      }
     },
     "2fb182be5ab64af4922b84bd4a780f50": {
      "model_module": "bqplot",
      "model_module_version": "^0.5.3",
      "model_name": "FigureModel",
      "state": {
       "_model_module_version": "^0.5.3",
       "_view_module_version": "^0.5.3",
       "axes": [
        "IPY_MODEL_3ce9e69dbd624a1eb96787710ea47a8c",
        "IPY_MODEL_5c8ebc3a04574564b2e4b1c1802f0621"
       ],
       "interaction": "IPY_MODEL_97f4031762a4430bab61e915fb3bcb29",
       "layout": "IPY_MODEL_d8b5c1984ac247bca8e9d1f7c2ac6e15",
       "marks": [
        "IPY_MODEL_5494d197d792469082c290dce239e532",
        "IPY_MODEL_4555fdab016243ad89e3db04c3629d4b"
       ],
       "scale_x": "IPY_MODEL_21ae1bfb03fb42a68c6ca4941e68cc1a",
       "scale_y": "IPY_MODEL_9b889c48425d417fa83c5cd4704036d2",
       "title": "Fast Interval Selector Example"
      }
     },
     "2fc276040bcb48ac9efae2713b75dc4e": {
      "model_module": "@jupyter-widgets/base",
      "model_module_version": "1.2.0",
      "model_name": "LayoutModel",
      "state": {}
     },
     "30743430522b4917ac1853e2d844e037": {
      "model_module": "bqplot",
      "model_module_version": "^0.5.3",
      "model_name": "FigureModel",
      "state": {
       "_model_module_version": "^0.5.3",
       "_view_module_version": "^0.5.3",
       "axes": [
        "IPY_MODEL_b1a943b6b9754e9ebf482d8ec3ebdc78",
        "IPY_MODEL_dd7ff204fa6b4a9080f23082f5948697"
       ],
       "interaction": "IPY_MODEL_2cd614a78f1342b8aabc81d692f56baa",
       "layout": "IPY_MODEL_2573a6b82555448aacf29d38add61ddf",
       "marks": [
        "IPY_MODEL_513415bf9c944854bb9199a5f2a3bf57"
       ],
       "scale_x": "IPY_MODEL_8f542102f6c1486e9c0de117c5df6655",
       "scale_y": "IPY_MODEL_74f8d05d3dee4556a17e9af9457c4614",
       "title": "Brush Selector with Dates Example"
      }
     },
     "30b28d783cbf4d7a99655592f35796cb": {
      "model_module": "bqplot",
      "model_module_version": "^0.5",
      "model_name": "MultiSelectorModel",
      "state": {
       "_model_module_version": "^0.5",
       "_selected": {},
       "_view_module_version": "^0.5",
       "color": null,
       "marks": [
        "IPY_MODEL_83e2b1f5bef14afda90e3ec5a377d9e0"
       ],
       "names": [
        "int1",
        "int2",
        "int3"
       ],
       "orientation": "horizontal",
       "scale": "IPY_MODEL_d1e4967cbb264fada93917c186ba6a99"
      }
     },
     "31634adeb0fd4a509c9d77268059c3bc": {
      "model_module": "@jupyter-widgets/base",
      "model_module_version": "1.2.0",
      "model_name": "LayoutModel",
      "state": {}
     },
     "3163654171784dde8ce97b90240321a9": {
      "model_module": "bqplot",
      "model_module_version": "^0.5",
      "model_name": "AxisModel",
      "state": {
       "_model_module_version": "^0.5",
       "_view_module_version": "^0.5",
       "label": "Index",
       "scale": "IPY_MODEL_949e748851724e688a7a770620849d15",
       "side": "bottom",
       "tick_labels": {},
       "tick_values": null
      }
     },
     "3283b8d6ca1f41fcb9f0fe430ed9d85d": {
      "model_module": "bqplot",
      "model_module_version": "^0.5.3",
      "model_name": "LinearScaleModel",
      "state": {
       "_model_module_version": "^0.5.3",
       "_view_module_version": "^0.5.3",
       "allow_padding": false,
       "max": 1,
       "min": 0,
       "stabilized": false
      }
     },
     "345e3b4a4a46426b9cf9ee97c20df7c0": {
      "model_module": "bqplot",
      "model_module_version": "^0.5",
      "model_name": "FigureModel",
      "state": {
       "_model_module_version": "^0.5",
       "_view_module_version": "^0.5",
       "axes": [
        "IPY_MODEL_3163654171784dde8ce97b90240321a9",
        "IPY_MODEL_d9aa26fc528e4f478145b8b563d62619"
       ],
       "interaction": "IPY_MODEL_f6c2d8c7e2df49e2993938b724ff7b67",
       "layout": "IPY_MODEL_31634adeb0fd4a509c9d77268059c3bc",
       "marks": [
        "IPY_MODEL_fd16053c57dc4cd79669deb6e54e916a",
        "IPY_MODEL_8ebf9ffaec4e411ca55f1d31f51980e5"
       ],
       "scale_x": "IPY_MODEL_2b917d486e8145a2b4fd80c07935b824",
       "scale_y": "IPY_MODEL_fcc41b7e49ab49c6a5664d19a6b9a94a",
       "title": "Fast Interval Selector Example"
      }
     },
     "346884e391e54e818ea7ee37686ebf82": {
      "model_module": "bqplot",
      "model_module_version": "^0.5.10",
      "model_name": "HandDrawModel",
      "state": {
       "_model_module_version": "^0.5.10",
       "_view_module_version": "^0.5.10",
       "lines": "IPY_MODEL_5fb41bb99de6411a975f8c4b32954646"
      }
     },
     "34be4321d5b042a9b0869759a2ae7a3e": {
      "model_module": "bqplot",
      "model_module_version": "^0.5.3",
      "model_name": "LinearScaleModel",
      "state": {
       "_model_module_version": "^0.5.3",
       "_view_module_version": "^0.5.3",
       "stabilized": false
      }
     },
     "3506f91b75754cb39b938f7db01f97be": {
      "model_module": "bqplot",
      "model_module_version": "^0.5.3",
      "model_name": "MultiSelectorModel",
      "state": {
       "_model_module_version": "^0.5.3",
       "_view_module_version": "^0.5.3",
       "color": null,
       "marks": [
        "IPY_MODEL_17ec40d56486456ea663605d2506ff03"
       ],
       "names": [
        "int1",
        "int2",
        "int3"
       ],
       "orientation": "horizontal",
       "scale": "IPY_MODEL_acd62a19a6f048718d0bdfbb41f85811"
      }
     },
     "353ab9bcb22146599efd55a8ba59827c": {
      "model_module": "bqplot",
      "model_module_version": "^0.5.10",
      "model_name": "LinearScaleModel",
      "state": {
       "_model_module_version": "^0.5.10",
       "_view_module_version": "^0.5.10",
       "allow_padding": false,
       "max": 1,
       "min": 0,
       "stabilized": false
      }
     },
     "3592e2c0bd4e437c8b4edfd163eda3f2": {
      "model_module": "bqplot",
      "model_module_version": "^0.5.10",
      "model_name": "LinearScaleModel",
      "state": {
       "_model_module_version": "^0.5.10",
       "_view_module_version": "^0.5.10",
       "stabilized": false
      }
     },
     "359b3629056f4466972941bbbd552062": {
      "model_module": "bqplot",
      "model_module_version": "^0.5",
      "model_name": "LinearScaleModel",
      "state": {
       "_model_module_version": "^0.5",
       "_view_module_version": "^0.5",
       "allow_padding": false,
       "max": 1,
       "min": 0,
       "stabilized": false
      }
     },
     "36e63a2196ca4e79892edb3956dd968a": {
      "model_module": "@jupyter-widgets/controls",
      "model_module_version": "1.5.0",
      "model_name": "HTMLModel",
      "state": {
       "layout": "IPY_MODEL_3d0d1af46f774c11b77be981f326b4de",
       "style": "IPY_MODEL_72e6495efaea40c9a25dfd540359bb86",
       "value": "None"
      }
     },
     "36ffc5f81e814c4b98f2027e65cf1f5b": {
      "model_module": "@jupyter-widgets/base",
      "model_module_version": "1.2.0",
      "model_name": "LayoutModel",
      "state": {}
     },
     "37c23b16186145748a6d9fd9167e61fe": {
      "model_module": "@jupyter-widgets/base",
      "model_module_version": "1.2.0",
      "model_name": "LayoutModel",
      "state": {}
     },
     "380fd09a735443dbaa000330cf19a7ce": {
      "buffers": [
       {
        "data": "AAAAAAEAAAACAAAAAwAAAAQAAAAFAAAABgAAAAcAAAAIAAAACQAAAAoAAAALAAAADAAAAA0AAAAOAAAADwAAABAAAAARAAAAEgAAABMAAAA=",
        "encoding": "base64",
        "path": [
         "x",
         "value"
        ]
       },
       {
        "data": "AAAAAAEAAAACAAAAAwAAAAQAAAAFAAAABgAAAAcAAAAIAAAACQAAAAoAAAALAAAADAAAAA0AAAAOAAAADwAAABAAAAARAAAAEgAAABMAAAA=",
        "encoding": "base64",
        "path": [
         "y",
         "value"
        ]
       }
      ],
      "model_module": "bqplot",
      "model_module_version": "^0.5.10",
      "model_name": "LinesModel",
      "state": {
       "_model_module_version": "^0.5.10",
       "_view_module_version": "^0.5.10",
       "fill_colors": [],
       "labels": [
        "C1"
       ],
       "scales": {
        "x": "IPY_MODEL_4cd7739c1f3641ddb34e8466d8f865f3",
        "y": "IPY_MODEL_7f03aded24f540f583c18c1828100a32"
       },
       "x": {
        "dtype": "int32",
        "shape": [
         20
        ],
        "type": null
       },
       "y": {
        "dtype": "int32",
        "shape": [
         20
        ],
        "type": null
       }
      }
     },
     "3822be39964044d8946c25c2b7ccb1d3": {
      "model_module": "@jupyter-widgets/base",
      "model_module_version": "1.2.0",
      "model_name": "LayoutModel",
      "state": {}
     },
     "385e68e6425349ba9f3c4f03c6944ba3": {
      "model_module": "@jupyter-widgets/controls",
      "model_module_version": "1.5.0",
      "model_name": "VBoxModel",
      "state": {
       "children": [
        "IPY_MODEL_2f4a1d408945489e8dc16da0f0acc1c6",
        "IPY_MODEL_03e0d892a5ec465a80fd2973e5a2aed8"
       ],
       "layout": "IPY_MODEL_2c6b74c94bc448ed81edbc0cf12e047c"
      }
     },
     "3965d33535a24228a7ecd3e19dedbccc": {
      "model_module": "bqplot",
      "model_module_version": "^0.5",
      "model_name": "MultiSelectorModel",
      "state": {
       "_model_module_version": "^0.5",
       "_view_module_version": "^0.5",
       "color": null,
       "orientation": "horizontal",
       "scale": "IPY_MODEL_789939804e90408ca0daf1fc11bbc9f5"
      }
     },
     "39a32c4c6a6b44c692b5843b273d0044": {
      "model_module": "@jupyter-widgets/base",
      "model_module_version": "1.2.0",
      "model_name": "LayoutModel",
      "state": {}
     },
     "3a143f5816f049808025d315f03b4e39": {
      "model_module": "@jupyter-widgets/controls",
      "model_module_version": "1.5.0",
      "model_name": "HTMLModel",
      "state": {
       "layout": "IPY_MODEL_36ffc5f81e814c4b98f2027e65cf1f5b",
       "style": "IPY_MODEL_12fb5e2e547b482198039de7ceea06bf",
       "value": "[]"
      }
     },
     "3a47a4c4589b4de6be6cc3831a4121a2": {
      "model_module": "bqplot",
      "model_module_version": "^0.5.10",
      "model_name": "LinearScaleModel",
      "state": {
       "_model_module_version": "^0.5.10",
       "_view_module_version": "^0.5.10",
       "allow_padding": false,
       "max": 1,
       "min": 0,
       "stabilized": false
      }
     },
     "3ad3f969a3e14e1480cd6d61360cb463": {
      "model_module": "bqplot",
      "model_module_version": "^0.5.10",
      "model_name": "BrushIntervalSelectorModel",
      "state": {
       "_model_module_version": "^0.5.10",
       "_view_module_version": "^0.5.10",
       "marks": [
        "IPY_MODEL_54a4cc5a4f7541a6b27849a6b9dc2a0a",
        "IPY_MODEL_793f6ff6ead346618ebc9f4b11dd3403"
       ],
       "scale": "IPY_MODEL_dfca47db612a435db16b2f144c759f9e"
      }
     },
     "3b8681fb34cc4716bb5261d2d6fbd5fe": {
      "model_module": "@jupyter-widgets/controls",
      "model_module_version": "1.5.0",
      "model_name": "DescriptionStyleModel",
      "state": {
       "description_width": ""
      }
     },
     "3c0aebfb53cd4e7882bde6136317be91": {
      "model_module": "bqplot",
      "model_module_version": "^0.5.10",
      "model_name": "DateScaleModel",
      "state": {
       "_model_module_version": "^0.5.10",
       "_view_module_version": "^0.5.10",
       "min": "2006-06-01T00:00:00.000Z"
      }
     },
     "3c84d1f568be49a6a2792c1a54f09eb9": {
      "model_module": "bqplot",
      "model_module_version": "^0.5.3",
      "model_name": "LinearScaleModel",
      "state": {
       "_model_module_version": "^0.5.3",
       "_view_module_version": "^0.5.3",
       "allow_padding": false,
       "max": 1,
       "min": 0,
       "stabilized": false
      }
     },
     "3ce9e69dbd624a1eb96787710ea47a8c": {
      "model_module": "bqplot",
      "model_module_version": "^0.5.3",
      "model_name": "AxisModel",
      "state": {
       "_model_module_version": "^0.5.3",
       "_view_module_version": "^0.5.3",
       "label": "Index",
       "scale": "IPY_MODEL_b28acc94d9074e86b5fb07a4a7224697",
       "side": "bottom",
       "tick_values": null
      }
     },
     "3d0d1af46f774c11b77be981f326b4de": {
      "model_module": "@jupyter-widgets/base",
      "model_module_version": "1.2.0",
      "model_name": "LayoutModel",
      "state": {}
     },
     "3d89869f83ff444290831e06b7bdb7d4": {
      "model_module": "bqplot",
      "model_module_version": "^0.5",
      "model_name": "AxisModel",
      "state": {
       "_model_module_version": "^0.5",
       "_view_module_version": "^0.5",
       "label": "Date",
       "scale": "IPY_MODEL_fd564f48c10d44b3901f35cd009e2bed",
       "side": "bottom",
       "tick_labels": {},
       "tick_values": null
      }
     },
     "3e14b18e83d844268bfaa6527ab6f694": {
      "model_module": "bqplot",
      "model_module_version": "^0.5.3",
      "model_name": "LinearScaleModel",
      "state": {
       "_model_module_version": "^0.5.3",
       "_view_module_version": "^0.5.3",
       "stabilized": false
      }
     },
     "3e3b123b02ec4d0bb146dd620a62b2c0": {
      "model_module": "bqplot",
      "model_module_version": "^0.5.10",
      "model_name": "FastIntervalSelectorModel",
      "state": {
       "_model_module_version": "^0.5.10",
       "_view_module_version": "^0.5.10",
       "marks": [
        "IPY_MODEL_9ef09bbadc154ff3aaecbfce767553d2",
        "IPY_MODEL_cdc65ba27c11475485eb19d89d33787b"
       ],
       "scale": "IPY_MODEL_53038cd0cb284b98bcb6dbf29268d366"
      }
     },
     "3e85c15d06a84576890c761851cfff73": {
      "model_module": "bqplot",
      "model_module_version": "^0.5",
      "model_name": "LinearScaleModel",
      "state": {
       "_model_module_version": "^0.5",
       "_view_module_version": "^0.5",
       "stabilized": false
      }
     },
     "3ff4cef77ab449268f1eb904a494ee9f": {
      "model_module": "bqplot",
      "model_module_version": "^0.5.10",
      "model_name": "LinearScaleModel",
      "state": {
       "_model_module_version": "^0.5.10",
       "_view_module_version": "^0.5.10",
       "stabilized": false
      }
     },
     "405dcd8598e34ebf9417c4e9c07cd040": {
      "model_module": "bqplot",
      "model_module_version": "^0.5.3",
      "model_name": "LinearScaleModel",
      "state": {
       "_model_module_version": "^0.5.3",
       "_view_module_version": "^0.5.3",
       "allow_padding": false,
       "max": 1,
       "min": 0,
       "stabilized": false
      }
     },
     "4113231bdcec404698e28dc86a81c23a": {
      "model_module": "@jupyter-widgets/controls",
      "model_module_version": "1.5.0",
      "model_name": "VBoxModel",
      "state": {
       "children": [
        "IPY_MODEL_36e63a2196ca4e79892edb3956dd968a",
        "IPY_MODEL_0458fb46dc7d4405bdfbc091104f1efc"
       ],
       "layout": "IPY_MODEL_58bb0ab35ee640ad9658f79b9b9bffb9"
      }
     },
     "413ba3128828427486cb9b36377c5768": {
      "model_module": "bqplot",
      "model_module_version": "^0.5.3",
      "model_name": "LinearScaleModel",
      "state": {
       "_model_module_version": "^0.5.3",
       "_view_module_version": "^0.5.3",
       "allow_padding": false,
       "max": 1,
       "min": 0,
       "stabilized": false
      }
     },
     "4254bcfb1b4a483ab62c8d8473d7456c": {
      "model_module": "bqplot",
      "model_module_version": "^0.5",
      "model_name": "DateScaleModel",
      "state": {
       "_model_module_version": "^0.5",
       "_view_module_version": "^0.5",
       "min": "2006-06-01T00:00:00.000Z"
      }
     },
     "42761edcfa9a4217838dd7bc12bf2b2d": {
      "model_module": "bqplot",
      "model_module_version": "^0.5.10",
      "model_name": "LinearScaleModel",
      "state": {
       "_model_module_version": "^0.5.10",
       "_view_module_version": "^0.5.10",
       "allow_padding": false,
       "max": 1,
       "min": 0,
       "stabilized": false
      }
     },
     "439c29b08b994d3cb14b773fca403b38": {
      "model_module": "@jupyter-widgets/controls",
      "model_module_version": "1.5.0",
      "model_name": "VBoxModel",
      "state": {
       "children": [
        "IPY_MODEL_ff086d962c5b493286732f0534732b4f",
        "IPY_MODEL_814fe043b4ee4217ad4577ffbfc39aab"
       ],
       "layout": "IPY_MODEL_bb8bcaf35eb340d0a5d790bff1eb13b3"
      }
     },
     "43afa868b9324486b449e9ad54eb7aa4": {
      "model_module": "@jupyter-widgets/base",
      "model_module_version": "1.2.0",
      "model_name": "LayoutModel",
      "state": {}
     },
     "443985412d4c4ff0b5e2955a993e8492": {
      "model_module": "bqplot",
      "model_module_version": "^0.5.3",
      "model_name": "LinearScaleModel",
      "state": {
       "_model_module_version": "^0.5.3",
       "_view_module_version": "^0.5.3",
       "allow_padding": false,
       "max": 1,
       "min": 0,
       "stabilized": false
      }
     },
     "449cfc74ded54a55a611279d2f5649d8": {
      "model_module": "bqplot",
      "model_module_version": "^0.5.3",
      "model_name": "AxisModel",
      "state": {
       "_model_module_version": "^0.5.3",
       "_view_module_version": "^0.5.3",
       "grid_lines": "none",
       "label": "Freq",
       "orientation": "vertical",
       "scale": "IPY_MODEL_20ed2d955c4e4ad2a3e01f3ea6b79326",
       "side": "left",
       "tick_values": null
      }
     },
     "4555fdab016243ad89e3db04c3629d4b": {
      "buffers": [
       {
        "data": "AAAAKccNcUIAAMCOGQ5xQgAAgPRrDnFCAABAWr4OcUIAAADAEA9xQgAAwCVjD3FCAACAi7UPcUIAAEDxBxBxQgAAAFdaEHFCAADAvKwQcUIAAIAi/xBxQgAAQIhREXFCAAAA7qMRcUIAAMBT9hFxQgAAgLlIEnFCAABAH5sScUIAAACF7RJxQgAAwOo/E3FCAACAUJITcUIAAEC25BNxQgAAABw3FHFCAADAgYkUcUIAAIDn2xRxQgAAQE0uFXFCAAAAs4AVcUIAAMAY0xVxQgAAgH4lFnFCAABA5HcWcUIAAABKyhZxQgAAwK8cF3FCAACAFW8XcUIAAEB7wRdxQgAAAOETGHFCAADARmYYcUIAAICsuBhxQgAAQBILGXFCAAAAeF0ZcUIAAMDdrxlxQgAAgEMCGnFCAABAqVQacUIAAAAPpxpxQgAAwHT5GnFCAACA2ksbcUIAAEBAnhtxQgAAAKbwG3FCAADAC0MccUIAAIBxlRxxQgAAQNfnHHFCAAAAPTodcUIAAMCijB1xQgAAgAjfHXFCAABAbjEecUIAAADUgx5xQgAAwDnWHnFCAACAnygfcUIAAEAFex9xQgAAAGvNH3FCAADA0B8gcUIAAIA2ciBxQgAAQJzEIHFCAAAAAhchcUIAAMBnaSFxQgAAgM27IXFCAABAMw4icUIAAACZYCJxQgAAwP6yInFCAACAZAUjcUIAAEDKVyNxQgAAADCqI3FCAADAlfwjcUIAAID7TiRxQgAAQGGhJHFCAAAAx/MkcUIAAMAsRiVxQgAAgJKYJXFCAABA+OolcUIAAABePSZxQgAAwMOPJnFCAACAKeImcUIAAECPNCdxQgAAAPWGJ3FCAADAWtkncUIAAIDAKyhxQgAAQCZ+KHFCAAAAjNAocUIAAMDxIilxQgAAgFd1KXFCAABAvccpcUIAAAAjGipxQgAAwIhsKnFCAACA7r4qcUIAAEBUEStxQgAAALpjK3FCAADAH7YrcUIAAICFCCxxQgAAQOtaLHFCAAAAUa0scUIAAMC2/yxxQgAAgBxSLXFCAABAgqQtcUI=",
        "encoding": "base64",
        "path": [
         "x",
         "value"
        ]
       },
       {
        "data": "CXMFWLjKW0CWlMiMIpNbQBXppTOelFtARi9MAgZfW0BXJQRoSnZbQFzWSTsKXVtA5qv/zdezW0A7sWJFSYVbQObSmn6xOltAxFrH6OmeW0BB/VUB3KlbQEZeX1Y61FtAjOeBvAOoW0CmDvWxcWpbQC6b2nWKSltAgpXvSyxfW0DNc5bKu2ZbQNidjofcaVtAZO2NEKRBW0DnHamROlBbQBs8LMkoYVtADHf23hpZW0A0/kAEhmFbQBKF/O8NoFtAUulQReXDW0CKfTeRHNBbQFHOw+UWxVtA8/8LCqq7W0Ae7WzfpbpbQEu2fGMb1ltAgH18Mb/PW0ByLypIysRbQCezYcGfvltAuQ9P2qyPW0CF5H1Rf4BbQC68SNbhi1tAeRUKwqRMW0AxIFemslpbQM/kG7G2YFtAlAzMmY5gW0BMBqnQxEFbQMPt5pMK6FpA2Ej2+yXgWkAVzpJtgPNaQE49l46LB1tAlBkIG/5AW0CgdMRcVyhbQMVX4+pAJltAaAlkDqr6WkBNMMEHcCRbQFrvSysksVpALkpwTs8UW0AcUf86LwlbQGxgRS7kL1tA7ykSSTQNW0ARXmqIqhpbQGyo6zuh51pAjzRpHU4ZW0CIPxkkPPhaQOxXB4db1VpAai8wD9n9WkCi4hQsgx9bQIiYwt+BMltASyZDpdHrWkCUTFn83yRbQJmoNouYLFtANOYZQWcfW0A3b/V8M1JbQDtEXkSmIltAQX89NhcPW0A2ukl7sgxbQJpqgsje2VpATHEZXL6jWkA7JxgczZhaQOotPdpfuVpA8yYjnlQJW0AZwqT72uxaQJOIGuADtVpAMA5uMJ2XWkCv/AlNTPRaQBbo/eSA21pARWZreVfRWkC0BWBzSMtaQOTBTBPi9VpAMLt9qIPbWkDi4fJr0MFaQL8k+yINklpAmYk70wWJWkCiVNI6oFZaQA5ocdABM1pAZfp/B5w7WkDEkCgYjT9aQEX7/00TMlpArKw0pl0wWkBpHB6ITPZZQKO708Dv7VlADUKpcKe1WUAZtHu+bs5ZQE8QtD1d61lADfi7pdu0WUA=",
        "encoding": "base64",
        "path": [
         "y",
         "value"
        ]
       }
      ],
      "model_module": "bqplot",
      "model_module_version": "^0.5.3",
      "model_name": "LinesModel",
      "state": {
       "_model_module_version": "^0.5.3",
       "_view_module_version": "^0.5.3",
       "colors": [
        "blue"
       ],
       "fill_colors": [],
       "labels": [
        "C1"
       ],
       "scales": {
        "x": "IPY_MODEL_b28acc94d9074e86b5fb07a4a7224697",
        "y": "IPY_MODEL_058a3161a0e245f38b1748f794211f0d"
       },
       "x": {
        "dtype": "float64",
        "shape": [
         100
        ],
        "type": "date"
       },
       "y": {
        "dtype": "float64",
        "shape": [
         100
        ],
        "type": null
       }
      }
     },
     "4582153644f342cf97cb079835a52008": {
      "buffers": [
       {
        "data": "AACASa/9cEIAAECvAf5wQgAAABVU/nBCAADAeqb+cEIAAIDg+P5wQgAAQEZL/3BCAAAArJ3/cEIAAMAR8P9wQgAAgHdCAHFCAABA3ZQAcUIAAABD5wBxQgAAwKg5AXFCAACADowBcUIAAEB03gFxQgAAANowAnFCAADAP4MCcUIAAICl1QJxQgAAQAsoA3FCAAAAcXoDcUIAAMDWzANxQgAAgDwfBHFCAABAonEEcUIAAAAIxARxQgAAwG0WBXFCAACA02gFcUIAAEA5uwVxQgAAAJ8NBnFCAADABGAGcUIAAIBqsgZxQgAAQNAEB3FCAAAANlcHcUIAAMCbqQdxQgAAgAH8B3FCAABAZ04IcUIAAADNoAhxQgAAwDLzCHFCAACAmEUJcUIAAED+lwlxQgAAAGTqCXFCAADAyTwKcUIAAIAvjwpxQgAAQJXhCnFCAAAA+zMLcUIAAMBghgtxQgAAgMbYC3FCAABALCsMcUIAAACSfQxxQgAAwPfPDHFCAACAXSINcUIAAEDDdA1xQgAAACnHDXFCAADAjhkOcUIAAID0aw5xQgAAQFq+DnFCAAAAwBAPcUIAAMAlYw9xQgAAgIu1D3FCAABA8QcQcUIAAABXWhBxQgAAwLysEHFCAACAIv8QcUIAAECIURFxQgAAAO6jEXFCAADAU/YRcUIAAIC5SBJxQgAAQB+bEnFCAAAAhe0ScUIAAMDqPxNxQgAAgFCSE3FCAABAtuQTcUIAAAAcNxRxQgAAwIGJFHFCAACA59sUcUIAAEBNLhVxQgAAALOAFXFCAADAGNMVcUIAAIB+JRZxQgAAQOR3FnFCAAAASsoWcUIAAMCvHBdxQgAAgBVvF3FCAABAe8EXcUIAAADhExhxQgAAwEZmGHFCAACArLgYcUIAAEASCxlxQgAAAHhdGXFCAADA3a8ZcUIAAIBDAhpxQgAAQKlUGnFCAAAAD6cacUIAAMB0+RpxQgAAgNpLG3FCAABAQJ4bcUIAAACm8BtxQgAAwAtDHHFCAACAcZUccUIAAEDX5xxxQgAAAD06HXFCAADAoowdcUIAAIAI3x1xQgAAQG4xHnFCAAAA1IMecUIAAMA51h5xQgAAgJ8oH3FCAABABXsfcUIAAABrzR9xQgAAwNAfIHFCAACANnIgcUIAAECcxCBxQgAAAAIXIXFCAADAZ2khcUIAAIDNuyFxQgAAQDMOInFCAAAAmWAicUIAAMD+siJxQgAAgGQFI3FCAABAylcjcUIAAAAwqiNxQgAAwJX8I3FCAACA+04kcUIAAEBhoSRxQgAAAMfzJHFCAADALEYlcUIAAICSmCVxQgAAQPjqJXFCAAAAXj0mcUIAAMDDjyZxQgAAgCniJnFCAABAjzQncUIAAAD1hidxQgAAwFrZJ3FCAACAwCsocUIAAEAmfihxQgAAAIzQKHFCAADA8SIpcUIAAIBXdSlxQgAAQL3HKXFCAAAAIxoqcUIAAMCIbCpxQgAAgO6+KnFCAABAVBErcUIAAAC6YytxQgAAwB+2K3FCAACAhQgscUIAAEDrWixxQgAAAFGtLHFCAADAtv8scUIAAIAcUi1xQgAAQIKkLXFC",
        "encoding": "base64",
        "path": [
         "x",
         "value"
        ]
       },
       {
        "data": "WoiU/IUfWUBDumk0IOdYQAJPyZTTLllA6+0yWGg2WUAUdELZDxlZQFpAaMDsVFlAe6Otam2DWUCJe14ZB6tZQFncswUQvllAn4Q8RwKhWUA5+4rEaPVZQIDaYYe7vVlAupZNiLmqWUA0JHRFp8FZQP9AFmO33FlAqueqPhm8WUDcShdkuudZQANj0jJ4mllAmHw+O5HMWUCbX+TGU9JZQIor/9d0zVlAbAnv0InLWUAUZevkE3ZZQMBaGEtfNFlAAs0119t/WUA0000/Br1ZQEjzxcGrzllAfVNKPoTYWUCQ3vZL659ZQMvkDiu6oVlAA8idyCfLWUBkklmux+VZQO2VKmaxJFpAKRY2VSlPWkCF2N0ure5ZQNLRSOevN1pA6Xtg2F1xWkATwDEL1WxaQA5Q+4W8gFpA7hhp5nCqWkARfLF+bP9aQGO69LEc9lpAAMI5VF7aWkCBdI9X5J5aQEKjohAi/1pAUOFejws1W0AjDwJvlSJbQAiIz71pQFtAT1UkuKddW0CJ9TmOEE5bQAlzBVi4SltAlpTIjCITW0AV6aUznhRbQEYvTAIG31pAVyUEaEr2WkBc1kk7Ct1aQOar/83XM1tAO7FiRUkFW0Dm0pp+sbpaQMRax+jpHltAQf1VAdwpW0BGXl9WOlRbQIzngbwDKFtApg71sXHqWkAum9p1ispaQIKV70ss31pAzXOWyrvmWkDYnY6H3OlaQGTtjRCkwVpA5x2pkTrQWkAbPCzJKOFaQAx39t4a2VpANP5ABIbhWkAShfzvDSBbQFLpUEXlQ1tAin03kRxQW0BRzsPlFkVbQPP/CwqqO1tAHu1s36U6W0BLtnxjG1ZbQIB9fDG/T1tAci8qSMpEW0Ans2HBnz5bQLkPT9qsD1tAheR9UX8AW0AuvEjW4QtbQHkVCsKkzFpAMSBXprLaWkDP5BuxtuBaQJQMzJmO4FpATAap0MTBWkDD7eaTCmhaQNhI9vslYFpAFc6SbYBzWkBOPZeOi4daQJQZCBv+wFpAoHTEXFeoWkDFV+PqQKZaQGgJZA6qelpATTDBB3CkWkBa70srJDFaQC5KcE7PlFpAHFH/Oi+JWkBsYEUu5K9aQO8pEkk0jVpAEV5qiKqaWkBsqOs7oWdaQI80aR1OmVpAiD8ZJDx4WkDsVweHW1VaQGovMA/ZfVpAouIULIOfWkCImMLfgbJaQEsmQ6XRa1pAlExZ/N+kWkCZqDaLmKxaQDTmGUFnn1pAN2/1fDPSWkA7RF5EpqJaQEF/PTYXj1pANrpJe7KMWkCaaoLI3llaQExxGVy+I1pAOycYHM0YWkDqLT3aXzlaQPMmI55UiVpAGcKk+9psWkCTiBrgAzVaQDAObjCdF1pAr/wJTUx0WkAW6P3kgFtaQEVma3lXUVpAtAVgc0hLWkDkwUwT4nVaQDC7faiDW1pA4uHya9BBWkC/JPsiDRJaQJmJO9MFCVpAolTSOqDWWUAOaHHQAbNZQGX6fwecu1lAxJAoGI2/WUBF+/9NE7JZQKysNKZdsFlAaRweiEx2WUCju9PA721ZQA1CqXCnNVlAGbR7vm5OWUBPELQ9XWtZQA34u6XbNFlA",
        "encoding": "base64",
        "path": [
         "y",
         "value"
        ]
       }
      ],
      "model_module": "bqplot",
      "model_module_version": "^0.5.3",
      "model_name": "LinesModel",
      "state": {
       "_model_module_version": "^0.5.3",
       "_view_module_version": "^0.5.3",
       "fill_colors": [],
       "labels": [
        "C1"
       ],
       "scales": {
        "x": "IPY_MODEL_b3e9902c109540d1aa38fbcd7c068aae",
        "y": "IPY_MODEL_d1ace1d3268e426c9bd8696dcac74ebb"
       },
       "x": {
        "dtype": "float64",
        "shape": [
         150
        ],
        "type": "date"
       },
       "y": {
        "dtype": "float64",
        "shape": [
         150
        ],
        "type": null
       }
      }
     },
     "45b0ad85db3a4deea92f405f3a003164": {
      "model_module": "bqplot",
      "model_module_version": "^0.5.10",
      "model_name": "LinearScaleModel",
      "state": {
       "_model_module_version": "^0.5.10",
       "_view_module_version": "^0.5.10",
       "stabilized": false
      }
     },
     "466e28cc64464b6ea1b53d8fc8d614b1": {
      "model_module": "bqplot",
      "model_module_version": "^0.5.3",
      "model_name": "DateScaleModel",
      "state": {
       "_model_module_version": "^0.5.3",
       "_view_module_version": "^0.5.3",
       "min": "2007-01-01T00:00:00.000000"
      }
     },
     "469dc4a4ba54454fb9592bc432e89e12": {
      "model_module": "@jupyter-widgets/controls",
      "model_module_version": "1.5.0",
      "model_name": "DescriptionStyleModel",
      "state": {
       "description_width": ""
      }
     },
     "470eb1b1c1064603ba03d3d93ef5efa0": {
      "model_module": "bqplot",
      "model_module_version": "^0.5",
      "model_name": "AxisModel",
      "state": {
       "_model_module_version": "^0.5",
       "_view_module_version": "^0.5",
       "label": "Security 1 Price",
       "orientation": "vertical",
       "scale": "IPY_MODEL_c0ca45d131e04efebb0335fa5cac778a",
       "side": "left",
       "tick_labels": {},
       "tick_values": null
      }
     },
     "48b770fefdb24fdd8c304f0e055ca914": {
      "model_module": "bqplot",
      "model_module_version": "^0.5.10",
      "model_name": "LassoSelectorModel",
      "state": {
       "_model_module_version": "^0.5.10",
       "_view_module_version": "^0.5.10",
       "marks": [
        "IPY_MODEL_88f93b8885134f87b831a3bd8c1eb480",
        "IPY_MODEL_380fd09a735443dbaa000330cf19a7ce"
       ]
      }
     },
     "4946d3ac122d47c79caeaa61de218c4d": {
      "model_module": "bqplot",
      "model_module_version": "^0.5.10",
      "model_name": "LinearScaleModel",
      "state": {
       "_model_module_version": "^0.5.10",
       "_view_module_version": "^0.5.10",
       "stabilized": false
      }
     },
     "49acd346f6f2485baf6029128b6451ad": {
      "model_module": "bqplot",
      "model_module_version": "^0.5.10",
      "model_name": "DateScaleModel",
      "state": {
       "_model_module_version": "^0.5.10",
       "_view_module_version": "^0.5.10",
       "min": "2007-01-01T00:00:00.000Z"
      }
     },
     "4a63678f56c246a292a0a6ef33bb0b54": {
      "model_module": "bqplot",
      "model_module_version": "^0.5",
      "model_name": "LinearScaleModel",
      "state": {
       "_model_module_version": "^0.5",
       "_view_module_version": "^0.5",
       "allow_padding": false,
       "max": 1,
       "min": 0,
       "stabilized": false
      }
     },
     "4aa02be2c43b4a5ea037dcd4788bb01a": {
      "model_module": "@jupyter-widgets/controls",
      "model_module_version": "1.5.0",
      "model_name": "HTMLModel",
      "state": {
       "layout": "IPY_MODEL_01b2cb433eba4258ac8a849c0e056c5d",
       "style": "IPY_MODEL_15d60a15eeb24a4fa391d6c8fb66eb2d",
       "value": "The selected period is None"
      }
     },
     "4b1b221269f9477fbc6eeb56b87ffef5": {
      "model_module": "bqplot",
      "model_module_version": "^0.5.10",
      "model_name": "BrushIntervalSelectorModel",
      "state": {
       "_model_module_version": "^0.5.10",
       "_view_module_version": "^0.5.10",
       "color": "FireBrick",
       "marks": [
        "IPY_MODEL_c7d5bcce8eac4d36b7a9152ab183957d"
       ],
       "scale": "IPY_MODEL_3c0aebfb53cd4e7882bde6136317be91"
      }
     },
     "4b3c63e1327b47829b9cedebbb2043dd": {
      "model_module": "@jupyter-widgets/controls",
      "model_module_version": "1.5.0",
      "model_name": "HTMLModel",
      "state": {
       "layout": "IPY_MODEL_f3de96c2f40a4ce6881005d9d5f02025",
       "style": "IPY_MODEL_1a9047ac72e34a92be6d7333bd7c9787",
       "value": "{}"
      }
     },
     "4b556481c8464c00a52da8435ab22370": {
      "model_module": "bqplot",
      "model_module_version": "^0.5.10",
      "model_name": "AxisModel",
      "state": {
       "_model_module_version": "^0.5.10",
       "_view_module_version": "^0.5.10",
       "label": "Date",
       "scale": "IPY_MODEL_c9c76ac8ba4f4d91af35beec23e50607",
       "side": "bottom",
       "tick_values": null
      }
     },
     "4bd5657c24f84159816b66cb0052db3e": {
      "model_module": "@jupyter-widgets/base",
      "model_module_version": "1.2.0",
      "model_name": "LayoutModel",
      "state": {}
     },
     "4be47324e5784eef9e1351682a406eb4": {
      "model_module": "@jupyter-widgets/base",
      "model_module_version": "1.2.0",
      "model_name": "LayoutModel",
      "state": {}
     },
     "4c005a4b22a64c5cbbd6751d98b7eb9d": {
      "model_module": "bqplot",
      "model_module_version": "^0.5.3",
      "model_name": "AxisModel",
      "state": {
       "_model_module_version": "^0.5.3",
       "_view_module_version": "^0.5.3",
       "label": "Date",
       "scale": "IPY_MODEL_2749b0d8996e41d780c62ba7cc457a3b",
       "side": "bottom",
       "tick_values": null
      }
     },
     "4c358b600f194795aa528083d56550cf": {
      "buffers": [
       {
        "data": "AACASa/9cEIAAECvAf5wQgAAABVU/nBCAADAeqb+cEIAAIDg+P5wQgAAQEZL/3BCAAAArJ3/cEIAAMAR8P9wQgAAgHdCAHFCAABA3ZQAcUIAAABD5wBxQgAAwKg5AXFCAACADowBcUIAAEB03gFxQgAAANowAnFCAADAP4MCcUIAAICl1QJxQgAAQAsoA3FCAAAAcXoDcUIAAMDWzANxQgAAgDwfBHFCAABAonEEcUIAAAAIxARxQgAAwG0WBXFCAACA02gFcUIAAEA5uwVxQgAAAJ8NBnFCAADABGAGcUIAAIBqsgZxQgAAQNAEB3FCAAAANlcHcUIAAMCbqQdxQgAAgAH8B3FCAABAZ04IcUIAAADNoAhxQgAAwDLzCHFCAACAmEUJcUIAAED+lwlxQgAAAGTqCXFCAADAyTwKcUIAAIAvjwpxQgAAQJXhCnFCAAAA+zMLcUIAAMBghgtxQgAAgMbYC3FCAABALCsMcUIAAACSfQxxQgAAwPfPDHFCAACAXSINcUIAAEDDdA1xQgAAACnHDXFCAADAjhkOcUIAAID0aw5xQgAAQFq+DnFCAAAAwBAPcUIAAMAlYw9xQgAAgIu1D3FCAABA8QcQcUIAAABXWhBxQgAAwLysEHFCAACAIv8QcUIAAECIURFxQgAAAO6jEXFCAADAU/YRcUIAAIC5SBJxQgAAQB+bEnFCAAAAhe0ScUIAAMDqPxNxQgAAgFCSE3FCAABAtuQTcUIAAAAcNxRxQgAAwIGJFHFCAACA59sUcUIAAEBNLhVxQgAAALOAFXFCAADAGNMVcUIAAIB+JRZxQgAAQOR3FnFCAAAASsoWcUIAAMCvHBdxQgAAgBVvF3FCAABAe8EXcUIAAADhExhxQgAAwEZmGHFCAACArLgYcUIAAEASCxlxQgAAAHhdGXFCAADA3a8ZcUIAAIBDAhpxQgAAQKlUGnFCAAAAD6cacUIAAMB0+RpxQgAAgNpLG3FCAABAQJ4bcUIAAACm8BtxQgAAwAtDHHFCAACAcZUccUIAAEDX5xxxQgAAAD06HXFCAADAoowdcUIAAIAI3x1xQgAAQG4xHnFCAAAA1IMecUIAAMA51h5xQgAAgJ8oH3FCAABABXsfcUIAAABrzR9xQgAAwNAfIHFCAACANnIgcUIAAECcxCBxQgAAAAIXIXFCAADAZ2khcUIAAIDNuyFxQgAAQDMOInFCAAAAmWAicUIAAMD+siJxQgAAgGQFI3FCAABAylcjcUIAAAAwqiNxQgAAwJX8I3FCAACA+04kcUIAAEBhoSRxQgAAAMfzJHFCAADALEYlcUIAAICSmCVxQgAAQPjqJXFCAAAAXj0mcUIAAMDDjyZxQgAAgCniJnFCAABAjzQncUIAAAD1hidxQgAAwFrZJ3FCAACAwCsocUIAAEAmfihxQgAAAIzQKHFCAADA8SIpcUIAAIBXdSlxQgAAQL3HKXFCAAAAIxoqcUIAAMCIbCpxQgAAgO6+KnFCAABAVBErcUIAAAC6YytxQgAAwB+2K3FCAACAhQgscUIAAEDrWixxQgAAAFGtLHFCAADAtv8scUIAAIAcUi1xQgAAQIKkLXFC",
        "encoding": "base64",
        "path": [
         "x",
         "value"
        ]
       },
       {
        "data": "WoiU/IUfWUBDumk0IOdYQAJPyZTTLllA6+0yWGg2WUAUdELZDxlZQFpAaMDsVFlAe6Otam2DWUCJe14ZB6tZQFncswUQvllAn4Q8RwKhWUA5+4rEaPVZQIDaYYe7vVlAupZNiLmqWUA0JHRFp8FZQP9AFmO33FlAqueqPhm8WUDcShdkuudZQANj0jJ4mllAmHw+O5HMWUCbX+TGU9JZQIor/9d0zVlAbAnv0InLWUAUZevkE3ZZQMBaGEtfNFlAAs0119t/WUA0000/Br1ZQEjzxcGrzllAfVNKPoTYWUCQ3vZL659ZQMvkDiu6oVlAA8idyCfLWUBkklmux+VZQO2VKmaxJFpAKRY2VSlPWkCF2N0ure5ZQNLRSOevN1pA6Xtg2F1xWkATwDEL1WxaQA5Q+4W8gFpA7hhp5nCqWkARfLF+bP9aQGO69LEc9lpAAMI5VF7aWkCBdI9X5J5aQEKjohAi/1pAUOFejws1W0AjDwJvlSJbQAiIz71pQFtAT1UkuKddW0CJ9TmOEE5bQAlzBVi4SltAlpTIjCITW0AV6aUznhRbQEYvTAIG31pAVyUEaEr2WkBc1kk7Ct1aQOar/83XM1tAO7FiRUkFW0Dm0pp+sbpaQMRax+jpHltAQf1VAdwpW0BGXl9WOlRbQIzngbwDKFtApg71sXHqWkAum9p1ispaQIKV70ss31pAzXOWyrvmWkDYnY6H3OlaQGTtjRCkwVpA5x2pkTrQWkAbPCzJKOFaQAx39t4a2VpANP5ABIbhWkAShfzvDSBbQFLpUEXlQ1tAin03kRxQW0BRzsPlFkVbQPP/CwqqO1tAHu1s36U6W0BLtnxjG1ZbQIB9fDG/T1tAci8qSMpEW0Ans2HBnz5bQLkPT9qsD1tAheR9UX8AW0AuvEjW4QtbQHkVCsKkzFpAMSBXprLaWkDP5BuxtuBaQJQMzJmO4FpATAap0MTBWkDD7eaTCmhaQNhI9vslYFpAFc6SbYBzWkBOPZeOi4daQJQZCBv+wFpAoHTEXFeoWkDFV+PqQKZaQGgJZA6qelpATTDBB3CkWkBa70srJDFaQC5KcE7PlFpAHFH/Oi+JWkBsYEUu5K9aQO8pEkk0jVpAEV5qiKqaWkBsqOs7oWdaQI80aR1OmVpAiD8ZJDx4WkDsVweHW1VaQGovMA/ZfVpAouIULIOfWkCImMLfgbJaQEsmQ6XRa1pAlExZ/N+kWkCZqDaLmKxaQDTmGUFnn1pAN2/1fDPSWkA7RF5EpqJaQEF/PTYXj1pANrpJe7KMWkCaaoLI3llaQExxGVy+I1pAOycYHM0YWkDqLT3aXzlaQPMmI55UiVpAGcKk+9psWkCTiBrgAzVaQDAObjCdF1pAr/wJTUx0WkAW6P3kgFtaQEVma3lXUVpAtAVgc0hLWkDkwUwT4nVaQDC7faiDW1pA4uHya9BBWkC/JPsiDRJaQJmJO9MFCVpAolTSOqDWWUAOaHHQAbNZQGX6fwecu1lAxJAoGI2/WUBF+/9NE7JZQKysNKZdsFlAaRweiEx2WUCju9PA721ZQA1CqXCnNVlAGbR7vm5OWUBPELQ9XWtZQA34u6XbNFlA",
        "encoding": "base64",
        "path": [
         "y",
         "value"
        ]
       }
      ],
      "model_module": "bqplot",
      "model_module_version": "^0.5.3",
      "model_name": "LinesModel",
      "state": {
       "_model_module_version": "^0.5.3",
       "_view_module_version": "^0.5.3",
       "fill_colors": [],
       "labels": [
        "C1"
       ],
       "scales": {
        "x": "IPY_MODEL_9393898c9d6446ebbca43acec12ffbca",
        "y": "IPY_MODEL_2a1a9a94e08343b48e18d416d0cf6b1d"
       },
       "x": {
        "dtype": "float64",
        "shape": [
         150
        ],
        "type": "date"
       },
       "y": {
        "dtype": "float64",
        "shape": [
         150
        ],
        "type": null
       }
      }
     },
     "4cd7739c1f3641ddb34e8466d8f865f3": {
      "model_module": "bqplot",
      "model_module_version": "^0.5.10",
      "model_name": "LinearScaleModel",
      "state": {
       "_model_module_version": "^0.5.10",
       "_view_module_version": "^0.5.10",
       "stabilized": false
      }
     },
     "4d59ff68ab48406d834bc665ae6853e7": {
      "model_module": "@jupyter-widgets/base",
      "model_module_version": "1.2.0",
      "model_name": "LayoutModel",
      "state": {}
     },
     "4d67349c1234449a8497e56e7d435a75": {
      "model_module": "@jupyter-widgets/base",
      "model_module_version": "1.2.0",
      "model_name": "LayoutModel",
      "state": {}
     },
     "4eba90e9c5de4146b6a2fdee312c4ae4": {
      "model_module": "bqplot",
      "model_module_version": "^0.5.3",
      "model_name": "LinearScaleModel",
      "state": {
       "_model_module_version": "^0.5.3",
       "_view_module_version": "^0.5.3",
       "max": 10,
       "min": 5,
       "stabilized": false
      }
     },
     "4ef9da35769648af9c837d8880ed2d38": {
      "model_module": "@jupyter-widgets/base",
      "model_module_version": "1.2.0",
      "model_name": "LayoutModel",
      "state": {}
     },
     "4f19e2f3ba754d5586cccf7778084d88": {
      "model_module": "bqplot",
      "model_module_version": "^0.5.3",
      "model_name": "LinearScaleModel",
      "state": {
       "_model_module_version": "^0.5.3",
       "_view_module_version": "^0.5.3",
       "allow_padding": false,
       "max": 1,
       "min": 0,
       "stabilized": false
      }
     },
     "4f3c67e318e349f3aeb2a38f98cd4804": {
      "model_module": "bqplot",
      "model_module_version": "^0.5",
      "model_name": "LinearScaleModel",
      "state": {
       "_model_module_version": "^0.5",
       "_view_module_version": "^0.5",
       "allow_padding": false,
       "max": 1,
       "min": 0,
       "stabilized": false
      }
     },
     "4f76a89ca0bf49da8482a70b800c9226": {
      "model_module": "@jupyter-widgets/controls",
      "model_module_version": "1.5.0",
      "model_name": "DescriptionStyleModel",
      "state": {
       "description_width": ""
      }
     },
     "4fcebe85f32e4d968de78509dff92973": {
      "model_module": "@jupyter-widgets/controls",
      "model_module_version": "1.5.0",
      "model_name": "DescriptionStyleModel",
      "state": {
       "description_width": ""
      }
     },
     "4fe6daf563464e86be3380edbb140be5": {
      "model_module": "@jupyter-widgets/controls",
      "model_module_version": "1.5.0",
      "model_name": "DescriptionStyleModel",
      "state": {
       "description_width": ""
      }
     },
     "502e83aff46f4e55b04bc261cce50fcb": {
      "model_module": "bqplot",
      "model_module_version": "^0.5.10",
      "model_name": "LinearScaleModel",
      "state": {
       "_model_module_version": "^0.5.10",
       "_view_module_version": "^0.5.10",
       "stabilized": false
      }
     },
     "5084ff6d6c9f40739c77acd6e8458b2d": {
      "model_module": "@jupyter-widgets/controls",
      "model_module_version": "1.5.0",
      "model_name": "VBoxModel",
      "state": {
       "children": [
        "IPY_MODEL_29ca4a3ceb174f318f676bc8d4d17b94",
        "IPY_MODEL_faecefede70e40de89bf42a68bc4f0db",
        "IPY_MODEL_760c267988cd481b9b76f93917d7eeac"
       ],
       "layout": "IPY_MODEL_37c23b16186145748a6d9fd9167e61fe"
      }
     },
     "513415bf9c944854bb9199a5f2a3bf57": {
      "buffers": [
       {
        "data": "AAAAAAAA8D8=",
        "encoding": "base64",
        "path": [
         "default_opacities",
         "value"
        ]
       },
       {
        "data": "AACASa/9cEIAAECvAf5wQgAAABVU/nBCAADAeqb+cEIAAIDg+P5wQgAAQEZL/3BCAAAArJ3/cEIAAMAR8P9wQgAAgHdCAHFCAABA3ZQAcUIAAABD5wBxQgAAwKg5AXFCAACADowBcUIAAEB03gFxQgAAANowAnFCAADAP4MCcUIAAICl1QJxQgAAQAsoA3FCAAAAcXoDcUIAAMDWzANxQgAAgDwfBHFCAABAonEEcUIAAAAIxARxQgAAwG0WBXFCAACA02gFcUIAAEA5uwVxQgAAAJ8NBnFCAADABGAGcUIAAIBqsgZxQgAAQNAEB3FCAAAANlcHcUIAAMCbqQdxQgAAgAH8B3FCAABAZ04IcUIAAADNoAhxQgAAwDLzCHFCAACAmEUJcUIAAED+lwlxQgAAAGTqCXFCAADAyTwKcUIAAIAvjwpxQgAAQJXhCnFCAAAA+zMLcUIAAMBghgtxQgAAgMbYC3FCAABALCsMcUIAAACSfQxxQgAAwPfPDHFCAACAXSINcUIAAEDDdA1xQgAAACnHDXFCAADAjhkOcUIAAID0aw5xQgAAQFq+DnFCAAAAwBAPcUIAAMAlYw9xQgAAgIu1D3FCAABA8QcQcUIAAABXWhBxQgAAwLysEHFCAACAIv8QcUIAAECIURFxQgAAAO6jEXFCAADAU/YRcUIAAIC5SBJxQgAAQB+bEnFCAAAAhe0ScUIAAMDqPxNxQgAAgFCSE3FCAABAtuQTcUIAAAAcNxRxQgAAwIGJFHFCAACA59sUcUIAAEBNLhVxQgAAALOAFXFCAADAGNMVcUIAAIB+JRZxQgAAQOR3FnFCAAAASsoWcUIAAMCvHBdxQgAAgBVvF3FCAABAe8EXcUIAAADhExhxQgAAwEZmGHFCAACArLgYcUIAAEASCxlxQgAAAHhdGXFCAADA3a8ZcUIAAIBDAhpxQgAAQKlUGnFCAAAAD6cacUIAAMB0+RpxQgAAgNpLG3FCAABAQJ4bcUIAAACm8BtxQgAAwAtDHHFCAACAcZUccUIAAEDX5xxxQgAAAD06HXFCAADAoowdcUIAAIAI3x1xQgAAQG4xHnFCAAAA1IMecUIAAMA51h5xQgAAgJ8oH3FCAABABXsfcUIAAABrzR9xQgAAwNAfIHFCAACANnIgcUIAAECcxCBxQgAAAAIXIXFCAADAZ2khcUIAAIDNuyFxQgAAQDMOInFCAAAAmWAicUIAAMD+siJxQgAAgGQFI3FCAABAylcjcUIAAAAwqiNxQgAAwJX8I3FCAACA+04kcUIAAEBhoSRxQgAAAMfzJHFCAADALEYlcUIAAICSmCVxQgAAQPjqJXFCAAAAXj0mcUIAAMDDjyZxQgAAgCniJnFCAABAjzQncUIAAAD1hidxQgAAwFrZJ3FCAACAwCsocUIAAEAmfihxQgAAAIzQKHFCAADA8SIpcUIAAIBXdSlxQgAAQL3HKXFCAAAAIxoqcUIAAMCIbCpxQgAAgO6+KnFCAABAVBErcUIAAAC6YytxQgAAwB+2K3FCAACAhQgscUIAAEDrWixxQgAAAFGtLHFCAADAtv8scUIAAIAcUi1xQgAAQIKkLXFC",
        "encoding": "base64",
        "path": [
         "x",
         "value"
        ]
       },
       {
        "data": "Rj59ZvwIWUBksTmJObBYQLa1jjtdOFlAm3PVTzIjWUBxnk6XzRFZQAfpnG0xrllA4J5XaRDbWUC/gy17LN9ZQAgFP+/SKlpAyjHqjHncWUCi+iQ1G35aQMa29z8uGFpApBDo1PHbWUA5Wq1zTh9aQN0jp5YLDVpAG8Qnre7QWUAttT86aR5aQNpES2IJkllArAb4wYzVWUAsotC4drNZQLZ11GNyrVlATDFngrvBWUBW0C5TQ0VZQON7v8Wq1lhAAy33kJhXWUD5fcXVqaVZQDKZ2WT0fllAni4uwPJ4WUC0koFsBgJZQOvyQ4cjMVlA96/hjJh1WUA25JXkVrRZQGfTNN2x6llAUWkOrUk9WkCkQcrr4LJZQFlMl5CxBlpAq28/9qFOWkAA5u8BgwNaQK+FcclYHFpAmEq3ESMzWkBDYaBK3KpaQOEaF+O/klpAG9HZr4eRWkDGKBr49VpaQGUN0gUT4FpATCb/0owYW0CCRqFDpRVbQEAvMRnqXltAFujoirelW0Adc+JU9nxbQKz9jrA4ZVtANDKEjuHwWkASinIxIf5aQFhgawbElFpAgMWD8kCXWkDyJODLk5taQMuZLlvqVltAgbRGybsIW0CuocbXJZZaQESpiQRtKFtAE1OloZdDW0DkRLgaPo5bQG5fLDMTNFtAKETU3ggHW0AQ1bB4rAZbQLIyB0LIQltA1pwf36pdW0BMWY1TAmVbQKKg2fvhL1tAfPXxbqo5W0DQOowceFhbQJz2wvhCI1tAYG09jW0nW0BTiqwBpMdbQJu14cFW+ltAny4ff27/W0AIjoaWBOVbQFDNFznow1tAkNYaY3a7W0B7ZoB3afRbQPjuTwZvOVxAiPvXuUdvXECqCVR0c09cQD+TxqZ9D1xAq9Fmqm8NXEAlVcXlRyxcQI4/S8GVtVtAhzZCpfjUW0DPVUr6cdhbQOcu4ab/7FtAJfRpoRfLW0DQ7Rp3W09bQMdKdlSaG1tAq/nafhtAW0D8XlBUqENbQEcjhO96wFtAHsLla7rGW0CaTw+BfeBbQEy/ok/rjFtA+VmHcS/CW0D4j4jgovpaQJJIWmhmfFtApHRkNutJW0BfGORjfoVbQC6wusV3gVtAMTS1WqRMW0Cd5AVl3B9bQIVGXK87SltAkP86WFclW0DATLc55iRbQHxNic5bQFtAOWvEBQ+VW0Dw3CNqvaNbQJp+LPsgaVtAynZKy5v4W0DkVlxwPiNcQA88EijuE1xAmRQmI9xKXECXLmxgRRRcQHDHOx61zltAFVo7tDvjW0AYz8tO6aFbQFchMm7nYFtAQGeaFLRaW0Au4fYVDcNbQHT3Mtc8HVxA28yo65f1W0DaOjwx9pBbQOOORFH+SVtAjXcWPgr7W0B9nneTSO1bQNdWBJjWA1xAIBbPnyP4W0DX2HDlaDtcQLDSXE0ALFxAon0peegMXEDkI8uIzpVbQCILUBj7oVtAM9w1Xh5kW0C/8/ACHTVbQNDSN6FvRltASCk7hweCW0BQZZ5ulYRbQG/DCgXIXVtADSLwaCj/WkCGEJZeWLpaQBe48MfJbFpAg3HK0rtKWkD1QnU8AXtaQDNCx3aA8llA",
        "encoding": "base64",
        "path": [
         "y",
         "value"
        ]
       }
      ],
      "model_module": "bqplot",
      "model_module_version": "^0.5.3",
      "model_name": "ScatterModel",
      "state": {
       "_model_module_version": "^0.5.3",
       "_view_module_version": "^0.5.3",
       "default_opacities": {
        "dtype": "float64",
        "shape": [
         1
        ],
        "type": null
       },
       "names": null,
       "scales": {
        "x": "IPY_MODEL_00f6aee200444cee86e5a9b7f346c49e",
        "y": "IPY_MODEL_cd9dd453ef134a6a8462d053a83dab4e"
       },
       "scales_metadata": {
        "color": {
         "dimension": "color"
        },
        "opacity": {
         "dimension": "opacity"
        },
        "rotation": {
         "dimension": "rotation"
        },
        "size": {
         "dimension": "size"
        },
        "skew": {
         "dimension": "skew"
        },
        "x": {
         "dimension": "x",
         "orientation": "horizontal"
        },
        "y": {
         "dimension": "y",
         "orientation": "vertical"
        }
       },
       "x": {
        "dtype": "float64",
        "shape": [
         150
        ],
        "type": "date"
       },
       "y": {
        "dtype": "float64",
        "shape": [
         150
        ],
        "type": null
       }
      }
     },
     "515831a779824c35aa0622065502ff0b": {
      "model_module": "@jupyter-widgets/controls",
      "model_module_version": "1.5.0",
      "model_name": "VBoxModel",
      "state": {
       "children": [
        "IPY_MODEL_78b194d91ef24470997f498149c0e64b",
        "IPY_MODEL_345e3b4a4a46426b9cf9ee97c20df7c0"
       ],
       "layout": "IPY_MODEL_87b4c52d07de4540ba5e2dbb19545b53"
      }
     },
     "51e6dbdebb3e493a84140d1af7e159af": {
      "model_module": "bqplot",
      "model_module_version": "^0.5",
      "model_name": "AxisModel",
      "state": {
       "_model_module_version": "^0.5",
       "_view_module_version": "^0.5",
       "grid_lines": "none",
       "label": "Price",
       "orientation": "vertical",
       "scale": "IPY_MODEL_7e3a95003c414fc4a17e813fdce41eb1",
       "side": "left",
       "tick_labels": {},
       "tick_values": null
      }
     },
     "51ecf7dc40b946c8960e591546a84865": {
      "buffers": [
       {
        "data": "AACASa/9cEIAAECvAf5wQgAAABVU/nBCAADAeqb+cEIAAIDg+P5wQgAAQEZL/3BCAAAArJ3/cEIAAMAR8P9wQgAAgHdCAHFCAABA3ZQAcUIAAABD5wBxQgAAwKg5AXFCAACADowBcUIAAEB03gFxQgAAANowAnFCAADAP4MCcUIAAICl1QJxQgAAQAsoA3FCAAAAcXoDcUIAAMDWzANxQgAAgDwfBHFCAABAonEEcUIAAAAIxARxQgAAwG0WBXFCAACA02gFcUIAAEA5uwVxQgAAAJ8NBnFCAADABGAGcUIAAIBqsgZxQgAAQNAEB3FCAAAANlcHcUIAAMCbqQdxQgAAgAH8B3FCAABAZ04IcUIAAADNoAhxQgAAwDLzCHFCAACAmEUJcUIAAED+lwlxQgAAAGTqCXFCAADAyTwKcUIAAIAvjwpxQgAAQJXhCnFCAAAA+zMLcUIAAMBghgtxQgAAgMbYC3FCAABALCsMcUIAAACSfQxxQgAAwPfPDHFCAACAXSINcUIAAEDDdA1xQgAAACnHDXFCAADAjhkOcUIAAID0aw5xQgAAQFq+DnFCAAAAwBAPcUIAAMAlYw9xQgAAgIu1D3FCAABA8QcQcUIAAABXWhBxQgAAwLysEHFCAACAIv8QcUIAAECIURFxQgAAAO6jEXFCAADAU/YRcUIAAIC5SBJxQgAAQB+bEnFCAAAAhe0ScUIAAMDqPxNxQgAAgFCSE3FCAABAtuQTcUIAAAAcNxRxQgAAwIGJFHFCAACA59sUcUIAAEBNLhVxQgAAALOAFXFCAADAGNMVcUIAAIB+JRZxQgAAQOR3FnFCAAAASsoWcUIAAMCvHBdxQgAAgBVvF3FCAABAe8EXcUIAAADhExhxQgAAwEZmGHFCAACArLgYcUIAAEASCxlxQgAAAHhdGXFCAADA3a8ZcUIAAIBDAhpxQgAAQKlUGnFCAAAAD6cacUIAAMB0+RpxQgAAgNpLG3FCAABAQJ4bcUIAAACm8BtxQgAAwAtDHHFCAACAcZUccUIAAEDX5xxxQgAAAD06HXFCAADAoowdcUIAAIAI3x1xQgAAQG4xHnFCAAAA1IMecUIAAMA51h5xQgAAgJ8oH3FCAABABXsfcUIAAABrzR9xQgAAwNAfIHFCAACANnIgcUIAAECcxCBxQgAAAAIXIXFCAADAZ2khcUIAAIDNuyFxQgAAQDMOInFCAAAAmWAicUIAAMD+siJxQgAAgGQFI3FCAABAylcjcUIAAAAwqiNxQgAAwJX8I3FCAACA+04kcUIAAEBhoSRxQgAAAMfzJHFCAADALEYlcUIAAICSmCVxQgAAQPjqJXFCAAAAXj0mcUIAAMDDjyZxQgAAgCniJnFCAABAjzQncUIAAAD1hidxQgAAwFrZJ3FCAACAwCsocUIAAEAmfihxQgAAAIzQKHFCAADA8SIpcUIAAIBXdSlxQgAAQL3HKXFCAAAAIxoqcUIAAMCIbCpxQgAAgO6+KnFCAABAVBErcUIAAAC6YytxQgAAwB+2K3FCAACAhQgscUIAAEDrWixxQgAAAFGtLHFCAADAtv8scUIAAIAcUi1xQgAAQIKkLXFC",
        "encoding": "base64",
        "path": [
         "x",
         "value"
        ]
       },
       {
        "data": "Rj59ZvwIWUBksTmJObBYQLa1jjtdOFlAm3PVTzIjWUBxnk6XzRFZQAfpnG0xrllA4J5XaRDbWUC/gy17LN9ZQAgFP+/SKlpAyjHqjHncWUCi+iQ1G35aQMa29z8uGFpApBDo1PHbWUA5Wq1zTh9aQN0jp5YLDVpAG8Qnre7QWUAttT86aR5aQNpES2IJkllArAb4wYzVWUAsotC4drNZQLZ11GNyrVlATDFngrvBWUBW0C5TQ0VZQON7v8Wq1lhAAy33kJhXWUD5fcXVqaVZQDKZ2WT0fllAni4uwPJ4WUC0koFsBgJZQOvyQ4cjMVlA96/hjJh1WUA25JXkVrRZQGfTNN2x6llAUWkOrUk9WkCkQcrr4LJZQFlMl5CxBlpAq28/9qFOWkAA5u8BgwNaQK+FcclYHFpAmEq3ESMzWkBDYaBK3KpaQOEaF+O/klpAG9HZr4eRWkDGKBr49VpaQGUN0gUT4FpATCb/0owYW0CCRqFDpRVbQEAvMRnqXltAFujoirelW0Adc+JU9nxbQKz9jrA4ZVtANDKEjuHwWkASinIxIf5aQFhgawbElFpAgMWD8kCXWkDyJODLk5taQMuZLlvqVltAgbRGybsIW0CuocbXJZZaQESpiQRtKFtAE1OloZdDW0DkRLgaPo5bQG5fLDMTNFtAKETU3ggHW0AQ1bB4rAZbQLIyB0LIQltA1pwf36pdW0BMWY1TAmVbQKKg2fvhL1tAfPXxbqo5W0DQOowceFhbQJz2wvhCI1tAYG09jW0nW0BTiqwBpMdbQJu14cFW+ltAny4ff27/W0AIjoaWBOVbQFDNFznow1tAkNYaY3a7W0B7ZoB3afRbQPjuTwZvOVxAiPvXuUdvXECqCVR0c09cQD+TxqZ9D1xAq9Fmqm8NXEAlVcXlRyxcQI4/S8GVtVtAhzZCpfjUW0DPVUr6cdhbQOcu4ab/7FtAJfRpoRfLW0DQ7Rp3W09bQMdKdlSaG1tAq/nafhtAW0D8XlBUqENbQEcjhO96wFtAHsLla7rGW0CaTw+BfeBbQEy/ok/rjFtA+VmHcS/CW0D4j4jgovpaQJJIWmhmfFtApHRkNutJW0BfGORjfoVbQC6wusV3gVtAMTS1WqRMW0Cd5AVl3B9bQIVGXK87SltAkP86WFclW0DATLc55iRbQHxNic5bQFtAOWvEBQ+VW0Dw3CNqvaNbQJp+LPsgaVtAynZKy5v4W0DkVlxwPiNcQA88EijuE1xAmRQmI9xKXECXLmxgRRRcQHDHOx61zltAFVo7tDvjW0AYz8tO6aFbQFchMm7nYFtAQGeaFLRaW0Au4fYVDcNbQHT3Mtc8HVxA28yo65f1W0DaOjwx9pBbQOOORFH+SVtAjXcWPgr7W0B9nneTSO1bQNdWBJjWA1xAIBbPnyP4W0DX2HDlaDtcQLDSXE0ALFxAon0peegMXEDkI8uIzpVbQCILUBj7oVtAM9w1Xh5kW0C/8/ACHTVbQNDSN6FvRltASCk7hweCW0BQZZ5ulYRbQG/DCgXIXVtADSLwaCj/WkCGEJZeWLpaQBe48MfJbFpAg3HK0rtKWkD1QnU8AXtaQDNCx3aA8llA",
        "encoding": "base64",
        "path": [
         "y",
         "value"
        ]
       }
      ],
      "model_module": "bqplot",
      "model_module_version": "^0.5.3",
      "model_name": "LinesModel",
      "state": {
       "_model_module_version": "^0.5.3",
       "_view_module_version": "^0.5.3",
       "colors": [
        "red"
       ],
       "fill_colors": [],
       "labels": [
        "C1"
       ],
       "scales": {
        "x": "IPY_MODEL_663fd5d262b94af298e3a0f4d0e0eba5",
        "y": "IPY_MODEL_29aab346a3ff413ea02e1a3338798ec3"
       },
       "x": {
        "dtype": "float64",
        "shape": [
         150
        ],
        "type": "date"
       },
       "y": {
        "dtype": "float64",
        "shape": [
         150
        ],
        "type": null
       }
      }
     },
     "521fc94f36964629a35ec4f75981d4f6": {
      "model_module": "bqplot",
      "model_module_version": "^0.5.3",
      "model_name": "FigureModel",
      "state": {
       "_model_module_version": "^0.5.3",
       "_view_module_version": "^0.5.3",
       "axes": [
        "IPY_MODEL_d98f0efeca344c8fb4e96ada35bc73a2",
        "IPY_MODEL_679443bdbbc24de690234369490da513"
       ],
       "interaction": "IPY_MODEL_f44da1d7c147487bbb0a81e25915a809",
       "layout": "IPY_MODEL_6baea96ff3214fd3adeb979e252f2c6f",
       "marks": [
        "IPY_MODEL_dda36f6fb6b3484ba696573704a13f0d"
       ],
       "scale_x": "IPY_MODEL_e629b0de09a24665874ef9f14779dedc",
       "scale_y": "IPY_MODEL_5c3fb9b2932d4c42b1c297ed35c81769",
       "title": "Scatter Chart Brush Selector Example"
      }
     },
     "52ab8f731a144e5d91863890608353a5": {
      "model_module": "@jupyter-widgets/controls",
      "model_module_version": "1.5.0",
      "model_name": "HTMLModel",
      "state": {
       "layout": "IPY_MODEL_eaf61741b13d410387026acfdbb869db",
       "style": "IPY_MODEL_7e98bd59374e44cea84d05d5d8182a94",
       "value": "None"
      }
     },
     "52c41cac94964e5795417eae1f22f41d": {
      "model_module": "bqplot",
      "model_module_version": "^0.5.10",
      "model_name": "LinearScaleModel",
      "state": {
       "_model_module_version": "^0.5.10",
       "_view_module_version": "^0.5.10",
       "allow_padding": false,
       "max": 1,
       "min": 0,
       "stabilized": false
      }
     },
     "53038cd0cb284b98bcb6dbf29268d366": {
      "model_module": "bqplot",
      "model_module_version": "^0.5.10",
      "model_name": "DateScaleModel",
      "state": {
       "_model_module_version": "^0.5.10",
       "_view_module_version": "^0.5.10"
      }
     },
     "544e95a68bca46b7a1fefc372367e8ff": {
      "model_module": "bqplot",
      "model_module_version": "^0.5.3",
      "model_name": "FigureModel",
      "state": {
       "_model_module_version": "^0.5.3",
       "_view_module_version": "^0.5.3",
       "axes": [
        "IPY_MODEL_22c03648b28148e1ac87f1b1d0e4e2eb",
        "IPY_MODEL_65ea1861fe4c4bcb9343f821610cedc9"
       ],
       "interaction": "IPY_MODEL_a4a33d79de0a48038e046194355afb35",
       "layout": "IPY_MODEL_26e6ce810d4e4de7b37d1636cbc06b54",
       "marks": [
        "IPY_MODEL_bc84319a691a456bac9ea0a09804182a",
        "IPY_MODEL_11188a190401427699ea8ccc6ae867a6",
        "IPY_MODEL_5c3e448269604d79901c11d9b63048e8"
       ],
       "scale_x": "IPY_MODEL_3c84d1f568be49a6a2792c1a54f09eb9",
       "scale_y": "IPY_MODEL_c77b3f8399c54746b5c50d928e2cd548",
       "title": "Lasso Selector Example"
      }
     },
     "5494d197d792469082c290dce239e532": {
      "buffers": [
       {
        "data": "AACASa/9cEIAAECvAf5wQgAAABVU/nBCAADAeqb+cEIAAIDg+P5wQgAAQEZL/3BCAAAArJ3/cEIAAMAR8P9wQgAAgHdCAHFCAABA3ZQAcUIAAABD5wBxQgAAwKg5AXFCAACADowBcUIAAEB03gFxQgAAANowAnFCAADAP4MCcUIAAICl1QJxQgAAQAsoA3FCAAAAcXoDcUIAAMDWzANxQgAAgDwfBHFCAABAonEEcUIAAAAIxARxQgAAwG0WBXFCAACA02gFcUIAAEA5uwVxQgAAAJ8NBnFCAADABGAGcUIAAIBqsgZxQgAAQNAEB3FCAAAANlcHcUIAAMCbqQdxQgAAgAH8B3FCAABAZ04IcUIAAADNoAhxQgAAwDLzCHFCAACAmEUJcUIAAED+lwlxQgAAAGTqCXFCAADAyTwKcUIAAIAvjwpxQgAAQJXhCnFCAAAA+zMLcUIAAMBghgtxQgAAgMbYC3FCAABALCsMcUIAAACSfQxxQgAAwPfPDHFCAACAXSINcUIAAEDDdA1xQgAAACnHDXFCAADAjhkOcUIAAID0aw5xQgAAQFq+DnFCAAAAwBAPcUIAAMAlYw9xQgAAgIu1D3FCAABA8QcQcUIAAABXWhBxQgAAwLysEHFCAACAIv8QcUIAAECIURFxQgAAAO6jEXFCAADAU/YRcUIAAIC5SBJxQgAAQB+bEnFCAAAAhe0ScUIAAMDqPxNxQgAAgFCSE3FCAABAtuQTcUIAAAAcNxRxQgAAwIGJFHFCAACA59sUcUIAAEBNLhVxQgAAALOAFXFCAADAGNMVcUIAAIB+JRZxQgAAQOR3FnFCAAAASsoWcUIAAMCvHBdxQgAAgBVvF3FCAABAe8EXcUIAAADhExhxQgAAwEZmGHFCAACArLgYcUIAAEASCxlxQgAAAHhdGXFCAADA3a8ZcUIAAIBDAhpxQgAAQKlUGnFCAAAAD6cacUIAAMB0+RpxQgAAgNpLG3FCAABAQJ4bcUIAAACm8BtxQgAAwAtDHHFCAACAcZUccUIAAEDX5xxxQgAAAD06HXFCAADAoowdcUIAAIAI3x1xQgAAQG4xHnFCAAAA1IMecUIAAMA51h5xQgAAgJ8oH3FCAABABXsfcUIAAABrzR9xQgAAwNAfIHFCAACANnIgcUIAAECcxCBxQgAAAAIXIXFCAADAZ2khcUIAAIDNuyFxQgAAQDMOInFCAAAAmWAicUIAAMD+siJxQgAAgGQFI3FCAABAylcjcUIAAAAwqiNxQgAAwJX8I3FCAACA+04kcUIAAEBhoSRxQgAAAMfzJHFCAADALEYlcUIAAICSmCVxQgAAQPjqJXFCAAAAXj0mcUIAAMDDjyZxQgAAgCniJnFCAABAjzQncUIAAAD1hidxQgAAwFrZJ3FCAACAwCsocUIAAEAmfihxQgAAAIzQKHFCAADA8SIpcUIAAIBXdSlxQgAAQL3HKXFCAAAAIxoqcUIAAMCIbCpxQgAAgO6+KnFCAABAVBErcUIAAAC6YytxQgAAwB+2K3FCAACAhQgscUIAAEDrWixxQgAAAFGtLHFCAADAtv8scUIAAIAcUi1xQgAAQIKkLXFC",
        "encoding": "base64",
        "path": [
         "x",
         "value"
        ]
       },
       {
        "data": "WoiU/IUfWUBDumk0IOdYQAJPyZTTLllA6+0yWGg2WUAUdELZDxlZQFpAaMDsVFlAe6Otam2DWUCJe14ZB6tZQFncswUQvllAn4Q8RwKhWUA5+4rEaPVZQIDaYYe7vVlAupZNiLmqWUA0JHRFp8FZQP9AFmO33FlAqueqPhm8WUDcShdkuudZQANj0jJ4mllAmHw+O5HMWUCbX+TGU9JZQIor/9d0zVlAbAnv0InLWUAUZevkE3ZZQMBaGEtfNFlAAs0119t/WUA0000/Br1ZQEjzxcGrzllAfVNKPoTYWUCQ3vZL659ZQMvkDiu6oVlAA8idyCfLWUBkklmux+VZQO2VKmaxJFpAKRY2VSlPWkCF2N0ure5ZQNLRSOevN1pA6Xtg2F1xWkATwDEL1WxaQA5Q+4W8gFpA7hhp5nCqWkARfLF+bP9aQGO69LEc9lpAAMI5VF7aWkCBdI9X5J5aQEKjohAi/1pAUOFejws1W0AjDwJvlSJbQAiIz71pQFtAT1UkuKddW0CJ9TmOEE5bQAlzBVi4SltAlpTIjCITW0AV6aUznhRbQEYvTAIG31pAVyUEaEr2WkBc1kk7Ct1aQOar/83XM1tAO7FiRUkFW0Dm0pp+sbpaQMRax+jpHltAQf1VAdwpW0BGXl9WOlRbQIzngbwDKFtApg71sXHqWkAum9p1ispaQIKV70ss31pAzXOWyrvmWkDYnY6H3OlaQGTtjRCkwVpA5x2pkTrQWkAbPCzJKOFaQAx39t4a2VpANP5ABIbhWkAShfzvDSBbQFLpUEXlQ1tAin03kRxQW0BRzsPlFkVbQPP/CwqqO1tAHu1s36U6W0BLtnxjG1ZbQIB9fDG/T1tAci8qSMpEW0Ans2HBnz5bQLkPT9qsD1tAheR9UX8AW0AuvEjW4QtbQHkVCsKkzFpAMSBXprLaWkDP5BuxtuBaQJQMzJmO4FpATAap0MTBWkDD7eaTCmhaQNhI9vslYFpAFc6SbYBzWkBOPZeOi4daQJQZCBv+wFpAoHTEXFeoWkDFV+PqQKZaQGgJZA6qelpATTDBB3CkWkBa70srJDFaQC5KcE7PlFpAHFH/Oi+JWkBsYEUu5K9aQO8pEkk0jVpAEV5qiKqaWkBsqOs7oWdaQI80aR1OmVpAiD8ZJDx4WkDsVweHW1VaQGovMA/ZfVpAouIULIOfWkCImMLfgbJaQEsmQ6XRa1pAlExZ/N+kWkCZqDaLmKxaQDTmGUFnn1pAN2/1fDPSWkA7RF5EpqJaQEF/PTYXj1pANrpJe7KMWkCaaoLI3llaQExxGVy+I1pAOycYHM0YWkDqLT3aXzlaQPMmI55UiVpAGcKk+9psWkCTiBrgAzVaQDAObjCdF1pAr/wJTUx0WkAW6P3kgFtaQEVma3lXUVpAtAVgc0hLWkDkwUwT4nVaQDC7faiDW1pA4uHya9BBWkC/JPsiDRJaQJmJO9MFCVpAolTSOqDWWUAOaHHQAbNZQGX6fwecu1lAxJAoGI2/WUBF+/9NE7JZQKysNKZdsFlAaRweiEx2WUCju9PA721ZQA1CqXCnNVlAGbR7vm5OWUBPELQ9XWtZQA34u6XbNFlA",
        "encoding": "base64",
        "path": [
         "y",
         "value"
        ]
       }
      ],
      "model_module": "bqplot",
      "model_module_version": "^0.5.3",
      "model_name": "LinesModel",
      "state": {
       "_model_module_version": "^0.5.3",
       "_view_module_version": "^0.5.3",
       "colors": [
        "orange"
       ],
       "fill_colors": [],
       "labels": [
        "C1"
       ],
       "scales": {
        "x": "IPY_MODEL_b28acc94d9074e86b5fb07a4a7224697",
        "y": "IPY_MODEL_058a3161a0e245f38b1748f794211f0d"
       },
       "x": {
        "dtype": "float64",
        "shape": [
         150
        ],
        "type": "date"
       },
       "y": {
        "dtype": "float64",
        "shape": [
         150
        ],
        "type": null
       }
      }
     },
     "54a4cc5a4f7541a6b27849a6b9dc2a0a": {
      "buffers": [
       {
        "data": "AAAAAAAAAAA3YKimYy6xPzdgqKZjLsE/UpD8eZXFyT83YKimYy7RP0V4UpD8edU/UpD8eZXF2T9gqKZjLhHePzdgqKZjLuE/Pmx9GzBU4z9FeFKQ/HnlP0yEJwXJn+c/UpD8eZXF6T9ZnNHuYevrP2CopmMuEe4/NNo9bH0b8D83YKimYy7xPzrmEuFJQfI/Pmx9GzBU8z9B8udVFmf0P0V4UpD8efU/SP68yuKM9j9MhCcFyZ/3P08Kkj+vsvg/UpD8eZXF+T9WFme0e9j6P1mc0e5h6/s/XSI8KUj+/D9gqKZjLhH+P2QuEZ4UJP8/NNo9bH0bAEA1HXOJ8KQAQDdgqKZjLgFAOaPdw9a3AUA65hLhSUECQDwpSP68ygJAPmx9GzBUA0BAr7I4o90DQEHy51UWZwRAQzUdc4nwBEBFeFKQ/HkFQEa7h61vAwZASP68yuKMBkBKQfLnVRYHQEyEJwXJnwdATcdcIjwpCEBPCpI/r7IIQFFNx1wiPAlAUpD8eZXFCUBU0zGXCE8KQFYWZ7R72ApAWFmc0e5hC0BZnNHuYesLQFvfBgzVdAxAXSI8KUj+DEBfZXFGu4cNQGCopmMuEQ5AYuvbgKGaDkBkLhGeFCQPQGVxRruHrQ9ANNo9bH0bEEC0e9j6NmAQQDUdc4nwpBBAtr4NGKrpEEA3YKimYy4RQLgBQzUdcxFAOaPdw9a3EUC6RHhSkPwRQDrmEuFJQRJAu4etbwOGEkA8KUj+vMoSQL3K4ox2DxNAPmx9GzBUE0C/DRiq6ZgTQECvsjij3RNAwFBNx1wiFEBB8udVFmcUQMKTguTPqxRAQzUdc4nwFEDE1rcBQzUVQEV4UpD8eRVAxhntHra+FUBGu4etbwMWQMdcIjwpSBZASP68yuKMFkDJn1dZnNEWQEpB8udVFhdAy+KMdg9bF0BMhCcFyZ8XQMwlwpOC5BdATcdcIjwpGEDOaPew9W0YQE8Kkj+vshhA0Ksszmj3GEBRTcdcIjwZQNLuYevbgBlAUpD8eZXFGUDTMZcITwoaQFTTMZcITxpA1XTMJcKTGkBWFme0e9gaQNe3AUM1HRtAWFmc0e5hG0DZ+jZgqKYbQFmc0e5h6xtA2j1sfRswHEBb3wYM1XQcQNyAoZqOuRxAXSI8KUj+HEDew9a3AUMdQF9lcUa7hx1A3wYM1XTMHUBgqKZjLhEeQOFJQfLnVR5AYuvbgKGaHkDjjHYPW98eQGQuEZ4UJB9A5c+rLM5oH0BlcUa7h60fQOYS4UlB8h9ANNo9bH0bIED0Kosz2j0gQLR72Po2YCBAdcwlwpOCIEA1HXOJ8KQgQPZtwFBNxyBAtr4NGKrpIEB3D1vfBgwhQDdgqKZjLiFA97D1bcBQIUC4AUM1HXMhQHhSkPx5lSFAOaPdw9a3IUD58yqLM9ohQLpEeFKQ/CFAepXFGe0eIkA65hLhSUEiQPs2YKimYyJAu4etbwOGIkB82Po2YKgiQDwpSP68yiJA/XmVxRntIkC9yuKMdg8jQH0bMFTTMSNAPmx9GzBUI0D+vMrijHYjQL8NGKrpmCNAf15lcUa7I0BAr7I4o90jQAAAAAAAACRA",
        "encoding": "base64",
        "path": [
         "x",
         "value"
        ]
       },
       {
        "data": "caYMcqLnOECSxo/PBuc4QG+JcwWOEDlAJf8QR04SOUDq1eiLzic5QNhHdZQZJjlAMQ/KPEMOOUD29ljf0O84QFlw1N2q9zhAHp68eovCOEBBnnxJUqY4QLMqyqrhcDhASAH8ofheOEByhRizJUQ4QAKz/2CMaThA+vB/S8A9OEBuS6O8R/A3QDjM6qcIAjhAX4b+pxYKOEDB0J7p5T04QHbB0PNMKzhAKoYxMcf6N0B0o6TvJuM3QO/BT6kX0zdAT9wVBI+vN0DnTx+OlZ83QEHMpz9RojdAH278LfV+N0AncndqBZw3QO3snkAQsDdAPqJJULmLN0Ah3jb+UXM3QIfZTurTZTdAfZXkijapN0ASHj9TBsQ3QHUn8d0EtTdAjdcJfvraN0AtPpNhwJo3QBBaqP18ozdAmZAXw1Y+N0Dp+qEuIG83QEI7lUn6dTdAI02flvZJN0AASZXw1z83QFAF1oAWNjdAAJEhm5d9N0Dc6wh4b3U3QHYHfd6qmzdAWptyyN2RN0BEcCrWp4g3QNr0QxrniTdAJAz12kAwN0DkMNu58ig3QDyLuZ1IjDdACxoVh35dN0CR0mYEGjw3QC47oFGyAjdA5bUeXZ7gNkBBYgiwxOk2QFKQm0qCBTdAVG5lcBY+N0ArWNNwPG43QHYyUNizJjdAEE00hbYUN0Ack8bIdN02QHfuEdGF9TZARVFKnR35NkC6r3Ngn9o2QPEykGHZ2TZAMH5r3gb7NkA18mAux+02QPXV//B7IDdAQGoRP7gsN0BDl7ZVdzE3QE40SKbZ7zZAf65dDFKgNkAmeuEru602QAauHzfnfTZAQsPmWC7qNkATcefFdOs2QI1m3+st6TZAhEdisgfzNkBqsUzFA+M2QOP3Rnwm0TZAT6PpCprSNkA/9Gxkpt02QNGG7jNz6jZAE8lfysnwNkB4RKRF0Sw3QIJm+2fBXDdASxOSwkIJN0C0WB2piy43QERrhTArYzdAFBfa8750N0A1Lk70fGM3QBx3N5sdaDdA1qd8/EQfN0Byab4DbOM2QH+Vu+gp3jZAEq8E29z/NkA6Z/B7bQs3QDYmDowpzzZAxD/2cvv8NkDuLQ9fWvM2QFWllfrLxTZArX32V8fHNkAmbK2bxr82QFxaP1H2szZAHrvcr9dvNkDUy+9CqN02QNSx2csRHDdAFVP+SYAIN0DWhGFHQQE3QMP9obyt9TZAI2s6IUbuNkB1TLfQwP42QKDWON5f1jZARBn6GssnN0BugRqP8Cw3QCJpDPtnszdAalYPpYukN0DipuW/eKs3QA9AEuQ7bTdA3p9AxC9tN0DpHWCt0lk3QBe5szNoLTdAhIGtmis4N0CifS1Q3Ho3QP/RrP6FgjdApqQz9KLVN0BUgT9zTA04QK6ni1Tz5zdAxvOc7mXXN0BqNmzVytY3QJmRQKl9rTdASlAf0KLNN0DeT+OCPt43QGrsU0eewTdAgWjlmV/hN0DVEx0mlIw3QHTXW2QxfDdAojnzZYlDN0BtzkNyiUg3QA4nvEgQQzdAEX93cHJPN0DEb/tgHz83QP+f1k0FNTdAMdlTo/QnN0CYgSjhODA3QOp04Cj5OzdA",
        "encoding": "base64",
        "path": [
         "y",
         "value"
        ]
       }
      ],
      "model_module": "bqplot",
      "model_module_version": "^0.5.10",
      "model_name": "LinesModel",
      "state": {
       "_model_module_version": "^0.5.10",
       "_view_module_version": "^0.5.10",
       "display_legend": true,
       "fill_colors": [],
       "labels": [
        "Security 1"
       ],
       "scales": {
        "x": "IPY_MODEL_dfca47db612a435db16b2f144c759f9e",
        "y": "IPY_MODEL_79a5040e826f4a84989e2d141a08db84"
       },
       "x": {
        "dtype": "float64",
        "shape": [
         150
        ],
        "type": null
       },
       "y": {
        "dtype": "float64",
        "shape": [
         150
        ],
        "type": null
       }
      }
     },
     "54fdfa6b809842afa121b6d1eeabfa95": {
      "model_module": "@jupyter-widgets/controls",
      "model_module_version": "1.5.0",
      "model_name": "VBoxModel",
      "state": {
       "children": [
        "IPY_MODEL_8901e01f45844ff0a12d583cd1cec536",
        "IPY_MODEL_585220c2cf6749a3a4f6505d6e4a1817"
       ],
       "layout": "IPY_MODEL_86f1bd25a34b4ce88ed9c41b19681070"
      }
     },
     "560b2db8c71e447997120950931c4421": {
      "model_module": "@jupyter-widgets/base",
      "model_module_version": "1.2.0",
      "model_name": "LayoutModel",
      "state": {}
     },
     "56df05e0b83c4ca4b164be16e9683fdd": {
      "model_module": "@jupyter-widgets/base",
      "model_module_version": "1.2.0",
      "model_name": "LayoutModel",
      "state": {}
     },
     "56fef236472c479faa2c875f7d6ec85c": {
      "model_module": "bqplot",
      "model_module_version": "^0.5.10",
      "model_name": "LinearScaleModel",
      "state": {
       "_model_module_version": "^0.5.10",
       "_view_module_version": "^0.5.10",
       "allow_padding": false,
       "max": 1,
       "min": 0,
       "stabilized": false
      }
     },
     "5731540decd04cdf9ce81bc0e76a092c": {
      "model_module": "@jupyter-widgets/controls",
      "model_module_version": "1.5.0",
      "model_name": "HTMLModel",
      "state": {
       "layout": "IPY_MODEL_9c3cfd2e8a9244ffb7b80c9b5584b304",
       "style": "IPY_MODEL_e5a361ccc6c94aa9bec8b8fc8e524fca",
       "value": "{}"
      }
     },
     "585220c2cf6749a3a4f6505d6e4a1817": {
      "model_module": "bqplot",
      "model_module_version": "^0.5",
      "model_name": "FigureModel",
      "state": {
       "_model_module_version": "^0.5",
       "_view_module_version": "^0.5",
       "axes": [
        "IPY_MODEL_cf8ee31103594d3e883635133980e8b8",
        "IPY_MODEL_f8fafd5b163443c997631a727d798636"
       ],
       "interaction": "IPY_MODEL_30b28d783cbf4d7a99655592f35796cb",
       "layout": "IPY_MODEL_cb0b79ac9b2b4d9a8f44bc499a4ad418",
       "marks": [
        "IPY_MODEL_83e2b1f5bef14afda90e3ec5a377d9e0"
       ],
       "scale_x": "IPY_MODEL_eb4e6cf0be544f14a7ecefa4c4be37f6",
       "scale_y": "IPY_MODEL_4a63678f56c246a292a0a6ef33bb0b54",
       "title": "Multi-Selector Example"
      }
     },
     "58bb0ab35ee640ad9658f79b9b9bffb9": {
      "model_module": "@jupyter-widgets/base",
      "model_module_version": "1.2.0",
      "model_name": "LayoutModel",
      "state": {}
     },
     "597cf48946ec4fb1b881588a18daa23f": {
      "model_module": "@jupyter-widgets/base",
      "model_module_version": "1.2.0",
      "model_name": "LayoutModel",
      "state": {}
     },
     "5a20dffc811e4f87b89bc8ba137a9fb2": {
      "model_module": "@jupyter-widgets/controls",
      "model_module_version": "1.5.0",
      "model_name": "DescriptionStyleModel",
      "state": {
       "description_width": ""
      }
     },
     "5c3e448269604d79901c11d9b63048e8": {
      "buffers": [
       {
        "data": "AAAAAAEAAAACAAAAAwAAAAQAAAAFAAAABgAAAAcAAAAIAAAACQAAAAoAAAALAAAADAAAAA0AAAAOAAAADwAAABAAAAARAAAAEgAAABMAAAA=",
        "encoding": "base64",
        "path": [
         "x",
         "value"
        ]
       },
       {
        "data": "AAAAAAAAAAAAAAAAAADgPwAAAAAAAPA/AAAAAAAA+D8AAAAAAAAAQAAAAAAAAARAAAAAAAAACEAAAAAAAAAMQAAAAAAAABBAAAAAAAAAEkAAAAAAAAAUQAAAAAAAABZAAAAAAAAAGEAAAAAAAAAaQAAAAAAAABxAAAAAAAAAHkAAAAAAAAAgQAAAAAAAACFAAAAAAAAAIkAAAAAAAAAjQA==",
        "encoding": "base64",
        "path": [
         "y",
         "value"
        ]
       }
      ],
      "model_module": "bqplot",
      "model_module_version": "^0.5.3",
      "model_name": "BarsModel",
      "state": {
       "_model_module_version": "^0.5.3",
       "_view_module_version": "^0.5.3",
       "label_font_style": {},
       "scales": {
        "x": "IPY_MODEL_3e14b18e83d844268bfaa6527ab6f694",
        "y": "IPY_MODEL_b0fb4887ff26488ba84d1a10b9e49881"
       },
       "x": {
        "dtype": "int32",
        "shape": [
         20
        ],
        "type": null
       },
       "y": {
        "dtype": "float64",
        "shape": [
         20
        ],
        "type": null
       }
      }
     },
     "5c3fb9b2932d4c42b1c297ed35c81769": {
      "model_module": "bqplot",
      "model_module_version": "^0.5.3",
      "model_name": "LinearScaleModel",
      "state": {
       "_model_module_version": "^0.5.3",
       "_view_module_version": "^0.5.3",
       "allow_padding": false,
       "max": 1,
       "min": 0,
       "stabilized": false
      }
     },
     "5c8ebc3a04574564b2e4b1c1802f0621": {
      "model_module": "bqplot",
      "model_module_version": "^0.5.3",
      "model_name": "AxisModel",
      "state": {
       "_model_module_version": "^0.5.3",
       "_view_module_version": "^0.5.3",
       "label": "Security 1 Price",
       "orientation": "vertical",
       "scale": "IPY_MODEL_058a3161a0e245f38b1748f794211f0d",
       "side": "left",
       "tick_values": null
      }
     },
     "5d7e3bac7b7948f4aa7b95e19e1d04e4": {
      "buffers": [
       {
        "data": "AACASa/9cEIAAECvAf5wQgAAABVU/nBCAADAeqb+cEIAAIDg+P5wQgAAQEZL/3BCAAAArJ3/cEIAAMAR8P9wQgAAgHdCAHFCAABA3ZQAcUIAAABD5wBxQgAAwKg5AXFCAACADowBcUIAAEB03gFxQgAAANowAnFCAADAP4MCcUIAAICl1QJxQgAAQAsoA3FCAAAAcXoDcUIAAMDWzANxQgAAgDwfBHFCAABAonEEcUIAAAAIxARxQgAAwG0WBXFCAACA02gFcUIAAEA5uwVxQgAAAJ8NBnFCAADABGAGcUIAAIBqsgZxQgAAQNAEB3FCAAAANlcHcUIAAMCbqQdxQgAAgAH8B3FCAABAZ04IcUIAAADNoAhxQgAAwDLzCHFCAACAmEUJcUIAAED+lwlxQgAAAGTqCXFCAADAyTwKcUIAAIAvjwpxQgAAQJXhCnFCAAAA+zMLcUIAAMBghgtxQgAAgMbYC3FCAABALCsMcUIAAACSfQxxQgAAwPfPDHFCAACAXSINcUIAAEDDdA1xQgAAACnHDXFCAADAjhkOcUIAAID0aw5xQgAAQFq+DnFCAAAAwBAPcUIAAMAlYw9xQgAAgIu1D3FCAABA8QcQcUIAAABXWhBxQgAAwLysEHFCAACAIv8QcUIAAECIURFxQgAAAO6jEXFCAADAU/YRcUIAAIC5SBJxQgAAQB+bEnFCAAAAhe0ScUIAAMDqPxNxQgAAgFCSE3FCAABAtuQTcUIAAAAcNxRxQgAAwIGJFHFCAACA59sUcUIAAEBNLhVxQgAAALOAFXFCAADAGNMVcUIAAIB+JRZxQgAAQOR3FnFCAAAASsoWcUIAAMCvHBdxQgAAgBVvF3FCAABAe8EXcUIAAADhExhxQgAAwEZmGHFCAACArLgYcUIAAEASCxlxQgAAAHhdGXFCAADA3a8ZcUIAAIBDAhpxQgAAQKlUGnFCAAAAD6cacUIAAMB0+RpxQgAAgNpLG3FCAABAQJ4bcUIAAACm8BtxQgAAwAtDHHFCAACAcZUccUIAAEDX5xxxQgAAAD06HXFCAADAoowdcUIAAIAI3x1xQgAAQG4xHnFCAAAA1IMecUIAAMA51h5xQgAAgJ8oH3FCAABABXsfcUIAAABrzR9xQgAAwNAfIHFCAACANnIgcUIAAECcxCBxQgAAAAIXIXFCAADAZ2khcUIAAIDNuyFxQgAAQDMOInFCAAAAmWAicUIAAMD+siJxQgAAgGQFI3FCAABAylcjcUIAAAAwqiNxQgAAwJX8I3FCAACA+04kcUIAAEBhoSRxQgAAAMfzJHFCAADALEYlcUIAAICSmCVxQgAAQPjqJXFCAAAAXj0mcUIAAMDDjyZxQgAAgCniJnFCAABAjzQncUIAAAD1hidxQgAAwFrZJ3FCAACAwCsocUIAAEAmfihxQgAAAIzQKHFCAADA8SIpcUIAAIBXdSlxQgAAQL3HKXFCAAAAIxoqcUIAAMCIbCpxQgAAgO6+KnFCAABAVBErcUIAAAC6YytxQgAAwB+2K3FCAACAhQgscUIAAEDrWixxQgAAAFGtLHFCAADAtv8scUIAAIAcUi1xQgAAQIKkLXFC",
        "encoding": "base64",
        "path": [
         "x",
         "value"
        ]
       },
       {
        "data": "MyAqE4XGWECP3tTEh15YQBxMTUbf/1dAEQPf9HLUV0D0FTt6P9tXQEaI80q8mVdAUFHZh+a0V0ATC26Gi8pXQINCmTStyVdA704jTA/ZV0BS0AP0iLhXQIPJBz3ZfVdAbkhM1r12V0DVig/bPlRXQG2uykqW/VZAIszDmU6hVkCeZP+DmMNWQE/5Von/QlZAjBWmrmZcVkDkPg/Jyn1WQFaJTTIudVZAlWIYFsPTVkDyeenXROlWQG7tyHtMTVdAbe+/odQ6V0DJnoRui21XQE/xjyy5dldAa+osChdDV0A44t3n0v1WQD6M4RJFEVdAdubmM/luV0Dd0z0KV3RXQLhaZoe+sldAUvgolxEvWEDUxAMy1G9YQNnEsgUp6VhApd8iroC9WEC/o2+sMT5YQM/2/ZDHVlhAAfSd/KHPWEDoaNS67yFZQLvN5ktlKVlAbq8Lpj5eWUCLF7dULWZZQKLAVY/fp1lAC9Ik6Y9NWUBf+budaXJZQDBWuvRavFlADob5fPUjWkABhUict+FZQClul0q5W1pAEn3e2MYLW0Agn5FKio9bQEhTlQzC+FtAwro9xpofXEB8MOqAChFcQA66Pt8nnFtAbMQd69OgW0DbkmdGP69bQN9ULm2YwFtAS9nBIdotXEDLPmp2e4VcQN2QaOzJhlxAbkgiz2zLXEAzdPTUyedcQJKBNlTAu1xAvrnX5MnLXED+ro3Z6MdcQDHaq93E5VxAeziZ4ZUoXUBn71JV1DJdQHA0kPvMFV1AkTB+mWbnXEAHR3SpBfZcQHl6og7111xAincniVpiXEB1XQ5AcLpcQDXiVu7sZlxAl/Q4gPu2XEDq8WhjBtNcQEfBX+Rx0VxAPn/rVoeDXEBqbGIYSHJcQCxA6tpX2ltAAMpIytPkW0DNAJpZ8v9bQDYDu0AWcVxAMw8aZVJ9XED2FFv0VWdcQBnfb+fXO1xAutFnkUg2XEDJiE1qM99bQN9YOr3a7FtAFM1OMcNzW0AmtZq3n2VbQIfGZjJdbltA11UUmRGJW0CqLkSSDPRbQB5xoXvDVFtAySo9L2N0W0B4bsf+6jlbQC77fGuTSFtANx9TYtYvW0Bkb1xXaYRbQJFxHC1LoFtASOSML32vW0BsqFzvGrJbQO7llZohR1tA3Nc3LoKHW0BraoUJlwlbQJ+jd2XEnVpAwVvpN99DWkBXrdBW/nBaQOqWQI2WTFpAMvjavEjgWkCeSexi2ahaQB++jpQ3eltAFEMzcpLnW0CW5AXHRHpcQL1s6T1qplxAJ9MVQU4yXECL23Kn/mVcQAFgGgM5dFxAGEWNuMEiXEDktecAwTJcQARjfmOUjFxAX5ykPfJlXEAgh6nNFZdcQOyTwpBcj1xAAPaiXLE4XEDe9+7GOs1bQOTKS2EfnltABKqyjnypW0CvAxj/d2JbQOqoJ82/l1tAeg9S60w4W0DJiK9wBIBaQMfxJJJnKVpA9padHdIUWkAkjvLRO+JZQBHOjnRezFlAe0L1yEB6WUA3b4Bgn6VZQIWfPIDiy1lAaSHKyykZWkCcGsWVsoFaQJerl12X9lpA9BSuDDI8W0BrXWjm5r9aQLFu4nwRolpA",
        "encoding": "base64",
        "path": [
         "y",
         "value"
        ]
       }
      ],
      "model_module": "bqplot",
      "model_module_version": "^0.5",
      "model_name": "LinesModel",
      "state": {
       "_model_module_version": "^0.5",
       "_view_module_version": "^0.5",
       "colors": [
        "red"
       ],
       "fill_colors": [],
       "labels": [
        "C1"
       ],
       "scales": {
        "x": "IPY_MODEL_b8322d1f8b5e439e87d699c0236b39a0",
        "y": "IPY_MODEL_84d5e273113149a8bc202a495221df01"
       },
       "x": {
        "dtype": "float64",
        "shape": [
         150
        ],
        "type": "date"
       },
       "y": {
        "dtype": "float64",
        "shape": [
         150
        ],
        "type": null
       }
      }
     },
     "5e1428aefe774e6aa992fe156169c07c": {
      "model_module": "bqplot",
      "model_module_version": "^0.5.10",
      "model_name": "AxisModel",
      "state": {
       "_model_module_version": "^0.5.10",
       "_view_module_version": "^0.5.10",
       "grid_lines": "none",
       "label": "Freq",
       "orientation": "vertical",
       "scale": "IPY_MODEL_3ff4cef77ab449268f1eb904a494ee9f",
       "side": "left",
       "tick_values": null
      }
     },
     "5e64dc3da2034c5e9236416019b457c5": {
      "buffers": [
       {
        "data": "AAAAAAAA8D8=",
        "encoding": "base64",
        "path": [
         "opacities",
         "value"
        ]
       },
       {
        "data": "AACASa/9cEIAAECvAf5wQgAAABVU/nBCAADAeqb+cEIAAIDg+P5wQgAAQEZL/3BCAAAArJ3/cEIAAMAR8P9wQgAAgHdCAHFCAABA3ZQAcUIAAABD5wBxQgAAwKg5AXFCAACADowBcUIAAEB03gFxQgAAANowAnFCAADAP4MCcUIAAICl1QJxQgAAQAsoA3FCAAAAcXoDcUIAAMDWzANxQgAAgDwfBHFCAABAonEEcUIAAAAIxARxQgAAwG0WBXFCAACA02gFcUIAAEA5uwVxQgAAAJ8NBnFCAADABGAGcUIAAIBqsgZxQgAAQNAEB3FCAAAANlcHcUIAAMCbqQdxQgAAgAH8B3FCAABAZ04IcUIAAADNoAhxQgAAwDLzCHFCAACAmEUJcUIAAED+lwlxQgAAAGTqCXFCAADAyTwKcUIAAIAvjwpxQgAAQJXhCnFCAAAA+zMLcUIAAMBghgtxQgAAgMbYC3FCAABALCsMcUIAAACSfQxxQgAAwPfPDHFCAACAXSINcUIAAEDDdA1xQgAAACnHDXFCAADAjhkOcUIAAID0aw5xQgAAQFq+DnFCAAAAwBAPcUIAAMAlYw9xQgAAgIu1D3FCAABA8QcQcUIAAABXWhBxQgAAwLysEHFCAACAIv8QcUIAAECIURFxQgAAAO6jEXFCAADAU/YRcUIAAIC5SBJxQgAAQB+bEnFCAAAAhe0ScUIAAMDqPxNxQgAAgFCSE3FCAABAtuQTcUIAAAAcNxRxQgAAwIGJFHFCAACA59sUcUIAAEBNLhVxQgAAALOAFXFCAADAGNMVcUIAAIB+JRZxQgAAQOR3FnFCAAAASsoWcUIAAMCvHBdxQgAAgBVvF3FCAABAe8EXcUIAAADhExhxQgAAwEZmGHFCAACArLgYcUIAAEASCxlxQgAAAHhdGXFCAADA3a8ZcUIAAIBDAhpxQgAAQKlUGnFCAAAAD6cacUIAAMB0+RpxQgAAgNpLG3FCAABAQJ4bcUIAAACm8BtxQgAAwAtDHHFCAACAcZUccUIAAEDX5xxxQgAAAD06HXFCAADAoowdcUIAAIAI3x1xQgAAQG4xHnFCAAAA1IMecUIAAMA51h5xQgAAgJ8oH3FCAABABXsfcUIAAABrzR9xQgAAwNAfIHFCAACANnIgcUIAAECcxCBxQgAAAAIXIXFCAADAZ2khcUIAAIDNuyFxQgAAQDMOInFCAAAAmWAicUIAAMD+siJxQgAAgGQFI3FCAABAylcjcUIAAAAwqiNxQgAAwJX8I3FCAACA+04kcUIAAEBhoSRxQgAAAMfzJHFCAADALEYlcUIAAICSmCVxQgAAQPjqJXFCAAAAXj0mcUIAAMDDjyZxQgAAgCniJnFCAABAjzQncUIAAAD1hidxQgAAwFrZJ3FCAACAwCsocUIAAEAmfihxQgAAAIzQKHFCAADA8SIpcUIAAIBXdSlxQgAAQL3HKXFCAAAAIxoqcUIAAMCIbCpxQgAAgO6+KnFCAABAVBErcUIAAAC6YytxQgAAwB+2K3FCAACAhQgscUIAAEDrWixxQgAAAFGtLHFCAADAtv8scUIAAIAcUi1xQgAAQIKkLXFC",
        "encoding": "base64",
        "path": [
         "x",
         "value"
        ]
       },
       {
        "data": "MyAqE4XGWECP3tTEh15YQBxMTUbf/1dAEQPf9HLUV0D0FTt6P9tXQEaI80q8mVdAUFHZh+a0V0ATC26Gi8pXQINCmTStyVdA704jTA/ZV0BS0AP0iLhXQIPJBz3ZfVdAbkhM1r12V0DVig/bPlRXQG2uykqW/VZAIszDmU6hVkCeZP+DmMNWQE/5Von/QlZAjBWmrmZcVkDkPg/Jyn1WQFaJTTIudVZAlWIYFsPTVkDyeenXROlWQG7tyHtMTVdAbe+/odQ6V0DJnoRui21XQE/xjyy5dldAa+osChdDV0A44t3n0v1WQD6M4RJFEVdAdubmM/luV0Dd0z0KV3RXQLhaZoe+sldAUvgolxEvWEDUxAMy1G9YQNnEsgUp6VhApd8iroC9WEC/o2+sMT5YQM/2/ZDHVlhAAfSd/KHPWEDoaNS67yFZQLvN5ktlKVlAbq8Lpj5eWUCLF7dULWZZQKLAVY/fp1lAC9Ik6Y9NWUBf+budaXJZQDBWuvRavFlADob5fPUjWkABhUict+FZQClul0q5W1pAEn3e2MYLW0Agn5FKio9bQEhTlQzC+FtAwro9xpofXEB8MOqAChFcQA66Pt8nnFtAbMQd69OgW0DbkmdGP69bQN9ULm2YwFtAS9nBIdotXEDLPmp2e4VcQN2QaOzJhlxAbkgiz2zLXEAzdPTUyedcQJKBNlTAu1xAvrnX5MnLXED+ro3Z6MdcQDHaq93E5VxAeziZ4ZUoXUBn71JV1DJdQHA0kPvMFV1AkTB+mWbnXEAHR3SpBfZcQHl6og7111xAincniVpiXEB1XQ5AcLpcQDXiVu7sZlxAl/Q4gPu2XEDq8WhjBtNcQEfBX+Rx0VxAPn/rVoeDXEBqbGIYSHJcQCxA6tpX2ltAAMpIytPkW0DNAJpZ8v9bQDYDu0AWcVxAMw8aZVJ9XED2FFv0VWdcQBnfb+fXO1xAutFnkUg2XEDJiE1qM99bQN9YOr3a7FtAFM1OMcNzW0AmtZq3n2VbQIfGZjJdbltA11UUmRGJW0CqLkSSDPRbQB5xoXvDVFtAySo9L2N0W0B4bsf+6jlbQC77fGuTSFtANx9TYtYvW0Bkb1xXaYRbQJFxHC1LoFtASOSML32vW0BsqFzvGrJbQO7llZohR1tA3Nc3LoKHW0BraoUJlwlbQJ+jd2XEnVpAwVvpN99DWkBXrdBW/nBaQOqWQI2WTFpAMvjavEjgWkCeSexi2ahaQB++jpQ3eltAFEMzcpLnW0CW5AXHRHpcQL1s6T1qplxAJ9MVQU4yXECL23Kn/mVcQAFgGgM5dFxAGEWNuMEiXEDktecAwTJcQARjfmOUjFxAX5ykPfJlXEAgh6nNFZdcQOyTwpBcj1xAAPaiXLE4XEDe9+7GOs1bQOTKS2EfnltABKqyjnypW0CvAxj/d2JbQOqoJ82/l1tAeg9S60w4W0DJiK9wBIBaQMfxJJJnKVpA9padHdIUWkAkjvLRO+JZQBHOjnRezFlAe0L1yEB6WUA3b4Bgn6VZQIWfPIDiy1lAaSHKyykZWkCcGsWVsoFaQJerl12X9lpA9BSuDDI8W0BrXWjm5r9aQLFu4nwRolpA",
        "encoding": "base64",
        "path": [
         "y",
         "value"
        ]
       }
      ],
      "model_module": "bqplot",
      "model_module_version": "^0.5",
      "model_name": "ScatterModel",
      "state": {
       "_model_module_version": "^0.5",
       "_view_module_version": "^0.5",
       "label_display_horizontal_offset": 0,
       "label_display_vertical_offset": 0,
       "names": null,
       "opacities": {
        "dtype": "float64",
        "shape": [
         1
        ],
        "type": null
       },
       "scales": {
        "x": "IPY_MODEL_9325cefa277f4a2c9ad133db99c26c2a",
        "y": "IPY_MODEL_eabbf710806d4363aedea281bbd2fe3e"
       },
       "scales_metadata": {
        "color": {
         "dimension": "color"
        },
        "opacity": {
         "dimension": "opacity"
        },
        "rotation": {
         "dimension": "rotation"
        },
        "size": {
         "dimension": "size"
        },
        "skew": {
         "dimension": "skew"
        },
        "x": {
         "dimension": "x",
         "orientation": "horizontal"
        },
        "y": {
         "dimension": "y",
         "orientation": "vertical"
        }
       },
       "x": {
        "dtype": "float64",
        "shape": [
         150
        ],
        "type": "date"
       },
       "y": {
        "dtype": "float64",
        "shape": [
         150
        ],
        "type": null
       }
      }
     },
     "5fb41bb99de6411a975f8c4b32954646": {
      "buffers": [
       {
        "data": "AACASa/9cEIAAECvAf5wQgAAABVU/nBCAADAeqb+cEIAAIDg+P5wQgAAQEZL/3BCAAAArJ3/cEIAAMAR8P9wQgAAgHdCAHFCAABA3ZQAcUIAAABD5wBxQgAAwKg5AXFCAACADowBcUIAAEB03gFxQgAAANowAnFCAADAP4MCcUIAAICl1QJxQgAAQAsoA3FCAAAAcXoDcUIAAMDWzANxQgAAgDwfBHFCAABAonEEcUIAAAAIxARxQgAAwG0WBXFCAACA02gFcUIAAEA5uwVxQgAAAJ8NBnFCAADABGAGcUIAAIBqsgZxQgAAQNAEB3FCAAAANlcHcUIAAMCbqQdxQgAAgAH8B3FCAABAZ04IcUIAAADNoAhxQgAAwDLzCHFCAACAmEUJcUIAAED+lwlxQgAAAGTqCXFCAADAyTwKcUIAAIAvjwpxQgAAQJXhCnFCAAAA+zMLcUIAAMBghgtxQgAAgMbYC3FCAABALCsMcUIAAACSfQxxQgAAwPfPDHFCAACAXSINcUIAAEDDdA1xQgAAACnHDXFCAADAjhkOcUIAAID0aw5xQgAAQFq+DnFCAAAAwBAPcUIAAMAlYw9xQgAAgIu1D3FCAABA8QcQcUIAAABXWhBxQgAAwLysEHFCAACAIv8QcUIAAECIURFxQgAAAO6jEXFCAADAU/YRcUIAAIC5SBJxQgAAQB+bEnFCAAAAhe0ScUIAAMDqPxNxQgAAgFCSE3FCAABAtuQTcUIAAAAcNxRxQgAAwIGJFHFCAACA59sUcUIAAEBNLhVxQgAAALOAFXFCAADAGNMVcUIAAIB+JRZxQgAAQOR3FnFCAAAASsoWcUIAAMCvHBdxQgAAgBVvF3FCAABAe8EXcUIAAADhExhxQgAAwEZmGHFCAACArLgYcUIAAEASCxlxQgAAAHhdGXFCAADA3a8ZcUIAAIBDAhpxQgAAQKlUGnFCAAAAD6cacUIAAMB0+RpxQgAAgNpLG3FCAABAQJ4bcUIAAACm8BtxQgAAwAtDHHFCAACAcZUccUIAAEDX5xxxQgAAAD06HXFCAADAoowdcUIAAIAI3x1xQgAAQG4xHnFCAAAA1IMecUIAAMA51h5xQgAAgJ8oH3FCAABABXsfcUIAAABrzR9xQgAAwNAfIHFCAACANnIgcUIAAECcxCBxQgAAAAIXIXFCAADAZ2khcUIAAIDNuyFxQgAAQDMOInFCAAAAmWAicUIAAMD+siJxQgAAgGQFI3FCAABAylcjcUIAAAAwqiNxQgAAwJX8I3FCAACA+04kcUIAAEBhoSRxQgAAAMfzJHFCAADALEYlcUIAAICSmCVxQgAAQPjqJXFCAAAAXj0mcUIAAMDDjyZxQgAAgCniJnFCAABAjzQncUIAAAD1hidxQgAAwFrZJ3FCAACAwCsocUIAAEAmfihxQgAAAIzQKHFCAADA8SIpcUIAAIBXdSlxQgAAQL3HKXFCAAAAIxoqcUIAAMCIbCpxQgAAgO6+KnFCAABAVBErcUIAAAC6YytxQgAAwB+2K3FCAACAhQgscUIAAEDrWixxQgAAAFGtLHFCAADAtv8scUIAAIAcUi1xQgAAQIKkLXFC",
        "encoding": "base64",
        "path": [
         "x",
         "value"
        ]
       },
       {
        "data": "ASMAG4jiWECwpG0Wj/dYQAAjHEF3OllA6xJE5tFCWUBpnJlFNHBZQA41OJG7c1lAh5EIo9g6WUDRoSqbJipZQBJZTIgBUFlACNsdZfKyWEAx5d8ia55YQDNJ4dP4GlhAH2uHhXg0WEAk3SDZKOdXQErAu4NeNVhANWLjiqY1WECOv01bde5XQEjF8WVe21dAqh9Leg4MWEDj2ULN+Z5YQBjOJwGsvlhAWWiv0YF8WECDZrYyem5YQE6kE1HGMlhAXNpMupApWEAvqs2RpCtYQHpUXIGMMlhAmMrNVbICWEBOsLQgv0lYQJhIqqO2UlhAyVqTXfZYWEDIBAMNClVYQAwJRzz/I1hAbYxWLZp7WEAXoK2RAKtYQEgs6ajRf1hArmWtYs+lWEAw52fkryNYQJgqomGVI1hAyyhZCjKXV0AZkZyzGN5XQLpxnbKSxFdAXLmoT0xYV0DLB4X9QwhXQHyfzAJa7FZAkiKO9dhLV0BZbvdiY0lXQOq6ebspZ1dA8FjnJ05HV0C8K1F86zVXQIImT+bzQldA8oWB1fLFVkA9ZP1k1q5WQGI2lmUiR1dA3IydetUhV0AOJWlDIe1WQLQJXkvhbVZAqr9xHwAYVkAK6P6c+15WQFRE62qtg1ZAeFEFKBv6VkDcGwTYYR1XQNHtxCvNmVZACtHFNgGqVkDjwWeUDLRWQAYs7tupD1dAdI9CrIgtV0D8f0OGnftWQI2+rvQfPldA2t7NgiKUV0AOBU12DnBXQC6qqXz72FdAmrOTJp/RV0AQ7NyRs/RXQBeENI9ti1dAVgrnplIyV0DnddMddypXQMIKvliGI1dAEZJPDE/AV0Cie6aQI9tXQLqCV3rzqFdAsnjqzl7iV0CgH00pF+JXQLri4qtAj1dAOiho2S+dV0BQjwWA2MxXQBRhSkSJz1dAAoH0AwnPV0BjA5pN3gxYQHV7+3f9pVhA7B/qwOg5WEAHHrVpek5YQON+DtrdhVhArawq0oy6WEC4FDOi3IVYQCTUnypmj1hA60ksn/I1WEBWHpxpegdYQDkAdPEo8ldAKf42EF6OWEBoFXB6Br1YQO5q6CwGflhARE8SoH7AWEB8/K7DAN1YQDYl7EosyFhAvHogvty8WEAh6SNfLuBYQOFj3p+s11hASBBfSI+AWEDCDAWnyFxZQKQagH7ny1lAfZJeip2+WUC3cAXErsRZQNdUJNSjvFlA5MCLS4atWUDcsBiK2NhZQBGVz6/2SVlANMzrs8GpWUBkB2kzladZQCEZ1U9wcFpAtq1AYd5wWkD1QycEVGdaQO21BdOyLlpAp/mouuf1WUBmDCWXwbZZQE+a5ILAallAb5QDnD9yWUAExFB8jthZQKcxsmUa81lAMt9oJ4eOWkAg+wyO0r1aQKSZxSooZ1pAut+sKrwzWkC76souB1FaQEPfNcIZD1pAngKowBRDWkC0ypuT9WVaQKwTHE4HPFpAEnjttIddWkAdppjp6flZQL8o8Aed9VlAaFABH2ihWUCPCwWFmoFZQB5Ieo9hgFlAhD9rn12FWUAJZUxog2dZQFWshJaiLFlA2WGquEIEWUASwXb3vS5ZQI3t7uS+I1lA",
        "encoding": "base64",
        "path": [
         "y",
         "value"
        ]
       }
      ],
      "model_module": "bqplot",
      "model_module_version": "^0.5.10",
      "model_name": "LinesModel",
      "state": {
       "_model_module_version": "^0.5.10",
       "_view_module_version": "^0.5.10",
       "colors": [
        "red"
       ],
       "fill_colors": [],
       "labels": [
        "C1"
       ],
       "scales": {
        "x": "IPY_MODEL_62e7a3f872354115921578f691d43b7f",
        "y": "IPY_MODEL_fd11a18cc2f1484dab15cd1ebf64a36e"
       },
       "x": {
        "dtype": "float64",
        "shape": [
         150
        ],
        "type": "date"
       },
       "y": {
        "dtype": "float64",
        "shape": [
         150
        ],
        "type": null
       }
      }
     },
     "6151dc919b2f4813925f4aa0cce9186d": {
      "model_module": "@jupyter-widgets/base",
      "model_module_version": "1.2.0",
      "model_name": "LayoutModel",
      "state": {}
     },
     "61a35f97ec014c638031cd5943d40285": {
      "model_module": "bqplot",
      "model_module_version": "^0.5.10",
      "model_name": "LinearScaleModel",
      "state": {
       "_model_module_version": "^0.5.10",
       "_view_module_version": "^0.5.10",
       "allow_padding": false,
       "max": 1,
       "min": 0,
       "stabilized": false
      }
     },
     "61b8922c50854e29b7e020882267a987": {
      "model_module": "@jupyter-widgets/base",
      "model_module_version": "1.2.0",
      "model_name": "LayoutModel",
      "state": {}
     },
     "627d28d662424ddfb438d6afd6a9afeb": {
      "model_module": "bqplot",
      "model_module_version": "^0.5.10",
      "model_name": "FigureModel",
      "state": {
       "_model_module_version": "^0.5.10",
       "_view_module_version": "^0.5.10",
       "axes": [
        "IPY_MODEL_86723054182e4a3ea9f3e11a3b226908",
        "IPY_MODEL_cc7b9d8935e545f893b2f9ff5ccc40db"
       ],
       "interaction": "IPY_MODEL_ed999e24b47f4262bfc3ac306723b157",
       "layout": "IPY_MODEL_b8b3ec8980df46df88725538ce5d084e",
       "marks": [
        "IPY_MODEL_1a19389f129049f1b2cacb70e1f23ad4"
       ],
       "scale_x": "IPY_MODEL_a74c164203384a128f435046247b5ba2",
       "scale_y": "IPY_MODEL_52c41cac94964e5795417eae1f22f41d",
       "title": "Histogram Selection Example"
      }
     },
     "62e7a3f872354115921578f691d43b7f": {
      "model_module": "bqplot",
      "model_module_version": "^0.5.10",
      "model_name": "DateScaleModel",
      "state": {
       "_model_module_version": "^0.5.10",
       "_view_module_version": "^0.5.10",
       "min": "2007-01-01T00:00:00.000Z"
      }
     },
     "631d770038534f9cae593418d8122836": {
      "model_module": "bqplot",
      "model_module_version": "^0.5",
      "model_name": "AxisModel",
      "state": {
       "_model_module_version": "^0.5",
       "_view_module_version": "^0.5",
       "label": "Y",
       "orientation": "vertical",
       "scale": "IPY_MODEL_f70b4b13ac3c4da88caba7418e3bf8e0",
       "side": "left",
       "tick_labels": {},
       "tick_values": null
      }
     },
     "635020a721c045e08db2317ef9b1dc7a": {
      "model_module": "bqplot",
      "model_module_version": "^0.5.3",
      "model_name": "LinearScaleModel",
      "state": {
       "_model_module_version": "^0.5.3",
       "_view_module_version": "^0.5.3",
       "allow_padding": false,
       "max": 1,
       "min": 0,
       "stabilized": false
      }
     },
     "63ab96ce801944468da2fe46c2db84a6": {
      "model_module": "bqplot",
      "model_module_version": "^0.5",
      "model_name": "LinearScaleModel",
      "state": {
       "_model_module_version": "^0.5",
       "_view_module_version": "^0.5",
       "stabilized": false
      }
     },
     "6472ae07ed6a4943b3afcec77bf7335c": {
      "model_module": "@jupyter-widgets/controls",
      "model_module_version": "1.5.0",
      "model_name": "HTMLModel",
      "state": {
       "layout": "IPY_MODEL_9a4b4f86abc347e48d9887be6f662532",
       "style": "IPY_MODEL_a36e3cfa817349048168ddb7e426a5d4",
       "value": "The selected period is None"
      }
     },
     "658d21accc624d5197f6111d89cb3430": {
      "model_module": "bqplot",
      "model_module_version": "^0.5.3",
      "model_name": "LinearScaleModel",
      "state": {
       "_model_module_version": "^0.5.3",
       "_view_module_version": "^0.5.3",
       "allow_padding": false,
       "max": 1,
       "min": 0,
       "stabilized": false
      }
     },
     "65d8c137d5454f29b3205b9b6911c083": {
      "model_module": "@jupyter-widgets/controls",
      "model_module_version": "1.5.0",
      "model_name": "ToggleButtonsModel",
      "state": {
       "_options_labels": [
        "HandDraw1",
        "HandDraw2",
        "PanZoom",
        "FastIntervalSelector",
        "IndexSelector",
        "BrushIntervalSelector",
        "MultiSelector",
        "None"
       ],
       "button_style": "",
       "icons": [],
       "index": 0,
       "layout": "IPY_MODEL_4ef9da35769648af9c837d8880ed2d38",
       "style": "IPY_MODEL_b29affde315f4fa18334965bc778a350",
       "tooltips": []
      }
     },
     "65ea1861fe4c4bcb9343f821610cedc9": {
      "model_module": "bqplot",
      "model_module_version": "^0.5.3",
      "model_name": "AxisModel",
      "state": {
       "_model_module_version": "^0.5.3",
       "_view_module_version": "^0.5.3",
       "label": "Y",
       "orientation": "vertical",
       "scale": "IPY_MODEL_b0fb4887ff26488ba84d1a10b9e49881",
       "side": "left",
       "tick_values": null
      }
     },
     "663fd5d262b94af298e3a0f4d0e0eba5": {
      "model_module": "bqplot",
      "model_module_version": "^0.5.3",
      "model_name": "DateScaleModel",
      "state": {
       "_model_module_version": "^0.5.3",
       "_view_module_version": "^0.5.3",
       "min": "2007-01-01T00:00:00.000000"
      }
     },
     "6665170d0fd04cf580e5c04d6a1445a9": {
      "model_module": "bqplot",
      "model_module_version": "^0.5.3",
      "model_name": "LinearScaleModel",
      "state": {
       "_model_module_version": "^0.5.3",
       "_view_module_version": "^0.5.3",
       "allow_padding": false,
       "max": 1,
       "min": 0,
       "stabilized": false
      }
     },
     "66a06384640a48c3b8f2c3831d010229": {
      "model_module": "bqplot",
      "model_module_version": "^0.5.10",
      "model_name": "AxisModel",
      "state": {
       "_model_module_version": "^0.5.10",
       "_view_module_version": "^0.5.10",
       "label": "Security 1 Price",
       "orientation": "vertical",
       "scale": "IPY_MODEL_e37a9b4ad3c949d686dca9a23de2a882",
       "side": "left",
       "tick_values": null
      }
     },
     "66cc02b139264b43b4c2d457e29eb5a5": {
      "model_module": "bqplot",
      "model_module_version": "^0.5",
      "model_name": "FigureModel",
      "state": {
       "_model_module_version": "^0.5",
       "_view_module_version": "^0.5",
       "axes": [
        "IPY_MODEL_9285a2fc4da840eebc639b9a56398b1a",
        "IPY_MODEL_ae2e4ded725446db872b1359ed23fc94"
       ],
       "interaction": "IPY_MODEL_8e8cf3a2b9714c37b6f44f5d3edb9b28",
       "layout": "IPY_MODEL_6bc956f21d6e4f89ba399ec51729894f",
       "marks": [
        "IPY_MODEL_c185891c62ed433691f3d36c2ac5f306"
       ],
       "scale_x": "IPY_MODEL_976e83c097304f83b82b7917e9fdcd68",
       "scale_y": "IPY_MODEL_359b3629056f4466972941bbbd552062",
       "title": "Histogram Selection Example"
      }
     },
     "679443bdbbc24de690234369490da513": {
      "model_module": "bqplot",
      "model_module_version": "^0.5.3",
      "model_name": "AxisModel",
      "state": {
       "_model_module_version": "^0.5.3",
       "_view_module_version": "^0.5.3",
       "label": "Security 2",
       "orientation": "vertical",
       "scale": "IPY_MODEL_d229097f42684b7bbebf298d20df9b8e",
       "side": "left",
       "tick_values": null
      }
     },
     "67f44005c3d343d3a34c80b71af58b15": {
      "model_module": "bqplot",
      "model_module_version": "^0.5.10",
      "model_name": "LinearScaleModel",
      "state": {
       "_model_module_version": "^0.5.10",
       "_view_module_version": "^0.5.10",
       "stabilized": false
      }
     },
     "6894981a270e4d11abe74e94b0446450": {
      "model_module": "bqplot",
      "model_module_version": "^0.5",
      "model_name": "LinearScaleModel",
      "state": {
       "_model_module_version": "^0.5",
       "_view_module_version": "^0.5",
       "stabilized": false
      }
     },
     "69c5256746cf46549d74ffcb7aa46e3d": {
      "model_module": "@jupyter-widgets/base",
      "model_module_version": "1.2.0",
      "model_name": "LayoutModel",
      "state": {}
     },
     "69d01567a94c4fcc8b48320382a2e662": {
      "model_module": "bqplot",
      "model_module_version": "^0.5",
      "model_name": "AxisModel",
      "state": {
       "_model_module_version": "^0.5",
       "_view_module_version": "^0.5",
       "label": "Security 1",
       "scale": "IPY_MODEL_9325cefa277f4a2c9ad133db99c26c2a",
       "side": "bottom",
       "tick_labels": {},
       "tick_values": null
      }
     },
     "6b178c4cd0cd42ff8394d8e4b4492c8d": {
      "buffers": [
       {
        "data": "AAAAAAAA8D8=",
        "encoding": "base64",
        "path": [
         "opacities",
         "value"
        ]
       },
       {
        "data": "ZJFdPFfbWEDts2hJF5tYQFaLygJpTFhASVWqf5YoWECnr3iXkxJYQORsrP8LBVhA6mA81pgKWEDE20OS+g9YQKbD/XpHFFhAzfpQN8YTWEA8yRc1U/1XQKJ2yMou3VdAAwf1BTzjV0AqMk2/xK1XQOmgmxYHk1dAV1kHMYhiV0Bs+D6ElXNXQAV0qKWkP1dA9xUu2DlNV0DwWlPlk3lXQKJkDXZ6eFdA2Tk5v+6BV0BrUkicfYdXQOHFf0ipnFdA5cYWnXmQV0AWgV5rjZhXQFWwbv5lnldAMfcwbahqV0CCod83tj5XQKLKOrcWTFdAsO5basx4V0AHL5gI93tXQFJUA3KPoFdAJq8b0l7oV0Cuhf3qig1YQE6+FtvZVlhAr2vjaogwWEB5f1edR9lXQGTZRDGV3FdAqRkxa2INWEDWJQxYRjlYQERfP8McFVhARfd1F+oRWEDIIffMAwhYQELNdYh4KlhASFsFIroGWEABpRJMsjZYQOONjK8JV1hA4PTQsYS4WEBrQmRPUqlYQDlNmgpf9lhAJbSn+WlYWUCdK0KEjKpZQHfyg0Sh6VlARXWqHo4dWkDi6A+aPQFaQC+Fo51QrFlABBxfyaPKWUAl9vZv+LdZQPvlM6SL41lAfeFMucv9WUCEdX33cTBaQHJN+OoAMVpAnYBsYBtDWkCidkDuI21aQBr5vjHGNFpA37jzUT04WkAdmefg7D5aQBJfsw62TVpATiM9dc5iWkDa33woM2ZaQLr+iMyQV1pAzZy9H2E2WkBkzD7uRjhaQLeAv6FlI1pAvCyFswHqWUDOklwptCFaQJsmPZPsAVpAIH/ieMwJWkBhJFFXPhdaQEpVFyz8HVpAm2iAhu7cWUA/nYgDGrpZQDolH6L9hFlAcXbVVSaDWUB+o5Pmg65ZQFRx7j+NDVpAchhSHPUIWkCQlAgwMfVZQMG/Zttx01lA/CYlq9/mWUAcMAwCAtZZQDIS40sUwllAPnedjKylWUBCpBrb6Y9ZQD6P7R7pjFlAvFPQGsTAWUBIezHi0NdZQMMMMUZqlFlADaAKluKmWUAlwWfkX19ZQLecaP1NZVlAJuLBG5hHWUBlIUFt+H9ZQLowkz60rVlAOeGhAFyWWUCcVZiJ4aJZQERuq1CRgFlAxI2Wd2aeWUAzug6PgFFZQHNru9zxLllAsR9UEtzXWEAOwYusBhNZQPWZKGg0JFlApeLpbyybWUDZOqK1fmpZQJIRqzW791lAcp9ngvJOWkASv7mjuHxaQLkVWMf9p1pAj1p7ivVwWkCnRztrG4taQO8YoCt3aVpAUKpczSUvWkC88gbz1DNaQHY/UNbScFpAR8q/Uw02WkBcz0Smvy9aQO+uiC3fMlpA0dTigcoAWkCLfI7tDq5ZQGeZ5WSbjVlAZtT3SHeoWUDxnjX8BIVZQPoo9w1LpllA2F5o1BB+WUDAwAHw4UZZQO1+UYKjGllAZrxdywoSWUAAd52MKv1YQI0tT3bU+VhAMPdiSs++WEClER3R8upYQLHAlNJi61hAwWcrt5n8WEAF1IPnqE1ZQP71+7JOdVlAjISuL1mWWUDDkszPo2BZQA5ciEnsaFlA",
        "encoding": "base64",
        "path": [
         "x",
         "value"
        ]
       },
       {
        "data": "MyAqE4XGWECP3tTEh15YQBxMTUbf/1dAEQPf9HLUV0D0FTt6P9tXQEaI80q8mVdAUFHZh+a0V0ATC26Gi8pXQINCmTStyVdA704jTA/ZV0BS0AP0iLhXQIPJBz3ZfVdAbkhM1r12V0DVig/bPlRXQG2uykqW/VZAIszDmU6hVkCeZP+DmMNWQE/5Von/QlZAjBWmrmZcVkDkPg/Jyn1WQFaJTTIudVZAlWIYFsPTVkDyeenXROlWQG7tyHtMTVdAbe+/odQ6V0DJnoRui21XQE/xjyy5dldAa+osChdDV0A44t3n0v1WQD6M4RJFEVdAdubmM/luV0Dd0z0KV3RXQLhaZoe+sldAUvgolxEvWEDUxAMy1G9YQNnEsgUp6VhApd8iroC9WEC/o2+sMT5YQM/2/ZDHVlhAAfSd/KHPWEDoaNS67yFZQLvN5ktlKVlAbq8Lpj5eWUCLF7dULWZZQKLAVY/fp1lAC9Ik6Y9NWUBf+budaXJZQDBWuvRavFlADob5fPUjWkABhUict+FZQClul0q5W1pAEn3e2MYLW0Agn5FKio9bQEhTlQzC+FtAwro9xpofXEB8MOqAChFcQA66Pt8nnFtAbMQd69OgW0DbkmdGP69bQN9ULm2YwFtAS9nBIdotXEDLPmp2e4VcQN2QaOzJhlxAbkgiz2zLXEAzdPTUyedcQJKBNlTAu1xAvrnX5MnLXED+ro3Z6MdcQDHaq93E5VxAeziZ4ZUoXUBn71JV1DJdQHA0kPvMFV1AkTB+mWbnXEAHR3SpBfZcQHl6og7111xAincniVpiXEB1XQ5AcLpcQDXiVu7sZlxAl/Q4gPu2XEDq8WhjBtNcQEfBX+Rx0VxAPn/rVoeDXEBqbGIYSHJcQCxA6tpX2ltAAMpIytPkW0DNAJpZ8v9bQDYDu0AWcVxAMw8aZVJ9XED2FFv0VWdcQBnfb+fXO1xAutFnkUg2XEDJiE1qM99bQN9YOr3a7FtAFM1OMcNzW0AmtZq3n2VbQIfGZjJdbltA11UUmRGJW0CqLkSSDPRbQB5xoXvDVFtAySo9L2N0W0B4bsf+6jlbQC77fGuTSFtANx9TYtYvW0Bkb1xXaYRbQJFxHC1LoFtASOSML32vW0BsqFzvGrJbQO7llZohR1tA3Nc3LoKHW0BraoUJlwlbQJ+jd2XEnVpAwVvpN99DWkBXrdBW/nBaQOqWQI2WTFpAMvjavEjgWkCeSexi2ahaQB++jpQ3eltAFEMzcpLnW0CW5AXHRHpcQL1s6T1qplxAJ9MVQU4yXECL23Kn/mVcQAFgGgM5dFxAGEWNuMEiXEDktecAwTJcQARjfmOUjFxAX5ykPfJlXEAgh6nNFZdcQOyTwpBcj1xAAPaiXLE4XEDe9+7GOs1bQOTKS2EfnltABKqyjnypW0CvAxj/d2JbQOqoJ82/l1tAeg9S60w4W0DJiK9wBIBaQMfxJJJnKVpA9padHdIUWkAkjvLRO+JZQBHOjnRezFlAe0L1yEB6WUA3b4Bgn6VZQIWfPIDiy1lAaSHKyykZWkCcGsWVsoFaQJerl12X9lpA9BSuDDI8W0BrXWjm5r9aQLFu4nwRolpA",
        "encoding": "base64",
        "path": [
         "y",
         "value"
        ]
       }
      ],
      "model_module": "bqplot",
      "model_module_version": "^0.5",
      "model_name": "ScatterModel",
      "state": {
       "_model_module_version": "^0.5",
       "_view_module_version": "^0.5",
       "label_display_horizontal_offset": 0,
       "label_display_vertical_offset": 0,
       "names": null,
       "opacities": {
        "dtype": "float64",
        "shape": [
         1
        ],
        "type": null
       },
       "scales": {
        "x": "IPY_MODEL_0a7b4064d2314a3bb6806a82f0ac5606",
        "y": "IPY_MODEL_df52a23b309f49adb00632c3596fbc45"
       },
       "scales_metadata": {
        "color": {
         "dimension": "color"
        },
        "opacity": {
         "dimension": "opacity"
        },
        "rotation": {
         "dimension": "rotation"
        },
        "size": {
         "dimension": "size"
        },
        "skew": {
         "dimension": "skew"
        },
        "x": {
         "dimension": "x",
         "orientation": "horizontal"
        },
        "y": {
         "dimension": "y",
         "orientation": "vertical"
        }
       },
       "x": {
        "dtype": "float64",
        "shape": [
         150
        ],
        "type": null
       },
       "y": {
        "dtype": "float64",
        "shape": [
         150
        ],
        "type": null
       }
      }
     },
     "6baea96ff3214fd3adeb979e252f2c6f": {
      "model_module": "@jupyter-widgets/base",
      "model_module_version": "1.2.0",
      "model_name": "LayoutModel",
      "state": {}
     },
     "6bc956f21d6e4f89ba399ec51729894f": {
      "model_module": "@jupyter-widgets/base",
      "model_module_version": "1.2.0",
      "model_name": "LayoutModel",
      "state": {}
     },
     "6c37dac2db814772bc567d326f42d00d": {
      "model_module": "bqplot",
      "model_module_version": "^0.5.3",
      "model_name": "AxisModel",
      "state": {
       "_model_module_version": "^0.5.3",
       "_view_module_version": "^0.5.3",
       "label": "Security 1 Price",
       "orientation": "vertical",
       "scale": "IPY_MODEL_b80ae359193644dca5eb2e0f2cb4c0c2",
       "side": "left",
       "tick_values": null
      }
     },
     "6c851015cfd043f984f44b9cdddecd1a": {
      "model_module": "@jupyter-widgets/base",
      "model_module_version": "1.2.0",
      "model_name": "LayoutModel",
      "state": {}
     },
     "6db1cb3950bf44e1bcd120851c03c444": {
      "buffers": [
       {
        "data": "AAAAAAAA8D8=",
        "encoding": "base64",
        "path": [
         "opacities",
         "value"
        ]
       },
       {
        "data": "AAAAAAEAAAACAAAAAwAAAAQAAAAFAAAABgAAAAcAAAAIAAAACQAAAAoAAAALAAAADAAAAA0AAAAOAAAADwAAABAAAAARAAAAEgAAABMAAAA=",
        "encoding": "base64",
        "path": [
         "x",
         "value"
        ]
       },
       {
        "data": "AAAAAAEAAAACAAAAAwAAAAQAAAAFAAAABgAAAAcAAAAIAAAACQAAAAoAAAALAAAADAAAAA0AAAAOAAAADwAAABAAAAARAAAAEgAAABMAAAA=",
        "encoding": "base64",
        "path": [
         "y",
         "value"
        ]
       }
      ],
      "model_module": "bqplot",
      "model_module_version": "^0.5",
      "model_name": "ScatterModel",
      "state": {
       "_model_module_version": "^0.5",
       "_view_module_version": "^0.5",
       "colors": [
        "skyblue"
       ],
       "label_display_horizontal_offset": 0,
       "label_display_vertical_offset": 0,
       "names": null,
       "opacities": {
        "dtype": "float64",
        "shape": [
         1
        ],
        "type": null
       },
       "scales": {
        "x": "IPY_MODEL_63ab96ce801944468da2fe46c2db84a6",
        "y": "IPY_MODEL_f70b4b13ac3c4da88caba7418e3bf8e0"
       },
       "scales_metadata": {
        "color": {
         "dimension": "color"
        },
        "opacity": {
         "dimension": "opacity"
        },
        "rotation": {
         "dimension": "rotation"
        },
        "size": {
         "dimension": "size"
        },
        "skew": {
         "dimension": "skew"
        },
        "x": {
         "dimension": "x",
         "orientation": "horizontal"
        },
        "y": {
         "dimension": "y",
         "orientation": "vertical"
        }
       },
       "x": {
        "dtype": "int32",
        "shape": [
         20
        ],
        "type": null
       },
       "y": {
        "dtype": "int32",
        "shape": [
         20
        ],
        "type": null
       }
      }
     },
     "6db84896448b45b7a6ccda88efdf99c0": {
      "model_module": "bqplot",
      "model_module_version": "^0.5.3",
      "model_name": "AxisModel",
      "state": {
       "_model_module_version": "^0.5.3",
       "_view_module_version": "^0.5.3",
       "grid_lines": "none",
       "label": "Returns",
       "scale": "IPY_MODEL_466e28cc64464b6ea1b53d8fc8d614b1",
       "side": "bottom",
       "tick_values": null
      }
     },
     "6df84270a7f74bc9b2617c5fe98f590d": {
      "model_module": "bqplot",
      "model_module_version": "^0.5.10",
      "model_name": "PanZoomModel",
      "state": {
       "_model_module_version": "^0.5.10",
       "_view_module_version": "^0.5.10",
       "scales": {
        "x": [
         "IPY_MODEL_9343486f51384fe4bae5c8d078f36dd6"
        ],
        "y": [
         "IPY_MODEL_e470dba691af4891b8bac238683673f3"
        ]
       }
      }
     },
     "6e53eb0892534ae893dc8c027fd3e91a": {
      "model_module": "@jupyter-widgets/base",
      "model_module_version": "1.2.0",
      "model_name": "LayoutModel",
      "state": {}
     },
     "6f5c72bd1b1c482a9c09429962a9f6d5": {
      "model_module": "bqplot",
      "model_module_version": "^0.5.3",
      "model_name": "FastIntervalSelectorModel",
      "state": {
       "_model_module_version": "^0.5.3",
       "_view_module_version": "^0.5.3",
       "marks": [
        "IPY_MODEL_d670a57487a349019d117e15f6067f0b",
        "IPY_MODEL_1d4c7ff50018485098466e8ca6ae0660"
       ],
       "scale": "IPY_MODEL_2749b0d8996e41d780c62ba7cc457a3b"
      }
     },
     "6f782a62e5ef41cc91ba3a7458587414": {
      "model_module": "bqplot",
      "model_module_version": "^0.5.3",
      "model_name": "FigureModel",
      "state": {
       "_model_module_version": "^0.5.3",
       "_view_module_version": "^0.5.3",
       "axes": [
        "IPY_MODEL_3ce9e69dbd624a1eb96787710ea47a8c",
        "IPY_MODEL_5c8ebc3a04574564b2e4b1c1802f0621"
       ],
       "interaction": "IPY_MODEL_ef03097f70e94fe3af64232d9354b12f",
       "layout": "IPY_MODEL_b2c3431017774aa89208c1f513ce89ec",
       "marks": [
        "IPY_MODEL_5494d197d792469082c290dce239e532",
        "IPY_MODEL_4555fdab016243ad89e3db04c3629d4b"
       ],
       "scale_x": "IPY_MODEL_405dcd8598e34ebf9417c4e9c07cd040",
       "scale_y": "IPY_MODEL_443985412d4c4ff0b5e2955a993e8492",
       "title": "Index Selector Example"
      }
     },
     "72e6495efaea40c9a25dfd540359bb86": {
      "model_module": "@jupyter-widgets/controls",
      "model_module_version": "1.5.0",
      "model_name": "DescriptionStyleModel",
      "state": {
       "description_width": ""
      }
     },
     "73fc4899364644b7b2b72eb46360da1f": {
      "model_module": "@jupyter-widgets/controls",
      "model_module_version": "1.5.0",
      "model_name": "VBoxModel",
      "state": {
       "children": [
        "IPY_MODEL_0d735c2bb0b6483192d886db55dcb9da",
        "IPY_MODEL_ea7ca3580b1844f3a4a6db6af18121e3"
       ],
       "layout": "IPY_MODEL_4d59ff68ab48406d834bc665ae6853e7"
      }
     },
     "74b743121fe64d139e48c3c52b2f4bf9": {
      "model_module": "@jupyter-widgets/controls",
      "model_module_version": "1.5.0",
      "model_name": "ToggleButtonsModel",
      "state": {
       "_options_labels": [
        "HandDraw1",
        "HandDraw2",
        "PanZoom",
        "FastIntervalSelector",
        "IndexSelector",
        "BrushIntervalSelector",
        "MultiSelector",
        "None"
       ],
       "button_style": "",
       "icons": [],
       "index": 0,
       "layout": "IPY_MODEL_e1f1ad589a334f30acc208524b618821",
       "style": "IPY_MODEL_85bfb7e3a81746a4806cb1914aee7241",
       "tooltips": []
      }
     },
     "74ccc21876a4402099e5a70da4d9b221": {
      "model_module": "bqplot",
      "model_module_version": "^0.5",
      "model_name": "FigureModel",
      "state": {
       "_model_module_version": "^0.5",
       "_view_module_version": "^0.5",
       "axes": [
        "IPY_MODEL_c129c0fbf5ad44d0aafb434661daf822",
        "IPY_MODEL_a4ac8ac158ba42ac9dfb08c4310d3501"
       ],
       "interaction": "IPY_MODEL_1911af656fa442b984b64a141232689a",
       "layout": "IPY_MODEL_d3fe222e4fb348ad97304dc28a3cd646",
       "marks": [
        "IPY_MODEL_239cc07e926e4dd79725dad7b9dd3535"
       ],
       "scale_x": "IPY_MODEL_ea79b0da75ba43a4ab242aeaba644a90",
       "scale_y": "IPY_MODEL_e2d22a9ff835449db6d286ed6fb3c40f",
       "title": "Brush Selector Selected Indices Example"
      }
     },
     "74f8d05d3dee4556a17e9af9457c4614": {
      "model_module": "bqplot",
      "model_module_version": "^0.5.3",
      "model_name": "LinearScaleModel",
      "state": {
       "_model_module_version": "^0.5.3",
       "_view_module_version": "^0.5.3",
       "allow_padding": false,
       "max": 1,
       "min": 0,
       "stabilized": false
      }
     },
     "760c267988cd481b9b76f93917d7eeac": {
      "model_module": "@jupyter-widgets/controls",
      "model_module_version": "1.5.0",
      "model_name": "ToggleButtonsModel",
      "state": {
       "_options_labels": [
        "HandDraw1",
        "HandDraw2",
        "PanZoom",
        "FastIntervalSelector",
        "IndexSelector",
        "BrushIntervalSelector",
        "MultiSelector",
        "None"
       ],
       "button_style": "",
       "icons": [],
       "index": 0,
       "layout": "IPY_MODEL_9a36873d14254b3f9dcb377b4e7bb0fc",
       "style": "IPY_MODEL_88282d3299b24156905cb72e81097212",
       "tooltips": []
      }
     },
     "768c969f88054d40ab293dfec041fdc8": {
      "model_module": "bqplot",
      "model_module_version": "^0.5.3",
      "model_name": "FigureModel",
      "state": {
       "_model_module_version": "^0.5.3",
       "_view_module_version": "^0.5.3",
       "axes": [
        "IPY_MODEL_bc5c7f3244d247eba6eb600fbd2b0725",
        "IPY_MODEL_84182d7cc2744ca987d7f632e62ba6b3"
       ],
       "interaction": "IPY_MODEL_1e8c0d7955da43fdb392f9543d5c26c0",
       "layout": "IPY_MODEL_9992c9c757cb4bc59d504e5d681fe25d",
       "marks": [
        "IPY_MODEL_b721d7ed1e3c433fa4c5471e0d8e5bcf"
       ],
       "scale_x": "IPY_MODEL_8a73fa531f8e467da242367e52aa97a0",
       "scale_y": "IPY_MODEL_998568e9f8af4cd5b724621913dda40a"
      }
     },
     "76a8d505521c4a1c90c7cbd270cc6b54": {
      "model_module": "bqplot",
      "model_module_version": "^0.5.10",
      "model_name": "LinearScaleModel",
      "state": {
       "_model_module_version": "^0.5.10",
       "_view_module_version": "^0.5.10",
       "allow_padding": false,
       "max": 1,
       "min": 0,
       "stabilized": false
      }
     },
     "770c4aba303742ccb4a9cc7a2a1fb5c1": {
      "model_module": "@jupyter-widgets/controls",
      "model_module_version": "1.5.0",
      "model_name": "HTMLModel",
      "state": {
       "layout": "IPY_MODEL_b51ead9463014e09ad64bc1c858807ff",
       "style": "IPY_MODEL_28ffcee0b3994ba0b10c22450696bd27",
       "value": "None"
      }
     },
     "78112bf10f7a4f4b820aa39249a50a60": {
      "model_module": "bqplot",
      "model_module_version": "^0.5",
      "model_name": "AxisModel",
      "state": {
       "_model_module_version": "^0.5",
       "_view_module_version": "^0.5",
       "grid_lines": "none",
       "label": "Freq",
       "orientation": "vertical",
       "scale": "IPY_MODEL_6894981a270e4d11abe74e94b0446450",
       "side": "left",
       "tick_labels": {},
       "tick_values": null
      }
     },
     "781b437cef9a493f9c1953ab031ab8e1": {
      "model_module": "@jupyter-widgets/controls",
      "model_module_version": "1.5.0",
      "model_name": "VBoxModel",
      "state": {
       "children": [
        "IPY_MODEL_4aa02be2c43b4a5ea037dcd4788bb01a",
        "IPY_MODEL_afcec0b8ac624b1ead26bb27c74182d6"
       ],
       "layout": "IPY_MODEL_1e829d6e825644ddb1060ce0fbe7caa0"
      }
     },
     "78211cec496444508e26b8a37d888dcc": {
      "model_module": "bqplot",
      "model_module_version": "^0.5.10",
      "model_name": "AxisModel",
      "state": {
       "_model_module_version": "^0.5.10",
       "_view_module_version": "^0.5.10",
       "grid_lines": "none",
       "label": "Freq",
       "orientation": "vertical",
       "scale": "IPY_MODEL_3592e2c0bd4e437c8b4edfd163eda3f2",
       "side": "left",
       "tick_values": null
      }
     },
     "789939804e90408ca0daf1fc11bbc9f5": {
      "model_module": "bqplot",
      "model_module_version": "^0.5",
      "model_name": "DateScaleModel",
      "state": {
       "_model_module_version": "^0.5",
       "_view_module_version": "^0.5",
       "min": "2007-01-01T00:00:00.000Z"
      }
     },
     "78b194d91ef24470997f498149c0e64b": {
      "model_module": "@jupyter-widgets/controls",
      "model_module_version": "1.5.0",
      "model_name": "HTMLModel",
      "state": {
       "layout": "IPY_MODEL_050dc9e16a4e4452823bd60965d11a07",
       "style": "IPY_MODEL_e8d5892824eb4464944d166e4302de4c",
       "value": "The selected period is None"
      }
     },
     "78cd5f5a950b491b906aab83c4cf98b4": {
      "model_module": "@jupyter-widgets/base",
      "model_module_version": "1.2.0",
      "model_name": "LayoutModel",
      "state": {}
     },
     "791df5fdca0b4e18885ed90c7e9a001b": {
      "model_module": "bqplot",
      "model_module_version": "^0.5.3",
      "model_name": "AxisModel",
      "state": {
       "_model_module_version": "^0.5.3",
       "_view_module_version": "^0.5.3",
       "label": "Date",
       "scale": "IPY_MODEL_663fd5d262b94af298e3a0f4d0e0eba5",
       "side": "bottom",
       "tick_values": null
      }
     },
     "793f6ff6ead346618ebc9f4b11dd3403": {
      "buffers": [
       {
        "data": "AACASa/9cEIAAECvAf5wQgAAABVU/nBCAADAeqb+cEIAAIDg+P5wQgAAQEZL/3BCAAAArJ3/cEIAAMAR8P9wQgAAgHdCAHFCAABA3ZQAcUIAAABD5wBxQgAAwKg5AXFCAACADowBcUIAAEB03gFxQgAAANowAnFCAADAP4MCcUIAAICl1QJxQgAAQAsoA3FCAAAAcXoDcUIAAMDWzANxQgAAgDwfBHFCAABAonEEcUIAAAAIxARxQgAAwG0WBXFCAACA02gFcUIAAEA5uwVxQgAAAJ8NBnFCAADABGAGcUIAAIBqsgZxQgAAQNAEB3FCAAAANlcHcUIAAMCbqQdxQgAAgAH8B3FCAABAZ04IcUIAAADNoAhxQgAAwDLzCHFCAACAmEUJcUIAAED+lwlxQgAAAGTqCXFCAADAyTwKcUIAAIAvjwpxQgAAQJXhCnFCAAAA+zMLcUIAAMBghgtxQgAAgMbYC3FCAABALCsMcUIAAACSfQxxQgAAwPfPDHFCAACAXSINcUIAAEDDdA1xQgAAACnHDXFCAADAjhkOcUIAAID0aw5xQgAAQFq+DnFCAAAAwBAPcUIAAMAlYw9xQgAAgIu1D3FCAABA8QcQcUIAAABXWhBxQgAAwLysEHFCAACAIv8QcUIAAECIURFxQgAAAO6jEXFCAADAU/YRcUIAAIC5SBJxQgAAQB+bEnFCAAAAhe0ScUIAAMDqPxNxQgAAgFCSE3FCAABAtuQTcUIAAAAcNxRxQgAAwIGJFHFCAACA59sUcUIAAEBNLhVxQgAAALOAFXFCAADAGNMVcUIAAIB+JRZxQgAAQOR3FnFCAAAASsoWcUIAAMCvHBdxQgAAgBVvF3FCAABAe8EXcUIAAADhExhxQgAAwEZmGHFCAACArLgYcUIAAEASCxlxQgAAAHhdGXFCAADA3a8ZcUIAAIBDAhpxQgAAQKlUGnFCAAAAD6cacUIAAMB0+RpxQgAAgNpLG3FCAABAQJ4bcUIAAACm8BtxQgAAwAtDHHFCAACAcZUccUIAAEDX5xxxQgAAAD06HXFCAADAoowdcUIAAIAI3x1xQgAAQG4xHnFCAAAA1IMecUIAAMA51h5xQgAAgJ8oH3FCAABABXsfcUIAAABrzR9xQgAAwNAfIHFCAACANnIgcUIAAECcxCBxQgAAAAIXIXFCAADAZ2khcUIAAIDNuyFxQgAAQDMOInFCAAAAmWAicUIAAMD+siJxQgAAgGQFI3FCAABAylcjcUIAAAAwqiNxQgAAwJX8I3FCAACA+04kcUIAAEBhoSRxQgAAAMfzJHFCAADALEYlcUIAAICSmCVxQgAAQPjqJXFCAAAAXj0mcUIAAMDDjyZxQgAAgCniJnFCAABAjzQncUIAAAD1hidxQgAAwFrZJ3FCAACAwCsocUIAAEAmfihxQgAAAIzQKHFCAADA8SIpcUIAAIBXdSlxQgAAQL3HKXFCAAAAIxoqcUIAAMCIbCpxQgAAgO6+KnFCAABAVBErcUIAAAC6YytxQgAAwB+2K3FCAACAhQgscUIAAEDrWixxQgAAAFGtLHFCAADAtv8scUIAAIAcUi1xQgAAQIKkLXFC",
        "encoding": "base64",
        "path": [
         "x",
         "value"
        ]
       },
       {
        "data": "ASMAG4jiWECwpG0Wj/dYQAAjHEF3OllA6xJE5tFCWUBpnJlFNHBZQA41OJG7c1lAh5EIo9g6WUDRoSqbJipZQBJZTIgBUFlACNsdZfKyWEAx5d8ia55YQDNJ4dP4GlhAH2uHhXg0WEAk3SDZKOdXQErAu4NeNVhANWLjiqY1WECOv01bde5XQEjF8WVe21dAqh9Leg4MWEDj2ULN+Z5YQBjOJwGsvlhAWWiv0YF8WECDZrYyem5YQE6kE1HGMlhAXNpMupApWEAvqs2RpCtYQHpUXIGMMlhAmMrNVbICWEBOsLQgv0lYQJhIqqO2UlhAyVqTXfZYWEDIBAMNClVYQAwJRzz/I1hAbYxWLZp7WEAXoK2RAKtYQEgs6ajRf1hArmWtYs+lWEAw52fkryNYQJgqomGVI1hAyyhZCjKXV0AZkZyzGN5XQLpxnbKSxFdAXLmoT0xYV0DLB4X9QwhXQHyfzAJa7FZAkiKO9dhLV0BZbvdiY0lXQOq6ebspZ1dA8FjnJ05HV0C8K1F86zVXQIImT+bzQldA8oWB1fLFVkA9ZP1k1q5WQGI2lmUiR1dA3IydetUhV0AOJWlDIe1WQLQJXkvhbVZAqr9xHwAYVkAK6P6c+15WQFRE62qtg1ZAeFEFKBv6VkDcGwTYYR1XQNHtxCvNmVZACtHFNgGqVkDjwWeUDLRWQAYs7tupD1dAdI9CrIgtV0D8f0OGnftWQI2+rvQfPldA2t7NgiKUV0AOBU12DnBXQC6qqXz72FdAmrOTJp/RV0AQ7NyRs/RXQBeENI9ti1dAVgrnplIyV0DnddMddypXQMIKvliGI1dAEZJPDE/AV0Cie6aQI9tXQLqCV3rzqFdAsnjqzl7iV0CgH00pF+JXQLri4qtAj1dAOiho2S+dV0BQjwWA2MxXQBRhSkSJz1dAAoH0AwnPV0BjA5pN3gxYQHV7+3f9pVhA7B/qwOg5WEAHHrVpek5YQON+DtrdhVhArawq0oy6WEC4FDOi3IVYQCTUnypmj1hA60ksn/I1WEBWHpxpegdYQDkAdPEo8ldAKf42EF6OWEBoFXB6Br1YQO5q6CwGflhARE8SoH7AWEB8/K7DAN1YQDYl7EosyFhAvHogvty8WEAh6SNfLuBYQOFj3p+s11hASBBfSI+AWEDCDAWnyFxZQKQagH7ny1lAfZJeip2+WUC3cAXErsRZQNdUJNSjvFlA5MCLS4atWUDcsBiK2NhZQBGVz6/2SVlANMzrs8GpWUBkB2kzladZQCEZ1U9wcFpAtq1AYd5wWkD1QycEVGdaQO21BdOyLlpAp/mouuf1WUBmDCWXwbZZQE+a5ILAallAb5QDnD9yWUAExFB8jthZQKcxsmUa81lAMt9oJ4eOWkAg+wyO0r1aQKSZxSooZ1pAut+sKrwzWkC76souB1FaQEPfNcIZD1pAngKowBRDWkC0ypuT9WVaQKwTHE4HPFpAEnjttIddWkAdppjp6flZQL8o8Aed9VlAaFABH2ihWUCPCwWFmoFZQB5Ieo9hgFlAhD9rn12FWUAJZUxog2dZQFWshJaiLFlA2WGquEIEWUASwXb3vS5ZQI3t7uS+I1lA",
        "encoding": "base64",
        "path": [
         "y",
         "value"
        ]
       }
      ],
      "model_module": "bqplot",
      "model_module_version": "^0.5.10",
      "model_name": "LinesModel",
      "state": {
       "_model_module_version": "^0.5.10",
       "_view_module_version": "^0.5.10",
       "colors": [
        "red"
       ],
       "display_legend": true,
       "fill_colors": [],
       "labels": [
        "Security 2"
       ],
       "scales": {
        "x": "IPY_MODEL_49acd346f6f2485baf6029128b6451ad",
        "y": "IPY_MODEL_79a5040e826f4a84989e2d141a08db84"
       },
       "x": {
        "dtype": "float64",
        "shape": [
         150
        ],
        "type": "date"
       },
       "y": {
        "dtype": "float64",
        "shape": [
         150
        ],
        "type": null
       }
      }
     },
     "79a5040e826f4a84989e2d141a08db84": {
      "model_module": "bqplot",
      "model_module_version": "^0.5.10",
      "model_name": "LinearScaleModel",
      "state": {
       "_model_module_version": "^0.5.10",
       "_view_module_version": "^0.5.10",
       "stabilized": false
      }
     },
     "79b07b2fb66c498484ed505fa2b539b8": {
      "buffers": [
       {
        "data": "AACASa/9cEIAAECvAf5wQgAAABVU/nBCAADAeqb+cEIAAIDg+P5wQgAAQEZL/3BCAAAArJ3/cEIAAMAR8P9wQgAAgHdCAHFCAABA3ZQAcUIAAABD5wBxQgAAwKg5AXFCAACADowBcUIAAEB03gFxQgAAANowAnFCAADAP4MCcUIAAICl1QJxQgAAQAsoA3FCAAAAcXoDcUIAAMDWzANxQgAAgDwfBHFCAABAonEEcUIAAAAIxARxQgAAwG0WBXFCAACA02gFcUIAAEA5uwVxQgAAAJ8NBnFCAADABGAGcUIAAIBqsgZxQgAAQNAEB3FCAAAANlcHcUIAAMCbqQdxQgAAgAH8B3FCAABAZ04IcUIAAADNoAhxQgAAwDLzCHFCAACAmEUJcUIAAED+lwlxQgAAAGTqCXFCAADAyTwKcUIAAIAvjwpxQgAAQJXhCnFCAAAA+zMLcUIAAMBghgtxQgAAgMbYC3FCAABALCsMcUIAAACSfQxxQgAAwPfPDHFCAACAXSINcUIAAEDDdA1xQgAAACnHDXFCAADAjhkOcUIAAID0aw5xQgAAQFq+DnFCAAAAwBAPcUIAAMAlYw9xQgAAgIu1D3FCAABA8QcQcUIAAABXWhBxQgAAwLysEHFCAACAIv8QcUIAAECIURFxQgAAAO6jEXFCAADAU/YRcUIAAIC5SBJxQgAAQB+bEnFCAAAAhe0ScUIAAMDqPxNxQgAAgFCSE3FCAABAtuQTcUIAAAAcNxRxQgAAwIGJFHFCAACA59sUcUIAAEBNLhVxQgAAALOAFXFCAADAGNMVcUIAAIB+JRZxQgAAQOR3FnFCAAAASsoWcUIAAMCvHBdxQgAAgBVvF3FCAABAe8EXcUIAAADhExhxQgAAwEZmGHFCAACArLgYcUIAAEASCxlxQgAAAHhdGXFCAADA3a8ZcUIAAIBDAhpxQgAAQKlUGnFCAAAAD6cacUIAAMB0+RpxQgAAgNpLG3FCAABAQJ4bcUIAAACm8BtxQgAAwAtDHHFCAACAcZUccUIAAEDX5xxxQgAAAD06HXFCAADAoowdcUIAAIAI3x1xQgAAQG4xHnFCAAAA1IMecUIAAMA51h5xQgAAgJ8oH3FCAABABXsfcUIAAABrzR9xQgAAwNAfIHFCAACANnIgcUIAAECcxCBxQgAAAAIXIXFCAADAZ2khcUIAAIDNuyFxQgAAQDMOInFCAAAAmWAicUIAAMD+siJxQgAAgGQFI3FCAABAylcjcUIAAAAwqiNxQgAAwJX8I3FCAACA+04kcUIAAEBhoSRxQgAAAMfzJHFCAADALEYlcUIAAICSmCVxQgAAQPjqJXFCAAAAXj0mcUIAAMDDjyZxQgAAgCniJnFCAABAjzQncUIAAAD1hidxQgAAwFrZJ3FCAACAwCsocUIAAEAmfihxQgAAAIzQKHFCAADA8SIpcUIAAIBXdSlxQgAAQL3HKXFCAAAAIxoqcUIAAMCIbCpxQgAAgO6+KnFCAABAVBErcUIAAAC6YytxQgAAwB+2K3FCAACAhQgscUIAAEDrWixxQgAAAFGtLHFCAADAtv8scUIAAIAcUi1xQgAAQIKkLXFC",
        "encoding": "base64",
        "path": [
         "x",
         "value"
        ]
       },
       {
        "data": "Rj59ZvwIWUBksTmJObBYQLa1jjtdOFlAm3PVTzIjWUBxnk6XzRFZQAfpnG0xrllA4J5XaRDbWUC/gy17LN9ZQAgFP+/SKlpAyjHqjHncWUCi+iQ1G35aQMa29z8uGFpApBDo1PHbWUA5Wq1zTh9aQN0jp5YLDVpAG8Qnre7QWUAttT86aR5aQNpES2IJkllArAb4wYzVWUAsotC4drNZQLZ11GNyrVlATDFngrvBWUBW0C5TQ0VZQON7v8Wq1lhAAy33kJhXWUD5fcXVqaVZQDKZ2WT0fllAni4uwPJ4WUC0koFsBgJZQOvyQ4cjMVlA96/hjJh1WUA25JXkVrRZQGfTNN2x6llAUWkOrUk9WkCkQcrr4LJZQFlMl5CxBlpAq28/9qFOWkAA5u8BgwNaQK+FcclYHFpAmEq3ESMzWkBDYaBK3KpaQOEaF+O/klpAG9HZr4eRWkDGKBr49VpaQGUN0gUT4FpATCb/0owYW0CCRqFDpRVbQEAvMRnqXltAFujoirelW0Adc+JU9nxbQKz9jrA4ZVtANDKEjuHwWkASinIxIf5aQFhgawbElFpAgMWD8kCXWkDyJODLk5taQMuZLlvqVltAgbRGybsIW0CuocbXJZZaQESpiQRtKFtAE1OloZdDW0DkRLgaPo5bQG5fLDMTNFtAKETU3ggHW0AQ1bB4rAZbQLIyB0LIQltA1pwf36pdW0BMWY1TAmVbQKKg2fvhL1tAfPXxbqo5W0DQOowceFhbQJz2wvhCI1tAYG09jW0nW0BTiqwBpMdbQJu14cFW+ltAny4ff27/W0AIjoaWBOVbQFDNFznow1tAkNYaY3a7W0B7ZoB3afRbQPjuTwZvOVxAiPvXuUdvXECqCVR0c09cQD+TxqZ9D1xAq9Fmqm8NXEAlVcXlRyxcQI4/S8GVtVtAhzZCpfjUW0DPVUr6cdhbQOcu4ab/7FtAJfRpoRfLW0DQ7Rp3W09bQMdKdlSaG1tAq/nafhtAW0D8XlBUqENbQEcjhO96wFtAHsLla7rGW0CaTw+BfeBbQEy/ok/rjFtA+VmHcS/CW0D4j4jgovpaQJJIWmhmfFtApHRkNutJW0BfGORjfoVbQC6wusV3gVtAMTS1WqRMW0Cd5AVl3B9bQIVGXK87SltAkP86WFclW0DATLc55iRbQHxNic5bQFtAOWvEBQ+VW0Dw3CNqvaNbQJp+LPsgaVtAynZKy5v4W0DkVlxwPiNcQA88EijuE1xAmRQmI9xKXECXLmxgRRRcQHDHOx61zltAFVo7tDvjW0AYz8tO6aFbQFchMm7nYFtAQGeaFLRaW0Au4fYVDcNbQHT3Mtc8HVxA28yo65f1W0DaOjwx9pBbQOOORFH+SVtAjXcWPgr7W0B9nneTSO1bQNdWBJjWA1xAIBbPnyP4W0DX2HDlaDtcQLDSXE0ALFxAon0peegMXEDkI8uIzpVbQCILUBj7oVtAM9w1Xh5kW0C/8/ACHTVbQNDSN6FvRltASCk7hweCW0BQZZ5ulYRbQG/DCgXIXVtADSLwaCj/WkCGEJZeWLpaQBe48MfJbFpAg3HK0rtKWkD1QnU8AXtaQDNCx3aA8llA",
        "encoding": "base64",
        "path": [
         "y",
         "value"
        ]
       }
      ],
      "model_module": "bqplot",
      "model_module_version": "^0.5.3",
      "model_name": "LinesModel",
      "state": {
       "_model_module_version": "^0.5.3",
       "_view_module_version": "^0.5.3",
       "colors": [
        "red"
       ],
       "fill_colors": [],
       "labels": [
        "C1"
       ],
       "scales": {
        "x": "IPY_MODEL_466e28cc64464b6ea1b53d8fc8d614b1",
        "y": "IPY_MODEL_12ec71be94564c7682a2440013cbbd9f"
       },
       "x": {
        "dtype": "float64",
        "shape": [
         150
        ],
        "type": "date"
       },
       "y": {
        "dtype": "float64",
        "shape": [
         150
        ],
        "type": null
       }
      }
     },
     "7a104df44f004918ae621305348a1fbb": {
      "model_module": "@jupyter-widgets/controls",
      "model_module_version": "1.5.0",
      "model_name": "HTMLModel",
      "state": {
       "layout": "IPY_MODEL_9b813192659b4210a07ae35e9cdf4399",
       "style": "IPY_MODEL_0a348c0ac4fd4553b3e64cfc45098cf9",
       "value": "[]"
      }
     },
     "7abfcac48b6044ca986ae340e7b5494c": {
      "model_module": "bqplot",
      "model_module_version": "^0.5.3",
      "model_name": "AxisModel",
      "state": {
       "_model_module_version": "^0.5.3",
       "_view_module_version": "^0.5.3",
       "grid_lines": "none",
       "label": "Time",
       "scale": "IPY_MODEL_227cddda0bd148f39b61a2b3d1def394",
       "side": "top",
       "tick_values": null
      }
     },
     "7ad1ccaa83c54090b5d1b1c2598d2722": {
      "model_module": "bqplot",
      "model_module_version": "^0.5.3",
      "model_name": "MultiSelectorModel",
      "state": {
       "_model_module_version": "^0.5.3",
       "_view_module_version": "^0.5.3",
       "color": null,
       "orientation": "horizontal",
       "scale": "IPY_MODEL_466e28cc64464b6ea1b53d8fc8d614b1"
      }
     },
     "7b2cdc732c504f1fad2fc036838fcd67": {
      "model_module": "bqplot",
      "model_module_version": "^0.5",
      "model_name": "AxisModel",
      "state": {
       "_model_module_version": "^0.5",
       "_view_module_version": "^0.5",
       "label": "Security 1",
       "scale": "IPY_MODEL_0a7b4064d2314a3bb6806a82f0ac5606",
       "side": "bottom",
       "tick_labels": {},
       "tick_values": null
      }
     },
     "7b56e8ba34e04b528ab32ac8c490667a": {
      "model_module": "bqplot",
      "model_module_version": "^0.5.10",
      "model_name": "DateScaleModel",
      "state": {
       "_model_module_version": "^0.5.10",
       "_view_module_version": "^0.5.10"
      }
     },
     "7b81d1bdefcb478b82afe0569cf6e026": {
      "model_module": "@jupyter-widgets/controls",
      "model_module_version": "1.5.0",
      "model_name": "VBoxModel",
      "state": {
       "children": [
        "IPY_MODEL_52ab8f731a144e5d91863890608353a5",
        "IPY_MODEL_838c4048d8c04a66bcbe496835d67a7a"
       ],
       "layout": "IPY_MODEL_d61ed72cb7c046259a84bf0a4b9ad00b"
      }
     },
     "7ba6d111efb34a8c964e8163e88d9129": {
      "buffers": [
       {
        "data": "AAAAAAAA8D8=",
        "encoding": "base64",
        "path": [
         "default_opacities",
         "value"
        ]
       },
       {
        "data": "caYMcqLnWECSxo/PBudYQG+JcwWOEFlAJf8QR04SWUDq1eiLzidZQNhHdZQZJllAMQ/KPEMOWUD29ljf0O9YQFlw1N2q91hAHp68eovCWEBBnnxJUqZYQLMqyqrhcFhASAH8ofheWEByhRizJURYQAKz/2CMaVhA+vB/S8A9WEBuS6O8R/BXQDjM6qcIAlhAX4b+pxYKWEDB0J7p5T1YQHbB0PNMK1hAKoYxMcf6V0B0o6TvJuNXQO/BT6kX01dAT9wVBI+vV0DnTx+OlZ9XQEHMpz9RoldAH278LfV+V0AncndqBZxXQO3snkAQsFdAPqJJULmLV0Ah3jb+UXNXQIfZTurTZVdAfZXkijapV0ASHj9TBsRXQHUn8d0EtVdAjdcJfvraV0AtPpNhwJpXQBBaqP18o1dAmZAXw1Y+V0Dp+qEuIG9XQEI7lUn6dVdAI02flvZJV0AASZXw1z9XQFAF1oAWNldAAJEhm5d9V0Dc6wh4b3VXQHYHfd6qm1dAWptyyN2RV0BEcCrWp4hXQNr0QxrniVdAJAz12kAwV0DkMNu58ihXQDyLuZ1IjFdACxoVh35dV0CR0mYEGjxXQC47oFGyAldA5bUeXZ7gVkBBYgiwxOlWQFKQm0qCBVdAVG5lcBY+V0ArWNNwPG5XQHYyUNizJldAEE00hbYUV0Ack8bIdN1WQHfuEdGF9VZARVFKnR35VkC6r3Ngn9pWQPEykGHZ2VZAMH5r3gb7VkA18mAux+1WQPXV//B7IFdAQGoRP7gsV0BDl7ZVdzFXQE40SKbZ71ZAf65dDFKgVkAmeuEru61WQAauHzfnfVZAQsPmWC7qVkATcefFdOtWQI1m3+st6VZAhEdisgfzVkBqsUzFA+NWQOP3Rnwm0VZAT6PpCprSVkA/9Gxkpt1WQNGG7jNz6lZAE8lfysnwVkB4RKRF0SxXQIJm+2fBXFdASxOSwkIJV0C0WB2piy5XQERrhTArY1dAFBfa8750V0A1Lk70fGNXQBx3N5sdaFdA1qd8/EQfV0Byab4DbONWQH+Vu+gp3lZAEq8E29z/VkA6Z/B7bQtXQDYmDowpz1ZAxD/2cvv8VkDuLQ9fWvNWQFWllfrLxVZArX32V8fHVkAmbK2bxr9WQFxaP1H2s1ZAHrvcr9dvVkDUy+9CqN1WQNSx2csRHFdAFVP+SYAIV0DWhGFHQQFXQMP9obyt9VZAI2s6IUbuVkB1TLfQwP5WQKDWON5f1lZARBn6GssnV0BugRqP8CxXQCJpDPtns1dAalYPpYukV0DipuW/eKtXQA9AEuQ7bVdA3p9AxC9tV0DpHWCt0llXQBe5szNoLVdAhIGtmis4V0CifS1Q3HpXQP/RrP6FgldApqQz9KLVV0BUgT9zTA1YQK6ni1Tz51dAxvOc7mXXV0BqNmzVytZXQJmRQKl9rVdASlAf0KLNV0DeT+OCPt5XQGrsU0eewVdAgWjlmV/hV0DVEx0mlIxXQHTXW2QxfFdAojnzZYlDV0BtzkNyiUhXQA4nvEgQQ1dAEX93cHJPV0DEb/tgHz9XQP+f1k0FNVdAMdlTo/QnV0CYgSjhODBXQOp04Cj5O1dA",
        "encoding": "base64",
        "path": [
         "x",
         "value"
        ]
       },
       {
        "data": "ASMAG4jiWECwpG0Wj/dYQAAjHEF3OllA6xJE5tFCWUBpnJlFNHBZQA41OJG7c1lAh5EIo9g6WUDRoSqbJipZQBJZTIgBUFlACNsdZfKyWEAx5d8ia55YQDNJ4dP4GlhAH2uHhXg0WEAk3SDZKOdXQErAu4NeNVhANWLjiqY1WECOv01bde5XQEjF8WVe21dAqh9Leg4MWEDj2ULN+Z5YQBjOJwGsvlhAWWiv0YF8WECDZrYyem5YQE6kE1HGMlhAXNpMupApWEAvqs2RpCtYQHpUXIGMMlhAmMrNVbICWEBOsLQgv0lYQJhIqqO2UlhAyVqTXfZYWEDIBAMNClVYQAwJRzz/I1hAbYxWLZp7WEAXoK2RAKtYQEgs6ajRf1hArmWtYs+lWEAw52fkryNYQJgqomGVI1hAyyhZCjKXV0AZkZyzGN5XQLpxnbKSxFdAXLmoT0xYV0DLB4X9QwhXQHyfzAJa7FZAkiKO9dhLV0BZbvdiY0lXQOq6ebspZ1dA8FjnJ05HV0C8K1F86zVXQIImT+bzQldA8oWB1fLFVkA9ZP1k1q5WQGI2lmUiR1dA3IydetUhV0AOJWlDIe1WQLQJXkvhbVZAqr9xHwAYVkAK6P6c+15WQFRE62qtg1ZAeFEFKBv6VkDcGwTYYR1XQNHtxCvNmVZACtHFNgGqVkDjwWeUDLRWQAYs7tupD1dAdI9CrIgtV0D8f0OGnftWQI2+rvQfPldA2t7NgiKUV0AOBU12DnBXQC6qqXz72FdAmrOTJp/RV0AQ7NyRs/RXQBeENI9ti1dAVgrnplIyV0DnddMddypXQMIKvliGI1dAEZJPDE/AV0Cie6aQI9tXQLqCV3rzqFdAsnjqzl7iV0CgH00pF+JXQLri4qtAj1dAOiho2S+dV0BQjwWA2MxXQBRhSkSJz1dAAoH0AwnPV0BjA5pN3gxYQHV7+3f9pVhA7B/qwOg5WEAHHrVpek5YQON+DtrdhVhArawq0oy6WEC4FDOi3IVYQCTUnypmj1hA60ksn/I1WEBWHpxpegdYQDkAdPEo8ldAKf42EF6OWEBoFXB6Br1YQO5q6CwGflhARE8SoH7AWEB8/K7DAN1YQDYl7EosyFhAvHogvty8WEAh6SNfLuBYQOFj3p+s11hASBBfSI+AWEDCDAWnyFxZQKQagH7ny1lAfZJeip2+WUC3cAXErsRZQNdUJNSjvFlA5MCLS4atWUDcsBiK2NhZQBGVz6/2SVlANMzrs8GpWUBkB2kzladZQCEZ1U9wcFpAtq1AYd5wWkD1QycEVGdaQO21BdOyLlpAp/mouuf1WUBmDCWXwbZZQE+a5ILAallAb5QDnD9yWUAExFB8jthZQKcxsmUa81lAMt9oJ4eOWkAg+wyO0r1aQKSZxSooZ1pAut+sKrwzWkC76souB1FaQEPfNcIZD1pAngKowBRDWkC0ypuT9WVaQKwTHE4HPFpAEnjttIddWkAdppjp6flZQL8o8Aed9VlAaFABH2ihWUCPCwWFmoFZQB5Ieo9hgFlAhD9rn12FWUAJZUxog2dZQFWshJaiLFlA2WGquEIEWUASwXb3vS5ZQI3t7uS+I1lA",
        "encoding": "base64",
        "path": [
         "y",
         "value"
        ]
       }
      ],
      "model_module": "bqplot",
      "model_module_version": "^0.5.10",
      "model_name": "ScatterModel",
      "state": {
       "_model_module_version": "^0.5.10",
       "_view_module_version": "^0.5.10",
       "default_opacities": {
        "dtype": "float64",
        "shape": [
         1
        ],
        "type": null
       },
       "names": null,
       "scales": {
        "x": "IPY_MODEL_502e83aff46f4e55b04bc261cce50fcb",
        "y": "IPY_MODEL_d2516729ccaa4e388c31a37d52e5667e"
       },
       "scales_metadata": {
        "color": {
         "dimension": "color"
        },
        "opacity": {
         "dimension": "opacity"
        },
        "rotation": {
         "dimension": "rotation"
        },
        "size": {
         "dimension": "size"
        },
        "skew": {
         "dimension": "skew"
        },
        "x": {
         "dimension": "x",
         "orientation": "horizontal"
        },
        "y": {
         "dimension": "y",
         "orientation": "vertical"
        }
       },
       "x": {
        "dtype": "float64",
        "shape": [
         150
        ],
        "type": null
       },
       "y": {
        "dtype": "float64",
        "shape": [
         150
        ],
        "type": null
       }
      }
     },
     "7bb58a386bd5481799531bc4cdba34e7": {
      "model_module": "bqplot",
      "model_module_version": "^0.5",
      "model_name": "LinearScaleModel",
      "state": {
       "_model_module_version": "^0.5",
       "_view_module_version": "^0.5",
       "allow_padding": false,
       "max": 1,
       "min": 0,
       "stabilized": false
      }
     },
     "7bdc1001dade49f59985bc25007cdc5d": {
      "model_module": "@jupyter-widgets/controls",
      "model_module_version": "1.5.0",
      "model_name": "VBoxModel",
      "state": {
       "children": [
        "IPY_MODEL_5731540decd04cdf9ce81bc0e76a092c",
        "IPY_MODEL_2f9079fd91e342058aac5b3c8161f99b"
       ],
       "layout": "IPY_MODEL_39a32c4c6a6b44c692b5843b273d0044"
      }
     },
     "7cff6052cca44f59a3c3a41cbd4601cc": {
      "model_module": "bqplot",
      "model_module_version": "^0.5.3",
      "model_name": "FigureModel",
      "state": {
       "_model_module_version": "^0.5.3",
       "_view_module_version": "^0.5.3",
       "axes": [
        "IPY_MODEL_8f99dedda5cb43e99250ed494bf04253",
        "IPY_MODEL_e83a2a39b5824b2b823eced66396e557"
       ],
       "interaction": "IPY_MODEL_e6aa6260148143aa832415497385a927",
       "layout": "IPY_MODEL_8345ade7e762418d9f66c6cb34f1f26f",
       "marks": [
        "IPY_MODEL_4c358b600f194795aa528083d56550cf"
       ],
       "scale_x": "IPY_MODEL_c9179073a6eb4ba2aa3fb8915eef10d0",
       "scale_y": "IPY_MODEL_413ba3128828427486cb9b36377c5768",
       "title": "Fast Interval Selector Selected Indices Example"
      }
     },
     "7e3a95003c414fc4a17e813fdce41eb1": {
      "model_module": "bqplot",
      "model_module_version": "^0.5",
      "model_name": "LinearScaleModel",
      "state": {
       "_model_module_version": "^0.5",
       "_view_module_version": "^0.5",
       "stabilized": false
      }
     },
     "7e570f623aac42a5a020643423a7cd70": {
      "model_module": "bqplot",
      "model_module_version": "^0.5",
      "model_name": "LassoSelectorModel",
      "state": {
       "_model_module_version": "^0.5",
       "_view_module_version": "^0.5",
       "marks": [
        "IPY_MODEL_6db1cb3950bf44e1bcd120851c03c444",
        "IPY_MODEL_2f8ecab6a0574d4ea15c82ad38c4e9b2"
       ]
      }
     },
     "7e7ada98b76148e3909294edf159ccfe": {
      "model_module": "bqplot",
      "model_module_version": "^0.5",
      "model_name": "FigureModel",
      "state": {
       "_model_module_version": "^0.5",
       "_view_module_version": "^0.5",
       "axes": [
        "IPY_MODEL_3163654171784dde8ce97b90240321a9",
        "IPY_MODEL_d9aa26fc528e4f478145b8b563d62619"
       ],
       "interaction": "IPY_MODEL_931febc460a5433ead8800a0cd9458f9",
       "layout": "IPY_MODEL_1c8c7ed4a2c34f8ea9249c7283b94ba9",
       "marks": [
        "IPY_MODEL_fd16053c57dc4cd79669deb6e54e916a",
        "IPY_MODEL_8ebf9ffaec4e411ca55f1d31f51980e5"
       ],
       "scale_x": "IPY_MODEL_dce2503f39d04305a5e2af5619a0df98",
       "scale_y": "IPY_MODEL_f9abfebde6ca4865805903606d650f95",
       "title": "Index Selector Example"
      }
     },
     "7e98bd59374e44cea84d05d5d8182a94": {
      "model_module": "@jupyter-widgets/controls",
      "model_module_version": "1.5.0",
      "model_name": "DescriptionStyleModel",
      "state": {
       "description_width": ""
      }
     },
     "7f03aded24f540f583c18c1828100a32": {
      "model_module": "bqplot",
      "model_module_version": "^0.5.10",
      "model_name": "LinearScaleModel",
      "state": {
       "_model_module_version": "^0.5.10",
       "_view_module_version": "^0.5.10",
       "stabilized": false
      }
     },
     "7feae650f5ff4a8ca335340b367c0fc0": {
      "model_module": "@jupyter-widgets/base",
      "model_module_version": "1.2.0",
      "model_name": "LayoutModel",
      "state": {}
     },
     "813b41b7458a4237a6f74429792f2ef8": {
      "model_module": "@jupyter-widgets/controls",
      "model_module_version": "1.5.0",
      "model_name": "DescriptionStyleModel",
      "state": {
       "description_width": ""
      }
     },
     "8147e729a7084c228931cb523cb50696": {
      "model_module": "@jupyter-widgets/controls",
      "model_module_version": "1.5.0",
      "model_name": "DescriptionStyleModel",
      "state": {
       "description_width": ""
      }
     },
     "814fe043b4ee4217ad4577ffbfc39aab": {
      "model_module": "bqplot",
      "model_module_version": "^0.5",
      "model_name": "FigureModel",
      "state": {
       "_model_module_version": "^0.5",
       "_view_module_version": "^0.5",
       "axes": [
        "IPY_MODEL_f04b5e171b7e4e939a6890403a45781f",
        "IPY_MODEL_f82ded87eec74adebd0c8ba0ccda3dde"
       ],
       "interaction": "IPY_MODEL_2b1412def8474dca9e69ab15b4f4109f",
       "layout": "IPY_MODEL_94ec0ac03ece41bfb7e446411f967fad",
       "marks": [
        "IPY_MODEL_9f4a4adc5ad34dbe99516b9cf0b7b1b1"
       ],
       "scale_x": "IPY_MODEL_ae5d3c59ce0d460eabfdb1ac911fd0a9",
       "scale_y": "IPY_MODEL_d108c7660481482486f397fbb9c34e0d",
       "title": "Fast Interval Selector Selected Indices Example"
      }
     },
     "8165c38d55ab454fab034971204059cc": {
      "model_module": "@jupyter-widgets/controls",
      "model_module_version": "1.5.0",
      "model_name": "DescriptionStyleModel",
      "state": {
       "description_width": ""
      }
     },
     "81efcaa2af6e4931b457652a7da710d0": {
      "model_module": "bqplot",
      "model_module_version": "^0.5",
      "model_name": "IndexSelectorModel",
      "state": {
       "_model_module_version": "^0.5",
       "_view_module_version": "^0.5",
       "marks": [
        "IPY_MODEL_0a5b7c33262e41fdafc23f2256db8fc5",
        "IPY_MODEL_bfcb14123037401f81aca1f4a52a33cf"
       ],
       "scale": "IPY_MODEL_fd564f48c10d44b3901f35cd009e2bed"
      }
     },
     "81fcbe5d27374fe0b35921094cceb171": {
      "model_module": "bqplot",
      "model_module_version": "^0.5",
      "model_name": "AxisModel",
      "state": {
       "_model_module_version": "^0.5",
       "_view_module_version": "^0.5",
       "grid_lines": "none",
       "label": "Returns",
       "scale": "IPY_MODEL_789939804e90408ca0daf1fc11bbc9f5",
       "side": "bottom",
       "tick_labels": {},
       "tick_values": null
      }
     },
     "8345ade7e762418d9f66c6cb34f1f26f": {
      "model_module": "@jupyter-widgets/base",
      "model_module_version": "1.2.0",
      "model_name": "LayoutModel",
      "state": {}
     },
     "838c4048d8c04a66bcbe496835d67a7a": {
      "model_module": "bqplot",
      "model_module_version": "^0.5.10",
      "model_name": "FigureModel",
      "state": {
       "_model_module_version": "^0.5.10",
       "_view_module_version": "^0.5.10",
       "axes": [
        "IPY_MODEL_4b556481c8464c00a52da8435ab22370",
        "IPY_MODEL_9d35881ff9e94b0e9eccf7b413d26721"
       ],
       "interaction": "IPY_MODEL_8f22c41b43e64f50b6004ec6abc4dc2b",
       "layout": "IPY_MODEL_28b9566bcafc4c5d9a8f732acec010dc",
       "marks": [
        "IPY_MODEL_09fe1b2d53724690ba45682b02138fa5"
       ],
       "scale_x": "IPY_MODEL_61a35f97ec014c638031cd5943d40285",
       "scale_y": "IPY_MODEL_2c95ecf532f44f67b9beb34d9009d4b6",
       "title": "Fast Interval Selector Selected Indices Example"
      }
     },
     "83e2b1f5bef14afda90e3ec5a377d9e0": {
      "buffers": [
       {
        "data": "AAAAAAEAAAACAAAAAwAAAAQAAAAFAAAABgAAAAcAAAAIAAAACQAAAAoAAAALAAAADAAAAA0AAAAOAAAADwAAABAAAAARAAAAEgAAABMAAAAUAAAAFQAAABYAAAAXAAAAGAAAABkAAAAaAAAAGwAAABwAAAAdAAAAHgAAAB8AAAAgAAAAIQAAACIAAAAjAAAAJAAAACUAAAAmAAAAJwAAACgAAAApAAAAKgAAACsAAAAsAAAALQAAAC4AAAAvAAAAMAAAADEAAAAyAAAAMwAAADQAAAA1AAAANgAAADcAAAA4AAAAOQAAADoAAAA7AAAAPAAAAD0AAAA+AAAAPwAAAEAAAABBAAAAQgAAAEMAAABEAAAARQAAAEYAAABHAAAASAAAAEkAAABKAAAASwAAAEwAAABNAAAATgAAAE8AAABQAAAAUQAAAFIAAABTAAAAVAAAAFUAAABWAAAAVwAAAFgAAABZAAAAWgAAAFsAAABcAAAAXQAAAF4AAABfAAAAYAAAAGEAAABiAAAAYwAAAA==",
        "encoding": "base64",
        "path": [
         "x",
         "value"
        ]
       },
       {
        "data": "VH9AcHZw4j+0mTTrZPvgv4aCrISQF+C/HG/YRz7T/z/F3DATXLLmv3w5CR+ZGdq/pZltvmiTlb8PG9wX4O/nP9tlRMlnT8I/sWYP0xkq+T+wwPceEke8P16SO9iu7uA/HpdHV+fN3z+zjFm3QdjpP+hEq0TzD8k/Zv4O4hW1lT/RwN+bBxbzP0fXBFflp9o/emxo2L/a9L/looA2F5zFPzY5VVAgkvG/NV+PC+V62j9gw4VqTmvWvzs1TF1mQgPArmV11LrM9z/1jUegm4nnP0DZI4c0v/q/hMtOlfJ+6T80H/q6TCvrv4N2QShrgfS/sHlmG5e84b+jnvKd3UTkPx3WBB24LvM/PtwuJ2DU/D8arkYKsrblP4rsxfzymb6//WElQzXZ0b90pRQ50A/JPxuc2q0TtvC/NV1w+D408L+aN+++zTjVPyPcKc8RIam/y3PdZa6bBsD0nipUvDHYv7BZ9i1pE9u/8tWiy9qj1T/uT+JuF3bzvzmTfiKa7OY/7eY1sqJg8b9adsPZGDvePwu92LSmv8K/QbKPBSEd7j8H6fEFpmHDvx0IMyfNW+y/HgI+dcUZ8z9Wfi8hiij8vxb04hF4ROa/38soiYsh/T+Zft3q4Rmyv8vl02GDxN2/Dx4+IejZ8r83pAX/M5XGPy1NAsNMz/G/FS7ZB652w7+1Gzuqn82WPxPyIh5BCdM/ABpVndQszD9IrCUAR9plv4dYgbHFObY/t32GIIQL9z8Y68+0e1jyv7ZDavB/d8c/GNli0TOg4D8OH0lLhQv0v1S6z16EF+K//087GAae9r+dZY0Za8vyv/AQxbpKveM/PzI9EDfI8r+E2SCuETbbv7yX06bcFN8/To52aYMsxj/onfW6UM/vv5b4DgvOTr6//UcdCmpE5D9wQpzaXkDHP7N/hmuHAfe/2lH+9uTK1z+8sbeHCmnivwgyOytmbOO/hXKUTy7O0b/vtvMHXs31PxsXY9e7WuG/hv/Gi94R0T+OE9HGBBLfv13KNfRb6va/nhPnqZvZ9L8oiQAsK571v65jGqqxJ/C/Ac9MMFBEAEA=",
        "encoding": "base64",
        "path": [
         "y",
         "value"
        ]
       }
      ],
      "model_module": "bqplot",
      "model_module_version": "^0.5",
      "model_name": "LinesModel",
      "state": {
       "_model_module_version": "^0.5",
       "_view_module_version": "^0.5",
       "fill_colors": [],
       "labels": [
        "C1"
       ],
       "scales": {
        "x": "IPY_MODEL_d1e4967cbb264fada93917c186ba6a99",
        "y": "IPY_MODEL_94b40df5fddb48218975e51bc0bee05c"
       },
       "x": {
        "dtype": "int32",
        "shape": [
         100
        ],
        "type": null
       },
       "y": {
        "dtype": "float64",
        "shape": [
         100
        ],
        "type": null
       }
      }
     },
     "84182d7cc2744ca987d7f632e62ba6b3": {
      "model_module": "bqplot",
      "model_module_version": "^0.5.3",
      "model_name": "AxisModel",
      "state": {
       "_model_module_version": "^0.5.3",
       "_view_module_version": "^0.5.3",
       "grid_lines": "none",
       "label": "Price",
       "orientation": "vertical",
       "scale": "IPY_MODEL_d30c338420404ec38a0204c8d735c6f8",
       "side": "left",
       "tick_values": null
      }
     },
     "84d5e273113149a8bc202a495221df01": {
      "model_module": "bqplot",
      "model_module_version": "^0.5",
      "model_name": "LinearScaleModel",
      "state": {
       "_model_module_version": "^0.5",
       "_view_module_version": "^0.5",
       "stabilized": false
      }
     },
     "84f37b8b02a24bcb959de2c7d15bb138": {
      "model_module": "bqplot",
      "model_module_version": "^0.5.10",
      "model_name": "AxisModel",
      "state": {
       "_model_module_version": "^0.5.10",
       "_view_module_version": "^0.5.10",
       "label": "Date",
       "scale": "IPY_MODEL_3c0aebfb53cd4e7882bde6136317be91",
       "side": "bottom",
       "tick_values": null
      }
     },
     "8527464eb9f04f19b062033c2f4e8e2d": {
      "model_module": "bqplot",
      "model_module_version": "^0.5.3",
      "model_name": "LinearScaleModel",
      "state": {
       "_model_module_version": "^0.5.3",
       "_view_module_version": "^0.5.3",
       "allow_padding": false,
       "max": 1,
       "min": 0,
       "stabilized": false
      }
     },
     "8537169387244ab59e47db5282447510": {
      "model_module": "@jupyter-widgets/controls",
      "model_module_version": "1.5.0",
      "model_name": "HTMLModel",
      "state": {
       "layout": "IPY_MODEL_f8cb49f7f56a42c0aceafb59d151fcb0",
       "style": "IPY_MODEL_28cb6261a3614bbc8efd0ed83ebd3566",
       "value": "None"
      }
     },
     "853961d363e648c983c8188666356db4": {
      "model_module": "bqplot",
      "model_module_version": "^0.5.3",
      "model_name": "LinearScaleModel",
      "state": {
       "_model_module_version": "^0.5.3",
       "_view_module_version": "^0.5.3",
       "stabilized": false
      }
     },
     "855968a00ff5417db8902bfa3123dbe5": {
      "model_module": "bqplot",
      "model_module_version": "^0.5",
      "model_name": "FigureModel",
      "state": {
       "_model_module_version": "^0.5",
       "_view_module_version": "^0.5",
       "axes": [
        "IPY_MODEL_7b2cdc732c504f1fad2fc036838fcd67",
        "IPY_MODEL_c6d58bff35b841b4a7e662b46c3317f0"
       ],
       "interaction": "IPY_MODEL_11223a47e16549d9b13e8f8e266fbb6b",
       "layout": "IPY_MODEL_d5d4d1e4950e4ec9bf0f853f459e6bfa",
       "marks": [
        "IPY_MODEL_6b178c4cd0cd42ff8394d8e4b4492c8d"
       ],
       "scale_x": "IPY_MODEL_e1982f070cf94697b160b93ca39cb85b",
       "scale_y": "IPY_MODEL_e3add123a9824490bc8b7c24a6bbd370",
       "title": "Scatter Chart Brush Selector Example"
      }
     },
     "85bfb7e3a81746a4806cb1914aee7241": {
      "model_module": "@jupyter-widgets/controls",
      "model_module_version": "1.5.0",
      "model_name": "ToggleButtonsStyleModel",
      "state": {
       "button_width": "",
       "description_width": ""
      }
     },
     "86723054182e4a3ea9f3e11a3b226908": {
      "model_module": "bqplot",
      "model_module_version": "^0.5.10",
      "model_name": "AxisModel",
      "state": {
       "_model_module_version": "^0.5.10",
       "_view_module_version": "^0.5.10",
       "label": "Returns",
       "scale": "IPY_MODEL_2d7f55a4fa2f4c5796dd7e9d07c12429",
       "side": "bottom",
       "tick_format": "0.2%",
       "tick_values": null
      }
     },
     "86f1bd25a34b4ce88ed9c41b19681070": {
      "model_module": "@jupyter-widgets/base",
      "model_module_version": "1.2.0",
      "model_name": "LayoutModel",
      "state": {}
     },
     "87b4c52d07de4540ba5e2dbb19545b53": {
      "model_module": "@jupyter-widgets/base",
      "model_module_version": "1.2.0",
      "model_name": "LayoutModel",
      "state": {}
     },
     "87dfa9a878ed4423baf4c460fb10d413": {
      "model_module": "@jupyter-widgets/controls",
      "model_module_version": "1.5.0",
      "model_name": "VBoxModel",
      "state": {
       "children": [
        "IPY_MODEL_255a47c0e5cd4beb9988dd53127c4952",
        "IPY_MODEL_241bab2aed794794a13ce1e93723aa9c"
       ],
       "layout": "IPY_MODEL_8b855f0a22f44b66993a4ceabf13c776"
      }
     },
     "88282d3299b24156905cb72e81097212": {
      "model_module": "@jupyter-widgets/controls",
      "model_module_version": "1.5.0",
      "model_name": "ToggleButtonsStyleModel",
      "state": {
       "button_width": "",
       "description_width": ""
      }
     },
     "88953781c5ef4aa094197cba30ea5145": {
      "model_module": "bqplot",
      "model_module_version": "^0.5",
      "model_name": "LinearScaleModel",
      "state": {
       "_model_module_version": "^0.5",
       "_view_module_version": "^0.5",
       "allow_padding": false,
       "max": 1,
       "min": 0,
       "stabilized": false
      }
     },
     "88f93b8885134f87b831a3bd8c1eb480": {
      "buffers": [
       {
        "data": "AAAAAAAA8D8=",
        "encoding": "base64",
        "path": [
         "default_opacities",
         "value"
        ]
       },
       {
        "data": "AAAAAAEAAAACAAAAAwAAAAQAAAAFAAAABgAAAAcAAAAIAAAACQAAAAoAAAALAAAADAAAAA0AAAAOAAAADwAAABAAAAARAAAAEgAAABMAAAA=",
        "encoding": "base64",
        "path": [
         "x",
         "value"
        ]
       },
       {
        "data": "AAAAAAEAAAACAAAAAwAAAAQAAAAFAAAABgAAAAcAAAAIAAAACQAAAAoAAAALAAAADAAAAA0AAAAOAAAADwAAABAAAAARAAAAEgAAABMAAAA=",
        "encoding": "base64",
        "path": [
         "y",
         "value"
        ]
       }
      ],
      "model_module": "bqplot",
      "model_module_version": "^0.5.10",
      "model_name": "ScatterModel",
      "state": {
       "_model_module_version": "^0.5.10",
       "_view_module_version": "^0.5.10",
       "colors": [
        "skyblue"
       ],
       "default_opacities": {
        "dtype": "float64",
        "shape": [
         1
        ],
        "type": null
       },
       "names": null,
       "scales": {
        "x": "IPY_MODEL_4cd7739c1f3641ddb34e8466d8f865f3",
        "y": "IPY_MODEL_7f03aded24f540f583c18c1828100a32"
       },
       "scales_metadata": {
        "color": {
         "dimension": "color"
        },
        "opacity": {
         "dimension": "opacity"
        },
        "rotation": {
         "dimension": "rotation"
        },
        "size": {
         "dimension": "size"
        },
        "skew": {
         "dimension": "skew"
        },
        "x": {
         "dimension": "x",
         "orientation": "horizontal"
        },
        "y": {
         "dimension": "y",
         "orientation": "vertical"
        }
       },
       "x": {
        "dtype": "int32",
        "shape": [
         20
        ],
        "type": null
       },
       "y": {
        "dtype": "int32",
        "shape": [
         20
        ],
        "type": null
       }
      }
     },
     "8901e01f45844ff0a12d583cd1cec536": {
      "model_module": "@jupyter-widgets/controls",
      "model_module_version": "1.5.0",
      "model_name": "HTMLModel",
      "state": {
       "layout": "IPY_MODEL_7feae650f5ff4a8ca335340b367c0fc0",
       "style": "IPY_MODEL_08281f5bf6864072a48dcfc508b8a061",
       "value": "{}"
      }
     },
     "8a73fa531f8e467da242367e52aa97a0": {
      "model_module": "bqplot",
      "model_module_version": "^0.5.3",
      "model_name": "LinearScaleModel",
      "state": {
       "_model_module_version": "^0.5.3",
       "_view_module_version": "^0.5.3",
       "allow_padding": false,
       "max": 1,
       "min": 0,
       "stabilized": false
      }
     },
     "8b855f0a22f44b66993a4ceabf13c776": {
      "model_module": "@jupyter-widgets/base",
      "model_module_version": "1.2.0",
      "model_name": "LayoutModel",
      "state": {}
     },
     "8d92908e4de94b6e869646862ca17879": {
      "model_module": "bqplot",
      "model_module_version": "^0.5.10",
      "model_name": "AxisModel",
      "state": {
       "_model_module_version": "^0.5.10",
       "_view_module_version": "^0.5.10",
       "label": "Security 1 Price",
       "orientation": "vertical",
       "scale": "IPY_MODEL_67f44005c3d343d3a34c80b71af58b15",
       "side": "left",
       "tick_values": null
      }
     },
     "8e8cf3a2b9714c37b6f44f5d3edb9b28": {
      "model_module": "bqplot",
      "model_module_version": "^0.5",
      "model_name": "BrushIntervalSelectorModel",
      "state": {
       "_model_module_version": "^0.5",
       "_view_module_version": "^0.5",
       "marks": [
        "IPY_MODEL_c185891c62ed433691f3d36c2ac5f306"
       ],
       "scale": "IPY_MODEL_210c8d1daf7b443ebb610fcc3649e066"
      }
     },
     "8ebf9ffaec4e411ca55f1d31f51980e5": {
      "buffers": [
       {
        "data": "AAAAKccNcUIAAMCOGQ5xQgAAgPRrDnFCAABAWr4OcUIAAADAEA9xQgAAwCVjD3FCAACAi7UPcUIAAEDxBxBxQgAAAFdaEHFCAADAvKwQcUIAAIAi/xBxQgAAQIhREXFCAAAA7qMRcUIAAMBT9hFxQgAAgLlIEnFCAABAH5sScUIAAACF7RJxQgAAwOo/E3FCAACAUJITcUIAAEC25BNxQgAAABw3FHFCAADAgYkUcUIAAIDn2xRxQgAAQE0uFXFCAAAAs4AVcUIAAMAY0xVxQgAAgH4lFnFCAABA5HcWcUIAAABKyhZxQgAAwK8cF3FCAACAFW8XcUIAAEB7wRdxQgAAAOETGHFCAADARmYYcUIAAICsuBhxQgAAQBILGXFCAAAAeF0ZcUIAAMDdrxlxQgAAgEMCGnFCAABAqVQacUIAAAAPpxpxQgAAwHT5GnFCAACA2ksbcUIAAEBAnhtxQgAAAKbwG3FCAADAC0MccUIAAIBxlRxxQgAAQNfnHHFCAAAAPTodcUIAAMCijB1xQgAAgAjfHXFCAABAbjEecUIAAADUgx5xQgAAwDnWHnFCAACAnygfcUIAAEAFex9xQgAAAGvNH3FCAADA0B8gcUIAAIA2ciBxQgAAQJzEIHFCAAAAAhchcUIAAMBnaSFxQgAAgM27IXFCAABAMw4icUIAAACZYCJxQgAAwP6yInFCAACAZAUjcUIAAEDKVyNxQgAAADCqI3FCAADAlfwjcUIAAID7TiRxQgAAQGGhJHFCAAAAx/MkcUIAAMAsRiVxQgAAgJKYJXFCAABA+OolcUIAAABePSZxQgAAwMOPJnFCAACAKeImcUIAAECPNCdxQgAAAPWGJ3FCAADAWtkncUIAAIDAKyhxQgAAQCZ+KHFCAAAAjNAocUIAAMDxIilxQgAAgFd1KXFCAABAvccpcUIAAAAjGipxQgAAwIhsKnFCAACA7r4qcUIAAEBUEStxQgAAALpjK3FCAADAH7YrcUIAAICFCCxxQgAAQOtaLHFCAAAAUa0scUIAAMC2/yxxQgAAgBxSLXFCAABAgqQtcUI=",
        "encoding": "base64",
        "path": [
         "x",
         "value"
        ]
       },
       {
        "data": "OU2aCl92WUAltKf5adhZQJ0rQoSMKlpAd/KDRKFpWkBFdaoejp1aQOLoD5o9gVpAL4WjnVAsWkAEHF/Jo0paQCX29m/4N1pA++UzpItjWkB94Uy5y31aQIR1ffdxsFpAck346gCxWkCdgGxgG8NaQKJ2QO4j7VpAGvm+Mca0WkDfuPNRPbhaQB2Z5+DsvlpAEl+zDrbNWkBOIz11zuJaQNrffCgz5lpAuv6IzJDXWkDNnL0fYbZaQGTMPu5GuFpAt4C/oWWjWkC8LIWzAWpaQM6SXCm0oVpAmyY9k+yBWkAgf+J4zIlaQGEkUVc+l1pASlUXLPydWkCbaICG7lxaQD+diAMaOlpAOiUfov0EWkBxdtVVJgNaQH6jk+aDLlpAVHHuP42NWkByGFIc9YhaQJCUCDAxdVpAwb9m23FTWkD8JiWr32ZaQBwwDAICVlpAMhLjSxRCWkA+d52MrCVaQEKkGtvpD1pAPo/tHukMWkC8U9AaxEBaQEh7MeLQV1pAwwwxRmoUWkANoAqW4iZaQCXBZ+Rf31lAt5xo/U3lWUAm4sEbmMdZQGUhQW34/1lAujCTPrQtWkA54aEAXBZaQJxVmInhIlpARG6rUJEAWkDEjZZ3Zh5aQDO6Do+A0VlAc2u73PGuWUCxH1QS3FdZQA7Bi6wGk1lA9ZkoaDSkWUCl4ulvLBtaQNk6orV+6llAkhGrNbt3WkByn2eC8s5aQBK/uaO4/FpAuRVYx/0nW0CPWnuK9fBaQKdHO2sbC1tA7xigK3fpWkBQqlzNJa9aQLzyBvPUs1pAdj9Q1tLwWkBHyr9TDbZaQFzPRKa/r1pA766ILd+yWkDR1OKByoBaQIt8ju0OLlpAZ5nlZJsNWkBm1PdIdyhaQPGeNfwEBVpA+ij3DUsmWkDYXmjUEP5ZQMDAAfDhxllA7X5RgqOaWUBmvF3LCpJZQAB3nYwqfVlAjS1PdtR5WUAw92JKzz5ZQKURHdHyallAscCU0mJrWUDBZyu3mXxZQAXUg+eozVlA/vX7sk71WUCMhK4vWRZaQMOSzM+j4FlADlyISezoWUA=",
        "encoding": "base64",
        "path": [
         "y",
         "value"
        ]
       }
      ],
      "model_module": "bqplot",
      "model_module_version": "^0.5",
      "model_name": "LinesModel",
      "state": {
       "_model_module_version": "^0.5",
       "_view_module_version": "^0.5",
       "colors": [
        "blue"
       ],
       "fill_colors": [],
       "labels": [
        "C1"
       ],
       "scales": {
        "x": "IPY_MODEL_949e748851724e688a7a770620849d15",
        "y": "IPY_MODEL_bcadb6de0b1f45ccae77b0d521ad6890"
       },
       "x": {
        "dtype": "float64",
        "shape": [
         100
        ],
        "type": "date"
       },
       "y": {
        "dtype": "float64",
        "shape": [
         100
        ],
        "type": null
       }
      }
     },
     "8f0405f94ac44e6dbb3343d0c02712f7": {
      "model_module": "bqplot",
      "model_module_version": "^0.5.10",
      "model_name": "AxisModel",
      "state": {
       "_model_module_version": "^0.5.10",
       "_view_module_version": "^0.5.10",
       "label": "Index",
       "scale": "IPY_MODEL_53038cd0cb284b98bcb6dbf29268d366",
       "side": "bottom",
       "tick_values": null
      }
     },
     "8f22c41b43e64f50b6004ec6abc4dc2b": {
      "model_module": "bqplot",
      "model_module_version": "^0.5.10",
      "model_name": "FastIntervalSelectorModel",
      "state": {
       "_model_module_version": "^0.5.10",
       "_view_module_version": "^0.5.10",
       "marks": [
        "IPY_MODEL_09fe1b2d53724690ba45682b02138fa5"
       ],
       "scale": "IPY_MODEL_c9c76ac8ba4f4d91af35beec23e50607"
      }
     },
     "8f542102f6c1486e9c0de117c5df6655": {
      "model_module": "bqplot",
      "model_module_version": "^0.5.3",
      "model_name": "LinearScaleModel",
      "state": {
       "_model_module_version": "^0.5.3",
       "_view_module_version": "^0.5.3",
       "allow_padding": false,
       "max": 1,
       "min": 0,
       "stabilized": false
      }
     },
     "8f7454af973b4fe88541115754643f8d": {
      "model_module": "@jupyter-widgets/controls",
      "model_module_version": "1.5.0",
      "model_name": "HTMLModel",
      "state": {
       "layout": "IPY_MODEL_ef1e83122544437b988b09f7d9da796f",
       "style": "IPY_MODEL_ddf6d33eec074a8e8944ccdb143af601",
       "value": "{}"
      }
     },
     "8f99dedda5cb43e99250ed494bf04253": {
      "model_module": "bqplot",
      "model_module_version": "^0.5.3",
      "model_name": "AxisModel",
      "state": {
       "_model_module_version": "^0.5.3",
       "_view_module_version": "^0.5.3",
       "label": "Date",
       "scale": "IPY_MODEL_9393898c9d6446ebbca43acec12ffbca",
       "side": "bottom",
       "tick_values": null
      }
     },
     "91011b10ca0e4bc58431bd80329b87f8": {
      "model_module": "bqplot",
      "model_module_version": "^0.5.10",
      "model_name": "LinearScaleModel",
      "state": {
       "_model_module_version": "^0.5.10",
       "_view_module_version": "^0.5.10",
       "allow_padding": false,
       "max": 1,
       "min": 0,
       "stabilized": false
      }
     },
     "924ee33ccd184ceb8e92a93c878ded1d": {
      "model_module": "bqplot",
      "model_module_version": "^0.5.10",
      "model_name": "BrushSelectorModel",
      "state": {
       "_model_module_version": "^0.5.10",
       "_view_module_version": "^0.5.10",
       "marks": [
        "IPY_MODEL_129f61f113474394b9495e3adb403683"
       ],
       "x_scale": "IPY_MODEL_7b56e8ba34e04b528ab32ac8c490667a",
       "y_scale": "IPY_MODEL_b6a3797824914dc192f42b3aadb59aa0"
      }
     },
     "9285a2fc4da840eebc639b9a56398b1a": {
      "model_module": "bqplot",
      "model_module_version": "^0.5",
      "model_name": "AxisModel",
      "state": {
       "_model_module_version": "^0.5",
       "_view_module_version": "^0.5",
       "label": "Returns",
       "scale": "IPY_MODEL_210c8d1daf7b443ebb610fcc3649e066",
       "side": "bottom",
       "tick_format": "0.2%",
       "tick_labels": {},
       "tick_values": null
      }
     },
     "931febc460a5433ead8800a0cd9458f9": {
      "model_module": "bqplot",
      "model_module_version": "^0.5",
      "model_name": "IndexSelectorModel",
      "state": {
       "_model_module_version": "^0.5",
       "_view_module_version": "^0.5",
       "marks": [
        "IPY_MODEL_fd16053c57dc4cd79669deb6e54e916a",
        "IPY_MODEL_8ebf9ffaec4e411ca55f1d31f51980e5"
       ],
       "scale": "IPY_MODEL_949e748851724e688a7a770620849d15"
      }
     },
     "9325cefa277f4a2c9ad133db99c26c2a": {
      "model_module": "bqplot",
      "model_module_version": "^0.5",
      "model_name": "DateScaleModel",
      "state": {
       "_model_module_version": "^0.5",
       "_view_module_version": "^0.5"
      }
     },
     "9343486f51384fe4bae5c8d078f36dd6": {
      "model_module": "bqplot",
      "model_module_version": "^0.5.10",
      "model_name": "DateScaleModel",
      "state": {
       "_model_module_version": "^0.5.10",
       "_view_module_version": "^0.5.10",
       "min": "2007-01-01T00:00:00.000Z"
      }
     },
     "9393898c9d6446ebbca43acec12ffbca": {
      "model_module": "bqplot",
      "model_module_version": "^0.5.3",
      "model_name": "DateScaleModel",
      "state": {
       "_model_module_version": "^0.5.3",
       "_view_module_version": "^0.5.3",
       "min": "2006-06-01T00:00:00.000000"
      }
     },
     "949e748851724e688a7a770620849d15": {
      "model_module": "bqplot",
      "model_module_version": "^0.5",
      "model_name": "DateScaleModel",
      "state": {
       "_model_module_version": "^0.5",
       "_view_module_version": "^0.5"
      }
     },
     "94b40df5fddb48218975e51bc0bee05c": {
      "model_module": "bqplot",
      "model_module_version": "^0.5",
      "model_name": "LinearScaleModel",
      "state": {
       "_model_module_version": "^0.5",
       "_view_module_version": "^0.5",
       "stabilized": false
      }
     },
     "94ec0ac03ece41bfb7e446411f967fad": {
      "model_module": "@jupyter-widgets/base",
      "model_module_version": "1.2.0",
      "model_name": "LayoutModel",
      "state": {}
     },
     "96b52cfa497744bfa9cae248cb8cbd60": {
      "model_module": "bqplot",
      "model_module_version": "^0.5.3",
      "model_name": "LinearScaleModel",
      "state": {
       "_model_module_version": "^0.5.3",
       "_view_module_version": "^0.5.3",
       "allow_padding": false,
       "max": 1,
       "min": 0,
       "stabilized": false
      }
     },
     "976e83c097304f83b82b7917e9fdcd68": {
      "model_module": "bqplot",
      "model_module_version": "^0.5",
      "model_name": "LinearScaleModel",
      "state": {
       "_model_module_version": "^0.5",
       "_view_module_version": "^0.5",
       "allow_padding": false,
       "max": 1,
       "min": 0,
       "stabilized": false
      }
     },
     "97f4031762a4430bab61e915fb3bcb29": {
      "model_module": "bqplot",
      "model_module_version": "^0.5.3",
      "model_name": "FastIntervalSelectorModel",
      "state": {
       "_model_module_version": "^0.5.3",
       "_view_module_version": "^0.5.3",
       "marks": [
        "IPY_MODEL_5494d197d792469082c290dce239e532",
        "IPY_MODEL_4555fdab016243ad89e3db04c3629d4b"
       ],
       "scale": "IPY_MODEL_b28acc94d9074e86b5fb07a4a7224697"
      }
     },
     "9890e25d8c504d639b00961e18487075": {
      "model_module": "bqplot",
      "model_module_version": "^0.5.10",
      "model_name": "LinearScaleModel",
      "state": {
       "_model_module_version": "^0.5.10",
       "_view_module_version": "^0.5.10",
       "allow_padding": false,
       "max": 1,
       "min": 0,
       "stabilized": false
      }
     },
     "98d7d48b107143b599160ea616224322": {
      "model_module": "bqplot",
      "model_module_version": "^0.5.10",
      "model_name": "AxisModel",
      "state": {
       "_model_module_version": "^0.5.10",
       "_view_module_version": "^0.5.10",
       "label": "Y",
       "orientation": "vertical",
       "scale": "IPY_MODEL_7f03aded24f540f583c18c1828100a32",
       "side": "left",
       "tick_values": null
      }
     },
     "991ca6b571c542ea8aece504f59893dc": {
      "model_module": "bqplot",
      "model_module_version": "^0.5.3",
      "model_name": "FigureModel",
      "state": {
       "_model_module_version": "^0.5.3",
       "_view_module_version": "^0.5.3",
       "axes": [
        "IPY_MODEL_791df5fdca0b4e18885ed90c7e9a001b",
        "IPY_MODEL_c947fd489ba246968b8adfb22ae4439d"
       ],
       "interaction": "IPY_MODEL_f3b45e9925104a55ad94c8e4183f54c4",
       "layout": "IPY_MODEL_06ceff306b4b4e2fb8e534b494fddd7b",
       "marks": [
        "IPY_MODEL_51ecf7dc40b946c8960e591546a84865"
       ],
       "scale_x": "IPY_MODEL_176197a113324472a8fe6ec4c6250190",
       "scale_y": "IPY_MODEL_8527464eb9f04f19b062033c2f4e8e2d"
      }
     },
     "998568e9f8af4cd5b724621913dda40a": {
      "model_module": "bqplot",
      "model_module_version": "^0.5.3",
      "model_name": "LinearScaleModel",
      "state": {
       "_model_module_version": "^0.5.3",
       "_view_module_version": "^0.5.3",
       "allow_padding": false,
       "max": 1,
       "min": 0,
       "stabilized": false
      }
     },
     "9992c9c757cb4bc59d504e5d681fe25d": {
      "model_module": "@jupyter-widgets/base",
      "model_module_version": "1.2.0",
      "model_name": "LayoutModel",
      "state": {}
     },
     "99f583bb58144e85bd751d4273b629fc": {
      "model_module": "@jupyter-widgets/base",
      "model_module_version": "1.2.0",
      "model_name": "LayoutModel",
      "state": {}
     },
     "9a36873d14254b3f9dcb377b4e7bb0fc": {
      "model_module": "@jupyter-widgets/base",
      "model_module_version": "1.2.0",
      "model_name": "LayoutModel",
      "state": {}
     },
     "9a49b1ef86da4a9d979b48363f723e26": {
      "model_module": "@jupyter-widgets/controls",
      "model_module_version": "1.5.0",
      "model_name": "DescriptionStyleModel",
      "state": {
       "description_width": ""
      }
     },
     "9a4b4f86abc347e48d9887be6f662532": {
      "model_module": "@jupyter-widgets/base",
      "model_module_version": "1.2.0",
      "model_name": "LayoutModel",
      "state": {}
     },
     "9aef9bdfc91b4b0899c26e2e70c1d9d7": {
      "model_module": "@jupyter-widgets/base",
      "model_module_version": "1.2.0",
      "model_name": "LayoutModel",
      "state": {}
     },
     "9b5524e0a6fb42d5a42085cfc3f56113": {
      "model_module": "@jupyter-widgets/base",
      "model_module_version": "1.2.0",
      "model_name": "LayoutModel",
      "state": {}
     },
     "9b5d574872334451a635aefd951f6e4e": {
      "model_module": "bqplot",
      "model_module_version": "^0.5.10",
      "model_name": "FigureModel",
      "state": {
       "_model_module_version": "^0.5.10",
       "_view_module_version": "^0.5.10",
       "axes": [
        "IPY_MODEL_deac2c5fb0d04aa2b7d2e5f1cb8e3458",
        "IPY_MODEL_98d7d48b107143b599160ea616224322"
       ],
       "interaction": "IPY_MODEL_48b770fefdb24fdd8c304f0e055ca914",
       "layout": "IPY_MODEL_bf60dc38b6f0404c8e069fed379cda59",
       "marks": [
        "IPY_MODEL_88f93b8885134f87b831a3bd8c1eb480",
        "IPY_MODEL_380fd09a735443dbaa000330cf19a7ce",
        "IPY_MODEL_a761ab19b86d41d2b9c91cdcc1f44c57"
       ],
       "scale_x": "IPY_MODEL_e3796b997705415a8a219d5534674d39",
       "scale_y": "IPY_MODEL_42761edcfa9a4217838dd7bc12bf2b2d",
       "title": "Lasso Selector Example"
      }
     },
     "9b813192659b4210a07ae35e9cdf4399": {
      "model_module": "@jupyter-widgets/base",
      "model_module_version": "1.2.0",
      "model_name": "LayoutModel",
      "state": {}
     },
     "9b889c48425d417fa83c5cd4704036d2": {
      "model_module": "bqplot",
      "model_module_version": "^0.5.3",
      "model_name": "LinearScaleModel",
      "state": {
       "_model_module_version": "^0.5.3",
       "_view_module_version": "^0.5.3",
       "allow_padding": false,
       "max": 1,
       "min": 0,
       "stabilized": false
      }
     },
     "9c3cfd2e8a9244ffb7b80c9b5584b304": {
      "model_module": "@jupyter-widgets/base",
      "model_module_version": "1.2.0",
      "model_name": "LayoutModel",
      "state": {}
     },
     "9d1d15a480964811babc3135eb4f88f5": {
      "model_module": "bqplot",
      "model_module_version": "^0.5.10",
      "model_name": "FigureModel",
      "state": {
       "_model_module_version": "^0.5.10",
       "_view_module_version": "^0.5.10",
       "axes": [
        "IPY_MODEL_2adc7c933cc3434ab0374a248e6251a7",
        "IPY_MODEL_78211cec496444508e26b8a37d888dcc"
       ],
       "interaction": "IPY_MODEL_ed855254b97c46a199207fb5540eae77",
       "layout": "IPY_MODEL_6151dc919b2f4813925f4aa0cce9186d",
       "marks": [
        "IPY_MODEL_a103e3f466ac4f5798ed7a36e771b307"
       ],
       "scale_x": "IPY_MODEL_76a8d505521c4a1c90c7cbd270cc6b54",
       "scale_y": "IPY_MODEL_b8475fe2b8ae4da59c9472cf4af05245",
       "title": "Multi-Selector Example"
      }
     },
     "9d35881ff9e94b0e9eccf7b413d26721": {
      "model_module": "bqplot",
      "model_module_version": "^0.5.10",
      "model_name": "AxisModel",
      "state": {
       "_model_module_version": "^0.5.10",
       "_view_module_version": "^0.5.10",
       "label": "Security 1 Price",
       "orientation": "vertical",
       "scale": "IPY_MODEL_4946d3ac122d47c79caeaa61de218c4d",
       "side": "left",
       "tick_values": null
      }
     },
     "9d876919a2af4254bba077b97d115975": {
      "model_module": "@jupyter-widgets/base",
      "model_module_version": "1.2.0",
      "model_name": "LayoutModel",
      "state": {}
     },
     "9eda66aa6938438d87f82dac6446784c": {
      "model_module": "bqplot",
      "model_module_version": "^0.5.3",
      "model_name": "AxisModel",
      "state": {
       "_model_module_version": "^0.5.3",
       "_view_module_version": "^0.5.3",
       "grid_lines": "none",
       "label": "Freq",
       "orientation": "vertical",
       "scale": "IPY_MODEL_12ec71be94564c7682a2440013cbbd9f",
       "side": "left",
       "tick_values": null
      }
     },
     "9ef09bbadc154ff3aaecbfce767553d2": {
      "buffers": [
       {
        "data": "AACASa/9cEIAAECvAf5wQgAAABVU/nBCAADAeqb+cEIAAIDg+P5wQgAAQEZL/3BCAAAArJ3/cEIAAMAR8P9wQgAAgHdCAHFCAABA3ZQAcUIAAABD5wBxQgAAwKg5AXFCAACADowBcUIAAEB03gFxQgAAANowAnFCAADAP4MCcUIAAICl1QJxQgAAQAsoA3FCAAAAcXoDcUIAAMDWzANxQgAAgDwfBHFCAABAonEEcUIAAAAIxARxQgAAwG0WBXFCAACA02gFcUIAAEA5uwVxQgAAAJ8NBnFCAADABGAGcUIAAIBqsgZxQgAAQNAEB3FCAAAANlcHcUIAAMCbqQdxQgAAgAH8B3FCAABAZ04IcUIAAADNoAhxQgAAwDLzCHFCAACAmEUJcUIAAED+lwlxQgAAAGTqCXFCAADAyTwKcUIAAIAvjwpxQgAAQJXhCnFCAAAA+zMLcUIAAMBghgtxQgAAgMbYC3FCAABALCsMcUIAAACSfQxxQgAAwPfPDHFCAACAXSINcUIAAEDDdA1xQgAAACnHDXFCAADAjhkOcUIAAID0aw5xQgAAQFq+DnFCAAAAwBAPcUIAAMAlYw9xQgAAgIu1D3FCAABA8QcQcUIAAABXWhBxQgAAwLysEHFCAACAIv8QcUIAAECIURFxQgAAAO6jEXFCAADAU/YRcUIAAIC5SBJxQgAAQB+bEnFCAAAAhe0ScUIAAMDqPxNxQgAAgFCSE3FCAABAtuQTcUIAAAAcNxRxQgAAwIGJFHFCAACA59sUcUIAAEBNLhVxQgAAALOAFXFCAADAGNMVcUIAAIB+JRZxQgAAQOR3FnFCAAAASsoWcUIAAMCvHBdxQgAAgBVvF3FCAABAe8EXcUIAAADhExhxQgAAwEZmGHFCAACArLgYcUIAAEASCxlxQgAAAHhdGXFCAADA3a8ZcUIAAIBDAhpxQgAAQKlUGnFCAAAAD6cacUIAAMB0+RpxQgAAgNpLG3FCAABAQJ4bcUIAAACm8BtxQgAAwAtDHHFCAACAcZUccUIAAEDX5xxxQgAAAD06HXFCAADAoowdcUIAAIAI3x1xQgAAQG4xHnFCAAAA1IMecUIAAMA51h5xQgAAgJ8oH3FCAABABXsfcUIAAABrzR9xQgAAwNAfIHFCAACANnIgcUIAAECcxCBxQgAAAAIXIXFCAADAZ2khcUIAAIDNuyFxQgAAQDMOInFCAAAAmWAicUIAAMD+siJxQgAAgGQFI3FCAABAylcjcUIAAAAwqiNxQgAAwJX8I3FCAACA+04kcUIAAEBhoSRxQgAAAMfzJHFCAADALEYlcUIAAICSmCVxQgAAQPjqJXFCAAAAXj0mcUIAAMDDjyZxQgAAgCniJnFCAABAjzQncUIAAAD1hidxQgAAwFrZJ3FCAACAwCsocUIAAEAmfihxQgAAAIzQKHFCAADA8SIpcUIAAIBXdSlxQgAAQL3HKXFCAAAAIxoqcUIAAMCIbCpxQgAAgO6+KnFCAABAVBErcUIAAAC6YytxQgAAwB+2K3FCAACAhQgscUIAAEDrWixxQgAAAFGtLHFCAADAtv8scUIAAIAcUi1xQgAAQIKkLXFC",
        "encoding": "base64",
        "path": [
         "x",
         "value"
        ]
       },
       {
        "data": "caYMcqLnWECSxo/PBudYQG+JcwWOEFlAJf8QR04SWUDq1eiLzidZQNhHdZQZJllAMQ/KPEMOWUD29ljf0O9YQFlw1N2q91hAHp68eovCWEBBnnxJUqZYQLMqyqrhcFhASAH8ofheWEByhRizJURYQAKz/2CMaVhA+vB/S8A9WEBuS6O8R/BXQDjM6qcIAlhAX4b+pxYKWEDB0J7p5T1YQHbB0PNMK1hAKoYxMcf6V0B0o6TvJuNXQO/BT6kX01dAT9wVBI+vV0DnTx+OlZ9XQEHMpz9RoldAH278LfV+V0AncndqBZxXQO3snkAQsFdAPqJJULmLV0Ah3jb+UXNXQIfZTurTZVdAfZXkijapV0ASHj9TBsRXQHUn8d0EtVdAjdcJfvraV0AtPpNhwJpXQBBaqP18o1dAmZAXw1Y+V0Dp+qEuIG9XQEI7lUn6dVdAI02flvZJV0AASZXw1z9XQFAF1oAWNldAAJEhm5d9V0Dc6wh4b3VXQHYHfd6qm1dAWptyyN2RV0BEcCrWp4hXQNr0QxrniVdAJAz12kAwV0DkMNu58ihXQDyLuZ1IjFdACxoVh35dV0CR0mYEGjxXQC47oFGyAldA5bUeXZ7gVkBBYgiwxOlWQFKQm0qCBVdAVG5lcBY+V0ArWNNwPG5XQHYyUNizJldAEE00hbYUV0Ack8bIdN1WQHfuEdGF9VZARVFKnR35VkC6r3Ngn9pWQPEykGHZ2VZAMH5r3gb7VkA18mAux+1WQPXV//B7IFdAQGoRP7gsV0BDl7ZVdzFXQE40SKbZ71ZAf65dDFKgVkAmeuEru61WQAauHzfnfVZAQsPmWC7qVkATcefFdOtWQI1m3+st6VZAhEdisgfzVkBqsUzFA+NWQOP3Rnwm0VZAT6PpCprSVkA/9Gxkpt1WQNGG7jNz6lZAE8lfysnwVkB4RKRF0SxXQIJm+2fBXFdASxOSwkIJV0C0WB2piy5XQERrhTArY1dAFBfa8750V0A1Lk70fGNXQBx3N5sdaFdA1qd8/EQfV0Byab4DbONWQH+Vu+gp3lZAEq8E29z/VkA6Z/B7bQtXQDYmDowpz1ZAxD/2cvv8VkDuLQ9fWvNWQFWllfrLxVZArX32V8fHVkAmbK2bxr9WQFxaP1H2s1ZAHrvcr9dvVkDUy+9CqN1WQNSx2csRHFdAFVP+SYAIV0DWhGFHQQFXQMP9obyt9VZAI2s6IUbuVkB1TLfQwP5WQKDWON5f1lZARBn6GssnV0BugRqP8CxXQCJpDPtns1dAalYPpYukV0DipuW/eKtXQA9AEuQ7bVdA3p9AxC9tV0DpHWCt0llXQBe5szNoLVdAhIGtmis4V0CifS1Q3HpXQP/RrP6FgldApqQz9KLVV0BUgT9zTA1YQK6ni1Tz51dAxvOc7mXXV0BqNmzVytZXQJmRQKl9rVdASlAf0KLNV0DeT+OCPt5XQGrsU0eewVdAgWjlmV/hV0DVEx0mlIxXQHTXW2QxfFdAojnzZYlDV0BtzkNyiUhXQA4nvEgQQ1dAEX93cHJPV0DEb/tgHz9XQP+f1k0FNVdAMdlTo/QnV0CYgSjhODBXQOp04Cj5O1dA",
        "encoding": "base64",
        "path": [
         "y",
         "value"
        ]
       }
      ],
      "model_module": "bqplot",
      "model_module_version": "^0.5.10",
      "model_name": "LinesModel",
      "state": {
       "_model_module_version": "^0.5.10",
       "_view_module_version": "^0.5.10",
       "colors": [
        "orange"
       ],
       "fill_colors": [],
       "labels": [
        "C1"
       ],
       "scales": {
        "x": "IPY_MODEL_53038cd0cb284b98bcb6dbf29268d366",
        "y": "IPY_MODEL_e37a9b4ad3c949d686dca9a23de2a882"
       },
       "x": {
        "dtype": "float64",
        "shape": [
         150
        ],
        "type": "date"
       },
       "y": {
        "dtype": "float64",
        "shape": [
         150
        ],
        "type": null
       }
      }
     },
     "9f4a4adc5ad34dbe99516b9cf0b7b1b1": {
      "buffers": [
       {
        "data": "AACASa/9cEIAAECvAf5wQgAAABVU/nBCAADAeqb+cEIAAIDg+P5wQgAAQEZL/3BCAAAArJ3/cEIAAMAR8P9wQgAAgHdCAHFCAABA3ZQAcUIAAABD5wBxQgAAwKg5AXFCAACADowBcUIAAEB03gFxQgAAANowAnFCAADAP4MCcUIAAICl1QJxQgAAQAsoA3FCAAAAcXoDcUIAAMDWzANxQgAAgDwfBHFCAABAonEEcUIAAAAIxARxQgAAwG0WBXFCAACA02gFcUIAAEA5uwVxQgAAAJ8NBnFCAADABGAGcUIAAIBqsgZxQgAAQNAEB3FCAAAANlcHcUIAAMCbqQdxQgAAgAH8B3FCAABAZ04IcUIAAADNoAhxQgAAwDLzCHFCAACAmEUJcUIAAED+lwlxQgAAAGTqCXFCAADAyTwKcUIAAIAvjwpxQgAAQJXhCnFCAAAA+zMLcUIAAMBghgtxQgAAgMbYC3FCAABALCsMcUIAAACSfQxxQgAAwPfPDHFCAACAXSINcUIAAEDDdA1xQgAAACnHDXFCAADAjhkOcUIAAID0aw5xQgAAQFq+DnFCAAAAwBAPcUIAAMAlYw9xQgAAgIu1D3FCAABA8QcQcUIAAABXWhBxQgAAwLysEHFCAACAIv8QcUIAAECIURFxQgAAAO6jEXFCAADAU/YRcUIAAIC5SBJxQgAAQB+bEnFCAAAAhe0ScUIAAMDqPxNxQgAAgFCSE3FCAABAtuQTcUIAAAAcNxRxQgAAwIGJFHFCAACA59sUcUIAAEBNLhVxQgAAALOAFXFCAADAGNMVcUIAAIB+JRZxQgAAQOR3FnFCAAAASsoWcUIAAMCvHBdxQgAAgBVvF3FCAABAe8EXcUIAAADhExhxQgAAwEZmGHFCAACArLgYcUIAAEASCxlxQgAAAHhdGXFCAADA3a8ZcUIAAIBDAhpxQgAAQKlUGnFCAAAAD6cacUIAAMB0+RpxQgAAgNpLG3FCAABAQJ4bcUIAAACm8BtxQgAAwAtDHHFCAACAcZUccUIAAEDX5xxxQgAAAD06HXFCAADAoowdcUIAAIAI3x1xQgAAQG4xHnFCAAAA1IMecUIAAMA51h5xQgAAgJ8oH3FCAABABXsfcUIAAABrzR9xQgAAwNAfIHFCAACANnIgcUIAAECcxCBxQgAAAAIXIXFCAADAZ2khcUIAAIDNuyFxQgAAQDMOInFCAAAAmWAicUIAAMD+siJxQgAAgGQFI3FCAABAylcjcUIAAAAwqiNxQgAAwJX8I3FCAACA+04kcUIAAEBhoSRxQgAAAMfzJHFCAADALEYlcUIAAICSmCVxQgAAQPjqJXFCAAAAXj0mcUIAAMDDjyZxQgAAgCniJnFCAABAjzQncUIAAAD1hidxQgAAwFrZJ3FCAACAwCsocUIAAEAmfihxQgAAAIzQKHFCAADA8SIpcUIAAIBXdSlxQgAAQL3HKXFCAAAAIxoqcUIAAMCIbCpxQgAAgO6+KnFCAABAVBErcUIAAAC6YytxQgAAwB+2K3FCAACAhQgscUIAAEDrWixxQgAAAFGtLHFCAADAtv8scUIAAIAcUi1xQgAAQIKkLXFC",
        "encoding": "base64",
        "path": [
         "x",
         "value"
        ]
       },
       {
        "data": "ZJFdPFfbWEDts2hJF5tYQFaLygJpTFhASVWqf5YoWECnr3iXkxJYQORsrP8LBVhA6mA81pgKWEDE20OS+g9YQKbD/XpHFFhAzfpQN8YTWEA8yRc1U/1XQKJ2yMou3VdAAwf1BTzjV0AqMk2/xK1XQOmgmxYHk1dAV1kHMYhiV0Bs+D6ElXNXQAV0qKWkP1dA9xUu2DlNV0DwWlPlk3lXQKJkDXZ6eFdA2Tk5v+6BV0BrUkicfYdXQOHFf0ipnFdA5cYWnXmQV0AWgV5rjZhXQFWwbv5lnldAMfcwbahqV0CCod83tj5XQKLKOrcWTFdAsO5basx4V0AHL5gI93tXQFJUA3KPoFdAJq8b0l7oV0Cuhf3qig1YQE6+FtvZVlhAr2vjaogwWEB5f1edR9lXQGTZRDGV3FdAqRkxa2INWEDWJQxYRjlYQERfP8McFVhARfd1F+oRWEDIIffMAwhYQELNdYh4KlhASFsFIroGWEABpRJMsjZYQOONjK8JV1hA4PTQsYS4WEBrQmRPUqlYQDlNmgpf9lhAJbSn+WlYWUCdK0KEjKpZQHfyg0Sh6VlARXWqHo4dWkDi6A+aPQFaQC+Fo51QrFlABBxfyaPKWUAl9vZv+LdZQPvlM6SL41lAfeFMucv9WUCEdX33cTBaQHJN+OoAMVpAnYBsYBtDWkCidkDuI21aQBr5vjHGNFpA37jzUT04WkAdmefg7D5aQBJfsw62TVpATiM9dc5iWkDa33woM2ZaQLr+iMyQV1pAzZy9H2E2WkBkzD7uRjhaQLeAv6FlI1pAvCyFswHqWUDOklwptCFaQJsmPZPsAVpAIH/ieMwJWkBhJFFXPhdaQEpVFyz8HVpAm2iAhu7cWUA/nYgDGrpZQDolH6L9hFlAcXbVVSaDWUB+o5Pmg65ZQFRx7j+NDVpAchhSHPUIWkCQlAgwMfVZQMG/Zttx01lA/CYlq9/mWUAcMAwCAtZZQDIS40sUwllAPnedjKylWUBCpBrb6Y9ZQD6P7R7pjFlAvFPQGsTAWUBIezHi0NdZQMMMMUZqlFlADaAKluKmWUAlwWfkX19ZQLecaP1NZVlAJuLBG5hHWUBlIUFt+H9ZQLowkz60rVlAOeGhAFyWWUCcVZiJ4aJZQERuq1CRgFlAxI2Wd2aeWUAzug6PgFFZQHNru9zxLllAsR9UEtzXWEAOwYusBhNZQPWZKGg0JFlApeLpbyybWUDZOqK1fmpZQJIRqzW791lAcp9ngvJOWkASv7mjuHxaQLkVWMf9p1pAj1p7ivVwWkCnRztrG4taQO8YoCt3aVpAUKpczSUvWkC88gbz1DNaQHY/UNbScFpAR8q/Uw02WkBcz0Smvy9aQO+uiC3fMlpA0dTigcoAWkCLfI7tDq5ZQGeZ5WSbjVlAZtT3SHeoWUDxnjX8BIVZQPoo9w1LpllA2F5o1BB+WUDAwAHw4UZZQO1+UYKjGllAZrxdywoSWUAAd52MKv1YQI0tT3bU+VhAMPdiSs++WEClER3R8upYQLHAlNJi61hAwWcrt5n8WEAF1IPnqE1ZQP71+7JOdVlAjISuL1mWWUDDkszPo2BZQA5ciEnsaFlA",
        "encoding": "base64",
        "path": [
         "y",
         "value"
        ]
       }
      ],
      "model_module": "bqplot",
      "model_module_version": "^0.5",
      "model_name": "LinesModel",
      "state": {
       "_model_module_version": "^0.5",
       "_view_module_version": "^0.5",
       "fill_colors": [],
       "labels": [
        "C1"
       ],
       "scales": {
        "x": "IPY_MODEL_fbedfa4a17a84ca2bf0177c96efd6caa",
        "y": "IPY_MODEL_3e85c15d06a84576890c761851cfff73"
       },
       "x": {
        "dtype": "float64",
        "shape": [
         150
        ],
        "type": "date"
       },
       "y": {
        "dtype": "float64",
        "shape": [
         150
        ],
        "type": null
       }
      }
     },
     "9f57302c6d60415e936cc2cc120bf3ab": {
      "model_module": "bqplot",
      "model_module_version": "^0.5.3",
      "model_name": "AxisModel",
      "state": {
       "_model_module_version": "^0.5.3",
       "_view_module_version": "^0.5.3",
       "grid_lines": "none",
       "label": "Returns",
       "scale": "IPY_MODEL_acd62a19a6f048718d0bdfbb41f85811",
       "side": "bottom",
       "tick_values": null
      }
     },
     "a0bd4dc41a5a40549e9836f46b1c45d8": {
      "model_module": "@jupyter-widgets/controls",
      "model_module_version": "1.5.0",
      "model_name": "HTMLModel",
      "state": {
       "layout": "IPY_MODEL_f2f18bc385f8438998a8fc9e592b0355",
       "style": "IPY_MODEL_f4fa59b17cca4d5db6af7f26708bbac2",
       "value": "[]"
      }
     },
     "a103e3f466ac4f5798ed7a36e771b307": {
      "buffers": [
       {
        "data": "AAAAAAEAAAACAAAAAwAAAAQAAAAFAAAABgAAAAcAAAAIAAAACQAAAAoAAAALAAAADAAAAA0AAAAOAAAADwAAABAAAAARAAAAEgAAABMAAAAUAAAAFQAAABYAAAAXAAAAGAAAABkAAAAaAAAAGwAAABwAAAAdAAAAHgAAAB8AAAAgAAAAIQAAACIAAAAjAAAAJAAAACUAAAAmAAAAJwAAACgAAAApAAAAKgAAACsAAAAsAAAALQAAAC4AAAAvAAAAMAAAADEAAAAyAAAAMwAAADQAAAA1AAAANgAAADcAAAA4AAAAOQAAADoAAAA7AAAAPAAAAD0AAAA+AAAAPwAAAEAAAABBAAAAQgAAAEMAAABEAAAARQAAAEYAAABHAAAASAAAAEkAAABKAAAASwAAAEwAAABNAAAATgAAAE8AAABQAAAAUQAAAFIAAABTAAAAVAAAAFUAAABWAAAAVwAAAFgAAABZAAAAWgAAAFsAAABcAAAAXQAAAF4AAABfAAAAYAAAAGEAAABiAAAAYwAAAA==",
        "encoding": "base64",
        "path": [
         "x",
         "value"
        ]
       },
       {
        "data": "PLwlVUjc6z/mOkiT7svwv9Kc92L+rQRA0JRIY7y6pj9OTzkj6BC/vzFjK0Ta39y/g3jik/J7+T8pMMePNXHsv0J8Cmhykdy/XSzBXL9w4D/TWg5y5lvmv7MuuZFKcfg/xA02dxqfur8uhwCf/QbLv2HSnD0gkdW/B9uegroGxD/46wQtMC/ov4OBWGNX8um/SswBEaPE6r9nzAE1uX7Wv8sGSF1f/eQ/gVA55uaF0L+PXlUD+y/fvz1R+o+NR9s/jerKqdAesD+HwrKQiIziP0YjijSQXdy/DiibtHqk+j+DR+8LTvr2v8WSo6F/ZOI/FhZMRE260T8TYiHDiETuP2jgLlHdFvE/hMPJ3zza4D+TMsgvpBvYPzTGKwKSirk/PwEtj0FU+z+zqX25Bmf+vyzGz3cjavq/7zzaFVA6xz93ODlhNHz1P09MqiPDcvC/ojCUv7gtpb86Sb+J4EBrP8lVaD58bU2/q8LWqKB49D/dTNKXkQD1PylGKPrVh+K/p8ZnJwja+T7+hEOUycnjP92HUNJ0Fvg/17F3YBUxsz8mv4KXrn/tP2JzzrMyceS/bcl2Un/h9b83p8dK1brkv1Wgrdyc5+i/SeusJ4OD+z+80fVl5QL/v+QzbaiySuO/uP8fPZSV+L8MCdrHJ57Tv199SNdFC/a/fNkosVol6j/fq85xSNfkvznID312CPa/59B7IDl627/OoWkYVUfUPwJpRWEyqfG/5aqgPntSxL/KD38NLDoIwIFx73dUR/S/dn8rJaj52z+BMgOAukbmP3edy5kiefE/bQiKbrvm8r+L6AGaZUrsv/4isRdVyvW//UVwFSMK6j/TrxKXnNzzP2AANQIo5LK/OBA5zMIQ0r/mIa0ApP3wPweuX9S+BPG/4YkfeAJZ/7+zqget+r78v70kcwx7Mvi/UyXcP/IW478YIwnJ+jrkvxBJxX4sBem/s+uLxrac5D/I+d0HYoz6P4RPm49SQdK/mm7+c3SP0r8Vz8A8t+Xtv3XtRanUAeo/W4szAoPg6z8sfEOHT0jZv2T+WkBNaPa/tRrmw+uG5z8=",
        "encoding": "base64",
        "path": [
         "y",
         "value"
        ]
       }
      ],
      "model_module": "bqplot",
      "model_module_version": "^0.5.10",
      "model_name": "LinesModel",
      "state": {
       "_model_module_version": "^0.5.10",
       "_view_module_version": "^0.5.10",
       "fill_colors": [],
       "labels": [
        "C1"
       ],
       "scales": {
        "x": "IPY_MODEL_45b0ad85db3a4deea92f405f3a003164",
        "y": "IPY_MODEL_e989aade92e9457db3e8af06f7e32736"
       },
       "x": {
        "dtype": "int32",
        "shape": [
         100
        ],
        "type": null
       },
       "y": {
        "dtype": "float64",
        "shape": [
         100
        ],
        "type": null
       }
      }
     },
     "a1bbce6647914cd69110dd77481ac1a0": {
      "model_module": "@jupyter-widgets/controls",
      "model_module_version": "1.5.0",
      "model_name": "HTMLModel",
      "state": {
       "layout": "IPY_MODEL_d1291d73ae5f4402aeced0d3dbf2777f",
       "style": "IPY_MODEL_469dc4a4ba54454fb9592bc432e89e12",
       "value": "[]"
      }
     },
     "a26fbbf9b6244f7f827879597d2a3aef": {
      "model_module": "bqplot",
      "model_module_version": "^0.5.3",
      "model_name": "LinearScaleModel",
      "state": {
       "_model_module_version": "^0.5.3",
       "_view_module_version": "^0.5.3",
       "stabilized": false
      }
     },
     "a3432727f0cf474e94ef5752812f00cc": {
      "model_module": "bqplot",
      "model_module_version": "^0.5.10",
      "model_name": "LinearScaleModel",
      "state": {
       "_model_module_version": "^0.5.10",
       "_view_module_version": "^0.5.10",
       "allow_padding": false,
       "max": 1,
       "min": 0,
       "stabilized": false
      }
     },
     "a36e3cfa817349048168ddb7e426a5d4": {
      "model_module": "@jupyter-widgets/controls",
      "model_module_version": "1.5.0",
      "model_name": "DescriptionStyleModel",
      "state": {
       "description_width": ""
      }
     },
     "a416ad066953405aa29a36e378c7654f": {
      "model_module": "@jupyter-widgets/base",
      "model_module_version": "1.2.0",
      "model_name": "LayoutModel",
      "state": {}
     },
     "a4a33d79de0a48038e046194355afb35": {
      "model_module": "bqplot",
      "model_module_version": "^0.5.3",
      "model_name": "LassoSelectorModel",
      "state": {
       "_model_module_version": "^0.5.3",
       "_view_module_version": "^0.5.3",
       "marks": [
        "IPY_MODEL_bc84319a691a456bac9ea0a09804182a",
        "IPY_MODEL_11188a190401427699ea8ccc6ae867a6"
       ]
      }
     },
     "a4ac8ac158ba42ac9dfb08c4310d3501": {
      "model_module": "bqplot",
      "model_module_version": "^0.5",
      "model_name": "AxisModel",
      "state": {
       "_model_module_version": "^0.5",
       "_view_module_version": "^0.5",
       "label": "Security 1 Price",
       "orientation": "vertical",
       "scale": "IPY_MODEL_106b8771479040048221ad0f5cb511c0",
       "side": "left",
       "tick_labels": {},
       "tick_values": null
      }
     },
     "a55828aebb7349589a5fefe2ee133400": {
      "model_module": "bqplot",
      "model_module_version": "^0.5.10",
      "model_name": "AxisModel",
      "state": {
       "_model_module_version": "^0.5.10",
       "_view_module_version": "^0.5.10",
       "label": "Security 1 Price",
       "orientation": "vertical",
       "scale": "IPY_MODEL_79a5040e826f4a84989e2d141a08db84",
       "side": "left",
       "tick_values": null
      }
     },
     "a57a42cef2d64f5190cd143996dd8a94": {
      "model_module": "bqplot",
      "model_module_version": "^0.5.10",
      "model_name": "LinearScaleModel",
      "state": {
       "_model_module_version": "^0.5.10",
       "_view_module_version": "^0.5.10",
       "allow_padding": false,
       "max": 1,
       "min": 0,
       "stabilized": false
      }
     },
     "a5accf37dcdd4abeaff1b9ed4f6f45f5": {
      "model_module": "@jupyter-widgets/base",
      "model_module_version": "1.2.0",
      "model_name": "LayoutModel",
      "state": {}
     },
     "a74c164203384a128f435046247b5ba2": {
      "model_module": "bqplot",
      "model_module_version": "^0.5.10",
      "model_name": "LinearScaleModel",
      "state": {
       "_model_module_version": "^0.5.10",
       "_view_module_version": "^0.5.10",
       "allow_padding": false,
       "max": 1,
       "min": 0,
       "stabilized": false
      }
     },
     "a761ab19b86d41d2b9c91cdcc1f44c57": {
      "buffers": [
       {
        "data": "AAAAAAEAAAACAAAAAwAAAAQAAAAFAAAABgAAAAcAAAAIAAAACQAAAAoAAAALAAAADAAAAA0AAAAOAAAADwAAABAAAAARAAAAEgAAABMAAAA=",
        "encoding": "base64",
        "path": [
         "x",
         "value"
        ]
       },
       {
        "data": "AAAAAAAAAAAAAAAAAADgPwAAAAAAAPA/AAAAAAAA+D8AAAAAAAAAQAAAAAAAAARAAAAAAAAACEAAAAAAAAAMQAAAAAAAABBAAAAAAAAAEkAAAAAAAAAUQAAAAAAAABZAAAAAAAAAGEAAAAAAAAAaQAAAAAAAABxAAAAAAAAAHkAAAAAAAAAgQAAAAAAAACFAAAAAAAAAIkAAAAAAAAAjQA==",
        "encoding": "base64",
        "path": [
         "y",
         "value"
        ]
       }
      ],
      "model_module": "bqplot",
      "model_module_version": "^0.5.10",
      "model_name": "BarsModel",
      "state": {
       "_model_module_version": "^0.5.10",
       "_view_module_version": "^0.5.10",
       "label_font_style": {},
       "scales": {
        "x": "IPY_MODEL_4cd7739c1f3641ddb34e8466d8f865f3",
        "y": "IPY_MODEL_7f03aded24f540f583c18c1828100a32"
       },
       "x": {
        "dtype": "int32",
        "shape": [
         20
        ],
        "type": null
       },
       "y": {
        "dtype": "float64",
        "shape": [
         20
        ],
        "type": null
       }
      }
     },
     "a77a5e562bba4674b7814ae9fe27e565": {
      "model_module": "bqplot",
      "model_module_version": "^0.5.10",
      "model_name": "AxisModel",
      "state": {
       "_model_module_version": "^0.5.10",
       "_view_module_version": "^0.5.10",
       "grid_lines": "none",
       "label": "Date",
       "scale": "IPY_MODEL_62e7a3f872354115921578f691d43b7f",
       "side": "bottom",
       "tick_values": null
      }
     },
     "a7d6ff28f93640b585106a139cf84462": {
      "model_module": "@jupyter-widgets/controls",
      "model_module_version": "1.5.0",
      "model_name": "HTMLModel",
      "state": {
       "layout": "IPY_MODEL_2fc276040bcb48ac9efae2713b75dc4e",
       "style": "IPY_MODEL_4f76a89ca0bf49da8482a70b800c9226",
       "value": "None"
      }
     },
     "a986f2c057c84aceafefac4fd31ff47c": {
      "model_module": "@jupyter-widgets/controls",
      "model_module_version": "1.5.0",
      "model_name": "VBoxModel",
      "state": {
       "children": [
        "IPY_MODEL_770c4aba303742ccb4a9cc7a2a1fb5c1",
        "IPY_MODEL_627d28d662424ddfb438d6afd6a9afeb"
       ],
       "layout": "IPY_MODEL_db79f62bafb347ef8bafadd2e26681ab"
      }
     },
     "a99ba2e0d32b490582f489b434e043aa": {
      "model_module": "bqplot",
      "model_module_version": "^0.5",
      "model_name": "FigureModel",
      "state": {
       "_model_module_version": "^0.5",
       "_view_module_version": "^0.5",
       "axes": [
        "IPY_MODEL_c71187617c52490cb27ba6a865d7ca09",
        "IPY_MODEL_e55186390768453498aa3c104a8e9c34"
       ],
       "interaction": "IPY_MODEL_e4aa58d16bd748239975a2859b838884",
       "layout": "IPY_MODEL_1f8793e420c24daaa15ffeaf92225477",
       "marks": [
        "IPY_MODEL_5d7e3bac7b7948f4aa7b95e19e1d04e4"
       ],
       "scale_x": "IPY_MODEL_215f5951959f4cd3803d7167ef5710a9",
       "scale_y": "IPY_MODEL_d3738d214a314a23a1d51043d2929ed9"
      }
     },
     "aa6861a2e1d84dd1849541df1b966659": {
      "model_module": "bqplot",
      "model_module_version": "^0.5.10",
      "model_name": "IndexSelectorModel",
      "state": {
       "_model_module_version": "^0.5.10",
       "_view_module_version": "^0.5.10",
       "marks": [
        "IPY_MODEL_54a4cc5a4f7541a6b27849a6b9dc2a0a",
        "IPY_MODEL_793f6ff6ead346618ebc9f4b11dd3403"
       ],
       "scale": "IPY_MODEL_49acd346f6f2485baf6029128b6451ad"
      }
     },
     "ab1ac65aee1c469bbdb3d6a3689d5969": {
      "model_module": "bqplot",
      "model_module_version": "^0.5.10",
      "model_name": "FigureModel",
      "state": {
       "_model_module_version": "^0.5.10",
       "_view_module_version": "^0.5.10",
       "axes": [
        "IPY_MODEL_84f37b8b02a24bcb959de2c7d15bb138",
        "IPY_MODEL_8d92908e4de94b6e869646862ca17879"
       ],
       "interaction": "IPY_MODEL_4b1b221269f9477fbc6eeb56b87ffef5",
       "layout": "IPY_MODEL_ead9622af32b45aa9964b59bde8a23c8",
       "marks": [
        "IPY_MODEL_c7d5bcce8eac4d36b7a9152ab183957d"
       ],
       "scale_x": "IPY_MODEL_e558ee5a92fe4a5abdb8f13b230adc35",
       "scale_y": "IPY_MODEL_0b856f3154d74130a4e834596440a0f5",
       "title": "Brush Selector Selected Indices Example"
      }
     },
     "ab7561c1624443bf9e4a4c87d1f93e99": {
      "model_module": "bqplot",
      "model_module_version": "^0.5",
      "model_name": "LinearScaleModel",
      "state": {
       "_model_module_version": "^0.5",
       "_view_module_version": "^0.5",
       "allow_padding": false,
       "max": 1,
       "min": 0,
       "stabilized": false
      }
     },
     "acd62a19a6f048718d0bdfbb41f85811": {
      "model_module": "bqplot",
      "model_module_version": "^0.5.3",
      "model_name": "LinearScaleModel",
      "state": {
       "_model_module_version": "^0.5.3",
       "_view_module_version": "^0.5.3",
       "stabilized": false
      }
     },
     "ad552f98866847418e0780105e9c0608": {
      "model_module": "bqplot",
      "model_module_version": "^0.5",
      "model_name": "FigureModel",
      "state": {
       "_model_module_version": "^0.5",
       "_view_module_version": "^0.5",
       "axes": [
        "IPY_MODEL_b154023d66ee4f87a3f49eed6b52d76a",
        "IPY_MODEL_631d770038534f9cae593418d8122836"
       ],
       "interaction": "IPY_MODEL_7e570f623aac42a5a020643423a7cd70",
       "layout": "IPY_MODEL_14eddf6299c54cd7a6b4ebc9d6d8d07d",
       "marks": [
        "IPY_MODEL_6db1cb3950bf44e1bcd120851c03c444",
        "IPY_MODEL_2f8ecab6a0574d4ea15c82ad38c4e9b2",
        "IPY_MODEL_04d0fe00c6c24bbb809de6cb505faaaa"
       ],
       "scale_x": "IPY_MODEL_f362af000ea04360a27c756ba38738a4",
       "scale_y": "IPY_MODEL_ab7561c1624443bf9e4a4c87d1f93e99",
       "title": "Lasso Selector Example"
      }
     },
     "ae2e4ded725446db872b1359ed23fc94": {
      "model_module": "bqplot",
      "model_module_version": "^0.5",
      "model_name": "AxisModel",
      "state": {
       "_model_module_version": "^0.5",
       "_view_module_version": "^0.5",
       "grid_lines": "none",
       "label": "Freq",
       "orientation": "vertical",
       "scale": "IPY_MODEL_bc0c71952b394dd4a62578e5dc1c0c77",
       "side": "left",
       "tick_labels": {},
       "tick_values": null
      }
     },
     "ae5824788ef541ad8b5a06a644a33e21": {
      "model_module": "bqplot",
      "model_module_version": "^0.5",
      "model_name": "LinearScaleModel",
      "state": {
       "_model_module_version": "^0.5",
       "_view_module_version": "^0.5",
       "allow_padding": false,
       "max": 1,
       "min": 0,
       "stabilized": false
      }
     },
     "ae5d3c59ce0d460eabfdb1ac911fd0a9": {
      "model_module": "bqplot",
      "model_module_version": "^0.5",
      "model_name": "LinearScaleModel",
      "state": {
       "_model_module_version": "^0.5",
       "_view_module_version": "^0.5",
       "allow_padding": false,
       "max": 1,
       "min": 0,
       "stabilized": false
      }
     },
     "aee599ab94d0479f8b1d415113de047f": {
      "model_module": "@jupyter-widgets/controls",
      "model_module_version": "1.5.0",
      "model_name": "VBoxModel",
      "state": {
       "children": [
        "IPY_MODEL_e40587ab79264befaf4a23d2dda87c36",
        "IPY_MODEL_7cff6052cca44f59a3c3a41cbd4601cc"
       ],
       "layout": "IPY_MODEL_b976bda2d0244dc89de75e711189a5e8"
      }
     },
     "afaff69ff9a64737a4e27cffbd1d591d": {
      "model_module": "@jupyter-widgets/controls",
      "model_module_version": "1.5.0",
      "model_name": "HTMLModel",
      "state": {
       "layout": "IPY_MODEL_78cd5f5a950b491b906aab83c4cf98b4",
       "style": "IPY_MODEL_5a20dffc811e4f87b89bc8ba137a9fb2",
       "value": "{}"
      }
     },
     "afcec0b8ac624b1ead26bb27c74182d6": {
      "model_module": "bqplot",
      "model_module_version": "^0.5.10",
      "model_name": "FigureModel",
      "state": {
       "_model_module_version": "^0.5.10",
       "_view_module_version": "^0.5.10",
       "axes": [
        "IPY_MODEL_8f0405f94ac44e6dbb3343d0c02712f7",
        "IPY_MODEL_66a06384640a48c3b8f2c3831d010229"
       ],
       "interaction": "IPY_MODEL_3e3b123b02ec4d0bb146dd620a62b2c0",
       "layout": "IPY_MODEL_4d67349c1234449a8497e56e7d435a75",
       "marks": [
        "IPY_MODEL_9ef09bbadc154ff3aaecbfce767553d2",
        "IPY_MODEL_cdc65ba27c11475485eb19d89d33787b"
       ],
       "scale_x": "IPY_MODEL_e1eb902a282d4fda9192871bcb8a5252",
       "scale_y": "IPY_MODEL_56fef236472c479faa2c875f7d6ec85c",
       "title": "Fast Interval Selector Example"
      }
     },
     "b0e2a78f9bde487c9284c2de85e9e321": {
      "model_module": "bqplot",
      "model_module_version": "^0.5.10",
      "model_name": "BrushSelectorModel",
      "state": {
       "_model_module_version": "^0.5.10",
       "_view_module_version": "^0.5.10",
       "color": "red",
       "marks": [
        "IPY_MODEL_7ba6d111efb34a8c964e8163e88d9129"
       ],
       "x_scale": "IPY_MODEL_502e83aff46f4e55b04bc261cce50fcb",
       "y_scale": "IPY_MODEL_d2516729ccaa4e388c31a37d52e5667e"
      }
     },
     "b0fb4887ff26488ba84d1a10b9e49881": {
      "model_module": "bqplot",
      "model_module_version": "^0.5.3",
      "model_name": "LinearScaleModel",
      "state": {
       "_model_module_version": "^0.5.3",
       "_view_module_version": "^0.5.3",
       "stabilized": false
      }
     },
     "b154023d66ee4f87a3f49eed6b52d76a": {
      "model_module": "bqplot",
      "model_module_version": "^0.5",
      "model_name": "AxisModel",
      "state": {
       "_model_module_version": "^0.5",
       "_view_module_version": "^0.5",
       "label": "X",
       "scale": "IPY_MODEL_63ab96ce801944468da2fe46c2db84a6",
       "side": "bottom",
       "tick_labels": {},
       "tick_values": null
      }
     },
     "b154856eb87b4b599ced6265b21280f9": {
      "model_module": "bqplot",
      "model_module_version": "^0.5",
      "model_name": "LinearScaleModel",
      "state": {
       "_model_module_version": "^0.5",
       "_view_module_version": "^0.5",
       "allow_padding": false,
       "max": 1,
       "min": 0,
       "stabilized": false
      }
     },
     "b179109ee57e41949af92db37e16e09c": {
      "model_module": "@jupyter-widgets/controls",
      "model_module_version": "1.5.0",
      "model_name": "VBoxModel",
      "state": {
       "children": [
        "IPY_MODEL_a7d6ff28f93640b585106a139cf84462",
        "IPY_MODEL_66cc02b139264b43b4c2d457e29eb5a5"
       ],
       "layout": "IPY_MODEL_0acfd0f8ca8640a6ba21a6976d94c839"
      }
     },
     "b1a943b6b9754e9ebf482d8ec3ebdc78": {
      "model_module": "bqplot",
      "model_module_version": "^0.5.3",
      "model_name": "AxisModel",
      "state": {
       "_model_module_version": "^0.5.3",
       "_view_module_version": "^0.5.3",
       "label": "Security 1",
       "scale": "IPY_MODEL_00f6aee200444cee86e5a9b7f346c49e",
       "side": "bottom",
       "tick_values": null
      }
     },
     "b215b2754ced49db970795616f8e0a2b": {
      "model_module": "@jupyter-widgets/base",
      "model_module_version": "1.2.0",
      "model_name": "LayoutModel",
      "state": {}
     },
     "b21e5366b1954cc5a38b78efe100eba7": {
      "model_module": "@jupyter-widgets/base",
      "model_module_version": "1.2.0",
      "model_name": "LayoutModel",
      "state": {}
     },
     "b28acc94d9074e86b5fb07a4a7224697": {
      "model_module": "bqplot",
      "model_module_version": "^0.5.3",
      "model_name": "DateScaleModel",
      "state": {
       "_model_module_version": "^0.5.3",
       "_view_module_version": "^0.5.3"
      }
     },
     "b29affde315f4fa18334965bc778a350": {
      "model_module": "@jupyter-widgets/controls",
      "model_module_version": "1.5.0",
      "model_name": "ToggleButtonsStyleModel",
      "state": {
       "button_width": "",
       "description_width": ""
      }
     },
     "b2c3431017774aa89208c1f513ce89ec": {
      "model_module": "@jupyter-widgets/base",
      "model_module_version": "1.2.0",
      "model_name": "LayoutModel",
      "state": {}
     },
     "b327e84f5ef34534845429e1d2fca4e6": {
      "model_module": "bqplot",
      "model_module_version": "^0.5.10",
      "model_name": "AxisModel",
      "state": {
       "_model_module_version": "^0.5.10",
       "_view_module_version": "^0.5.10",
       "grid_lines": "none",
       "label": "Price",
       "orientation": "vertical",
       "scale": "IPY_MODEL_fd11a18cc2f1484dab15cd1ebf64a36e",
       "side": "left",
       "tick_values": null
      }
     },
     "b365c24620ed446ab74ab25ccba22403": {
      "model_module": "bqplot",
      "model_module_version": "^0.5",
      "model_name": "FigureModel",
      "state": {
       "_model_module_version": "^0.5",
       "_view_module_version": "^0.5",
       "axes": [
        "IPY_MODEL_058fa67d5191467fb6344f8c87cd29ab",
        "IPY_MODEL_51e6dbdebb3e493a84140d1af7e159af"
       ],
       "interaction": "IPY_MODEL_18ae5ae4e5d54b0bba4ca734112224d2",
       "layout": "IPY_MODEL_2efb1775ecc24c9d856920fd6aa9b5b8",
       "marks": [
        "IPY_MODEL_e233c488df9e4d4c9723b5af7a2c2d55"
       ],
       "scale_x": "IPY_MODEL_7bb58a386bd5481799531bc4cdba34e7",
       "scale_y": "IPY_MODEL_ae5824788ef541ad8b5a06a644a33e21"
      }
     },
     "b3b425e8b69c467eb610e17c8b5b09d4": {
      "model_module": "@jupyter-widgets/controls",
      "model_module_version": "1.5.0",
      "model_name": "DescriptionStyleModel",
      "state": {
       "description_width": ""
      }
     },
     "b3d78c48e16f494b9b05d82fc9145189": {
      "model_module": "bqplot",
      "model_module_version": "^0.5.3",
      "model_name": "HandDrawModel",
      "state": {
       "_model_module_version": "^0.5.3",
       "_view_module_version": "^0.5.3",
       "lines": "IPY_MODEL_d670a57487a349019d117e15f6067f0b"
      }
     },
     "b3e9902c109540d1aa38fbcd7c068aae": {
      "model_module": "bqplot",
      "model_module_version": "^0.5.3",
      "model_name": "DateScaleModel",
      "state": {
       "_model_module_version": "^0.5.3",
       "_view_module_version": "^0.5.3",
       "min": "2006-06-01T00:00:00.000000"
      }
     },
     "b51ead9463014e09ad64bc1c858807ff": {
      "model_module": "@jupyter-widgets/base",
      "model_module_version": "1.2.0",
      "model_name": "LayoutModel",
      "state": {}
     },
     "b544bb1bd12a42ef92dd6ccd2a9dac14": {
      "model_module": "@jupyter-widgets/base",
      "model_module_version": "1.2.0",
      "model_name": "LayoutModel",
      "state": {}
     },
     "b6a3797824914dc192f42b3aadb59aa0": {
      "model_module": "bqplot",
      "model_module_version": "^0.5.10",
      "model_name": "LinearScaleModel",
      "state": {
       "_model_module_version": "^0.5.10",
       "_view_module_version": "^0.5.10",
       "stabilized": false
      }
     },
     "b6e1c7b2e9784fe0b6efdb44103bdf9f": {
      "model_module": "bqplot",
      "model_module_version": "^0.5.3",
      "model_name": "AxisModel",
      "state": {
       "_model_module_version": "^0.5.3",
       "_view_module_version": "^0.5.3",
       "grid_lines": "none",
       "label": "Freq",
       "orientation": "vertical",
       "scale": "IPY_MODEL_20ed2d955c4e4ad2a3e01f3ea6b79326",
       "side": "left",
       "tick_values": null
      }
     },
     "b721d7ed1e3c433fa4c5471e0d8e5bcf": {
      "buffers": [
       {
        "data": "AACASa/9cEIAAECvAf5wQgAAABVU/nBCAADAeqb+cEIAAIDg+P5wQgAAQEZL/3BCAAAArJ3/cEIAAMAR8P9wQgAAgHdCAHFCAABA3ZQAcUIAAABD5wBxQgAAwKg5AXFCAACADowBcUIAAEB03gFxQgAAANowAnFCAADAP4MCcUIAAICl1QJxQgAAQAsoA3FCAAAAcXoDcUIAAMDWzANxQgAAgDwfBHFCAABAonEEcUIAAAAIxARxQgAAwG0WBXFCAACA02gFcUIAAEA5uwVxQgAAAJ8NBnFCAADABGAGcUIAAIBqsgZxQgAAQNAEB3FCAAAANlcHcUIAAMCbqQdxQgAAgAH8B3FCAABAZ04IcUIAAADNoAhxQgAAwDLzCHFCAACAmEUJcUIAAED+lwlxQgAAAGTqCXFCAADAyTwKcUIAAIAvjwpxQgAAQJXhCnFCAAAA+zMLcUIAAMBghgtxQgAAgMbYC3FCAABALCsMcUIAAACSfQxxQgAAwPfPDHFCAACAXSINcUIAAEDDdA1xQgAAACnHDXFCAADAjhkOcUIAAID0aw5xQgAAQFq+DnFCAAAAwBAPcUIAAMAlYw9xQgAAgIu1D3FCAABA8QcQcUIAAABXWhBxQgAAwLysEHFCAACAIv8QcUIAAECIURFxQgAAAO6jEXFCAADAU/YRcUIAAIC5SBJxQgAAQB+bEnFCAAAAhe0ScUIAAMDqPxNxQgAAgFCSE3FCAABAtuQTcUIAAAAcNxRxQgAAwIGJFHFCAACA59sUcUIAAEBNLhVxQgAAALOAFXFCAADAGNMVcUIAAIB+JRZxQgAAQOR3FnFCAAAASsoWcUIAAMCvHBdxQgAAgBVvF3FCAABAe8EXcUIAAADhExhxQgAAwEZmGHFCAACArLgYcUIAAEASCxlxQgAAAHhdGXFCAADA3a8ZcUIAAIBDAhpxQgAAQKlUGnFCAAAAD6cacUIAAMB0+RpxQgAAgNpLG3FCAABAQJ4bcUIAAACm8BtxQgAAwAtDHHFCAACAcZUccUIAAEDX5xxxQgAAAD06HXFCAADAoowdcUIAAIAI3x1xQgAAQG4xHnFCAAAA1IMecUIAAMA51h5xQgAAgJ8oH3FCAABABXsfcUIAAABrzR9xQgAAwNAfIHFCAACANnIgcUIAAECcxCBxQgAAAAIXIXFCAADAZ2khcUIAAIDNuyFxQgAAQDMOInFCAAAAmWAicUIAAMD+siJxQgAAgGQFI3FCAABAylcjcUIAAAAwqiNxQgAAwJX8I3FCAACA+04kcUIAAEBhoSRxQgAAAMfzJHFCAADALEYlcUIAAICSmCVxQgAAQPjqJXFCAAAAXj0mcUIAAMDDjyZxQgAAgCniJnFCAABAjzQncUIAAAD1hidxQgAAwFrZJ3FCAACAwCsocUIAAEAmfihxQgAAAIzQKHFCAADA8SIpcUIAAIBXdSlxQgAAQL3HKXFCAAAAIxoqcUIAAMCIbCpxQgAAgO6+KnFCAABAVBErcUIAAAC6YytxQgAAwB+2K3FCAACAhQgscUIAAEDrWixxQgAAAFGtLHFCAADAtv8scUIAAIAcUi1xQgAAQIKkLXFC",
        "encoding": "base64",
        "path": [
         "x",
         "value"
        ]
       },
       {
        "data": "Rj59ZvwIWUBksTmJObBYQLa1jjtdOFlAm3PVTzIjWUBxnk6XzRFZQAfpnG0xrllA4J5XaRDbWUC/gy17LN9ZQAgFP+/SKlpAyjHqjHncWUCi+iQ1G35aQMa29z8uGFpApBDo1PHbWUA5Wq1zTh9aQN0jp5YLDVpAG8Qnre7QWUAttT86aR5aQNpES2IJkllArAb4wYzVWUAsotC4drNZQLZ11GNyrVlATDFngrvBWUBW0C5TQ0VZQON7v8Wq1lhAAy33kJhXWUD5fcXVqaVZQDKZ2WT0fllAni4uwPJ4WUC0koFsBgJZQOvyQ4cjMVlA96/hjJh1WUA25JXkVrRZQGfTNN2x6llAUWkOrUk9WkCkQcrr4LJZQFlMl5CxBlpAq28/9qFOWkAA5u8BgwNaQK+FcclYHFpAmEq3ESMzWkBDYaBK3KpaQOEaF+O/klpAG9HZr4eRWkDGKBr49VpaQGUN0gUT4FpATCb/0owYW0CCRqFDpRVbQEAvMRnqXltAFujoirelW0Adc+JU9nxbQKz9jrA4ZVtANDKEjuHwWkASinIxIf5aQFhgawbElFpAgMWD8kCXWkDyJODLk5taQMuZLlvqVltAgbRGybsIW0CuocbXJZZaQESpiQRtKFtAE1OloZdDW0DkRLgaPo5bQG5fLDMTNFtAKETU3ggHW0AQ1bB4rAZbQLIyB0LIQltA1pwf36pdW0BMWY1TAmVbQKKg2fvhL1tAfPXxbqo5W0DQOowceFhbQJz2wvhCI1tAYG09jW0nW0BTiqwBpMdbQJu14cFW+ltAny4ff27/W0AIjoaWBOVbQFDNFznow1tAkNYaY3a7W0B7ZoB3afRbQPjuTwZvOVxAiPvXuUdvXECqCVR0c09cQD+TxqZ9D1xAq9Fmqm8NXEAlVcXlRyxcQI4/S8GVtVtAhzZCpfjUW0DPVUr6cdhbQOcu4ab/7FtAJfRpoRfLW0DQ7Rp3W09bQMdKdlSaG1tAq/nafhtAW0D8XlBUqENbQEcjhO96wFtAHsLla7rGW0CaTw+BfeBbQEy/ok/rjFtA+VmHcS/CW0D4j4jgovpaQJJIWmhmfFtApHRkNutJW0BfGORjfoVbQC6wusV3gVtAMTS1WqRMW0Cd5AVl3B9bQIVGXK87SltAkP86WFclW0DATLc55iRbQHxNic5bQFtAOWvEBQ+VW0Dw3CNqvaNbQJp+LPsgaVtAynZKy5v4W0DkVlxwPiNcQA88EijuE1xAmRQmI9xKXECXLmxgRRRcQHDHOx61zltAFVo7tDvjW0AYz8tO6aFbQFchMm7nYFtAQGeaFLRaW0Au4fYVDcNbQHT3Mtc8HVxA28yo65f1W0DaOjwx9pBbQOOORFH+SVtAjXcWPgr7W0B9nneTSO1bQNdWBJjWA1xAIBbPnyP4W0DX2HDlaDtcQLDSXE0ALFxAon0peegMXEDkI8uIzpVbQCILUBj7oVtAM9w1Xh5kW0C/8/ACHTVbQNDSN6FvRltASCk7hweCW0BQZZ5ulYRbQG/DCgXIXVtADSLwaCj/WkCGEJZeWLpaQBe48MfJbFpAg3HK0rtKWkD1QnU8AXtaQDNCx3aA8llA",
        "encoding": "base64",
        "path": [
         "y",
         "value"
        ]
       }
      ],
      "model_module": "bqplot",
      "model_module_version": "^0.5.3",
      "model_name": "LinesModel",
      "state": {
       "_model_module_version": "^0.5.3",
       "_view_module_version": "^0.5.3",
       "colors": [
        "red"
       ],
       "fill_colors": [],
       "labels": [
        "C1"
       ],
       "scales": {
        "x": "IPY_MODEL_26c8f8e258104e30a5dd30986997316d",
        "y": "IPY_MODEL_d30c338420404ec38a0204c8d735c6f8"
       },
       "x": {
        "dtype": "float64",
        "shape": [
         150
        ],
        "type": "date"
       },
       "y": {
        "dtype": "float64",
        "shape": [
         150
        ],
        "type": null
       }
      }
     },
     "b7222a7f092440a887f271b6a2169c2e": {
      "model_module": "bqplot",
      "model_module_version": "^0.5.10",
      "model_name": "LinearScaleModel",
      "state": {
       "_model_module_version": "^0.5.10",
       "_view_module_version": "^0.5.10",
       "allow_padding": false,
       "max": 1,
       "min": 0,
       "stabilized": false
      }
     },
     "b80ae359193644dca5eb2e0f2cb4c0c2": {
      "model_module": "bqplot",
      "model_module_version": "^0.5.3",
      "model_name": "LinearScaleModel",
      "state": {
       "_model_module_version": "^0.5.3",
       "_view_module_version": "^0.5.3",
       "stabilized": false
      }
     },
     "b8322d1f8b5e439e87d699c0236b39a0": {
      "model_module": "bqplot",
      "model_module_version": "^0.5",
      "model_name": "DateScaleModel",
      "state": {
       "_model_module_version": "^0.5",
       "_view_module_version": "^0.5",
       "min": "2007-01-01T00:00:00.000Z"
      }
     },
     "b8475fe2b8ae4da59c9472cf4af05245": {
      "model_module": "bqplot",
      "model_module_version": "^0.5.10",
      "model_name": "LinearScaleModel",
      "state": {
       "_model_module_version": "^0.5.10",
       "_view_module_version": "^0.5.10",
       "allow_padding": false,
       "max": 1,
       "min": 0,
       "stabilized": false
      }
     },
     "b8b3ec8980df46df88725538ce5d084e": {
      "model_module": "@jupyter-widgets/base",
      "model_module_version": "1.2.0",
      "model_name": "LayoutModel",
      "state": {}
     },
     "b8e4a1384a2545788036d5fabd2c450a": {
      "model_module": "@jupyter-widgets/base",
      "model_module_version": "1.2.0",
      "model_name": "LayoutModel",
      "state": {}
     },
     "b976bda2d0244dc89de75e711189a5e8": {
      "model_module": "@jupyter-widgets/base",
      "model_module_version": "1.2.0",
      "model_name": "LayoutModel",
      "state": {}
     },
     "b9e5a3ec74f9417480e14b3be70ea021": {
      "model_module": "bqplot",
      "model_module_version": "^0.5.10",
      "model_name": "DateScaleModel",
      "state": {
       "_model_module_version": "^0.5.10",
       "_view_module_version": "^0.5.10",
       "min": "2007-01-01T00:00:00.000Z"
      }
     },
     "b9f518ad81a041378b6c18cd54376e8f": {
      "model_module": "bqplot",
      "model_module_version": "^0.5.10",
      "model_name": "FigureModel",
      "state": {
       "_model_module_version": "^0.5.10",
       "_view_module_version": "^0.5.10",
       "axes": [
        "IPY_MODEL_ebb04b041015451aa11eca0b53a9c540",
        "IPY_MODEL_2394a5b4ad8d4460a605a4c5cdec9df7"
       ],
       "interaction": "IPY_MODEL_924ee33ccd184ceb8e92a93c878ded1d",
       "layout": "IPY_MODEL_b8e4a1384a2545788036d5fabd2c450a",
       "marks": [
        "IPY_MODEL_129f61f113474394b9495e3adb403683"
       ],
       "scale_x": "IPY_MODEL_a3432727f0cf474e94ef5752812f00cc",
       "scale_y": "IPY_MODEL_b7222a7f092440a887f271b6a2169c2e",
       "title": "Brush Selector with Dates Example"
      }
     },
     "ba6fdc614f184cbfaf36024b26f81925": {
      "model_module": "bqplot",
      "model_module_version": "^0.5",
      "model_name": "LinearScaleModel",
      "state": {
       "_model_module_version": "^0.5",
       "_view_module_version": "^0.5",
       "allow_padding": false,
       "max": 1,
       "min": 0,
       "stabilized": false
      }
     },
     "bb8bcaf35eb340d0a5d790bff1eb13b3": {
      "model_module": "@jupyter-widgets/base",
      "model_module_version": "1.2.0",
      "model_name": "LayoutModel",
      "state": {}
     },
     "bc0c71952b394dd4a62578e5dc1c0c77": {
      "model_module": "bqplot",
      "model_module_version": "^0.5",
      "model_name": "LinearScaleModel",
      "state": {
       "_model_module_version": "^0.5",
       "_view_module_version": "^0.5",
       "stabilized": false
      }
     },
     "bc5c7f3244d247eba6eb600fbd2b0725": {
      "model_module": "bqplot",
      "model_module_version": "^0.5.3",
      "model_name": "AxisModel",
      "state": {
       "_model_module_version": "^0.5.3",
       "_view_module_version": "^0.5.3",
       "grid_lines": "none",
       "label": "Date",
       "scale": "IPY_MODEL_26c8f8e258104e30a5dd30986997316d",
       "side": "bottom",
       "tick_values": null
      }
     },
     "bc84319a691a456bac9ea0a09804182a": {
      "buffers": [
       {
        "data": "AAAAAAAA8D8=",
        "encoding": "base64",
        "path": [
         "default_opacities",
         "value"
        ]
       },
       {
        "data": "AAAAAAEAAAACAAAAAwAAAAQAAAAFAAAABgAAAAcAAAAIAAAACQAAAAoAAAALAAAADAAAAA0AAAAOAAAADwAAABAAAAARAAAAEgAAABMAAAA=",
        "encoding": "base64",
        "path": [
         "x",
         "value"
        ]
       },
       {
        "data": "AAAAAAEAAAACAAAAAwAAAAQAAAAFAAAABgAAAAcAAAAIAAAACQAAAAoAAAALAAAADAAAAA0AAAAOAAAADwAAABAAAAARAAAAEgAAABMAAAA=",
        "encoding": "base64",
        "path": [
         "y",
         "value"
        ]
       }
      ],
      "model_module": "bqplot",
      "model_module_version": "^0.5.3",
      "model_name": "ScatterModel",
      "state": {
       "_model_module_version": "^0.5.3",
       "_view_module_version": "^0.5.3",
       "colors": [
        "skyblue"
       ],
       "default_opacities": {
        "dtype": "float64",
        "shape": [
         1
        ],
        "type": null
       },
       "names": null,
       "scales": {
        "x": "IPY_MODEL_3e14b18e83d844268bfaa6527ab6f694",
        "y": "IPY_MODEL_b0fb4887ff26488ba84d1a10b9e49881"
       },
       "scales_metadata": {
        "color": {
         "dimension": "color"
        },
        "opacity": {
         "dimension": "opacity"
        },
        "rotation": {
         "dimension": "rotation"
        },
        "size": {
         "dimension": "size"
        },
        "skew": {
         "dimension": "skew"
        },
        "x": {
         "dimension": "x",
         "orientation": "horizontal"
        },
        "y": {
         "dimension": "y",
         "orientation": "vertical"
        }
       },
       "x": {
        "dtype": "int32",
        "shape": [
         20
        ],
        "type": null
       },
       "y": {
        "dtype": "int32",
        "shape": [
         20
        ],
        "type": null
       }
      }
     },
     "bcadb6de0b1f45ccae77b0d521ad6890": {
      "model_module": "bqplot",
      "model_module_version": "^0.5",
      "model_name": "LinearScaleModel",
      "state": {
       "_model_module_version": "^0.5",
       "_view_module_version": "^0.5",
       "stabilized": false
      }
     },
     "be0a031081e448f9a11ee25f55ac28cd": {
      "model_module": "bqplot",
      "model_module_version": "^0.5",
      "model_name": "LinearScaleModel",
      "state": {
       "_model_module_version": "^0.5",
       "_view_module_version": "^0.5",
       "stabilized": false
      }
     },
     "be1f8b4137954d9da4c87a0258cace0e": {
      "model_module": "bqplot",
      "model_module_version": "^0.5.10",
      "model_name": "HandDrawModel",
      "state": {
       "_model_module_version": "^0.5.10",
       "_view_module_version": "^0.5.10",
       "lines": "IPY_MODEL_793f6ff6ead346618ebc9f4b11dd3403"
      }
     },
     "bf1a632de8544189a5a47400058275ad": {
      "buffers": [
       {
        "data": "AAAAAAAAAAA3YKimYy6xPzdgqKZjLsE/UpD8eZXFyT83YKimYy7RP0V4UpD8edU/UpD8eZXF2T9gqKZjLhHePzdgqKZjLuE/Pmx9GzBU4z9FeFKQ/HnlP0yEJwXJn+c/UpD8eZXF6T9ZnNHuYevrP2CopmMuEe4/NNo9bH0b8D83YKimYy7xPzrmEuFJQfI/Pmx9GzBU8z9B8udVFmf0P0V4UpD8efU/SP68yuKM9j9MhCcFyZ/3P08Kkj+vsvg/UpD8eZXF+T9WFme0e9j6P1mc0e5h6/s/XSI8KUj+/D9gqKZjLhH+P2QuEZ4UJP8/NNo9bH0bAEA1HXOJ8KQAQDdgqKZjLgFAOaPdw9a3AUA65hLhSUECQDwpSP68ygJAPmx9GzBUA0BAr7I4o90DQEHy51UWZwRAQzUdc4nwBEBFeFKQ/HkFQEa7h61vAwZASP68yuKMBkBKQfLnVRYHQEyEJwXJnwdATcdcIjwpCEBPCpI/r7IIQFFNx1wiPAlAUpD8eZXFCUBU0zGXCE8KQFYWZ7R72ApAWFmc0e5hC0BZnNHuYesLQFvfBgzVdAxAXSI8KUj+DEBfZXFGu4cNQGCopmMuEQ5AYuvbgKGaDkBkLhGeFCQPQGVxRruHrQ9ANNo9bH0bEEC0e9j6NmAQQDUdc4nwpBBAtr4NGKrpEEA3YKimYy4RQLgBQzUdcxFAOaPdw9a3EUC6RHhSkPwRQDrmEuFJQRJAu4etbwOGEkA8KUj+vMoSQL3K4ox2DxNAPmx9GzBUE0C/DRiq6ZgTQECvsjij3RNAwFBNx1wiFEBB8udVFmcUQMKTguTPqxRAQzUdc4nwFEDE1rcBQzUVQEV4UpD8eRVAxhntHra+FUBGu4etbwMWQMdcIjwpSBZASP68yuKMFkDJn1dZnNEWQEpB8udVFhdAy+KMdg9bF0BMhCcFyZ8XQMwlwpOC5BdATcdcIjwpGEDOaPew9W0YQE8Kkj+vshhA0Ksszmj3GEBRTcdcIjwZQNLuYevbgBlAUpD8eZXFGUDTMZcITwoaQFTTMZcITxpA1XTMJcKTGkBWFme0e9gaQNe3AUM1HRtAWFmc0e5hG0DZ+jZgqKYbQFmc0e5h6xtA2j1sfRswHEBb3wYM1XQcQNyAoZqOuRxAXSI8KUj+HEDew9a3AUMdQF9lcUa7hx1A3wYM1XTMHUBgqKZjLhEeQOFJQfLnVR5AYuvbgKGaHkDjjHYPW98eQGQuEZ4UJB9A5c+rLM5oH0BlcUa7h60fQOYS4UlB8h9ANNo9bH0bIED0Kosz2j0gQLR72Po2YCBAdcwlwpOCIEA1HXOJ8KQgQPZtwFBNxyBAtr4NGKrpIEB3D1vfBgwhQDdgqKZjLiFA97D1bcBQIUC4AUM1HXMhQHhSkPx5lSFAOaPdw9a3IUD58yqLM9ohQLpEeFKQ/CFAepXFGe0eIkA65hLhSUEiQPs2YKimYyJAu4etbwOGIkB82Po2YKgiQDwpSP68yiJA/XmVxRntIkC9yuKMdg8jQH0bMFTTMSNAPmx9GzBUI0D+vMrijHYjQL8NGKrpmCNAf15lcUa7I0BAr7I4o90jQAAAAAAAACRA",
        "encoding": "base64",
        "path": [
         "x",
         "value"
        ]
       },
       {
        "data": "QRpAFOapUkCEO9JQq7lSQEAa1XDZ61JAMA6zbB3yUkBPNTM0JxRTQMon6qzMFlNAJW1GeiLsUkBd+V/0nN9SQM5COSYB/FJARmTWyzWGUkDl6yda0HZSQOb26J46FFJAV5AlZFonUkDbpdiiXu1RQDjQzOIGKFJAqIkq6DwoUkCqT3oE2PJRQPZTdcyG5FFAwFe42woJUkBqI/JZO3dSQJLa3QABj1JAQ45DXWFdUkDizAim21JSQDq7zrwUJlJAxaO5iywfUkCjP1ptuyBSQFw/BWHpJVJA8ldawAUCUkA6hIdYTzdSQHK2v/oIPlJAF4QuxrhCUkCWQ8KJxz9SQMlGNW3/GlJAUukAorNcUkAROEJtQIBSQDbhrj7dX1JAQgwCilt8UkBk7U3rwxpSQPKfOQmwGlJAmN7Ch2WxUUDTbLWGkuZRQEwV9gVu01FABYu+OzmCUUDYxSP+MkZRQJ13GYJDMVFA7pkquOJ4UUDDkjmKCndRQDBMm0xfjVFAtILtnXp1UUDN4DydcGhRQOJcu+w2clFAdiQhIHYUUUAuC77LIANRQMqoMMxZdVFApSn2G2BZUUDK247y2DFRQEeHhvho0lBAwE+VFwCSUEAILr+1PMdQQD9zMBDC4lBAGv0DXpQ7UUDlFANiCVZRQF2y0+BZ81BAyFwU6YD/UEBq0U1vCQdRQASh8mS/S1FAl+sxgSZiUUD9n7IktjxRQOoOg/eXblFAJGca4hmvUUDKw7nYCpRRQKI/f5284lFAtMbuXDfdUUAMsWWthvdRQBFjZyuSqFFAwEct/b1lUUBtmF5W2V9RQBKIjsKkWlFAja07STvQUUC63HysWuRRQAyiwZu2vlFAhtovG8fpUUC41/lekelRQAwq6oBwq1FALB4O4+O1UUB8KwRgotlRQM/IN/Om21FAwmD3wkbbUUCKgjO6pglSQJic/Bl+fFJA8ZevkG4rUkCF1kfP2zpSQCrfimNmZFJAggGgnemLUkCKT6Z5ZWRSQBvf95+Ma1JAcDdh93UoUkDAFjXPmwVSQCsAF7We9VFAnz4pjMZqUkAOENTbxI1SQDJQrqGEXlJAc7sN+F6QUkBdPcOSwKVSQOgbMTghllJADVyYjqWNUkDZ7lrHIqhSQOnK5nfBoVJANkxHdmtgUkCSyUN9lgVTQPsT4J7tWFNA3u3GJ/ZOU0CJFAQTg1NTQKE/G996TVNAq9CouCRCU0ClhJJnomJTQM2v2wN591JAJ9nwRlE/U0CLxY7mrz1TQNnS3ztU1FNASILwyKbUU0D4ch0Df81TQHJIRB4Go1NAPbv+y214U0BMyVsxEUlTQLtzK2IQEFNAU68Cta8VU0ADkzzdamJTQD2lRcxTdlNAZqeOXeXqU0BYvInqXQ5UQDszFCBezVNAzKcBIM2mU0AMMBhjxbxTQHJnqFFTi1NA9gF+kE+yU0AH2LQueMxTQMEOlXoFrVNADhqyxyXGU0CWfDJvb3tTQI8e9MU1eFNATvxAFw45U0CryMPjMyFTQBa2mytJIFNAo2+QNwYkU0DHSzmOog1TQECB4/B54VJAY8l/CjLDUkDOEJl5DuNSQCoysyvP2lJA",
        "encoding": "base64",
        "path": [
         "y",
         "value"
        ]
       }
      ],
      "model_module": "bqplot",
      "model_module_version": "^0.5.10",
      "model_name": "LinesModel",
      "state": {
       "_model_module_version": "^0.5.10",
       "_view_module_version": "^0.5.10",
       "colors": [
        "green"
       ],
       "display_legend": true,
       "fill_colors": [],
       "labels": [
        "Security 2 squared"
       ],
       "scales": {
        "x": "IPY_MODEL_2b7299f751344c41987999c2eeff1fe7",
        "y": "IPY_MODEL_79a5040e826f4a84989e2d141a08db84"
       },
       "x": {
        "dtype": "float64",
        "shape": [
         150
        ],
        "type": null
       },
       "y": {
        "dtype": "float64",
        "shape": [
         150
        ],
        "type": null
       }
      }
     },
     "bf60dc38b6f0404c8e069fed379cda59": {
      "model_module": "@jupyter-widgets/base",
      "model_module_version": "1.2.0",
      "model_name": "LayoutModel",
      "state": {}
     },
     "bf846558517141d3bfc1695251dd4166": {
      "model_module": "bqplot",
      "model_module_version": "^0.5.10",
      "model_name": "LinearScaleModel",
      "state": {
       "_model_module_version": "^0.5.10",
       "_view_module_version": "^0.5.10",
       "allow_padding": false,
       "max": 1,
       "min": 0,
       "stabilized": false
      }
     },
     "bfcb14123037401f81aca1f4a52a33cf": {
      "buffers": [
       {
        "data": "AACASa/9cEIAAECvAf5wQgAAABVU/nBCAADAeqb+cEIAAIDg+P5wQgAAQEZL/3BCAAAArJ3/cEIAAMAR8P9wQgAAgHdCAHFCAABA3ZQAcUIAAABD5wBxQgAAwKg5AXFCAACADowBcUIAAEB03gFxQgAAANowAnFCAADAP4MCcUIAAICl1QJxQgAAQAsoA3FCAAAAcXoDcUIAAMDWzANxQgAAgDwfBHFCAABAonEEcUIAAAAIxARxQgAAwG0WBXFCAACA02gFcUIAAEA5uwVxQgAAAJ8NBnFCAADABGAGcUIAAIBqsgZxQgAAQNAEB3FCAAAANlcHcUIAAMCbqQdxQgAAgAH8B3FCAABAZ04IcUIAAADNoAhxQgAAwDLzCHFCAACAmEUJcUIAAED+lwlxQgAAAGTqCXFCAADAyTwKcUIAAIAvjwpxQgAAQJXhCnFCAAAA+zMLcUIAAMBghgtxQgAAgMbYC3FCAABALCsMcUIAAACSfQxxQgAAwPfPDHFCAACAXSINcUIAAEDDdA1xQgAAACnHDXFCAADAjhkOcUIAAID0aw5xQgAAQFq+DnFCAAAAwBAPcUIAAMAlYw9xQgAAgIu1D3FCAABA8QcQcUIAAABXWhBxQgAAwLysEHFCAACAIv8QcUIAAECIURFxQgAAAO6jEXFCAADAU/YRcUIAAIC5SBJxQgAAQB+bEnFCAAAAhe0ScUIAAMDqPxNxQgAAgFCSE3FCAABAtuQTcUIAAAAcNxRxQgAAwIGJFHFCAACA59sUcUIAAEBNLhVxQgAAALOAFXFCAADAGNMVcUIAAIB+JRZxQgAAQOR3FnFCAAAASsoWcUIAAMCvHBdxQgAAgBVvF3FCAABAe8EXcUIAAADhExhxQgAAwEZmGHFCAACArLgYcUIAAEASCxlxQgAAAHhdGXFCAADA3a8ZcUIAAIBDAhpxQgAAQKlUGnFCAAAAD6cacUIAAMB0+RpxQgAAgNpLG3FCAABAQJ4bcUIAAACm8BtxQgAAwAtDHHFCAACAcZUccUIAAEDX5xxxQgAAAD06HXFCAADAoowdcUIAAIAI3x1xQgAAQG4xHnFCAAAA1IMecUIAAMA51h5xQgAAgJ8oH3FCAABABXsfcUIAAABrzR9xQgAAwNAfIHFCAACANnIgcUIAAECcxCBxQgAAAAIXIXFCAADAZ2khcUIAAIDNuyFxQgAAQDMOInFCAAAAmWAicUIAAMD+siJxQgAAgGQFI3FCAABAylcjcUIAAAAwqiNxQgAAwJX8I3FCAACA+04kcUIAAEBhoSRxQgAAAMfzJHFCAADALEYlcUIAAICSmCVxQgAAQPjqJXFCAAAAXj0mcUIAAMDDjyZxQgAAgCniJnFCAABAjzQncUIAAAD1hidxQgAAwFrZJ3FCAACAwCsocUIAAEAmfihxQgAAAIzQKHFCAADA8SIpcUIAAIBXdSlxQgAAQL3HKXFCAAAAIxoqcUIAAMCIbCpxQgAAgO6+KnFCAABAVBErcUIAAAC6YytxQgAAwB+2K3FCAACAhQgscUIAAEDrWixxQgAAAFGtLHFCAADAtv8scUIAAIAcUi1xQgAAQIKkLXFC",
        "encoding": "base64",
        "path": [
         "x",
         "value"
        ]
       },
       {
        "data": "MyAqE4XGWECP3tTEh15YQBxMTUbf/1dAEQPf9HLUV0D0FTt6P9tXQEaI80q8mVdAUFHZh+a0V0ATC26Gi8pXQINCmTStyVdA704jTA/ZV0BS0AP0iLhXQIPJBz3ZfVdAbkhM1r12V0DVig/bPlRXQG2uykqW/VZAIszDmU6hVkCeZP+DmMNWQE/5Von/QlZAjBWmrmZcVkDkPg/Jyn1WQFaJTTIudVZAlWIYFsPTVkDyeenXROlWQG7tyHtMTVdAbe+/odQ6V0DJnoRui21XQE/xjyy5dldAa+osChdDV0A44t3n0v1WQD6M4RJFEVdAdubmM/luV0Dd0z0KV3RXQLhaZoe+sldAUvgolxEvWEDUxAMy1G9YQNnEsgUp6VhApd8iroC9WEC/o2+sMT5YQM/2/ZDHVlhAAfSd/KHPWEDoaNS67yFZQLvN5ktlKVlAbq8Lpj5eWUCLF7dULWZZQKLAVY/fp1lAC9Ik6Y9NWUBf+budaXJZQDBWuvRavFlADob5fPUjWkABhUict+FZQClul0q5W1pAEn3e2MYLW0Agn5FKio9bQEhTlQzC+FtAwro9xpofXEB8MOqAChFcQA66Pt8nnFtAbMQd69OgW0DbkmdGP69bQN9ULm2YwFtAS9nBIdotXEDLPmp2e4VcQN2QaOzJhlxAbkgiz2zLXEAzdPTUyedcQJKBNlTAu1xAvrnX5MnLXED+ro3Z6MdcQDHaq93E5VxAeziZ4ZUoXUBn71JV1DJdQHA0kPvMFV1AkTB+mWbnXEAHR3SpBfZcQHl6og7111xAincniVpiXEB1XQ5AcLpcQDXiVu7sZlxAl/Q4gPu2XEDq8WhjBtNcQEfBX+Rx0VxAPn/rVoeDXEBqbGIYSHJcQCxA6tpX2ltAAMpIytPkW0DNAJpZ8v9bQDYDu0AWcVxAMw8aZVJ9XED2FFv0VWdcQBnfb+fXO1xAutFnkUg2XEDJiE1qM99bQN9YOr3a7FtAFM1OMcNzW0AmtZq3n2VbQIfGZjJdbltA11UUmRGJW0CqLkSSDPRbQB5xoXvDVFtAySo9L2N0W0B4bsf+6jlbQC77fGuTSFtANx9TYtYvW0Bkb1xXaYRbQJFxHC1LoFtASOSML32vW0BsqFzvGrJbQO7llZohR1tA3Nc3LoKHW0BraoUJlwlbQJ+jd2XEnVpAwVvpN99DWkBXrdBW/nBaQOqWQI2WTFpAMvjavEjgWkCeSexi2ahaQB++jpQ3eltAFEMzcpLnW0CW5AXHRHpcQL1s6T1qplxAJ9MVQU4yXECL23Kn/mVcQAFgGgM5dFxAGEWNuMEiXEDktecAwTJcQARjfmOUjFxAX5ykPfJlXEAgh6nNFZdcQOyTwpBcj1xAAPaiXLE4XEDe9+7GOs1bQOTKS2EfnltABKqyjnypW0CvAxj/d2JbQOqoJ82/l1tAeg9S60w4W0DJiK9wBIBaQMfxJJJnKVpA9padHdIUWkAkjvLRO+JZQBHOjnRezFlAe0L1yEB6WUA3b4Bgn6VZQIWfPIDiy1lAaSHKyykZWkCcGsWVsoFaQJerl12X9lpA9BSuDDI8W0BrXWjm5r9aQLFu4nwRolpA",
        "encoding": "base64",
        "path": [
         "y",
         "value"
        ]
       }
      ],
      "model_module": "bqplot",
      "model_module_version": "^0.5",
      "model_name": "LinesModel",
      "state": {
       "_model_module_version": "^0.5",
       "_view_module_version": "^0.5",
       "colors": [
        "red"
       ],
       "display_legend": true,
       "fill_colors": [],
       "labels": [
        "Security 2"
       ],
       "scales": {
        "x": "IPY_MODEL_fd564f48c10d44b3901f35cd009e2bed",
        "y": "IPY_MODEL_c0ca45d131e04efebb0335fa5cac778a"
       },
       "x": {
        "dtype": "float64",
        "shape": [
         150
        ],
        "type": "date"
       },
       "y": {
        "dtype": "float64",
        "shape": [
         150
        ],
        "type": null
       }
      }
     },
     "c0685757deb645759d78fd9986f82506": {
      "model_module": "bqplot",
      "model_module_version": "^0.5.3",
      "model_name": "BrushIntervalSelectorModel",
      "state": {
       "_model_module_version": "^0.5.3",
       "_view_module_version": "^0.5.3",
       "marks": [
        "IPY_MODEL_ff319b5d1d2546d2a31481f7b3eeddc5"
       ],
       "scale": "IPY_MODEL_853961d363e648c983c8188666356db4"
      }
     },
     "c0720cf11b87421bab9900a2c869250a": {
      "model_module": "bqplot",
      "model_module_version": "^0.5.3",
      "model_name": "FigureModel",
      "state": {
       "_model_module_version": "^0.5.3",
       "_view_module_version": "^0.5.3",
       "axes": [
        "IPY_MODEL_9f57302c6d60415e936cc2cc120bf3ab",
        "IPY_MODEL_b6e1c7b2e9784fe0b6efdb44103bdf9f"
       ],
       "interaction": "IPY_MODEL_3506f91b75754cb39b938f7db01f97be",
       "layout": "IPY_MODEL_2899910010824ca99ca39a5979f55637",
       "marks": [
        "IPY_MODEL_17ec40d56486456ea663605d2506ff03"
       ],
       "scale_x": "IPY_MODEL_3283b8d6ca1f41fcb9f0fe430ed9d85d",
       "scale_y": "IPY_MODEL_27a9b4de4eef4586939a431c40355cc1",
       "title": "Multi-Selector Example"
      }
     },
     "c0ca45d131e04efebb0335fa5cac778a": {
      "model_module": "bqplot",
      "model_module_version": "^0.5",
      "model_name": "LinearScaleModel",
      "state": {
       "_model_module_version": "^0.5",
       "_view_module_version": "^0.5",
       "stabilized": false
      }
     },
     "c129c0fbf5ad44d0aafb434661daf822": {
      "model_module": "bqplot",
      "model_module_version": "^0.5",
      "model_name": "AxisModel",
      "state": {
       "_model_module_version": "^0.5",
       "_view_module_version": "^0.5",
       "label": "Date",
       "scale": "IPY_MODEL_4254bcfb1b4a483ab62c8d8473d7456c",
       "side": "bottom",
       "tick_labels": {},
       "tick_values": null
      }
     },
     "c13868db8f8b4ec3b280b1eb337e29bc": {
      "model_module": "@jupyter-widgets/controls",
      "model_module_version": "1.5.0",
      "model_name": "VBoxModel",
      "state": {
       "children": [
        "IPY_MODEL_4b3c63e1327b47829b9cedebbb2043dd",
        "IPY_MODEL_13528458dd354c99b75ddded7e66dcfb"
       ],
       "layout": "IPY_MODEL_6c851015cfd043f984f44b9cdddecd1a"
      }
     },
     "c185891c62ed433691f3d36c2ac5f306": {
      "buffers": [
       {
        "data": "AAAAAAAAHEAAAAAAAAAzQAAAAAAAADdAAAAAAAAANkAAAAAAAIBBQAAAAAAAADRAAAAAAAAAKEAAAAAAAAAYQAAAAAAAAAhAAAAAAAAAAEA=",
        "encoding": "base64",
        "path": [
         "count",
         "value"
        ]
       },
       {
        "data": "ADQbY5LIhL8AlPvbBr6JvwDMzMQHqHe/AGDjRTc1bb8ACNe8QwFivwBg8DgrkE0/AKAOdA+kTD8AAOHIPd5GPwAAMzRceRW/ADD34Ankbb8ASOJKaX51vwCwA3vFOFA/ACZ+8wr8gb8AIPp16htyvwAqAY4KhoC/ANiogApNZz8AgpbgsMuBvwBIKWKnrGI/ANB5f2BXfj8AgAIQzPonvwDQiTZ7wlk/AMAGKwBATj8AANMt4b1sPwDQ8YkviGC/AGA4qVXsVT8AwBXtfrJPPwB4cQDEmYG/AER/CU0jfr8AIOwuBGViPwDsEv1Tl34/AODer2hDQT8AQGAnbdt4PwBGBnvSK4g/APiu0kvNeD8A6g0KBj2IPwDMQmRhRHm/AO6V68gPjb8A4FFdH7lBPwAAfz3pS4A/ADCCRdIXfT8A8GoSnvR3vwBg4x1sAEG/AID9XOFXWr8AZCUxceB2PwBo+RH1u3e/AJQbBxnSfz8AiFtoqlB1PwAerB2lyo8/AGAupv6xY78ATADH19eIPwAgqAiuLo8/AOQh/ybDiT8A7B1ndZGDPwCMU2PY738/AAwSelZicb8AsPyRUEuKvwDAR74J23I/AOiWuDYyZ78A1PpT+gR7PwD0iKv8MHA/AKiIwaQPfz8AAKy7KNUVPwCwKbWhFmY/AEzmzV+HeT8A9KsnlyKBvwAgs//p60A/AJDNELBPUD8AICEW+wFiPwDYHbarn2k/AIBa8A91QD8ACFSLGcJhvwC0oZf1NHS/AADhsuSHMj8AED7A1oVpvwDGuCYTpIG/AIS0WmMfgT8AMEMeKYFzvwDA2rzXXVM/ADiguKiBYD8AQF76R4dQPwAm/4EyBoS/ADxaALWadb8AYDJgCpWAvwAAEpiDeDK/AAA7/lAbez8Acq8De2SNPwDAywlzlEa/AKgsx3dUaL8A9JjMudp0vwBgv6nUCWg/AMhzvfncZL8AUAARb7hovwDoFAGzrnG/AHjS3xoya78AgE8ifxQ+vwBmpUwXLIA/AMBb8F2XbD8A3CGfwPiEvwB4+FG+Emc/AL5o4pRshr8AoKZhCedNPwD8JX7lwnK/AMx2pXjDgT8A2FN2gJh8PwDowia2JG2/AJCjBSZKXz8A1O3WwXh1vwCsdombrHI/AEh0xKoniL8ASG+npeV1vwAELx9V2ou/AMqrtvT2gj8AaNuu6uRlPwBSm4ZQwZI/AOQcHMSHfr8A5PQEef2VPwA8H6rAsYo/AKy9zIS+ez8ApOf+Dg56PwA+XflElYC/ANjeD4eVbz8A9P/xPVR0vwC2wimdvYG/AADMVOzjRj8AmpyZm4mCPwAacDYa3IG/AIBhBvjLTr8AgGw4Y4Y+PwDc3fAts36/AEq4eNmcib8AsMY03kR0vwCcAf9+yHA/AKx4zOwpdr8AEDCnAs90PwDAbfa0K3m/AJiyLCFkgb8ASLazIRp8vwAgtJg77lW/AFg7j4Wwar8AgEAhARhBvwAKvmQT/oK/AGTT+MdwfD8AAPK7vPoRPwCg7sJtE2Y/ALKoSSrKiT8ADB/dbf54PwDA/z2QtnQ/AALBdojcgL8A0DvuQuBUPw==",
        "encoding": "base64",
        "path": [
         "sample",
         "value"
        ]
       }
      ],
      "model_module": "bqplot",
      "model_module_version": "^0.5",
      "model_name": "HistModel",
      "state": {
       "_model_module_version": "^0.5",
       "_view_module_version": "^0.5",
       "count": {
        "dtype": "float64",
        "shape": [
         10
        ],
        "type": null
       },
       "midpoints": [
        -0.012407013567592929,
        -0.008840513798665262,
        -0.005274014029737595,
        -0.0017075142608099286,
        0.0018589855081177385,
        0.005425485277045405,
        0.008991985045973072,
        0.012558484814900739,
        0.016124984583828404
       ],
       "sample": {
        "dtype": "float64",
        "shape": [
         149
        ],
        "type": null
       },
       "scales": {
        "count": "IPY_MODEL_bc0c71952b394dd4a62578e5dc1c0c77",
        "sample": "IPY_MODEL_210c8d1daf7b443ebb610fcc3649e066"
       }
      }
     },
     "c22d46c87e314047b3b6cba0c66e873b": {
      "model_module": "bqplot",
      "model_module_version": "^0.5.10",
      "model_name": "LinearScaleModel",
      "state": {
       "_model_module_version": "^0.5.10",
       "_view_module_version": "^0.5.10",
       "allow_padding": false,
       "max": 1,
       "min": 0,
       "stabilized": false
      }
     },
     "c2c0e901223f4575847b41bc56caf0e8": {
      "model_module": "bqplot",
      "model_module_version": "^0.5.10",
      "model_name": "LinearScaleModel",
      "state": {
       "_model_module_version": "^0.5.10",
       "_view_module_version": "^0.5.10",
       "allow_padding": false,
       "max": 1,
       "min": 0,
       "stabilized": false
      }
     },
     "c4e69ff95799478eb828ef1a1fb9a3be": {
      "buffers": [
       {
        "data": "AACASa/9cEIAAECvAf5wQgAAABVU/nBCAADAeqb+cEIAAIDg+P5wQgAAQEZL/3BCAAAArJ3/cEIAAMAR8P9wQgAAgHdCAHFCAABA3ZQAcUIAAABD5wBxQgAAwKg5AXFCAACADowBcUIAAEB03gFxQgAAANowAnFCAADAP4MCcUIAAICl1QJxQgAAQAsoA3FCAAAAcXoDcUIAAMDWzANxQgAAgDwfBHFCAABAonEEcUIAAAAIxARxQgAAwG0WBXFCAACA02gFcUIAAEA5uwVxQgAAAJ8NBnFCAADABGAGcUIAAIBqsgZxQgAAQNAEB3FCAAAANlcHcUIAAMCbqQdxQgAAgAH8B3FCAABAZ04IcUIAAADNoAhxQgAAwDLzCHFCAACAmEUJcUIAAED+lwlxQgAAAGTqCXFCAADAyTwKcUIAAIAvjwpxQgAAQJXhCnFCAAAA+zMLcUIAAMBghgtxQgAAgMbYC3FCAABALCsMcUIAAACSfQxxQgAAwPfPDHFCAACAXSINcUIAAEDDdA1xQgAAACnHDXFCAADAjhkOcUIAAID0aw5xQgAAQFq+DnFCAAAAwBAPcUIAAMAlYw9xQgAAgIu1D3FCAABA8QcQcUIAAABXWhBxQgAAwLysEHFCAACAIv8QcUIAAECIURFxQgAAAO6jEXFCAADAU/YRcUIAAIC5SBJxQgAAQB+bEnFCAAAAhe0ScUIAAMDqPxNxQgAAgFCSE3FCAABAtuQTcUIAAAAcNxRxQgAAwIGJFHFCAACA59sUcUIAAEBNLhVxQgAAALOAFXFCAADAGNMVcUIAAIB+JRZxQgAAQOR3FnFCAAAASsoWcUIAAMCvHBdxQgAAgBVvF3FCAABAe8EXcUIAAADhExhxQgAAwEZmGHFCAACArLgYcUIAAEASCxlxQgAAAHhdGXFCAADA3a8ZcUIAAIBDAhpxQgAAQKlUGnFCAAAAD6cacUIAAMB0+RpxQgAAgNpLG3FCAABAQJ4bcUIAAACm8BtxQgAAwAtDHHFCAACAcZUccUIAAEDX5xxxQgAAAD06HXFCAADAoowdcUIAAIAI3x1xQgAAQG4xHnFCAAAA1IMecUIAAMA51h5xQgAAgJ8oH3FCAABABXsfcUIAAABrzR9xQgAAwNAfIHFCAACANnIgcUIAAECcxCBxQgAAAAIXIXFCAADAZ2khcUIAAIDNuyFxQgAAQDMOInFCAAAAmWAicUIAAMD+siJxQgAAgGQFI3FCAABAylcjcUIAAAAwqiNxQgAAwJX8I3FCAACA+04kcUIAAEBhoSRxQgAAAMfzJHFCAADALEYlcUIAAICSmCVxQgAAQPjqJXFCAAAAXj0mcUIAAMDDjyZxQgAAgCniJnFCAABAjzQncUIAAAD1hidxQgAAwFrZJ3FCAACAwCsocUIAAEAmfihxQgAAAIzQKHFCAADA8SIpcUIAAIBXdSlxQgAAQL3HKXFCAAAAIxoqcUIAAMCIbCpxQgAAgO6+KnFCAABAVBErcUIAAAC6YytxQgAAwB+2K3FCAACAhQgscUIAAEDrWixxQgAAAFGtLHFCAADAtv8scUIAAIAcUi1xQgAAQIKkLXFC",
        "encoding": "base64",
        "path": [
         "x",
         "value"
        ]
       },
       {
        "data": "MyAqE4XGWECP3tTEh15YQBxMTUbf/1dAEQPf9HLUV0D0FTt6P9tXQEaI80q8mVdAUFHZh+a0V0ATC26Gi8pXQINCmTStyVdA704jTA/ZV0BS0AP0iLhXQIPJBz3ZfVdAbkhM1r12V0DVig/bPlRXQG2uykqW/VZAIszDmU6hVkCeZP+DmMNWQE/5Von/QlZAjBWmrmZcVkDkPg/Jyn1WQFaJTTIudVZAlWIYFsPTVkDyeenXROlWQG7tyHtMTVdAbe+/odQ6V0DJnoRui21XQE/xjyy5dldAa+osChdDV0A44t3n0v1WQD6M4RJFEVdAdubmM/luV0Dd0z0KV3RXQLhaZoe+sldAUvgolxEvWEDUxAMy1G9YQNnEsgUp6VhApd8iroC9WEC/o2+sMT5YQM/2/ZDHVlhAAfSd/KHPWEDoaNS67yFZQLvN5ktlKVlAbq8Lpj5eWUCLF7dULWZZQKLAVY/fp1lAC9Ik6Y9NWUBf+budaXJZQDBWuvRavFlADob5fPUjWkABhUict+FZQClul0q5W1pAEn3e2MYLW0Agn5FKio9bQEhTlQzC+FtAwro9xpofXEB8MOqAChFcQA66Pt8nnFtAbMQd69OgW0DbkmdGP69bQN9ULm2YwFtAS9nBIdotXEDLPmp2e4VcQN2QaOzJhlxAbkgiz2zLXEAzdPTUyedcQJKBNlTAu1xAvrnX5MnLXED+ro3Z6MdcQDHaq93E5VxAeziZ4ZUoXUBn71JV1DJdQHA0kPvMFV1AkTB+mWbnXEAHR3SpBfZcQHl6og7111xAincniVpiXEB1XQ5AcLpcQDXiVu7sZlxAl/Q4gPu2XEDq8WhjBtNcQEfBX+Rx0VxAPn/rVoeDXEBqbGIYSHJcQCxA6tpX2ltAAMpIytPkW0DNAJpZ8v9bQDYDu0AWcVxAMw8aZVJ9XED2FFv0VWdcQBnfb+fXO1xAutFnkUg2XEDJiE1qM99bQN9YOr3a7FtAFM1OMcNzW0AmtZq3n2VbQIfGZjJdbltA11UUmRGJW0CqLkSSDPRbQB5xoXvDVFtAySo9L2N0W0B4bsf+6jlbQC77fGuTSFtANx9TYtYvW0Bkb1xXaYRbQJFxHC1LoFtASOSML32vW0BsqFzvGrJbQO7llZohR1tA3Nc3LoKHW0BraoUJlwlbQJ+jd2XEnVpAwVvpN99DWkBXrdBW/nBaQOqWQI2WTFpAMvjavEjgWkCeSexi2ahaQB++jpQ3eltAFEMzcpLnW0CW5AXHRHpcQL1s6T1qplxAJ9MVQU4yXECL23Kn/mVcQAFgGgM5dFxAGEWNuMEiXEDktecAwTJcQARjfmOUjFxAX5ykPfJlXEAgh6nNFZdcQOyTwpBcj1xAAPaiXLE4XEDe9+7GOs1bQOTKS2EfnltABKqyjnypW0CvAxj/d2JbQOqoJ82/l1tAeg9S60w4W0DJiK9wBIBaQMfxJJJnKVpA9padHdIUWkAkjvLRO+JZQBHOjnRezFlAe0L1yEB6WUA3b4Bgn6VZQIWfPIDiy1lAaSHKyykZWkCcGsWVsoFaQJerl12X9lpA9BSuDDI8W0BrXWjm5r9aQLFu4nwRolpA",
        "encoding": "base64",
        "path": [
         "y",
         "value"
        ]
       }
      ],
      "model_module": "bqplot",
      "model_module_version": "^0.5",
      "model_name": "LinesModel",
      "state": {
       "_model_module_version": "^0.5",
       "_view_module_version": "^0.5",
       "colors": [
        "red"
       ],
       "fill_colors": [],
       "labels": [
        "C1"
       ],
       "scales": {
        "x": "IPY_MODEL_789939804e90408ca0daf1fc11bbc9f5",
        "y": "IPY_MODEL_6894981a270e4d11abe74e94b0446450"
       },
       "x": {
        "dtype": "float64",
        "shape": [
         150
        ],
        "type": "date"
       },
       "y": {
        "dtype": "float64",
        "shape": [
         150
        ],
        "type": null
       }
      }
     },
     "c5055566b63648a6a709462a4d4deab8": {
      "model_module": "@jupyter-widgets/controls",
      "model_module_version": "1.5.0",
      "model_name": "VBoxModel",
      "state": {
       "children": [
        "IPY_MODEL_afaff69ff9a64737a4e27cffbd1d591d",
        "IPY_MODEL_9d1d15a480964811babc3135eb4f88f5"
       ],
       "layout": "IPY_MODEL_ed99b168fc3b42158c11518a995684ae"
      }
     },
     "c544e8eca4c7491a94f4e22a5b916aea": {
      "model_module": "bqplot",
      "model_module_version": "^0.5.3",
      "model_name": "BrushIntervalSelectorModel",
      "state": {
       "_model_module_version": "^0.5.3",
       "_view_module_version": "^0.5.3",
       "marks": [
        "IPY_MODEL_1d4c7ff50018485098466e8ca6ae0660",
        "IPY_MODEL_d670a57487a349019d117e15f6067f0b"
       ],
       "scale": "IPY_MODEL_227cddda0bd148f39b61a2b3d1def394"
      }
     },
     "c62fe89bf21a4bf2aa6d84aab02ee28a": {
      "model_module": "bqplot",
      "model_module_version": "^0.5.10",
      "model_name": "FastIntervalSelectorModel",
      "state": {
       "_model_module_version": "^0.5.10",
       "_view_module_version": "^0.5.10",
       "marks": [
        "IPY_MODEL_793f6ff6ead346618ebc9f4b11dd3403",
        "IPY_MODEL_54a4cc5a4f7541a6b27849a6b9dc2a0a"
       ],
       "scale": "IPY_MODEL_49acd346f6f2485baf6029128b6451ad"
      }
     },
     "c6d58bff35b841b4a7e662b46c3317f0": {
      "model_module": "bqplot",
      "model_module_version": "^0.5",
      "model_name": "AxisModel",
      "state": {
       "_model_module_version": "^0.5",
       "_view_module_version": "^0.5",
       "label": "Security 2",
       "orientation": "vertical",
       "scale": "IPY_MODEL_df52a23b309f49adb00632c3596fbc45",
       "side": "left",
       "tick_labels": {},
       "tick_values": null
      }
     },
     "c71187617c52490cb27ba6a865d7ca09": {
      "model_module": "bqplot",
      "model_module_version": "^0.5",
      "model_name": "AxisModel",
      "state": {
       "_model_module_version": "^0.5",
       "_view_module_version": "^0.5",
       "label": "Date",
       "scale": "IPY_MODEL_b8322d1f8b5e439e87d699c0236b39a0",
       "side": "bottom",
       "tick_labels": {},
       "tick_values": null
      }
     },
     "c73a36112836464a8bbd9a46b49b6bf2": {
      "model_module": "@jupyter-widgets/controls",
      "model_module_version": "1.5.0",
      "model_name": "VBoxModel",
      "state": {
       "children": [
        "IPY_MODEL_6472ae07ed6a4943b3afcec77bf7335c",
        "IPY_MODEL_2fb182be5ab64af4922b84bd4a780f50"
       ],
       "layout": "IPY_MODEL_69c5256746cf46549d74ffcb7aa46e3d"
      }
     },
     "c77b3f8399c54746b5c50d928e2cd548": {
      "model_module": "bqplot",
      "model_module_version": "^0.5.3",
      "model_name": "LinearScaleModel",
      "state": {
       "_model_module_version": "^0.5.3",
       "_view_module_version": "^0.5.3",
       "allow_padding": false,
       "max": 1,
       "min": 0,
       "stabilized": false
      }
     },
     "c7af0f90de444dec85250c3ff97aefd3": {
      "model_module": "@jupyter-widgets/controls",
      "model_module_version": "1.5.0",
      "model_name": "VBoxModel",
      "state": {
       "children": [
        "IPY_MODEL_8537169387244ab59e47db5282447510",
        "IPY_MODEL_30743430522b4917ac1853e2d844e037"
       ],
       "layout": "IPY_MODEL_560b2db8c71e447997120950931c4421"
      }
     },
     "c7d5bcce8eac4d36b7a9152ab183957d": {
      "buffers": [
       {
        "data": "AACASa/9cEIAAECvAf5wQgAAABVU/nBCAADAeqb+cEIAAIDg+P5wQgAAQEZL/3BCAAAArJ3/cEIAAMAR8P9wQgAAgHdCAHFCAABA3ZQAcUIAAABD5wBxQgAAwKg5AXFCAACADowBcUIAAEB03gFxQgAAANowAnFCAADAP4MCcUIAAICl1QJxQgAAQAsoA3FCAAAAcXoDcUIAAMDWzANxQgAAgDwfBHFCAABAonEEcUIAAAAIxARxQgAAwG0WBXFCAACA02gFcUIAAEA5uwVxQgAAAJ8NBnFCAADABGAGcUIAAIBqsgZxQgAAQNAEB3FCAAAANlcHcUIAAMCbqQdxQgAAgAH8B3FCAABAZ04IcUIAAADNoAhxQgAAwDLzCHFCAACAmEUJcUIAAED+lwlxQgAAAGTqCXFCAADAyTwKcUIAAIAvjwpxQgAAQJXhCnFCAAAA+zMLcUIAAMBghgtxQgAAgMbYC3FCAABALCsMcUIAAACSfQxxQgAAwPfPDHFCAACAXSINcUIAAEDDdA1xQgAAACnHDXFCAADAjhkOcUIAAID0aw5xQgAAQFq+DnFCAAAAwBAPcUIAAMAlYw9xQgAAgIu1D3FCAABA8QcQcUIAAABXWhBxQgAAwLysEHFCAACAIv8QcUIAAECIURFxQgAAAO6jEXFCAADAU/YRcUIAAIC5SBJxQgAAQB+bEnFCAAAAhe0ScUIAAMDqPxNxQgAAgFCSE3FCAABAtuQTcUIAAAAcNxRxQgAAwIGJFHFCAACA59sUcUIAAEBNLhVxQgAAALOAFXFCAADAGNMVcUIAAIB+JRZxQgAAQOR3FnFCAAAASsoWcUIAAMCvHBdxQgAAgBVvF3FCAABAe8EXcUIAAADhExhxQgAAwEZmGHFCAACArLgYcUIAAEASCxlxQgAAAHhdGXFCAADA3a8ZcUIAAIBDAhpxQgAAQKlUGnFCAAAAD6cacUIAAMB0+RpxQgAAgNpLG3FCAABAQJ4bcUIAAACm8BtxQgAAwAtDHHFCAACAcZUccUIAAEDX5xxxQgAAAD06HXFCAADAoowdcUIAAIAI3x1xQgAAQG4xHnFCAAAA1IMecUIAAMA51h5xQgAAgJ8oH3FCAABABXsfcUIAAABrzR9xQgAAwNAfIHFCAACANnIgcUIAAECcxCBxQgAAAAIXIXFCAADAZ2khcUIAAIDNuyFxQgAAQDMOInFCAAAAmWAicUIAAMD+siJxQgAAgGQFI3FCAABAylcjcUIAAAAwqiNxQgAAwJX8I3FCAACA+04kcUIAAEBhoSRxQgAAAMfzJHFCAADALEYlcUIAAICSmCVxQgAAQPjqJXFCAAAAXj0mcUIAAMDDjyZxQgAAgCniJnFCAABAjzQncUIAAAD1hidxQgAAwFrZJ3FCAACAwCsocUIAAEAmfihxQgAAAIzQKHFCAADA8SIpcUIAAIBXdSlxQgAAQL3HKXFCAAAAIxoqcUIAAMCIbCpxQgAAgO6+KnFCAABAVBErcUIAAAC6YytxQgAAwB+2K3FCAACAhQgscUIAAEDrWixxQgAAAFGtLHFCAADAtv8scUIAAIAcUi1xQgAAQIKkLXFC",
        "encoding": "base64",
        "path": [
         "x",
         "value"
        ]
       },
       {
        "data": "caYMcqLnWECSxo/PBudYQG+JcwWOEFlAJf8QR04SWUDq1eiLzidZQNhHdZQZJllAMQ/KPEMOWUD29ljf0O9YQFlw1N2q91hAHp68eovCWEBBnnxJUqZYQLMqyqrhcFhASAH8ofheWEByhRizJURYQAKz/2CMaVhA+vB/S8A9WEBuS6O8R/BXQDjM6qcIAlhAX4b+pxYKWEDB0J7p5T1YQHbB0PNMK1hAKoYxMcf6V0B0o6TvJuNXQO/BT6kX01dAT9wVBI+vV0DnTx+OlZ9XQEHMpz9RoldAH278LfV+V0AncndqBZxXQO3snkAQsFdAPqJJULmLV0Ah3jb+UXNXQIfZTurTZVdAfZXkijapV0ASHj9TBsRXQHUn8d0EtVdAjdcJfvraV0AtPpNhwJpXQBBaqP18o1dAmZAXw1Y+V0Dp+qEuIG9XQEI7lUn6dVdAI02flvZJV0AASZXw1z9XQFAF1oAWNldAAJEhm5d9V0Dc6wh4b3VXQHYHfd6qm1dAWptyyN2RV0BEcCrWp4hXQNr0QxrniVdAJAz12kAwV0DkMNu58ihXQDyLuZ1IjFdACxoVh35dV0CR0mYEGjxXQC47oFGyAldA5bUeXZ7gVkBBYgiwxOlWQFKQm0qCBVdAVG5lcBY+V0ArWNNwPG5XQHYyUNizJldAEE00hbYUV0Ack8bIdN1WQHfuEdGF9VZARVFKnR35VkC6r3Ngn9pWQPEykGHZ2VZAMH5r3gb7VkA18mAux+1WQPXV//B7IFdAQGoRP7gsV0BDl7ZVdzFXQE40SKbZ71ZAf65dDFKgVkAmeuEru61WQAauHzfnfVZAQsPmWC7qVkATcefFdOtWQI1m3+st6VZAhEdisgfzVkBqsUzFA+NWQOP3Rnwm0VZAT6PpCprSVkA/9Gxkpt1WQNGG7jNz6lZAE8lfysnwVkB4RKRF0SxXQIJm+2fBXFdASxOSwkIJV0C0WB2piy5XQERrhTArY1dAFBfa8750V0A1Lk70fGNXQBx3N5sdaFdA1qd8/EQfV0Byab4DbONWQH+Vu+gp3lZAEq8E29z/VkA6Z/B7bQtXQDYmDowpz1ZAxD/2cvv8VkDuLQ9fWvNWQFWllfrLxVZArX32V8fHVkAmbK2bxr9WQFxaP1H2s1ZAHrvcr9dvVkDUy+9CqN1WQNSx2csRHFdAFVP+SYAIV0DWhGFHQQFXQMP9obyt9VZAI2s6IUbuVkB1TLfQwP5WQKDWON5f1lZARBn6GssnV0BugRqP8CxXQCJpDPtns1dAalYPpYukV0DipuW/eKtXQA9AEuQ7bVdA3p9AxC9tV0DpHWCt0llXQBe5szNoLVdAhIGtmis4V0CifS1Q3HpXQP/RrP6FgldApqQz9KLVV0BUgT9zTA1YQK6ni1Tz51dAxvOc7mXXV0BqNmzVytZXQJmRQKl9rVdASlAf0KLNV0DeT+OCPt5XQGrsU0eewVdAgWjlmV/hV0DVEx0mlIxXQHTXW2QxfFdAojnzZYlDV0BtzkNyiUhXQA4nvEgQQ1dAEX93cHJPV0DEb/tgHz9XQP+f1k0FNVdAMdlTo/QnV0CYgSjhODBXQOp04Cj5O1dA",
        "encoding": "base64",
        "path": [
         "y",
         "value"
        ]
       }
      ],
      "model_module": "bqplot",
      "model_module_version": "^0.5.10",
      "model_name": "LinesModel",
      "state": {
       "_model_module_version": "^0.5.10",
       "_view_module_version": "^0.5.10",
       "fill_colors": [],
       "labels": [
        "C1"
       ],
       "scales": {
        "x": "IPY_MODEL_3c0aebfb53cd4e7882bde6136317be91",
        "y": "IPY_MODEL_67f44005c3d343d3a34c80b71af58b15"
       },
       "x": {
        "dtype": "float64",
        "shape": [
         150
        ],
        "type": "date"
       },
       "y": {
        "dtype": "float64",
        "shape": [
         150
        ],
        "type": null
       }
      }
     },
     "c9179073a6eb4ba2aa3fb8915eef10d0": {
      "model_module": "bqplot",
      "model_module_version": "^0.5.3",
      "model_name": "LinearScaleModel",
      "state": {
       "_model_module_version": "^0.5.3",
       "_view_module_version": "^0.5.3",
       "allow_padding": false,
       "max": 1,
       "min": 0,
       "stabilized": false
      }
     },
     "c942c7aadcf1494a95a78d0213cfd963": {
      "model_module": "@jupyter-widgets/controls",
      "model_module_version": "1.5.0",
      "model_name": "HTMLModel",
      "state": {
       "layout": "IPY_MODEL_cfdeae9787a24f24b83d53d5bf9ac399",
       "style": "IPY_MODEL_ed922fd25a934f4a822b4f1b9d413bc4",
       "value": "[]"
      }
     },
     "c947fd489ba246968b8adfb22ae4439d": {
      "model_module": "bqplot",
      "model_module_version": "^0.5.3",
      "model_name": "AxisModel",
      "state": {
       "_model_module_version": "^0.5.3",
       "_view_module_version": "^0.5.3",
       "grid_lines": "none",
       "label": "Price",
       "orientation": "vertical",
       "scale": "IPY_MODEL_29aab346a3ff413ea02e1a3338798ec3",
       "side": "left",
       "tick_values": null
      }
     },
     "c9c0e78fa19a42a9a4b019bf661902c3": {
      "model_module": "bqplot",
      "model_module_version": "^0.5.3",
      "model_name": "AxisModel",
      "state": {
       "_model_module_version": "^0.5.3",
       "_view_module_version": "^0.5.3",
       "label": "Date",
       "scale": "IPY_MODEL_b3e9902c109540d1aa38fbcd7c068aae",
       "side": "bottom",
       "tick_values": null
      }
     },
     "c9c76ac8ba4f4d91af35beec23e50607": {
      "model_module": "bqplot",
      "model_module_version": "^0.5.10",
      "model_name": "DateScaleModel",
      "state": {
       "_model_module_version": "^0.5.10",
       "_view_module_version": "^0.5.10",
       "min": "2006-06-01T00:00:00.000Z"
      }
     },
     "ca2949e951304092bf9797e3bec5b57c": {
      "model_module": "@jupyter-widgets/controls",
      "model_module_version": "1.5.0",
      "model_name": "HTMLModel",
      "state": {
       "layout": "IPY_MODEL_fa091a019e534cb09f5230bce0d845d0",
       "style": "IPY_MODEL_20579d6dde614944b42870a784db5e13",
       "value": "[]"
      }
     },
     "cb0b79ac9b2b4d9a8f44bc499a4ad418": {
      "model_module": "@jupyter-widgets/base",
      "model_module_version": "1.2.0",
      "model_name": "LayoutModel",
      "state": {}
     },
     "cc190b1b60a542eaab629c70e7e67056": {
      "model_module": "bqplot",
      "model_module_version": "^0.5.3",
      "model_name": "AxisModel",
      "state": {
       "_model_module_version": "^0.5.3",
       "_view_module_version": "^0.5.3",
       "label": "Returns",
       "scale": "IPY_MODEL_853961d363e648c983c8188666356db4",
       "side": "bottom",
       "tick_format": "0.2%",
       "tick_values": null
      }
     },
     "cc7b9d8935e545f893b2f9ff5ccc40db": {
      "model_module": "bqplot",
      "model_module_version": "^0.5.10",
      "model_name": "AxisModel",
      "state": {
       "_model_module_version": "^0.5.10",
       "_view_module_version": "^0.5.10",
       "grid_lines": "none",
       "label": "Freq",
       "orientation": "vertical",
       "scale": "IPY_MODEL_3592e2c0bd4e437c8b4edfd163eda3f2",
       "side": "left",
       "tick_values": null
      }
     },
     "cd9dd453ef134a6a8462d053a83dab4e": {
      "model_module": "bqplot",
      "model_module_version": "^0.5.3",
      "model_name": "LinearScaleModel",
      "state": {
       "_model_module_version": "^0.5.3",
       "_view_module_version": "^0.5.3",
       "stabilized": false
      }
     },
     "cdc65ba27c11475485eb19d89d33787b": {
      "buffers": [
       {
        "data": "AAAAKccNcUIAAMCOGQ5xQgAAgPRrDnFCAABAWr4OcUIAAADAEA9xQgAAwCVjD3FCAACAi7UPcUIAAEDxBxBxQgAAAFdaEHFCAADAvKwQcUIAAIAi/xBxQgAAQIhREXFCAAAA7qMRcUIAAMBT9hFxQgAAgLlIEnFCAABAH5sScUIAAACF7RJxQgAAwOo/E3FCAACAUJITcUIAAEC25BNxQgAAABw3FHFCAADAgYkUcUIAAIDn2xRxQgAAQE0uFXFCAAAAs4AVcUIAAMAY0xVxQgAAgH4lFnFCAABA5HcWcUIAAABKyhZxQgAAwK8cF3FCAACAFW8XcUIAAEB7wRdxQgAAAOETGHFCAADARmYYcUIAAICsuBhxQgAAQBILGXFCAAAAeF0ZcUIAAMDdrxlxQgAAgEMCGnFCAABAqVQacUIAAAAPpxpxQgAAwHT5GnFCAACA2ksbcUIAAEBAnhtxQgAAAKbwG3FCAADAC0MccUIAAIBxlRxxQgAAQNfnHHFCAAAAPTodcUIAAMCijB1xQgAAgAjfHXFCAABAbjEecUIAAADUgx5xQgAAwDnWHnFCAACAnygfcUIAAEAFex9xQgAAAGvNH3FCAADA0B8gcUIAAIA2ciBxQgAAQJzEIHFCAAAAAhchcUIAAMBnaSFxQgAAgM27IXFCAABAMw4icUIAAACZYCJxQgAAwP6yInFCAACAZAUjcUIAAEDKVyNxQgAAADCqI3FCAADAlfwjcUIAAID7TiRxQgAAQGGhJHFCAAAAx/MkcUIAAMAsRiVxQgAAgJKYJXFCAABA+OolcUIAAABePSZxQgAAwMOPJnFCAACAKeImcUIAAECPNCdxQgAAAPWGJ3FCAADAWtkncUIAAIDAKyhxQgAAQCZ+KHFCAAAAjNAocUIAAMDxIilxQgAAgFd1KXFCAABAvccpcUIAAAAjGipxQgAAwIhsKnFCAACA7r4qcUIAAEBUEStxQgAAALpjK3FCAADAH7YrcUIAAICFCCxxQgAAQOtaLHFCAAAAUa0scUIAAMC2/yxxQgAAgBxSLXFCAABAgqQtcUI=",
        "encoding": "base64",
        "path": [
         "x",
         "value"
        ]
       },
       {
        "data": "2vRDGucJWEAkDPXaQLBXQOQw27nyqFdAPIu5nUgMWEALGhWHft1XQJHSZgQavFdALjugUbKCV0DltR5dnmBXQEFiCLDEaVdAUpCbSoKFV0BUbmVwFr5XQCtY03A87ldAdjJQ2LOmV0AQTTSFtpRXQByTxsh0XVdAd+4R0YV1V0BFUUqdHXlXQLqvc2CfWldA8TKQYdlZV0AwfmveBntXQDXyYC7HbVdA9dX/8HugV0BAahE/uKxXQEOXtlV3sVdATjRIptlvV0B/rl0MUiBXQCZ64Su7LVdABq4fN+f9VkBCw+ZYLmpXQBNx58V0a1dAjWbf6y1pV0CER2KyB3NXQGqxTMUDY1dA4/dGfCZRV0BPo+kKmlJXQD/0bGSmXVdA0YbuM3NqV0ATyV/KyXBXQHhEpEXRrFdAgmb7Z8HcV0BLE5LCQolXQLRYHamLrldARGuFMCvjV0AUF9rzvvRXQDUuTvR841dAHHc3mx3oV0DWp3z8RJ9XQHJpvgNsY1dAf5W76CleV0ASrwTb3H9XQDpn8Htti1dANiYOjClPV0DEP/Zy+3xXQO4tD19ac1dAVaWV+stFV0CtffZXx0dXQCZsrZvGP1dAXFo/UfYzV0Aeu9yv1+9WQNTL70KoXVdA1LHZyxGcV0AVU/5JgIhXQNaEYUdBgVdAw/2hvK11V0AjazohRm5XQHVMt9DAfldAoNY43l9WV0BEGfoay6dXQG6BGo/wrFdAImkM+2czWEBqVg+liyRYQOKm5b94K1hAD0AS5DvtV0Den0DEL+1XQOkdYK3S2VdAF7mzM2itV0CEga2aK7hXQKJ9LVDc+ldA/9Gs/oUCWECmpDP0olVYQFSBP3NMjVhArqeLVPNnWEDG85zuZVdYQGo2bNXKVlhAmZFAqX0tWEBKUB/Qok1YQN5P44I+XlhAauxTR55BWECBaOWZX2FYQNUTHSaUDFhAdNdbZDH8V0CiOfNlicNXQG3OQ3KJyFdADie8SBDDV0ARf3dwcs9XQMRv+2Afv1dA/5/WTQW1V0Ax2VOj9KdXQJiBKOE4sFdA6nTgKPm7V0A=",
        "encoding": "base64",
        "path": [
         "y",
         "value"
        ]
       }
      ],
      "model_module": "bqplot",
      "model_module_version": "^0.5.10",
      "model_name": "LinesModel",
      "state": {
       "_model_module_version": "^0.5.10",
       "_view_module_version": "^0.5.10",
       "colors": [
        "blue"
       ],
       "fill_colors": [],
       "labels": [
        "C1"
       ],
       "scales": {
        "x": "IPY_MODEL_53038cd0cb284b98bcb6dbf29268d366",
        "y": "IPY_MODEL_e37a9b4ad3c949d686dca9a23de2a882"
       },
       "x": {
        "dtype": "float64",
        "shape": [
         100
        ],
        "type": "date"
       },
       "y": {
        "dtype": "float64",
        "shape": [
         100
        ],
        "type": null
       }
      }
     },
     "cddc3d6410cf47cb8d01710dfced36e6": {
      "model_module": "@jupyter-widgets/base",
      "model_module_version": "1.2.0",
      "model_name": "LayoutModel",
      "state": {}
     },
     "cdffef3496d84c009f7014fb8a207efa": {
      "buffers": [
       {
        "data": "AACASa/9cEIAAECvAf5wQgAAABVU/nBCAADAeqb+cEIAAIDg+P5wQgAAQEZL/3BCAAAArJ3/cEIAAMAR8P9wQgAAgHdCAHFCAABA3ZQAcUIAAABD5wBxQgAAwKg5AXFCAACADowBcUIAAEB03gFxQgAAANowAnFCAADAP4MCcUIAAICl1QJxQgAAQAsoA3FCAAAAcXoDcUIAAMDWzANxQgAAgDwfBHFCAABAonEEcUIAAAAIxARxQgAAwG0WBXFCAACA02gFcUIAAEA5uwVxQgAAAJ8NBnFCAADABGAGcUIAAIBqsgZxQgAAQNAEB3FCAAAANlcHcUIAAMCbqQdxQgAAgAH8B3FCAABAZ04IcUIAAADNoAhxQgAAwDLzCHFCAACAmEUJcUIAAED+lwlxQgAAAGTqCXFCAADAyTwKcUIAAIAvjwpxQgAAQJXhCnFCAAAA+zMLcUIAAMBghgtxQgAAgMbYC3FCAABALCsMcUIAAACSfQxxQgAAwPfPDHFCAACAXSINcUIAAEDDdA1xQgAAACnHDXFCAADAjhkOcUIAAID0aw5xQgAAQFq+DnFCAAAAwBAPcUIAAMAlYw9xQgAAgIu1D3FCAABA8QcQcUIAAABXWhBxQgAAwLysEHFCAACAIv8QcUIAAECIURFxQgAAAO6jEXFCAADAU/YRcUIAAIC5SBJxQgAAQB+bEnFCAAAAhe0ScUIAAMDqPxNxQgAAgFCSE3FCAABAtuQTcUIAAAAcNxRxQgAAwIGJFHFCAACA59sUcUIAAEBNLhVxQgAAALOAFXFCAADAGNMVcUIAAIB+JRZxQgAAQOR3FnFCAAAASsoWcUIAAMCvHBdxQgAAgBVvF3FCAABAe8EXcUIAAADhExhxQgAAwEZmGHFCAACArLgYcUIAAEASCxlxQgAAAHhdGXFCAADA3a8ZcUIAAIBDAhpxQgAAQKlUGnFCAAAAD6cacUIAAMB0+RpxQgAAgNpLG3FCAABAQJ4bcUIAAACm8BtxQgAAwAtDHHFCAACAcZUccUIAAEDX5xxxQgAAAD06HXFCAADAoowdcUIAAIAI3x1xQgAAQG4xHnFCAAAA1IMecUIAAMA51h5xQgAAgJ8oH3FCAABABXsfcUIAAABrzR9xQgAAwNAfIHFCAACANnIgcUIAAECcxCBxQgAAAAIXIXFCAADAZ2khcUIAAIDNuyFxQgAAQDMOInFCAAAAmWAicUIAAMD+siJxQgAAgGQFI3FCAABAylcjcUIAAAAwqiNxQgAAwJX8I3FCAACA+04kcUIAAEBhoSRxQgAAAMfzJHFCAADALEYlcUIAAICSmCVxQgAAQPjqJXFCAAAAXj0mcUIAAMDDjyZxQgAAgCniJnFCAABAjzQncUIAAAD1hidxQgAAwFrZJ3FCAACAwCsocUIAAEAmfihxQgAAAIzQKHFCAADA8SIpcUIAAIBXdSlxQgAAQL3HKXFCAAAAIxoqcUIAAMCIbCpxQgAAgO6+KnFCAABAVBErcUIAAAC6YytxQgAAwB+2K3FCAACAhQgscUIAAEDrWixxQgAAAFGtLHFCAADAtv8scUIAAIAcUi1xQgAAQIKkLXFC",
        "encoding": "base64",
        "path": [
         "x",
         "value"
        ]
       },
       {
        "data": "ASMAG4jiWECwpG0Wj/dYQAAjHEF3OllA6xJE5tFCWUBpnJlFNHBZQA41OJG7c1lAh5EIo9g6WUDRoSqbJipZQBJZTIgBUFlACNsdZfKyWEAx5d8ia55YQDNJ4dP4GlhAH2uHhXg0WEAk3SDZKOdXQErAu4NeNVhANWLjiqY1WECOv01bde5XQEjF8WVe21dAqh9Leg4MWEDj2ULN+Z5YQBjOJwGsvlhAWWiv0YF8WECDZrYyem5YQE6kE1HGMlhAXNpMupApWEAvqs2RpCtYQHpUXIGMMlhAmMrNVbICWEBOsLQgv0lYQJhIqqO2UlhAyVqTXfZYWEDIBAMNClVYQAwJRzz/I1hAbYxWLZp7WEAXoK2RAKtYQEgs6ajRf1hArmWtYs+lWEAw52fkryNYQJgqomGVI1hAyyhZCjKXV0AZkZyzGN5XQLpxnbKSxFdAXLmoT0xYV0DLB4X9QwhXQHyfzAJa7FZAkiKO9dhLV0BZbvdiY0lXQOq6ebspZ1dA8FjnJ05HV0C8K1F86zVXQIImT+bzQldA8oWB1fLFVkA9ZP1k1q5WQGI2lmUiR1dA3IydetUhV0AOJWlDIe1WQLQJXkvhbVZAqr9xHwAYVkAK6P6c+15WQFRE62qtg1ZAeFEFKBv6VkDcGwTYYR1XQNHtxCvNmVZACtHFNgGqVkDjwWeUDLRWQAYs7tupD1dAdI9CrIgtV0D8f0OGnftWQI2+rvQfPldA2t7NgiKUV0AOBU12DnBXQC6qqXz72FdAmrOTJp/RV0AQ7NyRs/RXQBeENI9ti1dAVgrnplIyV0DnddMddypXQMIKvliGI1dAEZJPDE/AV0Cie6aQI9tXQLqCV3rzqFdAsnjqzl7iV0CgH00pF+JXQLri4qtAj1dAOiho2S+dV0BQjwWA2MxXQBRhSkSJz1dAAoH0AwnPV0BjA5pN3gxYQHV7+3f9pVhA7B/qwOg5WEAHHrVpek5YQON+DtrdhVhArawq0oy6WEC4FDOi3IVYQCTUnypmj1hA60ksn/I1WEBWHpxpegdYQDkAdPEo8ldAKf42EF6OWEBoFXB6Br1YQO5q6CwGflhARE8SoH7AWEB8/K7DAN1YQDYl7EosyFhAvHogvty8WEAh6SNfLuBYQOFj3p+s11hASBBfSI+AWEDCDAWnyFxZQKQagH7ny1lAfZJeip2+WUC3cAXErsRZQNdUJNSjvFlA5MCLS4atWUDcsBiK2NhZQBGVz6/2SVlANMzrs8GpWUBkB2kzladZQCEZ1U9wcFpAtq1AYd5wWkD1QycEVGdaQO21BdOyLlpAp/mouuf1WUBmDCWXwbZZQE+a5ILAallAb5QDnD9yWUAExFB8jthZQKcxsmUa81lAMt9oJ4eOWkAg+wyO0r1aQKSZxSooZ1pAut+sKrwzWkC76souB1FaQEPfNcIZD1pAngKowBRDWkC0ypuT9WVaQKwTHE4HPFpAEnjttIddWkAdppjp6flZQL8o8Aed9VlAaFABH2ihWUCPCwWFmoFZQB5Ieo9hgFlAhD9rn12FWUAJZUxog2dZQFWshJaiLFlA2WGquEIEWUASwXb3vS5ZQI3t7uS+I1lA",
        "encoding": "base64",
        "path": [
         "y",
         "value"
        ]
       }
      ],
      "model_module": "bqplot",
      "model_module_version": "^0.5.10",
      "model_name": "LinesModel",
      "state": {
       "_model_module_version": "^0.5.10",
       "_view_module_version": "^0.5.10",
       "colors": [
        "red"
       ],
       "fill_colors": [],
       "labels": [
        "C1"
       ],
       "scales": {
        "x": "IPY_MODEL_b9e5a3ec74f9417480e14b3be70ea021",
        "y": "IPY_MODEL_3ff4cef77ab449268f1eb904a494ee9f"
       },
       "x": {
        "dtype": "float64",
        "shape": [
         150
        ],
        "type": "date"
       },
       "y": {
        "dtype": "float64",
        "shape": [
         150
        ],
        "type": null
       }
      }
     },
     "cf8ee31103594d3e883635133980e8b8": {
      "model_module": "bqplot",
      "model_module_version": "^0.5",
      "model_name": "AxisModel",
      "state": {
       "_model_module_version": "^0.5",
       "_view_module_version": "^0.5",
       "grid_lines": "none",
       "label": "Returns",
       "scale": "IPY_MODEL_d1e4967cbb264fada93917c186ba6a99",
       "side": "bottom",
       "tick_labels": {},
       "tick_values": null
      }
     },
     "cfa8dd29703e439da41f6be60162e140": {
      "model_module": "bqplot",
      "model_module_version": "^0.5.3",
      "model_name": "HandDrawModel",
      "state": {
       "_model_module_version": "^0.5.3",
       "_view_module_version": "^0.5.3",
       "lines": "IPY_MODEL_1d4c7ff50018485098466e8ca6ae0660"
      }
     },
     "cfdeae9787a24f24b83d53d5bf9ac399": {
      "model_module": "@jupyter-widgets/base",
      "model_module_version": "1.2.0",
      "model_name": "LayoutModel",
      "state": {}
     },
     "d108c7660481482486f397fbb9c34e0d": {
      "model_module": "bqplot",
      "model_module_version": "^0.5",
      "model_name": "LinearScaleModel",
      "state": {
       "_model_module_version": "^0.5",
       "_view_module_version": "^0.5",
       "allow_padding": false,
       "max": 1,
       "min": 0,
       "stabilized": false
      }
     },
     "d11fc07721ac4f06a1e6a6291fe928e7": {
      "model_module": "@jupyter-widgets/controls",
      "model_module_version": "1.5.0",
      "model_name": "HTMLModel",
      "state": {
       "layout": "IPY_MODEL_597cf48946ec4fb1b881588a18daa23f",
       "style": "IPY_MODEL_8147e729a7084c228931cb523cb50696",
       "value": "[]"
      }
     },
     "d1291d73ae5f4402aeced0d3dbf2777f": {
      "model_module": "@jupyter-widgets/base",
      "model_module_version": "1.2.0",
      "model_name": "LayoutModel",
      "state": {}
     },
     "d1ace1d3268e426c9bd8696dcac74ebb": {
      "model_module": "bqplot",
      "model_module_version": "^0.5.3",
      "model_name": "LinearScaleModel",
      "state": {
       "_model_module_version": "^0.5.3",
       "_view_module_version": "^0.5.3",
       "stabilized": false
      }
     },
     "d1e4967cbb264fada93917c186ba6a99": {
      "model_module": "bqplot",
      "model_module_version": "^0.5",
      "model_name": "LinearScaleModel",
      "state": {
       "_model_module_version": "^0.5",
       "_view_module_version": "^0.5",
       "stabilized": false
      }
     },
     "d229097f42684b7bbebf298d20df9b8e": {
      "model_module": "bqplot",
      "model_module_version": "^0.5.3",
      "model_name": "LinearScaleModel",
      "state": {
       "_model_module_version": "^0.5.3",
       "_view_module_version": "^0.5.3",
       "stabilized": false
      }
     },
     "d2516729ccaa4e388c31a37d52e5667e": {
      "model_module": "bqplot",
      "model_module_version": "^0.5.10",
      "model_name": "LinearScaleModel",
      "state": {
       "_model_module_version": "^0.5.10",
       "_view_module_version": "^0.5.10",
       "stabilized": false
      }
     },
     "d28e6a34683649bb9efd75b5d955d718": {
      "model_module": "@jupyter-widgets/base",
      "model_module_version": "1.2.0",
      "model_name": "LayoutModel",
      "state": {}
     },
     "d30c338420404ec38a0204c8d735c6f8": {
      "model_module": "bqplot",
      "model_module_version": "^0.5.3",
      "model_name": "LinearScaleModel",
      "state": {
       "_model_module_version": "^0.5.3",
       "_view_module_version": "^0.5.3",
       "stabilized": false
      }
     },
     "d3738d214a314a23a1d51043d2929ed9": {
      "model_module": "bqplot",
      "model_module_version": "^0.5",
      "model_name": "LinearScaleModel",
      "state": {
       "_model_module_version": "^0.5",
       "_view_module_version": "^0.5",
       "allow_padding": false,
       "max": 1,
       "min": 0,
       "stabilized": false
      }
     },
     "d3fe222e4fb348ad97304dc28a3cd646": {
      "model_module": "@jupyter-widgets/base",
      "model_module_version": "1.2.0",
      "model_name": "LayoutModel",
      "state": {}
     },
     "d4c350ff2f1c42a3962c4b0572660688": {
      "model_module": "bqplot",
      "model_module_version": "^0.5.10",
      "model_name": "LinearScaleModel",
      "state": {
       "_model_module_version": "^0.5.10",
       "_view_module_version": "^0.5.10",
       "allow_padding": false,
       "max": 1,
       "min": 0,
       "stabilized": false
      }
     },
     "d5d4d1e4950e4ec9bf0f853f459e6bfa": {
      "model_module": "@jupyter-widgets/base",
      "model_module_version": "1.2.0",
      "model_name": "LayoutModel",
      "state": {}
     },
     "d61ed72cb7c046259a84bf0a4b9ad00b": {
      "model_module": "@jupyter-widgets/base",
      "model_module_version": "1.2.0",
      "model_name": "LayoutModel",
      "state": {}
     },
     "d670a57487a349019d117e15f6067f0b": {
      "buffers": [
       {
        "data": "AACASa/9cEIAAECvAf5wQgAAABVU/nBCAADAeqb+cEIAAIDg+P5wQgAAQEZL/3BCAAAArJ3/cEIAAMAR8P9wQgAAgHdCAHFCAABA3ZQAcUIAAABD5wBxQgAAwKg5AXFCAACADowBcUIAAEB03gFxQgAAANowAnFCAADAP4MCcUIAAICl1QJxQgAAQAsoA3FCAAAAcXoDcUIAAMDWzANxQgAAgDwfBHFCAABAonEEcUIAAAAIxARxQgAAwG0WBXFCAACA02gFcUIAAEA5uwVxQgAAAJ8NBnFCAADABGAGcUIAAIBqsgZxQgAAQNAEB3FCAAAANlcHcUIAAMCbqQdxQgAAgAH8B3FCAABAZ04IcUIAAADNoAhxQgAAwDLzCHFCAACAmEUJcUIAAED+lwlxQgAAAGTqCXFCAADAyTwKcUIAAIAvjwpxQgAAQJXhCnFCAAAA+zMLcUIAAMBghgtxQgAAgMbYC3FCAABALCsMcUIAAACSfQxxQgAAwPfPDHFCAACAXSINcUIAAEDDdA1xQgAAACnHDXFCAADAjhkOcUIAAID0aw5xQgAAQFq+DnFCAAAAwBAPcUIAAMAlYw9xQgAAgIu1D3FCAABA8QcQcUIAAABXWhBxQgAAwLysEHFCAACAIv8QcUIAAECIURFxQgAAAO6jEXFCAADAU/YRcUIAAIC5SBJxQgAAQB+bEnFCAAAAhe0ScUIAAMDqPxNxQgAAgFCSE3FCAABAtuQTcUIAAAAcNxRxQgAAwIGJFHFCAACA59sUcUIAAEBNLhVxQgAAALOAFXFCAADAGNMVcUIAAIB+JRZxQgAAQOR3FnFCAAAASsoWcUIAAMCvHBdxQgAAgBVvF3FCAABAe8EXcUIAAADhExhxQgAAwEZmGHFCAACArLgYcUIAAEASCxlxQgAAAHhdGXFCAADA3a8ZcUIAAIBDAhpxQgAAQKlUGnFCAAAAD6cacUIAAMB0+RpxQgAAgNpLG3FCAABAQJ4bcUIAAACm8BtxQgAAwAtDHHFCAACAcZUccUIAAEDX5xxxQgAAAD06HXFCAADAoowdcUIAAIAI3x1xQgAAQG4xHnFCAAAA1IMecUIAAMA51h5xQgAAgJ8oH3FCAABABXsfcUIAAABrzR9xQgAAwNAfIHFCAACANnIgcUIAAECcxCBxQgAAAAIXIXFCAADAZ2khcUIAAIDNuyFxQgAAQDMOInFCAAAAmWAicUIAAMD+siJxQgAAgGQFI3FCAABAylcjcUIAAAAwqiNxQgAAwJX8I3FCAACA+04kcUIAAEBhoSRxQgAAAMfzJHFCAADALEYlcUIAAICSmCVxQgAAQPjqJXFCAAAAXj0mcUIAAMDDjyZxQgAAgCniJnFCAABAjzQncUIAAAD1hidxQgAAwFrZJ3FCAACAwCsocUIAAEAmfihxQgAAAIzQKHFCAADA8SIpcUIAAIBXdSlxQgAAQL3HKXFCAAAAIxoqcUIAAMCIbCpxQgAAgO6+KnFCAABAVBErcUIAAAC6YytxQgAAwB+2K3FCAACAhQgscUIAAEDrWixxQgAAAFGtLHFCAADAtv8scUIAAIAcUi1xQgAAQIKkLXFC",
        "encoding": "base64",
        "path": [
         "x",
         "value"
        ]
       },
       {
        "data": "Rj59ZvwIWUBksTmJObBYQLa1jjtdOFlAm3PVTzIjWUBxnk6XzRFZQAfpnG0xrllA4J5XaRDbWUC/gy17LN9ZQAgFP+/SKlpAyjHqjHncWUCi+iQ1G35aQMa29z8uGFpApBDo1PHbWUA5Wq1zTh9aQN0jp5YLDVpAG8Qnre7QWUAttT86aR5aQNpES2IJkllArAb4wYzVWUAsotC4drNZQLZ11GNyrVlATDFngrvBWUBW0C5TQ0VZQON7v8Wq1lhAAy33kJhXWUD5fcXVqaVZQDKZ2WT0fllAni4uwPJ4WUC0koFsBgJZQOvyQ4cjMVlA96/hjJh1WUA25JXkVrRZQGfTNN2x6llAUWkOrUk9WkCkQcrr4LJZQFlMl5CxBlpAq28/9qFOWkAA5u8BgwNaQK+FcclYHFpAmEq3ESMzWkBDYaBK3KpaQOEaF+O/klpAG9HZr4eRWkDGKBr49VpaQGUN0gUT4FpATCb/0owYW0CCRqFDpRVbQEAvMRnqXltAFujoirelW0Adc+JU9nxbQKz9jrA4ZVtANDKEjuHwWkASinIxIf5aQFhgawbElFpAgMWD8kCXWkDyJODLk5taQMuZLlvqVltAgbRGybsIW0CuocbXJZZaQESpiQRtKFtAE1OloZdDW0DkRLgaPo5bQG5fLDMTNFtAKETU3ggHW0AQ1bB4rAZbQLIyB0LIQltA1pwf36pdW0BMWY1TAmVbQKKg2fvhL1tAfPXxbqo5W0DQOowceFhbQJz2wvhCI1tAYG09jW0nW0BTiqwBpMdbQJu14cFW+ltAny4ff27/W0AIjoaWBOVbQFDNFznow1tAkNYaY3a7W0B7ZoB3afRbQPjuTwZvOVxAiPvXuUdvXECqCVR0c09cQD+TxqZ9D1xAq9Fmqm8NXEAlVcXlRyxcQI4/S8GVtVtAhzZCpfjUW0DPVUr6cdhbQOcu4ab/7FtAJfRpoRfLW0DQ7Rp3W09bQMdKdlSaG1tAq/nafhtAW0D8XlBUqENbQEcjhO96wFtAHsLla7rGW0CaTw+BfeBbQEy/ok/rjFtA+VmHcS/CW0D4j4jgovpaQJJIWmhmfFtApHRkNutJW0BfGORjfoVbQC6wusV3gVtAMTS1WqRMW0Cd5AVl3B9bQIVGXK87SltAkP86WFclW0DATLc55iRbQHxNic5bQFtAOWvEBQ+VW0Dw3CNqvaNbQJp+LPsgaVtAynZKy5v4W0DkVlxwPiNcQA88EijuE1xAmRQmI9xKXECXLmxgRRRcQHDHOx61zltAFVo7tDvjW0AYz8tO6aFbQFchMm7nYFtAQGeaFLRaW0Au4fYVDcNbQHT3Mtc8HVxA28yo65f1W0DaOjwx9pBbQOOORFH+SVtAjXcWPgr7W0B9nneTSO1bQNdWBJjWA1xAIBbPnyP4W0DX2HDlaDtcQLDSXE0ALFxAon0peegMXEDkI8uIzpVbQCILUBj7oVtAM9w1Xh5kW0C/8/ACHTVbQNDSN6FvRltASCk7hweCW0BQZZ5ulYRbQG/DCgXIXVtADSLwaCj/WkCGEJZeWLpaQBe48MfJbFpAg3HK0rtKWkD1QnU8AXtaQDNCx3aA8llA",
        "encoding": "base64",
        "path": [
         "y",
         "value"
        ]
       }
      ],
      "model_module": "bqplot",
      "model_module_version": "^0.5.3",
      "model_name": "LinesModel",
      "state": {
       "_model_module_version": "^0.5.3",
       "_view_module_version": "^0.5.3",
       "colors": [
        "red"
       ],
       "display_legend": true,
       "fill_colors": [],
       "labels": [
        "Security 2"
       ],
       "scales": {
        "x": "IPY_MODEL_2749b0d8996e41d780c62ba7cc457a3b",
        "y": "IPY_MODEL_b80ae359193644dca5eb2e0f2cb4c0c2"
       },
       "x": {
        "dtype": "float64",
        "shape": [
         150
        ],
        "type": "date"
       },
       "y": {
        "dtype": "float64",
        "shape": [
         150
        ],
        "type": null
       }
      }
     },
     "d708b6e6e43b40468828a5f2898a52d3": {
      "model_module": "bqplot",
      "model_module_version": "^0.5",
      "model_name": "FigureModel",
      "state": {
       "_model_module_version": "^0.5",
       "_view_module_version": "^0.5",
       "axes": [
        "IPY_MODEL_3d89869f83ff444290831e06b7bdb7d4",
        "IPY_MODEL_2b888d31d683490d9d8d5c18280ae34f",
        "IPY_MODEL_470eb1b1c1064603ba03d3d93ef5efa0"
       ],
       "interaction": "IPY_MODEL_2062bb59d1f74a11929c2d7c7dd3c1ef",
       "layout": "IPY_MODEL_cddc3d6410cf47cb8d01710dfced36e6",
       "marks": [
        "IPY_MODEL_0a5b7c33262e41fdafc23f2256db8fc5",
        "IPY_MODEL_bfcb14123037401f81aca1f4a52a33cf",
        "IPY_MODEL_2f7f20ca452d4ed293594648d1258bcf"
       ],
       "scale_x": "IPY_MODEL_ba6fdc614f184cbfaf36024b26f81925",
       "scale_y": "IPY_MODEL_262c1f64f61a4d20934cd22766718cfc"
      }
     },
     "d771f4ec62b04191bf0d59827c801239": {
      "model_module": "bqplot",
      "model_module_version": "^0.5",
      "model_name": "BrushIntervalSelectorModel",
      "state": {
       "_model_module_version": "^0.5",
       "_view_module_version": "^0.5",
       "marks": [
        "IPY_MODEL_0a5b7c33262e41fdafc23f2256db8fc5",
        "IPY_MODEL_bfcb14123037401f81aca1f4a52a33cf"
       ],
       "scale": "IPY_MODEL_be0a031081e448f9a11ee25f55ac28cd"
      }
     },
     "d8b5c1984ac247bca8e9d1f7c2ac6e15": {
      "model_module": "@jupyter-widgets/base",
      "model_module_version": "1.2.0",
      "model_name": "LayoutModel",
      "state": {}
     },
     "d8c2a110d3704b23a41a9fc3dc2611bf": {
      "model_module": "@jupyter-widgets/controls",
      "model_module_version": "1.5.0",
      "model_name": "VBoxModel",
      "state": {
       "children": [
        "IPY_MODEL_d11fc07721ac4f06a1e6a6291fe928e7",
        "IPY_MODEL_205c281503714b77825a341f55f228e6",
        "IPY_MODEL_74b743121fe64d139e48c3c52b2f4bf9"
       ],
       "layout": "IPY_MODEL_e59e4f115e9844df9a23c0cccec191c7"
      }
     },
     "d98f0efeca344c8fb4e96ada35bc73a2": {
      "model_module": "bqplot",
      "model_module_version": "^0.5.3",
      "model_name": "AxisModel",
      "state": {
       "_model_module_version": "^0.5.3",
       "_view_module_version": "^0.5.3",
       "label": "Security 1",
       "scale": "IPY_MODEL_34be4321d5b042a9b0869759a2ae7a3e",
       "side": "bottom",
       "tick_values": null
      }
     },
     "d9aa26fc528e4f478145b8b563d62619": {
      "model_module": "bqplot",
      "model_module_version": "^0.5",
      "model_name": "AxisModel",
      "state": {
       "_model_module_version": "^0.5",
       "_view_module_version": "^0.5",
       "label": "Security 1 Price",
       "orientation": "vertical",
       "scale": "IPY_MODEL_bcadb6de0b1f45ccae77b0d521ad6890",
       "side": "left",
       "tick_labels": {},
       "tick_values": null
      }
     },
     "db79f62bafb347ef8bafadd2e26681ab": {
      "model_module": "@jupyter-widgets/base",
      "model_module_version": "1.2.0",
      "model_name": "LayoutModel",
      "state": {}
     },
     "dc0b06e7331e4fd591914015007e3552": {
      "model_module": "@jupyter-widgets/base",
      "model_module_version": "1.2.0",
      "model_name": "LayoutModel",
      "state": {}
     },
     "dce2503f39d04305a5e2af5619a0df98": {
      "model_module": "bqplot",
      "model_module_version": "^0.5",
      "model_name": "LinearScaleModel",
      "state": {
       "_model_module_version": "^0.5",
       "_view_module_version": "^0.5",
       "allow_padding": false,
       "max": 1,
       "min": 0,
       "stabilized": false
      }
     },
     "dd7ff204fa6b4a9080f23082f5948697": {
      "model_module": "bqplot",
      "model_module_version": "^0.5.3",
      "model_name": "AxisModel",
      "state": {
       "_model_module_version": "^0.5.3",
       "_view_module_version": "^0.5.3",
       "label": "Security 2",
       "orientation": "vertical",
       "scale": "IPY_MODEL_cd9dd453ef134a6a8462d053a83dab4e",
       "side": "left",
       "tick_values": null
      }
     },
     "dda36f6fb6b3484ba696573704a13f0d": {
      "buffers": [
       {
        "data": "AAAAAAAA8D8=",
        "encoding": "base64",
        "path": [
         "default_opacities",
         "value"
        ]
       },
       {
        "data": "WoiU/IUfWUBDumk0IOdYQAJPyZTTLllA6+0yWGg2WUAUdELZDxlZQFpAaMDsVFlAe6Otam2DWUCJe14ZB6tZQFncswUQvllAn4Q8RwKhWUA5+4rEaPVZQIDaYYe7vVlAupZNiLmqWUA0JHRFp8FZQP9AFmO33FlAqueqPhm8WUDcShdkuudZQANj0jJ4mllAmHw+O5HMWUCbX+TGU9JZQIor/9d0zVlAbAnv0InLWUAUZevkE3ZZQMBaGEtfNFlAAs0119t/WUA0000/Br1ZQEjzxcGrzllAfVNKPoTYWUCQ3vZL659ZQMvkDiu6oVlAA8idyCfLWUBkklmux+VZQO2VKmaxJFpAKRY2VSlPWkCF2N0ure5ZQNLRSOevN1pA6Xtg2F1xWkATwDEL1WxaQA5Q+4W8gFpA7hhp5nCqWkARfLF+bP9aQGO69LEc9lpAAMI5VF7aWkCBdI9X5J5aQEKjohAi/1pAUOFejws1W0AjDwJvlSJbQAiIz71pQFtAT1UkuKddW0CJ9TmOEE5bQAlzBVi4SltAlpTIjCITW0AV6aUznhRbQEYvTAIG31pAVyUEaEr2WkBc1kk7Ct1aQOar/83XM1tAO7FiRUkFW0Dm0pp+sbpaQMRax+jpHltAQf1VAdwpW0BGXl9WOlRbQIzngbwDKFtApg71sXHqWkAum9p1ispaQIKV70ss31pAzXOWyrvmWkDYnY6H3OlaQGTtjRCkwVpA5x2pkTrQWkAbPCzJKOFaQAx39t4a2VpANP5ABIbhWkAShfzvDSBbQFLpUEXlQ1tAin03kRxQW0BRzsPlFkVbQPP/CwqqO1tAHu1s36U6W0BLtnxjG1ZbQIB9fDG/T1tAci8qSMpEW0Ans2HBnz5bQLkPT9qsD1tAheR9UX8AW0AuvEjW4QtbQHkVCsKkzFpAMSBXprLaWkDP5BuxtuBaQJQMzJmO4FpATAap0MTBWkDD7eaTCmhaQNhI9vslYFpAFc6SbYBzWkBOPZeOi4daQJQZCBv+wFpAoHTEXFeoWkDFV+PqQKZaQGgJZA6qelpATTDBB3CkWkBa70srJDFaQC5KcE7PlFpAHFH/Oi+JWkBsYEUu5K9aQO8pEkk0jVpAEV5qiKqaWkBsqOs7oWdaQI80aR1OmVpAiD8ZJDx4WkDsVweHW1VaQGovMA/ZfVpAouIULIOfWkCImMLfgbJaQEsmQ6XRa1pAlExZ/N+kWkCZqDaLmKxaQDTmGUFnn1pAN2/1fDPSWkA7RF5EpqJaQEF/PTYXj1pANrpJe7KMWkCaaoLI3llaQExxGVy+I1pAOycYHM0YWkDqLT3aXzlaQPMmI55UiVpAGcKk+9psWkCTiBrgAzVaQDAObjCdF1pAr/wJTUx0WkAW6P3kgFtaQEVma3lXUVpAtAVgc0hLWkDkwUwT4nVaQDC7faiDW1pA4uHya9BBWkC/JPsiDRJaQJmJO9MFCVpAolTSOqDWWUAOaHHQAbNZQGX6fwecu1lAxJAoGI2/WUBF+/9NE7JZQKysNKZdsFlAaRweiEx2WUCju9PA721ZQA1CqXCnNVlAGbR7vm5OWUBPELQ9XWtZQA34u6XbNFlA",
        "encoding": "base64",
        "path": [
         "x",
         "value"
        ]
       },
       {
        "data": "Rj59ZvwIWUBksTmJObBYQLa1jjtdOFlAm3PVTzIjWUBxnk6XzRFZQAfpnG0xrllA4J5XaRDbWUC/gy17LN9ZQAgFP+/SKlpAyjHqjHncWUCi+iQ1G35aQMa29z8uGFpApBDo1PHbWUA5Wq1zTh9aQN0jp5YLDVpAG8Qnre7QWUAttT86aR5aQNpES2IJkllArAb4wYzVWUAsotC4drNZQLZ11GNyrVlATDFngrvBWUBW0C5TQ0VZQON7v8Wq1lhAAy33kJhXWUD5fcXVqaVZQDKZ2WT0fllAni4uwPJ4WUC0koFsBgJZQOvyQ4cjMVlA96/hjJh1WUA25JXkVrRZQGfTNN2x6llAUWkOrUk9WkCkQcrr4LJZQFlMl5CxBlpAq28/9qFOWkAA5u8BgwNaQK+FcclYHFpAmEq3ESMzWkBDYaBK3KpaQOEaF+O/klpAG9HZr4eRWkDGKBr49VpaQGUN0gUT4FpATCb/0owYW0CCRqFDpRVbQEAvMRnqXltAFujoirelW0Adc+JU9nxbQKz9jrA4ZVtANDKEjuHwWkASinIxIf5aQFhgawbElFpAgMWD8kCXWkDyJODLk5taQMuZLlvqVltAgbRGybsIW0CuocbXJZZaQESpiQRtKFtAE1OloZdDW0DkRLgaPo5bQG5fLDMTNFtAKETU3ggHW0AQ1bB4rAZbQLIyB0LIQltA1pwf36pdW0BMWY1TAmVbQKKg2fvhL1tAfPXxbqo5W0DQOowceFhbQJz2wvhCI1tAYG09jW0nW0BTiqwBpMdbQJu14cFW+ltAny4ff27/W0AIjoaWBOVbQFDNFznow1tAkNYaY3a7W0B7ZoB3afRbQPjuTwZvOVxAiPvXuUdvXECqCVR0c09cQD+TxqZ9D1xAq9Fmqm8NXEAlVcXlRyxcQI4/S8GVtVtAhzZCpfjUW0DPVUr6cdhbQOcu4ab/7FtAJfRpoRfLW0DQ7Rp3W09bQMdKdlSaG1tAq/nafhtAW0D8XlBUqENbQEcjhO96wFtAHsLla7rGW0CaTw+BfeBbQEy/ok/rjFtA+VmHcS/CW0D4j4jgovpaQJJIWmhmfFtApHRkNutJW0BfGORjfoVbQC6wusV3gVtAMTS1WqRMW0Cd5AVl3B9bQIVGXK87SltAkP86WFclW0DATLc55iRbQHxNic5bQFtAOWvEBQ+VW0Dw3CNqvaNbQJp+LPsgaVtAynZKy5v4W0DkVlxwPiNcQA88EijuE1xAmRQmI9xKXECXLmxgRRRcQHDHOx61zltAFVo7tDvjW0AYz8tO6aFbQFchMm7nYFtAQGeaFLRaW0Au4fYVDcNbQHT3Mtc8HVxA28yo65f1W0DaOjwx9pBbQOOORFH+SVtAjXcWPgr7W0B9nneTSO1bQNdWBJjWA1xAIBbPnyP4W0DX2HDlaDtcQLDSXE0ALFxAon0peegMXEDkI8uIzpVbQCILUBj7oVtAM9w1Xh5kW0C/8/ACHTVbQNDSN6FvRltASCk7hweCW0BQZZ5ulYRbQG/DCgXIXVtADSLwaCj/WkCGEJZeWLpaQBe48MfJbFpAg3HK0rtKWkD1QnU8AXtaQDNCx3aA8llA",
        "encoding": "base64",
        "path": [
         "y",
         "value"
        ]
       }
      ],
      "model_module": "bqplot",
      "model_module_version": "^0.5.3",
      "model_name": "ScatterModel",
      "state": {
       "_model_module_version": "^0.5.3",
       "_view_module_version": "^0.5.3",
       "default_opacities": {
        "dtype": "float64",
        "shape": [
         1
        ],
        "type": null
       },
       "names": null,
       "scales": {
        "x": "IPY_MODEL_34be4321d5b042a9b0869759a2ae7a3e",
        "y": "IPY_MODEL_d229097f42684b7bbebf298d20df9b8e"
       },
       "scales_metadata": {
        "color": {
         "dimension": "color"
        },
        "opacity": {
         "dimension": "opacity"
        },
        "rotation": {
         "dimension": "rotation"
        },
        "size": {
         "dimension": "size"
        },
        "skew": {
         "dimension": "skew"
        },
        "x": {
         "dimension": "x",
         "orientation": "horizontal"
        },
        "y": {
         "dimension": "y",
         "orientation": "vertical"
        }
       },
       "x": {
        "dtype": "float64",
        "shape": [
         150
        ],
        "type": null
       },
       "y": {
        "dtype": "float64",
        "shape": [
         150
        ],
        "type": null
       }
      }
     },
     "ddf6d33eec074a8e8944ccdb143af601": {
      "model_module": "@jupyter-widgets/controls",
      "model_module_version": "1.5.0",
      "model_name": "DescriptionStyleModel",
      "state": {
       "description_width": ""
      }
     },
     "deac2c5fb0d04aa2b7d2e5f1cb8e3458": {
      "model_module": "bqplot",
      "model_module_version": "^0.5.10",
      "model_name": "AxisModel",
      "state": {
       "_model_module_version": "^0.5.10",
       "_view_module_version": "^0.5.10",
       "label": "X",
       "scale": "IPY_MODEL_4cd7739c1f3641ddb34e8466d8f865f3",
       "side": "bottom",
       "tick_values": null
      }
     },
     "df52a23b309f49adb00632c3596fbc45": {
      "model_module": "bqplot",
      "model_module_version": "^0.5",
      "model_name": "LinearScaleModel",
      "state": {
       "_model_module_version": "^0.5",
       "_view_module_version": "^0.5",
       "stabilized": false
      }
     },
     "dfca47db612a435db16b2f144c759f9e": {
      "model_module": "bqplot",
      "model_module_version": "^0.5.10",
      "model_name": "LinearScaleModel",
      "state": {
       "_model_module_version": "^0.5.10",
       "_view_module_version": "^0.5.10",
       "stabilized": false
      }
     },
     "e1982f070cf94697b160b93ca39cb85b": {
      "model_module": "bqplot",
      "model_module_version": "^0.5",
      "model_name": "LinearScaleModel",
      "state": {
       "_model_module_version": "^0.5",
       "_view_module_version": "^0.5",
       "allow_padding": false,
       "max": 1,
       "min": 0,
       "stabilized": false
      }
     },
     "e1bc1c1856824af8b22012b4b0f5fe1b": {
      "model_module": "@jupyter-widgets/controls",
      "model_module_version": "1.5.0",
      "model_name": "VBoxModel",
      "state": {
       "children": [
        "IPY_MODEL_133f0504843144c4992cd8475c140601",
        "IPY_MODEL_2714b759163a4c4a8b8692c3097a6d23"
       ],
       "layout": "IPY_MODEL_4be47324e5784eef9e1351682a406eb4"
      }
     },
     "e1eb902a282d4fda9192871bcb8a5252": {
      "model_module": "bqplot",
      "model_module_version": "^0.5.10",
      "model_name": "LinearScaleModel",
      "state": {
       "_model_module_version": "^0.5.10",
       "_view_module_version": "^0.5.10",
       "allow_padding": false,
       "max": 1,
       "min": 0,
       "stabilized": false
      }
     },
     "e1f1ad589a334f30acc208524b618821": {
      "model_module": "@jupyter-widgets/base",
      "model_module_version": "1.2.0",
      "model_name": "LayoutModel",
      "state": {}
     },
     "e22632f2ad6843e48171dcac653a1de5": {
      "model_module": "bqplot",
      "model_module_version": "^0.5",
      "model_name": "LinearScaleModel",
      "state": {
       "_model_module_version": "^0.5",
       "_view_module_version": "^0.5",
       "max": 10,
       "min": 5,
       "stabilized": false
      }
     },
     "e233c488df9e4d4c9723b5af7a2c2d55": {
      "buffers": [
       {
        "data": "AACASa/9cEIAAECvAf5wQgAAABVU/nBCAADAeqb+cEIAAIDg+P5wQgAAQEZL/3BCAAAArJ3/cEIAAMAR8P9wQgAAgHdCAHFCAABA3ZQAcUIAAABD5wBxQgAAwKg5AXFCAACADowBcUIAAEB03gFxQgAAANowAnFCAADAP4MCcUIAAICl1QJxQgAAQAsoA3FCAAAAcXoDcUIAAMDWzANxQgAAgDwfBHFCAABAonEEcUIAAAAIxARxQgAAwG0WBXFCAACA02gFcUIAAEA5uwVxQgAAAJ8NBnFCAADABGAGcUIAAIBqsgZxQgAAQNAEB3FCAAAANlcHcUIAAMCbqQdxQgAAgAH8B3FCAABAZ04IcUIAAADNoAhxQgAAwDLzCHFCAACAmEUJcUIAAED+lwlxQgAAAGTqCXFCAADAyTwKcUIAAIAvjwpxQgAAQJXhCnFCAAAA+zMLcUIAAMBghgtxQgAAgMbYC3FCAABALCsMcUIAAACSfQxxQgAAwPfPDHFCAACAXSINcUIAAEDDdA1xQgAAACnHDXFCAADAjhkOcUIAAID0aw5xQgAAQFq+DnFCAAAAwBAPcUIAAMAlYw9xQgAAgIu1D3FCAABA8QcQcUIAAABXWhBxQgAAwLysEHFCAACAIv8QcUIAAECIURFxQgAAAO6jEXFCAADAU/YRcUIAAIC5SBJxQgAAQB+bEnFCAAAAhe0ScUIAAMDqPxNxQgAAgFCSE3FCAABAtuQTcUIAAAAcNxRxQgAAwIGJFHFCAACA59sUcUIAAEBNLhVxQgAAALOAFXFCAADAGNMVcUIAAIB+JRZxQgAAQOR3FnFCAAAASsoWcUIAAMCvHBdxQgAAgBVvF3FCAABAe8EXcUIAAADhExhxQgAAwEZmGHFCAACArLgYcUIAAEASCxlxQgAAAHhdGXFCAADA3a8ZcUIAAIBDAhpxQgAAQKlUGnFCAAAAD6cacUIAAMB0+RpxQgAAgNpLG3FCAABAQJ4bcUIAAACm8BtxQgAAwAtDHHFCAACAcZUccUIAAEDX5xxxQgAAAD06HXFCAADAoowdcUIAAIAI3x1xQgAAQG4xHnFCAAAA1IMecUIAAMA51h5xQgAAgJ8oH3FCAABABXsfcUIAAABrzR9xQgAAwNAfIHFCAACANnIgcUIAAECcxCBxQgAAAAIXIXFCAADAZ2khcUIAAIDNuyFxQgAAQDMOInFCAAAAmWAicUIAAMD+siJxQgAAgGQFI3FCAABAylcjcUIAAAAwqiNxQgAAwJX8I3FCAACA+04kcUIAAEBhoSRxQgAAAMfzJHFCAADALEYlcUIAAICSmCVxQgAAQPjqJXFCAAAAXj0mcUIAAMDDjyZxQgAAgCniJnFCAABAjzQncUIAAAD1hidxQgAAwFrZJ3FCAACAwCsocUIAAEAmfihxQgAAAIzQKHFCAADA8SIpcUIAAIBXdSlxQgAAQL3HKXFCAAAAIxoqcUIAAMCIbCpxQgAAgO6+KnFCAABAVBErcUIAAAC6YytxQgAAwB+2K3FCAACAhQgscUIAAEDrWixxQgAAAFGtLHFCAADAtv8scUIAAIAcUi1xQgAAQIKkLXFC",
        "encoding": "base64",
        "path": [
         "x",
         "value"
        ]
       },
       {
        "data": "MyAqE4XGWECP3tTEh15YQBxMTUbf/1dAEQPf9HLUV0D0FTt6P9tXQEaI80q8mVdAUFHZh+a0V0ATC26Gi8pXQINCmTStyVdA704jTA/ZV0BS0AP0iLhXQIPJBz3ZfVdAbkhM1r12V0DVig/bPlRXQG2uykqW/VZAIszDmU6hVkCeZP+DmMNWQE/5Von/QlZAjBWmrmZcVkDkPg/Jyn1WQFaJTTIudVZAlWIYFsPTVkDyeenXROlWQG7tyHtMTVdAbe+/odQ6V0DJnoRui21XQE/xjyy5dldAa+osChdDV0A44t3n0v1WQD6M4RJFEVdAdubmM/luV0Dd0z0KV3RXQLhaZoe+sldAUvgolxEvWEDUxAMy1G9YQNnEsgUp6VhApd8iroC9WEC/o2+sMT5YQM/2/ZDHVlhAAfSd/KHPWEDoaNS67yFZQLvN5ktlKVlAbq8Lpj5eWUCLF7dULWZZQKLAVY/fp1lAC9Ik6Y9NWUBf+budaXJZQDBWuvRavFlADob5fPUjWkABhUict+FZQClul0q5W1pAEn3e2MYLW0Agn5FKio9bQEhTlQzC+FtAwro9xpofXEB8MOqAChFcQA66Pt8nnFtAbMQd69OgW0DbkmdGP69bQN9ULm2YwFtAS9nBIdotXEDLPmp2e4VcQN2QaOzJhlxAbkgiz2zLXEAzdPTUyedcQJKBNlTAu1xAvrnX5MnLXED+ro3Z6MdcQDHaq93E5VxAeziZ4ZUoXUBn71JV1DJdQHA0kPvMFV1AkTB+mWbnXEAHR3SpBfZcQHl6og7111xAincniVpiXEB1XQ5AcLpcQDXiVu7sZlxAl/Q4gPu2XEDq8WhjBtNcQEfBX+Rx0VxAPn/rVoeDXEBqbGIYSHJcQCxA6tpX2ltAAMpIytPkW0DNAJpZ8v9bQDYDu0AWcVxAMw8aZVJ9XED2FFv0VWdcQBnfb+fXO1xAutFnkUg2XEDJiE1qM99bQN9YOr3a7FtAFM1OMcNzW0AmtZq3n2VbQIfGZjJdbltA11UUmRGJW0CqLkSSDPRbQB5xoXvDVFtAySo9L2N0W0B4bsf+6jlbQC77fGuTSFtANx9TYtYvW0Bkb1xXaYRbQJFxHC1LoFtASOSML32vW0BsqFzvGrJbQO7llZohR1tA3Nc3LoKHW0BraoUJlwlbQJ+jd2XEnVpAwVvpN99DWkBXrdBW/nBaQOqWQI2WTFpAMvjavEjgWkCeSexi2ahaQB++jpQ3eltAFEMzcpLnW0CW5AXHRHpcQL1s6T1qplxAJ9MVQU4yXECL23Kn/mVcQAFgGgM5dFxAGEWNuMEiXEDktecAwTJcQARjfmOUjFxAX5ykPfJlXEAgh6nNFZdcQOyTwpBcj1xAAPaiXLE4XEDe9+7GOs1bQOTKS2EfnltABKqyjnypW0CvAxj/d2JbQOqoJ82/l1tAeg9S60w4W0DJiK9wBIBaQMfxJJJnKVpA9padHdIUWkAkjvLRO+JZQBHOjnRezFlAe0L1yEB6WUA3b4Bgn6VZQIWfPIDiy1lAaSHKyykZWkCcGsWVsoFaQJerl12X9lpA9BSuDDI8W0BrXWjm5r9aQLFu4nwRolpA",
        "encoding": "base64",
        "path": [
         "y",
         "value"
        ]
       }
      ],
      "model_module": "bqplot",
      "model_module_version": "^0.5",
      "model_name": "LinesModel",
      "state": {
       "_model_module_version": "^0.5",
       "_view_module_version": "^0.5",
       "colors": [
        "red"
       ],
       "fill_colors": [],
       "labels": [
        "C1"
       ],
       "scales": {
        "x": "IPY_MODEL_ef83ad0d2f18427aa81f06c465ab0041",
        "y": "IPY_MODEL_7e3a95003c414fc4a17e813fdce41eb1"
       },
       "x": {
        "dtype": "float64",
        "shape": [
         150
        ],
        "type": "date"
       },
       "y": {
        "dtype": "float64",
        "shape": [
         150
        ],
        "type": null
       }
      }
     },
     "e2d22a9ff835449db6d286ed6fb3c40f": {
      "model_module": "bqplot",
      "model_module_version": "^0.5",
      "model_name": "LinearScaleModel",
      "state": {
       "_model_module_version": "^0.5",
       "_view_module_version": "^0.5",
       "allow_padding": false,
       "max": 1,
       "min": 0,
       "stabilized": false
      }
     },
     "e3369d6427d04d9e950ebf1cf75508ec": {
      "model_module": "@jupyter-widgets/controls",
      "model_module_version": "1.5.0",
      "model_name": "VBoxModel",
      "state": {
       "children": [
        "IPY_MODEL_8f7454af973b4fe88541115754643f8d",
        "IPY_MODEL_c0720cf11b87421bab9900a2c869250a"
       ],
       "layout": "IPY_MODEL_f96895950d8249799f71ae72f39f232e"
      }
     },
     "e3796b997705415a8a219d5534674d39": {
      "model_module": "bqplot",
      "model_module_version": "^0.5.10",
      "model_name": "LinearScaleModel",
      "state": {
       "_model_module_version": "^0.5.10",
       "_view_module_version": "^0.5.10",
       "allow_padding": false,
       "max": 1,
       "min": 0,
       "stabilized": false
      }
     },
     "e37a9b4ad3c949d686dca9a23de2a882": {
      "model_module": "bqplot",
      "model_module_version": "^0.5.10",
      "model_name": "LinearScaleModel",
      "state": {
       "_model_module_version": "^0.5.10",
       "_view_module_version": "^0.5.10",
       "stabilized": false
      }
     },
     "e3add123a9824490bc8b7c24a6bbd370": {
      "model_module": "bqplot",
      "model_module_version": "^0.5",
      "model_name": "LinearScaleModel",
      "state": {
       "_model_module_version": "^0.5",
       "_view_module_version": "^0.5",
       "allow_padding": false,
       "max": 1,
       "min": 0,
       "stabilized": false
      }
     },
     "e40587ab79264befaf4a23d2dda87c36": {
      "model_module": "@jupyter-widgets/controls",
      "model_module_version": "1.5.0",
      "model_name": "HTMLModel",
      "state": {
       "layout": "IPY_MODEL_0c5a7b27ef6d4cf79e4627e01dfbb99a",
       "style": "IPY_MODEL_b3b425e8b69c467eb610e17c8b5b09d4",
       "value": "None"
      }
     },
     "e4264c95595349caaad1000c12b1a666": {
      "model_module": "bqplot",
      "model_module_version": "^0.5",
      "model_name": "AxisModel",
      "state": {
       "_model_module_version": "^0.5",
       "_view_module_version": "^0.5",
       "label": "Security 2",
       "orientation": "vertical",
       "scale": "IPY_MODEL_eabbf710806d4363aedea281bbd2fe3e",
       "side": "left",
       "tick_labels": {},
       "tick_values": null
      }
     },
     "e470dba691af4891b8bac238683673f3": {
      "model_module": "bqplot",
      "model_module_version": "^0.5.10",
      "model_name": "LinearScaleModel",
      "state": {
       "_model_module_version": "^0.5.10",
       "_view_module_version": "^0.5.10",
       "stabilized": false
      }
     },
     "e4aa58d16bd748239975a2859b838884": {
      "model_module": "bqplot",
      "model_module_version": "^0.5",
      "model_name": "PanZoomModel",
      "state": {
       "_model_module_version": "^0.5",
       "_view_module_version": "^0.5",
       "scales": {
        "x": [
         "IPY_MODEL_b8322d1f8b5e439e87d699c0236b39a0"
        ],
        "y": [
         "IPY_MODEL_84d5e273113149a8bc202a495221df01"
        ]
       }
      }
     },
     "e4df246ba1604e63a20dada3fbdfa46d": {
      "model_module": "@jupyter-widgets/base",
      "model_module_version": "1.2.0",
      "model_name": "LayoutModel",
      "state": {}
     },
     "e4e16614ae324283898deda047dce810": {
      "model_module": "@jupyter-widgets/base",
      "model_module_version": "1.2.0",
      "model_name": "LayoutModel",
      "state": {}
     },
     "e55186390768453498aa3c104a8e9c34": {
      "model_module": "bqplot",
      "model_module_version": "^0.5",
      "model_name": "AxisModel",
      "state": {
       "_model_module_version": "^0.5",
       "_view_module_version": "^0.5",
       "grid_lines": "none",
       "label": "Price",
       "orientation": "vertical",
       "scale": "IPY_MODEL_84d5e273113149a8bc202a495221df01",
       "side": "left",
       "tick_labels": {},
       "tick_values": null
      }
     },
     "e558ee5a92fe4a5abdb8f13b230adc35": {
      "model_module": "bqplot",
      "model_module_version": "^0.5.10",
      "model_name": "LinearScaleModel",
      "state": {
       "_model_module_version": "^0.5.10",
       "_view_module_version": "^0.5.10",
       "allow_padding": false,
       "max": 1,
       "min": 0,
       "stabilized": false
      }
     },
     "e59e4f115e9844df9a23c0cccec191c7": {
      "model_module": "@jupyter-widgets/base",
      "model_module_version": "1.2.0",
      "model_name": "LayoutModel",
      "state": {}
     },
     "e5a361ccc6c94aa9bec8b8fc8e524fca": {
      "model_module": "@jupyter-widgets/controls",
      "model_module_version": "1.5.0",
      "model_name": "DescriptionStyleModel",
      "state": {
       "description_width": ""
      }
     },
     "e5d959f1c80e4747ae275b128d6a3f02": {
      "model_module": "@jupyter-widgets/controls",
      "model_module_version": "1.5.0",
      "model_name": "VBoxModel",
      "state": {
       "children": [
        "IPY_MODEL_a0bd4dc41a5a40549e9836f46b1c45d8",
        "IPY_MODEL_2614995fcc4042de838e4602e09db89e"
       ],
       "layout": "IPY_MODEL_d28e6a34683649bb9efd75b5d955d718"
      }
     },
     "e629b0de09a24665874ef9f14779dedc": {
      "model_module": "bqplot",
      "model_module_version": "^0.5.3",
      "model_name": "LinearScaleModel",
      "state": {
       "_model_module_version": "^0.5.3",
       "_view_module_version": "^0.5.3",
       "allow_padding": false,
       "max": 1,
       "min": 0,
       "stabilized": false
      }
     },
     "e6aa6260148143aa832415497385a927": {
      "model_module": "bqplot",
      "model_module_version": "^0.5.3",
      "model_name": "FastIntervalSelectorModel",
      "state": {
       "_model_module_version": "^0.5.3",
       "_view_module_version": "^0.5.3",
       "marks": [
        "IPY_MODEL_4c358b600f194795aa528083d56550cf"
       ],
       "scale": "IPY_MODEL_9393898c9d6446ebbca43acec12ffbca"
      }
     },
     "e79bef1effb540c48160eda4ee0ca023": {
      "model_module": "@jupyter-widgets/controls",
      "model_module_version": "1.5.0",
      "model_name": "VBoxModel",
      "state": {
       "children": [
        "IPY_MODEL_fedbf55d943c4efaa23f119ac1954a3f",
        "IPY_MODEL_b9f518ad81a041378b6c18cd54376e8f"
       ],
       "layout": "IPY_MODEL_3822be39964044d8946c25c2b7ccb1d3"
      }
     },
     "e803bf8797e64be28ba4c64567f87fac": {
      "model_module": "@jupyter-widgets/base",
      "model_module_version": "1.2.0",
      "model_name": "LayoutModel",
      "state": {}
     },
     "e83a2a39b5824b2b823eced66396e557": {
      "model_module": "bqplot",
      "model_module_version": "^0.5.3",
      "model_name": "AxisModel",
      "state": {
       "_model_module_version": "^0.5.3",
       "_view_module_version": "^0.5.3",
       "label": "Security 1 Price",
       "orientation": "vertical",
       "scale": "IPY_MODEL_2a1a9a94e08343b48e18d416d0cf6b1d",
       "side": "left",
       "tick_values": null
      }
     },
     "e8d5892824eb4464944d166e4302de4c": {
      "model_module": "@jupyter-widgets/controls",
      "model_module_version": "1.5.0",
      "model_name": "DescriptionStyleModel",
      "state": {
       "description_width": ""
      }
     },
     "e989aade92e9457db3e8af06f7e32736": {
      "model_module": "bqplot",
      "model_module_version": "^0.5.10",
      "model_name": "LinearScaleModel",
      "state": {
       "_model_module_version": "^0.5.10",
       "_view_module_version": "^0.5.10",
       "stabilized": false
      }
     },
     "ea4ffe0e455d4ef68caff2bac2644e88": {
      "model_module": "bqplot",
      "model_module_version": "^0.5.10",
      "model_name": "PanZoomModel",
      "state": {
       "_model_module_version": "^0.5.10",
       "_view_module_version": "^0.5.10",
       "scales": {
        "x": [
         "IPY_MODEL_49acd346f6f2485baf6029128b6451ad"
        ],
        "y": [
         "IPY_MODEL_79a5040e826f4a84989e2d141a08db84"
        ]
       }
      }
     },
     "ea79b0da75ba43a4ab242aeaba644a90": {
      "model_module": "bqplot",
      "model_module_version": "^0.5",
      "model_name": "LinearScaleModel",
      "state": {
       "_model_module_version": "^0.5",
       "_view_module_version": "^0.5",
       "allow_padding": false,
       "max": 1,
       "min": 0,
       "stabilized": false
      }
     },
     "ea7ca3580b1844f3a4a6db6af18121e3": {
      "model_module": "bqplot",
      "model_module_version": "^0.5.3",
      "model_name": "FigureModel",
      "state": {
       "_model_module_version": "^0.5.3",
       "_view_module_version": "^0.5.3",
       "axes": [
        "IPY_MODEL_c9c0e78fa19a42a9a4b019bf661902c3",
        "IPY_MODEL_1fdca9fad0ec486794c75a7330d6033c"
       ],
       "interaction": "IPY_MODEL_f4aa393bd09242d89532b32a6b5817f8",
       "layout": "IPY_MODEL_dc0b06e7331e4fd591914015007e3552",
       "marks": [
        "IPY_MODEL_4582153644f342cf97cb079835a52008"
       ],
       "scale_x": "IPY_MODEL_f467993a09404086abacd82429dbf9ad",
       "scale_y": "IPY_MODEL_635020a721c045e08db2317ef9b1dc7a",
       "title": "Brush Selector Selected Indices Example"
      }
     },
     "eabbf710806d4363aedea281bbd2fe3e": {
      "model_module": "bqplot",
      "model_module_version": "^0.5",
      "model_name": "LinearScaleModel",
      "state": {
       "_model_module_version": "^0.5",
       "_view_module_version": "^0.5",
       "stabilized": false
      }
     },
     "ead9622af32b45aa9964b59bde8a23c8": {
      "model_module": "@jupyter-widgets/base",
      "model_module_version": "1.2.0",
      "model_name": "LayoutModel",
      "state": {}
     },
     "eaf61741b13d410387026acfdbb869db": {
      "model_module": "@jupyter-widgets/base",
      "model_module_version": "1.2.0",
      "model_name": "LayoutModel",
      "state": {}
     },
     "eb4e6cf0be544f14a7ecefa4c4be37f6": {
      "model_module": "bqplot",
      "model_module_version": "^0.5",
      "model_name": "LinearScaleModel",
      "state": {
       "_model_module_version": "^0.5",
       "_view_module_version": "^0.5",
       "allow_padding": false,
       "max": 1,
       "min": 0,
       "stabilized": false
      }
     },
     "eb96886cea6b438ead6fde6512698675": {
      "model_module": "bqplot",
      "model_module_version": "^0.5.10",
      "model_name": "AxisModel",
      "state": {
       "_model_module_version": "^0.5.10",
       "_view_module_version": "^0.5.10",
       "label": "Date",
       "scale": "IPY_MODEL_49acd346f6f2485baf6029128b6451ad",
       "side": "bottom",
       "tick_values": null
      }
     },
     "ebb04b041015451aa11eca0b53a9c540": {
      "model_module": "bqplot",
      "model_module_version": "^0.5.10",
      "model_name": "AxisModel",
      "state": {
       "_model_module_version": "^0.5.10",
       "_view_module_version": "^0.5.10",
       "label": "Security 1",
       "scale": "IPY_MODEL_7b56e8ba34e04b528ab32ac8c490667a",
       "side": "bottom",
       "tick_values": null
      }
     },
     "ecf886a362864c6a94adbba890ee951f": {
      "model_module": "@jupyter-widgets/controls",
      "model_module_version": "1.5.0",
      "model_name": "HTMLModel",
      "state": {
       "layout": "IPY_MODEL_b544bb1bd12a42ef92dd6ccd2a9dac14",
       "style": "IPY_MODEL_1f9df3539eaa4c6e848bb08bd9853a1a",
       "value": "[]"
      }
     },
     "ed855254b97c46a199207fb5540eae77": {
      "model_module": "bqplot",
      "model_module_version": "^0.5.10",
      "model_name": "MultiSelectorModel",
      "state": {
       "_model_module_version": "^0.5.10",
       "_view_module_version": "^0.5.10",
       "color": null,
       "marks": [
        "IPY_MODEL_a103e3f466ac4f5798ed7a36e771b307"
       ],
       "names": [
        "int1",
        "int2",
        "int3"
       ],
       "orientation": "horizontal",
       "scale": "IPY_MODEL_45b0ad85db3a4deea92f405f3a003164"
      }
     },
     "ed922fd25a934f4a822b4f1b9d413bc4": {
      "model_module": "@jupyter-widgets/controls",
      "model_module_version": "1.5.0",
      "model_name": "DescriptionStyleModel",
      "state": {
       "description_width": ""
      }
     },
     "ed999e24b47f4262bfc3ac306723b157": {
      "model_module": "bqplot",
      "model_module_version": "^0.5.10",
      "model_name": "BrushIntervalSelectorModel",
      "state": {
       "_model_module_version": "^0.5.10",
       "_view_module_version": "^0.5.10",
       "marks": [
        "IPY_MODEL_1a19389f129049f1b2cacb70e1f23ad4"
       ],
       "scale": "IPY_MODEL_2d7f55a4fa2f4c5796dd7e9d07c12429"
      }
     },
     "ed99b168fc3b42158c11518a995684ae": {
      "model_module": "@jupyter-widgets/base",
      "model_module_version": "1.2.0",
      "model_name": "LayoutModel",
      "state": {}
     },
     "eee8794a938d4e50a793fdbcca70004d": {
      "model_module": "bqplot",
      "model_module_version": "^0.5.3",
      "model_name": "IndexSelectorModel",
      "state": {
       "_model_module_version": "^0.5.3",
       "_view_module_version": "^0.5.3",
       "marks": [
        "IPY_MODEL_1d4c7ff50018485098466e8ca6ae0660",
        "IPY_MODEL_d670a57487a349019d117e15f6067f0b"
       ],
       "scale": "IPY_MODEL_2749b0d8996e41d780c62ba7cc457a3b"
      }
     },
     "ef03097f70e94fe3af64232d9354b12f": {
      "model_module": "bqplot",
      "model_module_version": "^0.5.3",
      "model_name": "IndexSelectorModel",
      "state": {
       "_model_module_version": "^0.5.3",
       "_view_module_version": "^0.5.3",
       "marks": [
        "IPY_MODEL_5494d197d792469082c290dce239e532",
        "IPY_MODEL_4555fdab016243ad89e3db04c3629d4b"
       ],
       "scale": "IPY_MODEL_b28acc94d9074e86b5fb07a4a7224697"
      }
     },
     "ef1e83122544437b988b09f7d9da796f": {
      "model_module": "@jupyter-widgets/base",
      "model_module_version": "1.2.0",
      "model_name": "LayoutModel",
      "state": {}
     },
     "ef83ad0d2f18427aa81f06c465ab0041": {
      "model_module": "bqplot",
      "model_module_version": "^0.5",
      "model_name": "DateScaleModel",
      "state": {
       "_model_module_version": "^0.5",
       "_view_module_version": "^0.5",
       "min": "2007-01-01T00:00:00.000Z"
      }
     },
     "f04b5e171b7e4e939a6890403a45781f": {
      "model_module": "bqplot",
      "model_module_version": "^0.5",
      "model_name": "AxisModel",
      "state": {
       "_model_module_version": "^0.5",
       "_view_module_version": "^0.5",
       "label": "Date",
       "scale": "IPY_MODEL_fbedfa4a17a84ca2bf0177c96efd6caa",
       "side": "bottom",
       "tick_labels": {},
       "tick_values": null
      }
     },
     "f04ede71fbca4acbbf1a3f42052ff4cd": {
      "model_module": "@jupyter-widgets/base",
      "model_module_version": "1.2.0",
      "model_name": "LayoutModel",
      "state": {}
     },
     "f0582d0ab48c4476824ac355d098fa40": {
      "model_module": "bqplot",
      "model_module_version": "^0.5.10",
      "model_name": "LinearScaleModel",
      "state": {
       "_model_module_version": "^0.5.10",
       "_view_module_version": "^0.5.10",
       "allow_padding": false,
       "max": 1,
       "min": 0,
       "stabilized": false
      }
     },
     "f1ed770e81f04f51b07489db1106a8f1": {
      "model_module": "@jupyter-widgets/base",
      "model_module_version": "1.2.0",
      "model_name": "LayoutModel",
      "state": {}
     },
     "f2f18bc385f8438998a8fc9e592b0355": {
      "model_module": "@jupyter-widgets/base",
      "model_module_version": "1.2.0",
      "model_name": "LayoutModel",
      "state": {}
     },
     "f362af000ea04360a27c756ba38738a4": {
      "model_module": "bqplot",
      "model_module_version": "^0.5",
      "model_name": "LinearScaleModel",
      "state": {
       "_model_module_version": "^0.5",
       "_view_module_version": "^0.5",
       "allow_padding": false,
       "max": 1,
       "min": 0,
       "stabilized": false
      }
     },
     "f374bdfbcc4f44269278f47313931984": {
      "model_module": "bqplot",
      "model_module_version": "^0.5.10",
      "model_name": "AxisModel",
      "state": {
       "_model_module_version": "^0.5.10",
       "_view_module_version": "^0.5.10",
       "grid_lines": "none",
       "label": "Price",
       "orientation": "vertical",
       "scale": "IPY_MODEL_e470dba691af4891b8bac238683673f3",
       "side": "left",
       "tick_values": null
      }
     },
     "f3b45e9925104a55ad94c8e4183f54c4": {
      "model_module": "bqplot",
      "model_module_version": "^0.5.3",
      "model_name": "PanZoomModel",
      "state": {
       "_model_module_version": "^0.5.3",
       "_view_module_version": "^0.5.3",
       "scales": {
        "x": [
         "IPY_MODEL_663fd5d262b94af298e3a0f4d0e0eba5"
        ],
        "y": [
         "IPY_MODEL_29aab346a3ff413ea02e1a3338798ec3"
        ]
       }
      }
     },
     "f3de96c2f40a4ce6881005d9d5f02025": {
      "model_module": "@jupyter-widgets/base",
      "model_module_version": "1.2.0",
      "model_name": "LayoutModel",
      "state": {}
     },
     "f44da1d7c147487bbb0a81e25915a809": {
      "model_module": "bqplot",
      "model_module_version": "^0.5.3",
      "model_name": "BrushSelectorModel",
      "state": {
       "_model_module_version": "^0.5.3",
       "_view_module_version": "^0.5.3",
       "color": "red",
       "marks": [
        "IPY_MODEL_dda36f6fb6b3484ba696573704a13f0d"
       ],
       "x_scale": "IPY_MODEL_34be4321d5b042a9b0869759a2ae7a3e",
       "y_scale": "IPY_MODEL_d229097f42684b7bbebf298d20df9b8e"
      }
     },
     "f467993a09404086abacd82429dbf9ad": {
      "model_module": "bqplot",
      "model_module_version": "^0.5.3",
      "model_name": "LinearScaleModel",
      "state": {
       "_model_module_version": "^0.5.3",
       "_view_module_version": "^0.5.3",
       "allow_padding": false,
       "max": 1,
       "min": 0,
       "stabilized": false
      }
     },
     "f4951078d0aa4e959335684e9116ef46": {
      "model_module": "@jupyter-widgets/base",
      "model_module_version": "1.2.0",
      "model_name": "LayoutModel",
      "state": {}
     },
     "f4aa393bd09242d89532b32a6b5817f8": {
      "model_module": "bqplot",
      "model_module_version": "^0.5.3",
      "model_name": "BrushIntervalSelectorModel",
      "state": {
       "_model_module_version": "^0.5.3",
       "_view_module_version": "^0.5.3",
       "color": "FireBrick",
       "marks": [
        "IPY_MODEL_4582153644f342cf97cb079835a52008"
       ],
       "scale": "IPY_MODEL_b3e9902c109540d1aa38fbcd7c068aae"
      }
     },
     "f4fa59b17cca4d5db6af7f26708bbac2": {
      "model_module": "@jupyter-widgets/controls",
      "model_module_version": "1.5.0",
      "model_name": "DescriptionStyleModel",
      "state": {
       "description_width": ""
      }
     },
     "f5ee83e89a5b4a07a94d2538a44661f9": {
      "model_module": "@jupyter-widgets/controls",
      "model_module_version": "1.5.0",
      "model_name": "VBoxModel",
      "state": {
       "children": [
        "IPY_MODEL_ecf886a362864c6a94adbba890ee951f",
        "IPY_MODEL_ab1ac65aee1c469bbdb3d6a3689d5969"
       ],
       "layout": "IPY_MODEL_99f583bb58144e85bd751d4273b629fc"
      }
     },
     "f6c2d8c7e2df49e2993938b724ff7b67": {
      "model_module": "bqplot",
      "model_module_version": "^0.5",
      "model_name": "FastIntervalSelectorModel",
      "state": {
       "_model_module_version": "^0.5",
       "_view_module_version": "^0.5",
       "marks": [
        "IPY_MODEL_fd16053c57dc4cd79669deb6e54e916a",
        "IPY_MODEL_8ebf9ffaec4e411ca55f1d31f51980e5"
       ],
       "scale": "IPY_MODEL_949e748851724e688a7a770620849d15"
      }
     },
     "f70b4b13ac3c4da88caba7418e3bf8e0": {
      "model_module": "bqplot",
      "model_module_version": "^0.5",
      "model_name": "LinearScaleModel",
      "state": {
       "_model_module_version": "^0.5",
       "_view_module_version": "^0.5",
       "stabilized": false
      }
     },
     "f82ded87eec74adebd0c8ba0ccda3dde": {
      "model_module": "bqplot",
      "model_module_version": "^0.5",
      "model_name": "AxisModel",
      "state": {
       "_model_module_version": "^0.5",
       "_view_module_version": "^0.5",
       "label": "Security 1 Price",
       "orientation": "vertical",
       "scale": "IPY_MODEL_3e85c15d06a84576890c761851cfff73",
       "side": "left",
       "tick_labels": {},
       "tick_values": null
      }
     },
     "f8cb49f7f56a42c0aceafb59d151fcb0": {
      "model_module": "@jupyter-widgets/base",
      "model_module_version": "1.2.0",
      "model_name": "LayoutModel",
      "state": {}
     },
     "f8fafd5b163443c997631a727d798636": {
      "model_module": "bqplot",
      "model_module_version": "^0.5",
      "model_name": "AxisModel",
      "state": {
       "_model_module_version": "^0.5",
       "_view_module_version": "^0.5",
       "grid_lines": "none",
       "label": "Freq",
       "orientation": "vertical",
       "scale": "IPY_MODEL_bc0c71952b394dd4a62578e5dc1c0c77",
       "side": "left",
       "tick_labels": {},
       "tick_values": null
      }
     },
     "f910b758e5854c4abc8f064d23ff4958": {
      "model_module": "@jupyter-widgets/controls",
      "model_module_version": "1.5.0",
      "model_name": "VBoxModel",
      "state": {
       "children": [
        "IPY_MODEL_a1bbce6647914cd69110dd77481ac1a0",
        "IPY_MODEL_855968a00ff5417db8902bfa3123dbe5"
       ],
       "layout": "IPY_MODEL_b215b2754ced49db970795616f8e0a2b"
      }
     },
     "f925327153c04f04ac844848c5ac226d": {
      "model_module": "@jupyter-widgets/controls",
      "model_module_version": "1.5.0",
      "model_name": "VBoxModel",
      "state": {
       "children": [
        "IPY_MODEL_f9ca239c28c147239e9a56b5c4c55e5d",
        "IPY_MODEL_d708b6e6e43b40468828a5f2898a52d3",
        "IPY_MODEL_65d8c137d5454f29b3205b9b6911c083"
       ],
       "layout": "IPY_MODEL_1f4c70d3f7ed4bc3b3ef0322205c4b5b"
      }
     },
     "f96895950d8249799f71ae72f39f232e": {
      "model_module": "@jupyter-widgets/base",
      "model_module_version": "1.2.0",
      "model_name": "LayoutModel",
      "state": {}
     },
     "f9abfebde6ca4865805903606d650f95": {
      "model_module": "bqplot",
      "model_module_version": "^0.5",
      "model_name": "LinearScaleModel",
      "state": {
       "_model_module_version": "^0.5",
       "_view_module_version": "^0.5",
       "allow_padding": false,
       "max": 1,
       "min": 0,
       "stabilized": false
      }
     },
     "f9ad46510bf64b72bcb4f14ae0a29598": {
      "model_module": "bqplot",
      "model_module_version": "^0.5",
      "model_name": "FastIntervalSelectorModel",
      "state": {
       "_model_module_version": "^0.5",
       "_view_module_version": "^0.5",
       "marks": [
        "IPY_MODEL_bfcb14123037401f81aca1f4a52a33cf",
        "IPY_MODEL_0a5b7c33262e41fdafc23f2256db8fc5"
       ],
       "scale": "IPY_MODEL_fd564f48c10d44b3901f35cd009e2bed"
      }
     },
     "f9ca239c28c147239e9a56b5c4c55e5d": {
      "model_module": "@jupyter-widgets/controls",
      "model_module_version": "1.5.0",
      "model_name": "HTMLModel",
      "state": {
       "layout": "IPY_MODEL_0acde1c1338a49758d1375f79495271e",
       "style": "IPY_MODEL_813b41b7458a4237a6f74429792f2ef8",
       "value": "[]"
      }
     },
     "fa091a019e534cb09f5230bce0d845d0": {
      "model_module": "@jupyter-widgets/base",
      "model_module_version": "1.2.0",
      "model_name": "LayoutModel",
      "state": {}
     },
     "faecefede70e40de89bf42a68bc4f0db": {
      "model_module": "bqplot",
      "model_module_version": "^0.5.3",
      "model_name": "FigureModel",
      "state": {
       "_model_module_version": "^0.5.3",
       "_view_module_version": "^0.5.3",
       "axes": [
        "IPY_MODEL_4c005a4b22a64c5cbbd6751d98b7eb9d",
        "IPY_MODEL_7abfcac48b6044ca986ae340e7b5494c",
        "IPY_MODEL_6c37dac2db814772bc567d326f42d00d"
       ],
       "interaction": "IPY_MODEL_cfa8dd29703e439da41f6be60162e140",
       "layout": "IPY_MODEL_43afa868b9324486b449e9ad54eb7aa4",
       "marks": [
        "IPY_MODEL_1d4c7ff50018485098466e8ca6ae0660",
        "IPY_MODEL_d670a57487a349019d117e15f6067f0b",
        "IPY_MODEL_1af5582ab1394e5cb29d7ba81ce5b4a7"
       ],
       "scale_x": "IPY_MODEL_658d21accc624d5197f6111d89cb3430",
       "scale_y": "IPY_MODEL_4f19e2f3ba754d5586cccf7778084d88"
      }
     },
     "fbb1cd379e3e4a2a84179e054de95487": {
      "model_module": "bqplot",
      "model_module_version": "^0.5.10",
      "model_name": "IndexSelectorModel",
      "state": {
       "_model_module_version": "^0.5.10",
       "_view_module_version": "^0.5.10",
       "marks": [
        "IPY_MODEL_9ef09bbadc154ff3aaecbfce767553d2",
        "IPY_MODEL_cdc65ba27c11475485eb19d89d33787b"
       ],
       "scale": "IPY_MODEL_53038cd0cb284b98bcb6dbf29268d366"
      }
     },
     "fbedfa4a17a84ca2bf0177c96efd6caa": {
      "model_module": "bqplot",
      "model_module_version": "^0.5",
      "model_name": "DateScaleModel",
      "state": {
       "_model_module_version": "^0.5",
       "_view_module_version": "^0.5",
       "min": "2006-06-01T00:00:00.000Z"
      }
     },
     "fcc41b7e49ab49c6a5664d19a6b9a94a": {
      "model_module": "bqplot",
      "model_module_version": "^0.5",
      "model_name": "LinearScaleModel",
      "state": {
       "_model_module_version": "^0.5",
       "_view_module_version": "^0.5",
       "allow_padding": false,
       "max": 1,
       "min": 0,
       "stabilized": false
      }
     },
     "fd11a18cc2f1484dab15cd1ebf64a36e": {
      "model_module": "bqplot",
      "model_module_version": "^0.5.10",
      "model_name": "LinearScaleModel",
      "state": {
       "_model_module_version": "^0.5.10",
       "_view_module_version": "^0.5.10",
       "stabilized": false
      }
     },
     "fd16053c57dc4cd79669deb6e54e916a": {
      "buffers": [
       {
        "data": "AACASa/9cEIAAECvAf5wQgAAABVU/nBCAADAeqb+cEIAAIDg+P5wQgAAQEZL/3BCAAAArJ3/cEIAAMAR8P9wQgAAgHdCAHFCAABA3ZQAcUIAAABD5wBxQgAAwKg5AXFCAACADowBcUIAAEB03gFxQgAAANowAnFCAADAP4MCcUIAAICl1QJxQgAAQAsoA3FCAAAAcXoDcUIAAMDWzANxQgAAgDwfBHFCAABAonEEcUIAAAAIxARxQgAAwG0WBXFCAACA02gFcUIAAEA5uwVxQgAAAJ8NBnFCAADABGAGcUIAAIBqsgZxQgAAQNAEB3FCAAAANlcHcUIAAMCbqQdxQgAAgAH8B3FCAABAZ04IcUIAAADNoAhxQgAAwDLzCHFCAACAmEUJcUIAAED+lwlxQgAAAGTqCXFCAADAyTwKcUIAAIAvjwpxQgAAQJXhCnFCAAAA+zMLcUIAAMBghgtxQgAAgMbYC3FCAABALCsMcUIAAACSfQxxQgAAwPfPDHFCAACAXSINcUIAAEDDdA1xQgAAACnHDXFCAADAjhkOcUIAAID0aw5xQgAAQFq+DnFCAAAAwBAPcUIAAMAlYw9xQgAAgIu1D3FCAABA8QcQcUIAAABXWhBxQgAAwLysEHFCAACAIv8QcUIAAECIURFxQgAAAO6jEXFCAADAU/YRcUIAAIC5SBJxQgAAQB+bEnFCAAAAhe0ScUIAAMDqPxNxQgAAgFCSE3FCAABAtuQTcUIAAAAcNxRxQgAAwIGJFHFCAACA59sUcUIAAEBNLhVxQgAAALOAFXFCAADAGNMVcUIAAIB+JRZxQgAAQOR3FnFCAAAASsoWcUIAAMCvHBdxQgAAgBVvF3FCAABAe8EXcUIAAADhExhxQgAAwEZmGHFCAACArLgYcUIAAEASCxlxQgAAAHhdGXFCAADA3a8ZcUIAAIBDAhpxQgAAQKlUGnFCAAAAD6cacUIAAMB0+RpxQgAAgNpLG3FCAABAQJ4bcUIAAACm8BtxQgAAwAtDHHFCAACAcZUccUIAAEDX5xxxQgAAAD06HXFCAADAoowdcUIAAIAI3x1xQgAAQG4xHnFCAAAA1IMecUIAAMA51h5xQgAAgJ8oH3FCAABABXsfcUIAAABrzR9xQgAAwNAfIHFCAACANnIgcUIAAECcxCBxQgAAAAIXIXFCAADAZ2khcUIAAIDNuyFxQgAAQDMOInFCAAAAmWAicUIAAMD+siJxQgAAgGQFI3FCAABAylcjcUIAAAAwqiNxQgAAwJX8I3FCAACA+04kcUIAAEBhoSRxQgAAAMfzJHFCAADALEYlcUIAAICSmCVxQgAAQPjqJXFCAAAAXj0mcUIAAMDDjyZxQgAAgCniJnFCAABAjzQncUIAAAD1hidxQgAAwFrZJ3FCAACAwCsocUIAAEAmfihxQgAAAIzQKHFCAADA8SIpcUIAAIBXdSlxQgAAQL3HKXFCAAAAIxoqcUIAAMCIbCpxQgAAgO6+KnFCAABAVBErcUIAAAC6YytxQgAAwB+2K3FCAACAhQgscUIAAEDrWixxQgAAAFGtLHFCAADAtv8scUIAAIAcUi1xQgAAQIKkLXFC",
        "encoding": "base64",
        "path": [
         "x",
         "value"
        ]
       },
       {
        "data": "ZJFdPFfbWEDts2hJF5tYQFaLygJpTFhASVWqf5YoWECnr3iXkxJYQORsrP8LBVhA6mA81pgKWEDE20OS+g9YQKbD/XpHFFhAzfpQN8YTWEA8yRc1U/1XQKJ2yMou3VdAAwf1BTzjV0AqMk2/xK1XQOmgmxYHk1dAV1kHMYhiV0Bs+D6ElXNXQAV0qKWkP1dA9xUu2DlNV0DwWlPlk3lXQKJkDXZ6eFdA2Tk5v+6BV0BrUkicfYdXQOHFf0ipnFdA5cYWnXmQV0AWgV5rjZhXQFWwbv5lnldAMfcwbahqV0CCod83tj5XQKLKOrcWTFdAsO5basx4V0AHL5gI93tXQFJUA3KPoFdAJq8b0l7oV0Cuhf3qig1YQE6+FtvZVlhAr2vjaogwWEB5f1edR9lXQGTZRDGV3FdAqRkxa2INWEDWJQxYRjlYQERfP8McFVhARfd1F+oRWEDIIffMAwhYQELNdYh4KlhASFsFIroGWEABpRJMsjZYQOONjK8JV1hA4PTQsYS4WEBrQmRPUqlYQDlNmgpf9lhAJbSn+WlYWUCdK0KEjKpZQHfyg0Sh6VlARXWqHo4dWkDi6A+aPQFaQC+Fo51QrFlABBxfyaPKWUAl9vZv+LdZQPvlM6SL41lAfeFMucv9WUCEdX33cTBaQHJN+OoAMVpAnYBsYBtDWkCidkDuI21aQBr5vjHGNFpA37jzUT04WkAdmefg7D5aQBJfsw62TVpATiM9dc5iWkDa33woM2ZaQLr+iMyQV1pAzZy9H2E2WkBkzD7uRjhaQLeAv6FlI1pAvCyFswHqWUDOklwptCFaQJsmPZPsAVpAIH/ieMwJWkBhJFFXPhdaQEpVFyz8HVpAm2iAhu7cWUA/nYgDGrpZQDolH6L9hFlAcXbVVSaDWUB+o5Pmg65ZQFRx7j+NDVpAchhSHPUIWkCQlAgwMfVZQMG/Zttx01lA/CYlq9/mWUAcMAwCAtZZQDIS40sUwllAPnedjKylWUBCpBrb6Y9ZQD6P7R7pjFlAvFPQGsTAWUBIezHi0NdZQMMMMUZqlFlADaAKluKmWUAlwWfkX19ZQLecaP1NZVlAJuLBG5hHWUBlIUFt+H9ZQLowkz60rVlAOeGhAFyWWUCcVZiJ4aJZQERuq1CRgFlAxI2Wd2aeWUAzug6PgFFZQHNru9zxLllAsR9UEtzXWEAOwYusBhNZQPWZKGg0JFlApeLpbyybWUDZOqK1fmpZQJIRqzW791lAcp9ngvJOWkASv7mjuHxaQLkVWMf9p1pAj1p7ivVwWkCnRztrG4taQO8YoCt3aVpAUKpczSUvWkC88gbz1DNaQHY/UNbScFpAR8q/Uw02WkBcz0Smvy9aQO+uiC3fMlpA0dTigcoAWkCLfI7tDq5ZQGeZ5WSbjVlAZtT3SHeoWUDxnjX8BIVZQPoo9w1LpllA2F5o1BB+WUDAwAHw4UZZQO1+UYKjGllAZrxdywoSWUAAd52MKv1YQI0tT3bU+VhAMPdiSs++WEClER3R8upYQLHAlNJi61hAwWcrt5n8WEAF1IPnqE1ZQP71+7JOdVlAjISuL1mWWUDDkszPo2BZQA5ciEnsaFlA",
        "encoding": "base64",
        "path": [
         "y",
         "value"
        ]
       }
      ],
      "model_module": "bqplot",
      "model_module_version": "^0.5",
      "model_name": "LinesModel",
      "state": {
       "_model_module_version": "^0.5",
       "_view_module_version": "^0.5",
       "colors": [
        "orange"
       ],
       "fill_colors": [],
       "labels": [
        "C1"
       ],
       "scales": {
        "x": "IPY_MODEL_949e748851724e688a7a770620849d15",
        "y": "IPY_MODEL_bcadb6de0b1f45ccae77b0d521ad6890"
       },
       "x": {
        "dtype": "float64",
        "shape": [
         150
        ],
        "type": "date"
       },
       "y": {
        "dtype": "float64",
        "shape": [
         150
        ],
        "type": null
       }
      }
     },
     "fd564f48c10d44b3901f35cd009e2bed": {
      "model_module": "bqplot",
      "model_module_version": "^0.5",
      "model_name": "DateScaleModel",
      "state": {
       "_model_module_version": "^0.5",
       "_view_module_version": "^0.5",
       "min": "2007-01-01T00:00:00.000Z"
      }
     },
     "fedbf55d943c4efaa23f119ac1954a3f": {
      "model_module": "@jupyter-widgets/controls",
      "model_module_version": "1.5.0",
      "model_name": "HTMLModel",
      "state": {
       "layout": "IPY_MODEL_f04ede71fbca4acbbf1a3f42052ff4cd",
       "style": "IPY_MODEL_1bff647fb0dd48468569ce0ab7b7b0fe",
       "value": "None"
      }
     },
     "ff086d962c5b493286732f0534732b4f": {
      "model_module": "@jupyter-widgets/controls",
      "model_module_version": "1.5.0",
      "model_name": "HTMLModel",
      "state": {
       "layout": "IPY_MODEL_9d876919a2af4254bba077b97d115975",
       "style": "IPY_MODEL_120e3b1b9b0745fcb6777a0973e52034",
       "value": "None"
      }
     },
     "ff319b5d1d2546d2a31481f7b3eeddc5": {
      "buffers": [
       {
        "data": "AAAAAAAAAEAAAAAAAAAQQAAAAAAAADFAAAAAAAAAMkAAAAAAAAA5QAAAAAAAADxAAAAAAAAANkAAAAAAAAAuQAAAAAAAACJAAAAAAAAAIkA=",
        "encoding": "base64",
        "path": [
         "count",
         "value"
        ]
       },
       {
        "data": "ABhcqLgJgr8A0murueeGPwAgYWZeQVM/ABxuzlaqcr8ApFxxOf6CPwC8iMdgRH0/AJgshF3CeD8AQESJN7JnPwAYfgsXGXK/AJ53XmQtij8A0g4XGzuBvwDIVKLiqWe/AOh5DVCJbD8AoFkI9sZwPwCIkXqzOnS/ALQv4kQJez8A9JA1uv+HvwCA9sIbMH8/AID636SQTD8AoN3ccCdIvwAAs11vCDO/AFwFlW+tir8AlqIj57+EvwAykpIP0oc/AHZ+2qwZgz8AaE8uBellPwBA/CTyZVg/ADjYOwiYgb8AwCheng8yPwC4PAB9x3k/AIxYBXd7cD8Auiknv1eDPwDwa++36Hk/AG5XRwmNjb8AVvuhhWaGPwACVHlrhoE/ACB9uuT0Rb8AyP4HaBFoPwCIhJmvGXk/AFpu9ZlWiT8AkGIBxRZWvwDQZzFVf3C/AOruMdbLgb8A4FQuS7iMPwCsx2Lz038/ANioPw6+Zb8A0N/1DI1xPwCgU5n9IXE/AJhKdTtAYr8AwLfoaV0/vwD+uEfTW4C/AABmE64KLD8AkLzwzMl/vwDwnWpOqWs/AAD/sxYGbr8AuJ+HObCJPwBsbxbLeXu/ACg3Z2M0hr8ApNDONMeNPwCwJ3I5z1k/AFA1o2HheD8AoFy/mPd5vwBMuJkJOIK/AGSXCEICc78AOP8BR5toPwBg3XAz/1E/AIChCU/CPT8AoKOvJvt3vwBYHvefbWE/AODdCDsuZD8AsJBfSDBTvwCg7T9CDlQ/AMaLIpSGgj8AUF1rNxZ1PwAgUttTplw/AMAavPzYWb8AoMVclyJWvwCAUpSpGyO/ABS6D3oacD8AQILXV8tNvwBASSMAslm/AMDnmur0TL8AKFzYOap7vwAAR9Wy92G/APAyLk/2Wj8AgsjDiMqCvwCYlp2xw2A/AOB+YlipTD8AAADFr933vgA8JKaPXnK/AGiYYTUBi78AUO6UFCRTvwDg0EBZcmc/ACB/+lg2aD8A8KgdIUCBPwDQzajSiW2/AAAdNzQNNL8AxDFwJEF6vwC8ZA7+KXk/AMkZR051kb8AJqN56zeOPwAApdymA1y/AJDkbLdFdz8ApAyAbNl0vwBgdY9QNWA/ALgAUS/Pfr8AHFA5n/19PwBEXCvx8HO/AJyxyPkidb8A4CEGL4d4PwAoWv0pSHQ/AMDZnKnMZj8AGG/P4EqFvwBgfYMRNIE/AGDIDRWJUj8AUF/eCq9fvwDwdwV0an4/AFTL8yN3fL8A+CDHLIhnvwCA7pcbEze/AJSoCOm+fr8AdGzHrn+AvwDwbMIq0Fq/AEQEqg/scz8ADPlTXT+IPwBEcTJ7NHG/AF7Fb635gL8AmKnsTf1xvwDul6rUOIw/AEizYSAMbr8A8Poza7FYvwDgwWkDe02/AOTPYy/XeT8AGKhdjfNvvwDwg8/yQm+/AADaSmg1fb8AMM/e1S1WvwAYCsHSFn+/AES+SLAddr8AAHibsWhVPwCAjfDGmUM/AJiIOszDYL8AADtK1ggxvwDayZvTKYK/ABDgnmIIVb8AXH18gciBvwBQBBaCZG8/AAD8VFhAcj8Aohic+TmBvw==",
        "encoding": "base64",
        "path": [
         "sample",
         "value"
        ]
       }
      ],
      "model_module": "bqplot",
      "model_module_version": "^0.5.3",
      "model_name": "HistModel",
      "state": {
       "_model_module_version": "^0.5.3",
       "_view_module_version": "^0.5.3",
       "count": {
        "dtype": "float64",
        "shape": [
         10
        ],
        "type": null
       },
       "midpoints": [
        -0.01545884127872732,
        -0.012278426817665888,
        -0.009098012356604457,
        -0.005917597895543025,
        -0.0027371834344815937,
        0.0004432310265798378,
        0.0036236454876412694,
        0.006804059948702701,
        0.009984474409764132
       ],
       "sample": {
        "dtype": "float64",
        "shape": [
         149
        ],
        "type": null
       },
       "scales": {
        "count": "IPY_MODEL_20ed2d955c4e4ad2a3e01f3ea6b79326",
        "sample": "IPY_MODEL_853961d363e648c983c8188666356db4"
       }
      }
     }
    },
    "version_major": 2,
    "version_minor": 0
   }
  }
 },
 "nbformat": 4,
 "nbformat_minor": 4
}
