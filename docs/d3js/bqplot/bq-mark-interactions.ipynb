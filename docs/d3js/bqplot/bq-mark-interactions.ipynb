{
 "cells": [
  {
   "cell_type": "markdown",
   "metadata": {},
   "source": [
    "# Mark interactions"
   ]
  },
  {
   "cell_type": "code",
   "execution_count": 1,
   "metadata": {},
   "outputs": [],
   "source": [
    "from __future__ import print_function\n",
    "\n",
    "import numpy as np\n",
    "import pandas as pd\n",
    "\n",
    "from bqplot import *\n",
    "from ipywidgets import Layout"
   ]
  },
  {
   "cell_type": "markdown",
   "metadata": {},
   "source": [
    "## Scatter diagram"
   ]
  },
  {
   "cell_type": "markdown",
   "metadata": {},
   "source": [
    "#### Selection in scatter diagrams\n",
    "\n",
    "Click on a point in the scatter plot to select it and then execute the cell below to check the selection. Finally, try holding down the `Ctrl` key (or `⌘` on Mac) and clicking on another point. Clicking on the background will reset the selection."
   ]
  },
  {
   "cell_type": "code",
   "execution_count": 2,
   "metadata": {},
   "outputs": [
    {
     "data": {
      "application/vnd.jupyter.widget-view+json": {
       "model_id": "ec9fc266c562453a86ba0948b0e2df64",
       "version_major": 2,
       "version_minor": 0
      },
      "text/plain": [
       "Figure(axes=[Axis(scale=LinearScale()), Axis(orientation='vertical', scale=LinearScale(), tick_format='0.2f')]…"
      ]
     },
     "metadata": {},
     "output_type": "display_data"
    }
   ],
   "source": [
    "x_sc = LinearScale()\n",
    "y_sc = LinearScale()\n",
    "\n",
    "x_data = np.arange(20)\n",
    "y_data = np.random.randn(20)\n",
    "\n",
    "scatter_chart = Scatter(\n",
    "    x=x_data,\n",
    "    y=y_data,\n",
    "    scales={\"x\": x_sc, \"y\": y_sc},\n",
    "    colors=[\"dodgerblue\"],\n",
    "    interactions={\"click\": \"select\"},\n",
    "    selected_style={\"opacity\": 1.0, \"fill\": \"DarkOrange\", \"stroke\": \"Red\"},\n",
    "    unselected_style={\"opacity\": 0.5},\n",
    ")\n",
    "\n",
    "ax_x = Axis(scale=x_sc)\n",
    "ax_y = Axis(scale=y_sc, orientation=\"vertical\", tick_format=\"0.2f\")\n",
    "\n",
    "Figure(marks=[scatter_chart], axes=[ax_x, ax_y])"
   ]
  },
  {
   "cell_type": "code",
   "execution_count": 3,
   "metadata": {},
   "outputs": [],
   "source": [
    "scatter_chart.selected"
   ]
  },
  {
   "cell_type": "markdown",
   "metadata": {},
   "source": [
    "Alternatively, the `selected` attribute can be defined directly in Python, for example with the following line:"
   ]
  },
  {
   "cell_type": "code",
   "execution_count": 4,
   "metadata": {},
   "outputs": [],
   "source": [
    "scatter_chart.selected = [1, 2, 3]"
   ]
  },
  {
   "cell_type": "markdown",
   "metadata": {},
   "source": [
    "#### Streudiagramm-Interaktionen und -Tooltips"
   ]
  },
  {
   "cell_type": "code",
   "execution_count": 5,
   "metadata": {},
   "outputs": [],
   "source": [
    "from ipywidgets import *"
   ]
  },
  {
   "cell_type": "code",
   "execution_count": 6,
   "metadata": {},
   "outputs": [
    {
     "data": {
      "application/vnd.jupyter.widget-view+json": {
       "model_id": "7b41f0f3f2d242b79f98eb4dce956d80",
       "version_major": 2,
       "version_minor": 0
      },
      "text/plain": [
       "Figure(axes=[Axis(scale=LinearScale()), Axis(orientation='vertical', scale=LinearScale(), tick_format='0.2f')]…"
      ]
     },
     "metadata": {},
     "output_type": "display_data"
    }
   ],
   "source": [
    "x_sc = LinearScale()\n",
    "y_sc = LinearScale()\n",
    "\n",
    "x_data = np.arange(20)\n",
    "y_data = np.random.randn(20)\n",
    "\n",
    "dd = Dropdown(options=[\"First\", \"Second\", \"Third\", \"Fourth\"])\n",
    "scatter_chart = Scatter(\n",
    "    x=x_data,\n",
    "    y=y_data,\n",
    "    scales={\"x\": x_sc, \"y\": y_sc},\n",
    "    colors=[\"dodgerblue\"],\n",
    "    names=np.arange(100, 200),\n",
    "    names_unique=False,\n",
    "    display_names=False,\n",
    "    display_legend=True,\n",
    "    labels=[\"Blue\"],\n",
    ")\n",
    "ins = Button(icon=\"fa-legal\")\n",
    "scatter_chart.tooltip = ins\n",
    "\n",
    "scatter_chart2 = Scatter(\n",
    "    x=x_data,\n",
    "    y=np.random.randn(20),\n",
    "    scales={\"x\": x_sc, \"y\": y_sc},\n",
    "    colors=[\"orangered\"],\n",
    "    tooltip=dd,\n",
    "    names=np.arange(100, 200),\n",
    "    names_unique=False,\n",
    "    display_names=False,\n",
    "    display_legend=True,\n",
    "    labels=[\"Red\"],\n",
    ")\n",
    "\n",
    "ax_x = Axis(scale=x_sc)\n",
    "ax_y = Axis(scale=y_sc, orientation=\"vertical\", tick_format=\"0.2f\")\n",
    "\n",
    "Figure(marks=[scatter_chart, scatter_chart2], axes=[ax_x, ax_y])"
   ]
  },
  {
   "cell_type": "markdown",
   "metadata": {},
   "source": [
    "Define call backs and customised messages:"
   ]
  },
  {
   "cell_type": "code",
   "execution_count": 7,
   "metadata": {},
   "outputs": [],
   "source": [
    "def print_event(self, target):\n",
    "    print(target)\n",
    "\n",
    "\n",
    "# Adding call back to scatter events\n",
    "# print custom mssg on hover and background click of Blue Scatter\n",
    "scatter_chart.on_hover(print_event)\n",
    "scatter_chart.on_background_click(print_event)\n",
    "\n",
    "# print custom mssg on click of an element or legend of Red Scatter\n",
    "scatter_chart2.on_element_click(print_event)\n",
    "scatter_chart2.on_legend_click(print_event)"
   ]
  },
  {
   "cell_type": "markdown",
   "metadata": {},
   "source": [
    "Define `figure` as tooltip:"
   ]
  },
  {
   "cell_type": "code",
   "execution_count": 8,
   "metadata": {},
   "outputs": [],
   "source": [
    "# Adding figure as tooltip\n",
    "x_sc = LinearScale()\n",
    "y_sc = LinearScale()\n",
    "\n",
    "x_data = np.arange(10)\n",
    "y_data = np.random.randn(10)\n",
    "\n",
    "lc = Lines(x=x_data, y=y_data, scales={\"x\": x_sc, \"y\": y_sc})\n",
    "ax_x = Axis(scale=x_sc)\n",
    "ax_y = Axis(scale=y_sc, orientation=\"vertical\", tick_format=\"0.2f\")\n",
    "tooltip_fig = Figure(\n",
    "    marks=[lc], axes=[ax_x, ax_y], layout=Layout(min_width=\"600px\")\n",
    ")\n",
    "\n",
    "scatter_chart.tooltip = tooltip_fig"
   ]
  },
  {
   "cell_type": "code",
   "execution_count": 9,
   "metadata": {},
   "outputs": [],
   "source": [
    "# Changing interaction from hover to click for tooltip\n",
    "scatter_chart.interactions = {\"click\": \"tooltip\"}"
   ]
  },
  {
   "cell_type": "markdown",
   "metadata": {},
   "source": [
    "## Line diagram"
   ]
  },
  {
   "cell_type": "code",
   "execution_count": 10,
   "metadata": {},
   "outputs": [
    {
     "data": {
      "application/vnd.jupyter.widget-view+json": {
       "model_id": "79a8d7c6d382494c9a6a1922ec2b075d",
       "version_major": 2,
       "version_minor": 0
      },
      "text/plain": [
       "Figure(axes=[Axis(scale=LinearScale()), Axis(orientation='vertical', scale=LinearScale(), tick_format='0.2f')]…"
      ]
     },
     "metadata": {},
     "output_type": "display_data"
    }
   ],
   "source": [
    "# Adding default tooltip to Line Chart\n",
    "x_sc = LinearScale()\n",
    "y_sc = LinearScale()\n",
    "\n",
    "x_data = np.arange(100)\n",
    "y_data = np.random.randn(3, 100)\n",
    "\n",
    "def_tt = Tooltip(\n",
    "    fields=[\"name\", \"index\"], formats=[\"\", \".2f\"], labels=[\"id\", \"line_num\"]\n",
    ")\n",
    "line_chart = Lines(\n",
    "    x=x_data,\n",
    "    y=y_data,\n",
    "    scales={\"x\": x_sc, \"y\": y_sc},\n",
    "    tooltip=def_tt,\n",
    "    display_legend=True,\n",
    "    labels=[\"line 1\", \"line 2\", \"line 3\"],\n",
    ")\n",
    "\n",
    "ax_x = Axis(scale=x_sc)\n",
    "ax_y = Axis(scale=y_sc, orientation=\"vertical\", tick_format=\"0.2f\")\n",
    "\n",
    "Figure(marks=[line_chart], axes=[ax_x, ax_y])"
   ]
  },
  {
   "cell_type": "code",
   "execution_count": 11,
   "metadata": {},
   "outputs": [],
   "source": [
    "# Adding call back to print event when legend or the line is clicked\n",
    "line_chart.on_legend_click(print_event)\n",
    "line_chart.on_element_click(print_event)"
   ]
  },
  {
   "cell_type": "markdown",
   "metadata": {},
   "source": [
    "## Bar chart"
   ]
  },
  {
   "cell_type": "code",
   "execution_count": 12,
   "metadata": {},
   "outputs": [
    {
     "data": {
      "application/vnd.jupyter.widget-view+json": {
       "model_id": "3632e9f5707a4c86a3bb0791a1a29839",
       "version_major": 2,
       "version_minor": 0
      },
      "text/plain": [
       "Figure(axes=[Axis(scale=OrdinalScale()), Axis(orientation='vertical', scale=LinearScale(), tick_format='0.2f')…"
      ]
     },
     "metadata": {},
     "output_type": "display_data"
    }
   ],
   "source": [
    "# Adding interaction to select bar on click for Bar Chart\n",
    "x_sc = OrdinalScale()\n",
    "y_sc = LinearScale()\n",
    "\n",
    "x_data = np.arange(10)\n",
    "y_data = np.random.randn(2, 10)\n",
    "\n",
    "bar_chart = Bars(\n",
    "    x=x_data,\n",
    "    y=[y_data[0, :].tolist(), y_data[1, :].tolist()],\n",
    "    scales={\"x\": x_sc, \"y\": y_sc},\n",
    "    interactions={\"click\": \"select\"},\n",
    "    selected_style={\"stroke\": \"orange\", \"fill\": \"red\"},\n",
    "    labels=[\"Level 1\", \"Level 2\"],\n",
    "    display_legend=True,\n",
    ")\n",
    "ax_x = Axis(scale=x_sc)\n",
    "ax_y = Axis(scale=y_sc, orientation=\"vertical\", tick_format=\"0.2f\")\n",
    "\n",
    "Figure(marks=[bar_chart], axes=[ax_x, ax_y])"
   ]
  },
  {
   "cell_type": "code",
   "execution_count": 13,
   "metadata": {},
   "outputs": [],
   "source": [
    "# Adding a tooltip on hover in addition to select on click\n",
    "def_tt = Tooltip(fields=[\"x\", \"y\"], formats=[\"\", \".2f\"])\n",
    "bar_chart.tooltip = def_tt\n",
    "bar_chart.interactions = {\n",
    "    \"legend_hover\": \"highlight_axes\",\n",
    "    \"hover\": \"tooltip\",\n",
    "    \"click\": \"select\",\n",
    "}"
   ]
  },
  {
   "cell_type": "code",
   "execution_count": 14,
   "metadata": {},
   "outputs": [],
   "source": [
    "# Changing tooltip to be on click\n",
    "bar_chart.interactions = {\"click\": \"tooltip\"}"
   ]
  },
  {
   "cell_type": "code",
   "execution_count": 15,
   "metadata": {},
   "outputs": [],
   "source": [
    "# Call back on legend being clicked\n",
    "bar_chart.type = \"grouped\"\n",
    "bar_chart.on_legend_click(print_event)"
   ]
  },
  {
   "cell_type": "markdown",
   "metadata": {},
   "source": [
    "## Histogram"
   ]
  },
  {
   "cell_type": "code",
   "execution_count": 16,
   "metadata": {},
   "outputs": [
    {
     "data": {
      "application/vnd.jupyter.widget-view+json": {
       "model_id": "4b24021c01854b12905331365cbed776",
       "version_major": 2,
       "version_minor": 0
      },
      "text/plain": [
       "Figure(axes=[Axis(scale=LinearScale(), tick_format='0.2f'), Axis(orientation='vertical', scale=LinearScale(), …"
      ]
     },
     "metadata": {},
     "output_type": "display_data"
    }
   ],
   "source": [
    "# Adding tooltip for Histogram\n",
    "x_sc = LinearScale()\n",
    "y_sc = LinearScale()\n",
    "\n",
    "sample_data = np.random.randn(100)\n",
    "\n",
    "def_tt = Tooltip(formats=[\"\", \".2f\"], fields=[\"count\", \"midpoint\"])\n",
    "hist = Hist(\n",
    "    sample=sample_data,\n",
    "    scales={\"sample\": x_sc, \"count\": y_sc},\n",
    "    tooltip=def_tt,\n",
    "    display_legend=True,\n",
    "    labels=[\"Test Hist\"],\n",
    "    select_bars=True,\n",
    ")\n",
    "ax_x = Axis(scale=x_sc, tick_format=\"0.2f\")\n",
    "ax_y = Axis(scale=y_sc, orientation=\"vertical\", tick_format=\"0.2f\")\n",
    "\n",
    "Figure(marks=[hist], axes=[ax_x, ax_y])"
   ]
  },
  {
   "cell_type": "code",
   "execution_count": 17,
   "metadata": {},
   "outputs": [],
   "source": [
    "# Changing tooltip to be displayed on click\n",
    "hist.interactions = {\"click\": \"tooltip\"}"
   ]
  },
  {
   "cell_type": "code",
   "execution_count": 18,
   "metadata": {},
   "outputs": [],
   "source": [
    "# Changing tooltip to be on click of legend\n",
    "hist.interactions = {\"legend_click\": \"tooltip\"}"
   ]
  },
  {
   "cell_type": "markdown",
   "metadata": {},
   "source": [
    "## Pie chart"
   ]
  },
  {
   "cell_type": "code",
   "execution_count": 19,
   "metadata": {},
   "outputs": [
    {
     "data": {
      "application/vnd.jupyter.widget-view+json": {
       "model_id": "2aa0fd56d8d943619ecb27d1960d9129",
       "version_major": 2,
       "version_minor": 0
      },
      "text/plain": [
       "Figure(fig_margin={'top': 60, 'bottom': 60, 'left': 60, 'right': 60}, marks=[Pie(color=array([ 0.53097893, -0.…"
      ]
     },
     "metadata": {},
     "output_type": "display_data"
    }
   ],
   "source": [
    "pie_data = np.abs(np.random.randn(10))\n",
    "\n",
    "sc = ColorScale(scheme=\"Reds\")\n",
    "tooltip_widget = Tooltip(\n",
    "    fields=[\"size\", \"index\", \"color\"], formats=[\"0.2f\", \"\", \"0.2f\"]\n",
    ")\n",
    "pie = Pie(\n",
    "    sizes=pie_data,\n",
    "    scales={\"color\": sc},\n",
    "    color=np.random.randn(10),\n",
    "    tooltip=tooltip_widget,\n",
    "    interactions={\"click\": \"tooltip\"},\n",
    "    selected_style={\"fill\": \"red\"},\n",
    ")\n",
    "\n",
    "pie.selected_style = {\"opacity\": \"1\", \"stroke\": \"white\", \"stroke-width\": \"2\"}\n",
    "pie.unselected_style = {\"opacity\": \"0.2\"}\n",
    "\n",
    "Figure(marks=[pie])"
   ]
  },
  {
   "cell_type": "code",
   "execution_count": 20,
   "metadata": {},
   "outputs": [],
   "source": [
    "# Changing interaction to select on click and tooltip on hover\n",
    "pie.interactions = {\"click\": \"select\", \"hover\": \"tooltip\"}"
   ]
  }
 ],
 "metadata": {
  "kernelspec": {
   "display_name": "Python 3.11 Kernel",
   "language": "python",
   "name": "python311"
  },
  "language_info": {
   "codemirror_mode": {
    "name": "ipython",
    "version": 3
   },
   "file_extension": ".py",
   "mimetype": "text/x-python",
   "name": "python",
   "nbconvert_exporter": "python",
   "pygments_lexer": "ipython3",
   "version": "3.11.4"
  },
  "latex_envs": {
   "LaTeX_envs_menu_present": true,
   "autoclose": false,
   "autocomplete": true,
   "bibliofile": "biblio.bib",
   "cite_by": "apalike",
   "current_citInitial": 1,
   "eqLabelWithNumbers": true,
   "eqNumInitial": 1,
   "hotkeys": {
    "equation": "Ctrl-E",
    "itemize": "Ctrl-I"
   },
   "labels_anchors": false,
   "latex_user_defs": false,
   "report_style_numbering": false,
   "user_envs_cfg": false
  },
  "widgets": {
   "application/vnd.jupyter.widget-state+json": {
    "state": {
     "008a0e2c3cd540dbb5644a3c45eb8fbc": {
      "model_module": "@jupyter-widgets/controls",
      "model_module_version": "1.5.0",
      "model_name": "ButtonModel",
      "state": {
       "icon": "legal",
       "layout": "IPY_MODEL_29471f8eac624591aaec18797ed3c02e",
       "style": "IPY_MODEL_79a97d760a3146c88495232c6e8d4189"
      }
     },
     "00c60fa4eac44111969f41367c145f3e": {
      "model_module": "@jupyter-widgets/controls",
      "model_module_version": "1.5.0",
      "model_name": "DescriptionStyleModel",
      "state": {
       "description_width": ""
      }
     },
     "03ef806192ed406686e9cbd65ebf5b14": {
      "model_module": "bqplot",
      "model_module_version": "^0.5.3",
      "model_name": "LinearScaleModel",
      "state": {
       "_model_module_version": "^0.5.3",
       "_view_module_version": "^0.5.3",
       "allow_padding": false,
       "max": 1,
       "min": 0,
       "stabilized": false
      }
     },
     "0420ff4dd29943feb1ab663b7e803a7b": {
      "buffers": [
       {
        "data": "0hJHRmDKVD9oVCIivmTnv/8j4e7xFfI/7xseHJag379aYGLkScLBv4AA/2sL0PM/K6iCIPBEqD+1Y5MRiL/wv+zaPl2bNNu/u0DUsA3S9D8=",
        "encoding": "base64",
        "path": [
         "color",
         "value"
        ]
       },
       {
        "data": "2o4iMQRA5j8alrvu2eDyP5T7/6I+5eo/iC6qSIcUzz/GwYyVn0PQP88t0+r1M/A/sTYikQDU2D/MFJzTfGXxP9cINgPGuuY/GUvoahvXyD8=",
        "encoding": "base64",
        "path": [
         "sizes",
         "value"
        ]
       }
      ],
      "model_module": "bqplot",
      "model_module_version": "^0.5.10",
      "model_name": "PieModel",
      "state": {
       "_model_module_version": "^0.5.10",
       "_view_module_version": "^0.5.10",
       "color": {
        "dtype": "float64",
        "shape": [
         10
        ],
        "type": null,
        "value": {}
       },
       "interactions": {
        "click": "select",
        "hover": "tooltip"
       },
       "scales": {
        "color": "IPY_MODEL_6fc39c5a9686400ea3790039f3165316"
       },
       "selected_style": {
        "opacity": "1",
        "stroke": "white",
        "stroke-width": "2"
       },
       "sizes": {
        "dtype": "float64",
        "shape": [
         10
        ],
        "type": null,
        "value": {}
       },
       "tooltip": "IPY_MODEL_b893e33bdb5a488cafb440e8babc3dc2",
       "unselected_style": {
        "opacity": "0.2"
       }
      }
     },
     "051d0e9e389c4e6faa5cf7e16d44cd30": {
      "buffers": [
       {
        "data": "AAAAAAAAFEAAAAAAAAAYQAAAAAAAAC5AAAAAAAAALkAAAAAAAAAxQAAAAAAAADZAAAAAAAAAJkAAAAAAAAAcQAAAAAAAAAAAAAAAAAAA8D8AAAAAAADwPw==",
        "encoding": "base64",
        "path": [
         "count",
         "value"
        ]
       },
       {
        "data": "vyFd/isz5T9ygl2h8ua/v8ifTzmv36y/xuE/EMV16j80LgQH023ev33n36RpzO2/XFWHvzk5s7+v8SBG+gzmPxejUoWak/m/rjL0knSu9T9WxmQK9RzkP7jCr5oE2e0/kKHTH3Ka4D+XwSEnAxX3v1pb2TlPFPo/8Ree37Yq2L/RpTCiLKnaPyQW1cRrrcY/jAWIGn3j4T/sMhxgGLbkv7QdNB4Y6+s/aag5Gyvmnr+gKea4BLwCQL4Ur4ryEPM/Vh6wb0La7b99FNFJVqYAwHLimnr0Y+u/KNFRw6eJlj/R7zgL+cEAwJI/273Ute8/JKYso1z0+T9FAPAuZIjtv8bWqidizfC/hZ/cbJWp1r9Mt1onbrPkP0pSThQl2+A/pfCqh3ltsb8kZjA1XjzwP+wTe/OE498/fSVXLnnL7L90MgwqzpK2PzWmFPkM8eC/q+BEohrQsT8EQGcgBjb4P6ymEzzxefu/UTm84YKU6r++4aJ/Y6T5v/Ct0ZYEKPi/yaiZZsil6b9IhK5GSxbkv39bQ9oF2OG/Xdyj8hCBBECQ3DpYjCPhP9gb3ajrcey/pMOPk/pk6r9axvp01BfhPxUMUYE0mao/Q5kWnggJ5D+Ni7PLU6TaP2LSFpNkV9y/OD1mQVnW2D+7BbDHFM/OPyM3U1u4wvG/nmaZqPBZ5b+ufoLbrkDuP15r9/fWDqm/nOlJqcqk7L8CDskN4CG4v0zA922R4PA/XeDl9sXx0j9zk8MHhN3oP4JRJNkqkPk/1H7YR1eY2T+XsahzFmXDv9/b80LF8vC/l5umLj+Bwj8kGjv5j60AwGK6iXUQKL4/V/td5MLA07+FkFfGV5/3v/6DwRiFmN8/8d/qvEdP2T+g6X31E4vuP1FT/+U1ceW/gJaO1Ze+0b/DakNuWurpv4AdwTBFFPE/89ILZC4/8r9pkbkYcKL6vzB/Vio3q/O/9hAX5Edczz8V9HbZRbf0PyLk1Um+U9A/Rrum4/JT4j8twtTw0h3avyr+5wtAiO4/6BbhbtGZ0r/GXlwCcx7VvyZeJRDXzsc/IgPVPWh9wL8=",
        "encoding": "base64",
        "path": [
         "sample",
         "value"
        ]
       }
      ],
      "model_module": "bqplot",
      "model_module_version": "^0.5.3",
      "model_name": "HistModel",
      "state": {
       "_model_module_version": "^0.5.3",
       "_view_module_version": "^0.5.3",
       "count": {
        "dtype": "float64",
        "shape": [
         11
        ],
        "type": null,
        "value": {}
       },
       "display_legend": true,
       "interactions": {
        "legend_click": "tooltip"
       },
       "labels": [
        "Test Hist"
       ],
       "midpoints": [
        -1.8618265996075034,
        -1.396053209476439,
        -0.930279819345375,
        -0.46450642921431073,
        0.001266960916753379,
        0.4670403510478176,
        0.9328137411788817,
        1.3985871313099458,
        1.8643605214410102,
        2.3301339115720743
       ],
       "sample": {
        "dtype": "float64",
        "shape": [
         100
        ],
        "type": null,
        "value": {}
       },
       "scales": {
        "count": "IPY_MODEL_337aca4e3cdb4051a47dfb55acb6b016",
        "sample": "IPY_MODEL_740dc6666f4f46a1b7681ae37c40e151"
       },
       "tooltip": "IPY_MODEL_5a6546afce0449e19dbd5da5611f8803"
      }
     },
     "06a965d111d346c48f18261fe1364e06": {
      "model_module": "bqplot",
      "model_module_version": "^0.5.10",
      "model_name": "LinearScaleModel",
      "state": {
       "_model_module_version": "^0.5.10",
       "_view_module_version": "^0.5.10",
       "allow_padding": false,
       "max": 1,
       "min": 0,
       "stabilized": false
      }
     },
     "085ce8508e43403789fe9c9c0c373c6a": {
      "model_module": "bqplot",
      "model_module_version": "^0.5.3",
      "model_name": "LinearScaleModel",
      "state": {
       "_model_module_version": "^0.5.3",
       "_view_module_version": "^0.5.3",
       "stabilized": false
      }
     },
     "0a79cd4f8c2e4b35b292af0612ff9902": {
      "model_module": "@jupyter-widgets/base",
      "model_module_version": "1.2.0",
      "model_name": "LayoutModel",
      "state": {}
     },
     "0c06ddfecea548d8a5f9c9ad971e44d4": {
      "model_module": "@jupyter-widgets/controls",
      "model_module_version": "1.5.0",
      "model_name": "ButtonModel",
      "state": {
       "icon": "legal",
       "layout": "IPY_MODEL_d28a9904a8984c2581bd2ab3159d54cf",
       "style": "IPY_MODEL_4cbb87571c744fd19504468ebd6e0f7a"
      }
     },
     "0d0572ecd38f4b638b52fda5638e58a2": {
      "model_module": "bqplot",
      "model_module_version": "^0.5.3",
      "model_name": "AxisModel",
      "state": {
       "_model_module_version": "^0.5.3",
       "_view_module_version": "^0.5.3",
       "scale": "IPY_MODEL_5f4407c9031149099f57a71cf7b75177",
       "side": "bottom",
       "tick_values": null
      }
     },
     "0d545a5ca7274ee3aee3c2ea27814c4a": {
      "model_module": "bqplot",
      "model_module_version": "^0.5.10",
      "model_name": "AxisModel",
      "state": {
       "_model_module_version": "^0.5.10",
       "_view_module_version": "^0.5.10",
       "scale": "IPY_MODEL_e9f5d117365d48b7808583485610df19",
       "side": "bottom",
       "tick_values": null
      }
     },
     "112447aa248e4d0785c81180f1a734ae": {
      "model_module": "@jupyter-widgets/base",
      "model_module_version": "1.2.0",
      "model_name": "LayoutModel",
      "state": {}
     },
     "116808ed5430458b87deed8dc592776b": {
      "model_module": "bqplot",
      "model_module_version": "^0.5.3",
      "model_name": "FigureModel",
      "state": {
       "_model_module_version": "^0.5.3",
       "_view_module_version": "^0.5.3",
       "axes": [
        "IPY_MODEL_8eddc0026cb84832bee33a5111933af8",
        "IPY_MODEL_9bf84f9caf334f538cee891b777fff5c"
       ],
       "layout": "IPY_MODEL_8a83e57abe9a4ef59acf7d6ce45fa25e",
       "marks": [
        "IPY_MODEL_5609fa5ac2654286b2b282366dfcf0d1"
       ],
       "scale_x": "IPY_MODEL_f286b72b2f2540269f1012ad7334c8e7",
       "scale_y": "IPY_MODEL_1a69f0bf7e66453ea35a49bf48b79555"
      }
     },
     "15381c23662a46ffae423f309d8bfa43": {
      "model_module": "bqplot",
      "model_module_version": "^0.5.10",
      "model_name": "AxisModel",
      "state": {
       "_model_module_version": "^0.5.10",
       "_view_module_version": "^0.5.10",
       "scale": "IPY_MODEL_e3e248b5ee4e45d98d1d847b9de0c405",
       "side": "bottom",
       "tick_values": null
      }
     },
     "184079d6881e42c3b5329f3011aa50f8": {
      "model_module": "bqplot",
      "model_module_version": "^0.5.3",
      "model_name": "AxisModel",
      "state": {
       "_model_module_version": "^0.5.3",
       "_view_module_version": "^0.5.3",
       "scale": "IPY_MODEL_7eccca88550945579f2fd18ff5280876",
       "side": "bottom",
       "tick_values": null
      }
     },
     "1a1b39607e6d46fd81a4eeb90789a0c9": {
      "model_module": "@jupyter-widgets/controls",
      "model_module_version": "1.5.0",
      "model_name": "DropdownModel",
      "state": {
       "_options_labels": [
        "First",
        "Second",
        "Third",
        "Fourth"
       ],
       "index": 0,
       "layout": "IPY_MODEL_1d038e49f40e4f708e5b9151a55ae04d",
       "style": "IPY_MODEL_00c60fa4eac44111969f41367c145f3e"
      }
     },
     "1a69f0bf7e66453ea35a49bf48b79555": {
      "model_module": "bqplot",
      "model_module_version": "^0.5.3",
      "model_name": "LinearScaleModel",
      "state": {
       "_model_module_version": "^0.5.3",
       "_view_module_version": "^0.5.3",
       "allow_padding": false,
       "max": 1,
       "min": 0,
       "stabilized": false
      }
     },
     "1d038e49f40e4f708e5b9151a55ae04d": {
      "model_module": "@jupyter-widgets/base",
      "model_module_version": "1.2.0",
      "model_name": "LayoutModel",
      "state": {}
     },
     "1e7d98923d80422f80463d4c4cf6076b": {
      "buffers": [
       {
        "data": "AAAAAAAA8D8=",
        "encoding": "base64",
        "path": [
         "default_opacities",
         "value"
        ]
       },
       {
        "data": "ZAAAAGUAAABmAAAAZwAAAGgAAABpAAAAagAAAGsAAABsAAAAbQAAAG4AAABvAAAAcAAAAHEAAAByAAAAcwAAAHQAAAB1AAAAdgAAAHcAAAB4AAAAeQAAAHoAAAB7AAAAfAAAAH0AAAB+AAAAfwAAAIAAAACBAAAAggAAAIMAAACEAAAAhQAAAIYAAACHAAAAiAAAAIkAAACKAAAAiwAAAIwAAACNAAAAjgAAAI8AAACQAAAAkQAAAJIAAACTAAAAlAAAAJUAAACWAAAAlwAAAJgAAACZAAAAmgAAAJsAAACcAAAAnQAAAJ4AAACfAAAAoAAAAKEAAACiAAAAowAAAKQAAAClAAAApgAAAKcAAACoAAAAqQAAAKoAAACrAAAArAAAAK0AAACuAAAArwAAALAAAACxAAAAsgAAALMAAAC0AAAAtQAAALYAAAC3AAAAuAAAALkAAAC6AAAAuwAAALwAAAC9AAAAvgAAAL8AAADAAAAAwQAAAMIAAADDAAAAxAAAAMUAAADGAAAAxwAAAA==",
        "encoding": "base64",
        "path": [
         "names",
         "value"
        ]
       },
       {
        "data": "AAAAAAEAAAACAAAAAwAAAAQAAAAFAAAABgAAAAcAAAAIAAAACQAAAAoAAAALAAAADAAAAA0AAAAOAAAADwAAABAAAAARAAAAEgAAABMAAAA=",
        "encoding": "base64",
        "path": [
         "x",
         "value"
        ]
       },
       {
        "data": "ssZJcOji9b/65Qx1QCPxP8grhlGo77+/NEAYOSbGvj9g6b7zKmziP1KsN6+/uPk/hw5Cywh12D+oRGV9SHTzv7mL6f9QRp6/Ef9ssX2PyL9axmUN39T+v2GoB0hq+ec/5aONW4Mu079Wt+caVp/av33iFj1surE/wKoNM4G38L9JQaKgeaDiP3cy1jEWXfG/VW68HGbT/7+4sHRNFkKMvw==",
        "encoding": "base64",
        "path": [
         "y",
         "value"
        ]
       }
      ],
      "model_module": "bqplot",
      "model_module_version": "^0.5.10",
      "model_name": "ScatterModel",
      "state": {
       "_model_module_version": "^0.5.10",
       "_view_module_version": "^0.5.10",
       "colors": [
        "orangered"
       ],
       "default_opacities": {
        "dtype": "float64",
        "shape": [
         1
        ],
        "type": null,
        "value": {}
       },
       "display_legend": true,
       "display_names": false,
       "labels": [
        "Red"
       ],
       "names": {
        "dtype": "int32",
        "shape": [
         100
        ],
        "type": null,
        "value": {}
       },
       "names_unique": false,
       "scales": {
        "x": "IPY_MODEL_e9f5d117365d48b7808583485610df19",
        "y": "IPY_MODEL_6f2ebd5039c24c25824a5043202b1a0f"
       },
       "scales_metadata": {
        "color": {
         "dimension": "color"
        },
        "opacity": {
         "dimension": "opacity"
        },
        "rotation": {
         "dimension": "rotation"
        },
        "size": {
         "dimension": "size"
        },
        "skew": {
         "dimension": "skew"
        },
        "x": {
         "dimension": "x",
         "orientation": "horizontal"
        },
        "y": {
         "dimension": "y",
         "orientation": "vertical"
        }
       },
       "tooltip": "IPY_MODEL_1a1b39607e6d46fd81a4eeb90789a0c9",
       "x": {
        "dtype": "int32",
        "shape": [
         20
        ],
        "type": null,
        "value": {}
       },
       "y": {
        "dtype": "float64",
        "shape": [
         20
        ],
        "type": null,
        "value": {}
       }
      }
     },
     "1f3d33f007e14845a8b80e1d34a75024": {
      "model_module": "bqplot",
      "model_module_version": "^0.5.10",
      "model_name": "FigureModel",
      "state": {
       "_model_module_version": "^0.5.10",
       "_view_module_version": "^0.5.10",
       "axes": [
        "IPY_MODEL_3e4473f218784e13b0d5dbcfd5424faa",
        "IPY_MODEL_f12248fcfee145729744768211bb7280"
       ],
       "layout": "IPY_MODEL_6099d473a8e04d149121d8c1de98d529",
       "marks": [
        "IPY_MODEL_66f36be39c634e18b0a527adaf394fa2"
       ],
       "scale_x": "IPY_MODEL_9b903b0d0ae84bf6bb664c4ce6bf822e",
       "scale_y": "IPY_MODEL_85ce183712e544d5b7d2e52166e677aa"
      }
     },
     "22f6ee714c784df38b3a97130d24f78b": {
      "model_module": "bqplot",
      "model_module_version": "^0.5.10",
      "model_name": "FigureModel",
      "state": {
       "_model_module_version": "^0.5.10",
       "_view_module_version": "^0.5.10",
       "axes": [
        "IPY_MODEL_be56efccf87443928ddf8ba13ff4b9f4",
        "IPY_MODEL_c05b575f53814ecf8e6f6cb7d4c77808"
       ],
       "layout": "IPY_MODEL_2950840ffb4d4c9cb3702b6fe9fbc827",
       "marks": [
        "IPY_MODEL_8ccf95a935c14c4580b2bb3fea2079ba"
       ],
       "scale_x": "IPY_MODEL_96218edcd4fb40f6bb6a010b6f526546",
       "scale_y": "IPY_MODEL_a50e7a9424d44f85a320df7d0295f96c"
      }
     },
     "23b5c9925a8c4b8fa54f3df51ffacb5d": {
      "model_module": "bqplot",
      "model_module_version": "^0.5.10",
      "model_name": "AxisModel",
      "state": {
       "_model_module_version": "^0.5.10",
       "_view_module_version": "^0.5.10",
       "orientation": "vertical",
       "scale": "IPY_MODEL_ed4c052cedcc4219b0a6ad8eda8de0c0",
       "side": "left",
       "tick_format": "0.2f",
       "tick_values": null
      }
     },
     "24143c73996e4046ba7c239467691240": {
      "model_module": "bqplot",
      "model_module_version": "^0.5.3",
      "model_name": "LinearScaleModel",
      "state": {
       "_model_module_version": "^0.5.3",
       "_view_module_version": "^0.5.3",
       "allow_padding": false,
       "max": 1,
       "min": 0,
       "stabilized": false
      }
     },
     "2687b0e96cb74154a78e9413912c5f6b": {
      "model_module": "@jupyter-widgets/base",
      "model_module_version": "1.2.0",
      "model_name": "LayoutModel",
      "state": {}
     },
     "28b76240491646acac4408448f6b84b8": {
      "model_module": "bqplot",
      "model_module_version": "^0.5.3",
      "model_name": "LinearScaleModel",
      "state": {
       "_model_module_version": "^0.5.3",
       "_view_module_version": "^0.5.3",
       "allow_padding": false,
       "max": 1,
       "min": 0,
       "stabilized": false
      }
     },
     "290e89413ecf454a93a4210404a884f5": {
      "model_module": "bqplot",
      "model_module_version": "^0.5.10",
      "model_name": "FigureModel",
      "state": {
       "_model_module_version": "^0.5.10",
       "_view_module_version": "^0.5.10",
       "axes": [
        "IPY_MODEL_5adfba90907a4bfe941c1b90a10d4f94",
        "IPY_MODEL_3128e7f0196a423da05e805e53a0ef8b"
       ],
       "layout": "IPY_MODEL_da9a0a65c5414d9691e94fee61a148f8",
       "marks": [
        "IPY_MODEL_2e80b04de72f4c8389fc4bfcc6ecbd3d"
       ],
       "scale_x": "IPY_MODEL_f43242bc5af141bf9ff7bc9876d7d668",
       "scale_y": "IPY_MODEL_6f82ac3949da4219bb4e0a656cae2041"
      }
     },
     "29471f8eac624591aaec18797ed3c02e": {
      "model_module": "@jupyter-widgets/base",
      "model_module_version": "1.2.0",
      "model_name": "LayoutModel",
      "state": {}
     },
     "2950840ffb4d4c9cb3702b6fe9fbc827": {
      "model_module": "@jupyter-widgets/base",
      "model_module_version": "1.2.0",
      "model_name": "LayoutModel",
      "state": {
       "min_width": "600px"
      }
     },
     "2a2c2f3b39a342b49ba3b79fe1dc78f1": {
      "model_module": "@jupyter-widgets/base",
      "model_module_version": "1.2.0",
      "model_name": "LayoutModel",
      "state": {}
     },
     "2c347f7eacbd4217bcca119084d67acf": {
      "model_module": "bqplot",
      "model_module_version": "^0.5.10",
      "model_name": "LinearScaleModel",
      "state": {
       "_model_module_version": "^0.5.10",
       "_view_module_version": "^0.5.10",
       "stabilized": false
      }
     },
     "2e61b19274ae4f28891818e9f29b141f": {
      "model_module": "bqplot",
      "model_module_version": "^0.5.3",
      "model_name": "AxisModel",
      "state": {
       "_model_module_version": "^0.5.3",
       "_view_module_version": "^0.5.3",
       "orientation": "vertical",
       "scale": "IPY_MODEL_a9705010b4e04474b198d8fc2ab0ad95",
       "side": "left",
       "tick_format": "0.2f",
       "tick_values": null
      }
     },
     "2e80b04de72f4c8389fc4bfcc6ecbd3d": {
      "buffers": [
       {
        "data": "AAAAAAEAAAACAAAAAwAAAAQAAAAFAAAABgAAAAcAAAAIAAAACQAAAAoAAAALAAAADAAAAA0AAAAOAAAADwAAABAAAAARAAAAEgAAABMAAAAUAAAAFQAAABYAAAAXAAAAGAAAABkAAAAaAAAAGwAAABwAAAAdAAAAHgAAAB8AAAAgAAAAIQAAACIAAAAjAAAAJAAAACUAAAAmAAAAJwAAACgAAAApAAAAKgAAACsAAAAsAAAALQAAAC4AAAAvAAAAMAAAADEAAAAyAAAAMwAAADQAAAA1AAAANgAAADcAAAA4AAAAOQAAADoAAAA7AAAAPAAAAD0AAAA+AAAAPwAAAEAAAABBAAAAQgAAAEMAAABEAAAARQAAAEYAAABHAAAASAAAAEkAAABKAAAASwAAAEwAAABNAAAATgAAAE8AAABQAAAAUQAAAFIAAABTAAAAVAAAAFUAAABWAAAAVwAAAFgAAABZAAAAWgAAAFsAAABcAAAAXQAAAF4AAABfAAAAYAAAAGEAAABiAAAAYwAAAA==",
        "encoding": "base64",
        "path": [
         "x",
         "value"
        ]
       },
       {
        "data": "B1q6Shuz9L/tuNd2VRf2v0xdUHlDzvG/C2ilPQLgub/YvNNB2Hr8PzvHXpjDnPe/dAMmTWcc87/hp5bc/LLoP77dup10aNw/CvcY4lY+6z9l80Bq24bXP6PpLTyxdOi/aaCfOcd/yj9RvHqlNCKmv0b1JQFayOG/l0s+IZJe7T8v6S15NGjxP0eswXkOg9I/afzxMFoc5r+v2UJHE7v2Pzcigddk4Pu/SjDbDX1y/j/ZORNYQCH3v1xIISvd79o/59v9WQmb4z9n+TWvBobmP9qeQ/KuNt8/3z8a16U3+b8ehjaobeORPzECa5STM6y/9x7Hb3UZ9r/c/QScY1jnP60P/OuPld0/L0NxwkvF0L8z5dVVVcjmv7mFg4+s6ue/nGOPKOhl57/YiUOVYuXlP/3syrmzbOq/JYkSIFmywj90GiM757zXv4TKQC/HJtG/vCnpkBuYur/GQxcAAD7pv3bnXG99E+8/hYxVW6DI6D/CrzlmU8YCQJXpmxyPePI/JvtO2QVE5b9zPlVv8nTiv6SQMzWk3Ow/m7brDT6k4D9YwS+oBTj8v1p0fdkvKOM/TQtdJZ2u8j9G2oaaXqbtv6HmtLkzCeM/bWAQb81V0D9BolQ9Innbv0w9GmF8COO/Y7IzJZ8d9z+fgmGUCSvSP1VIUmzs2/e/xj5qvfQo0L+5EtqCwXv5v1fPIS5RVOm/H3y5t1yM/j8+PWxA0rX3vyRFwIy3GOE/az6cLbrgsb+wiUneJXnAPyMT9eu9Vro/RTfnnI33u79idD9DE5rcPyO9PobKL+m/Fz25MYpy+T9v9+1x34LmPwiwMVyDoPM/kV1nHtG93T/pQyVoqR7hv78dVRrDfeg/dGopka9MvT+VwtvoYtF1P1xt1mc9/PQ/La0Kzd4l7b+NvaKbFs6dv0h77mcdPNk/X0sZf0qX5T+NAzCpVqXoP+oCwOTepcc/sMduW5KNyj9utUFQLaLVP5J0+IJ5V6M/jnYWhuAN2L/ZyOdj534JQMZIXwE9A/I/A9RWUjui2j+u24Keg3nuP5zeZCptOvA/ox/AQkVn8D8=",
        "encoding": "base64",
        "path": [
         "y",
         0,
         "value"
        ]
       },
       {
        "data": "CZUkvtSe7D9yhB6WPKjYP4vPqg2FfPm/h4w6eV9k9D/uVD/UgMfHv5qJenSaWfG/GGSZ5nFW8z/AqNaSbvjxP6dzb+LfbfC/cGgjzQfR1T9ccpxJZxDrv3Z1ZcSTxOk/vIYdYlhe4r8WUeOLP/X0PxzMjuhE8Pi/4zef10jy0D9CLXtJfGzmP3z6XM6DxMQ/XDHhC2sb9L9d4wxTjmLjP1YvImCoAfC/kVhPOBmTqj+9G4rmHD/uv6wKXjWXWOM/TjdDeN3A6L9n79hYbmHxPy7Is/EKwLy/S0IjOd2u0j+4CC5UkFDkv5e5WXBE7KS/K2Ve9vOi7b8lz1cyHbvmv0sXajY/8ew/j9WLXTdB0z97ovpYpujrv2g+rCPWGvO/kBwOZOAq4b/WKeTX4PK7v0s0+wETksU/lLWwSKag97+1AkvsOQ/5P8xtXnSvZuY/MzI5e2bK5L9PYqAGmBHiv20YK2P5Wsk/uH/cTj3Nsz/hkLKJAkX3P2jKd+EV7vM/ldQRq8zK2j9h/rjhB/fSP5goJ71Xf/O/DLdi6lfj2z+0WWPeenn4P0apb1cfVgNAjnFcE1j50D/nfLo/0pT9P6fMUT/e8gPAlQsk/V7z5z+KZnm3B4rxP63IV2yUt9m/71yYBP8z87/3dkm24+Lgv2u2hlhbnti/jJ/XhBcb6b9WKKhILH7pP3lIvaN5m9W/Zatb7rx7BMDjj9yqAQHhv9clBGlIju2/gPz7/p6d1D9eX5x929vdPx61gruACdK/uWA4YsvPy7+HyrDqIir1v9H32kgUYde/WH/e3i2Iyz83revFOfzWv9DzNZTXMuy/NNqhw/cAvr9AtJKAKoXcP4l/JNxkvbQ/gjz7Krb95r+2SlGvGwLyv78Pq+YosfI/rnbpg1/c6r+x0HDOPMS1v8T6duKZDum/8sd60b6zAkAq+cqXVnzbv/12TBmM/t6/q5IoWT6a5r9JInG7kLvJv9aeRj/qE9Q/5LvhASTjtD9poapNg9f2vwH4syJ+XOc/cO2upux1y79Q2VfIrQPUP1zJMHQDKfC/yovz+ZWI5r8=",
        "encoding": "base64",
        "path": [
         "y",
         1,
         "value"
        ]
       },
       {
        "data": "QmRdKkR/zD8bA+hwuWDpPzyG/PK38++/ufQ6Hr+w+j+VuDLpNWLhv8X0gWBqkvu/3Mfk+7dbAsB3E9J13sbZPyp/tbxYOeE/c7zyvVyU0j889b8/2qXzv2UHxOtP3PC/D+ONSZzL3r8qTnTkbHLSvw4B6Vq7TvA/nSHChqRny7+5sx4NrSj3v3JzFHji3PQ/iu7M4CcYAkDCpdk3gcLnPx8D6T/sxO4/l4REhGqQ7j9ReA/AQR71P/R/Haq1B+0/yMLHPVRj5j/yEKBQXBXRv/pFIcW4o/I/jws7r+Ev1L+9TWgeluThP9aDuRmqWALA3BVCSgMH7b9al7Gc8AX2v1RrmcZP87O/tEJpjNXw4b8olyEodTXQP5AbueSvCOs/M/AOzREK0z8gvsIqpCb4v9ecnWRFEtQ/KI0wJGB4178O7ov8Ol+qv2kCsK009dU/p5zTnqB3yD+A9sKTFlCfv2ybA9VBrfU/e1a8kEJb7b+S04X+mrv1v5wB/NWhBOQ/7bS6vE0F67+YFyDTQOTxP5TYxckuzN8/GKHPogDH8D9hV5NorjTRvyLIvSorkMk/YFvQ8nhu67/TZC/JXJ/+P208XICfxcC/Lqw0bFDSzL+812LB15vnv6/T6aHuGPC/rtD0DWcL2T/vKCdcpQXsP96aRCOxZss/FB5jSCEE8j/YQoE4/VrqP26cD5Ll+OU/JcfOm29f5D/ApNFTVJD5P7G+Fxc+B+Q/KIwcrSXX8z/59TvhgHP0v9prXw/XaNc/rqU/GGQ1Wz86zPSSrHP4P2HIJ8Xm29M/Xfcixngj3T8sFRTIv8TPP9F72xy6qfi/WOEngIgt4z/7wNh8yjHmvz7Jv655ssu/O49ij8NS5b9W/rjp3Fj2v9qCIkQQofq/PTZGLfpZ9b8anQjMonTkP0H39xMYK5A/ZPUM5viI2j9DTzFUQBXWP/tuip7G8+0/EnPmM4as5L+Yv4ZXfHngv8AVeum8zeW/7f6XmxQD7L843iXKOUPsv+s9F2HbT/c/ooFsPyVP4r9VIk8nVYznv8hdaw7duO4/elq7ab/K5r8=",
        "encoding": "base64",
        "path": [
         "y",
         2,
         "value"
        ]
       }
      ],
      "model_module": "bqplot",
      "model_module_version": "^0.5.10",
      "model_name": "LinesModel",
      "state": {
       "_model_module_version": "^0.5.10",
       "_view_module_version": "^0.5.10",
       "display_legend": true,
       "fill_colors": [],
       "labels": [
        "line 1",
        "line 2",
        "line 3"
       ],
       "scales": {
        "x": "IPY_MODEL_2c347f7eacbd4217bcca119084d67acf",
        "y": "IPY_MODEL_cc9b1b8609714e27b07fc1db4477912c"
       },
       "tooltip": "IPY_MODEL_bcf6eb7f5c754a37a2e89244f93346a6",
       "x": {
        "dtype": "int32",
        "shape": [
         100
        ],
        "type": null,
        "value": {}
       },
       "y": [
        {
         "dtype": "float64",
         "shape": [
          100
         ],
         "type": null,
         "value": {}
        },
        {
         "dtype": "float64",
         "shape": [
          100
         ],
         "type": null,
         "value": {}
        },
        {
         "dtype": "float64",
         "shape": [
          100
         ],
         "type": null,
         "value": {}
        }
       ]
      }
     },
     "303734eb4fc74756b2ef4a7e882d6625": {
      "model_module": "@jupyter-widgets/base",
      "model_module_version": "1.2.0",
      "model_name": "LayoutModel",
      "state": {}
     },
     "3128e7f0196a423da05e805e53a0ef8b": {
      "model_module": "bqplot",
      "model_module_version": "^0.5.10",
      "model_name": "AxisModel",
      "state": {
       "_model_module_version": "^0.5.10",
       "_view_module_version": "^0.5.10",
       "orientation": "vertical",
       "scale": "IPY_MODEL_cc9b1b8609714e27b07fc1db4477912c",
       "side": "left",
       "tick_format": "0.2f",
       "tick_values": null
      }
     },
     "337aca4e3cdb4051a47dfb55acb6b016": {
      "model_module": "bqplot",
      "model_module_version": "^0.5.3",
      "model_name": "LinearScaleModel",
      "state": {
       "_model_module_version": "^0.5.3",
       "_view_module_version": "^0.5.3",
       "stabilized": false
      }
     },
     "372d86e6cfb9455ab868846a02f65515": {
      "buffers": [
       {
        "data": "AAAAAAAA8D8=",
        "encoding": "base64",
        "path": [
         "default_opacities",
         "value"
        ]
       },
       {
        "data": "ZAAAAGUAAABmAAAAZwAAAGgAAABpAAAAagAAAGsAAABsAAAAbQAAAG4AAABvAAAAcAAAAHEAAAByAAAAcwAAAHQAAAB1AAAAdgAAAHcAAAB4AAAAeQAAAHoAAAB7AAAAfAAAAH0AAAB+AAAAfwAAAIAAAACBAAAAggAAAIMAAACEAAAAhQAAAIYAAACHAAAAiAAAAIkAAACKAAAAiwAAAIwAAACNAAAAjgAAAI8AAACQAAAAkQAAAJIAAACTAAAAlAAAAJUAAACWAAAAlwAAAJgAAACZAAAAmgAAAJsAAACcAAAAnQAAAJ4AAACfAAAAoAAAAKEAAACiAAAAowAAAKQAAAClAAAApgAAAKcAAACoAAAAqQAAAKoAAACrAAAArAAAAK0AAACuAAAArwAAALAAAACxAAAAsgAAALMAAAC0AAAAtQAAALYAAAC3AAAAuAAAALkAAAC6AAAAuwAAALwAAAC9AAAAvgAAAL8AAADAAAAAwQAAAMIAAADDAAAAxAAAAMUAAADGAAAAxwAAAA==",
        "encoding": "base64",
        "path": [
         "names",
         "value"
        ]
       },
       {
        "data": "AAAAAAEAAAACAAAAAwAAAAQAAAAFAAAABgAAAAcAAAAIAAAACQAAAAoAAAALAAAADAAAAA0AAAAOAAAADwAAABAAAAARAAAAEgAAABMAAAA=",
        "encoding": "base64",
        "path": [
         "x",
         "value"
        ]
       },
       {
        "data": "V6lMrj4f1D+x7pEH2ujHv4ULFmYj6t+/Stcc3LCk8r+6v35rniHlv2EdAOCjTKA/Z3571jag8b+8dDxyj0/mPwTzquZq+fC/HuEKSpKN7D8RgtXUsBDVPyArwDrwGOe/oARXW5Zv4z+fgNQty/zyP98eomHP8s8/FEA2tReQ9j+iJJUvQG/hPxth/aKV1Lw/6KhFkwYn5783AZ9lpPvUvw==",
        "encoding": "base64",
        "path": [
         "y",
         "value"
        ]
       }
      ],
      "model_module": "bqplot",
      "model_module_version": "^0.5.3",
      "model_name": "ScatterModel",
      "state": {
       "_model_module_version": "^0.5.3",
       "_view_module_version": "^0.5.3",
       "colors": [
        "orangered"
       ],
       "default_opacities": {
        "dtype": "float64",
        "shape": [
         1
        ],
        "type": null,
        "value": {}
       },
       "display_legend": true,
       "display_names": false,
       "labels": [
        "Red"
       ],
       "names": {
        "dtype": "int32",
        "shape": [
         100
        ],
        "type": null,
        "value": {}
       },
       "names_unique": false,
       "scales": {
        "x": "IPY_MODEL_a0cc8106cbe749bb996b35f6990c9c95",
        "y": "IPY_MODEL_f28373637c2e42a6833298c528c139b6"
       },
       "scales_metadata": {
        "color": {
         "dimension": "color"
        },
        "opacity": {
         "dimension": "opacity"
        },
        "rotation": {
         "dimension": "rotation"
        },
        "size": {
         "dimension": "size"
        },
        "skew": {
         "dimension": "skew"
        },
        "x": {
         "dimension": "x",
         "orientation": "horizontal"
        },
        "y": {
         "dimension": "y",
         "orientation": "vertical"
        }
       },
       "tooltip": "IPY_MODEL_bc04a0bf999848e99cdeffeefaf386b7",
       "x": {
        "dtype": "int32",
        "shape": [
         20
        ],
        "type": null,
        "value": {}
       },
       "y": {
        "dtype": "float64",
        "shape": [
         20
        ],
        "type": null,
        "value": {}
       }
      }
     },
     "3768639aa2544cab98ccd3ed76d019e6": {
      "model_module": "@jupyter-widgets/base",
      "model_module_version": "1.2.0",
      "model_name": "LayoutModel",
      "state": {}
     },
     "38226ae9e74a44439bf1c1a90fb51123": {
      "model_module": "bqplot",
      "model_module_version": "^0.5.3",
      "model_name": "TooltipModel",
      "state": {
       "_model_module_version": "^0.5.3",
       "_view_module_version": "^0.5.3",
       "fields": [
        "size",
        "index",
        "color"
       ],
       "formats": [
        "0.2f",
        "",
        "0.2f"
       ],
       "layout": "IPY_MODEL_3768639aa2544cab98ccd3ed76d019e6"
      }
     },
     "3e4473f218784e13b0d5dbcfd5424faa": {
      "model_module": "bqplot",
      "model_module_version": "^0.5.10",
      "model_name": "AxisModel",
      "state": {
       "_model_module_version": "^0.5.10",
       "_view_module_version": "^0.5.10",
       "scale": "IPY_MODEL_f4737a806a7d479a9caf53cad8f815a0",
       "side": "bottom",
       "tick_format": "0.2f",
       "tick_values": null
      }
     },
     "40309a92cd454fc4bb1a285ffc7a9cc1": {
      "model_module": "bqplot",
      "model_module_version": "^0.5.10",
      "model_name": "FigureModel",
      "state": {
       "_model_module_version": "^0.5.10",
       "_view_module_version": "^0.5.10",
       "layout": "IPY_MODEL_7e9a7240f46548b3a8a1d9b71230f16e",
       "marks": [
        "IPY_MODEL_0420ff4dd29943feb1ab663b7e803a7b"
       ],
       "scale_x": "IPY_MODEL_6840368b74704170adc263de680c8d82",
       "scale_y": "IPY_MODEL_453a80bb6d764468ac8aa7430e90cb01"
      }
     },
     "432331ebc00b4f2f87e6338bd5369af3": {
      "model_module": "bqplot",
      "model_module_version": "^0.5.10",
      "model_name": "LinearScaleModel",
      "state": {
       "_model_module_version": "^0.5.10",
       "_view_module_version": "^0.5.10",
       "allow_padding": false,
       "max": 1,
       "min": 0,
       "stabilized": false
      }
     },
     "44cd2b3480aa4d839e3bf948ba2568e5": {
      "model_module": "bqplot",
      "model_module_version": "^0.5.10",
      "model_name": "LinearScaleModel",
      "state": {
       "_model_module_version": "^0.5.10",
       "_view_module_version": "^0.5.10",
       "allow_padding": false,
       "max": 1,
       "min": 0,
       "stabilized": false
      }
     },
     "453a80bb6d764468ac8aa7430e90cb01": {
      "model_module": "bqplot",
      "model_module_version": "^0.5.10",
      "model_name": "LinearScaleModel",
      "state": {
       "_model_module_version": "^0.5.10",
       "_view_module_version": "^0.5.10",
       "allow_padding": false,
       "max": 1,
       "min": 0,
       "stabilized": false
      }
     },
     "45f59147fbe34e2fbf10171d889f8eaf": {
      "model_module": "bqplot",
      "model_module_version": "^0.5.3",
      "model_name": "LinearScaleModel",
      "state": {
       "_model_module_version": "^0.5.3",
       "_view_module_version": "^0.5.3",
       "allow_padding": false,
       "max": 1,
       "min": 0,
       "stabilized": false
      }
     },
     "47ee282c591644beac29ad55a22675a9": {
      "model_module": "bqplot",
      "model_module_version": "^0.5.10",
      "model_name": "LinearScaleModel",
      "state": {
       "_model_module_version": "^0.5.10",
       "_view_module_version": "^0.5.10",
       "stabilized": false
      }
     },
     "4c461af3a9c548408fd8c28eb9adaae3": {
      "model_module": "bqplot",
      "model_module_version": "^0.5.10",
      "model_name": "LinearScaleModel",
      "state": {
       "_model_module_version": "^0.5.10",
       "_view_module_version": "^0.5.10",
       "stabilized": false
      }
     },
     "4cbb87571c744fd19504468ebd6e0f7a": {
      "model_module": "@jupyter-widgets/controls",
      "model_module_version": "1.5.0",
      "model_name": "ButtonStyleModel",
      "state": {}
     },
     "4e3becad518d4b7ba938150b909bcb8c": {
      "model_module": "bqplot",
      "model_module_version": "^0.5.3",
      "model_name": "LinearScaleModel",
      "state": {
       "_model_module_version": "^0.5.3",
       "_view_module_version": "^0.5.3",
       "allow_padding": false,
       "max": 1,
       "min": 0,
       "stabilized": false
      }
     },
     "535240bfe46d4911a1395a89a8c2ebbd": {
      "model_module": "bqplot",
      "model_module_version": "^0.5.3",
      "model_name": "LinearScaleModel",
      "state": {
       "_model_module_version": "^0.5.3",
       "_view_module_version": "^0.5.3",
       "allow_padding": false,
       "max": 1,
       "min": 0,
       "stabilized": false
      }
     },
     "5376aea32823445385c6001f7a00cad9": {
      "model_module": "bqplot",
      "model_module_version": "^0.5.3",
      "model_name": "FigureModel",
      "state": {
       "_model_module_version": "^0.5.3",
       "_view_module_version": "^0.5.3",
       "layout": "IPY_MODEL_112447aa248e4d0785c81180f1a734ae",
       "marks": [
        "IPY_MODEL_e1807f79d9764ff1bf2b8329afe2fce0"
       ],
       "scale_x": "IPY_MODEL_a66c6dea1e2d465281e4ad3015bd3a8c",
       "scale_y": "IPY_MODEL_535240bfe46d4911a1395a89a8c2ebbd"
      }
     },
     "53c404e182ae4c408e72b03bf3281aa4": {
      "model_module": "bqplot",
      "model_module_version": "^0.5.10",
      "model_name": "TooltipModel",
      "state": {
       "_model_module_version": "^0.5.10",
       "_view_module_version": "^0.5.10",
       "fields": [
        "count",
        "midpoint"
       ],
       "formats": [
        "",
        ".2f"
       ],
       "layout": "IPY_MODEL_edf71fb352044a91bfe4ce055e24afeb"
      }
     },
     "55cef3d213844cca931bde90ff79eca7": {
      "model_module": "bqplot",
      "model_module_version": "^0.5.3",
      "model_name": "ColorScaleModel",
      "state": {
       "_model_module_version": "^0.5.3",
       "_view_module_version": "^0.5.3",
       "colors": [],
       "scale_type": "linear",
       "scheme": "Reds"
      }
     },
     "5609fa5ac2654286b2b282366dfcf0d1": {
      "buffers": [
       {
        "data": "AAAAAAEAAAACAAAAAwAAAAQAAAAFAAAABgAAAAcAAAAIAAAACQAAAAoAAAALAAAADAAAAA0AAAAOAAAADwAAABAAAAARAAAAEgAAABMAAAAUAAAAFQAAABYAAAAXAAAAGAAAABkAAAAaAAAAGwAAABwAAAAdAAAAHgAAAB8AAAAgAAAAIQAAACIAAAAjAAAAJAAAACUAAAAmAAAAJwAAACgAAAApAAAAKgAAACsAAAAsAAAALQAAAC4AAAAvAAAAMAAAADEAAAAyAAAAMwAAADQAAAA1AAAANgAAADcAAAA4AAAAOQAAADoAAAA7AAAAPAAAAD0AAAA+AAAAPwAAAEAAAABBAAAAQgAAAEMAAABEAAAARQAAAEYAAABHAAAASAAAAEkAAABKAAAASwAAAEwAAABNAAAATgAAAE8AAABQAAAAUQAAAFIAAABTAAAAVAAAAFUAAABWAAAAVwAAAFgAAABZAAAAWgAAAFsAAABcAAAAXQAAAF4AAABfAAAAYAAAAGEAAABiAAAAYwAAAA==",
        "encoding": "base64",
        "path": [
         "x",
         "value"
        ]
       }
      ],
      "model_module": "bqplot",
      "model_module_version": "^0.5.3",
      "model_name": "LinesModel",
      "state": {
       "_model_module_version": "^0.5.3",
       "_view_module_version": "^0.5.3",
       "display_legend": true,
       "fill_colors": [],
       "labels": [
        "line 1",
        "line 2",
        "line 3"
       ],
       "scales": {
        "x": "IPY_MODEL_d4515ed2d1d64e1aad03695cd01d48bf",
        "y": "IPY_MODEL_085ce8508e43403789fe9c9c0c373c6a"
       },
       "tooltip": "IPY_MODEL_f067f6f03acd47cea381a65782e5957d",
       "x": {
        "dtype": "int32",
        "shape": [
         100
        ],
        "type": null,
        "value": {}
       },
       "y": [
        null,
        null,
        null
       ]
      }
     },
     "5663cb052b2847abafd52594dfbe29cf": {
      "model_module": "bqplot",
      "model_module_version": "^0.5.3",
      "model_name": "TooltipModel",
      "state": {
       "_model_module_version": "^0.5.3",
       "_view_module_version": "^0.5.3",
       "fields": [
        "x",
        "y"
       ],
       "formats": [
        "",
        ".2f"
       ],
       "layout": "IPY_MODEL_2a2c2f3b39a342b49ba3b79fe1dc78f1"
      }
     },
     "56e104abbdc34786882424a25db20326": {
      "model_module": "bqplot",
      "model_module_version": "^0.5.10",
      "model_name": "FigureModel",
      "state": {
       "_model_module_version": "^0.5.10",
       "_view_module_version": "^0.5.10",
       "axes": [
        "IPY_MODEL_15381c23662a46ffae423f309d8bfa43",
        "IPY_MODEL_23b5c9925a8c4b8fa54f3df51ffacb5d"
       ],
       "layout": "IPY_MODEL_88eec66cc14046e189b4e46ee69f460d",
       "marks": [
        "IPY_MODEL_d66b813d20ac48c5a00e3b42b4ec09e8"
       ],
       "scale_x": "IPY_MODEL_df310beed78a4ba4aeb21fac9073edf4",
       "scale_y": "IPY_MODEL_06a965d111d346c48f18261fe1364e06"
      }
     },
     "57102968f2d4476abe171452408fe74f": {
      "model_module": "@jupyter-widgets/controls",
      "model_module_version": "1.5.0",
      "model_name": "DescriptionStyleModel",
      "state": {
       "description_width": ""
      }
     },
     "5910e325510c443eb2c2f530c3b1da77": {
      "model_module": "@jupyter-widgets/base",
      "model_module_version": "1.2.0",
      "model_name": "LayoutModel",
      "state": {}
     },
     "5a6546afce0449e19dbd5da5611f8803": {
      "model_module": "bqplot",
      "model_module_version": "^0.5.3",
      "model_name": "TooltipModel",
      "state": {
       "_model_module_version": "^0.5.3",
       "_view_module_version": "^0.5.3",
       "fields": [
        "count",
        "midpoint"
       ],
       "formats": [
        "",
        ".2f"
       ],
       "layout": "IPY_MODEL_e515aeaabfa44a58bba22c352779c079"
      }
     },
     "5adfba90907a4bfe941c1b90a10d4f94": {
      "model_module": "bqplot",
      "model_module_version": "^0.5.10",
      "model_name": "AxisModel",
      "state": {
       "_model_module_version": "^0.5.10",
       "_view_module_version": "^0.5.10",
       "scale": "IPY_MODEL_2c347f7eacbd4217bcca119084d67acf",
       "side": "bottom",
       "tick_values": null
      }
     },
     "5f4407c9031149099f57a71cf7b75177": {
      "model_module": "bqplot",
      "model_module_version": "^0.5.3",
      "model_name": "LinearScaleModel",
      "state": {
       "_model_module_version": "^0.5.3",
       "_view_module_version": "^0.5.3",
       "stabilized": false
      }
     },
     "6099d473a8e04d149121d8c1de98d529": {
      "model_module": "@jupyter-widgets/base",
      "model_module_version": "1.2.0",
      "model_name": "LayoutModel",
      "state": {}
     },
     "66f36be39c634e18b0a527adaf394fa2": {
      "buffers": [
       {
        "data": "AAAAAAAAHEAAAAAAAAAUQAAAAAAAABxAAAAAAAAAKkAAAAAAAAAyQAAAAAAAADFAAAAAAAAAMUAAAAAAAAAkQAAAAAAAABRAAAAAAAAAAAAAAAAAAADwPw==",
        "encoding": "base64",
        "path": [
         "count",
         "value"
        ]
       },
       {
        "data": "RSH2P4g20L/K/LHci47wP9ZRcrahgu4//IcxXSAx0j+e7Jb31sDwP2eJb1FjQuA/vmXJa2Z06b8U4jfXT4Lvvx1spE4OaNa/hCHMQGJ39L8/Lu/HVz75PzjgYuq4uuq/WSWp+K9G/r9waywU5NL3P1Zz2x8Nzoq/+a/o6kNW5z+66nsAEJfov20VAowl2/g/ytc0drAw8D95shF+0rzzP648LiK6kuA/uLrgSKDMuT8Lz+B04iK9P8NvhBaeHvA/erp1Cqrn7r8vrvv17XTwP9VS4yErjrW/75LKSsxbyD8lVkbrJJnyv7urrSJyiNI/cSAaj8YF8j/GWNRTjf7+v8bmQzTA0QJADKpJ/qDSqL+je/e4erf1P0DPQUfpy9W/pw+OYWzqwj8Wk03Ydj70vx7lpzw9UOA/cxY/GZRVtT82zHsMpjHnP4/XBBDy9vU/mWLyIZZ35L/MgDKOKpDiv7Qxy/CIueq/IaiI8YDI+L9Fc6cmqS7eP/EznRLJWtC/oWhW6YVE6T8Y84xrLD/MP/Qqp4TXhOO/iZsWPJGVmr/mzxQXeLv+v56e60unGPa/GQMrVwpEzD9bmKtDmLvnv0Tu1oXmCvM/lrvbvaokmr/mbt/tHYD7P7uW+4q63O0/Bbo0DVupor8or2hcdVPlP1XbobHN39O/rO0+NEhV3L8BRh1s0GzgvwExsesWbtE/lWzCtS+T879bpYkQkQPOP3KIhInw4+Y/bma7tHTr+L8fL8vic57rP0Br4b7ROtG/kmy/992F2z+t4997L//WP7T2Iz/yu80/xgVpfhge0z94Av9yuMHkP/uH8TGxJ/k/7EyN7mgz9D+PadQM9ef8v8DmWtQ1YPg/6/+TLaaS4T8fN+u+q4TJP/42ukVJFMi/2GjiyQniwb+iNJJ2jNfCv3Wrrldl6dY/+Ioa7T3m5D8/xZTe6+SmPzW88SIvzNS/rQmuymRP7D8mxPnuJ1LkP9R4IRL0v9K/p6tZdoEPuD84smYTe0etv//B7W22x/y/h97wk0Ze9z+bCp/8Puv2PwmoeE4z3uQ/3aHV8dw+9T8=",
        "encoding": "base64",
        "path": [
         "sample",
         "value"
        ]
       }
      ],
      "model_module": "bqplot",
      "model_module_version": "^0.5.10",
      "model_name": "HistModel",
      "state": {
       "_model_module_version": "^0.5.10",
       "_view_module_version": "^0.5.10",
       "count": {
        "dtype": "float64",
        "shape": [
         11
        ],
        "type": null,
        "value": {}
       },
       "display_legend": true,
       "interactions": {
        "legend_click": "tooltip"
       },
       "labels": [
        "Test Hist"
       ],
       "midpoints": [
        -1.722668305082178,
        -1.2937119170110138,
        -0.8647555289398495,
        -0.4357991408686852,
        -0.006842752797520779,
        0.42211363527364343,
        0.8510700233448076,
        1.280026411415972,
        1.7089827994871365,
        2.137939187558301
       ],
       "sample": {
        "dtype": "float64",
        "shape": [
         100
        ],
        "type": null,
        "value": {}
       },
       "scales": {
        "count": "IPY_MODEL_4c461af3a9c548408fd8c28eb9adaae3",
        "sample": "IPY_MODEL_f4737a806a7d479a9caf53cad8f815a0"
       },
       "tooltip": "IPY_MODEL_53c404e182ae4c408e72b03bf3281aa4"
      }
     },
     "6840368b74704170adc263de680c8d82": {
      "model_module": "bqplot",
      "model_module_version": "^0.5.10",
      "model_name": "LinearScaleModel",
      "state": {
       "_model_module_version": "^0.5.10",
       "_view_module_version": "^0.5.10",
       "allow_padding": false,
       "max": 1,
       "min": 0,
       "stabilized": false
      }
     },
     "6cc69c723def49df915b9aed7dd1f0f7": {
      "model_module": "bqplot",
      "model_module_version": "^0.5.3",
      "model_name": "FigureModel",
      "state": {
       "_model_module_version": "^0.5.3",
       "_view_module_version": "^0.5.3",
       "axes": [
        "IPY_MODEL_6cea2949620a445097ca4d41789d0da7",
        "IPY_MODEL_8ff7771285a542c28112c9611a2361ab"
       ],
       "layout": "IPY_MODEL_75dbfc5528f1420d9ae8c284c6caa868",
       "marks": [
        "IPY_MODEL_e1acb65086ef450d8283e585c851f029",
        "IPY_MODEL_372d86e6cfb9455ab868846a02f65515"
       ],
       "scale_x": "IPY_MODEL_92ef3d56064b4e13ad16b87f1a814a36",
       "scale_y": "IPY_MODEL_d0eed10fbdb849eca9fba1808f5157cd"
      }
     },
     "6cea2949620a445097ca4d41789d0da7": {
      "model_module": "bqplot",
      "model_module_version": "^0.5.3",
      "model_name": "AxisModel",
      "state": {
       "_model_module_version": "^0.5.3",
       "_view_module_version": "^0.5.3",
       "scale": "IPY_MODEL_a0cc8106cbe749bb996b35f6990c9c95",
       "side": "bottom",
       "tick_values": null
      }
     },
     "6f2ebd5039c24c25824a5043202b1a0f": {
      "model_module": "bqplot",
      "model_module_version": "^0.5.10",
      "model_name": "LinearScaleModel",
      "state": {
       "_model_module_version": "^0.5.10",
       "_view_module_version": "^0.5.10",
       "stabilized": false
      }
     },
     "6f82ac3949da4219bb4e0a656cae2041": {
      "model_module": "bqplot",
      "model_module_version": "^0.5.10",
      "model_name": "LinearScaleModel",
      "state": {
       "_model_module_version": "^0.5.10",
       "_view_module_version": "^0.5.10",
       "allow_padding": false,
       "max": 1,
       "min": 0,
       "stabilized": false
      }
     },
     "6fc39c5a9686400ea3790039f3165316": {
      "model_module": "bqplot",
      "model_module_version": "^0.5.10",
      "model_name": "ColorScaleModel",
      "state": {
       "_model_module_version": "^0.5.10",
       "_view_module_version": "^0.5.10",
       "colors": [],
       "scale_type": "linear",
       "scheme": "Reds"
      }
     },
     "740dc6666f4f46a1b7681ae37c40e151": {
      "model_module": "bqplot",
      "model_module_version": "^0.5.3",
      "model_name": "LinearScaleModel",
      "state": {
       "_model_module_version": "^0.5.3",
       "_view_module_version": "^0.5.3",
       "stabilized": false
      }
     },
     "75dbfc5528f1420d9ae8c284c6caa868": {
      "model_module": "@jupyter-widgets/base",
      "model_module_version": "1.2.0",
      "model_name": "LayoutModel",
      "state": {}
     },
     "786d30f970f54c53aa8fdcf9d990f7e2": {
      "buffers": [
       {
        "data": "AAAAAAAA8D8=",
        "encoding": "base64",
        "path": [
         "default_opacities",
         "value"
        ]
       },
       {
        "data": "AQAAAAIAAAADAAAA",
        "encoding": "base64",
        "path": [
         "selected",
         "value"
        ]
       },
       {
        "data": "AAAAAAEAAAACAAAAAwAAAAQAAAAFAAAABgAAAAcAAAAIAAAACQAAAAoAAAALAAAADAAAAA0AAAAOAAAADwAAABAAAAARAAAAEgAAABMAAAA=",
        "encoding": "base64",
        "path": [
         "x",
         "value"
        ]
       },
       {
        "data": "ifv82qNa47/bjcBDl77RP8rZlYU2ANc/HWB6YJDeB0DSRxYYvQXrv5kx/oXMQPQ/Ax9q25b32T8RBAKUz/bsvzXtSmEOi9G/8K4M6ITF8z++DGxx1bLsvyaVWlJmH/8/5dPpOlK83r9ImRMn76TxPy3Ht59aufc/taYFR3qN5L+s433juH6Xv0rI4DhiDO2/FAVLItWBqr/amWq0UIDSvw==",
        "encoding": "base64",
        "path": [
         "y",
         "value"
        ]
       }
      ],
      "model_module": "bqplot",
      "model_module_version": "^0.5.10",
      "model_name": "ScatterModel",
      "state": {
       "_model_module_version": "^0.5.10",
       "_view_module_version": "^0.5.10",
       "colors": [
        "dodgerblue"
       ],
       "default_opacities": {
        "dtype": "float64",
        "shape": [
         1
        ],
        "type": null,
        "value": {}
       },
       "interactions": {
        "click": "select"
       },
       "names": null,
       "scales": {
        "x": "IPY_MODEL_d4e28d1b76454c0b8a168e39678c21d3",
        "y": "IPY_MODEL_7df8c3f07f9047119c9ab2de9922cf0f"
       },
       "scales_metadata": {
        "color": {
         "dimension": "color"
        },
        "opacity": {
         "dimension": "opacity"
        },
        "rotation": {
         "dimension": "rotation"
        },
        "size": {
         "dimension": "size"
        },
        "skew": {
         "dimension": "skew"
        },
        "x": {
         "dimension": "x",
         "orientation": "horizontal"
        },
        "y": {
         "dimension": "y",
         "orientation": "vertical"
        }
       },
       "selected": {
        "dtype": "int32",
        "shape": [
         3
        ],
        "type": null,
        "value": {}
       },
       "selected_style": {
        "fill": "DarkOrange",
        "opacity": 1,
        "stroke": "Red"
       },
       "unselected_style": {
        "opacity": 0.5
       },
       "x": {
        "dtype": "int32",
        "shape": [
         20
        ],
        "type": null,
        "value": {}
       },
       "y": {
        "dtype": "float64",
        "shape": [
         20
        ],
        "type": null,
        "value": {}
       }
      }
     },
     "79a97d760a3146c88495232c6e8d4189": {
      "model_module": "@jupyter-widgets/controls",
      "model_module_version": "1.5.0",
      "model_name": "ButtonStyleModel",
      "state": {}
     },
     "7bf2fca17a60484c874f4c3ab8c81002": {
      "model_module": "bqplot",
      "model_module_version": "^0.5.3",
      "model_name": "FigureModel",
      "state": {
       "_model_module_version": "^0.5.3",
       "_view_module_version": "^0.5.3",
       "axes": [
        "IPY_MODEL_0d0572ecd38f4b638b52fda5638e58a2",
        "IPY_MODEL_2e61b19274ae4f28891818e9f29b141f"
       ],
       "layout": "IPY_MODEL_9e2c047d269541e2a50062008f23c434",
       "marks": [
        "IPY_MODEL_91f48e4d8c5b49d7aa65a11ecf9b86f3"
       ],
       "scale_x": "IPY_MODEL_a540dd30292d4b19bd7a5d4b024f8126",
       "scale_y": "IPY_MODEL_24143c73996e4046ba7c239467691240"
      }
     },
     "7df8c3f07f9047119c9ab2de9922cf0f": {
      "model_module": "bqplot",
      "model_module_version": "^0.5.10",
      "model_name": "LinearScaleModel",
      "state": {
       "_model_module_version": "^0.5.10",
       "_view_module_version": "^0.5.10",
       "stabilized": false
      }
     },
     "7e9a7240f46548b3a8a1d9b71230f16e": {
      "model_module": "@jupyter-widgets/base",
      "model_module_version": "1.2.0",
      "model_name": "LayoutModel",
      "state": {}
     },
     "7eccca88550945579f2fd18ff5280876": {
      "model_module": "bqplot",
      "model_module_version": "^0.5.3",
      "model_name": "OrdinalScaleModel",
      "state": {
       "_model_module_version": "^0.5.3",
       "_view_module_version": "^0.5.3"
      }
     },
     "80bfd55166c64527a49d0a4f0fd36a17": {
      "buffers": [
       {
        "data": "AAAAAAAA8D8=",
        "encoding": "base64",
        "path": [
         "default_opacities",
         "value"
        ]
       },
       {
        "data": "AQAAAAIAAAADAAAA",
        "encoding": "base64",
        "path": [
         "selected",
         "value"
        ]
       },
       {
        "data": "AAAAAAEAAAACAAAAAwAAAAQAAAAFAAAABgAAAAcAAAAIAAAACQAAAAoAAAALAAAADAAAAA0AAAAOAAAADwAAABAAAAARAAAAEgAAABMAAAA=",
        "encoding": "base64",
        "path": [
         "x",
         "value"
        ]
       },
       {
        "data": "LC/hQnl/7T+2YHmNW5Dvv94sHjGz9ua/rzkmlMAW/z9iae5h5eDQP6tVp0VNCOW/MSu0jQPy1j8ZxstvbpfWvyh0AdG2q+C/TTEAAav88r9Oy1jU7Lqsv7vaNojHJvY/jv+s8TaJ+7+2ADCsBtjkP8TfVhw8SMO/SN/oHlLR+78mh0q+KMrtv/gH/jFM3eM/pewzKpya7r9UcopbRvXdPw==",
        "encoding": "base64",
        "path": [
         "y",
         "value"
        ]
       }
      ],
      "model_module": "bqplot",
      "model_module_version": "^0.5.3",
      "model_name": "ScatterModel",
      "state": {
       "_model_module_version": "^0.5.3",
       "_view_module_version": "^0.5.3",
       "colors": [
        "dodgerblue"
       ],
       "default_opacities": {
        "dtype": "float64",
        "shape": [
         1
        ],
        "type": null,
        "value": {}
       },
       "interactions": {
        "click": "select"
       },
       "names": null,
       "scales": {
        "x": "IPY_MODEL_9db8054b2bc74347b9329f54c99e434e",
        "y": "IPY_MODEL_ed9af61bd8484bf4a5eae1d691270d70"
       },
       "scales_metadata": {
        "color": {
         "dimension": "color"
        },
        "opacity": {
         "dimension": "opacity"
        },
        "rotation": {
         "dimension": "rotation"
        },
        "size": {
         "dimension": "size"
        },
        "skew": {
         "dimension": "skew"
        },
        "x": {
         "dimension": "x",
         "orientation": "horizontal"
        },
        "y": {
         "dimension": "y",
         "orientation": "vertical"
        }
       },
       "selected": {
        "dtype": "int32",
        "shape": [
         3
        ],
        "type": null,
        "value": {}
       },
       "selected_style": {
        "fill": "DarkOrange",
        "opacity": 1,
        "stroke": "Red"
       },
       "unselected_style": {
        "opacity": 0.5
       },
       "x": {
        "dtype": "int32",
        "shape": [
         20
        ],
        "type": null,
        "value": {}
       },
       "y": {
        "dtype": "float64",
        "shape": [
         20
        ],
        "type": null,
        "value": {}
       }
      }
     },
     "834ad74fa7bc4a9b81cc9796a8bf946a": {
      "model_module": "bqplot",
      "model_module_version": "^0.5.3",
      "model_name": "LinearScaleModel",
      "state": {
       "_model_module_version": "^0.5.3",
       "_view_module_version": "^0.5.3",
       "allow_padding": false,
       "max": 1,
       "min": 0,
       "stabilized": false
      }
     },
     "838d9862cc7749e4bfdb0bd93bf823d3": {
      "model_module": "bqplot",
      "model_module_version": "^0.5.3",
      "model_name": "AxisModel",
      "state": {
       "_model_module_version": "^0.5.3",
       "_view_module_version": "^0.5.3",
       "orientation": "vertical",
       "scale": "IPY_MODEL_337aca4e3cdb4051a47dfb55acb6b016",
       "side": "left",
       "tick_format": "0.2f",
       "tick_values": null
      }
     },
     "85ce183712e544d5b7d2e52166e677aa": {
      "model_module": "bqplot",
      "model_module_version": "^0.5.10",
      "model_name": "LinearScaleModel",
      "state": {
       "_model_module_version": "^0.5.10",
       "_view_module_version": "^0.5.10",
       "allow_padding": false,
       "max": 1,
       "min": 0,
       "stabilized": false
      }
     },
     "88485ae4c9af4355be36a81c11751dcc": {
      "model_module": "bqplot",
      "model_module_version": "^0.5.3",
      "model_name": "AxisModel",
      "state": {
       "_model_module_version": "^0.5.3",
       "_view_module_version": "^0.5.3",
       "orientation": "vertical",
       "scale": "IPY_MODEL_ed9af61bd8484bf4a5eae1d691270d70",
       "side": "left",
       "tick_format": "0.2f",
       "tick_values": null
      }
     },
     "88eec66cc14046e189b4e46ee69f460d": {
      "model_module": "@jupyter-widgets/base",
      "model_module_version": "1.2.0",
      "model_name": "LayoutModel",
      "state": {}
     },
     "8a83e57abe9a4ef59acf7d6ce45fa25e": {
      "model_module": "@jupyter-widgets/base",
      "model_module_version": "1.2.0",
      "model_name": "LayoutModel",
      "state": {}
     },
     "8ccf95a935c14c4580b2bb3fea2079ba": {
      "buffers": [
       {
        "data": "AAAAAAEAAAACAAAAAwAAAAQAAAAFAAAABgAAAAcAAAAIAAAACQAAAA==",
        "encoding": "base64",
        "path": [
         "x",
         "value"
        ]
       },
       {
        "data": "10AUAGkY6r8eb62jocT2P9nagHcUmPu/biwBL+x15L9ej6UTqcr3P3ssGOHXOvW/uelAMSyI8D9uuQM3vLn0vxg2JFhCBf2/TeqiTKqa+D8=",
        "encoding": "base64",
        "path": [
         "y",
         "value"
        ]
       }
      ],
      "model_module": "bqplot",
      "model_module_version": "^0.5.10",
      "model_name": "LinesModel",
      "state": {
       "_model_module_version": "^0.5.10",
       "_view_module_version": "^0.5.10",
       "fill_colors": [],
       "labels": [
        "C1"
       ],
       "scales": {
        "x": "IPY_MODEL_47ee282c591644beac29ad55a22675a9",
        "y": "IPY_MODEL_e823a0fd7daa478a9bbb48ea2d66597b"
       },
       "x": {
        "dtype": "int32",
        "shape": [
         10
        ],
        "type": null,
        "value": {}
       },
       "y": {
        "dtype": "float64",
        "shape": [
         10
        ],
        "type": null,
        "value": {}
       }
      }
     },
     "8dc5398767bd4efaa44c1a89c3d9ab20": {
      "model_module": "bqplot",
      "model_module_version": "^0.5.3",
      "model_name": "FigureModel",
      "state": {
       "_model_module_version": "^0.5.3",
       "_view_module_version": "^0.5.3",
       "axes": [
        "IPY_MODEL_184079d6881e42c3b5329f3011aa50f8",
        "IPY_MODEL_cfe1c99971244c08909375b9b9f31cd1"
       ],
       "layout": "IPY_MODEL_b4b4007bfe2a446b8e1a49316691afcc",
       "marks": [
        "IPY_MODEL_d2383ed93dfc4579b8385fe4ee7a5626"
       ],
       "scale_x": "IPY_MODEL_ab2f7732ce824f9299d022223746e642",
       "scale_y": "IPY_MODEL_4e3becad518d4b7ba938150b909bcb8c"
      }
     },
     "8eddc0026cb84832bee33a5111933af8": {
      "model_module": "bqplot",
      "model_module_version": "^0.5.3",
      "model_name": "AxisModel",
      "state": {
       "_model_module_version": "^0.5.3",
       "_view_module_version": "^0.5.3",
       "scale": "IPY_MODEL_d4515ed2d1d64e1aad03695cd01d48bf",
       "side": "bottom",
       "tick_values": null
      }
     },
     "8ff7771285a542c28112c9611a2361ab": {
      "model_module": "bqplot",
      "model_module_version": "^0.5.3",
      "model_name": "AxisModel",
      "state": {
       "_model_module_version": "^0.5.3",
       "_view_module_version": "^0.5.3",
       "orientation": "vertical",
       "scale": "IPY_MODEL_f28373637c2e42a6833298c528c139b6",
       "side": "left",
       "tick_format": "0.2f",
       "tick_values": null
      }
     },
     "91f48e4d8c5b49d7aa65a11ecf9b86f3": {
      "buffers": [
       {
        "data": "AAAAAAEAAAACAAAAAwAAAAQAAAAFAAAABgAAAAcAAAAIAAAACQAAAA==",
        "encoding": "base64",
        "path": [
         "x",
         "value"
        ]
       },
       {
        "data": "oWtHBx3a9T/mO10mTdrCP1zt0OD4OOW/Hz/91Kg08b+vyWbdtCoDQGUEOINa0O2/xVYSe39WpL8rqCUBBsLev7Tg/bOuFvW/vjTJIfXmkL8=",
        "encoding": "base64",
        "path": [
         "y",
         "value"
        ]
       }
      ],
      "model_module": "bqplot",
      "model_module_version": "^0.5.3",
      "model_name": "LinesModel",
      "state": {
       "_model_module_version": "^0.5.3",
       "_view_module_version": "^0.5.3",
       "fill_colors": [],
       "labels": [
        "C1"
       ],
       "scales": {
        "x": "IPY_MODEL_5f4407c9031149099f57a71cf7b75177",
        "y": "IPY_MODEL_a9705010b4e04474b198d8fc2ab0ad95"
       },
       "x": {
        "dtype": "int32",
        "shape": [
         10
        ],
        "type": null,
        "value": {}
       },
       "y": {
        "dtype": "float64",
        "shape": [
         10
        ],
        "type": null,
        "value": {}
       }
      }
     },
     "92ef3d56064b4e13ad16b87f1a814a36": {
      "model_module": "bqplot",
      "model_module_version": "^0.5.3",
      "model_name": "LinearScaleModel",
      "state": {
       "_model_module_version": "^0.5.3",
       "_view_module_version": "^0.5.3",
       "allow_padding": false,
       "max": 1,
       "min": 0,
       "stabilized": false
      }
     },
     "96218edcd4fb40f6bb6a010b6f526546": {
      "model_module": "bqplot",
      "model_module_version": "^0.5.10",
      "model_name": "LinearScaleModel",
      "state": {
       "_model_module_version": "^0.5.10",
       "_view_module_version": "^0.5.10",
       "allow_padding": false,
       "max": 1,
       "min": 0,
       "stabilized": false
      }
     },
     "9688a9b195c4475d9cac84baf9922200": {
      "model_module": "@jupyter-widgets/base",
      "model_module_version": "1.2.0",
      "model_name": "LayoutModel",
      "state": {}
     },
     "9b903b0d0ae84bf6bb664c4ce6bf822e": {
      "model_module": "bqplot",
      "model_module_version": "^0.5.10",
      "model_name": "LinearScaleModel",
      "state": {
       "_model_module_version": "^0.5.10",
       "_view_module_version": "^0.5.10",
       "allow_padding": false,
       "max": 1,
       "min": 0,
       "stabilized": false
      }
     },
     "9bf84f9caf334f538cee891b777fff5c": {
      "model_module": "bqplot",
      "model_module_version": "^0.5.3",
      "model_name": "AxisModel",
      "state": {
       "_model_module_version": "^0.5.3",
       "_view_module_version": "^0.5.3",
       "orientation": "vertical",
       "scale": "IPY_MODEL_085ce8508e43403789fe9c9c0c373c6a",
       "side": "left",
       "tick_format": "0.2f",
       "tick_values": null
      }
     },
     "9db8054b2bc74347b9329f54c99e434e": {
      "model_module": "bqplot",
      "model_module_version": "^0.5.3",
      "model_name": "LinearScaleModel",
      "state": {
       "_model_module_version": "^0.5.3",
       "_view_module_version": "^0.5.3",
       "stabilized": false
      }
     },
     "9e2c047d269541e2a50062008f23c434": {
      "model_module": "@jupyter-widgets/base",
      "model_module_version": "1.2.0",
      "model_name": "LayoutModel",
      "state": {
       "min_width": "600px"
      }
     },
     "a0cc8106cbe749bb996b35f6990c9c95": {
      "model_module": "bqplot",
      "model_module_version": "^0.5.3",
      "model_name": "LinearScaleModel",
      "state": {
       "_model_module_version": "^0.5.3",
       "_view_module_version": "^0.5.3",
       "stabilized": false
      }
     },
     "a13c765b572143969e5961fa376de466": {
      "model_module": "bqplot",
      "model_module_version": "^0.5.10",
      "model_name": "AxisModel",
      "state": {
       "_model_module_version": "^0.5.10",
       "_view_module_version": "^0.5.10",
       "orientation": "vertical",
       "scale": "IPY_MODEL_7df8c3f07f9047119c9ab2de9922cf0f",
       "side": "left",
       "tick_format": "0.2f",
       "tick_values": null
      }
     },
     "a2a3f2652bea4267869606e9beae87c5": {
      "model_module": "bqplot",
      "model_module_version": "^0.5.10",
      "model_name": "FigureModel",
      "state": {
       "_model_module_version": "^0.5.10",
       "_view_module_version": "^0.5.10",
       "axes": [
        "IPY_MODEL_0d545a5ca7274ee3aee3c2ea27814c4a",
        "IPY_MODEL_f065bab584cd4355bbef1b42019f39c1"
       ],
       "layout": "IPY_MODEL_5910e325510c443eb2c2f530c3b1da77",
       "marks": [
        "IPY_MODEL_cbb25dc43af64dd78e63bd2e5b640477",
        "IPY_MODEL_1e7d98923d80422f80463d4c4cf6076b"
       ],
       "scale_x": "IPY_MODEL_cd0729918fca42f081e1577cda06d79f",
       "scale_y": "IPY_MODEL_44cd2b3480aa4d839e3bf948ba2568e5"
      }
     },
     "a46417a0fc94481c894cad4b6f27383e": {
      "model_module": "bqplot",
      "model_module_version": "^0.5.10",
      "model_name": "AxisModel",
      "state": {
       "_model_module_version": "^0.5.10",
       "_view_module_version": "^0.5.10",
       "scale": "IPY_MODEL_d4e28d1b76454c0b8a168e39678c21d3",
       "side": "bottom",
       "tick_values": null
      }
     },
     "a4b28a2e73aa421fbcb71bda97a1e837": {
      "model_module": "bqplot",
      "model_module_version": "^0.5.3",
      "model_name": "AxisModel",
      "state": {
       "_model_module_version": "^0.5.3",
       "_view_module_version": "^0.5.3",
       "scale": "IPY_MODEL_740dc6666f4f46a1b7681ae37c40e151",
       "side": "bottom",
       "tick_format": "0.2f",
       "tick_values": null
      }
     },
     "a50e7a9424d44f85a320df7d0295f96c": {
      "model_module": "bqplot",
      "model_module_version": "^0.5.10",
      "model_name": "LinearScaleModel",
      "state": {
       "_model_module_version": "^0.5.10",
       "_view_module_version": "^0.5.10",
       "allow_padding": false,
       "max": 1,
       "min": 0,
       "stabilized": false
      }
     },
     "a540dd30292d4b19bd7a5d4b024f8126": {
      "model_module": "bqplot",
      "model_module_version": "^0.5.3",
      "model_name": "LinearScaleModel",
      "state": {
       "_model_module_version": "^0.5.3",
       "_view_module_version": "^0.5.3",
       "allow_padding": false,
       "max": 1,
       "min": 0,
       "stabilized": false
      }
     },
     "a66c6dea1e2d465281e4ad3015bd3a8c": {
      "model_module": "bqplot",
      "model_module_version": "^0.5.3",
      "model_name": "LinearScaleModel",
      "state": {
       "_model_module_version": "^0.5.3",
       "_view_module_version": "^0.5.3",
       "allow_padding": false,
       "max": 1,
       "min": 0,
       "stabilized": false
      }
     },
     "a8bf4b5ab283408f8ec74a39b7d15404": {
      "model_module": "@jupyter-widgets/base",
      "model_module_version": "1.2.0",
      "model_name": "LayoutModel",
      "state": {}
     },
     "a9705010b4e04474b198d8fc2ab0ad95": {
      "model_module": "bqplot",
      "model_module_version": "^0.5.3",
      "model_name": "LinearScaleModel",
      "state": {
       "_model_module_version": "^0.5.3",
       "_view_module_version": "^0.5.3",
       "stabilized": false
      }
     },
     "ab2f7732ce824f9299d022223746e642": {
      "model_module": "bqplot",
      "model_module_version": "^0.5.3",
      "model_name": "LinearScaleModel",
      "state": {
       "_model_module_version": "^0.5.3",
       "_view_module_version": "^0.5.3",
       "allow_padding": false,
       "max": 1,
       "min": 0,
       "stabilized": false
      }
     },
     "ad1d292eb2b5466c9dc401a41d2c0659": {
      "model_module": "bqplot",
      "model_module_version": "^0.5.10",
      "model_name": "TooltipModel",
      "state": {
       "_model_module_version": "^0.5.10",
       "_view_module_version": "^0.5.10",
       "fields": [
        "x",
        "y"
       ],
       "formats": [
        "",
        ".2f"
       ],
       "layout": "IPY_MODEL_a8bf4b5ab283408f8ec74a39b7d15404"
      }
     },
     "b2d210e5e4254640aca1638ceccdc21a": {
      "model_module": "bqplot",
      "model_module_version": "^0.5.3",
      "model_name": "LinearScaleModel",
      "state": {
       "_model_module_version": "^0.5.3",
       "_view_module_version": "^0.5.3",
       "stabilized": false
      }
     },
     "b4b4007bfe2a446b8e1a49316691afcc": {
      "model_module": "@jupyter-widgets/base",
      "model_module_version": "1.2.0",
      "model_name": "LayoutModel",
      "state": {}
     },
     "b893e33bdb5a488cafb440e8babc3dc2": {
      "model_module": "bqplot",
      "model_module_version": "^0.5.10",
      "model_name": "TooltipModel",
      "state": {
       "_model_module_version": "^0.5.10",
       "_view_module_version": "^0.5.10",
       "fields": [
        "size",
        "index",
        "color"
       ],
       "formats": [
        "0.2f",
        "",
        "0.2f"
       ],
       "layout": "IPY_MODEL_e18d5411d29149fc80e425daf6babaa3"
      }
     },
     "bc04a0bf999848e99cdeffeefaf386b7": {
      "model_module": "@jupyter-widgets/controls",
      "model_module_version": "1.5.0",
      "model_name": "DropdownModel",
      "state": {
       "_options_labels": [
        "First",
        "Second",
        "Third",
        "Fourth"
       ],
       "index": 0,
       "layout": "IPY_MODEL_0a79cd4f8c2e4b35b292af0612ff9902",
       "style": "IPY_MODEL_57102968f2d4476abe171452408fe74f"
      }
     },
     "bcf6eb7f5c754a37a2e89244f93346a6": {
      "model_module": "bqplot",
      "model_module_version": "^0.5.10",
      "model_name": "TooltipModel",
      "state": {
       "_model_module_version": "^0.5.10",
       "_view_module_version": "^0.5.10",
       "fields": [
        "name",
        "index"
       ],
       "formats": [
        "",
        ".2f"
       ],
       "labels": [
        "id",
        "line_num"
       ],
       "layout": "IPY_MODEL_9688a9b195c4475d9cac84baf9922200"
      }
     },
     "be247aa59bb64f7189a032e0c7ffd585": {
      "model_module": "bqplot",
      "model_module_version": "^0.5.3",
      "model_name": "AxisModel",
      "state": {
       "_model_module_version": "^0.5.3",
       "_view_module_version": "^0.5.3",
       "scale": "IPY_MODEL_9db8054b2bc74347b9329f54c99e434e",
       "side": "bottom",
       "tick_values": null
      }
     },
     "be56efccf87443928ddf8ba13ff4b9f4": {
      "model_module": "bqplot",
      "model_module_version": "^0.5.10",
      "model_name": "AxisModel",
      "state": {
       "_model_module_version": "^0.5.10",
       "_view_module_version": "^0.5.10",
       "scale": "IPY_MODEL_47ee282c591644beac29ad55a22675a9",
       "side": "bottom",
       "tick_values": null
      }
     },
     "c05b575f53814ecf8e6f6cb7d4c77808": {
      "model_module": "bqplot",
      "model_module_version": "^0.5.10",
      "model_name": "AxisModel",
      "state": {
       "_model_module_version": "^0.5.10",
       "_view_module_version": "^0.5.10",
       "orientation": "vertical",
       "scale": "IPY_MODEL_e823a0fd7daa478a9bbb48ea2d66597b",
       "side": "left",
       "tick_format": "0.2f",
       "tick_values": null
      }
     },
     "c987cf799024449ab5eb63968886fb9c": {
      "model_module": "bqplot",
      "model_module_version": "^0.5.3",
      "model_name": "FigureModel",
      "state": {
       "_model_module_version": "^0.5.3",
       "_view_module_version": "^0.5.3",
       "axes": [
        "IPY_MODEL_be247aa59bb64f7189a032e0c7ffd585",
        "IPY_MODEL_88485ae4c9af4355be36a81c11751dcc"
       ],
       "layout": "IPY_MODEL_303734eb4fc74756b2ef4a7e882d6625",
       "marks": [
        "IPY_MODEL_80bfd55166c64527a49d0a4f0fd36a17"
       ],
       "scale_x": "IPY_MODEL_03ef806192ed406686e9cbd65ebf5b14",
       "scale_y": "IPY_MODEL_28b76240491646acac4408448f6b84b8"
      }
     },
     "ca9d2c01e9684b07b0bce5c175f81bcd": {
      "model_module": "bqplot",
      "model_module_version": "^0.5.3",
      "model_name": "FigureModel",
      "state": {
       "_model_module_version": "^0.5.3",
       "_view_module_version": "^0.5.3",
       "axes": [
        "IPY_MODEL_a4b28a2e73aa421fbcb71bda97a1e837",
        "IPY_MODEL_838d9862cc7749e4bfdb0bd93bf823d3"
       ],
       "layout": "IPY_MODEL_e1f849352fc04b44b3ae2d648cf1fd46",
       "marks": [
        "IPY_MODEL_051d0e9e389c4e6faa5cf7e16d44cd30"
       ],
       "scale_x": "IPY_MODEL_834ad74fa7bc4a9b81cc9796a8bf946a",
       "scale_y": "IPY_MODEL_45f59147fbe34e2fbf10171d889f8eaf"
      }
     },
     "cbb25dc43af64dd78e63bd2e5b640477": {
      "buffers": [
       {
        "data": "AAAAAAAA8D8=",
        "encoding": "base64",
        "path": [
         "default_opacities",
         "value"
        ]
       },
       {
        "data": "ZAAAAGUAAABmAAAAZwAAAGgAAABpAAAAagAAAGsAAABsAAAAbQAAAG4AAABvAAAAcAAAAHEAAAByAAAAcwAAAHQAAAB1AAAAdgAAAHcAAAB4AAAAeQAAAHoAAAB7AAAAfAAAAH0AAAB+AAAAfwAAAIAAAACBAAAAggAAAIMAAACEAAAAhQAAAIYAAACHAAAAiAAAAIkAAACKAAAAiwAAAIwAAACNAAAAjgAAAI8AAACQAAAAkQAAAJIAAACTAAAAlAAAAJUAAACWAAAAlwAAAJgAAACZAAAAmgAAAJsAAACcAAAAnQAAAJ4AAACfAAAAoAAAAKEAAACiAAAAowAAAKQAAAClAAAApgAAAKcAAACoAAAAqQAAAKoAAACrAAAArAAAAK0AAACuAAAArwAAALAAAACxAAAAsgAAALMAAAC0AAAAtQAAALYAAAC3AAAAuAAAALkAAAC6AAAAuwAAALwAAAC9AAAAvgAAAL8AAADAAAAAwQAAAMIAAADDAAAAxAAAAMUAAADGAAAAxwAAAA==",
        "encoding": "base64",
        "path": [
         "names",
         "value"
        ]
       },
       {
        "data": "AAAAAAEAAAACAAAAAwAAAAQAAAAFAAAABgAAAAcAAAAIAAAACQAAAAoAAAALAAAADAAAAA0AAAAOAAAADwAAABAAAAARAAAAEgAAABMAAAA=",
        "encoding": "base64",
        "path": [
         "x",
         "value"
        ]
       },
       {
        "data": "FPhLtZ4K8j/NKfhfIg/aPx5jJAEhOPA/tzzdxyY76b+wOau0INbvP6vZmQvUoqy/OnYVXFJd/L+f+dLV0Dvpvwvu7Oimbtg/TUJRRBLI9b+vB0g5p2nlP2W1YVahF9Y/NO0enl1V5j+8+vxFD8Ptv4q/hyQjRea/gpAJlE+W9z+tLgaEZ5rYv46X9j4rXNo/Jyp5cgLUqT80c1BL5TfUvw==",
        "encoding": "base64",
        "path": [
         "y",
         "value"
        ]
       }
      ],
      "model_module": "bqplot",
      "model_module_version": "^0.5.10",
      "model_name": "ScatterModel",
      "state": {
       "_model_module_version": "^0.5.10",
       "_view_module_version": "^0.5.10",
       "colors": [
        "dodgerblue"
       ],
       "default_opacities": {
        "dtype": "float64",
        "shape": [
         1
        ],
        "type": null,
        "value": {}
       },
       "display_legend": true,
       "display_names": false,
       "interactions": {
        "click": "tooltip"
       },
       "labels": [
        "Blue"
       ],
       "names": {
        "dtype": "int32",
        "shape": [
         100
        ],
        "type": null,
        "value": {}
       },
       "names_unique": false,
       "scales": {
        "x": "IPY_MODEL_e9f5d117365d48b7808583485610df19",
        "y": "IPY_MODEL_6f2ebd5039c24c25824a5043202b1a0f"
       },
       "scales_metadata": {
        "color": {
         "dimension": "color"
        },
        "opacity": {
         "dimension": "opacity"
        },
        "rotation": {
         "dimension": "rotation"
        },
        "size": {
         "dimension": "size"
        },
        "skew": {
         "dimension": "skew"
        },
        "x": {
         "dimension": "x",
         "orientation": "horizontal"
        },
        "y": {
         "dimension": "y",
         "orientation": "vertical"
        }
       },
       "tooltip": "IPY_MODEL_22f6ee714c784df38b3a97130d24f78b",
       "x": {
        "dtype": "int32",
        "shape": [
         20
        ],
        "type": null,
        "value": {}
       },
       "y": {
        "dtype": "float64",
        "shape": [
         20
        ],
        "type": null,
        "value": {}
       }
      }
     },
     "cc9b1b8609714e27b07fc1db4477912c": {
      "model_module": "bqplot",
      "model_module_version": "^0.5.10",
      "model_name": "LinearScaleModel",
      "state": {
       "_model_module_version": "^0.5.10",
       "_view_module_version": "^0.5.10",
       "stabilized": false
      }
     },
     "cd0729918fca42f081e1577cda06d79f": {
      "model_module": "bqplot",
      "model_module_version": "^0.5.10",
      "model_name": "LinearScaleModel",
      "state": {
       "_model_module_version": "^0.5.10",
       "_view_module_version": "^0.5.10",
       "allow_padding": false,
       "max": 1,
       "min": 0,
       "stabilized": false
      }
     },
     "cfe1c99971244c08909375b9b9f31cd1": {
      "model_module": "bqplot",
      "model_module_version": "^0.5.3",
      "model_name": "AxisModel",
      "state": {
       "_model_module_version": "^0.5.3",
       "_view_module_version": "^0.5.3",
       "orientation": "vertical",
       "scale": "IPY_MODEL_b2d210e5e4254640aca1638ceccdc21a",
       "side": "left",
       "tick_format": "0.2f",
       "tick_values": null
      }
     },
     "d0eed10fbdb849eca9fba1808f5157cd": {
      "model_module": "bqplot",
      "model_module_version": "^0.5.3",
      "model_name": "LinearScaleModel",
      "state": {
       "_model_module_version": "^0.5.3",
       "_view_module_version": "^0.5.3",
       "allow_padding": false,
       "max": 1,
       "min": 0,
       "stabilized": false
      }
     },
     "d2383ed93dfc4579b8385fe4ee7a5626": {
      "buffers": [
       {
        "data": "AAAAAAEAAAACAAAAAwAAAAQAAAAFAAAABgAAAAcAAAAIAAAACQAAAA==",
        "encoding": "base64",
        "path": [
         "x",
         "value"
        ]
       }
      ],
      "model_module": "bqplot",
      "model_module_version": "^0.5.3",
      "model_name": "BarsModel",
      "state": {
       "_model_module_version": "^0.5.3",
       "_view_module_version": "^0.5.3",
       "display_legend": true,
       "interactions": {
        "click": "tooltip"
       },
       "label_font_style": {},
       "labels": [
        "Level 1",
        "Level 2"
       ],
       "scales": {
        "x": "IPY_MODEL_7eccca88550945579f2fd18ff5280876",
        "y": "IPY_MODEL_b2d210e5e4254640aca1638ceccdc21a"
       },
       "selected_style": {
        "fill": "red",
        "stroke": "orange"
       },
       "tooltip": "IPY_MODEL_5663cb052b2847abafd52594dfbe29cf",
       "type": "grouped",
       "x": {
        "dtype": "int32",
        "shape": [
         10
        ],
        "type": null,
        "value": {}
       },
       "y": [
        null,
        null
       ]
      }
     },
     "d28a9904a8984c2581bd2ab3159d54cf": {
      "model_module": "@jupyter-widgets/base",
      "model_module_version": "1.2.0",
      "model_name": "LayoutModel",
      "state": {}
     },
     "d4515ed2d1d64e1aad03695cd01d48bf": {
      "model_module": "bqplot",
      "model_module_version": "^0.5.3",
      "model_name": "LinearScaleModel",
      "state": {
       "_model_module_version": "^0.5.3",
       "_view_module_version": "^0.5.3",
       "stabilized": false
      }
     },
     "d4e28d1b76454c0b8a168e39678c21d3": {
      "model_module": "bqplot",
      "model_module_version": "^0.5.10",
      "model_name": "LinearScaleModel",
      "state": {
       "_model_module_version": "^0.5.10",
       "_view_module_version": "^0.5.10",
       "stabilized": false
      }
     },
     "d66b813d20ac48c5a00e3b42b4ec09e8": {
      "buffers": [
       {
        "data": "AAAAAAEAAAACAAAAAwAAAAQAAAAFAAAABgAAAAcAAAAIAAAACQAAAA==",
        "encoding": "base64",
        "path": [
         "x",
         "value"
        ]
       },
       {
        "data": "j51iFic2k7+xlJZEthq+v/cRnWcuFKg/kRcVFZal878LZ8ASGGP0P2kL04EWUMO/V56cEEhcvz/mv2fcKwsBwM1FQDiGlfM/JyaKQoCL1j8=",
        "encoding": "base64",
        "path": [
         "y",
         0,
         "value"
        ]
       },
       {
        "data": "teW/MIuV4j+nPTjojWb1vyt4U4iJgvW/fQvWk0Is8b/cLOvMg2Xyv4eXr70SRvQ/FCztfPj91j9ZSyDgxpSvP1LR9QUkXfM/uXJ7tJvd6D8=",
        "encoding": "base64",
        "path": [
         "y",
         1,
         "value"
        ]
       }
      ],
      "model_module": "bqplot",
      "model_module_version": "^0.5.10",
      "model_name": "BarsModel",
      "state": {
       "_model_module_version": "^0.5.10",
       "_view_module_version": "^0.5.10",
       "display_legend": true,
       "interactions": {
        "click": "tooltip"
       },
       "label_font_style": {},
       "labels": [
        "Level 1",
        "Level 2"
       ],
       "scales": {
        "x": "IPY_MODEL_e3e248b5ee4e45d98d1d847b9de0c405",
        "y": "IPY_MODEL_ed4c052cedcc4219b0a6ad8eda8de0c0"
       },
       "selected_style": {
        "fill": "red",
        "stroke": "orange"
       },
       "tooltip": "IPY_MODEL_ad1d292eb2b5466c9dc401a41d2c0659",
       "type": "grouped",
       "x": {
        "dtype": "int32",
        "shape": [
         10
        ],
        "type": null,
        "value": {}
       },
       "y": [
        {
         "dtype": "float64",
         "shape": [
          10
         ],
         "type": null,
         "value": {}
        },
        {
         "dtype": "float64",
         "shape": [
          10
         ],
         "type": null,
         "value": {}
        }
       ]
      }
     },
     "da9a0a65c5414d9691e94fee61a148f8": {
      "model_module": "@jupyter-widgets/base",
      "model_module_version": "1.2.0",
      "model_name": "LayoutModel",
      "state": {}
     },
     "df310beed78a4ba4aeb21fac9073edf4": {
      "model_module": "bqplot",
      "model_module_version": "^0.5.10",
      "model_name": "LinearScaleModel",
      "state": {
       "_model_module_version": "^0.5.10",
       "_view_module_version": "^0.5.10",
       "allow_padding": false,
       "max": 1,
       "min": 0,
       "stabilized": false
      }
     },
     "e1807f79d9764ff1bf2b8329afe2fce0": {
      "buffers": [
       {
        "data": "sgrv7wri9r+O9IqJ6UjAP9TclL0sQALADiBFrdKQ2r8VM1oa07TfP2nOCEqJHfY/SxKGPEQK378IOcI+IaXYP1ltAogr3da/MhE4lskL+j8=",
        "encoding": "base64",
        "path": [
         "color",
         "value"
        ]
       },
       {
        "data": "AFACcaVR7z+6pYL/fl7lP7tT4qpYSdw/PDko+hD17j8YiBn2lczhP1b+ho9yp+0/lKmn3sE/5T+ny1asi4bnPxwX4yZcUeQ/j3k1STfl4D8=",
        "encoding": "base64",
        "path": [
         "sizes",
         "value"
        ]
       }
      ],
      "model_module": "bqplot",
      "model_module_version": "^0.5.3",
      "model_name": "PieModel",
      "state": {
       "_model_module_version": "^0.5.3",
       "_view_module_version": "^0.5.3",
       "color": {
        "dtype": "float64",
        "shape": [
         10
        ],
        "type": null,
        "value": {}
       },
       "interactions": {
        "click": "select",
        "hover": "tooltip"
       },
       "scales": {
        "color": "IPY_MODEL_55cef3d213844cca931bde90ff79eca7"
       },
       "selected_style": {
        "opacity": "1",
        "stroke": "white",
        "stroke-width": "2"
       },
       "sizes": {
        "dtype": "float64",
        "shape": [
         10
        ],
        "type": null,
        "value": {}
       },
       "tooltip": "IPY_MODEL_38226ae9e74a44439bf1c1a90fb51123",
       "unselected_style": {
        "opacity": "0.2"
       }
      }
     },
     "e18d5411d29149fc80e425daf6babaa3": {
      "model_module": "@jupyter-widgets/base",
      "model_module_version": "1.2.0",
      "model_name": "LayoutModel",
      "state": {}
     },
     "e1acb65086ef450d8283e585c851f029": {
      "buffers": [
       {
        "data": "AAAAAAAA8D8=",
        "encoding": "base64",
        "path": [
         "default_opacities",
         "value"
        ]
       },
       {
        "data": "ZAAAAGUAAABmAAAAZwAAAGgAAABpAAAAagAAAGsAAABsAAAAbQAAAG4AAABvAAAAcAAAAHEAAAByAAAAcwAAAHQAAAB1AAAAdgAAAHcAAAB4AAAAeQAAAHoAAAB7AAAAfAAAAH0AAAB+AAAAfwAAAIAAAACBAAAAggAAAIMAAACEAAAAhQAAAIYAAACHAAAAiAAAAIkAAACKAAAAiwAAAIwAAACNAAAAjgAAAI8AAACQAAAAkQAAAJIAAACTAAAAlAAAAJUAAACWAAAAlwAAAJgAAACZAAAAmgAAAJsAAACcAAAAnQAAAJ4AAACfAAAAoAAAAKEAAACiAAAAowAAAKQAAAClAAAApgAAAKcAAACoAAAAqQAAAKoAAACrAAAArAAAAK0AAACuAAAArwAAALAAAACxAAAAsgAAALMAAAC0AAAAtQAAALYAAAC3AAAAuAAAALkAAAC6AAAAuwAAALwAAAC9AAAAvgAAAL8AAADAAAAAwQAAAMIAAADDAAAAxAAAAMUAAADGAAAAxwAAAA==",
        "encoding": "base64",
        "path": [
         "names",
         "value"
        ]
       },
       {
        "data": "AAAAAAEAAAACAAAAAwAAAAQAAAAFAAAABgAAAAcAAAAIAAAACQAAAAoAAAALAAAADAAAAA0AAAAOAAAADwAAABAAAAARAAAAEgAAABMAAAA=",
        "encoding": "base64",
        "path": [
         "x",
         "value"
        ]
       },
       {
        "data": "q5swQC5Y47/b55FxHIjkv5zpKjZxELq/mPN6Pz774r8XSM5gtNPSPxrw+CAewfA/4ARMh6WU/T8LaFO7a6P4P/F/W4OR2OE/PS8RBYkR7z8csMlNUGW7v3kZF9tH/QZA/Tfnkea01L9PIqXh9wXGP07j4pRfW7i/3zkl5JcLk7+z1Jxsg1HkPz/aLWlbCto/3PJrNAE19D9mqxm6x5zmvw==",
        "encoding": "base64",
        "path": [
         "y",
         "value"
        ]
       }
      ],
      "model_module": "bqplot",
      "model_module_version": "^0.5.3",
      "model_name": "ScatterModel",
      "state": {
       "_model_module_version": "^0.5.3",
       "_view_module_version": "^0.5.3",
       "colors": [
        "dodgerblue"
       ],
       "default_opacities": {
        "dtype": "float64",
        "shape": [
         1
        ],
        "type": null,
        "value": {}
       },
       "display_legend": true,
       "display_names": false,
       "interactions": {
        "click": "tooltip"
       },
       "labels": [
        "Blue"
       ],
       "names": {
        "dtype": "int32",
        "shape": [
         100
        ],
        "type": null,
        "value": {}
       },
       "names_unique": false,
       "scales": {
        "x": "IPY_MODEL_a0cc8106cbe749bb996b35f6990c9c95",
        "y": "IPY_MODEL_f28373637c2e42a6833298c528c139b6"
       },
       "scales_metadata": {
        "color": {
         "dimension": "color"
        },
        "opacity": {
         "dimension": "opacity"
        },
        "rotation": {
         "dimension": "rotation"
        },
        "size": {
         "dimension": "size"
        },
        "skew": {
         "dimension": "skew"
        },
        "x": {
         "dimension": "x",
         "orientation": "horizontal"
        },
        "y": {
         "dimension": "y",
         "orientation": "vertical"
        }
       },
       "tooltip": "IPY_MODEL_7bf2fca17a60484c874f4c3ab8c81002",
       "x": {
        "dtype": "int32",
        "shape": [
         20
        ],
        "type": null,
        "value": {}
       },
       "y": {
        "dtype": "float64",
        "shape": [
         20
        ],
        "type": null,
        "value": {}
       }
      }
     },
     "e1f849352fc04b44b3ae2d648cf1fd46": {
      "model_module": "@jupyter-widgets/base",
      "model_module_version": "1.2.0",
      "model_name": "LayoutModel",
      "state": {}
     },
     "e3e248b5ee4e45d98d1d847b9de0c405": {
      "model_module": "bqplot",
      "model_module_version": "^0.5.10",
      "model_name": "OrdinalScaleModel",
      "state": {
       "_model_module_version": "^0.5.10",
       "_view_module_version": "^0.5.10"
      }
     },
     "e515aeaabfa44a58bba22c352779c079": {
      "model_module": "@jupyter-widgets/base",
      "model_module_version": "1.2.0",
      "model_name": "LayoutModel",
      "state": {}
     },
     "e823a0fd7daa478a9bbb48ea2d66597b": {
      "model_module": "bqplot",
      "model_module_version": "^0.5.10",
      "model_name": "LinearScaleModel",
      "state": {
       "_model_module_version": "^0.5.10",
       "_view_module_version": "^0.5.10",
       "stabilized": false
      }
     },
     "e9f5d117365d48b7808583485610df19": {
      "model_module": "bqplot",
      "model_module_version": "^0.5.10",
      "model_name": "LinearScaleModel",
      "state": {
       "_model_module_version": "^0.5.10",
       "_view_module_version": "^0.5.10",
       "stabilized": false
      }
     },
     "ed4c052cedcc4219b0a6ad8eda8de0c0": {
      "model_module": "bqplot",
      "model_module_version": "^0.5.10",
      "model_name": "LinearScaleModel",
      "state": {
       "_model_module_version": "^0.5.10",
       "_view_module_version": "^0.5.10",
       "stabilized": false
      }
     },
     "ed9af61bd8484bf4a5eae1d691270d70": {
      "model_module": "bqplot",
      "model_module_version": "^0.5.3",
      "model_name": "LinearScaleModel",
      "state": {
       "_model_module_version": "^0.5.3",
       "_view_module_version": "^0.5.3",
       "stabilized": false
      }
     },
     "edf71fb352044a91bfe4ce055e24afeb": {
      "model_module": "@jupyter-widgets/base",
      "model_module_version": "1.2.0",
      "model_name": "LayoutModel",
      "state": {}
     },
     "f065bab584cd4355bbef1b42019f39c1": {
      "model_module": "bqplot",
      "model_module_version": "^0.5.10",
      "model_name": "AxisModel",
      "state": {
       "_model_module_version": "^0.5.10",
       "_view_module_version": "^0.5.10",
       "orientation": "vertical",
       "scale": "IPY_MODEL_6f2ebd5039c24c25824a5043202b1a0f",
       "side": "left",
       "tick_format": "0.2f",
       "tick_values": null
      }
     },
     "f067f6f03acd47cea381a65782e5957d": {
      "model_module": "bqplot",
      "model_module_version": "^0.5.3",
      "model_name": "TooltipModel",
      "state": {
       "_model_module_version": "^0.5.3",
       "_view_module_version": "^0.5.3",
       "fields": [
        "name",
        "index"
       ],
       "formats": [
        "",
        ".2f"
       ],
       "labels": [
        "id",
        "line_num"
       ],
       "layout": "IPY_MODEL_f9b452c21e0849b5be7e488bb59eb87c"
      }
     },
     "f06cb36ee5284c9a88d7bf1acf4c110e": {
      "model_module": "bqplot",
      "model_module_version": "^0.5.10",
      "model_name": "LinearScaleModel",
      "state": {
       "_model_module_version": "^0.5.10",
       "_view_module_version": "^0.5.10",
       "allow_padding": false,
       "max": 1,
       "min": 0,
       "stabilized": false
      }
     },
     "f12248fcfee145729744768211bb7280": {
      "model_module": "bqplot",
      "model_module_version": "^0.5.10",
      "model_name": "AxisModel",
      "state": {
       "_model_module_version": "^0.5.10",
       "_view_module_version": "^0.5.10",
       "orientation": "vertical",
       "scale": "IPY_MODEL_4c461af3a9c548408fd8c28eb9adaae3",
       "side": "left",
       "tick_format": "0.2f",
       "tick_values": null
      }
     },
     "f28373637c2e42a6833298c528c139b6": {
      "model_module": "bqplot",
      "model_module_version": "^0.5.3",
      "model_name": "LinearScaleModel",
      "state": {
       "_model_module_version": "^0.5.3",
       "_view_module_version": "^0.5.3",
       "stabilized": false
      }
     },
     "f286b72b2f2540269f1012ad7334c8e7": {
      "model_module": "bqplot",
      "model_module_version": "^0.5.3",
      "model_name": "LinearScaleModel",
      "state": {
       "_model_module_version": "^0.5.3",
       "_view_module_version": "^0.5.3",
       "allow_padding": false,
       "max": 1,
       "min": 0,
       "stabilized": false
      }
     },
     "f43242bc5af141bf9ff7bc9876d7d668": {
      "model_module": "bqplot",
      "model_module_version": "^0.5.10",
      "model_name": "LinearScaleModel",
      "state": {
       "_model_module_version": "^0.5.10",
       "_view_module_version": "^0.5.10",
       "allow_padding": false,
       "max": 1,
       "min": 0,
       "stabilized": false
      }
     },
     "f4737a806a7d479a9caf53cad8f815a0": {
      "model_module": "bqplot",
      "model_module_version": "^0.5.10",
      "model_name": "LinearScaleModel",
      "state": {
       "_model_module_version": "^0.5.10",
       "_view_module_version": "^0.5.10",
       "stabilized": false
      }
     },
     "f9b452c21e0849b5be7e488bb59eb87c": {
      "model_module": "@jupyter-widgets/base",
      "model_module_version": "1.2.0",
      "model_name": "LayoutModel",
      "state": {}
     },
     "fefc961d5e3e472ca5e01d83ba08398e": {
      "model_module": "bqplot",
      "model_module_version": "^0.5.10",
      "model_name": "FigureModel",
      "state": {
       "_model_module_version": "^0.5.10",
       "_view_module_version": "^0.5.10",
       "axes": [
        "IPY_MODEL_a46417a0fc94481c894cad4b6f27383e",
        "IPY_MODEL_a13c765b572143969e5961fa376de466"
       ],
       "layout": "IPY_MODEL_2687b0e96cb74154a78e9413912c5f6b",
       "marks": [
        "IPY_MODEL_786d30f970f54c53aa8fdcf9d990f7e2"
       ],
       "scale_x": "IPY_MODEL_432331ebc00b4f2f87e6338bd5369af3",
       "scale_y": "IPY_MODEL_f06cb36ee5284c9a88d7bf1acf4c110e"
      }
     }
    },
    "version_major": 2,
    "version_minor": 0
   }
  }
 },
 "nbformat": 4,
 "nbformat_minor": 4
}
