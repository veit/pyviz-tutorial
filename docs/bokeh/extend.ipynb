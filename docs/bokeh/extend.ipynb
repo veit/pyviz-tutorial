{
 "cells": [
  {
   "cell_type": "markdown",
   "metadata": {},
   "source": [
    "# Extend Bokeh\n",
    "\n",
    "Bokeh has a variety of built-in types that can be used to create interactive visualisations and data applications in the browser. However, there are specific functions that have not been included in the core library, but Bokeh can be extended\n",
    "\n",
    "- to change the behaviour of existing Bokeh models\n",
    "- to add new models that connect third-party JavaScript libraries to Python\n",
    "- to create specialised models for specific domains\n",
    "\n",
    "Such custom extensions can be created and used with standard releases. It is not necessary to set up a development environment or create anything from the sources."
   ]
  },
  {
   "cell_type": "markdown",
   "metadata": {},
   "source": [
    "## Structure of bokeh models"
   ]
  },
  {
   "cell_type": "markdown",
   "metadata": {},
   "source": [
    "### Python models"
   ]
  },
  {
   "cell_type": "markdown",
   "metadata": {},
   "source": [
    "### JavaScript models and views\n",
    "\n",
    "While the Python side is mostly declarative, without much or any real code, the JavaScript side requires code to implement the model. Code may also need to be provided for a corresponding view.\n",
    "\n",
    "Below you will find a commented TypeScript implementation for `Custom` and `CustomView`. For integrated models, this code is included directly in the final BokehJS scripts. The next section will show you how to link this code to custom extensions.\n",
    "\n",
    "<div class=\"alert alert-info\">\n",
    "\n",
    "**Note:**\n",
    "\n",
    "BokehJS was originally written in [CoffeeScript](http://coffeescript.org/), but is being ported to [TypeScript](https://www.typescriptlang.org/). Accordingly, the instructions here are in TypeScript. However, custom extensions can also be written in CoffeeScript or in pure JavaScript.\n",
    "</div>\n",
    "\n",
    "```javascript\n",
    "import {UIElement, UIElementView} from \"models/ui/ui_element\"\n",
    "\n",
    "import {div} from \"core/dom\"\n",
    "import * as p from \"core/properties\"\n",
    "\n",
    "export class CustomView extends UIElementView {\n",
    "\n",
    "  override connect_signals(): void {\n",
    "    super.connect_signals()\n",
    "\n",
    "    // Set BokehJS listener so that the program can process new data when\n",
    "    // the slider has a change event.\n",
    "    this.connect(this.model.slider.change, () => {\n",
    "      this.render()\n",
    "    })\n",
    "  }\n",
    "\n",
    "  override render(): void {\n",
    "    // BokehJS views create <div> elements by default. These are accessible\n",
    "    // as ``this.el``. Many Bokeh views ignore the default <div> and\n",
    "    // instead do things like draw to the HTML canvas. In this case though,\n",
    "    // the program changes the contents of the <div> based on the current\n",
    "    // slider value.\n",
    "    super.render()\n",
    "\n",
    "    this.shadow_el.appendChild(div({\n",
    "      style: {\n",
    "        padding: '2px',\n",
    "        color: '#b88d8e',\n",
    "        backgroundColor: '#2a3153',\n",
    "      },\n",
    "    }, `${this.model.text}: ${this.model.slider.value}`))\n",
    "  }\n",
    "}\n",
    "\n",
    "export class Custom extends UIElement {\n",
    "  slider: {value: string}\n",
    "\n",
    "  // Generally, the ``__name__`` class attribute should match the name of\n",
    "  // the corresponding Python class exactly. TypeScript matches the name\n",
    "  // automatically during compilation, so, barring some special cases, you\n",
    "  // don't have to do this manually. This helps avoid typos, which stop\n",
    "  // serialization/deserialization of the model.\n",
    "  static __name__ = \"Surface3d\"\n",
    "\n",
    "  static {\n",
    "    // If there is an associated view, this is typically boilerplate.\n",
    "    this.prototype.default_view = CustomView\n",
    "\n",
    "    // The this.define() block adds corresponding \"properties\" to the JS\n",
    "    // model. These should normally line up 1-1 with the Python model\n",
    "    // class. Most property types have counterparts. For example,\n",
    "    // bokeh.core.properties.String will correspond to ``String`` in the\n",
    "    // JS implementation. Where JS lacks a given type, you can use\n",
    "    // ``p.Any`` as a \"wildcard\" property type.\n",
    "    this.define<Custom.Props>(({String, Ref}) => ({\n",
    "      text:   [ String ],\n",
    "      slider: [ Ref(Slider) ],\n",
    "    }))\n",
    "  }\n",
    "}\n",
    "```"
   ]
  },
  {
   "cell_type": "markdown",
   "metadata": {},
   "source": [
    "### Merging\n",
    "\n",
    "For integrated Bokeh models, the implementation in BokehJS is automatically synchronised with the corresponding Python model by the build process. To connect JavaScript implementations with Python models, an additional step is required. The Python class should have a class attribute `__implementation__` whose name is the TypeScript code (or JavaScript or CoffeeScript code) that defines the client-side model and optional views.\n",
    "\n",
    "Assuming the above TypeScript code was saved in a `custom.ts` file, the complete Python class could look like this:"
   ]
  },
  {
   "cell_type": "code",
   "execution_count": 1,
   "metadata": {},
   "outputs": [],
   "source": [
    "from bokeh.core.properties import Instance, String\n",
    "from bokeh.models import LayoutDOM, Slider\n",
    "\n",
    "\n",
    "class Custom(LayoutDOM):\n",
    "    __implementation__ = \"custom.ts\"\n",
    "\n",
    "    text = String(default=\"Custom text\")\n",
    "\n",
    "    slider = Instance(Slider)"
   ]
  },
  {
   "cell_type": "markdown",
   "metadata": {},
   "source": [
    "If this class is then defined in a Python module `custom.py`, the custom extension can now be used just like any built-in bokeh model:"
   ]
  },
  {
   "cell_type": "code",
   "execution_count": 2,
   "metadata": {},
   "outputs": [],
   "source": [
    "from bokeh.io import output_file, show\n",
    "from bokeh.layouts import column\n",
    "from bokeh.models import Slider\n",
    "\n",
    "\n",
    "slider = Slider(start=0, end=10, step=0.1, value=0, title=\"value\")\n",
    "\n",
    "custom = Custom(text=\"Special Slider Display\", slider=slider)\n",
    "\n",
    "layout = column(slider, custom)\n",
    "\n",
    "show(layout)"
   ]
  },
  {
   "cell_type": "markdown",
   "metadata": {},
   "source": [
    "## Integration in Bokeh Server\n",
    "\n",
    "No special work or modifications are required to integrate custom extensions into the Bokeh server. As with standalone documents, the JavaScript implementation is automatically included in the rendered application. In addition, the standard synchronisation of the Bokeh model properties, which applies to all integrated models, is also transparent for user-defined extensions."
   ]
  },
  {
   "cell_type": "markdown",
   "metadata": {},
   "source": [
    "## Examples\n",
    "\n",
    "The Bokeh documentation provides some complete examples to serve as a reference. In many cases it is necessary to study the source code of the base classes in [bokehjs/src/lib/models](https://github.com/bokeh/bokeh/tree/1.0.4/bokehjs/src/lib/models).\n",
    "\n",
    "* [Specialized Axis Ticking](https://docs.bokeh.org/en/latest/docs/examples/advanced/extensions/ticking.html)\n",
    "* [A New Custom Tool](https://docs.bokeh.org/en/latest/docs/examples/advanced/extensions/tool.html)\n",
    "* [Wrapping A JavaScript Library](https://docs.bokeh.org/en/latest/docs/examples/advanced/extensions/wrapping.html)\n",
    "* [Creating Latex Labels](https://docs.bokeh.org/en/latest/docs/examples/models/latex_labels.html)\n",
    "* [Adding A Custom Widget](https://docs.bokeh.org/en/latest/docs/examples/advanced/extensions/widget.html)"
   ]
  }
 ],
 "metadata": {
  "kernelspec": {
   "display_name": "Python 3.11 Kernel",
   "language": "python",
   "name": "python311"
  },
  "language_info": {
   "codemirror_mode": {
    "name": "ipython",
    "version": 3
   },
   "file_extension": ".py",
   "mimetype": "text/x-python",
   "name": "python",
   "nbconvert_exporter": "python",
   "pygments_lexer": "ipython3",
   "version": "3.11.4"
  },
  "latex_envs": {
   "LaTeX_envs_menu_present": true,
   "autoclose": false,
   "autocomplete": true,
   "bibliofile": "biblio.bib",
   "cite_by": "apalike",
   "current_citInitial": 1,
   "eqLabelWithNumbers": true,
   "eqNumInitial": 1,
   "hotkeys": {
    "equation": "Ctrl-E",
    "itemize": "Ctrl-I"
   },
   "labels_anchors": false,
   "latex_user_defs": false,
   "report_style_numbering": false,
   "user_envs_cfg": false
  },
  "widgets": {
   "application/vnd.jupyter.widget-state+json": {
    "state": {},
    "version_major": 2,
    "version_minor": 0
   }
  }
 },
 "nbformat": 4,
 "nbformat_minor": 4
}
