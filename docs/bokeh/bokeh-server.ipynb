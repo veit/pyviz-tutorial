{
 "cells": [
  {
   "cell_type": "markdown",
   "metadata": {},
   "source": [
    "# Bokeh-Server\n",
    "\n",
    "The architecture of Bokeh is such that higher-level model objects (that is, representations such as plots, areas, axes, glyphs, etc.) are created in Python and then converted into a JSON format that is used by the `BokehJS` client library. With the help of the Bokeh server, the model objects in Python and in the browser can be synchronised with each other, creating powerful functions:\n",
    "\n",
    "* Browser events lead to server-side Python calculations or queries\n",
    "* Automatic push update of the browser UI (for example, widgets or plots)\n",
    "* Periodic, timeout and asynchronous callbacks for streaming updates\n",
    "\n",
    "This function for synchronisation between server-side Python and the browser is the main purpose of the Bokeh server.\n",
    "\n",
    "It is also possible to define Bokeh applications by creating a standard Python script. In this case, it is not necessary to create a function like `modify_doc`. Normally, the script simply creates all bokeh quotas and adds it to the document with one line:\n",
    "\n",
    "``` Python\n",
    "curdoc().add_root(layout)\n",
    "```\n",
    "\n",
    "To try out the example below, copy the code into a file `hello.py` and then execute the following:\n",
    "\n",
    "``` bash\n",
    "$ pipenv run python -m bokeh serve --show hello.py\n",
    "```"
   ]
  },
  {
   "cell_type": "code",
   "execution_count": 1,
   "metadata": {},
   "outputs": [],
   "source": [
    "from bokeh.io import curdoc\n",
    "from bokeh.layouts import column\n",
    "from bokeh.models.widgets import Button, Paragraph, TextInput\n",
    "\n",
    "\n",
    "# create some widgets\n",
    "button = Button(label=\"Say Hi\")\n",
    "input = TextInput(value=\"Pythonistas\")\n",
    "output = Paragraph()\n",
    "\n",
    "\n",
    "# add a callback to a widget\n",
    "def update():\n",
    "    output.text = \"Hello, \" + input.value + \"!\"\n",
    "\n",
    "\n",
    "button.on_click(update)\n",
    "\n",
    "# create a layout for everything\n",
    "layout = column(button, input, output)\n",
    "\n",
    "# add the layout to curdoc\n",
    "curdoc().add_root(layout)"
   ]
  }
 ],
 "metadata": {
  "kernelspec": {
   "display_name": "Python 3.11 Kernel",
   "language": "python",
   "name": "python311"
  },
  "language_info": {
   "codemirror_mode": {
    "name": "ipython",
    "version": 3
   },
   "file_extension": ".py",
   "mimetype": "text/x-python",
   "name": "python",
   "nbconvert_exporter": "python",
   "pygments_lexer": "ipython3",
   "version": "3.11.4"
  },
  "latex_envs": {
   "LaTeX_envs_menu_present": true,
   "autoclose": false,
   "autocomplete": true,
   "bibliofile": "biblio.bib",
   "cite_by": "apalike",
   "current_citInitial": 1,
   "eqLabelWithNumbers": true,
   "eqNumInitial": 1,
   "hotkeys": {
    "equation": "Ctrl-E",
    "itemize": "Ctrl-I"
   },
   "labels_anchors": false,
   "latex_user_defs": false,
   "report_style_numbering": false,
   "user_envs_cfg": false
  },
  "widgets": {
   "application/vnd.jupyter.widget-state+json": {
    "state": {},
    "version_major": 2,
    "version_minor": 0
   }
  }
 },
 "nbformat": 4,
 "nbformat_minor": 4
}
